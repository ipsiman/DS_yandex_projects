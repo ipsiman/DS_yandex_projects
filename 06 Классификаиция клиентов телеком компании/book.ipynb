{
 "cells": [
  {
   "cell_type": "markdown",
   "metadata": {},
   "source": [
    "# Рекомендация тарифов"
   ]
  },
  {
   "cell_type": "markdown",
   "metadata": {},
   "source": [
    "В вашем распоряжении данные о поведении клиентов, которые уже перешли на эти тарифы (из проекта курса «Статистический анализ данных»). Нужно построить модель для задачи классификации, которая выберет подходящий тариф. Предобработка данных не понадобится — вы её уже сделали.\n",
    "\n",
    "Постройте модель с максимально большим значением *accuracy*. Чтобы сдать проект успешно, нужно довести долю правильных ответов по крайней мере до 0.75. Проверьте *accuracy* на тестовой выборке самостоятельно."
   ]
  },
  {
   "cell_type": "markdown",
   "metadata": {},
   "source": [
    "## Откройте и изучите файл"
   ]
  },
  {
   "cell_type": "code",
   "execution_count": 1,
   "metadata": {},
   "outputs": [],
   "source": [
    "import pandas as pd\n",
    "import numpy as np\n",
    "import matplotlib.pyplot as plt\n",
    "import seaborn as sns\n",
    "\n",
    "from sklearn.tree import DecisionTreeClassifier\n",
    "from sklearn.ensemble import RandomForestClassifier\n",
    "from sklearn.linear_model import LogisticRegression\n",
    "from sklearn.dummy import DummyClassifier\n",
    "\n",
    "from sklearn.model_selection import train_test_split\n",
    "from sklearn.model_selection import GridSearchCV\n",
    "from sklearn.metrics import accuracy_score\n",
    "from sklearn import tree\n",
    "from tqdm.notebook import trange"
   ]
  },
  {
   "cell_type": "code",
   "execution_count": 2,
   "metadata": {},
   "outputs": [],
   "source": [
    "df = pd.read_csv('/datasets/users_behavior.csv')"
   ]
  },
  {
   "cell_type": "code",
   "execution_count": 3,
   "metadata": {},
   "outputs": [
    {
     "name": "stdout",
     "output_type": "stream",
     "text": [
      "<class 'pandas.core.frame.DataFrame'>\n",
      "RangeIndex: 3214 entries, 0 to 3213\n",
      "Data columns (total 5 columns):\n",
      " #   Column    Non-Null Count  Dtype  \n",
      "---  ------    --------------  -----  \n",
      " 0   calls     3214 non-null   float64\n",
      " 1   minutes   3214 non-null   float64\n",
      " 2   messages  3214 non-null   float64\n",
      " 3   mb_used   3214 non-null   float64\n",
      " 4   is_ultra  3214 non-null   int64  \n",
      "dtypes: float64(4), int64(1)\n",
      "memory usage: 125.7 KB\n"
     ]
    }
   ],
   "source": [
    "df.info()"
   ]
  },
  {
   "cell_type": "code",
   "execution_count": 4,
   "metadata": {},
   "outputs": [
    {
     "data": {
      "text/html": [
       "<div>\n",
       "<style scoped>\n",
       "    .dataframe tbody tr th:only-of-type {\n",
       "        vertical-align: middle;\n",
       "    }\n",
       "\n",
       "    .dataframe tbody tr th {\n",
       "        vertical-align: top;\n",
       "    }\n",
       "\n",
       "    .dataframe thead th {\n",
       "        text-align: right;\n",
       "    }\n",
       "</style>\n",
       "<table border=\"1\" class=\"dataframe\">\n",
       "  <thead>\n",
       "    <tr style=\"text-align: right;\">\n",
       "      <th></th>\n",
       "      <th>calls</th>\n",
       "      <th>minutes</th>\n",
       "      <th>messages</th>\n",
       "      <th>mb_used</th>\n",
       "      <th>is_ultra</th>\n",
       "    </tr>\n",
       "  </thead>\n",
       "  <tbody>\n",
       "    <tr>\n",
       "      <th>0</th>\n",
       "      <td>40.0</td>\n",
       "      <td>311.90</td>\n",
       "      <td>83.0</td>\n",
       "      <td>19915.42</td>\n",
       "      <td>0</td>\n",
       "    </tr>\n",
       "    <tr>\n",
       "      <th>1</th>\n",
       "      <td>85.0</td>\n",
       "      <td>516.75</td>\n",
       "      <td>56.0</td>\n",
       "      <td>22696.96</td>\n",
       "      <td>0</td>\n",
       "    </tr>\n",
       "    <tr>\n",
       "      <th>2</th>\n",
       "      <td>77.0</td>\n",
       "      <td>467.66</td>\n",
       "      <td>86.0</td>\n",
       "      <td>21060.45</td>\n",
       "      <td>0</td>\n",
       "    </tr>\n",
       "    <tr>\n",
       "      <th>3</th>\n",
       "      <td>106.0</td>\n",
       "      <td>745.53</td>\n",
       "      <td>81.0</td>\n",
       "      <td>8437.39</td>\n",
       "      <td>1</td>\n",
       "    </tr>\n",
       "    <tr>\n",
       "      <th>4</th>\n",
       "      <td>66.0</td>\n",
       "      <td>418.74</td>\n",
       "      <td>1.0</td>\n",
       "      <td>14502.75</td>\n",
       "      <td>0</td>\n",
       "    </tr>\n",
       "  </tbody>\n",
       "</table>\n",
       "</div>"
      ],
      "text/plain": [
       "   calls  minutes  messages   mb_used  is_ultra\n",
       "0   40.0   311.90      83.0  19915.42         0\n",
       "1   85.0   516.75      56.0  22696.96         0\n",
       "2   77.0   467.66      86.0  21060.45         0\n",
       "3  106.0   745.53      81.0   8437.39         1\n",
       "4   66.0   418.74       1.0  14502.75         0"
      ]
     },
     "execution_count": 4,
     "metadata": {},
     "output_type": "execute_result"
    }
   ],
   "source": [
    "df.head()"
   ]
  },
  {
   "cell_type": "markdown",
   "metadata": {},
   "source": [
    "Проверим данные на дубликаты."
   ]
  },
  {
   "cell_type": "code",
   "execution_count": 5,
   "metadata": {
    "scrolled": true
   },
   "outputs": [
    {
     "data": {
      "text/plain": [
       "0"
      ]
     },
     "execution_count": 5,
     "metadata": {},
     "output_type": "execute_result"
    }
   ],
   "source": [
    "df.duplicated().sum()"
   ]
  },
  {
   "cell_type": "markdown",
   "metadata": {},
   "source": [
    "Проверим сбалансированность классов в таргете."
   ]
  },
  {
   "cell_type": "code",
   "execution_count": 6,
   "metadata": {},
   "outputs": [
    {
     "data": {
      "text/plain": [
       "0    2229\n",
       "1     985\n",
       "Name: is_ultra, dtype: int64"
      ]
     },
     "execution_count": 6,
     "metadata": {},
     "output_type": "execute_result"
    }
   ],
   "source": [
    "df['is_ultra'].value_counts()"
   ]
  },
  {
   "cell_type": "markdown",
   "metadata": {},
   "source": [
    "Дубликаты и пропуски в данных отсутствуют. Сбаланмированность классов в таргете 70/30."
   ]
  },
  {
   "cell_type": "markdown",
   "metadata": {},
   "source": [
    "## Разбейте данные на выборки"
   ]
  },
  {
   "cell_type": "markdown",
   "metadata": {},
   "source": [
    "Разделим данные на признаки - общие и целевые."
   ]
  },
  {
   "cell_type": "code",
   "execution_count": 7,
   "metadata": {},
   "outputs": [],
   "source": [
    "features, target = df.drop('is_ultra', axis=1), df['is_ultra']"
   ]
  },
  {
   "cell_type": "markdown",
   "metadata": {},
   "source": [
    "Теперь выделим 3 выборки - обучающую, валидационную и тестовую в соотношении 3:1:1"
   ]
  },
  {
   "cell_type": "code",
   "execution_count": 8,
   "metadata": {},
   "outputs": [],
   "source": [
    "features_train, features_test, target_train, target_test = (\n",
    "    train_test_split(features, target,\n",
    "                     test_size=0.4,\n",
    "                     random_state=333,\n",
    "                     stratify=target)\n",
    ")"
   ]
  },
  {
   "cell_type": "code",
   "execution_count": 9,
   "metadata": {},
   "outputs": [],
   "source": [
    "features_valid, features_test, target_valid, target_test = (\n",
    "    train_test_split(features_test, target_test,\n",
    "                     test_size=0.5,\n",
    "                     random_state=333,\n",
    "                     stratify=target_test)\n",
    ")"
   ]
  },
  {
   "cell_type": "code",
   "execution_count": 10,
   "metadata": {},
   "outputs": [
    {
     "data": {
      "text/html": [
       "<div>\n",
       "<style scoped>\n",
       "    .dataframe tbody tr th:only-of-type {\n",
       "        vertical-align: middle;\n",
       "    }\n",
       "\n",
       "    .dataframe tbody tr th {\n",
       "        vertical-align: top;\n",
       "    }\n",
       "\n",
       "    .dataframe thead th {\n",
       "        text-align: right;\n",
       "    }\n",
       "</style>\n",
       "<table border=\"1\" class=\"dataframe\">\n",
       "  <thead>\n",
       "    <tr style=\"text-align: right;\">\n",
       "      <th></th>\n",
       "      <th>data_all</th>\n",
       "      <th>data_train</th>\n",
       "      <th>data_valid</th>\n",
       "      <th>data_test</th>\n",
       "    </tr>\n",
       "  </thead>\n",
       "  <tbody>\n",
       "    <tr>\n",
       "      <th>0</th>\n",
       "      <td>3214</td>\n",
       "      <td>1928</td>\n",
       "      <td>643</td>\n",
       "      <td>643</td>\n",
       "    </tr>\n",
       "  </tbody>\n",
       "</table>\n",
       "</div>"
      ],
      "text/plain": [
       "   data_all  data_train  data_valid  data_test\n",
       "0      3214        1928         643        643"
      ]
     },
     "execution_count": 10,
     "metadata": {},
     "output_type": "execute_result"
    }
   ],
   "source": [
    "pd.DataFrame({\n",
    "    'data_all': [features.shape[0]],\n",
    "    'data_train': [features_train.shape[0]],\n",
    "    'data_valid': [features_valid.shape[0]],\n",
    "    'data_test': [features_test.shape[0]]\n",
    "})"
   ]
  },
  {
   "cell_type": "markdown",
   "metadata": {},
   "source": [
    "Получили нужное разделение."
   ]
  },
  {
   "cell_type": "markdown",
   "metadata": {},
   "source": [
    "## Исследуйте модели"
   ]
  },
  {
   "cell_type": "markdown",
   "metadata": {},
   "source": [
    "Рассмотрим и протестируем модель \"решающего дерева\". Переберем в алгоритме обучения разные варианты глубины дерева и минимальное количество семплов для разделения node - min_samples_split."
   ]
  },
  {
   "cell_type": "code",
   "execution_count": 11,
   "metadata": {
    "scrolled": true
   },
   "outputs": [
    {
     "data": {
      "application/vnd.jupyter.widget-view+json": {
       "model_id": "e2b23ff815274c31a5677ce479fe4481",
       "version_major": 2,
       "version_minor": 0
      },
      "text/plain": [
       "  0%|          | 0/10 [00:00<?, ?it/s]"
      ]
     },
     "metadata": {},
     "output_type": "display_data"
    },
    {
     "name": "stdout",
     "output_type": "stream",
     "text": [
      "\n",
      "best depth = 6, sample = 2, acc = 0.79\n",
      "CPU times: user 1.3 s, sys: 0 ns, total: 1.3 s\n",
      "Wall time: 2.68 s\n"
     ]
    }
   ],
   "source": [
    "%%time\n",
    "df_tree = pd.DataFrame()\n",
    "tree_model = None\n",
    "tree_result = 0\n",
    "tree_depth = 1\n",
    "tree_sample = 1\n",
    "for depth in trange(1, 11):\n",
    "    for sample in range(2, 11):\n",
    "        model = DecisionTreeClassifier(random_state=333, max_depth=depth, min_samples_split=sample)\n",
    "        model.fit(features_train, target_train)\n",
    "        train_result = round(model.score(features_train, target_train), 3)\n",
    "        valid_result = round(model.score(features_valid, target_valid), 3)\n",
    "        df_tree = df_tree.append({'depth': depth, 'sample': sample, 'acc': train_result, 'type': 'train'}, ignore_index=True)\n",
    "        df_tree = df_tree.append({'depth': depth, 'sample': sample, 'acc': valid_result, 'type': 'valid'}, ignore_index=True)\n",
    "        if valid_result > tree_result:\n",
    "            tree_model = model\n",
    "            tree_result = valid_result\n",
    "            tree_depth = depth\n",
    "            tree_sample = sample\n",
    "print(f'\\nbest depth = {tree_depth}, sample = {tree_sample}, acc = {tree_result}')"
   ]
  },
  {
   "cell_type": "code",
   "execution_count": 12,
   "metadata": {
    "scrolled": true
   },
   "outputs": [
    {
     "data": {
      "image/png": "[encoded data removed]",
      "text/plain": [
       "<Figure size 1080x360 with 1 Axes>"
      ]
     },
     "metadata": {
      "needs_background": "light"
     },
     "output_type": "display_data"
    }
   ],
   "source": [
    "plt.figure(figsize = (15,5))\n",
    "df_tree.query('type == \"train\"')['acc'].plot(label='train')\n",
    "df_tree.query('type == \"valid\"')['acc'].plot(label='valid')\n",
    "plt.title('Качество модели')\n",
    "plt.xlabel('Итерация')\n",
    "plt.ylabel('Качество')\n",
    "plt.legend()\n",
    "plt.show()"
   ]
  },
  {
   "cell_type": "markdown",
   "metadata": {},
   "source": [
    "Построим heatmaps в зависимости от значений гипермараметров."
   ]
  },
  {
   "cell_type": "code",
   "execution_count": 13,
   "metadata": {},
   "outputs": [],
   "source": [
    "tree_train = df_tree.query('type == \"train\"').drop('type', axis=1)\n",
    "tree_valid = df_tree.query('type == \"valid\"').drop('type', axis=1)"
   ]
  },
  {
   "cell_type": "code",
   "execution_count": 14,
   "metadata": {},
   "outputs": [
    {
     "data": {
      "image/png": "[encoded data removed]",
      "text/plain": [
       "<Figure size 576x432 with 2 Axes>"
      ]
     },
     "metadata": {
      "needs_background": "light"
     },
     "output_type": "display_data"
    }
   ],
   "source": [
    "plt.figure(figsize=(8, 6)) \n",
    "_ = sns.heatmap(tree_train.pivot('depth', 'sample', values='acc'), annot=True, square=True, cmap='coolwarm')"
   ]
  },
  {
   "cell_type": "code",
   "execution_count": 15,
   "metadata": {},
   "outputs": [
    {
     "data": {
      "image/png": "[encoded data removed]",
      "text/plain": [
       "<Figure size 576x432 with 2 Axes>"
      ]
     },
     "metadata": {
      "needs_background": "light"
     },
     "output_type": "display_data"
    }
   ],
   "source": [
    "plt.figure(figsize=(8, 6)) \n",
    "_ = sns.heatmap(tree_valid.pivot('depth', 'sample', values='acc'), annot=True, square=True, cmap='coolwarm')"
   ]
  },
  {
   "cell_type": "code",
   "execution_count": 16,
   "metadata": {},
   "outputs": [
    {
     "data": {
      "image/png": "[encoded data removed]",
      "text/plain": [
       "<Figure size 1584x720 with 1 Axes>"
      ]
     },
     "metadata": {
      "needs_background": "light"
     },
     "output_type": "display_data"
    }
   ],
   "source": [
    "clf = DecisionTreeClassifier(max_depth=3, random_state=333)\n",
    "clf.fit(features_train, target_train)\n",
    "plt.figure(figsize=(22,10))\n",
    "_ = tree.plot_tree(clf,\n",
    "                   feature_names=features.columns.values, \n",
    "                   class_names=['Smart','Ultra'],\n",
    "                   filled=True,\n",
    "                   fontsize = 16)"
   ]
  },
  {
   "cell_type": "markdown",
   "metadata": {},
   "source": [
    "Получили довольно не плохое качество, как видно с увеличением глубины и min_samples_split качество не растет, а потом даже начинает падать. Получаем переобучение."
   ]
  },
  {
   "cell_type": "markdown",
   "metadata": {},
   "source": [
    "Далее рассмотрим модель \"случайный лес\", предположительно у нее должно получиться более высокое качество. Переберем в алгоритме обучения разные варианты гиперпараметров."
   ]
  },
  {
   "cell_type": "code",
   "execution_count": 17,
   "metadata": {},
   "outputs": [],
   "source": [
    "big_train = pd.concat([features_train, features_valid])\n",
    "big_target = pd.concat([target_train, target_valid])"
   ]
  },
  {
   "cell_type": "code",
   "execution_count": 18,
   "metadata": {},
   "outputs": [
    {
     "data": {
      "text/plain": [
       "((2571, 4), (2571,))"
      ]
     },
     "execution_count": 18,
     "metadata": {},
     "output_type": "execute_result"
    }
   ],
   "source": [
    "big_train.shape, big_target.shape"
   ]
  },
  {
   "cell_type": "code",
   "execution_count": 19,
   "metadata": {},
   "outputs": [
    {
     "name": "stdout",
     "output_type": "stream",
     "text": [
      "CPU times: user 19min 41s, sys: 6.56 s, total: 19min 47s\n",
      "Wall time: 31min 58s\n"
     ]
    }
   ],
   "source": [
    "%%time\n",
    "clf = RandomForestClassifier()\n",
    "parametrs = {'n_estimators': range(80, 121, 10),\n",
    "             'max_depth': range(1,13, 2),\n",
    "             'min_samples_leaf': range(1,8),\n",
    "             'min_samples_split': range(2,10,2)}\n",
    "grid = GridSearchCV(clf, parametrs, cv=5)\n",
    "grid.fit(big_train, big_target)\n",
    "forest_model = grid.best_estimator_"
   ]
  },
  {
   "cell_type": "code",
   "execution_count": 20,
   "metadata": {},
   "outputs": [
    {
     "data": {
      "text/plain": [
       "{'max_depth': 11,\n",
       " 'min_samples_leaf': 1,\n",
       " 'min_samples_split': 6,\n",
       " 'n_estimators': 110}"
      ]
     },
     "execution_count": 20,
     "metadata": {},
     "output_type": "execute_result"
    }
   ],
   "source": [
    "grid.best_params_"
   ]
  },
  {
   "cell_type": "code",
   "execution_count": 21,
   "metadata": {},
   "outputs": [
    {
     "data": {
      "text/plain": [
       "0.8125231385289562"
      ]
     },
     "execution_count": 21,
     "metadata": {},
     "output_type": "execute_result"
    }
   ],
   "source": [
    "grid.best_score_"
   ]
  },
  {
   "cell_type": "markdown",
   "metadata": {},
   "source": [
    "Получили еще более лучший результат."
   ]
  },
  {
   "cell_type": "markdown",
   "metadata": {},
   "source": [
    "Протестируем третью модель - \"логистическая регрессия\". Менять в гиперпараметрах тут особо нечего..."
   ]
  },
  {
   "cell_type": "code",
   "execution_count": 22,
   "metadata": {},
   "outputs": [
    {
     "name": "stdout",
     "output_type": "stream",
     "text": [
      "acc = 0.706\n"
     ]
    }
   ],
   "source": [
    "log_model = LogisticRegression(random_state=333, solver='lbfgs', max_iter=1000)\n",
    "log_model.fit(features_train, target_train)\n",
    "result = round(log_model.score(features_valid, target_valid), 3)\n",
    "print(f'acc = {result}')"
   ]
  },
  {
   "cell_type": "markdown",
   "metadata": {},
   "source": [
    "Качество низкое, но зато скорость обучения самая быстрая."
   ]
  },
  {
   "cell_type": "markdown",
   "metadata": {},
   "source": [
    "### Краткий вывод"
   ]
  },
  {
   "cell_type": "markdown",
   "metadata": {},
   "source": [
    "Модель дерева дала неплохой результат - 0.79 и среднюю скорость обучения. Модель случайного леса, как и предполагалось дала еще выше качество - 0.816, но время обучения больше. Третья модель - логистическая регрессия имеет самую низкое время обучения, но и качество оказалось самым низким."
   ]
  },
  {
   "cell_type": "markdown",
   "metadata": {},
   "source": [
    "## Проверьте модель на тестовой выборке"
   ]
  },
  {
   "cell_type": "markdown",
   "metadata": {},
   "source": [
    "Проверим качество моделей на тестовой выборке."
   ]
  },
  {
   "cell_type": "markdown",
   "metadata": {},
   "source": [
    "Попробуем обучить модель на большей выборке - объединенные train и valid данные."
   ]
  },
  {
   "cell_type": "code",
   "execution_count": 23,
   "metadata": {
    "scrolled": true
   },
   "outputs": [
    {
     "name": "stdout",
     "output_type": "stream",
     "text": [
      "Качество на выборке train: 0.80248833592535\n",
      "Качество на выборке train + valid: 0.8149300155520995\n"
     ]
    }
   ],
   "source": [
    "forest_model.fit(features_train, target_train)\n",
    "print('Качество на выборке train:', forest_model.score(features_test, target_test))\n",
    "\n",
    "forest_model.fit(big_train, big_target)\n",
    "print('Качество на выборке train + valid:', forest_model.score(features_test, target_test))"
   ]
  },
  {
   "cell_type": "markdown",
   "metadata": {},
   "source": [
    "Качество модели на тестовой выборке вышло почти таким же, как на валидационной. Хороший показатель."
   ]
  },
  {
   "cell_type": "markdown",
   "metadata": {},
   "source": [
    "## (бонус) Проверьте модели на адекватность"
   ]
  },
  {
   "cell_type": "markdown",
   "metadata": {},
   "source": [
    "Чтобы проверить модели на адекватность сравним их с простейшей (dummy) моделью, которая всегда предсказывает наиболее часто встречающийся класс `(параметр - strategy=\"most_frequent\")`, так мы сможем оценить их адекватность."
   ]
  },
  {
   "cell_type": "code",
   "execution_count": 24,
   "metadata": {
    "scrolled": true
   },
   "outputs": [
    {
     "data": {
      "text/plain": [
       "0.694"
      ]
     },
     "execution_count": 24,
     "metadata": {},
     "output_type": "execute_result"
    }
   ],
   "source": [
    "dummy_clf = DummyClassifier(strategy=\"most_frequent\", random_state=333)\n",
    "dummy_clf.fit(features_train, target_train)\n",
    "round(dummy_clf.score(features_test, target_test), 3)"
   ]
  },
  {
   "cell_type": "markdown",
   "metadata": {},
   "source": [
    "У всех моделей качество на валидационной выборке выше простейшей модели, что указывает на адекватность наших моделей."
   ]
  },
  {
   "cell_type": "markdown",
   "metadata": {},
   "source": [
    "## Чек-лист готовности проекта"
   ]
  },
  {
   "cell_type": "markdown",
   "metadata": {},
   "source": [
    "Изучили и проверили данные. Дубликаты и пропуски в данных отсутствуют. Сбалансированность классов в таргете 70/30.<br>\n",
    "\n",
    "Разделили данные на признаки - общие и целевые. Выделили 3 выборки - обучающую, валидационную и тестовую в соотношении 3:1:1.<br>\n",
    "\n",
    "Рассмотрели и протестировали модели \"решающего дерева\" и \"случайный лес\" с перебором в алгоритме обучения разных гиперпараметров. Так же протестировали третью модель - \"логистическая регрессия\".<br>\n",
    "\n",
    "Модель дерева дала неплохой результат - 0.79 и среднюю скорость обучения. Модель случайного леса, как и предполагалось дала еще выше качество - 0.811, но время обучения больше. Третья модель - логистическая регрессия имеет самое быстрое время обучения, но и качество оказалось самым низким.<br>\n",
    "\n",
    "Для финального теста выбрали модель \"случайный лес\". Качество модели на тестовой выборке вышло чуть выше - 0.826. Хороший показатель.<br>\n",
    "\n",
    "Проверили модели на адекватность. У всех моделей качество на валидационной выборке выше простейшей модели, что указывает на адекватность наших моделей."
   ]
  }
 ],
 "metadata": {
  "ExecuteTimeLog": [
   {
    "duration": 49,
    "start_time": "2022-09-08T20:19:17.728Z"
   },
   {
    "duration": 447,
    "start_time": "2022-09-08T20:19:21.804Z"
   },
   {
    "duration": 66,
    "start_time": "2022-09-08T20:19:24.249Z"
   },
   {
    "duration": 13,
    "start_time": "2022-09-08T20:19:26.072Z"
   },
   {
    "duration": 17,
    "start_time": "2022-09-08T20:19:33.837Z"
   },
   {
    "duration": 668,
    "start_time": "2022-09-08T20:23:37.222Z"
   },
   {
    "duration": 3,
    "start_time": "2022-09-08T20:46:52.020Z"
   },
   {
    "duration": 48,
    "start_time": "2022-09-08T20:46:52.026Z"
   },
   {
    "duration": 14,
    "start_time": "2022-09-08T20:46:52.077Z"
   },
   {
    "duration": 32,
    "start_time": "2022-09-08T20:46:52.093Z"
   },
   {
    "duration": 10,
    "start_time": "2022-09-08T20:46:52.127Z"
   },
   {
    "duration": 14,
    "start_time": "2022-09-08T20:46:52.139Z"
   },
   {
    "duration": 7,
    "start_time": "2022-09-08T20:46:52.154Z"
   },
   {
    "duration": 42,
    "start_time": "2022-09-08T20:50:14.709Z"
   },
   {
    "duration": 68,
    "start_time": "2022-09-08T20:51:57.972Z"
   },
   {
    "duration": 75,
    "start_time": "2022-09-08T20:52:39.018Z"
   },
   {
    "duration": 173,
    "start_time": "2022-09-08T20:52:45.192Z"
   },
   {
    "duration": 73,
    "start_time": "2022-09-08T20:52:50.265Z"
   },
   {
    "duration": 106,
    "start_time": "2022-09-08T20:56:52.046Z"
   },
   {
    "duration": 87,
    "start_time": "2022-09-08T20:57:09.280Z"
   },
   {
    "duration": 14,
    "start_time": "2022-09-08T20:58:40.489Z"
   },
   {
    "duration": 11,
    "start_time": "2022-09-08T20:58:45.297Z"
   },
   {
    "duration": 275,
    "start_time": "2022-09-08T20:58:48.565Z"
   },
   {
    "duration": 879,
    "start_time": "2022-09-08T20:58:54.880Z"
   },
   {
    "duration": 2055,
    "start_time": "2022-09-08T20:59:04.070Z"
   },
   {
    "duration": 5413,
    "start_time": "2022-09-08T20:59:22.040Z"
   },
   {
    "duration": 304,
    "start_time": "2022-09-08T21:02:07.324Z"
   },
   {
    "duration": 82,
    "start_time": "2022-09-08T21:02:13.878Z"
   },
   {
    "duration": 589,
    "start_time": "2022-09-08T21:02:36.792Z"
   },
   {
    "duration": 180,
    "start_time": "2022-09-08T21:02:48.219Z"
   },
   {
    "duration": 111,
    "start_time": "2022-09-08T21:02:53.047Z"
   },
   {
    "duration": 101,
    "start_time": "2022-09-08T21:03:17.846Z"
   },
   {
    "duration": 85,
    "start_time": "2022-09-08T21:05:42.925Z"
   },
   {
    "duration": 116,
    "start_time": "2022-09-08T21:06:06.871Z"
   },
   {
    "duration": 84,
    "start_time": "2022-09-08T21:06:19.734Z"
   },
   {
    "duration": 83,
    "start_time": "2022-09-08T21:06:55.711Z"
   },
   {
    "duration": 82,
    "start_time": "2022-09-08T21:06:59.872Z"
   },
   {
    "duration": 204,
    "start_time": "2022-09-08T21:07:05.223Z"
   },
   {
    "duration": 200,
    "start_time": "2022-09-08T21:07:14.183Z"
   },
   {
    "duration": 5276,
    "start_time": "2022-09-08T21:08:58.010Z"
   },
   {
    "duration": 862,
    "start_time": "2022-09-08T21:09:21.019Z"
   },
   {
    "duration": 1966,
    "start_time": "2022-09-08T21:10:09.703Z"
   },
   {
    "duration": 5319,
    "start_time": "2022-09-08T21:10:16.277Z"
   },
   {
    "duration": 582,
    "start_time": "2022-09-08T21:10:33.778Z"
   },
   {
    "duration": 5605,
    "start_time": "2022-09-08T21:10:36.672Z"
   },
   {
    "duration": 569,
    "start_time": "2022-09-08T21:10:59.638Z"
   },
   {
    "duration": 323,
    "start_time": "2022-09-08T21:11:05.122Z"
   },
   {
    "duration": 5192,
    "start_time": "2022-09-08T21:11:16.421Z"
   },
   {
    "duration": 182,
    "start_time": "2022-09-08T21:11:43.303Z"
   },
   {
    "duration": 905,
    "start_time": "2022-09-08T21:11:49.707Z"
   },
   {
    "duration": 5368,
    "start_time": "2022-09-08T21:12:06.709Z"
   },
   {
    "duration": 550,
    "start_time": "2022-09-08T21:12:14.457Z"
   },
   {
    "duration": 4,
    "start_time": "2022-09-08T21:13:14.915Z"
   },
   {
    "duration": 26,
    "start_time": "2022-09-08T21:14:30.177Z"
   },
   {
    "duration": 25,
    "start_time": "2022-09-08T21:14:39.156Z"
   },
   {
    "duration": 4,
    "start_time": "2022-09-08T21:15:48.546Z"
   },
   {
    "duration": 38,
    "start_time": "2022-09-08T21:15:48.552Z"
   },
   {
    "duration": 12,
    "start_time": "2022-09-08T21:15:48.592Z"
   },
   {
    "duration": 16,
    "start_time": "2022-09-08T21:15:48.605Z"
   },
   {
    "duration": 7,
    "start_time": "2022-09-08T21:15:48.623Z"
   },
   {
    "duration": 9,
    "start_time": "2022-09-08T21:15:48.631Z"
   },
   {
    "duration": 7,
    "start_time": "2022-09-08T21:15:48.642Z"
   },
   {
    "duration": 686,
    "start_time": "2022-09-08T21:15:48.651Z"
   },
   {
    "duration": 5993,
    "start_time": "2022-09-08T21:15:49.340Z"
   },
   {
    "duration": 27,
    "start_time": "2022-09-08T21:15:55.334Z"
   },
   {
    "duration": 4,
    "start_time": "2022-09-08T21:16:12.073Z"
   },
   {
    "duration": 53,
    "start_time": "2022-09-08T21:16:12.080Z"
   },
   {
    "duration": 12,
    "start_time": "2022-09-08T21:16:12.135Z"
   },
   {
    "duration": 12,
    "start_time": "2022-09-08T21:16:12.148Z"
   },
   {
    "duration": 12,
    "start_time": "2022-09-08T21:16:12.162Z"
   },
   {
    "duration": 14,
    "start_time": "2022-09-08T21:16:12.176Z"
   },
   {
    "duration": 14,
    "start_time": "2022-09-08T21:16:12.191Z"
   },
   {
    "duration": 568,
    "start_time": "2022-09-08T21:16:12.207Z"
   },
   {
    "duration": 5388,
    "start_time": "2022-09-08T21:16:12.777Z"
   },
   {
    "duration": 25,
    "start_time": "2022-09-08T21:16:18.167Z"
   },
   {
    "duration": 21612,
    "start_time": "2022-09-08T21:16:25.668Z"
   },
   {
    "duration": 4,
    "start_time": "2022-09-08T21:17:32.175Z"
   },
   {
    "duration": 7,
    "start_time": "2022-09-08T21:17:34.713Z"
   },
   {
    "duration": 7,
    "start_time": "2022-09-08T21:17:36.420Z"
   },
   {
    "duration": 563,
    "start_time": "2022-09-08T21:17:42.812Z"
   },
   {
    "duration": 2642,
    "start_time": "2022-09-08T21:17:46.827Z"
   },
   {
    "duration": 29,
    "start_time": "2022-09-08T21:17:52.268Z"
   },
   {
    "duration": 4,
    "start_time": "2022-09-08T21:18:05.205Z"
   },
   {
    "duration": 6,
    "start_time": "2022-09-08T21:18:17.868Z"
   },
   {
    "duration": 6,
    "start_time": "2022-09-08T21:18:19.948Z"
   },
   {
    "duration": 638,
    "start_time": "2022-09-08T21:18:21.747Z"
   },
   {
    "duration": 3293,
    "start_time": "2022-09-08T21:18:24.490Z"
   },
   {
    "duration": 19,
    "start_time": "2022-09-08T21:18:29.742Z"
   },
   {
    "duration": 7,
    "start_time": "2022-09-08T21:19:05.964Z"
   },
   {
    "duration": 5,
    "start_time": "2022-09-08T21:19:07.501Z"
   },
   {
    "duration": 3,
    "start_time": "2022-09-08T21:19:10.958Z"
   },
   {
    "duration": 36,
    "start_time": "2022-09-08T21:19:10.963Z"
   },
   {
    "duration": 11,
    "start_time": "2022-09-08T21:19:11.001Z"
   },
   {
    "duration": 17,
    "start_time": "2022-09-08T21:19:11.013Z"
   },
   {
    "duration": 12,
    "start_time": "2022-09-08T21:19:11.032Z"
   },
   {
    "duration": 11,
    "start_time": "2022-09-08T21:19:11.046Z"
   },
   {
    "duration": 10,
    "start_time": "2022-09-08T21:19:11.059Z"
   },
   {
    "duration": 579,
    "start_time": "2022-09-08T21:19:11.072Z"
   },
   {
    "duration": 3413,
    "start_time": "2022-09-08T21:19:11.653Z"
   },
   {
    "duration": 48,
    "start_time": "2022-09-08T21:19:15.068Z"
   },
   {
    "duration": 3,
    "start_time": "2022-09-08T21:19:39.541Z"
   },
   {
    "duration": 38,
    "start_time": "2022-09-08T21:19:39.546Z"
   },
   {
    "duration": 11,
    "start_time": "2022-09-08T21:19:39.586Z"
   },
   {
    "duration": 10,
    "start_time": "2022-09-08T21:19:39.600Z"
   },
   {
    "duration": 7,
    "start_time": "2022-09-08T21:19:39.612Z"
   },
   {
    "duration": 13,
    "start_time": "2022-09-08T21:19:39.620Z"
   },
   {
    "duration": 8,
    "start_time": "2022-09-08T21:19:39.635Z"
   },
   {
    "duration": 574,
    "start_time": "2022-09-08T21:19:39.645Z"
   },
   {
    "duration": 3393,
    "start_time": "2022-09-08T21:19:40.222Z"
   },
   {
    "duration": 20,
    "start_time": "2022-09-08T21:19:43.617Z"
   },
   {
    "duration": 19,
    "start_time": "2022-09-08T21:20:47.067Z"
   },
   {
    "duration": 7,
    "start_time": "2022-09-08T21:21:51.450Z"
   },
   {
    "duration": 18,
    "start_time": "2022-09-08T21:22:23.459Z"
   },
   {
    "duration": 7,
    "start_time": "2022-09-08T21:22:38.089Z"
   },
   {
    "duration": 73,
    "start_time": "2022-09-08T21:26:15.365Z"
   },
   {
    "duration": 74,
    "start_time": "2022-09-08T21:26:27.328Z"
   },
   {
    "duration": 73,
    "start_time": "2022-09-08T21:26:35.425Z"
   },
   {
    "duration": 88,
    "start_time": "2022-09-08T21:26:46.673Z"
   },
   {
    "duration": 2743,
    "start_time": "2022-09-08T21:38:13.419Z"
   },
   {
    "duration": 2240,
    "start_time": "2022-09-08T21:38:28.539Z"
   },
   {
    "duration": 2352,
    "start_time": "2022-09-08T21:40:18.154Z"
   },
   {
    "duration": 2820,
    "start_time": "2022-09-08T21:40:24.129Z"
   },
   {
    "duration": 935,
    "start_time": "2022-09-08T21:42:20.687Z"
   },
   {
    "duration": 17,
    "start_time": "2022-09-08T21:42:47.848Z"
   },
   {
    "duration": 769,
    "start_time": "2022-09-08T21:43:31.944Z"
   },
   {
    "duration": 3361,
    "start_time": "2022-09-08T21:44:02.711Z"
   },
   {
    "duration": 676,
    "start_time": "2022-09-08T21:44:17.043Z"
   },
   {
    "duration": 16111,
    "start_time": "2022-09-08T21:47:30.645Z"
   },
   {
    "duration": 190959,
    "start_time": "2022-09-08T21:48:13.584Z"
   },
   {
    "duration": 16615,
    "start_time": "2022-09-08T21:51:37.189Z"
   },
   {
    "duration": 725,
    "start_time": "2022-09-08T21:56:06.254Z"
   },
   {
    "duration": 693,
    "start_time": "2022-09-08T22:01:57.393Z"
   },
   {
    "duration": 676,
    "start_time": "2022-09-08T22:02:02.968Z"
   },
   {
    "duration": 675,
    "start_time": "2022-09-08T22:02:06.544Z"
   },
   {
    "duration": 728,
    "start_time": "2022-09-08T22:02:10.086Z"
   },
   {
    "duration": 685,
    "start_time": "2022-09-08T22:02:14.009Z"
   },
   {
    "duration": 714,
    "start_time": "2022-09-08T22:02:21.283Z"
   },
   {
    "duration": 674,
    "start_time": "2022-09-08T22:02:24.956Z"
   },
   {
    "duration": 727,
    "start_time": "2022-09-08T22:02:31.343Z"
   },
   {
    "duration": 15862,
    "start_time": "2022-09-08T22:02:46.507Z"
   },
   {
    "duration": 15976,
    "start_time": "2022-09-08T22:03:18.288Z"
   },
   {
    "duration": 16264,
    "start_time": "2022-09-08T22:04:34.632Z"
   },
   {
    "duration": 16379,
    "start_time": "2022-09-08T22:04:57.371Z"
   },
   {
    "duration": 11,
    "start_time": "2022-09-08T22:05:44.558Z"
   },
   {
    "duration": 13,
    "start_time": "2022-09-08T22:06:08.797Z"
   },
   {
    "duration": 15854,
    "start_time": "2022-09-08T22:07:03.912Z"
   },
   {
    "duration": 662,
    "start_time": "2022-09-08T22:07:30.921Z"
   },
   {
    "duration": 698,
    "start_time": "2022-09-08T22:07:35.437Z"
   },
   {
    "duration": 17,
    "start_time": "2022-09-08T22:07:42.876Z"
   },
   {
    "duration": 7,
    "start_time": "2022-09-08T22:07:50.140Z"
   },
   {
    "duration": 10,
    "start_time": "2022-09-08T22:07:55.293Z"
   },
   {
    "duration": 8,
    "start_time": "2022-09-08T22:07:58.312Z"
   },
   {
    "duration": 51,
    "start_time": "2022-09-09T08:34:57.778Z"
   },
   {
    "duration": 1237,
    "start_time": "2022-09-09T08:35:18.990Z"
   },
   {
    "duration": 67,
    "start_time": "2022-09-09T08:35:22.235Z"
   },
   {
    "duration": 11,
    "start_time": "2022-09-09T08:35:24.224Z"
   },
   {
    "duration": 16,
    "start_time": "2022-09-09T08:35:26.692Z"
   },
   {
    "duration": 58,
    "start_time": "2022-09-09T08:35:29.225Z"
   },
   {
    "duration": 4,
    "start_time": "2022-09-09T08:35:48.392Z"
   },
   {
    "duration": 14,
    "start_time": "2022-09-09T08:35:56.002Z"
   },
   {
    "duration": 4,
    "start_time": "2022-09-09T08:36:04.566Z"
   },
   {
    "duration": 9,
    "start_time": "2022-09-09T08:36:06.044Z"
   },
   {
    "duration": 5,
    "start_time": "2022-09-09T08:36:07.640Z"
   },
   {
    "duration": 734,
    "start_time": "2022-09-09T08:36:11.610Z"
   },
   {
    "duration": 15794,
    "start_time": "2022-09-09T08:36:15.540Z"
   },
   {
    "duration": 18,
    "start_time": "2022-09-09T08:36:36.863Z"
   },
   {
    "duration": 407,
    "start_time": "2022-09-09T09:09:41.845Z"
   },
   {
    "duration": 607,
    "start_time": "2022-09-09T09:24:02.823Z"
   },
   {
    "duration": 4,
    "start_time": "2022-09-09T09:30:31.131Z"
   },
   {
    "duration": 56,
    "start_time": "2022-09-09T09:30:31.137Z"
   },
   {
    "duration": 11,
    "start_time": "2022-09-09T09:30:31.195Z"
   },
   {
    "duration": 13,
    "start_time": "2022-09-09T09:30:31.208Z"
   },
   {
    "duration": 6,
    "start_time": "2022-09-09T09:30:31.223Z"
   },
   {
    "duration": 18,
    "start_time": "2022-09-09T09:30:31.230Z"
   },
   {
    "duration": 5,
    "start_time": "2022-09-09T09:30:31.250Z"
   },
   {
    "duration": 659,
    "start_time": "2022-09-09T09:30:31.256Z"
   },
   {
    "duration": 14780,
    "start_time": "2022-09-09T09:30:31.916Z"
   },
   {
    "duration": 21,
    "start_time": "2022-09-09T09:30:46.697Z"
   },
   {
    "duration": 6,
    "start_time": "2022-09-09T09:30:46.719Z"
   },
   {
    "duration": 19,
    "start_time": "2022-09-09T09:30:46.727Z"
   },
   {
    "duration": 21,
    "start_time": "2022-09-09T09:30:46.748Z"
   },
   {
    "duration": 16,
    "start_time": "2022-09-09T09:35:08.449Z"
   },
   {
    "duration": 16,
    "start_time": "2022-09-09T09:35:14.675Z"
   },
   {
    "duration": 18,
    "start_time": "2022-09-09T09:35:17.429Z"
   },
   {
    "duration": 3,
    "start_time": "2022-09-09T10:00:26.598Z"
   },
   {
    "duration": 3,
    "start_time": "2022-09-09T10:00:30.034Z"
   },
   {
    "duration": 3,
    "start_time": "2022-09-09T10:00:37.760Z"
   },
   {
    "duration": 4,
    "start_time": "2022-09-09T10:00:47.675Z"
   },
   {
    "duration": 5,
    "start_time": "2022-09-09T10:01:04.240Z"
   },
   {
    "duration": 3,
    "start_time": "2022-09-09T10:01:11.890Z"
   },
   {
    "duration": 5,
    "start_time": "2022-09-09T10:02:30.004Z"
   },
   {
    "duration": 8,
    "start_time": "2022-09-09T10:03:15.906Z"
   },
   {
    "duration": 2,
    "start_time": "2022-09-09T10:03:42.533Z"
   },
   {
    "duration": 1204,
    "start_time": "2022-09-09T10:06:39.837Z"
   },
   {
    "duration": 31,
    "start_time": "2022-09-09T10:06:41.043Z"
   },
   {
    "duration": 11,
    "start_time": "2022-09-09T10:06:41.076Z"
   },
   {
    "duration": 39,
    "start_time": "2022-09-09T10:06:41.089Z"
   },
   {
    "duration": 24,
    "start_time": "2022-09-09T10:06:41.131Z"
   },
   {
    "duration": 34,
    "start_time": "2022-09-09T10:06:41.156Z"
   },
   {
    "duration": 37,
    "start_time": "2022-09-09T10:06:41.192Z"
   },
   {
    "duration": 703,
    "start_time": "2022-09-09T10:06:41.231Z"
   },
   {
    "duration": 14547,
    "start_time": "2022-09-09T10:06:41.935Z"
   },
   {
    "duration": 30,
    "start_time": "2022-09-09T10:06:56.484Z"
   },
   {
    "duration": 8,
    "start_time": "2022-09-09T10:06:56.516Z"
   },
   {
    "duration": 32,
    "start_time": "2022-09-09T10:06:56.525Z"
   },
   {
    "duration": 16,
    "start_time": "2022-09-09T10:06:56.559Z"
   },
   {
    "duration": 25,
    "start_time": "2022-09-09T10:06:56.578Z"
   },
   {
    "duration": 7,
    "start_time": "2022-09-09T10:06:56.605Z"
   },
   {
    "duration": 1364,
    "start_time": "2022-09-09T11:29:41.364Z"
   },
   {
    "duration": 116,
    "start_time": "2022-09-09T11:29:42.731Z"
   },
   {
    "duration": 11,
    "start_time": "2022-09-09T11:29:42.860Z"
   },
   {
    "duration": 15,
    "start_time": "2022-09-09T11:29:42.873Z"
   },
   {
    "duration": 8,
    "start_time": "2022-09-09T11:29:42.889Z"
   },
   {
    "duration": 12,
    "start_time": "2022-09-09T11:29:42.899Z"
   },
   {
    "duration": 6,
    "start_time": "2022-09-09T11:29:42.912Z"
   },
   {
    "duration": 712,
    "start_time": "2022-09-09T11:29:42.919Z"
   },
   {
    "duration": 14803,
    "start_time": "2022-09-09T11:29:43.632Z"
   },
   {
    "duration": 29,
    "start_time": "2022-09-09T11:29:58.437Z"
   },
   {
    "duration": 7,
    "start_time": "2022-09-09T11:29:58.468Z"
   },
   {
    "duration": 15,
    "start_time": "2022-09-09T11:29:58.476Z"
   },
   {
    "duration": 9,
    "start_time": "2022-09-09T11:29:58.493Z"
   },
   {
    "duration": 8,
    "start_time": "2022-09-09T11:29:58.504Z"
   },
   {
    "duration": 11,
    "start_time": "2022-09-09T11:29:58.514Z"
   },
   {
    "duration": 1160,
    "start_time": "2022-09-13T15:37:12.002Z"
   },
   {
    "duration": 97,
    "start_time": "2022-09-13T15:51:21.500Z"
   },
   {
    "duration": 1151,
    "start_time": "2022-09-13T15:51:43.136Z"
   },
   {
    "duration": 58,
    "start_time": "2022-09-13T15:51:44.289Z"
   },
   {
    "duration": 14,
    "start_time": "2022-09-13T15:51:44.348Z"
   },
   {
    "duration": 19,
    "start_time": "2022-09-13T15:51:44.364Z"
   },
   {
    "duration": 99,
    "start_time": "2022-09-13T15:51:44.386Z"
   },
   {
    "duration": 0,
    "start_time": "2022-09-13T15:51:44.486Z"
   },
   {
    "duration": 0,
    "start_time": "2022-09-13T15:51:44.489Z"
   },
   {
    "duration": 0,
    "start_time": "2022-09-13T15:51:44.490Z"
   },
   {
    "duration": 0,
    "start_time": "2022-09-13T15:51:44.491Z"
   },
   {
    "duration": 0,
    "start_time": "2022-09-13T15:51:44.492Z"
   },
   {
    "duration": 0,
    "start_time": "2022-09-13T15:51:44.493Z"
   },
   {
    "duration": 0,
    "start_time": "2022-09-13T15:51:44.494Z"
   },
   {
    "duration": 0,
    "start_time": "2022-09-13T15:51:44.495Z"
   },
   {
    "duration": 0,
    "start_time": "2022-09-13T15:51:44.496Z"
   },
   {
    "duration": 0,
    "start_time": "2022-09-13T15:51:44.497Z"
   },
   {
    "duration": 0,
    "start_time": "2022-09-13T15:51:44.498Z"
   },
   {
    "duration": 1293,
    "start_time": "2022-09-13T15:53:21.364Z"
   },
   {
    "duration": 28,
    "start_time": "2022-09-13T15:53:22.659Z"
   },
   {
    "duration": 12,
    "start_time": "2022-09-13T15:53:22.689Z"
   },
   {
    "duration": 29,
    "start_time": "2022-09-13T15:53:22.703Z"
   },
   {
    "duration": 116,
    "start_time": "2022-09-13T15:53:22.734Z"
   },
   {
    "duration": 0,
    "start_time": "2022-09-13T15:53:22.853Z"
   },
   {
    "duration": 0,
    "start_time": "2022-09-13T15:53:22.855Z"
   },
   {
    "duration": 0,
    "start_time": "2022-09-13T15:53:22.856Z"
   },
   {
    "duration": 0,
    "start_time": "2022-09-13T15:53:22.857Z"
   },
   {
    "duration": 0,
    "start_time": "2022-09-13T15:53:22.858Z"
   },
   {
    "duration": 0,
    "start_time": "2022-09-13T15:53:22.859Z"
   },
   {
    "duration": 0,
    "start_time": "2022-09-13T15:53:22.860Z"
   },
   {
    "duration": 0,
    "start_time": "2022-09-13T15:53:22.861Z"
   },
   {
    "duration": 0,
    "start_time": "2022-09-13T15:53:22.862Z"
   },
   {
    "duration": 0,
    "start_time": "2022-09-13T15:53:22.863Z"
   },
   {
    "duration": 0,
    "start_time": "2022-09-13T15:53:22.889Z"
   },
   {
    "duration": 3,
    "start_time": "2022-09-13T15:53:35.520Z"
   },
   {
    "duration": 27,
    "start_time": "2022-09-13T15:53:38.134Z"
   },
   {
    "duration": 12,
    "start_time": "2022-09-13T15:53:39.886Z"
   },
   {
    "duration": 11,
    "start_time": "2022-09-13T15:53:42.652Z"
   },
   {
    "duration": 10,
    "start_time": "2022-09-13T15:53:45.786Z"
   },
   {
    "duration": 10,
    "start_time": "2022-09-13T15:54:54.438Z"
   },
   {
    "duration": 14,
    "start_time": "2022-09-13T15:55:00.558Z"
   },
   {
    "duration": 9,
    "start_time": "2022-09-13T15:55:51.974Z"
   },
   {
    "duration": 4,
    "start_time": "2022-09-13T16:45:00.968Z"
   },
   {
    "duration": 4,
    "start_time": "2022-09-13T16:51:49.283Z"
   },
   {
    "duration": 9,
    "start_time": "2022-09-13T16:52:08.591Z"
   },
   {
    "duration": 4,
    "start_time": "2022-09-13T16:52:13.201Z"
   },
   {
    "duration": 6,
    "start_time": "2022-09-13T16:52:14.958Z"
   },
   {
    "duration": 5,
    "start_time": "2022-09-13T16:52:16.774Z"
   },
   {
    "duration": 4,
    "start_time": "2022-09-13T16:52:19.142Z"
   },
   {
    "duration": 4,
    "start_time": "2022-09-13T16:52:21.286Z"
   },
   {
    "duration": 4,
    "start_time": "2022-09-13T16:52:46.036Z"
   },
   {
    "duration": 4,
    "start_time": "2022-09-13T16:53:02.549Z"
   },
   {
    "duration": 10,
    "start_time": "2022-09-13T16:56:34.253Z"
   },
   {
    "duration": 8,
    "start_time": "2022-09-13T16:56:46.619Z"
   },
   {
    "duration": 9,
    "start_time": "2022-09-13T17:01:31.156Z"
   },
   {
    "duration": 8,
    "start_time": "2022-09-13T17:07:41.214Z"
   },
   {
    "duration": 14874,
    "start_time": "2022-09-13T17:15:24.442Z"
   },
   {
    "duration": 671,
    "start_time": "2022-09-13T17:45:19.056Z"
   },
   {
    "duration": 851,
    "start_time": "2022-09-13T17:47:58.322Z"
   },
   {
    "duration": 780,
    "start_time": "2022-09-13T18:06:45.138Z"
   },
   {
    "duration": 741,
    "start_time": "2022-09-13T18:07:07.849Z"
   },
   {
    "duration": 157,
    "start_time": "2022-09-13T18:23:45.473Z"
   },
   {
    "duration": 103,
    "start_time": "2022-09-13T18:23:52.778Z"
   },
   {
    "duration": 1215,
    "start_time": "2022-09-13T18:24:12.398Z"
   },
   {
    "duration": 13,
    "start_time": "2022-09-13T18:24:26.689Z"
   },
   {
    "duration": 14,
    "start_time": "2022-09-13T18:24:55.451Z"
   },
   {
    "duration": 10,
    "start_time": "2022-09-13T18:25:26.572Z"
   },
   {
    "duration": 4,
    "start_time": "2022-09-13T18:25:30.508Z"
   },
   {
    "duration": 795,
    "start_time": "2022-09-13T18:25:41.797Z"
   },
   {
    "duration": 241,
    "start_time": "2022-09-13T18:26:08.453Z"
   },
   {
    "duration": 21,
    "start_time": "2022-09-13T18:26:40.255Z"
   },
   {
    "duration": 4,
    "start_time": "2022-09-13T18:29:35.643Z"
   },
   {
    "duration": 1158,
    "start_time": "2022-09-13T18:29:47.757Z"
   },
   {
    "duration": 10,
    "start_time": "2022-09-13T18:29:56.107Z"
   },
   {
    "duration": 14,
    "start_time": "2022-09-13T18:29:58.897Z"
   },
   {
    "duration": 147,
    "start_time": "2022-09-13T18:32:09.776Z"
   },
   {
    "duration": 147,
    "start_time": "2022-09-13T18:32:36.668Z"
   },
   {
    "duration": 16,
    "start_time": "2022-09-13T18:32:49.312Z"
   },
   {
    "duration": 16,
    "start_time": "2022-09-13T18:32:54.349Z"
   },
   {
    "duration": 163,
    "start_time": "2022-09-13T18:33:00.070Z"
   },
   {
    "duration": 138,
    "start_time": "2022-09-13T18:34:52.859Z"
   },
   {
    "duration": 133,
    "start_time": "2022-09-13T18:35:24.241Z"
   },
   {
    "duration": 164,
    "start_time": "2022-09-13T18:37:48.177Z"
   },
   {
    "duration": 11,
    "start_time": "2022-09-13T18:37:57.155Z"
   },
   {
    "duration": 10,
    "start_time": "2022-09-13T18:38:13.920Z"
   },
   {
    "duration": 10,
    "start_time": "2022-09-13T18:38:28.764Z"
   },
   {
    "duration": 11,
    "start_time": "2022-09-13T18:38:32.479Z"
   },
   {
    "duration": 11,
    "start_time": "2022-09-13T18:38:39.791Z"
   },
   {
    "duration": 10,
    "start_time": "2022-09-13T18:38:44.182Z"
   },
   {
    "duration": 1152,
    "start_time": "2022-09-13T18:38:50.840Z"
   },
   {
    "duration": 136,
    "start_time": "2022-09-13T18:38:53.055Z"
   },
   {
    "duration": 38,
    "start_time": "2022-09-13T18:42:38.493Z"
   },
   {
    "duration": 888,
    "start_time": "2022-09-13T18:43:29.119Z"
   },
   {
    "duration": 143,
    "start_time": "2022-09-13T18:43:58.956Z"
   },
   {
    "duration": 121,
    "start_time": "2022-09-13T18:44:22.165Z"
   },
   {
    "duration": 6,
    "start_time": "2022-09-13T18:44:27.440Z"
   },
   {
    "duration": 968,
    "start_time": "2022-09-13T18:45:21.410Z"
   },
   {
    "duration": 10,
    "start_time": "2022-09-13T18:45:24.702Z"
   },
   {
    "duration": 126,
    "start_time": "2022-09-13T18:45:28.623Z"
   },
   {
    "duration": 1127,
    "start_time": "2022-09-13T18:50:09.052Z"
   },
   {
    "duration": 8,
    "start_time": "2022-09-13T18:50:23.549Z"
   },
   {
    "duration": 290,
    "start_time": "2022-09-13T18:51:11.814Z"
   },
   {
    "duration": 1462,
    "start_time": "2022-09-13T18:51:59.966Z"
   },
   {
    "duration": 1683,
    "start_time": "2022-09-13T18:53:10.682Z"
   },
   {
    "duration": 306,
    "start_time": "2022-09-13T18:54:18.847Z"
   },
   {
    "duration": 267,
    "start_time": "2022-09-13T18:54:36.315Z"
   },
   {
    "duration": 131,
    "start_time": "2022-09-13T18:54:42.150Z"
   },
   {
    "duration": 12978,
    "start_time": "2022-09-13T18:54:50.797Z"
   },
   {
    "duration": 9,
    "start_time": "2022-09-13T18:55:07.092Z"
   },
   {
    "duration": 157,
    "start_time": "2022-09-13T18:55:12.040Z"
   },
   {
    "duration": 1080,
    "start_time": "2022-09-13T18:55:35.442Z"
   },
   {
    "duration": 129,
    "start_time": "2022-09-13T18:55:42.477Z"
   },
   {
    "duration": 130,
    "start_time": "2022-09-13T18:56:21.103Z"
   },
   {
    "duration": 240,
    "start_time": "2022-09-13T18:56:36.166Z"
   },
   {
    "duration": 159,
    "start_time": "2022-09-13T18:56:44.514Z"
   },
   {
    "duration": 173,
    "start_time": "2022-09-13T18:56:57.616Z"
   },
   {
    "duration": 174,
    "start_time": "2022-09-13T18:58:10.613Z"
   },
   {
    "duration": 74,
    "start_time": "2022-09-13T19:12:27.353Z"
   },
   {
    "duration": 19,
    "start_time": "2022-09-13T19:13:22.980Z"
   },
   {
    "duration": 12,
    "start_time": "2022-09-13T19:13:45.492Z"
   },
   {
    "duration": 17,
    "start_time": "2022-09-13T19:13:56.279Z"
   },
   {
    "duration": 18,
    "start_time": "2022-09-13T19:14:02.458Z"
   },
   {
    "duration": 5,
    "start_time": "2022-09-13T19:15:32.487Z"
   },
   {
    "duration": 405,
    "start_time": "2022-09-13T19:15:39.156Z"
   },
   {
    "duration": 321,
    "start_time": "2022-09-13T19:16:33.735Z"
   },
   {
    "duration": 421748,
    "start_time": "2022-09-13T19:20:40.779Z"
   },
   {
    "duration": 5,
    "start_time": "2022-09-13T19:32:10.656Z"
   },
   {
    "duration": 12,
    "start_time": "2022-09-13T19:34:38.199Z"
   },
   {
    "duration": 6,
    "start_time": "2022-09-13T19:35:26.899Z"
   },
   {
    "duration": 6,
    "start_time": "2022-09-13T19:36:04.698Z"
   },
   {
    "duration": 7,
    "start_time": "2022-09-13T19:41:51.642Z"
   },
   {
    "duration": 1109,
    "start_time": "2022-09-13T19:53:56.211Z"
   },
   {
    "duration": 1171,
    "start_time": "2022-09-13T19:53:58.734Z"
   },
   {
    "duration": 236,
    "start_time": "2022-09-13T19:54:01.870Z"
   },
   {
    "duration": 5968,
    "start_time": "2022-09-13T19:54:59.103Z"
   },
   {
    "duration": 192,
    "start_time": "2022-09-13T19:55:14.398Z"
   },
   {
    "duration": 5451,
    "start_time": "2022-09-13T19:56:48.309Z"
   },
   {
    "duration": 210,
    "start_time": "2022-09-13T19:56:56.058Z"
   },
   {
    "duration": 2838,
    "start_time": "2022-09-13T19:58:14.565Z"
   },
   {
    "duration": 173,
    "start_time": "2022-09-13T19:58:18.915Z"
   },
   {
    "duration": 1106,
    "start_time": "2022-09-13T19:58:43.485Z"
   },
   {
    "duration": 5748,
    "start_time": "2022-09-13T19:59:01.651Z"
   },
   {
    "duration": 1243,
    "start_time": "2022-09-13T19:59:39.657Z"
   },
   {
    "duration": 176,
    "start_time": "2022-09-13T19:59:46.721Z"
   },
   {
    "duration": 18,
    "start_time": "2022-09-13T20:47:10.164Z"
   },
   {
    "duration": 5,
    "start_time": "2022-09-13T20:55:53.042Z"
   },
   {
    "duration": 4,
    "start_time": "2022-09-13T20:56:38.848Z"
   },
   {
    "duration": 3,
    "start_time": "2022-09-13T20:56:53.208Z"
   },
   {
    "duration": 4,
    "start_time": "2022-09-13T20:57:04.051Z"
   },
   {
    "duration": 250,
    "start_time": "2022-09-13T20:58:14.397Z"
   },
   {
    "duration": 23,
    "start_time": "2022-09-13T20:58:31.781Z"
   },
   {
    "duration": 206,
    "start_time": "2022-09-13T21:01:32.348Z"
   },
   {
    "duration": 22,
    "start_time": "2022-09-13T21:01:35.760Z"
   },
   {
    "duration": 236,
    "start_time": "2022-09-13T21:01:52.646Z"
   },
   {
    "duration": 21,
    "start_time": "2022-09-13T21:01:55.553Z"
   },
   {
    "duration": 4,
    "start_time": "2022-09-13T21:02:43.954Z"
   },
   {
    "duration": 4,
    "start_time": "2022-09-13T21:02:59.329Z"
   },
   {
    "duration": 272,
    "start_time": "2022-09-13T21:03:09.889Z"
   },
   {
    "duration": 507,
    "start_time": "2022-09-13T21:06:04.505Z"
   },
   {
    "duration": 461,
    "start_time": "2022-09-13T21:06:13.779Z"
   },
   {
    "duration": 460,
    "start_time": "2022-09-13T21:06:26.450Z"
   },
   {
    "duration": 462,
    "start_time": "2022-09-13T21:06:42.650Z"
   },
   {
    "duration": 3,
    "start_time": "2022-09-13T21:54:35.449Z"
   },
   {
    "duration": 441,
    "start_time": "2022-09-13T21:58:38.177Z"
   },
   {
    "duration": 469,
    "start_time": "2022-09-13T21:58:58.080Z"
   },
   {
    "duration": 22,
    "start_time": "2022-09-13T22:01:04.624Z"
   },
   {
    "duration": 7,
    "start_time": "2022-09-13T22:08:18.257Z"
   },
   {
    "duration": 26,
    "start_time": "2022-09-13T22:20:42.167Z"
   },
   {
    "duration": 127,
    "start_time": "2022-09-13T22:21:32.406Z"
   },
   {
    "duration": 4,
    "start_time": "2022-09-13T22:24:41.572Z"
   },
   {
    "duration": 1264,
    "start_time": "2022-09-13T22:24:50.196Z"
   },
   {
    "duration": 374,
    "start_time": "2022-09-13T22:25:09.622Z"
   },
   {
    "duration": 160,
    "start_time": "2022-09-13T22:25:50.857Z"
   },
   {
    "duration": 1902,
    "start_time": "2022-09-13T22:26:08.073Z"
   },
   {
    "duration": 1207,
    "start_time": "2022-09-13T22:26:24.082Z"
   },
   {
    "duration": 1238,
    "start_time": "2022-09-13T22:26:37.676Z"
   },
   {
    "duration": 3,
    "start_time": "2022-09-13T22:26:50.513Z"
   },
   {
    "duration": 1245,
    "start_time": "2022-09-13T22:26:54.755Z"
   },
   {
    "duration": 67476,
    "start_time": "2022-09-13T22:27:08.323Z"
   },
   {
    "duration": 1447,
    "start_time": "2022-09-13T22:39:32.763Z"
   },
   {
    "duration": 31,
    "start_time": "2022-09-13T22:39:34.212Z"
   },
   {
    "duration": 14,
    "start_time": "2022-09-13T22:39:34.244Z"
   },
   {
    "duration": 13,
    "start_time": "2022-09-13T22:39:34.259Z"
   },
   {
    "duration": 6,
    "start_time": "2022-09-13T22:39:34.274Z"
   },
   {
    "duration": 8,
    "start_time": "2022-09-13T22:39:34.282Z"
   },
   {
    "duration": 5,
    "start_time": "2022-09-13T22:39:34.292Z"
   },
   {
    "duration": 9,
    "start_time": "2022-09-13T22:39:34.299Z"
   },
   {
    "duration": 6,
    "start_time": "2022-09-13T22:39:34.310Z"
   },
   {
    "duration": 11,
    "start_time": "2022-09-13T22:39:34.318Z"
   },
   {
    "duration": 1300,
    "start_time": "2022-09-13T22:39:34.331Z"
   },
   {
    "duration": 210,
    "start_time": "2022-09-13T22:39:35.632Z"
   },
   {
    "duration": 470,
    "start_time": "2022-09-13T22:39:35.844Z"
   },
   {
    "duration": 415798,
    "start_time": "2022-09-13T22:39:36.317Z"
   },
   {
    "duration": 21,
    "start_time": "2022-09-13T22:46:32.117Z"
   },
   {
    "duration": 5,
    "start_time": "2022-09-13T22:46:32.140Z"
   },
   {
    "duration": 9,
    "start_time": "2022-09-13T22:46:32.146Z"
   },
   {
    "duration": 502,
    "start_time": "2022-09-13T22:46:32.157Z"
   },
   {
    "duration": 6,
    "start_time": "2022-09-13T22:46:32.661Z"
   },
   {
    "duration": 58,
    "start_time": "2022-09-14T09:09:07.991Z"
   },
   {
    "duration": 1638,
    "start_time": "2022-09-14T09:09:18.052Z"
   },
   {
    "duration": 67,
    "start_time": "2022-09-14T09:09:19.692Z"
   },
   {
    "duration": 13,
    "start_time": "2022-09-14T09:09:19.761Z"
   },
   {
    "duration": 30,
    "start_time": "2022-09-14T09:09:19.777Z"
   },
   {
    "duration": 19,
    "start_time": "2022-09-14T09:09:19.808Z"
   },
   {
    "duration": 25,
    "start_time": "2022-09-14T09:09:19.828Z"
   },
   {
    "duration": 28,
    "start_time": "2022-09-14T09:09:19.855Z"
   },
   {
    "duration": 33,
    "start_time": "2022-09-14T09:09:19.884Z"
   },
   {
    "duration": 18,
    "start_time": "2022-09-14T09:09:19.919Z"
   },
   {
    "duration": 29,
    "start_time": "2022-09-14T09:09:19.939Z"
   },
   {
    "duration": 1301,
    "start_time": "2022-09-14T09:09:19.970Z"
   },
   {
    "duration": 223,
    "start_time": "2022-09-14T09:09:21.273Z"
   },
   {
    "duration": 769,
    "start_time": "2022-09-14T09:09:23.563Z"
   },
   {
    "duration": 665,
    "start_time": "2022-09-14T09:10:49.399Z"
   },
   {
    "duration": 787,
    "start_time": "2022-09-14T09:11:31.490Z"
   },
   {
    "duration": 684,
    "start_time": "2022-09-14T09:11:37.005Z"
   },
   {
    "duration": 675,
    "start_time": "2022-09-14T09:12:14.351Z"
   },
   {
    "duration": 695,
    "start_time": "2022-09-14T09:12:27.594Z"
   },
   {
    "duration": 710,
    "start_time": "2022-09-14T09:12:49.720Z"
   },
   {
    "duration": 867,
    "start_time": "2022-09-14T09:13:25.202Z"
   },
   {
    "duration": 443,
    "start_time": "2022-09-14T09:14:31.920Z"
   },
   {
    "duration": 710,
    "start_time": "2022-09-14T09:14:50.996Z"
   },
   {
    "duration": 665,
    "start_time": "2022-09-14T09:14:55.516Z"
   },
   {
    "duration": 577,
    "start_time": "2022-09-14T09:15:00.914Z"
   },
   {
    "duration": 637,
    "start_time": "2022-09-14T09:15:09.255Z"
   },
   {
    "duration": 601,
    "start_time": "2022-09-14T09:15:12.936Z"
   },
   {
    "duration": 474,
    "start_time": "2022-09-14T09:15:29.915Z"
   },
   {
    "duration": 506,
    "start_time": "2022-09-14T09:15:34.872Z"
   },
   {
    "duration": 642,
    "start_time": "2022-09-14T09:15:39.203Z"
   },
   {
    "duration": 509,
    "start_time": "2022-09-14T09:15:44.309Z"
   },
   {
    "duration": 538,
    "start_time": "2022-09-14T09:15:47.961Z"
   },
   {
    "duration": 525,
    "start_time": "2022-09-14T09:16:08.337Z"
   },
   {
    "duration": 517,
    "start_time": "2022-09-14T09:16:14.149Z"
   },
   {
    "duration": 526,
    "start_time": "2022-09-14T09:16:18.093Z"
   },
   {
    "duration": 564,
    "start_time": "2022-09-14T09:16:23.045Z"
   },
   {
    "duration": 10,
    "start_time": "2022-09-14T09:34:31.574Z"
   },
   {
    "duration": 198,
    "start_time": "2022-09-14T09:36:17.071Z"
   },
   {
    "duration": 158,
    "start_time": "2022-09-14T09:39:15.083Z"
   },
   {
    "duration": 101,
    "start_time": "2022-09-14T09:39:20.279Z"
   },
   {
    "duration": 3,
    "start_time": "2022-09-14T09:39:35.616Z"
   },
   {
    "duration": 368,
    "start_time": "2022-09-14T09:41:04.517Z"
   },
   {
    "duration": 215,
    "start_time": "2022-09-14T09:42:06.665Z"
   },
   {
    "duration": 213,
    "start_time": "2022-09-14T09:43:40.768Z"
   },
   {
    "duration": 182,
    "start_time": "2022-09-14T09:45:10.388Z"
   },
   {
    "duration": 220,
    "start_time": "2022-09-14T09:45:17.446Z"
   },
   {
    "duration": 348,
    "start_time": "2022-09-14T09:45:41.851Z"
   },
   {
    "duration": 196,
    "start_time": "2022-09-14T09:45:51.672Z"
   },
   {
    "duration": 188,
    "start_time": "2022-09-14T09:46:00.073Z"
   },
   {
    "duration": 249,
    "start_time": "2022-09-14T09:48:11.493Z"
   },
   {
    "duration": 32,
    "start_time": "2022-09-14T09:48:44.125Z"
   },
   {
    "duration": 30,
    "start_time": "2022-09-14T09:49:12.140Z"
   },
   {
    "duration": 114,
    "start_time": "2022-09-14T09:49:41.960Z"
   },
   {
    "duration": 108,
    "start_time": "2022-09-14T09:50:01.290Z"
   },
   {
    "duration": 2039,
    "start_time": "2022-09-14T09:50:35.457Z"
   },
   {
    "duration": 2373,
    "start_time": "2022-09-14T09:50:54.904Z"
   },
   {
    "duration": 17,
    "start_time": "2022-09-14T09:51:27.141Z"
   },
   {
    "duration": 127,
    "start_time": "2022-09-14T09:51:42.939Z"
   },
   {
    "duration": 10,
    "start_time": "2022-09-14T10:10:51.611Z"
   },
   {
    "duration": 314,
    "start_time": "2022-09-14T10:11:03.884Z"
   },
   {
    "duration": 291,
    "start_time": "2022-09-14T10:11:28.122Z"
   },
   {
    "duration": 7,
    "start_time": "2022-09-14T10:12:11.977Z"
   },
   {
    "duration": 426,
    "start_time": "2022-09-14T10:12:41.908Z"
   },
   {
    "duration": 311,
    "start_time": "2022-09-14T10:12:45.081Z"
   },
   {
    "duration": 276,
    "start_time": "2022-09-14T10:13:32.469Z"
   },
   {
    "duration": 315,
    "start_time": "2022-09-14T10:13:45.319Z"
   },
   {
    "duration": 288,
    "start_time": "2022-09-14T10:18:01.835Z"
   },
   {
    "duration": 661,
    "start_time": "2022-09-14T10:18:14.049Z"
   },
   {
    "duration": 655,
    "start_time": "2022-09-14T10:18:17.255Z"
   },
   {
    "duration": 683,
    "start_time": "2022-09-14T10:19:21.921Z"
   },
   {
    "duration": 904,
    "start_time": "2022-09-14T10:19:24.737Z"
   },
   {
    "duration": 8,
    "start_time": "2022-09-14T10:20:29.453Z"
   },
   {
    "duration": 722,
    "start_time": "2022-09-14T10:20:31.373Z"
   },
   {
    "duration": 699,
    "start_time": "2022-09-14T10:20:34.304Z"
   },
   {
    "duration": 10,
    "start_time": "2022-09-14T10:21:11.969Z"
   },
   {
    "duration": 101,
    "start_time": "2022-09-14T10:21:24.117Z"
   },
   {
    "duration": 719,
    "start_time": "2022-09-14T10:21:28.739Z"
   },
   {
    "duration": 3,
    "start_time": "2022-09-14T10:26:40.299Z"
   },
   {
    "duration": 4,
    "start_time": "2022-09-14T10:31:00.537Z"
   },
   {
    "duration": 4,
    "start_time": "2022-09-14T10:33:05.247Z"
   },
   {
    "duration": 1027198,
    "start_time": "2022-09-14T10:36:06.110Z"
   },
   {
    "duration": 4,
    "start_time": "2022-09-14T10:53:51.116Z"
   },
   {
    "duration": 4,
    "start_time": "2022-09-14T10:54:18.637Z"
   },
   {
    "duration": 5,
    "start_time": "2022-09-14T10:54:58.244Z"
   },
   {
    "duration": 157,
    "start_time": "2022-09-14T10:55:08.013Z"
   },
   {
    "duration": 20,
    "start_time": "2022-09-14T10:58:27.235Z"
   },
   {
    "duration": 4,
    "start_time": "2022-09-14T11:06:59.634Z"
   },
   {
    "duration": 525,
    "start_time": "2022-09-14T11:09:43.935Z"
   },
   {
    "duration": 4,
    "start_time": "2022-09-14T11:17:50.780Z"
   },
   {
    "duration": 72,
    "start_time": "2022-09-14T11:28:18.839Z"
   },
   {
    "duration": 32,
    "start_time": "2022-09-14T11:28:22.430Z"
   },
   {
    "duration": 1269,
    "start_time": "2022-09-14T11:32:02.285Z"
   },
   {
    "duration": 29,
    "start_time": "2022-09-14T11:32:03.556Z"
   },
   {
    "duration": 12,
    "start_time": "2022-09-14T11:32:03.587Z"
   },
   {
    "duration": 15,
    "start_time": "2022-09-14T11:32:03.601Z"
   },
   {
    "duration": 6,
    "start_time": "2022-09-14T11:32:03.617Z"
   },
   {
    "duration": 6,
    "start_time": "2022-09-14T11:32:03.625Z"
   },
   {
    "duration": 6,
    "start_time": "2022-09-14T11:32:03.632Z"
   },
   {
    "duration": 9,
    "start_time": "2022-09-14T11:32:03.639Z"
   },
   {
    "duration": 5,
    "start_time": "2022-09-14T11:32:03.650Z"
   },
   {
    "duration": 12,
    "start_time": "2022-09-14T11:32:03.657Z"
   },
   {
    "duration": 1154,
    "start_time": "2022-09-14T11:32:03.671Z"
   },
   {
    "duration": 185,
    "start_time": "2022-09-14T11:32:04.826Z"
   },
   {
    "duration": 11,
    "start_time": "2022-09-14T11:32:05.013Z"
   },
   {
    "duration": 718,
    "start_time": "2022-09-14T11:32:05.026Z"
   },
   {
    "duration": 873,
    "start_time": "2022-09-14T11:32:05.745Z"
   },
   {
    "duration": 523,
    "start_time": "2022-09-14T11:32:06.621Z"
   },
   {
    "duration": 4,
    "start_time": "2022-09-14T11:32:07.146Z"
   },
   {
    "duration": 9,
    "start_time": "2022-09-14T11:32:07.151Z"
   },
   {
    "duration": 992758,
    "start_time": "2022-09-14T11:32:07.161Z"
   },
   {
    "duration": 4,
    "start_time": "2022-09-14T11:48:39.921Z"
   },
   {
    "duration": 7,
    "start_time": "2022-09-14T11:48:39.926Z"
   },
   {
    "duration": 17,
    "start_time": "2022-09-14T11:48:39.934Z"
   },
   {
    "duration": 793,
    "start_time": "2022-09-14T11:48:39.953Z"
   },
   {
    "duration": 5,
    "start_time": "2022-09-14T11:48:40.748Z"
   },
   {
    "duration": 1769,
    "start_time": "2022-09-14T15:38:01.954Z"
   },
   {
    "duration": 31,
    "start_time": "2022-09-14T15:38:03.725Z"
   },
   {
    "duration": 14,
    "start_time": "2022-09-14T15:38:03.758Z"
   },
   {
    "duration": 19,
    "start_time": "2022-09-14T15:38:03.774Z"
   },
   {
    "duration": 7,
    "start_time": "2022-09-14T15:38:03.795Z"
   },
   {
    "duration": 15,
    "start_time": "2022-09-14T15:38:03.804Z"
   },
   {
    "duration": 8,
    "start_time": "2022-09-14T15:38:03.821Z"
   },
   {
    "duration": 8,
    "start_time": "2022-09-14T15:38:03.831Z"
   },
   {
    "duration": 5,
    "start_time": "2022-09-14T15:38:03.841Z"
   },
   {
    "duration": 8,
    "start_time": "2022-09-14T15:38:03.849Z"
   },
   {
    "duration": 1303,
    "start_time": "2022-09-14T15:38:03.859Z"
   },
   {
    "duration": 251,
    "start_time": "2022-09-14T15:38:05.163Z"
   },
   {
    "duration": 9,
    "start_time": "2022-09-14T15:38:05.416Z"
   },
   {
    "duration": 774,
    "start_time": "2022-09-14T15:38:05.427Z"
   },
   {
    "duration": 945,
    "start_time": "2022-09-14T15:38:06.203Z"
   },
   {
    "duration": 584,
    "start_time": "2022-09-14T15:38:07.150Z"
   },
   {
    "duration": 5,
    "start_time": "2022-09-14T15:38:07.736Z"
   },
   {
    "duration": 10,
    "start_time": "2022-09-14T15:38:07.742Z"
   },
   {
    "duration": 393716,
    "start_time": "2022-09-14T15:38:07.753Z"
   },
   {
    "duration": 10,
    "start_time": "2022-09-14T15:44:41.471Z"
   },
   {
    "duration": 0,
    "start_time": "2022-09-14T15:44:41.483Z"
   },
   {
    "duration": 0,
    "start_time": "2022-09-14T15:44:41.484Z"
   },
   {
    "duration": 0,
    "start_time": "2022-09-14T15:44:41.485Z"
   },
   {
    "duration": 0,
    "start_time": "2022-09-14T15:44:41.487Z"
   },
   {
    "duration": 0,
    "start_time": "2022-09-14T15:44:41.488Z"
   },
   {
    "duration": 22,
    "start_time": "2022-09-14T15:44:55.480Z"
   },
   {
    "duration": 18,
    "start_time": "2022-09-14T15:45:04.778Z"
   },
   {
    "duration": 15,
    "start_time": "2022-09-14T15:45:21.904Z"
   },
   {
    "duration": 20,
    "start_time": "2022-09-14T15:45:28.937Z"
   },
   {
    "duration": 868,
    "start_time": "2022-09-14T15:45:31.144Z"
   },
   {
    "duration": 12,
    "start_time": "2022-09-14T15:47:29.577Z"
   },
   {
    "duration": 888,
    "start_time": "2022-09-14T15:47:34.248Z"
   },
   {
    "duration": 817,
    "start_time": "2022-09-14T15:47:39.201Z"
   },
   {
    "duration": 390,
    "start_time": "2022-09-14T15:47:44.952Z"
   },
   {
    "duration": 43,
    "start_time": "2022-09-14T17:22:24.643Z"
   },
   {
    "duration": 1527,
    "start_time": "2022-09-14T17:22:29.670Z"
   },
   {
    "duration": 66,
    "start_time": "2022-09-14T17:22:31.199Z"
   },
   {
    "duration": 12,
    "start_time": "2022-09-14T17:22:31.267Z"
   },
   {
    "duration": 42,
    "start_time": "2022-09-14T17:22:31.281Z"
   },
   {
    "duration": 6,
    "start_time": "2022-09-14T17:22:31.324Z"
   },
   {
    "duration": 30,
    "start_time": "2022-09-14T17:22:31.331Z"
   },
   {
    "duration": 11,
    "start_time": "2022-09-14T17:22:31.362Z"
   },
   {
    "duration": 14,
    "start_time": "2022-09-14T17:22:31.374Z"
   },
   {
    "duration": 13,
    "start_time": "2022-09-14T17:22:31.389Z"
   },
   {
    "duration": 24,
    "start_time": "2022-09-14T17:22:31.404Z"
   },
   {
    "duration": 1092,
    "start_time": "2022-09-14T17:22:31.430Z"
   },
   {
    "duration": 206,
    "start_time": "2022-09-14T17:22:32.523Z"
   },
   {
    "duration": 8,
    "start_time": "2022-09-14T17:22:32.732Z"
   },
   {
    "duration": 765,
    "start_time": "2022-09-14T17:22:32.742Z"
   },
   {
    "duration": 7,
    "start_time": "2022-09-14T17:22:37.184Z"
   },
   {
    "duration": 776,
    "start_time": "2022-09-14T17:22:39.970Z"
   },
   {
    "duration": 741,
    "start_time": "2022-09-14T17:23:11.955Z"
   },
   {
    "duration": 804,
    "start_time": "2022-09-14T17:23:24.333Z"
   },
   {
    "duration": 777,
    "start_time": "2022-09-14T17:23:37.612Z"
   },
   {
    "duration": 795,
    "start_time": "2022-09-14T17:24:21.931Z"
   },
   {
    "duration": 803,
    "start_time": "2022-09-14T17:24:29.531Z"
   },
   {
    "duration": 698,
    "start_time": "2022-09-14T17:24:39.688Z"
   },
   {
    "duration": 670,
    "start_time": "2022-09-14T17:24:48.804Z"
   },
   {
    "duration": 2665,
    "start_time": "2023-06-17T12:50:45.217Z"
   },
   {
    "duration": 82,
    "start_time": "2023-06-17T12:50:47.884Z"
   },
   {
    "duration": 14,
    "start_time": "2023-06-17T12:50:47.968Z"
   },
   {
    "duration": 67,
    "start_time": "2023-06-17T12:50:47.984Z"
   },
   {
    "duration": 7,
    "start_time": "2023-06-17T12:50:48.055Z"
   },
   {
    "duration": 6,
    "start_time": "2023-06-17T12:50:48.064Z"
   },
   {
    "duration": 11,
    "start_time": "2023-06-17T12:50:48.072Z"
   },
   {
    "duration": 68,
    "start_time": "2023-06-17T12:50:48.085Z"
   },
   {
    "duration": 5,
    "start_time": "2023-06-17T12:50:48.155Z"
   },
   {
    "duration": 8,
    "start_time": "2023-06-17T12:50:48.161Z"
   },
   {
    "duration": 2691,
    "start_time": "2023-06-17T12:50:48.171Z"
   },
   {
    "duration": 488,
    "start_time": "2023-06-17T12:50:50.864Z"
   },
   {
    "duration": 9,
    "start_time": "2023-06-17T12:50:51.354Z"
   },
   {
    "duration": 1502,
    "start_time": "2023-06-17T12:50:51.366Z"
   },
   {
    "duration": 1811,
    "start_time": "2023-06-17T12:50:52.870Z"
   },
   {
    "duration": 1296,
    "start_time": "2023-06-17T12:50:54.683Z"
   },
   {
    "duration": 5,
    "start_time": "2023-06-17T12:50:55.981Z"
   },
   {
    "duration": 12,
    "start_time": "2023-06-17T12:50:55.988Z"
   },
   {
    "duration": 1918442,
    "start_time": "2023-06-17T12:50:56.002Z"
   },
   {
    "duration": 18,
    "start_time": "2023-06-17T13:22:54.446Z"
   },
   {
    "duration": 12,
    "start_time": "2023-06-17T13:22:54.470Z"
   },
   {
    "duration": 32,
    "start_time": "2023-06-17T13:22:54.485Z"
   },
   {
    "duration": 888,
    "start_time": "2023-06-17T13:22:54.519Z"
   },
   {
    "duration": 7,
    "start_time": "2023-06-17T13:22:55.408Z"
   }
  ],
  "kernelspec": {
   "display_name": "Python 3 (ipykernel)",
   "language": "python",
   "name": "python3"
  },
  "language_info": {
   "codemirror_mode": {
    "name": "ipython",
    "version": 3
   },
   "file_extension": ".py",
   "mimetype": "text/x-python",
   "name": "python",
   "nbconvert_exporter": "python",
   "pygments_lexer": "ipython3",
   "version": "3.10.11"
  },
  "toc": {
   "base_numbering": 1,
   "nav_menu": {},
   "number_sections": true,
   "sideBar": true,
   "skip_h1_title": true,
   "title_cell": "Table of Contents",
   "title_sidebar": "Contents",
   "toc_cell": false,
   "toc_position": {},
   "toc_section_display": true,
   "toc_window_display": false
  }
 },
 "nbformat": 4,
 "nbformat_minor": 2
}
