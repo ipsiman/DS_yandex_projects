{
 "cells": [
  {
   "cell_type": "markdown",
   "metadata": {},
   "source": [
    "# Прогнозирование оттока клиентов в сети отелей «Как в гостях»"
   ]
  },
  {
   "cell_type": "markdown",
   "metadata": {},
   "source": [
    "## Описание проекта"
   ]
  },
  {
   "cell_type": "markdown",
   "metadata": {},
   "source": [
    "Заказчик этого исследования — сеть отелей «Как в гостях».\n",
    "\n",
    "Чтобы привлечь клиентов, эта сеть отелей добавила на свой сайт возможность забронировать номер без предоплаты. Однако если клиент отменял бронирование, то компания терпела убытки. Сотрудники отеля могли, например, закупить продукты к приезду гостя или просто не успеть найти другого клиента.\n",
    "\n",
    "Чтобы решить эту проблему, нам нужно разработать систему, которая предсказывает отказ от брони. Если модель покажет, что бронь будет отменена, то клиенту предлагается внести депозит. Размер депозита — 80% от стоимости номера за одни сутки и затрат на разовую уборку. Деньги будут списаны со счёта клиента, если он всё же отменит бронь."
   ]
  },
  {
   "cell_type": "markdown",
   "metadata": {},
   "source": [
    "### Бизнес-метрика и другие данные"
   ]
  },
  {
   "cell_type": "markdown",
   "metadata": {},
   "source": [
    "Основная бизнес-метрика для любой сети отелей — её прибыль. Прибыль отеля — это разница между стоимостью номера за все ночи и затраты на обслуживание: как при подготовке номера, так и при проживании постояльца.\n",
    "\n",
    "В отеле есть несколько типов номеров. В зависимости от типа номера назначается стоимость за одну ночь. Есть также затраты на уборку. Если клиент снял номер надолго, то убираются каждые два дня.\n",
    "\n",
    "Стоимость номеров отеля:\n",
    "- категория A: за ночь — 1 000, разовое обслуживание — 400;\n",
    "- категория B: за ночь — 800, разовое обслуживание — 350;\n",
    "- категория C: за ночь — 600, разовое обслуживание — 350;\n",
    "- категория D: за ночь — 550, разовое обслуживание — 150;\n",
    "- категория E: за ночь — 500, разовое обслуживание — 150;\n",
    "- категория F: за ночь — 450, разовое обслуживание — 150;\n",
    "- категория G: за ночь — 350, разовое обслуживание — 150.\n",
    "\n",
    "В ценовой политике отеля используются сезонные коэффициенты: весной и осенью цены повышаются на 20%, летом — на 40%.\n",
    "\n",
    "Убытки отеля в случае отмены брони номера — это стоимость одной уборки и одной ночи с учётом сезонного коэффициента.\n",
    "\n",
    "На разработку системы прогнозирования заложен бюджет — 400 000. При этом необходимо учесть, что внедрение модели должно окупиться за тестовый период. Затраты на разработку должны быть меньше той выручки, которую система принесёт компании."
   ]
  },
  {
   "cell_type": "markdown",
   "metadata": {},
   "source": [
    "### Описание данных"
   ]
  },
  {
   "cell_type": "markdown",
   "metadata": {},
   "source": [
    "В таблицах hotel_train и hotel_test содержатся одинаковые столбцы:\n",
    "- `id` — номер записи;\n",
    "- `adults` — количество взрослых постояльцев;\n",
    "- `arrival_date_year` — год заезда;\n",
    "- `arrival_date_month` — месяц заезда;\n",
    "- `arrival_date_week_number` — неделя заезда;\n",
    "- `arrival_date_day_of_month` — день заезда;\n",
    "- `babies` — количество младенцев;\n",
    "- `booking_changes` — количество изменений параметров заказа;\n",
    "- `children` — количество детей от 3 до 14 лет;\n",
    "- `country` — гражданство постояльца;\n",
    "- `customer_type` — тип заказчика:\n",
    "    - `Contract` — договор с юридическим лицом;\n",
    "    - `Group` — групповой заезд;\n",
    "    - `Transient` — не связано с договором или групповым заездом;\n",
    "    - `Transient-party` — не связано с договором или групповым заездом, но связано с бронированием типа Transient.\n",
    "- `days_in_waiting_list` — сколько дней заказ ожидал подтверждения;\n",
    "- `distribution_channel` — канал дистрибуции заказа;\n",
    "- `is_canceled` — отмена заказа;\n",
    "- `is_repeated_guest` — признак того, что гость бронирует номер второй раз;\n",
    "- `lead_time` — количество дней между датой бронирования и датой прибытия;\n",
    "- `meal` — опции заказа:\n",
    "    - `SC` — нет дополнительных опций;\n",
    "    - `BB` — включён завтрак;\n",
    "    - `HB` — включён завтрак и обед;\n",
    "    - `FB` — включён завтрак, обед и ужин.\n",
    "- `previous_bookings_not_canceled` — количество подтверждённых заказов у клиента;\n",
    "- `previous_cancellations` — количество отменённых заказов у клиента;\n",
    "- `required_car_parking_spaces` — необходимость места для автомобиля;\n",
    "- `reserved_room_type` — тип забронированной комнаты;\n",
    "- `stays_in_weekend_nights` — количество ночей в выходные дни;\n",
    "- `stays_in_week_nights` — количество ночей в будние дни;\n",
    "- `total_nights` — общее количество ночей;\n",
    "- `total_of_special_requests` — количество специальных отметок."
   ]
  },
  {
   "cell_type": "markdown",
   "metadata": {},
   "source": [
    "### План работ"
   ]
  },
  {
   "cell_type": "markdown",
   "metadata": {},
   "source": [
    "- Откроем файлы и изучим данные.\n",
    "- Сделаем предобработку и исследовательский анализ данных.\n",
    "- Вычислим бизнес-метрику.\n",
    "- Разработаем модели ML, проверим и выберем лучшую.\n",
    "- Выявим признаки \"ненадежного\" клиента.\n",
    "- Сделаем общий вывод."
   ]
  },
  {
   "cell_type": "markdown",
   "metadata": {},
   "source": [
    "## Обзор файлов с данными"
   ]
  },
  {
   "cell_type": "code",
   "execution_count": 1,
   "metadata": {},
   "outputs": [],
   "source": [
    "import pandas as pd\n",
    "import seaborn as sns\n",
    "import matplotlib.pyplot as plt\n",
    "import numpy as np\n",
    "\n",
    "from sklearn.linear_model import LogisticRegression\n",
    "from sklearn.tree import DecisionTreeClassifier\n",
    "from sklearn.ensemble import RandomForestClassifier\n",
    "\n",
    "from sklearn.model_selection import train_test_split, GridSearchCV, cross_val_score\n",
    "from sklearn.metrics import f1_score, roc_auc_score, roc_curve, classification_report\n",
    "from sklearn.utils import shuffle\n",
    "from sklearn.preprocessing import StandardScaler, OrdinalEncoder\n",
    "from tqdm.notebook import trange"
   ]
  },
  {
   "cell_type": "markdown",
   "metadata": {},
   "source": [
    "Откроем файлы и изучим данные."
   ]
  },
  {
   "cell_type": "code",
   "execution_count": 2,
   "metadata": {},
   "outputs": [],
   "source": [
    "df_train = pd.read_csv('/datasets/hotel_train.csv')\n",
    "df_test = pd.read_csv('/datasets/hotel_test.csv')"
   ]
  },
  {
   "cell_type": "code",
   "execution_count": 3,
   "metadata": {},
   "outputs": [
    {
     "data": {
      "text/html": [
       "<div>\n",
       "<style scoped>\n",
       "    .dataframe tbody tr th:only-of-type {\n",
       "        vertical-align: middle;\n",
       "    }\n",
       "\n",
       "    .dataframe tbody tr th {\n",
       "        vertical-align: top;\n",
       "    }\n",
       "\n",
       "    .dataframe thead th {\n",
       "        text-align: right;\n",
       "    }\n",
       "</style>\n",
       "<table border=\"1\" class=\"dataframe\">\n",
       "  <thead>\n",
       "    <tr style=\"text-align: right;\">\n",
       "      <th></th>\n",
       "      <th>id</th>\n",
       "      <th>is_canceled</th>\n",
       "      <th>lead_time</th>\n",
       "      <th>arrival_date_year</th>\n",
       "      <th>arrival_date_week_number</th>\n",
       "      <th>arrival_date_day_of_month</th>\n",
       "      <th>stays_in_weekend_nights</th>\n",
       "      <th>stays_in_week_nights</th>\n",
       "      <th>adults</th>\n",
       "      <th>children</th>\n",
       "      <th>babies</th>\n",
       "      <th>is_repeated_guest</th>\n",
       "      <th>previous_cancellations</th>\n",
       "      <th>previous_bookings_not_canceled</th>\n",
       "      <th>booking_changes</th>\n",
       "      <th>days_in_waiting_list</th>\n",
       "      <th>required_car_parking_spaces</th>\n",
       "      <th>total_of_special_requests</th>\n",
       "      <th>total_nights</th>\n",
       "    </tr>\n",
       "  </thead>\n",
       "  <tbody>\n",
       "    <tr>\n",
       "      <th>count</th>\n",
       "      <td>65229.000000</td>\n",
       "      <td>65229.000000</td>\n",
       "      <td>65229.000000</td>\n",
       "      <td>65229.000000</td>\n",
       "      <td>65229.000000</td>\n",
       "      <td>65229.000000</td>\n",
       "      <td>65229.000000</td>\n",
       "      <td>65229.000000</td>\n",
       "      <td>65229.000000</td>\n",
       "      <td>65229.000000</td>\n",
       "      <td>65229.000000</td>\n",
       "      <td>65229.000000</td>\n",
       "      <td>65229.000000</td>\n",
       "      <td>65229.000000</td>\n",
       "      <td>65229.000000</td>\n",
       "      <td>65229.000000</td>\n",
       "      <td>65229.000000</td>\n",
       "      <td>65229.000000</td>\n",
       "      <td>65229.000000</td>\n",
       "    </tr>\n",
       "    <tr>\n",
       "      <th>mean</th>\n",
       "      <td>43544.069172</td>\n",
       "      <td>0.368609</td>\n",
       "      <td>96.337917</td>\n",
       "      <td>2015.719021</td>\n",
       "      <td>31.339772</td>\n",
       "      <td>15.847813</td>\n",
       "      <td>0.825185</td>\n",
       "      <td>2.224793</td>\n",
       "      <td>1.836576</td>\n",
       "      <td>0.074890</td>\n",
       "      <td>0.007236</td>\n",
       "      <td>0.027151</td>\n",
       "      <td>0.128915</td>\n",
       "      <td>0.107713</td>\n",
       "      <td>0.194269</td>\n",
       "      <td>3.334422</td>\n",
       "      <td>0.056647</td>\n",
       "      <td>0.512763</td>\n",
       "      <td>3.049978</td>\n",
       "    </tr>\n",
       "    <tr>\n",
       "      <th>std</th>\n",
       "      <td>25614.858971</td>\n",
       "      <td>0.482431</td>\n",
       "      <td>96.127545</td>\n",
       "      <td>0.449481</td>\n",
       "      <td>13.464024</td>\n",
       "      <td>8.748182</td>\n",
       "      <td>0.853477</td>\n",
       "      <td>1.354992</td>\n",
       "      <td>0.480245</td>\n",
       "      <td>0.334243</td>\n",
       "      <td>0.098790</td>\n",
       "      <td>0.162523</td>\n",
       "      <td>0.965326</td>\n",
       "      <td>1.326638</td>\n",
       "      <td>0.593838</td>\n",
       "      <td>18.239606</td>\n",
       "      <td>0.232094</td>\n",
       "      <td>0.752590</td>\n",
       "      <td>1.738108</td>\n",
       "    </tr>\n",
       "    <tr>\n",
       "      <th>min</th>\n",
       "      <td>0.000000</td>\n",
       "      <td>0.000000</td>\n",
       "      <td>0.000000</td>\n",
       "      <td>2015.000000</td>\n",
       "      <td>1.000000</td>\n",
       "      <td>1.000000</td>\n",
       "      <td>0.000000</td>\n",
       "      <td>0.000000</td>\n",
       "      <td>0.000000</td>\n",
       "      <td>0.000000</td>\n",
       "      <td>0.000000</td>\n",
       "      <td>0.000000</td>\n",
       "      <td>0.000000</td>\n",
       "      <td>0.000000</td>\n",
       "      <td>0.000000</td>\n",
       "      <td>0.000000</td>\n",
       "      <td>0.000000</td>\n",
       "      <td>0.000000</td>\n",
       "      <td>1.000000</td>\n",
       "    </tr>\n",
       "    <tr>\n",
       "      <th>25%</th>\n",
       "      <td>19108.000000</td>\n",
       "      <td>0.000000</td>\n",
       "      <td>17.000000</td>\n",
       "      <td>2015.000000</td>\n",
       "      <td>21.000000</td>\n",
       "      <td>8.000000</td>\n",
       "      <td>0.000000</td>\n",
       "      <td>1.000000</td>\n",
       "      <td>2.000000</td>\n",
       "      <td>0.000000</td>\n",
       "      <td>0.000000</td>\n",
       "      <td>0.000000</td>\n",
       "      <td>0.000000</td>\n",
       "      <td>0.000000</td>\n",
       "      <td>0.000000</td>\n",
       "      <td>0.000000</td>\n",
       "      <td>0.000000</td>\n",
       "      <td>0.000000</td>\n",
       "      <td>2.000000</td>\n",
       "    </tr>\n",
       "    <tr>\n",
       "      <th>50%</th>\n",
       "      <td>40554.000000</td>\n",
       "      <td>0.000000</td>\n",
       "      <td>64.000000</td>\n",
       "      <td>2016.000000</td>\n",
       "      <td>34.000000</td>\n",
       "      <td>16.000000</td>\n",
       "      <td>1.000000</td>\n",
       "      <td>2.000000</td>\n",
       "      <td>2.000000</td>\n",
       "      <td>0.000000</td>\n",
       "      <td>0.000000</td>\n",
       "      <td>0.000000</td>\n",
       "      <td>0.000000</td>\n",
       "      <td>0.000000</td>\n",
       "      <td>0.000000</td>\n",
       "      <td>0.000000</td>\n",
       "      <td>0.000000</td>\n",
       "      <td>0.000000</td>\n",
       "      <td>3.000000</td>\n",
       "    </tr>\n",
       "    <tr>\n",
       "      <th>75%</th>\n",
       "      <td>67414.000000</td>\n",
       "      <td>1.000000</td>\n",
       "      <td>151.000000</td>\n",
       "      <td>2016.000000</td>\n",
       "      <td>42.000000</td>\n",
       "      <td>23.000000</td>\n",
       "      <td>2.000000</td>\n",
       "      <td>3.000000</td>\n",
       "      <td>2.000000</td>\n",
       "      <td>0.000000</td>\n",
       "      <td>0.000000</td>\n",
       "      <td>0.000000</td>\n",
       "      <td>0.000000</td>\n",
       "      <td>0.000000</td>\n",
       "      <td>0.000000</td>\n",
       "      <td>0.000000</td>\n",
       "      <td>0.000000</td>\n",
       "      <td>1.000000</td>\n",
       "      <td>4.000000</td>\n",
       "    </tr>\n",
       "    <tr>\n",
       "      <th>max</th>\n",
       "      <td>84121.000000</td>\n",
       "      <td>1.000000</td>\n",
       "      <td>374.000000</td>\n",
       "      <td>2016.000000</td>\n",
       "      <td>53.000000</td>\n",
       "      <td>31.000000</td>\n",
       "      <td>4.000000</td>\n",
       "      <td>6.000000</td>\n",
       "      <td>4.000000</td>\n",
       "      <td>3.000000</td>\n",
       "      <td>10.000000</td>\n",
       "      <td>1.000000</td>\n",
       "      <td>26.000000</td>\n",
       "      <td>58.000000</td>\n",
       "      <td>17.000000</td>\n",
       "      <td>259.000000</td>\n",
       "      <td>3.000000</td>\n",
       "      <td>5.000000</td>\n",
       "      <td>10.000000</td>\n",
       "    </tr>\n",
       "  </tbody>\n",
       "</table>\n",
       "</div>"
      ],
      "text/plain": [
       "                 id   is_canceled     lead_time  arrival_date_year  \\\n",
       "count  65229.000000  65229.000000  65229.000000       65229.000000   \n",
       "mean   43544.069172      0.368609     96.337917        2015.719021   \n",
       "std    25614.858971      0.482431     96.127545           0.449481   \n",
       "min        0.000000      0.000000      0.000000        2015.000000   \n",
       "25%    19108.000000      0.000000     17.000000        2015.000000   \n",
       "50%    40554.000000      0.000000     64.000000        2016.000000   \n",
       "75%    67414.000000      1.000000    151.000000        2016.000000   \n",
       "max    84121.000000      1.000000    374.000000        2016.000000   \n",
       "\n",
       "       arrival_date_week_number  arrival_date_day_of_month  \\\n",
       "count              65229.000000               65229.000000   \n",
       "mean                  31.339772                  15.847813   \n",
       "std                   13.464024                   8.748182   \n",
       "min                    1.000000                   1.000000   \n",
       "25%                   21.000000                   8.000000   \n",
       "50%                   34.000000                  16.000000   \n",
       "75%                   42.000000                  23.000000   \n",
       "max                   53.000000                  31.000000   \n",
       "\n",
       "       stays_in_weekend_nights  stays_in_week_nights        adults  \\\n",
       "count             65229.000000          65229.000000  65229.000000   \n",
       "mean                  0.825185              2.224793      1.836576   \n",
       "std                   0.853477              1.354992      0.480245   \n",
       "min                   0.000000              0.000000      0.000000   \n",
       "25%                   0.000000              1.000000      2.000000   \n",
       "50%                   1.000000              2.000000      2.000000   \n",
       "75%                   2.000000              3.000000      2.000000   \n",
       "max                   4.000000              6.000000      4.000000   \n",
       "\n",
       "           children        babies  is_repeated_guest  previous_cancellations  \\\n",
       "count  65229.000000  65229.000000       65229.000000            65229.000000   \n",
       "mean       0.074890      0.007236           0.027151                0.128915   \n",
       "std        0.334243      0.098790           0.162523                0.965326   \n",
       "min        0.000000      0.000000           0.000000                0.000000   \n",
       "25%        0.000000      0.000000           0.000000                0.000000   \n",
       "50%        0.000000      0.000000           0.000000                0.000000   \n",
       "75%        0.000000      0.000000           0.000000                0.000000   \n",
       "max        3.000000     10.000000           1.000000               26.000000   \n",
       "\n",
       "       previous_bookings_not_canceled  booking_changes  days_in_waiting_list  \\\n",
       "count                    65229.000000     65229.000000          65229.000000   \n",
       "mean                         0.107713         0.194269              3.334422   \n",
       "std                          1.326638         0.593838             18.239606   \n",
       "min                          0.000000         0.000000              0.000000   \n",
       "25%                          0.000000         0.000000              0.000000   \n",
       "50%                          0.000000         0.000000              0.000000   \n",
       "75%                          0.000000         0.000000              0.000000   \n",
       "max                         58.000000        17.000000            259.000000   \n",
       "\n",
       "       required_car_parking_spaces  total_of_special_requests  total_nights  \n",
       "count                 65229.000000               65229.000000  65229.000000  \n",
       "mean                      0.056647                   0.512763      3.049978  \n",
       "std                       0.232094                   0.752590      1.738108  \n",
       "min                       0.000000                   0.000000      1.000000  \n",
       "25%                       0.000000                   0.000000      2.000000  \n",
       "50%                       0.000000                   0.000000      3.000000  \n",
       "75%                       0.000000                   1.000000      4.000000  \n",
       "max                       3.000000                   5.000000     10.000000  "
      ]
     },
     "execution_count": 3,
     "metadata": {},
     "output_type": "execute_result"
    }
   ],
   "source": [
    "df_train.describe()"
   ]
  },
  {
   "cell_type": "code",
   "execution_count": 4,
   "metadata": {},
   "outputs": [
    {
     "data": {
      "text/html": [
       "<div>\n",
       "<style scoped>\n",
       "    .dataframe tbody tr th:only-of-type {\n",
       "        vertical-align: middle;\n",
       "    }\n",
       "\n",
       "    .dataframe tbody tr th {\n",
       "        vertical-align: top;\n",
       "    }\n",
       "\n",
       "    .dataframe thead th {\n",
       "        text-align: right;\n",
       "    }\n",
       "</style>\n",
       "<table border=\"1\" class=\"dataframe\">\n",
       "  <thead>\n",
       "    <tr style=\"text-align: right;\">\n",
       "      <th></th>\n",
       "      <th>id</th>\n",
       "      <th>is_canceled</th>\n",
       "      <th>lead_time</th>\n",
       "      <th>arrival_date_year</th>\n",
       "      <th>arrival_date_week_number</th>\n",
       "      <th>arrival_date_day_of_month</th>\n",
       "      <th>stays_in_weekend_nights</th>\n",
       "      <th>stays_in_week_nights</th>\n",
       "      <th>adults</th>\n",
       "      <th>children</th>\n",
       "      <th>babies</th>\n",
       "      <th>is_repeated_guest</th>\n",
       "      <th>previous_cancellations</th>\n",
       "      <th>previous_bookings_not_canceled</th>\n",
       "      <th>booking_changes</th>\n",
       "      <th>days_in_waiting_list</th>\n",
       "      <th>required_car_parking_spaces</th>\n",
       "      <th>total_of_special_requests</th>\n",
       "      <th>total_nights</th>\n",
       "    </tr>\n",
       "  </thead>\n",
       "  <tbody>\n",
       "    <tr>\n",
       "      <th>count</th>\n",
       "      <td>32412.000000</td>\n",
       "      <td>32412.000000</td>\n",
       "      <td>32412.000000</td>\n",
       "      <td>32412.0</td>\n",
       "      <td>32412.000000</td>\n",
       "      <td>32412.000000</td>\n",
       "      <td>32412.000000</td>\n",
       "      <td>32412.00000</td>\n",
       "      <td>32412.000000</td>\n",
       "      <td>32412.000000</td>\n",
       "      <td>32412.000000</td>\n",
       "      <td>32412.000000</td>\n",
       "      <td>32412.000000</td>\n",
       "      <td>32412.000000</td>\n",
       "      <td>32412.000000</td>\n",
       "      <td>32412.000000</td>\n",
       "      <td>32412.000000</td>\n",
       "      <td>32412.000000</td>\n",
       "      <td>32412.000000</td>\n",
       "    </tr>\n",
       "    <tr>\n",
       "      <th>mean</th>\n",
       "      <td>60131.505183</td>\n",
       "      <td>0.388467</td>\n",
       "      <td>97.587869</td>\n",
       "      <td>2017.0</td>\n",
       "      <td>17.804054</td>\n",
       "      <td>15.656948</td>\n",
       "      <td>0.867888</td>\n",
       "      <td>2.34009</td>\n",
       "      <td>1.858602</td>\n",
       "      <td>0.083765</td>\n",
       "      <td>0.005523</td>\n",
       "      <td>0.031377</td>\n",
       "      <td>0.011601</td>\n",
       "      <td>0.171418</td>\n",
       "      <td>0.216741</td>\n",
       "      <td>0.262341</td>\n",
       "      <td>0.046248</td>\n",
       "      <td>0.657781</td>\n",
       "      <td>3.207979</td>\n",
       "    </tr>\n",
       "    <tr>\n",
       "      <th>std</th>\n",
       "      <td>29953.586177</td>\n",
       "      <td>0.487409</td>\n",
       "      <td>86.507146</td>\n",
       "      <td>0.0</td>\n",
       "      <td>9.177384</td>\n",
       "      <td>8.766429</td>\n",
       "      <td>0.853394</td>\n",
       "      <td>1.37517</td>\n",
       "      <td>0.489341</td>\n",
       "      <td>0.343470</td>\n",
       "      <td>0.075757</td>\n",
       "      <td>0.174338</td>\n",
       "      <td>0.180473</td>\n",
       "      <td>1.875170</td>\n",
       "      <td>0.640551</td>\n",
       "      <td>4.733027</td>\n",
       "      <td>0.219367</td>\n",
       "      <td>0.834341</td>\n",
       "      <td>1.738683</td>\n",
       "    </tr>\n",
       "    <tr>\n",
       "      <th>min</th>\n",
       "      <td>6086.000000</td>\n",
       "      <td>0.000000</td>\n",
       "      <td>0.000000</td>\n",
       "      <td>2017.0</td>\n",
       "      <td>1.000000</td>\n",
       "      <td>1.000000</td>\n",
       "      <td>0.000000</td>\n",
       "      <td>0.00000</td>\n",
       "      <td>0.000000</td>\n",
       "      <td>0.000000</td>\n",
       "      <td>0.000000</td>\n",
       "      <td>0.000000</td>\n",
       "      <td>0.000000</td>\n",
       "      <td>0.000000</td>\n",
       "      <td>0.000000</td>\n",
       "      <td>0.000000</td>\n",
       "      <td>0.000000</td>\n",
       "      <td>0.000000</td>\n",
       "      <td>1.000000</td>\n",
       "    </tr>\n",
       "    <tr>\n",
       "      <th>25%</th>\n",
       "      <td>45291.750000</td>\n",
       "      <td>0.000000</td>\n",
       "      <td>23.000000</td>\n",
       "      <td>2017.0</td>\n",
       "      <td>10.000000</td>\n",
       "      <td>8.000000</td>\n",
       "      <td>0.000000</td>\n",
       "      <td>1.00000</td>\n",
       "      <td>2.000000</td>\n",
       "      <td>0.000000</td>\n",
       "      <td>0.000000</td>\n",
       "      <td>0.000000</td>\n",
       "      <td>0.000000</td>\n",
       "      <td>0.000000</td>\n",
       "      <td>0.000000</td>\n",
       "      <td>0.000000</td>\n",
       "      <td>0.000000</td>\n",
       "      <td>0.000000</td>\n",
       "      <td>2.000000</td>\n",
       "    </tr>\n",
       "    <tr>\n",
       "      <th>50%</th>\n",
       "      <td>53394.500000</td>\n",
       "      <td>0.000000</td>\n",
       "      <td>76.000000</td>\n",
       "      <td>2017.0</td>\n",
       "      <td>18.000000</td>\n",
       "      <td>15.500000</td>\n",
       "      <td>1.000000</td>\n",
       "      <td>2.00000</td>\n",
       "      <td>2.000000</td>\n",
       "      <td>0.000000</td>\n",
       "      <td>0.000000</td>\n",
       "      <td>0.000000</td>\n",
       "      <td>0.000000</td>\n",
       "      <td>0.000000</td>\n",
       "      <td>0.000000</td>\n",
       "      <td>0.000000</td>\n",
       "      <td>0.000000</td>\n",
       "      <td>0.000000</td>\n",
       "      <td>3.000000</td>\n",
       "    </tr>\n",
       "    <tr>\n",
       "      <th>75%</th>\n",
       "      <td>89800.250000</td>\n",
       "      <td>1.000000</td>\n",
       "      <td>155.000000</td>\n",
       "      <td>2017.0</td>\n",
       "      <td>25.000000</td>\n",
       "      <td>23.000000</td>\n",
       "      <td>2.000000</td>\n",
       "      <td>3.00000</td>\n",
       "      <td>2.000000</td>\n",
       "      <td>0.000000</td>\n",
       "      <td>0.000000</td>\n",
       "      <td>0.000000</td>\n",
       "      <td>0.000000</td>\n",
       "      <td>0.000000</td>\n",
       "      <td>0.000000</td>\n",
       "      <td>0.000000</td>\n",
       "      <td>0.000000</td>\n",
       "      <td>1.000000</td>\n",
       "      <td>4.000000</td>\n",
       "    </tr>\n",
       "    <tr>\n",
       "      <th>max</th>\n",
       "      <td>97903.000000</td>\n",
       "      <td>1.000000</td>\n",
       "      <td>373.000000</td>\n",
       "      <td>2017.0</td>\n",
       "      <td>35.000000</td>\n",
       "      <td>31.000000</td>\n",
       "      <td>4.000000</td>\n",
       "      <td>6.00000</td>\n",
       "      <td>4.000000</td>\n",
       "      <td>3.000000</td>\n",
       "      <td>2.000000</td>\n",
       "      <td>1.000000</td>\n",
       "      <td>6.000000</td>\n",
       "      <td>72.000000</td>\n",
       "      <td>18.000000</td>\n",
       "      <td>223.000000</td>\n",
       "      <td>8.000000</td>\n",
       "      <td>5.000000</td>\n",
       "      <td>10.000000</td>\n",
       "    </tr>\n",
       "  </tbody>\n",
       "</table>\n",
       "</div>"
      ],
      "text/plain": [
       "                 id   is_canceled     lead_time  arrival_date_year  \\\n",
       "count  32412.000000  32412.000000  32412.000000            32412.0   \n",
       "mean   60131.505183      0.388467     97.587869             2017.0   \n",
       "std    29953.586177      0.487409     86.507146                0.0   \n",
       "min     6086.000000      0.000000      0.000000             2017.0   \n",
       "25%    45291.750000      0.000000     23.000000             2017.0   \n",
       "50%    53394.500000      0.000000     76.000000             2017.0   \n",
       "75%    89800.250000      1.000000    155.000000             2017.0   \n",
       "max    97903.000000      1.000000    373.000000             2017.0   \n",
       "\n",
       "       arrival_date_week_number  arrival_date_day_of_month  \\\n",
       "count              32412.000000               32412.000000   \n",
       "mean                  17.804054                  15.656948   \n",
       "std                    9.177384                   8.766429   \n",
       "min                    1.000000                   1.000000   \n",
       "25%                   10.000000                   8.000000   \n",
       "50%                   18.000000                  15.500000   \n",
       "75%                   25.000000                  23.000000   \n",
       "max                   35.000000                  31.000000   \n",
       "\n",
       "       stays_in_weekend_nights  stays_in_week_nights        adults  \\\n",
       "count             32412.000000           32412.00000  32412.000000   \n",
       "mean                  0.867888               2.34009      1.858602   \n",
       "std                   0.853394               1.37517      0.489341   \n",
       "min                   0.000000               0.00000      0.000000   \n",
       "25%                   0.000000               1.00000      2.000000   \n",
       "50%                   1.000000               2.00000      2.000000   \n",
       "75%                   2.000000               3.00000      2.000000   \n",
       "max                   4.000000               6.00000      4.000000   \n",
       "\n",
       "           children        babies  is_repeated_guest  previous_cancellations  \\\n",
       "count  32412.000000  32412.000000       32412.000000            32412.000000   \n",
       "mean       0.083765      0.005523           0.031377                0.011601   \n",
       "std        0.343470      0.075757           0.174338                0.180473   \n",
       "min        0.000000      0.000000           0.000000                0.000000   \n",
       "25%        0.000000      0.000000           0.000000                0.000000   \n",
       "50%        0.000000      0.000000           0.000000                0.000000   \n",
       "75%        0.000000      0.000000           0.000000                0.000000   \n",
       "max        3.000000      2.000000           1.000000                6.000000   \n",
       "\n",
       "       previous_bookings_not_canceled  booking_changes  days_in_waiting_list  \\\n",
       "count                    32412.000000     32412.000000          32412.000000   \n",
       "mean                         0.171418         0.216741              0.262341   \n",
       "std                          1.875170         0.640551              4.733027   \n",
       "min                          0.000000         0.000000              0.000000   \n",
       "25%                          0.000000         0.000000              0.000000   \n",
       "50%                          0.000000         0.000000              0.000000   \n",
       "75%                          0.000000         0.000000              0.000000   \n",
       "max                         72.000000        18.000000            223.000000   \n",
       "\n",
       "       required_car_parking_spaces  total_of_special_requests  total_nights  \n",
       "count                 32412.000000               32412.000000  32412.000000  \n",
       "mean                      0.046248                   0.657781      3.207979  \n",
       "std                       0.219367                   0.834341      1.738683  \n",
       "min                       0.000000                   0.000000      1.000000  \n",
       "25%                       0.000000                   0.000000      2.000000  \n",
       "50%                       0.000000                   0.000000      3.000000  \n",
       "75%                       0.000000                   1.000000      4.000000  \n",
       "max                       8.000000                   5.000000     10.000000  "
      ]
     },
     "execution_count": 4,
     "metadata": {},
     "output_type": "execute_result"
    }
   ],
   "source": [
    "df_test.describe()"
   ]
  },
  {
   "cell_type": "code",
   "execution_count": 5,
   "metadata": {},
   "outputs": [
    {
     "name": "stdout",
     "output_type": "stream",
     "text": [
      "<class 'pandas.core.frame.DataFrame'>\n",
      "RangeIndex: 65229 entries, 0 to 65228\n",
      "Data columns (total 25 columns):\n",
      " #   Column                          Non-Null Count  Dtype  \n",
      "---  ------                          --------------  -----  \n",
      " 0   id                              65229 non-null  int64  \n",
      " 1   is_canceled                     65229 non-null  int64  \n",
      " 2   lead_time                       65229 non-null  float64\n",
      " 3   arrival_date_year               65229 non-null  int64  \n",
      " 4   arrival_date_month              65229 non-null  object \n",
      " 5   arrival_date_week_number        65229 non-null  int64  \n",
      " 6   arrival_date_day_of_month       65229 non-null  int64  \n",
      " 7   stays_in_weekend_nights         65229 non-null  int64  \n",
      " 8   stays_in_week_nights            65229 non-null  int64  \n",
      " 9   adults                          65229 non-null  float64\n",
      " 10  children                        65229 non-null  float64\n",
      " 11  babies                          65229 non-null  float64\n",
      " 12  meal                            65229 non-null  object \n",
      " 13  country                         65229 non-null  object \n",
      " 14  distribution_channel            65229 non-null  object \n",
      " 15  is_repeated_guest               65229 non-null  int64  \n",
      " 16  previous_cancellations          65229 non-null  int64  \n",
      " 17  previous_bookings_not_canceled  65229 non-null  int64  \n",
      " 18  reserved_room_type              65229 non-null  object \n",
      " 19  booking_changes                 65229 non-null  int64  \n",
      " 20  days_in_waiting_list            65229 non-null  int64  \n",
      " 21  customer_type                   65229 non-null  object \n",
      " 22  required_car_parking_spaces     65229 non-null  int64  \n",
      " 23  total_of_special_requests       65229 non-null  int64  \n",
      " 24  total_nights                    65229 non-null  int64  \n",
      "dtypes: float64(4), int64(15), object(6)\n",
      "memory usage: 12.4+ MB\n"
     ]
    }
   ],
   "source": [
    "df_train.info()"
   ]
  },
  {
   "cell_type": "code",
   "execution_count": 6,
   "metadata": {},
   "outputs": [
    {
     "data": {
      "text/html": [
       "<div>\n",
       "<style scoped>\n",
       "    .dataframe tbody tr th:only-of-type {\n",
       "        vertical-align: middle;\n",
       "    }\n",
       "\n",
       "    .dataframe tbody tr th {\n",
       "        vertical-align: top;\n",
       "    }\n",
       "\n",
       "    .dataframe thead th {\n",
       "        text-align: right;\n",
       "    }\n",
       "</style>\n",
       "<table border=\"1\" class=\"dataframe\">\n",
       "  <thead>\n",
       "    <tr style=\"text-align: right;\">\n",
       "      <th></th>\n",
       "      <th>id</th>\n",
       "      <th>is_canceled</th>\n",
       "      <th>lead_time</th>\n",
       "      <th>arrival_date_year</th>\n",
       "      <th>arrival_date_month</th>\n",
       "      <th>arrival_date_week_number</th>\n",
       "      <th>arrival_date_day_of_month</th>\n",
       "      <th>stays_in_weekend_nights</th>\n",
       "      <th>stays_in_week_nights</th>\n",
       "      <th>adults</th>\n",
       "      <th>...</th>\n",
       "      <th>is_repeated_guest</th>\n",
       "      <th>previous_cancellations</th>\n",
       "      <th>previous_bookings_not_canceled</th>\n",
       "      <th>reserved_room_type</th>\n",
       "      <th>booking_changes</th>\n",
       "      <th>days_in_waiting_list</th>\n",
       "      <th>customer_type</th>\n",
       "      <th>required_car_parking_spaces</th>\n",
       "      <th>total_of_special_requests</th>\n",
       "      <th>total_nights</th>\n",
       "    </tr>\n",
       "  </thead>\n",
       "  <tbody>\n",
       "    <tr>\n",
       "      <th>0</th>\n",
       "      <td>0</td>\n",
       "      <td>0</td>\n",
       "      <td>7.0</td>\n",
       "      <td>2015</td>\n",
       "      <td>July</td>\n",
       "      <td>27</td>\n",
       "      <td>1</td>\n",
       "      <td>0</td>\n",
       "      <td>1</td>\n",
       "      <td>1.0</td>\n",
       "      <td>...</td>\n",
       "      <td>0</td>\n",
       "      <td>0</td>\n",
       "      <td>0</td>\n",
       "      <td>A</td>\n",
       "      <td>0</td>\n",
       "      <td>0</td>\n",
       "      <td>Transient</td>\n",
       "      <td>0</td>\n",
       "      <td>0</td>\n",
       "      <td>1</td>\n",
       "    </tr>\n",
       "    <tr>\n",
       "      <th>1</th>\n",
       "      <td>1</td>\n",
       "      <td>0</td>\n",
       "      <td>14.0</td>\n",
       "      <td>2015</td>\n",
       "      <td>July</td>\n",
       "      <td>27</td>\n",
       "      <td>1</td>\n",
       "      <td>0</td>\n",
       "      <td>2</td>\n",
       "      <td>2.0</td>\n",
       "      <td>...</td>\n",
       "      <td>0</td>\n",
       "      <td>0</td>\n",
       "      <td>0</td>\n",
       "      <td>A</td>\n",
       "      <td>0</td>\n",
       "      <td>0</td>\n",
       "      <td>Transient</td>\n",
       "      <td>0</td>\n",
       "      <td>1</td>\n",
       "      <td>2</td>\n",
       "    </tr>\n",
       "    <tr>\n",
       "      <th>2</th>\n",
       "      <td>2</td>\n",
       "      <td>0</td>\n",
       "      <td>0.0</td>\n",
       "      <td>2015</td>\n",
       "      <td>July</td>\n",
       "      <td>27</td>\n",
       "      <td>1</td>\n",
       "      <td>0</td>\n",
       "      <td>2</td>\n",
       "      <td>2.0</td>\n",
       "      <td>...</td>\n",
       "      <td>0</td>\n",
       "      <td>0</td>\n",
       "      <td>0</td>\n",
       "      <td>C</td>\n",
       "      <td>0</td>\n",
       "      <td>0</td>\n",
       "      <td>Transient</td>\n",
       "      <td>0</td>\n",
       "      <td>0</td>\n",
       "      <td>2</td>\n",
       "    </tr>\n",
       "    <tr>\n",
       "      <th>3</th>\n",
       "      <td>3</td>\n",
       "      <td>0</td>\n",
       "      <td>9.0</td>\n",
       "      <td>2015</td>\n",
       "      <td>July</td>\n",
       "      <td>27</td>\n",
       "      <td>1</td>\n",
       "      <td>0</td>\n",
       "      <td>2</td>\n",
       "      <td>2.0</td>\n",
       "      <td>...</td>\n",
       "      <td>0</td>\n",
       "      <td>0</td>\n",
       "      <td>0</td>\n",
       "      <td>C</td>\n",
       "      <td>0</td>\n",
       "      <td>0</td>\n",
       "      <td>Transient</td>\n",
       "      <td>0</td>\n",
       "      <td>1</td>\n",
       "      <td>2</td>\n",
       "    </tr>\n",
       "    <tr>\n",
       "      <th>4</th>\n",
       "      <td>4</td>\n",
       "      <td>1</td>\n",
       "      <td>85.0</td>\n",
       "      <td>2015</td>\n",
       "      <td>July</td>\n",
       "      <td>27</td>\n",
       "      <td>1</td>\n",
       "      <td>0</td>\n",
       "      <td>3</td>\n",
       "      <td>2.0</td>\n",
       "      <td>...</td>\n",
       "      <td>0</td>\n",
       "      <td>0</td>\n",
       "      <td>0</td>\n",
       "      <td>A</td>\n",
       "      <td>0</td>\n",
       "      <td>0</td>\n",
       "      <td>Transient</td>\n",
       "      <td>0</td>\n",
       "      <td>1</td>\n",
       "      <td>3</td>\n",
       "    </tr>\n",
       "  </tbody>\n",
       "</table>\n",
       "<p>5 rows × 25 columns</p>\n",
       "</div>"
      ],
      "text/plain": [
       "   id  is_canceled  lead_time  arrival_date_year arrival_date_month  \\\n",
       "0   0            0        7.0               2015               July   \n",
       "1   1            0       14.0               2015               July   \n",
       "2   2            0        0.0               2015               July   \n",
       "3   3            0        9.0               2015               July   \n",
       "4   4            1       85.0               2015               July   \n",
       "\n",
       "   arrival_date_week_number  arrival_date_day_of_month  \\\n",
       "0                        27                          1   \n",
       "1                        27                          1   \n",
       "2                        27                          1   \n",
       "3                        27                          1   \n",
       "4                        27                          1   \n",
       "\n",
       "   stays_in_weekend_nights  stays_in_week_nights  adults  ...  \\\n",
       "0                        0                     1     1.0  ...   \n",
       "1                        0                     2     2.0  ...   \n",
       "2                        0                     2     2.0  ...   \n",
       "3                        0                     2     2.0  ...   \n",
       "4                        0                     3     2.0  ...   \n",
       "\n",
       "   is_repeated_guest  previous_cancellations previous_bookings_not_canceled  \\\n",
       "0                  0                       0                              0   \n",
       "1                  0                       0                              0   \n",
       "2                  0                       0                              0   \n",
       "3                  0                       0                              0   \n",
       "4                  0                       0                              0   \n",
       "\n",
       "  reserved_room_type booking_changes  days_in_waiting_list  customer_type  \\\n",
       "0   A                              0                     0      Transient   \n",
       "1   A                              0                     0      Transient   \n",
       "2   C                              0                     0      Transient   \n",
       "3   C                              0                     0      Transient   \n",
       "4   A                              0                     0      Transient   \n",
       "\n",
       "   required_car_parking_spaces total_of_special_requests  total_nights  \n",
       "0                            0                         0             1  \n",
       "1                            0                         1             2  \n",
       "2                            0                         0             2  \n",
       "3                            0                         1             2  \n",
       "4                            0                         1             3  \n",
       "\n",
       "[5 rows x 25 columns]"
      ]
     },
     "execution_count": 6,
     "metadata": {},
     "output_type": "execute_result"
    }
   ],
   "source": [
    "df_train.head()"
   ]
  },
  {
   "cell_type": "markdown",
   "metadata": {},
   "source": [
    "При первичном анализе можно заметить аномальное значение колонки `babies` - 10 в тренировочных данных. Так же много колонок имеют неверный тип данных - float64, вместо int."
   ]
  },
  {
   "cell_type": "markdown",
   "metadata": {},
   "source": [
    "## Предобработка и исследовательский анализ данных"
   ]
  },
  {
   "cell_type": "markdown",
   "metadata": {},
   "source": [
    "Проверим данные на пропуски и явные дубликаты."
   ]
  },
  {
   "cell_type": "code",
   "execution_count": 7,
   "metadata": {
    "scrolled": true
   },
   "outputs": [
    {
     "name": "stdout",
     "output_type": "stream",
     "text": [
      "0\n",
      "0\n"
     ]
    }
   ],
   "source": [
    "print(df_train.duplicated().sum())\n",
    "print(df_test.duplicated().sum())"
   ]
  },
  {
   "cell_type": "code",
   "execution_count": 8,
   "metadata": {
    "scrolled": false
   },
   "outputs": [
    {
     "name": "stdout",
     "output_type": "stream",
     "text": [
      "id                                0\n",
      "is_canceled                       0\n",
      "lead_time                         0\n",
      "arrival_date_year                 0\n",
      "arrival_date_month                0\n",
      "arrival_date_week_number          0\n",
      "arrival_date_day_of_month         0\n",
      "stays_in_weekend_nights           0\n",
      "stays_in_week_nights              0\n",
      "adults                            0\n",
      "children                          0\n",
      "babies                            0\n",
      "meal                              0\n",
      "country                           0\n",
      "distribution_channel              0\n",
      "is_repeated_guest                 0\n",
      "previous_cancellations            0\n",
      "previous_bookings_not_canceled    0\n",
      "reserved_room_type                0\n",
      "booking_changes                   0\n",
      "days_in_waiting_list              0\n",
      "customer_type                     0\n",
      "required_car_parking_spaces       0\n",
      "total_of_special_requests         0\n",
      "total_nights                      0\n",
      "dtype: int64\n"
     ]
    }
   ],
   "source": [
    "print(df_train.isna().sum())"
   ]
  },
  {
   "cell_type": "code",
   "execution_count": 9,
   "metadata": {
    "scrolled": false
   },
   "outputs": [
    {
     "name": "stdout",
     "output_type": "stream",
     "text": [
      "id                                0\n",
      "is_canceled                       0\n",
      "lead_time                         0\n",
      "arrival_date_year                 0\n",
      "arrival_date_month                0\n",
      "arrival_date_week_number          0\n",
      "arrival_date_day_of_month         0\n",
      "stays_in_weekend_nights           0\n",
      "stays_in_week_nights              0\n",
      "adults                            0\n",
      "children                          0\n",
      "babies                            0\n",
      "meal                              0\n",
      "country                           0\n",
      "distribution_channel              0\n",
      "is_repeated_guest                 0\n",
      "previous_cancellations            0\n",
      "previous_bookings_not_canceled    0\n",
      "reserved_room_type                0\n",
      "booking_changes                   0\n",
      "days_in_waiting_list              0\n",
      "customer_type                     0\n",
      "required_car_parking_spaces       0\n",
      "total_of_special_requests         0\n",
      "total_nights                      0\n",
      "dtype: int64\n"
     ]
    }
   ],
   "source": [
    "print(df_test.isna().sum())"
   ]
  },
  {
   "cell_type": "markdown",
   "metadata": {},
   "source": [
    "Пропуски и явные дубликаты отсутствуют."
   ]
  },
  {
   "cell_type": "markdown",
   "metadata": {},
   "source": [
    "Колонки `adults`, `children` и `babies` не могут быть нулевые все вместе, проверим это."
   ]
  },
  {
   "cell_type": "code",
   "execution_count": 10,
   "metadata": {},
   "outputs": [
    {
     "data": {
      "text/html": [
       "<div>\n",
       "<style scoped>\n",
       "    .dataframe tbody tr th:only-of-type {\n",
       "        vertical-align: middle;\n",
       "    }\n",
       "\n",
       "    .dataframe tbody tr th {\n",
       "        vertical-align: top;\n",
       "    }\n",
       "\n",
       "    .dataframe thead th {\n",
       "        text-align: right;\n",
       "    }\n",
       "</style>\n",
       "<table border=\"1\" class=\"dataframe\">\n",
       "  <thead>\n",
       "    <tr style=\"text-align: right;\">\n",
       "      <th></th>\n",
       "      <th>id</th>\n",
       "      <th>is_canceled</th>\n",
       "      <th>lead_time</th>\n",
       "      <th>arrival_date_year</th>\n",
       "      <th>arrival_date_month</th>\n",
       "      <th>arrival_date_week_number</th>\n",
       "      <th>arrival_date_day_of_month</th>\n",
       "      <th>stays_in_weekend_nights</th>\n",
       "      <th>stays_in_week_nights</th>\n",
       "      <th>adults</th>\n",
       "      <th>...</th>\n",
       "      <th>is_repeated_guest</th>\n",
       "      <th>previous_cancellations</th>\n",
       "      <th>previous_bookings_not_canceled</th>\n",
       "      <th>reserved_room_type</th>\n",
       "      <th>booking_changes</th>\n",
       "      <th>days_in_waiting_list</th>\n",
       "      <th>customer_type</th>\n",
       "      <th>required_car_parking_spaces</th>\n",
       "      <th>total_of_special_requests</th>\n",
       "      <th>total_nights</th>\n",
       "    </tr>\n",
       "  </thead>\n",
       "  <tbody>\n",
       "    <tr>\n",
       "      <th>23770</th>\n",
       "      <td>31710</td>\n",
       "      <td>0</td>\n",
       "      <td>48.0</td>\n",
       "      <td>2016</td>\n",
       "      <td>February</td>\n",
       "      <td>9</td>\n",
       "      <td>21</td>\n",
       "      <td>2</td>\n",
       "      <td>4</td>\n",
       "      <td>0.0</td>\n",
       "      <td>...</td>\n",
       "      <td>0</td>\n",
       "      <td>0</td>\n",
       "      <td>0</td>\n",
       "      <td>B</td>\n",
       "      <td>2</td>\n",
       "      <td>0</td>\n",
       "      <td>Transient-Party</td>\n",
       "      <td>0</td>\n",
       "      <td>0</td>\n",
       "      <td>6</td>\n",
       "    </tr>\n",
       "    <tr>\n",
       "      <th>26878</th>\n",
       "      <td>34818</td>\n",
       "      <td>0</td>\n",
       "      <td>122.0</td>\n",
       "      <td>2016</td>\n",
       "      <td>May</td>\n",
       "      <td>19</td>\n",
       "      <td>5</td>\n",
       "      <td>2</td>\n",
       "      <td>4</td>\n",
       "      <td>0.0</td>\n",
       "      <td>...</td>\n",
       "      <td>0</td>\n",
       "      <td>0</td>\n",
       "      <td>0</td>\n",
       "      <td>E</td>\n",
       "      <td>3</td>\n",
       "      <td>0</td>\n",
       "      <td>Transient</td>\n",
       "      <td>0</td>\n",
       "      <td>0</td>\n",
       "      <td>6</td>\n",
       "    </tr>\n",
       "    <tr>\n",
       "      <th>26879</th>\n",
       "      <td>34819</td>\n",
       "      <td>0</td>\n",
       "      <td>122.0</td>\n",
       "      <td>2016</td>\n",
       "      <td>May</td>\n",
       "      <td>19</td>\n",
       "      <td>5</td>\n",
       "      <td>2</td>\n",
       "      <td>4</td>\n",
       "      <td>0.0</td>\n",
       "      <td>...</td>\n",
       "      <td>0</td>\n",
       "      <td>0</td>\n",
       "      <td>0</td>\n",
       "      <td>E</td>\n",
       "      <td>3</td>\n",
       "      <td>0</td>\n",
       "      <td>Transient</td>\n",
       "      <td>0</td>\n",
       "      <td>0</td>\n",
       "      <td>6</td>\n",
       "    </tr>\n",
       "    <tr>\n",
       "      <th>31570</th>\n",
       "      <td>39510</td>\n",
       "      <td>0</td>\n",
       "      <td>256.0</td>\n",
       "      <td>2016</td>\n",
       "      <td>August</td>\n",
       "      <td>35</td>\n",
       "      <td>21</td>\n",
       "      <td>3</td>\n",
       "      <td>5</td>\n",
       "      <td>0.0</td>\n",
       "      <td>...</td>\n",
       "      <td>0</td>\n",
       "      <td>0</td>\n",
       "      <td>0</td>\n",
       "      <td>A</td>\n",
       "      <td>1</td>\n",
       "      <td>0</td>\n",
       "      <td>Transient</td>\n",
       "      <td>0</td>\n",
       "      <td>0</td>\n",
       "      <td>8</td>\n",
       "    </tr>\n",
       "    <tr>\n",
       "      <th>41461</th>\n",
       "      <td>59858</td>\n",
       "      <td>0</td>\n",
       "      <td>0.0</td>\n",
       "      <td>2015</td>\n",
       "      <td>November</td>\n",
       "      <td>49</td>\n",
       "      <td>30</td>\n",
       "      <td>1</td>\n",
       "      <td>2</td>\n",
       "      <td>0.0</td>\n",
       "      <td>...</td>\n",
       "      <td>1</td>\n",
       "      <td>0</td>\n",
       "      <td>1</td>\n",
       "      <td>A</td>\n",
       "      <td>2</td>\n",
       "      <td>0</td>\n",
       "      <td>Transient</td>\n",
       "      <td>0</td>\n",
       "      <td>0</td>\n",
       "      <td>3</td>\n",
       "    </tr>\n",
       "    <tr>\n",
       "      <th>50744</th>\n",
       "      <td>69262</td>\n",
       "      <td>0</td>\n",
       "      <td>52.0</td>\n",
       "      <td>2016</td>\n",
       "      <td>April</td>\n",
       "      <td>18</td>\n",
       "      <td>30</td>\n",
       "      <td>2</td>\n",
       "      <td>4</td>\n",
       "      <td>0.0</td>\n",
       "      <td>...</td>\n",
       "      <td>0</td>\n",
       "      <td>0</td>\n",
       "      <td>0</td>\n",
       "      <td>E</td>\n",
       "      <td>2</td>\n",
       "      <td>0</td>\n",
       "      <td>Transient-Party</td>\n",
       "      <td>0</td>\n",
       "      <td>1</td>\n",
       "      <td>6</td>\n",
       "    </tr>\n",
       "    <tr>\n",
       "      <th>54881</th>\n",
       "      <td>73467</td>\n",
       "      <td>0</td>\n",
       "      <td>108.0</td>\n",
       "      <td>2016</td>\n",
       "      <td>July</td>\n",
       "      <td>28</td>\n",
       "      <td>5</td>\n",
       "      <td>2</td>\n",
       "      <td>5</td>\n",
       "      <td>0.0</td>\n",
       "      <td>...</td>\n",
       "      <td>0</td>\n",
       "      <td>0</td>\n",
       "      <td>0</td>\n",
       "      <td>A</td>\n",
       "      <td>0</td>\n",
       "      <td>0</td>\n",
       "      <td>Transient</td>\n",
       "      <td>0</td>\n",
       "      <td>0</td>\n",
       "      <td>7</td>\n",
       "    </tr>\n",
       "    <tr>\n",
       "      <th>56674</th>\n",
       "      <td>75308</td>\n",
       "      <td>0</td>\n",
       "      <td>4.0</td>\n",
       "      <td>2016</td>\n",
       "      <td>August</td>\n",
       "      <td>32</td>\n",
       "      <td>5</td>\n",
       "      <td>2</td>\n",
       "      <td>2</td>\n",
       "      <td>0.0</td>\n",
       "      <td>...</td>\n",
       "      <td>0</td>\n",
       "      <td>0</td>\n",
       "      <td>0</td>\n",
       "      <td>A</td>\n",
       "      <td>2</td>\n",
       "      <td>0</td>\n",
       "      <td>Transient</td>\n",
       "      <td>0</td>\n",
       "      <td>2</td>\n",
       "      <td>4</td>\n",
       "    </tr>\n",
       "    <tr>\n",
       "      <th>57390</th>\n",
       "      <td>76028</td>\n",
       "      <td>0</td>\n",
       "      <td>88.0</td>\n",
       "      <td>2016</td>\n",
       "      <td>August</td>\n",
       "      <td>34</td>\n",
       "      <td>16</td>\n",
       "      <td>0</td>\n",
       "      <td>4</td>\n",
       "      <td>0.0</td>\n",
       "      <td>...</td>\n",
       "      <td>0</td>\n",
       "      <td>0</td>\n",
       "      <td>0</td>\n",
       "      <td>D</td>\n",
       "      <td>5</td>\n",
       "      <td>0</td>\n",
       "      <td>Transient</td>\n",
       "      <td>0</td>\n",
       "      <td>2</td>\n",
       "      <td>4</td>\n",
       "    </tr>\n",
       "    <tr>\n",
       "      <th>58416</th>\n",
       "      <td>77078</td>\n",
       "      <td>0</td>\n",
       "      <td>36.0</td>\n",
       "      <td>2016</td>\n",
       "      <td>August</td>\n",
       "      <td>35</td>\n",
       "      <td>27</td>\n",
       "      <td>3</td>\n",
       "      <td>6</td>\n",
       "      <td>0.0</td>\n",
       "      <td>...</td>\n",
       "      <td>0</td>\n",
       "      <td>0</td>\n",
       "      <td>0</td>\n",
       "      <td>A</td>\n",
       "      <td>2</td>\n",
       "      <td>0</td>\n",
       "      <td>Transient</td>\n",
       "      <td>0</td>\n",
       "      <td>2</td>\n",
       "      <td>9</td>\n",
       "    </tr>\n",
       "    <tr>\n",
       "      <th>62781</th>\n",
       "      <td>81483</td>\n",
       "      <td>0</td>\n",
       "      <td>57.0</td>\n",
       "      <td>2016</td>\n",
       "      <td>November</td>\n",
       "      <td>46</td>\n",
       "      <td>9</td>\n",
       "      <td>0</td>\n",
       "      <td>2</td>\n",
       "      <td>0.0</td>\n",
       "      <td>...</td>\n",
       "      <td>0</td>\n",
       "      <td>0</td>\n",
       "      <td>0</td>\n",
       "      <td>A</td>\n",
       "      <td>0</td>\n",
       "      <td>0</td>\n",
       "      <td>Transient</td>\n",
       "      <td>0</td>\n",
       "      <td>2</td>\n",
       "      <td>2</td>\n",
       "    </tr>\n",
       "    <tr>\n",
       "      <th>62783</th>\n",
       "      <td>81485</td>\n",
       "      <td>0</td>\n",
       "      <td>74.0</td>\n",
       "      <td>2016</td>\n",
       "      <td>November</td>\n",
       "      <td>46</td>\n",
       "      <td>7</td>\n",
       "      <td>1</td>\n",
       "      <td>3</td>\n",
       "      <td>0.0</td>\n",
       "      <td>...</td>\n",
       "      <td>0</td>\n",
       "      <td>0</td>\n",
       "      <td>0</td>\n",
       "      <td>A</td>\n",
       "      <td>3</td>\n",
       "      <td>0</td>\n",
       "      <td>Transient</td>\n",
       "      <td>0</td>\n",
       "      <td>1</td>\n",
       "      <td>4</td>\n",
       "    </tr>\n",
       "    <tr>\n",
       "      <th>63311</th>\n",
       "      <td>82015</td>\n",
       "      <td>0</td>\n",
       "      <td>37.0</td>\n",
       "      <td>2016</td>\n",
       "      <td>November</td>\n",
       "      <td>47</td>\n",
       "      <td>17</td>\n",
       "      <td>1</td>\n",
       "      <td>3</td>\n",
       "      <td>0.0</td>\n",
       "      <td>...</td>\n",
       "      <td>0</td>\n",
       "      <td>0</td>\n",
       "      <td>0</td>\n",
       "      <td>A</td>\n",
       "      <td>1</td>\n",
       "      <td>0</td>\n",
       "      <td>Transient</td>\n",
       "      <td>1</td>\n",
       "      <td>1</td>\n",
       "      <td>4</td>\n",
       "    </tr>\n",
       "    <tr>\n",
       "      <th>63360</th>\n",
       "      <td>82064</td>\n",
       "      <td>0</td>\n",
       "      <td>1.0</td>\n",
       "      <td>2016</td>\n",
       "      <td>November</td>\n",
       "      <td>47</td>\n",
       "      <td>18</td>\n",
       "      <td>1</td>\n",
       "      <td>2</td>\n",
       "      <td>0.0</td>\n",
       "      <td>...</td>\n",
       "      <td>0</td>\n",
       "      <td>0</td>\n",
       "      <td>0</td>\n",
       "      <td>A</td>\n",
       "      <td>1</td>\n",
       "      <td>0</td>\n",
       "      <td>Transient</td>\n",
       "      <td>0</td>\n",
       "      <td>2</td>\n",
       "      <td>3</td>\n",
       "    </tr>\n",
       "    <tr>\n",
       "      <th>64980</th>\n",
       "      <td>83710</td>\n",
       "      <td>0</td>\n",
       "      <td>255.0</td>\n",
       "      <td>2016</td>\n",
       "      <td>December</td>\n",
       "      <td>53</td>\n",
       "      <td>27</td>\n",
       "      <td>0</td>\n",
       "      <td>3</td>\n",
       "      <td>0.0</td>\n",
       "      <td>...</td>\n",
       "      <td>0</td>\n",
       "      <td>0</td>\n",
       "      <td>0</td>\n",
       "      <td>A</td>\n",
       "      <td>3</td>\n",
       "      <td>0</td>\n",
       "      <td>Transient</td>\n",
       "      <td>0</td>\n",
       "      <td>0</td>\n",
       "      <td>3</td>\n",
       "    </tr>\n",
       "  </tbody>\n",
       "</table>\n",
       "<p>15 rows × 25 columns</p>\n",
       "</div>"
      ],
      "text/plain": [
       "          id  is_canceled  lead_time  arrival_date_year arrival_date_month  \\\n",
       "23770  31710            0       48.0               2016           February   \n",
       "26878  34818            0      122.0               2016                May   \n",
       "26879  34819            0      122.0               2016                May   \n",
       "31570  39510            0      256.0               2016             August   \n",
       "41461  59858            0        0.0               2015           November   \n",
       "50744  69262            0       52.0               2016              April   \n",
       "54881  73467            0      108.0               2016               July   \n",
       "56674  75308            0        4.0               2016             August   \n",
       "57390  76028            0       88.0               2016             August   \n",
       "58416  77078            0       36.0               2016             August   \n",
       "62781  81483            0       57.0               2016           November   \n",
       "62783  81485            0       74.0               2016           November   \n",
       "63311  82015            0       37.0               2016           November   \n",
       "63360  82064            0        1.0               2016           November   \n",
       "64980  83710            0      255.0               2016           December   \n",
       "\n",
       "       arrival_date_week_number  arrival_date_day_of_month  \\\n",
       "23770                         9                         21   \n",
       "26878                        19                          5   \n",
       "26879                        19                          5   \n",
       "31570                        35                         21   \n",
       "41461                        49                         30   \n",
       "50744                        18                         30   \n",
       "54881                        28                          5   \n",
       "56674                        32                          5   \n",
       "57390                        34                         16   \n",
       "58416                        35                         27   \n",
       "62781                        46                          9   \n",
       "62783                        46                          7   \n",
       "63311                        47                         17   \n",
       "63360                        47                         18   \n",
       "64980                        53                         27   \n",
       "\n",
       "       stays_in_weekend_nights  stays_in_week_nights  adults  ...  \\\n",
       "23770                        2                     4     0.0  ...   \n",
       "26878                        2                     4     0.0  ...   \n",
       "26879                        2                     4     0.0  ...   \n",
       "31570                        3                     5     0.0  ...   \n",
       "41461                        1                     2     0.0  ...   \n",
       "50744                        2                     4     0.0  ...   \n",
       "54881                        2                     5     0.0  ...   \n",
       "56674                        2                     2     0.0  ...   \n",
       "57390                        0                     4     0.0  ...   \n",
       "58416                        3                     6     0.0  ...   \n",
       "62781                        0                     2     0.0  ...   \n",
       "62783                        1                     3     0.0  ...   \n",
       "63311                        1                     3     0.0  ...   \n",
       "63360                        1                     2     0.0  ...   \n",
       "64980                        0                     3     0.0  ...   \n",
       "\n",
       "       is_repeated_guest  previous_cancellations  \\\n",
       "23770                  0                       0   \n",
       "26878                  0                       0   \n",
       "26879                  0                       0   \n",
       "31570                  0                       0   \n",
       "41461                  1                       0   \n",
       "50744                  0                       0   \n",
       "54881                  0                       0   \n",
       "56674                  0                       0   \n",
       "57390                  0                       0   \n",
       "58416                  0                       0   \n",
       "62781                  0                       0   \n",
       "62783                  0                       0   \n",
       "63311                  0                       0   \n",
       "63360                  0                       0   \n",
       "64980                  0                       0   \n",
       "\n",
       "      previous_bookings_not_canceled reserved_room_type booking_changes  \\\n",
       "23770                              0   B                              2   \n",
       "26878                              0   E                              3   \n",
       "26879                              0   E                              3   \n",
       "31570                              0   A                              1   \n",
       "41461                              1   A                              2   \n",
       "50744                              0   E                              2   \n",
       "54881                              0   A                              0   \n",
       "56674                              0   A                              2   \n",
       "57390                              0   D                              5   \n",
       "58416                              0   A                              2   \n",
       "62781                              0   A                              0   \n",
       "62783                              0   A                              3   \n",
       "63311                              0   A                              1   \n",
       "63360                              0   A                              1   \n",
       "64980                              0   A                              3   \n",
       "\n",
       "       days_in_waiting_list    customer_type  required_car_parking_spaces  \\\n",
       "23770                     0  Transient-Party                            0   \n",
       "26878                     0        Transient                            0   \n",
       "26879                     0        Transient                            0   \n",
       "31570                     0        Transient                            0   \n",
       "41461                     0        Transient                            0   \n",
       "50744                     0  Transient-Party                            0   \n",
       "54881                     0        Transient                            0   \n",
       "56674                     0        Transient                            0   \n",
       "57390                     0        Transient                            0   \n",
       "58416                     0        Transient                            0   \n",
       "62781                     0        Transient                            0   \n",
       "62783                     0        Transient                            0   \n",
       "63311                     0        Transient                            1   \n",
       "63360                     0        Transient                            0   \n",
       "64980                     0        Transient                            0   \n",
       "\n",
       "      total_of_special_requests  total_nights  \n",
       "23770                         0             6  \n",
       "26878                         0             6  \n",
       "26879                         0             6  \n",
       "31570                         0             8  \n",
       "41461                         0             3  \n",
       "50744                         1             6  \n",
       "54881                         0             7  \n",
       "56674                         2             4  \n",
       "57390                         2             4  \n",
       "58416                         2             9  \n",
       "62781                         2             2  \n",
       "62783                         1             4  \n",
       "63311                         1             4  \n",
       "63360                         2             3  \n",
       "64980                         0             3  \n",
       "\n",
       "[15 rows x 25 columns]"
      ]
     },
     "execution_count": 10,
     "metadata": {},
     "output_type": "execute_result"
    }
   ],
   "source": [
    "filter = (df_train['adults'] == 0) & (df_train['children'] == 0) & (df_train['babies'] == 0)\n",
    "df_train[filter]"
   ]
  },
  {
   "cell_type": "markdown",
   "metadata": {},
   "source": [
    "Заменим в этих строках значения `adults` на 1"
   ]
  },
  {
   "cell_type": "code",
   "execution_count": 11,
   "metadata": {},
   "outputs": [],
   "source": [
    "df_train.loc[filter, 'adults'] = 1"
   ]
  },
  {
   "cell_type": "markdown",
   "metadata": {},
   "source": [
    "Аналогично проверим тестовую выборку."
   ]
  },
  {
   "cell_type": "code",
   "execution_count": 12,
   "metadata": {
    "scrolled": true
   },
   "outputs": [
    {
     "data": {
      "text/html": [
       "<div>\n",
       "<style scoped>\n",
       "    .dataframe tbody tr th:only-of-type {\n",
       "        vertical-align: middle;\n",
       "    }\n",
       "\n",
       "    .dataframe tbody tr th {\n",
       "        vertical-align: top;\n",
       "    }\n",
       "\n",
       "    .dataframe thead th {\n",
       "        text-align: right;\n",
       "    }\n",
       "</style>\n",
       "<table border=\"1\" class=\"dataframe\">\n",
       "  <thead>\n",
       "    <tr style=\"text-align: right;\">\n",
       "      <th></th>\n",
       "      <th>id</th>\n",
       "      <th>is_canceled</th>\n",
       "      <th>lead_time</th>\n",
       "      <th>arrival_date_year</th>\n",
       "      <th>arrival_date_month</th>\n",
       "      <th>arrival_date_week_number</th>\n",
       "      <th>arrival_date_day_of_month</th>\n",
       "      <th>stays_in_weekend_nights</th>\n",
       "      <th>stays_in_week_nights</th>\n",
       "      <th>adults</th>\n",
       "      <th>...</th>\n",
       "      <th>is_repeated_guest</th>\n",
       "      <th>previous_cancellations</th>\n",
       "      <th>previous_bookings_not_canceled</th>\n",
       "      <th>reserved_room_type</th>\n",
       "      <th>booking_changes</th>\n",
       "      <th>days_in_waiting_list</th>\n",
       "      <th>customer_type</th>\n",
       "      <th>required_car_parking_spaces</th>\n",
       "      <th>total_of_special_requests</th>\n",
       "      <th>total_nights</th>\n",
       "    </tr>\n",
       "  </thead>\n",
       "  <tbody>\n",
       "    <tr>\n",
       "      <th>18333</th>\n",
       "      <td>73610</td>\n",
       "      <td>0</td>\n",
       "      <td>55.0</td>\n",
       "      <td>2017</td>\n",
       "      <td>March</td>\n",
       "      <td>10</td>\n",
       "      <td>5</td>\n",
       "      <td>2</td>\n",
       "      <td>0</td>\n",
       "      <td>0.0</td>\n",
       "      <td>...</td>\n",
       "      <td>1</td>\n",
       "      <td>1</td>\n",
       "      <td>9</td>\n",
       "      <td>A</td>\n",
       "      <td>2</td>\n",
       "      <td>0</td>\n",
       "      <td>Transient</td>\n",
       "      <td>1</td>\n",
       "      <td>0</td>\n",
       "      <td>2</td>\n",
       "    </tr>\n",
       "    <tr>\n",
       "      <th>21214</th>\n",
       "      <td>86706</td>\n",
       "      <td>0</td>\n",
       "      <td>50.0</td>\n",
       "      <td>2017</td>\n",
       "      <td>March</td>\n",
       "      <td>9</td>\n",
       "      <td>1</td>\n",
       "      <td>0</td>\n",
       "      <td>3</td>\n",
       "      <td>0.0</td>\n",
       "      <td>...</td>\n",
       "      <td>0</td>\n",
       "      <td>0</td>\n",
       "      <td>0</td>\n",
       "      <td>A</td>\n",
       "      <td>1</td>\n",
       "      <td>0</td>\n",
       "      <td>Transient</td>\n",
       "      <td>0</td>\n",
       "      <td>1</td>\n",
       "      <td>3</td>\n",
       "    </tr>\n",
       "    <tr>\n",
       "      <th>25596</th>\n",
       "      <td>91088</td>\n",
       "      <td>0</td>\n",
       "      <td>33.0</td>\n",
       "      <td>2017</td>\n",
       "      <td>May</td>\n",
       "      <td>19</td>\n",
       "      <td>9</td>\n",
       "      <td>0</td>\n",
       "      <td>1</td>\n",
       "      <td>0.0</td>\n",
       "      <td>...</td>\n",
       "      <td>0</td>\n",
       "      <td>0</td>\n",
       "      <td>0</td>\n",
       "      <td>E</td>\n",
       "      <td>3</td>\n",
       "      <td>0</td>\n",
       "      <td>Transient</td>\n",
       "      <td>0</td>\n",
       "      <td>0</td>\n",
       "      <td>1</td>\n",
       "    </tr>\n",
       "    <tr>\n",
       "      <th>28463</th>\n",
       "      <td>93955</td>\n",
       "      <td>0</td>\n",
       "      <td>26.0</td>\n",
       "      <td>2017</td>\n",
       "      <td>June</td>\n",
       "      <td>25</td>\n",
       "      <td>19</td>\n",
       "      <td>1</td>\n",
       "      <td>4</td>\n",
       "      <td>0.0</td>\n",
       "      <td>...</td>\n",
       "      <td>0</td>\n",
       "      <td>0</td>\n",
       "      <td>0</td>\n",
       "      <td>D</td>\n",
       "      <td>2</td>\n",
       "      <td>0</td>\n",
       "      <td>Transient</td>\n",
       "      <td>0</td>\n",
       "      <td>1</td>\n",
       "      <td>5</td>\n",
       "    </tr>\n",
       "    <tr>\n",
       "      <th>28821</th>\n",
       "      <td>94313</td>\n",
       "      <td>0</td>\n",
       "      <td>107.0</td>\n",
       "      <td>2017</td>\n",
       "      <td>June</td>\n",
       "      <td>26</td>\n",
       "      <td>27</td>\n",
       "      <td>0</td>\n",
       "      <td>3</td>\n",
       "      <td>0.0</td>\n",
       "      <td>...</td>\n",
       "      <td>0</td>\n",
       "      <td>0</td>\n",
       "      <td>0</td>\n",
       "      <td>A</td>\n",
       "      <td>1</td>\n",
       "      <td>0</td>\n",
       "      <td>Transient</td>\n",
       "      <td>0</td>\n",
       "      <td>0</td>\n",
       "      <td>3</td>\n",
       "    </tr>\n",
       "    <tr>\n",
       "      <th>29808</th>\n",
       "      <td>95300</td>\n",
       "      <td>0</td>\n",
       "      <td>44.0</td>\n",
       "      <td>2017</td>\n",
       "      <td>July</td>\n",
       "      <td>28</td>\n",
       "      <td>15</td>\n",
       "      <td>1</td>\n",
       "      <td>1</td>\n",
       "      <td>0.0</td>\n",
       "      <td>...</td>\n",
       "      <td>0</td>\n",
       "      <td>0</td>\n",
       "      <td>0</td>\n",
       "      <td>A</td>\n",
       "      <td>2</td>\n",
       "      <td>0</td>\n",
       "      <td>Transient</td>\n",
       "      <td>0</td>\n",
       "      <td>0</td>\n",
       "      <td>2</td>\n",
       "    </tr>\n",
       "    <tr>\n",
       "      <th>30052</th>\n",
       "      <td>95544</td>\n",
       "      <td>0</td>\n",
       "      <td>2.0</td>\n",
       "      <td>2017</td>\n",
       "      <td>July</td>\n",
       "      <td>28</td>\n",
       "      <td>15</td>\n",
       "      <td>2</td>\n",
       "      <td>5</td>\n",
       "      <td>0.0</td>\n",
       "      <td>...</td>\n",
       "      <td>0</td>\n",
       "      <td>0</td>\n",
       "      <td>0</td>\n",
       "      <td>A</td>\n",
       "      <td>1</td>\n",
       "      <td>0</td>\n",
       "      <td>Transient-Party</td>\n",
       "      <td>0</td>\n",
       "      <td>1</td>\n",
       "      <td>7</td>\n",
       "    </tr>\n",
       "  </tbody>\n",
       "</table>\n",
       "<p>7 rows × 25 columns</p>\n",
       "</div>"
      ],
      "text/plain": [
       "          id  is_canceled  lead_time  arrival_date_year arrival_date_month  \\\n",
       "18333  73610            0       55.0               2017              March   \n",
       "21214  86706            0       50.0               2017              March   \n",
       "25596  91088            0       33.0               2017                May   \n",
       "28463  93955            0       26.0               2017               June   \n",
       "28821  94313            0      107.0               2017               June   \n",
       "29808  95300            0       44.0               2017               July   \n",
       "30052  95544            0        2.0               2017               July   \n",
       "\n",
       "       arrival_date_week_number  arrival_date_day_of_month  \\\n",
       "18333                        10                          5   \n",
       "21214                         9                          1   \n",
       "25596                        19                          9   \n",
       "28463                        25                         19   \n",
       "28821                        26                         27   \n",
       "29808                        28                         15   \n",
       "30052                        28                         15   \n",
       "\n",
       "       stays_in_weekend_nights  stays_in_week_nights  adults  ...  \\\n",
       "18333                        2                     0     0.0  ...   \n",
       "21214                        0                     3     0.0  ...   \n",
       "25596                        0                     1     0.0  ...   \n",
       "28463                        1                     4     0.0  ...   \n",
       "28821                        0                     3     0.0  ...   \n",
       "29808                        1                     1     0.0  ...   \n",
       "30052                        2                     5     0.0  ...   \n",
       "\n",
       "       is_repeated_guest  previous_cancellations  \\\n",
       "18333                  1                       1   \n",
       "21214                  0                       0   \n",
       "25596                  0                       0   \n",
       "28463                  0                       0   \n",
       "28821                  0                       0   \n",
       "29808                  0                       0   \n",
       "30052                  0                       0   \n",
       "\n",
       "      previous_bookings_not_canceled reserved_room_type booking_changes  \\\n",
       "18333                              9   A                              2   \n",
       "21214                              0   A                              1   \n",
       "25596                              0   E                              3   \n",
       "28463                              0   D                              2   \n",
       "28821                              0   A                              1   \n",
       "29808                              0   A                              2   \n",
       "30052                              0   A                              1   \n",
       "\n",
       "       days_in_waiting_list    customer_type  required_car_parking_spaces  \\\n",
       "18333                     0        Transient                            1   \n",
       "21214                     0        Transient                            0   \n",
       "25596                     0        Transient                            0   \n",
       "28463                     0        Transient                            0   \n",
       "28821                     0        Transient                            0   \n",
       "29808                     0        Transient                            0   \n",
       "30052                     0  Transient-Party                            0   \n",
       "\n",
       "      total_of_special_requests  total_nights  \n",
       "18333                         0             2  \n",
       "21214                         1             3  \n",
       "25596                         0             1  \n",
       "28463                         1             5  \n",
       "28821                         0             3  \n",
       "29808                         0             2  \n",
       "30052                         1             7  \n",
       "\n",
       "[7 rows x 25 columns]"
      ]
     },
     "execution_count": 12,
     "metadata": {},
     "output_type": "execute_result"
    }
   ],
   "source": [
    "filter = (df_test['adults'] == 0) & (df_test['children'] == 0) & (df_test['babies'] == 0)\n",
    "df_test[filter]"
   ]
  },
  {
   "cell_type": "code",
   "execution_count": 13,
   "metadata": {},
   "outputs": [],
   "source": [
    "df_test.loc[filter, 'adults'] = 1"
   ]
  },
  {
   "cell_type": "markdown",
   "metadata": {},
   "source": [
    "Детям и младенцам не могут сдать номер без взрослых, проверим это тоже."
   ]
  },
  {
   "cell_type": "code",
   "execution_count": 14,
   "metadata": {},
   "outputs": [
    {
     "data": {
      "text/html": [
       "<div>\n",
       "<style scoped>\n",
       "    .dataframe tbody tr th:only-of-type {\n",
       "        vertical-align: middle;\n",
       "    }\n",
       "\n",
       "    .dataframe tbody tr th {\n",
       "        vertical-align: top;\n",
       "    }\n",
       "\n",
       "    .dataframe thead th {\n",
       "        text-align: right;\n",
       "    }\n",
       "</style>\n",
       "<table border=\"1\" class=\"dataframe\">\n",
       "  <thead>\n",
       "    <tr style=\"text-align: right;\">\n",
       "      <th></th>\n",
       "      <th>id</th>\n",
       "      <th>is_canceled</th>\n",
       "      <th>lead_time</th>\n",
       "      <th>arrival_date_year</th>\n",
       "      <th>arrival_date_month</th>\n",
       "      <th>arrival_date_week_number</th>\n",
       "      <th>arrival_date_day_of_month</th>\n",
       "      <th>stays_in_weekend_nights</th>\n",
       "      <th>stays_in_week_nights</th>\n",
       "      <th>adults</th>\n",
       "      <th>...</th>\n",
       "      <th>is_repeated_guest</th>\n",
       "      <th>previous_cancellations</th>\n",
       "      <th>previous_bookings_not_canceled</th>\n",
       "      <th>reserved_room_type</th>\n",
       "      <th>booking_changes</th>\n",
       "      <th>days_in_waiting_list</th>\n",
       "      <th>customer_type</th>\n",
       "      <th>required_car_parking_spaces</th>\n",
       "      <th>total_of_special_requests</th>\n",
       "      <th>total_nights</th>\n",
       "    </tr>\n",
       "  </thead>\n",
       "  <tbody>\n",
       "    <tr>\n",
       "      <th>17540</th>\n",
       "      <td>25480</td>\n",
       "      <td>0</td>\n",
       "      <td>1.0</td>\n",
       "      <td>2015</td>\n",
       "      <td>August</td>\n",
       "      <td>33</td>\n",
       "      <td>10</td>\n",
       "      <td>1</td>\n",
       "      <td>1</td>\n",
       "      <td>0.0</td>\n",
       "      <td>...</td>\n",
       "      <td>0</td>\n",
       "      <td>0</td>\n",
       "      <td>0</td>\n",
       "      <td>B</td>\n",
       "      <td>1</td>\n",
       "      <td>0</td>\n",
       "      <td>Transient-Party</td>\n",
       "      <td>0</td>\n",
       "      <td>0</td>\n",
       "      <td>2</td>\n",
       "    </tr>\n",
       "    <tr>\n",
       "      <th>17598</th>\n",
       "      <td>25538</td>\n",
       "      <td>0</td>\n",
       "      <td>104.0</td>\n",
       "      <td>2015</td>\n",
       "      <td>August</td>\n",
       "      <td>33</td>\n",
       "      <td>11</td>\n",
       "      <td>0</td>\n",
       "      <td>3</td>\n",
       "      <td>0.0</td>\n",
       "      <td>...</td>\n",
       "      <td>0</td>\n",
       "      <td>0</td>\n",
       "      <td>0</td>\n",
       "      <td>B</td>\n",
       "      <td>1</td>\n",
       "      <td>0</td>\n",
       "      <td>Transient-Party</td>\n",
       "      <td>0</td>\n",
       "      <td>2</td>\n",
       "      <td>3</td>\n",
       "    </tr>\n",
       "    <tr>\n",
       "      <th>17982</th>\n",
       "      <td>25922</td>\n",
       "      <td>0</td>\n",
       "      <td>3.0</td>\n",
       "      <td>2015</td>\n",
       "      <td>August</td>\n",
       "      <td>34</td>\n",
       "      <td>16</td>\n",
       "      <td>2</td>\n",
       "      <td>0</td>\n",
       "      <td>0.0</td>\n",
       "      <td>...</td>\n",
       "      <td>0</td>\n",
       "      <td>0</td>\n",
       "      <td>0</td>\n",
       "      <td>B</td>\n",
       "      <td>1</td>\n",
       "      <td>0</td>\n",
       "      <td>Transient-Party</td>\n",
       "      <td>0</td>\n",
       "      <td>1</td>\n",
       "      <td>2</td>\n",
       "    </tr>\n",
       "    <tr>\n",
       "      <th>21556</th>\n",
       "      <td>29496</td>\n",
       "      <td>1</td>\n",
       "      <td>48.0</td>\n",
       "      <td>2015</td>\n",
       "      <td>October</td>\n",
       "      <td>43</td>\n",
       "      <td>19</td>\n",
       "      <td>1</td>\n",
       "      <td>3</td>\n",
       "      <td>0.0</td>\n",
       "      <td>...</td>\n",
       "      <td>0</td>\n",
       "      <td>0</td>\n",
       "      <td>0</td>\n",
       "      <td>B</td>\n",
       "      <td>0</td>\n",
       "      <td>0</td>\n",
       "      <td>Transient-Party</td>\n",
       "      <td>0</td>\n",
       "      <td>1</td>\n",
       "      <td>4</td>\n",
       "    </tr>\n",
       "    <tr>\n",
       "      <th>22516</th>\n",
       "      <td>30456</td>\n",
       "      <td>1</td>\n",
       "      <td>6.0</td>\n",
       "      <td>2015</td>\n",
       "      <td>December</td>\n",
       "      <td>51</td>\n",
       "      <td>13</td>\n",
       "      <td>1</td>\n",
       "      <td>0</td>\n",
       "      <td>0.0</td>\n",
       "      <td>...</td>\n",
       "      <td>0</td>\n",
       "      <td>0</td>\n",
       "      <td>0</td>\n",
       "      <td>B</td>\n",
       "      <td>0</td>\n",
       "      <td>0</td>\n",
       "      <td>Transient-Party</td>\n",
       "      <td>0</td>\n",
       "      <td>1</td>\n",
       "      <td>1</td>\n",
       "    </tr>\n",
       "    <tr>\n",
       "      <th>...</th>\n",
       "      <td>...</td>\n",
       "      <td>...</td>\n",
       "      <td>...</td>\n",
       "      <td>...</td>\n",
       "      <td>...</td>\n",
       "      <td>...</td>\n",
       "      <td>...</td>\n",
       "      <td>...</td>\n",
       "      <td>...</td>\n",
       "      <td>...</td>\n",
       "      <td>...</td>\n",
       "      <td>...</td>\n",
       "      <td>...</td>\n",
       "      <td>...</td>\n",
       "      <td>...</td>\n",
       "      <td>...</td>\n",
       "      <td>...</td>\n",
       "      <td>...</td>\n",
       "      <td>...</td>\n",
       "      <td>...</td>\n",
       "      <td>...</td>\n",
       "    </tr>\n",
       "    <tr>\n",
       "      <th>64641</th>\n",
       "      <td>83365</td>\n",
       "      <td>0</td>\n",
       "      <td>109.0</td>\n",
       "      <td>2016</td>\n",
       "      <td>December</td>\n",
       "      <td>51</td>\n",
       "      <td>16</td>\n",
       "      <td>2</td>\n",
       "      <td>3</td>\n",
       "      <td>0.0</td>\n",
       "      <td>...</td>\n",
       "      <td>0</td>\n",
       "      <td>0</td>\n",
       "      <td>0</td>\n",
       "      <td>B</td>\n",
       "      <td>0</td>\n",
       "      <td>0</td>\n",
       "      <td>Transient</td>\n",
       "      <td>0</td>\n",
       "      <td>2</td>\n",
       "      <td>5</td>\n",
       "    </tr>\n",
       "    <tr>\n",
       "      <th>64751</th>\n",
       "      <td>83478</td>\n",
       "      <td>0</td>\n",
       "      <td>197.0</td>\n",
       "      <td>2016</td>\n",
       "      <td>December</td>\n",
       "      <td>52</td>\n",
       "      <td>21</td>\n",
       "      <td>1</td>\n",
       "      <td>4</td>\n",
       "      <td>0.0</td>\n",
       "      <td>...</td>\n",
       "      <td>0</td>\n",
       "      <td>0</td>\n",
       "      <td>0</td>\n",
       "      <td>A</td>\n",
       "      <td>7</td>\n",
       "      <td>0</td>\n",
       "      <td>Transient-Party</td>\n",
       "      <td>0</td>\n",
       "      <td>0</td>\n",
       "      <td>5</td>\n",
       "    </tr>\n",
       "    <tr>\n",
       "      <th>64882</th>\n",
       "      <td>83610</td>\n",
       "      <td>0</td>\n",
       "      <td>104.0</td>\n",
       "      <td>2016</td>\n",
       "      <td>December</td>\n",
       "      <td>53</td>\n",
       "      <td>25</td>\n",
       "      <td>2</td>\n",
       "      <td>1</td>\n",
       "      <td>0.0</td>\n",
       "      <td>...</td>\n",
       "      <td>0</td>\n",
       "      <td>0</td>\n",
       "      <td>0</td>\n",
       "      <td>B</td>\n",
       "      <td>1</td>\n",
       "      <td>0</td>\n",
       "      <td>Transient</td>\n",
       "      <td>0</td>\n",
       "      <td>2</td>\n",
       "      <td>3</td>\n",
       "    </tr>\n",
       "    <tr>\n",
       "      <th>64892</th>\n",
       "      <td>83620</td>\n",
       "      <td>0</td>\n",
       "      <td>104.0</td>\n",
       "      <td>2016</td>\n",
       "      <td>December</td>\n",
       "      <td>53</td>\n",
       "      <td>25</td>\n",
       "      <td>2</td>\n",
       "      <td>1</td>\n",
       "      <td>0.0</td>\n",
       "      <td>...</td>\n",
       "      <td>0</td>\n",
       "      <td>0</td>\n",
       "      <td>0</td>\n",
       "      <td>B</td>\n",
       "      <td>0</td>\n",
       "      <td>0</td>\n",
       "      <td>Transient</td>\n",
       "      <td>0</td>\n",
       "      <td>2</td>\n",
       "      <td>3</td>\n",
       "    </tr>\n",
       "    <tr>\n",
       "      <th>64903</th>\n",
       "      <td>83633</td>\n",
       "      <td>0</td>\n",
       "      <td>247.0</td>\n",
       "      <td>2016</td>\n",
       "      <td>December</td>\n",
       "      <td>52</td>\n",
       "      <td>24</td>\n",
       "      <td>2</td>\n",
       "      <td>3</td>\n",
       "      <td>0.0</td>\n",
       "      <td>...</td>\n",
       "      <td>0</td>\n",
       "      <td>0</td>\n",
       "      <td>0</td>\n",
       "      <td>B</td>\n",
       "      <td>0</td>\n",
       "      <td>0</td>\n",
       "      <td>Transient</td>\n",
       "      <td>0</td>\n",
       "      <td>1</td>\n",
       "      <td>5</td>\n",
       "    </tr>\n",
       "  </tbody>\n",
       "</table>\n",
       "<p>151 rows × 25 columns</p>\n",
       "</div>"
      ],
      "text/plain": [
       "          id  is_canceled  lead_time  arrival_date_year arrival_date_month  \\\n",
       "17540  25480            0        1.0               2015             August   \n",
       "17598  25538            0      104.0               2015             August   \n",
       "17982  25922            0        3.0               2015             August   \n",
       "21556  29496            1       48.0               2015            October   \n",
       "22516  30456            1        6.0               2015           December   \n",
       "...      ...          ...        ...                ...                ...   \n",
       "64641  83365            0      109.0               2016           December   \n",
       "64751  83478            0      197.0               2016           December   \n",
       "64882  83610            0      104.0               2016           December   \n",
       "64892  83620            0      104.0               2016           December   \n",
       "64903  83633            0      247.0               2016           December   \n",
       "\n",
       "       arrival_date_week_number  arrival_date_day_of_month  \\\n",
       "17540                        33                         10   \n",
       "17598                        33                         11   \n",
       "17982                        34                         16   \n",
       "21556                        43                         19   \n",
       "22516                        51                         13   \n",
       "...                         ...                        ...   \n",
       "64641                        51                         16   \n",
       "64751                        52                         21   \n",
       "64882                        53                         25   \n",
       "64892                        53                         25   \n",
       "64903                        52                         24   \n",
       "\n",
       "       stays_in_weekend_nights  stays_in_week_nights  adults  ...  \\\n",
       "17540                        1                     1     0.0  ...   \n",
       "17598                        0                     3     0.0  ...   \n",
       "17982                        2                     0     0.0  ...   \n",
       "21556                        1                     3     0.0  ...   \n",
       "22516                        1                     0     0.0  ...   \n",
       "...                        ...                   ...     ...  ...   \n",
       "64641                        2                     3     0.0  ...   \n",
       "64751                        1                     4     0.0  ...   \n",
       "64882                        2                     1     0.0  ...   \n",
       "64892                        2                     1     0.0  ...   \n",
       "64903                        2                     3     0.0  ...   \n",
       "\n",
       "       is_repeated_guest  previous_cancellations  \\\n",
       "17540                  0                       0   \n",
       "17598                  0                       0   \n",
       "17982                  0                       0   \n",
       "21556                  0                       0   \n",
       "22516                  0                       0   \n",
       "...                  ...                     ...   \n",
       "64641                  0                       0   \n",
       "64751                  0                       0   \n",
       "64882                  0                       0   \n",
       "64892                  0                       0   \n",
       "64903                  0                       0   \n",
       "\n",
       "      previous_bookings_not_canceled reserved_room_type booking_changes  \\\n",
       "17540                              0   B                              1   \n",
       "17598                              0   B                              1   \n",
       "17982                              0   B                              1   \n",
       "21556                              0   B                              0   \n",
       "22516                              0   B                              0   \n",
       "...                              ...                ...             ...   \n",
       "64641                              0   B                              0   \n",
       "64751                              0   A                              7   \n",
       "64882                              0   B                              1   \n",
       "64892                              0   B                              0   \n",
       "64903                              0   B                              0   \n",
       "\n",
       "       days_in_waiting_list    customer_type  required_car_parking_spaces  \\\n",
       "17540                     0  Transient-Party                            0   \n",
       "17598                     0  Transient-Party                            0   \n",
       "17982                     0  Transient-Party                            0   \n",
       "21556                     0  Transient-Party                            0   \n",
       "22516                     0  Transient-Party                            0   \n",
       "...                     ...              ...                          ...   \n",
       "64641                     0        Transient                            0   \n",
       "64751                     0  Transient-Party                            0   \n",
       "64882                     0        Transient                            0   \n",
       "64892                     0        Transient                            0   \n",
       "64903                     0        Transient                            0   \n",
       "\n",
       "      total_of_special_requests  total_nights  \n",
       "17540                         0             2  \n",
       "17598                         2             3  \n",
       "17982                         1             2  \n",
       "21556                         1             4  \n",
       "22516                         1             1  \n",
       "...                         ...           ...  \n",
       "64641                         2             5  \n",
       "64751                         0             5  \n",
       "64882                         2             3  \n",
       "64892                         2             3  \n",
       "64903                         1             5  \n",
       "\n",
       "[151 rows x 25 columns]"
      ]
     },
     "execution_count": 14,
     "metadata": {},
     "output_type": "execute_result"
    }
   ],
   "source": [
    "filter = (df_train['adults'] == 0) & ((df_train['children'] > 0) | (df_train['babies'] > 0))\n",
    "df_train[filter]"
   ]
  },
  {
   "cell_type": "markdown",
   "metadata": {},
   "source": [
    "Скорее всего ошибка в данных, кто-то не внес данные по взрослым, можно было бы уточнить информацию у отеля. Т.к. нет возможности, проверим среднее взрослых с детьми и заменим на это значение."
   ]
  },
  {
   "cell_type": "code",
   "execution_count": 15,
   "metadata": {},
   "outputs": [
    {
     "data": {
      "text/plain": [
       "1.8830304581520347"
      ]
     },
     "execution_count": 15,
     "metadata": {},
     "output_type": "execute_result"
    }
   ],
   "source": [
    "df_train.query('children > 0 | babies > 0')['adults'].mean()"
   ]
  },
  {
   "cell_type": "markdown",
   "metadata": {},
   "source": [
    "Заменим данные по взрослым на 2."
   ]
  },
  {
   "cell_type": "code",
   "execution_count": 16,
   "metadata": {},
   "outputs": [],
   "source": [
    "df_train.loc[filter, 'adults'] = 2"
   ]
  },
  {
   "cell_type": "markdown",
   "metadata": {},
   "source": [
    "Аналогично сделаем и для тренировочной выборки."
   ]
  },
  {
   "cell_type": "code",
   "execution_count": 17,
   "metadata": {},
   "outputs": [
    {
     "data": {
      "text/html": [
       "<div>\n",
       "<style scoped>\n",
       "    .dataframe tbody tr th:only-of-type {\n",
       "        vertical-align: middle;\n",
       "    }\n",
       "\n",
       "    .dataframe tbody tr th {\n",
       "        vertical-align: top;\n",
       "    }\n",
       "\n",
       "    .dataframe thead th {\n",
       "        text-align: right;\n",
       "    }\n",
       "</style>\n",
       "<table border=\"1\" class=\"dataframe\">\n",
       "  <thead>\n",
       "    <tr style=\"text-align: right;\">\n",
       "      <th></th>\n",
       "      <th>id</th>\n",
       "      <th>is_canceled</th>\n",
       "      <th>lead_time</th>\n",
       "      <th>arrival_date_year</th>\n",
       "      <th>arrival_date_month</th>\n",
       "      <th>arrival_date_week_number</th>\n",
       "      <th>arrival_date_day_of_month</th>\n",
       "      <th>stays_in_weekend_nights</th>\n",
       "      <th>stays_in_week_nights</th>\n",
       "      <th>adults</th>\n",
       "      <th>...</th>\n",
       "      <th>is_repeated_guest</th>\n",
       "      <th>previous_cancellations</th>\n",
       "      <th>previous_bookings_not_canceled</th>\n",
       "      <th>reserved_room_type</th>\n",
       "      <th>booking_changes</th>\n",
       "      <th>days_in_waiting_list</th>\n",
       "      <th>customer_type</th>\n",
       "      <th>required_car_parking_spaces</th>\n",
       "      <th>total_of_special_requests</th>\n",
       "      <th>total_nights</th>\n",
       "    </tr>\n",
       "  </thead>\n",
       "  <tbody>\n",
       "    <tr>\n",
       "      <th>7743</th>\n",
       "      <td>44932</td>\n",
       "      <td>1</td>\n",
       "      <td>111.0</td>\n",
       "      <td>2017</td>\n",
       "      <td>January</td>\n",
       "      <td>1</td>\n",
       "      <td>2</td>\n",
       "      <td>1</td>\n",
       "      <td>3</td>\n",
       "      <td>0.0</td>\n",
       "      <td>...</td>\n",
       "      <td>0</td>\n",
       "      <td>0</td>\n",
       "      <td>0</td>\n",
       "      <td>B</td>\n",
       "      <td>0</td>\n",
       "      <td>0</td>\n",
       "      <td>Transient</td>\n",
       "      <td>0</td>\n",
       "      <td>2</td>\n",
       "      <td>4</td>\n",
       "    </tr>\n",
       "    <tr>\n",
       "      <th>7751</th>\n",
       "      <td>44940</td>\n",
       "      <td>1</td>\n",
       "      <td>268.0</td>\n",
       "      <td>2017</td>\n",
       "      <td>January</td>\n",
       "      <td>1</td>\n",
       "      <td>2</td>\n",
       "      <td>1</td>\n",
       "      <td>4</td>\n",
       "      <td>0.0</td>\n",
       "      <td>...</td>\n",
       "      <td>0</td>\n",
       "      <td>0</td>\n",
       "      <td>0</td>\n",
       "      <td>B</td>\n",
       "      <td>0</td>\n",
       "      <td>0</td>\n",
       "      <td>Transient</td>\n",
       "      <td>0</td>\n",
       "      <td>1</td>\n",
       "      <td>5</td>\n",
       "    </tr>\n",
       "    <tr>\n",
       "      <th>8772</th>\n",
       "      <td>45961</td>\n",
       "      <td>1</td>\n",
       "      <td>148.0</td>\n",
       "      <td>2017</td>\n",
       "      <td>February</td>\n",
       "      <td>6</td>\n",
       "      <td>5</td>\n",
       "      <td>2</td>\n",
       "      <td>5</td>\n",
       "      <td>0.0</td>\n",
       "      <td>...</td>\n",
       "      <td>0</td>\n",
       "      <td>0</td>\n",
       "      <td>0</td>\n",
       "      <td>B</td>\n",
       "      <td>0</td>\n",
       "      <td>0</td>\n",
       "      <td>Transient</td>\n",
       "      <td>0</td>\n",
       "      <td>2</td>\n",
       "      <td>7</td>\n",
       "    </tr>\n",
       "    <tr>\n",
       "      <th>9243</th>\n",
       "      <td>46432</td>\n",
       "      <td>1</td>\n",
       "      <td>134.0</td>\n",
       "      <td>2017</td>\n",
       "      <td>February</td>\n",
       "      <td>8</td>\n",
       "      <td>22</td>\n",
       "      <td>2</td>\n",
       "      <td>4</td>\n",
       "      <td>0.0</td>\n",
       "      <td>...</td>\n",
       "      <td>0</td>\n",
       "      <td>0</td>\n",
       "      <td>0</td>\n",
       "      <td>B</td>\n",
       "      <td>0</td>\n",
       "      <td>0</td>\n",
       "      <td>Transient</td>\n",
       "      <td>0</td>\n",
       "      <td>1</td>\n",
       "      <td>6</td>\n",
       "    </tr>\n",
       "    <tr>\n",
       "      <th>9305</th>\n",
       "      <td>46494</td>\n",
       "      <td>1</td>\n",
       "      <td>148.0</td>\n",
       "      <td>2017</td>\n",
       "      <td>February</td>\n",
       "      <td>8</td>\n",
       "      <td>24</td>\n",
       "      <td>2</td>\n",
       "      <td>2</td>\n",
       "      <td>0.0</td>\n",
       "      <td>...</td>\n",
       "      <td>0</td>\n",
       "      <td>0</td>\n",
       "      <td>0</td>\n",
       "      <td>B</td>\n",
       "      <td>1</td>\n",
       "      <td>0</td>\n",
       "      <td>Transient</td>\n",
       "      <td>0</td>\n",
       "      <td>1</td>\n",
       "      <td>4</td>\n",
       "    </tr>\n",
       "    <tr>\n",
       "      <th>...</th>\n",
       "      <td>...</td>\n",
       "      <td>...</td>\n",
       "      <td>...</td>\n",
       "      <td>...</td>\n",
       "      <td>...</td>\n",
       "      <td>...</td>\n",
       "      <td>...</td>\n",
       "      <td>...</td>\n",
       "      <td>...</td>\n",
       "      <td>...</td>\n",
       "      <td>...</td>\n",
       "      <td>...</td>\n",
       "      <td>...</td>\n",
       "      <td>...</td>\n",
       "      <td>...</td>\n",
       "      <td>...</td>\n",
       "      <td>...</td>\n",
       "      <td>...</td>\n",
       "      <td>...</td>\n",
       "      <td>...</td>\n",
       "      <td>...</td>\n",
       "    </tr>\n",
       "    <tr>\n",
       "      <th>30601</th>\n",
       "      <td>96093</td>\n",
       "      <td>0</td>\n",
       "      <td>296.0</td>\n",
       "      <td>2017</td>\n",
       "      <td>July</td>\n",
       "      <td>30</td>\n",
       "      <td>27</td>\n",
       "      <td>1</td>\n",
       "      <td>3</td>\n",
       "      <td>0.0</td>\n",
       "      <td>...</td>\n",
       "      <td>0</td>\n",
       "      <td>0</td>\n",
       "      <td>0</td>\n",
       "      <td>B</td>\n",
       "      <td>0</td>\n",
       "      <td>0</td>\n",
       "      <td>Transient</td>\n",
       "      <td>0</td>\n",
       "      <td>1</td>\n",
       "      <td>4</td>\n",
       "    </tr>\n",
       "    <tr>\n",
       "      <th>30654</th>\n",
       "      <td>96146</td>\n",
       "      <td>0</td>\n",
       "      <td>276.0</td>\n",
       "      <td>2017</td>\n",
       "      <td>July</td>\n",
       "      <td>31</td>\n",
       "      <td>30</td>\n",
       "      <td>2</td>\n",
       "      <td>1</td>\n",
       "      <td>0.0</td>\n",
       "      <td>...</td>\n",
       "      <td>0</td>\n",
       "      <td>0</td>\n",
       "      <td>0</td>\n",
       "      <td>B</td>\n",
       "      <td>1</td>\n",
       "      <td>0</td>\n",
       "      <td>Transient</td>\n",
       "      <td>0</td>\n",
       "      <td>2</td>\n",
       "      <td>3</td>\n",
       "    </tr>\n",
       "    <tr>\n",
       "      <th>30678</th>\n",
       "      <td>96170</td>\n",
       "      <td>0</td>\n",
       "      <td>291.0</td>\n",
       "      <td>2017</td>\n",
       "      <td>July</td>\n",
       "      <td>30</td>\n",
       "      <td>29</td>\n",
       "      <td>2</td>\n",
       "      <td>2</td>\n",
       "      <td>0.0</td>\n",
       "      <td>...</td>\n",
       "      <td>0</td>\n",
       "      <td>0</td>\n",
       "      <td>0</td>\n",
       "      <td>B</td>\n",
       "      <td>0</td>\n",
       "      <td>0</td>\n",
       "      <td>Transient</td>\n",
       "      <td>0</td>\n",
       "      <td>1</td>\n",
       "      <td>4</td>\n",
       "    </tr>\n",
       "    <tr>\n",
       "      <th>30815</th>\n",
       "      <td>96307</td>\n",
       "      <td>0</td>\n",
       "      <td>159.0</td>\n",
       "      <td>2017</td>\n",
       "      <td>July</td>\n",
       "      <td>31</td>\n",
       "      <td>31</td>\n",
       "      <td>1</td>\n",
       "      <td>3</td>\n",
       "      <td>0.0</td>\n",
       "      <td>...</td>\n",
       "      <td>0</td>\n",
       "      <td>0</td>\n",
       "      <td>0</td>\n",
       "      <td>A</td>\n",
       "      <td>1</td>\n",
       "      <td>0</td>\n",
       "      <td>Transient</td>\n",
       "      <td>0</td>\n",
       "      <td>1</td>\n",
       "      <td>4</td>\n",
       "    </tr>\n",
       "    <tr>\n",
       "      <th>31418</th>\n",
       "      <td>96910</td>\n",
       "      <td>0</td>\n",
       "      <td>10.0</td>\n",
       "      <td>2017</td>\n",
       "      <td>August</td>\n",
       "      <td>32</td>\n",
       "      <td>12</td>\n",
       "      <td>2</td>\n",
       "      <td>2</td>\n",
       "      <td>0.0</td>\n",
       "      <td>...</td>\n",
       "      <td>0</td>\n",
       "      <td>0</td>\n",
       "      <td>0</td>\n",
       "      <td>B</td>\n",
       "      <td>1</td>\n",
       "      <td>0</td>\n",
       "      <td>Transient-Party</td>\n",
       "      <td>0</td>\n",
       "      <td>1</td>\n",
       "      <td>4</td>\n",
       "    </tr>\n",
       "  </tbody>\n",
       "</table>\n",
       "<p>62 rows × 25 columns</p>\n",
       "</div>"
      ],
      "text/plain": [
       "          id  is_canceled  lead_time  arrival_date_year arrival_date_month  \\\n",
       "7743   44932            1      111.0               2017            January   \n",
       "7751   44940            1      268.0               2017            January   \n",
       "8772   45961            1      148.0               2017           February   \n",
       "9243   46432            1      134.0               2017           February   \n",
       "9305   46494            1      148.0               2017           February   \n",
       "...      ...          ...        ...                ...                ...   \n",
       "30601  96093            0      296.0               2017               July   \n",
       "30654  96146            0      276.0               2017               July   \n",
       "30678  96170            0      291.0               2017               July   \n",
       "30815  96307            0      159.0               2017               July   \n",
       "31418  96910            0       10.0               2017             August   \n",
       "\n",
       "       arrival_date_week_number  arrival_date_day_of_month  \\\n",
       "7743                          1                          2   \n",
       "7751                          1                          2   \n",
       "8772                          6                          5   \n",
       "9243                          8                         22   \n",
       "9305                          8                         24   \n",
       "...                         ...                        ...   \n",
       "30601                        30                         27   \n",
       "30654                        31                         30   \n",
       "30678                        30                         29   \n",
       "30815                        31                         31   \n",
       "31418                        32                         12   \n",
       "\n",
       "       stays_in_weekend_nights  stays_in_week_nights  adults  ...  \\\n",
       "7743                         1                     3     0.0  ...   \n",
       "7751                         1                     4     0.0  ...   \n",
       "8772                         2                     5     0.0  ...   \n",
       "9243                         2                     4     0.0  ...   \n",
       "9305                         2                     2     0.0  ...   \n",
       "...                        ...                   ...     ...  ...   \n",
       "30601                        1                     3     0.0  ...   \n",
       "30654                        2                     1     0.0  ...   \n",
       "30678                        2                     2     0.0  ...   \n",
       "30815                        1                     3     0.0  ...   \n",
       "31418                        2                     2     0.0  ...   \n",
       "\n",
       "       is_repeated_guest  previous_cancellations  \\\n",
       "7743                   0                       0   \n",
       "7751                   0                       0   \n",
       "8772                   0                       0   \n",
       "9243                   0                       0   \n",
       "9305                   0                       0   \n",
       "...                  ...                     ...   \n",
       "30601                  0                       0   \n",
       "30654                  0                       0   \n",
       "30678                  0                       0   \n",
       "30815                  0                       0   \n",
       "31418                  0                       0   \n",
       "\n",
       "      previous_bookings_not_canceled reserved_room_type booking_changes  \\\n",
       "7743                               0   B                              0   \n",
       "7751                               0   B                              0   \n",
       "8772                               0   B                              0   \n",
       "9243                               0   B                              0   \n",
       "9305                               0   B                              1   \n",
       "...                              ...                ...             ...   \n",
       "30601                              0   B                              0   \n",
       "30654                              0   B                              1   \n",
       "30678                              0   B                              0   \n",
       "30815                              0   A                              1   \n",
       "31418                              0   B                              1   \n",
       "\n",
       "       days_in_waiting_list    customer_type  required_car_parking_spaces  \\\n",
       "7743                      0        Transient                            0   \n",
       "7751                      0        Transient                            0   \n",
       "8772                      0        Transient                            0   \n",
       "9243                      0        Transient                            0   \n",
       "9305                      0        Transient                            0   \n",
       "...                     ...              ...                          ...   \n",
       "30601                     0        Transient                            0   \n",
       "30654                     0        Transient                            0   \n",
       "30678                     0        Transient                            0   \n",
       "30815                     0        Transient                            0   \n",
       "31418                     0  Transient-Party                            0   \n",
       "\n",
       "      total_of_special_requests  total_nights  \n",
       "7743                          2             4  \n",
       "7751                          1             5  \n",
       "8772                          2             7  \n",
       "9243                          1             6  \n",
       "9305                          1             4  \n",
       "...                         ...           ...  \n",
       "30601                         1             4  \n",
       "30654                         2             3  \n",
       "30678                         1             4  \n",
       "30815                         1             4  \n",
       "31418                         1             4  \n",
       "\n",
       "[62 rows x 25 columns]"
      ]
     },
     "execution_count": 17,
     "metadata": {},
     "output_type": "execute_result"
    }
   ],
   "source": [
    "filter = (df_test['adults'] == 0) & ((df_test['children'] > 0) | (df_test['babies'] > 0))\n",
    "df_test[filter]"
   ]
  },
  {
   "cell_type": "code",
   "execution_count": 18,
   "metadata": {},
   "outputs": [
    {
     "data": {
      "text/plain": [
       "1.8864569083447333"
      ]
     },
     "execution_count": 18,
     "metadata": {},
     "output_type": "execute_result"
    }
   ],
   "source": [
    "df_test.query('children > 0 | babies > 0')['adults'].mean()"
   ]
  },
  {
   "cell_type": "code",
   "execution_count": 19,
   "metadata": {},
   "outputs": [],
   "source": [
    "df_test.loc[filter, 'adults'] = 2"
   ]
  },
  {
   "cell_type": "markdown",
   "metadata": {},
   "source": [
    "Проверим колонку babies на аномальные значения."
   ]
  },
  {
   "cell_type": "code",
   "execution_count": 20,
   "metadata": {},
   "outputs": [
    {
     "data": {
      "text/plain": [
       "array([ 0.,  1.,  2., 10.,  9.])"
      ]
     },
     "execution_count": 20,
     "metadata": {},
     "output_type": "execute_result"
    }
   ],
   "source": [
    "df_train['babies'].unique()"
   ]
  },
  {
   "cell_type": "code",
   "execution_count": 21,
   "metadata": {},
   "outputs": [
    {
     "data": {
      "text/html": [
       "<div>\n",
       "<style scoped>\n",
       "    .dataframe tbody tr th:only-of-type {\n",
       "        vertical-align: middle;\n",
       "    }\n",
       "\n",
       "    .dataframe tbody tr th {\n",
       "        vertical-align: top;\n",
       "    }\n",
       "\n",
       "    .dataframe thead th {\n",
       "        text-align: right;\n",
       "    }\n",
       "</style>\n",
       "<table border=\"1\" class=\"dataframe\">\n",
       "  <thead>\n",
       "    <tr style=\"text-align: right;\">\n",
       "      <th></th>\n",
       "      <th>id</th>\n",
       "      <th>is_canceled</th>\n",
       "      <th>lead_time</th>\n",
       "      <th>arrival_date_year</th>\n",
       "      <th>arrival_date_month</th>\n",
       "      <th>arrival_date_week_number</th>\n",
       "      <th>arrival_date_day_of_month</th>\n",
       "      <th>stays_in_weekend_nights</th>\n",
       "      <th>stays_in_week_nights</th>\n",
       "      <th>adults</th>\n",
       "      <th>...</th>\n",
       "      <th>is_repeated_guest</th>\n",
       "      <th>previous_cancellations</th>\n",
       "      <th>previous_bookings_not_canceled</th>\n",
       "      <th>reserved_room_type</th>\n",
       "      <th>booking_changes</th>\n",
       "      <th>days_in_waiting_list</th>\n",
       "      <th>customer_type</th>\n",
       "      <th>required_car_parking_spaces</th>\n",
       "      <th>total_of_special_requests</th>\n",
       "      <th>total_nights</th>\n",
       "    </tr>\n",
       "  </thead>\n",
       "  <tbody>\n",
       "    <tr>\n",
       "      <th>22995</th>\n",
       "      <td>30935</td>\n",
       "      <td>0</td>\n",
       "      <td>37.0</td>\n",
       "      <td>2016</td>\n",
       "      <td>January</td>\n",
       "      <td>3</td>\n",
       "      <td>12</td>\n",
       "      <td>0</td>\n",
       "      <td>2</td>\n",
       "      <td>2.0</td>\n",
       "      <td>...</td>\n",
       "      <td>0</td>\n",
       "      <td>0</td>\n",
       "      <td>0</td>\n",
       "      <td>D</td>\n",
       "      <td>1</td>\n",
       "      <td>0</td>\n",
       "      <td>Transient</td>\n",
       "      <td>0</td>\n",
       "      <td>1</td>\n",
       "      <td>2</td>\n",
       "    </tr>\n",
       "    <tr>\n",
       "      <th>41528</th>\n",
       "      <td>59925</td>\n",
       "      <td>0</td>\n",
       "      <td>11.0</td>\n",
       "      <td>2015</td>\n",
       "      <td>October</td>\n",
       "      <td>42</td>\n",
       "      <td>11</td>\n",
       "      <td>2</td>\n",
       "      <td>1</td>\n",
       "      <td>1.0</td>\n",
       "      <td>...</td>\n",
       "      <td>0</td>\n",
       "      <td>0</td>\n",
       "      <td>0</td>\n",
       "      <td>A</td>\n",
       "      <td>1</td>\n",
       "      <td>0</td>\n",
       "      <td>Transient-Party</td>\n",
       "      <td>0</td>\n",
       "      <td>0</td>\n",
       "      <td>3</td>\n",
       "    </tr>\n",
       "  </tbody>\n",
       "</table>\n",
       "<p>2 rows × 25 columns</p>\n",
       "</div>"
      ],
      "text/plain": [
       "          id  is_canceled  lead_time  arrival_date_year arrival_date_month  \\\n",
       "22995  30935            0       37.0               2016            January   \n",
       "41528  59925            0       11.0               2015            October   \n",
       "\n",
       "       arrival_date_week_number  arrival_date_day_of_month  \\\n",
       "22995                         3                         12   \n",
       "41528                        42                         11   \n",
       "\n",
       "       stays_in_weekend_nights  stays_in_week_nights  adults  ...  \\\n",
       "22995                        0                     2     2.0  ...   \n",
       "41528                        2                     1     1.0  ...   \n",
       "\n",
       "       is_repeated_guest  previous_cancellations  \\\n",
       "22995                  0                       0   \n",
       "41528                  0                       0   \n",
       "\n",
       "      previous_bookings_not_canceled reserved_room_type booking_changes  \\\n",
       "22995                              0   D                              1   \n",
       "41528                              0   A                              1   \n",
       "\n",
       "       days_in_waiting_list    customer_type  required_car_parking_spaces  \\\n",
       "22995                     0        Transient                            0   \n",
       "41528                     0  Transient-Party                            0   \n",
       "\n",
       "      total_of_special_requests  total_nights  \n",
       "22995                         1             2  \n",
       "41528                         0             3  \n",
       "\n",
       "[2 rows x 25 columns]"
      ]
     },
     "execution_count": 21,
     "metadata": {},
     "output_type": "execute_result"
    }
   ],
   "source": [
    "df_train.query('babies > 3')"
   ]
  },
  {
   "cell_type": "markdown",
   "metadata": {},
   "source": [
    "9 и 10 младенцев с 1 и 2 взрослыми явно ошибка, всего 2 строчки - можно просто удалить их или заменить на среднее - 1. Заменим на среднее."
   ]
  },
  {
   "cell_type": "code",
   "execution_count": 22,
   "metadata": {},
   "outputs": [
    {
     "data": {
      "text/html": [
       "<div>\n",
       "<style scoped>\n",
       "    .dataframe tbody tr th:only-of-type {\n",
       "        vertical-align: middle;\n",
       "    }\n",
       "\n",
       "    .dataframe tbody tr th {\n",
       "        vertical-align: top;\n",
       "    }\n",
       "\n",
       "    .dataframe thead th {\n",
       "        text-align: right;\n",
       "    }\n",
       "</style>\n",
       "<table border=\"1\" class=\"dataframe\">\n",
       "  <thead>\n",
       "    <tr style=\"text-align: right;\">\n",
       "      <th></th>\n",
       "      <th>id</th>\n",
       "      <th>is_canceled</th>\n",
       "      <th>lead_time</th>\n",
       "      <th>arrival_date_year</th>\n",
       "      <th>arrival_date_month</th>\n",
       "      <th>arrival_date_week_number</th>\n",
       "      <th>arrival_date_day_of_month</th>\n",
       "      <th>stays_in_weekend_nights</th>\n",
       "      <th>stays_in_week_nights</th>\n",
       "      <th>adults</th>\n",
       "      <th>...</th>\n",
       "      <th>is_repeated_guest</th>\n",
       "      <th>previous_cancellations</th>\n",
       "      <th>previous_bookings_not_canceled</th>\n",
       "      <th>reserved_room_type</th>\n",
       "      <th>booking_changes</th>\n",
       "      <th>days_in_waiting_list</th>\n",
       "      <th>customer_type</th>\n",
       "      <th>required_car_parking_spaces</th>\n",
       "      <th>total_of_special_requests</th>\n",
       "      <th>total_nights</th>\n",
       "    </tr>\n",
       "  </thead>\n",
       "  <tbody>\n",
       "    <tr>\n",
       "      <th>22995</th>\n",
       "      <td>30935</td>\n",
       "      <td>0</td>\n",
       "      <td>37.0</td>\n",
       "      <td>2016</td>\n",
       "      <td>January</td>\n",
       "      <td>3</td>\n",
       "      <td>12</td>\n",
       "      <td>0</td>\n",
       "      <td>2</td>\n",
       "      <td>2.0</td>\n",
       "      <td>...</td>\n",
       "      <td>0</td>\n",
       "      <td>0</td>\n",
       "      <td>0</td>\n",
       "      <td>D</td>\n",
       "      <td>1</td>\n",
       "      <td>0</td>\n",
       "      <td>Transient</td>\n",
       "      <td>0</td>\n",
       "      <td>1</td>\n",
       "      <td>2</td>\n",
       "    </tr>\n",
       "    <tr>\n",
       "      <th>41528</th>\n",
       "      <td>59925</td>\n",
       "      <td>0</td>\n",
       "      <td>11.0</td>\n",
       "      <td>2015</td>\n",
       "      <td>October</td>\n",
       "      <td>42</td>\n",
       "      <td>11</td>\n",
       "      <td>2</td>\n",
       "      <td>1</td>\n",
       "      <td>1.0</td>\n",
       "      <td>...</td>\n",
       "      <td>0</td>\n",
       "      <td>0</td>\n",
       "      <td>0</td>\n",
       "      <td>A</td>\n",
       "      <td>1</td>\n",
       "      <td>0</td>\n",
       "      <td>Transient-Party</td>\n",
       "      <td>0</td>\n",
       "      <td>0</td>\n",
       "      <td>3</td>\n",
       "    </tr>\n",
       "  </tbody>\n",
       "</table>\n",
       "<p>2 rows × 25 columns</p>\n",
       "</div>"
      ],
      "text/plain": [
       "          id  is_canceled  lead_time  arrival_date_year arrival_date_month  \\\n",
       "22995  30935            0       37.0               2016            January   \n",
       "41528  59925            0       11.0               2015            October   \n",
       "\n",
       "       arrival_date_week_number  arrival_date_day_of_month  \\\n",
       "22995                         3                         12   \n",
       "41528                        42                         11   \n",
       "\n",
       "       stays_in_weekend_nights  stays_in_week_nights  adults  ...  \\\n",
       "22995                        0                     2     2.0  ...   \n",
       "41528                        2                     1     1.0  ...   \n",
       "\n",
       "       is_repeated_guest  previous_cancellations  \\\n",
       "22995                  0                       0   \n",
       "41528                  0                       0   \n",
       "\n",
       "      previous_bookings_not_canceled reserved_room_type booking_changes  \\\n",
       "22995                              0   D                              1   \n",
       "41528                              0   A                              1   \n",
       "\n",
       "       days_in_waiting_list    customer_type  required_car_parking_spaces  \\\n",
       "22995                     0        Transient                            0   \n",
       "41528                     0  Transient-Party                            0   \n",
       "\n",
       "      total_of_special_requests  total_nights  \n",
       "22995                         1             2  \n",
       "41528                         0             3  \n",
       "\n",
       "[2 rows x 25 columns]"
      ]
     },
     "execution_count": 22,
     "metadata": {},
     "output_type": "execute_result"
    }
   ],
   "source": [
    "df_train.query('babies > 3')"
   ]
  },
  {
   "cell_type": "code",
   "execution_count": 23,
   "metadata": {},
   "outputs": [],
   "source": [
    "df_train.loc[df_train['babies'] > 3, 'babies'] = 1"
   ]
  },
  {
   "cell_type": "code",
   "execution_count": 24,
   "metadata": {
    "scrolled": true
   },
   "outputs": [
    {
     "data": {
      "text/html": [
       "<div>\n",
       "<style scoped>\n",
       "    .dataframe tbody tr th:only-of-type {\n",
       "        vertical-align: middle;\n",
       "    }\n",
       "\n",
       "    .dataframe tbody tr th {\n",
       "        vertical-align: top;\n",
       "    }\n",
       "\n",
       "    .dataframe thead th {\n",
       "        text-align: right;\n",
       "    }\n",
       "</style>\n",
       "<table border=\"1\" class=\"dataframe\">\n",
       "  <thead>\n",
       "    <tr style=\"text-align: right;\">\n",
       "      <th></th>\n",
       "      <th>id</th>\n",
       "      <th>is_canceled</th>\n",
       "      <th>lead_time</th>\n",
       "      <th>arrival_date_year</th>\n",
       "      <th>arrival_date_month</th>\n",
       "      <th>arrival_date_week_number</th>\n",
       "      <th>arrival_date_day_of_month</th>\n",
       "      <th>stays_in_weekend_nights</th>\n",
       "      <th>stays_in_week_nights</th>\n",
       "      <th>adults</th>\n",
       "      <th>...</th>\n",
       "      <th>is_repeated_guest</th>\n",
       "      <th>previous_cancellations</th>\n",
       "      <th>previous_bookings_not_canceled</th>\n",
       "      <th>reserved_room_type</th>\n",
       "      <th>booking_changes</th>\n",
       "      <th>days_in_waiting_list</th>\n",
       "      <th>customer_type</th>\n",
       "      <th>required_car_parking_spaces</th>\n",
       "      <th>total_of_special_requests</th>\n",
       "      <th>total_nights</th>\n",
       "    </tr>\n",
       "  </thead>\n",
       "  <tbody>\n",
       "  </tbody>\n",
       "</table>\n",
       "<p>0 rows × 25 columns</p>\n",
       "</div>"
      ],
      "text/plain": [
       "Empty DataFrame\n",
       "Columns: [id, is_canceled, lead_time, arrival_date_year, arrival_date_month, arrival_date_week_number, arrival_date_day_of_month, stays_in_weekend_nights, stays_in_week_nights, adults, children, babies, meal, country, distribution_channel, is_repeated_guest, previous_cancellations, previous_bookings_not_canceled, reserved_room_type, booking_changes, days_in_waiting_list, customer_type, required_car_parking_spaces, total_of_special_requests, total_nights]\n",
       "Index: []\n",
       "\n",
       "[0 rows x 25 columns]"
      ]
     },
     "execution_count": 24,
     "metadata": {},
     "output_type": "execute_result"
    }
   ],
   "source": [
    "df_train.query('babies > 3')"
   ]
  },
  {
   "cell_type": "markdown",
   "metadata": {},
   "source": [
    "Проверим количество записей с младенцами больше 1. Если их очень мало, то объединим данные и получим категориальные данные - нет (0) и есть (1) младенец. И переименуем колонку в has_babies"
   ]
  },
  {
   "cell_type": "code",
   "execution_count": 25,
   "metadata": {},
   "outputs": [
    {
     "data": {
      "text/html": [
       "<div>\n",
       "<style scoped>\n",
       "    .dataframe tbody tr th:only-of-type {\n",
       "        vertical-align: middle;\n",
       "    }\n",
       "\n",
       "    .dataframe tbody tr th {\n",
       "        vertical-align: top;\n",
       "    }\n",
       "\n",
       "    .dataframe thead th {\n",
       "        text-align: right;\n",
       "    }\n",
       "</style>\n",
       "<table border=\"1\" class=\"dataframe\">\n",
       "  <thead>\n",
       "    <tr style=\"text-align: right;\">\n",
       "      <th></th>\n",
       "      <th>id</th>\n",
       "      <th>is_canceled</th>\n",
       "      <th>lead_time</th>\n",
       "      <th>arrival_date_year</th>\n",
       "      <th>arrival_date_month</th>\n",
       "      <th>arrival_date_week_number</th>\n",
       "      <th>arrival_date_day_of_month</th>\n",
       "      <th>stays_in_weekend_nights</th>\n",
       "      <th>stays_in_week_nights</th>\n",
       "      <th>adults</th>\n",
       "      <th>...</th>\n",
       "      <th>is_repeated_guest</th>\n",
       "      <th>previous_cancellations</th>\n",
       "      <th>previous_bookings_not_canceled</th>\n",
       "      <th>reserved_room_type</th>\n",
       "      <th>booking_changes</th>\n",
       "      <th>days_in_waiting_list</th>\n",
       "      <th>customer_type</th>\n",
       "      <th>required_car_parking_spaces</th>\n",
       "      <th>total_of_special_requests</th>\n",
       "      <th>total_nights</th>\n",
       "    </tr>\n",
       "    <tr>\n",
       "      <th>babies</th>\n",
       "      <th></th>\n",
       "      <th></th>\n",
       "      <th></th>\n",
       "      <th></th>\n",
       "      <th></th>\n",
       "      <th></th>\n",
       "      <th></th>\n",
       "      <th></th>\n",
       "      <th></th>\n",
       "      <th></th>\n",
       "      <th></th>\n",
       "      <th></th>\n",
       "      <th></th>\n",
       "      <th></th>\n",
       "      <th></th>\n",
       "      <th></th>\n",
       "      <th></th>\n",
       "      <th></th>\n",
       "      <th></th>\n",
       "      <th></th>\n",
       "      <th></th>\n",
       "    </tr>\n",
       "  </thead>\n",
       "  <tbody>\n",
       "    <tr>\n",
       "      <th>0.0</th>\n",
       "      <td>64777</td>\n",
       "      <td>64777</td>\n",
       "      <td>64777</td>\n",
       "      <td>64777</td>\n",
       "      <td>64777</td>\n",
       "      <td>64777</td>\n",
       "      <td>64777</td>\n",
       "      <td>64777</td>\n",
       "      <td>64777</td>\n",
       "      <td>64777</td>\n",
       "      <td>...</td>\n",
       "      <td>64777</td>\n",
       "      <td>64777</td>\n",
       "      <td>64777</td>\n",
       "      <td>64777</td>\n",
       "      <td>64777</td>\n",
       "      <td>64777</td>\n",
       "      <td>64777</td>\n",
       "      <td>64777</td>\n",
       "      <td>64777</td>\n",
       "      <td>64777</td>\n",
       "    </tr>\n",
       "    <tr>\n",
       "      <th>1.0</th>\n",
       "      <td>449</td>\n",
       "      <td>449</td>\n",
       "      <td>449</td>\n",
       "      <td>449</td>\n",
       "      <td>449</td>\n",
       "      <td>449</td>\n",
       "      <td>449</td>\n",
       "      <td>449</td>\n",
       "      <td>449</td>\n",
       "      <td>449</td>\n",
       "      <td>...</td>\n",
       "      <td>449</td>\n",
       "      <td>449</td>\n",
       "      <td>449</td>\n",
       "      <td>449</td>\n",
       "      <td>449</td>\n",
       "      <td>449</td>\n",
       "      <td>449</td>\n",
       "      <td>449</td>\n",
       "      <td>449</td>\n",
       "      <td>449</td>\n",
       "    </tr>\n",
       "    <tr>\n",
       "      <th>2.0</th>\n",
       "      <td>3</td>\n",
       "      <td>3</td>\n",
       "      <td>3</td>\n",
       "      <td>3</td>\n",
       "      <td>3</td>\n",
       "      <td>3</td>\n",
       "      <td>3</td>\n",
       "      <td>3</td>\n",
       "      <td>3</td>\n",
       "      <td>3</td>\n",
       "      <td>...</td>\n",
       "      <td>3</td>\n",
       "      <td>3</td>\n",
       "      <td>3</td>\n",
       "      <td>3</td>\n",
       "      <td>3</td>\n",
       "      <td>3</td>\n",
       "      <td>3</td>\n",
       "      <td>3</td>\n",
       "      <td>3</td>\n",
       "      <td>3</td>\n",
       "    </tr>\n",
       "  </tbody>\n",
       "</table>\n",
       "<p>3 rows × 24 columns</p>\n",
       "</div>"
      ],
      "text/plain": [
       "           id  is_canceled  lead_time  arrival_date_year  arrival_date_month  \\\n",
       "babies                                                                         \n",
       "0.0     64777        64777      64777              64777               64777   \n",
       "1.0       449          449        449                449                 449   \n",
       "2.0         3            3          3                  3                   3   \n",
       "\n",
       "        arrival_date_week_number  arrival_date_day_of_month  \\\n",
       "babies                                                        \n",
       "0.0                        64777                      64777   \n",
       "1.0                          449                        449   \n",
       "2.0                            3                          3   \n",
       "\n",
       "        stays_in_weekend_nights  stays_in_week_nights  adults  ...  \\\n",
       "babies                                                         ...   \n",
       "0.0                       64777                 64777   64777  ...   \n",
       "1.0                         449                   449     449  ...   \n",
       "2.0                           3                     3       3  ...   \n",
       "\n",
       "        is_repeated_guest  previous_cancellations  \\\n",
       "babies                                              \n",
       "0.0                 64777                   64777   \n",
       "1.0                   449                     449   \n",
       "2.0                     3                       3   \n",
       "\n",
       "        previous_bookings_not_canceled  reserved_room_type  booking_changes  \\\n",
       "babies                                                                        \n",
       "0.0                              64777               64777            64777   \n",
       "1.0                                449                 449              449   \n",
       "2.0                                  3                   3                3   \n",
       "\n",
       "        days_in_waiting_list  customer_type  required_car_parking_spaces  \\\n",
       "babies                                                                     \n",
       "0.0                    64777          64777                        64777   \n",
       "1.0                      449            449                          449   \n",
       "2.0                        3              3                            3   \n",
       "\n",
       "        total_of_special_requests  total_nights  \n",
       "babies                                           \n",
       "0.0                         64777         64777  \n",
       "1.0                           449           449  \n",
       "2.0                             3             3  \n",
       "\n",
       "[3 rows x 24 columns]"
      ]
     },
     "execution_count": 25,
     "metadata": {},
     "output_type": "execute_result"
    }
   ],
   "source": [
    "df_train.groupby('babies').count()"
   ]
  },
  {
   "cell_type": "code",
   "execution_count": 26,
   "metadata": {
    "scrolled": true
   },
   "outputs": [
    {
     "data": {
      "text/html": [
       "<div>\n",
       "<style scoped>\n",
       "    .dataframe tbody tr th:only-of-type {\n",
       "        vertical-align: middle;\n",
       "    }\n",
       "\n",
       "    .dataframe tbody tr th {\n",
       "        vertical-align: top;\n",
       "    }\n",
       "\n",
       "    .dataframe thead th {\n",
       "        text-align: right;\n",
       "    }\n",
       "</style>\n",
       "<table border=\"1\" class=\"dataframe\">\n",
       "  <thead>\n",
       "    <tr style=\"text-align: right;\">\n",
       "      <th></th>\n",
       "      <th>id</th>\n",
       "      <th>is_canceled</th>\n",
       "      <th>lead_time</th>\n",
       "      <th>arrival_date_year</th>\n",
       "      <th>arrival_date_month</th>\n",
       "      <th>arrival_date_week_number</th>\n",
       "      <th>arrival_date_day_of_month</th>\n",
       "      <th>stays_in_weekend_nights</th>\n",
       "      <th>stays_in_week_nights</th>\n",
       "      <th>adults</th>\n",
       "      <th>...</th>\n",
       "      <th>is_repeated_guest</th>\n",
       "      <th>previous_cancellations</th>\n",
       "      <th>previous_bookings_not_canceled</th>\n",
       "      <th>reserved_room_type</th>\n",
       "      <th>booking_changes</th>\n",
       "      <th>days_in_waiting_list</th>\n",
       "      <th>customer_type</th>\n",
       "      <th>required_car_parking_spaces</th>\n",
       "      <th>total_of_special_requests</th>\n",
       "      <th>total_nights</th>\n",
       "    </tr>\n",
       "    <tr>\n",
       "      <th>babies</th>\n",
       "      <th></th>\n",
       "      <th></th>\n",
       "      <th></th>\n",
       "      <th></th>\n",
       "      <th></th>\n",
       "      <th></th>\n",
       "      <th></th>\n",
       "      <th></th>\n",
       "      <th></th>\n",
       "      <th></th>\n",
       "      <th></th>\n",
       "      <th></th>\n",
       "      <th></th>\n",
       "      <th></th>\n",
       "      <th></th>\n",
       "      <th></th>\n",
       "      <th></th>\n",
       "      <th></th>\n",
       "      <th></th>\n",
       "      <th></th>\n",
       "      <th></th>\n",
       "    </tr>\n",
       "  </thead>\n",
       "  <tbody>\n",
       "    <tr>\n",
       "      <th>0.0</th>\n",
       "      <td>32237</td>\n",
       "      <td>32237</td>\n",
       "      <td>32237</td>\n",
       "      <td>32237</td>\n",
       "      <td>32237</td>\n",
       "      <td>32237</td>\n",
       "      <td>32237</td>\n",
       "      <td>32237</td>\n",
       "      <td>32237</td>\n",
       "      <td>32237</td>\n",
       "      <td>...</td>\n",
       "      <td>32237</td>\n",
       "      <td>32237</td>\n",
       "      <td>32237</td>\n",
       "      <td>32237</td>\n",
       "      <td>32237</td>\n",
       "      <td>32237</td>\n",
       "      <td>32237</td>\n",
       "      <td>32237</td>\n",
       "      <td>32237</td>\n",
       "      <td>32237</td>\n",
       "    </tr>\n",
       "    <tr>\n",
       "      <th>1.0</th>\n",
       "      <td>171</td>\n",
       "      <td>171</td>\n",
       "      <td>171</td>\n",
       "      <td>171</td>\n",
       "      <td>171</td>\n",
       "      <td>171</td>\n",
       "      <td>171</td>\n",
       "      <td>171</td>\n",
       "      <td>171</td>\n",
       "      <td>171</td>\n",
       "      <td>...</td>\n",
       "      <td>171</td>\n",
       "      <td>171</td>\n",
       "      <td>171</td>\n",
       "      <td>171</td>\n",
       "      <td>171</td>\n",
       "      <td>171</td>\n",
       "      <td>171</td>\n",
       "      <td>171</td>\n",
       "      <td>171</td>\n",
       "      <td>171</td>\n",
       "    </tr>\n",
       "    <tr>\n",
       "      <th>2.0</th>\n",
       "      <td>4</td>\n",
       "      <td>4</td>\n",
       "      <td>4</td>\n",
       "      <td>4</td>\n",
       "      <td>4</td>\n",
       "      <td>4</td>\n",
       "      <td>4</td>\n",
       "      <td>4</td>\n",
       "      <td>4</td>\n",
       "      <td>4</td>\n",
       "      <td>...</td>\n",
       "      <td>4</td>\n",
       "      <td>4</td>\n",
       "      <td>4</td>\n",
       "      <td>4</td>\n",
       "      <td>4</td>\n",
       "      <td>4</td>\n",
       "      <td>4</td>\n",
       "      <td>4</td>\n",
       "      <td>4</td>\n",
       "      <td>4</td>\n",
       "    </tr>\n",
       "  </tbody>\n",
       "</table>\n",
       "<p>3 rows × 24 columns</p>\n",
       "</div>"
      ],
      "text/plain": [
       "           id  is_canceled  lead_time  arrival_date_year  arrival_date_month  \\\n",
       "babies                                                                         \n",
       "0.0     32237        32237      32237              32237               32237   \n",
       "1.0       171          171        171                171                 171   \n",
       "2.0         4            4          4                  4                   4   \n",
       "\n",
       "        arrival_date_week_number  arrival_date_day_of_month  \\\n",
       "babies                                                        \n",
       "0.0                        32237                      32237   \n",
       "1.0                          171                        171   \n",
       "2.0                            4                          4   \n",
       "\n",
       "        stays_in_weekend_nights  stays_in_week_nights  adults  ...  \\\n",
       "babies                                                         ...   \n",
       "0.0                       32237                 32237   32237  ...   \n",
       "1.0                         171                   171     171  ...   \n",
       "2.0                           4                     4       4  ...   \n",
       "\n",
       "        is_repeated_guest  previous_cancellations  \\\n",
       "babies                                              \n",
       "0.0                 32237                   32237   \n",
       "1.0                   171                     171   \n",
       "2.0                     4                       4   \n",
       "\n",
       "        previous_bookings_not_canceled  reserved_room_type  booking_changes  \\\n",
       "babies                                                                        \n",
       "0.0                              32237               32237            32237   \n",
       "1.0                                171                 171              171   \n",
       "2.0                                  4                   4                4   \n",
       "\n",
       "        days_in_waiting_list  customer_type  required_car_parking_spaces  \\\n",
       "babies                                                                     \n",
       "0.0                    32237          32237                        32237   \n",
       "1.0                      171            171                          171   \n",
       "2.0                        4              4                            4   \n",
       "\n",
       "        total_of_special_requests  total_nights  \n",
       "babies                                           \n",
       "0.0                         32237         32237  \n",
       "1.0                           171           171  \n",
       "2.0                             4             4  \n",
       "\n",
       "[3 rows x 24 columns]"
      ]
     },
     "execution_count": 26,
     "metadata": {},
     "output_type": "execute_result"
    }
   ],
   "source": [
    "df_test.groupby('babies').count()"
   ]
  },
  {
   "cell_type": "code",
   "execution_count": 27,
   "metadata": {},
   "outputs": [],
   "source": [
    "df_train.loc[df_train['babies'] > 1, 'babies'] = 1\n",
    "df_test.loc[df_test['babies'] > 1, 'babies'] = 1"
   ]
  },
  {
   "cell_type": "code",
   "execution_count": 28,
   "metadata": {},
   "outputs": [],
   "source": [
    "df_train.rename(columns={'babies': 'has_babies'}, inplace=True)\n",
    "df_test.rename(columns={'babies': 'has_babies'}, inplace=True)"
   ]
  },
  {
   "cell_type": "code",
   "execution_count": 29,
   "metadata": {
    "scrolled": true
   },
   "outputs": [
    {
     "data": {
      "text/html": [
       "<div>\n",
       "<style scoped>\n",
       "    .dataframe tbody tr th:only-of-type {\n",
       "        vertical-align: middle;\n",
       "    }\n",
       "\n",
       "    .dataframe tbody tr th {\n",
       "        vertical-align: top;\n",
       "    }\n",
       "\n",
       "    .dataframe thead th {\n",
       "        text-align: right;\n",
       "    }\n",
       "</style>\n",
       "<table border=\"1\" class=\"dataframe\">\n",
       "  <thead>\n",
       "    <tr style=\"text-align: right;\">\n",
       "      <th></th>\n",
       "      <th>id</th>\n",
       "      <th>is_canceled</th>\n",
       "      <th>lead_time</th>\n",
       "      <th>arrival_date_year</th>\n",
       "      <th>arrival_date_month</th>\n",
       "      <th>arrival_date_week_number</th>\n",
       "      <th>arrival_date_day_of_month</th>\n",
       "      <th>stays_in_weekend_nights</th>\n",
       "      <th>stays_in_week_nights</th>\n",
       "      <th>adults</th>\n",
       "      <th>...</th>\n",
       "      <th>is_repeated_guest</th>\n",
       "      <th>previous_cancellations</th>\n",
       "      <th>previous_bookings_not_canceled</th>\n",
       "      <th>reserved_room_type</th>\n",
       "      <th>booking_changes</th>\n",
       "      <th>days_in_waiting_list</th>\n",
       "      <th>customer_type</th>\n",
       "      <th>required_car_parking_spaces</th>\n",
       "      <th>total_of_special_requests</th>\n",
       "      <th>total_nights</th>\n",
       "    </tr>\n",
       "    <tr>\n",
       "      <th>has_babies</th>\n",
       "      <th></th>\n",
       "      <th></th>\n",
       "      <th></th>\n",
       "      <th></th>\n",
       "      <th></th>\n",
       "      <th></th>\n",
       "      <th></th>\n",
       "      <th></th>\n",
       "      <th></th>\n",
       "      <th></th>\n",
       "      <th></th>\n",
       "      <th></th>\n",
       "      <th></th>\n",
       "      <th></th>\n",
       "      <th></th>\n",
       "      <th></th>\n",
       "      <th></th>\n",
       "      <th></th>\n",
       "      <th></th>\n",
       "      <th></th>\n",
       "      <th></th>\n",
       "    </tr>\n",
       "  </thead>\n",
       "  <tbody>\n",
       "    <tr>\n",
       "      <th>0.0</th>\n",
       "      <td>64777</td>\n",
       "      <td>64777</td>\n",
       "      <td>64777</td>\n",
       "      <td>64777</td>\n",
       "      <td>64777</td>\n",
       "      <td>64777</td>\n",
       "      <td>64777</td>\n",
       "      <td>64777</td>\n",
       "      <td>64777</td>\n",
       "      <td>64777</td>\n",
       "      <td>...</td>\n",
       "      <td>64777</td>\n",
       "      <td>64777</td>\n",
       "      <td>64777</td>\n",
       "      <td>64777</td>\n",
       "      <td>64777</td>\n",
       "      <td>64777</td>\n",
       "      <td>64777</td>\n",
       "      <td>64777</td>\n",
       "      <td>64777</td>\n",
       "      <td>64777</td>\n",
       "    </tr>\n",
       "    <tr>\n",
       "      <th>1.0</th>\n",
       "      <td>452</td>\n",
       "      <td>452</td>\n",
       "      <td>452</td>\n",
       "      <td>452</td>\n",
       "      <td>452</td>\n",
       "      <td>452</td>\n",
       "      <td>452</td>\n",
       "      <td>452</td>\n",
       "      <td>452</td>\n",
       "      <td>452</td>\n",
       "      <td>...</td>\n",
       "      <td>452</td>\n",
       "      <td>452</td>\n",
       "      <td>452</td>\n",
       "      <td>452</td>\n",
       "      <td>452</td>\n",
       "      <td>452</td>\n",
       "      <td>452</td>\n",
       "      <td>452</td>\n",
       "      <td>452</td>\n",
       "      <td>452</td>\n",
       "    </tr>\n",
       "  </tbody>\n",
       "</table>\n",
       "<p>2 rows × 24 columns</p>\n",
       "</div>"
      ],
      "text/plain": [
       "               id  is_canceled  lead_time  arrival_date_year  \\\n",
       "has_babies                                                     \n",
       "0.0         64777        64777      64777              64777   \n",
       "1.0           452          452        452                452   \n",
       "\n",
       "            arrival_date_month  arrival_date_week_number  \\\n",
       "has_babies                                                 \n",
       "0.0                      64777                     64777   \n",
       "1.0                        452                       452   \n",
       "\n",
       "            arrival_date_day_of_month  stays_in_weekend_nights  \\\n",
       "has_babies                                                       \n",
       "0.0                             64777                    64777   \n",
       "1.0                               452                      452   \n",
       "\n",
       "            stays_in_week_nights  adults  ...  is_repeated_guest  \\\n",
       "has_babies                                ...                      \n",
       "0.0                        64777   64777  ...              64777   \n",
       "1.0                          452     452  ...                452   \n",
       "\n",
       "            previous_cancellations  previous_bookings_not_canceled  \\\n",
       "has_babies                                                           \n",
       "0.0                          64777                           64777   \n",
       "1.0                            452                             452   \n",
       "\n",
       "            reserved_room_type  booking_changes  days_in_waiting_list  \\\n",
       "has_babies                                                              \n",
       "0.0                      64777            64777                 64777   \n",
       "1.0                        452              452                   452   \n",
       "\n",
       "            customer_type  required_car_parking_spaces  \\\n",
       "has_babies                                               \n",
       "0.0                 64777                        64777   \n",
       "1.0                   452                          452   \n",
       "\n",
       "            total_of_special_requests  total_nights  \n",
       "has_babies                                           \n",
       "0.0                             64777         64777  \n",
       "1.0                               452           452  \n",
       "\n",
       "[2 rows x 24 columns]"
      ]
     },
     "execution_count": 29,
     "metadata": {},
     "output_type": "execute_result"
    }
   ],
   "source": [
    "df_train.groupby('has_babies').count()"
   ]
  },
  {
   "cell_type": "markdown",
   "metadata": {},
   "source": [
    "Приведем данные к правильным типам."
   ]
  },
  {
   "cell_type": "code",
   "execution_count": 30,
   "metadata": {},
   "outputs": [
    {
     "data": {
      "text/html": [
       "<div>\n",
       "<style scoped>\n",
       "    .dataframe tbody tr th:only-of-type {\n",
       "        vertical-align: middle;\n",
       "    }\n",
       "\n",
       "    .dataframe tbody tr th {\n",
       "        vertical-align: top;\n",
       "    }\n",
       "\n",
       "    .dataframe thead th {\n",
       "        text-align: right;\n",
       "    }\n",
       "</style>\n",
       "<table border=\"1\" class=\"dataframe\">\n",
       "  <thead>\n",
       "    <tr style=\"text-align: right;\">\n",
       "      <th></th>\n",
       "      <th>id</th>\n",
       "      <th>is_canceled</th>\n",
       "      <th>lead_time</th>\n",
       "      <th>arrival_date_year</th>\n",
       "      <th>arrival_date_month</th>\n",
       "      <th>arrival_date_week_number</th>\n",
       "      <th>arrival_date_day_of_month</th>\n",
       "      <th>stays_in_weekend_nights</th>\n",
       "      <th>stays_in_week_nights</th>\n",
       "      <th>adults</th>\n",
       "      <th>...</th>\n",
       "      <th>is_repeated_guest</th>\n",
       "      <th>previous_cancellations</th>\n",
       "      <th>previous_bookings_not_canceled</th>\n",
       "      <th>reserved_room_type</th>\n",
       "      <th>booking_changes</th>\n",
       "      <th>days_in_waiting_list</th>\n",
       "      <th>customer_type</th>\n",
       "      <th>required_car_parking_spaces</th>\n",
       "      <th>total_of_special_requests</th>\n",
       "      <th>total_nights</th>\n",
       "    </tr>\n",
       "  </thead>\n",
       "  <tbody>\n",
       "    <tr>\n",
       "      <th>0</th>\n",
       "      <td>0</td>\n",
       "      <td>0</td>\n",
       "      <td>7.0</td>\n",
       "      <td>2015</td>\n",
       "      <td>July</td>\n",
       "      <td>27</td>\n",
       "      <td>1</td>\n",
       "      <td>0</td>\n",
       "      <td>1</td>\n",
       "      <td>1.0</td>\n",
       "      <td>...</td>\n",
       "      <td>0</td>\n",
       "      <td>0</td>\n",
       "      <td>0</td>\n",
       "      <td>A</td>\n",
       "      <td>0</td>\n",
       "      <td>0</td>\n",
       "      <td>Transient</td>\n",
       "      <td>0</td>\n",
       "      <td>0</td>\n",
       "      <td>1</td>\n",
       "    </tr>\n",
       "    <tr>\n",
       "      <th>1</th>\n",
       "      <td>1</td>\n",
       "      <td>0</td>\n",
       "      <td>14.0</td>\n",
       "      <td>2015</td>\n",
       "      <td>July</td>\n",
       "      <td>27</td>\n",
       "      <td>1</td>\n",
       "      <td>0</td>\n",
       "      <td>2</td>\n",
       "      <td>2.0</td>\n",
       "      <td>...</td>\n",
       "      <td>0</td>\n",
       "      <td>0</td>\n",
       "      <td>0</td>\n",
       "      <td>A</td>\n",
       "      <td>0</td>\n",
       "      <td>0</td>\n",
       "      <td>Transient</td>\n",
       "      <td>0</td>\n",
       "      <td>1</td>\n",
       "      <td>2</td>\n",
       "    </tr>\n",
       "  </tbody>\n",
       "</table>\n",
       "<p>2 rows × 25 columns</p>\n",
       "</div>"
      ],
      "text/plain": [
       "   id  is_canceled  lead_time  arrival_date_year arrival_date_month  \\\n",
       "0   0            0        7.0               2015               July   \n",
       "1   1            0       14.0               2015               July   \n",
       "\n",
       "   arrival_date_week_number  arrival_date_day_of_month  \\\n",
       "0                        27                          1   \n",
       "1                        27                          1   \n",
       "\n",
       "   stays_in_weekend_nights  stays_in_week_nights  adults  ...  \\\n",
       "0                        0                     1     1.0  ...   \n",
       "1                        0                     2     2.0  ...   \n",
       "\n",
       "   is_repeated_guest  previous_cancellations previous_bookings_not_canceled  \\\n",
       "0                  0                       0                              0   \n",
       "1                  0                       0                              0   \n",
       "\n",
       "  reserved_room_type booking_changes  days_in_waiting_list  customer_type  \\\n",
       "0   A                              0                     0      Transient   \n",
       "1   A                              0                     0      Transient   \n",
       "\n",
       "   required_car_parking_spaces total_of_special_requests  total_nights  \n",
       "0                            0                         0             1  \n",
       "1                            0                         1             2  \n",
       "\n",
       "[2 rows x 25 columns]"
      ]
     },
     "execution_count": 30,
     "metadata": {},
     "output_type": "execute_result"
    }
   ],
   "source": [
    "df_train.head(2)"
   ]
  },
  {
   "cell_type": "code",
   "execution_count": 31,
   "metadata": {},
   "outputs": [
    {
     "data": {
      "text/plain": [
       "id                                  int64\n",
       "is_canceled                         int64\n",
       "lead_time                         float64\n",
       "arrival_date_year                   int64\n",
       "arrival_date_month                 object\n",
       "arrival_date_week_number            int64\n",
       "arrival_date_day_of_month           int64\n",
       "stays_in_weekend_nights             int64\n",
       "stays_in_week_nights                int64\n",
       "adults                            float64\n",
       "children                          float64\n",
       "has_babies                        float64\n",
       "meal                               object\n",
       "country                            object\n",
       "distribution_channel               object\n",
       "is_repeated_guest                   int64\n",
       "previous_cancellations              int64\n",
       "previous_bookings_not_canceled      int64\n",
       "reserved_room_type                 object\n",
       "booking_changes                     int64\n",
       "days_in_waiting_list                int64\n",
       "customer_type                      object\n",
       "required_car_parking_spaces         int64\n",
       "total_of_special_requests           int64\n",
       "total_nights                        int64\n",
       "dtype: object"
      ]
     },
     "execution_count": 31,
     "metadata": {},
     "output_type": "execute_result"
    }
   ],
   "source": [
    "df_train.dtypes"
   ]
  },
  {
   "cell_type": "code",
   "execution_count": 32,
   "metadata": {},
   "outputs": [],
   "source": [
    "float_col = ['lead_time', 'adults', 'children', 'has_babies']"
   ]
  },
  {
   "cell_type": "code",
   "execution_count": 33,
   "metadata": {},
   "outputs": [],
   "source": [
    "df_train[float_col] = df_train[float_col].astype('int64')"
   ]
  },
  {
   "cell_type": "code",
   "execution_count": 34,
   "metadata": {},
   "outputs": [],
   "source": [
    "df_test[float_col] = df_test[float_col].astype('int64')"
   ]
  },
  {
   "cell_type": "code",
   "execution_count": 35,
   "metadata": {
    "scrolled": false
   },
   "outputs": [
    {
     "data": {
      "text/plain": [
       "id                                 int64\n",
       "is_canceled                        int64\n",
       "lead_time                          int64\n",
       "arrival_date_year                  int64\n",
       "arrival_date_month                object\n",
       "arrival_date_week_number           int64\n",
       "arrival_date_day_of_month          int64\n",
       "stays_in_weekend_nights            int64\n",
       "stays_in_week_nights               int64\n",
       "adults                             int64\n",
       "children                           int64\n",
       "has_babies                         int64\n",
       "meal                              object\n",
       "country                           object\n",
       "distribution_channel              object\n",
       "is_repeated_guest                  int64\n",
       "previous_cancellations             int64\n",
       "previous_bookings_not_canceled     int64\n",
       "reserved_room_type                object\n",
       "booking_changes                    int64\n",
       "days_in_waiting_list               int64\n",
       "customer_type                     object\n",
       "required_car_parking_spaces        int64\n",
       "total_of_special_requests          int64\n",
       "total_nights                       int64\n",
       "dtype: object"
      ]
     },
     "execution_count": 35,
     "metadata": {},
     "output_type": "execute_result"
    }
   ],
   "source": [
    "df_train.dtypes"
   ]
  },
  {
   "cell_type": "markdown",
   "metadata": {},
   "source": [
    "Проверим данные на неявные дубликаты и возможные ошибки в категориальных признаках."
   ]
  },
  {
   "cell_type": "code",
   "execution_count": 36,
   "metadata": {
    "scrolled": true
   },
   "outputs": [
    {
     "name": "stdout",
     "output_type": "stream",
     "text": [
      "arrival_date_month \n",
      " ['July' 'August' 'September' 'October' 'November' 'December' 'January'\n",
      " 'February' 'March' 'April' 'May' 'June']\n",
      "meal \n",
      " ['BB       ' 'FB       ' 'HB       ' 'SC       ' 'SC']\n",
      "country \n",
      " ['GBR' 'PRT' 'ESP' 'IRL' 'FRA' 'ROU' 'NOR' 'USA' 'DEU' 'BEL' 'CHE' 'CN'\n",
      " 'GRC' 'NLD' 'ARG' 'RUS' 'SWE' 'POL' 'EST' 'CZE' 'ITA' 'FIN' 'DNK' 'MOZ'\n",
      " 'BWA' 'LUX' 'BRA' 'SVN' 'ALB' 'CHN' 'MEX' 'MAR' 'SMR' 'LVA' 'CHL' 'AUT'\n",
      " 'LTU' 'TUR' 'ISR' 'IND' 'CYM' 'AUS' 'CPV' 'ZWE' 'DZA' 'KOR' 'CRI' 'HUN'\n",
      " 'TUN' 'ARE' 'HRV' 'HKG' 'IRN' 'GIB' 'JEY' 'URY' 'ZAF' 'COL' 'GGY' 'KWT'\n",
      " 'CYP' 'KAZ' 'THA' 'DOM' 'NGA' 'BLR' 'VEN' 'UKR' 'ARM' 'JPN' 'LKA' 'MYS'\n",
      " 'BIH' 'MUS' 'OMN' 'SUR' 'JAM' 'BGR' 'CIV' 'SRB' 'JOR' 'SYR' 'PHL' 'PRI'\n",
      " 'SGP' 'BDI' 'LBN' 'AGO' 'VNM' 'AZE' 'PLW' 'NZL' 'EGY' 'MDV' 'CMR' 'MLT'\n",
      " 'SVK' 'MWI' 'STP' 'TWN' 'IDN' 'SEN' 'PER' 'SAU' 'KNA' 'ETH' 'ECU' 'IRQ'\n",
      " 'AND' 'HND' 'PAK' 'GEO' 'ZMB' 'QAT' 'KHM' 'MCO' 'BGD' 'ISL' 'UZB' 'IMN'\n",
      " 'TJK' 'NIC' 'BEN' 'MAC' 'VGB' 'TZA' 'GAB' 'MKD' 'TMP' 'GLP' 'KEN' 'LIE'\n",
      " 'MMR' 'PAN' 'BFA' 'LBY' 'GNB' 'MLI' 'BHR' 'NAM' 'BOL' 'SYC' 'PRY' 'BRB'\n",
      " 'ABW' 'SLV' 'DMA' 'CUB' 'PYF' 'UGA' 'GUY' 'LCA' 'ATA' 'RWA' 'MNE']\n",
      "distribution_channel \n",
      " ['Direct' 'TA/TO' 'Corporate' 'GDS']\n",
      "reserved_room_type \n",
      " ['A               ' 'C               ' 'D               '\n",
      " 'E               ' 'G               ' 'F               '\n",
      " 'B               ']\n",
      "customer_type \n",
      " ['Transient' 'Contract' 'Transient-Party' 'Group']\n"
     ]
    }
   ],
   "source": [
    "for col in df_train.select_dtypes(include=['object']).columns:\n",
    "    print(col, '\\n', df_train[col].unique())"
   ]
  },
  {
   "cell_type": "markdown",
   "metadata": {},
   "source": [
    "Как можно заметить в колонках meal и reserved_room_type имеем много лишних пробелов в данных, а так же неявные дубликаты. Исправим это."
   ]
  },
  {
   "cell_type": "code",
   "execution_count": 37,
   "metadata": {},
   "outputs": [],
   "source": [
    "df_train['meal'] = df_train['meal'].str.strip()\n",
    "df_train['reserved_room_type'] = df_train['reserved_room_type'].str.strip()"
   ]
  },
  {
   "cell_type": "code",
   "execution_count": 38,
   "metadata": {},
   "outputs": [],
   "source": [
    "df_test['meal'] = df_test['meal'].str.strip()\n",
    "df_test['reserved_room_type'] = df_test['reserved_room_type'].str.strip()"
   ]
  },
  {
   "cell_type": "code",
   "execution_count": 39,
   "metadata": {
    "scrolled": true
   },
   "outputs": [
    {
     "name": "stdout",
     "output_type": "stream",
     "text": [
      "arrival_date_month \n",
      " ['July' 'August' 'September' 'October' 'November' 'December' 'January'\n",
      " 'February' 'March' 'April' 'May' 'June']\n",
      "meal \n",
      " ['BB' 'FB' 'HB' 'SC']\n",
      "country \n",
      " ['GBR' 'PRT' 'ESP' 'IRL' 'FRA' 'ROU' 'NOR' 'USA' 'DEU' 'BEL' 'CHE' 'CN'\n",
      " 'GRC' 'NLD' 'ARG' 'RUS' 'SWE' 'POL' 'EST' 'CZE' 'ITA' 'FIN' 'DNK' 'MOZ'\n",
      " 'BWA' 'LUX' 'BRA' 'SVN' 'ALB' 'CHN' 'MEX' 'MAR' 'SMR' 'LVA' 'CHL' 'AUT'\n",
      " 'LTU' 'TUR' 'ISR' 'IND' 'CYM' 'AUS' 'CPV' 'ZWE' 'DZA' 'KOR' 'CRI' 'HUN'\n",
      " 'TUN' 'ARE' 'HRV' 'HKG' 'IRN' 'GIB' 'JEY' 'URY' 'ZAF' 'COL' 'GGY' 'KWT'\n",
      " 'CYP' 'KAZ' 'THA' 'DOM' 'NGA' 'BLR' 'VEN' 'UKR' 'ARM' 'JPN' 'LKA' 'MYS'\n",
      " 'BIH' 'MUS' 'OMN' 'SUR' 'JAM' 'BGR' 'CIV' 'SRB' 'JOR' 'SYR' 'PHL' 'PRI'\n",
      " 'SGP' 'BDI' 'LBN' 'AGO' 'VNM' 'AZE' 'PLW' 'NZL' 'EGY' 'MDV' 'CMR' 'MLT'\n",
      " 'SVK' 'MWI' 'STP' 'TWN' 'IDN' 'SEN' 'PER' 'SAU' 'KNA' 'ETH' 'ECU' 'IRQ'\n",
      " 'AND' 'HND' 'PAK' 'GEO' 'ZMB' 'QAT' 'KHM' 'MCO' 'BGD' 'ISL' 'UZB' 'IMN'\n",
      " 'TJK' 'NIC' 'BEN' 'MAC' 'VGB' 'TZA' 'GAB' 'MKD' 'TMP' 'GLP' 'KEN' 'LIE'\n",
      " 'MMR' 'PAN' 'BFA' 'LBY' 'GNB' 'MLI' 'BHR' 'NAM' 'BOL' 'SYC' 'PRY' 'BRB'\n",
      " 'ABW' 'SLV' 'DMA' 'CUB' 'PYF' 'UGA' 'GUY' 'LCA' 'ATA' 'RWA' 'MNE']\n",
      "distribution_channel \n",
      " ['Direct' 'TA/TO' 'Corporate' 'GDS']\n",
      "reserved_room_type \n",
      " ['A' 'C' 'D' 'E' 'G' 'F' 'B']\n",
      "customer_type \n",
      " ['Transient' 'Contract' 'Transient-Party' 'Group']\n"
     ]
    }
   ],
   "source": [
    "for col in df_train.select_dtypes(include=['object']).columns:\n",
    "    print(col, '\\n', df_train[col].unique())"
   ]
  },
  {
   "cell_type": "markdown",
   "metadata": {},
   "source": [
    "Отлично, избавились от пробелов и неявных дубликатов."
   ]
  },
  {
   "cell_type": "code",
   "execution_count": 40,
   "metadata": {},
   "outputs": [
    {
     "data": {
      "text/html": [
       "<div>\n",
       "<style scoped>\n",
       "    .dataframe tbody tr th:only-of-type {\n",
       "        vertical-align: middle;\n",
       "    }\n",
       "\n",
       "    .dataframe tbody tr th {\n",
       "        vertical-align: top;\n",
       "    }\n",
       "\n",
       "    .dataframe thead th {\n",
       "        text-align: right;\n",
       "    }\n",
       "</style>\n",
       "<table border=\"1\" class=\"dataframe\">\n",
       "  <thead>\n",
       "    <tr style=\"text-align: right;\">\n",
       "      <th></th>\n",
       "      <th>id</th>\n",
       "      <th>is_canceled</th>\n",
       "      <th>lead_time</th>\n",
       "      <th>arrival_date_year</th>\n",
       "      <th>arrival_date_month</th>\n",
       "      <th>arrival_date_week_number</th>\n",
       "      <th>arrival_date_day_of_month</th>\n",
       "      <th>stays_in_weekend_nights</th>\n",
       "      <th>stays_in_week_nights</th>\n",
       "      <th>adults</th>\n",
       "      <th>...</th>\n",
       "      <th>is_repeated_guest</th>\n",
       "      <th>previous_cancellations</th>\n",
       "      <th>previous_bookings_not_canceled</th>\n",
       "      <th>reserved_room_type</th>\n",
       "      <th>booking_changes</th>\n",
       "      <th>days_in_waiting_list</th>\n",
       "      <th>customer_type</th>\n",
       "      <th>required_car_parking_spaces</th>\n",
       "      <th>total_of_special_requests</th>\n",
       "      <th>total_nights</th>\n",
       "    </tr>\n",
       "  </thead>\n",
       "  <tbody>\n",
       "    <tr>\n",
       "      <th>0</th>\n",
       "      <td>0</td>\n",
       "      <td>0</td>\n",
       "      <td>7</td>\n",
       "      <td>2015</td>\n",
       "      <td>July</td>\n",
       "      <td>27</td>\n",
       "      <td>1</td>\n",
       "      <td>0</td>\n",
       "      <td>1</td>\n",
       "      <td>1</td>\n",
       "      <td>...</td>\n",
       "      <td>0</td>\n",
       "      <td>0</td>\n",
       "      <td>0</td>\n",
       "      <td>A</td>\n",
       "      <td>0</td>\n",
       "      <td>0</td>\n",
       "      <td>Transient</td>\n",
       "      <td>0</td>\n",
       "      <td>0</td>\n",
       "      <td>1</td>\n",
       "    </tr>\n",
       "    <tr>\n",
       "      <th>1</th>\n",
       "      <td>1</td>\n",
       "      <td>0</td>\n",
       "      <td>14</td>\n",
       "      <td>2015</td>\n",
       "      <td>July</td>\n",
       "      <td>27</td>\n",
       "      <td>1</td>\n",
       "      <td>0</td>\n",
       "      <td>2</td>\n",
       "      <td>2</td>\n",
       "      <td>...</td>\n",
       "      <td>0</td>\n",
       "      <td>0</td>\n",
       "      <td>0</td>\n",
       "      <td>A</td>\n",
       "      <td>0</td>\n",
       "      <td>0</td>\n",
       "      <td>Transient</td>\n",
       "      <td>0</td>\n",
       "      <td>1</td>\n",
       "      <td>2</td>\n",
       "    </tr>\n",
       "  </tbody>\n",
       "</table>\n",
       "<p>2 rows × 25 columns</p>\n",
       "</div>"
      ],
      "text/plain": [
       "   id  is_canceled  lead_time  arrival_date_year arrival_date_month  \\\n",
       "0   0            0          7               2015               July   \n",
       "1   1            0         14               2015               July   \n",
       "\n",
       "   arrival_date_week_number  arrival_date_day_of_month  \\\n",
       "0                        27                          1   \n",
       "1                        27                          1   \n",
       "\n",
       "   stays_in_weekend_nights  stays_in_week_nights  adults  ...  \\\n",
       "0                        0                     1       1  ...   \n",
       "1                        0                     2       2  ...   \n",
       "\n",
       "   is_repeated_guest  previous_cancellations previous_bookings_not_canceled  \\\n",
       "0                  0                       0                              0   \n",
       "1                  0                       0                              0   \n",
       "\n",
       "  reserved_room_type booking_changes  days_in_waiting_list  customer_type  \\\n",
       "0                  A               0                     0      Transient   \n",
       "1                  A               0                     0      Transient   \n",
       "\n",
       "   required_car_parking_spaces total_of_special_requests  total_nights  \n",
       "0                            0                         0             1  \n",
       "1                            0                         1             2  \n",
       "\n",
       "[2 rows x 25 columns]"
      ]
     },
     "execution_count": 40,
     "metadata": {},
     "output_type": "execute_result"
    }
   ],
   "source": [
    "df_train.head(2)"
   ]
  },
  {
   "cell_type": "markdown",
   "metadata": {},
   "source": [
    "Перведем месяцы в числовые значения."
   ]
  },
  {
   "cell_type": "code",
   "execution_count": 41,
   "metadata": {},
   "outputs": [],
   "source": [
    "months = {\n",
    "    'January': 1, 'February': 2, 'March': 3, 'April': 4,\n",
    "    'May': 5, 'June': 6, 'July': 7, 'August': 8,\n",
    "    'September': 9, 'October': 10, 'November': 11, 'December': 12\n",
    "}"
   ]
  },
  {
   "cell_type": "code",
   "execution_count": 42,
   "metadata": {},
   "outputs": [],
   "source": [
    "df_train['arrival_date_month'] = df_train['arrival_date_month'].apply(lambda x: months[x])\n",
    "df_test['arrival_date_month'] = df_test['arrival_date_month'].apply(lambda x: months[x])"
   ]
  },
  {
   "cell_type": "code",
   "execution_count": 43,
   "metadata": {},
   "outputs": [
    {
     "data": {
      "text/html": [
       "<div>\n",
       "<style scoped>\n",
       "    .dataframe tbody tr th:only-of-type {\n",
       "        vertical-align: middle;\n",
       "    }\n",
       "\n",
       "    .dataframe tbody tr th {\n",
       "        vertical-align: top;\n",
       "    }\n",
       "\n",
       "    .dataframe thead th {\n",
       "        text-align: right;\n",
       "    }\n",
       "</style>\n",
       "<table border=\"1\" class=\"dataframe\">\n",
       "  <thead>\n",
       "    <tr style=\"text-align: right;\">\n",
       "      <th></th>\n",
       "      <th>id</th>\n",
       "      <th>is_canceled</th>\n",
       "      <th>lead_time</th>\n",
       "      <th>arrival_date_year</th>\n",
       "      <th>arrival_date_month</th>\n",
       "      <th>arrival_date_week_number</th>\n",
       "      <th>arrival_date_day_of_month</th>\n",
       "      <th>stays_in_weekend_nights</th>\n",
       "      <th>stays_in_week_nights</th>\n",
       "      <th>adults</th>\n",
       "      <th>...</th>\n",
       "      <th>is_repeated_guest</th>\n",
       "      <th>previous_cancellations</th>\n",
       "      <th>previous_bookings_not_canceled</th>\n",
       "      <th>reserved_room_type</th>\n",
       "      <th>booking_changes</th>\n",
       "      <th>days_in_waiting_list</th>\n",
       "      <th>customer_type</th>\n",
       "      <th>required_car_parking_spaces</th>\n",
       "      <th>total_of_special_requests</th>\n",
       "      <th>total_nights</th>\n",
       "    </tr>\n",
       "  </thead>\n",
       "  <tbody>\n",
       "    <tr>\n",
       "      <th>0</th>\n",
       "      <td>0</td>\n",
       "      <td>0</td>\n",
       "      <td>7</td>\n",
       "      <td>2015</td>\n",
       "      <td>7</td>\n",
       "      <td>27</td>\n",
       "      <td>1</td>\n",
       "      <td>0</td>\n",
       "      <td>1</td>\n",
       "      <td>1</td>\n",
       "      <td>...</td>\n",
       "      <td>0</td>\n",
       "      <td>0</td>\n",
       "      <td>0</td>\n",
       "      <td>A</td>\n",
       "      <td>0</td>\n",
       "      <td>0</td>\n",
       "      <td>Transient</td>\n",
       "      <td>0</td>\n",
       "      <td>0</td>\n",
       "      <td>1</td>\n",
       "    </tr>\n",
       "    <tr>\n",
       "      <th>1</th>\n",
       "      <td>1</td>\n",
       "      <td>0</td>\n",
       "      <td>14</td>\n",
       "      <td>2015</td>\n",
       "      <td>7</td>\n",
       "      <td>27</td>\n",
       "      <td>1</td>\n",
       "      <td>0</td>\n",
       "      <td>2</td>\n",
       "      <td>2</td>\n",
       "      <td>...</td>\n",
       "      <td>0</td>\n",
       "      <td>0</td>\n",
       "      <td>0</td>\n",
       "      <td>A</td>\n",
       "      <td>0</td>\n",
       "      <td>0</td>\n",
       "      <td>Transient</td>\n",
       "      <td>0</td>\n",
       "      <td>1</td>\n",
       "      <td>2</td>\n",
       "    </tr>\n",
       "  </tbody>\n",
       "</table>\n",
       "<p>2 rows × 25 columns</p>\n",
       "</div>"
      ],
      "text/plain": [
       "   id  is_canceled  lead_time  arrival_date_year  arrival_date_month  \\\n",
       "0   0            0          7               2015                   7   \n",
       "1   1            0         14               2015                   7   \n",
       "\n",
       "   arrival_date_week_number  arrival_date_day_of_month  \\\n",
       "0                        27                          1   \n",
       "1                        27                          1   \n",
       "\n",
       "   stays_in_weekend_nights  stays_in_week_nights  adults  ...  \\\n",
       "0                        0                     1       1  ...   \n",
       "1                        0                     2       2  ...   \n",
       "\n",
       "   is_repeated_guest  previous_cancellations previous_bookings_not_canceled  \\\n",
       "0                  0                       0                              0   \n",
       "1                  0                       0                              0   \n",
       "\n",
       "  reserved_room_type booking_changes  days_in_waiting_list  customer_type  \\\n",
       "0                  A               0                     0      Transient   \n",
       "1                  A               0                     0      Transient   \n",
       "\n",
       "   required_car_parking_spaces total_of_special_requests  total_nights  \n",
       "0                            0                         0             1  \n",
       "1                            0                         1             2  \n",
       "\n",
       "[2 rows x 25 columns]"
      ]
     },
     "execution_count": 43,
     "metadata": {},
     "output_type": "execute_result"
    }
   ],
   "source": [
    "df_train.head(2)"
   ]
  },
  {
   "cell_type": "markdown",
   "metadata": {},
   "source": [
    "Рассмотрим метрику `country`."
   ]
  },
  {
   "cell_type": "code",
   "execution_count": 44,
   "metadata": {},
   "outputs": [
    {
     "data": {
      "text/plain": [
       "(155,)"
      ]
     },
     "execution_count": 44,
     "metadata": {},
     "output_type": "execute_result"
    }
   ],
   "source": [
    "df_train['country'].unique().shape"
   ]
  },
  {
   "cell_type": "code",
   "execution_count": 45,
   "metadata": {
    "scrolled": false
   },
   "outputs": [
    {
     "data": {
      "text/plain": [
       "(143,)"
      ]
     },
     "execution_count": 45,
     "metadata": {},
     "output_type": "execute_result"
    }
   ],
   "source": [
    "df_test['country'].unique().shape"
   ]
  },
  {
   "cell_type": "code",
   "execution_count": 46,
   "metadata": {},
   "outputs": [
    {
     "data": {
      "text/plain": [
       "PRT    0.441997\n",
       "FRA    0.091585\n",
       "GBR    0.078324\n",
       "ESP    0.075120\n",
       "DEU    0.059590\n",
       "ITA    0.035674\n",
       "IRL    0.022153\n",
       "BEL    0.019087\n",
       "NLD    0.017875\n",
       "BRA    0.016680\n",
       "USA    0.015453\n",
       "CHE    0.013399\n",
       "AUT    0.010977\n",
       "SWE    0.008340\n",
       "POL    0.008141\n",
       "CHN    0.008064\n",
       "CN     0.007481\n",
       "ISR    0.005749\n",
       "RUS    0.004538\n",
       "NOR    0.004001\n",
       "Name: country, dtype: float64"
      ]
     },
     "execution_count": 46,
     "metadata": {},
     "output_type": "execute_result"
    }
   ],
   "source": [
    "df_train['country'].value_counts(normalize=True).head(20)"
   ]
  },
  {
   "cell_type": "code",
   "execution_count": 47,
   "metadata": {},
   "outputs": [
    {
     "name": "stdout",
     "output_type": "stream",
     "text": [
      "0.8580845942755522\n"
     ]
    }
   ],
   "source": [
    "print(df_train['country'].value_counts(normalize=True).head(10).sum())"
   ]
  },
  {
   "cell_type": "markdown",
   "metadata": {},
   "source": [
    "Имеем очень большое количество значений. 85% данных находятся в топ-10 значений. Чтобы не плодить огромное количество лишних категорий оставим топ-10 значений, а остальные переведем в одну категорию - `other`."
   ]
  },
  {
   "cell_type": "code",
   "execution_count": 48,
   "metadata": {},
   "outputs": [
    {
     "name": "stdout",
     "output_type": "stream",
     "text": [
      "Index(['PRT', 'FRA', 'GBR', 'ESP', 'DEU', 'ITA', 'IRL', 'BEL', 'NLD', 'BRA'], dtype='object')\n"
     ]
    }
   ],
   "source": [
    "top_country = df_train['country'].value_counts(normalize=True).head(10)\n",
    "print(top_country.index)"
   ]
  },
  {
   "cell_type": "code",
   "execution_count": 49,
   "metadata": {},
   "outputs": [],
   "source": [
    "df_train['country'] = df_train['country'].apply(lambda x: x if x in top_country.index else 'other')"
   ]
  },
  {
   "cell_type": "code",
   "execution_count": 50,
   "metadata": {},
   "outputs": [],
   "source": [
    "df_test['country'] = df_test['country'].apply(lambda x: x if x in top_country.index else 'other')"
   ]
  },
  {
   "cell_type": "code",
   "execution_count": 51,
   "metadata": {},
   "outputs": [
    {
     "data": {
      "text/plain": [
       "array(['GBR', 'PRT', 'ESP', 'IRL', 'FRA', 'other', 'DEU', 'BEL', 'NLD',\n",
       "       'ITA', 'BRA'], dtype=object)"
      ]
     },
     "execution_count": 51,
     "metadata": {},
     "output_type": "execute_result"
    }
   ],
   "source": [
    "df_train['country'].unique()"
   ]
  },
  {
   "cell_type": "markdown",
   "metadata": {},
   "source": [
    "### Анализ отмен брони"
   ]
  },
  {
   "cell_type": "markdown",
   "metadata": {},
   "source": [
    "Проверим количество отмен по разным категориям данных."
   ]
  },
  {
   "cell_type": "code",
   "execution_count": 52,
   "metadata": {},
   "outputs": [
    {
     "data": {
      "image/png": "[encoded data removed]",
      "text/plain": [
       "<Figure size 1008x432 with 1 Axes>"
      ]
     },
     "metadata": {
      "needs_background": "light"
     },
     "output_type": "display_data"
    }
   ],
   "source": [
    "plt.figure(figsize=(14,6))\n",
    "_ = sns.countplot(\n",
    "    data=df_train.query('days_in_waiting_list > 1'),\n",
    "    x='days_in_waiting_list',\n",
    "    hue='is_canceled',\n",
    "    palette='Set1_r')"
   ]
  },
  {
   "cell_type": "code",
   "execution_count": 53,
   "metadata": {
    "scrolled": false
   },
   "outputs": [
    {
     "data": {
      "text/plain": [
       "1    2119\n",
       "0    1102\n",
       "Name: is_canceled, dtype: int64"
      ]
     },
     "execution_count": 53,
     "metadata": {},
     "output_type": "execute_result"
    }
   ],
   "source": [
    "df_train.query('days_in_waiting_list > 1')['is_canceled'].value_counts()"
   ]
  },
  {
   "cell_type": "markdown",
   "metadata": {},
   "source": [
    "Как можно заметить если заказ не подтвержден в первые дни, то отмен в два раза больше."
   ]
  },
  {
   "cell_type": "code",
   "execution_count": 54,
   "metadata": {},
   "outputs": [
    {
     "data": {
      "image/png": "[encoded data removed]",
      "text/plain": [
       "<Figure size 1008x432 with 1 Axes>"
      ]
     },
     "metadata": {
      "needs_background": "light"
     },
     "output_type": "display_data"
    }
   ],
   "source": [
    "plt.figure(figsize=(14,6))\n",
    "_ = sns.countplot(\n",
    "    data=df_train.query('lead_time > 95'),\n",
    "    x='lead_time',\n",
    "    hue='is_canceled',\n",
    "    palette='Set1_r')"
   ]
  },
  {
   "cell_type": "code",
   "execution_count": 55,
   "metadata": {
    "scrolled": false
   },
   "outputs": [
    {
     "data": {
      "text/plain": [
       "1    13288\n",
       "0    11814\n",
       "Name: is_canceled, dtype: int64"
      ]
     },
     "execution_count": 55,
     "metadata": {},
     "output_type": "execute_result"
    }
   ],
   "source": [
    "df_train.query('lead_time > 95')['is_canceled'].value_counts()"
   ]
  },
  {
   "cell_type": "markdown",
   "metadata": {},
   "source": [
    "Если время между бронированием и датой заезда больше 90 суток, то процент отмен увеличивается пропорционально."
   ]
  },
  {
   "cell_type": "code",
   "execution_count": 56,
   "metadata": {
    "scrolled": false
   },
   "outputs": [
    {
     "data": {
      "image/png": "[encoded data removed]",
      "text/plain": [
       "<Figure size 1008x432 with 1 Axes>"
      ]
     },
     "metadata": {
      "needs_background": "light"
     },
     "output_type": "display_data"
    }
   ],
   "source": [
    "plt.figure(figsize=(14,6))\n",
    "_ = sns.countplot(\n",
    "    data=df_train,\n",
    "    x='is_repeated_guest',\n",
    "    hue='is_canceled',\n",
    "    palette='Set1_r')"
   ]
  },
  {
   "cell_type": "code",
   "execution_count": 57,
   "metadata": {
    "scrolled": false
   },
   "outputs": [
    {
     "data": {
      "image/png": "[encoded data removed]",
      "text/plain": [
       "<Figure size 1008x432 with 1 Axes>"
      ]
     },
     "metadata": {
      "needs_background": "light"
     },
     "output_type": "display_data"
    }
   ],
   "source": [
    "plt.figure(figsize=(14,6))\n",
    "_ = sns.countplot(\n",
    "    data=df_train,\n",
    "    x='previous_cancellations',\n",
    "    hue='is_canceled',\n",
    "    palette='Set1_r')"
   ]
  },
  {
   "cell_type": "code",
   "execution_count": 58,
   "metadata": {
    "scrolled": true
   },
   "outputs": [
    {
     "data": {
      "text/plain": [
       "1    5396\n",
       "0     242\n",
       "Name: is_canceled, dtype: int64"
      ]
     },
     "execution_count": 58,
     "metadata": {},
     "output_type": "execute_result"
    }
   ],
   "source": [
    "df_train.query('previous_cancellations > 0')['is_canceled'].value_counts()"
   ]
  },
  {
   "cell_type": "markdown",
   "metadata": {},
   "source": [
    "Если у клиента есть отменённые заказы, то вероятность отмены почти 95%."
   ]
  },
  {
   "cell_type": "code",
   "execution_count": 59,
   "metadata": {
    "scrolled": false
   },
   "outputs": [
    {
     "data": {
      "image/png": "[encoded data removed]",
      "text/plain": [
       "<Figure size 1008x432 with 1 Axes>"
      ]
     },
     "metadata": {
      "needs_background": "light"
     },
     "output_type": "display_data"
    }
   ],
   "source": [
    "plt.figure(figsize=(14,6))\n",
    "_ = sns.countplot(\n",
    "    data=df_train,\n",
    "    x='booking_changes',\n",
    "    hue='is_canceled',\n",
    "    palette='Set1_r')"
   ]
  },
  {
   "cell_type": "code",
   "execution_count": 60,
   "metadata": {
    "scrolled": false
   },
   "outputs": [
    {
     "data": {
      "image/png": "[encoded data removed]",
      "text/plain": [
       "<Figure size 1008x432 with 1 Axes>"
      ]
     },
     "metadata": {
      "needs_background": "light"
     },
     "output_type": "display_data"
    }
   ],
   "source": [
    "plt.figure(figsize=(14,6))\n",
    "_ = sns.countplot(\n",
    "    data=df_train,\n",
    "    x='country',\n",
    "    hue='is_canceled',\n",
    "    palette='Set1_r')"
   ]
  },
  {
   "cell_type": "markdown",
   "metadata": {},
   "source": [
    "Больше всего отмен у клиентов из Португалии."
   ]
  },
  {
   "cell_type": "code",
   "execution_count": 61,
   "metadata": {},
   "outputs": [
    {
     "data": {
      "text/plain": [
       "id                                 int64\n",
       "is_canceled                        int64\n",
       "lead_time                          int64\n",
       "arrival_date_year                  int64\n",
       "arrival_date_month                 int64\n",
       "arrival_date_week_number           int64\n",
       "arrival_date_day_of_month          int64\n",
       "stays_in_weekend_nights            int64\n",
       "stays_in_week_nights               int64\n",
       "adults                             int64\n",
       "children                           int64\n",
       "has_babies                         int64\n",
       "meal                              object\n",
       "country                           object\n",
       "distribution_channel              object\n",
       "is_repeated_guest                  int64\n",
       "previous_cancellations             int64\n",
       "previous_bookings_not_canceled     int64\n",
       "reserved_room_type                object\n",
       "booking_changes                    int64\n",
       "days_in_waiting_list               int64\n",
       "customer_type                     object\n",
       "required_car_parking_spaces        int64\n",
       "total_of_special_requests          int64\n",
       "total_nights                       int64\n",
       "dtype: object"
      ]
     },
     "execution_count": 61,
     "metadata": {},
     "output_type": "execute_result"
    }
   ],
   "source": [
    "df_train.dtypes"
   ]
  },
  {
   "cell_type": "code",
   "execution_count": 62,
   "metadata": {
    "scrolled": false
   },
   "outputs": [
    {
     "data": {
      "image/png": "[encoded data removed]",
      "text/plain": [
       "<Figure size 1008x432 with 1 Axes>"
      ]
     },
     "metadata": {
      "needs_background": "light"
     },
     "output_type": "display_data"
    }
   ],
   "source": [
    "plt.figure(figsize=(14,6))\n",
    "_ = sns.countplot(\n",
    "    data=df_train,\n",
    "    x='required_car_parking_spaces',\n",
    "    hue='is_canceled',\n",
    "    palette='Set1_r')"
   ]
  },
  {
   "cell_type": "code",
   "execution_count": 63,
   "metadata": {
    "scrolled": true
   },
   "outputs": [
    {
     "data": {
      "text/plain": [
       "0    3682\n",
       "Name: is_canceled, dtype: int64"
      ]
     },
     "execution_count": 63,
     "metadata": {},
     "output_type": "execute_result"
    }
   ],
   "source": [
    "df_train.query('required_car_parking_spaces > 0')['is_canceled'].value_counts()"
   ]
  },
  {
   "cell_type": "markdown",
   "metadata": {},
   "source": [
    "Кто дополнительно заказывал паркинг - вообще не отменяли бронь."
   ]
  },
  {
   "cell_type": "code",
   "execution_count": 64,
   "metadata": {
    "scrolled": false
   },
   "outputs": [
    {
     "data": {
      "image/png": "[encoded data removed]",
      "text/plain": [
       "<Figure size 1008x432 with 1 Axes>"
      ]
     },
     "metadata": {
      "needs_background": "light"
     },
     "output_type": "display_data"
    }
   ],
   "source": [
    "plt.figure(figsize=(14,6))\n",
    "_ = sns.countplot(\n",
    "    data=df_train,\n",
    "    x='total_of_special_requests',\n",
    "    hue='is_canceled',\n",
    "    palette='Set1_r')"
   ]
  },
  {
   "cell_type": "code",
   "execution_count": 65,
   "metadata": {
    "scrolled": true
   },
   "outputs": [
    {
     "data": {
      "text/plain": [
       "0    20015\n",
       "1     4543\n",
       "Name: is_canceled, dtype: int64"
      ]
     },
     "execution_count": 65,
     "metadata": {},
     "output_type": "execute_result"
    }
   ],
   "source": [
    "df_train.query('total_of_special_requests > 0')['is_canceled'].value_counts()"
   ]
  },
  {
   "cell_type": "markdown",
   "metadata": {},
   "source": [
    "Если есть дополнительные опции/отметки то отмен всего ~20%"
   ]
  },
  {
   "cell_type": "markdown",
   "metadata": {},
   "source": [
    "### Сбалансированность классов"
   ]
  },
  {
   "cell_type": "markdown",
   "metadata": {},
   "source": [
    "Проверим сбалансированность классов в таргете."
   ]
  },
  {
   "cell_type": "code",
   "execution_count": 66,
   "metadata": {},
   "outputs": [
    {
     "data": {
      "text/plain": [
       "0    41185\n",
       "1    24044\n",
       "Name: is_canceled, dtype: int64"
      ]
     },
     "execution_count": 66,
     "metadata": {},
     "output_type": "execute_result"
    }
   ],
   "source": [
    "df_train['is_canceled'].value_counts()"
   ]
  },
  {
   "cell_type": "code",
   "execution_count": 67,
   "metadata": {},
   "outputs": [
    {
     "data": {
      "image/png": "[encoded data removed]",
      "text/plain": [
       "<Figure size 576x576 with 1 Axes>"
      ]
     },
     "metadata": {},
     "output_type": "display_data"
    }
   ],
   "source": [
    "plt.rcParams.update({'font.size': 14})\n",
    "\n",
    "plt.figure(figsize=(8, 8))\n",
    "df_train['is_canceled'].value_counts().plot(\n",
    "    kind='pie',\n",
    "    autopct='%1.0f%%',\n",
    "    colors=['skyblue', 'orange'],\n",
    "    explode=(0.05, 0.05))\n",
    "plt.title('Дисбаланс таргет классов')\n",
    "plt.show()"
   ]
  },
  {
   "cell_type": "markdown",
   "metadata": {},
   "source": [
    "Имеем небольшой дисбаланс классов 63/37."
   ]
  },
  {
   "cell_type": "markdown",
   "metadata": {},
   "source": [
    "Удалим малоинформативный признак `id` и `arrival_date_year`."
   ]
  },
  {
   "cell_type": "code",
   "execution_count": 68,
   "metadata": {},
   "outputs": [],
   "source": [
    "df_train.drop(columns=['id', 'arrival_date_year'], axis=1, inplace=True)\n",
    "df_test.drop(columns=['id', 'arrival_date_year'], axis=1, inplace=True)"
   ]
  },
  {
   "cell_type": "markdown",
   "metadata": {},
   "source": [
    "Судя по описанию данных total_nights, это сумма stays_in_weekend_nights и stays_in_week_nights. Все три признака нам не нужны, проверим и избавимся от лишних."
   ]
  },
  {
   "cell_type": "code",
   "execution_count": 69,
   "metadata": {},
   "outputs": [
    {
     "data": {
      "text/html": [
       "<div>\n",
       "<style scoped>\n",
       "    .dataframe tbody tr th:only-of-type {\n",
       "        vertical-align: middle;\n",
       "    }\n",
       "\n",
       "    .dataframe tbody tr th {\n",
       "        vertical-align: top;\n",
       "    }\n",
       "\n",
       "    .dataframe thead th {\n",
       "        text-align: right;\n",
       "    }\n",
       "</style>\n",
       "<table border=\"1\" class=\"dataframe\">\n",
       "  <thead>\n",
       "    <tr style=\"text-align: right;\">\n",
       "      <th></th>\n",
       "      <th>is_canceled</th>\n",
       "      <th>lead_time</th>\n",
       "      <th>arrival_date_month</th>\n",
       "      <th>arrival_date_week_number</th>\n",
       "      <th>arrival_date_day_of_month</th>\n",
       "      <th>stays_in_weekend_nights</th>\n",
       "      <th>stays_in_week_nights</th>\n",
       "      <th>adults</th>\n",
       "      <th>children</th>\n",
       "      <th>has_babies</th>\n",
       "      <th>...</th>\n",
       "      <th>is_repeated_guest</th>\n",
       "      <th>previous_cancellations</th>\n",
       "      <th>previous_bookings_not_canceled</th>\n",
       "      <th>reserved_room_type</th>\n",
       "      <th>booking_changes</th>\n",
       "      <th>days_in_waiting_list</th>\n",
       "      <th>customer_type</th>\n",
       "      <th>required_car_parking_spaces</th>\n",
       "      <th>total_of_special_requests</th>\n",
       "      <th>total_nights</th>\n",
       "    </tr>\n",
       "  </thead>\n",
       "  <tbody>\n",
       "    <tr>\n",
       "      <th>0</th>\n",
       "      <td>0</td>\n",
       "      <td>7</td>\n",
       "      <td>7</td>\n",
       "      <td>27</td>\n",
       "      <td>1</td>\n",
       "      <td>0</td>\n",
       "      <td>1</td>\n",
       "      <td>1</td>\n",
       "      <td>0</td>\n",
       "      <td>0</td>\n",
       "      <td>...</td>\n",
       "      <td>0</td>\n",
       "      <td>0</td>\n",
       "      <td>0</td>\n",
       "      <td>A</td>\n",
       "      <td>0</td>\n",
       "      <td>0</td>\n",
       "      <td>Transient</td>\n",
       "      <td>0</td>\n",
       "      <td>0</td>\n",
       "      <td>1</td>\n",
       "    </tr>\n",
       "    <tr>\n",
       "      <th>1</th>\n",
       "      <td>0</td>\n",
       "      <td>14</td>\n",
       "      <td>7</td>\n",
       "      <td>27</td>\n",
       "      <td>1</td>\n",
       "      <td>0</td>\n",
       "      <td>2</td>\n",
       "      <td>2</td>\n",
       "      <td>0</td>\n",
       "      <td>0</td>\n",
       "      <td>...</td>\n",
       "      <td>0</td>\n",
       "      <td>0</td>\n",
       "      <td>0</td>\n",
       "      <td>A</td>\n",
       "      <td>0</td>\n",
       "      <td>0</td>\n",
       "      <td>Transient</td>\n",
       "      <td>0</td>\n",
       "      <td>1</td>\n",
       "      <td>2</td>\n",
       "    </tr>\n",
       "    <tr>\n",
       "      <th>2</th>\n",
       "      <td>0</td>\n",
       "      <td>0</td>\n",
       "      <td>7</td>\n",
       "      <td>27</td>\n",
       "      <td>1</td>\n",
       "      <td>0</td>\n",
       "      <td>2</td>\n",
       "      <td>2</td>\n",
       "      <td>0</td>\n",
       "      <td>0</td>\n",
       "      <td>...</td>\n",
       "      <td>0</td>\n",
       "      <td>0</td>\n",
       "      <td>0</td>\n",
       "      <td>C</td>\n",
       "      <td>0</td>\n",
       "      <td>0</td>\n",
       "      <td>Transient</td>\n",
       "      <td>0</td>\n",
       "      <td>0</td>\n",
       "      <td>2</td>\n",
       "    </tr>\n",
       "    <tr>\n",
       "      <th>3</th>\n",
       "      <td>0</td>\n",
       "      <td>9</td>\n",
       "      <td>7</td>\n",
       "      <td>27</td>\n",
       "      <td>1</td>\n",
       "      <td>0</td>\n",
       "      <td>2</td>\n",
       "      <td>2</td>\n",
       "      <td>0</td>\n",
       "      <td>0</td>\n",
       "      <td>...</td>\n",
       "      <td>0</td>\n",
       "      <td>0</td>\n",
       "      <td>0</td>\n",
       "      <td>C</td>\n",
       "      <td>0</td>\n",
       "      <td>0</td>\n",
       "      <td>Transient</td>\n",
       "      <td>0</td>\n",
       "      <td>1</td>\n",
       "      <td>2</td>\n",
       "    </tr>\n",
       "    <tr>\n",
       "      <th>4</th>\n",
       "      <td>1</td>\n",
       "      <td>85</td>\n",
       "      <td>7</td>\n",
       "      <td>27</td>\n",
       "      <td>1</td>\n",
       "      <td>0</td>\n",
       "      <td>3</td>\n",
       "      <td>2</td>\n",
       "      <td>0</td>\n",
       "      <td>0</td>\n",
       "      <td>...</td>\n",
       "      <td>0</td>\n",
       "      <td>0</td>\n",
       "      <td>0</td>\n",
       "      <td>A</td>\n",
       "      <td>0</td>\n",
       "      <td>0</td>\n",
       "      <td>Transient</td>\n",
       "      <td>0</td>\n",
       "      <td>1</td>\n",
       "      <td>3</td>\n",
       "    </tr>\n",
       "  </tbody>\n",
       "</table>\n",
       "<p>5 rows × 23 columns</p>\n",
       "</div>"
      ],
      "text/plain": [
       "   is_canceled  lead_time  arrival_date_month  arrival_date_week_number  \\\n",
       "0            0          7                   7                        27   \n",
       "1            0         14                   7                        27   \n",
       "2            0          0                   7                        27   \n",
       "3            0          9                   7                        27   \n",
       "4            1         85                   7                        27   \n",
       "\n",
       "   arrival_date_day_of_month  stays_in_weekend_nights  stays_in_week_nights  \\\n",
       "0                          1                        0                     1   \n",
       "1                          1                        0                     2   \n",
       "2                          1                        0                     2   \n",
       "3                          1                        0                     2   \n",
       "4                          1                        0                     3   \n",
       "\n",
       "   adults  children  has_babies  ... is_repeated_guest previous_cancellations  \\\n",
       "0       1         0           0  ...                 0                      0   \n",
       "1       2         0           0  ...                 0                      0   \n",
       "2       2         0           0  ...                 0                      0   \n",
       "3       2         0           0  ...                 0                      0   \n",
       "4       2         0           0  ...                 0                      0   \n",
       "\n",
       "  previous_bookings_not_canceled  reserved_room_type  booking_changes  \\\n",
       "0                              0                   A                0   \n",
       "1                              0                   A                0   \n",
       "2                              0                   C                0   \n",
       "3                              0                   C                0   \n",
       "4                              0                   A                0   \n",
       "\n",
       "   days_in_waiting_list customer_type  required_car_parking_spaces  \\\n",
       "0                     0     Transient                            0   \n",
       "1                     0     Transient                            0   \n",
       "2                     0     Transient                            0   \n",
       "3                     0     Transient                            0   \n",
       "4                     0     Transient                            0   \n",
       "\n",
       "   total_of_special_requests total_nights  \n",
       "0                          0            1  \n",
       "1                          1            2  \n",
       "2                          0            2  \n",
       "3                          1            2  \n",
       "4                          1            3  \n",
       "\n",
       "[5 rows x 23 columns]"
      ]
     },
     "execution_count": 69,
     "metadata": {},
     "output_type": "execute_result"
    }
   ],
   "source": [
    "df_train.head()"
   ]
  },
  {
   "cell_type": "code",
   "execution_count": 70,
   "metadata": {},
   "outputs": [
    {
     "data": {
      "text/plain": [
       "65229"
      ]
     },
     "execution_count": 70,
     "metadata": {},
     "output_type": "execute_result"
    }
   ],
   "source": [
    "(df_train['total_nights'] == df_train['stays_in_weekend_nights'] + df_train['stays_in_week_nights']).sum()"
   ]
  },
  {
   "cell_type": "code",
   "execution_count": 71,
   "metadata": {},
   "outputs": [],
   "source": [
    "df_train.drop(columns=['stays_in_weekend_nights', 'stays_in_week_nights'], axis=1, inplace=True)\n",
    "df_test.drop(columns=['stays_in_weekend_nights', 'stays_in_week_nights'], axis=1, inplace=True)"
   ]
  },
  {
   "cell_type": "code",
   "execution_count": 72,
   "metadata": {},
   "outputs": [
    {
     "data": {
      "text/html": [
       "<div>\n",
       "<style scoped>\n",
       "    .dataframe tbody tr th:only-of-type {\n",
       "        vertical-align: middle;\n",
       "    }\n",
       "\n",
       "    .dataframe tbody tr th {\n",
       "        vertical-align: top;\n",
       "    }\n",
       "\n",
       "    .dataframe thead th {\n",
       "        text-align: right;\n",
       "    }\n",
       "</style>\n",
       "<table border=\"1\" class=\"dataframe\">\n",
       "  <thead>\n",
       "    <tr style=\"text-align: right;\">\n",
       "      <th></th>\n",
       "      <th>is_canceled</th>\n",
       "      <th>lead_time</th>\n",
       "      <th>arrival_date_month</th>\n",
       "      <th>arrival_date_week_number</th>\n",
       "      <th>arrival_date_day_of_month</th>\n",
       "      <th>adults</th>\n",
       "      <th>children</th>\n",
       "      <th>has_babies</th>\n",
       "      <th>meal</th>\n",
       "      <th>country</th>\n",
       "      <th>...</th>\n",
       "      <th>is_repeated_guest</th>\n",
       "      <th>previous_cancellations</th>\n",
       "      <th>previous_bookings_not_canceled</th>\n",
       "      <th>reserved_room_type</th>\n",
       "      <th>booking_changes</th>\n",
       "      <th>days_in_waiting_list</th>\n",
       "      <th>customer_type</th>\n",
       "      <th>required_car_parking_spaces</th>\n",
       "      <th>total_of_special_requests</th>\n",
       "      <th>total_nights</th>\n",
       "    </tr>\n",
       "  </thead>\n",
       "  <tbody>\n",
       "    <tr>\n",
       "      <th>0</th>\n",
       "      <td>0</td>\n",
       "      <td>7</td>\n",
       "      <td>7</td>\n",
       "      <td>27</td>\n",
       "      <td>1</td>\n",
       "      <td>1</td>\n",
       "      <td>0</td>\n",
       "      <td>0</td>\n",
       "      <td>BB</td>\n",
       "      <td>GBR</td>\n",
       "      <td>...</td>\n",
       "      <td>0</td>\n",
       "      <td>0</td>\n",
       "      <td>0</td>\n",
       "      <td>A</td>\n",
       "      <td>0</td>\n",
       "      <td>0</td>\n",
       "      <td>Transient</td>\n",
       "      <td>0</td>\n",
       "      <td>0</td>\n",
       "      <td>1</td>\n",
       "    </tr>\n",
       "    <tr>\n",
       "      <th>1</th>\n",
       "      <td>0</td>\n",
       "      <td>14</td>\n",
       "      <td>7</td>\n",
       "      <td>27</td>\n",
       "      <td>1</td>\n",
       "      <td>2</td>\n",
       "      <td>0</td>\n",
       "      <td>0</td>\n",
       "      <td>BB</td>\n",
       "      <td>GBR</td>\n",
       "      <td>...</td>\n",
       "      <td>0</td>\n",
       "      <td>0</td>\n",
       "      <td>0</td>\n",
       "      <td>A</td>\n",
       "      <td>0</td>\n",
       "      <td>0</td>\n",
       "      <td>Transient</td>\n",
       "      <td>0</td>\n",
       "      <td>1</td>\n",
       "      <td>2</td>\n",
       "    </tr>\n",
       "  </tbody>\n",
       "</table>\n",
       "<p>2 rows × 21 columns</p>\n",
       "</div>"
      ],
      "text/plain": [
       "   is_canceled  lead_time  arrival_date_month  arrival_date_week_number  \\\n",
       "0            0          7                   7                        27   \n",
       "1            0         14                   7                        27   \n",
       "\n",
       "   arrival_date_day_of_month  adults  children  has_babies meal country  ...  \\\n",
       "0                          1       1         0           0   BB     GBR  ...   \n",
       "1                          1       2         0           0   BB     GBR  ...   \n",
       "\n",
       "  is_repeated_guest  previous_cancellations  previous_bookings_not_canceled  \\\n",
       "0                 0                       0                               0   \n",
       "1                 0                       0                               0   \n",
       "\n",
       "   reserved_room_type booking_changes  days_in_waiting_list  customer_type  \\\n",
       "0                   A               0                     0      Transient   \n",
       "1                   A               0                     0      Transient   \n",
       "\n",
       "  required_car_parking_spaces  total_of_special_requests  total_nights  \n",
       "0                           0                          0             1  \n",
       "1                           0                          1             2  \n",
       "\n",
       "[2 rows x 21 columns]"
      ]
     },
     "execution_count": 72,
     "metadata": {},
     "output_type": "execute_result"
    }
   ],
   "source": [
    "df_train.head(2)"
   ]
  },
  {
   "cell_type": "markdown",
   "metadata": {},
   "source": [
    "После удаления колонки с id, проверим данные на дубликаты, возможно одинаковые данные попадали в базу из разных источников под разными id и есть дубликаты. Удалим их, если есть."
   ]
  },
  {
   "cell_type": "code",
   "execution_count": 73,
   "metadata": {
    "scrolled": false
   },
   "outputs": [
    {
     "name": "stdout",
     "output_type": "stream",
     "text": [
      "21575\n",
      "Процент дубликатов: 33%\n",
      "7776\n",
      "Процент дубликатов: 24%\n"
     ]
    }
   ],
   "source": [
    "print(df_train.duplicated().sum())\n",
    "print('Процент дубликатов: {:.0%}'.format(df_train.duplicated().sum() / df_train.shape[0]))\n",
    "\n",
    "print(df_test.duplicated().sum())\n",
    "print('Процент дубликатов: {:.0%}'.format(df_test.duplicated().sum() / df_test.shape[0]))"
   ]
  },
  {
   "cell_type": "markdown",
   "metadata": {},
   "source": [
    "Имеем подозрительно большое количество дубликатов. Возможно как и предполагалось - одинаковые данные занесены из разных источников в одну базу. Или наоборот данные выгружены из разных источников в одну базу под разными id. Еще как вариант \"заказы\" сделаны из разных систем бронирования, с разными скидками или что-то подобное.\n",
    "\n",
    "**Лучше всего эту информацию уточнить и проверить у заказчика! т.к. это напрямую влияет на данные по прибыли.**"
   ]
  },
  {
   "cell_type": "markdown",
   "metadata": {},
   "source": [
    "т.к. нет связи с заказчиком, а дубликаты имеют подозрительно большой объем, оставим как есть."
   ]
  },
  {
   "cell_type": "markdown",
   "metadata": {},
   "source": [
    "### Корреляция признаков"
   ]
  },
  {
   "cell_type": "markdown",
   "metadata": {},
   "source": [
    "Посмотрим на корреляцию признаков."
   ]
  },
  {
   "cell_type": "code",
   "execution_count": 74,
   "metadata": {
    "scrolled": false
   },
   "outputs": [
    {
     "data": {
      "image/png": "[encoded data removed]",
      "text/plain": [
       "<Figure size 864x648 with 2 Axes>"
      ]
     },
     "metadata": {
      "needs_background": "light"
     },
     "output_type": "display_data"
    }
   ],
   "source": [
    "corr = df_train.corr()\n",
    "cmap = sns.diverging_palette(230, 20, as_cmap=True)\n",
    "\n",
    "plt.subplots(figsize=(12, 9))\n",
    "sns.heatmap(corr, vmax=.3, center=0, cmap=cmap, linewidths=.5)\n",
    "plt.show()"
   ]
  },
  {
   "cell_type": "code",
   "execution_count": 75,
   "metadata": {},
   "outputs": [
    {
     "data": {
      "text/plain": [
       "is_canceled                       1.000000\n",
       "lead_time                         0.328142\n",
       "total_of_special_requests         0.257061\n",
       "required_car_parking_spaces       0.186486\n",
       "previous_cancellations            0.153023\n",
       "booking_changes                   0.142935\n",
       "days_in_waiting_list              0.075848\n",
       "previous_bookings_not_canceled    0.045557\n",
       "adults                            0.044592\n",
       "is_repeated_guest                 0.040242\n",
       "has_babies                        0.032413\n",
       "children                          0.017746\n",
       "arrival_date_month                0.014626\n",
       "arrival_date_week_number          0.012869\n",
       "arrival_date_day_of_month         0.001903\n",
       "total_nights                      0.001542\n",
       "Name: is_canceled, dtype: float64"
      ]
     },
     "execution_count": 75,
     "metadata": {},
     "output_type": "execute_result"
    }
   ],
   "source": [
    "df_train.corr()['is_canceled'].abs().sort_values(ascending = False)"
   ]
  },
  {
   "cell_type": "markdown",
   "metadata": {},
   "source": [
    "Наибольшую взаимосвязь имеют признаки `lead_time`, `total_of_special_requests` и `required_car_parking_spaces`. Наименьшую имеют `total_nights` и `arrival_date_day_of_month`."
   ]
  },
  {
   "cell_type": "markdown",
   "metadata": {},
   "source": [
    "### Обработка категориальных и числовых данных"
   ]
  },
  {
   "cell_type": "markdown",
   "metadata": {},
   "source": [
    "Преобразуем категориальные признаки в численные техникой прямого кодирования (One-Hot Encoding, OHE) для линейной модели, а для деревьев порядковым кодированием - OrdinalEncoder."
   ]
  },
  {
   "cell_type": "code",
   "execution_count": 76,
   "metadata": {},
   "outputs": [],
   "source": [
    "df_train_ohe = pd.get_dummies(df_train, drop_first=True)\n",
    "df_test_ohe = pd.get_dummies(df_test, drop_first=True)"
   ]
  },
  {
   "cell_type": "code",
   "execution_count": 77,
   "metadata": {},
   "outputs": [
    {
     "data": {
      "text/html": [
       "<div>\n",
       "<style scoped>\n",
       "    .dataframe tbody tr th:only-of-type {\n",
       "        vertical-align: middle;\n",
       "    }\n",
       "\n",
       "    .dataframe tbody tr th {\n",
       "        vertical-align: top;\n",
       "    }\n",
       "\n",
       "    .dataframe thead th {\n",
       "        text-align: right;\n",
       "    }\n",
       "</style>\n",
       "<table border=\"1\" class=\"dataframe\">\n",
       "  <thead>\n",
       "    <tr style=\"text-align: right;\">\n",
       "      <th></th>\n",
       "      <th>is_canceled</th>\n",
       "      <th>lead_time</th>\n",
       "      <th>arrival_date_month</th>\n",
       "      <th>arrival_date_week_number</th>\n",
       "      <th>arrival_date_day_of_month</th>\n",
       "      <th>adults</th>\n",
       "      <th>children</th>\n",
       "      <th>has_babies</th>\n",
       "      <th>is_repeated_guest</th>\n",
       "      <th>previous_cancellations</th>\n",
       "      <th>...</th>\n",
       "      <th>distribution_channel_TA/TO</th>\n",
       "      <th>reserved_room_type_B</th>\n",
       "      <th>reserved_room_type_C</th>\n",
       "      <th>reserved_room_type_D</th>\n",
       "      <th>reserved_room_type_E</th>\n",
       "      <th>reserved_room_type_F</th>\n",
       "      <th>reserved_room_type_G</th>\n",
       "      <th>customer_type_Group</th>\n",
       "      <th>customer_type_Transient</th>\n",
       "      <th>customer_type_Transient-Party</th>\n",
       "    </tr>\n",
       "  </thead>\n",
       "  <tbody>\n",
       "    <tr>\n",
       "      <th>0</th>\n",
       "      <td>0</td>\n",
       "      <td>7</td>\n",
       "      <td>7</td>\n",
       "      <td>27</td>\n",
       "      <td>1</td>\n",
       "      <td>1</td>\n",
       "      <td>0</td>\n",
       "      <td>0</td>\n",
       "      <td>0</td>\n",
       "      <td>0</td>\n",
       "      <td>...</td>\n",
       "      <td>0</td>\n",
       "      <td>0</td>\n",
       "      <td>0</td>\n",
       "      <td>0</td>\n",
       "      <td>0</td>\n",
       "      <td>0</td>\n",
       "      <td>0</td>\n",
       "      <td>0</td>\n",
       "      <td>1</td>\n",
       "      <td>0</td>\n",
       "    </tr>\n",
       "    <tr>\n",
       "      <th>1</th>\n",
       "      <td>0</td>\n",
       "      <td>14</td>\n",
       "      <td>7</td>\n",
       "      <td>27</td>\n",
       "      <td>1</td>\n",
       "      <td>2</td>\n",
       "      <td>0</td>\n",
       "      <td>0</td>\n",
       "      <td>0</td>\n",
       "      <td>0</td>\n",
       "      <td>...</td>\n",
       "      <td>1</td>\n",
       "      <td>0</td>\n",
       "      <td>0</td>\n",
       "      <td>0</td>\n",
       "      <td>0</td>\n",
       "      <td>0</td>\n",
       "      <td>0</td>\n",
       "      <td>0</td>\n",
       "      <td>1</td>\n",
       "      <td>0</td>\n",
       "    </tr>\n",
       "  </tbody>\n",
       "</table>\n",
       "<p>2 rows × 41 columns</p>\n",
       "</div>"
      ],
      "text/plain": [
       "   is_canceled  lead_time  arrival_date_month  arrival_date_week_number  \\\n",
       "0            0          7                   7                        27   \n",
       "1            0         14                   7                        27   \n",
       "\n",
       "   arrival_date_day_of_month  adults  children  has_babies  is_repeated_guest  \\\n",
       "0                          1       1         0           0                  0   \n",
       "1                          1       2         0           0                  0   \n",
       "\n",
       "   previous_cancellations  ...  distribution_channel_TA/TO  \\\n",
       "0                       0  ...                           0   \n",
       "1                       0  ...                           1   \n",
       "\n",
       "   reserved_room_type_B  reserved_room_type_C  reserved_room_type_D  \\\n",
       "0                     0                     0                     0   \n",
       "1                     0                     0                     0   \n",
       "\n",
       "   reserved_room_type_E  reserved_room_type_F  reserved_room_type_G  \\\n",
       "0                     0                     0                     0   \n",
       "1                     0                     0                     0   \n",
       "\n",
       "   customer_type_Group  customer_type_Transient  customer_type_Transient-Party  \n",
       "0                    0                        1                              0  \n",
       "1                    0                        1                              0  \n",
       "\n",
       "[2 rows x 41 columns]"
      ]
     },
     "execution_count": 77,
     "metadata": {},
     "output_type": "execute_result"
    }
   ],
   "source": [
    "df_train_ohe.head(2)"
   ]
  },
  {
   "cell_type": "code",
   "execution_count": 78,
   "metadata": {},
   "outputs": [
    {
     "data": {
      "text/html": [
       "<div>\n",
       "<style scoped>\n",
       "    .dataframe tbody tr th:only-of-type {\n",
       "        vertical-align: middle;\n",
       "    }\n",
       "\n",
       "    .dataframe tbody tr th {\n",
       "        vertical-align: top;\n",
       "    }\n",
       "\n",
       "    .dataframe thead th {\n",
       "        text-align: right;\n",
       "    }\n",
       "</style>\n",
       "<table border=\"1\" class=\"dataframe\">\n",
       "  <thead>\n",
       "    <tr style=\"text-align: right;\">\n",
       "      <th></th>\n",
       "      <th>is_canceled</th>\n",
       "      <th>lead_time</th>\n",
       "      <th>arrival_date_month</th>\n",
       "      <th>arrival_date_week_number</th>\n",
       "      <th>arrival_date_day_of_month</th>\n",
       "      <th>adults</th>\n",
       "      <th>children</th>\n",
       "      <th>has_babies</th>\n",
       "      <th>is_repeated_guest</th>\n",
       "      <th>previous_cancellations</th>\n",
       "      <th>...</th>\n",
       "      <th>distribution_channel_TA/TO</th>\n",
       "      <th>reserved_room_type_B</th>\n",
       "      <th>reserved_room_type_C</th>\n",
       "      <th>reserved_room_type_D</th>\n",
       "      <th>reserved_room_type_E</th>\n",
       "      <th>reserved_room_type_F</th>\n",
       "      <th>reserved_room_type_G</th>\n",
       "      <th>customer_type_Group</th>\n",
       "      <th>customer_type_Transient</th>\n",
       "      <th>customer_type_Transient-Party</th>\n",
       "    </tr>\n",
       "  </thead>\n",
       "  <tbody>\n",
       "    <tr>\n",
       "      <th>0</th>\n",
       "      <td>1</td>\n",
       "      <td>74</td>\n",
       "      <td>1</td>\n",
       "      <td>1</td>\n",
       "      <td>1</td>\n",
       "      <td>2</td>\n",
       "      <td>0</td>\n",
       "      <td>0</td>\n",
       "      <td>0</td>\n",
       "      <td>0</td>\n",
       "      <td>...</td>\n",
       "      <td>1</td>\n",
       "      <td>0</td>\n",
       "      <td>0</td>\n",
       "      <td>0</td>\n",
       "      <td>0</td>\n",
       "      <td>0</td>\n",
       "      <td>0</td>\n",
       "      <td>0</td>\n",
       "      <td>1</td>\n",
       "      <td>0</td>\n",
       "    </tr>\n",
       "    <tr>\n",
       "      <th>1</th>\n",
       "      <td>1</td>\n",
       "      <td>62</td>\n",
       "      <td>1</td>\n",
       "      <td>1</td>\n",
       "      <td>1</td>\n",
       "      <td>2</td>\n",
       "      <td>0</td>\n",
       "      <td>0</td>\n",
       "      <td>0</td>\n",
       "      <td>0</td>\n",
       "      <td>...</td>\n",
       "      <td>1</td>\n",
       "      <td>0</td>\n",
       "      <td>0</td>\n",
       "      <td>0</td>\n",
       "      <td>0</td>\n",
       "      <td>0</td>\n",
       "      <td>0</td>\n",
       "      <td>0</td>\n",
       "      <td>1</td>\n",
       "      <td>0</td>\n",
       "    </tr>\n",
       "    <tr>\n",
       "      <th>2</th>\n",
       "      <td>1</td>\n",
       "      <td>62</td>\n",
       "      <td>1</td>\n",
       "      <td>1</td>\n",
       "      <td>1</td>\n",
       "      <td>2</td>\n",
       "      <td>0</td>\n",
       "      <td>0</td>\n",
       "      <td>0</td>\n",
       "      <td>0</td>\n",
       "      <td>...</td>\n",
       "      <td>1</td>\n",
       "      <td>0</td>\n",
       "      <td>0</td>\n",
       "      <td>0</td>\n",
       "      <td>0</td>\n",
       "      <td>0</td>\n",
       "      <td>0</td>\n",
       "      <td>0</td>\n",
       "      <td>1</td>\n",
       "      <td>0</td>\n",
       "    </tr>\n",
       "    <tr>\n",
       "      <th>3</th>\n",
       "      <td>1</td>\n",
       "      <td>71</td>\n",
       "      <td>1</td>\n",
       "      <td>1</td>\n",
       "      <td>1</td>\n",
       "      <td>1</td>\n",
       "      <td>0</td>\n",
       "      <td>0</td>\n",
       "      <td>0</td>\n",
       "      <td>0</td>\n",
       "      <td>...</td>\n",
       "      <td>1</td>\n",
       "      <td>0</td>\n",
       "      <td>0</td>\n",
       "      <td>0</td>\n",
       "      <td>0</td>\n",
       "      <td>0</td>\n",
       "      <td>0</td>\n",
       "      <td>0</td>\n",
       "      <td>1</td>\n",
       "      <td>0</td>\n",
       "    </tr>\n",
       "    <tr>\n",
       "      <th>4</th>\n",
       "      <td>1</td>\n",
       "      <td>172</td>\n",
       "      <td>1</td>\n",
       "      <td>1</td>\n",
       "      <td>1</td>\n",
       "      <td>2</td>\n",
       "      <td>0</td>\n",
       "      <td>0</td>\n",
       "      <td>0</td>\n",
       "      <td>0</td>\n",
       "      <td>...</td>\n",
       "      <td>1</td>\n",
       "      <td>0</td>\n",
       "      <td>0</td>\n",
       "      <td>0</td>\n",
       "      <td>0</td>\n",
       "      <td>0</td>\n",
       "      <td>0</td>\n",
       "      <td>0</td>\n",
       "      <td>1</td>\n",
       "      <td>0</td>\n",
       "    </tr>\n",
       "  </tbody>\n",
       "</table>\n",
       "<p>5 rows × 41 columns</p>\n",
       "</div>"
      ],
      "text/plain": [
       "   is_canceled  lead_time  arrival_date_month  arrival_date_week_number  \\\n",
       "0            1         74                   1                         1   \n",
       "1            1         62                   1                         1   \n",
       "2            1         62                   1                         1   \n",
       "3            1         71                   1                         1   \n",
       "4            1        172                   1                         1   \n",
       "\n",
       "   arrival_date_day_of_month  adults  children  has_babies  is_repeated_guest  \\\n",
       "0                          1       2         0           0                  0   \n",
       "1                          1       2         0           0                  0   \n",
       "2                          1       2         0           0                  0   \n",
       "3                          1       1         0           0                  0   \n",
       "4                          1       2         0           0                  0   \n",
       "\n",
       "   previous_cancellations  ...  distribution_channel_TA/TO  \\\n",
       "0                       0  ...                           1   \n",
       "1                       0  ...                           1   \n",
       "2                       0  ...                           1   \n",
       "3                       0  ...                           1   \n",
       "4                       0  ...                           1   \n",
       "\n",
       "   reserved_room_type_B  reserved_room_type_C  reserved_room_type_D  \\\n",
       "0                     0                     0                     0   \n",
       "1                     0                     0                     0   \n",
       "2                     0                     0                     0   \n",
       "3                     0                     0                     0   \n",
       "4                     0                     0                     0   \n",
       "\n",
       "   reserved_room_type_E  reserved_room_type_F  reserved_room_type_G  \\\n",
       "0                     0                     0                     0   \n",
       "1                     0                     0                     0   \n",
       "2                     0                     0                     0   \n",
       "3                     0                     0                     0   \n",
       "4                     0                     0                     0   \n",
       "\n",
       "   customer_type_Group  customer_type_Transient  customer_type_Transient-Party  \n",
       "0                    0                        1                              0  \n",
       "1                    0                        1                              0  \n",
       "2                    0                        1                              0  \n",
       "3                    0                        1                              0  \n",
       "4                    0                        1                              0  \n",
       "\n",
       "[5 rows x 41 columns]"
      ]
     },
     "execution_count": 78,
     "metadata": {},
     "output_type": "execute_result"
    }
   ],
   "source": [
    "df_test_ohe.head()"
   ]
  },
  {
   "cell_type": "code",
   "execution_count": 79,
   "metadata": {},
   "outputs": [],
   "source": [
    "cat_filter = df_train.select_dtypes(include=object).columns\n",
    "num_filter = df_train.select_dtypes(include='number').columns"
   ]
  },
  {
   "cell_type": "code",
   "execution_count": 80,
   "metadata": {},
   "outputs": [],
   "source": [
    "enc = OrdinalEncoder()"
   ]
  },
  {
   "cell_type": "code",
   "execution_count": 81,
   "metadata": {},
   "outputs": [
    {
     "data": {
      "text/plain": [
       "OrdinalEncoder()"
      ]
     },
     "execution_count": 81,
     "metadata": {},
     "output_type": "execute_result"
    }
   ],
   "source": [
    "enc.fit(df_train[cat_filter])"
   ]
  },
  {
   "cell_type": "code",
   "execution_count": 82,
   "metadata": {},
   "outputs": [],
   "source": [
    "df_train_cat = pd.DataFrame(enc.transform(df_train[cat_filter]), columns=cat_filter)\n",
    "df_test_cat = pd.DataFrame(enc.transform(df_test[cat_filter]), columns=cat_filter)"
   ]
  },
  {
   "cell_type": "code",
   "execution_count": 83,
   "metadata": {},
   "outputs": [
    {
     "data": {
      "text/html": [
       "<div>\n",
       "<style scoped>\n",
       "    .dataframe tbody tr th:only-of-type {\n",
       "        vertical-align: middle;\n",
       "    }\n",
       "\n",
       "    .dataframe tbody tr th {\n",
       "        vertical-align: top;\n",
       "    }\n",
       "\n",
       "    .dataframe thead th {\n",
       "        text-align: right;\n",
       "    }\n",
       "</style>\n",
       "<table border=\"1\" class=\"dataframe\">\n",
       "  <thead>\n",
       "    <tr style=\"text-align: right;\">\n",
       "      <th></th>\n",
       "      <th>meal</th>\n",
       "      <th>country</th>\n",
       "      <th>distribution_channel</th>\n",
       "      <th>reserved_room_type</th>\n",
       "      <th>customer_type</th>\n",
       "    </tr>\n",
       "  </thead>\n",
       "  <tbody>\n",
       "    <tr>\n",
       "      <th>0</th>\n",
       "      <td>0.0</td>\n",
       "      <td>5.0</td>\n",
       "      <td>1.0</td>\n",
       "      <td>0.0</td>\n",
       "      <td>2.0</td>\n",
       "    </tr>\n",
       "    <tr>\n",
       "      <th>1</th>\n",
       "      <td>0.0</td>\n",
       "      <td>5.0</td>\n",
       "      <td>3.0</td>\n",
       "      <td>0.0</td>\n",
       "      <td>2.0</td>\n",
       "    </tr>\n",
       "    <tr>\n",
       "      <th>2</th>\n",
       "      <td>0.0</td>\n",
       "      <td>9.0</td>\n",
       "      <td>1.0</td>\n",
       "      <td>2.0</td>\n",
       "      <td>2.0</td>\n",
       "    </tr>\n",
       "  </tbody>\n",
       "</table>\n",
       "</div>"
      ],
      "text/plain": [
       "   meal  country  distribution_channel  reserved_room_type  customer_type\n",
       "0   0.0      5.0                   1.0                 0.0            2.0\n",
       "1   0.0      5.0                   3.0                 0.0            2.0\n",
       "2   0.0      9.0                   1.0                 2.0            2.0"
      ]
     },
     "execution_count": 83,
     "metadata": {},
     "output_type": "execute_result"
    }
   ],
   "source": [
    "df_train_cat.head(3)"
   ]
  },
  {
   "cell_type": "code",
   "execution_count": 84,
   "metadata": {},
   "outputs": [],
   "source": [
    "df_train_ord = pd.concat([df_train[num_filter], df_train_cat], axis=1)\n",
    "df_test_ord = pd.concat([df_test[num_filter], df_test_cat], axis=1)"
   ]
  },
  {
   "cell_type": "code",
   "execution_count": 85,
   "metadata": {},
   "outputs": [
    {
     "data": {
      "text/html": [
       "<div>\n",
       "<style scoped>\n",
       "    .dataframe tbody tr th:only-of-type {\n",
       "        vertical-align: middle;\n",
       "    }\n",
       "\n",
       "    .dataframe tbody tr th {\n",
       "        vertical-align: top;\n",
       "    }\n",
       "\n",
       "    .dataframe thead th {\n",
       "        text-align: right;\n",
       "    }\n",
       "</style>\n",
       "<table border=\"1\" class=\"dataframe\">\n",
       "  <thead>\n",
       "    <tr style=\"text-align: right;\">\n",
       "      <th></th>\n",
       "      <th>is_canceled</th>\n",
       "      <th>lead_time</th>\n",
       "      <th>arrival_date_month</th>\n",
       "      <th>arrival_date_week_number</th>\n",
       "      <th>arrival_date_day_of_month</th>\n",
       "      <th>adults</th>\n",
       "      <th>children</th>\n",
       "      <th>has_babies</th>\n",
       "      <th>is_repeated_guest</th>\n",
       "      <th>previous_cancellations</th>\n",
       "      <th>...</th>\n",
       "      <th>booking_changes</th>\n",
       "      <th>days_in_waiting_list</th>\n",
       "      <th>required_car_parking_spaces</th>\n",
       "      <th>total_of_special_requests</th>\n",
       "      <th>total_nights</th>\n",
       "      <th>meal</th>\n",
       "      <th>country</th>\n",
       "      <th>distribution_channel</th>\n",
       "      <th>reserved_room_type</th>\n",
       "      <th>customer_type</th>\n",
       "    </tr>\n",
       "  </thead>\n",
       "  <tbody>\n",
       "    <tr>\n",
       "      <th>0</th>\n",
       "      <td>0</td>\n",
       "      <td>7</td>\n",
       "      <td>7</td>\n",
       "      <td>27</td>\n",
       "      <td>1</td>\n",
       "      <td>1</td>\n",
       "      <td>0</td>\n",
       "      <td>0</td>\n",
       "      <td>0</td>\n",
       "      <td>0</td>\n",
       "      <td>...</td>\n",
       "      <td>0</td>\n",
       "      <td>0</td>\n",
       "      <td>0</td>\n",
       "      <td>0</td>\n",
       "      <td>1</td>\n",
       "      <td>0.0</td>\n",
       "      <td>5.0</td>\n",
       "      <td>1.0</td>\n",
       "      <td>0.0</td>\n",
       "      <td>2.0</td>\n",
       "    </tr>\n",
       "    <tr>\n",
       "      <th>1</th>\n",
       "      <td>0</td>\n",
       "      <td>14</td>\n",
       "      <td>7</td>\n",
       "      <td>27</td>\n",
       "      <td>1</td>\n",
       "      <td>2</td>\n",
       "      <td>0</td>\n",
       "      <td>0</td>\n",
       "      <td>0</td>\n",
       "      <td>0</td>\n",
       "      <td>...</td>\n",
       "      <td>0</td>\n",
       "      <td>0</td>\n",
       "      <td>0</td>\n",
       "      <td>1</td>\n",
       "      <td>2</td>\n",
       "      <td>0.0</td>\n",
       "      <td>5.0</td>\n",
       "      <td>3.0</td>\n",
       "      <td>0.0</td>\n",
       "      <td>2.0</td>\n",
       "    </tr>\n",
       "    <tr>\n",
       "      <th>2</th>\n",
       "      <td>0</td>\n",
       "      <td>0</td>\n",
       "      <td>7</td>\n",
       "      <td>27</td>\n",
       "      <td>1</td>\n",
       "      <td>2</td>\n",
       "      <td>0</td>\n",
       "      <td>0</td>\n",
       "      <td>0</td>\n",
       "      <td>0</td>\n",
       "      <td>...</td>\n",
       "      <td>0</td>\n",
       "      <td>0</td>\n",
       "      <td>0</td>\n",
       "      <td>0</td>\n",
       "      <td>2</td>\n",
       "      <td>0.0</td>\n",
       "      <td>9.0</td>\n",
       "      <td>1.0</td>\n",
       "      <td>2.0</td>\n",
       "      <td>2.0</td>\n",
       "    </tr>\n",
       "  </tbody>\n",
       "</table>\n",
       "<p>3 rows × 21 columns</p>\n",
       "</div>"
      ],
      "text/plain": [
       "   is_canceled  lead_time  arrival_date_month  arrival_date_week_number  \\\n",
       "0            0          7                   7                        27   \n",
       "1            0         14                   7                        27   \n",
       "2            0          0                   7                        27   \n",
       "\n",
       "   arrival_date_day_of_month  adults  children  has_babies  is_repeated_guest  \\\n",
       "0                          1       1         0           0                  0   \n",
       "1                          1       2         0           0                  0   \n",
       "2                          1       2         0           0                  0   \n",
       "\n",
       "   previous_cancellations  ...  booking_changes  days_in_waiting_list  \\\n",
       "0                       0  ...                0                     0   \n",
       "1                       0  ...                0                     0   \n",
       "2                       0  ...                0                     0   \n",
       "\n",
       "   required_car_parking_spaces  total_of_special_requests  total_nights  meal  \\\n",
       "0                            0                          0             1   0.0   \n",
       "1                            0                          1             2   0.0   \n",
       "2                            0                          0             2   0.0   \n",
       "\n",
       "   country  distribution_channel  reserved_room_type  customer_type  \n",
       "0      5.0                   1.0                 0.0            2.0  \n",
       "1      5.0                   3.0                 0.0            2.0  \n",
       "2      9.0                   1.0                 2.0            2.0  \n",
       "\n",
       "[3 rows x 21 columns]"
      ]
     },
     "execution_count": 85,
     "metadata": {},
     "output_type": "execute_result"
    }
   ],
   "source": [
    "df_train_ord.head(3)"
   ]
  },
  {
   "cell_type": "markdown",
   "metadata": {},
   "source": [
    "Разделим данные по признакам - общие и целевые"
   ]
  },
  {
   "cell_type": "code",
   "execution_count": 86,
   "metadata": {},
   "outputs": [],
   "source": [
    "features_train_ohe, target_train_ohe = df_train_ohe.drop('is_canceled', axis=1), df_train_ohe['is_canceled']\n",
    "features_test_ohe, target_test_ohe = df_test_ohe.drop('is_canceled', axis=1), df_test_ohe['is_canceled']"
   ]
  },
  {
   "cell_type": "code",
   "execution_count": 87,
   "metadata": {},
   "outputs": [],
   "source": [
    "features_train_ord, target_train_ord = df_train_ord.drop('is_canceled', axis=1), df_train_ord['is_canceled']\n",
    "features_test_ord, target_test_ord = df_test_ord.drop('is_canceled', axis=1), df_test_ord['is_canceled']"
   ]
  },
  {
   "cell_type": "markdown",
   "metadata": {},
   "source": [
    "Посмотрим на дисперсию и нормализуем числовые данные."
   ]
  },
  {
   "cell_type": "code",
   "execution_count": 88,
   "metadata": {},
   "outputs": [],
   "source": [
    "numeric = [\n",
    "    'lead_time', 'arrival_date_week_number',\n",
    "    'arrival_date_day_of_month', 'adults', 'children', 'has_babies',\n",
    "    'previous_cancellations', 'previous_bookings_not_canceled',\n",
    "    'booking_changes', 'days_in_waiting_list', 'required_car_parking_spaces',\n",
    "    'total_of_special_requests', 'total_nights'\n",
    "]"
   ]
  },
  {
   "cell_type": "code",
   "execution_count": 89,
   "metadata": {
    "scrolled": true
   },
   "outputs": [
    {
     "data": {
      "text/plain": [
       "lead_time                         9240.504839\n",
       "arrival_date_week_number           181.279951\n",
       "arrival_date_day_of_month           76.530696\n",
       "adults                               0.222251\n",
       "children                             0.111718\n",
       "has_babies                           0.006882\n",
       "previous_cancellations               0.931854\n",
       "previous_bookings_not_canceled       1.759968\n",
       "booking_changes                      0.352643\n",
       "days_in_waiting_list               332.683218\n",
       "required_car_parking_spaces          0.053868\n",
       "total_of_special_requests            0.566392\n",
       "total_nights                         3.021020\n",
       "dtype: float64"
      ]
     },
     "execution_count": 89,
     "metadata": {},
     "output_type": "execute_result"
    }
   ],
   "source": [
    "features_train_ohe[numeric].var()"
   ]
  },
  {
   "cell_type": "code",
   "execution_count": 90,
   "metadata": {},
   "outputs": [],
   "source": [
    "hi_numeric = [\n",
    "    'lead_time', 'arrival_date_week_number',\n",
    "    'arrival_date_day_of_month', 'days_in_waiting_list'\n",
    "]"
   ]
  },
  {
   "cell_type": "code",
   "execution_count": 91,
   "metadata": {},
   "outputs": [],
   "source": [
    "pd.options.mode.chained_assignment = None\n",
    "scaler = StandardScaler()\n",
    "scaler.fit(features_train_ohe[hi_numeric])\n",
    "\n",
    "features_train_ohe[hi_numeric] = scaler.transform(features_train_ohe[hi_numeric])\n",
    "features_test_ohe[hi_numeric] = scaler.transform(features_test_ohe[hi_numeric])\n",
    "\n",
    "features_train_ord[hi_numeric] = scaler.transform(features_train_ord[hi_numeric])\n",
    "features_test_ord[hi_numeric] = scaler.transform(features_test_ord[hi_numeric])"
   ]
  },
  {
   "cell_type": "code",
   "execution_count": 92,
   "metadata": {},
   "outputs": [
    {
     "data": {
      "text/html": [
       "<div>\n",
       "<style scoped>\n",
       "    .dataframe tbody tr th:only-of-type {\n",
       "        vertical-align: middle;\n",
       "    }\n",
       "\n",
       "    .dataframe tbody tr th {\n",
       "        vertical-align: top;\n",
       "    }\n",
       "\n",
       "    .dataframe thead th {\n",
       "        text-align: right;\n",
       "    }\n",
       "</style>\n",
       "<table border=\"1\" class=\"dataframe\">\n",
       "  <thead>\n",
       "    <tr style=\"text-align: right;\">\n",
       "      <th></th>\n",
       "      <th>lead_time</th>\n",
       "      <th>arrival_date_month</th>\n",
       "      <th>arrival_date_week_number</th>\n",
       "      <th>arrival_date_day_of_month</th>\n",
       "      <th>adults</th>\n",
       "      <th>children</th>\n",
       "      <th>has_babies</th>\n",
       "      <th>is_repeated_guest</th>\n",
       "      <th>previous_cancellations</th>\n",
       "      <th>previous_bookings_not_canceled</th>\n",
       "      <th>...</th>\n",
       "      <th>distribution_channel_TA/TO</th>\n",
       "      <th>reserved_room_type_B</th>\n",
       "      <th>reserved_room_type_C</th>\n",
       "      <th>reserved_room_type_D</th>\n",
       "      <th>reserved_room_type_E</th>\n",
       "      <th>reserved_room_type_F</th>\n",
       "      <th>reserved_room_type_G</th>\n",
       "      <th>customer_type_Group</th>\n",
       "      <th>customer_type_Transient</th>\n",
       "      <th>customer_type_Transient-Party</th>\n",
       "    </tr>\n",
       "  </thead>\n",
       "  <tbody>\n",
       "    <tr>\n",
       "      <th>0</th>\n",
       "      <td>-0.929376</td>\n",
       "      <td>7</td>\n",
       "      <td>-0.322326</td>\n",
       "      <td>-1.697258</td>\n",
       "      <td>1</td>\n",
       "      <td>0</td>\n",
       "      <td>0</td>\n",
       "      <td>0</td>\n",
       "      <td>0</td>\n",
       "      <td>0</td>\n",
       "      <td>...</td>\n",
       "      <td>0</td>\n",
       "      <td>0</td>\n",
       "      <td>0</td>\n",
       "      <td>0</td>\n",
       "      <td>0</td>\n",
       "      <td>0</td>\n",
       "      <td>0</td>\n",
       "      <td>0</td>\n",
       "      <td>1</td>\n",
       "      <td>0</td>\n",
       "    </tr>\n",
       "    <tr>\n",
       "      <th>1</th>\n",
       "      <td>-0.856555</td>\n",
       "      <td>7</td>\n",
       "      <td>-0.322326</td>\n",
       "      <td>-1.697258</td>\n",
       "      <td>2</td>\n",
       "      <td>0</td>\n",
       "      <td>0</td>\n",
       "      <td>0</td>\n",
       "      <td>0</td>\n",
       "      <td>0</td>\n",
       "      <td>...</td>\n",
       "      <td>1</td>\n",
       "      <td>0</td>\n",
       "      <td>0</td>\n",
       "      <td>0</td>\n",
       "      <td>0</td>\n",
       "      <td>0</td>\n",
       "      <td>0</td>\n",
       "      <td>0</td>\n",
       "      <td>1</td>\n",
       "      <td>0</td>\n",
       "    </tr>\n",
       "    <tr>\n",
       "      <th>2</th>\n",
       "      <td>-1.002196</td>\n",
       "      <td>7</td>\n",
       "      <td>-0.322326</td>\n",
       "      <td>-1.697258</td>\n",
       "      <td>2</td>\n",
       "      <td>0</td>\n",
       "      <td>0</td>\n",
       "      <td>0</td>\n",
       "      <td>0</td>\n",
       "      <td>0</td>\n",
       "      <td>...</td>\n",
       "      <td>0</td>\n",
       "      <td>0</td>\n",
       "      <td>1</td>\n",
       "      <td>0</td>\n",
       "      <td>0</td>\n",
       "      <td>0</td>\n",
       "      <td>0</td>\n",
       "      <td>0</td>\n",
       "      <td>1</td>\n",
       "      <td>0</td>\n",
       "    </tr>\n",
       "  </tbody>\n",
       "</table>\n",
       "<p>3 rows × 40 columns</p>\n",
       "</div>"
      ],
      "text/plain": [
       "   lead_time  arrival_date_month  arrival_date_week_number  \\\n",
       "0  -0.929376                   7                 -0.322326   \n",
       "1  -0.856555                   7                 -0.322326   \n",
       "2  -1.002196                   7                 -0.322326   \n",
       "\n",
       "   arrival_date_day_of_month  adults  children  has_babies  is_repeated_guest  \\\n",
       "0                  -1.697258       1         0           0                  0   \n",
       "1                  -1.697258       2         0           0                  0   \n",
       "2                  -1.697258       2         0           0                  0   \n",
       "\n",
       "   previous_cancellations  previous_bookings_not_canceled  ...  \\\n",
       "0                       0                               0  ...   \n",
       "1                       0                               0  ...   \n",
       "2                       0                               0  ...   \n",
       "\n",
       "   distribution_channel_TA/TO  reserved_room_type_B  reserved_room_type_C  \\\n",
       "0                           0                     0                     0   \n",
       "1                           1                     0                     0   \n",
       "2                           0                     0                     1   \n",
       "\n",
       "   reserved_room_type_D  reserved_room_type_E  reserved_room_type_F  \\\n",
       "0                     0                     0                     0   \n",
       "1                     0                     0                     0   \n",
       "2                     0                     0                     0   \n",
       "\n",
       "   reserved_room_type_G  customer_type_Group  customer_type_Transient  \\\n",
       "0                     0                    0                        1   \n",
       "1                     0                    0                        1   \n",
       "2                     0                    0                        1   \n",
       "\n",
       "   customer_type_Transient-Party  \n",
       "0                              0  \n",
       "1                              0  \n",
       "2                              0  \n",
       "\n",
       "[3 rows x 40 columns]"
      ]
     },
     "execution_count": 92,
     "metadata": {},
     "output_type": "execute_result"
    }
   ],
   "source": [
    "features_train_ohe.head(3)"
   ]
  },
  {
   "cell_type": "code",
   "execution_count": 93,
   "metadata": {},
   "outputs": [
    {
     "data": {
      "text/plain": [
       "lead_time                         1.000015\n",
       "arrival_date_week_number          1.000015\n",
       "arrival_date_day_of_month         1.000015\n",
       "adults                            0.222251\n",
       "children                          0.111718\n",
       "has_babies                        0.006882\n",
       "previous_cancellations            0.931854\n",
       "previous_bookings_not_canceled    1.759968\n",
       "booking_changes                   0.352643\n",
       "days_in_waiting_list              1.000015\n",
       "required_car_parking_spaces       0.053868\n",
       "total_of_special_requests         0.566392\n",
       "total_nights                      3.021020\n",
       "dtype: float64"
      ]
     },
     "execution_count": 93,
     "metadata": {},
     "output_type": "execute_result"
    }
   ],
   "source": [
    "features_train_ohe[numeric].var()"
   ]
  },
  {
   "cell_type": "markdown",
   "metadata": {},
   "source": [
    "### Краткий вывод"
   ]
  },
  {
   "cell_type": "markdown",
   "metadata": {},
   "source": [
    "Пропуски и явные дубликаты отсутствуют. Привели данные к правильным типам.\n",
    "Проверилии данные на неявные дубликаты и возможные ошибки в категориальных признаках.\n",
    "Заметили и исправили в колонках meal и reserved_room_type много лишних пробелов в данных, а так же неявные дубликаты.\n",
    "\n",
    "Перевели месяцы из категориального в целочисленный тип.\n",
    "В данных по странам, чтобы не плодить огромное количество лишних категорий оставили топ-10 значений, а остальные перевели в одну категорию - other.\n",
    "\n",
    "Проверили количество отмен по разным категориям данных.\n",
    "Если заказ не подтвержден в первые дни, то отмен в два раза больше. Если время между бронированием и датой заезда больше 90 суток, то процент отмен увеличивается пропорционально. Если у клиента есть отменённые заказы, то вероятность отмены почти 95%. Больше всего отмен у клиентов из Португалии. Кто дополнительно заказывал паркинг - вообще не отменяли бронь.\n",
    "Если есть дополнительные опции/отметки то отмен всего ~20%\n",
    "\n",
    "Проверили сбалансированность классов в таргете. Имеем небольшой дисбаланс классов 63/37.\n",
    "Удалили малоинформативные не нужные для обучения модели признаки id, arrival_date_year, stays_in_week_nights и stays_in_weekend_nights.\n",
    "\n",
    "Проверили корреляцию признаков. Наибольшую взаимосвязь имеют признаки lead_time, total_of_special_requests и required_car_parking_spaces. Наименьшую имеют total_nights и arrival_date_day_of_month.\n",
    "\n",
    "Преобразовали категориальные признаки в численные техникой прямого кодирования и порядкового для разных моделей..\n",
    "Разделили данные по признакам на общие и целевые.\n",
    "Проверили дисперсию и сделали нормализацию числовых данные."
   ]
  },
  {
   "cell_type": "markdown",
   "metadata": {},
   "source": [
    "## Формулировка ML-задачи на основе бизнес-задачи"
   ]
  },
  {
   "cell_type": "markdown",
   "metadata": {},
   "source": [
    "Рассчитаем и оценим прибыль отеля без внедрения депозитов. Напишем формулу для рассчета прибыли."
   ]
  },
  {
   "cell_type": "code",
   "execution_count": 94,
   "metadata": {},
   "outputs": [],
   "source": [
    "night_price = {\n",
    "    'A': 1000, 'B': 800, 'C': 600, 'D': 550,\n",
    "    'E': 500, 'F': 450, 'G': 350\n",
    "}"
   ]
  },
  {
   "cell_type": "code",
   "execution_count": 95,
   "metadata": {},
   "outputs": [],
   "source": [
    "clean_price = {\n",
    "    'A': 400, 'B': 350, 'C': 350, 'D': 150,\n",
    "    'E': 150, 'F': 150, 'G': 150\n",
    "}"
   ]
  },
  {
   "cell_type": "code",
   "execution_count": 96,
   "metadata": {},
   "outputs": [],
   "source": [
    "spring_autumn_mounth = [3, 4, 5, 9, 10, 11]"
   ]
  },
  {
   "cell_type": "code",
   "execution_count": 97,
   "metadata": {},
   "outputs": [],
   "source": [
    "summer_mounth = [6, 7, 8]"
   ]
  },
  {
   "cell_type": "code",
   "execution_count": 98,
   "metadata": {},
   "outputs": [],
   "source": [
    "def update_price(data, cf):\n",
    "    for k in data.keys():\n",
    "        data[k] *= cf"
   ]
  },
  {
   "cell_type": "code",
   "execution_count": 99,
   "metadata": {},
   "outputs": [],
   "source": [
    "def income_calc(row, predict=False):\n",
    "    room_type = row['reserved_room_type']\n",
    "    s_night_price = night_price.copy()\n",
    "    \n",
    "    if row['arrival_date_month'] in spring_autumn_mounth:\n",
    "        update_price(s_night_price, 1.2)\n",
    "    elif row['arrival_date_month'] in summer_mounth:\n",
    "        update_price(s_night_price, 1.4) \n",
    "\n",
    "    if row['is_canceled'] == 0:\n",
    "        result = (\n",
    "            row['total_nights'] \n",
    "            * s_night_price[room_type] \n",
    "            - clean_price[room_type] \n",
    "            - (row['total_nights'] // 2 * clean_price[room_type])\n",
    "        )\n",
    "    elif predict and row['is_canceled'] == 1 and row['predict_is_canceled'] == 1:\n",
    "        result = (s_night_price[room_type] + clean_price[room_type]) * -0.2\n",
    "    else:\n",
    "        result = (s_night_price[room_type] + clean_price[room_type]) * -1\n",
    "    return int(result)"
   ]
  },
  {
   "cell_type": "code",
   "execution_count": 100,
   "metadata": {},
   "outputs": [],
   "source": [
    "df_test['income'] = df_test.apply(income_calc, axis=1)"
   ]
  },
  {
   "cell_type": "code",
   "execution_count": 101,
   "metadata": {},
   "outputs": [
    {
     "data": {
      "text/html": [
       "<div>\n",
       "<style scoped>\n",
       "    .dataframe tbody tr th:only-of-type {\n",
       "        vertical-align: middle;\n",
       "    }\n",
       "\n",
       "    .dataframe tbody tr th {\n",
       "        vertical-align: top;\n",
       "    }\n",
       "\n",
       "    .dataframe thead th {\n",
       "        text-align: right;\n",
       "    }\n",
       "</style>\n",
       "<table border=\"1\" class=\"dataframe\">\n",
       "  <thead>\n",
       "    <tr style=\"text-align: right;\">\n",
       "      <th></th>\n",
       "      <th>is_canceled</th>\n",
       "      <th>lead_time</th>\n",
       "      <th>arrival_date_month</th>\n",
       "      <th>arrival_date_week_number</th>\n",
       "      <th>arrival_date_day_of_month</th>\n",
       "      <th>adults</th>\n",
       "      <th>children</th>\n",
       "      <th>has_babies</th>\n",
       "      <th>meal</th>\n",
       "      <th>country</th>\n",
       "      <th>...</th>\n",
       "      <th>previous_cancellations</th>\n",
       "      <th>previous_bookings_not_canceled</th>\n",
       "      <th>reserved_room_type</th>\n",
       "      <th>booking_changes</th>\n",
       "      <th>days_in_waiting_list</th>\n",
       "      <th>customer_type</th>\n",
       "      <th>required_car_parking_spaces</th>\n",
       "      <th>total_of_special_requests</th>\n",
       "      <th>total_nights</th>\n",
       "      <th>income</th>\n",
       "    </tr>\n",
       "  </thead>\n",
       "  <tbody>\n",
       "    <tr>\n",
       "      <th>0</th>\n",
       "      <td>1</td>\n",
       "      <td>74</td>\n",
       "      <td>1</td>\n",
       "      <td>1</td>\n",
       "      <td>1</td>\n",
       "      <td>2</td>\n",
       "      <td>0</td>\n",
       "      <td>0</td>\n",
       "      <td>BB</td>\n",
       "      <td>PRT</td>\n",
       "      <td>...</td>\n",
       "      <td>0</td>\n",
       "      <td>0</td>\n",
       "      <td>A</td>\n",
       "      <td>0</td>\n",
       "      <td>0</td>\n",
       "      <td>Transient</td>\n",
       "      <td>0</td>\n",
       "      <td>0</td>\n",
       "      <td>1</td>\n",
       "      <td>-1400</td>\n",
       "    </tr>\n",
       "    <tr>\n",
       "      <th>1</th>\n",
       "      <td>1</td>\n",
       "      <td>62</td>\n",
       "      <td>1</td>\n",
       "      <td>1</td>\n",
       "      <td>1</td>\n",
       "      <td>2</td>\n",
       "      <td>0</td>\n",
       "      <td>0</td>\n",
       "      <td>BB</td>\n",
       "      <td>other</td>\n",
       "      <td>...</td>\n",
       "      <td>0</td>\n",
       "      <td>0</td>\n",
       "      <td>A</td>\n",
       "      <td>0</td>\n",
       "      <td>0</td>\n",
       "      <td>Transient</td>\n",
       "      <td>0</td>\n",
       "      <td>1</td>\n",
       "      <td>4</td>\n",
       "      <td>-1400</td>\n",
       "    </tr>\n",
       "    <tr>\n",
       "      <th>2</th>\n",
       "      <td>1</td>\n",
       "      <td>62</td>\n",
       "      <td>1</td>\n",
       "      <td>1</td>\n",
       "      <td>1</td>\n",
       "      <td>2</td>\n",
       "      <td>0</td>\n",
       "      <td>0</td>\n",
       "      <td>BB</td>\n",
       "      <td>other</td>\n",
       "      <td>...</td>\n",
       "      <td>0</td>\n",
       "      <td>0</td>\n",
       "      <td>A</td>\n",
       "      <td>0</td>\n",
       "      <td>0</td>\n",
       "      <td>Transient</td>\n",
       "      <td>0</td>\n",
       "      <td>1</td>\n",
       "      <td>4</td>\n",
       "      <td>-1400</td>\n",
       "    </tr>\n",
       "    <tr>\n",
       "      <th>3</th>\n",
       "      <td>1</td>\n",
       "      <td>71</td>\n",
       "      <td>1</td>\n",
       "      <td>1</td>\n",
       "      <td>1</td>\n",
       "      <td>1</td>\n",
       "      <td>0</td>\n",
       "      <td>0</td>\n",
       "      <td>BB</td>\n",
       "      <td>PRT</td>\n",
       "      <td>...</td>\n",
       "      <td>0</td>\n",
       "      <td>0</td>\n",
       "      <td>A</td>\n",
       "      <td>0</td>\n",
       "      <td>0</td>\n",
       "      <td>Transient</td>\n",
       "      <td>0</td>\n",
       "      <td>1</td>\n",
       "      <td>4</td>\n",
       "      <td>-1400</td>\n",
       "    </tr>\n",
       "    <tr>\n",
       "      <th>4</th>\n",
       "      <td>1</td>\n",
       "      <td>172</td>\n",
       "      <td>1</td>\n",
       "      <td>1</td>\n",
       "      <td>1</td>\n",
       "      <td>2</td>\n",
       "      <td>0</td>\n",
       "      <td>0</td>\n",
       "      <td>BB</td>\n",
       "      <td>BEL</td>\n",
       "      <td>...</td>\n",
       "      <td>0</td>\n",
       "      <td>0</td>\n",
       "      <td>A</td>\n",
       "      <td>0</td>\n",
       "      <td>0</td>\n",
       "      <td>Transient</td>\n",
       "      <td>0</td>\n",
       "      <td>0</td>\n",
       "      <td>7</td>\n",
       "      <td>-1400</td>\n",
       "    </tr>\n",
       "  </tbody>\n",
       "</table>\n",
       "<p>5 rows × 22 columns</p>\n",
       "</div>"
      ],
      "text/plain": [
       "   is_canceled  lead_time  arrival_date_month  arrival_date_week_number  \\\n",
       "0            1         74                   1                         1   \n",
       "1            1         62                   1                         1   \n",
       "2            1         62                   1                         1   \n",
       "3            1         71                   1                         1   \n",
       "4            1        172                   1                         1   \n",
       "\n",
       "   arrival_date_day_of_month  adults  children  has_babies meal country  ...  \\\n",
       "0                          1       2         0           0   BB     PRT  ...   \n",
       "1                          1       2         0           0   BB   other  ...   \n",
       "2                          1       2         0           0   BB   other  ...   \n",
       "3                          1       1         0           0   BB     PRT  ...   \n",
       "4                          1       2         0           0   BB     BEL  ...   \n",
       "\n",
       "  previous_cancellations  previous_bookings_not_canceled  reserved_room_type  \\\n",
       "0                      0                               0                   A   \n",
       "1                      0                               0                   A   \n",
       "2                      0                               0                   A   \n",
       "3                      0                               0                   A   \n",
       "4                      0                               0                   A   \n",
       "\n",
       "   booking_changes days_in_waiting_list  customer_type  \\\n",
       "0                0                    0      Transient   \n",
       "1                0                    0      Transient   \n",
       "2                0                    0      Transient   \n",
       "3                0                    0      Transient   \n",
       "4                0                    0      Transient   \n",
       "\n",
       "   required_car_parking_spaces total_of_special_requests  total_nights  income  \n",
       "0                            0                         0             1   -1400  \n",
       "1                            0                         1             4   -1400  \n",
       "2                            0                         1             4   -1400  \n",
       "3                            0                         1             4   -1400  \n",
       "4                            0                         0             7   -1400  \n",
       "\n",
       "[5 rows x 22 columns]"
      ]
     },
     "execution_count": 101,
     "metadata": {},
     "output_type": "execute_result"
    }
   ],
   "source": [
    "df_test.head()"
   ]
  },
  {
   "cell_type": "code",
   "execution_count": 102,
   "metadata": {},
   "outputs": [
    {
     "data": {
      "text/plain": [
       "32582905"
      ]
     },
     "execution_count": 102,
     "metadata": {},
     "output_type": "execute_result"
    }
   ],
   "source": [
    "df_test['income'].sum()"
   ]
  },
  {
   "cell_type": "markdown",
   "metadata": {},
   "source": [
    "Прибыль отеля без внедрения депозитов на тестовых данных составила 32 582 905 руб."
   ]
  },
  {
   "cell_type": "markdown",
   "metadata": {},
   "source": [
    "## Разработка модели ML"
   ]
  },
  {
   "cell_type": "markdown",
   "metadata": {},
   "source": [
    "### Обучение модели"
   ]
  },
  {
   "cell_type": "markdown",
   "metadata": {},
   "source": [
    "Обучим разные модели и оценим их качество кросс-валидацией. Выберем лучшую модель. Для оценки моделей будем использовать метрику f1-score. \n",
    "\n",
    "Для нас важны Recall и Precision, они оценивают качество прогноза положительного класса с разных позиций - полноты и точности. \n",
    "Важны обе метрики. Оценивать их параллельно поможет f1-score. "
   ]
  },
  {
   "cell_type": "markdown",
   "metadata": {},
   "source": [
    "Модель **Logistic Regression**"
   ]
  },
  {
   "cell_type": "code",
   "execution_count": 103,
   "metadata": {
    "scrolled": true
   },
   "outputs": [
    {
     "name": "stdout",
     "output_type": "stream",
     "text": [
      "Средняя оценка качества модели LR на данных OHE: 0.6381550466363279\n",
      "CPU times: user 3min 35s, sys: 3min 8s, total: 6min 44s\n",
      "Wall time: 6min 45s\n"
     ]
    }
   ],
   "source": [
    "%%time\n",
    "log_model = LogisticRegression(random_state=33, solver='lbfgs', max_iter=1000)\n",
    "scores = cross_val_score(log_model, features_train_ohe, target_train_ohe, cv=10, scoring='f1')\n",
    "print('Средняя оценка качества модели LR на данных OHE:', scores.mean())"
   ]
  },
  {
   "cell_type": "markdown",
   "metadata": {},
   "source": [
    "Модель **Decision Tree Classifier**"
   ]
  },
  {
   "cell_type": "code",
   "execution_count": 104,
   "metadata": {
    "scrolled": true
   },
   "outputs": [
    {
     "name": "stdout",
     "output_type": "stream",
     "text": [
      "Средняя оценка качества модели DT на данных ORD: 0.49556393793246595\n",
      "CPU times: user 4.87 s, sys: 0 ns, total: 4.87 s\n",
      "Wall time: 4.9 s\n"
     ]
    }
   ],
   "source": [
    "%%time\n",
    "tree_model = DecisionTreeClassifier(random_state=33)\n",
    "scores = cross_val_score(tree_model, features_train_ord, target_train_ord, cv=20, scoring='f1') \n",
    "print('Средняя оценка качества модели DT на данных ORD:', scores.mean())"
   ]
  },
  {
   "cell_type": "markdown",
   "metadata": {},
   "source": [
    "Модель **Random Forest Classifier**"
   ]
  },
  {
   "cell_type": "code",
   "execution_count": 105,
   "metadata": {},
   "outputs": [
    {
     "name": "stdout",
     "output_type": "stream",
     "text": [
      "Средняя оценка качества модели RFна данных ORD: 0.501949206573654\n",
      "CPU times: user 1min 37s, sys: 611 ms, total: 1min 37s\n",
      "Wall time: 1min 38s\n"
     ]
    }
   ],
   "source": [
    "%%time\n",
    "rf_model = RandomForestClassifier(random_state=33)\n",
    "scores = cross_val_score(rf_model, features_train_ord, target_train_ord, cv=20, scoring='f1')\n",
    "print('Средняя оценка качества модели RFна данных ORD:', scores.mean())"
   ]
  },
  {
   "cell_type": "markdown",
   "metadata": {},
   "source": [
    "Лучшую среднюю оценку показала модель Logistic Regression. Попробуем улучшить метрику у \"деревянных\" моделей с помощью подбора параметров."
   ]
  },
  {
   "cell_type": "code",
   "execution_count": 106,
   "metadata": {},
   "outputs": [
    {
     "name": "stdout",
     "output_type": "stream",
     "text": [
      "Лучшие параметры: {'class_weight': 'balanced', 'max_depth': 6, 'max_features': 8, 'min_samples_split': 2}\n",
      "Best score: 0.6514647370065734\n",
      "CPU times: user 7.14 s, sys: 0 ns, total: 7.14 s\n",
      "Wall time: 7.15 s\n"
     ]
    }
   ],
   "source": [
    "%%time\n",
    "param = {\n",
    "    'max_depth': [6, 8, 12],\n",
    "    'min_samples_split': [2],\n",
    "    'max_features': [6, 8, 12],\n",
    "    'class_weight': ['balanced']\n",
    "}\n",
    "\n",
    "clf = GridSearchCV(tree_model, param, scoring='f1', cv=10, n_jobs=-1)\n",
    "clf.fit(features_train_ord, target_train_ord)\n",
    "\n",
    "tree_model = clf.best_estimator_\n",
    "print('Лучшие параметры:', clf.best_params_)\n",
    "print('Best score:', clf.best_score_)"
   ]
  },
  {
   "cell_type": "code",
   "execution_count": 107,
   "metadata": {},
   "outputs": [
    {
     "name": "stdout",
     "output_type": "stream",
     "text": [
      "Лучшие параметры: {'class_weight': 'balanced', 'max_depth': 8, 'max_features': 12, 'min_samples_split': 2, 'n_estimators': 50}\n",
      "Best score: 0.6829174138154538\n",
      "CPU times: user 2min 51s, sys: 0 ns, total: 2min 51s\n",
      "Wall time: 2min 52s\n"
     ]
    }
   ],
   "source": [
    "%%time\n",
    "param = {\n",
    "    'n_estimators': [50],\n",
    "    'max_depth': [6, 8],\n",
    "    'min_samples_split': [2],\n",
    "    'max_features': [8, 12],\n",
    "    'class_weight': ['balanced']\n",
    "}\n",
    "\n",
    "clf = GridSearchCV(rf_model, param, scoring='f1', cv=20, n_jobs=-1)\n",
    "clf.fit(features_train_ord, target_train_ord)\n",
    "\n",
    "rf_model = clf.best_estimator_\n",
    "print('Лучшие параметры:', clf.best_params_)\n",
    "print('Best score:', clf.best_score_)"
   ]
  },
  {
   "cell_type": "markdown",
   "metadata": {},
   "source": [
    "После подбора параметров лучший f1-score показала Random Forest. Возьмем ее для для проверки на тестовой выборке."
   ]
  },
  {
   "cell_type": "markdown",
   "metadata": {},
   "source": [
    "Напишем функцию отображения ROC-кривой."
   ]
  },
  {
   "cell_type": "code",
   "execution_count": 108,
   "metadata": {},
   "outputs": [],
   "source": [
    "def draw_roc(fpr, tpr):\n",
    "    plt.figure(figsize=(8, 6))\n",
    "    plt.plot([0, 1], [0, 1], linestyle='--',)\n",
    "    plt.plot(fpr, tpr)\n",
    "    plt.xlim([0.0, 1.0])\n",
    "    plt.ylim([0.0, 1.0])\n",
    "    plt.xlabel('False Positive Rate')\n",
    "    plt.ylabel('True Positive Rate')\n",
    "    plt.title('ROC-кривая')\n",
    "    plt.show()"
   ]
  },
  {
   "cell_type": "markdown",
   "metadata": {},
   "source": [
    "### Тестирование модели"
   ]
  },
  {
   "cell_type": "markdown",
   "metadata": {},
   "source": [
    "Проверим модель на тестовых данных."
   ]
  },
  {
   "cell_type": "code",
   "execution_count": 109,
   "metadata": {
    "scrolled": false
   },
   "outputs": [
    {
     "name": "stdout",
     "output_type": "stream",
     "text": [
      "f1 метрика на тестовых данных RF: 0.681845953321657\n"
     ]
    }
   ],
   "source": [
    "rf_model.fit(features_train_ord, target_train_ord)\n",
    "predict_test = rf_model.predict(features_test_ord)\n",
    "print('f1 метрика на тестовых данных RF:', f1_score(target_test_ord, predict_test))"
   ]
  },
  {
   "cell_type": "code",
   "execution_count": 110,
   "metadata": {
    "scrolled": false
   },
   "outputs": [
    {
     "data": {
      "image/png": "[encoded data removed]",
      "text/plain": [
       "<Figure size 576x432 with 1 Axes>"
      ]
     },
     "metadata": {
      "needs_background": "light"
     },
     "output_type": "display_data"
    },
    {
     "name": "stdout",
     "output_type": "stream",
     "text": [
      "roc-auc score: 0.7418197549988047\n"
     ]
    }
   ],
   "source": [
    "predict_proba_one = rf_model.predict_proba(features_test_ord)[:, 1]\n",
    "fpr, tpr, thresholds = roc_curve(target_test_ord, predict_proba_one)\n",
    "\n",
    "draw_roc(fpr, tpr)\n",
    "print('roc-auc score:', roc_auc_score(target_test_ord, predict_test))"
   ]
  },
  {
   "cell_type": "markdown",
   "metadata": {},
   "source": [
    "### Оценка прибыли"
   ]
  },
  {
   "cell_type": "markdown",
   "metadata": {},
   "source": [
    "Оценим прибыль, которую принесёт выбранная модель за тестовый период."
   ]
  },
  {
   "cell_type": "code",
   "execution_count": 111,
   "metadata": {},
   "outputs": [],
   "source": [
    "df_test['predict_is_canceled'] = predict_test"
   ]
  },
  {
   "cell_type": "code",
   "execution_count": 112,
   "metadata": {},
   "outputs": [],
   "source": [
    "df_test['income_predict'] = df_test.apply(income_calc, predict=True, axis=1)"
   ]
  },
  {
   "cell_type": "code",
   "execution_count": 113,
   "metadata": {},
   "outputs": [
    {
     "data": {
      "text/html": [
       "<div>\n",
       "<style scoped>\n",
       "    .dataframe tbody tr th:only-of-type {\n",
       "        vertical-align: middle;\n",
       "    }\n",
       "\n",
       "    .dataframe tbody tr th {\n",
       "        vertical-align: top;\n",
       "    }\n",
       "\n",
       "    .dataframe thead th {\n",
       "        text-align: right;\n",
       "    }\n",
       "</style>\n",
       "<table border=\"1\" class=\"dataframe\">\n",
       "  <thead>\n",
       "    <tr style=\"text-align: right;\">\n",
       "      <th></th>\n",
       "      <th>is_canceled</th>\n",
       "      <th>lead_time</th>\n",
       "      <th>arrival_date_month</th>\n",
       "      <th>arrival_date_week_number</th>\n",
       "      <th>arrival_date_day_of_month</th>\n",
       "      <th>adults</th>\n",
       "      <th>children</th>\n",
       "      <th>has_babies</th>\n",
       "      <th>meal</th>\n",
       "      <th>country</th>\n",
       "      <th>...</th>\n",
       "      <th>reserved_room_type</th>\n",
       "      <th>booking_changes</th>\n",
       "      <th>days_in_waiting_list</th>\n",
       "      <th>customer_type</th>\n",
       "      <th>required_car_parking_spaces</th>\n",
       "      <th>total_of_special_requests</th>\n",
       "      <th>total_nights</th>\n",
       "      <th>income</th>\n",
       "      <th>predict_is_canceled</th>\n",
       "      <th>income_predict</th>\n",
       "    </tr>\n",
       "  </thead>\n",
       "  <tbody>\n",
       "    <tr>\n",
       "      <th>0</th>\n",
       "      <td>1</td>\n",
       "      <td>74</td>\n",
       "      <td>1</td>\n",
       "      <td>1</td>\n",
       "      <td>1</td>\n",
       "      <td>2</td>\n",
       "      <td>0</td>\n",
       "      <td>0</td>\n",
       "      <td>BB</td>\n",
       "      <td>PRT</td>\n",
       "      <td>...</td>\n",
       "      <td>A</td>\n",
       "      <td>0</td>\n",
       "      <td>0</td>\n",
       "      <td>Transient</td>\n",
       "      <td>0</td>\n",
       "      <td>0</td>\n",
       "      <td>1</td>\n",
       "      <td>-1400</td>\n",
       "      <td>1</td>\n",
       "      <td>-280</td>\n",
       "    </tr>\n",
       "    <tr>\n",
       "      <th>1</th>\n",
       "      <td>1</td>\n",
       "      <td>62</td>\n",
       "      <td>1</td>\n",
       "      <td>1</td>\n",
       "      <td>1</td>\n",
       "      <td>2</td>\n",
       "      <td>0</td>\n",
       "      <td>0</td>\n",
       "      <td>BB</td>\n",
       "      <td>other</td>\n",
       "      <td>...</td>\n",
       "      <td>A</td>\n",
       "      <td>0</td>\n",
       "      <td>0</td>\n",
       "      <td>Transient</td>\n",
       "      <td>0</td>\n",
       "      <td>1</td>\n",
       "      <td>4</td>\n",
       "      <td>-1400</td>\n",
       "      <td>0</td>\n",
       "      <td>-1400</td>\n",
       "    </tr>\n",
       "  </tbody>\n",
       "</table>\n",
       "<p>2 rows × 24 columns</p>\n",
       "</div>"
      ],
      "text/plain": [
       "   is_canceled  lead_time  arrival_date_month  arrival_date_week_number  \\\n",
       "0            1         74                   1                         1   \n",
       "1            1         62                   1                         1   \n",
       "\n",
       "   arrival_date_day_of_month  adults  children  has_babies meal country  ...  \\\n",
       "0                          1       2         0           0   BB     PRT  ...   \n",
       "1                          1       2         0           0   BB   other  ...   \n",
       "\n",
       "  reserved_room_type  booking_changes  days_in_waiting_list  customer_type  \\\n",
       "0                  A                0                     0      Transient   \n",
       "1                  A                0                     0      Transient   \n",
       "\n",
       "  required_car_parking_spaces  total_of_special_requests  total_nights income  \\\n",
       "0                           0                          0             1  -1400   \n",
       "1                           0                          1             4  -1400   \n",
       "\n",
       "   predict_is_canceled  income_predict  \n",
       "0                    1            -280  \n",
       "1                    0           -1400  \n",
       "\n",
       "[2 rows x 24 columns]"
      ]
     },
     "execution_count": 113,
     "metadata": {},
     "output_type": "execute_result"
    }
   ],
   "source": [
    "df_test.head(2)"
   ]
  },
  {
   "cell_type": "code",
   "execution_count": 114,
   "metadata": {},
   "outputs": [
    {
     "data": {
      "text/html": [
       "<div>\n",
       "<style scoped>\n",
       "    .dataframe tbody tr th:only-of-type {\n",
       "        vertical-align: middle;\n",
       "    }\n",
       "\n",
       "    .dataframe tbody tr th {\n",
       "        vertical-align: top;\n",
       "    }\n",
       "\n",
       "    .dataframe thead th {\n",
       "        text-align: right;\n",
       "    }\n",
       "</style>\n",
       "<table border=\"1\" class=\"dataframe\">\n",
       "  <thead>\n",
       "    <tr style=\"text-align: right;\">\n",
       "      <th></th>\n",
       "      <th>is_canceled</th>\n",
       "      <th>lead_time</th>\n",
       "      <th>arrival_date_month</th>\n",
       "      <th>arrival_date_week_number</th>\n",
       "      <th>arrival_date_day_of_month</th>\n",
       "      <th>adults</th>\n",
       "      <th>children</th>\n",
       "      <th>has_babies</th>\n",
       "      <th>meal</th>\n",
       "      <th>country</th>\n",
       "      <th>...</th>\n",
       "      <th>reserved_room_type</th>\n",
       "      <th>booking_changes</th>\n",
       "      <th>days_in_waiting_list</th>\n",
       "      <th>customer_type</th>\n",
       "      <th>required_car_parking_spaces</th>\n",
       "      <th>total_of_special_requests</th>\n",
       "      <th>total_nights</th>\n",
       "      <th>income</th>\n",
       "      <th>predict_is_canceled</th>\n",
       "      <th>income_predict</th>\n",
       "    </tr>\n",
       "  </thead>\n",
       "  <tbody>\n",
       "    <tr>\n",
       "      <th>95</th>\n",
       "      <td>0</td>\n",
       "      <td>0</td>\n",
       "      <td>1</td>\n",
       "      <td>4</td>\n",
       "      <td>25</td>\n",
       "      <td>1</td>\n",
       "      <td>0</td>\n",
       "      <td>0</td>\n",
       "      <td>BB</td>\n",
       "      <td>PRT</td>\n",
       "      <td>...</td>\n",
       "      <td>A</td>\n",
       "      <td>0</td>\n",
       "      <td>0</td>\n",
       "      <td>Transient</td>\n",
       "      <td>0</td>\n",
       "      <td>0</td>\n",
       "      <td>1</td>\n",
       "      <td>600</td>\n",
       "      <td>0</td>\n",
       "      <td>600</td>\n",
       "    </tr>\n",
       "    <tr>\n",
       "      <th>299</th>\n",
       "      <td>0</td>\n",
       "      <td>70</td>\n",
       "      <td>2</td>\n",
       "      <td>8</td>\n",
       "      <td>22</td>\n",
       "      <td>2</td>\n",
       "      <td>0</td>\n",
       "      <td>0</td>\n",
       "      <td>BB</td>\n",
       "      <td>GBR</td>\n",
       "      <td>...</td>\n",
       "      <td>A</td>\n",
       "      <td>2</td>\n",
       "      <td>0</td>\n",
       "      <td>Transient-Party</td>\n",
       "      <td>0</td>\n",
       "      <td>0</td>\n",
       "      <td>4</td>\n",
       "      <td>2800</td>\n",
       "      <td>0</td>\n",
       "      <td>2800</td>\n",
       "    </tr>\n",
       "  </tbody>\n",
       "</table>\n",
       "<p>2 rows × 24 columns</p>\n",
       "</div>"
      ],
      "text/plain": [
       "     is_canceled  lead_time  arrival_date_month  arrival_date_week_number  \\\n",
       "95             0          0                   1                         4   \n",
       "299            0         70                   2                         8   \n",
       "\n",
       "     arrival_date_day_of_month  adults  children  has_babies meal country  \\\n",
       "95                          25       1         0           0   BB     PRT   \n",
       "299                         22       2         0           0   BB     GBR   \n",
       "\n",
       "     ... reserved_room_type  booking_changes  days_in_waiting_list  \\\n",
       "95   ...                  A                0                     0   \n",
       "299  ...                  A                2                     0   \n",
       "\n",
       "       customer_type required_car_parking_spaces  total_of_special_requests  \\\n",
       "95         Transient                           0                          0   \n",
       "299  Transient-Party                           0                          0   \n",
       "\n",
       "     total_nights income  predict_is_canceled  income_predict  \n",
       "95              1    600                    0             600  \n",
       "299             4   2800                    0            2800  \n",
       "\n",
       "[2 rows x 24 columns]"
      ]
     },
     "execution_count": 114,
     "metadata": {},
     "output_type": "execute_result"
    }
   ],
   "source": [
    "df_test.query('is_canceled == 0').head(2)"
   ]
  },
  {
   "cell_type": "code",
   "execution_count": 115,
   "metadata": {},
   "outputs": [],
   "source": [
    "income_sum = df_test['income'].sum()\n",
    "income_predict_sum = df_test['income_predict'].sum()"
   ]
  },
  {
   "cell_type": "code",
   "execution_count": 116,
   "metadata": {},
   "outputs": [
    {
     "name": "stdout",
     "output_type": "stream",
     "text": [
      "Прибыль без предсказаний: 32582905\n",
      "Прибыль с предсказаниями отмены: 42356377\n"
     ]
    }
   ],
   "source": [
    "print('Прибыль без предсказаний:', income_sum)\n",
    "print('Прибыль с предсказаниями отмены:', income_predict_sum)"
   ]
  },
  {
   "cell_type": "code",
   "execution_count": 117,
   "metadata": {},
   "outputs": [
    {
     "name": "stdout",
     "output_type": "stream",
     "text": [
      "Выручка от введения системы прогнозирования: 9373472\n"
     ]
    }
   ],
   "source": [
    "print('Выручка от введения системы прогнозирования:', income_predict_sum - income_sum - 400_000)"
   ]
  },
  {
   "cell_type": "markdown",
   "metadata": {},
   "source": [
    "Депозит для «надежных» клиентов может их отпугнуть. Попробуем проверить такой сценарий, назовем его худшим: пусть половина случайных клиентов из тех, с кого модель предложит взять депозит, откажутся от услуг."
   ]
  },
  {
   "cell_type": "code",
   "execution_count": 118,
   "metadata": {},
   "outputs": [],
   "source": [
    "def random_drop(row):\n",
    "    res = row['income_predict']\n",
    "    if np.random.randint(2) == 1:\n",
    "        if row['predict_is_canceled'] == 1:\n",
    "            res = 0\n",
    "    return res"
   ]
  },
  {
   "cell_type": "code",
   "execution_count": 119,
   "metadata": {},
   "outputs": [],
   "source": [
    "df_test['drop_income'] = df_test.apply(random_drop, axis=1)"
   ]
  },
  {
   "cell_type": "code",
   "execution_count": 120,
   "metadata": {},
   "outputs": [],
   "source": [
    "drop_income = df_test['drop_income'].sum()"
   ]
  },
  {
   "cell_type": "code",
   "execution_count": 121,
   "metadata": {},
   "outputs": [
    {
     "name": "stdout",
     "output_type": "stream",
     "text": [
      "Прибыль, если 50% откажутся от заказа с предложенным депозитом: 38603111\n"
     ]
    }
   ],
   "source": [
    "print('Прибыль, если 50% откажутся от заказа с предложенным депозитом:', drop_income)"
   ]
  },
  {
   "cell_type": "code",
   "execution_count": 122,
   "metadata": {},
   "outputs": [
    {
     "name": "stdout",
     "output_type": "stream",
     "text": [
      "Выручка от введения системы прогнозирования с \"плохим\" исходом: 3353266\n"
     ]
    }
   ],
   "source": [
    "print('Выручка от введения системы прогнозирования с \"плохим\" исходом:', income_predict_sum - drop_income - 400_000)"
   ]
  },
  {
   "cell_type": "markdown",
   "metadata": {},
   "source": [
    "Как можно заметить, даже при \"плохом\" сценарии прибыль составляет 3 353 266 руб."
   ]
  },
  {
   "cell_type": "markdown",
   "metadata": {},
   "source": [
    "### Краткий вывод"
   ]
  },
  {
   "cell_type": "markdown",
   "metadata": {},
   "source": [
    "Рассчитали и оценили прибыль отеля без внедрения депозитов. Прибыль отеля без внедрения депозитов на тестовых данных составила 32 582 905 руб.\n",
    "\n",
    "Обучили разные модели и оценили их f1-score кросс-валидацией:\n",
    "- модель Logistic Regression - средняя оценка: 0.64\n",
    "- модель Decision Tree Classifier - средняя оценка: 0.50\n",
    "- модель Random Forest Classifier - средняя оценка: 0.50\n",
    "\n",
    "Лучшую среднюю оценку показала модель LogReg. Eлучшили метрику у \"деревянных\" моделей с помощью подбора параметров. После подбора параметров лучший f1-score показала Random Forest - 0.68.\n",
    "\n",
    "Проверили модель на тестовых данных. f1 метрика на тестовых данных составила: 0.682, а roc-auc score: 0.741.\n",
    "\n",
    "Оценили прибыль, которую принесёт выбранная модель за тестовый период.<br>\n",
    "Прибыль без предсказаний: 32 582 905 руб.<br>\n",
    "Прибыль с предсказаниями отмены: 42 356 377 руб.<br>\n",
    "Выручка от введения системы прогнозирования: 9 373 472 руб.<br>\n",
    "\n",
    "Даже при плохом сценарии, если половина «надежных» случайных клиентов из тех, с кого модель предложит взять депозит, откажутся от услуг прибыль составит 3 353 266 руб."
   ]
  },
  {
   "cell_type": "markdown",
   "metadata": {},
   "source": [
    "## Портрет «ненадёжного» клиента"
   ]
  },
  {
   "cell_type": "markdown",
   "metadata": {},
   "source": [
    "На основе исследовательского анализа данных описать клиента, склонного к отказу от брони можно так:\n",
    "- если клиент заказ не подтверждил в первые дни, то отмен в два раза больше.\n",
    "- чем больше дней (90+) между бронью и датой заезда, тем больше вероятность отмены.\n",
    "- если у клиента есть отменённые заказы, то вероятность отмены почти 95%.\n",
    "- больше всего отмен у клиентов из Португалии.\n",
    "- не заказывает паркинг (кто дополнительно заказывал паркинг - вообще не отменяли бронь).\n",
    "- нет доп. опций/заметок/запросов (если есть дополнительные опции/отметки то отмен всего ~20%).\n",
    "\n",
    "По остальным признакам показатели в пределах общего баланса классов 60/40."
   ]
  },
  {
   "cell_type": "markdown",
   "metadata": {},
   "source": [
    "## Общий вывод"
   ]
  },
  {
   "cell_type": "markdown",
   "metadata": {},
   "source": [
    "Опишите модель, которая решает задачу с наибольшей выгодой для бизнеса. \n",
    "Дайте бизнесу рекомендации по результатам проделанной работы."
   ]
  },
  {
   "cell_type": "markdown",
   "metadata": {},
   "source": [
    "Открыли фалйы и загрузили данные, пропуски и явные дубликаты отсутствуют. Привели данные к правильным типам. Проверилии данные на неявные дубликаты и возможные ошибки в категориальных признаках. Заметили и исправили в колонках meal и reserved_room_type много лишних пробелов в данных, а так же неявные дубликаты.\n",
    "\n",
    "Перевели месяцы из категориального в целочисленный тип. В данных по странам, чтобы не плодить огромное количество лишних категорий оставили топ-10 значений, а остальные перевели в одну категорию - other.\n",
    "\n",
    "Проверили количество отмен по разным категориям данных. Если заказ не подтвержден в первые дни, то отмен в два раза больше. Если время между бронированием и датой заезда больше 90 суток, то процент отмен увеличивается пропорционально. Если у клиента есть отменённые заказы, то вероятность отмены почти 95%. Больше всего отмен у клиентов из Португалии. Кто дополнительно заказывал паркинг - вообще не отменяли бронь.\n",
    "Если есть дополнительные опции/отметки то отмен всего ~20%\n",
    "\n",
    "Проверили сбалансированность классов в таргете. Имеем небольшой дисбаланс классов 63/37. Удалили малоинформативные не нужные для обучения модели признаки id, arrival_date_year, stays_in_week_nights и stays_in_weekend_nights.\n",
    "\n",
    "Проверили корреляцию признаков. Наибольшую взаимосвязь имеют признаки lead_time, total_of_special_requests и required_car_parking_spaces. Наименьшую имеют total_nights и arrival_date_day_of_month.\n",
    "\n",
    "Преобразовали категориальные признаки в численные техникой прямого кодирования (One-Hot Encoding, OHE). Разделили данные по признакам на общие и целевые, а так же на тренировочную и валидационную выборки. Проверили дисперсию и сделали нормализацию числовых данные.\n",
    "\n",
    "Рассчитали и оценили прибыль отеля без внедрения депозитов. Прибыль отеля без внедрения депозитов на тестовых данных составила 32 582 905 руб.\n",
    "\n",
    "Обучили разные модели и оценили их f1-score кросс-валидацией:\n",
    "- модель Logistic Regression - средняя оценка: 0.64\n",
    "- модель Decision Tree Classifier - средняя оценка: 0.50\n",
    "- модель Random Forest Classifier - средняя оценка: 0.50\n",
    "\n",
    "Лучшую среднюю оценку показала модель LogReg. Eлучшили метрику у \"деревянных\" моделей с помощью подбора параметров. После подбора параметров лучший f1-score показала Random Forest - 0.68.\n",
    "\n",
    "Проверили модель на тестовых данных. f1 метрика на тестовых данных составила: 0.682, а roc-auc score: 0.741.\n",
    "\n",
    "Оценили прибыль, которую принесёт выбранная модель за тестовый период.<br>\n",
    "Прибыль без предсказаний: 32 582 905 руб.<br>\n",
    "Прибыль с предсказаниями отмены: 42 356 377 руб.<br>\n",
    "Выручка от введения системы прогнозирования: 9 373 472 руб.<br>\n",
    "\n",
    "Даже при плохом сценарии, если половина «надежных» случайных клиентов из тех, с кого модель предложит взять депозит, откажутся от услуг прибыль составит 3 353 266 руб."
   ]
  },
  {
   "cell_type": "markdown",
   "metadata": {},
   "source": [
    "По итоговым результатам работы можно дать бизнесу рекомендации по внедрению модели предсказаний отмены брони. Модель Random Forest Classifier дает лучшие результаты и емеет потенциал для более детальной настройки и улучшению показателей."
   ]
  }
 ],
 "metadata": {
  "ExecuteTimeLog": [
   {
    "duration": 446,
    "start_time": "2022-09-29T10:18:55.812Z"
   },
   {
    "duration": 68,
    "start_time": "2022-09-29T10:29:50.648Z"
   },
   {
    "duration": 2,
    "start_time": "2022-09-29T10:29:54.172Z"
   },
   {
    "duration": 9,
    "start_time": "2022-09-29T10:29:54.830Z"
   },
   {
    "duration": 329,
    "start_time": "2022-09-29T10:30:07.481Z"
   },
   {
    "duration": 94,
    "start_time": "2022-09-29T10:30:19.628Z"
   },
   {
    "duration": 31,
    "start_time": "2022-09-29T10:30:33.268Z"
   },
   {
    "duration": 20,
    "start_time": "2022-09-29T10:30:47.893Z"
   },
   {
    "duration": 298,
    "start_time": "2022-09-29T10:31:18.284Z"
   },
   {
    "duration": 89,
    "start_time": "2022-09-29T10:37:12.496Z"
   },
   {
    "duration": 388,
    "start_time": "2022-09-29T10:37:44.576Z"
   },
   {
    "duration": 88,
    "start_time": "2022-09-29T10:37:45.073Z"
   },
   {
    "duration": 71,
    "start_time": "2022-09-29T10:37:45.858Z"
   },
   {
    "duration": 29,
    "start_time": "2022-09-29T11:40:48.180Z"
   },
   {
    "duration": 32,
    "start_time": "2022-09-29T11:40:58.310Z"
   },
   {
    "duration": 20,
    "start_time": "2022-09-29T11:41:26.156Z"
   },
   {
    "duration": 70,
    "start_time": "2022-09-29T11:42:27.091Z"
   },
   {
    "duration": 36,
    "start_time": "2022-09-29T11:42:47.397Z"
   },
   {
    "duration": 799,
    "start_time": "2022-09-29T11:44:09.788Z"
   },
   {
    "duration": 138,
    "start_time": "2022-09-29T11:44:24.884Z"
   },
   {
    "duration": 197,
    "start_time": "2022-09-29T11:44:31.702Z"
   },
   {
    "duration": 136,
    "start_time": "2022-09-29T11:44:41.152Z"
   },
   {
    "duration": 167,
    "start_time": "2022-09-29T11:45:25.673Z"
   },
   {
    "duration": 171,
    "start_time": "2022-09-29T11:45:35.027Z"
   },
   {
    "duration": 173,
    "start_time": "2022-09-29T11:45:40.522Z"
   },
   {
    "duration": 179,
    "start_time": "2022-09-29T11:45:48.548Z"
   },
   {
    "duration": 217,
    "start_time": "2022-09-29T11:46:02.410Z"
   },
   {
    "duration": 161,
    "start_time": "2022-09-29T11:46:19.284Z"
   },
   {
    "duration": 156,
    "start_time": "2022-09-29T11:46:50.129Z"
   },
   {
    "duration": 163,
    "start_time": "2022-09-29T11:47:02.368Z"
   },
   {
    "duration": 265,
    "start_time": "2022-09-29T11:47:09.287Z"
   },
   {
    "duration": 142,
    "start_time": "2022-09-29T11:47:13.984Z"
   },
   {
    "duration": 151,
    "start_time": "2022-09-29T11:47:39.750Z"
   },
   {
    "duration": 150,
    "start_time": "2022-09-29T11:47:48.910Z"
   },
   {
    "duration": 152,
    "start_time": "2022-09-29T11:47:57.841Z"
   },
   {
    "duration": 22,
    "start_time": "2022-09-29T13:00:30.899Z"
   },
   {
    "duration": 14,
    "start_time": "2022-09-29T13:00:36.340Z"
   },
   {
    "duration": 11,
    "start_time": "2022-09-29T13:00:54.593Z"
   },
   {
    "duration": 9,
    "start_time": "2022-09-29T13:00:59.452Z"
   },
   {
    "duration": 15,
    "start_time": "2022-09-29T13:02:05.831Z"
   },
   {
    "duration": 8,
    "start_time": "2022-09-29T13:02:14.985Z"
   },
   {
    "duration": 13,
    "start_time": "2022-09-29T13:02:20.333Z"
   },
   {
    "duration": 9,
    "start_time": "2022-09-29T13:02:26.752Z"
   },
   {
    "duration": 4,
    "start_time": "2022-09-29T13:02:32.659Z"
   },
   {
    "duration": 8,
    "start_time": "2022-09-29T13:02:37.457Z"
   },
   {
    "duration": 5,
    "start_time": "2022-09-29T13:02:59.311Z"
   },
   {
    "duration": 6,
    "start_time": "2022-09-29T13:03:07.625Z"
   },
   {
    "duration": 6,
    "start_time": "2022-09-29T13:03:17.508Z"
   },
   {
    "duration": 5,
    "start_time": "2022-09-29T13:04:54.167Z"
   },
   {
    "duration": 7,
    "start_time": "2022-09-29T13:05:02.570Z"
   },
   {
    "duration": 7,
    "start_time": "2022-09-29T13:05:41.489Z"
   },
   {
    "duration": 7,
    "start_time": "2022-09-29T13:07:24.851Z"
   },
   {
    "duration": 4,
    "start_time": "2022-09-29T13:08:05.961Z"
   },
   {
    "duration": 5,
    "start_time": "2022-09-29T13:08:13.407Z"
   },
   {
    "duration": 140,
    "start_time": "2022-09-29T13:08:23.652Z"
   },
   {
    "duration": 11,
    "start_time": "2022-09-29T13:08:41.395Z"
   },
   {
    "duration": 4,
    "start_time": "2022-09-29T13:09:27.749Z"
   },
   {
    "duration": 4,
    "start_time": "2022-09-29T13:10:53.707Z"
   },
   {
    "duration": 1116,
    "start_time": "2022-09-29T13:11:01.321Z"
   },
   {
    "duration": 10,
    "start_time": "2022-09-29T13:11:09.336Z"
   },
   {
    "duration": 5,
    "start_time": "2022-09-29T13:11:16.588Z"
   },
   {
    "duration": 142,
    "start_time": "2022-09-29T13:11:39.359Z"
   },
   {
    "duration": 8,
    "start_time": "2022-09-29T13:11:51.895Z"
   },
   {
    "duration": 5,
    "start_time": "2022-09-29T13:12:04.078Z"
   },
   {
    "duration": 5,
    "start_time": "2022-09-29T13:12:30.798Z"
   },
   {
    "duration": 4,
    "start_time": "2022-09-29T13:12:37.793Z"
   },
   {
    "duration": 5,
    "start_time": "2022-09-29T13:12:49.528Z"
   },
   {
    "duration": 5,
    "start_time": "2022-09-29T13:16:05.522Z"
   },
   {
    "duration": 122,
    "start_time": "2022-09-29T13:20:39.527Z"
   },
   {
    "duration": 51,
    "start_time": "2022-09-29T13:21:22.614Z"
   },
   {
    "duration": 100,
    "start_time": "2022-09-29T13:21:35.164Z"
   },
   {
    "duration": 53,
    "start_time": "2022-09-29T13:21:38.736Z"
   },
   {
    "duration": 44,
    "start_time": "2022-09-29T13:21:46.684Z"
   },
   {
    "duration": 52,
    "start_time": "2022-09-29T13:22:13.318Z"
   },
   {
    "duration": 84,
    "start_time": "2022-09-29T14:35:47.240Z"
   },
   {
    "duration": 31,
    "start_time": "2022-09-29T14:36:05.207Z"
   },
   {
    "duration": 22,
    "start_time": "2022-09-29T14:36:24.567Z"
   },
   {
    "duration": 14,
    "start_time": "2022-09-29T14:36:28.158Z"
   },
   {
    "duration": 22,
    "start_time": "2022-09-29T14:37:53.002Z"
   },
   {
    "duration": 5,
    "start_time": "2022-09-29T14:38:48.016Z"
   },
   {
    "duration": 8,
    "start_time": "2022-09-29T14:44:11.739Z"
   },
   {
    "duration": 7,
    "start_time": "2022-09-29T14:44:32.538Z"
   },
   {
    "duration": 19,
    "start_time": "2022-09-29T14:45:27.734Z"
   },
   {
    "duration": 15,
    "start_time": "2022-09-29T14:45:36.265Z"
   },
   {
    "duration": 1593,
    "start_time": "2022-09-29T14:46:03.576Z"
   },
   {
    "duration": 14,
    "start_time": "2022-09-29T14:46:26.285Z"
   },
   {
    "duration": 1810,
    "start_time": "2022-09-29T14:46:49.788Z"
   },
   {
    "duration": 7,
    "start_time": "2022-09-29T14:47:11.543Z"
   },
   {
    "duration": 6,
    "start_time": "2022-09-29T14:47:19.438Z"
   },
   {
    "duration": 2,
    "start_time": "2022-09-29T14:47:32.598Z"
   },
   {
    "duration": 250,
    "start_time": "2022-09-29T14:47:32.602Z"
   },
   {
    "duration": 92,
    "start_time": "2022-09-29T14:47:32.854Z"
   },
   {
    "duration": 67,
    "start_time": "2022-09-29T14:47:32.948Z"
   },
   {
    "duration": 43,
    "start_time": "2022-09-29T14:47:33.017Z"
   },
   {
    "duration": 19,
    "start_time": "2022-09-29T14:47:33.062Z"
   },
   {
    "duration": 94,
    "start_time": "2022-09-29T14:47:33.083Z"
   },
   {
    "duration": 23,
    "start_time": "2022-09-29T14:47:33.179Z"
   },
   {
    "duration": 14,
    "start_time": "2022-09-29T14:47:33.204Z"
   },
   {
    "duration": 5,
    "start_time": "2022-09-29T14:47:33.239Z"
   },
   {
    "duration": 41,
    "start_time": "2022-09-29T14:47:33.245Z"
   },
   {
    "duration": 25,
    "start_time": "2022-09-29T14:47:33.288Z"
   },
   {
    "duration": 34,
    "start_time": "2022-09-29T14:47:33.315Z"
   },
   {
    "duration": 19,
    "start_time": "2022-09-29T14:47:33.352Z"
   },
   {
    "duration": 85,
    "start_time": "2022-09-29T14:48:09.984Z"
   },
   {
    "duration": 28,
    "start_time": "2022-09-29T14:48:15.551Z"
   },
   {
    "duration": 8,
    "start_time": "2022-09-29T14:48:23.034Z"
   },
   {
    "duration": 8,
    "start_time": "2022-09-29T14:48:27.296Z"
   },
   {
    "duration": 18,
    "start_time": "2022-09-29T14:49:18.713Z"
   },
   {
    "duration": 956,
    "start_time": "2022-09-29T14:52:25.592Z"
   },
   {
    "duration": 957,
    "start_time": "2022-09-29T14:53:00.810Z"
   },
   {
    "duration": 9,
    "start_time": "2022-09-29T14:55:51.017Z"
   },
   {
    "duration": 3,
    "start_time": "2022-09-29T14:55:54.220Z"
   },
   {
    "duration": 3,
    "start_time": "2022-09-29T14:55:55.656Z"
   },
   {
    "duration": 8,
    "start_time": "2022-09-29T14:55:57.693Z"
   },
   {
    "duration": 6,
    "start_time": "2022-09-29T14:56:11.873Z"
   },
   {
    "duration": 7,
    "start_time": "2022-09-29T14:56:18.318Z"
   },
   {
    "duration": 16,
    "start_time": "2022-09-29T14:56:32.682Z"
   },
   {
    "duration": 37,
    "start_time": "2022-09-29T14:57:31.831Z"
   },
   {
    "duration": 4,
    "start_time": "2022-09-29T14:58:37.857Z"
   },
   {
    "duration": 3,
    "start_time": "2022-09-29T14:59:38.776Z"
   },
   {
    "duration": 256,
    "start_time": "2022-09-29T14:59:38.782Z"
   },
   {
    "duration": 87,
    "start_time": "2022-09-29T14:59:39.040Z"
   },
   {
    "duration": 76,
    "start_time": "2022-09-29T14:59:39.129Z"
   },
   {
    "duration": 42,
    "start_time": "2022-09-29T14:59:39.207Z"
   },
   {
    "duration": 19,
    "start_time": "2022-09-29T14:59:39.250Z"
   },
   {
    "duration": 95,
    "start_time": "2022-09-29T14:59:39.271Z"
   },
   {
    "duration": 22,
    "start_time": "2022-09-29T14:59:39.368Z"
   },
   {
    "duration": 15,
    "start_time": "2022-09-29T14:59:39.392Z"
   },
   {
    "duration": 5,
    "start_time": "2022-09-29T14:59:39.409Z"
   },
   {
    "duration": 45,
    "start_time": "2022-09-29T14:59:39.416Z"
   },
   {
    "duration": 21,
    "start_time": "2022-09-29T14:59:39.462Z"
   },
   {
    "duration": 5,
    "start_time": "2022-09-29T14:59:45.097Z"
   },
   {
    "duration": 6,
    "start_time": "2022-09-29T15:00:34.303Z"
   },
   {
    "duration": 6,
    "start_time": "2022-09-29T15:00:39.876Z"
   },
   {
    "duration": 6,
    "start_time": "2022-09-29T15:01:04.821Z"
   },
   {
    "duration": 6,
    "start_time": "2022-09-29T15:02:37.485Z"
   },
   {
    "duration": 5,
    "start_time": "2022-09-29T15:02:38.887Z"
   },
   {
    "duration": 18,
    "start_time": "2022-09-29T15:02:41.627Z"
   },
   {
    "duration": 19,
    "start_time": "2022-09-29T15:02:50.016Z"
   },
   {
    "duration": 5,
    "start_time": "2022-09-29T15:02:59.485Z"
   },
   {
    "duration": 3,
    "start_time": "2022-09-29T15:03:02.186Z"
   },
   {
    "duration": 8,
    "start_time": "2022-09-29T15:03:02.628Z"
   },
   {
    "duration": 6,
    "start_time": "2022-09-29T15:03:03.013Z"
   },
   {
    "duration": 5,
    "start_time": "2022-09-29T15:03:03.838Z"
   },
   {
    "duration": 18,
    "start_time": "2022-09-29T15:03:08.424Z"
   },
   {
    "duration": 42,
    "start_time": "2022-09-29T15:03:11.914Z"
   },
   {
    "duration": 41,
    "start_time": "2022-09-29T15:16:29.114Z"
   },
   {
    "duration": 31,
    "start_time": "2022-09-29T15:17:04.469Z"
   },
   {
    "duration": 16,
    "start_time": "2022-09-29T15:29:24.809Z"
   },
   {
    "duration": 17,
    "start_time": "2022-09-29T15:30:28.436Z"
   },
   {
    "duration": 48,
    "start_time": "2022-09-29T15:35:36.276Z"
   },
   {
    "duration": 23,
    "start_time": "2022-09-29T15:35:41.040Z"
   },
   {
    "duration": 40,
    "start_time": "2022-09-29T15:35:56.063Z"
   },
   {
    "duration": 23,
    "start_time": "2022-09-29T15:36:10.443Z"
   },
   {
    "duration": 29,
    "start_time": "2022-09-29T15:36:25.073Z"
   },
   {
    "duration": 381,
    "start_time": "2022-09-30T11:48:37.848Z"
   },
   {
    "duration": 839,
    "start_time": "2022-09-30T11:48:38.231Z"
   },
   {
    "duration": 95,
    "start_time": "2022-09-30T11:48:39.072Z"
   },
   {
    "duration": 79,
    "start_time": "2022-09-30T11:48:39.170Z"
   },
   {
    "duration": 25,
    "start_time": "2022-09-30T11:48:39.250Z"
   },
   {
    "duration": 31,
    "start_time": "2022-09-30T11:48:39.277Z"
   },
   {
    "duration": 95,
    "start_time": "2022-09-30T11:48:39.310Z"
   },
   {
    "duration": 18,
    "start_time": "2022-09-30T11:48:39.407Z"
   },
   {
    "duration": 12,
    "start_time": "2022-09-30T11:48:39.427Z"
   },
   {
    "duration": 4,
    "start_time": "2022-09-30T11:48:39.442Z"
   },
   {
    "duration": 49,
    "start_time": "2022-09-30T11:48:39.448Z"
   },
   {
    "duration": 22,
    "start_time": "2022-09-30T11:48:39.499Z"
   },
   {
    "duration": 5,
    "start_time": "2022-09-30T11:48:39.523Z"
   },
   {
    "duration": 19,
    "start_time": "2022-09-30T11:48:39.530Z"
   },
   {
    "duration": 45,
    "start_time": "2022-09-30T11:48:39.551Z"
   },
   {
    "duration": 6,
    "start_time": "2022-09-30T11:48:39.598Z"
   },
   {
    "duration": 5,
    "start_time": "2022-09-30T11:48:39.606Z"
   },
   {
    "duration": 10,
    "start_time": "2022-09-30T11:48:39.613Z"
   },
   {
    "duration": 6,
    "start_time": "2022-09-30T11:48:39.625Z"
   },
   {
    "duration": 5,
    "start_time": "2022-09-30T11:48:39.633Z"
   },
   {
    "duration": 18,
    "start_time": "2022-09-30T11:48:39.640Z"
   },
   {
    "duration": 66,
    "start_time": "2022-09-30T11:48:39.659Z"
   },
   {
    "duration": 41,
    "start_time": "2022-09-30T11:48:39.727Z"
   },
   {
    "duration": 43,
    "start_time": "2022-09-30T11:48:39.769Z"
   },
   {
    "duration": 32,
    "start_time": "2022-09-30T11:48:39.814Z"
   },
   {
    "duration": 95,
    "start_time": "2022-09-30T11:49:30.058Z"
   },
   {
    "duration": 129,
    "start_time": "2022-09-30T11:51:22.632Z"
   },
   {
    "duration": 98,
    "start_time": "2022-09-30T11:51:29.906Z"
   },
   {
    "duration": 915,
    "start_time": "2022-09-30T11:53:14.762Z"
   },
   {
    "duration": 72,
    "start_time": "2022-09-30T11:53:27.356Z"
   },
   {
    "duration": 576,
    "start_time": "2022-09-30T11:54:05.104Z"
   },
   {
    "duration": 595,
    "start_time": "2022-09-30T11:56:36.021Z"
   },
   {
    "duration": 184,
    "start_time": "2022-09-30T11:56:49.301Z"
   },
   {
    "duration": 584,
    "start_time": "2022-09-30T11:56:58.013Z"
   },
   {
    "duration": 753,
    "start_time": "2022-09-30T11:58:12.602Z"
   },
   {
    "duration": 95,
    "start_time": "2022-09-30T11:59:13.498Z"
   },
   {
    "duration": 89,
    "start_time": "2022-09-30T11:59:28.873Z"
   },
   {
    "duration": 1733,
    "start_time": "2022-09-30T11:59:59.557Z"
   },
   {
    "duration": 77,
    "start_time": "2022-09-30T12:00:04.098Z"
   },
   {
    "duration": 85,
    "start_time": "2022-09-30T12:00:36.941Z"
   },
   {
    "duration": 77,
    "start_time": "2022-09-30T12:00:42.303Z"
   },
   {
    "duration": 81,
    "start_time": "2022-09-30T12:00:52.917Z"
   },
   {
    "duration": 95,
    "start_time": "2022-09-30T12:01:08.019Z"
   },
   {
    "duration": 82,
    "start_time": "2022-09-30T12:01:19.400Z"
   },
   {
    "duration": 74,
    "start_time": "2022-09-30T12:01:30.614Z"
   },
   {
    "duration": 69,
    "start_time": "2022-09-30T12:02:48.113Z"
   },
   {
    "duration": 150,
    "start_time": "2022-09-30T12:02:48.947Z"
   },
   {
    "duration": 75,
    "start_time": "2022-09-30T12:03:08.981Z"
   },
   {
    "duration": 588,
    "start_time": "2022-09-30T12:03:09.927Z"
   },
   {
    "duration": 11,
    "start_time": "2022-09-30T12:03:29.410Z"
   },
   {
    "duration": 3,
    "start_time": "2022-09-30T12:03:43.848Z"
   },
   {
    "duration": 610,
    "start_time": "2022-09-30T12:03:48.301Z"
   },
   {
    "duration": 104,
    "start_time": "2022-09-30T12:03:57.146Z"
   },
   {
    "duration": 630,
    "start_time": "2022-09-30T12:04:00.578Z"
   },
   {
    "duration": 196,
    "start_time": "2022-09-30T12:04:42.346Z"
   },
   {
    "duration": 81,
    "start_time": "2022-09-30T12:04:52.630Z"
   },
   {
    "duration": 76,
    "start_time": "2022-09-30T12:04:56.266Z"
   },
   {
    "duration": 626,
    "start_time": "2022-09-30T12:05:28.452Z"
   },
   {
    "duration": 633,
    "start_time": "2022-09-30T12:05:37.762Z"
   },
   {
    "duration": 641,
    "start_time": "2022-09-30T12:05:46.732Z"
   },
   {
    "duration": 616,
    "start_time": "2022-09-30T12:05:57.507Z"
   },
   {
    "duration": 760,
    "start_time": "2022-09-30T12:06:10.405Z"
   },
   {
    "duration": 597,
    "start_time": "2022-09-30T12:06:19.601Z"
   },
   {
    "duration": 619,
    "start_time": "2022-09-30T12:06:24.248Z"
   },
   {
    "duration": 633,
    "start_time": "2022-09-30T12:06:29.458Z"
   },
   {
    "duration": 600,
    "start_time": "2022-09-30T12:06:35.034Z"
   },
   {
    "duration": 624,
    "start_time": "2022-09-30T12:06:43.261Z"
   },
   {
    "duration": 622,
    "start_time": "2022-09-30T12:06:50.665Z"
   },
   {
    "duration": 604,
    "start_time": "2022-09-30T12:07:01.531Z"
   },
   {
    "duration": 648,
    "start_time": "2022-09-30T12:07:08.863Z"
   },
   {
    "duration": 647,
    "start_time": "2022-09-30T12:07:17.008Z"
   },
   {
    "duration": 658,
    "start_time": "2022-09-30T12:07:22.711Z"
   },
   {
    "duration": 748,
    "start_time": "2022-09-30T12:07:38.272Z"
   },
   {
    "duration": 697,
    "start_time": "2022-09-30T12:08:17.373Z"
   },
   {
    "duration": 686,
    "start_time": "2022-09-30T12:08:27.220Z"
   },
   {
    "duration": 1325,
    "start_time": "2022-10-05T11:42:34.083Z"
   },
   {
    "duration": 570,
    "start_time": "2022-10-05T11:42:35.410Z"
   },
   {
    "duration": 79,
    "start_time": "2022-10-05T11:42:35.981Z"
   },
   {
    "duration": 66,
    "start_time": "2022-10-05T11:42:36.062Z"
   },
   {
    "duration": 25,
    "start_time": "2022-10-05T11:42:36.130Z"
   },
   {
    "duration": 29,
    "start_time": "2022-10-05T11:42:36.157Z"
   },
   {
    "duration": 110,
    "start_time": "2022-10-05T11:42:36.189Z"
   },
   {
    "duration": 28,
    "start_time": "2022-10-05T11:42:36.301Z"
   },
   {
    "duration": 19,
    "start_time": "2022-10-05T11:42:36.331Z"
   },
   {
    "duration": 21,
    "start_time": "2022-10-05T11:42:36.353Z"
   },
   {
    "duration": 37,
    "start_time": "2022-10-05T11:42:36.377Z"
   },
   {
    "duration": 22,
    "start_time": "2022-10-05T11:42:36.416Z"
   },
   {
    "duration": 7,
    "start_time": "2022-10-05T11:42:36.440Z"
   },
   {
    "duration": 17,
    "start_time": "2022-10-05T11:42:36.448Z"
   },
   {
    "duration": 41,
    "start_time": "2022-10-05T11:42:36.467Z"
   },
   {
    "duration": 19,
    "start_time": "2022-10-05T11:42:36.510Z"
   },
   {
    "duration": 21,
    "start_time": "2022-10-05T11:42:36.530Z"
   },
   {
    "duration": 17,
    "start_time": "2022-10-05T11:42:36.553Z"
   },
   {
    "duration": 14,
    "start_time": "2022-10-05T11:42:36.572Z"
   },
   {
    "duration": 19,
    "start_time": "2022-10-05T11:42:36.589Z"
   },
   {
    "duration": 39,
    "start_time": "2022-10-05T11:42:36.610Z"
   },
   {
    "duration": 60,
    "start_time": "2022-10-05T11:42:36.651Z"
   },
   {
    "duration": 38,
    "start_time": "2022-10-05T11:42:36.713Z"
   },
   {
    "duration": 21,
    "start_time": "2022-10-05T11:42:36.753Z"
   },
   {
    "duration": 42,
    "start_time": "2022-10-05T11:42:36.775Z"
   },
   {
    "duration": 731,
    "start_time": "2022-10-05T11:42:36.818Z"
   },
   {
    "duration": 85,
    "start_time": "2022-10-05T11:42:37.551Z"
   },
   {
    "duration": 4,
    "start_time": "2022-10-05T12:11:41.783Z"
   },
   {
    "duration": 4,
    "start_time": "2022-10-05T12:12:40.692Z"
   },
   {
    "duration": 633,
    "start_time": "2022-10-05T12:12:56.946Z"
   },
   {
    "duration": 44,
    "start_time": "2022-10-05T12:13:05.963Z"
   },
   {
    "duration": 75,
    "start_time": "2022-10-05T12:13:10.033Z"
   },
   {
    "duration": 18,
    "start_time": "2022-10-05T12:13:50.516Z"
   },
   {
    "duration": 16,
    "start_time": "2022-10-05T12:14:00.931Z"
   },
   {
    "duration": 6,
    "start_time": "2022-10-05T12:16:00.110Z"
   },
   {
    "duration": 6,
    "start_time": "2022-10-05T12:16:22.337Z"
   },
   {
    "duration": 11,
    "start_time": "2022-10-05T12:58:59.156Z"
   },
   {
    "duration": 10,
    "start_time": "2022-10-05T12:59:07.055Z"
   },
   {
    "duration": 11,
    "start_time": "2022-10-05T12:59:15.447Z"
   },
   {
    "duration": 11,
    "start_time": "2022-10-05T12:59:34.114Z"
   },
   {
    "duration": 9,
    "start_time": "2022-10-05T12:59:39.446Z"
   },
   {
    "duration": 10,
    "start_time": "2022-10-05T12:59:53.920Z"
   },
   {
    "duration": 16,
    "start_time": "2022-10-05T12:59:57.587Z"
   },
   {
    "duration": 9,
    "start_time": "2022-10-05T13:00:04.180Z"
   },
   {
    "duration": 17,
    "start_time": "2022-10-05T13:00:14.692Z"
   },
   {
    "duration": 13,
    "start_time": "2022-10-05T13:00:17.931Z"
   },
   {
    "duration": 4,
    "start_time": "2022-10-05T13:02:57.100Z"
   },
   {
    "duration": 14,
    "start_time": "2022-10-05T13:02:59.107Z"
   },
   {
    "duration": 18,
    "start_time": "2022-10-05T13:03:30.105Z"
   },
   {
    "duration": 12,
    "start_time": "2022-10-05T13:05:10.525Z"
   },
   {
    "duration": 8,
    "start_time": "2022-10-05T13:05:18.280Z"
   },
   {
    "duration": 26,
    "start_time": "2022-10-05T13:05:33.547Z"
   },
   {
    "duration": 34,
    "start_time": "2022-10-05T13:06:29.505Z"
   },
   {
    "duration": 8,
    "start_time": "2022-10-05T13:06:53.378Z"
   },
   {
    "duration": 27,
    "start_time": "2022-10-05T13:07:00.243Z"
   },
   {
    "duration": 28,
    "start_time": "2022-10-05T13:07:23.897Z"
   },
   {
    "duration": 30,
    "start_time": "2022-10-05T13:07:41.697Z"
   },
   {
    "duration": 15,
    "start_time": "2022-10-05T13:09:58.310Z"
   },
   {
    "duration": 5,
    "start_time": "2022-10-05T13:10:56.701Z"
   },
   {
    "duration": 7,
    "start_time": "2022-10-05T13:11:05.853Z"
   },
   {
    "duration": 11,
    "start_time": "2022-10-05T13:11:11.355Z"
   },
   {
    "duration": 7,
    "start_time": "2022-10-05T13:11:16.082Z"
   },
   {
    "duration": 7,
    "start_time": "2022-10-05T13:11:45.188Z"
   },
   {
    "duration": 6,
    "start_time": "2022-10-05T13:12:01.742Z"
   },
   {
    "duration": 9,
    "start_time": "2022-10-05T13:13:04.972Z"
   },
   {
    "duration": 8,
    "start_time": "2022-10-05T13:14:34.465Z"
   },
   {
    "duration": 9,
    "start_time": "2022-10-05T13:15:56.664Z"
   },
   {
    "duration": 10,
    "start_time": "2022-10-05T13:16:07.974Z"
   },
   {
    "duration": 7,
    "start_time": "2022-10-05T13:17:15.817Z"
   },
   {
    "duration": 8,
    "start_time": "2022-10-05T13:17:21.196Z"
   },
   {
    "duration": 7,
    "start_time": "2022-10-05T13:17:30.212Z"
   },
   {
    "duration": 4,
    "start_time": "2022-10-05T13:17:42.420Z"
   },
   {
    "duration": 3,
    "start_time": "2022-10-05T13:17:58.021Z"
   },
   {
    "duration": 5,
    "start_time": "2022-10-05T13:18:05.721Z"
   },
   {
    "duration": 3,
    "start_time": "2022-10-05T13:18:09.805Z"
   },
   {
    "duration": 3,
    "start_time": "2022-10-05T13:18:14.356Z"
   },
   {
    "duration": 3,
    "start_time": "2022-10-05T13:18:33.293Z"
   },
   {
    "duration": 4,
    "start_time": "2022-10-05T13:18:55.162Z"
   },
   {
    "duration": 3,
    "start_time": "2022-10-05T13:19:06.329Z"
   },
   {
    "duration": 3,
    "start_time": "2022-10-05T13:19:17.328Z"
   },
   {
    "duration": 4,
    "start_time": "2022-10-05T13:19:24.457Z"
   },
   {
    "duration": 10,
    "start_time": "2022-10-05T14:32:29.343Z"
   },
   {
    "duration": 11,
    "start_time": "2022-10-05T14:32:43.704Z"
   },
   {
    "duration": 13,
    "start_time": "2022-10-05T14:32:46.540Z"
   },
   {
    "duration": 12,
    "start_time": "2022-10-05T14:32:58.600Z"
   },
   {
    "duration": 19,
    "start_time": "2022-10-05T14:36:58.264Z"
   },
   {
    "duration": 8,
    "start_time": "2022-10-05T14:46:12.033Z"
   },
   {
    "duration": 34,
    "start_time": "2022-10-05T14:48:45.717Z"
   },
   {
    "duration": 15,
    "start_time": "2022-10-05T14:48:55.908Z"
   },
   {
    "duration": 5,
    "start_time": "2022-10-05T14:49:10.442Z"
   },
   {
    "duration": 5,
    "start_time": "2022-10-05T14:49:17.349Z"
   },
   {
    "duration": 17,
    "start_time": "2022-10-05T14:49:36.295Z"
   },
   {
    "duration": 32,
    "start_time": "2022-10-05T14:50:15.096Z"
   },
   {
    "duration": 11,
    "start_time": "2022-10-05T14:50:26.524Z"
   },
   {
    "duration": 9,
    "start_time": "2022-10-05T14:50:33.801Z"
   },
   {
    "duration": 7,
    "start_time": "2022-10-05T14:50:39.758Z"
   },
   {
    "duration": 6,
    "start_time": "2022-10-05T14:50:48.962Z"
   },
   {
    "duration": 6,
    "start_time": "2022-10-05T14:50:52.090Z"
   },
   {
    "duration": 5,
    "start_time": "2022-10-05T14:50:58.941Z"
   },
   {
    "duration": 7,
    "start_time": "2022-10-05T14:51:08.012Z"
   },
   {
    "duration": 8,
    "start_time": "2022-10-05T14:51:16.338Z"
   },
   {
    "duration": 6,
    "start_time": "2022-10-05T14:51:25.899Z"
   },
   {
    "duration": 5,
    "start_time": "2022-10-05T14:51:28.075Z"
   },
   {
    "duration": 9,
    "start_time": "2022-10-05T14:58:29.465Z"
   },
   {
    "duration": 32,
    "start_time": "2022-10-05T14:58:43.995Z"
   },
   {
    "duration": 18,
    "start_time": "2022-10-05T14:58:46.367Z"
   },
   {
    "duration": 1151,
    "start_time": "2022-10-05T15:03:16.782Z"
   },
   {
    "duration": 201,
    "start_time": "2022-10-05T15:03:17.935Z"
   },
   {
    "duration": 81,
    "start_time": "2022-10-05T15:03:18.137Z"
   },
   {
    "duration": 61,
    "start_time": "2022-10-05T15:03:18.220Z"
   },
   {
    "duration": 36,
    "start_time": "2022-10-05T15:03:18.283Z"
   },
   {
    "duration": 17,
    "start_time": "2022-10-05T15:03:18.320Z"
   },
   {
    "duration": 87,
    "start_time": "2022-10-05T15:03:18.338Z"
   },
   {
    "duration": 19,
    "start_time": "2022-10-05T15:03:18.427Z"
   },
   {
    "duration": 12,
    "start_time": "2022-10-05T15:03:18.448Z"
   },
   {
    "duration": 4,
    "start_time": "2022-10-05T15:03:18.464Z"
   },
   {
    "duration": 43,
    "start_time": "2022-10-05T15:03:18.470Z"
   },
   {
    "duration": 18,
    "start_time": "2022-10-05T15:03:18.515Z"
   },
   {
    "duration": 4,
    "start_time": "2022-10-05T15:03:18.535Z"
   },
   {
    "duration": 13,
    "start_time": "2022-10-05T15:03:18.541Z"
   },
   {
    "duration": 16,
    "start_time": "2022-10-05T15:03:18.556Z"
   },
   {
    "duration": 6,
    "start_time": "2022-10-05T15:03:18.608Z"
   },
   {
    "duration": 15,
    "start_time": "2022-10-05T15:03:18.616Z"
   },
   {
    "duration": 11,
    "start_time": "2022-10-05T15:03:18.632Z"
   },
   {
    "duration": 6,
    "start_time": "2022-10-05T15:03:18.645Z"
   },
   {
    "duration": 6,
    "start_time": "2022-10-05T15:03:18.652Z"
   },
   {
    "duration": 15,
    "start_time": "2022-10-05T15:03:18.660Z"
   },
   {
    "duration": 59,
    "start_time": "2022-10-05T15:03:18.676Z"
   },
   {
    "duration": 41,
    "start_time": "2022-10-05T15:03:18.736Z"
   },
   {
    "duration": 36,
    "start_time": "2022-10-05T15:03:18.779Z"
   },
   {
    "duration": 36,
    "start_time": "2022-10-05T15:03:18.817Z"
   },
   {
    "duration": 2,
    "start_time": "2022-10-05T15:03:18.855Z"
   },
   {
    "duration": 27,
    "start_time": "2022-10-05T15:03:18.859Z"
   },
   {
    "duration": 35,
    "start_time": "2022-10-05T15:03:18.889Z"
   },
   {
    "duration": 19,
    "start_time": "2022-10-05T15:03:18.926Z"
   },
   {
    "duration": 9,
    "start_time": "2022-10-05T15:03:18.947Z"
   },
   {
    "duration": 7,
    "start_time": "2022-10-05T15:03:18.957Z"
   },
   {
    "duration": 16,
    "start_time": "2022-10-05T15:03:18.966Z"
   },
   {
    "duration": 41,
    "start_time": "2022-10-05T15:03:18.984Z"
   },
   {
    "duration": 16,
    "start_time": "2022-10-05T15:03:19.026Z"
   },
   {
    "duration": 43,
    "start_time": "2022-10-05T15:03:19.044Z"
   },
   {
    "duration": 21,
    "start_time": "2022-10-05T15:03:19.088Z"
   },
   {
    "duration": 672,
    "start_time": "2022-10-05T15:03:19.110Z"
   },
   {
    "duration": 98,
    "start_time": "2022-10-05T15:03:19.784Z"
   },
   {
    "duration": 7,
    "start_time": "2022-10-05T15:05:41.281Z"
   },
   {
    "duration": 6,
    "start_time": "2022-10-05T15:09:21.971Z"
   },
   {
    "duration": 94,
    "start_time": "2022-10-05T15:09:36.073Z"
   },
   {
    "duration": 97,
    "start_time": "2022-10-05T15:09:52.035Z"
   },
   {
    "duration": 90,
    "start_time": "2022-10-05T15:09:57.597Z"
   },
   {
    "duration": 65,
    "start_time": "2022-10-05T15:17:59.563Z"
   },
   {
    "duration": 12,
    "start_time": "2022-10-05T15:18:10.195Z"
   },
   {
    "duration": 2,
    "start_time": "2022-10-05T15:32:25.333Z"
   },
   {
    "duration": 3,
    "start_time": "2022-10-05T15:32:27.095Z"
   },
   {
    "duration": 3,
    "start_time": "2022-10-05T15:40:01.527Z"
   },
   {
    "duration": 2,
    "start_time": "2022-10-05T15:40:01.924Z"
   },
   {
    "duration": 35,
    "start_time": "2022-10-05T15:43:28.540Z"
   },
   {
    "duration": 4,
    "start_time": "2022-10-05T15:53:46.742Z"
   },
   {
    "duration": 3,
    "start_time": "2022-10-05T15:54:48.636Z"
   },
   {
    "duration": 3,
    "start_time": "2022-10-05T15:54:48.932Z"
   },
   {
    "duration": 2,
    "start_time": "2022-10-05T15:54:49.213Z"
   },
   {
    "duration": 3,
    "start_time": "2022-10-05T15:54:49.575Z"
   },
   {
    "duration": 24,
    "start_time": "2022-10-05T15:54:50.421Z"
   },
   {
    "duration": 4,
    "start_time": "2022-10-05T15:54:52.853Z"
   },
   {
    "duration": 910,
    "start_time": "2022-10-05T15:54:54.109Z"
   },
   {
    "duration": 21,
    "start_time": "2022-10-05T15:55:04.516Z"
   },
   {
    "duration": 113,
    "start_time": "2022-10-05T15:55:52.738Z"
   },
   {
    "duration": 836,
    "start_time": "2022-10-05T15:55:57.173Z"
   },
   {
    "duration": 16,
    "start_time": "2022-10-05T15:55:59.816Z"
   },
   {
    "duration": 118,
    "start_time": "2022-10-05T15:56:20.924Z"
   },
   {
    "duration": 3,
    "start_time": "2022-10-05T15:56:25.270Z"
   },
   {
    "duration": 832,
    "start_time": "2022-10-05T15:56:26.565Z"
   },
   {
    "duration": 15,
    "start_time": "2022-10-05T15:56:28.058Z"
   },
   {
    "duration": 5,
    "start_time": "2022-10-05T16:01:58.081Z"
   },
   {
    "duration": 1200,
    "start_time": "2022-10-05T16:02:03.870Z"
   },
   {
    "duration": 16,
    "start_time": "2022-10-05T16:02:06.027Z"
   },
   {
    "duration": 4,
    "start_time": "2022-10-05T16:02:30.739Z"
   },
   {
    "duration": 4,
    "start_time": "2022-10-05T16:02:32.423Z"
   },
   {
    "duration": 1188,
    "start_time": "2022-10-05T16:02:32.886Z"
   },
   {
    "duration": 20,
    "start_time": "2022-10-05T16:02:34.593Z"
   },
   {
    "duration": 568,
    "start_time": "2022-10-05T16:04:20.511Z"
   },
   {
    "duration": 17,
    "start_time": "2022-10-05T16:27:22.569Z"
   },
   {
    "duration": 12,
    "start_time": "2022-10-05T16:28:20.237Z"
   },
   {
    "duration": 12,
    "start_time": "2022-10-05T16:28:35.074Z"
   },
   {
    "duration": 15,
    "start_time": "2022-10-05T16:28:58.830Z"
   },
   {
    "duration": 1064,
    "start_time": "2022-10-05T16:29:10.476Z"
   },
   {
    "duration": 226,
    "start_time": "2022-10-05T16:29:11.542Z"
   },
   {
    "duration": 89,
    "start_time": "2022-10-05T16:29:11.772Z"
   },
   {
    "duration": 68,
    "start_time": "2022-10-05T16:29:11.863Z"
   },
   {
    "duration": 26,
    "start_time": "2022-10-05T16:29:11.932Z"
   },
   {
    "duration": 19,
    "start_time": "2022-10-05T16:29:11.960Z"
   },
   {
    "duration": 38,
    "start_time": "2022-10-05T16:29:11.981Z"
   },
   {
    "duration": 26,
    "start_time": "2022-10-05T16:29:12.021Z"
   },
   {
    "duration": 80,
    "start_time": "2022-10-05T16:29:12.050Z"
   },
   {
    "duration": 16,
    "start_time": "2022-10-05T16:29:12.132Z"
   },
   {
    "duration": 15,
    "start_time": "2022-10-05T16:29:12.149Z"
   },
   {
    "duration": 4,
    "start_time": "2022-10-05T16:29:12.165Z"
   },
   {
    "duration": 38,
    "start_time": "2022-10-05T16:29:12.171Z"
   },
   {
    "duration": 17,
    "start_time": "2022-10-05T16:29:12.211Z"
   },
   {
    "duration": 4,
    "start_time": "2022-10-05T16:29:12.230Z"
   },
   {
    "duration": 25,
    "start_time": "2022-10-05T16:29:12.235Z"
   },
   {
    "duration": 16,
    "start_time": "2022-10-05T16:29:12.261Z"
   },
   {
    "duration": 14,
    "start_time": "2022-10-05T16:29:12.278Z"
   },
   {
    "duration": 15,
    "start_time": "2022-10-05T16:29:12.294Z"
   },
   {
    "duration": 15,
    "start_time": "2022-10-05T16:29:12.310Z"
   },
   {
    "duration": 20,
    "start_time": "2022-10-05T16:29:12.327Z"
   },
   {
    "duration": 27,
    "start_time": "2022-10-05T16:29:12.349Z"
   },
   {
    "duration": 25,
    "start_time": "2022-10-05T16:29:12.377Z"
   },
   {
    "duration": 33,
    "start_time": "2022-10-05T16:29:12.403Z"
   },
   {
    "duration": 36,
    "start_time": "2022-10-05T16:29:12.437Z"
   },
   {
    "duration": 20,
    "start_time": "2022-10-05T16:29:12.475Z"
   },
   {
    "duration": 35,
    "start_time": "2022-10-05T16:29:12.498Z"
   },
   {
    "duration": 5,
    "start_time": "2022-10-05T16:29:12.534Z"
   },
   {
    "duration": 32,
    "start_time": "2022-10-05T16:29:12.540Z"
   },
   {
    "duration": 15,
    "start_time": "2022-10-05T16:29:12.573Z"
   },
   {
    "duration": 29,
    "start_time": "2022-10-05T16:29:12.589Z"
   },
   {
    "duration": 6,
    "start_time": "2022-10-05T16:29:12.619Z"
   },
   {
    "duration": 7,
    "start_time": "2022-10-05T16:29:12.627Z"
   },
   {
    "duration": 10,
    "start_time": "2022-10-05T16:29:12.636Z"
   },
   {
    "duration": 22,
    "start_time": "2022-10-05T16:29:12.647Z"
   },
   {
    "duration": 10,
    "start_time": "2022-10-05T16:29:12.671Z"
   },
   {
    "duration": 59,
    "start_time": "2022-10-05T16:29:12.682Z"
   },
   {
    "duration": 18,
    "start_time": "2022-10-05T16:29:12.742Z"
   },
   {
    "duration": 12,
    "start_time": "2022-10-05T16:29:12.762Z"
   },
   {
    "duration": 13,
    "start_time": "2022-10-05T16:29:12.776Z"
   },
   {
    "duration": 105,
    "start_time": "2022-10-05T16:29:12.790Z"
   },
   {
    "duration": 735,
    "start_time": "2022-10-05T16:29:12.897Z"
   },
   {
    "duration": 87,
    "start_time": "2022-10-05T16:29:13.634Z"
   },
   {
    "duration": 61,
    "start_time": "2022-10-05T16:29:13.722Z"
   },
   {
    "duration": 13,
    "start_time": "2022-10-05T16:29:13.785Z"
   },
   {
    "duration": 21,
    "start_time": "2022-10-05T16:29:13.809Z"
   },
   {
    "duration": 21,
    "start_time": "2022-10-05T16:29:13.832Z"
   },
   {
    "duration": 27,
    "start_time": "2022-10-05T16:29:13.855Z"
   },
   {
    "duration": 23,
    "start_time": "2022-10-05T16:29:13.884Z"
   },
   {
    "duration": 24,
    "start_time": "2022-10-05T16:29:13.909Z"
   },
   {
    "duration": 1226,
    "start_time": "2022-10-05T16:29:13.935Z"
   },
   {
    "duration": 591,
    "start_time": "2022-10-05T16:29:15.163Z"
   },
   {
    "duration": 13,
    "start_time": "2022-10-05T16:29:15.756Z"
   },
   {
    "duration": 15,
    "start_time": "2022-10-05T16:34:15.601Z"
   },
   {
    "duration": 4,
    "start_time": "2022-10-05T16:36:00.443Z"
   },
   {
    "duration": 20,
    "start_time": "2022-10-05T16:36:39.768Z"
   },
   {
    "duration": 20,
    "start_time": "2022-10-05T16:36:48.855Z"
   },
   {
    "duration": 22,
    "start_time": "2022-10-05T16:37:18.139Z"
   },
   {
    "duration": 15,
    "start_time": "2022-10-05T16:37:22.420Z"
   },
   {
    "duration": 115,
    "start_time": "2022-10-05T16:38:24.573Z"
   },
   {
    "duration": 13,
    "start_time": "2022-10-05T16:38:35.573Z"
   },
   {
    "duration": 13,
    "start_time": "2022-10-05T17:29:48.661Z"
   },
   {
    "duration": 15,
    "start_time": "2022-10-05T17:33:15.626Z"
   },
   {
    "duration": 1086,
    "start_time": "2022-10-05T17:33:25.550Z"
   },
   {
    "duration": 207,
    "start_time": "2022-10-05T17:33:26.638Z"
   },
   {
    "duration": 76,
    "start_time": "2022-10-05T17:33:26.847Z"
   },
   {
    "duration": 60,
    "start_time": "2022-10-05T17:33:26.925Z"
   },
   {
    "duration": 37,
    "start_time": "2022-10-05T17:33:26.986Z"
   },
   {
    "duration": 17,
    "start_time": "2022-10-05T17:33:27.025Z"
   },
   {
    "duration": 17,
    "start_time": "2022-10-05T17:33:27.043Z"
   },
   {
    "duration": 17,
    "start_time": "2022-10-05T17:33:27.061Z"
   },
   {
    "duration": 90,
    "start_time": "2022-10-05T17:33:27.079Z"
   },
   {
    "duration": 18,
    "start_time": "2022-10-05T17:33:27.171Z"
   },
   {
    "duration": 24,
    "start_time": "2022-10-05T17:33:27.190Z"
   },
   {
    "duration": 4,
    "start_time": "2022-10-05T17:33:27.215Z"
   },
   {
    "duration": 20,
    "start_time": "2022-10-05T17:33:27.220Z"
   },
   {
    "duration": 17,
    "start_time": "2022-10-05T17:33:27.242Z"
   },
   {
    "duration": 4,
    "start_time": "2022-10-05T17:33:27.260Z"
   },
   {
    "duration": 48,
    "start_time": "2022-10-05T17:33:27.265Z"
   },
   {
    "duration": 16,
    "start_time": "2022-10-05T17:33:27.314Z"
   },
   {
    "duration": 5,
    "start_time": "2022-10-05T17:33:27.331Z"
   },
   {
    "duration": 4,
    "start_time": "2022-10-05T17:33:27.337Z"
   },
   {
    "duration": 7,
    "start_time": "2022-10-05T17:33:27.343Z"
   },
   {
    "duration": 5,
    "start_time": "2022-10-05T17:33:27.351Z"
   },
   {
    "duration": 5,
    "start_time": "2022-10-05T17:33:27.358Z"
   },
   {
    "duration": 46,
    "start_time": "2022-10-05T17:33:27.364Z"
   },
   {
    "duration": 35,
    "start_time": "2022-10-05T17:33:27.412Z"
   },
   {
    "duration": 38,
    "start_time": "2022-10-05T17:33:27.449Z"
   },
   {
    "duration": 22,
    "start_time": "2022-10-05T17:33:27.509Z"
   },
   {
    "duration": 29,
    "start_time": "2022-10-05T17:33:27.533Z"
   },
   {
    "duration": 3,
    "start_time": "2022-10-05T17:33:27.566Z"
   },
   {
    "duration": 50,
    "start_time": "2022-10-05T17:33:27.571Z"
   },
   {
    "duration": 16,
    "start_time": "2022-10-05T17:33:27.623Z"
   },
   {
    "duration": 15,
    "start_time": "2022-10-05T17:33:27.641Z"
   },
   {
    "duration": 8,
    "start_time": "2022-10-05T17:33:27.658Z"
   },
   {
    "duration": 7,
    "start_time": "2022-10-05T17:33:27.667Z"
   },
   {
    "duration": 40,
    "start_time": "2022-10-05T17:33:27.675Z"
   },
   {
    "duration": 20,
    "start_time": "2022-10-05T17:33:27.716Z"
   },
   {
    "duration": 8,
    "start_time": "2022-10-05T17:33:27.738Z"
   },
   {
    "duration": 35,
    "start_time": "2022-10-05T17:33:27.747Z"
   },
   {
    "duration": 31,
    "start_time": "2022-10-05T17:33:27.783Z"
   },
   {
    "duration": 9,
    "start_time": "2022-10-05T17:33:27.815Z"
   },
   {
    "duration": 4,
    "start_time": "2022-10-05T17:33:27.826Z"
   },
   {
    "duration": 117,
    "start_time": "2022-10-05T17:33:27.831Z"
   },
   {
    "duration": 655,
    "start_time": "2022-10-05T17:33:27.949Z"
   },
   {
    "duration": 76,
    "start_time": "2022-10-05T17:33:28.606Z"
   },
   {
    "duration": 65,
    "start_time": "2022-10-05T17:33:28.683Z"
   },
   {
    "duration": 12,
    "start_time": "2022-10-05T17:33:28.750Z"
   },
   {
    "duration": 13,
    "start_time": "2022-10-05T17:33:28.763Z"
   },
   {
    "duration": 4,
    "start_time": "2022-10-05T17:33:28.777Z"
   },
   {
    "duration": 4,
    "start_time": "2022-10-05T17:33:28.782Z"
   },
   {
    "duration": 4,
    "start_time": "2022-10-05T17:33:28.787Z"
   },
   {
    "duration": 2,
    "start_time": "2022-10-05T17:33:28.809Z"
   },
   {
    "duration": 6,
    "start_time": "2022-10-05T17:33:28.812Z"
   },
   {
    "duration": 573,
    "start_time": "2022-10-05T17:33:28.820Z"
   },
   {
    "duration": 18,
    "start_time": "2022-10-05T17:33:29.395Z"
   },
   {
    "duration": 4,
    "start_time": "2022-10-05T17:33:29.414Z"
   },
   {
    "duration": 243,
    "start_time": "2022-10-05T17:35:58.211Z"
   },
   {
    "duration": 4,
    "start_time": "2022-10-05T17:41:04.606Z"
   },
   {
    "duration": 27,
    "start_time": "2022-10-05T17:43:20.616Z"
   },
   {
    "duration": 124,
    "start_time": "2022-10-05T17:43:43.475Z"
   },
   {
    "duration": 66496,
    "start_time": "2022-10-05T17:48:23.414Z"
   },
   {
    "duration": 8,
    "start_time": "2022-10-05T17:49:56.780Z"
   },
   {
    "duration": 136169,
    "start_time": "2022-10-05T17:51:28.047Z"
   },
   {
    "duration": 14,
    "start_time": "2022-10-05T17:56:22.616Z"
   },
   {
    "duration": 15,
    "start_time": "2022-10-05T17:57:16.002Z"
   },
   {
    "duration": 229,
    "start_time": "2022-10-05T18:01:11.818Z"
   },
   {
    "duration": 16,
    "start_time": "2022-10-05T18:01:27.615Z"
   },
   {
    "duration": 9507,
    "start_time": "2022-10-05T18:01:44.806Z"
   },
   {
    "duration": 26,
    "start_time": "2022-10-05T18:01:58.085Z"
   },
   {
    "duration": 7,
    "start_time": "2022-10-05T18:02:03.862Z"
   },
   {
    "duration": 14,
    "start_time": "2022-10-05T18:02:04.911Z"
   },
   {
    "duration": 9,
    "start_time": "2022-10-05T18:02:11.282Z"
   },
   {
    "duration": 4,
    "start_time": "2022-10-05T18:02:55.048Z"
   },
   {
    "duration": 6,
    "start_time": "2022-10-05T18:02:59.892Z"
   },
   {
    "duration": 8,
    "start_time": "2022-10-05T18:03:00.953Z"
   },
   {
    "duration": 123,
    "start_time": "2022-10-05T18:03:01.712Z"
   },
   {
    "duration": 7,
    "start_time": "2022-10-05T18:03:07.828Z"
   },
   {
    "duration": 8399,
    "start_time": "2022-10-05T18:10:42.511Z"
   },
   {
    "duration": 8360,
    "start_time": "2022-10-05T18:11:02.950Z"
   },
   {
    "duration": 28,
    "start_time": "2022-10-05T18:11:14.461Z"
   },
   {
    "duration": 10123,
    "start_time": "2022-10-05T18:11:19.888Z"
   },
   {
    "duration": 15812,
    "start_time": "2022-10-05T18:18:45.758Z"
   },
   {
    "duration": 3,
    "start_time": "2022-10-05T18:19:13.640Z"
   },
   {
    "duration": 24,
    "start_time": "2022-10-05T18:19:17.834Z"
   },
   {
    "duration": 25,
    "start_time": "2022-10-05T18:19:20.473Z"
   },
   {
    "duration": 128,
    "start_time": "2022-10-05T18:19:26.797Z"
   },
   {
    "duration": 7,
    "start_time": "2022-10-05T18:19:29.274Z"
   },
   {
    "duration": 61,
    "start_time": "2022-10-05T18:20:07.077Z"
   },
   {
    "duration": 69,
    "start_time": "2022-10-05T18:20:16.533Z"
   },
   {
    "duration": 25614,
    "start_time": "2022-10-05T18:20:27.763Z"
   },
   {
    "duration": 3,
    "start_time": "2022-10-05T18:21:06.402Z"
   },
   {
    "duration": 45,
    "start_time": "2022-10-05T18:21:15.515Z"
   },
   {
    "duration": 121,
    "start_time": "2022-10-05T18:21:33.661Z"
   },
   {
    "duration": 7,
    "start_time": "2022-10-05T18:21:37.476Z"
   },
   {
    "duration": 120770,
    "start_time": "2022-10-05T18:22:14.343Z"
   },
   {
    "duration": 51,
    "start_time": "2022-10-05T18:24:31.388Z"
   },
   {
    "duration": 143,
    "start_time": "2022-10-05T18:25:07.212Z"
   },
   {
    "duration": 7,
    "start_time": "2022-10-05T18:25:12.445Z"
   },
   {
    "duration": 79,
    "start_time": "2022-10-05T18:26:13.918Z"
   },
   {
    "duration": 3369,
    "start_time": "2022-10-05T18:26:23.497Z"
   },
   {
    "duration": 3629,
    "start_time": "2022-10-05T18:26:38.009Z"
   },
   {
    "duration": 51,
    "start_time": "2022-10-05T18:26:43.826Z"
   },
   {
    "duration": 6390,
    "start_time": "2022-10-05T18:26:51.896Z"
   },
   {
    "duration": 52,
    "start_time": "2022-10-05T18:27:01.426Z"
   },
   {
    "duration": 123,
    "start_time": "2022-10-05T18:27:12.289Z"
   },
   {
    "duration": 9,
    "start_time": "2022-10-05T18:27:15.391Z"
   },
   {
    "duration": 1266,
    "start_time": "2022-10-05T18:27:31.417Z"
   },
   {
    "duration": 45,
    "start_time": "2022-10-05T18:27:35.005Z"
   },
   {
    "duration": 123,
    "start_time": "2022-10-05T18:27:41.053Z"
   },
   {
    "duration": 7,
    "start_time": "2022-10-05T18:27:44.687Z"
   },
   {
    "duration": 2425,
    "start_time": "2022-10-05T18:28:11.440Z"
   },
   {
    "duration": 52,
    "start_time": "2022-10-05T18:28:15.834Z"
   },
   {
    "duration": 7,
    "start_time": "2022-10-05T18:28:20.262Z"
   },
   {
    "duration": 124,
    "start_time": "2022-10-05T18:28:23.355Z"
   },
   {
    "duration": 132,
    "start_time": "2022-10-05T18:28:29.427Z"
   },
   {
    "duration": 129,
    "start_time": "2022-10-05T18:28:51.567Z"
   },
   {
    "duration": 5995,
    "start_time": "2022-10-05T18:29:05.387Z"
   },
   {
    "duration": 52,
    "start_time": "2022-10-05T18:29:15.687Z"
   },
   {
    "duration": 129,
    "start_time": "2022-10-05T18:29:22.306Z"
   },
   {
    "duration": 51,
    "start_time": "2022-10-05T18:29:44.051Z"
   },
   {
    "duration": 1970,
    "start_time": "2022-10-05T18:30:16.910Z"
   },
   {
    "duration": 49,
    "start_time": "2022-10-05T18:30:28.116Z"
   },
   {
    "duration": 7510,
    "start_time": "2022-10-05T18:30:44.155Z"
   },
   {
    "duration": 50,
    "start_time": "2022-10-05T18:30:59.264Z"
   },
   {
    "duration": 1970,
    "start_time": "2022-10-05T18:31:26.795Z"
   },
   {
    "duration": 48,
    "start_time": "2022-10-05T18:31:32.279Z"
   },
   {
    "duration": 125,
    "start_time": "2022-10-05T18:31:35.368Z"
   },
   {
    "duration": 1632,
    "start_time": "2022-10-05T18:31:57.407Z"
   },
   {
    "duration": 45,
    "start_time": "2022-10-05T18:32:02.342Z"
   },
   {
    "duration": 132,
    "start_time": "2022-10-05T18:32:05.520Z"
   },
   {
    "duration": 30813,
    "start_time": "2022-10-05T18:32:29.419Z"
   },
   {
    "duration": 45,
    "start_time": "2022-10-05T18:33:07.944Z"
   },
   {
    "duration": 133,
    "start_time": "2022-10-05T18:33:11.430Z"
   },
   {
    "duration": 30090,
    "start_time": "2022-10-05T18:34:40.047Z"
   },
   {
    "duration": 51,
    "start_time": "2022-10-05T18:35:19.337Z"
   },
   {
    "duration": 129,
    "start_time": "2022-10-05T18:35:25.027Z"
   },
   {
    "duration": 30242,
    "start_time": "2022-10-05T18:35:52.839Z"
   },
   {
    "duration": 45,
    "start_time": "2022-10-05T18:36:26.045Z"
   },
   {
    "duration": 131,
    "start_time": "2022-10-05T18:36:29.544Z"
   },
   {
    "duration": 33643,
    "start_time": "2022-10-05T18:37:33.722Z"
   },
   {
    "duration": 55,
    "start_time": "2022-10-05T18:38:18.186Z"
   },
   {
    "duration": 127,
    "start_time": "2022-10-05T18:38:21.741Z"
   },
   {
    "duration": 18654,
    "start_time": "2022-10-05T18:39:34.071Z"
   },
   {
    "duration": 49,
    "start_time": "2022-10-05T18:40:12.282Z"
   },
   {
    "duration": 129,
    "start_time": "2022-10-05T18:40:18.282Z"
   },
   {
    "duration": 4151,
    "start_time": "2022-10-05T18:41:25.256Z"
   },
   {
    "duration": 49,
    "start_time": "2022-10-05T18:41:35.416Z"
   },
   {
    "duration": 3730,
    "start_time": "2022-10-05T18:41:49.532Z"
   },
   {
    "duration": 65,
    "start_time": "2022-10-05T18:41:57.163Z"
   },
   {
    "duration": 160,
    "start_time": "2022-10-05T18:42:00.701Z"
   },
   {
    "duration": 3843,
    "start_time": "2022-10-05T18:42:18.484Z"
   },
   {
    "duration": 45,
    "start_time": "2022-10-05T18:42:27.718Z"
   },
   {
    "duration": 126,
    "start_time": "2022-10-05T18:42:31.923Z"
   },
   {
    "duration": 5469,
    "start_time": "2022-10-05T18:42:49.090Z"
   },
   {
    "duration": 47,
    "start_time": "2022-10-05T18:42:56.728Z"
   },
   {
    "duration": 125,
    "start_time": "2022-10-05T18:43:00.161Z"
   },
   {
    "duration": 11135,
    "start_time": "2022-10-05T18:44:11.689Z"
   },
   {
    "duration": 2941,
    "start_time": "2022-10-05T18:46:22.877Z"
   },
   {
    "duration": 11941,
    "start_time": "2022-10-05T18:46:33.903Z"
   },
   {
    "duration": 47,
    "start_time": "2022-10-05T18:46:54.827Z"
   },
   {
    "duration": 5787,
    "start_time": "2022-10-05T18:47:04.353Z"
   },
   {
    "duration": 47,
    "start_time": "2022-10-05T18:47:12.194Z"
   },
   {
    "duration": 55,
    "start_time": "2022-10-05T18:47:23.155Z"
   },
   {
    "duration": 157,
    "start_time": "2022-10-05T18:47:24.283Z"
   },
   {
    "duration": 10048,
    "start_time": "2022-10-05T18:49:18.337Z"
   },
   {
    "duration": 898,
    "start_time": "2022-10-05T18:49:32.280Z"
   },
   {
    "duration": 377,
    "start_time": "2022-10-05T18:49:52.263Z"
   },
   {
    "duration": 31801,
    "start_time": "2022-10-05T18:55:36.599Z"
   },
   {
    "duration": 1851,
    "start_time": "2022-10-05T18:56:32.490Z"
   },
   {
    "duration": 621,
    "start_time": "2022-10-05T18:56:37.900Z"
   },
   {
    "duration": 76971,
    "start_time": "2022-10-05T18:57:19.545Z"
   },
   {
    "duration": 3832,
    "start_time": "2022-10-05T18:58:41.163Z"
   },
   {
    "duration": 1153,
    "start_time": "2022-10-05T18:58:56.295Z"
   },
   {
    "duration": 92009,
    "start_time": "2022-10-05T18:59:29.521Z"
   },
   {
    "duration": 4185,
    "start_time": "2022-10-05T19:01:07.805Z"
   },
   {
    "duration": 1209,
    "start_time": "2022-10-05T19:01:16.535Z"
   },
   {
    "duration": 146741,
    "start_time": "2022-10-05T19:01:37.737Z"
   },
   {
    "duration": 3692,
    "start_time": "2022-10-05T19:04:10.611Z"
   },
   {
    "duration": 1088,
    "start_time": "2022-10-05T19:04:20.500Z"
   },
   {
    "duration": 198766,
    "start_time": "2022-10-05T19:05:17.522Z"
   },
   {
    "duration": 3658,
    "start_time": "2022-10-05T19:08:47.600Z"
   },
   {
    "duration": 1061,
    "start_time": "2022-10-05T19:08:57.508Z"
   },
   {
    "duration": 88395,
    "start_time": "2022-10-05T19:09:19.875Z"
   },
   {
    "duration": 3368,
    "start_time": "2022-10-05T19:10:53.697Z"
   },
   {
    "duration": 1032,
    "start_time": "2022-10-05T19:11:05.640Z"
   },
   {
    "duration": 4,
    "start_time": "2022-10-05T19:21:23.168Z"
   },
   {
    "duration": 200,
    "start_time": "2022-10-05T19:21:23.174Z"
   },
   {
    "duration": 71,
    "start_time": "2022-10-05T19:21:23.375Z"
   },
   {
    "duration": 60,
    "start_time": "2022-10-05T19:21:23.449Z"
   },
   {
    "duration": 21,
    "start_time": "2022-10-05T19:21:23.511Z"
   },
   {
    "duration": 16,
    "start_time": "2022-10-05T19:21:23.534Z"
   },
   {
    "duration": 11,
    "start_time": "2022-10-05T19:21:23.552Z"
   },
   {
    "duration": 46,
    "start_time": "2022-10-05T19:21:23.564Z"
   },
   {
    "duration": 74,
    "start_time": "2022-10-05T19:21:23.612Z"
   },
   {
    "duration": 26,
    "start_time": "2022-10-05T19:21:23.688Z"
   },
   {
    "duration": 11,
    "start_time": "2022-10-05T19:21:23.716Z"
   },
   {
    "duration": 3,
    "start_time": "2022-10-05T19:21:23.729Z"
   },
   {
    "duration": 20,
    "start_time": "2022-10-05T19:21:23.734Z"
   },
   {
    "duration": 18,
    "start_time": "2022-10-05T19:21:23.755Z"
   },
   {
    "duration": 3,
    "start_time": "2022-10-05T19:21:23.774Z"
   },
   {
    "duration": 17,
    "start_time": "2022-10-05T19:21:23.809Z"
   },
   {
    "duration": 20,
    "start_time": "2022-10-05T19:21:23.828Z"
   },
   {
    "duration": 5,
    "start_time": "2022-10-05T19:21:23.850Z"
   },
   {
    "duration": 4,
    "start_time": "2022-10-05T19:21:23.856Z"
   },
   {
    "duration": 7,
    "start_time": "2022-10-05T19:21:23.862Z"
   },
   {
    "duration": 6,
    "start_time": "2022-10-05T19:21:23.870Z"
   },
   {
    "duration": 41,
    "start_time": "2022-10-05T19:21:23.877Z"
   },
   {
    "duration": 18,
    "start_time": "2022-10-05T19:21:23.919Z"
   },
   {
    "duration": 34,
    "start_time": "2022-10-05T19:21:23.941Z"
   },
   {
    "duration": 51,
    "start_time": "2022-10-05T19:21:23.977Z"
   },
   {
    "duration": 20,
    "start_time": "2022-10-05T19:21:24.029Z"
   },
   {
    "duration": 30,
    "start_time": "2022-10-05T19:21:24.051Z"
   },
   {
    "duration": 2,
    "start_time": "2022-10-05T19:21:24.083Z"
   },
   {
    "duration": 45,
    "start_time": "2022-10-05T19:21:24.087Z"
   },
   {
    "duration": 15,
    "start_time": "2022-10-05T19:21:24.133Z"
   },
   {
    "duration": 13,
    "start_time": "2022-10-05T19:21:24.150Z"
   },
   {
    "duration": 8,
    "start_time": "2022-10-05T19:21:24.165Z"
   },
   {
    "duration": 5,
    "start_time": "2022-10-05T19:21:24.174Z"
   },
   {
    "duration": 33,
    "start_time": "2022-10-05T19:21:24.181Z"
   },
   {
    "duration": 18,
    "start_time": "2022-10-05T19:21:24.216Z"
   },
   {
    "duration": 10,
    "start_time": "2022-10-05T19:21:24.235Z"
   },
   {
    "duration": 36,
    "start_time": "2022-10-05T19:21:24.246Z"
   },
   {
    "duration": 40,
    "start_time": "2022-10-05T19:21:24.284Z"
   },
   {
    "duration": 14,
    "start_time": "2022-10-05T19:21:24.326Z"
   },
   {
    "duration": 5,
    "start_time": "2022-10-05T19:21:24.341Z"
   },
   {
    "duration": 119,
    "start_time": "2022-10-05T19:21:24.348Z"
   },
   {
    "duration": 696,
    "start_time": "2022-10-05T19:21:24.469Z"
   },
   {
    "duration": 75,
    "start_time": "2022-10-05T19:21:25.166Z"
   },
   {
    "duration": 70,
    "start_time": "2022-10-05T19:21:25.242Z"
   },
   {
    "duration": 12,
    "start_time": "2022-10-05T19:21:25.314Z"
   },
   {
    "duration": 8,
    "start_time": "2022-10-05T19:21:25.328Z"
   },
   {
    "duration": 13,
    "start_time": "2022-10-05T19:21:25.337Z"
   },
   {
    "duration": 0,
    "start_time": "2022-10-05T19:21:25.352Z"
   },
   {
    "duration": 0,
    "start_time": "2022-10-05T19:21:25.353Z"
   },
   {
    "duration": 0,
    "start_time": "2022-10-05T19:21:25.354Z"
   },
   {
    "duration": 0,
    "start_time": "2022-10-05T19:21:25.355Z"
   },
   {
    "duration": 0,
    "start_time": "2022-10-05T19:21:25.356Z"
   },
   {
    "duration": 0,
    "start_time": "2022-10-05T19:21:25.357Z"
   },
   {
    "duration": 0,
    "start_time": "2022-10-05T19:21:25.358Z"
   },
   {
    "duration": 0,
    "start_time": "2022-10-05T19:21:25.360Z"
   },
   {
    "duration": 0,
    "start_time": "2022-10-05T19:21:25.360Z"
   },
   {
    "duration": 0,
    "start_time": "2022-10-05T19:21:25.363Z"
   },
   {
    "duration": 0,
    "start_time": "2022-10-05T19:21:25.364Z"
   },
   {
    "duration": 0,
    "start_time": "2022-10-05T19:21:25.365Z"
   },
   {
    "duration": 0,
    "start_time": "2022-10-05T19:21:25.366Z"
   },
   {
    "duration": 0,
    "start_time": "2022-10-05T19:21:25.367Z"
   },
   {
    "duration": 0,
    "start_time": "2022-10-05T19:21:25.367Z"
   },
   {
    "duration": 14,
    "start_time": "2022-10-05T19:22:25.183Z"
   },
   {
    "duration": 28,
    "start_time": "2022-10-05T19:22:28.026Z"
   },
   {
    "duration": 367,
    "start_time": "2022-10-05T19:22:31.220Z"
   },
   {
    "duration": 15,
    "start_time": "2022-10-05T19:22:32.281Z"
   },
   {
    "duration": 2,
    "start_time": "2022-10-05T19:22:37.536Z"
   },
   {
    "duration": 3,
    "start_time": "2022-10-05T19:22:38.040Z"
   },
   {
    "duration": 3,
    "start_time": "2022-10-05T19:22:38.424Z"
   },
   {
    "duration": 3,
    "start_time": "2022-10-05T19:22:38.865Z"
   },
   {
    "duration": 4,
    "start_time": "2022-10-05T19:22:39.751Z"
   },
   {
    "duration": 558,
    "start_time": "2022-10-05T19:22:40.456Z"
   },
   {
    "duration": 14,
    "start_time": "2022-10-05T19:22:41.015Z"
   },
   {
    "duration": 6,
    "start_time": "2022-10-05T19:22:42.066Z"
   },
   {
    "duration": 5,
    "start_time": "2022-10-05T19:22:46.238Z"
   },
   {
    "duration": 9749,
    "start_time": "2022-10-05T19:22:47.574Z"
   },
   {
    "duration": 11,
    "start_time": "2022-10-05T19:23:03.251Z"
   },
   {
    "duration": 117,
    "start_time": "2022-10-05T19:23:04.157Z"
   },
   {
    "duration": 9,
    "start_time": "2022-10-05T19:23:06.557Z"
   },
   {
    "duration": 6687,
    "start_time": "2022-10-05T19:23:31.204Z"
   },
   {
    "duration": 48,
    "start_time": "2022-10-05T19:23:43.939Z"
   },
   {
    "duration": 8,
    "start_time": "2022-10-05T19:24:22.681Z"
   },
   {
    "duration": 4,
    "start_time": "2022-10-05T19:24:36.571Z"
   },
   {
    "duration": 6702,
    "start_time": "2022-10-05T19:25:31.540Z"
   },
   {
    "duration": 4,
    "start_time": "2022-10-05T19:25:40.719Z"
   },
   {
    "duration": 5471,
    "start_time": "2022-10-05T19:25:50.227Z"
   },
   {
    "duration": 3,
    "start_time": "2022-10-05T19:25:57.496Z"
   },
   {
    "duration": 48,
    "start_time": "2022-10-05T19:26:02.668Z"
   },
   {
    "duration": 131,
    "start_time": "2022-10-05T19:26:09.137Z"
   },
   {
    "duration": 361273,
    "start_time": "2022-10-05T19:26:50.588Z"
   },
   {
    "duration": 5411,
    "start_time": "2022-10-05T19:33:36.739Z"
   },
   {
    "duration": 5375,
    "start_time": "2022-10-05T19:33:54.606Z"
   },
   {
    "duration": 1547,
    "start_time": "2022-10-05T19:34:07.197Z"
   },
   {
    "duration": 713846,
    "start_time": "2022-10-05T19:37:04.101Z"
   },
   {
    "duration": 5884,
    "start_time": "2022-10-05T19:49:14.957Z"
   },
   {
    "duration": 1711,
    "start_time": "2022-10-05T19:49:25.252Z"
   },
   {
    "duration": 67194,
    "start_time": "2022-10-05T19:50:09.522Z"
   },
   {
    "duration": 2638,
    "start_time": "2022-10-05T19:53:14.154Z"
   },
   {
    "duration": 309,
    "start_time": "2022-10-05T19:55:28.240Z"
   },
   {
    "duration": 307,
    "start_time": "2022-10-05T19:55:30.579Z"
   },
   {
    "duration": 15,
    "start_time": "2022-10-05T19:55:32.100Z"
   },
   {
    "duration": 1524,
    "start_time": "2022-10-05T19:55:54.159Z"
   },
   {
    "duration": 209,
    "start_time": "2022-10-05T19:55:55.685Z"
   },
   {
    "duration": 76,
    "start_time": "2022-10-05T19:55:55.896Z"
   },
   {
    "duration": 59,
    "start_time": "2022-10-05T19:55:55.974Z"
   },
   {
    "duration": 24,
    "start_time": "2022-10-05T19:55:56.034Z"
   },
   {
    "duration": 17,
    "start_time": "2022-10-05T19:55:56.060Z"
   },
   {
    "duration": 36,
    "start_time": "2022-10-05T19:55:56.078Z"
   },
   {
    "duration": 20,
    "start_time": "2022-10-05T19:55:56.116Z"
   },
   {
    "duration": 79,
    "start_time": "2022-10-05T19:55:56.137Z"
   },
   {
    "duration": 18,
    "start_time": "2022-10-05T19:55:56.218Z"
   },
   {
    "duration": 12,
    "start_time": "2022-10-05T19:55:56.238Z"
   },
   {
    "duration": 5,
    "start_time": "2022-10-05T19:55:56.251Z"
   },
   {
    "duration": 23,
    "start_time": "2022-10-05T19:55:56.257Z"
   },
   {
    "duration": 43,
    "start_time": "2022-10-05T19:55:56.282Z"
   },
   {
    "duration": 4,
    "start_time": "2022-10-05T19:55:56.327Z"
   },
   {
    "duration": 15,
    "start_time": "2022-10-05T19:55:56.333Z"
   },
   {
    "duration": 15,
    "start_time": "2022-10-05T19:55:56.349Z"
   },
   {
    "duration": 7,
    "start_time": "2022-10-05T19:55:56.366Z"
   },
   {
    "duration": 4,
    "start_time": "2022-10-05T19:55:56.375Z"
   },
   {
    "duration": 7,
    "start_time": "2022-10-05T19:55:56.408Z"
   },
   {
    "duration": 7,
    "start_time": "2022-10-05T19:55:56.416Z"
   },
   {
    "duration": 6,
    "start_time": "2022-10-05T19:55:56.425Z"
   },
   {
    "duration": 17,
    "start_time": "2022-10-05T19:55:56.432Z"
   },
   {
    "duration": 65,
    "start_time": "2022-10-05T19:55:56.450Z"
   },
   {
    "duration": 42,
    "start_time": "2022-10-05T19:55:56.517Z"
   },
   {
    "duration": 23,
    "start_time": "2022-10-05T19:55:56.561Z"
   },
   {
    "duration": 46,
    "start_time": "2022-10-05T19:55:56.586Z"
   },
   {
    "duration": 3,
    "start_time": "2022-10-05T19:55:56.637Z"
   },
   {
    "duration": 29,
    "start_time": "2022-10-05T19:55:56.641Z"
   },
   {
    "duration": 16,
    "start_time": "2022-10-05T19:55:56.672Z"
   },
   {
    "duration": 28,
    "start_time": "2022-10-05T19:55:56.689Z"
   },
   {
    "duration": 13,
    "start_time": "2022-10-05T19:55:56.719Z"
   },
   {
    "duration": 14,
    "start_time": "2022-10-05T19:55:56.734Z"
   },
   {
    "duration": 11,
    "start_time": "2022-10-05T19:55:56.749Z"
   },
   {
    "duration": 20,
    "start_time": "2022-10-05T19:55:56.762Z"
   },
   {
    "duration": 26,
    "start_time": "2022-10-05T19:55:56.783Z"
   },
   {
    "duration": 34,
    "start_time": "2022-10-05T19:55:56.812Z"
   },
   {
    "duration": 17,
    "start_time": "2022-10-05T19:55:56.847Z"
   },
   {
    "duration": 10,
    "start_time": "2022-10-05T19:55:56.865Z"
   },
   {
    "duration": 5,
    "start_time": "2022-10-05T19:55:56.876Z"
   },
   {
    "duration": 121,
    "start_time": "2022-10-05T19:55:56.882Z"
   },
   {
    "duration": 687,
    "start_time": "2022-10-05T19:55:57.005Z"
   },
   {
    "duration": 75,
    "start_time": "2022-10-05T19:55:57.693Z"
   },
   {
    "duration": 66,
    "start_time": "2022-10-05T19:55:57.770Z"
   },
   {
    "duration": 13,
    "start_time": "2022-10-05T19:55:57.838Z"
   },
   {
    "duration": 18,
    "start_time": "2022-10-05T19:55:57.853Z"
   },
   {
    "duration": 38,
    "start_time": "2022-10-05T19:55:57.872Z"
   },
   {
    "duration": 372,
    "start_time": "2022-10-05T19:55:57.911Z"
   },
   {
    "duration": 15,
    "start_time": "2022-10-05T19:55:58.285Z"
   },
   {
    "duration": 9,
    "start_time": "2022-10-05T19:55:58.301Z"
   },
   {
    "duration": 4,
    "start_time": "2022-10-05T19:55:58.311Z"
   },
   {
    "duration": 4,
    "start_time": "2022-10-05T19:55:58.317Z"
   },
   {
    "duration": 4,
    "start_time": "2022-10-05T19:55:58.322Z"
   },
   {
    "duration": 4,
    "start_time": "2022-10-05T19:55:58.328Z"
   },
   {
    "duration": 563,
    "start_time": "2022-10-05T19:55:58.334Z"
   },
   {
    "duration": 15,
    "start_time": "2022-10-05T19:55:58.899Z"
   },
   {
    "duration": 9,
    "start_time": "2022-10-05T19:55:58.915Z"
   },
   {
    "duration": 6,
    "start_time": "2022-10-05T19:55:58.925Z"
   },
   {
    "duration": 9382,
    "start_time": "2022-10-05T19:55:58.932Z"
   },
   {
    "duration": 5,
    "start_time": "2022-10-05T19:56:08.316Z"
   },
   {
    "duration": 307,
    "start_time": "2022-10-05T19:56:08.323Z"
   },
   {
    "duration": 7,
    "start_time": "2022-10-05T19:56:08.632Z"
   },
   {
    "duration": 5476,
    "start_time": "2022-10-05T19:56:08.640Z"
   },
   {
    "duration": 3,
    "start_time": "2022-10-05T19:56:14.118Z"
   },
   {
    "duration": 51,
    "start_time": "2022-10-05T19:56:14.122Z"
   },
   {
    "duration": 143,
    "start_time": "2022-10-05T19:56:14.175Z"
   },
   {
    "duration": 154707,
    "start_time": "2022-10-05T19:56:14.320Z"
   },
   {
    "duration": 5919,
    "start_time": "2022-10-05T19:58:49.029Z"
   },
   {
    "duration": 1679,
    "start_time": "2022-10-05T19:58:54.949Z"
   },
   {
    "duration": 68729,
    "start_time": "2022-10-05T19:58:56.629Z"
   },
   {
    "duration": 2661,
    "start_time": "2022-10-05T20:00:05.359Z"
   },
   {
    "duration": 123316,
    "start_time": "2022-10-05T20:01:57.435Z"
   },
   {
    "duration": 2927,
    "start_time": "2022-10-05T20:04:37.095Z"
   },
   {
    "duration": 892,
    "start_time": "2022-10-05T20:04:46.437Z"
   },
   {
    "duration": 20715,
    "start_time": "2022-10-05T20:04:52.813Z"
   },
   {
    "duration": 1355,
    "start_time": "2022-10-05T20:05:27.173Z"
   },
   {
    "duration": 107712,
    "start_time": "2022-10-05T20:08:59.918Z"
   },
   {
    "duration": 1030,
    "start_time": "2022-10-05T20:13:45.923Z"
   },
   {
    "duration": 395,
    "start_time": "2022-10-05T20:13:55.060Z"
   },
   {
    "duration": 9941,
    "start_time": "2022-10-05T20:13:58.241Z"
   },
   {
    "duration": 12089,
    "start_time": "2022-10-05T20:14:39.123Z"
   },
   {
    "duration": 11971,
    "start_time": "2022-10-05T20:15:03.639Z"
   },
   {
    "duration": 254,
    "start_time": "2022-10-05T20:15:56.668Z"
   },
   {
    "duration": 526,
    "start_time": "2022-10-05T20:16:06.627Z"
   },
   {
    "duration": 13075,
    "start_time": "2022-10-05T20:19:21.300Z"
   },
   {
    "duration": 763,
    "start_time": "2022-10-05T20:19:38.478Z"
   },
   {
    "duration": 337,
    "start_time": "2022-10-05T20:19:46.282Z"
   },
   {
    "duration": 5623,
    "start_time": "2022-10-05T20:19:53.871Z"
   },
   {
    "duration": 455,
    "start_time": "2022-10-05T20:20:38.870Z"
   },
   {
    "duration": 25008,
    "start_time": "2022-10-05T20:22:42.213Z"
   },
   {
    "duration": 798,
    "start_time": "2022-10-05T20:23:13.985Z"
   },
   {
    "duration": 331,
    "start_time": "2022-10-05T20:23:18.798Z"
   },
   {
    "duration": 5643,
    "start_time": "2022-10-05T20:23:24.119Z"
   },
   {
    "duration": 395,
    "start_time": "2022-10-05T20:23:51.671Z"
   },
   {
    "duration": 14561,
    "start_time": "2022-10-05T20:24:05.158Z"
   },
   {
    "duration": 896,
    "start_time": "2022-10-05T20:24:23.634Z"
   },
   {
    "duration": 352,
    "start_time": "2022-10-05T20:24:28.761Z"
   },
   {
    "duration": 6158,
    "start_time": "2022-10-05T20:24:40.195Z"
   },
   {
    "duration": 11869,
    "start_time": "2022-10-05T20:24:56.028Z"
   },
   {
    "duration": 679,
    "start_time": "2022-10-05T20:25:14.522Z"
   },
   {
    "duration": 292,
    "start_time": "2022-10-05T20:25:23.301Z"
   },
   {
    "duration": 4875,
    "start_time": "2022-10-05T20:25:25.892Z"
   },
   {
    "duration": 27903,
    "start_time": "2022-10-05T20:26:16.455Z"
   },
   {
    "duration": 302,
    "start_time": "2022-10-05T20:27:01.911Z"
   },
   {
    "duration": 4794,
    "start_time": "2022-10-05T20:27:06.225Z"
   },
   {
    "duration": 409,
    "start_time": "2022-10-05T20:27:14.043Z"
   },
   {
    "duration": 32671,
    "start_time": "2022-10-05T20:28:11.358Z"
   },
   {
    "duration": 276,
    "start_time": "2022-10-05T20:29:50.781Z"
   },
   {
    "duration": 33072,
    "start_time": "2022-10-05T20:30:20.015Z"
   },
   {
    "duration": 316,
    "start_time": "2022-10-05T20:31:14.295Z"
   },
   {
    "duration": 33196,
    "start_time": "2022-10-05T20:31:37.506Z"
   },
   {
    "duration": 32589,
    "start_time": "2022-10-05T20:32:34.879Z"
   },
   {
    "duration": 21693,
    "start_time": "2022-10-05T20:33:25.193Z"
   },
   {
    "duration": 239,
    "start_time": "2022-10-05T20:34:11.182Z"
   },
   {
    "duration": 25907,
    "start_time": "2022-10-05T20:34:25.228Z"
   },
   {
    "duration": 378,
    "start_time": "2022-10-05T20:34:56.246Z"
   },
   {
    "duration": 32492,
    "start_time": "2022-10-05T20:36:47.574Z"
   },
   {
    "duration": 351,
    "start_time": "2022-10-05T20:37:56.001Z"
   },
   {
    "duration": 4835,
    "start_time": "2022-10-05T20:38:17.427Z"
   },
   {
    "duration": 25780,
    "start_time": "2022-10-05T20:38:42.509Z"
   },
   {
    "duration": 263,
    "start_time": "2022-10-05T20:39:25.749Z"
   },
   {
    "duration": 5838,
    "start_time": "2022-10-05T20:40:00.343Z"
   },
   {
    "duration": 269,
    "start_time": "2022-10-05T20:40:13.986Z"
   },
   {
    "duration": 2446,
    "start_time": "2022-10-05T20:40:22.546Z"
   },
   {
    "duration": 265,
    "start_time": "2022-10-05T20:40:29.682Z"
   },
   {
    "duration": 1811,
    "start_time": "2022-10-05T20:41:19.019Z"
   },
   {
    "duration": 3,
    "start_time": "2022-10-05T20:41:25.339Z"
   },
   {
    "duration": 43,
    "start_time": "2022-10-05T20:41:28.629Z"
   },
   {
    "duration": 130,
    "start_time": "2022-10-05T20:41:33.173Z"
   },
   {
    "duration": 14787,
    "start_time": "2022-10-05T20:42:25.874Z"
   },
   {
    "duration": 3,
    "start_time": "2022-10-05T20:42:50.272Z"
   },
   {
    "duration": 53,
    "start_time": "2022-10-05T20:42:53.941Z"
   },
   {
    "duration": 135,
    "start_time": "2022-10-05T20:42:58.149Z"
   },
   {
    "duration": 14530,
    "start_time": "2022-10-05T20:43:52.133Z"
   },
   {
    "duration": 129,
    "start_time": "2022-10-05T20:44:18.753Z"
   },
   {
    "duration": 20,
    "start_time": "2022-10-05T20:44:40.512Z"
   },
   {
    "duration": 172,
    "start_time": "2022-10-05T20:44:48.252Z"
   },
   {
    "duration": 176,
    "start_time": "2022-10-05T20:45:15.899Z"
   },
   {
    "duration": 136,
    "start_time": "2022-10-05T20:45:18.936Z"
   },
   {
    "duration": 41613,
    "start_time": "2022-10-05T20:46:23.770Z"
   },
   {
    "duration": 127,
    "start_time": "2022-10-05T20:47:17.073Z"
   },
   {
    "duration": 2483,
    "start_time": "2022-10-05T20:47:21.009Z"
   },
   {
    "duration": 213,
    "start_time": "2022-10-05T20:47:51.032Z"
   },
   {
    "duration": 13784,
    "start_time": "2022-10-05T20:49:11.980Z"
   },
   {
    "duration": 5365,
    "start_time": "2022-10-05T20:49:48.328Z"
   },
   {
    "duration": 190,
    "start_time": "2022-10-05T20:50:03.171Z"
   },
   {
    "duration": 5477,
    "start_time": "2022-10-05T20:50:24.378Z"
   },
   {
    "duration": 7052,
    "start_time": "2022-10-05T20:50:36.740Z"
   },
   {
    "duration": 191,
    "start_time": "2022-10-05T20:50:51.247Z"
   },
   {
    "duration": 3411,
    "start_time": "2022-10-05T20:51:19.649Z"
   },
   {
    "duration": 2341,
    "start_time": "2022-10-05T20:51:31.150Z"
   },
   {
    "duration": 1164,
    "start_time": "2022-10-05T20:51:39.963Z"
   },
   {
    "duration": 882,
    "start_time": "2022-10-05T20:51:45.956Z"
   },
   {
    "duration": 110,
    "start_time": "2022-10-05T20:51:53.850Z"
   },
   {
    "duration": 3472,
    "start_time": "2022-10-05T20:52:04.136Z"
   },
   {
    "duration": 5704,
    "start_time": "2022-10-05T20:52:20.010Z"
   },
   {
    "duration": 159,
    "start_time": "2022-10-05T20:52:40.559Z"
   },
   {
    "duration": 665,
    "start_time": "2022-10-05T20:52:52.479Z"
   },
   {
    "duration": 155,
    "start_time": "2022-10-05T20:52:58.507Z"
   },
   {
    "duration": 802,
    "start_time": "2022-10-05T20:53:32.796Z"
   },
   {
    "duration": 155,
    "start_time": "2022-10-05T20:53:51.390Z"
   },
   {
    "duration": 668,
    "start_time": "2022-10-05T20:54:15.200Z"
   },
   {
    "duration": 1355,
    "start_time": "2022-10-05T20:57:50.791Z"
   },
   {
    "duration": 194,
    "start_time": "2022-10-05T20:57:52.148Z"
   },
   {
    "duration": 77,
    "start_time": "2022-10-05T20:57:52.343Z"
   },
   {
    "duration": 56,
    "start_time": "2022-10-05T20:57:52.422Z"
   },
   {
    "duration": 37,
    "start_time": "2022-10-05T20:57:52.480Z"
   },
   {
    "duration": 16,
    "start_time": "2022-10-05T20:57:52.518Z"
   },
   {
    "duration": 15,
    "start_time": "2022-10-05T20:57:52.536Z"
   },
   {
    "duration": 17,
    "start_time": "2022-10-05T20:57:52.553Z"
   },
   {
    "duration": 98,
    "start_time": "2022-10-05T20:57:52.571Z"
   },
   {
    "duration": 17,
    "start_time": "2022-10-05T20:57:52.672Z"
   },
   {
    "duration": 21,
    "start_time": "2022-10-05T20:57:52.691Z"
   },
   {
    "duration": 4,
    "start_time": "2022-10-05T20:57:52.713Z"
   },
   {
    "duration": 30,
    "start_time": "2022-10-05T20:57:52.719Z"
   },
   {
    "duration": 17,
    "start_time": "2022-10-05T20:57:52.750Z"
   },
   {
    "duration": 4,
    "start_time": "2022-10-05T20:57:52.769Z"
   },
   {
    "duration": 35,
    "start_time": "2022-10-05T20:57:52.774Z"
   },
   {
    "duration": 16,
    "start_time": "2022-10-05T20:57:52.811Z"
   },
   {
    "duration": 4,
    "start_time": "2022-10-05T20:57:52.829Z"
   },
   {
    "duration": 6,
    "start_time": "2022-10-05T20:57:52.834Z"
   },
   {
    "duration": 8,
    "start_time": "2022-10-05T20:57:52.841Z"
   },
   {
    "duration": 5,
    "start_time": "2022-10-05T20:57:52.851Z"
   },
   {
    "duration": 4,
    "start_time": "2022-10-05T20:57:52.857Z"
   },
   {
    "duration": 16,
    "start_time": "2022-10-05T20:57:52.863Z"
   },
   {
    "duration": 60,
    "start_time": "2022-10-05T20:57:52.880Z"
   },
   {
    "duration": 38,
    "start_time": "2022-10-05T20:57:52.942Z"
   },
   {
    "duration": 44,
    "start_time": "2022-10-05T20:57:52.981Z"
   },
   {
    "duration": 29,
    "start_time": "2022-10-05T20:57:53.027Z"
   },
   {
    "duration": 3,
    "start_time": "2022-10-05T20:57:53.060Z"
   },
   {
    "duration": 47,
    "start_time": "2022-10-05T20:57:53.065Z"
   },
   {
    "duration": 16,
    "start_time": "2022-10-05T20:57:53.113Z"
   },
   {
    "duration": 14,
    "start_time": "2022-10-05T20:57:53.131Z"
   },
   {
    "duration": 8,
    "start_time": "2022-10-05T20:57:53.147Z"
   },
   {
    "duration": 6,
    "start_time": "2022-10-05T20:57:53.156Z"
   },
   {
    "duration": 11,
    "start_time": "2022-10-05T20:57:53.163Z"
   },
   {
    "duration": 51,
    "start_time": "2022-10-05T20:57:53.175Z"
   },
   {
    "duration": 9,
    "start_time": "2022-10-05T20:57:53.228Z"
   },
   {
    "duration": 42,
    "start_time": "2022-10-05T20:57:53.238Z"
   },
   {
    "duration": 41,
    "start_time": "2022-10-05T20:57:53.282Z"
   },
   {
    "duration": 9,
    "start_time": "2022-10-05T20:57:53.324Z"
   },
   {
    "duration": 6,
    "start_time": "2022-10-05T20:57:53.334Z"
   },
   {
    "duration": 122,
    "start_time": "2022-10-05T20:57:53.341Z"
   },
   {
    "duration": 664,
    "start_time": "2022-10-05T20:57:53.464Z"
   },
   {
    "duration": 80,
    "start_time": "2022-10-05T20:57:54.129Z"
   },
   {
    "duration": 59,
    "start_time": "2022-10-05T20:57:54.210Z"
   },
   {
    "duration": 12,
    "start_time": "2022-10-05T20:57:54.271Z"
   },
   {
    "duration": 26,
    "start_time": "2022-10-05T20:57:54.285Z"
   },
   {
    "duration": 31,
    "start_time": "2022-10-05T20:57:54.313Z"
   },
   {
    "duration": 446,
    "start_time": "2022-10-05T20:57:54.345Z"
   },
   {
    "duration": 18,
    "start_time": "2022-10-05T20:57:54.793Z"
   },
   {
    "duration": 4,
    "start_time": "2022-10-05T20:57:54.812Z"
   },
   {
    "duration": 4,
    "start_time": "2022-10-05T20:57:54.817Z"
   },
   {
    "duration": 6,
    "start_time": "2022-10-05T20:57:54.823Z"
   },
   {
    "duration": 4,
    "start_time": "2022-10-05T20:57:54.831Z"
   },
   {
    "duration": 9,
    "start_time": "2022-10-05T20:57:54.836Z"
   },
   {
    "duration": 582,
    "start_time": "2022-10-05T20:57:54.846Z"
   },
   {
    "duration": 14,
    "start_time": "2022-10-05T20:57:55.430Z"
   },
   {
    "duration": 4,
    "start_time": "2022-10-05T20:57:55.446Z"
   },
   {
    "duration": 4,
    "start_time": "2022-10-05T20:57:55.451Z"
   },
   {
    "duration": 10755,
    "start_time": "2022-10-05T20:57:55.456Z"
   },
   {
    "duration": 7,
    "start_time": "2022-10-05T20:58:06.213Z"
   },
   {
    "duration": 306,
    "start_time": "2022-10-05T20:58:06.222Z"
   },
   {
    "duration": 7,
    "start_time": "2022-10-05T20:58:06.530Z"
   },
   {
    "duration": 771,
    "start_time": "2022-10-05T20:58:06.539Z"
   },
   {
    "duration": 132,
    "start_time": "2022-10-05T20:58:07.312Z"
   },
   {
    "duration": 6308,
    "start_time": "2022-10-05T20:58:07.446Z"
   },
   {
    "duration": 258,
    "start_time": "2022-10-05T20:58:13.755Z"
   },
   {
    "duration": 176,
    "start_time": "2022-10-05T20:58:14.014Z"
   },
   {
    "duration": 2518,
    "start_time": "2022-10-05T20:58:14.191Z"
   },
   {
    "duration": 386,
    "start_time": "2022-10-05T20:58:16.710Z"
   },
   {
    "duration": 11812,
    "start_time": "2022-10-05T20:58:17.098Z"
   },
   {
    "duration": 7138,
    "start_time": "2022-10-05T20:59:32.289Z"
   },
   {
    "duration": 272,
    "start_time": "2022-10-05T20:59:57.163Z"
   },
   {
    "duration": 26519,
    "start_time": "2022-10-05T21:00:19.963Z"
   },
   {
    "duration": 307,
    "start_time": "2022-10-05T21:00:59.336Z"
   },
   {
    "duration": 421,
    "start_time": "2022-10-05T21:01:14.842Z"
   },
   {
    "duration": 60324,
    "start_time": "2022-10-05T21:02:05.066Z"
   },
   {
    "duration": 209,
    "start_time": "2022-10-05T21:03:28.261Z"
   },
   {
    "duration": 38558,
    "start_time": "2022-10-05T21:03:54.934Z"
   },
   {
    "duration": 197,
    "start_time": "2022-10-05T21:04:49.184Z"
   },
   {
    "duration": 323,
    "start_time": "2022-10-05T21:04:58.260Z"
   },
   {
    "duration": 24569,
    "start_time": "2022-10-05T21:05:33.158Z"
   },
   {
    "duration": 5488,
    "start_time": "2022-10-05T21:06:22.161Z"
   },
   {
    "duration": 477,
    "start_time": "2022-10-05T21:06:29.993Z"
   },
   {
    "duration": 38532,
    "start_time": "2022-10-05T21:06:51.360Z"
   },
   {
    "duration": 9063,
    "start_time": "2022-10-05T21:07:41.207Z"
   },
   {
    "duration": 489,
    "start_time": "2022-10-05T21:07:58.172Z"
   },
   {
    "duration": 52882,
    "start_time": "2022-10-05T21:08:36.003Z"
   },
   {
    "duration": 8288,
    "start_time": "2022-10-05T21:09:46.794Z"
   },
   {
    "duration": 163,
    "start_time": "2022-10-05T21:09:58.133Z"
   },
   {
    "duration": 12595,
    "start_time": "2022-10-05T21:10:04.024Z"
   },
   {
    "duration": 22030,
    "start_time": "2022-10-05T21:10:40.685Z"
   },
   {
    "duration": 323,
    "start_time": "2022-10-05T21:11:28.602Z"
   },
   {
    "duration": 8523,
    "start_time": "2022-10-05T21:11:48.427Z"
   },
   {
    "duration": 50851,
    "start_time": "2022-10-05T21:12:10.553Z"
   },
   {
    "duration": 46305,
    "start_time": "2022-10-05T21:13:24.948Z"
   },
   {
    "duration": 8469,
    "start_time": "2022-10-05T21:14:45.252Z"
   },
   {
    "duration": 308,
    "start_time": "2022-10-05T21:14:59.201Z"
   },
   {
    "duration": 17119,
    "start_time": "2022-10-05T21:15:26.480Z"
   },
   {
    "duration": 272,
    "start_time": "2022-10-05T21:16:22.040Z"
   },
   {
    "duration": 6468,
    "start_time": "2022-10-05T21:16:26.836Z"
   },
   {
    "duration": 18654,
    "start_time": "2022-10-05T21:17:09.119Z"
   },
   {
    "duration": 273,
    "start_time": "2022-10-05T21:17:32.273Z"
   },
   {
    "duration": 7099,
    "start_time": "2022-10-05T21:17:35.935Z"
   },
   {
    "duration": 27687,
    "start_time": "2022-10-05T21:17:56.566Z"
   },
   {
    "duration": 262,
    "start_time": "2022-10-05T21:22:29.603Z"
   },
   {
    "duration": 6612,
    "start_time": "2022-10-05T21:22:36.249Z"
   },
   {
    "duration": 34576,
    "start_time": "2022-10-05T21:23:08.783Z"
   },
   {
    "duration": 14478,
    "start_time": "2022-10-05T21:24:01.360Z"
   },
   {
    "duration": 5583,
    "start_time": "2022-10-05T21:24:23.733Z"
   },
   {
    "duration": 105698,
    "start_time": "2022-10-05T21:24:56.878Z"
   },
   {
    "duration": 705,
    "start_time": "2022-10-05T21:27:58.889Z"
   },
   {
    "duration": 27214,
    "start_time": "2022-10-05T21:28:05.963Z"
   },
   {
    "duration": 85265,
    "start_time": "2022-10-05T21:29:16.631Z"
   },
   {
    "duration": 820,
    "start_time": "2022-10-05T21:31:42.799Z"
   },
   {
    "duration": 32097,
    "start_time": "2022-10-05T21:31:51.238Z"
   },
   {
    "duration": 17257,
    "start_time": "2022-10-05T21:32:35.724Z"
   },
   {
    "duration": 6565,
    "start_time": "2022-10-05T21:34:11.729Z"
   },
   {
    "duration": 395,
    "start_time": "2022-10-05T21:36:36.764Z"
   },
   {
    "duration": 1308,
    "start_time": "2022-10-05T21:38:12.453Z"
   },
   {
    "duration": 186,
    "start_time": "2022-10-05T21:38:13.762Z"
   },
   {
    "duration": 77,
    "start_time": "2022-10-05T21:38:13.950Z"
   },
   {
    "duration": 57,
    "start_time": "2022-10-05T21:38:14.029Z"
   },
   {
    "duration": 32,
    "start_time": "2022-10-05T21:38:14.087Z"
   },
   {
    "duration": 16,
    "start_time": "2022-10-05T21:38:14.121Z"
   },
   {
    "duration": 18,
    "start_time": "2022-10-05T21:38:14.139Z"
   },
   {
    "duration": 16,
    "start_time": "2022-10-05T21:38:14.158Z"
   },
   {
    "duration": 95,
    "start_time": "2022-10-05T21:38:14.175Z"
   },
   {
    "duration": 18,
    "start_time": "2022-10-05T21:38:14.272Z"
   },
   {
    "duration": 22,
    "start_time": "2022-10-05T21:38:14.291Z"
   },
   {
    "duration": 5,
    "start_time": "2022-10-05T21:38:14.314Z"
   },
   {
    "duration": 19,
    "start_time": "2022-10-05T21:38:14.321Z"
   },
   {
    "duration": 17,
    "start_time": "2022-10-05T21:38:14.341Z"
   },
   {
    "duration": 4,
    "start_time": "2022-10-05T21:38:14.360Z"
   },
   {
    "duration": 50,
    "start_time": "2022-10-05T21:38:14.365Z"
   },
   {
    "duration": 20,
    "start_time": "2022-10-05T21:38:14.417Z"
   },
   {
    "duration": 12,
    "start_time": "2022-10-05T21:38:14.439Z"
   },
   {
    "duration": 7,
    "start_time": "2022-10-05T21:38:14.452Z"
   },
   {
    "duration": 16,
    "start_time": "2022-10-05T21:38:14.461Z"
   },
   {
    "duration": 8,
    "start_time": "2022-10-05T21:38:14.479Z"
   },
   {
    "duration": 20,
    "start_time": "2022-10-05T21:38:14.489Z"
   },
   {
    "duration": 28,
    "start_time": "2022-10-05T21:38:14.511Z"
   },
   {
    "duration": 44,
    "start_time": "2022-10-05T21:38:14.541Z"
   },
   {
    "duration": 53,
    "start_time": "2022-10-05T21:38:14.587Z"
   },
   {
    "duration": 24,
    "start_time": "2022-10-05T21:38:14.642Z"
   },
   {
    "duration": 44,
    "start_time": "2022-10-05T21:38:14.667Z"
   },
   {
    "duration": 3,
    "start_time": "2022-10-05T21:38:14.715Z"
   },
   {
    "duration": 28,
    "start_time": "2022-10-05T21:38:14.719Z"
   },
   {
    "duration": 15,
    "start_time": "2022-10-05T21:38:14.749Z"
   },
   {
    "duration": 15,
    "start_time": "2022-10-05T21:38:14.766Z"
   },
   {
    "duration": 30,
    "start_time": "2022-10-05T21:38:14.782Z"
   },
   {
    "duration": 5,
    "start_time": "2022-10-05T21:38:14.814Z"
   },
   {
    "duration": 10,
    "start_time": "2022-10-05T21:38:14.821Z"
   },
   {
    "duration": 20,
    "start_time": "2022-10-05T21:38:14.833Z"
   },
   {
    "duration": 8,
    "start_time": "2022-10-05T21:38:14.854Z"
   },
   {
    "duration": 66,
    "start_time": "2022-10-05T21:38:14.863Z"
   },
   {
    "duration": 19,
    "start_time": "2022-10-05T21:38:14.931Z"
   },
   {
    "duration": 7,
    "start_time": "2022-10-05T21:38:14.952Z"
   },
   {
    "duration": 7,
    "start_time": "2022-10-05T21:38:14.960Z"
   },
   {
    "duration": 122,
    "start_time": "2022-10-05T21:38:14.968Z"
   },
   {
    "duration": 713,
    "start_time": "2022-10-05T21:38:15.091Z"
   },
   {
    "duration": 76,
    "start_time": "2022-10-05T21:38:15.805Z"
   },
   {
    "duration": 67,
    "start_time": "2022-10-05T21:38:15.882Z"
   },
   {
    "duration": 13,
    "start_time": "2022-10-05T21:38:15.950Z"
   },
   {
    "duration": 12,
    "start_time": "2022-10-05T21:38:15.964Z"
   },
   {
    "duration": 49,
    "start_time": "2022-10-05T21:38:15.977Z"
   },
   {
    "duration": 386,
    "start_time": "2022-10-05T21:38:16.028Z"
   },
   {
    "duration": 16,
    "start_time": "2022-10-05T21:38:16.416Z"
   },
   {
    "duration": 2,
    "start_time": "2022-10-05T21:38:16.434Z"
   },
   {
    "duration": 6,
    "start_time": "2022-10-05T21:38:16.438Z"
   },
   {
    "duration": 6,
    "start_time": "2022-10-05T21:38:16.445Z"
   },
   {
    "duration": 5,
    "start_time": "2022-10-05T21:38:16.453Z"
   },
   {
    "duration": 4,
    "start_time": "2022-10-05T21:38:16.460Z"
   },
   {
    "duration": 617,
    "start_time": "2022-10-05T21:38:16.466Z"
   },
   {
    "duration": 14,
    "start_time": "2022-10-05T21:38:17.084Z"
   },
   {
    "duration": 11,
    "start_time": "2022-10-05T21:38:17.099Z"
   },
   {
    "duration": 6,
    "start_time": "2022-10-05T21:38:17.111Z"
   },
   {
    "duration": 10399,
    "start_time": "2022-10-05T21:38:17.118Z"
   },
   {
    "duration": 6,
    "start_time": "2022-10-05T21:38:27.519Z"
   },
   {
    "duration": 297,
    "start_time": "2022-10-05T21:38:27.527Z"
   },
   {
    "duration": 7,
    "start_time": "2022-10-05T21:38:27.825Z"
   },
   {
    "duration": 818,
    "start_time": "2022-10-05T21:38:27.834Z"
   },
   {
    "duration": 129,
    "start_time": "2022-10-05T21:38:28.653Z"
   },
   {
    "duration": 18052,
    "start_time": "2022-10-05T21:38:28.783Z"
   },
   {
    "duration": 267,
    "start_time": "2022-10-05T21:38:46.836Z"
   },
   {
    "duration": 178,
    "start_time": "2022-10-05T21:38:47.108Z"
   },
   {
    "duration": 6808,
    "start_time": "2022-10-05T21:38:47.288Z"
   },
   {
    "duration": 422,
    "start_time": "2022-10-05T21:38:54.097Z"
   },
   {
    "duration": 11489,
    "start_time": "2022-10-05T21:38:54.521Z"
   },
   {
    "duration": 54606,
    "start_time": "2022-10-05T21:41:53.834Z"
   },
   {
    "duration": 575,
    "start_time": "2022-10-05T21:43:53.914Z"
   },
   {
    "duration": 20816,
    "start_time": "2022-10-05T21:43:59.906Z"
   },
   {
    "duration": 534,
    "start_time": "2022-10-05T21:49:45.966Z"
   },
   {
    "duration": 20606,
    "start_time": "2022-10-05T21:49:50.200Z"
   },
   {
    "duration": 4102,
    "start_time": "2022-10-05T21:50:39.643Z"
   },
   {
    "duration": 1363,
    "start_time": "2022-10-05T21:51:00.308Z"
   },
   {
    "duration": 192,
    "start_time": "2022-10-05T21:51:01.673Z"
   },
   {
    "duration": 76,
    "start_time": "2022-10-05T21:51:01.866Z"
   },
   {
    "duration": 66,
    "start_time": "2022-10-05T21:51:01.944Z"
   },
   {
    "duration": 24,
    "start_time": "2022-10-05T21:51:02.011Z"
   },
   {
    "duration": 17,
    "start_time": "2022-10-05T21:51:02.036Z"
   },
   {
    "duration": 14,
    "start_time": "2022-10-05T21:51:02.055Z"
   },
   {
    "duration": 41,
    "start_time": "2022-10-05T21:51:02.071Z"
   },
   {
    "duration": 67,
    "start_time": "2022-10-05T21:51:02.114Z"
   },
   {
    "duration": 26,
    "start_time": "2022-10-05T21:51:02.183Z"
   },
   {
    "duration": 11,
    "start_time": "2022-10-05T21:51:02.211Z"
   },
   {
    "duration": 22,
    "start_time": "2022-10-05T21:51:02.223Z"
   },
   {
    "duration": 25,
    "start_time": "2022-10-05T21:51:02.247Z"
   },
   {
    "duration": 19,
    "start_time": "2022-10-05T21:51:02.273Z"
   },
   {
    "duration": 3,
    "start_time": "2022-10-05T21:51:02.293Z"
   },
   {
    "duration": 31,
    "start_time": "2022-10-05T21:51:02.297Z"
   },
   {
    "duration": 26,
    "start_time": "2022-10-05T21:51:02.330Z"
   },
   {
    "duration": 14,
    "start_time": "2022-10-05T21:51:02.358Z"
   },
   {
    "duration": 6,
    "start_time": "2022-10-05T21:51:02.373Z"
   },
   {
    "duration": 10,
    "start_time": "2022-10-05T21:51:02.381Z"
   },
   {
    "duration": 5,
    "start_time": "2022-10-05T21:51:02.393Z"
   },
   {
    "duration": 8,
    "start_time": "2022-10-05T21:51:02.399Z"
   },
   {
    "duration": 31,
    "start_time": "2022-10-05T21:51:02.408Z"
   },
   {
    "duration": 40,
    "start_time": "2022-10-05T21:51:02.440Z"
   },
   {
    "duration": 36,
    "start_time": "2022-10-05T21:51:02.482Z"
   },
   {
    "duration": 20,
    "start_time": "2022-10-05T21:51:02.520Z"
   },
   {
    "duration": 28,
    "start_time": "2022-10-05T21:51:02.541Z"
   },
   {
    "duration": 3,
    "start_time": "2022-10-05T21:51:02.573Z"
   },
   {
    "duration": 40,
    "start_time": "2022-10-05T21:51:02.577Z"
   },
   {
    "duration": 33,
    "start_time": "2022-10-05T21:51:02.618Z"
   },
   {
    "duration": 29,
    "start_time": "2022-10-05T21:51:02.653Z"
   },
   {
    "duration": 13,
    "start_time": "2022-10-05T21:51:02.684Z"
   },
   {
    "duration": 14,
    "start_time": "2022-10-05T21:51:02.698Z"
   },
   {
    "duration": 34,
    "start_time": "2022-10-05T21:51:02.714Z"
   },
   {
    "duration": 36,
    "start_time": "2022-10-05T21:51:02.749Z"
   },
   {
    "duration": 8,
    "start_time": "2022-10-05T21:51:02.786Z"
   },
   {
    "duration": 47,
    "start_time": "2022-10-05T21:51:02.796Z"
   },
   {
    "duration": 19,
    "start_time": "2022-10-05T21:51:02.844Z"
   },
   {
    "duration": 16,
    "start_time": "2022-10-05T21:51:02.864Z"
   },
   {
    "duration": 17,
    "start_time": "2022-10-05T21:51:02.882Z"
   },
   {
    "duration": 138,
    "start_time": "2022-10-05T21:51:02.900Z"
   },
   {
    "duration": 648,
    "start_time": "2022-10-05T21:51:03.040Z"
   },
   {
    "duration": 74,
    "start_time": "2022-10-05T21:51:03.689Z"
   },
   {
    "duration": 65,
    "start_time": "2022-10-05T21:51:03.764Z"
   },
   {
    "duration": 12,
    "start_time": "2022-10-05T21:51:03.830Z"
   },
   {
    "duration": 12,
    "start_time": "2022-10-05T21:51:03.844Z"
   },
   {
    "duration": 28,
    "start_time": "2022-10-05T21:51:03.857Z"
   },
   {
    "duration": 355,
    "start_time": "2022-10-05T21:51:03.887Z"
   },
   {
    "duration": 15,
    "start_time": "2022-10-05T21:51:04.244Z"
   },
   {
    "duration": 2,
    "start_time": "2022-10-05T21:51:04.261Z"
   },
   {
    "duration": 17,
    "start_time": "2022-10-05T21:51:04.264Z"
   },
   {
    "duration": 4,
    "start_time": "2022-10-05T21:51:04.282Z"
   },
   {
    "duration": 10,
    "start_time": "2022-10-05T21:51:04.287Z"
   },
   {
    "duration": 8,
    "start_time": "2022-10-05T21:51:04.298Z"
   },
   {
    "duration": 590,
    "start_time": "2022-10-05T21:51:04.308Z"
   },
   {
    "duration": 15,
    "start_time": "2022-10-05T21:51:04.900Z"
   },
   {
    "duration": 5,
    "start_time": "2022-10-05T21:51:04.916Z"
   },
   {
    "duration": 8,
    "start_time": "2022-10-05T21:51:04.922Z"
   },
   {
    "duration": 10191,
    "start_time": "2022-10-05T21:51:04.931Z"
   },
   {
    "duration": 5,
    "start_time": "2022-10-05T21:51:15.124Z"
   },
   {
    "duration": 223,
    "start_time": "2022-10-05T21:51:15.208Z"
   },
   {
    "duration": 6,
    "start_time": "2022-10-05T21:51:15.432Z"
   },
   {
    "duration": 801,
    "start_time": "2022-10-05T21:51:15.440Z"
   },
   {
    "duration": 148,
    "start_time": "2022-10-05T21:51:16.243Z"
   },
   {
    "duration": 91252,
    "start_time": "2022-10-05T21:51:16.393Z"
   },
   {
    "duration": 309,
    "start_time": "2022-10-05T21:52:47.647Z"
   },
   {
    "duration": 7527,
    "start_time": "2022-10-05T21:52:47.957Z"
   },
   {
    "duration": 441,
    "start_time": "2022-10-05T21:52:55.485Z"
   },
   {
    "duration": 1615,
    "start_time": "2022-10-06T10:39:26.370Z"
   },
   {
    "duration": 1121,
    "start_time": "2022-10-06T10:39:27.988Z"
   },
   {
    "duration": 82,
    "start_time": "2022-10-06T10:39:29.111Z"
   },
   {
    "duration": 63,
    "start_time": "2022-10-06T10:39:29.195Z"
   },
   {
    "duration": 36,
    "start_time": "2022-10-06T10:39:29.259Z"
   },
   {
    "duration": 18,
    "start_time": "2022-10-06T10:39:29.297Z"
   },
   {
    "duration": 17,
    "start_time": "2022-10-06T10:39:29.317Z"
   },
   {
    "duration": 17,
    "start_time": "2022-10-06T10:39:29.335Z"
   },
   {
    "duration": 88,
    "start_time": "2022-10-06T10:39:29.353Z"
   },
   {
    "duration": 16,
    "start_time": "2022-10-06T10:39:29.444Z"
   },
   {
    "duration": 12,
    "start_time": "2022-10-06T10:39:29.462Z"
   },
   {
    "duration": 21,
    "start_time": "2022-10-06T10:39:29.475Z"
   },
   {
    "duration": 19,
    "start_time": "2022-10-06T10:39:29.497Z"
   },
   {
    "duration": 18,
    "start_time": "2022-10-06T10:39:29.518Z"
   },
   {
    "duration": 4,
    "start_time": "2022-10-06T10:39:29.537Z"
   },
   {
    "duration": 18,
    "start_time": "2022-10-06T10:39:29.542Z"
   },
   {
    "duration": 50,
    "start_time": "2022-10-06T10:39:29.561Z"
   },
   {
    "duration": 5,
    "start_time": "2022-10-06T10:39:29.612Z"
   },
   {
    "duration": 5,
    "start_time": "2022-10-06T10:39:29.618Z"
   },
   {
    "duration": 13,
    "start_time": "2022-10-06T10:39:29.625Z"
   },
   {
    "duration": 6,
    "start_time": "2022-10-06T10:39:29.639Z"
   },
   {
    "duration": 8,
    "start_time": "2022-10-06T10:39:29.647Z"
   },
   {
    "duration": 39,
    "start_time": "2022-10-06T10:39:29.657Z"
   },
   {
    "duration": 33,
    "start_time": "2022-10-06T10:39:29.697Z"
   },
   {
    "duration": 37,
    "start_time": "2022-10-06T10:39:29.731Z"
   },
   {
    "duration": 44,
    "start_time": "2022-10-06T10:39:29.770Z"
   },
   {
    "duration": 28,
    "start_time": "2022-10-06T10:39:29.817Z"
   },
   {
    "duration": 3,
    "start_time": "2022-10-06T10:39:29.849Z"
   },
   {
    "duration": 53,
    "start_time": "2022-10-06T10:39:29.854Z"
   },
   {
    "duration": 17,
    "start_time": "2022-10-06T10:39:29.909Z"
   },
   {
    "duration": 18,
    "start_time": "2022-10-06T10:39:29.928Z"
   },
   {
    "duration": 12,
    "start_time": "2022-10-06T10:39:29.948Z"
   },
   {
    "duration": 8,
    "start_time": "2022-10-06T10:39:29.961Z"
   },
   {
    "duration": 30,
    "start_time": "2022-10-06T10:39:29.971Z"
   },
   {
    "duration": 27,
    "start_time": "2022-10-06T10:39:30.003Z"
   },
   {
    "duration": 10,
    "start_time": "2022-10-06T10:39:30.032Z"
   },
   {
    "duration": 56,
    "start_time": "2022-10-06T10:39:30.043Z"
   },
   {
    "duration": 19,
    "start_time": "2022-10-06T10:39:30.100Z"
   },
   {
    "duration": 21,
    "start_time": "2022-10-06T10:39:30.121Z"
   },
   {
    "duration": 21,
    "start_time": "2022-10-06T10:39:30.143Z"
   },
   {
    "duration": 116,
    "start_time": "2022-10-06T10:39:30.166Z"
   },
   {
    "duration": 761,
    "start_time": "2022-10-06T10:39:30.284Z"
   },
   {
    "duration": 72,
    "start_time": "2022-10-06T10:39:31.046Z"
   },
   {
    "duration": 77,
    "start_time": "2022-10-06T10:39:31.119Z"
   },
   {
    "duration": 14,
    "start_time": "2022-10-06T10:39:31.197Z"
   },
   {
    "duration": 37,
    "start_time": "2022-10-06T10:39:31.213Z"
   },
   {
    "duration": 32,
    "start_time": "2022-10-06T10:39:31.252Z"
   },
   {
    "duration": 385,
    "start_time": "2022-10-06T10:39:31.285Z"
   },
   {
    "duration": 25,
    "start_time": "2022-10-06T10:39:31.671Z"
   },
   {
    "duration": 4,
    "start_time": "2022-10-06T10:39:31.697Z"
   },
   {
    "duration": 7,
    "start_time": "2022-10-06T10:39:31.702Z"
   },
   {
    "duration": 6,
    "start_time": "2022-10-06T10:39:31.710Z"
   },
   {
    "duration": 5,
    "start_time": "2022-10-06T10:39:31.718Z"
   },
   {
    "duration": 5,
    "start_time": "2022-10-06T10:39:31.724Z"
   },
   {
    "duration": 533,
    "start_time": "2022-10-06T10:39:31.730Z"
   },
   {
    "duration": 14,
    "start_time": "2022-10-06T10:39:32.265Z"
   },
   {
    "duration": 4,
    "start_time": "2022-10-06T10:39:32.295Z"
   },
   {
    "duration": 6,
    "start_time": "2022-10-06T10:39:32.300Z"
   },
   {
    "duration": 12489,
    "start_time": "2022-10-06T10:39:32.308Z"
   },
   {
    "duration": 6,
    "start_time": "2022-10-06T10:39:44.799Z"
   },
   {
    "duration": 310,
    "start_time": "2022-10-06T10:39:44.807Z"
   },
   {
    "duration": 6,
    "start_time": "2022-10-06T10:39:45.119Z"
   },
   {
    "duration": 760,
    "start_time": "2022-10-06T10:39:45.126Z"
   },
   {
    "duration": 137,
    "start_time": "2022-10-06T10:39:45.888Z"
   },
   {
    "duration": 16996,
    "start_time": "2022-10-06T10:39:46.026Z"
   },
   {
    "duration": 300,
    "start_time": "2022-10-06T10:40:03.024Z"
   },
   {
    "duration": 7016,
    "start_time": "2022-10-06T10:40:03.325Z"
   },
   {
    "duration": 422,
    "start_time": "2022-10-06T10:40:10.343Z"
   },
   {
    "duration": 3,
    "start_time": "2022-10-06T10:50:42.788Z"
   },
   {
    "duration": 103,
    "start_time": "2022-10-06T10:50:52.561Z"
   },
   {
    "duration": 3,
    "start_time": "2022-10-06T11:01:26.814Z"
   },
   {
    "duration": 3,
    "start_time": "2022-10-06T11:01:28.858Z"
   },
   {
    "duration": 3,
    "start_time": "2022-10-06T11:01:42.007Z"
   },
   {
    "duration": 3,
    "start_time": "2022-10-06T11:01:43.895Z"
   },
   {
    "duration": 2,
    "start_time": "2022-10-06T11:01:46.148Z"
   },
   {
    "duration": 3,
    "start_time": "2022-10-06T11:01:56.781Z"
   },
   {
    "duration": 4,
    "start_time": "2022-10-06T11:02:00.777Z"
   },
   {
    "duration": 3,
    "start_time": "2022-10-06T11:02:17.410Z"
   },
   {
    "duration": 3,
    "start_time": "2022-10-06T11:02:17.806Z"
   },
   {
    "duration": 3,
    "start_time": "2022-10-06T11:02:18.591Z"
   },
   {
    "duration": 3,
    "start_time": "2022-10-06T11:02:18.895Z"
   },
   {
    "duration": 3,
    "start_time": "2022-10-06T11:02:19.519Z"
   },
   {
    "duration": 3,
    "start_time": "2022-10-06T11:02:20.063Z"
   },
   {
    "duration": 2,
    "start_time": "2022-10-06T11:12:16.477Z"
   },
   {
    "duration": 3,
    "start_time": "2022-10-06T11:14:40.620Z"
   },
   {
    "duration": 4,
    "start_time": "2022-10-06T11:15:19.403Z"
   },
   {
    "duration": 3,
    "start_time": "2022-10-06T11:15:23.807Z"
   },
   {
    "duration": 5,
    "start_time": "2022-10-06T11:15:26.503Z"
   },
   {
    "duration": 4,
    "start_time": "2022-10-06T11:17:57.795Z"
   },
   {
    "duration": 3,
    "start_time": "2022-10-06T11:18:01.046Z"
   },
   {
    "duration": 4,
    "start_time": "2022-10-06T11:18:40.867Z"
   },
   {
    "duration": 569,
    "start_time": "2022-10-06T11:18:45.385Z"
   },
   {
    "duration": 13,
    "start_time": "2022-10-06T11:18:47.976Z"
   },
   {
    "duration": 6,
    "start_time": "2022-10-06T11:18:53.200Z"
   },
   {
    "duration": 18,
    "start_time": "2022-10-06T11:19:37.674Z"
   },
   {
    "duration": 12,
    "start_time": "2022-10-06T11:19:49.933Z"
   },
   {
    "duration": 23,
    "start_time": "2022-10-06T11:19:52.974Z"
   },
   {
    "duration": 21,
    "start_time": "2022-10-06T11:20:21.696Z"
   },
   {
    "duration": 16,
    "start_time": "2022-10-06T11:28:15.392Z"
   },
   {
    "duration": 10,
    "start_time": "2022-10-06T11:28:42.851Z"
   },
   {
    "duration": 29,
    "start_time": "2022-10-06T11:28:47.857Z"
   },
   {
    "duration": 4,
    "start_time": "2022-10-06T11:30:44.734Z"
   },
   {
    "duration": 19,
    "start_time": "2022-10-06T11:30:55.196Z"
   },
   {
    "duration": 4,
    "start_time": "2022-10-06T11:31:16.320Z"
   },
   {
    "duration": 17,
    "start_time": "2022-10-06T11:31:18.176Z"
   },
   {
    "duration": 6,
    "start_time": "2022-10-06T11:38:48.073Z"
   },
   {
    "duration": 588,
    "start_time": "2022-10-06T11:38:59.352Z"
   },
   {
    "duration": 17,
    "start_time": "2022-10-06T11:39:01.640Z"
   },
   {
    "duration": 4,
    "start_time": "2022-10-06T11:39:09.546Z"
   },
   {
    "duration": 30,
    "start_time": "2022-10-06T11:42:06.884Z"
   },
   {
    "duration": 42,
    "start_time": "2022-10-06T11:42:14.505Z"
   },
   {
    "duration": 717,
    "start_time": "2022-10-06T11:42:24.509Z"
   },
   {
    "duration": 17,
    "start_time": "2022-10-06T11:42:53.311Z"
   },
   {
    "duration": 15,
    "start_time": "2022-10-06T11:43:23.617Z"
   },
   {
    "duration": 5,
    "start_time": "2022-10-06T11:44:28.310Z"
   },
   {
    "duration": 28,
    "start_time": "2022-10-06T11:48:15.829Z"
   },
   {
    "duration": 47,
    "start_time": "2022-10-06T11:49:52.557Z"
   },
   {
    "duration": 30,
    "start_time": "2022-10-06T11:50:41.000Z"
   },
   {
    "duration": 37,
    "start_time": "2022-10-06T11:50:51.180Z"
   },
   {
    "duration": 22,
    "start_time": "2022-10-06T11:51:06.541Z"
   },
   {
    "duration": 15,
    "start_time": "2022-10-06T11:51:17.507Z"
   },
   {
    "duration": 5,
    "start_time": "2022-10-06T11:56:14.768Z"
   },
   {
    "duration": 631,
    "start_time": "2022-10-06T11:56:29.055Z"
   },
   {
    "duration": 16,
    "start_time": "2022-10-06T11:56:32.410Z"
   },
   {
    "duration": 20,
    "start_time": "2022-10-06T11:56:37.213Z"
   },
   {
    "duration": 4,
    "start_time": "2022-10-06T11:56:39.869Z"
   },
   {
    "duration": 4,
    "start_time": "2022-10-06T11:59:36.058Z"
   },
   {
    "duration": 4,
    "start_time": "2022-10-06T12:02:25.803Z"
   },
   {
    "duration": 3,
    "start_time": "2022-10-06T12:03:03.684Z"
   },
   {
    "duration": 4,
    "start_time": "2022-10-06T12:03:04.443Z"
   },
   {
    "duration": 3,
    "start_time": "2022-10-06T12:03:05.357Z"
   },
   {
    "duration": 4,
    "start_time": "2022-10-06T13:52:07.462Z"
   },
   {
    "duration": 3,
    "start_time": "2022-10-06T13:57:49.940Z"
   },
   {
    "duration": 1437,
    "start_time": "2022-10-06T14:01:30.735Z"
   },
   {
    "duration": 223,
    "start_time": "2022-10-06T14:01:32.174Z"
   },
   {
    "duration": 86,
    "start_time": "2022-10-06T14:01:32.399Z"
   },
   {
    "duration": 67,
    "start_time": "2022-10-06T14:01:32.496Z"
   },
   {
    "duration": 35,
    "start_time": "2022-10-06T14:01:32.566Z"
   },
   {
    "duration": 19,
    "start_time": "2022-10-06T14:01:32.602Z"
   },
   {
    "duration": 35,
    "start_time": "2022-10-06T14:01:32.622Z"
   },
   {
    "duration": 31,
    "start_time": "2022-10-06T14:01:32.659Z"
   },
   {
    "duration": 85,
    "start_time": "2022-10-06T14:01:32.692Z"
   },
   {
    "duration": 17,
    "start_time": "2022-10-06T14:01:32.779Z"
   },
   {
    "duration": 17,
    "start_time": "2022-10-06T14:01:32.797Z"
   },
   {
    "duration": 16,
    "start_time": "2022-10-06T14:01:32.816Z"
   },
   {
    "duration": 48,
    "start_time": "2022-10-06T14:01:32.833Z"
   },
   {
    "duration": 22,
    "start_time": "2022-10-06T14:01:32.884Z"
   },
   {
    "duration": 7,
    "start_time": "2022-10-06T14:01:32.908Z"
   },
   {
    "duration": 26,
    "start_time": "2022-10-06T14:01:32.916Z"
   },
   {
    "duration": 19,
    "start_time": "2022-10-06T14:01:32.945Z"
   },
   {
    "duration": 19,
    "start_time": "2022-10-06T14:01:32.966Z"
   },
   {
    "duration": 16,
    "start_time": "2022-10-06T14:01:32.987Z"
   },
   {
    "duration": 37,
    "start_time": "2022-10-06T14:01:33.005Z"
   },
   {
    "duration": 18,
    "start_time": "2022-10-06T14:01:33.043Z"
   },
   {
    "duration": 17,
    "start_time": "2022-10-06T14:01:33.063Z"
   },
   {
    "duration": 42,
    "start_time": "2022-10-06T14:01:33.081Z"
   },
   {
    "duration": 58,
    "start_time": "2022-10-06T14:01:33.125Z"
   },
   {
    "duration": 40,
    "start_time": "2022-10-06T14:01:33.185Z"
   },
   {
    "duration": 20,
    "start_time": "2022-10-06T14:01:33.227Z"
   },
   {
    "duration": 64,
    "start_time": "2022-10-06T14:01:33.248Z"
   },
   {
    "duration": 2,
    "start_time": "2022-10-06T14:01:33.314Z"
   },
   {
    "duration": 38,
    "start_time": "2022-10-06T14:01:33.318Z"
   },
   {
    "duration": 14,
    "start_time": "2022-10-06T14:01:33.357Z"
   },
   {
    "duration": 34,
    "start_time": "2022-10-06T14:01:33.373Z"
   },
   {
    "duration": 27,
    "start_time": "2022-10-06T14:01:33.408Z"
   },
   {
    "duration": 21,
    "start_time": "2022-10-06T14:01:33.436Z"
   },
   {
    "duration": 31,
    "start_time": "2022-10-06T14:01:33.458Z"
   },
   {
    "duration": 41,
    "start_time": "2022-10-06T14:01:33.490Z"
   },
   {
    "duration": 21,
    "start_time": "2022-10-06T14:01:33.532Z"
   },
   {
    "duration": 45,
    "start_time": "2022-10-06T14:01:33.555Z"
   },
   {
    "duration": 24,
    "start_time": "2022-10-06T14:01:33.602Z"
   },
   {
    "duration": 21,
    "start_time": "2022-10-06T14:01:33.627Z"
   },
   {
    "duration": 26,
    "start_time": "2022-10-06T14:01:33.649Z"
   },
   {
    "duration": 121,
    "start_time": "2022-10-06T14:01:33.679Z"
   },
   {
    "duration": 683,
    "start_time": "2022-10-06T14:01:33.801Z"
   },
   {
    "duration": 71,
    "start_time": "2022-10-06T14:01:34.486Z"
   },
   {
    "duration": 74,
    "start_time": "2022-10-06T14:01:34.558Z"
   },
   {
    "duration": 13,
    "start_time": "2022-10-06T14:01:34.634Z"
   },
   {
    "duration": 37,
    "start_time": "2022-10-06T14:01:34.648Z"
   },
   {
    "duration": 39,
    "start_time": "2022-10-06T14:01:34.687Z"
   },
   {
    "duration": 437,
    "start_time": "2022-10-06T14:01:34.728Z"
   },
   {
    "duration": 17,
    "start_time": "2022-10-06T14:01:35.166Z"
   },
   {
    "duration": 2,
    "start_time": "2022-10-06T14:01:35.196Z"
   },
   {
    "duration": 7,
    "start_time": "2022-10-06T14:01:35.200Z"
   },
   {
    "duration": 5,
    "start_time": "2022-10-06T14:01:35.208Z"
   },
   {
    "duration": 6,
    "start_time": "2022-10-06T14:01:35.215Z"
   },
   {
    "duration": 6,
    "start_time": "2022-10-06T14:01:35.223Z"
   },
   {
    "duration": 6,
    "start_time": "2022-10-06T14:01:35.231Z"
   },
   {
    "duration": 554,
    "start_time": "2022-10-06T14:01:35.238Z"
   },
   {
    "duration": 15,
    "start_time": "2022-10-06T14:01:35.793Z"
   },
   {
    "duration": 21,
    "start_time": "2022-10-06T14:01:35.810Z"
   },
   {
    "duration": 16,
    "start_time": "2022-10-06T14:01:35.832Z"
   },
   {
    "duration": 13256,
    "start_time": "2022-10-06T14:01:35.849Z"
   },
   {
    "duration": 6,
    "start_time": "2022-10-06T14:01:49.196Z"
   },
   {
    "duration": 307,
    "start_time": "2022-10-06T14:01:49.205Z"
   },
   {
    "duration": 7,
    "start_time": "2022-10-06T14:01:49.513Z"
   },
   {
    "duration": 757,
    "start_time": "2022-10-06T14:01:49.522Z"
   },
   {
    "duration": 130,
    "start_time": "2022-10-06T14:01:50.280Z"
   },
   {
    "duration": 17283,
    "start_time": "2022-10-06T14:01:50.412Z"
   },
   {
    "duration": 283,
    "start_time": "2022-10-06T14:02:07.696Z"
   },
   {
    "duration": 6898,
    "start_time": "2022-10-06T14:02:07.980Z"
   },
   {
    "duration": 438,
    "start_time": "2022-10-06T14:02:14.880Z"
   },
   {
    "duration": 3,
    "start_time": "2022-10-06T14:02:15.319Z"
   },
   {
    "duration": 644,
    "start_time": "2022-10-06T14:02:15.324Z"
   },
   {
    "duration": 17,
    "start_time": "2022-10-06T14:02:15.970Z"
   },
   {
    "duration": 24,
    "start_time": "2022-10-06T14:02:15.995Z"
   },
   {
    "duration": 3,
    "start_time": "2022-10-06T14:02:16.021Z"
   },
   {
    "duration": 7,
    "start_time": "2022-10-06T14:02:16.025Z"
   },
   {
    "duration": 12,
    "start_time": "2022-10-06T14:02:16.033Z"
   },
   {
    "duration": 110,
    "start_time": "2022-10-06T14:17:01.357Z"
   },
   {
    "duration": 20,
    "start_time": "2022-10-06T14:17:14.458Z"
   },
   {
    "duration": 19,
    "start_time": "2022-10-06T14:17:37.875Z"
   },
   {
    "duration": 21,
    "start_time": "2022-10-06T14:17:47.019Z"
   },
   {
    "duration": 16,
    "start_time": "2022-10-06T14:17:51.764Z"
   },
   {
    "duration": 36,
    "start_time": "2022-10-06T14:18:38.829Z"
   },
   {
    "duration": 17,
    "start_time": "2022-10-06T14:18:44.639Z"
   },
   {
    "duration": 25,
    "start_time": "2022-10-06T14:19:40.298Z"
   },
   {
    "duration": 30,
    "start_time": "2022-10-06T14:25:33.582Z"
   },
   {
    "duration": 29,
    "start_time": "2022-10-06T14:25:38.154Z"
   },
   {
    "duration": 75,
    "start_time": "2022-10-06T14:29:01.442Z"
   },
   {
    "duration": 42,
    "start_time": "2022-10-06T14:29:06.882Z"
   },
   {
    "duration": 40,
    "start_time": "2022-10-06T14:29:18.475Z"
   },
   {
    "duration": 32,
    "start_time": "2022-10-06T14:29:40.979Z"
   },
   {
    "duration": 11,
    "start_time": "2022-10-06T14:30:10.673Z"
   },
   {
    "duration": 27,
    "start_time": "2022-10-06T14:30:16.691Z"
   },
   {
    "duration": 21,
    "start_time": "2022-10-06T14:32:52.860Z"
   },
   {
    "duration": 6,
    "start_time": "2022-10-06T14:34:33.572Z"
   },
   {
    "duration": 5,
    "start_time": "2022-10-06T14:34:40.814Z"
   },
   {
    "duration": 20,
    "start_time": "2022-10-06T14:34:44.258Z"
   },
   {
    "duration": 19,
    "start_time": "2022-10-06T14:35:06.082Z"
   },
   {
    "duration": 4,
    "start_time": "2022-10-06T14:35:10.537Z"
   },
   {
    "duration": 31,
    "start_time": "2022-10-06T14:36:16.513Z"
   },
   {
    "duration": 4,
    "start_time": "2022-10-06T14:36:56.914Z"
   },
   {
    "duration": 13,
    "start_time": "2022-10-06T14:37:00.635Z"
   },
   {
    "duration": 17,
    "start_time": "2022-10-06T14:39:02.480Z"
   },
   {
    "duration": 3,
    "start_time": "2022-10-06T14:39:14.357Z"
   },
   {
    "duration": 725,
    "start_time": "2022-10-06T14:39:31.464Z"
   },
   {
    "duration": 4,
    "start_time": "2022-10-06T14:40:10.828Z"
   },
   {
    "duration": 210,
    "start_time": "2022-10-06T14:40:10.834Z"
   },
   {
    "duration": 87,
    "start_time": "2022-10-06T14:40:11.046Z"
   },
   {
    "duration": 75,
    "start_time": "2022-10-06T14:40:11.135Z"
   },
   {
    "duration": 24,
    "start_time": "2022-10-06T14:40:11.212Z"
   },
   {
    "duration": 19,
    "start_time": "2022-10-06T14:40:11.238Z"
   },
   {
    "duration": 90,
    "start_time": "2022-10-06T14:40:11.259Z"
   },
   {
    "duration": 18,
    "start_time": "2022-10-06T14:40:11.351Z"
   },
   {
    "duration": 28,
    "start_time": "2022-10-06T14:40:11.372Z"
   },
   {
    "duration": 24,
    "start_time": "2022-10-06T14:40:11.402Z"
   },
   {
    "duration": 4,
    "start_time": "2022-10-06T14:40:11.428Z"
   },
   {
    "duration": 30,
    "start_time": "2022-10-06T14:40:11.434Z"
   },
   {
    "duration": 49,
    "start_time": "2022-10-06T14:40:11.466Z"
   },
   {
    "duration": 4,
    "start_time": "2022-10-06T14:40:11.517Z"
   },
   {
    "duration": 27,
    "start_time": "2022-10-06T14:40:11.523Z"
   },
   {
    "duration": 4,
    "start_time": "2022-10-06T14:40:17.678Z"
   },
   {
    "duration": 30,
    "start_time": "2022-10-06T14:40:22.864Z"
   },
   {
    "duration": 1209,
    "start_time": "2022-10-06T14:40:43.938Z"
   },
   {
    "duration": 4,
    "start_time": "2022-10-06T14:41:20.540Z"
   },
   {
    "duration": 193,
    "start_time": "2022-10-06T14:41:20.546Z"
   },
   {
    "duration": 84,
    "start_time": "2022-10-06T14:41:20.741Z"
   },
   {
    "duration": 81,
    "start_time": "2022-10-06T14:41:20.828Z"
   },
   {
    "duration": 22,
    "start_time": "2022-10-06T14:41:20.910Z"
   },
   {
    "duration": 18,
    "start_time": "2022-10-06T14:41:20.934Z"
   },
   {
    "duration": 92,
    "start_time": "2022-10-06T14:41:20.954Z"
   },
   {
    "duration": 17,
    "start_time": "2022-10-06T14:41:21.048Z"
   },
   {
    "duration": 28,
    "start_time": "2022-10-06T14:41:21.067Z"
   },
   {
    "duration": 25,
    "start_time": "2022-10-06T14:41:54.270Z"
   },
   {
    "duration": 4,
    "start_time": "2022-10-06T14:41:59.317Z"
   },
   {
    "duration": 24,
    "start_time": "2022-10-06T14:42:01.604Z"
   },
   {
    "duration": 23,
    "start_time": "2022-10-06T14:43:01.729Z"
   },
   {
    "duration": 109,
    "start_time": "2022-10-06T14:43:29.787Z"
   },
   {
    "duration": 14,
    "start_time": "2022-10-06T14:43:44.099Z"
   },
   {
    "duration": 11,
    "start_time": "2022-10-06T14:43:49.693Z"
   },
   {
    "duration": 22,
    "start_time": "2022-10-06T14:43:58.789Z"
   },
   {
    "duration": 4,
    "start_time": "2022-10-06T14:44:02.149Z"
   },
   {
    "duration": 19,
    "start_time": "2022-10-06T14:44:04.293Z"
   },
   {
    "duration": 15,
    "start_time": "2022-10-06T14:44:20.369Z"
   },
   {
    "duration": 4,
    "start_time": "2022-10-06T14:44:23.805Z"
   },
   {
    "duration": 13,
    "start_time": "2022-10-06T14:44:27.889Z"
   },
   {
    "duration": 3,
    "start_time": "2022-10-06T14:44:36.215Z"
   },
   {
    "duration": 185,
    "start_time": "2022-10-06T14:44:36.220Z"
   },
   {
    "duration": 77,
    "start_time": "2022-10-06T14:44:36.407Z"
   },
   {
    "duration": 82,
    "start_time": "2022-10-06T14:44:36.486Z"
   },
   {
    "duration": 43,
    "start_time": "2022-10-06T14:44:36.570Z"
   },
   {
    "duration": 21,
    "start_time": "2022-10-06T14:44:36.615Z"
   },
   {
    "duration": 97,
    "start_time": "2022-10-06T14:44:36.638Z"
   },
   {
    "duration": 23,
    "start_time": "2022-10-06T14:44:36.737Z"
   },
   {
    "duration": 34,
    "start_time": "2022-10-06T14:44:36.764Z"
   },
   {
    "duration": 27,
    "start_time": "2022-10-06T14:44:36.800Z"
   },
   {
    "duration": 4,
    "start_time": "2022-10-06T14:44:36.828Z"
   },
   {
    "duration": 27,
    "start_time": "2022-10-06T14:44:36.834Z"
   },
   {
    "duration": 42,
    "start_time": "2022-10-06T14:44:36.862Z"
   },
   {
    "duration": 3,
    "start_time": "2022-10-06T14:44:36.906Z"
   },
   {
    "duration": 22,
    "start_time": "2022-10-06T14:44:36.911Z"
   },
   {
    "duration": 20,
    "start_time": "2022-10-06T14:45:32.494Z"
   },
   {
    "duration": 20,
    "start_time": "2022-10-06T14:45:36.982Z"
   },
   {
    "duration": 6,
    "start_time": "2022-10-06T14:45:48.052Z"
   },
   {
    "duration": 20,
    "start_time": "2022-10-06T14:46:00.469Z"
   },
   {
    "duration": 5,
    "start_time": "2022-10-06T14:46:53.354Z"
   },
   {
    "duration": 20,
    "start_time": "2022-10-06T14:46:54.833Z"
   },
   {
    "duration": 20,
    "start_time": "2022-10-06T14:46:56.903Z"
   },
   {
    "duration": 6,
    "start_time": "2022-10-06T14:46:59.851Z"
   },
   {
    "duration": 16,
    "start_time": "2022-10-06T14:47:00.570Z"
   },
   {
    "duration": 18,
    "start_time": "2022-10-06T14:47:04.265Z"
   },
   {
    "duration": 5,
    "start_time": "2022-10-06T14:47:13.529Z"
   },
   {
    "duration": 3,
    "start_time": "2022-10-06T14:47:20.034Z"
   },
   {
    "duration": 8,
    "start_time": "2022-10-06T14:47:25.464Z"
   },
   {
    "duration": 7,
    "start_time": "2022-10-06T14:47:26.191Z"
   },
   {
    "duration": 5,
    "start_time": "2022-10-06T14:47:26.814Z"
   },
   {
    "duration": 6,
    "start_time": "2022-10-06T14:47:30.996Z"
   },
   {
    "duration": 17,
    "start_time": "2022-10-06T14:47:33.255Z"
   },
   {
    "duration": 31,
    "start_time": "2022-10-06T14:47:46.228Z"
   },
   {
    "duration": 82,
    "start_time": "2022-10-06T15:08:33.124Z"
   },
   {
    "duration": 5,
    "start_time": "2022-10-06T15:13:33.437Z"
   },
   {
    "duration": 198,
    "start_time": "2022-10-06T15:13:33.444Z"
   },
   {
    "duration": 76,
    "start_time": "2022-10-06T15:13:33.644Z"
   },
   {
    "duration": 74,
    "start_time": "2022-10-06T15:13:33.722Z"
   },
   {
    "duration": 24,
    "start_time": "2022-10-06T15:13:33.798Z"
   },
   {
    "duration": 20,
    "start_time": "2022-10-06T15:13:33.824Z"
   },
   {
    "duration": 98,
    "start_time": "2022-10-06T15:13:33.846Z"
   },
   {
    "duration": 18,
    "start_time": "2022-10-06T15:13:33.946Z"
   },
   {
    "duration": 30,
    "start_time": "2022-10-06T15:13:33.965Z"
   },
   {
    "duration": 25,
    "start_time": "2022-10-06T15:13:33.998Z"
   },
   {
    "duration": 4,
    "start_time": "2022-10-06T15:13:34.024Z"
   },
   {
    "duration": 23,
    "start_time": "2022-10-06T15:13:34.030Z"
   },
   {
    "duration": 4,
    "start_time": "2022-10-06T15:13:34.054Z"
   },
   {
    "duration": 9,
    "start_time": "2022-10-06T15:13:34.059Z"
   },
   {
    "duration": 46,
    "start_time": "2022-10-06T15:13:34.069Z"
   },
   {
    "duration": 21,
    "start_time": "2022-10-06T15:13:34.116Z"
   },
   {
    "duration": 4,
    "start_time": "2022-10-06T15:13:34.138Z"
   },
   {
    "duration": 19,
    "start_time": "2022-10-06T15:13:34.144Z"
   },
   {
    "duration": 43,
    "start_time": "2022-10-06T15:13:34.165Z"
   },
   {
    "duration": 5,
    "start_time": "2022-10-06T15:13:34.210Z"
   },
   {
    "duration": 10,
    "start_time": "2022-10-06T15:13:34.217Z"
   },
   {
    "duration": 14,
    "start_time": "2022-10-06T15:13:34.228Z"
   },
   {
    "duration": 6,
    "start_time": "2022-10-06T15:13:34.244Z"
   },
   {
    "duration": 5,
    "start_time": "2022-10-06T15:13:34.251Z"
   },
   {
    "duration": 58,
    "start_time": "2022-10-06T15:13:34.258Z"
   },
   {
    "duration": 37,
    "start_time": "2022-10-06T15:13:34.318Z"
   },
   {
    "duration": 41,
    "start_time": "2022-10-06T15:13:34.356Z"
   },
   {
    "duration": 29,
    "start_time": "2022-10-06T15:13:34.401Z"
   },
   {
    "duration": 3,
    "start_time": "2022-10-06T15:13:34.431Z"
   },
   {
    "duration": 31,
    "start_time": "2022-10-06T15:13:34.436Z"
   },
   {
    "duration": 33,
    "start_time": "2022-10-06T15:13:34.468Z"
   },
   {
    "duration": 18,
    "start_time": "2022-10-06T15:13:34.503Z"
   },
   {
    "duration": 7,
    "start_time": "2022-10-06T15:13:34.523Z"
   },
   {
    "duration": 6,
    "start_time": "2022-10-06T15:13:34.532Z"
   },
   {
    "duration": 12,
    "start_time": "2022-10-06T15:13:34.539Z"
   },
   {
    "duration": 43,
    "start_time": "2022-10-06T15:13:34.552Z"
   },
   {
    "duration": 10,
    "start_time": "2022-10-06T15:13:34.597Z"
   },
   {
    "duration": 31,
    "start_time": "2022-10-06T15:13:34.609Z"
   },
   {
    "duration": 19,
    "start_time": "2022-10-06T15:13:34.642Z"
   },
   {
    "duration": 10,
    "start_time": "2022-10-06T15:13:34.662Z"
   },
   {
    "duration": 6,
    "start_time": "2022-10-06T15:13:34.695Z"
   },
   {
    "duration": 108,
    "start_time": "2022-10-06T15:13:34.702Z"
   },
   {
    "duration": 24,
    "start_time": "2022-10-06T15:13:34.811Z"
   },
   {
    "duration": 15,
    "start_time": "2022-10-06T15:13:34.838Z"
   },
   {
    "duration": 624,
    "start_time": "2022-10-06T15:13:47.262Z"
   },
   {
    "duration": 62,
    "start_time": "2022-10-06T15:14:00.659Z"
   },
   {
    "duration": 61,
    "start_time": "2022-10-06T15:15:37.295Z"
   },
   {
    "duration": 63,
    "start_time": "2022-10-06T15:15:38.416Z"
   },
   {
    "duration": 14,
    "start_time": "2022-10-06T15:19:36.493Z"
   },
   {
    "duration": 15,
    "start_time": "2022-10-06T15:19:36.594Z"
   },
   {
    "duration": 4,
    "start_time": "2022-10-06T15:19:43.450Z"
   },
   {
    "duration": 220,
    "start_time": "2022-10-06T15:19:43.457Z"
   },
   {
    "duration": 76,
    "start_time": "2022-10-06T15:19:43.678Z"
   },
   {
    "duration": 74,
    "start_time": "2022-10-06T15:19:43.756Z"
   },
   {
    "duration": 25,
    "start_time": "2022-10-06T15:19:43.832Z"
   },
   {
    "duration": 37,
    "start_time": "2022-10-06T15:19:43.858Z"
   },
   {
    "duration": 74,
    "start_time": "2022-10-06T15:19:43.897Z"
   },
   {
    "duration": 34,
    "start_time": "2022-10-06T15:19:43.974Z"
   },
   {
    "duration": 13,
    "start_time": "2022-10-06T15:19:44.010Z"
   },
   {
    "duration": 24,
    "start_time": "2022-10-06T15:19:44.025Z"
   },
   {
    "duration": 5,
    "start_time": "2022-10-06T15:19:44.051Z"
   },
   {
    "duration": 54,
    "start_time": "2022-10-06T15:19:44.057Z"
   },
   {
    "duration": 3,
    "start_time": "2022-10-06T15:19:44.115Z"
   },
   {
    "duration": 7,
    "start_time": "2022-10-06T15:19:44.120Z"
   },
   {
    "duration": 19,
    "start_time": "2022-10-06T15:19:44.129Z"
   },
   {
    "duration": 46,
    "start_time": "2022-10-06T15:19:44.150Z"
   },
   {
    "duration": 5,
    "start_time": "2022-10-06T15:19:44.198Z"
   },
   {
    "duration": 24,
    "start_time": "2022-10-06T15:19:44.204Z"
   },
   {
    "duration": 19,
    "start_time": "2022-10-06T15:19:44.230Z"
   },
   {
    "duration": 6,
    "start_time": "2022-10-06T15:19:44.250Z"
   },
   {
    "duration": 5,
    "start_time": "2022-10-06T15:19:44.257Z"
   },
   {
    "duration": 34,
    "start_time": "2022-10-06T15:19:44.264Z"
   },
   {
    "duration": 16,
    "start_time": "2022-10-06T15:19:44.300Z"
   },
   {
    "duration": 13,
    "start_time": "2022-10-06T15:19:44.318Z"
   },
   {
    "duration": 36,
    "start_time": "2022-10-06T15:19:44.333Z"
   },
   {
    "duration": 61,
    "start_time": "2022-10-06T15:19:44.370Z"
   },
   {
    "duration": 22,
    "start_time": "2022-10-06T15:19:44.433Z"
   },
   {
    "duration": 49,
    "start_time": "2022-10-06T15:19:44.457Z"
   },
   {
    "duration": 4,
    "start_time": "2022-10-06T15:19:44.508Z"
   },
   {
    "duration": 33,
    "start_time": "2022-10-06T15:19:44.513Z"
   },
   {
    "duration": 18,
    "start_time": "2022-10-06T15:19:44.548Z"
   },
   {
    "duration": 42,
    "start_time": "2022-10-06T15:19:44.567Z"
   },
   {
    "duration": 9,
    "start_time": "2022-10-06T15:19:44.611Z"
   },
   {
    "duration": 5,
    "start_time": "2022-10-06T15:19:44.622Z"
   },
   {
    "duration": 12,
    "start_time": "2022-10-06T15:19:44.629Z"
   },
   {
    "duration": 16,
    "start_time": "2022-10-06T15:19:44.643Z"
   },
   {
    "duration": 9,
    "start_time": "2022-10-06T15:20:05.694Z"
   },
   {
    "duration": 9,
    "start_time": "2022-10-06T15:20:27.273Z"
   },
   {
    "duration": 33,
    "start_time": "2022-10-06T15:20:30.212Z"
   },
   {
    "duration": 18,
    "start_time": "2022-10-06T15:20:32.459Z"
   },
   {
    "duration": 7,
    "start_time": "2022-10-06T15:20:34.496Z"
   },
   {
    "duration": 6,
    "start_time": "2022-10-06T15:20:37.352Z"
   },
   {
    "duration": 97,
    "start_time": "2022-10-06T15:20:39.438Z"
   },
   {
    "duration": 22,
    "start_time": "2022-10-06T15:20:42.733Z"
   },
   {
    "duration": 15,
    "start_time": "2022-10-06T15:21:45.407Z"
   },
   {
    "duration": 13,
    "start_time": "2022-10-06T15:21:49.171Z"
   },
   {
    "duration": 4,
    "start_time": "2022-10-06T15:21:53.518Z"
   },
   {
    "duration": 197,
    "start_time": "2022-10-06T15:21:53.524Z"
   },
   {
    "duration": 79,
    "start_time": "2022-10-06T15:21:53.723Z"
   },
   {
    "duration": 66,
    "start_time": "2022-10-06T15:21:53.805Z"
   },
   {
    "duration": 39,
    "start_time": "2022-10-06T15:21:53.873Z"
   },
   {
    "duration": 21,
    "start_time": "2022-10-06T15:21:53.914Z"
   },
   {
    "duration": 91,
    "start_time": "2022-10-06T15:21:53.937Z"
   },
   {
    "duration": 17,
    "start_time": "2022-10-06T15:21:54.029Z"
   },
   {
    "duration": 10,
    "start_time": "2022-10-06T15:21:54.048Z"
   },
   {
    "duration": 38,
    "start_time": "2022-10-06T15:21:54.060Z"
   },
   {
    "duration": 4,
    "start_time": "2022-10-06T15:21:54.101Z"
   },
   {
    "duration": 26,
    "start_time": "2022-10-06T15:21:54.106Z"
   },
   {
    "duration": 3,
    "start_time": "2022-10-06T15:21:54.134Z"
   },
   {
    "duration": 6,
    "start_time": "2022-10-06T15:21:54.139Z"
   },
   {
    "duration": 20,
    "start_time": "2022-10-06T15:21:54.146Z"
   },
   {
    "duration": 46,
    "start_time": "2022-10-06T15:21:54.168Z"
   },
   {
    "duration": 4,
    "start_time": "2022-10-06T15:21:54.216Z"
   },
   {
    "duration": 20,
    "start_time": "2022-10-06T15:21:54.221Z"
   },
   {
    "duration": 19,
    "start_time": "2022-10-06T15:21:54.242Z"
   },
   {
    "duration": 34,
    "start_time": "2022-10-06T15:21:54.262Z"
   },
   {
    "duration": 6,
    "start_time": "2022-10-06T15:21:54.298Z"
   },
   {
    "duration": 9,
    "start_time": "2022-10-06T15:21:54.305Z"
   },
   {
    "duration": 5,
    "start_time": "2022-10-06T15:21:54.316Z"
   },
   {
    "duration": 7,
    "start_time": "2022-10-06T15:21:54.322Z"
   },
   {
    "duration": 33,
    "start_time": "2022-10-06T15:21:54.330Z"
   },
   {
    "duration": 57,
    "start_time": "2022-10-06T15:21:54.365Z"
   },
   {
    "duration": 22,
    "start_time": "2022-10-06T15:21:54.423Z"
   },
   {
    "duration": 25,
    "start_time": "2022-10-06T15:21:54.447Z"
   },
   {
    "duration": 19,
    "start_time": "2022-10-06T15:21:54.476Z"
   },
   {
    "duration": 30,
    "start_time": "2022-10-06T15:21:54.497Z"
   },
   {
    "duration": 14,
    "start_time": "2022-10-06T15:21:54.529Z"
   },
   {
    "duration": 16,
    "start_time": "2022-10-06T15:21:54.544Z"
   },
   {
    "duration": 7,
    "start_time": "2022-10-06T15:21:54.562Z"
   },
   {
    "duration": 29,
    "start_time": "2022-10-06T15:21:54.570Z"
   },
   {
    "duration": 10,
    "start_time": "2022-10-06T15:21:54.601Z"
   },
   {
    "duration": 9,
    "start_time": "2022-10-06T15:21:54.612Z"
   },
   {
    "duration": 11,
    "start_time": "2022-10-06T15:21:54.622Z"
   },
   {
    "duration": 45,
    "start_time": "2022-10-06T15:21:54.634Z"
   },
   {
    "duration": 25,
    "start_time": "2022-10-06T15:21:54.681Z"
   },
   {
    "duration": 9,
    "start_time": "2022-10-06T15:21:54.708Z"
   },
   {
    "duration": 7,
    "start_time": "2022-10-06T15:21:54.719Z"
   },
   {
    "duration": 110,
    "start_time": "2022-10-06T15:21:54.727Z"
   },
   {
    "duration": 21,
    "start_time": "2022-10-06T15:21:57.554Z"
   },
   {
    "duration": 15,
    "start_time": "2022-10-06T15:21:59.840Z"
   },
   {
    "duration": 630,
    "start_time": "2022-10-06T15:22:03.451Z"
   },
   {
    "duration": 68,
    "start_time": "2022-10-06T15:22:07.184Z"
   },
   {
    "duration": 51,
    "start_time": "2022-10-06T15:22:30.720Z"
   },
   {
    "duration": 14,
    "start_time": "2022-10-06T15:22:33.758Z"
   },
   {
    "duration": 63,
    "start_time": "2022-10-06T15:24:48.883Z"
   },
   {
    "duration": 11,
    "start_time": "2022-10-06T15:25:38.065Z"
   },
   {
    "duration": 30,
    "start_time": "2022-10-06T15:25:55.149Z"
   },
   {
    "duration": 17,
    "start_time": "2022-10-06T15:26:42.081Z"
   },
   {
    "duration": 5,
    "start_time": "2022-10-06T15:27:22.215Z"
   },
   {
    "duration": 6,
    "start_time": "2022-10-06T15:27:30.599Z"
   },
   {
    "duration": 5,
    "start_time": "2022-10-06T15:27:34.370Z"
   },
   {
    "duration": 22,
    "start_time": "2022-10-06T15:29:57.350Z"
   },
   {
    "duration": 13,
    "start_time": "2022-10-06T15:30:06.400Z"
   },
   {
    "duration": 4,
    "start_time": "2022-10-06T15:31:10.967Z"
   },
   {
    "duration": 12,
    "start_time": "2022-10-06T15:31:13.733Z"
   },
   {
    "duration": 3,
    "start_time": "2022-10-06T15:33:00.125Z"
   },
   {
    "duration": 94,
    "start_time": "2022-10-06T15:33:02.610Z"
   },
   {
    "duration": 16,
    "start_time": "2022-10-06T15:33:05.625Z"
   },
   {
    "duration": 15,
    "start_time": "2022-10-06T15:33:12.702Z"
   },
   {
    "duration": 5,
    "start_time": "2022-10-06T15:34:10.529Z"
   },
   {
    "duration": 202,
    "start_time": "2022-10-06T15:34:10.535Z"
   },
   {
    "duration": 87,
    "start_time": "2022-10-06T15:34:10.738Z"
   },
   {
    "duration": 74,
    "start_time": "2022-10-06T15:34:10.828Z"
   },
   {
    "duration": 25,
    "start_time": "2022-10-06T15:34:10.904Z"
   },
   {
    "duration": 18,
    "start_time": "2022-10-06T15:34:10.930Z"
   },
   {
    "duration": 88,
    "start_time": "2022-10-06T15:34:10.950Z"
   },
   {
    "duration": 17,
    "start_time": "2022-10-06T15:34:11.040Z"
   },
   {
    "duration": 11,
    "start_time": "2022-10-06T15:34:11.059Z"
   },
   {
    "duration": 44,
    "start_time": "2022-10-06T15:34:11.072Z"
   },
   {
    "duration": 3,
    "start_time": "2022-10-06T15:34:11.118Z"
   },
   {
    "duration": 22,
    "start_time": "2022-10-06T15:34:11.123Z"
   },
   {
    "duration": 4,
    "start_time": "2022-10-06T15:34:11.146Z"
   },
   {
    "duration": 6,
    "start_time": "2022-10-06T15:34:11.151Z"
   },
   {
    "duration": 44,
    "start_time": "2022-10-06T15:34:11.159Z"
   },
   {
    "duration": 19,
    "start_time": "2022-10-06T15:34:11.204Z"
   },
   {
    "duration": 4,
    "start_time": "2022-10-06T15:34:11.224Z"
   },
   {
    "duration": 15,
    "start_time": "2022-10-06T15:34:11.230Z"
   },
   {
    "duration": 17,
    "start_time": "2022-10-06T15:34:11.247Z"
   },
   {
    "duration": 31,
    "start_time": "2022-10-06T15:34:11.265Z"
   },
   {
    "duration": 4,
    "start_time": "2022-10-06T15:34:11.298Z"
   },
   {
    "duration": 11,
    "start_time": "2022-10-06T15:34:11.304Z"
   },
   {
    "duration": 6,
    "start_time": "2022-10-06T15:34:11.317Z"
   },
   {
    "duration": 9,
    "start_time": "2022-10-06T15:34:11.324Z"
   },
   {
    "duration": 61,
    "start_time": "2022-10-06T15:34:11.334Z"
   },
   {
    "duration": 37,
    "start_time": "2022-10-06T15:34:11.397Z"
   },
   {
    "duration": 21,
    "start_time": "2022-10-06T15:34:11.435Z"
   },
   {
    "duration": 48,
    "start_time": "2022-10-06T15:34:11.459Z"
   },
   {
    "duration": 5,
    "start_time": "2022-10-06T15:34:11.509Z"
   },
   {
    "duration": 43,
    "start_time": "2022-10-06T15:34:11.516Z"
   },
   {
    "duration": 18,
    "start_time": "2022-10-06T15:34:11.561Z"
   },
   {
    "duration": 27,
    "start_time": "2022-10-06T15:34:11.581Z"
   },
   {
    "duration": 12,
    "start_time": "2022-10-06T15:34:11.610Z"
   },
   {
    "duration": 9,
    "start_time": "2022-10-06T15:34:11.624Z"
   },
   {
    "duration": 15,
    "start_time": "2022-10-06T15:34:11.635Z"
   },
   {
    "duration": 14,
    "start_time": "2022-10-06T15:34:11.651Z"
   },
   {
    "duration": 32,
    "start_time": "2022-10-06T15:34:11.667Z"
   },
   {
    "duration": 36,
    "start_time": "2022-10-06T15:34:11.701Z"
   },
   {
    "duration": 19,
    "start_time": "2022-10-06T15:34:11.738Z"
   },
   {
    "duration": 9,
    "start_time": "2022-10-06T15:34:11.759Z"
   },
   {
    "duration": 26,
    "start_time": "2022-10-06T15:34:11.770Z"
   },
   {
    "duration": 100,
    "start_time": "2022-10-06T15:34:11.797Z"
   },
   {
    "duration": 21,
    "start_time": "2022-10-06T15:34:11.899Z"
   },
   {
    "duration": 14,
    "start_time": "2022-10-06T15:34:11.921Z"
   },
   {
    "duration": 748,
    "start_time": "2022-10-06T15:34:11.936Z"
   },
   {
    "duration": 70,
    "start_time": "2022-10-06T15:34:12.686Z"
   },
   {
    "duration": 61,
    "start_time": "2022-10-06T15:34:12.758Z"
   },
   {
    "duration": 16,
    "start_time": "2022-10-06T15:34:12.822Z"
   },
   {
    "duration": 14,
    "start_time": "2022-10-06T15:34:12.839Z"
   },
   {
    "duration": 56,
    "start_time": "2022-10-06T15:34:12.855Z"
   },
   {
    "duration": 5,
    "start_time": "2022-10-06T15:34:12.913Z"
   },
   {
    "duration": 6,
    "start_time": "2022-10-06T15:34:12.920Z"
   },
   {
    "duration": 21,
    "start_time": "2022-10-06T15:34:12.928Z"
   },
   {
    "duration": 2,
    "start_time": "2022-10-06T15:34:12.951Z"
   },
   {
    "duration": 115,
    "start_time": "2022-10-06T15:34:12.955Z"
   },
   {
    "duration": 16,
    "start_time": "2022-10-06T15:34:13.071Z"
   },
   {
    "duration": 14,
    "start_time": "2022-10-06T15:34:13.096Z"
   },
   {
    "duration": 2,
    "start_time": "2022-10-06T15:34:13.112Z"
   },
   {
    "duration": 5,
    "start_time": "2022-10-06T15:34:13.116Z"
   },
   {
    "duration": 5,
    "start_time": "2022-10-06T15:34:13.122Z"
   },
   {
    "duration": 5,
    "start_time": "2022-10-06T15:34:13.129Z"
   },
   {
    "duration": 6,
    "start_time": "2022-10-06T15:34:13.135Z"
   },
   {
    "duration": 8,
    "start_time": "2022-10-06T15:34:13.142Z"
   },
   {
    "duration": 573,
    "start_time": "2022-10-06T15:34:13.151Z"
   },
   {
    "duration": 21,
    "start_time": "2022-10-06T15:34:13.726Z"
   },
   {
    "duration": 5,
    "start_time": "2022-10-06T15:34:13.749Z"
   },
   {
    "duration": 4,
    "start_time": "2022-10-06T15:34:21.713Z"
   },
   {
    "duration": 18342,
    "start_time": "2022-10-06T15:36:08.772Z"
   },
   {
    "duration": 16849,
    "start_time": "2022-10-06T15:37:10.568Z"
   },
   {
    "duration": 6594,
    "start_time": "2022-10-06T15:38:21.722Z"
   },
   {
    "duration": 16882,
    "start_time": "2022-10-06T15:38:47.941Z"
   },
   {
    "duration": 64190,
    "start_time": "2022-10-06T15:46:26.606Z"
   },
   {
    "duration": 69597,
    "start_time": "2022-10-06T15:48:24.406Z"
   },
   {
    "duration": 16,
    "start_time": "2022-10-06T15:50:03.600Z"
   },
   {
    "duration": 1215,
    "start_time": "2022-10-06T15:51:55.720Z"
   },
   {
    "duration": 20763,
    "start_time": "2022-10-06T15:51:59.565Z"
   },
   {
    "duration": 1360,
    "start_time": "2022-10-06T15:53:03.417Z"
   },
   {
    "duration": 1238,
    "start_time": "2022-10-06T15:53:09.035Z"
   },
   {
    "duration": 1163,
    "start_time": "2022-10-06T15:53:15.177Z"
   },
   {
    "duration": 67,
    "start_time": "2022-10-06T15:53:30.907Z"
   },
   {
    "duration": 20440,
    "start_time": "2022-10-06T15:53:42.151Z"
   },
   {
    "duration": 21372,
    "start_time": "2022-10-06T15:54:13.365Z"
   },
   {
    "duration": 66673,
    "start_time": "2022-10-06T15:58:51.428Z"
   },
   {
    "duration": 1175,
    "start_time": "2022-10-06T16:00:20.772Z"
   },
   {
    "duration": 20537,
    "start_time": "2022-10-06T16:00:27.592Z"
   },
   {
    "duration": 11376,
    "start_time": "2022-10-06T16:01:05.302Z"
   },
   {
    "duration": 19990,
    "start_time": "2022-10-06T16:01:24.375Z"
   },
   {
    "duration": 4,
    "start_time": "2022-10-06T16:05:39.266Z"
   },
   {
    "duration": 29888,
    "start_time": "2022-10-06T16:12:02.859Z"
   },
   {
    "duration": 52875,
    "start_time": "2022-10-06T16:13:24.802Z"
   },
   {
    "duration": 5,
    "start_time": "2022-10-06T16:16:47.993Z"
   },
   {
    "duration": 280,
    "start_time": "2022-10-06T16:16:51.098Z"
   },
   {
    "duration": 290,
    "start_time": "2022-10-06T16:17:14.713Z"
   },
   {
    "duration": 490,
    "start_time": "2022-10-06T16:17:54.730Z"
   },
   {
    "duration": 96245,
    "start_time": "2022-10-06T16:20:50.524Z"
   },
   {
    "duration": 4,
    "start_time": "2022-10-06T16:22:40.343Z"
   },
   {
    "duration": 392,
    "start_time": "2022-10-06T16:22:47.016Z"
   },
   {
    "duration": 498,
    "start_time": "2022-10-06T16:22:56.782Z"
   },
   {
    "duration": 3685,
    "start_time": "2022-10-06T16:24:49.368Z"
   },
   {
    "duration": 94705,
    "start_time": "2022-10-06T16:25:31.116Z"
   },
   {
    "duration": 938,
    "start_time": "2022-10-06T16:31:38.769Z"
   },
   {
    "duration": 4,
    "start_time": "2022-10-06T16:32:18.760Z"
   },
   {
    "duration": 636,
    "start_time": "2022-10-06T16:32:21.705Z"
   },
   {
    "duration": 843,
    "start_time": "2022-10-06T16:32:52.666Z"
   },
   {
    "duration": 987,
    "start_time": "2022-10-06T16:33:27.034Z"
   },
   {
    "duration": 10,
    "start_time": "2022-10-06T16:34:24.798Z"
   },
   {
    "duration": 745,
    "start_time": "2022-10-06T16:34:33.120Z"
   },
   {
    "duration": 17,
    "start_time": "2022-10-06T16:34:35.969Z"
   },
   {
    "duration": 17,
    "start_time": "2022-10-06T16:34:40.313Z"
   },
   {
    "duration": 23,
    "start_time": "2022-10-06T16:34:50.354Z"
   },
   {
    "duration": 3,
    "start_time": "2022-10-06T16:34:58.184Z"
   },
   {
    "duration": 4,
    "start_time": "2022-10-06T16:35:03.083Z"
   },
   {
    "duration": 3,
    "start_time": "2022-10-06T16:35:06.358Z"
   },
   {
    "duration": 5,
    "start_time": "2022-10-06T16:35:09.197Z"
   },
   {
    "duration": 20,
    "start_time": "2022-10-06T16:39:16.616Z"
   },
   {
    "duration": 6,
    "start_time": "2022-10-06T16:39:22.503Z"
   },
   {
    "duration": 214,
    "start_time": "2022-10-06T16:39:22.513Z"
   },
   {
    "duration": 116,
    "start_time": "2022-10-06T16:39:22.729Z"
   },
   {
    "duration": 93,
    "start_time": "2022-10-06T16:39:22.847Z"
   },
   {
    "duration": 24,
    "start_time": "2022-10-06T16:39:22.942Z"
   },
   {
    "duration": 41,
    "start_time": "2022-10-06T16:39:22.968Z"
   },
   {
    "duration": 98,
    "start_time": "2022-10-06T16:39:23.011Z"
   },
   {
    "duration": 22,
    "start_time": "2022-10-06T16:39:23.112Z"
   },
   {
    "duration": 10,
    "start_time": "2022-10-06T16:39:23.136Z"
   },
   {
    "duration": 25,
    "start_time": "2022-10-06T16:39:23.149Z"
   },
   {
    "duration": 9,
    "start_time": "2022-10-06T16:39:23.197Z"
   },
   {
    "duration": 28,
    "start_time": "2022-10-06T16:39:23.209Z"
   },
   {
    "duration": 4,
    "start_time": "2022-10-06T16:39:23.238Z"
   },
   {
    "duration": 11,
    "start_time": "2022-10-06T16:39:23.244Z"
   },
   {
    "duration": 56,
    "start_time": "2022-10-06T16:39:23.256Z"
   },
   {
    "duration": 23,
    "start_time": "2022-10-06T16:39:23.315Z"
   },
   {
    "duration": 5,
    "start_time": "2022-10-06T16:39:23.340Z"
   },
   {
    "duration": 17,
    "start_time": "2022-10-06T16:39:23.347Z"
   },
   {
    "duration": 56,
    "start_time": "2022-10-06T16:39:23.366Z"
   },
   {
    "duration": 5,
    "start_time": "2022-10-06T16:39:23.425Z"
   },
   {
    "duration": 11,
    "start_time": "2022-10-06T16:39:23.431Z"
   },
   {
    "duration": 20,
    "start_time": "2022-10-06T16:39:23.444Z"
   },
   {
    "duration": 18,
    "start_time": "2022-10-06T16:39:23.465Z"
   },
   {
    "duration": 13,
    "start_time": "2022-10-06T16:39:23.485Z"
   },
   {
    "duration": 41,
    "start_time": "2022-10-06T16:39:23.501Z"
   },
   {
    "duration": 54,
    "start_time": "2022-10-06T16:39:23.544Z"
   },
   {
    "duration": 32,
    "start_time": "2022-10-06T16:39:23.601Z"
   },
   {
    "duration": 26,
    "start_time": "2022-10-06T16:39:23.636Z"
   },
   {
    "duration": 3,
    "start_time": "2022-10-06T16:39:23.663Z"
   },
   {
    "duration": 57,
    "start_time": "2022-10-06T16:39:23.667Z"
   },
   {
    "duration": 17,
    "start_time": "2022-10-06T16:39:23.727Z"
   },
   {
    "duration": 15,
    "start_time": "2022-10-06T16:39:23.746Z"
   },
   {
    "duration": 8,
    "start_time": "2022-10-06T16:39:23.763Z"
   },
   {
    "duration": 9,
    "start_time": "2022-10-06T16:39:23.795Z"
   },
   {
    "duration": 19,
    "start_time": "2022-10-06T16:39:23.807Z"
   },
   {
    "duration": 8,
    "start_time": "2022-10-06T16:39:23.828Z"
   },
   {
    "duration": 11,
    "start_time": "2022-10-06T16:39:23.838Z"
   },
   {
    "duration": 62,
    "start_time": "2022-10-06T16:39:23.851Z"
   },
   {
    "duration": 24,
    "start_time": "2022-10-06T16:39:23.916Z"
   },
   {
    "duration": 9,
    "start_time": "2022-10-06T16:39:23.942Z"
   },
   {
    "duration": 6,
    "start_time": "2022-10-06T16:39:23.952Z"
   },
   {
    "duration": 125,
    "start_time": "2022-10-06T16:39:23.960Z"
   },
   {
    "duration": 23,
    "start_time": "2022-10-06T16:39:26.568Z"
   },
   {
    "duration": 15,
    "start_time": "2022-10-06T16:39:30.070Z"
   },
   {
    "duration": 653,
    "start_time": "2022-10-06T16:39:32.847Z"
   },
   {
    "duration": 70,
    "start_time": "2022-10-06T16:39:36.534Z"
   },
   {
    "duration": 53,
    "start_time": "2022-10-06T16:39:43.038Z"
   },
   {
    "duration": 16,
    "start_time": "2022-10-06T16:39:45.081Z"
   },
   {
    "duration": 15,
    "start_time": "2022-10-06T16:39:47.571Z"
   },
   {
    "duration": 31,
    "start_time": "2022-10-06T16:39:49.636Z"
   },
   {
    "duration": 5,
    "start_time": "2022-10-06T16:40:09.213Z"
   },
   {
    "duration": 13,
    "start_time": "2022-10-06T16:40:12.575Z"
   },
   {
    "duration": 3,
    "start_time": "2022-10-06T16:40:27.635Z"
   },
   {
    "duration": 12,
    "start_time": "2022-10-06T16:40:29.555Z"
   },
   {
    "duration": 3,
    "start_time": "2022-10-06T16:41:17.658Z"
   },
   {
    "duration": 2,
    "start_time": "2022-10-06T16:41:17.984Z"
   },
   {
    "duration": 4,
    "start_time": "2022-10-06T16:41:18.718Z"
   },
   {
    "duration": 13,
    "start_time": "2022-10-06T16:41:19.823Z"
   },
   {
    "duration": 5,
    "start_time": "2022-10-06T16:41:36.436Z"
   },
   {
    "duration": 325,
    "start_time": "2022-10-06T16:41:36.444Z"
   },
   {
    "duration": 119,
    "start_time": "2022-10-06T16:41:36.771Z"
   },
   {
    "duration": 81,
    "start_time": "2022-10-06T16:41:36.896Z"
   },
   {
    "duration": 45,
    "start_time": "2022-10-06T16:41:36.979Z"
   },
   {
    "duration": 19,
    "start_time": "2022-10-06T16:41:37.026Z"
   },
   {
    "duration": 95,
    "start_time": "2022-10-06T16:41:37.046Z"
   },
   {
    "duration": 19,
    "start_time": "2022-10-06T16:41:37.143Z"
   },
   {
    "duration": 30,
    "start_time": "2022-10-06T16:41:37.166Z"
   },
   {
    "duration": 35,
    "start_time": "2022-10-06T16:41:37.198Z"
   },
   {
    "duration": 3,
    "start_time": "2022-10-06T16:41:37.235Z"
   },
   {
    "duration": 22,
    "start_time": "2022-10-06T16:41:37.240Z"
   },
   {
    "duration": 4,
    "start_time": "2022-10-06T16:41:37.264Z"
   },
   {
    "duration": 4,
    "start_time": "2022-10-06T16:41:37.301Z"
   },
   {
    "duration": 29,
    "start_time": "2022-10-06T16:41:37.307Z"
   },
   {
    "duration": 21,
    "start_time": "2022-10-06T16:41:37.337Z"
   },
   {
    "duration": 5,
    "start_time": "2022-10-06T16:41:37.359Z"
   },
   {
    "duration": 35,
    "start_time": "2022-10-06T16:41:37.365Z"
   },
   {
    "duration": 25,
    "start_time": "2022-10-06T16:41:37.402Z"
   },
   {
    "duration": 8,
    "start_time": "2022-10-06T16:41:37.429Z"
   },
   {
    "duration": 4,
    "start_time": "2022-10-06T16:41:37.439Z"
   },
   {
    "duration": 10,
    "start_time": "2022-10-06T16:41:37.445Z"
   },
   {
    "duration": 9,
    "start_time": "2022-10-06T16:41:37.456Z"
   },
   {
    "duration": 34,
    "start_time": "2022-10-06T16:41:37.468Z"
   },
   {
    "duration": 47,
    "start_time": "2022-10-06T16:41:37.504Z"
   },
   {
    "duration": 72,
    "start_time": "2022-10-06T16:41:37.552Z"
   },
   {
    "duration": 22,
    "start_time": "2022-10-06T16:41:37.625Z"
   },
   {
    "duration": 47,
    "start_time": "2022-10-06T16:41:37.649Z"
   },
   {
    "duration": 4,
    "start_time": "2022-10-06T16:41:37.698Z"
   },
   {
    "duration": 29,
    "start_time": "2022-10-06T16:41:37.706Z"
   },
   {
    "duration": 17,
    "start_time": "2022-10-06T16:41:37.737Z"
   },
   {
    "duration": 46,
    "start_time": "2022-10-06T16:41:37.756Z"
   },
   {
    "duration": 8,
    "start_time": "2022-10-06T16:41:37.804Z"
   },
   {
    "duration": 7,
    "start_time": "2022-10-06T16:41:37.815Z"
   },
   {
    "duration": 16,
    "start_time": "2022-10-06T16:41:37.824Z"
   },
   {
    "duration": 13,
    "start_time": "2022-10-06T16:41:37.842Z"
   },
   {
    "duration": 44,
    "start_time": "2022-10-06T16:41:37.857Z"
   },
   {
    "duration": 41,
    "start_time": "2022-10-06T16:41:37.904Z"
   },
   {
    "duration": 18,
    "start_time": "2022-10-06T16:41:37.946Z"
   },
   {
    "duration": 9,
    "start_time": "2022-10-06T16:41:37.966Z"
   },
   {
    "duration": 5,
    "start_time": "2022-10-06T16:41:37.976Z"
   },
   {
    "duration": 128,
    "start_time": "2022-10-06T16:41:37.983Z"
   },
   {
    "duration": 31,
    "start_time": "2022-10-06T16:41:38.113Z"
   },
   {
    "duration": 16,
    "start_time": "2022-10-06T16:41:38.146Z"
   },
   {
    "duration": 633,
    "start_time": "2022-10-06T16:41:38.163Z"
   },
   {
    "duration": 61,
    "start_time": "2022-10-06T16:41:38.798Z"
   },
   {
    "duration": 84,
    "start_time": "2022-10-06T16:41:38.861Z"
   },
   {
    "duration": 13,
    "start_time": "2022-10-06T16:41:38.947Z"
   },
   {
    "duration": 10,
    "start_time": "2022-10-06T16:41:38.962Z"
   },
   {
    "duration": 58,
    "start_time": "2022-10-06T16:41:38.973Z"
   },
   {
    "duration": 4,
    "start_time": "2022-10-06T16:41:41.192Z"
   },
   {
    "duration": 12,
    "start_time": "2022-10-06T16:41:43.730Z"
   },
   {
    "duration": 2,
    "start_time": "2022-10-06T16:42:08.127Z"
   },
   {
    "duration": 4,
    "start_time": "2022-10-06T16:42:08.793Z"
   },
   {
    "duration": 13,
    "start_time": "2022-10-06T16:42:09.534Z"
   },
   {
    "duration": 3,
    "start_time": "2022-10-06T16:42:35.527Z"
   },
   {
    "duration": 85,
    "start_time": "2022-10-06T16:42:38.187Z"
   },
   {
    "duration": 23,
    "start_time": "2022-10-06T16:42:40.905Z"
   },
   {
    "duration": 19,
    "start_time": "2022-10-06T16:42:42.300Z"
   },
   {
    "duration": 3,
    "start_time": "2022-10-06T16:42:49.093Z"
   },
   {
    "duration": 3,
    "start_time": "2022-10-06T16:42:49.482Z"
   },
   {
    "duration": 5,
    "start_time": "2022-10-06T16:42:50.411Z"
   },
   {
    "duration": 3,
    "start_time": "2022-10-06T16:42:50.831Z"
   },
   {
    "duration": 2,
    "start_time": "2022-10-06T16:42:51.356Z"
   },
   {
    "duration": 6,
    "start_time": "2022-10-06T16:42:52.103Z"
   },
   {
    "duration": 1326,
    "start_time": "2022-10-06T16:42:58.131Z"
   },
   {
    "duration": 76578,
    "start_time": "2022-10-06T16:43:26.822Z"
   },
   {
    "duration": 1042,
    "start_time": "2022-10-06T16:44:48.570Z"
   },
   {
    "duration": 20760,
    "start_time": "2022-10-06T16:44:53.674Z"
   },
   {
    "duration": 3,
    "start_time": "2022-10-06T16:46:24.884Z"
   },
   {
    "duration": 13,
    "start_time": "2022-10-06T16:46:27.243Z"
   },
   {
    "duration": 4,
    "start_time": "2022-10-06T16:46:51.348Z"
   },
   {
    "duration": 233,
    "start_time": "2022-10-06T16:46:51.354Z"
   },
   {
    "duration": 81,
    "start_time": "2022-10-06T16:46:51.589Z"
   },
   {
    "duration": 90,
    "start_time": "2022-10-06T16:46:51.672Z"
   },
   {
    "duration": 32,
    "start_time": "2022-10-06T16:46:51.764Z"
   },
   {
    "duration": 20,
    "start_time": "2022-10-06T16:46:51.798Z"
   },
   {
    "duration": 97,
    "start_time": "2022-10-06T16:46:51.820Z"
   },
   {
    "duration": 16,
    "start_time": "2022-10-06T16:46:51.919Z"
   },
   {
    "duration": 11,
    "start_time": "2022-10-06T16:46:51.937Z"
   },
   {
    "duration": 23,
    "start_time": "2022-10-06T16:46:51.949Z"
   },
   {
    "duration": 7,
    "start_time": "2022-10-06T16:46:51.995Z"
   },
   {
    "duration": 31,
    "start_time": "2022-10-06T16:46:52.004Z"
   },
   {
    "duration": 4,
    "start_time": "2022-10-06T16:46:52.037Z"
   },
   {
    "duration": 8,
    "start_time": "2022-10-06T16:46:52.042Z"
   },
   {
    "duration": 54,
    "start_time": "2022-10-06T16:46:52.052Z"
   },
   {
    "duration": 21,
    "start_time": "2022-10-06T16:46:52.109Z"
   },
   {
    "duration": 4,
    "start_time": "2022-10-06T16:46:52.131Z"
   },
   {
    "duration": 17,
    "start_time": "2022-10-06T16:46:52.137Z"
   },
   {
    "duration": 16,
    "start_time": "2022-10-06T16:46:52.155Z"
   },
   {
    "duration": 25,
    "start_time": "2022-10-06T16:46:52.172Z"
   },
   {
    "duration": 6,
    "start_time": "2022-10-06T16:46:52.199Z"
   },
   {
    "duration": 13,
    "start_time": "2022-10-06T16:46:52.206Z"
   },
   {
    "duration": 13,
    "start_time": "2022-10-06T16:46:52.220Z"
   },
   {
    "duration": 5,
    "start_time": "2022-10-06T16:46:52.237Z"
   },
   {
    "duration": 57,
    "start_time": "2022-10-06T16:46:52.244Z"
   },
   {
    "duration": 40,
    "start_time": "2022-10-06T16:46:52.304Z"
   },
   {
    "duration": 22,
    "start_time": "2022-10-06T16:46:52.347Z"
   },
   {
    "duration": 44,
    "start_time": "2022-10-06T16:46:52.371Z"
   },
   {
    "duration": 4,
    "start_time": "2022-10-06T16:46:52.417Z"
   },
   {
    "duration": 32,
    "start_time": "2022-10-06T16:46:52.422Z"
   },
   {
    "duration": 15,
    "start_time": "2022-10-06T16:46:52.456Z"
   },
   {
    "duration": 18,
    "start_time": "2022-10-06T16:46:52.494Z"
   },
   {
    "duration": 10,
    "start_time": "2022-10-06T16:46:52.515Z"
   },
   {
    "duration": 9,
    "start_time": "2022-10-06T16:46:52.527Z"
   },
   {
    "duration": 14,
    "start_time": "2022-10-06T16:46:52.537Z"
   },
   {
    "duration": 11,
    "start_time": "2022-10-06T16:46:52.552Z"
   },
   {
    "duration": 38,
    "start_time": "2022-10-06T16:46:52.565Z"
   },
   {
    "duration": 45,
    "start_time": "2022-10-06T16:46:52.605Z"
   },
   {
    "duration": 19,
    "start_time": "2022-10-06T16:46:52.652Z"
   },
   {
    "duration": 8,
    "start_time": "2022-10-06T16:46:52.672Z"
   },
   {
    "duration": 12,
    "start_time": "2022-10-06T16:46:52.694Z"
   },
   {
    "duration": 113,
    "start_time": "2022-10-06T16:46:52.708Z"
   },
   {
    "duration": 25,
    "start_time": "2022-10-06T16:46:52.823Z"
   },
   {
    "duration": 27,
    "start_time": "2022-10-06T16:46:52.850Z"
   },
   {
    "duration": 673,
    "start_time": "2022-10-06T16:46:52.879Z"
   },
   {
    "duration": 61,
    "start_time": "2022-10-06T16:46:53.553Z"
   },
   {
    "duration": 61,
    "start_time": "2022-10-06T16:46:53.615Z"
   },
   {
    "duration": 43,
    "start_time": "2022-10-06T16:46:53.678Z"
   },
   {
    "duration": 13,
    "start_time": "2022-10-06T16:46:53.722Z"
   },
   {
    "duration": 31,
    "start_time": "2022-10-06T16:46:53.737Z"
   },
   {
    "duration": 31,
    "start_time": "2022-10-06T16:46:53.769Z"
   },
   {
    "duration": 23,
    "start_time": "2022-10-06T16:46:53.803Z"
   },
   {
    "duration": 5,
    "start_time": "2022-10-06T16:47:24.656Z"
   },
   {
    "duration": 292,
    "start_time": "2022-10-06T16:47:24.663Z"
   },
   {
    "duration": 107,
    "start_time": "2022-10-06T16:47:24.957Z"
   },
   {
    "duration": 95,
    "start_time": "2022-10-06T16:47:25.066Z"
   },
   {
    "duration": 33,
    "start_time": "2022-10-06T16:47:25.163Z"
   },
   {
    "duration": 21,
    "start_time": "2022-10-06T16:47:25.198Z"
   },
   {
    "duration": 114,
    "start_time": "2022-10-06T16:47:25.221Z"
   },
   {
    "duration": 19,
    "start_time": "2022-10-06T16:47:25.337Z"
   },
   {
    "duration": 12,
    "start_time": "2022-10-06T16:47:25.358Z"
   },
   {
    "duration": 47,
    "start_time": "2022-10-06T16:47:25.372Z"
   },
   {
    "duration": 6,
    "start_time": "2022-10-06T16:47:25.422Z"
   },
   {
    "duration": 25,
    "start_time": "2022-10-06T16:47:25.429Z"
   },
   {
    "duration": 4,
    "start_time": "2022-10-06T16:47:25.455Z"
   },
   {
    "duration": 8,
    "start_time": "2022-10-06T16:47:25.461Z"
   },
   {
    "duration": 55,
    "start_time": "2022-10-06T16:47:25.470Z"
   },
   {
    "duration": 22,
    "start_time": "2022-10-06T16:47:25.527Z"
   },
   {
    "duration": 5,
    "start_time": "2022-10-06T16:47:25.551Z"
   },
   {
    "duration": 40,
    "start_time": "2022-10-06T16:47:25.557Z"
   },
   {
    "duration": 32,
    "start_time": "2022-10-06T16:47:25.599Z"
   },
   {
    "duration": 8,
    "start_time": "2022-10-06T16:47:25.633Z"
   },
   {
    "duration": 5,
    "start_time": "2022-10-06T16:47:25.643Z"
   },
   {
    "duration": 11,
    "start_time": "2022-10-06T16:47:25.650Z"
   },
   {
    "duration": 36,
    "start_time": "2022-10-06T16:47:25.663Z"
   },
   {
    "duration": 6,
    "start_time": "2022-10-06T16:47:25.703Z"
   },
   {
    "duration": 47,
    "start_time": "2022-10-06T16:47:25.711Z"
   },
   {
    "duration": 75,
    "start_time": "2022-10-06T16:47:25.761Z"
   },
   {
    "duration": 37,
    "start_time": "2022-10-06T16:47:25.839Z"
   },
   {
    "duration": 61,
    "start_time": "2022-10-06T16:47:25.878Z"
   },
   {
    "duration": 4,
    "start_time": "2022-10-06T16:47:25.941Z"
   },
   {
    "duration": 69,
    "start_time": "2022-10-06T16:47:25.947Z"
   },
   {
    "duration": 19,
    "start_time": "2022-10-06T16:47:26.018Z"
   },
   {
    "duration": 19,
    "start_time": "2022-10-06T16:47:26.039Z"
   },
   {
    "duration": 16,
    "start_time": "2022-10-06T16:47:26.060Z"
   },
   {
    "duration": 30,
    "start_time": "2022-10-06T16:47:26.078Z"
   },
   {
    "duration": 21,
    "start_time": "2022-10-06T16:47:26.110Z"
   },
   {
    "duration": 16,
    "start_time": "2022-10-06T16:47:26.133Z"
   },
   {
    "duration": 11,
    "start_time": "2022-10-06T16:47:26.151Z"
   },
   {
    "duration": 62,
    "start_time": "2022-10-06T16:47:26.164Z"
   },
   {
    "duration": 19,
    "start_time": "2022-10-06T16:47:26.228Z"
   },
   {
    "duration": 11,
    "start_time": "2022-10-06T16:47:26.250Z"
   },
   {
    "duration": 26,
    "start_time": "2022-10-06T16:47:26.262Z"
   },
   {
    "duration": 125,
    "start_time": "2022-10-06T16:47:26.290Z"
   },
   {
    "duration": 22,
    "start_time": "2022-10-06T16:47:26.418Z"
   },
   {
    "duration": 14,
    "start_time": "2022-10-06T16:47:26.442Z"
   },
   {
    "duration": 928,
    "start_time": "2022-10-06T16:47:26.458Z"
   },
   {
    "duration": 82,
    "start_time": "2022-10-06T16:47:27.388Z"
   },
   {
    "duration": 78,
    "start_time": "2022-10-06T16:47:27.472Z"
   },
   {
    "duration": 15,
    "start_time": "2022-10-06T16:47:27.551Z"
   },
   {
    "duration": 32,
    "start_time": "2022-10-06T16:47:27.567Z"
   },
   {
    "duration": 41,
    "start_time": "2022-10-06T16:47:27.601Z"
   },
   {
    "duration": 3,
    "start_time": "2022-10-06T16:47:27.644Z"
   },
   {
    "duration": 25,
    "start_time": "2022-10-06T16:47:27.649Z"
   },
   {
    "duration": 3,
    "start_time": "2022-10-06T16:47:56.181Z"
   },
   {
    "duration": 3,
    "start_time": "2022-10-06T16:47:57.225Z"
   },
   {
    "duration": 120,
    "start_time": "2022-10-06T16:47:57.922Z"
   },
   {
    "duration": 16,
    "start_time": "2022-10-06T16:47:58.708Z"
   },
   {
    "duration": 19,
    "start_time": "2022-10-06T16:47:59.517Z"
   },
   {
    "duration": 3,
    "start_time": "2022-10-06T16:48:02.071Z"
   },
   {
    "duration": 3,
    "start_time": "2022-10-06T16:48:02.353Z"
   },
   {
    "duration": 5,
    "start_time": "2022-10-06T16:48:02.615Z"
   },
   {
    "duration": 3,
    "start_time": "2022-10-06T16:48:02.976Z"
   },
   {
    "duration": 3,
    "start_time": "2022-10-06T16:48:03.360Z"
   },
   {
    "duration": 9,
    "start_time": "2022-10-06T16:48:04.107Z"
   },
   {
    "duration": 661,
    "start_time": "2022-10-06T16:48:04.829Z"
   },
   {
    "duration": 22,
    "start_time": "2022-10-06T16:48:06.332Z"
   },
   {
    "duration": 6,
    "start_time": "2022-10-06T16:48:07.020Z"
   },
   {
    "duration": 18,
    "start_time": "2022-10-06T16:54:46.230Z"
   },
   {
    "duration": 23,
    "start_time": "2022-10-06T16:55:04.941Z"
   },
   {
    "duration": 16,
    "start_time": "2022-10-06T16:55:15.564Z"
   },
   {
    "duration": 17,
    "start_time": "2022-10-06T16:55:17.815Z"
   },
   {
    "duration": 5876,
    "start_time": "2022-10-06T16:55:36.310Z"
   },
   {
    "duration": 199,
    "start_time": "2022-10-06T16:56:38.932Z"
   },
   {
    "duration": 62,
    "start_time": "2022-10-06T16:57:19.061Z"
   },
   {
    "duration": 176,
    "start_time": "2022-10-06T16:57:33.014Z"
   },
   {
    "duration": 306,
    "start_time": "2022-10-06T16:57:44.040Z"
   },
   {
    "duration": 307,
    "start_time": "2022-10-06T16:58:04.705Z"
   },
   {
    "duration": 1181,
    "start_time": "2022-10-06T16:58:22.819Z"
   },
   {
    "duration": 240,
    "start_time": "2022-10-06T16:58:44.439Z"
   },
   {
    "duration": 160,
    "start_time": "2022-10-06T16:59:02.461Z"
   },
   {
    "duration": 169,
    "start_time": "2022-10-06T16:59:19.714Z"
   },
   {
    "duration": 169,
    "start_time": "2022-10-06T16:59:43.601Z"
   },
   {
    "duration": 250,
    "start_time": "2022-10-06T16:59:53.759Z"
   },
   {
    "duration": 193,
    "start_time": "2022-10-06T17:00:17.892Z"
   },
   {
    "duration": 193,
    "start_time": "2022-10-06T17:00:31.324Z"
   },
   {
    "duration": 191,
    "start_time": "2022-10-06T17:00:43.895Z"
   },
   {
    "duration": 172,
    "start_time": "2022-10-06T17:00:55.410Z"
   },
   {
    "duration": 979,
    "start_time": "2022-10-06T17:01:42.319Z"
   },
   {
    "duration": 177,
    "start_time": "2022-10-06T17:02:07.090Z"
   },
   {
    "duration": 186,
    "start_time": "2022-10-06T17:22:34.564Z"
   },
   {
    "duration": 170,
    "start_time": "2022-10-06T17:23:05.015Z"
   },
   {
    "duration": 262,
    "start_time": "2022-10-06T17:23:15.056Z"
   },
   {
    "duration": 270,
    "start_time": "2022-10-06T17:24:12.143Z"
   },
   {
    "duration": 1714,
    "start_time": "2022-10-06T17:24:31.957Z"
   },
   {
    "duration": 1485,
    "start_time": "2022-10-06T17:25:16.902Z"
   },
   {
    "duration": 49,
    "start_time": "2022-10-07T11:36:10.918Z"
   },
   {
    "duration": 7,
    "start_time": "2022-10-07T11:36:15.354Z"
   },
   {
    "duration": 1617,
    "start_time": "2022-10-07T11:36:23.673Z"
   },
   {
    "duration": 398,
    "start_time": "2022-10-07T11:36:25.292Z"
   },
   {
    "duration": 76,
    "start_time": "2022-10-07T11:36:25.692Z"
   },
   {
    "duration": 58,
    "start_time": "2022-10-07T11:36:25.770Z"
   },
   {
    "duration": 36,
    "start_time": "2022-10-07T11:36:25.830Z"
   },
   {
    "duration": 17,
    "start_time": "2022-10-07T11:36:25.867Z"
   },
   {
    "duration": 98,
    "start_time": "2022-10-07T11:36:25.885Z"
   },
   {
    "duration": 28,
    "start_time": "2022-10-07T11:36:25.985Z"
   },
   {
    "duration": 12,
    "start_time": "2022-10-07T11:36:26.015Z"
   },
   {
    "duration": 23,
    "start_time": "2022-10-07T11:36:26.030Z"
   },
   {
    "duration": 4,
    "start_time": "2022-10-07T11:36:26.054Z"
   },
   {
    "duration": 55,
    "start_time": "2022-10-07T11:36:26.059Z"
   },
   {
    "duration": 5,
    "start_time": "2022-10-07T11:36:26.115Z"
   },
   {
    "duration": 9,
    "start_time": "2022-10-07T11:36:26.121Z"
   },
   {
    "duration": 24,
    "start_time": "2022-10-07T11:36:26.132Z"
   },
   {
    "duration": 20,
    "start_time": "2022-10-07T11:36:26.157Z"
   },
   {
    "duration": 30,
    "start_time": "2022-10-07T11:36:26.179Z"
   },
   {
    "duration": 15,
    "start_time": "2022-10-07T11:36:26.211Z"
   },
   {
    "duration": 21,
    "start_time": "2022-10-07T11:36:26.227Z"
   },
   {
    "duration": 8,
    "start_time": "2022-10-07T11:36:26.259Z"
   },
   {
    "duration": 7,
    "start_time": "2022-10-07T11:36:26.269Z"
   },
   {
    "duration": 8,
    "start_time": "2022-10-07T11:36:26.278Z"
   },
   {
    "duration": 24,
    "start_time": "2022-10-07T11:36:26.288Z"
   },
   {
    "duration": 14,
    "start_time": "2022-10-07T11:36:26.315Z"
   },
   {
    "duration": 34,
    "start_time": "2022-10-07T11:36:26.330Z"
   },
   {
    "duration": 46,
    "start_time": "2022-10-07T11:36:26.365Z"
   },
   {
    "duration": 22,
    "start_time": "2022-10-07T11:36:26.412Z"
   },
   {
    "duration": 28,
    "start_time": "2022-10-07T11:36:26.438Z"
   },
   {
    "duration": 4,
    "start_time": "2022-10-07T11:36:26.467Z"
   },
   {
    "duration": 55,
    "start_time": "2022-10-07T11:36:26.473Z"
   },
   {
    "duration": 18,
    "start_time": "2022-10-07T11:36:26.530Z"
   },
   {
    "duration": 20,
    "start_time": "2022-10-07T11:36:26.550Z"
   },
   {
    "duration": 8,
    "start_time": "2022-10-07T11:36:26.571Z"
   },
   {
    "duration": 5,
    "start_time": "2022-10-07T11:36:26.580Z"
   },
   {
    "duration": 29,
    "start_time": "2022-10-07T11:36:26.586Z"
   },
   {
    "duration": 11,
    "start_time": "2022-10-07T11:36:26.616Z"
   },
   {
    "duration": 9,
    "start_time": "2022-10-07T11:36:26.629Z"
   },
   {
    "duration": 32,
    "start_time": "2022-10-07T11:36:26.640Z"
   },
   {
    "duration": 35,
    "start_time": "2022-10-07T11:36:26.674Z"
   },
   {
    "duration": 11,
    "start_time": "2022-10-07T11:36:26.711Z"
   },
   {
    "duration": 21,
    "start_time": "2022-10-07T11:36:26.723Z"
   },
   {
    "duration": 108,
    "start_time": "2022-10-07T11:36:26.745Z"
   },
   {
    "duration": 1364,
    "start_time": "2022-10-07T11:36:26.855Z"
   },
   {
    "duration": 5,
    "start_time": "2022-10-07T11:36:28.221Z"
   },
   {
    "duration": 114,
    "start_time": "2022-10-07T11:36:28.227Z"
   },
   {
    "duration": 13,
    "start_time": "2022-10-07T11:36:28.342Z"
   },
   {
    "duration": 16,
    "start_time": "2022-10-07T11:36:28.357Z"
   },
   {
    "duration": 753,
    "start_time": "2022-10-07T11:36:28.375Z"
   },
   {
    "duration": 68,
    "start_time": "2022-10-07T11:36:29.130Z"
   },
   {
    "duration": 57,
    "start_time": "2022-10-07T11:36:29.199Z"
   },
   {
    "duration": 12,
    "start_time": "2022-10-07T11:36:29.258Z"
   },
   {
    "duration": 12,
    "start_time": "2022-10-07T11:36:29.271Z"
   },
   {
    "duration": 135,
    "start_time": "2022-10-07T11:36:29.284Z"
   },
   {
    "duration": 0,
    "start_time": "2022-10-07T11:36:29.420Z"
   },
   {
    "duration": 0,
    "start_time": "2022-10-07T11:36:29.421Z"
   },
   {
    "duration": 0,
    "start_time": "2022-10-07T11:36:29.422Z"
   },
   {
    "duration": 0,
    "start_time": "2022-10-07T11:36:29.424Z"
   },
   {
    "duration": 0,
    "start_time": "2022-10-07T11:36:29.425Z"
   },
   {
    "duration": 0,
    "start_time": "2022-10-07T11:36:29.425Z"
   },
   {
    "duration": 0,
    "start_time": "2022-10-07T11:36:29.427Z"
   },
   {
    "duration": 0,
    "start_time": "2022-10-07T11:36:29.427Z"
   },
   {
    "duration": 0,
    "start_time": "2022-10-07T11:36:29.428Z"
   },
   {
    "duration": 0,
    "start_time": "2022-10-07T11:36:29.429Z"
   },
   {
    "duration": 0,
    "start_time": "2022-10-07T11:36:29.430Z"
   },
   {
    "duration": 0,
    "start_time": "2022-10-07T11:36:29.431Z"
   },
   {
    "duration": 0,
    "start_time": "2022-10-07T11:36:29.432Z"
   },
   {
    "duration": 0,
    "start_time": "2022-10-07T11:36:29.433Z"
   },
   {
    "duration": 0,
    "start_time": "2022-10-07T11:36:29.434Z"
   },
   {
    "duration": 0,
    "start_time": "2022-10-07T11:36:29.434Z"
   },
   {
    "duration": 0,
    "start_time": "2022-10-07T11:36:29.435Z"
   },
   {
    "duration": 0,
    "start_time": "2022-10-07T11:36:29.436Z"
   },
   {
    "duration": 0,
    "start_time": "2022-10-07T11:36:29.437Z"
   },
   {
    "duration": 0,
    "start_time": "2022-10-07T11:36:29.437Z"
   },
   {
    "duration": 0,
    "start_time": "2022-10-07T11:36:29.438Z"
   },
   {
    "duration": 0,
    "start_time": "2022-10-07T11:36:29.439Z"
   },
   {
    "duration": 0,
    "start_time": "2022-10-07T11:36:29.440Z"
   },
   {
    "duration": 0,
    "start_time": "2022-10-07T11:36:29.441Z"
   },
   {
    "duration": 0,
    "start_time": "2022-10-07T11:36:29.442Z"
   },
   {
    "duration": 0,
    "start_time": "2022-10-07T11:36:29.443Z"
   },
   {
    "duration": 0,
    "start_time": "2022-10-07T11:36:29.444Z"
   },
   {
    "duration": 0,
    "start_time": "2022-10-07T11:36:29.445Z"
   },
   {
    "duration": 0,
    "start_time": "2022-10-07T11:36:29.446Z"
   },
   {
    "duration": 0,
    "start_time": "2022-10-07T11:36:29.447Z"
   },
   {
    "duration": 28,
    "start_time": "2022-10-07T11:38:28.347Z"
   },
   {
    "duration": 1421,
    "start_time": "2022-10-07T11:38:33.794Z"
   },
   {
    "duration": 214,
    "start_time": "2022-10-07T11:38:35.217Z"
   },
   {
    "duration": 90,
    "start_time": "2022-10-07T11:38:35.434Z"
   },
   {
    "duration": 58,
    "start_time": "2022-10-07T11:38:35.526Z"
   },
   {
    "duration": 32,
    "start_time": "2022-10-07T11:38:35.585Z"
   },
   {
    "duration": 18,
    "start_time": "2022-10-07T11:38:35.619Z"
   },
   {
    "duration": 94,
    "start_time": "2022-10-07T11:38:35.639Z"
   },
   {
    "duration": 17,
    "start_time": "2022-10-07T11:38:35.735Z"
   },
   {
    "duration": 10,
    "start_time": "2022-10-07T11:38:35.755Z"
   },
   {
    "duration": 44,
    "start_time": "2022-10-07T11:38:35.766Z"
   },
   {
    "duration": 3,
    "start_time": "2022-10-07T11:38:35.811Z"
   },
   {
    "duration": 25,
    "start_time": "2022-10-07T11:38:35.816Z"
   },
   {
    "duration": 3,
    "start_time": "2022-10-07T11:38:35.842Z"
   },
   {
    "duration": 11,
    "start_time": "2022-10-07T11:38:35.847Z"
   },
   {
    "duration": 19,
    "start_time": "2022-10-07T11:38:35.859Z"
   },
   {
    "duration": 31,
    "start_time": "2022-10-07T11:38:35.879Z"
   },
   {
    "duration": 4,
    "start_time": "2022-10-07T11:38:35.911Z"
   },
   {
    "duration": 20,
    "start_time": "2022-10-07T11:38:35.917Z"
   },
   {
    "duration": 15,
    "start_time": "2022-10-07T11:38:35.938Z"
   },
   {
    "duration": 9,
    "start_time": "2022-10-07T11:38:35.954Z"
   },
   {
    "duration": 23,
    "start_time": "2022-10-07T11:38:35.964Z"
   },
   {
    "duration": 11,
    "start_time": "2022-10-07T11:38:35.988Z"
   },
   {
    "duration": 4,
    "start_time": "2022-10-07T11:38:36.001Z"
   },
   {
    "duration": 6,
    "start_time": "2022-10-07T11:38:36.006Z"
   },
   {
    "duration": 37,
    "start_time": "2022-10-07T11:38:36.014Z"
   },
   {
    "duration": 38,
    "start_time": "2022-10-07T11:38:36.052Z"
   },
   {
    "duration": 20,
    "start_time": "2022-10-07T11:38:36.108Z"
   },
   {
    "duration": 30,
    "start_time": "2022-10-07T11:38:36.129Z"
   },
   {
    "duration": 3,
    "start_time": "2022-10-07T11:38:36.160Z"
   },
   {
    "duration": 47,
    "start_time": "2022-10-07T11:38:36.164Z"
   },
   {
    "duration": 14,
    "start_time": "2022-10-07T11:38:36.213Z"
   },
   {
    "duration": 22,
    "start_time": "2022-10-07T11:38:36.228Z"
   },
   {
    "duration": 9,
    "start_time": "2022-10-07T11:38:36.251Z"
   },
   {
    "duration": 8,
    "start_time": "2022-10-07T11:38:36.261Z"
   },
   {
    "duration": 12,
    "start_time": "2022-10-07T11:38:36.271Z"
   },
   {
    "duration": 27,
    "start_time": "2022-10-07T11:38:36.285Z"
   },
   {
    "duration": 11,
    "start_time": "2022-10-07T11:38:36.313Z"
   },
   {
    "duration": 35,
    "start_time": "2022-10-07T11:38:36.325Z"
   },
   {
    "duration": 20,
    "start_time": "2022-10-07T11:38:36.362Z"
   },
   {
    "duration": 26,
    "start_time": "2022-10-07T11:38:36.383Z"
   },
   {
    "duration": 21,
    "start_time": "2022-10-07T11:38:36.410Z"
   },
   {
    "duration": 100,
    "start_time": "2022-10-07T11:38:36.433Z"
   },
   {
    "duration": 1375,
    "start_time": "2022-10-07T11:38:36.535Z"
   },
   {
    "duration": 5,
    "start_time": "2022-10-07T11:38:37.912Z"
   },
   {
    "duration": 112,
    "start_time": "2022-10-07T11:38:37.918Z"
   },
   {
    "duration": 16,
    "start_time": "2022-10-07T11:38:38.031Z"
   },
   {
    "duration": 15,
    "start_time": "2022-10-07T11:38:38.048Z"
   },
   {
    "duration": 656,
    "start_time": "2022-10-07T11:38:38.064Z"
   },
   {
    "duration": 77,
    "start_time": "2022-10-07T11:38:38.722Z"
   },
   {
    "duration": 53,
    "start_time": "2022-10-07T11:38:38.800Z"
   },
   {
    "duration": 13,
    "start_time": "2022-10-07T11:38:38.854Z"
   },
   {
    "duration": 11,
    "start_time": "2022-10-07T11:38:38.869Z"
   },
   {
    "duration": 53,
    "start_time": "2022-10-07T11:38:38.881Z"
   },
   {
    "duration": 4,
    "start_time": "2022-10-07T11:38:38.935Z"
   },
   {
    "duration": 27,
    "start_time": "2022-10-07T11:38:38.940Z"
   },
   {
    "duration": 16,
    "start_time": "2022-10-07T11:38:38.970Z"
   },
   {
    "duration": 82,
    "start_time": "2022-10-07T11:38:38.988Z"
   },
   {
    "duration": 16,
    "start_time": "2022-10-07T11:38:39.071Z"
   },
   {
    "duration": 22,
    "start_time": "2022-10-07T11:38:39.088Z"
   },
   {
    "duration": 2,
    "start_time": "2022-10-07T11:38:39.112Z"
   },
   {
    "duration": 11,
    "start_time": "2022-10-07T11:38:39.115Z"
   },
   {
    "duration": 4,
    "start_time": "2022-10-07T11:38:39.128Z"
   },
   {
    "duration": 5,
    "start_time": "2022-10-07T11:38:39.133Z"
   },
   {
    "duration": 4,
    "start_time": "2022-10-07T11:38:39.139Z"
   },
   {
    "duration": 5,
    "start_time": "2022-10-07T11:38:39.144Z"
   },
   {
    "duration": 583,
    "start_time": "2022-10-07T11:38:39.150Z"
   },
   {
    "duration": 14,
    "start_time": "2022-10-07T11:38:39.734Z"
   },
   {
    "duration": 9,
    "start_time": "2022-10-07T11:38:39.749Z"
   },
   {
    "duration": 55552,
    "start_time": "2022-10-07T11:38:39.759Z"
   },
   {
    "duration": 1291,
    "start_time": "2022-10-07T11:39:35.316Z"
   },
   {
    "duration": 20151,
    "start_time": "2022-10-07T11:39:36.609Z"
   },
   {
    "duration": 86709,
    "start_time": "2022-10-07T11:39:56.762Z"
   },
   {
    "duration": 5,
    "start_time": "2022-10-07T11:41:23.472Z"
   },
   {
    "duration": 678,
    "start_time": "2022-10-07T11:41:23.478Z"
   },
   {
    "duration": 0,
    "start_time": "2022-10-07T11:41:24.157Z"
   },
   {
    "duration": 0,
    "start_time": "2022-10-07T11:41:24.159Z"
   },
   {
    "duration": 0,
    "start_time": "2022-10-07T11:41:24.159Z"
   },
   {
    "duration": 0,
    "start_time": "2022-10-07T11:41:24.160Z"
   },
   {
    "duration": 0,
    "start_time": "2022-10-07T11:41:24.162Z"
   },
   {
    "duration": 0,
    "start_time": "2022-10-07T11:41:24.163Z"
   },
   {
    "duration": 0,
    "start_time": "2022-10-07T11:41:24.163Z"
   },
   {
    "duration": 0,
    "start_time": "2022-10-07T11:41:24.165Z"
   },
   {
    "duration": 0,
    "start_time": "2022-10-07T11:41:24.166Z"
   },
   {
    "duration": 1376,
    "start_time": "2022-10-07T11:50:59.178Z"
   },
   {
    "duration": 1297,
    "start_time": "2022-10-07T11:51:29.424Z"
   },
   {
    "duration": 37,
    "start_time": "2022-10-07T11:51:46.544Z"
   },
   {
    "duration": 1263,
    "start_time": "2022-10-07T11:52:07.886Z"
   },
   {
    "duration": 1368,
    "start_time": "2022-10-07T11:52:26.352Z"
   },
   {
    "duration": 1361,
    "start_time": "2022-10-07T11:52:41.182Z"
   },
   {
    "duration": 1457,
    "start_time": "2022-10-07T11:53:45.044Z"
   },
   {
    "duration": 1385,
    "start_time": "2022-10-07T11:54:13.639Z"
   },
   {
    "duration": 1385,
    "start_time": "2022-10-07T11:54:22.037Z"
   },
   {
    "duration": 1282,
    "start_time": "2022-10-07T11:54:31.287Z"
   },
   {
    "duration": 8,
    "start_time": "2022-10-07T11:57:33.041Z"
   },
   {
    "duration": 14,
    "start_time": "2022-10-07T11:57:57.599Z"
   },
   {
    "duration": 8,
    "start_time": "2022-10-07T11:58:02.731Z"
   },
   {
    "duration": 17,
    "start_time": "2022-10-07T11:58:59.244Z"
   },
   {
    "duration": 13,
    "start_time": "2022-10-07T11:59:30.361Z"
   },
   {
    "duration": 15,
    "start_time": "2022-10-07T11:59:36.455Z"
   },
   {
    "duration": 17,
    "start_time": "2022-10-07T11:59:58.235Z"
   },
   {
    "duration": 14,
    "start_time": "2022-10-07T12:00:21.819Z"
   },
   {
    "duration": 43,
    "start_time": "2022-10-07T12:00:28.915Z"
   },
   {
    "duration": 14,
    "start_time": "2022-10-07T12:00:45.464Z"
   },
   {
    "duration": 141,
    "start_time": "2022-10-07T12:01:08.056Z"
   },
   {
    "duration": 152,
    "start_time": "2022-10-07T12:01:25.216Z"
   },
   {
    "duration": 5,
    "start_time": "2022-10-07T12:01:36.989Z"
   },
   {
    "duration": 260,
    "start_time": "2022-10-07T12:02:08.371Z"
   },
   {
    "duration": 7,
    "start_time": "2022-10-07T12:02:34.014Z"
   },
   {
    "duration": 7,
    "start_time": "2022-10-07T12:02:37.456Z"
   },
   {
    "duration": 243,
    "start_time": "2022-10-07T12:03:29.037Z"
   },
   {
    "duration": 1311,
    "start_time": "2022-10-07T12:04:16.522Z"
   },
   {
    "duration": 1485,
    "start_time": "2022-10-07T12:04:41.069Z"
   },
   {
    "duration": 8,
    "start_time": "2022-10-07T12:05:22.131Z"
   },
   {
    "duration": 245,
    "start_time": "2022-10-07T12:06:01.853Z"
   },
   {
    "duration": 953,
    "start_time": "2022-10-07T12:39:24.513Z"
   },
   {
    "duration": 455,
    "start_time": "2022-10-07T12:40:05.014Z"
   },
   {
    "duration": 424,
    "start_time": "2022-10-07T12:41:12.992Z"
   },
   {
    "duration": 445,
    "start_time": "2022-10-07T12:42:06.200Z"
   },
   {
    "duration": 428,
    "start_time": "2022-10-07T12:42:19.189Z"
   },
   {
    "duration": 530,
    "start_time": "2022-10-07T12:43:34.614Z"
   },
   {
    "duration": 938,
    "start_time": "2022-10-07T12:43:50.858Z"
   },
   {
    "duration": 939,
    "start_time": "2022-10-07T12:43:57.324Z"
   },
   {
    "duration": 4,
    "start_time": "2022-10-07T12:44:03.357Z"
   },
   {
    "duration": 674,
    "start_time": "2022-10-07T12:44:06.943Z"
   },
   {
    "duration": 17,
    "start_time": "2022-10-07T12:44:08.157Z"
   },
   {
    "duration": 22,
    "start_time": "2022-10-07T12:44:10.281Z"
   },
   {
    "duration": 4,
    "start_time": "2022-10-07T12:44:14.402Z"
   },
   {
    "duration": 4,
    "start_time": "2022-10-07T12:44:16.868Z"
   },
   {
    "duration": 3,
    "start_time": "2022-10-07T12:44:18.312Z"
   },
   {
    "duration": 915,
    "start_time": "2022-10-07T13:14:38.021Z"
   },
   {
    "duration": 1445,
    "start_time": "2022-10-07T13:45:43.199Z"
   },
   {
    "duration": 207,
    "start_time": "2022-10-07T13:45:44.647Z"
   },
   {
    "duration": 84,
    "start_time": "2022-10-07T13:45:44.855Z"
   },
   {
    "duration": 106,
    "start_time": "2022-10-07T13:45:44.941Z"
   },
   {
    "duration": 71,
    "start_time": "2022-10-07T13:45:45.049Z"
   },
   {
    "duration": 19,
    "start_time": "2022-10-07T13:45:45.122Z"
   },
   {
    "duration": 86,
    "start_time": "2022-10-07T13:45:45.142Z"
   },
   {
    "duration": 18,
    "start_time": "2022-10-07T13:45:45.229Z"
   },
   {
    "duration": 17,
    "start_time": "2022-10-07T13:45:45.249Z"
   },
   {
    "duration": 53,
    "start_time": "2022-10-07T13:45:45.268Z"
   },
   {
    "duration": 4,
    "start_time": "2022-10-07T13:45:45.323Z"
   },
   {
    "duration": 28,
    "start_time": "2022-10-07T13:45:45.329Z"
   },
   {
    "duration": 3,
    "start_time": "2022-10-07T13:45:45.359Z"
   },
   {
    "duration": 5,
    "start_time": "2022-10-07T13:45:45.408Z"
   },
   {
    "duration": 20,
    "start_time": "2022-10-07T13:45:45.415Z"
   },
   {
    "duration": 17,
    "start_time": "2022-10-07T13:45:45.436Z"
   },
   {
    "duration": 4,
    "start_time": "2022-10-07T13:45:45.455Z"
   },
   {
    "duration": 15,
    "start_time": "2022-10-07T13:45:45.460Z"
   },
   {
    "duration": 48,
    "start_time": "2022-10-07T13:45:45.476Z"
   },
   {
    "duration": 5,
    "start_time": "2022-10-07T13:45:45.525Z"
   },
   {
    "duration": 5,
    "start_time": "2022-10-07T13:45:45.532Z"
   },
   {
    "duration": 8,
    "start_time": "2022-10-07T13:45:45.538Z"
   },
   {
    "duration": 6,
    "start_time": "2022-10-07T13:45:45.548Z"
   },
   {
    "duration": 6,
    "start_time": "2022-10-07T13:45:45.555Z"
   },
   {
    "duration": 68,
    "start_time": "2022-10-07T13:45:45.562Z"
   },
   {
    "duration": 39,
    "start_time": "2022-10-07T13:45:45.632Z"
   },
   {
    "duration": 41,
    "start_time": "2022-10-07T13:45:45.672Z"
   },
   {
    "duration": 28,
    "start_time": "2022-10-07T13:45:45.718Z"
   },
   {
    "duration": 4,
    "start_time": "2022-10-07T13:45:45.747Z"
   },
   {
    "duration": 30,
    "start_time": "2022-10-07T13:45:45.753Z"
   },
   {
    "duration": 37,
    "start_time": "2022-10-07T13:45:45.785Z"
   },
   {
    "duration": 15,
    "start_time": "2022-10-07T13:45:45.823Z"
   },
   {
    "duration": 7,
    "start_time": "2022-10-07T13:45:45.839Z"
   },
   {
    "duration": 5,
    "start_time": "2022-10-07T13:45:45.848Z"
   },
   {
    "duration": 11,
    "start_time": "2022-10-07T13:45:45.854Z"
   },
   {
    "duration": 11,
    "start_time": "2022-10-07T13:45:45.866Z"
   },
   {
    "duration": 34,
    "start_time": "2022-10-07T13:45:45.878Z"
   },
   {
    "duration": 42,
    "start_time": "2022-10-07T13:45:45.913Z"
   },
   {
    "duration": 20,
    "start_time": "2022-10-07T13:45:45.957Z"
   },
   {
    "duration": 14,
    "start_time": "2022-10-07T13:45:45.978Z"
   },
   {
    "duration": 1456,
    "start_time": "2022-10-07T13:45:45.994Z"
   },
   {
    "duration": 9,
    "start_time": "2022-10-07T13:45:47.451Z"
   },
   {
    "duration": 188,
    "start_time": "2022-10-07T13:45:47.461Z"
   },
   {
    "duration": 278,
    "start_time": "2022-10-07T13:45:47.651Z"
   },
   {
    "duration": 9,
    "start_time": "2022-10-07T13:45:47.931Z"
   },
   {
    "duration": 255,
    "start_time": "2022-10-07T13:45:47.941Z"
   },
   {
    "duration": 247,
    "start_time": "2022-10-07T13:45:48.198Z"
   },
   {
    "duration": 6,
    "start_time": "2022-10-07T13:45:48.447Z"
   },
   {
    "duration": 110,
    "start_time": "2022-10-07T13:45:48.455Z"
   },
   {
    "duration": 18,
    "start_time": "2022-10-07T13:45:48.566Z"
   },
   {
    "duration": 25,
    "start_time": "2022-10-07T13:45:48.586Z"
   },
   {
    "duration": 728,
    "start_time": "2022-10-07T13:45:48.612Z"
   },
   {
    "duration": 78,
    "start_time": "2022-10-07T13:45:49.342Z"
   },
   {
    "duration": 56,
    "start_time": "2022-10-07T13:45:49.422Z"
   },
   {
    "duration": 13,
    "start_time": "2022-10-07T13:45:49.480Z"
   },
   {
    "duration": 24,
    "start_time": "2022-10-07T13:45:49.494Z"
   },
   {
    "duration": 28,
    "start_time": "2022-10-07T13:45:49.519Z"
   },
   {
    "duration": 3,
    "start_time": "2022-10-07T13:45:49.549Z"
   },
   {
    "duration": 19,
    "start_time": "2022-10-07T13:45:49.553Z"
   },
   {
    "duration": 2,
    "start_time": "2022-10-07T13:45:49.574Z"
   },
   {
    "duration": 94,
    "start_time": "2022-10-07T13:45:49.578Z"
   },
   {
    "duration": 14,
    "start_time": "2022-10-07T13:45:49.673Z"
   },
   {
    "duration": 26,
    "start_time": "2022-10-07T13:45:49.689Z"
   },
   {
    "duration": 2,
    "start_time": "2022-10-07T13:45:49.717Z"
   },
   {
    "duration": 6,
    "start_time": "2022-10-07T13:45:49.721Z"
   },
   {
    "duration": 6,
    "start_time": "2022-10-07T13:45:49.728Z"
   },
   {
    "duration": 4,
    "start_time": "2022-10-07T13:45:49.736Z"
   },
   {
    "duration": 4,
    "start_time": "2022-10-07T13:45:49.741Z"
   },
   {
    "duration": 7,
    "start_time": "2022-10-07T13:45:49.747Z"
   },
   {
    "duration": 622,
    "start_time": "2022-10-07T13:45:49.756Z"
   },
   {
    "duration": 27,
    "start_time": "2022-10-07T13:45:50.380Z"
   },
   {
    "duration": 30,
    "start_time": "2022-10-07T13:45:50.409Z"
   },
   {
    "duration": 54973,
    "start_time": "2022-10-07T13:45:50.441Z"
   },
   {
    "duration": 1393,
    "start_time": "2022-10-07T13:46:45.418Z"
   },
   {
    "duration": 20591,
    "start_time": "2022-10-07T13:46:46.813Z"
   },
   {
    "duration": 87316,
    "start_time": "2022-10-07T13:47:07.409Z"
   },
   {
    "duration": 447,
    "start_time": "2022-10-07T13:48:34.727Z"
   },
   {
    "duration": 4,
    "start_time": "2022-10-07T13:48:35.177Z"
   },
   {
    "duration": 579,
    "start_time": "2022-10-07T13:48:35.182Z"
   },
   {
    "duration": 850,
    "start_time": "2022-10-07T13:48:35.763Z"
   },
   {
    "duration": 917,
    "start_time": "2022-10-07T13:48:36.614Z"
   },
   {
    "duration": 3,
    "start_time": "2022-10-07T13:48:37.536Z"
   },
   {
    "duration": 694,
    "start_time": "2022-10-07T13:48:37.540Z"
   },
   {
    "duration": 16,
    "start_time": "2022-10-07T13:48:38.238Z"
   },
   {
    "duration": 23,
    "start_time": "2022-10-07T13:48:38.255Z"
   },
   {
    "duration": 3,
    "start_time": "2022-10-07T13:48:38.280Z"
   },
   {
    "duration": 6,
    "start_time": "2022-10-07T13:48:38.284Z"
   },
   {
    "duration": 17,
    "start_time": "2022-10-07T13:48:38.292Z"
   },
   {
    "duration": 1539,
    "start_time": "2022-10-11T17:07:48.526Z"
   },
   {
    "duration": 1106,
    "start_time": "2022-10-11T17:07:50.067Z"
   },
   {
    "duration": 88,
    "start_time": "2022-10-11T17:07:51.175Z"
   },
   {
    "duration": 71,
    "start_time": "2022-10-11T17:07:51.264Z"
   },
   {
    "duration": 25,
    "start_time": "2022-10-11T17:07:51.337Z"
   },
   {
    "duration": 34,
    "start_time": "2022-10-11T17:07:51.364Z"
   },
   {
    "duration": 80,
    "start_time": "2022-10-11T17:07:51.399Z"
   },
   {
    "duration": 29,
    "start_time": "2022-10-11T17:07:51.481Z"
   },
   {
    "duration": 15,
    "start_time": "2022-10-11T17:07:51.512Z"
   },
   {
    "duration": 26,
    "start_time": "2022-10-11T17:07:51.530Z"
   },
   {
    "duration": 3,
    "start_time": "2022-10-11T17:07:51.558Z"
   },
   {
    "duration": 41,
    "start_time": "2022-10-11T17:07:51.562Z"
   },
   {
    "duration": 4,
    "start_time": "2022-10-11T17:07:51.605Z"
   },
   {
    "duration": 75,
    "start_time": "2022-10-11T17:09:12.133Z"
   },
   {
    "duration": 29,
    "start_time": "2022-10-11T17:12:06.295Z"
   },
   {
    "duration": 7,
    "start_time": "2022-10-11T17:14:33.338Z"
   },
   {
    "duration": 33,
    "start_time": "2022-10-11T17:15:46.426Z"
   },
   {
    "duration": 11,
    "start_time": "2022-10-11T17:16:09.460Z"
   },
   {
    "duration": 31,
    "start_time": "2022-10-11T17:20:30.017Z"
   },
   {
    "duration": 44,
    "start_time": "2022-10-11T17:21:05.288Z"
   },
   {
    "duration": 9,
    "start_time": "2022-10-11T17:21:25.695Z"
   },
   {
    "duration": 31,
    "start_time": "2022-10-11T17:23:30.520Z"
   },
   {
    "duration": 32,
    "start_time": "2022-10-11T17:24:06.702Z"
   },
   {
    "duration": 88,
    "start_time": "2022-10-11T17:24:52.826Z"
   },
   {
    "duration": 110,
    "start_time": "2022-10-11T17:25:19.865Z"
   },
   {
    "duration": 28,
    "start_time": "2022-10-11T17:28:49.773Z"
   },
   {
    "duration": 15,
    "start_time": "2022-10-11T17:31:05.268Z"
   },
   {
    "duration": 15,
    "start_time": "2022-10-11T17:31:19.682Z"
   },
   {
    "duration": 33,
    "start_time": "2022-10-11T17:31:23.528Z"
   },
   {
    "duration": 7,
    "start_time": "2022-10-11T17:31:43.384Z"
   },
   {
    "duration": 4,
    "start_time": "2022-10-11T17:32:12.831Z"
   },
   {
    "duration": 240,
    "start_time": "2022-10-11T17:32:12.838Z"
   },
   {
    "duration": 80,
    "start_time": "2022-10-11T17:32:13.080Z"
   },
   {
    "duration": 71,
    "start_time": "2022-10-11T17:32:13.162Z"
   },
   {
    "duration": 36,
    "start_time": "2022-10-11T17:32:13.236Z"
   },
   {
    "duration": 36,
    "start_time": "2022-10-11T17:32:13.274Z"
   },
   {
    "duration": 86,
    "start_time": "2022-10-11T17:32:13.313Z"
   },
   {
    "duration": 17,
    "start_time": "2022-10-11T17:32:13.400Z"
   },
   {
    "duration": 11,
    "start_time": "2022-10-11T17:32:13.419Z"
   },
   {
    "duration": 22,
    "start_time": "2022-10-11T17:32:13.431Z"
   },
   {
    "duration": 3,
    "start_time": "2022-10-11T17:32:13.455Z"
   },
   {
    "duration": 50,
    "start_time": "2022-10-11T17:32:13.459Z"
   },
   {
    "duration": 3,
    "start_time": "2022-10-11T17:32:13.511Z"
   },
   {
    "duration": 30,
    "start_time": "2022-10-11T17:32:13.516Z"
   },
   {
    "duration": 9,
    "start_time": "2022-10-11T17:32:13.548Z"
   },
   {
    "duration": 4,
    "start_time": "2022-10-11T17:33:03.570Z"
   },
   {
    "duration": 30,
    "start_time": "2022-10-11T17:34:00.981Z"
   },
   {
    "duration": 9,
    "start_time": "2022-10-11T17:34:04.463Z"
   },
   {
    "duration": 4,
    "start_time": "2022-10-11T17:34:20.587Z"
   },
   {
    "duration": 4,
    "start_time": "2022-10-11T17:36:01.896Z"
   },
   {
    "duration": 39,
    "start_time": "2022-10-11T17:36:07.766Z"
   },
   {
    "duration": 4,
    "start_time": "2022-10-11T17:36:28.662Z"
   },
   {
    "duration": 241,
    "start_time": "2022-10-11T17:36:28.668Z"
   },
   {
    "duration": 85,
    "start_time": "2022-10-11T17:36:28.911Z"
   },
   {
    "duration": 65,
    "start_time": "2022-10-11T17:36:28.997Z"
   },
   {
    "duration": 40,
    "start_time": "2022-10-11T17:36:29.065Z"
   },
   {
    "duration": 18,
    "start_time": "2022-10-11T17:36:29.106Z"
   },
   {
    "duration": 89,
    "start_time": "2022-10-11T17:36:29.126Z"
   },
   {
    "duration": 18,
    "start_time": "2022-10-11T17:36:29.217Z"
   },
   {
    "duration": 12,
    "start_time": "2022-10-11T17:36:29.237Z"
   },
   {
    "duration": 47,
    "start_time": "2022-10-11T17:36:29.250Z"
   },
   {
    "duration": 5,
    "start_time": "2022-10-11T17:36:29.300Z"
   },
   {
    "duration": 33,
    "start_time": "2022-10-11T17:36:29.307Z"
   },
   {
    "duration": 4,
    "start_time": "2022-10-11T17:36:29.342Z"
   },
   {
    "duration": 48,
    "start_time": "2022-10-11T17:36:29.348Z"
   },
   {
    "duration": 10,
    "start_time": "2022-10-11T17:36:29.397Z"
   },
   {
    "duration": 4,
    "start_time": "2022-10-11T17:36:29.408Z"
   },
   {
    "duration": 32,
    "start_time": "2022-10-11T17:36:29.413Z"
   },
   {
    "duration": 9,
    "start_time": "2022-10-11T17:36:29.447Z"
   },
   {
    "duration": 4,
    "start_time": "2022-10-11T17:36:29.458Z"
   },
   {
    "duration": 34,
    "start_time": "2022-10-11T17:36:29.464Z"
   },
   {
    "duration": 19,
    "start_time": "2022-10-11T17:36:29.500Z"
   },
   {
    "duration": 18,
    "start_time": "2022-10-11T17:36:29.521Z"
   },
   {
    "duration": 4,
    "start_time": "2022-10-11T17:36:29.540Z"
   },
   {
    "duration": 16,
    "start_time": "2022-10-11T17:36:29.546Z"
   },
   {
    "duration": 60,
    "start_time": "2022-10-11T17:36:29.564Z"
   },
   {
    "duration": 26,
    "start_time": "2022-10-11T17:37:57.828Z"
   },
   {
    "duration": 7,
    "start_time": "2022-10-11T17:44:09.471Z"
   },
   {
    "duration": 34,
    "start_time": "2022-10-11T17:44:17.740Z"
   },
   {
    "duration": 25,
    "start_time": "2022-10-11T18:02:38.816Z"
   },
   {
    "duration": 4,
    "start_time": "2022-10-11T18:03:30.381Z"
   },
   {
    "duration": 11,
    "start_time": "2022-10-11T18:05:09.389Z"
   },
   {
    "duration": 48,
    "start_time": "2022-10-11T18:15:14.248Z"
   },
   {
    "duration": 52,
    "start_time": "2022-10-11T18:15:20.976Z"
   },
   {
    "duration": 46,
    "start_time": "2022-10-11T18:15:28.237Z"
   },
   {
    "duration": 4,
    "start_time": "2022-10-11T18:15:40.070Z"
   },
   {
    "duration": 249,
    "start_time": "2022-10-11T18:15:40.077Z"
   },
   {
    "duration": 88,
    "start_time": "2022-10-11T18:15:40.328Z"
   },
   {
    "duration": 63,
    "start_time": "2022-10-11T18:15:40.418Z"
   },
   {
    "duration": 33,
    "start_time": "2022-10-11T18:15:40.483Z"
   },
   {
    "duration": 19,
    "start_time": "2022-10-11T18:15:40.518Z"
   },
   {
    "duration": 95,
    "start_time": "2022-10-11T18:15:40.539Z"
   },
   {
    "duration": 18,
    "start_time": "2022-10-11T18:15:40.636Z"
   },
   {
    "duration": 11,
    "start_time": "2022-10-11T18:15:40.657Z"
   },
   {
    "duration": 45,
    "start_time": "2022-10-11T18:15:40.670Z"
   },
   {
    "duration": 4,
    "start_time": "2022-10-11T18:15:40.716Z"
   },
   {
    "duration": 25,
    "start_time": "2022-10-11T18:15:40.722Z"
   },
   {
    "duration": 4,
    "start_time": "2022-10-11T18:15:40.749Z"
   },
   {
    "duration": 54,
    "start_time": "2022-10-11T18:15:40.756Z"
   },
   {
    "duration": 13,
    "start_time": "2022-10-11T18:15:40.811Z"
   },
   {
    "duration": 4,
    "start_time": "2022-10-11T18:15:40.826Z"
   },
   {
    "duration": 40,
    "start_time": "2022-10-11T18:15:40.831Z"
   },
   {
    "duration": 25,
    "start_time": "2022-10-11T18:15:40.872Z"
   },
   {
    "duration": 3,
    "start_time": "2022-10-11T18:15:40.898Z"
   },
   {
    "duration": 7,
    "start_time": "2022-10-11T18:15:40.903Z"
   },
   {
    "duration": 21,
    "start_time": "2022-10-11T18:15:40.911Z"
   },
   {
    "duration": 18,
    "start_time": "2022-10-11T18:15:40.934Z"
   },
   {
    "duration": 3,
    "start_time": "2022-10-11T18:15:40.954Z"
   },
   {
    "duration": 40,
    "start_time": "2022-10-11T18:15:40.960Z"
   },
   {
    "duration": 34,
    "start_time": "2022-10-11T18:15:41.001Z"
   },
   {
    "duration": 36,
    "start_time": "2022-10-11T18:15:41.036Z"
   },
   {
    "duration": 25,
    "start_time": "2022-10-11T18:15:41.073Z"
   },
   {
    "duration": 34,
    "start_time": "2022-10-11T18:15:41.100Z"
   },
   {
    "duration": 18,
    "start_time": "2022-10-11T18:15:41.136Z"
   },
   {
    "duration": 9,
    "start_time": "2022-10-11T18:15:41.156Z"
   },
   {
    "duration": 29,
    "start_time": "2022-10-11T18:15:41.166Z"
   },
   {
    "duration": 11,
    "start_time": "2022-10-11T18:15:41.197Z"
   },
   {
    "duration": 6,
    "start_time": "2022-10-11T18:15:41.210Z"
   },
   {
    "duration": 6,
    "start_time": "2022-10-11T18:15:41.218Z"
   },
   {
    "duration": 39,
    "start_time": "2022-10-11T18:15:41.225Z"
   },
   {
    "duration": 62,
    "start_time": "2022-10-11T18:15:41.266Z"
   },
   {
    "duration": 23,
    "start_time": "2022-10-11T18:15:41.330Z"
   },
   {
    "duration": 43,
    "start_time": "2022-10-11T18:15:41.355Z"
   },
   {
    "duration": 6,
    "start_time": "2022-10-11T18:15:41.400Z"
   },
   {
    "duration": 8,
    "start_time": "2022-10-11T18:15:41.408Z"
   },
   {
    "duration": 13,
    "start_time": "2022-10-11T18:15:41.418Z"
   },
   {
    "duration": 11,
    "start_time": "2022-10-11T18:15:41.432Z"
   },
   {
    "duration": 13,
    "start_time": "2022-10-11T18:15:41.445Z"
   },
   {
    "duration": 60,
    "start_time": "2022-10-11T18:15:41.460Z"
   },
   {
    "duration": 18,
    "start_time": "2022-10-11T18:15:41.521Z"
   },
   {
    "duration": 10,
    "start_time": "2022-10-11T18:15:41.541Z"
   },
   {
    "duration": 1537,
    "start_time": "2022-10-11T18:15:41.553Z"
   },
   {
    "duration": 8,
    "start_time": "2022-10-11T18:15:43.093Z"
   },
   {
    "duration": 178,
    "start_time": "2022-10-11T18:15:43.103Z"
   },
   {
    "duration": 272,
    "start_time": "2022-10-11T18:15:43.283Z"
   },
   {
    "duration": 8,
    "start_time": "2022-10-11T18:15:43.557Z"
   },
   {
    "duration": 278,
    "start_time": "2022-10-11T18:15:43.566Z"
   },
   {
    "duration": 246,
    "start_time": "2022-10-11T18:15:43.846Z"
   },
   {
    "duration": 6,
    "start_time": "2022-10-11T18:15:44.095Z"
   },
   {
    "duration": 117,
    "start_time": "2022-10-11T18:15:44.103Z"
   },
   {
    "duration": 19,
    "start_time": "2022-10-11T18:15:44.221Z"
   },
   {
    "duration": 16,
    "start_time": "2022-10-11T18:15:44.241Z"
   },
   {
    "duration": 43,
    "start_time": "2022-10-11T18:15:47.689Z"
   },
   {
    "duration": 27,
    "start_time": "2022-10-11T18:16:12.359Z"
   },
   {
    "duration": 38,
    "start_time": "2022-10-11T18:16:19.407Z"
   },
   {
    "duration": 40,
    "start_time": "2022-10-11T18:16:23.166Z"
   },
   {
    "duration": 42,
    "start_time": "2022-10-11T18:19:56.786Z"
   },
   {
    "duration": 69,
    "start_time": "2022-10-11T18:20:21.839Z"
   },
   {
    "duration": 64,
    "start_time": "2022-10-11T18:21:58.731Z"
   },
   {
    "duration": 61,
    "start_time": "2022-10-11T18:22:05.388Z"
   },
   {
    "duration": 90,
    "start_time": "2022-10-11T18:22:35.048Z"
   },
   {
    "duration": 2005,
    "start_time": "2022-10-11T18:43:29.232Z"
   },
   {
    "duration": 57,
    "start_time": "2022-10-11T18:43:42.627Z"
   },
   {
    "duration": 60,
    "start_time": "2022-10-11T18:43:49.322Z"
   },
   {
    "duration": 119,
    "start_time": "2022-10-11T18:44:46.105Z"
   },
   {
    "duration": 121,
    "start_time": "2022-10-11T18:44:52.592Z"
   },
   {
    "duration": 98,
    "start_time": "2022-10-11T18:45:07.402Z"
   },
   {
    "duration": 95,
    "start_time": "2022-10-11T18:47:00.527Z"
   },
   {
    "duration": 108,
    "start_time": "2022-10-11T18:47:07.314Z"
   },
   {
    "duration": 119,
    "start_time": "2022-10-11T18:47:20.013Z"
   },
   {
    "duration": 74,
    "start_time": "2022-10-11T18:49:55.651Z"
   },
   {
    "duration": 85,
    "start_time": "2022-10-11T19:00:02.170Z"
   },
   {
    "duration": 66,
    "start_time": "2022-10-11T19:00:21.191Z"
   },
   {
    "duration": 48,
    "start_time": "2022-10-11T19:00:31.481Z"
   },
   {
    "duration": 626,
    "start_time": "2022-10-11T19:00:38.586Z"
   },
   {
    "duration": 227,
    "start_time": "2022-10-11T19:01:46.049Z"
   },
   {
    "duration": 548,
    "start_time": "2022-10-11T19:02:12.729Z"
   },
   {
    "duration": 9,
    "start_time": "2022-10-11T19:02:20.176Z"
   },
   {
    "duration": 257,
    "start_time": "2022-10-11T19:02:49.543Z"
   },
   {
    "duration": 89,
    "start_time": "2022-10-11T19:04:15.996Z"
   },
   {
    "duration": 6,
    "start_time": "2022-10-11T19:04:25.349Z"
   },
   {
    "duration": 236,
    "start_time": "2022-10-11T19:04:38.315Z"
   },
   {
    "duration": 237,
    "start_time": "2022-10-11T19:04:40.789Z"
   },
   {
    "duration": 152,
    "start_time": "2022-10-11T19:04:44.095Z"
   },
   {
    "duration": 1453,
    "start_time": "2022-10-11T19:04:48.430Z"
   },
   {
    "duration": 8,
    "start_time": "2022-10-11T19:04:54.902Z"
   },
   {
    "duration": 4,
    "start_time": "2022-10-11T19:09:44.063Z"
   },
   {
    "duration": 237,
    "start_time": "2022-10-11T19:09:44.068Z"
   },
   {
    "duration": 79,
    "start_time": "2022-10-11T19:09:44.307Z"
   },
   {
    "duration": 63,
    "start_time": "2022-10-11T19:09:44.395Z"
   },
   {
    "duration": 35,
    "start_time": "2022-10-11T19:09:44.460Z"
   },
   {
    "duration": 19,
    "start_time": "2022-10-11T19:09:44.497Z"
   },
   {
    "duration": 84,
    "start_time": "2022-10-11T19:09:44.517Z"
   },
   {
    "duration": 16,
    "start_time": "2022-10-11T19:09:44.603Z"
   },
   {
    "duration": 11,
    "start_time": "2022-10-11T19:09:44.621Z"
   },
   {
    "duration": 23,
    "start_time": "2022-10-11T19:09:44.633Z"
   },
   {
    "duration": 4,
    "start_time": "2022-10-11T19:09:44.658Z"
   },
   {
    "duration": 46,
    "start_time": "2022-10-11T19:09:44.664Z"
   },
   {
    "duration": 3,
    "start_time": "2022-10-11T19:09:44.712Z"
   },
   {
    "duration": 30,
    "start_time": "2022-10-11T19:09:44.717Z"
   },
   {
    "duration": 10,
    "start_time": "2022-10-11T19:09:44.749Z"
   },
   {
    "duration": 4,
    "start_time": "2022-10-11T19:09:44.760Z"
   },
   {
    "duration": 53,
    "start_time": "2022-10-11T19:09:44.766Z"
   },
   {
    "duration": 9,
    "start_time": "2022-10-11T19:09:44.821Z"
   },
   {
    "duration": 8,
    "start_time": "2022-10-11T19:09:44.831Z"
   },
   {
    "duration": 11,
    "start_time": "2022-10-11T19:09:44.840Z"
   },
   {
    "duration": 20,
    "start_time": "2022-10-11T19:09:44.852Z"
   },
   {
    "duration": 40,
    "start_time": "2022-10-11T19:09:44.874Z"
   },
   {
    "duration": 4,
    "start_time": "2022-10-11T19:09:44.915Z"
   },
   {
    "duration": 17,
    "start_time": "2022-10-11T19:09:44.920Z"
   },
   {
    "duration": 34,
    "start_time": "2022-10-11T19:09:44.939Z"
   },
   {
    "duration": 42,
    "start_time": "2022-10-11T19:09:44.975Z"
   },
   {
    "duration": 5,
    "start_time": "2022-10-11T19:09:45.019Z"
   },
   {
    "duration": 55,
    "start_time": "2022-10-11T19:09:45.026Z"
   },
   {
    "duration": 22,
    "start_time": "2022-10-11T19:09:45.084Z"
   },
   {
    "duration": 9,
    "start_time": "2022-10-11T19:09:45.108Z"
   },
   {
    "duration": 6,
    "start_time": "2022-10-11T19:09:45.118Z"
   },
   {
    "duration": 10,
    "start_time": "2022-10-11T19:09:45.125Z"
   },
   {
    "duration": 5,
    "start_time": "2022-10-11T19:09:45.137Z"
   },
   {
    "duration": 7,
    "start_time": "2022-10-11T19:09:45.144Z"
   },
   {
    "duration": 53,
    "start_time": "2022-10-11T19:09:45.152Z"
   },
   {
    "duration": 35,
    "start_time": "2022-10-11T19:09:45.207Z"
   },
   {
    "duration": 20,
    "start_time": "2022-10-11T19:09:45.244Z"
   },
   {
    "duration": 47,
    "start_time": "2022-10-11T19:09:45.265Z"
   },
   {
    "duration": 6,
    "start_time": "2022-10-11T19:09:45.314Z"
   },
   {
    "duration": 7,
    "start_time": "2022-10-11T19:09:45.321Z"
   },
   {
    "duration": 10,
    "start_time": "2022-10-11T19:09:45.330Z"
   },
   {
    "duration": 9,
    "start_time": "2022-10-11T19:09:45.342Z"
   },
   {
    "duration": 42,
    "start_time": "2022-10-11T19:09:45.353Z"
   },
   {
    "duration": 30,
    "start_time": "2022-10-11T19:09:45.397Z"
   },
   {
    "duration": 17,
    "start_time": "2022-10-11T19:09:45.429Z"
   },
   {
    "duration": 10,
    "start_time": "2022-10-11T19:09:45.448Z"
   },
   {
    "duration": 1482,
    "start_time": "2022-10-11T19:09:45.460Z"
   },
   {
    "duration": 9,
    "start_time": "2022-10-11T19:09:46.945Z"
   },
   {
    "duration": 6,
    "start_time": "2022-10-11T19:15:55.703Z"
   },
   {
    "duration": 7,
    "start_time": "2022-10-11T19:21:31.696Z"
   },
   {
    "duration": 5,
    "start_time": "2022-10-11T19:21:45.792Z"
   },
   {
    "duration": 27,
    "start_time": "2022-10-11T19:21:58.554Z"
   },
   {
    "duration": 16,
    "start_time": "2022-10-11T19:26:49.149Z"
   },
   {
    "duration": 8,
    "start_time": "2022-10-11T19:29:19.096Z"
   },
   {
    "duration": 8,
    "start_time": "2022-10-11T19:29:32.379Z"
   },
   {
    "duration": 17,
    "start_time": "2022-10-11T19:29:43.773Z"
   },
   {
    "duration": 16,
    "start_time": "2022-10-11T19:30:57.995Z"
   },
   {
    "duration": 16,
    "start_time": "2022-10-11T19:31:15.786Z"
   },
   {
    "duration": 37,
    "start_time": "2022-10-11T19:33:16.881Z"
   },
   {
    "duration": 8,
    "start_time": "2022-10-11T19:34:10.520Z"
   },
   {
    "duration": 15,
    "start_time": "2022-10-11T19:34:27.252Z"
   },
   {
    "duration": 43,
    "start_time": "2022-10-11T19:34:31.408Z"
   },
   {
    "duration": 35,
    "start_time": "2022-10-11T19:39:40.700Z"
   },
   {
    "duration": 4,
    "start_time": "2022-10-11T19:40:34.656Z"
   },
   {
    "duration": 13,
    "start_time": "2022-10-11T19:40:39.710Z"
   },
   {
    "duration": 36,
    "start_time": "2022-10-11T19:40:46.051Z"
   },
   {
    "duration": 4,
    "start_time": "2022-10-11T20:26:26.167Z"
   },
   {
    "duration": 340,
    "start_time": "2022-10-11T20:26:26.173Z"
   },
   {
    "duration": 129,
    "start_time": "2022-10-11T20:26:26.516Z"
   },
   {
    "duration": 106,
    "start_time": "2022-10-11T20:26:26.647Z"
   },
   {
    "duration": 28,
    "start_time": "2022-10-11T20:26:26.755Z"
   },
   {
    "duration": 31,
    "start_time": "2022-10-11T20:26:26.795Z"
   },
   {
    "duration": 122,
    "start_time": "2022-10-11T20:26:26.828Z"
   },
   {
    "duration": 25,
    "start_time": "2022-10-11T20:26:26.952Z"
   },
   {
    "duration": 34,
    "start_time": "2022-10-11T20:26:26.980Z"
   },
   {
    "duration": 37,
    "start_time": "2022-10-11T20:26:27.016Z"
   },
   {
    "duration": 5,
    "start_time": "2022-10-11T20:26:27.055Z"
   },
   {
    "duration": 53,
    "start_time": "2022-10-11T20:26:27.062Z"
   },
   {
    "duration": 16,
    "start_time": "2022-10-11T20:26:27.118Z"
   },
   {
    "duration": 33,
    "start_time": "2022-10-11T20:26:27.137Z"
   },
   {
    "duration": 13,
    "start_time": "2022-10-11T20:26:27.172Z"
   },
   {
    "duration": 4,
    "start_time": "2022-10-11T20:26:27.195Z"
   },
   {
    "duration": 53,
    "start_time": "2022-10-11T20:26:27.201Z"
   },
   {
    "duration": 10,
    "start_time": "2022-10-11T20:26:27.256Z"
   },
   {
    "duration": 18,
    "start_time": "2022-10-11T20:26:27.268Z"
   },
   {
    "duration": 13,
    "start_time": "2022-10-11T20:26:27.288Z"
   },
   {
    "duration": 34,
    "start_time": "2022-10-11T20:26:27.303Z"
   },
   {
    "duration": 34,
    "start_time": "2022-10-11T20:26:27.339Z"
   },
   {
    "duration": 5,
    "start_time": "2022-10-11T20:26:27.375Z"
   },
   {
    "duration": 28,
    "start_time": "2022-10-11T20:26:27.384Z"
   },
   {
    "duration": 46,
    "start_time": "2022-10-11T20:26:27.414Z"
   },
   {
    "duration": 39,
    "start_time": "2022-10-11T20:26:27.462Z"
   },
   {
    "duration": 5,
    "start_time": "2022-10-11T20:26:27.503Z"
   },
   {
    "duration": 12,
    "start_time": "2022-10-11T20:26:27.509Z"
   },
   {
    "duration": 43,
    "start_time": "2022-10-11T20:26:27.523Z"
   },
   {
    "duration": 33,
    "start_time": "2022-10-11T20:26:27.568Z"
   },
   {
    "duration": 9,
    "start_time": "2022-10-11T20:26:27.603Z"
   },
   {
    "duration": 10,
    "start_time": "2022-10-11T20:26:27.615Z"
   },
   {
    "duration": 26,
    "start_time": "2022-10-11T20:26:27.627Z"
   },
   {
    "duration": 0,
    "start_time": "2022-10-11T20:26:27.655Z"
   },
   {
    "duration": 0,
    "start_time": "2022-10-11T20:26:27.656Z"
   },
   {
    "duration": 0,
    "start_time": "2022-10-11T20:26:27.658Z"
   },
   {
    "duration": 0,
    "start_time": "2022-10-11T20:26:27.659Z"
   },
   {
    "duration": 0,
    "start_time": "2022-10-11T20:26:27.661Z"
   },
   {
    "duration": 0,
    "start_time": "2022-10-11T20:26:27.662Z"
   },
   {
    "duration": 0,
    "start_time": "2022-10-11T20:26:27.663Z"
   },
   {
    "duration": 0,
    "start_time": "2022-10-11T20:26:27.664Z"
   },
   {
    "duration": 0,
    "start_time": "2022-10-11T20:26:27.665Z"
   },
   {
    "duration": 0,
    "start_time": "2022-10-11T20:26:27.667Z"
   },
   {
    "duration": 0,
    "start_time": "2022-10-11T20:26:27.668Z"
   },
   {
    "duration": 0,
    "start_time": "2022-10-11T20:26:27.670Z"
   },
   {
    "duration": 0,
    "start_time": "2022-10-11T20:26:27.671Z"
   },
   {
    "duration": 0,
    "start_time": "2022-10-11T20:26:27.695Z"
   },
   {
    "duration": 0,
    "start_time": "2022-10-11T20:26:27.698Z"
   },
   {
    "duration": 0,
    "start_time": "2022-10-11T20:26:27.699Z"
   },
   {
    "duration": 0,
    "start_time": "2022-10-11T20:26:27.700Z"
   },
   {
    "duration": 0,
    "start_time": "2022-10-11T20:26:27.701Z"
   },
   {
    "duration": 1,
    "start_time": "2022-10-11T20:26:27.702Z"
   },
   {
    "duration": 0,
    "start_time": "2022-10-11T20:26:27.704Z"
   },
   {
    "duration": 0,
    "start_time": "2022-10-11T20:26:27.705Z"
   },
   {
    "duration": 0,
    "start_time": "2022-10-11T20:26:27.706Z"
   },
   {
    "duration": 0,
    "start_time": "2022-10-11T20:26:27.707Z"
   },
   {
    "duration": 0,
    "start_time": "2022-10-11T20:26:27.708Z"
   },
   {
    "duration": 0,
    "start_time": "2022-10-11T20:26:27.709Z"
   },
   {
    "duration": 0,
    "start_time": "2022-10-11T20:26:27.710Z"
   },
   {
    "duration": 0,
    "start_time": "2022-10-11T20:26:27.712Z"
   },
   {
    "duration": 0,
    "start_time": "2022-10-11T20:26:27.713Z"
   },
   {
    "duration": 0,
    "start_time": "2022-10-11T20:26:27.714Z"
   },
   {
    "duration": 0,
    "start_time": "2022-10-11T20:26:27.715Z"
   },
   {
    "duration": 0,
    "start_time": "2022-10-11T20:26:27.716Z"
   },
   {
    "duration": 4,
    "start_time": "2022-10-11T20:27:11.976Z"
   },
   {
    "duration": 9,
    "start_time": "2022-10-11T20:27:15.179Z"
   },
   {
    "duration": 9,
    "start_time": "2022-10-11T20:27:18.263Z"
   },
   {
    "duration": 7,
    "start_time": "2022-10-11T20:27:19.568Z"
   },
   {
    "duration": 53,
    "start_time": "2022-10-11T20:27:22.842Z"
   },
   {
    "duration": 5,
    "start_time": "2022-10-11T20:27:51.178Z"
   },
   {
    "duration": 347,
    "start_time": "2022-10-11T20:27:51.185Z"
   },
   {
    "duration": 120,
    "start_time": "2022-10-11T20:27:51.534Z"
   },
   {
    "duration": 103,
    "start_time": "2022-10-11T20:27:51.657Z"
   },
   {
    "duration": 49,
    "start_time": "2022-10-11T20:27:51.763Z"
   },
   {
    "duration": 28,
    "start_time": "2022-10-11T20:27:51.815Z"
   },
   {
    "duration": 126,
    "start_time": "2022-10-11T20:27:51.846Z"
   },
   {
    "duration": 34,
    "start_time": "2022-10-11T20:27:51.975Z"
   },
   {
    "duration": 20,
    "start_time": "2022-10-11T20:27:52.014Z"
   },
   {
    "duration": 59,
    "start_time": "2022-10-11T20:27:52.036Z"
   },
   {
    "duration": 5,
    "start_time": "2022-10-11T20:27:52.098Z"
   },
   {
    "duration": 35,
    "start_time": "2022-10-11T20:27:52.105Z"
   },
   {
    "duration": 5,
    "start_time": "2022-10-11T20:27:52.142Z"
   },
   {
    "duration": 69,
    "start_time": "2022-10-11T20:27:52.149Z"
   },
   {
    "duration": 13,
    "start_time": "2022-10-11T20:27:52.220Z"
   },
   {
    "duration": 4,
    "start_time": "2022-10-11T20:27:52.236Z"
   },
   {
    "duration": 70,
    "start_time": "2022-10-11T20:27:52.242Z"
   },
   {
    "duration": 12,
    "start_time": "2022-10-11T20:27:52.314Z"
   },
   {
    "duration": 4,
    "start_time": "2022-10-11T20:27:52.328Z"
   },
   {
    "duration": 7,
    "start_time": "2022-10-11T20:27:52.334Z"
   },
   {
    "duration": 58,
    "start_time": "2022-10-11T20:27:52.343Z"
   },
   {
    "duration": 25,
    "start_time": "2022-10-11T20:27:52.404Z"
   },
   {
    "duration": 4,
    "start_time": "2022-10-11T20:27:52.431Z"
   },
   {
    "duration": 25,
    "start_time": "2022-10-11T20:27:52.440Z"
   },
   {
    "duration": 71,
    "start_time": "2022-10-11T20:27:52.468Z"
   },
   {
    "duration": 38,
    "start_time": "2022-10-11T20:27:52.541Z"
   },
   {
    "duration": 7,
    "start_time": "2022-10-11T20:27:52.596Z"
   },
   {
    "duration": 11,
    "start_time": "2022-10-11T20:27:52.605Z"
   },
   {
    "duration": 73,
    "start_time": "2022-10-11T20:27:52.618Z"
   },
   {
    "duration": 26,
    "start_time": "2022-10-11T20:27:52.693Z"
   },
   {
    "duration": 6,
    "start_time": "2022-10-11T20:27:52.721Z"
   },
   {
    "duration": 12,
    "start_time": "2022-10-11T20:27:52.729Z"
   },
   {
    "duration": 17,
    "start_time": "2022-10-11T20:27:52.743Z"
   },
   {
    "duration": 9,
    "start_time": "2022-10-11T20:27:52.762Z"
   },
   {
    "duration": 27,
    "start_time": "2022-10-11T20:27:52.773Z"
   },
   {
    "duration": 55,
    "start_time": "2022-10-11T20:27:52.802Z"
   },
   {
    "duration": 88,
    "start_time": "2022-10-11T20:27:52.859Z"
   },
   {
    "duration": 38,
    "start_time": "2022-10-11T20:27:52.949Z"
   },
   {
    "duration": 45,
    "start_time": "2022-10-11T20:27:52.989Z"
   },
   {
    "duration": 9,
    "start_time": "2022-10-11T20:27:53.036Z"
   },
   {
    "duration": 14,
    "start_time": "2022-10-11T20:27:53.047Z"
   },
   {
    "duration": 41,
    "start_time": "2022-10-11T20:27:53.063Z"
   },
   {
    "duration": 18,
    "start_time": "2022-10-11T20:27:53.107Z"
   },
   {
    "duration": 24,
    "start_time": "2022-10-11T20:27:53.127Z"
   },
   {
    "duration": 70,
    "start_time": "2022-10-11T20:27:53.153Z"
   },
   {
    "duration": 30,
    "start_time": "2022-10-11T20:27:53.226Z"
   },
   {
    "duration": 9,
    "start_time": "2022-10-11T20:27:53.259Z"
   },
   {
    "duration": 2305,
    "start_time": "2022-10-11T20:27:53.270Z"
   },
   {
    "duration": 21,
    "start_time": "2022-10-11T20:27:55.577Z"
   },
   {
    "duration": 249,
    "start_time": "2022-10-11T20:27:55.600Z"
   },
   {
    "duration": 375,
    "start_time": "2022-10-11T20:27:55.854Z"
   },
   {
    "duration": 11,
    "start_time": "2022-10-11T20:27:56.231Z"
   },
   {
    "duration": 421,
    "start_time": "2022-10-11T20:27:56.245Z"
   },
   {
    "duration": 376,
    "start_time": "2022-10-11T20:27:56.669Z"
   },
   {
    "duration": 8,
    "start_time": "2022-10-11T20:27:57.047Z"
   },
   {
    "duration": 155,
    "start_time": "2022-10-11T20:27:57.057Z"
   },
   {
    "duration": 17,
    "start_time": "2022-10-11T20:27:57.214Z"
   },
   {
    "duration": 21,
    "start_time": "2022-10-11T20:27:57.233Z"
   },
   {
    "duration": 14,
    "start_time": "2022-10-11T20:27:57.256Z"
   },
   {
    "duration": 46,
    "start_time": "2022-10-11T20:27:57.272Z"
   },
   {
    "duration": 24,
    "start_time": "2022-10-11T20:27:57.321Z"
   },
   {
    "duration": 190,
    "start_time": "2022-10-11T20:27:57.347Z"
   },
   {
    "duration": 750,
    "start_time": "2022-10-11T20:27:57.539Z"
   },
   {
    "duration": 69,
    "start_time": "2022-10-11T20:27:58.291Z"
   },
   {
    "duration": 60,
    "start_time": "2022-10-11T21:23:01.232Z"
   },
   {
    "duration": 13,
    "start_time": "2022-10-11T21:23:05.549Z"
   },
   {
    "duration": 3,
    "start_time": "2022-10-11T21:29:01.245Z"
   },
   {
    "duration": 3,
    "start_time": "2022-10-11T21:29:03.929Z"
   },
   {
    "duration": 155,
    "start_time": "2022-10-11T21:29:45.900Z"
   },
   {
    "duration": 5,
    "start_time": "2022-10-11T21:31:04.459Z"
   },
   {
    "duration": 91,
    "start_time": "2022-10-11T21:35:28.577Z"
   },
   {
    "duration": 21,
    "start_time": "2022-10-11T21:35:45.970Z"
   },
   {
    "duration": 16,
    "start_time": "2022-10-11T21:36:08.449Z"
   },
   {
    "duration": 18,
    "start_time": "2022-10-11T21:36:22.614Z"
   },
   {
    "duration": 76,
    "start_time": "2022-10-11T21:36:55.065Z"
   },
   {
    "duration": 31,
    "start_time": "2022-10-11T21:37:29.049Z"
   },
   {
    "duration": 114,
    "start_time": "2022-10-11T21:37:31.789Z"
   },
   {
    "duration": 19,
    "start_time": "2022-10-11T21:37:55.745Z"
   },
   {
    "duration": 4,
    "start_time": "2022-10-11T21:38:23.512Z"
   },
   {
    "duration": 8,
    "start_time": "2022-10-11T21:38:31.709Z"
   },
   {
    "duration": 9,
    "start_time": "2022-10-11T21:38:39.722Z"
   },
   {
    "duration": 3,
    "start_time": "2022-10-11T21:40:51.612Z"
   },
   {
    "duration": 215,
    "start_time": "2022-10-11T21:40:51.617Z"
   },
   {
    "duration": 93,
    "start_time": "2022-10-11T21:40:51.834Z"
   },
   {
    "duration": 73,
    "start_time": "2022-10-11T21:40:51.929Z"
   },
   {
    "duration": 23,
    "start_time": "2022-10-11T21:40:52.004Z"
   },
   {
    "duration": 20,
    "start_time": "2022-10-11T21:40:52.028Z"
   },
   {
    "duration": 92,
    "start_time": "2022-10-11T21:40:52.050Z"
   },
   {
    "duration": 17,
    "start_time": "2022-10-11T21:40:52.145Z"
   },
   {
    "duration": 12,
    "start_time": "2022-10-11T21:40:52.163Z"
   },
   {
    "duration": 42,
    "start_time": "2022-10-11T21:40:52.176Z"
   },
   {
    "duration": 4,
    "start_time": "2022-10-11T21:40:52.220Z"
   },
   {
    "duration": 24,
    "start_time": "2022-10-11T21:40:52.225Z"
   },
   {
    "duration": 4,
    "start_time": "2022-10-11T21:40:52.250Z"
   },
   {
    "duration": 49,
    "start_time": "2022-10-11T21:40:52.255Z"
   },
   {
    "duration": 9,
    "start_time": "2022-10-11T21:40:52.305Z"
   },
   {
    "duration": 4,
    "start_time": "2022-10-11T21:40:52.315Z"
   },
   {
    "duration": 29,
    "start_time": "2022-10-11T21:40:52.321Z"
   },
   {
    "duration": 8,
    "start_time": "2022-10-11T21:40:52.352Z"
   },
   {
    "duration": 6,
    "start_time": "2022-10-11T21:40:52.361Z"
   },
   {
    "duration": 28,
    "start_time": "2022-10-11T21:40:52.369Z"
   },
   {
    "duration": 20,
    "start_time": "2022-10-11T21:40:52.399Z"
   },
   {
    "duration": 17,
    "start_time": "2022-10-11T21:40:52.420Z"
   },
   {
    "duration": 4,
    "start_time": "2022-10-11T21:40:52.438Z"
   },
   {
    "duration": 15,
    "start_time": "2022-10-11T21:40:52.443Z"
   },
   {
    "duration": 54,
    "start_time": "2022-10-11T21:40:52.460Z"
   },
   {
    "duration": 22,
    "start_time": "2022-10-11T21:40:52.515Z"
   },
   {
    "duration": 4,
    "start_time": "2022-10-11T21:40:52.539Z"
   },
   {
    "duration": 5,
    "start_time": "2022-10-11T21:40:52.545Z"
   },
   {
    "duration": 54,
    "start_time": "2022-10-11T21:40:52.553Z"
   },
   {
    "duration": 15,
    "start_time": "2022-10-11T21:40:52.608Z"
   },
   {
    "duration": 6,
    "start_time": "2022-10-11T21:40:52.625Z"
   },
   {
    "duration": 4,
    "start_time": "2022-10-11T21:40:52.632Z"
   },
   {
    "duration": 9,
    "start_time": "2022-10-11T21:40:52.638Z"
   },
   {
    "duration": 5,
    "start_time": "2022-10-11T21:40:52.648Z"
   },
   {
    "duration": 8,
    "start_time": "2022-10-11T21:40:52.655Z"
   },
   {
    "duration": 58,
    "start_time": "2022-10-11T21:40:52.664Z"
   },
   {
    "duration": 35,
    "start_time": "2022-10-11T21:40:52.723Z"
   },
   {
    "duration": 19,
    "start_time": "2022-10-11T21:40:52.760Z"
   },
   {
    "duration": 37,
    "start_time": "2022-10-11T21:40:52.781Z"
   },
   {
    "duration": 8,
    "start_time": "2022-10-11T21:40:52.820Z"
   },
   {
    "duration": 20,
    "start_time": "2022-10-11T21:40:52.829Z"
   },
   {
    "duration": 14,
    "start_time": "2022-10-11T21:40:52.851Z"
   },
   {
    "duration": 11,
    "start_time": "2022-10-11T21:40:52.866Z"
   },
   {
    "duration": 9,
    "start_time": "2022-10-11T21:40:52.895Z"
   },
   {
    "duration": 39,
    "start_time": "2022-10-11T21:40:52.906Z"
   },
   {
    "duration": 17,
    "start_time": "2022-10-11T21:40:52.946Z"
   },
   {
    "duration": 13,
    "start_time": "2022-10-11T21:40:52.965Z"
   },
   {
    "duration": 1623,
    "start_time": "2022-10-11T21:40:52.979Z"
   },
   {
    "duration": 9,
    "start_time": "2022-10-11T21:40:54.604Z"
   },
   {
    "duration": 157,
    "start_time": "2022-10-11T21:40:54.614Z"
   },
   {
    "duration": 259,
    "start_time": "2022-10-11T21:40:54.773Z"
   },
   {
    "duration": 8,
    "start_time": "2022-10-11T21:40:55.034Z"
   },
   {
    "duration": 253,
    "start_time": "2022-10-11T21:40:55.044Z"
   },
   {
    "duration": 249,
    "start_time": "2022-10-11T21:40:55.299Z"
   },
   {
    "duration": 5,
    "start_time": "2022-10-11T21:40:55.549Z"
   },
   {
    "duration": 95,
    "start_time": "2022-10-11T21:40:55.555Z"
   },
   {
    "duration": 13,
    "start_time": "2022-10-11T21:40:55.651Z"
   },
   {
    "duration": 14,
    "start_time": "2022-10-11T21:40:55.666Z"
   },
   {
    "duration": 5,
    "start_time": "2022-10-11T21:40:55.695Z"
   },
   {
    "duration": 13,
    "start_time": "2022-10-11T21:40:55.701Z"
   },
   {
    "duration": 15,
    "start_time": "2022-10-11T21:40:55.716Z"
   },
   {
    "duration": 124,
    "start_time": "2022-10-11T21:40:55.732Z"
   },
   {
    "duration": 527,
    "start_time": "2022-10-11T21:40:55.858Z"
   },
   {
    "duration": 46,
    "start_time": "2022-10-11T21:40:56.387Z"
   },
   {
    "duration": 80,
    "start_time": "2022-10-11T21:40:56.435Z"
   },
   {
    "duration": 6,
    "start_time": "2022-10-11T21:40:56.517Z"
   },
   {
    "duration": 10,
    "start_time": "2022-10-11T21:40:56.524Z"
   },
   {
    "duration": 3,
    "start_time": "2022-10-11T21:41:01.341Z"
   },
   {
    "duration": 31,
    "start_time": "2022-10-11T21:41:02.546Z"
   },
   {
    "duration": 105,
    "start_time": "2022-10-11T21:41:04.551Z"
   },
   {
    "duration": 9,
    "start_time": "2022-10-11T21:41:11.452Z"
   },
   {
    "duration": 4,
    "start_time": "2022-10-11T21:42:09.146Z"
   },
   {
    "duration": 226,
    "start_time": "2022-10-11T21:42:09.152Z"
   },
   {
    "duration": 85,
    "start_time": "2022-10-11T21:42:09.380Z"
   },
   {
    "duration": 69,
    "start_time": "2022-10-11T21:42:09.467Z"
   },
   {
    "duration": 22,
    "start_time": "2022-10-11T21:42:09.538Z"
   },
   {
    "duration": 34,
    "start_time": "2022-10-11T21:42:09.562Z"
   },
   {
    "duration": 65,
    "start_time": "2022-10-11T21:42:09.597Z"
   },
   {
    "duration": 16,
    "start_time": "2022-10-11T21:42:09.664Z"
   },
   {
    "duration": 11,
    "start_time": "2022-10-11T21:42:09.694Z"
   },
   {
    "duration": 27,
    "start_time": "2022-10-11T21:42:09.707Z"
   },
   {
    "duration": 4,
    "start_time": "2022-10-11T21:42:09.736Z"
   },
   {
    "duration": 23,
    "start_time": "2022-10-11T21:42:09.741Z"
   },
   {
    "duration": 3,
    "start_time": "2022-10-11T21:42:09.765Z"
   },
   {
    "duration": 46,
    "start_time": "2022-10-11T21:42:09.769Z"
   },
   {
    "duration": 9,
    "start_time": "2022-10-11T21:42:09.816Z"
   },
   {
    "duration": 3,
    "start_time": "2022-10-11T21:42:09.827Z"
   },
   {
    "duration": 27,
    "start_time": "2022-10-11T21:42:09.831Z"
   },
   {
    "duration": 35,
    "start_time": "2022-10-11T21:42:09.860Z"
   },
   {
    "duration": 4,
    "start_time": "2022-10-11T21:42:09.897Z"
   },
   {
    "duration": 7,
    "start_time": "2022-10-11T21:42:09.902Z"
   },
   {
    "duration": 19,
    "start_time": "2022-10-11T21:42:09.910Z"
   },
   {
    "duration": 17,
    "start_time": "2022-10-11T21:42:09.931Z"
   },
   {
    "duration": 4,
    "start_time": "2022-10-11T21:42:09.950Z"
   },
   {
    "duration": 42,
    "start_time": "2022-10-11T21:42:09.956Z"
   },
   {
    "duration": 35,
    "start_time": "2022-10-11T21:42:10.000Z"
   },
   {
    "duration": 29,
    "start_time": "2022-10-11T21:42:10.036Z"
   },
   {
    "duration": 32,
    "start_time": "2022-10-11T21:42:10.067Z"
   },
   {
    "duration": 5,
    "start_time": "2022-10-11T21:42:10.101Z"
   },
   {
    "duration": 34,
    "start_time": "2022-10-11T21:42:10.111Z"
   },
   {
    "duration": 17,
    "start_time": "2022-10-11T21:42:10.146Z"
   },
   {
    "duration": 31,
    "start_time": "2022-10-11T21:42:10.165Z"
   },
   {
    "duration": 2,
    "start_time": "2022-10-11T21:42:10.198Z"
   },
   {
    "duration": 11,
    "start_time": "2022-10-11T21:42:10.201Z"
   },
   {
    "duration": 6,
    "start_time": "2022-10-11T21:42:10.213Z"
   },
   {
    "duration": 5,
    "start_time": "2022-10-11T21:42:10.220Z"
   },
   {
    "duration": 34,
    "start_time": "2022-10-11T21:42:10.227Z"
   },
   {
    "duration": 63,
    "start_time": "2022-10-11T21:42:10.263Z"
   },
   {
    "duration": 21,
    "start_time": "2022-10-11T21:42:10.328Z"
   },
   {
    "duration": 44,
    "start_time": "2022-10-11T21:42:10.351Z"
   },
   {
    "duration": 7,
    "start_time": "2022-10-11T21:42:10.397Z"
   },
   {
    "duration": 7,
    "start_time": "2022-10-11T21:42:10.405Z"
   },
   {
    "duration": 11,
    "start_time": "2022-10-11T21:42:10.414Z"
   },
   {
    "duration": 9,
    "start_time": "2022-10-11T21:42:10.427Z"
   },
   {
    "duration": 15,
    "start_time": "2022-10-11T21:42:10.438Z"
   },
   {
    "duration": 59,
    "start_time": "2022-10-11T21:42:10.454Z"
   },
   {
    "duration": 18,
    "start_time": "2022-10-11T21:42:10.514Z"
   },
   {
    "duration": 9,
    "start_time": "2022-10-11T21:42:10.534Z"
   },
   {
    "duration": 1399,
    "start_time": "2022-10-11T21:42:10.545Z"
   },
   {
    "duration": 10,
    "start_time": "2022-10-11T21:42:11.946Z"
   },
   {
    "duration": 158,
    "start_time": "2022-10-11T21:42:11.958Z"
   },
   {
    "duration": 249,
    "start_time": "2022-10-11T21:42:12.118Z"
   },
   {
    "duration": 9,
    "start_time": "2022-10-11T21:42:12.369Z"
   },
   {
    "duration": 274,
    "start_time": "2022-10-11T21:42:12.380Z"
   },
   {
    "duration": 259,
    "start_time": "2022-10-11T21:42:12.657Z"
   },
   {
    "duration": 5,
    "start_time": "2022-10-11T21:42:12.918Z"
   },
   {
    "duration": 98,
    "start_time": "2022-10-11T21:42:12.925Z"
   },
   {
    "duration": 14,
    "start_time": "2022-10-11T21:42:13.025Z"
   },
   {
    "duration": 16,
    "start_time": "2022-10-11T21:42:13.040Z"
   },
   {
    "duration": 6,
    "start_time": "2022-10-11T21:42:13.058Z"
   },
   {
    "duration": 43,
    "start_time": "2022-10-11T21:42:13.065Z"
   },
   {
    "duration": 16,
    "start_time": "2022-10-11T21:42:13.110Z"
   },
   {
    "duration": 118,
    "start_time": "2022-10-11T21:42:13.128Z"
   },
   {
    "duration": 547,
    "start_time": "2022-10-11T21:42:13.248Z"
   },
   {
    "duration": 43,
    "start_time": "2022-10-11T21:42:13.796Z"
   },
   {
    "duration": 65,
    "start_time": "2022-10-11T21:42:13.841Z"
   },
   {
    "duration": 4,
    "start_time": "2022-10-11T21:42:13.908Z"
   },
   {
    "duration": 4,
    "start_time": "2022-10-11T21:42:13.914Z"
   },
   {
    "duration": 34,
    "start_time": "2022-10-11T21:42:13.920Z"
   },
   {
    "duration": 117,
    "start_time": "2022-10-11T21:42:13.955Z"
   },
   {
    "duration": 29,
    "start_time": "2022-10-11T21:42:17.366Z"
   },
   {
    "duration": 97,
    "start_time": "2022-10-11T21:42:18.719Z"
   },
   {
    "duration": 24,
    "start_time": "2022-10-11T21:42:19.773Z"
   },
   {
    "duration": 19,
    "start_time": "2022-10-11T21:43:26.220Z"
   },
   {
    "duration": 11,
    "start_time": "2022-10-11T21:47:03.385Z"
   },
   {
    "duration": 9,
    "start_time": "2022-10-11T21:48:42.133Z"
   },
   {
    "duration": 3,
    "start_time": "2022-10-11T21:48:46.290Z"
   },
   {
    "duration": 10,
    "start_time": "2022-10-11T21:48:49.280Z"
   },
   {
    "duration": 9,
    "start_time": "2022-10-11T21:49:07.569Z"
   },
   {
    "duration": 4,
    "start_time": "2022-10-11T21:49:43.694Z"
   },
   {
    "duration": 3,
    "start_time": "2022-10-11T21:49:44.535Z"
   },
   {
    "duration": 2,
    "start_time": "2022-10-11T21:49:45.275Z"
   },
   {
    "duration": 23,
    "start_time": "2022-10-11T21:49:46.887Z"
   },
   {
    "duration": 3,
    "start_time": "2022-10-11T21:51:00.761Z"
   },
   {
    "duration": 2,
    "start_time": "2022-10-11T21:51:02.548Z"
   },
   {
    "duration": 21,
    "start_time": "2022-10-11T21:51:05.017Z"
   },
   {
    "duration": 18,
    "start_time": "2022-10-11T21:51:25.325Z"
   },
   {
    "duration": 16,
    "start_time": "2022-10-11T21:52:51.478Z"
   },
   {
    "duration": 12,
    "start_time": "2022-10-11T21:53:13.099Z"
   },
   {
    "duration": 82,
    "start_time": "2022-10-11T21:54:18.181Z"
   },
   {
    "duration": 56,
    "start_time": "2022-10-11T21:54:25.308Z"
   },
   {
    "duration": 3,
    "start_time": "2022-10-11T21:55:07.201Z"
   },
   {
    "duration": 231,
    "start_time": "2022-10-11T21:55:07.207Z"
   },
   {
    "duration": 97,
    "start_time": "2022-10-11T21:55:07.440Z"
   },
   {
    "duration": 73,
    "start_time": "2022-10-11T21:55:07.538Z"
   },
   {
    "duration": 34,
    "start_time": "2022-10-11T21:55:07.613Z"
   },
   {
    "duration": 18,
    "start_time": "2022-10-11T21:55:07.649Z"
   },
   {
    "duration": 91,
    "start_time": "2022-10-11T21:55:07.669Z"
   },
   {
    "duration": 18,
    "start_time": "2022-10-11T21:55:07.762Z"
   },
   {
    "duration": 12,
    "start_time": "2022-10-11T21:55:07.796Z"
   },
   {
    "duration": 34,
    "start_time": "2022-10-11T21:55:07.810Z"
   },
   {
    "duration": 5,
    "start_time": "2022-10-11T21:55:07.847Z"
   },
   {
    "duration": 56,
    "start_time": "2022-10-11T21:55:07.853Z"
   },
   {
    "duration": 4,
    "start_time": "2022-10-11T21:55:07.911Z"
   },
   {
    "duration": 32,
    "start_time": "2022-10-11T21:55:07.916Z"
   },
   {
    "duration": 10,
    "start_time": "2022-10-11T21:55:07.952Z"
   },
   {
    "duration": 8,
    "start_time": "2022-10-11T21:55:07.964Z"
   },
   {
    "duration": 53,
    "start_time": "2022-10-11T21:55:07.973Z"
   },
   {
    "duration": 9,
    "start_time": "2022-10-11T21:55:08.027Z"
   },
   {
    "duration": 11,
    "start_time": "2022-10-11T21:55:08.038Z"
   },
   {
    "duration": 12,
    "start_time": "2022-10-11T21:55:08.051Z"
   },
   {
    "duration": 33,
    "start_time": "2022-10-11T21:55:08.065Z"
   },
   {
    "duration": 22,
    "start_time": "2022-10-11T21:55:08.100Z"
   },
   {
    "duration": 4,
    "start_time": "2022-10-11T21:55:08.123Z"
   },
   {
    "duration": 17,
    "start_time": "2022-10-11T21:55:08.128Z"
   },
   {
    "duration": 57,
    "start_time": "2022-10-11T21:55:08.147Z"
   },
   {
    "duration": 24,
    "start_time": "2022-10-11T21:55:08.205Z"
   },
   {
    "duration": 4,
    "start_time": "2022-10-11T21:55:08.231Z"
   },
   {
    "duration": 5,
    "start_time": "2022-10-11T21:55:08.237Z"
   },
   {
    "duration": 52,
    "start_time": "2022-10-11T21:55:08.245Z"
   },
   {
    "duration": 17,
    "start_time": "2022-10-11T21:55:08.299Z"
   },
   {
    "duration": 9,
    "start_time": "2022-10-11T21:55:08.318Z"
   },
   {
    "duration": 5,
    "start_time": "2022-10-11T21:55:08.329Z"
   },
   {
    "duration": 10,
    "start_time": "2022-10-11T21:55:08.336Z"
   },
   {
    "duration": 6,
    "start_time": "2022-10-11T21:55:08.348Z"
   },
   {
    "duration": 5,
    "start_time": "2022-10-11T21:55:08.355Z"
   },
   {
    "duration": 60,
    "start_time": "2022-10-11T21:55:08.362Z"
   },
   {
    "duration": 37,
    "start_time": "2022-10-11T21:55:08.423Z"
   },
   {
    "duration": 36,
    "start_time": "2022-10-11T21:55:08.461Z"
   },
   {
    "duration": 30,
    "start_time": "2022-10-11T21:55:08.499Z"
   },
   {
    "duration": 7,
    "start_time": "2022-10-11T21:55:08.530Z"
   },
   {
    "duration": 7,
    "start_time": "2022-10-11T21:55:08.538Z"
   },
   {
    "duration": 11,
    "start_time": "2022-10-11T21:55:08.546Z"
   },
   {
    "duration": 37,
    "start_time": "2022-10-11T21:55:08.559Z"
   },
   {
    "duration": 9,
    "start_time": "2022-10-11T21:55:08.597Z"
   },
   {
    "duration": 36,
    "start_time": "2022-10-11T21:55:08.607Z"
   },
   {
    "duration": 17,
    "start_time": "2022-10-11T21:55:08.645Z"
   },
   {
    "duration": 13,
    "start_time": "2022-10-11T21:55:08.663Z"
   },
   {
    "duration": 1407,
    "start_time": "2022-10-11T21:55:08.678Z"
   },
   {
    "duration": 12,
    "start_time": "2022-10-11T21:55:10.087Z"
   },
   {
    "duration": 156,
    "start_time": "2022-10-11T21:55:10.101Z"
   },
   {
    "duration": 240,
    "start_time": "2022-10-11T21:55:10.258Z"
   },
   {
    "duration": 12,
    "start_time": "2022-10-11T21:55:10.500Z"
   },
   {
    "duration": 264,
    "start_time": "2022-10-11T21:55:10.513Z"
   },
   {
    "duration": 257,
    "start_time": "2022-10-11T21:55:10.778Z"
   },
   {
    "duration": 6,
    "start_time": "2022-10-11T21:55:11.037Z"
   },
   {
    "duration": 100,
    "start_time": "2022-10-11T21:55:11.044Z"
   },
   {
    "duration": 14,
    "start_time": "2022-10-11T21:55:11.146Z"
   },
   {
    "duration": 33,
    "start_time": "2022-10-11T21:55:11.162Z"
   },
   {
    "duration": 6,
    "start_time": "2022-10-11T21:55:11.197Z"
   },
   {
    "duration": 14,
    "start_time": "2022-10-11T21:55:11.205Z"
   },
   {
    "duration": 20,
    "start_time": "2022-10-11T21:55:11.220Z"
   },
   {
    "duration": 145,
    "start_time": "2022-10-11T21:55:11.242Z"
   },
   {
    "duration": 548,
    "start_time": "2022-10-11T21:55:11.389Z"
   },
   {
    "duration": 57,
    "start_time": "2022-10-11T21:55:11.938Z"
   },
   {
    "duration": 62,
    "start_time": "2022-10-11T21:55:11.997Z"
   },
   {
    "duration": 5,
    "start_time": "2022-10-11T21:55:12.060Z"
   },
   {
    "duration": 5,
    "start_time": "2022-10-11T21:55:12.067Z"
   },
   {
    "duration": 24,
    "start_time": "2022-10-11T21:55:12.074Z"
   },
   {
    "duration": 26,
    "start_time": "2022-10-11T21:55:12.100Z"
   },
   {
    "duration": 84,
    "start_time": "2022-10-11T21:55:12.128Z"
   },
   {
    "duration": 81,
    "start_time": "2022-10-11T21:55:16.544Z"
   },
   {
    "duration": 3,
    "start_time": "2022-10-11T21:55:55.994Z"
   },
   {
    "duration": 32,
    "start_time": "2022-10-11T21:55:58.117Z"
   },
   {
    "duration": 4,
    "start_time": "2022-10-11T21:56:55.196Z"
   },
   {
    "duration": 220,
    "start_time": "2022-10-11T21:56:55.201Z"
   },
   {
    "duration": 89,
    "start_time": "2022-10-11T21:56:55.423Z"
   },
   {
    "duration": 63,
    "start_time": "2022-10-11T21:56:55.514Z"
   },
   {
    "duration": 29,
    "start_time": "2022-10-11T21:56:55.578Z"
   },
   {
    "duration": 17,
    "start_time": "2022-10-11T21:56:55.609Z"
   },
   {
    "duration": 85,
    "start_time": "2022-10-11T21:56:55.627Z"
   },
   {
    "duration": 15,
    "start_time": "2022-10-11T21:56:55.713Z"
   },
   {
    "duration": 10,
    "start_time": "2022-10-11T21:56:55.731Z"
   },
   {
    "duration": 22,
    "start_time": "2022-10-11T21:56:55.742Z"
   },
   {
    "duration": 3,
    "start_time": "2022-10-11T21:56:55.765Z"
   },
   {
    "duration": 43,
    "start_time": "2022-10-11T21:56:55.769Z"
   },
   {
    "duration": 3,
    "start_time": "2022-10-11T21:56:55.813Z"
   },
   {
    "duration": 32,
    "start_time": "2022-10-11T21:56:55.817Z"
   },
   {
    "duration": 8,
    "start_time": "2022-10-11T21:56:55.851Z"
   },
   {
    "duration": 5,
    "start_time": "2022-10-11T21:56:55.860Z"
   },
   {
    "duration": 47,
    "start_time": "2022-10-11T21:56:55.867Z"
   },
   {
    "duration": 8,
    "start_time": "2022-10-11T21:56:55.915Z"
   },
   {
    "duration": 5,
    "start_time": "2022-10-11T21:56:55.925Z"
   },
   {
    "duration": 10,
    "start_time": "2022-10-11T21:56:55.931Z"
   },
   {
    "duration": 22,
    "start_time": "2022-10-11T21:56:55.942Z"
   },
   {
    "duration": 35,
    "start_time": "2022-10-11T21:56:55.965Z"
   },
   {
    "duration": 4,
    "start_time": "2022-10-11T21:56:56.001Z"
   },
   {
    "duration": 16,
    "start_time": "2022-10-11T21:56:56.008Z"
   },
   {
    "duration": 32,
    "start_time": "2022-10-11T21:56:56.025Z"
   },
   {
    "duration": 47,
    "start_time": "2022-10-11T21:56:56.058Z"
   },
   {
    "duration": 4,
    "start_time": "2022-10-11T21:56:56.107Z"
   },
   {
    "duration": 5,
    "start_time": "2022-10-11T21:56:56.113Z"
   },
   {
    "duration": 36,
    "start_time": "2022-10-11T21:56:56.119Z"
   },
   {
    "duration": 15,
    "start_time": "2022-10-11T21:56:56.157Z"
   },
   {
    "duration": 22,
    "start_time": "2022-10-11T21:56:56.174Z"
   },
   {
    "duration": 6,
    "start_time": "2022-10-11T21:56:56.197Z"
   },
   {
    "duration": 8,
    "start_time": "2022-10-11T21:56:56.205Z"
   },
   {
    "duration": 5,
    "start_time": "2022-10-11T21:56:56.215Z"
   },
   {
    "duration": 5,
    "start_time": "2022-10-11T21:56:56.221Z"
   },
   {
    "duration": 33,
    "start_time": "2022-10-11T21:56:56.227Z"
   },
   {
    "duration": 56,
    "start_time": "2022-10-11T21:56:56.262Z"
   },
   {
    "duration": 20,
    "start_time": "2022-10-11T21:56:56.320Z"
   },
   {
    "duration": 25,
    "start_time": "2022-10-11T21:56:56.342Z"
   },
   {
    "duration": 6,
    "start_time": "2022-10-11T21:56:56.369Z"
   },
   {
    "duration": 5,
    "start_time": "2022-10-11T21:56:56.395Z"
   },
   {
    "duration": 12,
    "start_time": "2022-10-11T21:56:56.401Z"
   },
   {
    "duration": 10,
    "start_time": "2022-10-11T21:56:56.414Z"
   },
   {
    "duration": 11,
    "start_time": "2022-10-11T21:56:56.425Z"
   },
   {
    "duration": 34,
    "start_time": "2022-10-11T21:56:56.438Z"
   },
   {
    "duration": 22,
    "start_time": "2022-10-11T21:56:56.495Z"
   },
   {
    "duration": 20,
    "start_time": "2022-10-11T21:56:56.519Z"
   },
   {
    "duration": 1466,
    "start_time": "2022-10-11T21:56:56.541Z"
   },
   {
    "duration": 11,
    "start_time": "2022-10-11T21:56:58.008Z"
   },
   {
    "duration": 444,
    "start_time": "2022-10-11T21:56:58.020Z"
   },
   {
    "duration": 237,
    "start_time": "2022-10-11T21:56:58.466Z"
   },
   {
    "duration": 8,
    "start_time": "2022-10-11T21:56:58.705Z"
   },
   {
    "duration": 251,
    "start_time": "2022-10-11T21:56:58.715Z"
   },
   {
    "duration": 237,
    "start_time": "2022-10-11T21:56:58.968Z"
   },
   {
    "duration": 5,
    "start_time": "2022-10-11T21:56:59.207Z"
   },
   {
    "duration": 95,
    "start_time": "2022-10-11T21:56:59.214Z"
   },
   {
    "duration": 13,
    "start_time": "2022-10-11T21:56:59.311Z"
   },
   {
    "duration": 15,
    "start_time": "2022-10-11T21:56:59.325Z"
   },
   {
    "duration": 7,
    "start_time": "2022-10-11T21:56:59.342Z"
   },
   {
    "duration": 12,
    "start_time": "2022-10-11T21:56:59.350Z"
   },
   {
    "duration": 42,
    "start_time": "2022-10-11T21:56:59.364Z"
   },
   {
    "duration": 107,
    "start_time": "2022-10-11T21:56:59.407Z"
   },
   {
    "duration": 583,
    "start_time": "2022-10-11T21:56:59.516Z"
   },
   {
    "duration": 44,
    "start_time": "2022-10-11T21:57:00.100Z"
   },
   {
    "duration": 75,
    "start_time": "2022-10-11T21:57:00.145Z"
   },
   {
    "duration": 4,
    "start_time": "2022-10-11T21:57:00.222Z"
   },
   {
    "duration": 21,
    "start_time": "2022-10-11T21:57:00.228Z"
   },
   {
    "duration": 4,
    "start_time": "2022-10-11T21:59:25.568Z"
   },
   {
    "duration": 233,
    "start_time": "2022-10-11T21:59:25.574Z"
   },
   {
    "duration": 74,
    "start_time": "2022-10-11T21:59:25.809Z"
   },
   {
    "duration": 68,
    "start_time": "2022-10-11T21:59:25.885Z"
   },
   {
    "duration": 21,
    "start_time": "2022-10-11T21:59:25.956Z"
   },
   {
    "duration": 18,
    "start_time": "2022-10-11T21:59:25.994Z"
   },
   {
    "duration": 68,
    "start_time": "2022-10-11T21:59:26.013Z"
   },
   {
    "duration": 18,
    "start_time": "2022-10-11T21:59:26.095Z"
   },
   {
    "duration": 11,
    "start_time": "2022-10-11T21:59:26.115Z"
   },
   {
    "duration": 22,
    "start_time": "2022-10-11T21:59:26.128Z"
   },
   {
    "duration": 3,
    "start_time": "2022-10-11T21:59:26.152Z"
   },
   {
    "duration": 47,
    "start_time": "2022-10-11T21:59:26.157Z"
   },
   {
    "duration": 4,
    "start_time": "2022-10-11T21:59:26.205Z"
   },
   {
    "duration": 29,
    "start_time": "2022-10-11T21:59:26.210Z"
   },
   {
    "duration": 9,
    "start_time": "2022-10-11T21:59:26.241Z"
   },
   {
    "duration": 3,
    "start_time": "2022-10-11T21:59:26.252Z"
   },
   {
    "duration": 54,
    "start_time": "2022-10-11T21:59:26.257Z"
   },
   {
    "duration": 10,
    "start_time": "2022-10-11T21:59:26.313Z"
   },
   {
    "duration": 12,
    "start_time": "2022-10-11T21:59:26.325Z"
   },
   {
    "duration": 9,
    "start_time": "2022-10-11T21:59:26.339Z"
   },
   {
    "duration": 23,
    "start_time": "2022-10-11T21:59:26.350Z"
   },
   {
    "duration": 38,
    "start_time": "2022-10-11T21:59:26.374Z"
   },
   {
    "duration": 4,
    "start_time": "2022-10-11T21:59:26.413Z"
   },
   {
    "duration": 18,
    "start_time": "2022-10-11T21:59:26.419Z"
   },
   {
    "duration": 59,
    "start_time": "2022-10-11T21:59:26.438Z"
   },
   {
    "duration": 31,
    "start_time": "2022-10-11T21:59:26.498Z"
   },
   {
    "duration": 5,
    "start_time": "2022-10-11T21:59:26.531Z"
   },
   {
    "duration": 22,
    "start_time": "2022-10-11T21:59:26.538Z"
   },
   {
    "duration": 57,
    "start_time": "2022-10-11T21:59:26.564Z"
   },
   {
    "duration": 23,
    "start_time": "2022-10-11T21:59:26.623Z"
   },
   {
    "duration": 11,
    "start_time": "2022-10-11T21:59:26.648Z"
   },
   {
    "duration": 6,
    "start_time": "2022-10-11T21:59:26.661Z"
   },
   {
    "duration": 10,
    "start_time": "2022-10-11T21:59:26.669Z"
   },
   {
    "duration": 19,
    "start_time": "2022-10-11T21:59:26.680Z"
   },
   {
    "duration": 8,
    "start_time": "2022-10-11T21:59:26.701Z"
   },
   {
    "duration": 39,
    "start_time": "2022-10-11T21:59:26.710Z"
   },
   {
    "duration": 51,
    "start_time": "2022-10-11T21:59:26.751Z"
   },
   {
    "duration": 24,
    "start_time": "2022-10-11T21:59:26.803Z"
   },
   {
    "duration": 27,
    "start_time": "2022-10-11T21:59:26.829Z"
   },
   {
    "duration": 7,
    "start_time": "2022-10-11T21:59:26.858Z"
   },
   {
    "duration": 32,
    "start_time": "2022-10-11T21:59:26.867Z"
   },
   {
    "duration": 12,
    "start_time": "2022-10-11T21:59:26.900Z"
   },
   {
    "duration": 9,
    "start_time": "2022-10-11T21:59:26.914Z"
   },
   {
    "duration": 10,
    "start_time": "2022-10-11T21:59:26.925Z"
   },
   {
    "duration": 30,
    "start_time": "2022-10-11T21:59:26.937Z"
   },
   {
    "duration": 38,
    "start_time": "2022-10-11T21:59:26.968Z"
   },
   {
    "duration": 8,
    "start_time": "2022-10-11T21:59:27.007Z"
   },
   {
    "duration": 1431,
    "start_time": "2022-10-11T21:59:27.016Z"
   },
   {
    "duration": 11,
    "start_time": "2022-10-11T21:59:28.449Z"
   },
   {
    "duration": 168,
    "start_time": "2022-10-11T21:59:28.462Z"
   },
   {
    "duration": 263,
    "start_time": "2022-10-11T21:59:28.632Z"
   },
   {
    "duration": 9,
    "start_time": "2022-10-11T21:59:28.896Z"
   },
   {
    "duration": 261,
    "start_time": "2022-10-11T21:59:28.907Z"
   },
   {
    "duration": 248,
    "start_time": "2022-10-11T21:59:29.170Z"
   },
   {
    "duration": 6,
    "start_time": "2022-10-11T21:59:29.420Z"
   },
   {
    "duration": 99,
    "start_time": "2022-10-11T21:59:29.428Z"
   },
   {
    "duration": 13,
    "start_time": "2022-10-11T21:59:29.529Z"
   },
   {
    "duration": 14,
    "start_time": "2022-10-11T21:59:29.544Z"
   },
   {
    "duration": 9,
    "start_time": "2022-10-11T21:59:29.560Z"
   },
   {
    "duration": 30,
    "start_time": "2022-10-11T21:59:29.570Z"
   },
   {
    "duration": 21,
    "start_time": "2022-10-11T21:59:29.602Z"
   },
   {
    "duration": 123,
    "start_time": "2022-10-11T21:59:29.624Z"
   },
   {
    "duration": 571,
    "start_time": "2022-10-11T21:59:29.749Z"
   },
   {
    "duration": 43,
    "start_time": "2022-10-11T21:59:30.322Z"
   },
   {
    "duration": 71,
    "start_time": "2022-10-11T21:59:30.367Z"
   },
   {
    "duration": 6,
    "start_time": "2022-10-11T21:59:30.439Z"
   },
   {
    "duration": 16,
    "start_time": "2022-10-11T21:59:30.446Z"
   },
   {
    "duration": 3,
    "start_time": "2022-10-11T21:59:35.966Z"
   },
   {
    "duration": 3,
    "start_time": "2022-10-11T21:59:39.022Z"
   },
   {
    "duration": 24,
    "start_time": "2022-10-11T22:00:11.205Z"
   },
   {
    "duration": 72,
    "start_time": "2022-10-11T22:00:57.714Z"
   },
   {
    "duration": 15,
    "start_time": "2022-10-11T22:01:03.223Z"
   },
   {
    "duration": 6,
    "start_time": "2022-10-11T22:01:35.830Z"
   },
   {
    "duration": 58,
    "start_time": "2022-10-11T22:01:41.924Z"
   },
   {
    "duration": 4,
    "start_time": "2022-10-11T22:02:10.879Z"
   },
   {
    "duration": 233,
    "start_time": "2022-10-11T22:02:10.885Z"
   },
   {
    "duration": 88,
    "start_time": "2022-10-11T22:02:11.120Z"
   },
   {
    "duration": 65,
    "start_time": "2022-10-11T22:02:11.209Z"
   },
   {
    "duration": 41,
    "start_time": "2022-10-11T22:02:11.276Z"
   },
   {
    "duration": 18,
    "start_time": "2022-10-11T22:02:11.318Z"
   },
   {
    "duration": 84,
    "start_time": "2022-10-11T22:02:11.337Z"
   },
   {
    "duration": 16,
    "start_time": "2022-10-11T22:02:11.423Z"
   },
   {
    "duration": 10,
    "start_time": "2022-10-11T22:02:11.440Z"
   },
   {
    "duration": 22,
    "start_time": "2022-10-11T22:02:11.452Z"
   },
   {
    "duration": 4,
    "start_time": "2022-10-11T22:02:11.496Z"
   },
   {
    "duration": 24,
    "start_time": "2022-10-11T22:02:11.502Z"
   },
   {
    "duration": 4,
    "start_time": "2022-10-11T22:02:11.528Z"
   },
   {
    "duration": 42,
    "start_time": "2022-10-11T22:02:11.533Z"
   },
   {
    "duration": 27,
    "start_time": "2022-10-11T22:02:11.577Z"
   },
   {
    "duration": 7,
    "start_time": "2022-10-11T22:02:11.606Z"
   },
   {
    "duration": 35,
    "start_time": "2022-10-11T22:02:11.615Z"
   },
   {
    "duration": 9,
    "start_time": "2022-10-11T22:02:11.652Z"
   },
   {
    "duration": 4,
    "start_time": "2022-10-11T22:02:11.662Z"
   },
   {
    "duration": 28,
    "start_time": "2022-10-11T22:02:11.668Z"
   },
   {
    "duration": 26,
    "start_time": "2022-10-11T22:02:11.698Z"
   },
   {
    "duration": 19,
    "start_time": "2022-10-11T22:02:11.726Z"
   },
   {
    "duration": 4,
    "start_time": "2022-10-11T22:02:11.747Z"
   },
   {
    "duration": 21,
    "start_time": "2022-10-11T22:02:11.752Z"
   },
   {
    "duration": 50,
    "start_time": "2022-10-11T22:02:11.774Z"
   },
   {
    "duration": 24,
    "start_time": "2022-10-11T22:02:11.825Z"
   },
   {
    "duration": 5,
    "start_time": "2022-10-11T22:02:11.850Z"
   },
   {
    "duration": 5,
    "start_time": "2022-10-11T22:02:11.856Z"
   },
   {
    "duration": 55,
    "start_time": "2022-10-11T22:02:11.864Z"
   },
   {
    "duration": 17,
    "start_time": "2022-10-11T22:02:11.920Z"
   },
   {
    "duration": 7,
    "start_time": "2022-10-11T22:02:11.938Z"
   },
   {
    "duration": 7,
    "start_time": "2022-10-11T22:02:11.947Z"
   },
   {
    "duration": 9,
    "start_time": "2022-10-11T22:02:11.955Z"
   },
   {
    "duration": 7,
    "start_time": "2022-10-11T22:02:11.965Z"
   },
   {
    "duration": 6,
    "start_time": "2022-10-11T22:02:11.994Z"
   },
   {
    "duration": 35,
    "start_time": "2022-10-11T22:02:12.002Z"
   },
   {
    "duration": 34,
    "start_time": "2022-10-11T22:02:12.039Z"
   },
   {
    "duration": 20,
    "start_time": "2022-10-11T22:02:12.095Z"
   },
   {
    "duration": 28,
    "start_time": "2022-10-11T22:02:12.117Z"
   },
   {
    "duration": 7,
    "start_time": "2022-10-11T22:02:12.147Z"
   },
   {
    "duration": 5,
    "start_time": "2022-10-11T22:02:12.156Z"
   },
   {
    "duration": 37,
    "start_time": "2022-10-11T22:02:12.162Z"
   },
   {
    "duration": 8,
    "start_time": "2022-10-11T22:02:12.200Z"
   },
   {
    "duration": 10,
    "start_time": "2022-10-11T22:02:12.210Z"
   },
   {
    "duration": 33,
    "start_time": "2022-10-11T22:02:12.222Z"
   },
   {
    "duration": 17,
    "start_time": "2022-10-11T22:02:12.257Z"
   },
   {
    "duration": 8,
    "start_time": "2022-10-11T22:02:12.294Z"
   },
   {
    "duration": 1362,
    "start_time": "2022-10-11T22:02:12.303Z"
   },
   {
    "duration": 9,
    "start_time": "2022-10-11T22:02:13.666Z"
   },
   {
    "duration": 474,
    "start_time": "2022-10-11T22:02:13.676Z"
   },
   {
    "duration": 247,
    "start_time": "2022-10-11T22:02:14.152Z"
   },
   {
    "duration": 8,
    "start_time": "2022-10-11T22:02:14.401Z"
   },
   {
    "duration": 252,
    "start_time": "2022-10-11T22:02:14.410Z"
   },
   {
    "duration": 256,
    "start_time": "2022-10-11T22:02:14.664Z"
   },
   {
    "duration": 5,
    "start_time": "2022-10-11T22:02:14.921Z"
   },
   {
    "duration": 93,
    "start_time": "2022-10-11T22:02:14.928Z"
   },
   {
    "duration": 13,
    "start_time": "2022-10-11T22:02:15.023Z"
   },
   {
    "duration": 17,
    "start_time": "2022-10-11T22:02:15.038Z"
   },
   {
    "duration": 8,
    "start_time": "2022-10-11T22:02:15.057Z"
   },
   {
    "duration": 36,
    "start_time": "2022-10-11T22:02:15.066Z"
   },
   {
    "duration": 16,
    "start_time": "2022-10-11T22:02:15.103Z"
   },
   {
    "duration": 117,
    "start_time": "2022-10-11T22:02:15.121Z"
   },
   {
    "duration": 552,
    "start_time": "2022-10-11T22:02:15.239Z"
   },
   {
    "duration": 42,
    "start_time": "2022-10-11T22:02:15.795Z"
   },
   {
    "duration": 64,
    "start_time": "2022-10-11T22:02:15.839Z"
   },
   {
    "duration": 5,
    "start_time": "2022-10-11T22:02:15.905Z"
   },
   {
    "duration": 13,
    "start_time": "2022-10-11T22:02:15.911Z"
   },
   {
    "duration": 5,
    "start_time": "2022-10-11T22:02:15.925Z"
   },
   {
    "duration": 24,
    "start_time": "2022-10-11T22:02:15.931Z"
   },
   {
    "duration": 81,
    "start_time": "2022-10-11T22:02:15.957Z"
   },
   {
    "duration": 14,
    "start_time": "2022-10-11T22:02:16.039Z"
   },
   {
    "duration": 7,
    "start_time": "2022-10-11T22:02:16.054Z"
   },
   {
    "duration": 67,
    "start_time": "2022-10-11T22:02:16.063Z"
   },
   {
    "duration": 1757,
    "start_time": "2022-10-11T22:04:47.295Z"
   },
   {
    "duration": 206,
    "start_time": "2022-10-11T22:04:49.054Z"
   },
   {
    "duration": 82,
    "start_time": "2022-10-11T22:04:49.261Z"
   },
   {
    "duration": 65,
    "start_time": "2022-10-11T22:04:49.345Z"
   },
   {
    "duration": 22,
    "start_time": "2022-10-11T22:04:49.411Z"
   },
   {
    "duration": 16,
    "start_time": "2022-10-11T22:04:49.435Z"
   },
   {
    "duration": 95,
    "start_time": "2022-10-11T22:04:49.453Z"
   },
   {
    "duration": 17,
    "start_time": "2022-10-11T22:04:49.549Z"
   },
   {
    "duration": 11,
    "start_time": "2022-10-11T22:04:49.568Z"
   },
   {
    "duration": 28,
    "start_time": "2022-10-11T22:04:49.594Z"
   },
   {
    "duration": 4,
    "start_time": "2022-10-11T22:04:49.624Z"
   },
   {
    "duration": 22,
    "start_time": "2022-10-11T22:04:49.629Z"
   },
   {
    "duration": 3,
    "start_time": "2022-10-11T22:04:49.652Z"
   },
   {
    "duration": 52,
    "start_time": "2022-10-11T22:04:49.656Z"
   },
   {
    "duration": 9,
    "start_time": "2022-10-11T22:04:49.710Z"
   },
   {
    "duration": 6,
    "start_time": "2022-10-11T22:04:49.720Z"
   },
   {
    "duration": 29,
    "start_time": "2022-10-11T22:04:49.728Z"
   },
   {
    "duration": 10,
    "start_time": "2022-10-11T22:04:49.759Z"
   },
   {
    "duration": 28,
    "start_time": "2022-10-11T22:04:49.770Z"
   },
   {
    "duration": 8,
    "start_time": "2022-10-11T22:04:49.799Z"
   },
   {
    "duration": 19,
    "start_time": "2022-10-11T22:04:49.809Z"
   },
   {
    "duration": 17,
    "start_time": "2022-10-11T22:04:49.829Z"
   },
   {
    "duration": 3,
    "start_time": "2022-10-11T22:04:49.847Z"
   },
   {
    "duration": 20,
    "start_time": "2022-10-11T22:04:49.852Z"
   },
   {
    "duration": 32,
    "start_time": "2022-10-11T22:04:49.894Z"
   },
   {
    "duration": 22,
    "start_time": "2022-10-11T22:04:49.927Z"
   },
   {
    "duration": 4,
    "start_time": "2022-10-11T22:04:49.950Z"
   },
   {
    "duration": 6,
    "start_time": "2022-10-11T22:04:49.958Z"
   },
   {
    "duration": 51,
    "start_time": "2022-10-11T22:04:49.965Z"
   },
   {
    "duration": 17,
    "start_time": "2022-10-11T22:04:50.017Z"
   },
   {
    "duration": 8,
    "start_time": "2022-10-11T22:04:50.035Z"
   },
   {
    "duration": 8,
    "start_time": "2022-10-11T22:04:50.044Z"
   },
   {
    "duration": 11,
    "start_time": "2022-10-11T22:04:50.054Z"
   },
   {
    "duration": 5,
    "start_time": "2022-10-11T22:04:50.067Z"
   },
   {
    "duration": 26,
    "start_time": "2022-10-11T22:04:50.073Z"
   },
   {
    "duration": 34,
    "start_time": "2022-10-11T22:04:50.101Z"
   },
   {
    "duration": 39,
    "start_time": "2022-10-11T22:04:50.136Z"
   },
   {
    "duration": 37,
    "start_time": "2022-10-11T22:04:50.176Z"
   },
   {
    "duration": 27,
    "start_time": "2022-10-11T22:04:50.214Z"
   },
   {
    "duration": 6,
    "start_time": "2022-10-11T22:04:50.242Z"
   },
   {
    "duration": 6,
    "start_time": "2022-10-11T22:04:50.250Z"
   },
   {
    "duration": 39,
    "start_time": "2022-10-11T22:04:50.258Z"
   },
   {
    "duration": 11,
    "start_time": "2022-10-11T22:04:50.299Z"
   },
   {
    "duration": 10,
    "start_time": "2022-10-11T22:04:50.311Z"
   },
   {
    "duration": 33,
    "start_time": "2022-10-11T22:04:50.323Z"
   },
   {
    "duration": 18,
    "start_time": "2022-10-11T22:04:50.357Z"
   },
   {
    "duration": 22,
    "start_time": "2022-10-11T22:04:50.376Z"
   },
   {
    "duration": 1422,
    "start_time": "2022-10-11T22:04:50.399Z"
   },
   {
    "duration": 8,
    "start_time": "2022-10-11T22:04:51.822Z"
   },
   {
    "duration": 153,
    "start_time": "2022-10-11T22:04:51.832Z"
   },
   {
    "duration": 253,
    "start_time": "2022-10-11T22:04:51.987Z"
   },
   {
    "duration": 8,
    "start_time": "2022-10-11T22:04:52.242Z"
   },
   {
    "duration": 268,
    "start_time": "2022-10-11T22:04:52.252Z"
   },
   {
    "duration": 254,
    "start_time": "2022-10-11T22:04:52.521Z"
   },
   {
    "duration": 6,
    "start_time": "2022-10-11T22:04:52.776Z"
   },
   {
    "duration": 126,
    "start_time": "2022-10-11T22:04:52.783Z"
   },
   {
    "duration": 19,
    "start_time": "2022-10-11T22:04:52.910Z"
   },
   {
    "duration": 16,
    "start_time": "2022-10-11T22:04:52.931Z"
   },
   {
    "duration": 4,
    "start_time": "2022-10-11T22:04:52.949Z"
   },
   {
    "duration": 40,
    "start_time": "2022-10-11T22:04:52.955Z"
   },
   {
    "duration": 16,
    "start_time": "2022-10-11T22:04:52.997Z"
   },
   {
    "duration": 122,
    "start_time": "2022-10-11T22:04:53.015Z"
   },
   {
    "duration": 581,
    "start_time": "2022-10-11T22:04:53.139Z"
   },
   {
    "duration": 44,
    "start_time": "2022-10-11T22:04:53.723Z"
   },
   {
    "duration": 60,
    "start_time": "2022-10-11T22:04:53.769Z"
   },
   {
    "duration": 6,
    "start_time": "2022-10-11T22:04:53.830Z"
   },
   {
    "duration": 4,
    "start_time": "2022-10-11T22:04:53.838Z"
   },
   {
    "duration": 6,
    "start_time": "2022-10-11T22:04:53.844Z"
   },
   {
    "duration": 26,
    "start_time": "2022-10-11T22:04:53.851Z"
   },
   {
    "duration": 95,
    "start_time": "2022-10-11T22:04:53.879Z"
   },
   {
    "duration": 25,
    "start_time": "2022-10-11T22:04:53.976Z"
   },
   {
    "duration": 15,
    "start_time": "2022-10-11T22:04:54.003Z"
   },
   {
    "duration": 46,
    "start_time": "2022-10-11T22:04:54.020Z"
   },
   {
    "duration": 42,
    "start_time": "2022-10-11T22:07:56.617Z"
   },
   {
    "duration": 14,
    "start_time": "2022-10-11T22:08:18.129Z"
   },
   {
    "duration": 31,
    "start_time": "2022-10-11T22:08:23.711Z"
   },
   {
    "duration": 5,
    "start_time": "2022-10-11T22:08:54.165Z"
   },
   {
    "duration": 4,
    "start_time": "2022-10-11T22:10:38.128Z"
   },
   {
    "duration": 245,
    "start_time": "2022-10-11T22:10:38.134Z"
   },
   {
    "duration": 83,
    "start_time": "2022-10-11T22:10:38.381Z"
   },
   {
    "duration": 74,
    "start_time": "2022-10-11T22:10:38.465Z"
   },
   {
    "duration": 22,
    "start_time": "2022-10-11T22:10:38.542Z"
   },
   {
    "duration": 39,
    "start_time": "2022-10-11T22:10:38.566Z"
   },
   {
    "duration": 70,
    "start_time": "2022-10-11T22:10:38.607Z"
   },
   {
    "duration": 34,
    "start_time": "2022-10-11T22:10:38.679Z"
   },
   {
    "duration": 10,
    "start_time": "2022-10-11T22:10:38.716Z"
   },
   {
    "duration": 22,
    "start_time": "2022-10-11T22:10:38.728Z"
   },
   {
    "duration": 3,
    "start_time": "2022-10-11T22:10:38.753Z"
   },
   {
    "duration": 52,
    "start_time": "2022-10-11T22:10:38.757Z"
   },
   {
    "duration": 4,
    "start_time": "2022-10-11T22:10:38.811Z"
   },
   {
    "duration": 34,
    "start_time": "2022-10-11T22:10:38.817Z"
   },
   {
    "duration": 10,
    "start_time": "2022-10-11T22:10:38.853Z"
   },
   {
    "duration": 4,
    "start_time": "2022-10-11T22:10:38.864Z"
   },
   {
    "duration": 54,
    "start_time": "2022-10-11T22:10:38.869Z"
   },
   {
    "duration": 8,
    "start_time": "2022-10-11T22:10:38.925Z"
   },
   {
    "duration": 4,
    "start_time": "2022-10-11T22:10:38.934Z"
   },
   {
    "duration": 7,
    "start_time": "2022-10-11T22:10:38.939Z"
   },
   {
    "duration": 22,
    "start_time": "2022-10-11T22:10:38.947Z"
   },
   {
    "duration": 46,
    "start_time": "2022-10-11T22:10:38.971Z"
   },
   {
    "duration": 4,
    "start_time": "2022-10-11T22:10:39.019Z"
   },
   {
    "duration": 15,
    "start_time": "2022-10-11T22:10:39.024Z"
   },
   {
    "duration": 32,
    "start_time": "2022-10-11T22:10:39.041Z"
   },
   {
    "duration": 28,
    "start_time": "2022-10-11T22:10:39.095Z"
   },
   {
    "duration": 5,
    "start_time": "2022-10-11T22:10:39.125Z"
   },
   {
    "duration": 4,
    "start_time": "2022-10-11T22:10:39.131Z"
   },
   {
    "duration": 33,
    "start_time": "2022-10-11T22:10:39.138Z"
   },
   {
    "duration": 44,
    "start_time": "2022-10-11T22:10:39.173Z"
   },
   {
    "duration": 7,
    "start_time": "2022-10-11T22:10:39.218Z"
   },
   {
    "duration": 5,
    "start_time": "2022-10-11T22:10:39.227Z"
   },
   {
    "duration": 11,
    "start_time": "2022-10-11T22:10:39.233Z"
   },
   {
    "duration": 6,
    "start_time": "2022-10-11T22:10:39.245Z"
   },
   {
    "duration": 7,
    "start_time": "2022-10-11T22:10:39.253Z"
   },
   {
    "duration": 57,
    "start_time": "2022-10-11T22:10:39.261Z"
   },
   {
    "duration": 47,
    "start_time": "2022-10-11T22:10:39.319Z"
   },
   {
    "duration": 40,
    "start_time": "2022-10-11T22:10:39.369Z"
   },
   {
    "duration": 27,
    "start_time": "2022-10-11T22:10:39.411Z"
   },
   {
    "duration": 6,
    "start_time": "2022-10-11T22:10:39.440Z"
   },
   {
    "duration": 8,
    "start_time": "2022-10-11T22:10:39.448Z"
   },
   {
    "duration": 11,
    "start_time": "2022-10-11T22:10:39.457Z"
   },
   {
    "duration": 33,
    "start_time": "2022-10-11T22:10:39.469Z"
   },
   {
    "duration": 20,
    "start_time": "2022-10-11T22:10:39.503Z"
   },
   {
    "duration": 33,
    "start_time": "2022-10-11T22:10:39.525Z"
   },
   {
    "duration": 18,
    "start_time": "2022-10-11T22:10:39.559Z"
   },
   {
    "duration": 26,
    "start_time": "2022-10-11T22:10:39.578Z"
   },
   {
    "duration": 1454,
    "start_time": "2022-10-11T22:10:39.606Z"
   },
   {
    "duration": 9,
    "start_time": "2022-10-11T22:10:41.061Z"
   },
   {
    "duration": 164,
    "start_time": "2022-10-11T22:10:41.072Z"
   },
   {
    "duration": 264,
    "start_time": "2022-10-11T22:10:41.238Z"
   },
   {
    "duration": 11,
    "start_time": "2022-10-11T22:10:41.503Z"
   },
   {
    "duration": 519,
    "start_time": "2022-10-11T22:10:41.515Z"
   },
   {
    "duration": 271,
    "start_time": "2022-10-11T22:10:42.035Z"
   },
   {
    "duration": 6,
    "start_time": "2022-10-11T22:10:42.307Z"
   },
   {
    "duration": 105,
    "start_time": "2022-10-11T22:10:42.314Z"
   },
   {
    "duration": 15,
    "start_time": "2022-10-11T22:10:42.421Z"
   },
   {
    "duration": 16,
    "start_time": "2022-10-11T22:10:42.437Z"
   },
   {
    "duration": 9,
    "start_time": "2022-10-11T22:10:42.454Z"
   },
   {
    "duration": 33,
    "start_time": "2022-10-11T22:10:42.464Z"
   },
   {
    "duration": 18,
    "start_time": "2022-10-11T22:10:42.499Z"
   },
   {
    "duration": 125,
    "start_time": "2022-10-11T22:10:42.518Z"
   },
   {
    "duration": 572,
    "start_time": "2022-10-11T22:10:42.644Z"
   },
   {
    "duration": 45,
    "start_time": "2022-10-11T22:10:43.217Z"
   },
   {
    "duration": 76,
    "start_time": "2022-10-11T22:10:43.264Z"
   },
   {
    "duration": 6,
    "start_time": "2022-10-11T22:10:45.366Z"
   },
   {
    "duration": 14,
    "start_time": "2022-10-11T22:10:49.701Z"
   },
   {
    "duration": 9,
    "start_time": "2022-10-11T22:12:03.842Z"
   },
   {
    "duration": 4,
    "start_time": "2022-10-11T22:12:06.109Z"
   },
   {
    "duration": 6,
    "start_time": "2022-10-11T22:13:07.019Z"
   },
   {
    "duration": 4,
    "start_time": "2022-10-11T22:13:14.226Z"
   },
   {
    "duration": 3,
    "start_time": "2022-10-11T22:13:27.044Z"
   },
   {
    "duration": 34,
    "start_time": "2022-10-11T22:13:35.589Z"
   },
   {
    "duration": 69,
    "start_time": "2022-10-11T22:14:17.814Z"
   },
   {
    "duration": 16,
    "start_time": "2022-10-11T22:14:23.365Z"
   },
   {
    "duration": 142,
    "start_time": "2022-10-11T22:14:44.350Z"
   },
   {
    "duration": 115,
    "start_time": "2022-10-11T22:16:10.227Z"
   },
   {
    "duration": 21,
    "start_time": "2022-10-11T22:17:16.728Z"
   },
   {
    "duration": 24,
    "start_time": "2022-10-11T22:17:40.045Z"
   },
   {
    "duration": 81,
    "start_time": "2022-10-11T22:17:47.790Z"
   },
   {
    "duration": 24,
    "start_time": "2022-10-11T22:18:03.854Z"
   },
   {
    "duration": 24,
    "start_time": "2022-10-11T22:18:08.411Z"
   },
   {
    "duration": 82,
    "start_time": "2022-10-11T22:18:16.022Z"
   },
   {
    "duration": 47,
    "start_time": "2022-10-11T22:18:22.221Z"
   },
   {
    "duration": 1408,
    "start_time": "2022-10-11T22:18:58.848Z"
   },
   {
    "duration": 224,
    "start_time": "2022-10-11T22:19:00.259Z"
   },
   {
    "duration": 91,
    "start_time": "2022-10-11T22:19:00.484Z"
   },
   {
    "duration": 79,
    "start_time": "2022-10-11T22:19:00.577Z"
   },
   {
    "duration": 22,
    "start_time": "2022-10-11T22:19:00.658Z"
   },
   {
    "duration": 37,
    "start_time": "2022-10-11T22:19:00.682Z"
   },
   {
    "duration": 102,
    "start_time": "2022-10-11T22:19:00.721Z"
   },
   {
    "duration": 19,
    "start_time": "2022-10-11T22:19:00.824Z"
   },
   {
    "duration": 14,
    "start_time": "2022-10-11T22:19:00.845Z"
   },
   {
    "duration": 51,
    "start_time": "2022-10-11T22:19:00.862Z"
   },
   {
    "duration": 4,
    "start_time": "2022-10-11T22:19:00.915Z"
   },
   {
    "duration": 37,
    "start_time": "2022-10-11T22:19:00.921Z"
   },
   {
    "duration": 3,
    "start_time": "2022-10-11T22:19:00.960Z"
   },
   {
    "duration": 48,
    "start_time": "2022-10-11T22:19:00.965Z"
   },
   {
    "duration": 11,
    "start_time": "2022-10-11T22:19:01.015Z"
   },
   {
    "duration": 16,
    "start_time": "2022-10-11T22:19:01.028Z"
   },
   {
    "duration": 63,
    "start_time": "2022-10-11T22:19:01.045Z"
   },
   {
    "duration": 12,
    "start_time": "2022-10-11T22:19:01.110Z"
   },
   {
    "duration": 14,
    "start_time": "2022-10-11T22:19:01.124Z"
   },
   {
    "duration": 19,
    "start_time": "2022-10-11T22:19:01.139Z"
   },
   {
    "duration": 33,
    "start_time": "2022-10-11T22:19:01.160Z"
   },
   {
    "duration": 28,
    "start_time": "2022-10-11T22:19:01.194Z"
   },
   {
    "duration": 9,
    "start_time": "2022-10-11T22:19:01.224Z"
   },
   {
    "duration": 21,
    "start_time": "2022-10-11T22:19:01.235Z"
   },
   {
    "duration": 44,
    "start_time": "2022-10-11T22:19:01.258Z"
   },
   {
    "duration": 29,
    "start_time": "2022-10-11T22:19:01.304Z"
   },
   {
    "duration": 5,
    "start_time": "2022-10-11T22:19:01.334Z"
   },
   {
    "duration": 3,
    "start_time": "2022-10-11T22:19:01.344Z"
   },
   {
    "duration": 63,
    "start_time": "2022-10-11T22:19:01.349Z"
   },
   {
    "duration": 18,
    "start_time": "2022-10-11T22:19:01.414Z"
   },
   {
    "duration": 8,
    "start_time": "2022-10-11T22:19:01.434Z"
   },
   {
    "duration": 5,
    "start_time": "2022-10-11T22:19:01.443Z"
   },
   {
    "duration": 8,
    "start_time": "2022-10-11T22:19:01.450Z"
   },
   {
    "duration": 6,
    "start_time": "2022-10-11T22:19:01.460Z"
   },
   {
    "duration": 34,
    "start_time": "2022-10-11T22:19:01.467Z"
   },
   {
    "duration": 38,
    "start_time": "2022-10-11T22:19:01.510Z"
   },
   {
    "duration": 46,
    "start_time": "2022-10-11T22:19:01.549Z"
   },
   {
    "duration": 29,
    "start_time": "2022-10-11T22:19:01.597Z"
   },
   {
    "duration": 42,
    "start_time": "2022-10-11T22:19:01.628Z"
   },
   {
    "duration": 6,
    "start_time": "2022-10-11T22:19:01.672Z"
   },
   {
    "duration": 9,
    "start_time": "2022-10-11T22:19:01.680Z"
   },
   {
    "duration": 14,
    "start_time": "2022-10-11T22:19:01.695Z"
   },
   {
    "duration": 14,
    "start_time": "2022-10-11T22:19:01.710Z"
   },
   {
    "duration": 13,
    "start_time": "2022-10-11T22:19:01.726Z"
   },
   {
    "duration": 38,
    "start_time": "2022-10-11T22:19:01.741Z"
   },
   {
    "duration": 32,
    "start_time": "2022-10-11T22:19:01.781Z"
   },
   {
    "duration": 22,
    "start_time": "2022-10-11T22:19:01.816Z"
   },
   {
    "duration": 1603,
    "start_time": "2022-10-11T22:19:01.839Z"
   },
   {
    "duration": 8,
    "start_time": "2022-10-11T22:19:03.444Z"
   },
   {
    "duration": 163,
    "start_time": "2022-10-11T22:19:03.453Z"
   },
   {
    "duration": 261,
    "start_time": "2022-10-11T22:19:03.618Z"
   },
   {
    "duration": 16,
    "start_time": "2022-10-11T22:19:03.880Z"
   },
   {
    "duration": 257,
    "start_time": "2022-10-11T22:19:03.897Z"
   },
   {
    "duration": 247,
    "start_time": "2022-10-11T22:19:04.156Z"
   },
   {
    "duration": 6,
    "start_time": "2022-10-11T22:19:04.406Z"
   },
   {
    "duration": 112,
    "start_time": "2022-10-11T22:19:04.414Z"
   },
   {
    "duration": 20,
    "start_time": "2022-10-11T22:19:04.528Z"
   },
   {
    "duration": 16,
    "start_time": "2022-10-11T22:19:04.549Z"
   },
   {
    "duration": 33,
    "start_time": "2022-10-11T22:19:04.567Z"
   },
   {
    "duration": 18,
    "start_time": "2022-10-11T22:19:04.601Z"
   },
   {
    "duration": 16,
    "start_time": "2022-10-11T22:19:04.621Z"
   },
   {
    "duration": 125,
    "start_time": "2022-10-11T22:19:04.639Z"
   },
   {
    "duration": 598,
    "start_time": "2022-10-11T22:19:04.766Z"
   },
   {
    "duration": 50,
    "start_time": "2022-10-11T22:19:05.366Z"
   },
   {
    "duration": 58,
    "start_time": "2022-10-11T22:19:05.418Z"
   },
   {
    "duration": 19,
    "start_time": "2022-10-11T22:19:05.478Z"
   },
   {
    "duration": 7,
    "start_time": "2022-10-11T22:19:05.499Z"
   },
   {
    "duration": 26,
    "start_time": "2022-10-11T22:19:05.507Z"
   },
   {
    "duration": 129,
    "start_time": "2022-10-11T22:19:05.535Z"
   },
   {
    "duration": 31,
    "start_time": "2022-10-11T22:19:05.666Z"
   },
   {
    "duration": 99,
    "start_time": "2022-10-11T22:19:05.699Z"
   },
   {
    "duration": 49,
    "start_time": "2022-10-11T22:19:05.800Z"
   },
   {
    "duration": 23,
    "start_time": "2022-10-11T22:21:10.615Z"
   },
   {
    "duration": 86,
    "start_time": "2022-10-11T22:21:15.021Z"
   },
   {
    "duration": 54,
    "start_time": "2022-10-11T22:21:21.662Z"
   },
   {
    "duration": 14,
    "start_time": "2022-10-11T22:22:39.744Z"
   },
   {
    "duration": 34,
    "start_time": "2022-10-11T22:22:42.643Z"
   },
   {
    "duration": 14,
    "start_time": "2022-10-11T22:23:16.654Z"
   },
   {
    "duration": 106,
    "start_time": "2022-10-11T22:23:20.989Z"
   },
   {
    "duration": 15,
    "start_time": "2022-10-11T22:23:22.507Z"
   },
   {
    "duration": 19,
    "start_time": "2022-10-11T22:23:30.755Z"
   },
   {
    "duration": 28,
    "start_time": "2022-10-11T22:23:48.796Z"
   },
   {
    "duration": 77,
    "start_time": "2022-10-11T22:23:51.589Z"
   },
   {
    "duration": 20,
    "start_time": "2022-10-11T22:24:23.813Z"
   },
   {
    "duration": 30,
    "start_time": "2022-10-11T22:24:26.273Z"
   },
   {
    "duration": 13,
    "start_time": "2022-10-11T22:24:39.825Z"
   },
   {
    "duration": 25,
    "start_time": "2022-10-11T22:24:42.077Z"
   },
   {
    "duration": 14,
    "start_time": "2022-10-11T22:25:15.065Z"
   },
   {
    "duration": 11,
    "start_time": "2022-10-11T22:25:51.002Z"
   },
   {
    "duration": 16,
    "start_time": "2022-10-11T22:26:03.104Z"
   },
   {
    "duration": 10,
    "start_time": "2022-10-11T22:31:36.217Z"
   },
   {
    "duration": 10,
    "start_time": "2022-10-11T22:32:20.699Z"
   },
   {
    "duration": 10,
    "start_time": "2022-10-11T22:32:22.958Z"
   },
   {
    "duration": 3,
    "start_time": "2022-10-11T22:32:35.567Z"
   },
   {
    "duration": 106,
    "start_time": "2022-10-11T22:32:40.832Z"
   },
   {
    "duration": 3,
    "start_time": "2022-10-11T22:33:05.379Z"
   },
   {
    "duration": 13,
    "start_time": "2022-10-11T22:33:07.578Z"
   },
   {
    "duration": 31,
    "start_time": "2022-10-11T22:33:26.464Z"
   },
   {
    "duration": 3,
    "start_time": "2022-10-11T22:34:29.210Z"
   },
   {
    "duration": 19,
    "start_time": "2022-10-11T22:34:32.129Z"
   },
   {
    "duration": 12,
    "start_time": "2022-10-11T22:34:37.345Z"
   },
   {
    "duration": 3,
    "start_time": "2022-10-11T22:34:52.910Z"
   },
   {
    "duration": 20,
    "start_time": "2022-10-11T22:34:53.408Z"
   },
   {
    "duration": 17,
    "start_time": "2022-10-11T22:34:56.484Z"
   },
   {
    "duration": 3,
    "start_time": "2022-10-11T22:35:34.844Z"
   },
   {
    "duration": 134,
    "start_time": "2022-10-11T22:36:47.820Z"
   },
   {
    "duration": 15,
    "start_time": "2022-10-11T22:36:55.244Z"
   },
   {
    "duration": 18,
    "start_time": "2022-10-11T22:37:05.029Z"
   },
   {
    "duration": 3,
    "start_time": "2022-10-11T22:39:20.599Z"
   },
   {
    "duration": 5,
    "start_time": "2022-10-11T22:40:35.707Z"
   },
   {
    "duration": 24,
    "start_time": "2022-10-11T22:40:39.140Z"
   },
   {
    "duration": 3,
    "start_time": "2022-10-11T22:41:04.318Z"
   },
   {
    "duration": 3,
    "start_time": "2022-10-11T22:41:05.048Z"
   },
   {
    "duration": 3,
    "start_time": "2022-10-11T22:41:05.425Z"
   },
   {
    "duration": 2,
    "start_time": "2022-10-11T22:41:05.828Z"
   },
   {
    "duration": 3,
    "start_time": "2022-10-11T22:41:06.291Z"
   },
   {
    "duration": 3,
    "start_time": "2022-10-11T22:41:07.197Z"
   },
   {
    "duration": 6,
    "start_time": "2022-10-11T22:41:08.005Z"
   },
   {
    "duration": 513,
    "start_time": "2022-10-11T22:41:10.077Z"
   },
   {
    "duration": 16,
    "start_time": "2022-10-11T22:41:12.439Z"
   },
   {
    "duration": 4,
    "start_time": "2022-10-11T22:41:15.840Z"
   },
   {
    "duration": 79016,
    "start_time": "2022-10-11T22:42:35.080Z"
   },
   {
    "duration": 80614,
    "start_time": "2022-10-11T22:46:29.587Z"
   },
   {
    "duration": 884,
    "start_time": "2022-10-11T22:48:13.223Z"
   },
   {
    "duration": 133,
    "start_time": "2022-10-11T22:48:23.694Z"
   },
   {
    "duration": 18343,
    "start_time": "2022-10-11T22:48:35.092Z"
   },
   {
    "duration": 99,
    "start_time": "2022-10-11T22:50:09.975Z"
   },
   {
    "duration": 122897,
    "start_time": "2022-10-11T22:50:31.786Z"
   },
   {
    "duration": 3,
    "start_time": "2022-10-11T22:52:53.873Z"
   },
   {
    "duration": 9,
    "start_time": "2022-10-11T22:52:55.900Z"
   },
   {
    "duration": 764,
    "start_time": "2022-10-11T22:53:58.868Z"
   },
   {
    "duration": 776,
    "start_time": "2022-10-11T22:55:50.039Z"
   },
   {
    "duration": 10,
    "start_time": "2022-10-11T22:56:07.271Z"
   },
   {
    "duration": 868,
    "start_time": "2022-10-11T22:56:39.235Z"
   },
   {
    "duration": 3,
    "start_time": "2022-10-11T22:57:03.852Z"
   },
   {
    "duration": 592,
    "start_time": "2022-10-11T22:57:08.954Z"
   },
   {
    "duration": 17,
    "start_time": "2022-10-11T22:57:12.005Z"
   },
   {
    "duration": 22,
    "start_time": "2022-10-11T22:58:09.304Z"
   },
   {
    "duration": 4,
    "start_time": "2022-10-11T22:58:12.218Z"
   },
   {
    "duration": 4,
    "start_time": "2022-10-11T22:58:13.371Z"
   },
   {
    "duration": 4,
    "start_time": "2022-10-11T22:58:17.163Z"
   },
   {
    "duration": 3,
    "start_time": "2022-10-11T22:59:02.341Z"
   },
   {
    "duration": 6,
    "start_time": "2022-10-11T23:03:41.874Z"
   },
   {
    "duration": 6,
    "start_time": "2022-10-11T23:03:46.770Z"
   },
   {
    "duration": 7,
    "start_time": "2022-10-11T23:03:59.948Z"
   },
   {
    "duration": 3,
    "start_time": "2022-10-11T23:05:22.146Z"
   },
   {
    "duration": 2,
    "start_time": "2022-10-11T23:05:22.625Z"
   },
   {
    "duration": 3,
    "start_time": "2022-10-11T23:05:23.652Z"
   },
   {
    "duration": 6,
    "start_time": "2022-10-11T23:05:26.495Z"
   },
   {
    "duration": 510,
    "start_time": "2022-10-11T23:05:29.864Z"
   },
   {
    "duration": 17,
    "start_time": "2022-10-11T23:05:30.751Z"
   },
   {
    "duration": 4,
    "start_time": "2022-10-11T23:05:31.515Z"
   },
   {
    "duration": 4,
    "start_time": "2022-10-11T23:07:08.119Z"
   },
   {
    "duration": 6,
    "start_time": "2022-10-11T23:08:12.237Z"
   },
   {
    "duration": 2,
    "start_time": "2022-10-11T23:08:14.891Z"
   },
   {
    "duration": 4,
    "start_time": "2022-10-11T23:08:17.053Z"
   },
   {
    "duration": 562,
    "start_time": "2022-10-11T23:08:24.391Z"
   },
   {
    "duration": 16,
    "start_time": "2022-10-11T23:08:27.173Z"
   },
   {
    "duration": 5,
    "start_time": "2022-10-11T23:08:41.410Z"
   },
   {
    "duration": 49,
    "start_time": "2022-10-12T09:52:30.560Z"
   },
   {
    "duration": 2782,
    "start_time": "2022-10-12T09:52:35.188Z"
   },
   {
    "duration": 516,
    "start_time": "2022-10-12T09:52:37.972Z"
   },
   {
    "duration": 78,
    "start_time": "2022-10-12T09:52:38.489Z"
   },
   {
    "duration": 60,
    "start_time": "2022-10-12T09:52:38.569Z"
   },
   {
    "duration": 24,
    "start_time": "2022-10-12T09:52:38.631Z"
   },
   {
    "duration": 17,
    "start_time": "2022-10-12T09:52:38.656Z"
   },
   {
    "duration": 112,
    "start_time": "2022-10-12T09:52:38.675Z"
   },
   {
    "duration": 37,
    "start_time": "2022-10-12T09:52:38.789Z"
   },
   {
    "duration": 18,
    "start_time": "2022-10-12T09:52:38.827Z"
   },
   {
    "duration": 22,
    "start_time": "2022-10-12T09:52:38.848Z"
   },
   {
    "duration": 3,
    "start_time": "2022-10-12T09:52:38.872Z"
   },
   {
    "duration": 45,
    "start_time": "2022-10-12T09:52:38.877Z"
   },
   {
    "duration": 4,
    "start_time": "2022-10-12T09:52:38.923Z"
   },
   {
    "duration": 31,
    "start_time": "2022-10-12T09:52:38.928Z"
   },
   {
    "duration": 10,
    "start_time": "2022-10-12T09:52:38.960Z"
   },
   {
    "duration": 6,
    "start_time": "2022-10-12T09:52:38.971Z"
   },
   {
    "duration": 51,
    "start_time": "2022-10-12T09:52:38.978Z"
   },
   {
    "duration": 8,
    "start_time": "2022-10-12T09:52:39.031Z"
   },
   {
    "duration": 6,
    "start_time": "2022-10-12T09:52:39.040Z"
   },
   {
    "duration": 17,
    "start_time": "2022-10-12T09:52:39.048Z"
   },
   {
    "duration": 19,
    "start_time": "2022-10-12T09:52:39.067Z"
   },
   {
    "duration": 32,
    "start_time": "2022-10-12T09:52:39.087Z"
   },
   {
    "duration": 4,
    "start_time": "2022-10-12T09:52:39.121Z"
   },
   {
    "duration": 18,
    "start_time": "2022-10-12T09:52:39.127Z"
   },
   {
    "duration": 33,
    "start_time": "2022-10-12T09:52:39.147Z"
   },
   {
    "duration": 50,
    "start_time": "2022-10-12T09:52:39.182Z"
   },
   {
    "duration": 4,
    "start_time": "2022-10-12T09:52:39.234Z"
   },
   {
    "duration": 4,
    "start_time": "2022-10-12T09:52:39.242Z"
   },
   {
    "duration": 61,
    "start_time": "2022-10-12T09:52:39.248Z"
   },
   {
    "duration": 16,
    "start_time": "2022-10-12T09:52:39.310Z"
   },
   {
    "duration": 4,
    "start_time": "2022-10-12T09:52:39.327Z"
   },
   {
    "duration": 3,
    "start_time": "2022-10-12T09:52:39.333Z"
   },
   {
    "duration": 8,
    "start_time": "2022-10-12T09:52:39.338Z"
   },
   {
    "duration": 5,
    "start_time": "2022-10-12T09:52:39.348Z"
   },
   {
    "duration": 5,
    "start_time": "2022-10-12T09:52:39.354Z"
   },
   {
    "duration": 60,
    "start_time": "2022-10-12T09:52:39.360Z"
   },
   {
    "duration": 38,
    "start_time": "2022-10-12T09:52:39.422Z"
   },
   {
    "duration": 25,
    "start_time": "2022-10-12T09:52:39.462Z"
   },
   {
    "duration": 37,
    "start_time": "2022-10-12T09:52:39.489Z"
   },
   {
    "duration": 7,
    "start_time": "2022-10-12T09:52:39.527Z"
   },
   {
    "duration": 6,
    "start_time": "2022-10-12T09:52:39.536Z"
   },
   {
    "duration": 17,
    "start_time": "2022-10-12T09:52:39.543Z"
   },
   {
    "duration": 10,
    "start_time": "2022-10-12T09:52:39.562Z"
   },
   {
    "duration": 37,
    "start_time": "2022-10-12T09:52:39.573Z"
   },
   {
    "duration": 41,
    "start_time": "2022-10-12T09:52:39.612Z"
   },
   {
    "duration": 20,
    "start_time": "2022-10-12T09:52:39.654Z"
   },
   {
    "duration": 11,
    "start_time": "2022-10-12T09:52:39.675Z"
   },
   {
    "duration": 1388,
    "start_time": "2022-10-12T09:52:39.687Z"
   },
   {
    "duration": 8,
    "start_time": "2022-10-12T09:52:41.076Z"
   },
   {
    "duration": 167,
    "start_time": "2022-10-12T09:52:41.085Z"
   },
   {
    "duration": 266,
    "start_time": "2022-10-12T09:52:41.254Z"
   },
   {
    "duration": 8,
    "start_time": "2022-10-12T09:52:41.522Z"
   },
   {
    "duration": 277,
    "start_time": "2022-10-12T09:52:41.532Z"
   },
   {
    "duration": 235,
    "start_time": "2022-10-12T09:52:41.811Z"
   },
   {
    "duration": 5,
    "start_time": "2022-10-12T09:52:42.047Z"
   },
   {
    "duration": 108,
    "start_time": "2022-10-12T09:52:42.054Z"
   },
   {
    "duration": 17,
    "start_time": "2022-10-12T09:52:42.164Z"
   },
   {
    "duration": 28,
    "start_time": "2022-10-12T09:52:42.182Z"
   },
   {
    "duration": 5,
    "start_time": "2022-10-12T09:52:42.211Z"
   },
   {
    "duration": 16,
    "start_time": "2022-10-12T09:52:42.217Z"
   },
   {
    "duration": 16,
    "start_time": "2022-10-12T09:52:42.235Z"
   },
   {
    "duration": 130,
    "start_time": "2022-10-12T09:52:42.252Z"
   },
   {
    "duration": 645,
    "start_time": "2022-10-12T09:52:42.383Z"
   },
   {
    "duration": 50,
    "start_time": "2022-10-12T09:52:43.030Z"
   },
   {
    "duration": 61,
    "start_time": "2022-10-12T09:52:43.082Z"
   },
   {
    "duration": 15,
    "start_time": "2022-10-12T09:52:43.144Z"
   },
   {
    "duration": 12,
    "start_time": "2022-10-12T09:52:43.160Z"
   },
   {
    "duration": 8,
    "start_time": "2022-10-12T09:52:43.174Z"
   },
   {
    "duration": 38,
    "start_time": "2022-10-12T09:52:43.183Z"
   },
   {
    "duration": 120,
    "start_time": "2022-10-12T09:52:43.223Z"
   },
   {
    "duration": 10,
    "start_time": "2022-10-12T09:52:43.345Z"
   },
   {
    "duration": 22,
    "start_time": "2022-10-12T09:52:43.356Z"
   },
   {
    "duration": 23,
    "start_time": "2022-10-12T09:52:43.380Z"
   },
   {
    "duration": 14,
    "start_time": "2022-10-12T09:52:43.408Z"
   },
   {
    "duration": 12,
    "start_time": "2022-10-12T09:52:43.423Z"
   },
   {
    "duration": 12,
    "start_time": "2022-10-12T09:52:43.436Z"
   },
   {
    "duration": 32,
    "start_time": "2022-10-12T09:52:43.449Z"
   },
   {
    "duration": 13,
    "start_time": "2022-10-12T09:52:43.482Z"
   },
   {
    "duration": 12,
    "start_time": "2022-10-12T09:52:43.497Z"
   },
   {
    "duration": 163,
    "start_time": "2022-10-12T09:52:43.510Z"
   },
   {
    "duration": 14,
    "start_time": "2022-10-12T09:52:43.675Z"
   },
   {
    "duration": 28,
    "start_time": "2022-10-12T09:52:43.694Z"
   },
   {
    "duration": 3,
    "start_time": "2022-10-12T09:52:43.724Z"
   },
   {
    "duration": 17,
    "start_time": "2022-10-12T09:52:43.728Z"
   },
   {
    "duration": 12,
    "start_time": "2022-10-12T09:52:43.747Z"
   },
   {
    "duration": 19,
    "start_time": "2022-10-12T09:52:43.760Z"
   },
   {
    "duration": 27,
    "start_time": "2022-10-12T09:52:43.781Z"
   },
   {
    "duration": 16,
    "start_time": "2022-10-12T09:52:43.810Z"
   },
   {
    "duration": 614,
    "start_time": "2022-10-12T09:52:43.827Z"
   },
   {
    "duration": 33,
    "start_time": "2022-10-12T09:52:44.444Z"
   },
   {
    "duration": 21,
    "start_time": "2022-10-12T09:52:44.479Z"
   },
   {
    "duration": 21,
    "start_time": "2022-10-12T09:53:07.824Z"
   },
   {
    "duration": 19,
    "start_time": "2022-10-12T10:05:37.914Z"
   },
   {
    "duration": 5,
    "start_time": "2022-10-12T10:27:15.448Z"
   },
   {
    "duration": 309,
    "start_time": "2022-10-12T10:27:15.455Z"
   },
   {
    "duration": 108,
    "start_time": "2022-10-12T10:27:15.767Z"
   },
   {
    "duration": 76,
    "start_time": "2022-10-12T10:27:15.878Z"
   },
   {
    "duration": 41,
    "start_time": "2022-10-12T10:27:15.957Z"
   },
   {
    "duration": 22,
    "start_time": "2022-10-12T10:27:16.010Z"
   },
   {
    "duration": 140,
    "start_time": "2022-10-12T10:27:16.034Z"
   },
   {
    "duration": 34,
    "start_time": "2022-10-12T10:27:16.176Z"
   },
   {
    "duration": 25,
    "start_time": "2022-10-12T10:27:16.213Z"
   },
   {
    "duration": 33,
    "start_time": "2022-10-12T10:27:16.241Z"
   },
   {
    "duration": 5,
    "start_time": "2022-10-12T10:27:16.277Z"
   },
   {
    "duration": 59,
    "start_time": "2022-10-12T10:27:16.283Z"
   },
   {
    "duration": 4,
    "start_time": "2022-10-12T10:27:16.344Z"
   },
   {
    "duration": 42,
    "start_time": "2022-10-12T10:27:16.349Z"
   },
   {
    "duration": 17,
    "start_time": "2022-10-12T10:27:16.393Z"
   },
   {
    "duration": 4,
    "start_time": "2022-10-12T10:27:16.411Z"
   },
   {
    "duration": 41,
    "start_time": "2022-10-12T10:27:16.417Z"
   },
   {
    "duration": 12,
    "start_time": "2022-10-12T10:27:16.460Z"
   },
   {
    "duration": 17,
    "start_time": "2022-10-12T10:27:16.476Z"
   },
   {
    "duration": 23,
    "start_time": "2022-10-12T10:27:16.495Z"
   },
   {
    "duration": 32,
    "start_time": "2022-10-12T10:27:16.520Z"
   },
   {
    "duration": 24,
    "start_time": "2022-10-12T10:27:16.553Z"
   },
   {
    "duration": 9,
    "start_time": "2022-10-12T10:27:16.579Z"
   },
   {
    "duration": 34,
    "start_time": "2022-10-12T10:27:16.590Z"
   },
   {
    "duration": 62,
    "start_time": "2022-10-12T10:27:16.626Z"
   },
   {
    "duration": 54,
    "start_time": "2022-10-12T10:27:16.690Z"
   },
   {
    "duration": 6,
    "start_time": "2022-10-12T10:27:16.745Z"
   },
   {
    "duration": 13,
    "start_time": "2022-10-12T10:27:16.753Z"
   },
   {
    "duration": 75,
    "start_time": "2022-10-12T10:27:16.772Z"
   },
   {
    "duration": 22,
    "start_time": "2022-10-12T10:27:16.849Z"
   },
   {
    "duration": 9,
    "start_time": "2022-10-12T10:27:16.873Z"
   },
   {
    "duration": 7,
    "start_time": "2022-10-12T10:27:16.883Z"
   },
   {
    "duration": 8,
    "start_time": "2022-10-12T10:27:16.908Z"
   },
   {
    "duration": 8,
    "start_time": "2022-10-12T10:27:16.918Z"
   },
   {
    "duration": 13,
    "start_time": "2022-10-12T10:27:16.928Z"
   },
   {
    "duration": 43,
    "start_time": "2022-10-12T10:27:16.942Z"
   },
   {
    "duration": 58,
    "start_time": "2022-10-12T10:27:16.987Z"
   },
   {
    "duration": 24,
    "start_time": "2022-10-12T10:27:17.047Z"
   },
   {
    "duration": 63,
    "start_time": "2022-10-12T10:27:17.073Z"
   },
   {
    "duration": 10,
    "start_time": "2022-10-12T10:27:17.138Z"
   },
   {
    "duration": 23,
    "start_time": "2022-10-12T10:27:17.150Z"
   },
   {
    "duration": 34,
    "start_time": "2022-10-12T10:27:17.174Z"
   },
   {
    "duration": 34,
    "start_time": "2022-10-12T10:27:17.209Z"
   },
   {
    "duration": 13,
    "start_time": "2022-10-12T10:27:17.246Z"
   },
   {
    "duration": 75,
    "start_time": "2022-10-12T10:27:17.260Z"
   },
   {
    "duration": 34,
    "start_time": "2022-10-12T10:27:17.337Z"
   },
   {
    "duration": 10,
    "start_time": "2022-10-12T10:27:17.374Z"
   },
   {
    "duration": 1579,
    "start_time": "2022-10-12T10:27:17.386Z"
   },
   {
    "duration": 11,
    "start_time": "2022-10-12T10:27:18.967Z"
   },
   {
    "duration": 177,
    "start_time": "2022-10-12T10:27:18.979Z"
   },
   {
    "duration": 262,
    "start_time": "2022-10-12T10:27:19.158Z"
   },
   {
    "duration": 10,
    "start_time": "2022-10-12T10:27:19.422Z"
   },
   {
    "duration": 287,
    "start_time": "2022-10-12T10:27:19.434Z"
   },
   {
    "duration": 386,
    "start_time": "2022-10-12T10:27:19.724Z"
   },
   {
    "duration": 6,
    "start_time": "2022-10-12T10:27:20.112Z"
   },
   {
    "duration": 111,
    "start_time": "2022-10-12T10:27:20.120Z"
   },
   {
    "duration": 18,
    "start_time": "2022-10-12T10:27:20.233Z"
   },
   {
    "duration": 25,
    "start_time": "2022-10-12T10:27:20.252Z"
   },
   {
    "duration": 9,
    "start_time": "2022-10-12T10:27:20.278Z"
   },
   {
    "duration": 33,
    "start_time": "2022-10-12T10:27:20.288Z"
   },
   {
    "duration": 19,
    "start_time": "2022-10-12T10:27:20.322Z"
   },
   {
    "duration": 138,
    "start_time": "2022-10-12T10:27:20.343Z"
   },
   {
    "duration": 585,
    "start_time": "2022-10-12T10:27:20.482Z"
   },
   {
    "duration": 65,
    "start_time": "2022-10-12T10:27:21.069Z"
   },
   {
    "duration": 77,
    "start_time": "2022-10-12T10:27:21.136Z"
   },
   {
    "duration": 14,
    "start_time": "2022-10-12T10:27:21.215Z"
   },
   {
    "duration": 17,
    "start_time": "2022-10-12T10:27:21.231Z"
   },
   {
    "duration": 11,
    "start_time": "2022-10-12T10:27:21.249Z"
   },
   {
    "duration": 53,
    "start_time": "2022-10-12T10:27:21.262Z"
   },
   {
    "duration": 187,
    "start_time": "2022-10-12T10:27:21.317Z"
   },
   {
    "duration": 11,
    "start_time": "2022-10-12T10:27:21.506Z"
   },
   {
    "duration": 18,
    "start_time": "2022-10-12T10:27:21.518Z"
   },
   {
    "duration": 32,
    "start_time": "2022-10-12T10:27:21.538Z"
   },
   {
    "duration": 44,
    "start_time": "2022-10-12T10:27:21.571Z"
   },
   {
    "duration": 19,
    "start_time": "2022-10-12T10:27:21.617Z"
   },
   {
    "duration": 7,
    "start_time": "2022-10-12T10:27:21.638Z"
   },
   {
    "duration": 33,
    "start_time": "2022-10-12T10:27:21.647Z"
   },
   {
    "duration": 16,
    "start_time": "2022-10-12T10:27:21.681Z"
   },
   {
    "duration": 10,
    "start_time": "2022-10-12T10:27:21.699Z"
   },
   {
    "duration": 137,
    "start_time": "2022-10-12T10:27:21.711Z"
   },
   {
    "duration": 19,
    "start_time": "2022-10-12T10:27:21.849Z"
   },
   {
    "duration": 17,
    "start_time": "2022-10-12T10:27:21.870Z"
   },
   {
    "duration": 3,
    "start_time": "2022-10-12T10:27:21.913Z"
   },
   {
    "duration": 6,
    "start_time": "2022-10-12T10:27:21.917Z"
   },
   {
    "duration": 11,
    "start_time": "2022-10-12T10:27:21.925Z"
   },
   {
    "duration": 14,
    "start_time": "2022-10-12T10:27:21.937Z"
   },
   {
    "duration": 16,
    "start_time": "2022-10-12T10:27:21.953Z"
   },
   {
    "duration": 7,
    "start_time": "2022-10-12T10:27:21.975Z"
   },
   {
    "duration": 678,
    "start_time": "2022-10-12T10:27:21.984Z"
   },
   {
    "duration": 19,
    "start_time": "2022-10-12T10:27:22.664Z"
   },
   {
    "duration": 10,
    "start_time": "2022-10-12T10:27:22.685Z"
   },
   {
    "duration": 93215,
    "start_time": "2022-10-12T10:27:22.697Z"
   },
   {
    "duration": 44790,
    "start_time": "2022-10-12T10:29:12.121Z"
   },
   {
    "duration": 556,
    "start_time": "2022-10-12T10:30:10.795Z"
   },
   {
    "duration": 1051,
    "start_time": "2022-10-12T10:30:15.775Z"
   },
   {
    "duration": 1045,
    "start_time": "2022-10-12T10:30:21.468Z"
   },
   {
    "duration": 1889,
    "start_time": "2022-10-12T10:30:26.204Z"
   },
   {
    "duration": 2559,
    "start_time": "2022-10-12T10:30:32.319Z"
   },
   {
    "duration": 2417,
    "start_time": "2022-10-12T10:30:37.216Z"
   },
   {
    "duration": 538,
    "start_time": "2022-10-12T10:30:43.759Z"
   },
   {
    "duration": 534,
    "start_time": "2022-10-12T10:31:02.379Z"
   },
   {
    "duration": 534,
    "start_time": "2022-10-12T10:31:07.792Z"
   },
   {
    "duration": 20803,
    "start_time": "2022-10-12T10:31:13.018Z"
   },
   {
    "duration": 10712,
    "start_time": "2022-10-12T10:32:02.840Z"
   },
   {
    "duration": 97,
    "start_time": "2022-10-12T10:34:33.380Z"
   },
   {
    "duration": 12,
    "start_time": "2022-10-12T10:35:08.247Z"
   },
   {
    "duration": 13054,
    "start_time": "2022-10-12T10:37:02.262Z"
   },
   {
    "duration": 14,
    "start_time": "2022-10-12T10:58:06.782Z"
   },
   {
    "duration": 30854,
    "start_time": "2022-10-12T10:58:26.502Z"
   },
   {
    "duration": 4,
    "start_time": "2022-10-12T10:59:11.233Z"
   },
   {
    "duration": 4,
    "start_time": "2022-10-12T10:59:12.142Z"
   },
   {
    "duration": 11,
    "start_time": "2022-10-12T10:59:13.147Z"
   },
   {
    "duration": 12,
    "start_time": "2022-10-12T10:59:42.484Z"
   },
   {
    "duration": 14970,
    "start_time": "2022-10-12T11:00:03.340Z"
   },
   {
    "duration": 8440,
    "start_time": "2022-10-12T11:00:27.679Z"
   },
   {
    "duration": 16,
    "start_time": "2022-10-12T11:01:22.906Z"
   },
   {
    "duration": 306,
    "start_time": "2022-10-12T11:01:25.557Z"
   },
   {
    "duration": 304,
    "start_time": "2022-10-12T11:01:31.374Z"
   },
   {
    "duration": 499,
    "start_time": "2022-10-12T11:01:37.719Z"
   },
   {
    "duration": 18,
    "start_time": "2022-10-12T11:02:25.210Z"
   },
   {
    "duration": 4,
    "start_time": "2022-10-12T11:05:15.094Z"
   },
   {
    "duration": 233,
    "start_time": "2022-10-12T11:05:15.101Z"
   },
   {
    "duration": 94,
    "start_time": "2022-10-12T11:05:15.336Z"
   },
   {
    "duration": 78,
    "start_time": "2022-10-12T11:05:15.432Z"
   },
   {
    "duration": 28,
    "start_time": "2022-10-12T11:05:15.512Z"
   },
   {
    "duration": 20,
    "start_time": "2022-10-12T11:05:15.542Z"
   },
   {
    "duration": 100,
    "start_time": "2022-10-12T11:05:15.564Z"
   },
   {
    "duration": 21,
    "start_time": "2022-10-12T11:05:15.666Z"
   },
   {
    "duration": 34,
    "start_time": "2022-10-12T11:05:15.689Z"
   },
   {
    "duration": 24,
    "start_time": "2022-10-12T11:05:15.724Z"
   },
   {
    "duration": 4,
    "start_time": "2022-10-12T11:05:15.750Z"
   },
   {
    "duration": 29,
    "start_time": "2022-10-12T11:05:15.755Z"
   },
   {
    "duration": 4,
    "start_time": "2022-10-12T11:05:15.785Z"
   },
   {
    "duration": 41,
    "start_time": "2022-10-12T11:05:15.810Z"
   },
   {
    "duration": 12,
    "start_time": "2022-10-12T11:05:15.853Z"
   },
   {
    "duration": 5,
    "start_time": "2022-10-12T11:05:15.867Z"
   },
   {
    "duration": 62,
    "start_time": "2022-10-12T11:05:15.874Z"
   },
   {
    "duration": 10,
    "start_time": "2022-10-12T11:05:15.938Z"
   },
   {
    "duration": 5,
    "start_time": "2022-10-12T11:05:15.950Z"
   },
   {
    "duration": 6,
    "start_time": "2022-10-12T11:05:15.957Z"
   },
   {
    "duration": 47,
    "start_time": "2022-10-12T11:05:15.965Z"
   },
   {
    "duration": 20,
    "start_time": "2022-10-12T11:05:16.013Z"
   },
   {
    "duration": 4,
    "start_time": "2022-10-12T11:05:16.034Z"
   },
   {
    "duration": 17,
    "start_time": "2022-10-12T11:05:16.039Z"
   },
   {
    "duration": 77,
    "start_time": "2022-10-12T11:05:16.057Z"
   },
   {
    "duration": 28,
    "start_time": "2022-10-12T11:05:16.136Z"
   },
   {
    "duration": 7,
    "start_time": "2022-10-12T11:05:16.166Z"
   },
   {
    "duration": 19,
    "start_time": "2022-10-12T11:05:16.174Z"
   },
   {
    "duration": 41,
    "start_time": "2022-10-12T11:05:16.209Z"
   },
   {
    "duration": 22,
    "start_time": "2022-10-12T11:05:16.251Z"
   },
   {
    "duration": 17,
    "start_time": "2022-10-12T11:05:16.276Z"
   },
   {
    "duration": 16,
    "start_time": "2022-10-12T11:05:16.294Z"
   },
   {
    "duration": 24,
    "start_time": "2022-10-12T11:05:16.312Z"
   },
   {
    "duration": 14,
    "start_time": "2022-10-12T11:05:16.338Z"
   },
   {
    "duration": 11,
    "start_time": "2022-10-12T11:05:16.354Z"
   },
   {
    "duration": 41,
    "start_time": "2022-10-12T11:05:16.367Z"
   },
   {
    "duration": 39,
    "start_time": "2022-10-12T11:05:16.410Z"
   },
   {
    "duration": 25,
    "start_time": "2022-10-12T11:05:16.451Z"
   },
   {
    "duration": 55,
    "start_time": "2022-10-12T11:05:16.478Z"
   },
   {
    "duration": 21,
    "start_time": "2022-10-12T11:05:19.573Z"
   },
   {
    "duration": 4,
    "start_time": "2022-10-12T11:06:04.592Z"
   },
   {
    "duration": 14,
    "start_time": "2022-10-12T11:06:41.761Z"
   },
   {
    "duration": 44,
    "start_time": "2022-10-12T11:07:41.685Z"
   },
   {
    "duration": 9,
    "start_time": "2022-10-12T11:08:44.048Z"
   },
   {
    "duration": 14,
    "start_time": "2022-10-12T11:09:32.595Z"
   },
   {
    "duration": 28,
    "start_time": "2022-10-12T11:09:47.033Z"
   },
   {
    "duration": 36,
    "start_time": "2022-10-12T11:09:52.819Z"
   },
   {
    "duration": 20,
    "start_time": "2022-10-12T11:10:19.392Z"
   },
   {
    "duration": 45,
    "start_time": "2022-10-12T11:10:28.447Z"
   },
   {
    "duration": 8,
    "start_time": "2022-10-12T11:10:49.999Z"
   },
   {
    "duration": 20,
    "start_time": "2022-10-12T11:10:55.983Z"
   },
   {
    "duration": 17,
    "start_time": "2022-10-12T11:11:19.634Z"
   },
   {
    "duration": 4,
    "start_time": "2022-10-12T11:16:26.668Z"
   },
   {
    "duration": 3,
    "start_time": "2022-10-12T11:17:43.160Z"
   },
   {
    "duration": 5,
    "start_time": "2022-10-12T11:17:46.212Z"
   },
   {
    "duration": 5,
    "start_time": "2022-10-12T11:27:56.929Z"
   },
   {
    "duration": 179,
    "start_time": "2022-10-12T11:27:56.935Z"
   },
   {
    "duration": 94,
    "start_time": "2022-10-12T11:27:57.116Z"
   },
   {
    "duration": 65,
    "start_time": "2022-10-12T11:27:57.212Z"
   },
   {
    "duration": 39,
    "start_time": "2022-10-12T11:27:57.279Z"
   },
   {
    "duration": 18,
    "start_time": "2022-10-12T11:27:57.320Z"
   },
   {
    "duration": 88,
    "start_time": "2022-10-12T11:27:57.340Z"
   },
   {
    "duration": 20,
    "start_time": "2022-10-12T11:27:57.429Z"
   },
   {
    "duration": 11,
    "start_time": "2022-10-12T11:27:57.451Z"
   },
   {
    "duration": 23,
    "start_time": "2022-10-12T11:27:57.464Z"
   },
   {
    "duration": 3,
    "start_time": "2022-10-12T11:27:57.511Z"
   },
   {
    "duration": 23,
    "start_time": "2022-10-12T11:27:57.516Z"
   },
   {
    "duration": 4,
    "start_time": "2022-10-12T11:27:57.540Z"
   },
   {
    "duration": 31,
    "start_time": "2022-10-12T11:27:57.545Z"
   },
   {
    "duration": 33,
    "start_time": "2022-10-12T11:27:57.577Z"
   },
   {
    "duration": 4,
    "start_time": "2022-10-12T11:27:57.611Z"
   },
   {
    "duration": 31,
    "start_time": "2022-10-12T11:27:57.616Z"
   },
   {
    "duration": 9,
    "start_time": "2022-10-12T11:27:57.648Z"
   },
   {
    "duration": 4,
    "start_time": "2022-10-12T11:27:57.658Z"
   },
   {
    "duration": 12,
    "start_time": "2022-10-12T11:27:57.663Z"
   },
   {
    "duration": 42,
    "start_time": "2022-10-12T11:27:57.676Z"
   },
   {
    "duration": 19,
    "start_time": "2022-10-12T11:27:57.720Z"
   },
   {
    "duration": 4,
    "start_time": "2022-10-12T11:27:57.741Z"
   },
   {
    "duration": 16,
    "start_time": "2022-10-12T11:27:57.747Z"
   },
   {
    "duration": 61,
    "start_time": "2022-10-12T11:27:57.765Z"
   },
   {
    "duration": 28,
    "start_time": "2022-10-12T11:27:57.827Z"
   },
   {
    "duration": 6,
    "start_time": "2022-10-12T11:27:57.856Z"
   },
   {
    "duration": 7,
    "start_time": "2022-10-12T11:27:57.863Z"
   },
   {
    "duration": 83,
    "start_time": "2022-10-12T11:27:57.875Z"
   },
   {
    "duration": 18,
    "start_time": "2022-10-12T11:27:57.960Z"
   },
   {
    "duration": 6,
    "start_time": "2022-10-12T11:27:57.980Z"
   },
   {
    "duration": 22,
    "start_time": "2022-10-12T11:27:57.987Z"
   },
   {
    "duration": 6,
    "start_time": "2022-10-12T11:27:58.011Z"
   },
   {
    "duration": 6,
    "start_time": "2022-10-12T11:27:58.018Z"
   },
   {
    "duration": 6,
    "start_time": "2022-10-12T11:27:58.026Z"
   },
   {
    "duration": 37,
    "start_time": "2022-10-12T11:27:58.033Z"
   },
   {
    "duration": 63,
    "start_time": "2022-10-12T11:27:58.072Z"
   },
   {
    "duration": 23,
    "start_time": "2022-10-12T11:27:58.136Z"
   },
   {
    "duration": 34,
    "start_time": "2022-10-12T11:27:58.161Z"
   },
   {
    "duration": 8,
    "start_time": "2022-10-12T11:27:58.209Z"
   },
   {
    "duration": 6,
    "start_time": "2022-10-12T11:27:58.221Z"
   },
   {
    "duration": 28,
    "start_time": "2022-10-12T11:27:58.229Z"
   },
   {
    "duration": 15,
    "start_time": "2022-10-12T11:27:58.259Z"
   },
   {
    "duration": 11,
    "start_time": "2022-10-12T11:27:58.276Z"
   },
   {
    "duration": 54,
    "start_time": "2022-10-12T11:27:58.289Z"
   },
   {
    "duration": 20,
    "start_time": "2022-10-12T11:27:58.345Z"
   },
   {
    "duration": 9,
    "start_time": "2022-10-12T11:27:58.367Z"
   },
   {
    "duration": 1563,
    "start_time": "2022-10-12T11:27:58.378Z"
   },
   {
    "duration": 8,
    "start_time": "2022-10-12T11:27:59.943Z"
   },
   {
    "duration": 183,
    "start_time": "2022-10-12T11:27:59.953Z"
   },
   {
    "duration": 285,
    "start_time": "2022-10-12T11:28:00.138Z"
   },
   {
    "duration": 8,
    "start_time": "2022-10-12T11:28:00.425Z"
   },
   {
    "duration": 315,
    "start_time": "2022-10-12T11:28:00.435Z"
   },
   {
    "duration": 299,
    "start_time": "2022-10-12T11:28:00.752Z"
   },
   {
    "duration": 7,
    "start_time": "2022-10-12T11:28:01.053Z"
   },
   {
    "duration": 113,
    "start_time": "2022-10-12T11:28:01.061Z"
   },
   {
    "duration": 14,
    "start_time": "2022-10-12T11:28:01.175Z"
   },
   {
    "duration": 30,
    "start_time": "2022-10-12T11:28:01.191Z"
   },
   {
    "duration": 5,
    "start_time": "2022-10-12T11:28:01.223Z"
   },
   {
    "duration": 22,
    "start_time": "2022-10-12T11:28:01.230Z"
   },
   {
    "duration": 22,
    "start_time": "2022-10-12T11:28:01.254Z"
   },
   {
    "duration": 248,
    "start_time": "2022-10-12T11:28:01.278Z"
   },
   {
    "duration": 628,
    "start_time": "2022-10-12T11:28:01.528Z"
   },
   {
    "duration": 63,
    "start_time": "2022-10-12T11:28:02.157Z"
   },
   {
    "duration": 59,
    "start_time": "2022-10-12T11:28:02.222Z"
   },
   {
    "duration": 16,
    "start_time": "2022-10-12T11:28:47.742Z"
   },
   {
    "duration": 4,
    "start_time": "2022-10-12T11:28:54.669Z"
   },
   {
    "duration": 217,
    "start_time": "2022-10-12T11:28:54.674Z"
   },
   {
    "duration": 97,
    "start_time": "2022-10-12T11:28:54.893Z"
   },
   {
    "duration": 61,
    "start_time": "2022-10-12T11:28:55.010Z"
   },
   {
    "duration": 38,
    "start_time": "2022-10-12T11:28:55.073Z"
   },
   {
    "duration": 19,
    "start_time": "2022-10-12T11:28:55.112Z"
   },
   {
    "duration": 89,
    "start_time": "2022-10-12T11:28:55.132Z"
   },
   {
    "duration": 19,
    "start_time": "2022-10-12T11:28:55.223Z"
   },
   {
    "duration": 15,
    "start_time": "2022-10-12T11:28:55.244Z"
   },
   {
    "duration": 52,
    "start_time": "2022-10-12T11:28:55.262Z"
   },
   {
    "duration": 4,
    "start_time": "2022-10-12T11:28:55.318Z"
   },
   {
    "duration": 31,
    "start_time": "2022-10-12T11:28:55.323Z"
   },
   {
    "duration": 6,
    "start_time": "2022-10-12T11:28:55.356Z"
   },
   {
    "duration": 48,
    "start_time": "2022-10-12T11:28:55.363Z"
   },
   {
    "duration": 30,
    "start_time": "2022-10-12T11:28:55.412Z"
   },
   {
    "duration": 12,
    "start_time": "2022-10-12T11:28:55.443Z"
   },
   {
    "duration": 29,
    "start_time": "2022-10-12T11:28:55.456Z"
   },
   {
    "duration": 9,
    "start_time": "2022-10-12T11:28:55.487Z"
   },
   {
    "duration": 12,
    "start_time": "2022-10-12T11:28:55.497Z"
   },
   {
    "duration": 14,
    "start_time": "2022-10-12T11:28:55.510Z"
   },
   {
    "duration": 26,
    "start_time": "2022-10-12T11:28:55.526Z"
   },
   {
    "duration": 18,
    "start_time": "2022-10-12T11:28:55.554Z"
   },
   {
    "duration": 4,
    "start_time": "2022-10-12T11:28:55.574Z"
   },
   {
    "duration": 34,
    "start_time": "2022-10-12T11:28:55.580Z"
   },
   {
    "duration": 39,
    "start_time": "2022-10-12T11:28:55.616Z"
   },
   {
    "duration": 27,
    "start_time": "2022-10-12T11:28:55.656Z"
   },
   {
    "duration": 27,
    "start_time": "2022-10-12T11:28:55.685Z"
   },
   {
    "duration": 9,
    "start_time": "2022-10-12T11:28:55.713Z"
   },
   {
    "duration": 43,
    "start_time": "2022-10-12T11:28:55.726Z"
   },
   {
    "duration": 18,
    "start_time": "2022-10-12T11:28:55.771Z"
   },
   {
    "duration": 6,
    "start_time": "2022-10-12T11:28:55.810Z"
   },
   {
    "duration": 16,
    "start_time": "2022-10-12T11:28:55.817Z"
   },
   {
    "duration": 22,
    "start_time": "2022-10-12T11:28:55.834Z"
   },
   {
    "duration": 19,
    "start_time": "2022-10-12T11:28:55.857Z"
   },
   {
    "duration": 20,
    "start_time": "2022-10-12T11:28:55.877Z"
   },
   {
    "duration": 51,
    "start_time": "2022-10-12T11:28:55.898Z"
   },
   {
    "duration": 39,
    "start_time": "2022-10-12T11:28:55.951Z"
   },
   {
    "duration": 31,
    "start_time": "2022-10-12T11:28:55.992Z"
   },
   {
    "duration": 42,
    "start_time": "2022-10-12T11:28:56.025Z"
   },
   {
    "duration": 6,
    "start_time": "2022-10-12T11:28:56.069Z"
   },
   {
    "duration": 11,
    "start_time": "2022-10-12T11:28:56.076Z"
   },
   {
    "duration": 36,
    "start_time": "2022-10-12T11:28:56.088Z"
   },
   {
    "duration": 21,
    "start_time": "2022-10-12T11:28:56.126Z"
   },
   {
    "duration": 20,
    "start_time": "2022-10-12T11:28:56.149Z"
   },
   {
    "duration": 49,
    "start_time": "2022-10-12T11:28:56.171Z"
   },
   {
    "duration": 21,
    "start_time": "2022-10-12T11:28:56.221Z"
   },
   {
    "duration": 16,
    "start_time": "2022-10-12T11:28:56.245Z"
   },
   {
    "duration": 1381,
    "start_time": "2022-10-12T11:28:56.263Z"
   },
   {
    "duration": 11,
    "start_time": "2022-10-12T11:28:57.646Z"
   },
   {
    "duration": 206,
    "start_time": "2022-10-12T11:28:57.659Z"
   },
   {
    "duration": 263,
    "start_time": "2022-10-12T11:28:57.866Z"
   },
   {
    "duration": 9,
    "start_time": "2022-10-12T11:28:58.130Z"
   },
   {
    "duration": 299,
    "start_time": "2022-10-12T11:28:58.141Z"
   },
   {
    "duration": 253,
    "start_time": "2022-10-12T11:28:58.442Z"
   },
   {
    "duration": 5,
    "start_time": "2022-10-12T11:28:58.697Z"
   },
   {
    "duration": 100,
    "start_time": "2022-10-12T11:28:58.709Z"
   },
   {
    "duration": 13,
    "start_time": "2022-10-12T11:28:58.811Z"
   },
   {
    "duration": 25,
    "start_time": "2022-10-12T11:28:58.826Z"
   },
   {
    "duration": 9,
    "start_time": "2022-10-12T11:28:58.853Z"
   },
   {
    "duration": 14,
    "start_time": "2022-10-12T11:28:58.864Z"
   },
   {
    "duration": 37,
    "start_time": "2022-10-12T11:28:58.880Z"
   },
   {
    "duration": 265,
    "start_time": "2022-10-12T11:28:58.919Z"
   },
   {
    "duration": 585,
    "start_time": "2022-10-12T11:28:59.186Z"
   },
   {
    "duration": 62,
    "start_time": "2022-10-12T11:28:59.773Z"
   },
   {
    "duration": 63,
    "start_time": "2022-10-12T11:28:59.836Z"
   },
   {
    "duration": 21,
    "start_time": "2022-10-12T11:28:59.900Z"
   },
   {
    "duration": 23,
    "start_time": "2022-10-12T11:28:59.922Z"
   },
   {
    "duration": 13,
    "start_time": "2022-10-12T11:28:59.947Z"
   },
   {
    "duration": 2,
    "start_time": "2022-10-12T11:28:59.962Z"
   },
   {
    "duration": 45,
    "start_time": "2022-10-12T11:28:59.965Z"
   },
   {
    "duration": 146,
    "start_time": "2022-10-12T11:29:00.012Z"
   },
   {
    "duration": 11,
    "start_time": "2022-10-12T11:29:00.160Z"
   },
   {
    "duration": 31,
    "start_time": "2022-10-12T11:29:00.173Z"
   },
   {
    "duration": 27,
    "start_time": "2022-10-12T11:29:00.206Z"
   },
   {
    "duration": 28,
    "start_time": "2022-10-12T11:29:00.234Z"
   },
   {
    "duration": 35,
    "start_time": "2022-10-12T11:29:00.263Z"
   },
   {
    "duration": 15,
    "start_time": "2022-10-12T11:29:00.300Z"
   },
   {
    "duration": 34,
    "start_time": "2022-10-12T11:29:00.316Z"
   },
   {
    "duration": 16,
    "start_time": "2022-10-12T11:29:00.352Z"
   },
   {
    "duration": 2,
    "start_time": "2022-10-12T11:29:00.370Z"
   },
   {
    "duration": 131,
    "start_time": "2022-10-12T11:29:00.373Z"
   },
   {
    "duration": 15,
    "start_time": "2022-10-12T11:29:00.506Z"
   },
   {
    "duration": 81,
    "start_time": "2022-10-12T11:29:00.526Z"
   },
   {
    "duration": 17,
    "start_time": "2022-10-12T11:29:00.609Z"
   },
   {
    "duration": 28,
    "start_time": "2022-10-12T11:29:00.628Z"
   },
   {
    "duration": 45,
    "start_time": "2022-10-12T11:29:00.658Z"
   },
   {
    "duration": 18,
    "start_time": "2022-10-12T11:29:00.705Z"
   },
   {
    "duration": 24,
    "start_time": "2022-10-12T11:29:00.725Z"
   },
   {
    "duration": 15,
    "start_time": "2022-10-12T11:29:00.751Z"
   },
   {
    "duration": 648,
    "start_time": "2022-10-12T11:29:00.768Z"
   },
   {
    "duration": 17,
    "start_time": "2022-10-12T11:29:01.418Z"
   },
   {
    "duration": 9,
    "start_time": "2022-10-12T11:29:01.437Z"
   },
   {
    "duration": 67171,
    "start_time": "2022-10-12T11:29:01.448Z"
   },
   {
    "duration": 711,
    "start_time": "2022-10-12T11:30:08.621Z"
   },
   {
    "duration": 11066,
    "start_time": "2022-10-12T11:30:09.334Z"
   },
   {
    "duration": 30726,
    "start_time": "2022-10-12T11:30:20.402Z"
   },
   {
    "duration": 4,
    "start_time": "2022-10-12T11:30:51.130Z"
   },
   {
    "duration": 21,
    "start_time": "2022-10-12T11:30:51.136Z"
   },
   {
    "duration": 0,
    "start_time": "2022-10-12T11:30:51.159Z"
   },
   {
    "duration": 14388,
    "start_time": "2022-10-12T11:31:21.722Z"
   },
   {
    "duration": 15,
    "start_time": "2022-10-12T11:31:39.408Z"
   },
   {
    "duration": 98526,
    "start_time": "2022-10-12T11:34:55.778Z"
   },
   {
    "duration": 568,
    "start_time": "2022-10-12T11:37:49.408Z"
   },
   {
    "duration": 780,
    "start_time": "2022-10-12T11:38:02.507Z"
   },
   {
    "duration": 571,
    "start_time": "2022-10-12T11:38:18.712Z"
   },
   {
    "duration": 550,
    "start_time": "2022-10-12T11:38:33.787Z"
   },
   {
    "duration": 614,
    "start_time": "2022-10-12T11:38:44.460Z"
   },
   {
    "duration": 22689,
    "start_time": "2022-10-12T11:38:59.431Z"
   },
   {
    "duration": 74349,
    "start_time": "2022-10-12T11:39:55.671Z"
   },
   {
    "duration": 4,
    "start_time": "2022-10-12T11:41:36.590Z"
   },
   {
    "duration": 23704,
    "start_time": "2022-10-12T11:42:07.418Z"
   },
   {
    "duration": 3,
    "start_time": "2022-10-12T11:42:57.315Z"
   },
   {
    "duration": 3,
    "start_time": "2022-10-12T11:42:59.344Z"
   },
   {
    "duration": 750,
    "start_time": "2022-10-12T11:43:25.305Z"
   },
   {
    "duration": 531,
    "start_time": "2022-10-12T11:43:38.741Z"
   },
   {
    "duration": 3,
    "start_time": "2022-10-12T11:43:54.185Z"
   },
   {
    "duration": 12092,
    "start_time": "2022-10-12T11:44:21.728Z"
   },
   {
    "duration": 10911,
    "start_time": "2022-10-12T11:45:14.358Z"
   },
   {
    "duration": 33320,
    "start_time": "2022-10-12T11:45:54.901Z"
   },
   {
    "duration": 21834,
    "start_time": "2022-10-12T11:46:34.478Z"
   },
   {
    "duration": 753,
    "start_time": "2022-10-12T11:47:10.438Z"
   },
   {
    "duration": 521,
    "start_time": "2022-10-12T11:47:14.861Z"
   },
   {
    "duration": 11908,
    "start_time": "2022-10-12T11:47:25.569Z"
   },
   {
    "duration": 10727,
    "start_time": "2022-10-12T11:47:45.469Z"
   },
   {
    "duration": 41072,
    "start_time": "2022-10-12T11:48:13.994Z"
   },
   {
    "duration": 11920,
    "start_time": "2022-10-12T11:49:01.512Z"
   },
   {
    "duration": 10724,
    "start_time": "2022-10-12T11:49:15.439Z"
   },
   {
    "duration": 5087,
    "start_time": "2022-10-12T11:51:16.577Z"
   },
   {
    "duration": 7395,
    "start_time": "2022-10-12T11:52:15.835Z"
   },
   {
    "duration": 300741,
    "start_time": "2022-10-12T11:53:12.425Z"
   },
   {
    "duration": 27709,
    "start_time": "2022-10-12T11:58:56.490Z"
   },
   {
    "duration": 1340,
    "start_time": "2022-10-12T12:00:28.096Z"
   },
   {
    "duration": 1325,
    "start_time": "2022-10-12T12:00:37.425Z"
   },
   {
    "duration": 2031,
    "start_time": "2022-10-12T12:01:13.384Z"
   },
   {
    "duration": 40223,
    "start_time": "2022-10-12T12:01:45.158Z"
   },
   {
    "duration": 824,
    "start_time": "2022-10-12T12:02:39.006Z"
   },
   {
    "duration": 867,
    "start_time": "2022-10-12T12:02:51.419Z"
   },
   {
    "duration": 898,
    "start_time": "2022-10-12T12:03:02.078Z"
   },
   {
    "duration": 805,
    "start_time": "2022-10-12T12:03:29.485Z"
   },
   {
    "duration": 841,
    "start_time": "2022-10-12T12:06:42.847Z"
   },
   {
    "duration": 1337,
    "start_time": "2022-10-12T12:06:51.200Z"
   },
   {
    "duration": 712,
    "start_time": "2022-10-12T12:06:58.201Z"
   },
   {
    "duration": 1326,
    "start_time": "2022-10-12T12:07:12.679Z"
   },
   {
    "duration": 42001,
    "start_time": "2022-10-12T12:07:54.626Z"
   },
   {
    "duration": 1444,
    "start_time": "2022-10-12T12:14:21.149Z"
   },
   {
    "duration": 209,
    "start_time": "2022-10-12T12:14:22.595Z"
   },
   {
    "duration": 85,
    "start_time": "2022-10-12T12:14:22.805Z"
   },
   {
    "duration": 68,
    "start_time": "2022-10-12T12:14:22.892Z"
   },
   {
    "duration": 26,
    "start_time": "2022-10-12T12:14:22.962Z"
   },
   {
    "duration": 33,
    "start_time": "2022-10-12T12:14:22.989Z"
   },
   {
    "duration": 94,
    "start_time": "2022-10-12T12:14:23.024Z"
   },
   {
    "duration": 34,
    "start_time": "2022-10-12T12:14:23.120Z"
   },
   {
    "duration": 18,
    "start_time": "2022-10-12T12:14:23.156Z"
   },
   {
    "duration": 54,
    "start_time": "2022-10-12T12:14:23.177Z"
   },
   {
    "duration": 4,
    "start_time": "2022-10-12T12:14:23.233Z"
   },
   {
    "duration": 25,
    "start_time": "2022-10-12T12:14:23.239Z"
   },
   {
    "duration": 4,
    "start_time": "2022-10-12T12:14:23.266Z"
   },
   {
    "duration": 58,
    "start_time": "2022-10-12T12:14:23.272Z"
   },
   {
    "duration": 11,
    "start_time": "2022-10-12T12:14:23.331Z"
   },
   {
    "duration": 6,
    "start_time": "2022-10-12T12:14:23.344Z"
   },
   {
    "duration": 32,
    "start_time": "2022-10-12T12:14:23.351Z"
   },
   {
    "duration": 29,
    "start_time": "2022-10-12T12:14:23.385Z"
   },
   {
    "duration": 4,
    "start_time": "2022-10-12T12:14:23.416Z"
   },
   {
    "duration": 14,
    "start_time": "2022-10-12T12:14:23.422Z"
   },
   {
    "duration": 22,
    "start_time": "2022-10-12T12:14:23.438Z"
   },
   {
    "duration": 46,
    "start_time": "2022-10-12T12:14:23.462Z"
   },
   {
    "duration": 5,
    "start_time": "2022-10-12T12:14:23.510Z"
   },
   {
    "duration": 20,
    "start_time": "2022-10-12T12:14:23.516Z"
   },
   {
    "duration": 74,
    "start_time": "2022-10-12T12:14:23.538Z"
   },
   {
    "duration": 28,
    "start_time": "2022-10-12T12:14:23.614Z"
   },
   {
    "duration": 6,
    "start_time": "2022-10-12T12:14:23.644Z"
   },
   {
    "duration": 4,
    "start_time": "2022-10-12T12:14:23.654Z"
   },
   {
    "duration": 62,
    "start_time": "2022-10-12T12:14:23.659Z"
   },
   {
    "duration": 17,
    "start_time": "2022-10-12T12:14:23.723Z"
   },
   {
    "duration": 6,
    "start_time": "2022-10-12T12:14:23.741Z"
   },
   {
    "duration": 5,
    "start_time": "2022-10-12T12:14:23.749Z"
   },
   {
    "duration": 15,
    "start_time": "2022-10-12T12:14:23.755Z"
   },
   {
    "duration": 8,
    "start_time": "2022-10-12T12:14:23.772Z"
   },
   {
    "duration": 31,
    "start_time": "2022-10-12T12:14:23.782Z"
   },
   {
    "duration": 41,
    "start_time": "2022-10-12T12:14:23.815Z"
   },
   {
    "duration": 53,
    "start_time": "2022-10-12T12:14:23.858Z"
   },
   {
    "duration": 31,
    "start_time": "2022-10-12T12:14:23.912Z"
   },
   {
    "duration": 64,
    "start_time": "2022-10-12T12:14:23.945Z"
   },
   {
    "duration": 10,
    "start_time": "2022-10-12T12:14:24.011Z"
   },
   {
    "duration": 11,
    "start_time": "2022-10-12T12:14:24.023Z"
   },
   {
    "duration": 40,
    "start_time": "2022-10-12T12:14:24.036Z"
   },
   {
    "duration": 13,
    "start_time": "2022-10-12T12:14:24.078Z"
   },
   {
    "duration": 16,
    "start_time": "2022-10-12T12:14:24.093Z"
   },
   {
    "duration": 42,
    "start_time": "2022-10-12T12:14:24.111Z"
   },
   {
    "duration": 20,
    "start_time": "2022-10-12T12:14:24.155Z"
   },
   {
    "duration": 13,
    "start_time": "2022-10-12T12:14:24.176Z"
   },
   {
    "duration": 1581,
    "start_time": "2022-10-12T12:14:24.190Z"
   },
   {
    "duration": 45,
    "start_time": "2022-10-12T12:14:25.772Z"
   },
   {
    "duration": 195,
    "start_time": "2022-10-12T12:14:25.819Z"
   },
   {
    "duration": 320,
    "start_time": "2022-10-12T12:14:26.016Z"
   },
   {
    "duration": 8,
    "start_time": "2022-10-12T12:14:26.338Z"
   },
   {
    "duration": 463,
    "start_time": "2022-10-12T12:14:26.348Z"
   },
   {
    "duration": 247,
    "start_time": "2022-10-12T12:14:26.813Z"
   },
   {
    "duration": 6,
    "start_time": "2022-10-12T12:14:27.062Z"
   },
   {
    "duration": 117,
    "start_time": "2022-10-12T12:14:27.069Z"
   },
   {
    "duration": 25,
    "start_time": "2022-10-12T12:14:27.188Z"
   },
   {
    "duration": 16,
    "start_time": "2022-10-12T12:14:27.215Z"
   },
   {
    "duration": 23,
    "start_time": "2022-10-12T12:14:27.232Z"
   },
   {
    "duration": 38,
    "start_time": "2022-10-12T12:14:27.257Z"
   },
   {
    "duration": 21,
    "start_time": "2022-10-12T12:14:27.297Z"
   },
   {
    "duration": 120,
    "start_time": "2022-10-12T12:14:27.320Z"
   },
   {
    "duration": 607,
    "start_time": "2022-10-12T12:14:27.441Z"
   },
   {
    "duration": 50,
    "start_time": "2022-10-12T12:14:28.050Z"
   },
   {
    "duration": 55,
    "start_time": "2022-10-12T12:14:28.102Z"
   },
   {
    "duration": 13,
    "start_time": "2022-10-12T12:14:28.159Z"
   },
   {
    "duration": 23,
    "start_time": "2022-10-12T12:14:28.173Z"
   },
   {
    "duration": 26,
    "start_time": "2022-10-12T12:14:28.197Z"
   },
   {
    "duration": 3,
    "start_time": "2022-10-12T12:14:28.224Z"
   },
   {
    "duration": 44,
    "start_time": "2022-10-12T12:14:28.228Z"
   },
   {
    "duration": 106,
    "start_time": "2022-10-12T12:14:28.273Z"
   },
   {
    "duration": 11,
    "start_time": "2022-10-12T12:14:28.381Z"
   },
   {
    "duration": 29,
    "start_time": "2022-10-12T12:14:28.393Z"
   },
   {
    "duration": 28,
    "start_time": "2022-10-12T12:14:28.424Z"
   },
   {
    "duration": 42,
    "start_time": "2022-10-12T12:14:28.454Z"
   },
   {
    "duration": 15,
    "start_time": "2022-10-12T12:14:28.498Z"
   },
   {
    "duration": 16,
    "start_time": "2022-10-12T12:14:28.515Z"
   },
   {
    "duration": 39,
    "start_time": "2022-10-12T12:14:28.532Z"
   },
   {
    "duration": 20,
    "start_time": "2022-10-12T12:14:28.573Z"
   },
   {
    "duration": 41,
    "start_time": "2022-10-12T12:14:28.595Z"
   },
   {
    "duration": 28,
    "start_time": "2022-10-12T12:14:28.638Z"
   },
   {
    "duration": 32,
    "start_time": "2022-10-12T12:14:28.671Z"
   },
   {
    "duration": 3,
    "start_time": "2022-10-12T12:14:28.705Z"
   },
   {
    "duration": 27,
    "start_time": "2022-10-12T12:14:28.709Z"
   },
   {
    "duration": 25,
    "start_time": "2022-10-12T12:14:28.738Z"
   },
   {
    "duration": 14,
    "start_time": "2022-10-12T12:14:28.765Z"
   },
   {
    "duration": 16,
    "start_time": "2022-10-12T12:14:28.780Z"
   },
   {
    "duration": 20,
    "start_time": "2022-10-12T12:14:28.797Z"
   },
   {
    "duration": 584,
    "start_time": "2022-10-12T12:14:28.818Z"
   },
   {
    "duration": 19,
    "start_time": "2022-10-12T12:14:29.404Z"
   },
   {
    "duration": 5,
    "start_time": "2022-10-12T12:14:29.424Z"
   },
   {
    "duration": 4,
    "start_time": "2022-10-12T12:14:29.430Z"
   },
   {
    "duration": 1295,
    "start_time": "2022-10-12T12:15:56.755Z"
   },
   {
    "duration": 195,
    "start_time": "2022-10-12T12:15:58.052Z"
   },
   {
    "duration": 84,
    "start_time": "2022-10-12T12:15:58.249Z"
   },
   {
    "duration": 58,
    "start_time": "2022-10-12T12:15:58.336Z"
   },
   {
    "duration": 34,
    "start_time": "2022-10-12T12:15:58.395Z"
   },
   {
    "duration": 17,
    "start_time": "2022-10-12T12:15:58.431Z"
   },
   {
    "duration": 93,
    "start_time": "2022-10-12T12:15:58.449Z"
   },
   {
    "duration": 18,
    "start_time": "2022-10-12T12:15:58.543Z"
   },
   {
    "duration": 11,
    "start_time": "2022-10-12T12:15:58.562Z"
   },
   {
    "duration": 44,
    "start_time": "2022-10-12T12:15:58.575Z"
   },
   {
    "duration": 3,
    "start_time": "2022-10-12T12:15:58.620Z"
   },
   {
    "duration": 22,
    "start_time": "2022-10-12T12:15:58.624Z"
   },
   {
    "duration": 3,
    "start_time": "2022-10-12T12:15:58.647Z"
   },
   {
    "duration": 29,
    "start_time": "2022-10-12T12:15:58.651Z"
   },
   {
    "duration": 29,
    "start_time": "2022-10-12T12:15:58.681Z"
   },
   {
    "duration": 4,
    "start_time": "2022-10-12T12:15:58.712Z"
   },
   {
    "duration": 35,
    "start_time": "2022-10-12T12:15:58.717Z"
   },
   {
    "duration": 9,
    "start_time": "2022-10-12T12:15:58.755Z"
   },
   {
    "duration": 7,
    "start_time": "2022-10-12T12:15:58.765Z"
   },
   {
    "duration": 9,
    "start_time": "2022-10-12T12:15:58.773Z"
   },
   {
    "duration": 23,
    "start_time": "2022-10-12T12:15:58.809Z"
   },
   {
    "duration": 22,
    "start_time": "2022-10-12T12:15:58.834Z"
   },
   {
    "duration": 4,
    "start_time": "2022-10-12T12:15:58.858Z"
   },
   {
    "duration": 45,
    "start_time": "2022-10-12T12:15:58.864Z"
   },
   {
    "duration": 39,
    "start_time": "2022-10-12T12:15:58.911Z"
   },
   {
    "duration": 26,
    "start_time": "2022-10-12T12:15:58.952Z"
   },
   {
    "duration": 5,
    "start_time": "2022-10-12T12:15:58.980Z"
   },
   {
    "duration": 4,
    "start_time": "2022-10-12T12:15:59.013Z"
   },
   {
    "duration": 62,
    "start_time": "2022-10-12T12:15:59.019Z"
   },
   {
    "duration": 30,
    "start_time": "2022-10-12T12:15:59.082Z"
   },
   {
    "duration": 19,
    "start_time": "2022-10-12T12:15:59.113Z"
   },
   {
    "duration": 14,
    "start_time": "2022-10-12T12:15:59.134Z"
   },
   {
    "duration": 15,
    "start_time": "2022-10-12T12:15:59.150Z"
   },
   {
    "duration": 14,
    "start_time": "2022-10-12T12:15:59.167Z"
   },
   {
    "duration": 9,
    "start_time": "2022-10-12T12:15:59.183Z"
   },
   {
    "duration": 58,
    "start_time": "2022-10-12T12:15:59.193Z"
   },
   {
    "duration": 39,
    "start_time": "2022-10-12T12:15:59.254Z"
   },
   {
    "duration": 31,
    "start_time": "2022-10-12T12:15:59.294Z"
   },
   {
    "duration": 30,
    "start_time": "2022-10-12T12:15:59.326Z"
   },
   {
    "duration": 7,
    "start_time": "2022-10-12T12:15:59.357Z"
   },
   {
    "duration": 7,
    "start_time": "2022-10-12T12:15:59.366Z"
   },
   {
    "duration": 36,
    "start_time": "2022-10-12T12:15:59.374Z"
   },
   {
    "duration": 9,
    "start_time": "2022-10-12T12:15:59.411Z"
   },
   {
    "duration": 17,
    "start_time": "2022-10-12T12:15:59.421Z"
   },
   {
    "duration": 50,
    "start_time": "2022-10-12T12:15:59.440Z"
   },
   {
    "duration": 29,
    "start_time": "2022-10-12T12:15:59.492Z"
   },
   {
    "duration": 15,
    "start_time": "2022-10-12T12:15:59.522Z"
   },
   {
    "duration": 1435,
    "start_time": "2022-10-12T12:15:59.538Z"
   },
   {
    "duration": 8,
    "start_time": "2022-10-12T12:16:00.975Z"
   },
   {
    "duration": 167,
    "start_time": "2022-10-12T12:16:00.985Z"
   },
   {
    "duration": 263,
    "start_time": "2022-10-12T12:16:01.154Z"
   },
   {
    "duration": 11,
    "start_time": "2022-10-12T12:16:01.419Z"
   },
   {
    "duration": 273,
    "start_time": "2022-10-12T12:16:01.432Z"
   },
   {
    "duration": 255,
    "start_time": "2022-10-12T12:16:01.706Z"
   },
   {
    "duration": 5,
    "start_time": "2022-10-12T12:16:01.963Z"
   },
   {
    "duration": 130,
    "start_time": "2022-10-12T12:16:01.970Z"
   },
   {
    "duration": 20,
    "start_time": "2022-10-12T12:16:02.102Z"
   },
   {
    "duration": 18,
    "start_time": "2022-10-12T12:16:02.124Z"
   },
   {
    "duration": 9,
    "start_time": "2022-10-12T12:16:02.144Z"
   },
   {
    "duration": 31,
    "start_time": "2022-10-12T12:16:02.154Z"
   },
   {
    "duration": 41,
    "start_time": "2022-10-12T12:16:02.187Z"
   },
   {
    "duration": 118,
    "start_time": "2022-10-12T12:16:02.229Z"
   },
   {
    "duration": 643,
    "start_time": "2022-10-12T12:16:02.349Z"
   },
   {
    "duration": 52,
    "start_time": "2022-10-12T12:16:02.994Z"
   },
   {
    "duration": 64,
    "start_time": "2022-10-12T12:16:03.048Z"
   },
   {
    "duration": 13,
    "start_time": "2022-10-12T12:16:03.114Z"
   },
   {
    "duration": 20,
    "start_time": "2022-10-12T12:16:03.129Z"
   },
   {
    "duration": 13,
    "start_time": "2022-10-12T12:16:03.151Z"
   },
   {
    "duration": 9,
    "start_time": "2022-10-12T12:16:03.166Z"
   },
   {
    "duration": 39,
    "start_time": "2022-10-12T12:16:03.177Z"
   },
   {
    "duration": 119,
    "start_time": "2022-10-12T12:16:03.218Z"
   },
   {
    "duration": 12,
    "start_time": "2022-10-12T12:16:03.338Z"
   },
   {
    "duration": 16,
    "start_time": "2022-10-12T12:16:03.352Z"
   },
   {
    "duration": 15,
    "start_time": "2022-10-12T12:16:03.369Z"
   },
   {
    "duration": 33,
    "start_time": "2022-10-12T12:16:03.386Z"
   },
   {
    "duration": 22,
    "start_time": "2022-10-12T12:16:03.421Z"
   },
   {
    "duration": 8,
    "start_time": "2022-10-12T12:16:03.445Z"
   },
   {
    "duration": 19,
    "start_time": "2022-10-12T12:16:03.454Z"
   },
   {
    "duration": 3,
    "start_time": "2022-10-12T12:16:03.475Z"
   },
   {
    "duration": 87,
    "start_time": "2022-10-12T12:16:03.480Z"
   },
   {
    "duration": 15,
    "start_time": "2022-10-12T12:16:03.568Z"
   },
   {
    "duration": 33,
    "start_time": "2022-10-12T12:16:03.591Z"
   },
   {
    "duration": 3,
    "start_time": "2022-10-12T12:16:03.626Z"
   },
   {
    "duration": 7,
    "start_time": "2022-10-12T12:16:03.631Z"
   },
   {
    "duration": 10,
    "start_time": "2022-10-12T12:16:03.640Z"
   },
   {
    "duration": 14,
    "start_time": "2022-10-12T12:16:03.651Z"
   },
   {
    "duration": 6,
    "start_time": "2022-10-12T12:16:03.666Z"
   },
   {
    "duration": 6,
    "start_time": "2022-10-12T12:16:03.674Z"
   },
   {
    "duration": 570,
    "start_time": "2022-10-12T12:16:03.682Z"
   },
   {
    "duration": 16,
    "start_time": "2022-10-12T12:16:04.253Z"
   },
   {
    "duration": 11,
    "start_time": "2022-10-12T12:16:04.270Z"
   },
   {
    "duration": 18,
    "start_time": "2022-10-12T12:16:04.282Z"
   },
   {
    "duration": 44723,
    "start_time": "2022-10-12T12:16:04.301Z"
   },
   {
    "duration": 2,
    "start_time": "2022-10-12T12:18:08.267Z"
   },
   {
    "duration": 704,
    "start_time": "2022-10-12T12:18:08.271Z"
   },
   {
    "duration": 537,
    "start_time": "2022-10-12T12:18:08.977Z"
   },
   {
    "duration": 2,
    "start_time": "2022-10-12T12:18:09.516Z"
   },
   {
    "duration": 11556,
    "start_time": "2022-10-12T12:18:09.520Z"
   },
   {
    "duration": 11430,
    "start_time": "2022-10-12T12:18:21.077Z"
   },
   {
    "duration": 1280,
    "start_time": "2022-10-12T12:18:32.509Z"
   },
   {
    "duration": 39875,
    "start_time": "2022-10-12T12:18:33.790Z"
   },
   {
    "duration": 4,
    "start_time": "2022-10-12T12:19:13.667Z"
   },
   {
    "duration": 16241,
    "start_time": "2022-10-12T12:19:13.672Z"
   },
   {
    "duration": 103,
    "start_time": "2022-10-12T12:19:29.915Z"
   },
   {
    "duration": 0,
    "start_time": "2022-10-12T12:19:30.020Z"
   },
   {
    "duration": 0,
    "start_time": "2022-10-12T12:19:30.022Z"
   },
   {
    "duration": 0,
    "start_time": "2022-10-12T12:19:30.024Z"
   },
   {
    "duration": 0,
    "start_time": "2022-10-12T12:19:30.025Z"
   },
   {
    "duration": 0,
    "start_time": "2022-10-12T12:19:30.026Z"
   },
   {
    "duration": 0,
    "start_time": "2022-10-12T12:19:30.027Z"
   },
   {
    "duration": 0,
    "start_time": "2022-10-12T12:19:30.028Z"
   },
   {
    "duration": 0,
    "start_time": "2022-10-12T12:19:30.030Z"
   },
   {
    "duration": 0,
    "start_time": "2022-10-12T12:19:30.032Z"
   },
   {
    "duration": 0,
    "start_time": "2022-10-12T12:19:30.110Z"
   },
   {
    "duration": 4,
    "start_time": "2022-10-12T12:29:23.379Z"
   },
   {
    "duration": 165,
    "start_time": "2022-10-12T12:29:23.386Z"
   },
   {
    "duration": 78,
    "start_time": "2022-10-12T12:29:23.552Z"
   },
   {
    "duration": 59,
    "start_time": "2022-10-12T12:29:23.632Z"
   },
   {
    "duration": 37,
    "start_time": "2022-10-12T12:29:23.693Z"
   },
   {
    "duration": 18,
    "start_time": "2022-10-12T12:29:23.732Z"
   },
   {
    "duration": 84,
    "start_time": "2022-10-12T12:29:23.752Z"
   },
   {
    "duration": 18,
    "start_time": "2022-10-12T12:29:23.838Z"
   },
   {
    "duration": 12,
    "start_time": "2022-10-12T12:29:23.858Z"
   },
   {
    "duration": 44,
    "start_time": "2022-10-12T12:29:23.871Z"
   },
   {
    "duration": 4,
    "start_time": "2022-10-12T12:29:23.916Z"
   },
   {
    "duration": 22,
    "start_time": "2022-10-12T12:29:23.921Z"
   },
   {
    "duration": 4,
    "start_time": "2022-10-12T12:29:23.944Z"
   },
   {
    "duration": 27,
    "start_time": "2022-10-12T12:29:23.950Z"
   },
   {
    "duration": 34,
    "start_time": "2022-10-12T12:29:23.979Z"
   },
   {
    "duration": 4,
    "start_time": "2022-10-12T12:29:24.015Z"
   },
   {
    "duration": 27,
    "start_time": "2022-10-12T12:29:24.020Z"
   },
   {
    "duration": 8,
    "start_time": "2022-10-12T12:29:24.048Z"
   },
   {
    "duration": 4,
    "start_time": "2022-10-12T12:29:24.057Z"
   },
   {
    "duration": 8,
    "start_time": "2022-10-12T12:29:24.062Z"
   },
   {
    "duration": 45,
    "start_time": "2022-10-12T12:29:24.071Z"
   },
   {
    "duration": 17,
    "start_time": "2022-10-12T12:29:24.118Z"
   },
   {
    "duration": 3,
    "start_time": "2022-10-12T12:29:24.137Z"
   },
   {
    "duration": 17,
    "start_time": "2022-10-12T12:29:24.141Z"
   },
   {
    "duration": 57,
    "start_time": "2022-10-12T12:29:24.159Z"
   },
   {
    "duration": 24,
    "start_time": "2022-10-12T12:29:24.218Z"
   },
   {
    "duration": 5,
    "start_time": "2022-10-12T12:29:24.243Z"
   },
   {
    "duration": 5,
    "start_time": "2022-10-12T12:29:24.249Z"
   },
   {
    "duration": 55,
    "start_time": "2022-10-12T12:29:24.255Z"
   },
   {
    "duration": 16,
    "start_time": "2022-10-12T12:29:24.311Z"
   },
   {
    "duration": 5,
    "start_time": "2022-10-12T12:29:24.329Z"
   },
   {
    "duration": 4,
    "start_time": "2022-10-12T12:29:24.335Z"
   },
   {
    "duration": 8,
    "start_time": "2022-10-12T12:29:24.340Z"
   },
   {
    "duration": 5,
    "start_time": "2022-10-12T12:29:24.349Z"
   },
   {
    "duration": 7,
    "start_time": "2022-10-12T12:29:24.356Z"
   },
   {
    "duration": 73,
    "start_time": "2022-10-12T12:29:24.364Z"
   },
   {
    "duration": 49,
    "start_time": "2022-10-12T12:29:24.439Z"
   },
   {
    "duration": 42,
    "start_time": "2022-10-12T12:29:24.490Z"
   },
   {
    "duration": 32,
    "start_time": "2022-10-12T12:29:24.534Z"
   },
   {
    "duration": 3,
    "start_time": "2022-10-12T12:31:29.754Z"
   },
   {
    "duration": 16,
    "start_time": "2022-10-12T12:32:20.042Z"
   },
   {
    "duration": 23,
    "start_time": "2022-10-12T12:33:18.663Z"
   },
   {
    "duration": 18,
    "start_time": "2022-10-12T12:33:26.564Z"
   },
   {
    "duration": 14,
    "start_time": "2022-10-12T12:33:33.889Z"
   },
   {
    "duration": 15,
    "start_time": "2022-10-12T12:33:38.215Z"
   },
   {
    "duration": 16,
    "start_time": "2022-10-12T12:33:48.379Z"
   },
   {
    "duration": 17,
    "start_time": "2022-10-12T12:33:52.909Z"
   },
   {
    "duration": 385,
    "start_time": "2022-10-12T12:34:17.351Z"
   },
   {
    "duration": 4,
    "start_time": "2022-10-12T12:34:31.292Z"
   },
   {
    "duration": 180,
    "start_time": "2022-10-12T12:34:31.298Z"
   },
   {
    "duration": 84,
    "start_time": "2022-10-12T12:34:31.481Z"
   },
   {
    "duration": 63,
    "start_time": "2022-10-12T12:34:31.567Z"
   },
   {
    "duration": 24,
    "start_time": "2022-10-12T12:34:31.632Z"
   },
   {
    "duration": 18,
    "start_time": "2022-10-12T12:34:31.657Z"
   },
   {
    "duration": 99,
    "start_time": "2022-10-12T12:34:31.677Z"
   },
   {
    "duration": 19,
    "start_time": "2022-10-12T12:34:31.777Z"
   },
   {
    "duration": 12,
    "start_time": "2022-10-12T12:34:31.809Z"
   },
   {
    "duration": 34,
    "start_time": "2022-10-12T12:34:31.823Z"
   },
   {
    "duration": 4,
    "start_time": "2022-10-12T12:34:31.860Z"
   },
   {
    "duration": 23,
    "start_time": "2022-10-12T12:34:31.865Z"
   },
   {
    "duration": 22,
    "start_time": "2022-10-12T12:34:31.890Z"
   },
   {
    "duration": 32,
    "start_time": "2022-10-12T12:34:31.913Z"
   },
   {
    "duration": 9,
    "start_time": "2022-10-12T12:34:31.947Z"
   },
   {
    "duration": 4,
    "start_time": "2022-10-12T12:34:31.957Z"
   },
   {
    "duration": 57,
    "start_time": "2022-10-12T12:34:31.963Z"
   },
   {
    "duration": 9,
    "start_time": "2022-10-12T12:34:32.021Z"
   },
   {
    "duration": 16,
    "start_time": "2022-10-12T12:34:32.031Z"
   },
   {
    "duration": 14,
    "start_time": "2022-10-12T12:34:32.048Z"
   },
   {
    "duration": 21,
    "start_time": "2022-10-12T12:34:32.063Z"
   },
   {
    "duration": 32,
    "start_time": "2022-10-12T12:34:32.086Z"
   },
   {
    "duration": 4,
    "start_time": "2022-10-12T12:34:32.120Z"
   },
   {
    "duration": 23,
    "start_time": "2022-10-12T12:34:32.125Z"
   },
   {
    "duration": 35,
    "start_time": "2022-10-12T12:34:32.150Z"
   },
   {
    "duration": 43,
    "start_time": "2022-10-12T12:34:32.187Z"
   },
   {
    "duration": 4,
    "start_time": "2022-10-12T12:34:32.231Z"
   },
   {
    "duration": 6,
    "start_time": "2022-10-12T12:34:32.237Z"
   },
   {
    "duration": 38,
    "start_time": "2022-10-12T12:34:32.246Z"
   },
   {
    "duration": 44,
    "start_time": "2022-10-12T12:34:32.286Z"
   },
   {
    "duration": 8,
    "start_time": "2022-10-12T12:34:32.331Z"
   },
   {
    "duration": 7,
    "start_time": "2022-10-12T12:34:32.340Z"
   },
   {
    "duration": 9,
    "start_time": "2022-10-12T12:34:32.348Z"
   },
   {
    "duration": 6,
    "start_time": "2022-10-12T12:34:32.359Z"
   },
   {
    "duration": 5,
    "start_time": "2022-10-12T12:34:32.366Z"
   },
   {
    "duration": 62,
    "start_time": "2022-10-12T12:34:32.372Z"
   },
   {
    "duration": 56,
    "start_time": "2022-10-12T12:34:32.436Z"
   },
   {
    "duration": 32,
    "start_time": "2022-10-12T12:34:32.494Z"
   },
   {
    "duration": 31,
    "start_time": "2022-10-12T12:34:32.528Z"
   },
   {
    "duration": 17,
    "start_time": "2022-10-12T12:34:32.560Z"
   },
   {
    "duration": 4,
    "start_time": "2022-10-12T12:34:32.578Z"
   },
   {
    "duration": 3,
    "start_time": "2022-10-12T12:34:34.925Z"
   },
   {
    "duration": 3,
    "start_time": "2022-10-12T12:34:35.684Z"
   },
   {
    "duration": 30,
    "start_time": "2022-10-12T12:34:36.331Z"
   },
   {
    "duration": 15,
    "start_time": "2022-10-12T12:34:39.873Z"
   },
   {
    "duration": 17,
    "start_time": "2022-10-12T12:34:48.709Z"
   },
   {
    "duration": 14,
    "start_time": "2022-10-12T12:35:02.691Z"
   },
   {
    "duration": 14,
    "start_time": "2022-10-12T12:35:11.153Z"
   },
   {
    "duration": 108,
    "start_time": "2022-10-12T12:40:09.168Z"
   },
   {
    "duration": 113,
    "start_time": "2022-10-12T12:40:10.561Z"
   },
   {
    "duration": 14,
    "start_time": "2022-10-12T12:40:17.930Z"
   },
   {
    "duration": 4,
    "start_time": "2022-10-12T12:40:57.091Z"
   },
   {
    "duration": 192,
    "start_time": "2022-10-12T12:40:57.097Z"
   },
   {
    "duration": 82,
    "start_time": "2022-10-12T12:40:57.291Z"
   },
   {
    "duration": 85,
    "start_time": "2022-10-12T12:40:57.375Z"
   },
   {
    "duration": 23,
    "start_time": "2022-10-12T12:40:57.461Z"
   },
   {
    "duration": 31,
    "start_time": "2022-10-12T12:40:57.486Z"
   },
   {
    "duration": 78,
    "start_time": "2022-10-12T12:40:57.518Z"
   },
   {
    "duration": 27,
    "start_time": "2022-10-12T12:40:57.598Z"
   },
   {
    "duration": 11,
    "start_time": "2022-10-12T12:40:57.628Z"
   },
   {
    "duration": 22,
    "start_time": "2022-10-12T12:40:57.640Z"
   },
   {
    "duration": 4,
    "start_time": "2022-10-12T12:40:57.664Z"
   },
   {
    "duration": 42,
    "start_time": "2022-10-12T12:40:57.669Z"
   },
   {
    "duration": 4,
    "start_time": "2022-10-12T12:40:57.713Z"
   },
   {
    "duration": 32,
    "start_time": "2022-10-12T12:40:57.718Z"
   },
   {
    "duration": 9,
    "start_time": "2022-10-12T12:40:57.751Z"
   },
   {
    "duration": 4,
    "start_time": "2022-10-12T12:40:57.762Z"
   },
   {
    "duration": 55,
    "start_time": "2022-10-12T12:40:57.767Z"
   },
   {
    "duration": 8,
    "start_time": "2022-10-12T12:40:57.824Z"
   },
   {
    "duration": 5,
    "start_time": "2022-10-12T12:40:57.834Z"
   },
   {
    "duration": 6,
    "start_time": "2022-10-12T12:40:57.840Z"
   },
   {
    "duration": 21,
    "start_time": "2022-10-12T12:40:57.848Z"
   },
   {
    "duration": 44,
    "start_time": "2022-10-12T12:40:57.870Z"
   },
   {
    "duration": 5,
    "start_time": "2022-10-12T12:40:57.915Z"
   },
   {
    "duration": 15,
    "start_time": "2022-10-12T12:40:57.924Z"
   },
   {
    "duration": 34,
    "start_time": "2022-10-12T12:40:57.940Z"
   },
   {
    "duration": 46,
    "start_time": "2022-10-12T12:40:57.976Z"
   },
   {
    "duration": 5,
    "start_time": "2022-10-12T12:40:58.024Z"
   },
   {
    "duration": 6,
    "start_time": "2022-10-12T12:40:58.030Z"
   },
   {
    "duration": 41,
    "start_time": "2022-10-12T12:40:58.037Z"
   },
   {
    "duration": 30,
    "start_time": "2022-10-12T12:40:58.080Z"
   },
   {
    "duration": 5,
    "start_time": "2022-10-12T12:40:58.111Z"
   },
   {
    "duration": 6,
    "start_time": "2022-10-12T12:40:58.118Z"
   },
   {
    "duration": 17,
    "start_time": "2022-10-12T12:40:58.125Z"
   },
   {
    "duration": 6,
    "start_time": "2022-10-12T12:40:58.143Z"
   },
   {
    "duration": 5,
    "start_time": "2022-10-12T12:40:58.151Z"
   },
   {
    "duration": 44,
    "start_time": "2022-10-12T12:40:58.157Z"
   },
   {
    "duration": 43,
    "start_time": "2022-10-12T12:40:58.209Z"
   },
   {
    "duration": 19,
    "start_time": "2022-10-12T12:40:58.253Z"
   },
   {
    "duration": 47,
    "start_time": "2022-10-12T12:40:58.274Z"
   },
   {
    "duration": 15,
    "start_time": "2022-10-12T12:40:58.323Z"
   },
   {
    "duration": 3,
    "start_time": "2022-10-12T12:40:58.339Z"
   },
   {
    "duration": 34,
    "start_time": "2022-10-12T12:40:58.344Z"
   },
   {
    "duration": 32,
    "start_time": "2022-10-12T12:40:58.379Z"
   },
   {
    "duration": 8,
    "start_time": "2022-10-12T12:40:58.413Z"
   },
   {
    "duration": 5,
    "start_time": "2022-10-12T12:40:58.423Z"
   },
   {
    "duration": 13,
    "start_time": "2022-10-12T12:40:58.429Z"
   },
   {
    "duration": 9,
    "start_time": "2022-10-12T12:40:58.443Z"
   },
   {
    "duration": 9,
    "start_time": "2022-10-12T12:40:58.454Z"
   },
   {
    "duration": 61,
    "start_time": "2022-10-12T12:40:58.465Z"
   },
   {
    "duration": 21,
    "start_time": "2022-10-12T12:40:58.527Z"
   },
   {
    "duration": 11,
    "start_time": "2022-10-12T12:40:58.550Z"
   },
   {
    "duration": 1372,
    "start_time": "2022-10-12T12:40:58.563Z"
   },
   {
    "duration": 10,
    "start_time": "2022-10-12T12:40:59.937Z"
   },
   {
    "duration": 193,
    "start_time": "2022-10-12T12:40:59.949Z"
   },
   {
    "duration": 272,
    "start_time": "2022-10-12T12:41:00.144Z"
   },
   {
    "duration": 8,
    "start_time": "2022-10-12T12:41:00.418Z"
   },
   {
    "duration": 388,
    "start_time": "2022-10-12T12:41:00.428Z"
   },
   {
    "duration": 259,
    "start_time": "2022-10-12T12:41:00.817Z"
   },
   {
    "duration": 6,
    "start_time": "2022-10-12T12:41:01.077Z"
   },
   {
    "duration": 128,
    "start_time": "2022-10-12T12:41:01.084Z"
   },
   {
    "duration": 13,
    "start_time": "2022-10-12T12:41:01.214Z"
   },
   {
    "duration": 61,
    "start_time": "2022-10-12T12:41:01.228Z"
   },
   {
    "duration": 46,
    "start_time": "2022-10-12T12:41:01.291Z"
   },
   {
    "duration": 19,
    "start_time": "2022-10-12T12:41:01.339Z"
   },
   {
    "duration": 17,
    "start_time": "2022-10-12T12:41:01.360Z"
   },
   {
    "duration": 111,
    "start_time": "2022-10-12T12:41:01.378Z"
   },
   {
    "duration": 627,
    "start_time": "2022-10-12T12:41:01.490Z"
   },
   {
    "duration": 59,
    "start_time": "2022-10-12T12:41:02.119Z"
   },
   {
    "duration": 68,
    "start_time": "2022-10-12T12:41:02.183Z"
   },
   {
    "duration": 14,
    "start_time": "2022-10-12T12:41:02.253Z"
   },
   {
    "duration": 52,
    "start_time": "2022-10-12T12:41:02.269Z"
   },
   {
    "duration": 13,
    "start_time": "2022-10-12T12:41:02.323Z"
   },
   {
    "duration": 6,
    "start_time": "2022-10-12T12:41:02.338Z"
   },
   {
    "duration": 30,
    "start_time": "2022-10-12T12:41:02.346Z"
   },
   {
    "duration": 118,
    "start_time": "2022-10-12T12:41:02.378Z"
   },
   {
    "duration": 20,
    "start_time": "2022-10-12T12:41:02.497Z"
   },
   {
    "duration": 15,
    "start_time": "2022-10-12T12:41:02.519Z"
   },
   {
    "duration": 17,
    "start_time": "2022-10-12T12:41:02.536Z"
   },
   {
    "duration": 12,
    "start_time": "2022-10-12T12:41:02.555Z"
   },
   {
    "duration": 9,
    "start_time": "2022-10-12T12:41:02.569Z"
   },
   {
    "duration": 3,
    "start_time": "2022-10-12T12:41:02.609Z"
   },
   {
    "duration": 16,
    "start_time": "2022-10-12T12:41:02.613Z"
   },
   {
    "duration": 3,
    "start_time": "2022-10-12T12:41:02.630Z"
   },
   {
    "duration": 3,
    "start_time": "2022-10-12T12:45:13.619Z"
   },
   {
    "duration": 3,
    "start_time": "2022-10-12T12:45:14.552Z"
   },
   {
    "duration": 3,
    "start_time": "2022-10-12T12:45:14.868Z"
   },
   {
    "duration": 3,
    "start_time": "2022-10-12T12:45:32.755Z"
   },
   {
    "duration": 189,
    "start_time": "2022-10-12T12:45:32.760Z"
   },
   {
    "duration": 79,
    "start_time": "2022-10-12T12:45:32.950Z"
   },
   {
    "duration": 83,
    "start_time": "2022-10-12T12:45:33.031Z"
   },
   {
    "duration": 24,
    "start_time": "2022-10-12T12:45:33.116Z"
   },
   {
    "duration": 18,
    "start_time": "2022-10-12T12:45:33.141Z"
   },
   {
    "duration": 96,
    "start_time": "2022-10-12T12:45:33.160Z"
   },
   {
    "duration": 19,
    "start_time": "2022-10-12T12:45:33.258Z"
   },
   {
    "duration": 13,
    "start_time": "2022-10-12T12:45:33.278Z"
   },
   {
    "duration": 43,
    "start_time": "2022-10-12T12:45:33.293Z"
   },
   {
    "duration": 4,
    "start_time": "2022-10-12T12:45:33.339Z"
   },
   {
    "duration": 51,
    "start_time": "2022-10-12T12:45:33.345Z"
   },
   {
    "duration": 13,
    "start_time": "2022-10-12T12:45:33.397Z"
   },
   {
    "duration": 45,
    "start_time": "2022-10-12T12:45:33.413Z"
   },
   {
    "duration": 9,
    "start_time": "2022-10-12T12:45:33.460Z"
   },
   {
    "duration": 7,
    "start_time": "2022-10-12T12:45:33.470Z"
   },
   {
    "duration": 30,
    "start_time": "2022-10-12T12:45:33.479Z"
   },
   {
    "duration": 8,
    "start_time": "2022-10-12T12:45:33.511Z"
   },
   {
    "duration": 4,
    "start_time": "2022-10-12T12:45:33.520Z"
   },
   {
    "duration": 9,
    "start_time": "2022-10-12T12:45:33.525Z"
   },
   {
    "duration": 21,
    "start_time": "2022-10-12T12:45:33.535Z"
   },
   {
    "duration": 17,
    "start_time": "2022-10-12T12:45:33.558Z"
   },
   {
    "duration": 28,
    "start_time": "2022-10-12T12:45:33.576Z"
   },
   {
    "duration": 45,
    "start_time": "2022-10-12T12:45:33.609Z"
   },
   {
    "duration": 54,
    "start_time": "2022-10-12T12:45:33.655Z"
   },
   {
    "duration": 28,
    "start_time": "2022-10-12T12:45:33.711Z"
   },
   {
    "duration": 4,
    "start_time": "2022-10-12T12:45:33.741Z"
   },
   {
    "duration": 9,
    "start_time": "2022-10-12T12:45:33.747Z"
   },
   {
    "duration": 52,
    "start_time": "2022-10-12T12:45:33.758Z"
   },
   {
    "duration": 17,
    "start_time": "2022-10-12T12:45:33.811Z"
   },
   {
    "duration": 18,
    "start_time": "2022-10-12T12:45:33.830Z"
   },
   {
    "duration": 7,
    "start_time": "2022-10-12T12:45:33.849Z"
   },
   {
    "duration": 15,
    "start_time": "2022-10-12T12:45:33.857Z"
   },
   {
    "duration": 5,
    "start_time": "2022-10-12T12:45:33.874Z"
   },
   {
    "duration": 5,
    "start_time": "2022-10-12T12:45:33.881Z"
   },
   {
    "duration": 49,
    "start_time": "2022-10-12T12:45:33.887Z"
   },
   {
    "duration": 40,
    "start_time": "2022-10-12T12:45:33.938Z"
   },
   {
    "duration": 38,
    "start_time": "2022-10-12T12:45:33.979Z"
   },
   {
    "duration": 29,
    "start_time": "2022-10-12T12:45:34.019Z"
   },
   {
    "duration": 16,
    "start_time": "2022-10-12T12:45:34.050Z"
   },
   {
    "duration": 3,
    "start_time": "2022-10-12T12:45:34.071Z"
   },
   {
    "duration": 58,
    "start_time": "2022-10-12T12:45:34.075Z"
   },
   {
    "duration": 15,
    "start_time": "2022-10-12T12:45:34.135Z"
   },
   {
    "duration": 8,
    "start_time": "2022-10-12T12:45:34.152Z"
   },
   {
    "duration": 4,
    "start_time": "2022-10-12T12:45:34.162Z"
   },
   {
    "duration": 10,
    "start_time": "2022-10-12T12:45:34.168Z"
   },
   {
    "duration": 34,
    "start_time": "2022-10-12T12:45:34.180Z"
   },
   {
    "duration": 17,
    "start_time": "2022-10-12T12:45:34.216Z"
   },
   {
    "duration": 42,
    "start_time": "2022-10-12T12:45:34.234Z"
   },
   {
    "duration": 21,
    "start_time": "2022-10-12T12:45:34.277Z"
   },
   {
    "duration": 12,
    "start_time": "2022-10-12T12:45:34.299Z"
   },
   {
    "duration": 1484,
    "start_time": "2022-10-12T12:45:34.313Z"
   },
   {
    "duration": 17,
    "start_time": "2022-10-12T12:45:35.799Z"
   },
   {
    "duration": 168,
    "start_time": "2022-10-12T12:45:35.817Z"
   },
   {
    "duration": 250,
    "start_time": "2022-10-12T12:45:35.987Z"
   },
   {
    "duration": 11,
    "start_time": "2022-10-12T12:45:36.238Z"
   },
   {
    "duration": 392,
    "start_time": "2022-10-12T12:45:36.250Z"
   },
   {
    "duration": 252,
    "start_time": "2022-10-12T12:45:36.644Z"
   },
   {
    "duration": 12,
    "start_time": "2022-10-12T12:45:36.898Z"
   },
   {
    "duration": 88,
    "start_time": "2022-10-12T12:45:36.912Z"
   },
   {
    "duration": 18,
    "start_time": "2022-10-12T12:45:37.001Z"
   },
   {
    "duration": 13,
    "start_time": "2022-10-12T12:45:37.021Z"
   },
   {
    "duration": 8,
    "start_time": "2022-10-12T12:45:37.036Z"
   },
   {
    "duration": 16,
    "start_time": "2022-10-12T12:45:37.045Z"
   },
   {
    "duration": 14,
    "start_time": "2022-10-12T12:45:37.063Z"
   },
   {
    "duration": 121,
    "start_time": "2022-10-12T12:45:37.078Z"
   },
   {
    "duration": 613,
    "start_time": "2022-10-12T12:45:37.201Z"
   },
   {
    "duration": 58,
    "start_time": "2022-10-12T12:45:37.817Z"
   },
   {
    "duration": 71,
    "start_time": "2022-10-12T12:45:37.877Z"
   },
   {
    "duration": 14,
    "start_time": "2022-10-12T12:45:37.950Z"
   },
   {
    "duration": 14,
    "start_time": "2022-10-12T12:45:37.965Z"
   },
   {
    "duration": 31,
    "start_time": "2022-10-12T12:45:37.981Z"
   },
   {
    "duration": 6,
    "start_time": "2022-10-12T12:45:38.013Z"
   },
   {
    "duration": 26,
    "start_time": "2022-10-12T12:45:38.020Z"
   },
   {
    "duration": 102,
    "start_time": "2022-10-12T12:45:38.048Z"
   },
   {
    "duration": 11,
    "start_time": "2022-10-12T12:45:38.152Z"
   },
   {
    "duration": 12,
    "start_time": "2022-10-12T12:45:38.165Z"
   },
   {
    "duration": 14,
    "start_time": "2022-10-12T12:45:38.178Z"
   },
   {
    "duration": 12,
    "start_time": "2022-10-12T12:45:38.209Z"
   },
   {
    "duration": 8,
    "start_time": "2022-10-12T12:45:38.223Z"
   },
   {
    "duration": 14,
    "start_time": "2022-10-12T12:45:38.233Z"
   },
   {
    "duration": 16,
    "start_time": "2022-10-12T12:45:38.248Z"
   },
   {
    "duration": 2,
    "start_time": "2022-10-12T12:45:38.266Z"
   },
   {
    "duration": 142,
    "start_time": "2022-10-12T12:45:38.270Z"
   },
   {
    "duration": 18,
    "start_time": "2022-10-12T12:45:38.413Z"
   },
   {
    "duration": 13,
    "start_time": "2022-10-12T12:45:38.433Z"
   },
   {
    "duration": 3,
    "start_time": "2022-10-12T12:45:38.448Z"
   },
   {
    "duration": 13,
    "start_time": "2022-10-12T12:45:38.453Z"
   },
   {
    "duration": 5,
    "start_time": "2022-10-12T12:45:38.467Z"
   },
   {
    "duration": 4,
    "start_time": "2022-10-12T12:45:38.473Z"
   },
   {
    "duration": 7,
    "start_time": "2022-10-12T12:45:38.478Z"
   },
   {
    "duration": 27,
    "start_time": "2022-10-12T12:45:38.486Z"
   },
   {
    "duration": 564,
    "start_time": "2022-10-12T12:45:38.515Z"
   },
   {
    "duration": 17,
    "start_time": "2022-10-12T12:45:39.080Z"
   },
   {
    "duration": 4,
    "start_time": "2022-10-12T12:45:39.109Z"
   },
   {
    "duration": 2,
    "start_time": "2022-10-12T12:46:03.203Z"
   },
   {
    "duration": 71571,
    "start_time": "2022-10-12T12:46:15.345Z"
   },
   {
    "duration": 4,
    "start_time": "2022-10-12T12:48:22.709Z"
   },
   {
    "duration": 651,
    "start_time": "2022-10-12T12:48:26.653Z"
   },
   {
    "duration": 523,
    "start_time": "2022-10-12T12:48:30.537Z"
   },
   {
    "duration": 3,
    "start_time": "2022-10-12T12:48:35.234Z"
   },
   {
    "duration": 10570,
    "start_time": "2022-10-12T12:48:46.702Z"
   },
   {
    "duration": 2193,
    "start_time": "2022-10-12T12:50:41.012Z"
   },
   {
    "duration": 2109,
    "start_time": "2022-10-12T12:50:50.101Z"
   },
   {
    "duration": 2150,
    "start_time": "2022-10-12T12:50:55.769Z"
   },
   {
    "duration": 7059,
    "start_time": "2022-10-12T12:51:00.656Z"
   },
   {
    "duration": 680,
    "start_time": "2022-10-12T12:51:19.423Z"
   },
   {
    "duration": 264277,
    "start_time": "2022-10-12T12:51:27.833Z"
   },
   {
    "duration": 2,
    "start_time": "2022-10-12T12:56:11.283Z"
   },
   {
    "duration": 1875,
    "start_time": "2022-10-12T12:56:14.383Z"
   },
   {
    "duration": 2179,
    "start_time": "2022-10-12T12:56:23.739Z"
   },
   {
    "duration": 1060,
    "start_time": "2022-10-12T12:56:47.463Z"
   },
   {
    "duration": 532,
    "start_time": "2022-10-12T12:56:51.221Z"
   },
   {
    "duration": 1931,
    "start_time": "2022-10-12T12:57:01.289Z"
   },
   {
    "duration": 3,
    "start_time": "2022-10-12T12:57:59.383Z"
   },
   {
    "duration": 1918,
    "start_time": "2022-10-12T12:58:03.152Z"
   },
   {
    "duration": 3,
    "start_time": "2022-10-12T12:58:12.632Z"
   },
   {
    "duration": 36697,
    "start_time": "2022-10-12T12:58:14.085Z"
   },
   {
    "duration": 526,
    "start_time": "2022-10-12T12:58:58.373Z"
   },
   {
    "duration": 10493,
    "start_time": "2022-10-12T12:59:02.601Z"
   },
   {
    "duration": 69808,
    "start_time": "2022-10-12T13:00:12.803Z"
   },
   {
    "duration": 554,
    "start_time": "2022-10-12T13:01:28.682Z"
   },
   {
    "duration": 531,
    "start_time": "2022-10-12T13:01:30.201Z"
   },
   {
    "duration": 3,
    "start_time": "2022-10-12T13:01:32.033Z"
   },
   {
    "duration": 10885,
    "start_time": "2022-10-12T13:01:33.202Z"
   },
   {
    "duration": 7248,
    "start_time": "2022-10-12T13:02:11.057Z"
   },
   {
    "duration": 280097,
    "start_time": "2022-10-12T13:02:48.973Z"
   },
   {
    "duration": 4,
    "start_time": "2022-10-12T13:11:49.748Z"
   },
   {
    "duration": 16251,
    "start_time": "2022-10-12T13:11:54.557Z"
   },
   {
    "duration": 17,
    "start_time": "2022-10-12T13:12:12.673Z"
   },
   {
    "duration": 96,
    "start_time": "2022-10-12T13:12:39.914Z"
   },
   {
    "duration": 295,
    "start_time": "2022-10-12T13:13:24.669Z"
   },
   {
    "duration": 428,
    "start_time": "2022-10-12T13:13:27.520Z"
   },
   {
    "duration": 547,
    "start_time": "2022-10-12T13:30:42.473Z"
   },
   {
    "duration": 2430,
    "start_time": "2022-10-12T13:30:48.621Z"
   },
   {
    "duration": 284,
    "start_time": "2022-10-12T13:30:54.844Z"
   },
   {
    "duration": 1846,
    "start_time": "2022-10-12T13:30:58.175Z"
   },
   {
    "duration": 2972,
    "start_time": "2022-10-12T13:31:04.450Z"
   },
   {
    "duration": 1898,
    "start_time": "2022-10-12T13:31:12.282Z"
   },
   {
    "duration": 3539,
    "start_time": "2022-10-12T13:31:30.864Z"
   },
   {
    "duration": 5289,
    "start_time": "2022-10-12T13:31:41.774Z"
   },
   {
    "duration": 54369,
    "start_time": "2022-10-12T13:31:59.206Z"
   },
   {
    "duration": 8701,
    "start_time": "2022-10-12T13:33:06.977Z"
   },
   {
    "duration": 18364,
    "start_time": "2022-10-12T13:33:39.068Z"
   },
   {
    "duration": 27,
    "start_time": "2022-10-12T13:35:11.628Z"
   },
   {
    "duration": 68,
    "start_time": "2022-10-12T13:35:18.449Z"
   },
   {
    "duration": 72,
    "start_time": "2022-10-12T13:35:26.772Z"
   },
   {
    "duration": 83,
    "start_time": "2022-10-12T13:35:30.462Z"
   },
   {
    "duration": 80,
    "start_time": "2022-10-12T13:36:04.716Z"
   },
   {
    "duration": 62,
    "start_time": "2022-10-12T13:36:19.715Z"
   },
   {
    "duration": 810046,
    "start_time": "2022-10-12T13:36:27.661Z"
   },
   {
    "duration": 8778,
    "start_time": "2022-10-12T15:44:01.533Z"
   },
   {
    "duration": 330696,
    "start_time": "2022-10-12T15:44:17.118Z"
   },
   {
    "duration": 5439,
    "start_time": "2022-10-12T16:00:55.291Z"
   },
   {
    "duration": 2464,
    "start_time": "2022-10-12T16:01:10.648Z"
   },
   {
    "duration": 47834,
    "start_time": "2022-10-12T16:01:24.243Z"
   },
   {
    "duration": 10802,
    "start_time": "2022-10-12T16:03:02.628Z"
   },
   {
    "duration": 4178,
    "start_time": "2022-10-12T16:03:19.782Z"
   },
   {
    "duration": 1405,
    "start_time": "2022-10-12T16:03:32.081Z"
   },
   {
    "duration": 10421,
    "start_time": "2022-10-12T16:03:47.166Z"
   },
   {
    "duration": 9970,
    "start_time": "2022-10-12T16:04:01.539Z"
   },
   {
    "duration": 10423,
    "start_time": "2022-10-12T16:04:28.271Z"
   },
   {
    "duration": 10651,
    "start_time": "2022-10-12T16:04:59.995Z"
   },
   {
    "duration": 12994,
    "start_time": "2022-10-12T16:05:20.539Z"
   },
   {
    "duration": 10715,
    "start_time": "2022-10-12T16:05:47.788Z"
   },
   {
    "duration": 5,
    "start_time": "2022-10-12T16:06:50.509Z"
   },
   {
    "duration": 16629,
    "start_time": "2022-10-12T16:06:55.081Z"
   },
   {
    "duration": 81,
    "start_time": "2022-10-12T16:07:15.029Z"
   },
   {
    "duration": 13,
    "start_time": "2022-10-12T16:07:19.778Z"
   },
   {
    "duration": 5862,
    "start_time": "2022-10-12T16:08:31.670Z"
   },
   {
    "duration": 5760,
    "start_time": "2022-10-12T16:08:50.685Z"
   },
   {
    "duration": 690,
    "start_time": "2022-10-12T16:09:02.153Z"
   },
   {
    "duration": 16367,
    "start_time": "2022-10-12T16:09:22.348Z"
   },
   {
    "duration": 5493,
    "start_time": "2022-10-12T16:12:23.925Z"
   },
   {
    "duration": 9100,
    "start_time": "2022-10-12T16:12:53.550Z"
   },
   {
    "duration": 7128,
    "start_time": "2022-10-12T16:13:24.411Z"
   },
   {
    "duration": 14222,
    "start_time": "2022-10-12T16:13:39.670Z"
   },
   {
    "duration": 7184,
    "start_time": "2022-10-12T16:14:08.741Z"
   },
   {
    "duration": 64432,
    "start_time": "2022-10-12T16:14:34.814Z"
   },
   {
    "duration": 10405,
    "start_time": "2022-10-12T16:16:02.293Z"
   },
   {
    "duration": 67827,
    "start_time": "2022-10-12T16:16:17.981Z"
   },
   {
    "duration": 233573,
    "start_time": "2022-10-12T16:17:59.249Z"
   },
   {
    "duration": 3012,
    "start_time": "2022-10-12T16:29:08.965Z"
   },
   {
    "duration": 252,
    "start_time": "2022-10-12T16:29:30.478Z"
   },
   {
    "duration": 4,
    "start_time": "2022-10-12T16:29:44.178Z"
   },
   {
    "duration": 643,
    "start_time": "2022-10-12T16:29:45.567Z"
   },
   {
    "duration": 17,
    "start_time": "2022-10-12T16:29:49.347Z"
   },
   {
    "duration": 21,
    "start_time": "2022-10-12T16:30:08.605Z"
   },
   {
    "duration": 4,
    "start_time": "2022-10-12T16:30:19.666Z"
   },
   {
    "duration": 3,
    "start_time": "2022-10-12T16:30:23.233Z"
   },
   {
    "duration": 3,
    "start_time": "2022-10-12T16:30:25.964Z"
   },
   {
    "duration": 11163,
    "start_time": "2022-10-12T16:31:57.185Z"
   },
   {
    "duration": 14702,
    "start_time": "2022-10-12T16:32:15.035Z"
   },
   {
    "duration": 22964,
    "start_time": "2022-10-12T16:32:34.233Z"
   },
   {
    "duration": 7229,
    "start_time": "2022-10-12T16:33:04.730Z"
   },
   {
    "duration": 3100,
    "start_time": "2022-10-12T16:35:00.804Z"
   },
   {
    "duration": 252,
    "start_time": "2022-10-12T16:35:07.965Z"
   },
   {
    "duration": 15,
    "start_time": "2022-10-12T16:35:23.879Z"
   },
   {
    "duration": 18,
    "start_time": "2022-10-12T16:35:29.251Z"
   },
   {
    "duration": 5309,
    "start_time": "2022-10-12T16:37:05.680Z"
   },
   {
    "duration": 99988,
    "start_time": "2022-10-12T16:37:14.945Z"
   },
   {
    "duration": 167,
    "start_time": "2022-10-12T16:50:32.010Z"
   },
   {
    "duration": 156,
    "start_time": "2022-10-12T16:50:42.593Z"
   },
   {
    "duration": 5,
    "start_time": "2022-10-12T16:50:59.666Z"
   },
   {
    "duration": 212,
    "start_time": "2022-10-12T16:51:07.910Z"
   },
   {
    "duration": 188,
    "start_time": "2022-10-12T16:51:16.797Z"
   },
   {
    "duration": 156,
    "start_time": "2022-10-12T16:51:27.111Z"
   },
   {
    "duration": 243,
    "start_time": "2022-10-12T16:51:35.681Z"
   },
   {
    "duration": 874,
    "start_time": "2022-10-12T16:51:47.166Z"
   },
   {
    "duration": 207,
    "start_time": "2022-10-12T16:51:58.049Z"
   },
   {
    "duration": 335,
    "start_time": "2022-10-12T16:52:19.089Z"
   },
   {
    "duration": 189,
    "start_time": "2022-10-12T16:52:31.614Z"
   },
   {
    "duration": 165,
    "start_time": "2022-10-12T16:52:41.971Z"
   },
   {
    "duration": 10,
    "start_time": "2022-10-12T16:53:20.669Z"
   },
   {
    "duration": 194,
    "start_time": "2022-10-12T16:53:45.008Z"
   },
   {
    "duration": 12,
    "start_time": "2022-10-12T16:54:08.064Z"
   },
   {
    "duration": 1664,
    "start_time": "2022-10-12T17:08:31.585Z"
   },
   {
    "duration": 1488,
    "start_time": "2022-10-12T17:08:42.403Z"
   },
   {
    "duration": 1405,
    "start_time": "2022-10-12T17:08:51.370Z"
   },
   {
    "duration": 5168,
    "start_time": "2022-10-12T17:09:17.236Z"
   },
   {
    "duration": 4262,
    "start_time": "2022-10-12T17:10:24.762Z"
   },
   {
    "duration": 12,
    "start_time": "2022-10-12T17:11:17.575Z"
   },
   {
    "duration": 4242,
    "start_time": "2022-10-12T17:11:21.501Z"
   },
   {
    "duration": 15,
    "start_time": "2022-10-12T17:11:29.771Z"
   },
   {
    "duration": 12,
    "start_time": "2022-10-12T17:11:36.185Z"
   },
   {
    "duration": 10,
    "start_time": "2022-10-12T17:11:39.678Z"
   },
   {
    "duration": 9,
    "start_time": "2022-10-12T17:11:47.924Z"
   },
   {
    "duration": 10,
    "start_time": "2022-10-12T17:12:11.660Z"
   },
   {
    "duration": 10,
    "start_time": "2022-10-12T17:12:16.317Z"
   },
   {
    "duration": 9,
    "start_time": "2022-10-12T17:12:30.244Z"
   },
   {
    "duration": 12,
    "start_time": "2022-10-12T17:13:03.852Z"
   },
   {
    "duration": 4308,
    "start_time": "2022-10-12T17:13:07.747Z"
   },
   {
    "duration": 15,
    "start_time": "2022-10-12T17:13:20.186Z"
   },
   {
    "duration": 4086,
    "start_time": "2022-10-12T17:14:11.905Z"
   },
   {
    "duration": 12,
    "start_time": "2022-10-12T17:14:19.777Z"
   },
   {
    "duration": 3,
    "start_time": "2022-10-12T17:20:51.643Z"
   },
   {
    "duration": 5,
    "start_time": "2022-10-12T17:20:58.593Z"
   },
   {
    "duration": 16,
    "start_time": "2022-10-12T17:21:02.574Z"
   },
   {
    "duration": 10943,
    "start_time": "2022-10-12T17:21:55.578Z"
   },
   {
    "duration": 1198,
    "start_time": "2022-10-12T17:22:27.011Z"
   },
   {
    "duration": 55077,
    "start_time": "2022-10-12T17:22:51.940Z"
   },
   {
    "duration": 869,
    "start_time": "2022-10-12T17:24:27.222Z"
   },
   {
    "duration": 26151,
    "start_time": "2022-10-12T17:24:44.394Z"
   },
   {
    "duration": 15,
    "start_time": "2022-10-12T17:30:03.345Z"
   },
   {
    "duration": 11,
    "start_time": "2022-10-12T17:30:54.414Z"
   },
   {
    "duration": 4,
    "start_time": "2022-10-12T17:31:30.488Z"
   },
   {
    "duration": 4,
    "start_time": "2022-10-12T17:31:34.434Z"
   },
   {
    "duration": 4,
    "start_time": "2022-10-12T17:31:35.909Z"
   },
   {
    "duration": 3,
    "start_time": "2022-10-12T17:31:36.355Z"
   },
   {
    "duration": 4,
    "start_time": "2022-10-12T17:31:36.537Z"
   },
   {
    "duration": 4,
    "start_time": "2022-10-12T17:31:36.694Z"
   },
   {
    "duration": 4,
    "start_time": "2022-10-12T17:31:36.877Z"
   },
   {
    "duration": 4,
    "start_time": "2022-10-12T17:31:37.053Z"
   },
   {
    "duration": 3,
    "start_time": "2022-10-12T17:31:37.199Z"
   },
   {
    "duration": 3,
    "start_time": "2022-10-12T17:31:37.359Z"
   },
   {
    "duration": 4,
    "start_time": "2022-10-12T17:31:37.523Z"
   },
   {
    "duration": 3,
    "start_time": "2022-10-12T17:31:37.683Z"
   },
   {
    "duration": 4,
    "start_time": "2022-10-12T17:31:37.854Z"
   },
   {
    "duration": 4,
    "start_time": "2022-10-12T17:31:38.005Z"
   },
   {
    "duration": 4,
    "start_time": "2022-10-12T17:31:38.185Z"
   },
   {
    "duration": 3,
    "start_time": "2022-10-12T17:31:38.347Z"
   },
   {
    "duration": 3,
    "start_time": "2022-10-12T17:31:38.509Z"
   },
   {
    "duration": 4,
    "start_time": "2022-10-12T17:31:38.669Z"
   },
   {
    "duration": 4,
    "start_time": "2022-10-12T17:31:38.831Z"
   },
   {
    "duration": 4,
    "start_time": "2022-10-12T17:31:39.010Z"
   },
   {
    "duration": 4,
    "start_time": "2022-10-12T17:31:39.173Z"
   },
   {
    "duration": 4,
    "start_time": "2022-10-12T17:31:39.355Z"
   },
   {
    "duration": 4,
    "start_time": "2022-10-12T17:31:39.535Z"
   },
   {
    "duration": 4,
    "start_time": "2022-10-12T17:31:39.698Z"
   },
   {
    "duration": 4,
    "start_time": "2022-10-12T17:31:39.857Z"
   },
   {
    "duration": 4,
    "start_time": "2022-10-12T17:31:40.039Z"
   },
   {
    "duration": 4,
    "start_time": "2022-10-12T17:31:40.212Z"
   },
   {
    "duration": 5,
    "start_time": "2022-10-12T17:31:40.381Z"
   },
   {
    "duration": 3,
    "start_time": "2022-10-12T17:35:47.050Z"
   },
   {
    "duration": 360,
    "start_time": "2022-10-12T17:35:49.668Z"
   },
   {
    "duration": 27,
    "start_time": "2022-10-12T17:35:54.045Z"
   },
   {
    "duration": 4,
    "start_time": "2022-10-12T17:37:20.170Z"
   },
   {
    "duration": 4,
    "start_time": "2022-10-12T17:38:56.975Z"
   },
   {
    "duration": 4,
    "start_time": "2022-10-12T17:39:58.777Z"
   },
   {
    "duration": 4,
    "start_time": "2022-10-12T17:40:02.034Z"
   },
   {
    "duration": 4,
    "start_time": "2022-10-12T17:40:22.798Z"
   },
   {
    "duration": 2,
    "start_time": "2022-10-12T17:44:27.563Z"
   },
   {
    "duration": 340,
    "start_time": "2022-10-12T17:44:30.625Z"
   },
   {
    "duration": 3,
    "start_time": "2022-10-12T17:44:32.902Z"
   },
   {
    "duration": 3,
    "start_time": "2022-10-12T17:44:35.316Z"
   },
   {
    "duration": 3,
    "start_time": "2022-10-12T17:44:54.852Z"
   },
   {
    "duration": 3,
    "start_time": "2022-10-12T17:45:27.232Z"
   },
   {
    "duration": 339,
    "start_time": "2022-10-12T17:45:27.873Z"
   },
   {
    "duration": 3,
    "start_time": "2022-10-12T17:45:28.272Z"
   },
   {
    "duration": 3,
    "start_time": "2022-10-12T17:45:28.959Z"
   },
   {
    "duration": 3,
    "start_time": "2022-10-12T17:45:29.722Z"
   },
   {
    "duration": 3,
    "start_time": "2022-10-12T17:46:20.137Z"
   },
   {
    "duration": 371,
    "start_time": "2022-10-12T17:46:28.434Z"
   },
   {
    "duration": 4,
    "start_time": "2022-10-12T17:46:29.691Z"
   },
   {
    "duration": 4,
    "start_time": "2022-10-12T17:46:31.082Z"
   },
   {
    "duration": 4,
    "start_time": "2022-10-12T17:46:36.892Z"
   },
   {
    "duration": 4,
    "start_time": "2022-10-12T17:50:54.767Z"
   },
   {
    "duration": 1532,
    "start_time": "2022-10-12T17:55:02.823Z"
   },
   {
    "duration": 237,
    "start_time": "2022-10-12T17:55:04.357Z"
   },
   {
    "duration": 86,
    "start_time": "2022-10-12T17:55:04.596Z"
   },
   {
    "duration": 68,
    "start_time": "2022-10-12T17:55:04.683Z"
   },
   {
    "duration": 26,
    "start_time": "2022-10-12T17:55:04.753Z"
   },
   {
    "duration": 38,
    "start_time": "2022-10-12T17:55:04.781Z"
   },
   {
    "duration": 92,
    "start_time": "2022-10-12T17:55:04.820Z"
   },
   {
    "duration": 18,
    "start_time": "2022-10-12T17:55:04.914Z"
   },
   {
    "duration": 11,
    "start_time": "2022-10-12T17:55:04.934Z"
   },
   {
    "duration": 24,
    "start_time": "2022-10-12T17:55:04.948Z"
   },
   {
    "duration": 4,
    "start_time": "2022-10-12T17:55:04.974Z"
   },
   {
    "duration": 50,
    "start_time": "2022-10-12T17:55:04.980Z"
   },
   {
    "duration": 4,
    "start_time": "2022-10-12T17:55:05.031Z"
   },
   {
    "duration": 31,
    "start_time": "2022-10-12T17:55:05.036Z"
   },
   {
    "duration": 9,
    "start_time": "2022-10-12T17:55:05.069Z"
   },
   {
    "duration": 30,
    "start_time": "2022-10-12T17:55:05.079Z"
   },
   {
    "duration": 28,
    "start_time": "2022-10-12T17:55:05.111Z"
   },
   {
    "duration": 9,
    "start_time": "2022-10-12T17:55:05.140Z"
   },
   {
    "duration": 15,
    "start_time": "2022-10-12T17:55:05.150Z"
   },
   {
    "duration": 6,
    "start_time": "2022-10-12T17:55:05.167Z"
   },
   {
    "duration": 35,
    "start_time": "2022-10-12T17:55:05.175Z"
   },
   {
    "duration": 18,
    "start_time": "2022-10-12T17:55:05.212Z"
   },
   {
    "duration": 4,
    "start_time": "2022-10-12T17:55:05.232Z"
   },
   {
    "duration": 19,
    "start_time": "2022-10-12T17:55:05.238Z"
   },
   {
    "duration": 66,
    "start_time": "2022-10-12T17:55:05.259Z"
   },
   {
    "duration": 25,
    "start_time": "2022-10-12T17:55:05.327Z"
   },
   {
    "duration": 4,
    "start_time": "2022-10-12T17:55:05.353Z"
   },
   {
    "duration": 6,
    "start_time": "2022-10-12T17:55:05.361Z"
   },
   {
    "duration": 63,
    "start_time": "2022-10-12T17:55:05.368Z"
   },
   {
    "duration": 16,
    "start_time": "2022-10-12T17:55:05.432Z"
   },
   {
    "duration": 8,
    "start_time": "2022-10-12T17:55:05.450Z"
   },
   {
    "duration": 4,
    "start_time": "2022-10-12T17:55:05.460Z"
   },
   {
    "duration": 9,
    "start_time": "2022-10-12T17:55:05.465Z"
   },
   {
    "duration": 7,
    "start_time": "2022-10-12T17:55:05.475Z"
   },
   {
    "duration": 5,
    "start_time": "2022-10-12T17:55:05.509Z"
   },
   {
    "duration": 38,
    "start_time": "2022-10-12T17:55:05.516Z"
   },
   {
    "duration": 58,
    "start_time": "2022-10-12T17:55:05.556Z"
   },
   {
    "duration": 28,
    "start_time": "2022-10-12T17:55:05.615Z"
   },
   {
    "duration": 31,
    "start_time": "2022-10-12T17:55:05.645Z"
   },
   {
    "duration": 46,
    "start_time": "2022-10-12T17:55:05.678Z"
   },
   {
    "duration": 10,
    "start_time": "2022-10-12T17:55:05.726Z"
   },
   {
    "duration": 84,
    "start_time": "2022-10-12T17:55:05.737Z"
   },
   {
    "duration": 20,
    "start_time": "2022-10-12T17:55:05.823Z"
   },
   {
    "duration": 8,
    "start_time": "2022-10-12T17:55:05.845Z"
   },
   {
    "duration": 7,
    "start_time": "2022-10-12T17:55:05.854Z"
   },
   {
    "duration": 12,
    "start_time": "2022-10-12T17:55:05.862Z"
   },
   {
    "duration": 39,
    "start_time": "2022-10-12T17:55:05.875Z"
   },
   {
    "duration": 9,
    "start_time": "2022-10-12T17:55:05.916Z"
   },
   {
    "duration": 43,
    "start_time": "2022-10-12T17:55:05.927Z"
   },
   {
    "duration": 21,
    "start_time": "2022-10-12T17:55:05.971Z"
   },
   {
    "duration": 21,
    "start_time": "2022-10-12T17:55:05.994Z"
   },
   {
    "duration": 1481,
    "start_time": "2022-10-12T17:55:06.016Z"
   },
   {
    "duration": 15,
    "start_time": "2022-10-12T17:55:07.498Z"
   },
   {
    "duration": 3737,
    "start_time": "2022-10-12T17:55:07.514Z"
   },
   {
    "duration": 12,
    "start_time": "2022-10-12T17:55:11.252Z"
   },
   {
    "duration": 183,
    "start_time": "2022-10-12T17:55:11.266Z"
   },
   {
    "duration": 279,
    "start_time": "2022-10-12T17:55:11.451Z"
   },
   {
    "duration": 8,
    "start_time": "2022-10-12T17:55:11.732Z"
   },
   {
    "duration": 273,
    "start_time": "2022-10-12T17:55:11.741Z"
   },
   {
    "duration": 257,
    "start_time": "2022-10-12T17:55:12.016Z"
   },
   {
    "duration": 6,
    "start_time": "2022-10-12T17:55:12.274Z"
   },
   {
    "duration": 188,
    "start_time": "2022-10-12T17:55:12.281Z"
   },
   {
    "duration": 9,
    "start_time": "2022-10-12T17:55:12.471Z"
   },
   {
    "duration": 208,
    "start_time": "2022-10-12T17:55:12.482Z"
   },
   {
    "duration": 19,
    "start_time": "2022-10-12T17:55:12.691Z"
   },
   {
    "duration": 5,
    "start_time": "2022-10-12T17:55:12.711Z"
   },
   {
    "duration": 126,
    "start_time": "2022-10-12T17:55:12.718Z"
   },
   {
    "duration": 19,
    "start_time": "2022-10-12T17:55:12.845Z"
   },
   {
    "duration": 26,
    "start_time": "2022-10-12T17:55:12.867Z"
   },
   {
    "duration": 28,
    "start_time": "2022-10-12T17:55:12.895Z"
   },
   {
    "duration": 48,
    "start_time": "2022-10-12T17:55:12.925Z"
   },
   {
    "duration": 24,
    "start_time": "2022-10-12T17:55:12.975Z"
   },
   {
    "duration": 139,
    "start_time": "2022-10-12T17:55:13.001Z"
   },
   {
    "duration": 759,
    "start_time": "2022-10-12T17:55:13.141Z"
   },
   {
    "duration": 60,
    "start_time": "2022-10-12T17:55:13.903Z"
   },
   {
    "duration": 61,
    "start_time": "2022-10-12T17:55:13.965Z"
   },
   {
    "duration": 13,
    "start_time": "2022-10-12T17:55:14.028Z"
   },
   {
    "duration": 14,
    "start_time": "2022-10-12T17:55:14.043Z"
   },
   {
    "duration": 13,
    "start_time": "2022-10-12T17:55:14.059Z"
   },
   {
    "duration": 7,
    "start_time": "2022-10-12T17:55:14.073Z"
   },
   {
    "duration": 36,
    "start_time": "2022-10-12T17:55:14.109Z"
   },
   {
    "duration": 105,
    "start_time": "2022-10-12T17:55:14.151Z"
   },
   {
    "duration": 10,
    "start_time": "2022-10-12T17:55:14.258Z"
   },
   {
    "duration": 14,
    "start_time": "2022-10-12T17:55:14.270Z"
   },
   {
    "duration": 35,
    "start_time": "2022-10-12T17:55:14.285Z"
   },
   {
    "duration": 17,
    "start_time": "2022-10-12T17:55:14.322Z"
   },
   {
    "duration": 14,
    "start_time": "2022-10-12T17:55:14.340Z"
   },
   {
    "duration": 5,
    "start_time": "2022-10-12T17:55:14.356Z"
   },
   {
    "duration": 20,
    "start_time": "2022-10-12T17:55:14.363Z"
   },
   {
    "duration": 4,
    "start_time": "2022-10-12T17:55:14.385Z"
   },
   {
    "duration": 166,
    "start_time": "2022-10-12T17:55:14.409Z"
   },
   {
    "duration": 22,
    "start_time": "2022-10-12T17:55:14.577Z"
   },
   {
    "duration": 16,
    "start_time": "2022-10-12T17:55:14.611Z"
   },
   {
    "duration": 14,
    "start_time": "2022-10-12T17:55:14.629Z"
   },
   {
    "duration": 5,
    "start_time": "2022-10-12T17:55:14.645Z"
   },
   {
    "duration": 8,
    "start_time": "2022-10-12T17:55:14.652Z"
   },
   {
    "duration": 8,
    "start_time": "2022-10-12T17:55:14.661Z"
   },
   {
    "duration": 5,
    "start_time": "2022-10-12T17:55:14.670Z"
   },
   {
    "duration": 5,
    "start_time": "2022-10-12T17:55:14.677Z"
   },
   {
    "duration": 601,
    "start_time": "2022-10-12T17:55:14.683Z"
   },
   {
    "duration": 23,
    "start_time": "2022-10-12T17:55:15.286Z"
   },
   {
    "duration": 5,
    "start_time": "2022-10-12T17:55:15.310Z"
   },
   {
    "duration": 340301,
    "start_time": "2022-10-12T17:55:15.316Z"
   },
   {
    "duration": 5536,
    "start_time": "2022-10-12T18:00:55.618Z"
   },
   {
    "duration": 104079,
    "start_time": "2022-10-12T18:01:01.156Z"
   },
   {
    "duration": 7366,
    "start_time": "2022-10-12T18:02:45.237Z"
   },
   {
    "duration": 243665,
    "start_time": "2022-10-12T18:02:52.604Z"
   },
   {
    "duration": 4,
    "start_time": "2022-10-12T18:06:56.272Z"
   },
   {
    "duration": 3203,
    "start_time": "2022-10-12T18:06:56.278Z"
   },
   {
    "duration": 271,
    "start_time": "2022-10-12T18:06:59.482Z"
   },
   {
    "duration": 4,
    "start_time": "2022-10-12T18:06:59.755Z"
   },
   {
    "duration": 691,
    "start_time": "2022-10-12T18:06:59.760Z"
   },
   {
    "duration": 16,
    "start_time": "2022-10-12T18:07:00.452Z"
   },
   {
    "duration": 39,
    "start_time": "2022-10-12T18:07:00.469Z"
   },
   {
    "duration": 4,
    "start_time": "2022-10-12T18:07:00.510Z"
   },
   {
    "duration": 15,
    "start_time": "2022-10-12T18:07:00.516Z"
   },
   {
    "duration": 27,
    "start_time": "2022-10-12T18:07:00.533Z"
   },
   {
    "duration": 20,
    "start_time": "2022-10-12T18:07:00.561Z"
   },
   {
    "duration": 393,
    "start_time": "2022-10-12T18:07:00.583Z"
   },
   {
    "duration": 3,
    "start_time": "2022-10-12T18:07:00.978Z"
   },
   {
    "duration": 27,
    "start_time": "2022-10-12T18:07:00.982Z"
   },
   {
    "duration": 15,
    "start_time": "2022-10-12T18:07:01.010Z"
   },
   {
    "duration": 1667,
    "start_time": "2022-10-13T15:07:05.353Z"
   },
   {
    "duration": 433,
    "start_time": "2022-10-13T15:07:07.022Z"
   },
   {
    "duration": 102,
    "start_time": "2022-10-13T15:07:07.457Z"
   },
   {
    "duration": 98,
    "start_time": "2022-10-13T15:07:07.562Z"
   },
   {
    "duration": 27,
    "start_time": "2022-10-13T15:07:07.662Z"
   },
   {
    "duration": 41,
    "start_time": "2022-10-13T15:07:07.691Z"
   },
   {
    "duration": 123,
    "start_time": "2022-10-13T15:07:07.735Z"
   },
   {
    "duration": 33,
    "start_time": "2022-10-13T15:07:07.861Z"
   },
   {
    "duration": 33,
    "start_time": "2022-10-13T15:07:07.896Z"
   },
   {
    "duration": 37,
    "start_time": "2022-10-13T15:07:07.932Z"
   },
   {
    "duration": 5,
    "start_time": "2022-10-13T15:07:07.971Z"
   },
   {
    "duration": 41,
    "start_time": "2022-10-13T15:07:07.978Z"
   },
   {
    "duration": 7,
    "start_time": "2022-10-13T15:07:08.022Z"
   },
   {
    "duration": 73,
    "start_time": "2022-10-13T15:07:08.031Z"
   },
   {
    "duration": 18,
    "start_time": "2022-10-13T15:07:08.107Z"
   },
   {
    "duration": 7,
    "start_time": "2022-10-13T15:07:08.127Z"
   },
   {
    "duration": 48,
    "start_time": "2022-10-13T15:07:08.136Z"
   },
   {
    "duration": 38,
    "start_time": "2022-10-13T15:07:08.187Z"
   },
   {
    "duration": 5,
    "start_time": "2022-10-13T15:07:08.228Z"
   },
   {
    "duration": 27,
    "start_time": "2022-10-13T15:07:08.235Z"
   },
   {
    "duration": 28,
    "start_time": "2022-10-13T15:07:08.264Z"
   },
   {
    "duration": 25,
    "start_time": "2022-10-13T15:07:08.293Z"
   },
   {
    "duration": 5,
    "start_time": "2022-10-13T15:07:08.320Z"
   },
   {
    "duration": 39,
    "start_time": "2022-10-13T15:07:08.327Z"
   },
   {
    "duration": 52,
    "start_time": "2022-10-13T15:07:08.368Z"
   },
   {
    "duration": 34,
    "start_time": "2022-10-13T15:07:08.422Z"
   },
   {
    "duration": 5,
    "start_time": "2022-10-13T15:07:08.458Z"
   },
   {
    "duration": 7,
    "start_time": "2022-10-13T15:07:08.468Z"
   },
   {
    "duration": 82,
    "start_time": "2022-10-13T15:07:08.477Z"
   },
   {
    "duration": 18,
    "start_time": "2022-10-13T15:07:08.561Z"
   },
   {
    "duration": 26,
    "start_time": "2022-10-13T15:07:08.581Z"
   },
   {
    "duration": 19,
    "start_time": "2022-10-13T15:07:08.609Z"
   },
   {
    "duration": 28,
    "start_time": "2022-10-13T15:07:08.629Z"
   },
   {
    "duration": 13,
    "start_time": "2022-10-13T15:07:08.658Z"
   },
   {
    "duration": 20,
    "start_time": "2022-10-13T15:07:08.672Z"
   },
   {
    "duration": 51,
    "start_time": "2022-10-13T15:07:08.694Z"
   },
   {
    "duration": 44,
    "start_time": "2022-10-13T15:07:08.747Z"
   },
   {
    "duration": 41,
    "start_time": "2022-10-13T15:07:08.792Z"
   },
   {
    "duration": 53,
    "start_time": "2022-10-13T15:07:08.834Z"
   },
   {
    "duration": 30,
    "start_time": "2022-10-13T15:07:08.890Z"
   },
   {
    "duration": 48,
    "start_time": "2022-10-13T15:07:08.923Z"
   },
   {
    "duration": 83,
    "start_time": "2022-10-13T15:07:08.974Z"
   },
   {
    "duration": 30,
    "start_time": "2022-10-13T15:07:09.059Z"
   },
   {
    "duration": 34,
    "start_time": "2022-10-13T15:07:09.091Z"
   },
   {
    "duration": 55,
    "start_time": "2022-10-13T15:07:09.128Z"
   },
   {
    "duration": 51,
    "start_time": "2022-10-13T15:07:09.185Z"
   },
   {
    "duration": 43,
    "start_time": "2022-10-13T15:07:09.239Z"
   },
   {
    "duration": 22,
    "start_time": "2022-10-13T15:07:09.284Z"
   },
   {
    "duration": 67,
    "start_time": "2022-10-13T15:07:09.308Z"
   },
   {
    "duration": 44,
    "start_time": "2022-10-13T15:07:09.377Z"
   },
   {
    "duration": 27,
    "start_time": "2022-10-13T15:07:09.424Z"
   },
   {
    "duration": 1814,
    "start_time": "2022-10-13T15:07:09.453Z"
   },
   {
    "duration": 11,
    "start_time": "2022-10-13T15:07:11.269Z"
   },
   {
    "duration": 4534,
    "start_time": "2022-10-13T15:07:11.283Z"
   },
   {
    "duration": 15,
    "start_time": "2022-10-13T15:07:15.821Z"
   },
   {
    "duration": 181,
    "start_time": "2022-10-13T15:07:15.839Z"
   },
   {
    "duration": 290,
    "start_time": "2022-10-13T15:07:16.022Z"
   },
   {
    "duration": 17,
    "start_time": "2022-10-13T15:07:16.314Z"
   },
   {
    "duration": 350,
    "start_time": "2022-10-13T15:07:16.334Z"
   },
   {
    "duration": 292,
    "start_time": "2022-10-13T15:07:16.686Z"
   },
   {
    "duration": 6,
    "start_time": "2022-10-13T15:07:16.980Z"
   },
   {
    "duration": 196,
    "start_time": "2022-10-13T15:07:16.988Z"
   },
   {
    "duration": 9,
    "start_time": "2022-10-13T15:07:17.186Z"
   },
   {
    "duration": 210,
    "start_time": "2022-10-13T15:07:17.197Z"
   },
   {
    "duration": 22,
    "start_time": "2022-10-13T15:07:17.409Z"
   },
   {
    "duration": 7,
    "start_time": "2022-10-13T15:07:17.433Z"
   },
   {
    "duration": 131,
    "start_time": "2022-10-13T15:07:17.442Z"
   },
   {
    "duration": 26,
    "start_time": "2022-10-13T15:07:17.575Z"
   },
   {
    "duration": 37,
    "start_time": "2022-10-13T15:07:17.605Z"
   },
   {
    "duration": 11,
    "start_time": "2022-10-13T15:07:17.644Z"
   },
   {
    "duration": 17,
    "start_time": "2022-10-13T15:07:17.657Z"
   },
   {
    "duration": 19,
    "start_time": "2022-10-13T15:07:17.676Z"
   },
   {
    "duration": 129,
    "start_time": "2022-10-13T15:07:17.721Z"
   },
   {
    "duration": 867,
    "start_time": "2022-10-13T15:07:17.852Z"
   },
   {
    "duration": 54,
    "start_time": "2022-10-13T15:07:18.720Z"
   },
   {
    "duration": 76,
    "start_time": "2022-10-13T15:07:18.776Z"
   },
   {
    "duration": 22,
    "start_time": "2022-10-13T15:07:18.855Z"
   },
   {
    "duration": 40,
    "start_time": "2022-10-13T15:07:18.879Z"
   },
   {
    "duration": 66,
    "start_time": "2022-10-13T15:07:18.921Z"
   },
   {
    "duration": 26,
    "start_time": "2022-10-13T15:07:18.990Z"
   },
   {
    "duration": 66,
    "start_time": "2022-10-13T15:07:19.019Z"
   },
   {
    "duration": 189,
    "start_time": "2022-10-13T15:07:19.095Z"
   },
   {
    "duration": 12,
    "start_time": "2022-10-13T15:07:19.287Z"
   },
   {
    "duration": 40,
    "start_time": "2022-10-13T15:07:19.301Z"
   },
   {
    "duration": 45,
    "start_time": "2022-10-13T15:07:19.343Z"
   },
   {
    "duration": 38,
    "start_time": "2022-10-13T15:07:19.391Z"
   },
   {
    "duration": 36,
    "start_time": "2022-10-13T15:07:19.432Z"
   },
   {
    "duration": 30,
    "start_time": "2022-10-13T15:07:19.470Z"
   },
   {
    "duration": 53,
    "start_time": "2022-10-13T15:07:19.502Z"
   },
   {
    "duration": 20,
    "start_time": "2022-10-13T15:07:19.557Z"
   },
   {
    "duration": 169,
    "start_time": "2022-10-13T15:07:19.580Z"
   },
   {
    "duration": 17,
    "start_time": "2022-10-13T15:07:19.751Z"
   },
   {
    "duration": 49,
    "start_time": "2022-10-13T15:07:19.769Z"
   },
   {
    "duration": 20,
    "start_time": "2022-10-13T15:07:19.820Z"
   },
   {
    "duration": 28,
    "start_time": "2022-10-13T15:07:19.842Z"
   },
   {
    "duration": 32,
    "start_time": "2022-10-13T15:07:19.875Z"
   },
   {
    "duration": 19,
    "start_time": "2022-10-13T15:07:19.911Z"
   },
   {
    "duration": 23,
    "start_time": "2022-10-13T15:07:19.933Z"
   },
   {
    "duration": 20,
    "start_time": "2022-10-13T15:07:19.959Z"
   },
   {
    "duration": 628,
    "start_time": "2022-10-13T15:07:19.982Z"
   },
   {
    "duration": 23,
    "start_time": "2022-10-13T15:07:20.612Z"
   },
   {
    "duration": 10,
    "start_time": "2022-10-13T15:07:20.637Z"
   },
   {
    "duration": 397572,
    "start_time": "2022-10-13T15:07:20.649Z"
   },
   {
    "duration": 5176,
    "start_time": "2022-10-13T15:13:58.225Z"
   },
   {
    "duration": 102587,
    "start_time": "2022-10-13T15:14:03.403Z"
   },
   {
    "duration": 7313,
    "start_time": "2022-10-13T15:15:45.992Z"
   },
   {
    "duration": 249429,
    "start_time": "2022-10-13T15:15:53.307Z"
   },
   {
    "duration": 4,
    "start_time": "2022-10-13T15:20:02.738Z"
   },
   {
    "duration": 3205,
    "start_time": "2022-10-13T15:20:02.744Z"
   },
   {
    "duration": 290,
    "start_time": "2022-10-13T15:20:05.951Z"
   },
   {
    "duration": 5,
    "start_time": "2022-10-13T15:20:06.243Z"
   },
   {
    "duration": 700,
    "start_time": "2022-10-13T15:20:06.250Z"
   },
   {
    "duration": 18,
    "start_time": "2022-10-13T15:20:06.952Z"
   },
   {
    "duration": 39,
    "start_time": "2022-10-13T15:20:06.972Z"
   },
   {
    "duration": 8,
    "start_time": "2022-10-13T15:20:07.013Z"
   },
   {
    "duration": 17,
    "start_time": "2022-10-13T15:20:07.024Z"
   },
   {
    "duration": 39,
    "start_time": "2022-10-13T15:20:07.043Z"
   },
   {
    "duration": 17,
    "start_time": "2022-10-13T15:20:07.084Z"
   },
   {
    "duration": 410,
    "start_time": "2022-10-13T15:20:07.103Z"
   },
   {
    "duration": 6,
    "start_time": "2022-10-13T15:20:07.514Z"
   },
   {
    "duration": 37,
    "start_time": "2022-10-13T15:20:07.522Z"
   },
   {
    "duration": 22,
    "start_time": "2022-10-13T15:20:07.561Z"
   },
   {
    "duration": 1626,
    "start_time": "2022-10-13T16:54:29.059Z"
   },
   {
    "duration": 542,
    "start_time": "2022-10-13T16:54:30.687Z"
   },
   {
    "duration": 86,
    "start_time": "2022-10-13T16:54:31.230Z"
   },
   {
    "duration": 77,
    "start_time": "2022-10-13T16:54:31.318Z"
   },
   {
    "duration": 37,
    "start_time": "2022-10-13T16:54:31.397Z"
   },
   {
    "duration": 19,
    "start_time": "2022-10-13T16:54:31.435Z"
   },
   {
    "duration": 91,
    "start_time": "2022-10-13T16:54:31.455Z"
   },
   {
    "duration": 19,
    "start_time": "2022-10-13T16:54:31.548Z"
   },
   {
    "duration": 17,
    "start_time": "2022-10-13T16:54:31.569Z"
   },
   {
    "duration": 27,
    "start_time": "2022-10-13T16:54:31.589Z"
   },
   {
    "duration": 18,
    "start_time": "2022-10-13T16:54:31.617Z"
   },
   {
    "duration": 35,
    "start_time": "2022-10-13T16:54:31.636Z"
   },
   {
    "duration": 3,
    "start_time": "2022-10-13T16:54:31.673Z"
   },
   {
    "duration": 37,
    "start_time": "2022-10-13T16:54:31.677Z"
   },
   {
    "duration": 17,
    "start_time": "2022-10-13T16:54:31.716Z"
   },
   {
    "duration": 3,
    "start_time": "2022-10-13T16:54:31.735Z"
   },
   {
    "duration": 29,
    "start_time": "2022-10-13T16:54:31.740Z"
   },
   {
    "duration": 8,
    "start_time": "2022-10-13T16:54:31.771Z"
   },
   {
    "duration": 9,
    "start_time": "2022-10-13T16:54:31.781Z"
   },
   {
    "duration": 10,
    "start_time": "2022-10-13T16:54:31.792Z"
   },
   {
    "duration": 40,
    "start_time": "2022-10-13T16:54:31.804Z"
   },
   {
    "duration": 19,
    "start_time": "2022-10-13T16:54:31.845Z"
   },
   {
    "duration": 4,
    "start_time": "2022-10-13T16:54:31.865Z"
   },
   {
    "duration": 21,
    "start_time": "2022-10-13T16:54:31.870Z"
   },
   {
    "duration": 49,
    "start_time": "2022-10-13T16:54:31.893Z"
   },
   {
    "duration": 28,
    "start_time": "2022-10-13T16:54:31.944Z"
   },
   {
    "duration": 5,
    "start_time": "2022-10-13T16:54:31.974Z"
   },
   {
    "duration": 7,
    "start_time": "2022-10-13T16:54:31.982Z"
   },
   {
    "duration": 59,
    "start_time": "2022-10-13T16:54:31.991Z"
   },
   {
    "duration": 16,
    "start_time": "2022-10-13T16:54:32.052Z"
   },
   {
    "duration": 6,
    "start_time": "2022-10-13T16:54:32.070Z"
   },
   {
    "duration": 6,
    "start_time": "2022-10-13T16:54:32.077Z"
   },
   {
    "duration": 9,
    "start_time": "2022-10-13T16:54:32.085Z"
   },
   {
    "duration": 12,
    "start_time": "2022-10-13T16:54:32.096Z"
   },
   {
    "duration": 9,
    "start_time": "2022-10-13T16:54:32.109Z"
   },
   {
    "duration": 37,
    "start_time": "2022-10-13T16:54:32.134Z"
   },
   {
    "duration": 65,
    "start_time": "2022-10-13T16:54:32.173Z"
   },
   {
    "duration": 23,
    "start_time": "2022-10-13T16:54:32.240Z"
   },
   {
    "duration": 29,
    "start_time": "2022-10-13T16:54:32.265Z"
   },
   {
    "duration": 39,
    "start_time": "2022-10-13T16:54:32.296Z"
   },
   {
    "duration": 3,
    "start_time": "2022-10-13T16:54:32.337Z"
   },
   {
    "duration": 40,
    "start_time": "2022-10-13T16:54:32.342Z"
   },
   {
    "duration": 15,
    "start_time": "2022-10-13T16:54:32.383Z"
   },
   {
    "duration": 37,
    "start_time": "2022-10-13T16:54:32.400Z"
   },
   {
    "duration": 7,
    "start_time": "2022-10-13T16:54:32.438Z"
   },
   {
    "duration": 20,
    "start_time": "2022-10-13T16:54:32.447Z"
   },
   {
    "duration": 11,
    "start_time": "2022-10-13T16:54:32.469Z"
   },
   {
    "duration": 11,
    "start_time": "2022-10-13T16:54:32.481Z"
   },
   {
    "duration": 48,
    "start_time": "2022-10-13T16:54:32.493Z"
   },
   {
    "duration": 18,
    "start_time": "2022-10-13T16:54:32.543Z"
   },
   {
    "duration": 11,
    "start_time": "2022-10-13T16:54:32.563Z"
   },
   {
    "duration": 1643,
    "start_time": "2022-10-13T16:54:32.576Z"
   },
   {
    "duration": 15,
    "start_time": "2022-10-13T16:54:34.221Z"
   },
   {
    "duration": 4226,
    "start_time": "2022-10-13T16:54:34.238Z"
   },
   {
    "duration": 11,
    "start_time": "2022-10-13T16:54:38.465Z"
   },
   {
    "duration": 160,
    "start_time": "2022-10-13T16:54:38.478Z"
   },
   {
    "duration": 273,
    "start_time": "2022-10-13T16:54:38.640Z"
   },
   {
    "duration": 18,
    "start_time": "2022-10-13T16:54:38.915Z"
   },
   {
    "duration": 264,
    "start_time": "2022-10-13T16:54:38.934Z"
   },
   {
    "duration": 263,
    "start_time": "2022-10-13T16:54:39.200Z"
   },
   {
    "duration": 5,
    "start_time": "2022-10-13T16:54:39.465Z"
   },
   {
    "duration": 172,
    "start_time": "2022-10-13T16:54:39.472Z"
   },
   {
    "duration": 9,
    "start_time": "2022-10-13T16:54:39.646Z"
   },
   {
    "duration": 206,
    "start_time": "2022-10-13T16:54:39.656Z"
   },
   {
    "duration": 12,
    "start_time": "2022-10-13T16:54:39.864Z"
   },
   {
    "duration": 4,
    "start_time": "2022-10-13T16:54:39.878Z"
   },
   {
    "duration": 114,
    "start_time": "2022-10-13T16:54:39.884Z"
   },
   {
    "duration": 18,
    "start_time": "2022-10-13T16:54:39.999Z"
   },
   {
    "duration": 27,
    "start_time": "2022-10-13T16:54:40.019Z"
   },
   {
    "duration": 10,
    "start_time": "2022-10-13T16:54:40.048Z"
   },
   {
    "duration": 15,
    "start_time": "2022-10-13T16:54:40.059Z"
   },
   {
    "duration": 15,
    "start_time": "2022-10-13T16:54:40.076Z"
   },
   {
    "duration": 124,
    "start_time": "2022-10-13T16:54:40.092Z"
   },
   {
    "duration": 839,
    "start_time": "2022-10-13T16:54:40.218Z"
   },
   {
    "duration": 50,
    "start_time": "2022-10-13T16:54:41.059Z"
   },
   {
    "duration": 52,
    "start_time": "2022-10-13T16:54:41.111Z"
   },
   {
    "duration": 14,
    "start_time": "2022-10-13T16:54:41.165Z"
   },
   {
    "duration": 14,
    "start_time": "2022-10-13T16:54:41.181Z"
   },
   {
    "duration": 13,
    "start_time": "2022-10-13T16:54:41.197Z"
   },
   {
    "duration": 21,
    "start_time": "2022-10-13T16:54:41.212Z"
   },
   {
    "duration": 27,
    "start_time": "2022-10-13T16:54:41.236Z"
   },
   {
    "duration": 113,
    "start_time": "2022-10-13T16:54:41.270Z"
   },
   {
    "duration": 11,
    "start_time": "2022-10-13T16:54:41.385Z"
   },
   {
    "duration": 17,
    "start_time": "2022-10-13T16:54:41.398Z"
   },
   {
    "duration": 30,
    "start_time": "2022-10-13T16:54:41.417Z"
   },
   {
    "duration": 11,
    "start_time": "2022-10-13T16:54:41.449Z"
   },
   {
    "duration": 15,
    "start_time": "2022-10-13T16:54:41.462Z"
   },
   {
    "duration": 9,
    "start_time": "2022-10-13T16:54:41.479Z"
   },
   {
    "duration": 22,
    "start_time": "2022-10-13T16:54:41.489Z"
   },
   {
    "duration": 2,
    "start_time": "2022-10-13T16:54:41.534Z"
   },
   {
    "duration": 150,
    "start_time": "2022-10-13T16:54:41.538Z"
   },
   {
    "duration": 16,
    "start_time": "2022-10-13T16:54:41.690Z"
   },
   {
    "duration": 32,
    "start_time": "2022-10-13T16:54:41.707Z"
   },
   {
    "duration": 3,
    "start_time": "2022-10-13T16:54:41.741Z"
   },
   {
    "duration": 8,
    "start_time": "2022-10-13T16:54:41.745Z"
   },
   {
    "duration": 6,
    "start_time": "2022-10-13T16:54:41.754Z"
   },
   {
    "duration": 5,
    "start_time": "2022-10-13T16:54:41.762Z"
   },
   {
    "duration": 5,
    "start_time": "2022-10-13T16:54:41.769Z"
   },
   {
    "duration": 11,
    "start_time": "2022-10-13T16:54:41.775Z"
   },
   {
    "duration": 559,
    "start_time": "2022-10-13T16:54:41.787Z"
   },
   {
    "duration": 15,
    "start_time": "2022-10-13T16:54:42.348Z"
   },
   {
    "duration": 6,
    "start_time": "2022-10-13T16:54:42.365Z"
   },
   {
    "duration": 405363,
    "start_time": "2022-10-13T16:54:42.373Z"
   },
   {
    "duration": 4992,
    "start_time": "2022-10-13T17:01:27.743Z"
   },
   {
    "duration": 98233,
    "start_time": "2022-10-13T17:01:32.736Z"
   },
   {
    "duration": 7155,
    "start_time": "2022-10-13T17:03:10.970Z"
   },
   {
    "duration": 172142,
    "start_time": "2022-10-13T17:03:18.127Z"
   },
   {
    "duration": 5,
    "start_time": "2022-10-13T17:06:10.271Z"
   },
   {
    "duration": 2874,
    "start_time": "2022-10-13T17:06:10.277Z"
   },
   {
    "duration": 253,
    "start_time": "2022-10-13T17:06:13.153Z"
   },
   {
    "duration": 3,
    "start_time": "2022-10-13T17:06:13.408Z"
   },
   {
    "duration": 625,
    "start_time": "2022-10-13T17:06:13.413Z"
   },
   {
    "duration": 15,
    "start_time": "2022-10-13T17:06:14.040Z"
   },
   {
    "duration": 25,
    "start_time": "2022-10-13T17:06:14.057Z"
   },
   {
    "duration": 3,
    "start_time": "2022-10-13T17:06:14.084Z"
   },
   {
    "duration": 7,
    "start_time": "2022-10-13T17:06:14.089Z"
   },
   {
    "duration": 12,
    "start_time": "2022-10-13T17:06:14.098Z"
   },
   {
    "duration": 6,
    "start_time": "2022-10-13T17:06:14.112Z"
   },
   {
    "duration": 335,
    "start_time": "2022-10-13T17:06:14.133Z"
   },
   {
    "duration": 3,
    "start_time": "2022-10-13T17:06:14.469Z"
   },
   {
    "duration": 10,
    "start_time": "2022-10-13T17:06:14.474Z"
   },
   {
    "duration": 7,
    "start_time": "2022-10-13T17:06:14.485Z"
   }
  ],
  "kernelspec": {
   "display_name": "Python 3 (ipykernel)",
   "language": "python",
   "name": "python3"
  },
  "language_info": {
   "codemirror_mode": {
    "name": "ipython",
    "version": 3
   },
   "file_extension": ".py",
   "mimetype": "text/x-python",
   "name": "python",
   "nbconvert_exporter": "python",
   "pygments_lexer": "ipython3",
   "version": "3.10.11"
  },
  "toc": {
   "base_numbering": 1,
   "nav_menu": {},
   "number_sections": true,
   "sideBar": true,
   "skip_h1_title": true,
   "title_cell": "Table of Contents",
   "title_sidebar": "Contents",
   "toc_cell": false,
   "toc_position": {
    "height": "calc(100% - 180px)",
    "left": "10px",
    "top": "150px",
    "width": "194.188px"
   },
   "toc_section_display": true,
   "toc_window_display": true
  }
 },
 "nbformat": 4,
 "nbformat_minor": 2
}
