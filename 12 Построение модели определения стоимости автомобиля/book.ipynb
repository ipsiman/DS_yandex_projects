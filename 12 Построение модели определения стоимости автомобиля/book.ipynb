{
 "cells": [
  {
   "cell_type": "markdown",
   "metadata": {},
   "source": [
    "# Определение стоимости автомобилей"
   ]
  },
  {
   "cell_type": "markdown",
   "metadata": {},
   "source": [
    "## Описание проекта\n",
    "\n",
    "Сервис по продаже автомобилей с пробегом «Не бит, не крашен» разрабатывает приложение, чтобы привлечь новых клиентов. В нём можно будет узнать рыночную стоимость своего автомобиля.\n",
    "Построим модель, которая умеет её определять. В нашем распоряжении данные о технических характеристиках, комплектации и ценах других автомобилей.\n",
    "\n",
    "Критерии, которые важны заказчику:\n",
    "- качество предсказания;\n",
    "- время обучения модели;\n",
    "- время предсказания модели."
   ]
  },
  {
   "cell_type": "markdown",
   "metadata": {},
   "source": [
    "## Описание данных\n",
    "\n",
    "**Признаки**\n",
    "\n",
    "`DateCrawled` — дата скачивания анкеты из базы<br>\n",
    "`VehicleType` — тип автомобильного кузова<br>\n",
    "`RegistrationYear` — год регистрации автомобиля<br>\n",
    "`Gearbox` — тип коробки передач<br>\n",
    "`Power` — мощность (л. с.)<br>\n",
    "`Model` — модель автомобиля<br>\n",
    "`Kilometer` — пробег (км)<br>\n",
    "`RegistrationMonth` — месяц регистрации автомобиля<br>\n",
    "`FuelType` — тип топлива<br>\n",
    "`Brand` — марка автомобиля<br>\n",
    "`Repaired` — была машина в ремонте или нет<br>\n",
    "`DateCreated` — дата создания анкеты<br>\n",
    "`NumberOfPictures` — количество фотографий автомобиля<br>\n",
    "`PostalCode` — почтовый индекс владельца анкеты (пользователя)<br>\n",
    "`LastSeen` — дата последней активности пользователя<br>\n",
    "\n",
    "**Целевой признак**\n",
    "\n",
    "`Price` — цена (евро)"
   ]
  },
  {
   "cell_type": "markdown",
   "metadata": {},
   "source": [
    "## Основные шаги:\n",
    "- Загрузим данные.\n",
    "- Изучим данные. Заполним пропущенные значения и обработаем аномалии в столбцах. Если среди признаков имеются неинформативные, удалим их.\n",
    "- Подготовим выборки для обучения моделей.\n",
    "- Обучим разные модели, одна из которых — LightGBM, как минимум одна — не бустинг. Для каждой модели попробуем разные гиперпараметры.\n",
    "- Проанализируем время обучения, время предсказания и качество моделей.\n",
    "- Опираясь на критерии заказчика, выберем лучшую модель, проверим её качество на тестовой выборке."
   ]
  },
  {
   "cell_type": "markdown",
   "metadata": {},
   "source": [
    "## Подготовка данных"
   ]
  },
  {
   "cell_type": "code",
   "execution_count": 1,
   "metadata": {},
   "outputs": [],
   "source": [
    "import pandas as pd\n",
    "import matplotlib.pyplot as plt\n",
    "import seaborn as sns\n",
    "import numpy as np\n",
    "import time\n",
    "\n",
    "from sklearn.linear_model import LinearRegression\n",
    "from lightgbm import LGBMRegressor\n",
    "from catboost import CatBoostRegressor\n",
    "\n",
    "from sklearn.model_selection import train_test_split, GridSearchCV, cross_val_score, cross_val_predict\n",
    "from sklearn.preprocessing import StandardScaler, OrdinalEncoder, OneHotEncoder, LabelEncoder\n",
    "from sklearn.metrics import mean_squared_error as mse\n",
    "from sklearn.utils import shuffle\n",
    "from collections import defaultdict"
   ]
  },
  {
   "cell_type": "markdown",
   "metadata": {},
   "source": [
    "Откроем файл и изучим данные."
   ]
  },
  {
   "cell_type": "code",
   "execution_count": 2,
   "metadata": {},
   "outputs": [],
   "source": [
    "df = pd.read_csv('autos.csv')"
   ]
  },
  {
   "cell_type": "code",
   "execution_count": 3,
   "metadata": {
    "scrolled": true
   },
   "outputs": [
    {
     "data": {
      "text/html": [
       "<div>\n",
       "<style scoped>\n",
       "    .dataframe tbody tr th:only-of-type {\n",
       "        vertical-align: middle;\n",
       "    }\n",
       "\n",
       "    .dataframe tbody tr th {\n",
       "        vertical-align: top;\n",
       "    }\n",
       "\n",
       "    .dataframe thead th {\n",
       "        text-align: right;\n",
       "    }\n",
       "</style>\n",
       "<table border=\"1\" class=\"dataframe\">\n",
       "  <thead>\n",
       "    <tr style=\"text-align: right;\">\n",
       "      <th></th>\n",
       "      <th>DateCrawled</th>\n",
       "      <th>Price</th>\n",
       "      <th>VehicleType</th>\n",
       "      <th>RegistrationYear</th>\n",
       "      <th>Gearbox</th>\n",
       "      <th>Power</th>\n",
       "      <th>Model</th>\n",
       "      <th>Kilometer</th>\n",
       "      <th>RegistrationMonth</th>\n",
       "      <th>FuelType</th>\n",
       "      <th>Brand</th>\n",
       "      <th>Repaired</th>\n",
       "      <th>DateCreated</th>\n",
       "      <th>NumberOfPictures</th>\n",
       "      <th>PostalCode</th>\n",
       "      <th>LastSeen</th>\n",
       "    </tr>\n",
       "  </thead>\n",
       "  <tbody>\n",
       "    <tr>\n",
       "      <th>213658</th>\n",
       "      <td>2016-03-05 22:41:27</td>\n",
       "      <td>250</td>\n",
       "      <td>small</td>\n",
       "      <td>1997</td>\n",
       "      <td>manual</td>\n",
       "      <td>0</td>\n",
       "      <td>1_reihe</td>\n",
       "      <td>90000</td>\n",
       "      <td>3</td>\n",
       "      <td>petrol</td>\n",
       "      <td>peugeot</td>\n",
       "      <td>no</td>\n",
       "      <td>2016-03-05 00:00:00</td>\n",
       "      <td>0</td>\n",
       "      <td>15234</td>\n",
       "      <td>2016-03-07 05:44:15</td>\n",
       "    </tr>\n",
       "    <tr>\n",
       "      <th>44907</th>\n",
       "      <td>2016-03-10 19:39:32</td>\n",
       "      <td>0</td>\n",
       "      <td>small</td>\n",
       "      <td>2007</td>\n",
       "      <td>manual</td>\n",
       "      <td>67</td>\n",
       "      <td>getz</td>\n",
       "      <td>125000</td>\n",
       "      <td>3</td>\n",
       "      <td>petrol</td>\n",
       "      <td>hyundai</td>\n",
       "      <td>no</td>\n",
       "      <td>2016-03-10 00:00:00</td>\n",
       "      <td>0</td>\n",
       "      <td>18055</td>\n",
       "      <td>2016-04-06 02:17:30</td>\n",
       "    </tr>\n",
       "    <tr>\n",
       "      <th>140585</th>\n",
       "      <td>2016-03-14 19:45:25</td>\n",
       "      <td>1250</td>\n",
       "      <td>NaN</td>\n",
       "      <td>2000</td>\n",
       "      <td>manual</td>\n",
       "      <td>170</td>\n",
       "      <td>3er</td>\n",
       "      <td>150000</td>\n",
       "      <td>0</td>\n",
       "      <td>petrol</td>\n",
       "      <td>bmw</td>\n",
       "      <td>NaN</td>\n",
       "      <td>2016-03-14 00:00:00</td>\n",
       "      <td>0</td>\n",
       "      <td>24114</td>\n",
       "      <td>2016-03-17 09:17:14</td>\n",
       "    </tr>\n",
       "  </tbody>\n",
       "</table>\n",
       "</div>"
      ],
      "text/plain": [
       "                DateCrawled  Price VehicleType  RegistrationYear Gearbox  \\\n",
       "213658  2016-03-05 22:41:27    250       small              1997  manual   \n",
       "44907   2016-03-10 19:39:32      0       small              2007  manual   \n",
       "140585  2016-03-14 19:45:25   1250         NaN              2000  manual   \n",
       "\n",
       "        Power    Model  Kilometer  RegistrationMonth FuelType    Brand  \\\n",
       "213658      0  1_reihe      90000                  3   petrol  peugeot   \n",
       "44907      67     getz     125000                  3   petrol  hyundai   \n",
       "140585    170      3er     150000                  0   petrol      bmw   \n",
       "\n",
       "       Repaired          DateCreated  NumberOfPictures  PostalCode  \\\n",
       "213658       no  2016-03-05 00:00:00                 0       15234   \n",
       "44907        no  2016-03-10 00:00:00                 0       18055   \n",
       "140585      NaN  2016-03-14 00:00:00                 0       24114   \n",
       "\n",
       "                   LastSeen  \n",
       "213658  2016-03-07 05:44:15  \n",
       "44907   2016-04-06 02:17:30  \n",
       "140585  2016-03-17 09:17:14  "
      ]
     },
     "execution_count": 3,
     "metadata": {},
     "output_type": "execute_result"
    }
   ],
   "source": [
    "df.sample(3)"
   ]
  },
  {
   "cell_type": "code",
   "execution_count": 4,
   "metadata": {},
   "outputs": [
    {
     "name": "stdout",
     "output_type": "stream",
     "text": [
      "<class 'pandas.core.frame.DataFrame'>\n",
      "RangeIndex: 354369 entries, 0 to 354368\n",
      "Data columns (total 16 columns):\n",
      " #   Column             Non-Null Count   Dtype \n",
      "---  ------             --------------   ----- \n",
      " 0   DateCrawled        354369 non-null  object\n",
      " 1   Price              354369 non-null  int64 \n",
      " 2   VehicleType        316879 non-null  object\n",
      " 3   RegistrationYear   354369 non-null  int64 \n",
      " 4   Gearbox            334536 non-null  object\n",
      " 5   Power              354369 non-null  int64 \n",
      " 6   Model              334664 non-null  object\n",
      " 7   Kilometer          354369 non-null  int64 \n",
      " 8   RegistrationMonth  354369 non-null  int64 \n",
      " 9   FuelType           321474 non-null  object\n",
      " 10  Brand              354369 non-null  object\n",
      " 11  Repaired           283215 non-null  object\n",
      " 12  DateCreated        354369 non-null  object\n",
      " 13  NumberOfPictures   354369 non-null  int64 \n",
      " 14  PostalCode         354369 non-null  int64 \n",
      " 15  LastSeen           354369 non-null  object\n",
      "dtypes: int64(7), object(9)\n",
      "memory usage: 43.3+ MB\n"
     ]
    }
   ],
   "source": [
    "df.info()"
   ]
  },
  {
   "cell_type": "code",
   "execution_count": 5,
   "metadata": {},
   "outputs": [
    {
     "data": {
      "text/html": [
       "<div>\n",
       "<style scoped>\n",
       "    .dataframe tbody tr th:only-of-type {\n",
       "        vertical-align: middle;\n",
       "    }\n",
       "\n",
       "    .dataframe tbody tr th {\n",
       "        vertical-align: top;\n",
       "    }\n",
       "\n",
       "    .dataframe thead th {\n",
       "        text-align: right;\n",
       "    }\n",
       "</style>\n",
       "<table border=\"1\" class=\"dataframe\">\n",
       "  <thead>\n",
       "    <tr style=\"text-align: right;\">\n",
       "      <th></th>\n",
       "      <th>Price</th>\n",
       "      <th>RegistrationYear</th>\n",
       "      <th>Power</th>\n",
       "      <th>Kilometer</th>\n",
       "      <th>RegistrationMonth</th>\n",
       "      <th>NumberOfPictures</th>\n",
       "      <th>PostalCode</th>\n",
       "    </tr>\n",
       "  </thead>\n",
       "  <tbody>\n",
       "    <tr>\n",
       "      <th>count</th>\n",
       "      <td>354369.000000</td>\n",
       "      <td>354369.000000</td>\n",
       "      <td>354369.000000</td>\n",
       "      <td>354369.000000</td>\n",
       "      <td>354369.000000</td>\n",
       "      <td>354369.0</td>\n",
       "      <td>354369.000000</td>\n",
       "    </tr>\n",
       "    <tr>\n",
       "      <th>mean</th>\n",
       "      <td>4416.656776</td>\n",
       "      <td>2004.234448</td>\n",
       "      <td>110.094337</td>\n",
       "      <td>128211.172535</td>\n",
       "      <td>5.714645</td>\n",
       "      <td>0.0</td>\n",
       "      <td>50508.689087</td>\n",
       "    </tr>\n",
       "    <tr>\n",
       "      <th>std</th>\n",
       "      <td>4514.158514</td>\n",
       "      <td>90.227958</td>\n",
       "      <td>189.850405</td>\n",
       "      <td>37905.341530</td>\n",
       "      <td>3.726421</td>\n",
       "      <td>0.0</td>\n",
       "      <td>25783.096248</td>\n",
       "    </tr>\n",
       "    <tr>\n",
       "      <th>min</th>\n",
       "      <td>0.000000</td>\n",
       "      <td>1000.000000</td>\n",
       "      <td>0.000000</td>\n",
       "      <td>5000.000000</td>\n",
       "      <td>0.000000</td>\n",
       "      <td>0.0</td>\n",
       "      <td>1067.000000</td>\n",
       "    </tr>\n",
       "    <tr>\n",
       "      <th>25%</th>\n",
       "      <td>1050.000000</td>\n",
       "      <td>1999.000000</td>\n",
       "      <td>69.000000</td>\n",
       "      <td>125000.000000</td>\n",
       "      <td>3.000000</td>\n",
       "      <td>0.0</td>\n",
       "      <td>30165.000000</td>\n",
       "    </tr>\n",
       "    <tr>\n",
       "      <th>50%</th>\n",
       "      <td>2700.000000</td>\n",
       "      <td>2003.000000</td>\n",
       "      <td>105.000000</td>\n",
       "      <td>150000.000000</td>\n",
       "      <td>6.000000</td>\n",
       "      <td>0.0</td>\n",
       "      <td>49413.000000</td>\n",
       "    </tr>\n",
       "    <tr>\n",
       "      <th>75%</th>\n",
       "      <td>6400.000000</td>\n",
       "      <td>2008.000000</td>\n",
       "      <td>143.000000</td>\n",
       "      <td>150000.000000</td>\n",
       "      <td>9.000000</td>\n",
       "      <td>0.0</td>\n",
       "      <td>71083.000000</td>\n",
       "    </tr>\n",
       "    <tr>\n",
       "      <th>max</th>\n",
       "      <td>20000.000000</td>\n",
       "      <td>9999.000000</td>\n",
       "      <td>20000.000000</td>\n",
       "      <td>150000.000000</td>\n",
       "      <td>12.000000</td>\n",
       "      <td>0.0</td>\n",
       "      <td>99998.000000</td>\n",
       "    </tr>\n",
       "  </tbody>\n",
       "</table>\n",
       "</div>"
      ],
      "text/plain": [
       "               Price  RegistrationYear          Power      Kilometer  \\\n",
       "count  354369.000000     354369.000000  354369.000000  354369.000000   \n",
       "mean     4416.656776       2004.234448     110.094337  128211.172535   \n",
       "std      4514.158514         90.227958     189.850405   37905.341530   \n",
       "min         0.000000       1000.000000       0.000000    5000.000000   \n",
       "25%      1050.000000       1999.000000      69.000000  125000.000000   \n",
       "50%      2700.000000       2003.000000     105.000000  150000.000000   \n",
       "75%      6400.000000       2008.000000     143.000000  150000.000000   \n",
       "max     20000.000000       9999.000000   20000.000000  150000.000000   \n",
       "\n",
       "       RegistrationMonth  NumberOfPictures     PostalCode  \n",
       "count      354369.000000          354369.0  354369.000000  \n",
       "mean            5.714645               0.0   50508.689087  \n",
       "std             3.726421               0.0   25783.096248  \n",
       "min             0.000000               0.0    1067.000000  \n",
       "25%             3.000000               0.0   30165.000000  \n",
       "50%             6.000000               0.0   49413.000000  \n",
       "75%             9.000000               0.0   71083.000000  \n",
       "max            12.000000               0.0   99998.000000  "
      ]
     },
     "execution_count": 5,
     "metadata": {},
     "output_type": "execute_result"
    }
   ],
   "source": [
    "df.describe()"
   ]
  },
  {
   "cell_type": "markdown",
   "metadata": {},
   "source": [
    "Можно заметить аномальные мин/макс показатели в признаках Price, RegistrationYear, Power"
   ]
  },
  {
   "cell_type": "markdown",
   "metadata": {},
   "source": [
    "Сразу удалим признаки которые явно не влияют на предсказания цены."
   ]
  },
  {
   "cell_type": "code",
   "execution_count": 6,
   "metadata": {},
   "outputs": [],
   "source": [
    "df = df.drop(columns=['DateCrawled', 'DateCreated', 'NumberOfPictures', 'LastSeen'])"
   ]
  },
  {
   "cell_type": "code",
   "execution_count": 7,
   "metadata": {},
   "outputs": [
    {
     "data": {
      "text/html": [
       "<div>\n",
       "<style scoped>\n",
       "    .dataframe tbody tr th:only-of-type {\n",
       "        vertical-align: middle;\n",
       "    }\n",
       "\n",
       "    .dataframe tbody tr th {\n",
       "        vertical-align: top;\n",
       "    }\n",
       "\n",
       "    .dataframe thead th {\n",
       "        text-align: right;\n",
       "    }\n",
       "</style>\n",
       "<table border=\"1\" class=\"dataframe\">\n",
       "  <thead>\n",
       "    <tr style=\"text-align: right;\">\n",
       "      <th></th>\n",
       "      <th>Price</th>\n",
       "      <th>VehicleType</th>\n",
       "      <th>RegistrationYear</th>\n",
       "      <th>Gearbox</th>\n",
       "      <th>Power</th>\n",
       "      <th>Model</th>\n",
       "      <th>Kilometer</th>\n",
       "      <th>RegistrationMonth</th>\n",
       "      <th>FuelType</th>\n",
       "      <th>Brand</th>\n",
       "      <th>Repaired</th>\n",
       "      <th>PostalCode</th>\n",
       "    </tr>\n",
       "  </thead>\n",
       "  <tbody>\n",
       "    <tr>\n",
       "      <th>0</th>\n",
       "      <td>480</td>\n",
       "      <td>NaN</td>\n",
       "      <td>1993</td>\n",
       "      <td>manual</td>\n",
       "      <td>0</td>\n",
       "      <td>golf</td>\n",
       "      <td>150000</td>\n",
       "      <td>0</td>\n",
       "      <td>petrol</td>\n",
       "      <td>volkswagen</td>\n",
       "      <td>NaN</td>\n",
       "      <td>70435</td>\n",
       "    </tr>\n",
       "    <tr>\n",
       "      <th>1</th>\n",
       "      <td>18300</td>\n",
       "      <td>coupe</td>\n",
       "      <td>2011</td>\n",
       "      <td>manual</td>\n",
       "      <td>190</td>\n",
       "      <td>NaN</td>\n",
       "      <td>125000</td>\n",
       "      <td>5</td>\n",
       "      <td>gasoline</td>\n",
       "      <td>audi</td>\n",
       "      <td>yes</td>\n",
       "      <td>66954</td>\n",
       "    </tr>\n",
       "  </tbody>\n",
       "</table>\n",
       "</div>"
      ],
      "text/plain": [
       "   Price VehicleType  RegistrationYear Gearbox  Power Model  Kilometer  \\\n",
       "0    480         NaN              1993  manual      0  golf     150000   \n",
       "1  18300       coupe              2011  manual    190   NaN     125000   \n",
       "\n",
       "   RegistrationMonth  FuelType       Brand Repaired  PostalCode  \n",
       "0                  0    petrol  volkswagen      NaN       70435  \n",
       "1                  5  gasoline        audi      yes       66954  "
      ]
     },
     "execution_count": 7,
     "metadata": {},
     "output_type": "execute_result"
    }
   ],
   "source": [
    "df.head(2)"
   ]
  },
  {
   "cell_type": "code",
   "execution_count": 8,
   "metadata": {},
   "outputs": [],
   "source": [
    "cat_col = ['VehicleType', 'Gearbox', 'Model', 'FuelType', 'Brand', 'Repaired']"
   ]
  },
  {
   "cell_type": "markdown",
   "metadata": {},
   "source": [
    "Проверим данные на пропуски."
   ]
  },
  {
   "cell_type": "code",
   "execution_count": 9,
   "metadata": {},
   "outputs": [
    {
     "data": {
      "text/html": [
       "<div>\n",
       "<style scoped>\n",
       "    .dataframe tbody tr th:only-of-type {\n",
       "        vertical-align: middle;\n",
       "    }\n",
       "\n",
       "    .dataframe tbody tr th {\n",
       "        vertical-align: top;\n",
       "    }\n",
       "\n",
       "    .dataframe thead th {\n",
       "        text-align: right;\n",
       "    }\n",
       "</style>\n",
       "<table border=\"1\" class=\"dataframe\">\n",
       "  <thead>\n",
       "    <tr style=\"text-align: right;\">\n",
       "      <th></th>\n",
       "      <th>count</th>\n",
       "      <th>percent, %</th>\n",
       "    </tr>\n",
       "  </thead>\n",
       "  <tbody>\n",
       "    <tr>\n",
       "      <th>Repaired</th>\n",
       "      <td>71154</td>\n",
       "      <td>20.1</td>\n",
       "    </tr>\n",
       "    <tr>\n",
       "      <th>VehicleType</th>\n",
       "      <td>37490</td>\n",
       "      <td>10.6</td>\n",
       "    </tr>\n",
       "    <tr>\n",
       "      <th>FuelType</th>\n",
       "      <td>32895</td>\n",
       "      <td>9.3</td>\n",
       "    </tr>\n",
       "    <tr>\n",
       "      <th>Gearbox</th>\n",
       "      <td>19833</td>\n",
       "      <td>5.6</td>\n",
       "    </tr>\n",
       "    <tr>\n",
       "      <th>Model</th>\n",
       "      <td>19705</td>\n",
       "      <td>5.6</td>\n",
       "    </tr>\n",
       "    <tr>\n",
       "      <th>Price</th>\n",
       "      <td>0</td>\n",
       "      <td>0.0</td>\n",
       "    </tr>\n",
       "    <tr>\n",
       "      <th>RegistrationYear</th>\n",
       "      <td>0</td>\n",
       "      <td>0.0</td>\n",
       "    </tr>\n",
       "    <tr>\n",
       "      <th>Power</th>\n",
       "      <td>0</td>\n",
       "      <td>0.0</td>\n",
       "    </tr>\n",
       "    <tr>\n",
       "      <th>Kilometer</th>\n",
       "      <td>0</td>\n",
       "      <td>0.0</td>\n",
       "    </tr>\n",
       "    <tr>\n",
       "      <th>RegistrationMonth</th>\n",
       "      <td>0</td>\n",
       "      <td>0.0</td>\n",
       "    </tr>\n",
       "    <tr>\n",
       "      <th>Brand</th>\n",
       "      <td>0</td>\n",
       "      <td>0.0</td>\n",
       "    </tr>\n",
       "    <tr>\n",
       "      <th>PostalCode</th>\n",
       "      <td>0</td>\n",
       "      <td>0.0</td>\n",
       "    </tr>\n",
       "  </tbody>\n",
       "</table>\n",
       "</div>"
      ],
      "text/plain": [
       "                   count  percent, %\n",
       "Repaired           71154        20.1\n",
       "VehicleType        37490        10.6\n",
       "FuelType           32895         9.3\n",
       "Gearbox            19833         5.6\n",
       "Model              19705         5.6\n",
       "Price                  0         0.0\n",
       "RegistrationYear       0         0.0\n",
       "Power                  0         0.0\n",
       "Kilometer              0         0.0\n",
       "RegistrationMonth      0         0.0\n",
       "Brand                  0         0.0\n",
       "PostalCode             0         0.0"
      ]
     },
     "execution_count": 9,
     "metadata": {},
     "output_type": "execute_result"
    }
   ],
   "source": [
    "def show_na(df):\n",
    "    count = (df.isna() | df.isnull()).sum()\n",
    "    percent = round(count / df.shape[0], 3) * 100\n",
    "    res = pd.concat([count, percent], axis=1,  keys=['count', 'percent, %'])\\\n",
    "           .sort_values('count', ascending=False)\n",
    "    return res\n",
    "\n",
    "show_na(df)"
   ]
  },
  {
   "cell_type": "markdown",
   "metadata": {},
   "source": [
    "Проверим на уникальность и неявные дубликаты."
   ]
  },
  {
   "cell_type": "code",
   "execution_count": 10,
   "metadata": {
    "scrolled": true
   },
   "outputs": [
    {
     "name": "stdout",
     "output_type": "stream",
     "text": [
      "VehicleType \n",
      " [nan 'coupe' 'suv' 'small' 'sedan' 'convertible' 'bus' 'wagon' 'other']\n",
      "Gearbox \n",
      " ['manual' 'auto' nan]\n",
      "Model \n",
      " ['golf' nan 'grand' 'fabia' '3er' '2_reihe' 'other' 'c_max' '3_reihe'\n",
      " 'passat' 'navara' 'ka' 'polo' 'twingo' 'a_klasse' 'scirocco' '5er'\n",
      " 'meriva' 'arosa' 'c4' 'civic' 'transporter' 'punto' 'e_klasse' 'clio'\n",
      " 'kadett' 'kangoo' 'corsa' 'one' 'fortwo' '1er' 'b_klasse' 'signum'\n",
      " 'astra' 'a8' 'jetta' 'fiesta' 'c_klasse' 'micra' 'vito' 'sprinter' '156'\n",
      " 'escort' 'forester' 'xc_reihe' 'scenic' 'a4' 'a1' 'insignia' 'combo'\n",
      " 'focus' 'tt' 'a6' 'jazz' 'omega' 'slk' '7er' '80' '147' '100' 'z_reihe'\n",
      " 'sportage' 'sorento' 'v40' 'ibiza' 'mustang' 'eos' 'touran' 'getz' 'a3'\n",
      " 'almera' 'megane' 'lupo' 'r19' 'zafira' 'caddy' 'mondeo' 'cordoba' 'colt'\n",
      " 'impreza' 'vectra' 'berlingo' 'tiguan' 'i_reihe' 'espace' 'sharan'\n",
      " '6_reihe' 'panda' 'up' 'seicento' 'ceed' '5_reihe' 'yeti' 'octavia' 'mii'\n",
      " 'rx_reihe' '6er' 'modus' 'fox' 'matiz' 'beetle' 'c1' 'rio' 'touareg'\n",
      " 'logan' 'spider' 'cuore' 's_max' 'a2' 'galaxy' 'c3' 'viano' 's_klasse'\n",
      " '1_reihe' 'avensis' 'roomster' 'sl' 'kaefer' 'santa' 'cooper' 'leon'\n",
      " '4_reihe' 'a5' '500' 'laguna' 'ptcruiser' 'clk' 'primera' 'x_reihe'\n",
      " 'exeo' '159' 'transit' 'juke' 'qashqai' 'carisma' 'accord' 'corolla'\n",
      " 'lanos' 'phaeton' 'verso' 'swift' 'rav' 'picanto' 'boxster' 'kalos'\n",
      " 'superb' 'stilo' 'alhambra' 'mx_reihe' 'roadster' 'ypsilon' 'cayenne'\n",
      " 'galant' 'justy' '90' 'sirion' 'crossfire' 'agila' 'duster' 'cr_reihe'\n",
      " 'v50' 'c_reihe' 'v_klasse' 'm_klasse' 'yaris' 'c5' 'aygo' 'cc' 'carnival'\n",
      " 'fusion' '911' 'bora' 'forfour' 'm_reihe' 'cl' 'tigra' '300c' 'spark'\n",
      " 'v70' 'kuga' 'x_type' 'ducato' 's_type' 'x_trail' 'toledo' 'altea'\n",
      " 'voyager' 'calibra' 'bravo' 'antara' 'tucson' 'citigo' 'jimny' 'wrangler'\n",
      " 'lybra' 'q7' 'lancer' 'captiva' 'c2' 'discovery' 'freelander' 'sandero'\n",
      " 'note' '900' 'cherokee' 'clubman' 'samara' 'defender' '601' 'cx_reihe'\n",
      " 'legacy' 'pajero' 'auris' 'niva' 's60' 'nubira' 'vivaro' 'g_klasse'\n",
      " 'lodgy' '850' 'range_rover' 'q3' 'serie_2' 'glk' 'charade' 'croma'\n",
      " 'outlander' 'doblo' 'musa' 'move' '9000' 'v60' '145' 'aveo' '200' 'b_max'\n",
      " 'range_rover_sport' 'terios' 'rangerover' 'q5' 'range_rover_evoque'\n",
      " 'materia' 'delta' 'gl' 'kalina' 'amarok' 'elefantino' 'i3' 'kappa'\n",
      " 'serie_3' 'serie_1']\n",
      "FuelType \n",
      " ['petrol' 'gasoline' nan 'lpg' 'other' 'hybrid' 'cng' 'electric']\n",
      "Brand \n",
      " ['volkswagen' 'audi' 'jeep' 'skoda' 'bmw' 'peugeot' 'ford' 'mazda'\n",
      " 'nissan' 'renault' 'mercedes_benz' 'opel' 'seat' 'citroen' 'honda' 'fiat'\n",
      " 'mini' 'smart' 'hyundai' 'sonstige_autos' 'alfa_romeo' 'subaru' 'volvo'\n",
      " 'mitsubishi' 'kia' 'suzuki' 'lancia' 'toyota' 'chevrolet' 'dacia'\n",
      " 'daihatsu' 'trabant' 'saab' 'chrysler' 'jaguar' 'daewoo' 'porsche'\n",
      " 'rover' 'land_rover' 'lada']\n",
      "Repaired \n",
      " [nan 'yes' 'no']\n"
     ]
    }
   ],
   "source": [
    "for col in cat_col:\n",
    "    print(col, '\\n', df[col].unique())"
   ]
  },
  {
   "cell_type": "markdown",
   "metadata": {},
   "source": [
    "Пропуски в категории Repaired можно заменить на no, вероятно если машина не была в ремонте, то владелец и не указывал ничего. Остальные пропуски в категориальных признаках можно заменить на \"uncknow\"."
   ]
  },
  {
   "cell_type": "code",
   "execution_count": 11,
   "metadata": {},
   "outputs": [],
   "source": [
    "df['Repaired'] = df['Repaired'].fillna('no')\n",
    "df[cat_col] = df[cat_col].fillna('unknown')"
   ]
  },
  {
   "cell_type": "code",
   "execution_count": 12,
   "metadata": {},
   "outputs": [
    {
     "data": {
      "text/plain": [
       "Price                0\n",
       "VehicleType          0\n",
       "RegistrationYear     0\n",
       "Gearbox              0\n",
       "Power                0\n",
       "Model                0\n",
       "Kilometer            0\n",
       "RegistrationMonth    0\n",
       "FuelType             0\n",
       "Brand                0\n",
       "Repaired             0\n",
       "PostalCode           0\n",
       "dtype: int64"
      ]
     },
     "execution_count": 12,
     "metadata": {},
     "output_type": "execute_result"
    }
   ],
   "source": [
    "df.isna().sum()"
   ]
  },
  {
   "cell_type": "markdown",
   "metadata": {},
   "source": [
    "После замены пропусков проверим на дубликаты и удалим их, если есть."
   ]
  },
  {
   "cell_type": "code",
   "execution_count": 13,
   "metadata": {},
   "outputs": [
    {
     "data": {
      "text/plain": [
       "23697"
      ]
     },
     "execution_count": 13,
     "metadata": {},
     "output_type": "execute_result"
    }
   ],
   "source": [
    "df.duplicated().sum()"
   ]
  },
  {
   "cell_type": "code",
   "execution_count": 14,
   "metadata": {},
   "outputs": [],
   "source": [
    "df = df.drop_duplicates()"
   ]
  },
  {
   "cell_type": "code",
   "execution_count": 15,
   "metadata": {},
   "outputs": [
    {
     "data": {
      "text/plain": [
       "0"
      ]
     },
     "execution_count": 15,
     "metadata": {},
     "output_type": "execute_result"
    }
   ],
   "source": [
    "df.duplicated().sum()"
   ]
  },
  {
   "cell_type": "code",
   "execution_count": 16,
   "metadata": {},
   "outputs": [
    {
     "data": {
      "text/html": [
       "<div>\n",
       "<style scoped>\n",
       "    .dataframe tbody tr th:only-of-type {\n",
       "        vertical-align: middle;\n",
       "    }\n",
       "\n",
       "    .dataframe tbody tr th {\n",
       "        vertical-align: top;\n",
       "    }\n",
       "\n",
       "    .dataframe thead th {\n",
       "        text-align: right;\n",
       "    }\n",
       "</style>\n",
       "<table border=\"1\" class=\"dataframe\">\n",
       "  <thead>\n",
       "    <tr style=\"text-align: right;\">\n",
       "      <th></th>\n",
       "      <th>Price</th>\n",
       "      <th>VehicleType</th>\n",
       "      <th>RegistrationYear</th>\n",
       "      <th>Gearbox</th>\n",
       "      <th>Power</th>\n",
       "      <th>Model</th>\n",
       "      <th>Kilometer</th>\n",
       "      <th>RegistrationMonth</th>\n",
       "      <th>FuelType</th>\n",
       "      <th>Brand</th>\n",
       "      <th>Repaired</th>\n",
       "      <th>PostalCode</th>\n",
       "    </tr>\n",
       "  </thead>\n",
       "  <tbody>\n",
       "    <tr>\n",
       "      <th>0</th>\n",
       "      <td>480</td>\n",
       "      <td>unknown</td>\n",
       "      <td>1993</td>\n",
       "      <td>manual</td>\n",
       "      <td>0</td>\n",
       "      <td>golf</td>\n",
       "      <td>150000</td>\n",
       "      <td>0</td>\n",
       "      <td>petrol</td>\n",
       "      <td>volkswagen</td>\n",
       "      <td>no</td>\n",
       "      <td>70435</td>\n",
       "    </tr>\n",
       "    <tr>\n",
       "      <th>1</th>\n",
       "      <td>18300</td>\n",
       "      <td>coupe</td>\n",
       "      <td>2011</td>\n",
       "      <td>manual</td>\n",
       "      <td>190</td>\n",
       "      <td>unknown</td>\n",
       "      <td>125000</td>\n",
       "      <td>5</td>\n",
       "      <td>gasoline</td>\n",
       "      <td>audi</td>\n",
       "      <td>yes</td>\n",
       "      <td>66954</td>\n",
       "    </tr>\n",
       "    <tr>\n",
       "      <th>2</th>\n",
       "      <td>9800</td>\n",
       "      <td>suv</td>\n",
       "      <td>2004</td>\n",
       "      <td>auto</td>\n",
       "      <td>163</td>\n",
       "      <td>grand</td>\n",
       "      <td>125000</td>\n",
       "      <td>8</td>\n",
       "      <td>gasoline</td>\n",
       "      <td>jeep</td>\n",
       "      <td>no</td>\n",
       "      <td>90480</td>\n",
       "    </tr>\n",
       "    <tr>\n",
       "      <th>3</th>\n",
       "      <td>1500</td>\n",
       "      <td>small</td>\n",
       "      <td>2001</td>\n",
       "      <td>manual</td>\n",
       "      <td>75</td>\n",
       "      <td>golf</td>\n",
       "      <td>150000</td>\n",
       "      <td>6</td>\n",
       "      <td>petrol</td>\n",
       "      <td>volkswagen</td>\n",
       "      <td>no</td>\n",
       "      <td>91074</td>\n",
       "    </tr>\n",
       "    <tr>\n",
       "      <th>4</th>\n",
       "      <td>3600</td>\n",
       "      <td>small</td>\n",
       "      <td>2008</td>\n",
       "      <td>manual</td>\n",
       "      <td>69</td>\n",
       "      <td>fabia</td>\n",
       "      <td>90000</td>\n",
       "      <td>7</td>\n",
       "      <td>gasoline</td>\n",
       "      <td>skoda</td>\n",
       "      <td>no</td>\n",
       "      <td>60437</td>\n",
       "    </tr>\n",
       "  </tbody>\n",
       "</table>\n",
       "</div>"
      ],
      "text/plain": [
       "   Price VehicleType  RegistrationYear Gearbox  Power    Model  Kilometer  \\\n",
       "0    480     unknown              1993  manual      0     golf     150000   \n",
       "1  18300       coupe              2011  manual    190  unknown     125000   \n",
       "2   9800         suv              2004    auto    163    grand     125000   \n",
       "3   1500       small              2001  manual     75     golf     150000   \n",
       "4   3600       small              2008  manual     69    fabia      90000   \n",
       "\n",
       "   RegistrationMonth  FuelType       Brand Repaired  PostalCode  \n",
       "0                  0    petrol  volkswagen       no       70435  \n",
       "1                  5  gasoline        audi      yes       66954  \n",
       "2                  8  gasoline        jeep       no       90480  \n",
       "3                  6    petrol  volkswagen       no       91074  \n",
       "4                  7  gasoline       skoda       no       60437  "
      ]
     },
     "execution_count": 16,
     "metadata": {},
     "output_type": "execute_result"
    }
   ],
   "source": [
    "df.head(5)"
   ]
  },
  {
   "cell_type": "markdown",
   "metadata": {},
   "source": [
    "Проверим распределения данных."
   ]
  },
  {
   "cell_type": "code",
   "execution_count": 17,
   "metadata": {},
   "outputs": [
    {
     "data": {
      "image/png": "[encoded data removed]",
      "text/plain": [
       "<Figure size 640x480 with 1 Axes>"
      ]
     },
     "metadata": {},
     "output_type": "display_data"
    }
   ],
   "source": [
    "_ = df['Price'].hist(bins=20)"
   ]
  },
  {
   "cell_type": "code",
   "execution_count": 18,
   "metadata": {},
   "outputs": [
    {
     "data": {
      "image/png": "[encoded data removed]",
      "text/plain": [
       "<Figure size 640x480 with 1 Axes>"
      ]
     },
     "metadata": {},
     "output_type": "display_data"
    }
   ],
   "source": [
    "_ = df[df['Price'] < 100]['Price'].plot.box()"
   ]
  },
  {
   "cell_type": "code",
   "execution_count": 19,
   "metadata": {},
   "outputs": [
    {
     "data": {
      "image/png": "[encoded data removed]",
      "text/plain": [
       "<Figure size 640x480 with 1 Axes>"
      ]
     },
     "metadata": {},
     "output_type": "display_data"
    }
   ],
   "source": [
    "_ = df[df['Price'] < 10]['Price'].hist(bins=10)"
   ]
  },
  {
   "cell_type": "markdown",
   "metadata": {},
   "source": [
    "В данных присутствуют цены с минимальными значениями. Особенно 0 и 1, возможно это ошибка или машины на металлолом за самовывоз. Эти данные никак не помогут нам в предсказании цены, избавимся от них."
   ]
  },
  {
   "cell_type": "code",
   "execution_count": 20,
   "metadata": {},
   "outputs": [],
   "source": [
    "df = df[df['Price'] > 1]"
   ]
  },
  {
   "cell_type": "code",
   "execution_count": 21,
   "metadata": {},
   "outputs": [
    {
     "data": {
      "image/png": "[encoded data removed]",
      "text/plain": [
       "<Figure size 640x480 with 1 Axes>"
      ]
     },
     "metadata": {},
     "output_type": "display_data"
    }
   ],
   "source": [
    "_ = df['RegistrationYear'].hist(bins=20)"
   ]
  },
  {
   "cell_type": "code",
   "execution_count": 22,
   "metadata": {},
   "outputs": [
    {
     "data": {
      "image/png": "[encoded data removed]",
      "text/plain": [
       "<Figure size 640x480 with 1 Axes>"
      ]
     },
     "metadata": {},
     "output_type": "display_data"
    }
   ],
   "source": [
    "_ = df['RegistrationYear'].plot.box()"
   ]
  },
  {
   "cell_type": "markdown",
   "metadata": {},
   "source": [
    "Оставим более логичные и реальные данные по годам регистрации."
   ]
  },
  {
   "cell_type": "code",
   "execution_count": 23,
   "metadata": {},
   "outputs": [
    {
     "data": {
      "text/plain": [
       "1960.0"
      ]
     },
     "execution_count": 23,
     "metadata": {},
     "output_type": "execute_result"
    }
   ],
   "source": [
    "df['RegistrationYear'].quantile(.001)"
   ]
  },
  {
   "cell_type": "code",
   "execution_count": 24,
   "metadata": {},
   "outputs": [],
   "source": [
    "df = df[(df['RegistrationYear'] <= 2016) & (df['RegistrationYear'] > 1950)]"
   ]
  },
  {
   "cell_type": "code",
   "execution_count": 25,
   "metadata": {
    "scrolled": false
   },
   "outputs": [
    {
     "data": {
      "image/png": "[encoded data removed]",
      "text/plain": [
       "<Figure size 640x480 with 1 Axes>"
      ]
     },
     "metadata": {},
     "output_type": "display_data"
    }
   ],
   "source": [
    "_ = df['RegistrationYear'].plot.box()"
   ]
  },
  {
   "cell_type": "code",
   "execution_count": 26,
   "metadata": {},
   "outputs": [
    {
     "data": {
      "image/png": "[encoded data removed]",
      "text/plain": [
       "<Figure size 640x480 with 1 Axes>"
      ]
     },
     "metadata": {},
     "output_type": "display_data"
    }
   ],
   "source": [
    "_ = df['Power'].hist(bins=20)"
   ]
  },
  {
   "cell_type": "code",
   "execution_count": 27,
   "metadata": {},
   "outputs": [
    {
     "data": {
      "image/png": "[encoded data removed]",
      "text/plain": [
       "<Figure size 640x480 with 1 Axes>"
      ]
     },
     "metadata": {},
     "output_type": "display_data"
    }
   ],
   "source": [
    "_ = df['Power'].plot.box()"
   ]
  },
  {
   "cell_type": "code",
   "execution_count": 28,
   "metadata": {},
   "outputs": [
    {
     "data": {
      "text/plain": [
       "617.6960000004619"
      ]
     },
     "execution_count": 28,
     "metadata": {},
     "output_type": "execute_result"
    }
   ],
   "source": [
    "df['Power'].quantile(.999)"
   ]
  },
  {
   "cell_type": "markdown",
   "metadata": {},
   "source": [
    "Аналогично, удалим аномальные и очень редкие данные"
   ]
  },
  {
   "cell_type": "code",
   "execution_count": 29,
   "metadata": {},
   "outputs": [],
   "source": [
    "df = df[df['Power'] <= 750]"
   ]
  },
  {
   "cell_type": "code",
   "execution_count": 30,
   "metadata": {},
   "outputs": [
    {
     "data": {
      "image/png": "[encoded data removed]",
      "text/plain": [
       "<Figure size 640x480 with 1 Axes>"
      ]
     },
     "metadata": {},
     "output_type": "display_data"
    }
   ],
   "source": [
    "_ = df['Power'].plot.box()"
   ]
  },
  {
   "cell_type": "markdown",
   "metadata": {},
   "source": [
    "Переведем категориальные данные в тип 'category'"
   ]
  },
  {
   "cell_type": "code",
   "execution_count": 31,
   "metadata": {},
   "outputs": [],
   "source": [
    "for col in cat_col:\n",
    "    df[col] = df[col].astype('category')"
   ]
  },
  {
   "cell_type": "code",
   "execution_count": 32,
   "metadata": {
    "scrolled": false
   },
   "outputs": [
    {
     "name": "stdout",
     "output_type": "stream",
     "text": [
      "<class 'pandas.core.frame.DataFrame'>\n",
      "Int64Index: 306002 entries, 0 to 354368\n",
      "Data columns (total 12 columns):\n",
      " #   Column             Non-Null Count   Dtype   \n",
      "---  ------             --------------   -----   \n",
      " 0   Price              306002 non-null  int64   \n",
      " 1   VehicleType        306002 non-null  category\n",
      " 2   RegistrationYear   306002 non-null  int64   \n",
      " 3   Gearbox            306002 non-null  category\n",
      " 4   Power              306002 non-null  int64   \n",
      " 5   Model              306002 non-null  category\n",
      " 6   Kilometer          306002 non-null  int64   \n",
      " 7   RegistrationMonth  306002 non-null  int64   \n",
      " 8   FuelType           306002 non-null  category\n",
      " 9   Brand              306002 non-null  category\n",
      " 10  Repaired           306002 non-null  category\n",
      " 11  PostalCode         306002 non-null  int64   \n",
      "dtypes: category(6), int64(6)\n",
      "memory usage: 18.4 MB\n"
     ]
    }
   ],
   "source": [
    "df.info()"
   ]
  },
  {
   "cell_type": "code",
   "execution_count": 33,
   "metadata": {
    "scrolled": false
   },
   "outputs": [
    {
     "name": "stdout",
     "output_type": "stream",
     "text": [
      "<class 'pandas.core.frame.DataFrame'>\n",
      "Int64Index: 306002 entries, 0 to 354368\n",
      "Data columns (total 12 columns):\n",
      " #   Column             Non-Null Count   Dtype   \n",
      "---  ------             --------------   -----   \n",
      " 0   Price              306002 non-null  int64   \n",
      " 1   VehicleType        306002 non-null  category\n",
      " 2   RegistrationYear   306002 non-null  int64   \n",
      " 3   Gearbox            306002 non-null  category\n",
      " 4   Power              306002 non-null  int64   \n",
      " 5   Model              306002 non-null  category\n",
      " 6   Kilometer          306002 non-null  int64   \n",
      " 7   RegistrationMonth  306002 non-null  int64   \n",
      " 8   FuelType           306002 non-null  category\n",
      " 9   Brand              306002 non-null  category\n",
      " 10  Repaired           306002 non-null  category\n",
      " 11  PostalCode         306002 non-null  int64   \n",
      "dtypes: category(6), int64(6)\n",
      "memory usage: 18.4 MB\n"
     ]
    }
   ],
   "source": [
    "df.info()"
   ]
  },
  {
   "cell_type": "markdown",
   "metadata": {},
   "source": [
    "Разделим данные на признаки и целевой признак. Разделим датасет на обучающую и тестовую выборку размером 75 на 25. И обучающую еще на 75/25 для валидационной."
   ]
  },
  {
   "cell_type": "code",
   "execution_count": 34,
   "metadata": {},
   "outputs": [],
   "source": [
    "X = df.drop(['Price'], axis=1)\n",
    "y = df['Price']\n",
    "\n",
    "X_, X_test, y_, y_test = train_test_split(X, y, test_size=0.25, random_state=33)\n",
    "\n",
    "X_train, X_valid, y_train, y_valid = train_test_split(X_, y_, test_size=0.25, random_state=33)"
   ]
  },
  {
   "cell_type": "markdown",
   "metadata": {},
   "source": [
    "Преобразуем категориальные признаки в численные техникой прямого кодирования (One-Hot Encoding, OHE) для модели LinearRegression"
   ]
  },
  {
   "cell_type": "code",
   "execution_count": 35,
   "metadata": {},
   "outputs": [],
   "source": [
    "X_ohe_train = pd.get_dummies(X_train, drop_first=True).copy()\n",
    "X_ohe_valid = pd.get_dummies(X_valid, drop_first=True).copy()\n",
    "X_ohe_test = pd.get_dummies(X_test, drop_first=True).copy()"
   ]
  },
  {
   "cell_type": "code",
   "execution_count": 36,
   "metadata": {},
   "outputs": [
    {
     "data": {
      "text/html": [
       "<div>\n",
       "<style scoped>\n",
       "    .dataframe tbody tr th:only-of-type {\n",
       "        vertical-align: middle;\n",
       "    }\n",
       "\n",
       "    .dataframe tbody tr th {\n",
       "        vertical-align: top;\n",
       "    }\n",
       "\n",
       "    .dataframe thead th {\n",
       "        text-align: right;\n",
       "    }\n",
       "</style>\n",
       "<table border=\"1\" class=\"dataframe\">\n",
       "  <thead>\n",
       "    <tr style=\"text-align: right;\">\n",
       "      <th></th>\n",
       "      <th>VehicleType</th>\n",
       "      <th>RegistrationYear</th>\n",
       "      <th>Gearbox</th>\n",
       "      <th>Power</th>\n",
       "      <th>Model</th>\n",
       "      <th>Kilometer</th>\n",
       "      <th>RegistrationMonth</th>\n",
       "      <th>FuelType</th>\n",
       "      <th>Brand</th>\n",
       "      <th>Repaired</th>\n",
       "      <th>PostalCode</th>\n",
       "    </tr>\n",
       "  </thead>\n",
       "  <tbody>\n",
       "    <tr>\n",
       "      <th>204557</th>\n",
       "      <td>bus</td>\n",
       "      <td>2008</td>\n",
       "      <td>auto</td>\n",
       "      <td>116</td>\n",
       "      <td>unknown</td>\n",
       "      <td>150000</td>\n",
       "      <td>9</td>\n",
       "      <td>gasoline</td>\n",
       "      <td>sonstige_autos</td>\n",
       "      <td>no</td>\n",
       "      <td>60388</td>\n",
       "    </tr>\n",
       "    <tr>\n",
       "      <th>11685</th>\n",
       "      <td>small</td>\n",
       "      <td>1998</td>\n",
       "      <td>manual</td>\n",
       "      <td>45</td>\n",
       "      <td>polo</td>\n",
       "      <td>150000</td>\n",
       "      <td>4</td>\n",
       "      <td>petrol</td>\n",
       "      <td>volkswagen</td>\n",
       "      <td>no</td>\n",
       "      <td>25364</td>\n",
       "    </tr>\n",
       "    <tr>\n",
       "      <th>318755</th>\n",
       "      <td>unknown</td>\n",
       "      <td>2016</td>\n",
       "      <td>manual</td>\n",
       "      <td>0</td>\n",
       "      <td>unknown</td>\n",
       "      <td>5000</td>\n",
       "      <td>4</td>\n",
       "      <td>petrol</td>\n",
       "      <td>renault</td>\n",
       "      <td>no</td>\n",
       "      <td>44795</td>\n",
       "    </tr>\n",
       "  </tbody>\n",
       "</table>\n",
       "</div>"
      ],
      "text/plain": [
       "       VehicleType  RegistrationYear Gearbox  Power    Model  Kilometer  \\\n",
       "204557         bus              2008    auto    116  unknown     150000   \n",
       "11685        small              1998  manual     45     polo     150000   \n",
       "318755     unknown              2016  manual      0  unknown       5000   \n",
       "\n",
       "        RegistrationMonth  FuelType           Brand Repaired  PostalCode  \n",
       "204557                  9  gasoline  sonstige_autos       no       60388  \n",
       "11685                   4    petrol      volkswagen       no       25364  \n",
       "318755                  4    petrol         renault       no       44795  "
      ]
     },
     "execution_count": 36,
     "metadata": {},
     "output_type": "execute_result"
    }
   ],
   "source": [
    "X_train.head(3)"
   ]
  },
  {
   "cell_type": "code",
   "execution_count": 37,
   "metadata": {},
   "outputs": [
    {
     "data": {
      "text/html": [
       "<div>\n",
       "<style scoped>\n",
       "    .dataframe tbody tr th:only-of-type {\n",
       "        vertical-align: middle;\n",
       "    }\n",
       "\n",
       "    .dataframe tbody tr th {\n",
       "        vertical-align: top;\n",
       "    }\n",
       "\n",
       "    .dataframe thead th {\n",
       "        text-align: right;\n",
       "    }\n",
       "</style>\n",
       "<table border=\"1\" class=\"dataframe\">\n",
       "  <thead>\n",
       "    <tr style=\"text-align: right;\">\n",
       "      <th></th>\n",
       "      <th>RegistrationYear</th>\n",
       "      <th>Power</th>\n",
       "      <th>Kilometer</th>\n",
       "      <th>RegistrationMonth</th>\n",
       "      <th>PostalCode</th>\n",
       "      <th>VehicleType_convertible</th>\n",
       "      <th>VehicleType_coupe</th>\n",
       "      <th>VehicleType_other</th>\n",
       "      <th>VehicleType_sedan</th>\n",
       "      <th>VehicleType_small</th>\n",
       "      <th>...</th>\n",
       "      <th>Brand_skoda</th>\n",
       "      <th>Brand_smart</th>\n",
       "      <th>Brand_sonstige_autos</th>\n",
       "      <th>Brand_subaru</th>\n",
       "      <th>Brand_suzuki</th>\n",
       "      <th>Brand_toyota</th>\n",
       "      <th>Brand_trabant</th>\n",
       "      <th>Brand_volkswagen</th>\n",
       "      <th>Brand_volvo</th>\n",
       "      <th>Repaired_yes</th>\n",
       "    </tr>\n",
       "  </thead>\n",
       "  <tbody>\n",
       "    <tr>\n",
       "      <th>204557</th>\n",
       "      <td>2008</td>\n",
       "      <td>116</td>\n",
       "      <td>150000</td>\n",
       "      <td>9</td>\n",
       "      <td>60388</td>\n",
       "      <td>0</td>\n",
       "      <td>0</td>\n",
       "      <td>0</td>\n",
       "      <td>0</td>\n",
       "      <td>0</td>\n",
       "      <td>...</td>\n",
       "      <td>0</td>\n",
       "      <td>0</td>\n",
       "      <td>1</td>\n",
       "      <td>0</td>\n",
       "      <td>0</td>\n",
       "      <td>0</td>\n",
       "      <td>0</td>\n",
       "      <td>0</td>\n",
       "      <td>0</td>\n",
       "      <td>0</td>\n",
       "    </tr>\n",
       "    <tr>\n",
       "      <th>11685</th>\n",
       "      <td>1998</td>\n",
       "      <td>45</td>\n",
       "      <td>150000</td>\n",
       "      <td>4</td>\n",
       "      <td>25364</td>\n",
       "      <td>0</td>\n",
       "      <td>0</td>\n",
       "      <td>0</td>\n",
       "      <td>0</td>\n",
       "      <td>1</td>\n",
       "      <td>...</td>\n",
       "      <td>0</td>\n",
       "      <td>0</td>\n",
       "      <td>0</td>\n",
       "      <td>0</td>\n",
       "      <td>0</td>\n",
       "      <td>0</td>\n",
       "      <td>0</td>\n",
       "      <td>1</td>\n",
       "      <td>0</td>\n",
       "      <td>0</td>\n",
       "    </tr>\n",
       "    <tr>\n",
       "      <th>318755</th>\n",
       "      <td>2016</td>\n",
       "      <td>0</td>\n",
       "      <td>5000</td>\n",
       "      <td>4</td>\n",
       "      <td>44795</td>\n",
       "      <td>0</td>\n",
       "      <td>0</td>\n",
       "      <td>0</td>\n",
       "      <td>0</td>\n",
       "      <td>0</td>\n",
       "      <td>...</td>\n",
       "      <td>0</td>\n",
       "      <td>0</td>\n",
       "      <td>0</td>\n",
       "      <td>0</td>\n",
       "      <td>0</td>\n",
       "      <td>0</td>\n",
       "      <td>0</td>\n",
       "      <td>0</td>\n",
       "      <td>0</td>\n",
       "      <td>0</td>\n",
       "    </tr>\n",
       "  </tbody>\n",
       "</table>\n",
       "<p>3 rows × 312 columns</p>\n",
       "</div>"
      ],
      "text/plain": [
       "        RegistrationYear  Power  Kilometer  RegistrationMonth  PostalCode  \\\n",
       "204557              2008    116     150000                  9       60388   \n",
       "11685               1998     45     150000                  4       25364   \n",
       "318755              2016      0       5000                  4       44795   \n",
       "\n",
       "        VehicleType_convertible  VehicleType_coupe  VehicleType_other  \\\n",
       "204557                        0                  0                  0   \n",
       "11685                         0                  0                  0   \n",
       "318755                        0                  0                  0   \n",
       "\n",
       "        VehicleType_sedan  VehicleType_small  ...  Brand_skoda  Brand_smart  \\\n",
       "204557                  0                  0  ...            0            0   \n",
       "11685                   0                  1  ...            0            0   \n",
       "318755                  0                  0  ...            0            0   \n",
       "\n",
       "        Brand_sonstige_autos  Brand_subaru  Brand_suzuki  Brand_toyota  \\\n",
       "204557                     1             0             0             0   \n",
       "11685                      0             0             0             0   \n",
       "318755                     0             0             0             0   \n",
       "\n",
       "        Brand_trabant  Brand_volkswagen  Brand_volvo  Repaired_yes  \n",
       "204557              0                 0            0             0  \n",
       "11685               0                 1            0             0  \n",
       "318755              0                 0            0             0  \n",
       "\n",
       "[3 rows x 312 columns]"
      ]
     },
     "execution_count": 37,
     "metadata": {},
     "output_type": "execute_result"
    }
   ],
   "source": [
    "X_ohe_train.head(3)"
   ]
  },
  {
   "cell_type": "markdown",
   "metadata": {},
   "source": [
    "Подберем параметры для моделей."
   ]
  },
  {
   "cell_type": "markdown",
   "metadata": {},
   "source": [
    "Посмотрим на дисперсию и нормализуем данные."
   ]
  },
  {
   "cell_type": "code",
   "execution_count": 38,
   "metadata": {},
   "outputs": [],
   "source": [
    "num_col = ['RegistrationYear', 'Power', 'Kilometer', 'RegistrationMonth', 'PostalCode']"
   ]
  },
  {
   "cell_type": "code",
   "execution_count": 39,
   "metadata": {},
   "outputs": [
    {
     "data": {
      "text/plain": [
       "RegistrationYear     4.587745e+01\n",
       "Power                3.944441e+03\n",
       "Kilometer            1.398529e+09\n",
       "RegistrationMonth    1.350212e+01\n",
       "PostalCode           6.646693e+08\n",
       "dtype: float64"
      ]
     },
     "execution_count": 39,
     "metadata": {},
     "output_type": "execute_result"
    }
   ],
   "source": [
    "X_train[num_col].var()"
   ]
  },
  {
   "cell_type": "code",
   "execution_count": 40,
   "metadata": {},
   "outputs": [],
   "source": [
    "scaler = StandardScaler()\n",
    "scaler.fit(X_train.loc[:, num_col])\n",
    "\n",
    "X_train.loc[:, num_col] = scaler.transform(X_train.loc[:, num_col])\n",
    "X_valid.loc[:, num_col] = scaler.transform(X_valid.loc[:, num_col])\n",
    "X_test.loc[:, num_col] = scaler.transform(X_test.loc[:, num_col])\n",
    "\n",
    "X_ohe_train.loc[:, num_col] = scaler.transform(X_ohe_train.loc[:, num_col])\n",
    "X_ohe_valid.loc[:, num_col] = scaler.transform(X_ohe_valid.loc[:, num_col])\n",
    "X_ohe_test.loc[:, num_col] = scaler.transform(X_ohe_test.loc[:, num_col])"
   ]
  },
  {
   "cell_type": "code",
   "execution_count": 41,
   "metadata": {},
   "outputs": [
    {
     "data": {
      "text/plain": [
       "RegistrationYear     1.000006\n",
       "Power                1.000006\n",
       "Kilometer            1.000006\n",
       "RegistrationMonth    1.000006\n",
       "PostalCode           1.000006\n",
       "dtype: float64"
      ]
     },
     "execution_count": 41,
     "metadata": {},
     "output_type": "execute_result"
    }
   ],
   "source": [
    "X_train[num_col].var()"
   ]
  },
  {
   "cell_type": "code",
   "execution_count": 42,
   "metadata": {},
   "outputs": [
    {
     "data": {
      "text/plain": [
       "RegistrationYear     1.001440\n",
       "Power                1.003705\n",
       "Kilometer            1.009871\n",
       "RegistrationMonth    1.008988\n",
       "PostalCode           1.006161\n",
       "dtype: float64"
      ]
     },
     "execution_count": 42,
     "metadata": {},
     "output_type": "execute_result"
    }
   ],
   "source": [
    "X_ohe_valid[num_col].var()"
   ]
  },
  {
   "cell_type": "code",
   "execution_count": 43,
   "metadata": {},
   "outputs": [
    {
     "data": {
      "text/html": [
       "<div>\n",
       "<style scoped>\n",
       "    .dataframe tbody tr th:only-of-type {\n",
       "        vertical-align: middle;\n",
       "    }\n",
       "\n",
       "    .dataframe tbody tr th {\n",
       "        vertical-align: top;\n",
       "    }\n",
       "\n",
       "    .dataframe thead th {\n",
       "        text-align: right;\n",
       "    }\n",
       "</style>\n",
       "<table border=\"1\" class=\"dataframe\">\n",
       "  <thead>\n",
       "    <tr style=\"text-align: right;\">\n",
       "      <th></th>\n",
       "      <th>VehicleType</th>\n",
       "      <th>RegistrationYear</th>\n",
       "      <th>Gearbox</th>\n",
       "      <th>Power</th>\n",
       "      <th>Model</th>\n",
       "      <th>Kilometer</th>\n",
       "      <th>RegistrationMonth</th>\n",
       "      <th>FuelType</th>\n",
       "      <th>Brand</th>\n",
       "      <th>Repaired</th>\n",
       "      <th>PostalCode</th>\n",
       "    </tr>\n",
       "  </thead>\n",
       "  <tbody>\n",
       "    <tr>\n",
       "      <th>204557</th>\n",
       "      <td>bus</td>\n",
       "      <td>0.798669</td>\n",
       "      <td>auto</td>\n",
       "      <td>0.123924</td>\n",
       "      <td>unknown</td>\n",
       "      <td>0.578034</td>\n",
       "      <td>0.872818</td>\n",
       "      <td>gasoline</td>\n",
       "      <td>sonstige_autos</td>\n",
       "      <td>no</td>\n",
       "      <td>0.366028</td>\n",
       "    </tr>\n",
       "    <tr>\n",
       "      <th>11685</th>\n",
       "      <td>small</td>\n",
       "      <td>-0.677723</td>\n",
       "      <td>manual</td>\n",
       "      <td>-1.006566</td>\n",
       "      <td>polo</td>\n",
       "      <td>0.578034</td>\n",
       "      <td>-0.487907</td>\n",
       "      <td>petrol</td>\n",
       "      <td>volkswagen</td>\n",
       "      <td>no</td>\n",
       "      <td>-0.992486</td>\n",
       "    </tr>\n",
       "    <tr>\n",
       "      <th>318755</th>\n",
       "      <td>unknown</td>\n",
       "      <td>1.979782</td>\n",
       "      <td>manual</td>\n",
       "      <td>-1.723074</td>\n",
       "      <td>unknown</td>\n",
       "      <td>-3.299303</td>\n",
       "      <td>-0.487907</td>\n",
       "      <td>petrol</td>\n",
       "      <td>renault</td>\n",
       "      <td>no</td>\n",
       "      <td>-0.238795</td>\n",
       "    </tr>\n",
       "  </tbody>\n",
       "</table>\n",
       "</div>"
      ],
      "text/plain": [
       "       VehicleType  RegistrationYear Gearbox     Power    Model  Kilometer  \\\n",
       "204557         bus          0.798669    auto  0.123924  unknown   0.578034   \n",
       "11685        small         -0.677723  manual -1.006566     polo   0.578034   \n",
       "318755     unknown          1.979782  manual -1.723074  unknown  -3.299303   \n",
       "\n",
       "        RegistrationMonth  FuelType           Brand Repaired  PostalCode  \n",
       "204557           0.872818  gasoline  sonstige_autos       no    0.366028  \n",
       "11685           -0.487907    petrol      volkswagen       no   -0.992486  \n",
       "318755          -0.487907    petrol         renault       no   -0.238795  "
      ]
     },
     "execution_count": 43,
     "metadata": {},
     "output_type": "execute_result"
    }
   ],
   "source": [
    "X_train.head(3)"
   ]
  },
  {
   "cell_type": "code",
   "execution_count": 44,
   "metadata": {},
   "outputs": [
    {
     "data": {
      "text/html": [
       "<div>\n",
       "<style scoped>\n",
       "    .dataframe tbody tr th:only-of-type {\n",
       "        vertical-align: middle;\n",
       "    }\n",
       "\n",
       "    .dataframe tbody tr th {\n",
       "        vertical-align: top;\n",
       "    }\n",
       "\n",
       "    .dataframe thead th {\n",
       "        text-align: right;\n",
       "    }\n",
       "</style>\n",
       "<table border=\"1\" class=\"dataframe\">\n",
       "  <thead>\n",
       "    <tr style=\"text-align: right;\">\n",
       "      <th></th>\n",
       "      <th>RegistrationYear</th>\n",
       "      <th>Power</th>\n",
       "      <th>Kilometer</th>\n",
       "      <th>RegistrationMonth</th>\n",
       "      <th>PostalCode</th>\n",
       "      <th>VehicleType_convertible</th>\n",
       "      <th>VehicleType_coupe</th>\n",
       "      <th>VehicleType_other</th>\n",
       "      <th>VehicleType_sedan</th>\n",
       "      <th>VehicleType_small</th>\n",
       "      <th>...</th>\n",
       "      <th>Brand_skoda</th>\n",
       "      <th>Brand_smart</th>\n",
       "      <th>Brand_sonstige_autos</th>\n",
       "      <th>Brand_subaru</th>\n",
       "      <th>Brand_suzuki</th>\n",
       "      <th>Brand_toyota</th>\n",
       "      <th>Brand_trabant</th>\n",
       "      <th>Brand_volkswagen</th>\n",
       "      <th>Brand_volvo</th>\n",
       "      <th>Repaired_yes</th>\n",
       "    </tr>\n",
       "  </thead>\n",
       "  <tbody>\n",
       "    <tr>\n",
       "      <th>243630</th>\n",
       "      <td>0.208112</td>\n",
       "      <td>1.748009</td>\n",
       "      <td>0.578034</td>\n",
       "      <td>1.144963</td>\n",
       "      <td>1.212501</td>\n",
       "      <td>0</td>\n",
       "      <td>0</td>\n",
       "      <td>0</td>\n",
       "      <td>1</td>\n",
       "      <td>0</td>\n",
       "      <td>...</td>\n",
       "      <td>0</td>\n",
       "      <td>0</td>\n",
       "      <td>0</td>\n",
       "      <td>0</td>\n",
       "      <td>0</td>\n",
       "      <td>0</td>\n",
       "      <td>0</td>\n",
       "      <td>0</td>\n",
       "      <td>0</td>\n",
       "      <td>0</td>\n",
       "    </tr>\n",
       "    <tr>\n",
       "      <th>307855</th>\n",
       "      <td>-0.087167</td>\n",
       "      <td>0.362760</td>\n",
       "      <td>0.578034</td>\n",
       "      <td>-1.032197</td>\n",
       "      <td>-0.127977</td>\n",
       "      <td>0</td>\n",
       "      <td>0</td>\n",
       "      <td>0</td>\n",
       "      <td>1</td>\n",
       "      <td>0</td>\n",
       "      <td>...</td>\n",
       "      <td>0</td>\n",
       "      <td>0</td>\n",
       "      <td>0</td>\n",
       "      <td>0</td>\n",
       "      <td>0</td>\n",
       "      <td>0</td>\n",
       "      <td>0</td>\n",
       "      <td>0</td>\n",
       "      <td>0</td>\n",
       "      <td>0</td>\n",
       "    </tr>\n",
       "    <tr>\n",
       "      <th>27193</th>\n",
       "      <td>-1.268280</td>\n",
       "      <td>-0.528894</td>\n",
       "      <td>0.578034</td>\n",
       "      <td>0.600673</td>\n",
       "      <td>-0.950712</td>\n",
       "      <td>0</td>\n",
       "      <td>0</td>\n",
       "      <td>0</td>\n",
       "      <td>0</td>\n",
       "      <td>1</td>\n",
       "      <td>...</td>\n",
       "      <td>0</td>\n",
       "      <td>0</td>\n",
       "      <td>0</td>\n",
       "      <td>0</td>\n",
       "      <td>0</td>\n",
       "      <td>0</td>\n",
       "      <td>0</td>\n",
       "      <td>1</td>\n",
       "      <td>0</td>\n",
       "      <td>0</td>\n",
       "    </tr>\n",
       "  </tbody>\n",
       "</table>\n",
       "<p>3 rows × 312 columns</p>\n",
       "</div>"
      ],
      "text/plain": [
       "        RegistrationYear     Power  Kilometer  RegistrationMonth  PostalCode  \\\n",
       "243630          0.208112  1.748009   0.578034           1.144963    1.212501   \n",
       "307855         -0.087167  0.362760   0.578034          -1.032197   -0.127977   \n",
       "27193          -1.268280 -0.528894   0.578034           0.600673   -0.950712   \n",
       "\n",
       "        VehicleType_convertible  VehicleType_coupe  VehicleType_other  \\\n",
       "243630                        0                  0                  0   \n",
       "307855                        0                  0                  0   \n",
       "27193                         0                  0                  0   \n",
       "\n",
       "        VehicleType_sedan  VehicleType_small  ...  Brand_skoda  Brand_smart  \\\n",
       "243630                  1                  0  ...            0            0   \n",
       "307855                  1                  0  ...            0            0   \n",
       "27193                   0                  1  ...            0            0   \n",
       "\n",
       "        Brand_sonstige_autos  Brand_subaru  Brand_suzuki  Brand_toyota  \\\n",
       "243630                     0             0             0             0   \n",
       "307855                     0             0             0             0   \n",
       "27193                      0             0             0             0   \n",
       "\n",
       "        Brand_trabant  Brand_volkswagen  Brand_volvo  Repaired_yes  \n",
       "243630              0                 0            0             0  \n",
       "307855              0                 0            0             0  \n",
       "27193               0                 1            0             0  \n",
       "\n",
       "[3 rows x 312 columns]"
      ]
     },
     "execution_count": 44,
     "metadata": {},
     "output_type": "execute_result"
    }
   ],
   "source": [
    "X_ohe_valid.head(3)"
   ]
  },
  {
   "cell_type": "markdown",
   "metadata": {},
   "source": [
    "### Вывод\n",
    "- Загрузили и изучили данные.\n",
    "- Удалили признаки которые явно не влияют на предсказания цены.\n",
    "- Проверили данные на пропуски, уникальность и неявные дубликаты\n",
    "- Пропуски в категории Repaired заменили на no, вероятно если машина не была в ремонте, то владелец не указывал ничего. Остальные пропуски в категориальных признаках заменили на \"uncknow\".\n",
    "- Проверили распределения данных.\n",
    "Оставили более логичные и реальные данные по годам регистрации: 1950 - 2023. Аналогично, удалили аномальные и очень редкие данные мощности авто: 750+\n",
    "- Перевели категориальные данные в тип 'category'. Нормализовали численные данные.\n",
    "- Разделили данные на обучающую, валидационную и тестовую выборки.\n",
    "- Нормализовали численные данные."
   ]
  },
  {
   "cell_type": "markdown",
   "metadata": {},
   "source": [
    "## Обучение моделей"
   ]
  },
  {
   "cell_type": "markdown",
   "metadata": {},
   "source": [
    "#### 1. CatBoost"
   ]
  },
  {
   "cell_type": "code",
   "execution_count": 45,
   "metadata": {},
   "outputs": [
    {
     "name": "stdout",
     "output_type": "stream",
     "text": [
      "CPU times: total: 3min 11s\n",
      "Wall time: 4min\n"
     ]
    },
    {
     "data": {
      "text/html": [
       "<style>#sk-container-id-1 {color: black;background-color: white;}#sk-container-id-1 pre{padding: 0;}#sk-container-id-1 div.sk-toggleable {background-color: white;}#sk-container-id-1 label.sk-toggleable__label {cursor: pointer;display: block;width: 100%;margin-bottom: 0;padding: 0.3em;box-sizing: border-box;text-align: center;}#sk-container-id-1 label.sk-toggleable__label-arrow:before {content: \"▸\";float: left;margin-right: 0.25em;color: #696969;}#sk-container-id-1 label.sk-toggleable__label-arrow:hover:before {color: black;}#sk-container-id-1 div.sk-estimator:hover label.sk-toggleable__label-arrow:before {color: black;}#sk-container-id-1 div.sk-toggleable__content {max-height: 0;max-width: 0;overflow: hidden;text-align: left;background-color: #f0f8ff;}#sk-container-id-1 div.sk-toggleable__content pre {margin: 0.2em;color: black;border-radius: 0.25em;background-color: #f0f8ff;}#sk-container-id-1 input.sk-toggleable__control:checked~div.sk-toggleable__content {max-height: 200px;max-width: 100%;overflow: auto;}#sk-container-id-1 input.sk-toggleable__control:checked~label.sk-toggleable__label-arrow:before {content: \"▾\";}#sk-container-id-1 div.sk-estimator input.sk-toggleable__control:checked~label.sk-toggleable__label {background-color: #d4ebff;}#sk-container-id-1 div.sk-label input.sk-toggleable__control:checked~label.sk-toggleable__label {background-color: #d4ebff;}#sk-container-id-1 input.sk-hidden--visually {border: 0;clip: rect(1px 1px 1px 1px);clip: rect(1px, 1px, 1px, 1px);height: 1px;margin: -1px;overflow: hidden;padding: 0;position: absolute;width: 1px;}#sk-container-id-1 div.sk-estimator {font-family: monospace;background-color: #f0f8ff;border: 1px dotted black;border-radius: 0.25em;box-sizing: border-box;margin-bottom: 0.5em;}#sk-container-id-1 div.sk-estimator:hover {background-color: #d4ebff;}#sk-container-id-1 div.sk-parallel-item::after {content: \"\";width: 100%;border-bottom: 1px solid gray;flex-grow: 1;}#sk-container-id-1 div.sk-label:hover label.sk-toggleable__label {background-color: #d4ebff;}#sk-container-id-1 div.sk-serial::before {content: \"\";position: absolute;border-left: 1px solid gray;box-sizing: border-box;top: 0;bottom: 0;left: 50%;z-index: 0;}#sk-container-id-1 div.sk-serial {display: flex;flex-direction: column;align-items: center;background-color: white;padding-right: 0.2em;padding-left: 0.2em;position: relative;}#sk-container-id-1 div.sk-item {position: relative;z-index: 1;}#sk-container-id-1 div.sk-parallel {display: flex;align-items: stretch;justify-content: center;background-color: white;position: relative;}#sk-container-id-1 div.sk-item::before, #sk-container-id-1 div.sk-parallel-item::before {content: \"\";position: absolute;border-left: 1px solid gray;box-sizing: border-box;top: 0;bottom: 0;left: 50%;z-index: -1;}#sk-container-id-1 div.sk-parallel-item {display: flex;flex-direction: column;z-index: 1;position: relative;background-color: white;}#sk-container-id-1 div.sk-parallel-item:first-child::after {align-self: flex-end;width: 50%;}#sk-container-id-1 div.sk-parallel-item:last-child::after {align-self: flex-start;width: 50%;}#sk-container-id-1 div.sk-parallel-item:only-child::after {width: 0;}#sk-container-id-1 div.sk-dashed-wrapped {border: 1px dashed gray;margin: 0 0.4em 0.5em 0.4em;box-sizing: border-box;padding-bottom: 0.4em;background-color: white;}#sk-container-id-1 div.sk-label label {font-family: monospace;font-weight: bold;display: inline-block;line-height: 1.2em;}#sk-container-id-1 div.sk-label-container {text-align: center;}#sk-container-id-1 div.sk-container {/* jupyter's `normalize.less` sets `[hidden] { display: none; }` but bootstrap.min.css set `[hidden] { display: none !important; }` so we also need the `!important` here to be able to override the default hidden behavior on the sphinx rendered scikit-learn.org. See: https://github.com/scikit-learn/scikit-learn/issues/21755 */display: inline-block !important;position: relative;}#sk-container-id-1 div.sk-text-repr-fallback {display: none;}</style><div id=\"sk-container-id-1\" class=\"sk-top-container\"><div class=\"sk-text-repr-fallback\"><pre>GridSearchCV(cv=3,\n",
       "             estimator=&lt;catboost.core.CatBoostRegressor object at 0x000001DE423FD930&gt;,\n",
       "             n_jobs=-1,\n",
       "             param_grid={&#x27;depth&#x27;: [8, 10], &#x27;iterations&#x27;: [80, 200],\n",
       "                         &#x27;learning_rate&#x27;: [0.1, 0.2, 0.4]},\n",
       "             scoring=&#x27;neg_mean_squared_error&#x27;)</pre><b>In a Jupyter environment, please rerun this cell to show the HTML representation or trust the notebook. <br />On GitHub, the HTML representation is unable to render, please try loading this page with nbviewer.org.</b></div><div class=\"sk-container\" hidden><div class=\"sk-item sk-dashed-wrapped\"><div class=\"sk-label-container\"><div class=\"sk-label sk-toggleable\"><input class=\"sk-toggleable__control sk-hidden--visually\" id=\"sk-estimator-id-1\" type=\"checkbox\" ><label for=\"sk-estimator-id-1\" class=\"sk-toggleable__label sk-toggleable__label-arrow\">GridSearchCV</label><div class=\"sk-toggleable__content\"><pre>GridSearchCV(cv=3,\n",
       "             estimator=&lt;catboost.core.CatBoostRegressor object at 0x000001DE423FD930&gt;,\n",
       "             n_jobs=-1,\n",
       "             param_grid={&#x27;depth&#x27;: [8, 10], &#x27;iterations&#x27;: [80, 200],\n",
       "                         &#x27;learning_rate&#x27;: [0.1, 0.2, 0.4]},\n",
       "             scoring=&#x27;neg_mean_squared_error&#x27;)</pre></div></div></div><div class=\"sk-parallel\"><div class=\"sk-parallel-item\"><div class=\"sk-item\"><div class=\"sk-label-container\"><div class=\"sk-label sk-toggleable\"><input class=\"sk-toggleable__control sk-hidden--visually\" id=\"sk-estimator-id-2\" type=\"checkbox\" ><label for=\"sk-estimator-id-2\" class=\"sk-toggleable__label sk-toggleable__label-arrow\">estimator: CatBoostRegressor</label><div class=\"sk-toggleable__content\"><pre>&lt;catboost.core.CatBoostRegressor object at 0x000001DE423FD930&gt;</pre></div></div></div><div class=\"sk-serial\"><div class=\"sk-item\"><div class=\"sk-estimator sk-toggleable\"><input class=\"sk-toggleable__control sk-hidden--visually\" id=\"sk-estimator-id-3\" type=\"checkbox\" ><label for=\"sk-estimator-id-3\" class=\"sk-toggleable__label sk-toggleable__label-arrow\">CatBoostRegressor</label><div class=\"sk-toggleable__content\"><pre>&lt;catboost.core.CatBoostRegressor object at 0x000001DE423FD930&gt;</pre></div></div></div></div></div></div></div></div></div></div>"
      ],
      "text/plain": [
       "GridSearchCV(cv=3,\n",
       "             estimator=<catboost.core.CatBoostRegressor object at 0x000001DE423FD930>,\n",
       "             n_jobs=-1,\n",
       "             param_grid={'depth': [8, 10], 'iterations': [80, 200],\n",
       "                         'learning_rate': [0.1, 0.2, 0.4]},\n",
       "             scoring='neg_mean_squared_error')"
      ]
     },
     "execution_count": 45,
     "metadata": {},
     "output_type": "execute_result"
    }
   ],
   "source": [
    "%%time\n",
    "model_cbr = CatBoostRegressor(cat_features=cat_col, silent=True)\n",
    "\n",
    "params = {\n",
    "    'learning_rate': [0.1, 0.2, 0.4],\n",
    "    'iterations': [80, 200],\n",
    "    'depth': [8, 10],\n",
    "}\n",
    "\n",
    "grid_cbr = GridSearchCV(model_cbr,\n",
    "                        params,\n",
    "                        cv=3,\n",
    "                        scoring='neg_mean_squared_error',\n",
    "                        n_jobs=-1)\n",
    "\n",
    "grid_cbr.fit(X_train, y_train)"
   ]
  },
  {
   "cell_type": "code",
   "execution_count": 46,
   "metadata": {},
   "outputs": [
    {
     "data": {
      "text/plain": [
       "{'depth': 10, 'iterations': 200, 'learning_rate': 0.2}"
      ]
     },
     "execution_count": 46,
     "metadata": {},
     "output_type": "execute_result"
    }
   ],
   "source": [
    "grid_cbr.best_params_"
   ]
  },
  {
   "cell_type": "markdown",
   "metadata": {},
   "source": [
    "#### 2. LightGBM"
   ]
  },
  {
   "cell_type": "code",
   "execution_count": 47,
   "metadata": {},
   "outputs": [
    {
     "name": "stdout",
     "output_type": "stream",
     "text": [
      "Fitting 3 folds for each of 18 candidates, totalling 54 fits\n",
      "CPU times: total: 3min 40s\n",
      "Wall time: 19 s\n"
     ]
    },
    {
     "data": {
      "text/html": [
       "<style>#sk-container-id-2 {color: black;background-color: white;}#sk-container-id-2 pre{padding: 0;}#sk-container-id-2 div.sk-toggleable {background-color: white;}#sk-container-id-2 label.sk-toggleable__label {cursor: pointer;display: block;width: 100%;margin-bottom: 0;padding: 0.3em;box-sizing: border-box;text-align: center;}#sk-container-id-2 label.sk-toggleable__label-arrow:before {content: \"▸\";float: left;margin-right: 0.25em;color: #696969;}#sk-container-id-2 label.sk-toggleable__label-arrow:hover:before {color: black;}#sk-container-id-2 div.sk-estimator:hover label.sk-toggleable__label-arrow:before {color: black;}#sk-container-id-2 div.sk-toggleable__content {max-height: 0;max-width: 0;overflow: hidden;text-align: left;background-color: #f0f8ff;}#sk-container-id-2 div.sk-toggleable__content pre {margin: 0.2em;color: black;border-radius: 0.25em;background-color: #f0f8ff;}#sk-container-id-2 input.sk-toggleable__control:checked~div.sk-toggleable__content {max-height: 200px;max-width: 100%;overflow: auto;}#sk-container-id-2 input.sk-toggleable__control:checked~label.sk-toggleable__label-arrow:before {content: \"▾\";}#sk-container-id-2 div.sk-estimator input.sk-toggleable__control:checked~label.sk-toggleable__label {background-color: #d4ebff;}#sk-container-id-2 div.sk-label input.sk-toggleable__control:checked~label.sk-toggleable__label {background-color: #d4ebff;}#sk-container-id-2 input.sk-hidden--visually {border: 0;clip: rect(1px 1px 1px 1px);clip: rect(1px, 1px, 1px, 1px);height: 1px;margin: -1px;overflow: hidden;padding: 0;position: absolute;width: 1px;}#sk-container-id-2 div.sk-estimator {font-family: monospace;background-color: #f0f8ff;border: 1px dotted black;border-radius: 0.25em;box-sizing: border-box;margin-bottom: 0.5em;}#sk-container-id-2 div.sk-estimator:hover {background-color: #d4ebff;}#sk-container-id-2 div.sk-parallel-item::after {content: \"\";width: 100%;border-bottom: 1px solid gray;flex-grow: 1;}#sk-container-id-2 div.sk-label:hover label.sk-toggleable__label {background-color: #d4ebff;}#sk-container-id-2 div.sk-serial::before {content: \"\";position: absolute;border-left: 1px solid gray;box-sizing: border-box;top: 0;bottom: 0;left: 50%;z-index: 0;}#sk-container-id-2 div.sk-serial {display: flex;flex-direction: column;align-items: center;background-color: white;padding-right: 0.2em;padding-left: 0.2em;position: relative;}#sk-container-id-2 div.sk-item {position: relative;z-index: 1;}#sk-container-id-2 div.sk-parallel {display: flex;align-items: stretch;justify-content: center;background-color: white;position: relative;}#sk-container-id-2 div.sk-item::before, #sk-container-id-2 div.sk-parallel-item::before {content: \"\";position: absolute;border-left: 1px solid gray;box-sizing: border-box;top: 0;bottom: 0;left: 50%;z-index: -1;}#sk-container-id-2 div.sk-parallel-item {display: flex;flex-direction: column;z-index: 1;position: relative;background-color: white;}#sk-container-id-2 div.sk-parallel-item:first-child::after {align-self: flex-end;width: 50%;}#sk-container-id-2 div.sk-parallel-item:last-child::after {align-self: flex-start;width: 50%;}#sk-container-id-2 div.sk-parallel-item:only-child::after {width: 0;}#sk-container-id-2 div.sk-dashed-wrapped {border: 1px dashed gray;margin: 0 0.4em 0.5em 0.4em;box-sizing: border-box;padding-bottom: 0.4em;background-color: white;}#sk-container-id-2 div.sk-label label {font-family: monospace;font-weight: bold;display: inline-block;line-height: 1.2em;}#sk-container-id-2 div.sk-label-container {text-align: center;}#sk-container-id-2 div.sk-container {/* jupyter's `normalize.less` sets `[hidden] { display: none; }` but bootstrap.min.css set `[hidden] { display: none !important; }` so we also need the `!important` here to be able to override the default hidden behavior on the sphinx rendered scikit-learn.org. See: https://github.com/scikit-learn/scikit-learn/issues/21755 */display: inline-block !important;position: relative;}#sk-container-id-2 div.sk-text-repr-fallback {display: none;}</style><div id=\"sk-container-id-2\" class=\"sk-top-container\"><div class=\"sk-text-repr-fallback\"><pre>GridSearchCV(cv=3, estimator=LGBMRegressor(),\n",
       "             param_grid={&#x27;learning_rate&#x27;: [0.1, 0.2, 0.4], &#x27;max_depth&#x27;: [10],\n",
       "                         &#x27;n_estimators&#x27;: [80, 200],\n",
       "                         &#x27;num_leaves&#x27;: [11, 21, 41]},\n",
       "             scoring=&#x27;neg_mean_squared_error&#x27;, verbose=True)</pre><b>In a Jupyter environment, please rerun this cell to show the HTML representation or trust the notebook. <br />On GitHub, the HTML representation is unable to render, please try loading this page with nbviewer.org.</b></div><div class=\"sk-container\" hidden><div class=\"sk-item sk-dashed-wrapped\"><div class=\"sk-label-container\"><div class=\"sk-label sk-toggleable\"><input class=\"sk-toggleable__control sk-hidden--visually\" id=\"sk-estimator-id-4\" type=\"checkbox\" ><label for=\"sk-estimator-id-4\" class=\"sk-toggleable__label sk-toggleable__label-arrow\">GridSearchCV</label><div class=\"sk-toggleable__content\"><pre>GridSearchCV(cv=3, estimator=LGBMRegressor(),\n",
       "             param_grid={&#x27;learning_rate&#x27;: [0.1, 0.2, 0.4], &#x27;max_depth&#x27;: [10],\n",
       "                         &#x27;n_estimators&#x27;: [80, 200],\n",
       "                         &#x27;num_leaves&#x27;: [11, 21, 41]},\n",
       "             scoring=&#x27;neg_mean_squared_error&#x27;, verbose=True)</pre></div></div></div><div class=\"sk-parallel\"><div class=\"sk-parallel-item\"><div class=\"sk-item\"><div class=\"sk-label-container\"><div class=\"sk-label sk-toggleable\"><input class=\"sk-toggleable__control sk-hidden--visually\" id=\"sk-estimator-id-5\" type=\"checkbox\" ><label for=\"sk-estimator-id-5\" class=\"sk-toggleable__label sk-toggleable__label-arrow\">estimator: LGBMRegressor</label><div class=\"sk-toggleable__content\"><pre>LGBMRegressor()</pre></div></div></div><div class=\"sk-serial\"><div class=\"sk-item\"><div class=\"sk-estimator sk-toggleable\"><input class=\"sk-toggleable__control sk-hidden--visually\" id=\"sk-estimator-id-6\" type=\"checkbox\" ><label for=\"sk-estimator-id-6\" class=\"sk-toggleable__label sk-toggleable__label-arrow\">LGBMRegressor</label><div class=\"sk-toggleable__content\"><pre>LGBMRegressor()</pre></div></div></div></div></div></div></div></div></div></div>"
      ],
      "text/plain": [
       "GridSearchCV(cv=3, estimator=LGBMRegressor(),\n",
       "             param_grid={'learning_rate': [0.1, 0.2, 0.4], 'max_depth': [10],\n",
       "                         'n_estimators': [80, 200],\n",
       "                         'num_leaves': [11, 21, 41]},\n",
       "             scoring='neg_mean_squared_error', verbose=True)"
      ]
     },
     "execution_count": 47,
     "metadata": {},
     "output_type": "execute_result"
    }
   ],
   "source": [
    "%%time\n",
    "model_gbm = LGBMRegressor()\n",
    "\n",
    "params = {\n",
    "    'learning_rate': [0.1, 0.2, 0.4],\n",
    "    'n_estimators': [80, 200],\n",
    "    'max_depth': [10],\n",
    "    'num_leaves': [11, 21, 41],\n",
    "}\n",
    "\n",
    "grid_gbm = GridSearchCV(model_gbm,\n",
    "                        params,\n",
    "                        cv=3,\n",
    "                        scoring='neg_mean_squared_error',\n",
    "                        verbose=True)\n",
    "grid_gbm.fit(X_train, y_train)"
   ]
  },
  {
   "cell_type": "code",
   "execution_count": 48,
   "metadata": {
    "scrolled": true
   },
   "outputs": [
    {
     "data": {
      "text/plain": [
       "{'learning_rate': 0.2, 'max_depth': 10, 'n_estimators': 200, 'num_leaves': 41}"
      ]
     },
     "execution_count": 48,
     "metadata": {},
     "output_type": "execute_result"
    }
   ],
   "source": [
    "grid_gbm.best_params_"
   ]
  },
  {
   "cell_type": "markdown",
   "metadata": {},
   "source": [
    "#### 3. LinearRegression"
   ]
  },
  {
   "cell_type": "markdown",
   "metadata": {},
   "source": [
    "В линейной регрессии нет особых параметров для подбора, оставим по дефолту."
   ]
  },
  {
   "cell_type": "code",
   "execution_count": 49,
   "metadata": {},
   "outputs": [],
   "source": [
    "model_lreg = LinearRegression()"
   ]
  },
  {
   "cell_type": "markdown",
   "metadata": {},
   "source": [
    "## Анализ моделей"
   ]
  },
  {
   "cell_type": "markdown",
   "metadata": {},
   "source": [
    "Напишем функцию для расчета времени обучения, предсказания и скоринга."
   ]
  },
  {
   "cell_type": "code",
   "execution_count": 50,
   "metadata": {},
   "outputs": [],
   "source": [
    "def model_info(model, X_train, y_train, X_test, y_test):\n",
    "    start = time.time()    \n",
    "    model.fit(X_train, y_train)\n",
    "    training_time = time.time() - start\n",
    "    \n",
    "    start = time.time()  \n",
    "    y_pred = model.predict(X_test)\n",
    "    predict_time = time.time() - start\n",
    "\n",
    "    return training_time, predict_time, mse(y_test, y_pred)**0.5"
   ]
  },
  {
   "cell_type": "markdown",
   "metadata": {},
   "source": [
    "Проведем тесты на валидационных данных и составим таблицу с информацией."
   ]
  },
  {
   "cell_type": "code",
   "execution_count": 51,
   "metadata": {},
   "outputs": [
    {
     "name": "stdout",
     "output_type": "stream",
     "text": [
      "CPU times: total: 3min 48s\n",
      "Wall time: 30.7 s\n"
     ]
    }
   ],
   "source": [
    "%%time\n",
    "results = []\n",
    "results.append(model_info(grid_cbr.best_estimator_, X_train, y_train, X_valid, y_valid))\n",
    "results.append(model_info(grid_gbm.best_estimator_, X_train, y_train, X_valid, y_valid))\n",
    "results.append(model_info(model_lreg, X_ohe_train, y_train, X_ohe_valid, y_valid))"
   ]
  },
  {
   "cell_type": "code",
   "execution_count": 52,
   "metadata": {},
   "outputs": [
    {
     "data": {
      "text/html": [
       "<div>\n",
       "<style scoped>\n",
       "    .dataframe tbody tr th:only-of-type {\n",
       "        vertical-align: middle;\n",
       "    }\n",
       "\n",
       "    .dataframe tbody tr th {\n",
       "        vertical-align: top;\n",
       "    }\n",
       "\n",
       "    .dataframe thead th {\n",
       "        text-align: right;\n",
       "    }\n",
       "</style>\n",
       "<table border=\"1\" class=\"dataframe\">\n",
       "  <thead>\n",
       "    <tr style=\"text-align: right;\">\n",
       "      <th></th>\n",
       "      <th>training_time</th>\n",
       "      <th>predict_time</th>\n",
       "      <th>RMSE</th>\n",
       "    </tr>\n",
       "  </thead>\n",
       "  <tbody>\n",
       "    <tr>\n",
       "      <th>LightGBM</th>\n",
       "      <td>0.518001</td>\n",
       "      <td>0.074002</td>\n",
       "      <td>1597.593069</td>\n",
       "    </tr>\n",
       "    <tr>\n",
       "      <th>CatBoost</th>\n",
       "      <td>25.898109</td>\n",
       "      <td>0.047000</td>\n",
       "      <td>1601.513775</td>\n",
       "    </tr>\n",
       "    <tr>\n",
       "      <th>LinearReg</th>\n",
       "      <td>4.067749</td>\n",
       "      <td>0.061510</td>\n",
       "      <td>2697.413963</td>\n",
       "    </tr>\n",
       "  </tbody>\n",
       "</table>\n",
       "</div>"
      ],
      "text/plain": [
       "           training_time  predict_time         RMSE\n",
       "LightGBM        0.518001      0.074002  1597.593069\n",
       "CatBoost       25.898109      0.047000  1601.513775\n",
       "LinearReg       4.067749      0.061510  2697.413963"
      ]
     },
     "execution_count": 52,
     "metadata": {},
     "output_type": "execute_result"
    }
   ],
   "source": [
    "columns = ['training_time','predict_time','RMSE']\n",
    "index = ['CatBoost', 'LightGBM', 'LinearReg']\n",
    "pd.DataFrame(results, columns=columns, index=index).sort_values(by='RMSE')"
   ]
  },
  {
   "cell_type": "markdown",
   "metadata": {},
   "source": [
    "Как видно из данных, модели градиентного бустинга показывают лучшие результаты в отличии от линейной регрессии.\n",
    "CatBoost и LightGBM имеют почти одинаковые показатели RMSE и маленькую скорость предсказания. Однако у CatBoost очень большое время обучения относительно LightGBM.\n",
    "\n",
    "Очевидно лучшая модель скорость/качество на данном наборе данных это LightGBM."
   ]
  },
  {
   "cell_type": "markdown",
   "metadata": {},
   "source": [
    "## Тестирование лучшей модели"
   ]
  },
  {
   "cell_type": "markdown",
   "metadata": {},
   "source": [
    "Проверим модель LightGBM на тестовых данных:"
   ]
  },
  {
   "cell_type": "code",
   "execution_count": 53,
   "metadata": {},
   "outputs": [
    {
     "name": "stdout",
     "output_type": "stream",
     "text": [
      "Модель LightGBM, RMSE: 1619.2794282522207\n"
     ]
    }
   ],
   "source": [
    "final_pred = grid_gbm.best_estimator_.predict(X_test)\n",
    "\n",
    "print('Модель LightGBM, RMSE:', mse(y_test, final_pred)**0.5)"
   ]
  },
  {
   "cell_type": "markdown",
   "metadata": {},
   "source": [
    "На тестовых данных результат получили даже немного лучше, чем на валидационных."
   ]
  }
 ],
 "metadata": {
  "ExecuteTimeLog": [
   {
    "duration": 79,
    "start_time": "2023-03-25T20:01:21.120Z"
   },
   {
    "duration": 1843,
    "start_time": "2023-03-26T12:18:13.183Z"
   },
   {
    "duration": 176,
    "start_time": "2023-03-26T12:18:15.028Z"
   },
   {
    "duration": 0,
    "start_time": "2023-03-26T12:18:15.207Z"
   },
   {
    "duration": 0,
    "start_time": "2023-03-26T12:18:15.208Z"
   },
   {
    "duration": 0,
    "start_time": "2023-03-26T12:18:15.210Z"
   },
   {
    "duration": 0,
    "start_time": "2023-03-26T12:18:15.211Z"
   },
   {
    "duration": 0,
    "start_time": "2023-03-26T12:18:15.213Z"
   },
   {
    "duration": 0,
    "start_time": "2023-03-26T12:18:15.214Z"
   },
   {
    "duration": 0,
    "start_time": "2023-03-26T12:18:15.215Z"
   },
   {
    "duration": 0,
    "start_time": "2023-03-26T12:18:15.216Z"
   },
   {
    "duration": 0,
    "start_time": "2023-03-26T12:18:15.218Z"
   },
   {
    "duration": 0,
    "start_time": "2023-03-26T12:18:15.219Z"
   },
   {
    "duration": 0,
    "start_time": "2023-03-26T12:18:15.220Z"
   },
   {
    "duration": 0,
    "start_time": "2023-03-26T12:18:15.222Z"
   },
   {
    "duration": 0,
    "start_time": "2023-03-26T12:18:15.223Z"
   },
   {
    "duration": 0,
    "start_time": "2023-03-26T12:18:15.224Z"
   },
   {
    "duration": 0,
    "start_time": "2023-03-26T12:18:15.226Z"
   },
   {
    "duration": 8,
    "start_time": "2023-03-26T12:19:45.289Z"
   },
   {
    "duration": 1319,
    "start_time": "2023-03-26T12:19:45.309Z"
   },
   {
    "duration": 30,
    "start_time": "2023-03-26T12:19:46.630Z"
   },
   {
    "duration": 215,
    "start_time": "2023-03-26T12:19:46.662Z"
   },
   {
    "duration": 133,
    "start_time": "2023-03-26T12:19:46.886Z"
   },
   {
    "duration": 46,
    "start_time": "2023-03-26T12:19:47.021Z"
   },
   {
    "duration": 61,
    "start_time": "2023-03-26T12:19:47.069Z"
   },
   {
    "duration": 24,
    "start_time": "2023-03-26T12:19:47.132Z"
   },
   {
    "duration": 279,
    "start_time": "2023-03-26T12:19:47.158Z"
   },
   {
    "duration": 167,
    "start_time": "2023-03-26T12:19:47.439Z"
   },
   {
    "duration": 193,
    "start_time": "2023-03-26T12:19:47.616Z"
   },
   {
    "duration": 107,
    "start_time": "2023-03-26T12:19:47.816Z"
   },
   {
    "duration": 253,
    "start_time": "2023-03-26T12:19:47.925Z"
   },
   {
    "duration": 261,
    "start_time": "2023-03-26T12:19:48.181Z"
   },
   {
    "duration": 259,
    "start_time": "2023-03-26T12:19:48.444Z"
   },
   {
    "duration": 17,
    "start_time": "2023-03-26T12:19:48.710Z"
   },
   {
    "duration": 221,
    "start_time": "2023-03-26T12:19:48.729Z"
   },
   {
    "duration": 254,
    "start_time": "2023-03-26T12:19:53.114Z"
   },
   {
    "duration": 198,
    "start_time": "2023-03-26T12:19:59.222Z"
   },
   {
    "duration": 206,
    "start_time": "2023-03-26T12:20:14.827Z"
   },
   {
    "duration": 113,
    "start_time": "2023-03-26T12:20:22.053Z"
   },
   {
    "duration": 111,
    "start_time": "2023-03-26T12:20:37.614Z"
   },
   {
    "duration": 120,
    "start_time": "2023-03-26T12:20:52.216Z"
   },
   {
    "duration": 115,
    "start_time": "2023-03-26T12:21:39.261Z"
   },
   {
    "duration": 9,
    "start_time": "2023-03-26T12:22:25.148Z"
   },
   {
    "duration": 8,
    "start_time": "2023-03-26T12:22:34.519Z"
   },
   {
    "duration": 7,
    "start_time": "2023-03-26T12:22:37.934Z"
   },
   {
    "duration": 8,
    "start_time": "2023-03-26T12:22:47.238Z"
   },
   {
    "duration": 9,
    "start_time": "2023-03-26T12:22:51.854Z"
   },
   {
    "duration": 11,
    "start_time": "2023-03-26T12:22:55.210Z"
   },
   {
    "duration": 137,
    "start_time": "2023-03-26T12:23:16.311Z"
   },
   {
    "duration": 138,
    "start_time": "2023-03-26T12:23:20.448Z"
   },
   {
    "duration": 183,
    "start_time": "2023-03-26T12:24:09.817Z"
   },
   {
    "duration": 285,
    "start_time": "2023-03-26T12:24:23.671Z"
   },
   {
    "duration": 143,
    "start_time": "2023-03-26T12:24:30.215Z"
   },
   {
    "duration": 162,
    "start_time": "2023-03-26T12:24:37.319Z"
   },
   {
    "duration": 341,
    "start_time": "2023-03-26T12:24:59.807Z"
   },
   {
    "duration": 179,
    "start_time": "2023-03-26T12:25:03.983Z"
   },
   {
    "duration": 170,
    "start_time": "2023-03-26T12:25:08.319Z"
   },
   {
    "duration": 160,
    "start_time": "2023-03-26T12:25:14.315Z"
   },
   {
    "duration": 163,
    "start_time": "2023-03-26T12:26:47.414Z"
   },
   {
    "duration": 32,
    "start_time": "2023-03-26T12:28:55.526Z"
   },
   {
    "duration": 46,
    "start_time": "2023-03-26T12:32:36.748Z"
   },
   {
    "duration": 36,
    "start_time": "2023-03-26T12:34:38.931Z"
   },
   {
    "duration": 25,
    "start_time": "2023-03-26T12:43:58.076Z"
   },
   {
    "duration": 14,
    "start_time": "2023-03-26T12:44:06.390Z"
   },
   {
    "duration": 2072,
    "start_time": "2023-03-26T12:44:06.406Z"
   },
   {
    "duration": 39,
    "start_time": "2023-03-26T12:44:08.480Z"
   },
   {
    "duration": 308,
    "start_time": "2023-03-26T12:44:08.523Z"
   },
   {
    "duration": 261,
    "start_time": "2023-03-26T12:44:08.834Z"
   },
   {
    "duration": 77,
    "start_time": "2023-03-26T12:44:09.098Z"
   },
   {
    "duration": 16,
    "start_time": "2023-03-26T12:44:09.178Z"
   },
   {
    "duration": 72,
    "start_time": "2023-03-26T12:44:09.196Z"
   },
   {
    "duration": 473,
    "start_time": "2023-03-26T12:44:09.270Z"
   },
   {
    "duration": 223,
    "start_time": "2023-03-26T12:44:09.752Z"
   },
   {
    "duration": 289,
    "start_time": "2023-03-26T12:44:09.978Z"
   },
   {
    "duration": 168,
    "start_time": "2023-03-26T12:44:10.268Z"
   },
   {
    "duration": 532,
    "start_time": "2023-03-26T12:44:10.444Z"
   },
   {
    "duration": 473,
    "start_time": "2023-03-26T12:44:10.980Z"
   },
   {
    "duration": 334,
    "start_time": "2023-03-26T12:44:11.463Z"
   },
   {
    "duration": 40,
    "start_time": "2023-03-26T12:44:11.799Z"
   },
   {
    "duration": 333,
    "start_time": "2023-03-26T12:44:11.842Z"
   },
   {
    "duration": 180,
    "start_time": "2023-03-26T12:44:12.177Z"
   },
   {
    "duration": 202,
    "start_time": "2023-03-26T12:44:12.359Z"
   },
   {
    "duration": 32,
    "start_time": "2023-03-26T12:44:12.563Z"
   },
   {
    "duration": 254,
    "start_time": "2023-03-26T12:44:12.597Z"
   },
   {
    "duration": 176,
    "start_time": "2023-03-26T12:44:12.853Z"
   },
   {
    "duration": 17,
    "start_time": "2023-03-26T12:44:13.032Z"
   },
   {
    "duration": 138,
    "start_time": "2023-03-26T12:44:13.052Z"
   },
   {
    "duration": 271,
    "start_time": "2023-03-26T12:44:13.192Z"
   },
   {
    "duration": 391,
    "start_time": "2023-03-26T12:44:13.466Z"
   },
   {
    "duration": 202,
    "start_time": "2023-03-26T12:44:13.864Z"
   },
   {
    "duration": 19,
    "start_time": "2023-03-26T12:44:14.073Z"
   },
   {
    "duration": 103,
    "start_time": "2023-03-26T12:44:14.097Z"
   },
   {
    "duration": 250,
    "start_time": "2023-03-26T12:44:14.202Z"
   },
   {
    "duration": 232,
    "start_time": "2023-03-26T12:44:14.454Z"
   },
   {
    "duration": 44,
    "start_time": "2023-03-26T12:44:14.692Z"
   },
   {
    "duration": 68,
    "start_time": "2023-03-26T12:44:14.743Z"
   },
   {
    "duration": 160,
    "start_time": "2023-03-26T12:44:14.813Z"
   },
   {
    "duration": 697,
    "start_time": "2023-03-26T12:44:14.981Z"
   },
   {
    "duration": 31,
    "start_time": "2023-03-26T12:44:15.680Z"
   },
   {
    "duration": 70,
    "start_time": "2023-03-26T12:44:15.714Z"
   },
   {
    "duration": 67,
    "start_time": "2023-03-26T12:44:15.786Z"
   },
   {
    "duration": 37,
    "start_time": "2023-03-26T12:44:15.855Z"
   },
   {
    "duration": 20,
    "start_time": "2023-03-26T12:44:19.320Z"
   },
   {
    "duration": 777,
    "start_time": "2023-03-26T12:46:17.196Z"
   },
   {
    "duration": 23,
    "start_time": "2023-03-26T12:47:23.632Z"
   },
   {
    "duration": 36,
    "start_time": "2023-03-26T12:47:27.167Z"
   },
   {
    "duration": 31,
    "start_time": "2023-03-26T12:47:35.718Z"
   },
   {
    "duration": 48,
    "start_time": "2023-03-26T12:47:44.720Z"
   },
   {
    "duration": 17,
    "start_time": "2023-03-26T12:48:03.383Z"
   },
   {
    "duration": 70,
    "start_time": "2023-03-26T12:50:08.607Z"
   },
   {
    "duration": 749,
    "start_time": "2023-03-26T12:50:41.315Z"
   },
   {
    "duration": 614,
    "start_time": "2023-03-26T12:51:27.296Z"
   },
   {
    "duration": 559,
    "start_time": "2023-03-26T12:51:51.511Z"
   },
   {
    "duration": 72,
    "start_time": "2023-03-26T12:52:19.224Z"
   },
   {
    "duration": 21,
    "start_time": "2023-03-26T12:52:26.227Z"
   },
   {
    "duration": 13,
    "start_time": "2023-03-26T12:52:27.011Z"
   },
   {
    "duration": 21,
    "start_time": "2023-03-26T12:52:28.029Z"
   },
   {
    "duration": 22,
    "start_time": "2023-03-26T12:52:30.334Z"
   },
   {
    "duration": 634,
    "start_time": "2023-03-26T12:52:54.324Z"
   },
   {
    "duration": 648,
    "start_time": "2023-03-26T12:52:59.955Z"
   },
   {
    "duration": 22,
    "start_time": "2023-03-26T12:53:02.737Z"
   },
   {
    "duration": 5,
    "start_time": "2023-03-26T12:53:17.352Z"
   },
   {
    "duration": 1701,
    "start_time": "2023-03-26T12:53:17.359Z"
   },
   {
    "duration": 45,
    "start_time": "2023-03-26T12:53:19.063Z"
   },
   {
    "duration": 251,
    "start_time": "2023-03-26T12:53:19.115Z"
   },
   {
    "duration": 147,
    "start_time": "2023-03-26T12:53:19.370Z"
   },
   {
    "duration": 40,
    "start_time": "2023-03-26T12:53:19.519Z"
   },
   {
    "duration": 33,
    "start_time": "2023-03-26T12:53:19.562Z"
   },
   {
    "duration": 41,
    "start_time": "2023-03-26T12:53:19.597Z"
   },
   {
    "duration": 341,
    "start_time": "2023-03-26T12:53:19.640Z"
   },
   {
    "duration": 186,
    "start_time": "2023-03-26T12:53:19.983Z"
   },
   {
    "duration": 294,
    "start_time": "2023-03-26T12:53:20.171Z"
   },
   {
    "duration": 185,
    "start_time": "2023-03-26T12:53:20.468Z"
   },
   {
    "duration": 366,
    "start_time": "2023-03-26T12:53:20.655Z"
   },
   {
    "duration": 342,
    "start_time": "2023-03-26T12:53:21.026Z"
   },
   {
    "duration": 291,
    "start_time": "2023-03-26T12:53:21.370Z"
   },
   {
    "duration": 15,
    "start_time": "2023-03-26T12:53:21.663Z"
   },
   {
    "duration": 269,
    "start_time": "2023-03-26T12:53:21.689Z"
   },
   {
    "duration": 154,
    "start_time": "2023-03-26T12:53:21.960Z"
   },
   {
    "duration": 174,
    "start_time": "2023-03-26T12:53:22.115Z"
   },
   {
    "duration": 40,
    "start_time": "2023-03-26T12:53:22.292Z"
   },
   {
    "duration": 266,
    "start_time": "2023-03-26T12:53:22.334Z"
   },
   {
    "duration": 176,
    "start_time": "2023-03-26T12:53:22.603Z"
   },
   {
    "duration": 21,
    "start_time": "2023-03-26T12:53:22.782Z"
   },
   {
    "duration": 84,
    "start_time": "2023-03-26T12:53:22.806Z"
   },
   {
    "duration": 186,
    "start_time": "2023-03-26T12:53:22.892Z"
   },
   {
    "duration": 262,
    "start_time": "2023-03-26T12:53:23.081Z"
   },
   {
    "duration": 248,
    "start_time": "2023-03-26T12:53:23.347Z"
   },
   {
    "duration": 14,
    "start_time": "2023-03-26T12:53:23.597Z"
   },
   {
    "duration": 154,
    "start_time": "2023-03-26T12:53:23.614Z"
   },
   {
    "duration": 336,
    "start_time": "2023-03-26T12:53:23.771Z"
   },
   {
    "duration": 241,
    "start_time": "2023-03-26T12:53:24.115Z"
   },
   {
    "duration": 61,
    "start_time": "2023-03-26T12:53:24.359Z"
   },
   {
    "duration": 69,
    "start_time": "2023-03-26T12:53:24.423Z"
   },
   {
    "duration": 210,
    "start_time": "2023-03-26T12:53:24.496Z"
   },
   {
    "duration": 717,
    "start_time": "2023-03-26T12:53:24.709Z"
   },
   {
    "duration": 19,
    "start_time": "2023-03-26T12:53:25.437Z"
   },
   {
    "duration": 39,
    "start_time": "2023-03-26T12:53:25.459Z"
   },
   {
    "duration": 20,
    "start_time": "2023-03-26T12:53:25.505Z"
   },
   {
    "duration": 44,
    "start_time": "2023-03-26T12:53:25.529Z"
   },
   {
    "duration": 809,
    "start_time": "2023-03-26T12:53:25.575Z"
   },
   {
    "duration": 2240,
    "start_time": "2023-03-26T12:56:49.965Z"
   },
   {
    "duration": 1741,
    "start_time": "2023-03-26T12:56:52.210Z"
   },
   {
    "duration": 66,
    "start_time": "2023-03-26T12:56:53.953Z"
   },
   {
    "duration": 250,
    "start_time": "2023-03-26T12:56:54.022Z"
   },
   {
    "duration": 148,
    "start_time": "2023-03-26T12:56:54.275Z"
   },
   {
    "duration": 82,
    "start_time": "2023-03-26T12:56:54.425Z"
   },
   {
    "duration": 15,
    "start_time": "2023-03-26T12:56:54.509Z"
   },
   {
    "duration": 15,
    "start_time": "2023-03-26T12:56:54.526Z"
   },
   {
    "duration": 336,
    "start_time": "2023-03-26T12:56:54.543Z"
   },
   {
    "duration": 216,
    "start_time": "2023-03-26T12:56:54.882Z"
   },
   {
    "duration": 280,
    "start_time": "2023-03-26T12:56:55.118Z"
   },
   {
    "duration": 169,
    "start_time": "2023-03-26T12:56:55.400Z"
   },
   {
    "duration": 362,
    "start_time": "2023-03-26T12:56:55.571Z"
   },
   {
    "duration": 346,
    "start_time": "2023-03-26T12:56:55.938Z"
   },
   {
    "duration": 248,
    "start_time": "2023-03-26T12:56:56.289Z"
   },
   {
    "duration": 18,
    "start_time": "2023-03-26T12:56:56.540Z"
   },
   {
    "duration": 268,
    "start_time": "2023-03-26T12:56:56.560Z"
   },
   {
    "duration": 163,
    "start_time": "2023-03-26T12:56:56.830Z"
   },
   {
    "duration": 142,
    "start_time": "2023-03-26T12:56:57.002Z"
   },
   {
    "duration": 50,
    "start_time": "2023-03-26T12:56:57.146Z"
   },
   {
    "duration": 259,
    "start_time": "2023-03-26T12:56:57.198Z"
   },
   {
    "duration": 180,
    "start_time": "2023-03-26T12:56:57.460Z"
   },
   {
    "duration": 10,
    "start_time": "2023-03-26T12:56:57.642Z"
   },
   {
    "duration": 68,
    "start_time": "2023-03-26T12:56:57.655Z"
   },
   {
    "duration": 177,
    "start_time": "2023-03-26T12:56:57.726Z"
   },
   {
    "duration": 193,
    "start_time": "2023-03-26T12:56:57.905Z"
   },
   {
    "duration": 162,
    "start_time": "2023-03-26T12:56:58.100Z"
   },
   {
    "duration": 26,
    "start_time": "2023-03-26T12:56:58.264Z"
   },
   {
    "duration": 38,
    "start_time": "2023-03-26T12:56:58.294Z"
   },
   {
    "duration": 175,
    "start_time": "2023-03-26T12:56:58.334Z"
   },
   {
    "duration": 215,
    "start_time": "2023-03-26T12:56:58.512Z"
   },
   {
    "duration": 40,
    "start_time": "2023-03-26T12:56:58.730Z"
   },
   {
    "duration": 51,
    "start_time": "2023-03-26T12:56:58.771Z"
   },
   {
    "duration": 110,
    "start_time": "2023-03-26T12:56:58.824Z"
   },
   {
    "duration": 600,
    "start_time": "2023-03-26T12:56:58.936Z"
   },
   {
    "duration": 18,
    "start_time": "2023-03-26T12:56:59.538Z"
   },
   {
    "duration": 55,
    "start_time": "2023-03-26T12:56:59.558Z"
   },
   {
    "duration": 7,
    "start_time": "2023-03-26T12:56:59.616Z"
   },
   {
    "duration": 27,
    "start_time": "2023-03-26T12:56:59.626Z"
   },
   {
    "duration": 717,
    "start_time": "2023-03-26T12:56:59.655Z"
   },
   {
    "duration": 33,
    "start_time": "2023-03-26T12:57:00.377Z"
   },
   {
    "duration": 23,
    "start_time": "2023-03-26T12:57:00.413Z"
   },
   {
    "duration": 98,
    "start_time": "2023-03-26T12:57:00.438Z"
   },
   {
    "duration": 43,
    "start_time": "2023-03-26T12:57:00.538Z"
   },
   {
    "duration": 1462060,
    "start_time": "2023-03-26T12:57:00.583Z"
   },
   {
    "duration": 6,
    "start_time": "2023-03-26T13:21:22.645Z"
   },
   {
    "duration": 5097971,
    "start_time": "2023-03-26T13:21:22.656Z"
   },
   {
    "duration": 15,
    "start_time": "2023-03-26T14:46:20.630Z"
   },
   {
    "duration": 0,
    "start_time": "2023-03-26T14:46:20.650Z"
   },
   {
    "duration": 0,
    "start_time": "2023-03-26T14:46:20.653Z"
   },
   {
    "duration": 0,
    "start_time": "2023-03-26T14:46:20.654Z"
   },
   {
    "duration": 0,
    "start_time": "2023-03-26T14:46:20.655Z"
   },
   {
    "duration": 0,
    "start_time": "2023-03-26T14:46:20.657Z"
   }
  ],
  "kernelspec": {
   "display_name": "Python 3 (ipykernel)",
   "language": "python",
   "name": "python3"
  },
  "language_info": {
   "codemirror_mode": {
    "name": "ipython",
    "version": 3
   },
   "file_extension": ".py",
   "mimetype": "text/x-python",
   "name": "python",
   "nbconvert_exporter": "python",
   "pygments_lexer": "ipython3",
   "version": "3.10.11"
  },
  "toc": {
   "base_numbering": 1,
   "nav_menu": {},
   "number_sections": true,
   "sideBar": true,
   "skip_h1_title": true,
   "title_cell": "Table of Contents",
   "title_sidebar": "Contents",
   "toc_cell": false,
   "toc_position": {},
   "toc_section_display": true,
   "toc_window_display": false
  }
 },
 "nbformat": 4,
 "nbformat_minor": 2
}
