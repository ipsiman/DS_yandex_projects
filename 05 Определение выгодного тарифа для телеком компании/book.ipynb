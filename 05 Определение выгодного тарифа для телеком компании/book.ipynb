{
 "cells": [
  {
   "cell_type": "markdown",
   "metadata": {},
   "source": [
    "# Определение перспективного тарифа для телеком-компании\n",
    "\n",
    "«Мегалайн» — федеральный оператор сотовой связи. Клиентам предлагают два тарифных плана: «Смарт» и «Ультра». Чтобы скорректировать рекламный бюджет, коммерческий департамент хочет понять, какой тариф приносит больше денег.\n",
    "\n",
    "Предстоит сделать предварительный анализ тарифов на небольшой выборке клиентов. В распоряжении данные 500 пользователей «Мегалайна»: кто они, откуда, каким тарифом пользуются, сколько звонков и сообщений каждый отправил за 2018 год. Нужно проанализировать поведение клиентов и сделать вывод — какой тариф лучше.\n",
    "\n",
    "Описание тарифов:\n",
    "- Тариф «Смарт». Ежемесячная плата: 550 рублей\n",
    "Включено 500 минут разговора, 50 сообщений и 15 Гб интернет-трафика. Стоимость услуг сверх тарифного пакета: минута разговора - 3 рубля, сообщение - 3 рубля, 1 Гб интернет-трафика - 200 рублей.\n",
    "\n",
    "- Тариф «Ультра». Ежемесячная плата: 1950 рублей\n",
    "Включено 3000 минут разговора, 1000 сообщений и 30 Гб интернет-трафика. Стоимость услуг сверх тарифного пакета: минута разговора - 1 рубль, сообщение - 1 рубль, 1 Гб интернет-трафика - 150 рублей."
   ]
  },
  {
   "cell_type": "markdown",
   "metadata": {},
   "source": [
    "Ознакомимся с данными и изучим общую информацию. Проверим и подготовим данные для анализа. Проанализируем поведение клиентов оператора и проверим гипотезы."
   ]
  },
  {
   "cell_type": "markdown",
   "metadata": {
    "id": "3bSlkCsbgFyL"
   },
   "source": [
    "## Изучение файлов с данными\n",
    "\n",
    " "
   ]
  },
  {
   "cell_type": "code",
   "execution_count": 1,
   "metadata": {
    "id": "dw87FlzMgFyM"
   },
   "outputs": [],
   "source": [
    "import pandas as pd\n",
    "import numpy as np\n",
    "from scipy import stats as st\n",
    "import matplotlib.pyplot as plt\n",
    "import seaborn as sns"
   ]
  },
  {
   "cell_type": "code",
   "execution_count": 2,
   "metadata": {},
   "outputs": [],
   "source": [
    "df_calls = pd.read_csv('/datasets/calls.csv')\n",
    "df_internet = pd.read_csv('/datasets/internet.csv')\n",
    "df_messages = pd.read_csv('/datasets/messages.csv')\n",
    "df_tariffs = pd.read_csv('/datasets/tariffs.csv')\n",
    "df_users = pd.read_csv('/datasets/users.csv')"
   ]
  },
  {
   "cell_type": "code",
   "execution_count": 3,
   "metadata": {},
   "outputs": [],
   "source": [
    "pd.options.display.float_format = '{:,.2f}'.format"
   ]
  },
  {
   "cell_type": "code",
   "execution_count": 4,
   "metadata": {
    "scrolled": false
   },
   "outputs": [
    {
     "name": "stdout",
     "output_type": "stream",
     "text": [
      "<class 'pandas.core.frame.DataFrame'>\n",
      "RangeIndex: 202607 entries, 0 to 202606\n",
      "Data columns (total 4 columns):\n",
      " #   Column     Non-Null Count   Dtype  \n",
      "---  ------     --------------   -----  \n",
      " 0   id         202607 non-null  object \n",
      " 1   call_date  202607 non-null  object \n",
      " 2   duration   202607 non-null  float64\n",
      " 3   user_id    202607 non-null  int64  \n",
      "dtypes: float64(1), int64(1), object(2)\n",
      "memory usage: 6.2+ MB\n"
     ]
    },
    {
     "data": {
      "text/html": [
       "<div>\n",
       "<style scoped>\n",
       "    .dataframe tbody tr th:only-of-type {\n",
       "        vertical-align: middle;\n",
       "    }\n",
       "\n",
       "    .dataframe tbody tr th {\n",
       "        vertical-align: top;\n",
       "    }\n",
       "\n",
       "    .dataframe thead th {\n",
       "        text-align: right;\n",
       "    }\n",
       "</style>\n",
       "<table border=\"1\" class=\"dataframe\">\n",
       "  <thead>\n",
       "    <tr style=\"text-align: right;\">\n",
       "      <th></th>\n",
       "      <th>id</th>\n",
       "      <th>call_date</th>\n",
       "      <th>duration</th>\n",
       "      <th>user_id</th>\n",
       "    </tr>\n",
       "  </thead>\n",
       "  <tbody>\n",
       "    <tr>\n",
       "      <th>0</th>\n",
       "      <td>1000_0</td>\n",
       "      <td>2018-07-25</td>\n",
       "      <td>0.00</td>\n",
       "      <td>1000</td>\n",
       "    </tr>\n",
       "    <tr>\n",
       "      <th>1</th>\n",
       "      <td>1000_1</td>\n",
       "      <td>2018-08-17</td>\n",
       "      <td>0.00</td>\n",
       "      <td>1000</td>\n",
       "    </tr>\n",
       "    <tr>\n",
       "      <th>2</th>\n",
       "      <td>1000_2</td>\n",
       "      <td>2018-06-11</td>\n",
       "      <td>2.85</td>\n",
       "      <td>1000</td>\n",
       "    </tr>\n",
       "    <tr>\n",
       "      <th>3</th>\n",
       "      <td>1000_3</td>\n",
       "      <td>2018-09-21</td>\n",
       "      <td>13.80</td>\n",
       "      <td>1000</td>\n",
       "    </tr>\n",
       "    <tr>\n",
       "      <th>4</th>\n",
       "      <td>1000_4</td>\n",
       "      <td>2018-12-15</td>\n",
       "      <td>5.18</td>\n",
       "      <td>1000</td>\n",
       "    </tr>\n",
       "  </tbody>\n",
       "</table>\n",
       "</div>"
      ],
      "text/plain": [
       "       id   call_date  duration  user_id\n",
       "0  1000_0  2018-07-25      0.00     1000\n",
       "1  1000_1  2018-08-17      0.00     1000\n",
       "2  1000_2  2018-06-11      2.85     1000\n",
       "3  1000_3  2018-09-21     13.80     1000\n",
       "4  1000_4  2018-12-15      5.18     1000"
      ]
     },
     "metadata": {},
     "output_type": "display_data"
    },
    {
     "data": {
      "text/html": [
       "<div>\n",
       "<style scoped>\n",
       "    .dataframe tbody tr th:only-of-type {\n",
       "        vertical-align: middle;\n",
       "    }\n",
       "\n",
       "    .dataframe tbody tr th {\n",
       "        vertical-align: top;\n",
       "    }\n",
       "\n",
       "    .dataframe thead th {\n",
       "        text-align: right;\n",
       "    }\n",
       "</style>\n",
       "<table border=\"1\" class=\"dataframe\">\n",
       "  <thead>\n",
       "    <tr style=\"text-align: right;\">\n",
       "      <th></th>\n",
       "      <th>duration</th>\n",
       "      <th>user_id</th>\n",
       "    </tr>\n",
       "  </thead>\n",
       "  <tbody>\n",
       "    <tr>\n",
       "      <th>count</th>\n",
       "      <td>202,607.00</td>\n",
       "      <td>202,607.00</td>\n",
       "    </tr>\n",
       "    <tr>\n",
       "      <th>mean</th>\n",
       "      <td>6.76</td>\n",
       "      <td>1,253.94</td>\n",
       "    </tr>\n",
       "    <tr>\n",
       "      <th>std</th>\n",
       "      <td>5.84</td>\n",
       "      <td>144.72</td>\n",
       "    </tr>\n",
       "    <tr>\n",
       "      <th>min</th>\n",
       "      <td>0.00</td>\n",
       "      <td>1,000.00</td>\n",
       "    </tr>\n",
       "    <tr>\n",
       "      <th>25%</th>\n",
       "      <td>1.30</td>\n",
       "      <td>1,126.00</td>\n",
       "    </tr>\n",
       "    <tr>\n",
       "      <th>50%</th>\n",
       "      <td>6.00</td>\n",
       "      <td>1,260.00</td>\n",
       "    </tr>\n",
       "    <tr>\n",
       "      <th>75%</th>\n",
       "      <td>10.70</td>\n",
       "      <td>1,379.00</td>\n",
       "    </tr>\n",
       "    <tr>\n",
       "      <th>max</th>\n",
       "      <td>38.00</td>\n",
       "      <td>1,499.00</td>\n",
       "    </tr>\n",
       "  </tbody>\n",
       "</table>\n",
       "</div>"
      ],
      "text/plain": [
       "        duration    user_id\n",
       "count 202,607.00 202,607.00\n",
       "mean        6.76   1,253.94\n",
       "std         5.84     144.72\n",
       "min         0.00   1,000.00\n",
       "25%         1.30   1,126.00\n",
       "50%         6.00   1,260.00\n",
       "75%        10.70   1,379.00\n",
       "max        38.00   1,499.00"
      ]
     },
     "metadata": {},
     "output_type": "display_data"
    }
   ],
   "source": [
    "df_calls.info()\n",
    "display(df_calls.head())\n",
    "display(df_calls.describe())"
   ]
  },
  {
   "cell_type": "code",
   "execution_count": 5,
   "metadata": {
    "scrolled": false
   },
   "outputs": [
    {
     "name": "stdout",
     "output_type": "stream",
     "text": [
      "<class 'pandas.core.frame.DataFrame'>\n",
      "RangeIndex: 149396 entries, 0 to 149395\n",
      "Data columns (total 5 columns):\n",
      " #   Column        Non-Null Count   Dtype  \n",
      "---  ------        --------------   -----  \n",
      " 0   Unnamed: 0    149396 non-null  int64  \n",
      " 1   id            149396 non-null  object \n",
      " 2   mb_used       149396 non-null  float64\n",
      " 3   session_date  149396 non-null  object \n",
      " 4   user_id       149396 non-null  int64  \n",
      "dtypes: float64(1), int64(2), object(2)\n",
      "memory usage: 5.7+ MB\n"
     ]
    },
    {
     "data": {
      "text/html": [
       "<div>\n",
       "<style scoped>\n",
       "    .dataframe tbody tr th:only-of-type {\n",
       "        vertical-align: middle;\n",
       "    }\n",
       "\n",
       "    .dataframe tbody tr th {\n",
       "        vertical-align: top;\n",
       "    }\n",
       "\n",
       "    .dataframe thead th {\n",
       "        text-align: right;\n",
       "    }\n",
       "</style>\n",
       "<table border=\"1\" class=\"dataframe\">\n",
       "  <thead>\n",
       "    <tr style=\"text-align: right;\">\n",
       "      <th></th>\n",
       "      <th>Unnamed: 0</th>\n",
       "      <th>id</th>\n",
       "      <th>mb_used</th>\n",
       "      <th>session_date</th>\n",
       "      <th>user_id</th>\n",
       "    </tr>\n",
       "  </thead>\n",
       "  <tbody>\n",
       "    <tr>\n",
       "      <th>0</th>\n",
       "      <td>0</td>\n",
       "      <td>1000_0</td>\n",
       "      <td>112.95</td>\n",
       "      <td>2018-11-25</td>\n",
       "      <td>1000</td>\n",
       "    </tr>\n",
       "    <tr>\n",
       "      <th>1</th>\n",
       "      <td>1</td>\n",
       "      <td>1000_1</td>\n",
       "      <td>1,052.81</td>\n",
       "      <td>2018-09-07</td>\n",
       "      <td>1000</td>\n",
       "    </tr>\n",
       "    <tr>\n",
       "      <th>2</th>\n",
       "      <td>2</td>\n",
       "      <td>1000_2</td>\n",
       "      <td>1,197.26</td>\n",
       "      <td>2018-06-25</td>\n",
       "      <td>1000</td>\n",
       "    </tr>\n",
       "    <tr>\n",
       "      <th>3</th>\n",
       "      <td>3</td>\n",
       "      <td>1000_3</td>\n",
       "      <td>550.27</td>\n",
       "      <td>2018-08-22</td>\n",
       "      <td>1000</td>\n",
       "    </tr>\n",
       "    <tr>\n",
       "      <th>4</th>\n",
       "      <td>4</td>\n",
       "      <td>1000_4</td>\n",
       "      <td>302.56</td>\n",
       "      <td>2018-09-24</td>\n",
       "      <td>1000</td>\n",
       "    </tr>\n",
       "  </tbody>\n",
       "</table>\n",
       "</div>"
      ],
      "text/plain": [
       "   Unnamed: 0      id  mb_used session_date  user_id\n",
       "0           0  1000_0   112.95   2018-11-25     1000\n",
       "1           1  1000_1 1,052.81   2018-09-07     1000\n",
       "2           2  1000_2 1,197.26   2018-06-25     1000\n",
       "3           3  1000_3   550.27   2018-08-22     1000\n",
       "4           4  1000_4   302.56   2018-09-24     1000"
      ]
     },
     "metadata": {},
     "output_type": "display_data"
    },
    {
     "data": {
      "text/html": [
       "<div>\n",
       "<style scoped>\n",
       "    .dataframe tbody tr th:only-of-type {\n",
       "        vertical-align: middle;\n",
       "    }\n",
       "\n",
       "    .dataframe tbody tr th {\n",
       "        vertical-align: top;\n",
       "    }\n",
       "\n",
       "    .dataframe thead th {\n",
       "        text-align: right;\n",
       "    }\n",
       "</style>\n",
       "<table border=\"1\" class=\"dataframe\">\n",
       "  <thead>\n",
       "    <tr style=\"text-align: right;\">\n",
       "      <th></th>\n",
       "      <th>Unnamed: 0</th>\n",
       "      <th>mb_used</th>\n",
       "      <th>user_id</th>\n",
       "    </tr>\n",
       "  </thead>\n",
       "  <tbody>\n",
       "    <tr>\n",
       "      <th>count</th>\n",
       "      <td>149,396.00</td>\n",
       "      <td>149,396.00</td>\n",
       "      <td>149,396.00</td>\n",
       "    </tr>\n",
       "    <tr>\n",
       "      <th>mean</th>\n",
       "      <td>74,697.50</td>\n",
       "      <td>370.19</td>\n",
       "      <td>1,252.10</td>\n",
       "    </tr>\n",
       "    <tr>\n",
       "      <th>std</th>\n",
       "      <td>43,127.05</td>\n",
       "      <td>278.30</td>\n",
       "      <td>144.05</td>\n",
       "    </tr>\n",
       "    <tr>\n",
       "      <th>min</th>\n",
       "      <td>0.00</td>\n",
       "      <td>0.00</td>\n",
       "      <td>1,000.00</td>\n",
       "    </tr>\n",
       "    <tr>\n",
       "      <th>25%</th>\n",
       "      <td>37,348.75</td>\n",
       "      <td>138.19</td>\n",
       "      <td>1,130.00</td>\n",
       "    </tr>\n",
       "    <tr>\n",
       "      <th>50%</th>\n",
       "      <td>74,697.50</td>\n",
       "      <td>348.01</td>\n",
       "      <td>1,251.00</td>\n",
       "    </tr>\n",
       "    <tr>\n",
       "      <th>75%</th>\n",
       "      <td>112,046.25</td>\n",
       "      <td>559.55</td>\n",
       "      <td>1,380.00</td>\n",
       "    </tr>\n",
       "    <tr>\n",
       "      <th>max</th>\n",
       "      <td>149,395.00</td>\n",
       "      <td>1,724.83</td>\n",
       "      <td>1,499.00</td>\n",
       "    </tr>\n",
       "  </tbody>\n",
       "</table>\n",
       "</div>"
      ],
      "text/plain": [
       "       Unnamed: 0    mb_used    user_id\n",
       "count  149,396.00 149,396.00 149,396.00\n",
       "mean    74,697.50     370.19   1,252.10\n",
       "std     43,127.05     278.30     144.05\n",
       "min          0.00       0.00   1,000.00\n",
       "25%     37,348.75     138.19   1,130.00\n",
       "50%     74,697.50     348.01   1,251.00\n",
       "75%    112,046.25     559.55   1,380.00\n",
       "max    149,395.00   1,724.83   1,499.00"
      ]
     },
     "metadata": {},
     "output_type": "display_data"
    }
   ],
   "source": [
    "df_internet.info()\n",
    "display(df_internet.head())\n",
    "display(df_internet.describe())"
   ]
  },
  {
   "cell_type": "code",
   "execution_count": 6,
   "metadata": {},
   "outputs": [
    {
     "name": "stdout",
     "output_type": "stream",
     "text": [
      "<class 'pandas.core.frame.DataFrame'>\n",
      "RangeIndex: 123036 entries, 0 to 123035\n",
      "Data columns (total 3 columns):\n",
      " #   Column        Non-Null Count   Dtype \n",
      "---  ------        --------------   ----- \n",
      " 0   id            123036 non-null  object\n",
      " 1   message_date  123036 non-null  object\n",
      " 2   user_id       123036 non-null  int64 \n",
      "dtypes: int64(1), object(2)\n",
      "memory usage: 2.8+ MB\n"
     ]
    },
    {
     "data": {
      "text/html": [
       "<div>\n",
       "<style scoped>\n",
       "    .dataframe tbody tr th:only-of-type {\n",
       "        vertical-align: middle;\n",
       "    }\n",
       "\n",
       "    .dataframe tbody tr th {\n",
       "        vertical-align: top;\n",
       "    }\n",
       "\n",
       "    .dataframe thead th {\n",
       "        text-align: right;\n",
       "    }\n",
       "</style>\n",
       "<table border=\"1\" class=\"dataframe\">\n",
       "  <thead>\n",
       "    <tr style=\"text-align: right;\">\n",
       "      <th></th>\n",
       "      <th>id</th>\n",
       "      <th>message_date</th>\n",
       "      <th>user_id</th>\n",
       "    </tr>\n",
       "  </thead>\n",
       "  <tbody>\n",
       "    <tr>\n",
       "      <th>0</th>\n",
       "      <td>1000_0</td>\n",
       "      <td>2018-06-27</td>\n",
       "      <td>1000</td>\n",
       "    </tr>\n",
       "    <tr>\n",
       "      <th>1</th>\n",
       "      <td>1000_1</td>\n",
       "      <td>2018-10-08</td>\n",
       "      <td>1000</td>\n",
       "    </tr>\n",
       "    <tr>\n",
       "      <th>2</th>\n",
       "      <td>1000_2</td>\n",
       "      <td>2018-08-04</td>\n",
       "      <td>1000</td>\n",
       "    </tr>\n",
       "    <tr>\n",
       "      <th>3</th>\n",
       "      <td>1000_3</td>\n",
       "      <td>2018-06-16</td>\n",
       "      <td>1000</td>\n",
       "    </tr>\n",
       "    <tr>\n",
       "      <th>4</th>\n",
       "      <td>1000_4</td>\n",
       "      <td>2018-12-05</td>\n",
       "      <td>1000</td>\n",
       "    </tr>\n",
       "  </tbody>\n",
       "</table>\n",
       "</div>"
      ],
      "text/plain": [
       "       id message_date  user_id\n",
       "0  1000_0   2018-06-27     1000\n",
       "1  1000_1   2018-10-08     1000\n",
       "2  1000_2   2018-08-04     1000\n",
       "3  1000_3   2018-06-16     1000\n",
       "4  1000_4   2018-12-05     1000"
      ]
     },
     "execution_count": 6,
     "metadata": {},
     "output_type": "execute_result"
    }
   ],
   "source": [
    "df_messages.info()\n",
    "df_messages.head()"
   ]
  },
  {
   "cell_type": "code",
   "execution_count": 7,
   "metadata": {},
   "outputs": [
    {
     "name": "stdout",
     "output_type": "stream",
     "text": [
      "<class 'pandas.core.frame.DataFrame'>\n",
      "RangeIndex: 2 entries, 0 to 1\n",
      "Data columns (total 8 columns):\n",
      " #   Column                 Non-Null Count  Dtype \n",
      "---  ------                 --------------  ----- \n",
      " 0   messages_included      2 non-null      int64 \n",
      " 1   mb_per_month_included  2 non-null      int64 \n",
      " 2   minutes_included       2 non-null      int64 \n",
      " 3   rub_monthly_fee        2 non-null      int64 \n",
      " 4   rub_per_gb             2 non-null      int64 \n",
      " 5   rub_per_message        2 non-null      int64 \n",
      " 6   rub_per_minute         2 non-null      int64 \n",
      " 7   tariff_name            2 non-null      object\n",
      "dtypes: int64(7), object(1)\n",
      "memory usage: 256.0+ bytes\n"
     ]
    },
    {
     "data": {
      "text/html": [
       "<div>\n",
       "<style scoped>\n",
       "    .dataframe tbody tr th:only-of-type {\n",
       "        vertical-align: middle;\n",
       "    }\n",
       "\n",
       "    .dataframe tbody tr th {\n",
       "        vertical-align: top;\n",
       "    }\n",
       "\n",
       "    .dataframe thead th {\n",
       "        text-align: right;\n",
       "    }\n",
       "</style>\n",
       "<table border=\"1\" class=\"dataframe\">\n",
       "  <thead>\n",
       "    <tr style=\"text-align: right;\">\n",
       "      <th></th>\n",
       "      <th>messages_included</th>\n",
       "      <th>mb_per_month_included</th>\n",
       "      <th>minutes_included</th>\n",
       "      <th>rub_monthly_fee</th>\n",
       "      <th>rub_per_gb</th>\n",
       "      <th>rub_per_message</th>\n",
       "      <th>rub_per_minute</th>\n",
       "      <th>tariff_name</th>\n",
       "    </tr>\n",
       "  </thead>\n",
       "  <tbody>\n",
       "    <tr>\n",
       "      <th>0</th>\n",
       "      <td>50</td>\n",
       "      <td>15360</td>\n",
       "      <td>500</td>\n",
       "      <td>550</td>\n",
       "      <td>200</td>\n",
       "      <td>3</td>\n",
       "      <td>3</td>\n",
       "      <td>smart</td>\n",
       "    </tr>\n",
       "    <tr>\n",
       "      <th>1</th>\n",
       "      <td>1000</td>\n",
       "      <td>30720</td>\n",
       "      <td>3000</td>\n",
       "      <td>1950</td>\n",
       "      <td>150</td>\n",
       "      <td>1</td>\n",
       "      <td>1</td>\n",
       "      <td>ultra</td>\n",
       "    </tr>\n",
       "  </tbody>\n",
       "</table>\n",
       "</div>"
      ],
      "text/plain": [
       "   messages_included  mb_per_month_included  minutes_included  \\\n",
       "0                 50                  15360               500   \n",
       "1               1000                  30720              3000   \n",
       "\n",
       "   rub_monthly_fee  rub_per_gb  rub_per_message  rub_per_minute tariff_name  \n",
       "0              550         200                3               3       smart  \n",
       "1             1950         150                1               1       ultra  "
      ]
     },
     "execution_count": 7,
     "metadata": {},
     "output_type": "execute_result"
    }
   ],
   "source": [
    "df_tariffs.info()\n",
    "df_tariffs.head()"
   ]
  },
  {
   "cell_type": "code",
   "execution_count": 8,
   "metadata": {},
   "outputs": [
    {
     "name": "stdout",
     "output_type": "stream",
     "text": [
      "<class 'pandas.core.frame.DataFrame'>\n",
      "RangeIndex: 500 entries, 0 to 499\n",
      "Data columns (total 8 columns):\n",
      " #   Column      Non-Null Count  Dtype \n",
      "---  ------      --------------  ----- \n",
      " 0   user_id     500 non-null    int64 \n",
      " 1   age         500 non-null    int64 \n",
      " 2   churn_date  38 non-null     object\n",
      " 3   city        500 non-null    object\n",
      " 4   first_name  500 non-null    object\n",
      " 5   last_name   500 non-null    object\n",
      " 6   reg_date    500 non-null    object\n",
      " 7   tariff      500 non-null    object\n",
      "dtypes: int64(2), object(6)\n",
      "memory usage: 31.4+ KB\n"
     ]
    },
    {
     "data": {
      "text/html": [
       "<div>\n",
       "<style scoped>\n",
       "    .dataframe tbody tr th:only-of-type {\n",
       "        vertical-align: middle;\n",
       "    }\n",
       "\n",
       "    .dataframe tbody tr th {\n",
       "        vertical-align: top;\n",
       "    }\n",
       "\n",
       "    .dataframe thead th {\n",
       "        text-align: right;\n",
       "    }\n",
       "</style>\n",
       "<table border=\"1\" class=\"dataframe\">\n",
       "  <thead>\n",
       "    <tr style=\"text-align: right;\">\n",
       "      <th></th>\n",
       "      <th>user_id</th>\n",
       "      <th>age</th>\n",
       "      <th>churn_date</th>\n",
       "      <th>city</th>\n",
       "      <th>first_name</th>\n",
       "      <th>last_name</th>\n",
       "      <th>reg_date</th>\n",
       "      <th>tariff</th>\n",
       "    </tr>\n",
       "  </thead>\n",
       "  <tbody>\n",
       "    <tr>\n",
       "      <th>0</th>\n",
       "      <td>1000</td>\n",
       "      <td>52</td>\n",
       "      <td>NaN</td>\n",
       "      <td>Краснодар</td>\n",
       "      <td>Рафаил</td>\n",
       "      <td>Верещагин</td>\n",
       "      <td>2018-05-25</td>\n",
       "      <td>ultra</td>\n",
       "    </tr>\n",
       "    <tr>\n",
       "      <th>1</th>\n",
       "      <td>1001</td>\n",
       "      <td>41</td>\n",
       "      <td>NaN</td>\n",
       "      <td>Москва</td>\n",
       "      <td>Иван</td>\n",
       "      <td>Ежов</td>\n",
       "      <td>2018-11-01</td>\n",
       "      <td>smart</td>\n",
       "    </tr>\n",
       "    <tr>\n",
       "      <th>2</th>\n",
       "      <td>1002</td>\n",
       "      <td>59</td>\n",
       "      <td>NaN</td>\n",
       "      <td>Стерлитамак</td>\n",
       "      <td>Евгений</td>\n",
       "      <td>Абрамович</td>\n",
       "      <td>2018-06-17</td>\n",
       "      <td>smart</td>\n",
       "    </tr>\n",
       "    <tr>\n",
       "      <th>3</th>\n",
       "      <td>1003</td>\n",
       "      <td>23</td>\n",
       "      <td>NaN</td>\n",
       "      <td>Москва</td>\n",
       "      <td>Белла</td>\n",
       "      <td>Белякова</td>\n",
       "      <td>2018-08-17</td>\n",
       "      <td>ultra</td>\n",
       "    </tr>\n",
       "    <tr>\n",
       "      <th>4</th>\n",
       "      <td>1004</td>\n",
       "      <td>68</td>\n",
       "      <td>NaN</td>\n",
       "      <td>Новокузнецк</td>\n",
       "      <td>Татьяна</td>\n",
       "      <td>Авдеенко</td>\n",
       "      <td>2018-05-14</td>\n",
       "      <td>ultra</td>\n",
       "    </tr>\n",
       "  </tbody>\n",
       "</table>\n",
       "</div>"
      ],
      "text/plain": [
       "   user_id  age churn_date         city first_name  last_name    reg_date  \\\n",
       "0     1000   52        NaN    Краснодар     Рафаил  Верещагин  2018-05-25   \n",
       "1     1001   41        NaN       Москва       Иван       Ежов  2018-11-01   \n",
       "2     1002   59        NaN  Стерлитамак    Евгений  Абрамович  2018-06-17   \n",
       "3     1003   23        NaN       Москва      Белла   Белякова  2018-08-17   \n",
       "4     1004   68        NaN  Новокузнецк    Татьяна   Авдеенко  2018-05-14   \n",
       "\n",
       "  tariff  \n",
       "0  ultra  \n",
       "1  smart  \n",
       "2  smart  \n",
       "3  ultra  \n",
       "4  ultra  "
      ]
     },
     "metadata": {},
     "output_type": "display_data"
    }
   ],
   "source": [
    "df_users.info()\n",
    "display(df_users.head())"
   ]
  },
  {
   "cell_type": "markdown",
   "metadata": {},
   "source": [
    "На первый взгляд с данными все в порядке. В числовых значениях среднее и медиана не сильно отличаются, минусовые значения отсутствуют."
   ]
  },
  {
   "cell_type": "markdown",
   "metadata": {
    "id": "KLDGpPG0gFyM"
   },
   "source": [
    "## Предобработка данных"
   ]
  },
  {
   "cell_type": "markdown",
   "metadata": {},
   "source": [
    "В таблице `df_internet` есть лишняя колонка `Unnamed: 0` с номерами строк. Удалим ее."
   ]
  },
  {
   "cell_type": "code",
   "execution_count": 9,
   "metadata": {},
   "outputs": [],
   "source": [
    "df_internet.drop(columns='Unnamed: 0', axis = 1, inplace=True)"
   ]
  },
  {
   "cell_type": "code",
   "execution_count": 10,
   "metadata": {},
   "outputs": [
    {
     "name": "stdout",
     "output_type": "stream",
     "text": [
      "<class 'pandas.core.frame.DataFrame'>\n",
      "RangeIndex: 149396 entries, 0 to 149395\n",
      "Data columns (total 4 columns):\n",
      " #   Column        Non-Null Count   Dtype  \n",
      "---  ------        --------------   -----  \n",
      " 0   id            149396 non-null  object \n",
      " 1   mb_used       149396 non-null  float64\n",
      " 2   session_date  149396 non-null  object \n",
      " 3   user_id       149396 non-null  int64  \n",
      "dtypes: float64(1), int64(1), object(2)\n",
      "memory usage: 4.6+ MB\n"
     ]
    }
   ],
   "source": [
    "df_internet.info()"
   ]
  },
  {
   "cell_type": "markdown",
   "metadata": {
    "id": "ssWwKXsxgFyO"
   },
   "source": [
    "### Проверка типов данных\n",
    "\n",
    "Проверим типы данных в датафрейме и преобразуем их там, где это необходимо."
   ]
  },
  {
   "cell_type": "markdown",
   "metadata": {},
   "source": [
    "Приведем `дату` к нормальному типу во всех таблицах."
   ]
  },
  {
   "cell_type": "code",
   "execution_count": 11,
   "metadata": {},
   "outputs": [],
   "source": [
    "df_calls['call_date'] = pd.to_datetime(df_calls['call_date'], format='%Y-%m-%d')"
   ]
  },
  {
   "cell_type": "code",
   "execution_count": 12,
   "metadata": {},
   "outputs": [],
   "source": [
    "df_internet['session_date'] = pd.to_datetime(df_internet['session_date'], format='%Y-%m-%d')"
   ]
  },
  {
   "cell_type": "code",
   "execution_count": 13,
   "metadata": {},
   "outputs": [],
   "source": [
    "df_messages['message_date'] = pd.to_datetime(df_messages['message_date'], format='%Y-%m-%d')"
   ]
  },
  {
   "cell_type": "code",
   "execution_count": 14,
   "metadata": {},
   "outputs": [],
   "source": [
    "df_users['reg_date'] = pd.to_datetime(df_users['reg_date'], format='%Y-%m-%d')\n",
    "df_users['churn_date'] = pd.to_datetime(df_users['churn_date'], format='%Y-%m-%d')"
   ]
  },
  {
   "cell_type": "markdown",
   "metadata": {},
   "source": [
    "Привели даты к нормальному типу. Остальные типы данных имеют правильный тип."
   ]
  },
  {
   "cell_type": "markdown",
   "metadata": {
    "id": "i0MOLbF-gFyP"
   },
   "source": [
    "### Пропуски в датафрейме\n",
    "\n",
    "Проверим данные на пропуски."
   ]
  },
  {
   "cell_type": "code",
   "execution_count": 15,
   "metadata": {},
   "outputs": [
    {
     "data": {
      "text/plain": [
       "id           0\n",
       "call_date    0\n",
       "duration     0\n",
       "user_id      0\n",
       "dtype: int64"
      ]
     },
     "execution_count": 15,
     "metadata": {},
     "output_type": "execute_result"
    }
   ],
   "source": [
    "df_calls.isna().sum()"
   ]
  },
  {
   "cell_type": "code",
   "execution_count": 16,
   "metadata": {},
   "outputs": [
    {
     "data": {
      "text/plain": [
       "id              0\n",
       "mb_used         0\n",
       "session_date    0\n",
       "user_id         0\n",
       "dtype: int64"
      ]
     },
     "execution_count": 16,
     "metadata": {},
     "output_type": "execute_result"
    }
   ],
   "source": [
    "df_internet.isna().sum()"
   ]
  },
  {
   "cell_type": "code",
   "execution_count": 17,
   "metadata": {},
   "outputs": [
    {
     "data": {
      "text/plain": [
       "id              0\n",
       "message_date    0\n",
       "user_id         0\n",
       "dtype: int64"
      ]
     },
     "execution_count": 17,
     "metadata": {},
     "output_type": "execute_result"
    }
   ],
   "source": [
    "df_messages.isna().sum()"
   ]
  },
  {
   "cell_type": "code",
   "execution_count": 18,
   "metadata": {},
   "outputs": [
    {
     "data": {
      "text/plain": [
       "user_id         0\n",
       "age             0\n",
       "churn_date    462\n",
       "city            0\n",
       "first_name      0\n",
       "last_name       0\n",
       "reg_date        0\n",
       "tariff          0\n",
       "dtype: int64"
      ]
     },
     "execution_count": 18,
     "metadata": {},
     "output_type": "execute_result"
    }
   ],
   "source": [
    "df_users.isna().sum()"
   ]
  },
  {
   "cell_type": "markdown",
   "metadata": {},
   "source": [
    "Пропуски есть только в `churn_date` — дата прекращения пользования тарифом. Нам эти данные не нужны для анализа, оставим как есть."
   ]
  },
  {
   "cell_type": "markdown",
   "metadata": {
    "id": "4c6k1t9ygFyQ"
   },
   "source": [
    "### Дубликаты в датафрейме\n",
    "Проверим, есть ли в данных дубликаты."
   ]
  },
  {
   "cell_type": "code",
   "execution_count": 19,
   "metadata": {
    "scrolled": true
   },
   "outputs": [
    {
     "data": {
      "text/plain": [
       "0"
      ]
     },
     "execution_count": 19,
     "metadata": {},
     "output_type": "execute_result"
    }
   ],
   "source": [
    "df_calls.duplicated().sum()"
   ]
  },
  {
   "cell_type": "code",
   "execution_count": 20,
   "metadata": {},
   "outputs": [
    {
     "data": {
      "text/plain": [
       "0"
      ]
     },
     "execution_count": 20,
     "metadata": {},
     "output_type": "execute_result"
    }
   ],
   "source": [
    "df_internet.duplicated().sum()"
   ]
  },
  {
   "cell_type": "code",
   "execution_count": 21,
   "metadata": {},
   "outputs": [
    {
     "data": {
      "text/plain": [
       "0"
      ]
     },
     "execution_count": 21,
     "metadata": {},
     "output_type": "execute_result"
    }
   ],
   "source": [
    "df_messages.duplicated().sum()"
   ]
  },
  {
   "cell_type": "code",
   "execution_count": 22,
   "metadata": {},
   "outputs": [
    {
     "data": {
      "text/plain": [
       "0"
      ]
     },
     "execution_count": 22,
     "metadata": {},
     "output_type": "execute_result"
    }
   ],
   "source": [
    "df_users.duplicated().sum()"
   ]
  },
  {
   "cell_type": "markdown",
   "metadata": {},
   "source": [
    "Явные дубликаты в данных отсутствуют."
   ]
  },
  {
   "cell_type": "markdown",
   "metadata": {
    "id": "52fOPrEBgFyQ"
   },
   "source": [
    "### Проверка значений\n",
    "\n",
    "Проверим данные на ошибки и неявные дубликаты."
   ]
  },
  {
   "cell_type": "code",
   "execution_count": 23,
   "metadata": {},
   "outputs": [
    {
     "data": {
      "text/html": [
       "<div>\n",
       "<style scoped>\n",
       "    .dataframe tbody tr th:only-of-type {\n",
       "        vertical-align: middle;\n",
       "    }\n",
       "\n",
       "    .dataframe tbody tr th {\n",
       "        vertical-align: top;\n",
       "    }\n",
       "\n",
       "    .dataframe thead th {\n",
       "        text-align: right;\n",
       "    }\n",
       "</style>\n",
       "<table border=\"1\" class=\"dataframe\">\n",
       "  <thead>\n",
       "    <tr style=\"text-align: right;\">\n",
       "      <th></th>\n",
       "      <th>user_id</th>\n",
       "      <th>age</th>\n",
       "      <th>churn_date</th>\n",
       "      <th>city</th>\n",
       "      <th>first_name</th>\n",
       "      <th>last_name</th>\n",
       "      <th>reg_date</th>\n",
       "      <th>tariff</th>\n",
       "    </tr>\n",
       "  </thead>\n",
       "  <tbody>\n",
       "    <tr>\n",
       "      <th>0</th>\n",
       "      <td>1000</td>\n",
       "      <td>52</td>\n",
       "      <td>NaT</td>\n",
       "      <td>Краснодар</td>\n",
       "      <td>Рафаил</td>\n",
       "      <td>Верещагин</td>\n",
       "      <td>2018-05-25</td>\n",
       "      <td>ultra</td>\n",
       "    </tr>\n",
       "    <tr>\n",
       "      <th>1</th>\n",
       "      <td>1001</td>\n",
       "      <td>41</td>\n",
       "      <td>NaT</td>\n",
       "      <td>Москва</td>\n",
       "      <td>Иван</td>\n",
       "      <td>Ежов</td>\n",
       "      <td>2018-11-01</td>\n",
       "      <td>smart</td>\n",
       "    </tr>\n",
       "    <tr>\n",
       "      <th>2</th>\n",
       "      <td>1002</td>\n",
       "      <td>59</td>\n",
       "      <td>NaT</td>\n",
       "      <td>Стерлитамак</td>\n",
       "      <td>Евгений</td>\n",
       "      <td>Абрамович</td>\n",
       "      <td>2018-06-17</td>\n",
       "      <td>smart</td>\n",
       "    </tr>\n",
       "  </tbody>\n",
       "</table>\n",
       "</div>"
      ],
      "text/plain": [
       "   user_id  age churn_date         city first_name  last_name   reg_date  \\\n",
       "0     1000   52        NaT    Краснодар     Рафаил  Верещагин 2018-05-25   \n",
       "1     1001   41        NaT       Москва       Иван       Ежов 2018-11-01   \n",
       "2     1002   59        NaT  Стерлитамак    Евгений  Абрамович 2018-06-17   \n",
       "\n",
       "  tariff  \n",
       "0  ultra  \n",
       "1  smart  \n",
       "2  smart  "
      ]
     },
     "metadata": {},
     "output_type": "display_data"
    }
   ],
   "source": [
    "display(df_users.head(3))"
   ]
  },
  {
   "cell_type": "code",
   "execution_count": 24,
   "metadata": {},
   "outputs": [
    {
     "data": {
      "text/plain": [
       "array([52, 41, 59, 23, 68, 67, 21, 65, 63, 24, 26, 44, 38, 36, 64, 58, 73,\n",
       "       71, 61, 72, 42, 56, 32, 62, 20, 51, 28, 66, 31, 37, 47, 40, 69, 48,\n",
       "       33, 39, 43, 46, 45, 55, 53, 34, 49, 25, 18, 70, 50, 19, 54, 60, 29,\n",
       "       27, 74, 22, 30, 75, 57, 35])"
      ]
     },
     "execution_count": 24,
     "metadata": {},
     "output_type": "execute_result"
    }
   ],
   "source": [
    "df_users['age'].unique()"
   ]
  },
  {
   "cell_type": "code",
   "execution_count": 25,
   "metadata": {
    "scrolled": true
   },
   "outputs": [
    {
     "data": {
      "text/plain": [
       "array(['Краснодар', 'Москва', 'Стерлитамак', 'Новокузнецк',\n",
       "       'Набережные Челны', 'Ульяновск', 'Челябинск', 'Пермь', 'Тюмень',\n",
       "       'Самара', 'Санкт-Петербург', 'Иваново', 'Чебоксары', 'Омск', 'Уфа',\n",
       "       'Томск', 'Чита', 'Мурманск', 'Петрозаводск', 'Тверь',\n",
       "       'Екатеринбург', 'Махачкала', 'Вологда', 'Череповец', 'Ярославль',\n",
       "       'Сочи', 'Хабаровск', 'Ставрополь', 'Рязань', 'Улан-Удэ', 'Тула',\n",
       "       'Саратов', 'Ростов-на-Дону', 'Казань', 'Иркутск', 'Курск',\n",
       "       'Калуга', 'Якутск', 'Астрахань', 'Химки', 'Владикавказ',\n",
       "       'Волгоград', 'Саранск', 'Ижевск', 'Новосибирск', 'Брянск',\n",
       "       'Тольятти', 'Нижний Тагил', 'Орёл', 'Белгород', 'Воронеж',\n",
       "       'Волжский', 'Курган', 'Барнаул', 'Красноярск', 'Архангельск',\n",
       "       'Липецк', 'Кемерово', 'Киров', 'Сургут', 'Пенза', 'Магнитогорск',\n",
       "       'Нижний Новгород', 'Кострома', 'Владивосток', 'Тамбов', 'Балашиха',\n",
       "       'Севастополь', 'Калининград', 'Оренбург', 'Смоленск',\n",
       "       'Нижневартовск', 'Владимир', 'Новороссийск', 'Грозный', 'Подольск'],\n",
       "      dtype=object)"
      ]
     },
     "execution_count": 25,
     "metadata": {},
     "output_type": "execute_result"
    }
   ],
   "source": [
    "df_users['city'].unique()"
   ]
  },
  {
   "cell_type": "code",
   "execution_count": 26,
   "metadata": {
    "scrolled": true
   },
   "outputs": [
    {
     "data": {
      "text/plain": [
       "array(['Рафаил', 'Иван', 'Евгений', 'Белла', 'Татьяна', 'Афанасий',\n",
       "       'Леонид', 'Юна', 'Рустэм', 'Василиса', 'Эдуард', 'Веселина',\n",
       "       'Варлам', 'Борис', 'Яков', 'Рузана', 'Марица', 'Мария', 'Матвей',\n",
       "       'Игнатий', 'Тала', 'Святослав', 'Людмила', 'Иулиан', 'Владислав',\n",
       "       'Рустем', 'Алексей', 'Мариетта', 'Лаврентий', 'Инна', 'Лия',\n",
       "       'Розалия', 'Анжелика', 'Изольда', 'Агнесса', 'Юрий', 'Михаил',\n",
       "       'Константин', 'Марианна', 'Иннокентий', 'Джемма', 'Екатерина',\n",
       "       'Милица', 'Лола', 'Габриель', 'Кристина', 'Павел', 'Ренальд',\n",
       "       'Луиза', 'Радислав', 'Динара', 'Лукий', 'Глеб', 'Тамара',\n",
       "       'Александр', 'Таира', 'Роза', 'Исак', 'Юзефа', 'Ким', 'Гордей',\n",
       "       'Эльза', 'Гектор', 'Андрей', 'Рафаэль', 'Фёдор', 'Харитон',\n",
       "       'Еремей', 'Всеволод', 'Софья', 'Авксентий', 'Виолетта', 'Ириней',\n",
       "       'Гелена', 'Ксения', 'Вера', 'Вениамин', 'Вероника', 'Даниэла',\n",
       "       'Алла', 'Элеонора', 'Аюна', 'Руслан', 'Онисим', 'Марта', 'Эльвира',\n",
       "       'Габриэль', 'Исаак', 'Милана', 'Арнольд', 'Маргарита', 'Рашид',\n",
       "       'Альберта', 'Дана', 'Олег', 'Альбин', 'Сабина', 'Яна', 'Анвар',\n",
       "       'Инара', 'Нина', 'Надежда', 'Марьяна', 'Милена', 'Пётр', 'Леся',\n",
       "       'Светлана', 'Клариса', 'Симона', 'Арсен', 'Ефим', 'Юлий',\n",
       "       'Владимир', 'Евдокия', 'Алиса', 'Майя', 'Лариса', 'Марина',\n",
       "       'Валерий', 'Виктория', 'Игорь', 'Эльга', 'Лев', 'Геральд',\n",
       "       'Клавдия', 'Лилия', 'Георгина', 'Вадим', 'Каролина', 'Алан',\n",
       "       'Агафья', 'Лолита', 'Радим', 'Наталья', 'Рем', 'Снежана',\n",
       "       'Мануэла', 'Рэм', 'Виталий', 'Рауль', 'Степан', 'Егор', 'Демьян',\n",
       "       'Агата', 'Геннадий', 'Адам', 'Мирослава', 'Елена', 'Ева',\n",
       "       'Евфросинья', 'Арина', 'Гайдар', 'Артемий', 'Рустам', 'Ермолай',\n",
       "       'Кузьма', 'Рубен', 'Ахмет', 'Раиса', 'Денис', 'Нелли', 'Касьян',\n",
       "       'Сара', 'Роксана', 'Леон', 'Алина', 'Даниил', 'Зинаида', 'Артём',\n",
       "       'Анатолий', 'Лейла', 'Александра', 'Серафима', 'Алевтина',\n",
       "       'Эмилия', 'Мадина', 'Антонина', 'Саида', 'Трофим', 'Аким',\n",
       "       'Мальвина', 'Аурелия', 'Мстислав', 'Аксён', 'Семён', 'Валерия',\n",
       "       'Григорий', 'Таисия', 'Арсений', 'Эдита', 'Дебора', 'Олеся',\n",
       "       'Альфред', 'Тихон', 'Наида', 'Илья', 'Инесса', 'Юлия', 'Рудольф',\n",
       "       'Максим', 'Инга', 'Эсмеральда', 'Дайна', 'Джозефина', 'Тимофей',\n",
       "       'Виктор', 'Валентина', 'Анита', 'Илзе', 'Галина', 'Варвара',\n",
       "       'Анфиса', 'Доминика', 'Лаура', 'Рената', 'Оксана', 'Георгий',\n",
       "       'Лидия', 'Евгения', 'Фаддей', 'Герасим', 'Радомир', 'Ренат',\n",
       "       'Владислава', 'Роберт', 'Элина', 'Станислав', 'Элла', 'Гарри',\n",
       "       'Берта', 'Геодар', 'Эльмира', 'Клара', 'Камилла', 'Джулия',\n",
       "       'Карина', 'Нателла', 'Леонтий', 'Ростислав', 'Ангелина', 'Алёна',\n",
       "       'Ринат', 'Эллада', 'Николай', 'Руслана', 'Трифон'], dtype=object)"
      ]
     },
     "execution_count": 26,
     "metadata": {},
     "output_type": "execute_result"
    }
   ],
   "source": [
    "df_users['first_name'].unique()"
   ]
  },
  {
   "cell_type": "code",
   "execution_count": 27,
   "metadata": {
    "scrolled": true
   },
   "outputs": [
    {
     "data": {
      "text/plain": [
       "array(['Верещагин', 'Ежов', 'Абрамович', 'Белякова', 'Авдеенко', 'Горлов',\n",
       "       'Ермолаев', 'Березина', 'Пономарёв', 'Блинова', 'Кононов',\n",
       "       'Алёшко', 'Соловьев', 'Андреенко', 'Акинфьев', 'Алюшина',\n",
       "       'Сазонова', 'Аленникова', 'Золотов', 'Круглов', 'Костина',\n",
       "       'Тихонов', 'Трофимова', 'Мельникова', 'Антипов', 'Акинин',\n",
       "       'Бородин', 'Авдеев', 'Евсеев', 'Селезнев', 'Русанова', 'Тимофеев',\n",
       "       'Игнатьева', 'Бабушкина', 'Бондарев', 'Аракина', 'Андропова',\n",
       "       'Архипова', 'Денисова', 'Одинцов', 'Кравцов', 'Добрынин',\n",
       "       'Родионова', 'Рябов', 'Карасева', 'Александрова', 'Меркулова',\n",
       "       'Мясникова', 'Ларин', 'Аничкина', 'Сомова', 'Панов', 'Фёдоров',\n",
       "       'Платонова', 'Артемьев', 'Дьячкова', 'Глушков', 'Свиридов',\n",
       "       'Рудаков', 'Ситникова', 'Коршунов', 'Климова', 'Алфеева',\n",
       "       'Игнатова', 'Малахов', 'Абашкина', 'Демьянов', 'Кочетов',\n",
       "       'Селиванова', 'Чумаков', 'Андрейкин', 'Павловский', 'Никулин',\n",
       "       'Шарапов', 'Кольцова', 'Литвинов', 'Авроров', 'Игнатьев',\n",
       "       'Терехова', 'Малышев', 'Галкин', 'Спиридонова', 'Дорофеева',\n",
       "       'Аксёнов', 'Абалакова', 'Нечаева', 'Астафьева', 'Суслова',\n",
       "       'Амельченко', 'Лапина', 'Пугачева', 'Кабанова', 'Кулешова',\n",
       "       'Озерова', 'Сергеева', 'Красильников', 'Колобов', 'Королькова',\n",
       "       'Лобанова', 'Поляков', 'Рыбакова', 'Костин', 'Воронин', 'Болдырев',\n",
       "       'Андрющенко', 'Александрович', 'Макарова', 'Казанцев', 'Булгаков',\n",
       "       'Колесова', 'Толкачев', 'Шевцова', 'Латышева', 'Сухарев',\n",
       "       'Абдулина', 'Афанасова', 'Устинов', 'Андрианов', 'Арсенкова',\n",
       "       'Ильина', 'Агаева', 'Морозов', 'Крюкова', 'Афонасьева', 'Алехина',\n",
       "       'Аникина', 'Авросимова', 'Воронина', 'Левин', 'Артёшин',\n",
       "       'Ерофеева', 'Корнеева', 'Ахматулин', 'Короткова', 'Алешкова',\n",
       "       'Покровский', 'Ефремов', 'Алешин', 'Никонов', 'Синицын', 'Киреева',\n",
       "       'Алексеенко', 'Муравьева', 'Молчанова', 'Щербакова', 'Одинцова',\n",
       "       'Тихомирова', 'Чернов', 'Белоусова', 'Андрейчук', 'Авдонюшкин',\n",
       "       'Голованова', 'Минаева', 'Вишневский', 'Лебедев', 'Медведев',\n",
       "       'Жданов', 'Ананьева', 'Карташова', 'Козлов', 'Иванова', 'Карасев',\n",
       "       'Григорьева', 'Розанова', 'Марков', 'Куприянов', 'Жарова',\n",
       "       'Астапенко', 'Мишин', 'Аврорин', 'Агаев', 'Тарасова', 'Родина',\n",
       "       'Абакумов', 'Овчинников', 'Соколов', 'Зубкова', 'Абоимов',\n",
       "       'Акиндинов', 'Мальцев', 'Безруков', 'Наумов', 'Петухова',\n",
       "       'Чернышев', 'Черняев', 'Швецов', 'Демьянова', 'Ларионова',\n",
       "       'Веселов', 'Адаменко', 'Григорьев', 'Лазарева', 'Семина',\n",
       "       'Шарапова', 'Зеленина', 'Сахарова', 'Сорокин', 'Серебрякова',\n",
       "       'Азимова', 'Пономарев', 'Муравьёв', 'Алиев', 'Малинин', 'Сазонов',\n",
       "       'Мамонтова', 'Некрасов', 'Астапов', 'Сафонова', 'Панфилов',\n",
       "       'Тарасов', 'Горбачева', 'Бобылёв', 'Калинина', 'Алфимов',\n",
       "       'Капустин', 'Авдюков', 'Ларина', 'Алфимова', 'Алексеева', 'Басова',\n",
       "       'Демидов', 'Кошелева', 'Ёрохов', 'Шарова', 'Федосеев', 'Леонтьев',\n",
       "       'Макеев', 'Коновалова', 'Минаев', 'Авдушева', 'Ракова', 'Тетерина',\n",
       "       'Масленникова', 'Сухарева', 'Пономарева', 'Панфилова', 'Беляев',\n",
       "       'Третьякова', 'Горбунов', 'Пантелеева', 'Зайцев', 'Жукова',\n",
       "       'Адамов', 'Антропова', 'Седова', 'Трошин', 'Ахмадулин',\n",
       "       'Вешнякова', 'Чижова', 'Корнилов', 'Еремин', 'Елизаров', 'Крюков',\n",
       "       'Троицкий', 'Худяков', 'Зимина', 'Аракчеев', 'Крючков', 'Давыдов',\n",
       "       'Богданова', 'Анищенко', 'Дубинина', 'Асафьева', 'Черный',\n",
       "       'Абрамцев', 'Чеснокова', 'Симонова', 'Азерников', 'Авраменко',\n",
       "       'Абаимов', 'Абакшина', 'Соловьёв', 'Лаптева', 'Попов', 'Авсейкина',\n",
       "       'Корнилова', 'Касьянова', 'Нестеров', 'Крылова', 'Поликарпова',\n",
       "       'Суслов', 'Амелишко', 'Агапеева', 'Алымова', 'Зыков', 'Парфенов',\n",
       "       'Киселёв', 'Софронов', 'Сальников', 'Носкова', 'Барсуков',\n",
       "       'Севастьянова', 'Аркадьев', 'Золотова', 'Малинина', 'Антонова',\n",
       "       'Алексеичев', 'Орлов', 'Алютин', 'Кузнецов', 'Казакова',\n",
       "       'Верещагина', 'Ёркина', 'Антропов', 'Фокина', 'Громова',\n",
       "       'Курочкин', 'Козырева', 'Румянцева', 'Кулагина', 'Абрикосова',\n",
       "       'Гончаров', 'Ермилов', 'Логинов', 'Абашкин', 'Болдырева',\n",
       "       'Вишняков', 'Фетисова', 'Антоненко', 'Гришина', 'Сысоев',\n",
       "       'Трофимов', 'Авраамова', 'Афанасенко', 'Акимычева', 'Акимов',\n",
       "       'Семин', 'Бычкова', 'Кочергина', 'Нестерова', 'Родионов', 'Зуев',\n",
       "       'Беляева', 'Беликова', 'Зубков', 'Кондратов', 'Савельева',\n",
       "       'Чистякова', 'Ахмедов', 'Абрашина', 'Артёмов', 'Васильева',\n",
       "       'Измайлова', 'Амелин', 'Уваров', 'Белова', 'Семёнов', 'Пирогова',\n",
       "       'Кукушкин', 'Ильин', 'Прокофьева', 'Афонин', 'Фролов', 'Лукин',\n",
       "       'Ёлчина', 'Макаров', 'Ахматов', 'Яшина', 'Корольков', 'Устинова',\n",
       "       'Силин', 'Ёрохова', 'Фомин', 'Азаров', 'Добрынина', 'Тимофеева',\n",
       "       'Кочетков', 'Алёшкова', 'Субботина', 'Ерофеев', 'Селезнева',\n",
       "       'Бородина', 'Афонина', 'Матвеев', 'Белозёров', 'Ковалева',\n",
       "       'Афинин', 'Иванов', 'Артемчук', 'Алешина', 'Дроздов', 'Новикова',\n",
       "       'Козлова', 'Завьялова', 'Абалдуева', 'Акуленко', 'Авринский',\n",
       "       'Авчинникова', 'Абрамычева', 'Авросинова', 'Ёркин', 'Шевцов',\n",
       "       'Александрюк', 'Авдышев', 'Абалкин', 'Лосева', 'Гаврилова',\n",
       "       'Боброва', 'Любимов', 'Фадеева', 'Семенова', 'Серов',\n",
       "       'Константинова', 'Богданов', 'Емельянова', 'Блохина', 'Борисова',\n",
       "       'Сухова', 'Моргунов', 'Кириллов', 'Филатов', 'Алесин', 'Артёменко',\n",
       "       'Ахматулина', 'Андропов', 'Фокин', 'Блохин', 'Агеева', 'Акимчин'],\n",
       "      dtype=object)"
      ]
     },
     "execution_count": 27,
     "metadata": {},
     "output_type": "execute_result"
    }
   ],
   "source": [
    "df_users['last_name'].unique()"
   ]
  },
  {
   "cell_type": "code",
   "execution_count": 28,
   "metadata": {},
   "outputs": [
    {
     "data": {
      "text/plain": [
       "array(['ultra', 'smart'], dtype=object)"
      ]
     },
     "execution_count": 28,
     "metadata": {},
     "output_type": "execute_result"
    }
   ],
   "source": [
    "df_users['tariff'].unique()"
   ]
  },
  {
   "cell_type": "markdown",
   "metadata": {},
   "source": [
    "После изучения файлов и проверки данных - ошибок не выявлено. Числовые и категориальные значения в порядке. Текстовые данные имеют одинаковый тип записи. Неявных дубликатов не выявлено."
   ]
  },
  {
   "cell_type": "markdown",
   "metadata": {
    "id": "Eu6oWp2CgFyS"
   },
   "source": [
    "### Добавление новых данных"
   ]
  },
  {
   "cell_type": "markdown",
   "metadata": {},
   "source": [
    "Посчитаем и добавим для каждого пользователя:\n",
    "- количество сделанных звонков и израсходованных минут разговора по месяцам;\n",
    "- количество отправленных сообщений по месяцам;\n",
    "- объем израсходованного интернет-трафика по месяцам;\n",
    "- помесячную выручку с каждого пользователя."
   ]
  },
  {
   "cell_type": "markdown",
   "metadata": {},
   "source": [
    "Добавим столбцы с информацией о месяце операции."
   ]
  },
  {
   "cell_type": "code",
   "execution_count": 29,
   "metadata": {},
   "outputs": [],
   "source": [
    "df_calls['month'] = pd.DatetimeIndex(df_calls['call_date']).month\n",
    "df_messages['month'] = pd.DatetimeIndex(df_messages['message_date']).month\n",
    "df_internet['month'] = pd.DatetimeIndex(df_internet['session_date']).month"
   ]
  },
  {
   "cell_type": "code",
   "execution_count": 30,
   "metadata": {},
   "outputs": [
    {
     "data": {
      "text/html": [
       "<div>\n",
       "<style scoped>\n",
       "    .dataframe tbody tr th:only-of-type {\n",
       "        vertical-align: middle;\n",
       "    }\n",
       "\n",
       "    .dataframe tbody tr th {\n",
       "        vertical-align: top;\n",
       "    }\n",
       "\n",
       "    .dataframe thead th {\n",
       "        text-align: right;\n",
       "    }\n",
       "</style>\n",
       "<table border=\"1\" class=\"dataframe\">\n",
       "  <thead>\n",
       "    <tr style=\"text-align: right;\">\n",
       "      <th></th>\n",
       "      <th>id</th>\n",
       "      <th>call_date</th>\n",
       "      <th>duration</th>\n",
       "      <th>user_id</th>\n",
       "      <th>month</th>\n",
       "    </tr>\n",
       "  </thead>\n",
       "  <tbody>\n",
       "    <tr>\n",
       "      <th>0</th>\n",
       "      <td>1000_0</td>\n",
       "      <td>2018-07-25</td>\n",
       "      <td>0.00</td>\n",
       "      <td>1000</td>\n",
       "      <td>7</td>\n",
       "    </tr>\n",
       "    <tr>\n",
       "      <th>1</th>\n",
       "      <td>1000_1</td>\n",
       "      <td>2018-08-17</td>\n",
       "      <td>0.00</td>\n",
       "      <td>1000</td>\n",
       "      <td>8</td>\n",
       "    </tr>\n",
       "    <tr>\n",
       "      <th>2</th>\n",
       "      <td>1000_2</td>\n",
       "      <td>2018-06-11</td>\n",
       "      <td>2.85</td>\n",
       "      <td>1000</td>\n",
       "      <td>6</td>\n",
       "    </tr>\n",
       "  </tbody>\n",
       "</table>\n",
       "</div>"
      ],
      "text/plain": [
       "       id  call_date  duration  user_id  month\n",
       "0  1000_0 2018-07-25      0.00     1000      7\n",
       "1  1000_1 2018-08-17      0.00     1000      8\n",
       "2  1000_2 2018-06-11      2.85     1000      6"
      ]
     },
     "execution_count": 30,
     "metadata": {},
     "output_type": "execute_result"
    }
   ],
   "source": [
    "df_calls.head(3)"
   ]
  },
  {
   "cell_type": "code",
   "execution_count": 31,
   "metadata": {},
   "outputs": [
    {
     "data": {
      "text/html": [
       "<div>\n",
       "<style scoped>\n",
       "    .dataframe tbody tr th:only-of-type {\n",
       "        vertical-align: middle;\n",
       "    }\n",
       "\n",
       "    .dataframe tbody tr th {\n",
       "        vertical-align: top;\n",
       "    }\n",
       "\n",
       "    .dataframe thead th {\n",
       "        text-align: right;\n",
       "    }\n",
       "</style>\n",
       "<table border=\"1\" class=\"dataframe\">\n",
       "  <thead>\n",
       "    <tr style=\"text-align: right;\">\n",
       "      <th></th>\n",
       "      <th>id</th>\n",
       "      <th>message_date</th>\n",
       "      <th>user_id</th>\n",
       "      <th>month</th>\n",
       "    </tr>\n",
       "  </thead>\n",
       "  <tbody>\n",
       "    <tr>\n",
       "      <th>0</th>\n",
       "      <td>1000_0</td>\n",
       "      <td>2018-06-27</td>\n",
       "      <td>1000</td>\n",
       "      <td>6</td>\n",
       "    </tr>\n",
       "    <tr>\n",
       "      <th>1</th>\n",
       "      <td>1000_1</td>\n",
       "      <td>2018-10-08</td>\n",
       "      <td>1000</td>\n",
       "      <td>10</td>\n",
       "    </tr>\n",
       "    <tr>\n",
       "      <th>2</th>\n",
       "      <td>1000_2</td>\n",
       "      <td>2018-08-04</td>\n",
       "      <td>1000</td>\n",
       "      <td>8</td>\n",
       "    </tr>\n",
       "  </tbody>\n",
       "</table>\n",
       "</div>"
      ],
      "text/plain": [
       "       id message_date  user_id  month\n",
       "0  1000_0   2018-06-27     1000      6\n",
       "1  1000_1   2018-10-08     1000     10\n",
       "2  1000_2   2018-08-04     1000      8"
      ]
     },
     "execution_count": 31,
     "metadata": {},
     "output_type": "execute_result"
    }
   ],
   "source": [
    "df_messages.head(3)"
   ]
  },
  {
   "cell_type": "code",
   "execution_count": 32,
   "metadata": {},
   "outputs": [
    {
     "data": {
      "text/html": [
       "<div>\n",
       "<style scoped>\n",
       "    .dataframe tbody tr th:only-of-type {\n",
       "        vertical-align: middle;\n",
       "    }\n",
       "\n",
       "    .dataframe tbody tr th {\n",
       "        vertical-align: top;\n",
       "    }\n",
       "\n",
       "    .dataframe thead th {\n",
       "        text-align: right;\n",
       "    }\n",
       "</style>\n",
       "<table border=\"1\" class=\"dataframe\">\n",
       "  <thead>\n",
       "    <tr style=\"text-align: right;\">\n",
       "      <th></th>\n",
       "      <th>id</th>\n",
       "      <th>mb_used</th>\n",
       "      <th>session_date</th>\n",
       "      <th>user_id</th>\n",
       "      <th>month</th>\n",
       "    </tr>\n",
       "  </thead>\n",
       "  <tbody>\n",
       "    <tr>\n",
       "      <th>0</th>\n",
       "      <td>1000_0</td>\n",
       "      <td>112.95</td>\n",
       "      <td>2018-11-25</td>\n",
       "      <td>1000</td>\n",
       "      <td>11</td>\n",
       "    </tr>\n",
       "    <tr>\n",
       "      <th>1</th>\n",
       "      <td>1000_1</td>\n",
       "      <td>1,052.81</td>\n",
       "      <td>2018-09-07</td>\n",
       "      <td>1000</td>\n",
       "      <td>9</td>\n",
       "    </tr>\n",
       "    <tr>\n",
       "      <th>2</th>\n",
       "      <td>1000_2</td>\n",
       "      <td>1,197.26</td>\n",
       "      <td>2018-06-25</td>\n",
       "      <td>1000</td>\n",
       "      <td>6</td>\n",
       "    </tr>\n",
       "  </tbody>\n",
       "</table>\n",
       "</div>"
      ],
      "text/plain": [
       "       id  mb_used session_date  user_id  month\n",
       "0  1000_0   112.95   2018-11-25     1000     11\n",
       "1  1000_1 1,052.81   2018-09-07     1000      9\n",
       "2  1000_2 1,197.26   2018-06-25     1000      6"
      ]
     },
     "execution_count": 32,
     "metadata": {},
     "output_type": "execute_result"
    }
   ],
   "source": [
    "df_internet.head(3)"
   ]
  },
  {
   "cell_type": "markdown",
   "metadata": {},
   "source": [
    "Оператор округляет все разговоры в большую сторону до минуты. Округлим время разговоров до целых минут в большую сторону."
   ]
  },
  {
   "cell_type": "code",
   "execution_count": 33,
   "metadata": {},
   "outputs": [],
   "source": [
    "df_calls['duration'] = np.ceil(df_calls['duration'])"
   ]
  },
  {
   "cell_type": "markdown",
   "metadata": {},
   "source": [
    "Добавим столбец с названием тарифа."
   ]
  },
  {
   "cell_type": "code",
   "execution_count": 34,
   "metadata": {},
   "outputs": [],
   "source": [
    "df_calls = pd.merge(df_calls, df_users[['user_id', 'tariff']], 'outer', on=['user_id'])\n",
    "df_messages = pd.merge(df_messages, df_users[['user_id', 'tariff']], 'outer', on=['user_id'])\n",
    "df_internet = pd.merge(df_internet, df_users[['user_id', 'tariff']], 'outer', on=['user_id'])"
   ]
  },
  {
   "cell_type": "code",
   "execution_count": 35,
   "metadata": {
    "scrolled": true
   },
   "outputs": [
    {
     "data": {
      "text/html": [
       "<div>\n",
       "<style scoped>\n",
       "    .dataframe tbody tr th:only-of-type {\n",
       "        vertical-align: middle;\n",
       "    }\n",
       "\n",
       "    .dataframe tbody tr th {\n",
       "        vertical-align: top;\n",
       "    }\n",
       "\n",
       "    .dataframe thead th {\n",
       "        text-align: right;\n",
       "    }\n",
       "</style>\n",
       "<table border=\"1\" class=\"dataframe\">\n",
       "  <thead>\n",
       "    <tr style=\"text-align: right;\">\n",
       "      <th></th>\n",
       "      <th>id</th>\n",
       "      <th>mb_used</th>\n",
       "      <th>session_date</th>\n",
       "      <th>user_id</th>\n",
       "      <th>month</th>\n",
       "      <th>tariff</th>\n",
       "    </tr>\n",
       "  </thead>\n",
       "  <tbody>\n",
       "    <tr>\n",
       "      <th>0</th>\n",
       "      <td>1000_0</td>\n",
       "      <td>112.95</td>\n",
       "      <td>2018-11-25</td>\n",
       "      <td>1000</td>\n",
       "      <td>11.00</td>\n",
       "      <td>ultra</td>\n",
       "    </tr>\n",
       "    <tr>\n",
       "      <th>1</th>\n",
       "      <td>1000_1</td>\n",
       "      <td>1,052.81</td>\n",
       "      <td>2018-09-07</td>\n",
       "      <td>1000</td>\n",
       "      <td>9.00</td>\n",
       "      <td>ultra</td>\n",
       "    </tr>\n",
       "  </tbody>\n",
       "</table>\n",
       "</div>"
      ],
      "text/plain": [
       "       id  mb_used session_date  user_id  month tariff\n",
       "0  1000_0   112.95   2018-11-25     1000  11.00  ultra\n",
       "1  1000_1 1,052.81   2018-09-07     1000   9.00  ultra"
      ]
     },
     "execution_count": 35,
     "metadata": {},
     "output_type": "execute_result"
    }
   ],
   "source": [
    "df_internet.head(2)"
   ]
  },
  {
   "cell_type": "markdown",
   "metadata": {},
   "source": [
    "Посчитаем и добавим количество сделанных звонков и израсходованных минут по месяцам:"
   ]
  },
  {
   "cell_type": "code",
   "execution_count": 36,
   "metadata": {
    "scrolled": true
   },
   "outputs": [],
   "source": [
    "calls_pivot = df_calls.pivot_table(\n",
    "    index=['user_id', 'tariff', 'month'],\n",
    "    values='duration',\n",
    "    aggfunc=['count', 'sum']\n",
    "    ).droplevel(level=1, axis=1)"
   ]
  },
  {
   "cell_type": "code",
   "execution_count": 37,
   "metadata": {
    "scrolled": false
   },
   "outputs": [
    {
     "data": {
      "text/html": [
       "<div>\n",
       "<style scoped>\n",
       "    .dataframe tbody tr th:only-of-type {\n",
       "        vertical-align: middle;\n",
       "    }\n",
       "\n",
       "    .dataframe tbody tr th {\n",
       "        vertical-align: top;\n",
       "    }\n",
       "\n",
       "    .dataframe thead th {\n",
       "        text-align: right;\n",
       "    }\n",
       "</style>\n",
       "<table border=\"1\" class=\"dataframe\">\n",
       "  <thead>\n",
       "    <tr style=\"text-align: right;\">\n",
       "      <th></th>\n",
       "      <th></th>\n",
       "      <th></th>\n",
       "      <th>calls_count</th>\n",
       "      <th>calls_sum</th>\n",
       "    </tr>\n",
       "    <tr>\n",
       "      <th>user_id</th>\n",
       "      <th>tariff</th>\n",
       "      <th>month</th>\n",
       "      <th></th>\n",
       "      <th></th>\n",
       "    </tr>\n",
       "  </thead>\n",
       "  <tbody>\n",
       "    <tr>\n",
       "      <th rowspan=\"5\" valign=\"top\">1000</th>\n",
       "      <th rowspan=\"5\" valign=\"top\">ultra</th>\n",
       "      <th>5.00</th>\n",
       "      <td>22</td>\n",
       "      <td>159.00</td>\n",
       "    </tr>\n",
       "    <tr>\n",
       "      <th>6.00</th>\n",
       "      <td>43</td>\n",
       "      <td>172.00</td>\n",
       "    </tr>\n",
       "    <tr>\n",
       "      <th>7.00</th>\n",
       "      <td>47</td>\n",
       "      <td>340.00</td>\n",
       "    </tr>\n",
       "    <tr>\n",
       "      <th>8.00</th>\n",
       "      <td>52</td>\n",
       "      <td>408.00</td>\n",
       "    </tr>\n",
       "    <tr>\n",
       "      <th>9.00</th>\n",
       "      <td>58</td>\n",
       "      <td>466.00</td>\n",
       "    </tr>\n",
       "  </tbody>\n",
       "</table>\n",
       "</div>"
      ],
      "text/plain": [
       "                      calls_count  calls_sum\n",
       "user_id tariff month                        \n",
       "1000    ultra  5.00            22     159.00\n",
       "               6.00            43     172.00\n",
       "               7.00            47     340.00\n",
       "               8.00            52     408.00\n",
       "               9.00            58     466.00"
      ]
     },
     "execution_count": 37,
     "metadata": {},
     "output_type": "execute_result"
    }
   ],
   "source": [
    "calls_pivot = calls_pivot.rename(columns={'count':'calls_count', 'sum':'calls_sum'})\n",
    "calls_pivot.head()"
   ]
  },
  {
   "cell_type": "markdown",
   "metadata": {},
   "source": [
    "Добавим количество отправленных сообщений по месяцам:"
   ]
  },
  {
   "cell_type": "code",
   "execution_count": 38,
   "metadata": {},
   "outputs": [
    {
     "data": {
      "text/html": [
       "<div>\n",
       "<style scoped>\n",
       "    .dataframe tbody tr th:only-of-type {\n",
       "        vertical-align: middle;\n",
       "    }\n",
       "\n",
       "    .dataframe tbody tr th {\n",
       "        vertical-align: top;\n",
       "    }\n",
       "\n",
       "    .dataframe thead th {\n",
       "        text-align: right;\n",
       "    }\n",
       "</style>\n",
       "<table border=\"1\" class=\"dataframe\">\n",
       "  <thead>\n",
       "    <tr style=\"text-align: right;\">\n",
       "      <th></th>\n",
       "      <th></th>\n",
       "      <th></th>\n",
       "      <th>msg_count</th>\n",
       "    </tr>\n",
       "    <tr>\n",
       "      <th>user_id</th>\n",
       "      <th>tariff</th>\n",
       "      <th>month</th>\n",
       "      <th></th>\n",
       "    </tr>\n",
       "  </thead>\n",
       "  <tbody>\n",
       "    <tr>\n",
       "      <th rowspan=\"5\" valign=\"top\">1000</th>\n",
       "      <th rowspan=\"5\" valign=\"top\">ultra</th>\n",
       "      <th>5.00</th>\n",
       "      <td>22</td>\n",
       "    </tr>\n",
       "    <tr>\n",
       "      <th>6.00</th>\n",
       "      <td>60</td>\n",
       "    </tr>\n",
       "    <tr>\n",
       "      <th>7.00</th>\n",
       "      <td>75</td>\n",
       "    </tr>\n",
       "    <tr>\n",
       "      <th>8.00</th>\n",
       "      <td>81</td>\n",
       "    </tr>\n",
       "    <tr>\n",
       "      <th>9.00</th>\n",
       "      <td>57</td>\n",
       "    </tr>\n",
       "  </tbody>\n",
       "</table>\n",
       "</div>"
      ],
      "text/plain": [
       "                      msg_count\n",
       "user_id tariff month           \n",
       "1000    ultra  5.00          22\n",
       "               6.00          60\n",
       "               7.00          75\n",
       "               8.00          81\n",
       "               9.00          57"
      ]
     },
     "execution_count": 38,
     "metadata": {},
     "output_type": "execute_result"
    }
   ],
   "source": [
    "msg_pivot = df_messages.pivot_table(index=['user_id', 'tariff', 'month'], values='id', aggfunc='count')\n",
    "msg_pivot = msg_pivot.rename(columns={'id':'msg_count'})\n",
    "msg_pivot.head()"
   ]
  },
  {
   "cell_type": "markdown",
   "metadata": {},
   "source": [
    "А так же добавим объем израсходованного интернет-трафика:"
   ]
  },
  {
   "cell_type": "code",
   "execution_count": 39,
   "metadata": {},
   "outputs": [
    {
     "data": {
      "text/html": [
       "<div>\n",
       "<style scoped>\n",
       "    .dataframe tbody tr th:only-of-type {\n",
       "        vertical-align: middle;\n",
       "    }\n",
       "\n",
       "    .dataframe tbody tr th {\n",
       "        vertical-align: top;\n",
       "    }\n",
       "\n",
       "    .dataframe thead th {\n",
       "        text-align: right;\n",
       "    }\n",
       "</style>\n",
       "<table border=\"1\" class=\"dataframe\">\n",
       "  <thead>\n",
       "    <tr style=\"text-align: right;\">\n",
       "      <th></th>\n",
       "      <th></th>\n",
       "      <th></th>\n",
       "      <th>mb_used</th>\n",
       "    </tr>\n",
       "    <tr>\n",
       "      <th>user_id</th>\n",
       "      <th>tariff</th>\n",
       "      <th>month</th>\n",
       "      <th></th>\n",
       "    </tr>\n",
       "  </thead>\n",
       "  <tbody>\n",
       "    <tr>\n",
       "      <th rowspan=\"5\" valign=\"top\">1000</th>\n",
       "      <th rowspan=\"5\" valign=\"top\">ultra</th>\n",
       "      <th>5.00</th>\n",
       "      <td>2,253.49</td>\n",
       "    </tr>\n",
       "    <tr>\n",
       "      <th>6.00</th>\n",
       "      <td>23,233.77</td>\n",
       "    </tr>\n",
       "    <tr>\n",
       "      <th>7.00</th>\n",
       "      <td>14,003.64</td>\n",
       "    </tr>\n",
       "    <tr>\n",
       "      <th>8.00</th>\n",
       "      <td>14,055.93</td>\n",
       "    </tr>\n",
       "    <tr>\n",
       "      <th>9.00</th>\n",
       "      <td>14,568.91</td>\n",
       "    </tr>\n",
       "  </tbody>\n",
       "</table>\n",
       "</div>"
      ],
      "text/plain": [
       "                       mb_used\n",
       "user_id tariff month          \n",
       "1000    ultra  5.00   2,253.49\n",
       "               6.00  23,233.77\n",
       "               7.00  14,003.64\n",
       "               8.00  14,055.93\n",
       "               9.00  14,568.91"
      ]
     },
     "execution_count": 39,
     "metadata": {},
     "output_type": "execute_result"
    }
   ],
   "source": [
    "inet_pivot = df_internet.pivot_table(index=['user_id', 'tariff', 'month'], values='mb_used', aggfunc='sum')\n",
    "inet_pivot.head()"
   ]
  },
  {
   "cell_type": "markdown",
   "metadata": {},
   "source": [
    "Переведем использованные мегабайты в гигабайты по правилам оператора с округлением в большую сторону."
   ]
  },
  {
   "cell_type": "code",
   "execution_count": 40,
   "metadata": {},
   "outputs": [],
   "source": [
    "def mb_to_gb(value):\n",
    "    if (value % 1024) > 0:\n",
    "        res = value // 1024 + 1\n",
    "    else:\n",
    "        res = value / 1024\n",
    "    return res"
   ]
  },
  {
   "cell_type": "code",
   "execution_count": 41,
   "metadata": {
    "scrolled": true
   },
   "outputs": [],
   "source": [
    "inet_pivot['gb_used'] = inet_pivot['mb_used'].apply(mb_to_gb)"
   ]
  },
  {
   "cell_type": "code",
   "execution_count": 42,
   "metadata": {},
   "outputs": [
    {
     "data": {
      "text/html": [
       "<div>\n",
       "<style scoped>\n",
       "    .dataframe tbody tr th:only-of-type {\n",
       "        vertical-align: middle;\n",
       "    }\n",
       "\n",
       "    .dataframe tbody tr th {\n",
       "        vertical-align: top;\n",
       "    }\n",
       "\n",
       "    .dataframe thead th {\n",
       "        text-align: right;\n",
       "    }\n",
       "</style>\n",
       "<table border=\"1\" class=\"dataframe\">\n",
       "  <thead>\n",
       "    <tr style=\"text-align: right;\">\n",
       "      <th></th>\n",
       "      <th></th>\n",
       "      <th></th>\n",
       "      <th>mb_used</th>\n",
       "      <th>gb_used</th>\n",
       "    </tr>\n",
       "    <tr>\n",
       "      <th>user_id</th>\n",
       "      <th>tariff</th>\n",
       "      <th>month</th>\n",
       "      <th></th>\n",
       "      <th></th>\n",
       "    </tr>\n",
       "  </thead>\n",
       "  <tbody>\n",
       "    <tr>\n",
       "      <th rowspan=\"3\" valign=\"top\">1000</th>\n",
       "      <th rowspan=\"3\" valign=\"top\">ultra</th>\n",
       "      <th>5.00</th>\n",
       "      <td>2,253.49</td>\n",
       "      <td>3.00</td>\n",
       "    </tr>\n",
       "    <tr>\n",
       "      <th>6.00</th>\n",
       "      <td>23,233.77</td>\n",
       "      <td>23.00</td>\n",
       "    </tr>\n",
       "    <tr>\n",
       "      <th>7.00</th>\n",
       "      <td>14,003.64</td>\n",
       "      <td>14.00</td>\n",
       "    </tr>\n",
       "  </tbody>\n",
       "</table>\n",
       "</div>"
      ],
      "text/plain": [
       "                       mb_used  gb_used\n",
       "user_id tariff month                   \n",
       "1000    ultra  5.00   2,253.49     3.00\n",
       "               6.00  23,233.77    23.00\n",
       "               7.00  14,003.64    14.00"
      ]
     },
     "execution_count": 42,
     "metadata": {},
     "output_type": "execute_result"
    }
   ],
   "source": [
    "inet_pivot.head(3)"
   ]
  },
  {
   "cell_type": "code",
   "execution_count": 43,
   "metadata": {},
   "outputs": [],
   "source": [
    "inet_pivot = inet_pivot.reset_index()"
   ]
  },
  {
   "cell_type": "code",
   "execution_count": 44,
   "metadata": {},
   "outputs": [
    {
     "data": {
      "text/plain": [
       "(497,)"
      ]
     },
     "execution_count": 44,
     "metadata": {},
     "output_type": "execute_result"
    }
   ],
   "source": [
    "inet_pivot['user_id'].unique().shape"
   ]
  },
  {
   "cell_type": "code",
   "execution_count": 45,
   "metadata": {},
   "outputs": [],
   "source": [
    "msg_pivot = msg_pivot.reset_index()"
   ]
  },
  {
   "cell_type": "code",
   "execution_count": 46,
   "metadata": {},
   "outputs": [
    {
     "data": {
      "text/plain": [
       "(426,)"
      ]
     },
     "execution_count": 46,
     "metadata": {},
     "output_type": "execute_result"
    }
   ],
   "source": [
    "msg_pivot['user_id'].unique().shape"
   ]
  },
  {
   "cell_type": "code",
   "execution_count": 47,
   "metadata": {},
   "outputs": [],
   "source": [
    "calls_pivot = calls_pivot.reset_index()"
   ]
  },
  {
   "cell_type": "code",
   "execution_count": 48,
   "metadata": {},
   "outputs": [
    {
     "data": {
      "text/plain": [
       "(492,)"
      ]
     },
     "execution_count": 48,
     "metadata": {},
     "output_type": "execute_result"
    }
   ],
   "source": [
    "calls_pivot['user_id'].unique().shape"
   ]
  },
  {
   "cell_type": "code",
   "execution_count": 49,
   "metadata": {},
   "outputs": [
    {
     "data": {
      "text/plain": [
       "user_id    0\n",
       "tariff     0\n",
       "month      0\n",
       "mb_used    0\n",
       "gb_used    0\n",
       "dtype: int64"
      ]
     },
     "execution_count": 49,
     "metadata": {},
     "output_type": "execute_result"
    }
   ],
   "source": [
    "inet_pivot.isna().sum()"
   ]
  },
  {
   "cell_type": "markdown",
   "metadata": {},
   "source": [
    "Есть пользователи которые не пользовались услугами. "
   ]
  },
  {
   "cell_type": "markdown",
   "metadata": {},
   "source": [
    "Объединим таблицы в одну сводную:"
   ]
  },
  {
   "cell_type": "code",
   "execution_count": 50,
   "metadata": {},
   "outputs": [],
   "source": [
    "all_data = pd.merge(inet_pivot, calls_pivot, 'outer', on=['user_id', 'tariff', 'month'])\n",
    "all_data = pd.merge(all_data, msg_pivot, 'outer', on=['user_id', 'tariff', 'month'])"
   ]
  },
  {
   "cell_type": "markdown",
   "metadata": {},
   "source": [
    "При объединении таблицы могли появиться пропуски, т.к. некоторые пользователи не отправляли сообщения или не пользовались интернетом. Проверим и заменим их на 0."
   ]
  },
  {
   "cell_type": "code",
   "execution_count": 51,
   "metadata": {},
   "outputs": [
    {
     "data": {
      "text/html": [
       "<div>\n",
       "<style scoped>\n",
       "    .dataframe tbody tr th:only-of-type {\n",
       "        vertical-align: middle;\n",
       "    }\n",
       "\n",
       "    .dataframe tbody tr th {\n",
       "        vertical-align: top;\n",
       "    }\n",
       "\n",
       "    .dataframe thead th {\n",
       "        text-align: right;\n",
       "    }\n",
       "</style>\n",
       "<table border=\"1\" class=\"dataframe\">\n",
       "  <thead>\n",
       "    <tr style=\"text-align: right;\">\n",
       "      <th></th>\n",
       "      <th>user_id</th>\n",
       "      <th>tariff</th>\n",
       "      <th>month</th>\n",
       "      <th>mb_used</th>\n",
       "      <th>gb_used</th>\n",
       "      <th>calls_count</th>\n",
       "      <th>calls_sum</th>\n",
       "      <th>msg_count</th>\n",
       "    </tr>\n",
       "  </thead>\n",
       "  <tbody>\n",
       "    <tr>\n",
       "      <th>0</th>\n",
       "      <td>1000</td>\n",
       "      <td>ultra</td>\n",
       "      <td>5.00</td>\n",
       "      <td>2,253.49</td>\n",
       "      <td>3.00</td>\n",
       "      <td>22.00</td>\n",
       "      <td>159.00</td>\n",
       "      <td>22.00</td>\n",
       "    </tr>\n",
       "    <tr>\n",
       "      <th>1</th>\n",
       "      <td>1000</td>\n",
       "      <td>ultra</td>\n",
       "      <td>6.00</td>\n",
       "      <td>23,233.77</td>\n",
       "      <td>23.00</td>\n",
       "      <td>43.00</td>\n",
       "      <td>172.00</td>\n",
       "      <td>60.00</td>\n",
       "    </tr>\n",
       "    <tr>\n",
       "      <th>2</th>\n",
       "      <td>1000</td>\n",
       "      <td>ultra</td>\n",
       "      <td>7.00</td>\n",
       "      <td>14,003.64</td>\n",
       "      <td>14.00</td>\n",
       "      <td>47.00</td>\n",
       "      <td>340.00</td>\n",
       "      <td>75.00</td>\n",
       "    </tr>\n",
       "  </tbody>\n",
       "</table>\n",
       "</div>"
      ],
      "text/plain": [
       "   user_id tariff  month   mb_used  gb_used  calls_count  calls_sum  msg_count\n",
       "0     1000  ultra   5.00  2,253.49     3.00        22.00     159.00      22.00\n",
       "1     1000  ultra   6.00 23,233.77    23.00        43.00     172.00      60.00\n",
       "2     1000  ultra   7.00 14,003.64    14.00        47.00     340.00      75.00"
      ]
     },
     "execution_count": 51,
     "metadata": {},
     "output_type": "execute_result"
    }
   ],
   "source": [
    "all_data.head(3)"
   ]
  },
  {
   "cell_type": "code",
   "execution_count": 52,
   "metadata": {
    "scrolled": true
   },
   "outputs": [
    {
     "data": {
      "text/plain": [
       "user_id          0\n",
       "tariff           0\n",
       "month            0\n",
       "mb_used         11\n",
       "gb_used         11\n",
       "calls_count     40\n",
       "calls_sum       40\n",
       "msg_count      497\n",
       "dtype: int64"
      ]
     },
     "execution_count": 52,
     "metadata": {},
     "output_type": "execute_result"
    }
   ],
   "source": [
    "all_data.isna().sum()"
   ]
  },
  {
   "cell_type": "code",
   "execution_count": 53,
   "metadata": {},
   "outputs": [],
   "source": [
    "all_data['calls_count'] = all_data['calls_count'].fillna(value=0)\n",
    "all_data['calls_sum'] = all_data['calls_sum'].fillna(value=0)\n",
    "all_data['msg_count'] = all_data['msg_count'].fillna(value=0)\n",
    "all_data['mb_used'] = all_data['mb_used'].fillna(value=0)\n",
    "all_data['gb_used'] = all_data['gb_used'].fillna(value=0)"
   ]
  },
  {
   "cell_type": "code",
   "execution_count": 54,
   "metadata": {},
   "outputs": [
    {
     "data": {
      "text/plain": [
       "user_id        0\n",
       "tariff         0\n",
       "month          0\n",
       "mb_used        0\n",
       "gb_used        0\n",
       "calls_count    0\n",
       "calls_sum      0\n",
       "msg_count      0\n",
       "dtype: int64"
      ]
     },
     "execution_count": 54,
     "metadata": {},
     "output_type": "execute_result"
    }
   ],
   "source": [
    "all_data.isna().sum()"
   ]
  },
  {
   "cell_type": "code",
   "execution_count": 55,
   "metadata": {
    "scrolled": true
   },
   "outputs": [
    {
     "data": {
      "text/plain": [
       "(498,)"
      ]
     },
     "execution_count": 55,
     "metadata": {},
     "output_type": "execute_result"
    }
   ],
   "source": [
    "all_data.user_id.unique().shape"
   ]
  },
  {
   "cell_type": "markdown",
   "metadata": {},
   "source": [
    "2 пользователя вообще не пользовались никакими услугами."
   ]
  },
  {
   "cell_type": "code",
   "execution_count": 56,
   "metadata": {},
   "outputs": [],
   "source": [
    "all_data = all_data.pivot_table(index=['user_id', 'tariff', 'month'])"
   ]
  },
  {
   "cell_type": "markdown",
   "metadata": {},
   "source": [
    "Посчитаем помесячную выручку с каждого пользователя в зависимости от тарифа."
   ]
  },
  {
   "cell_type": "code",
   "execution_count": 57,
   "metadata": {},
   "outputs": [],
   "source": [
    "def income(row):\n",
    "    name = row['tariff']\n",
    "    tariff = df_tariffs.query('tariff_name == @name')\n",
    "    calls = row['calls_sum'] - tariff['minutes_included'].values[0]\n",
    "    msg = row['msg_count'] - tariff['messages_included'].values[0]\n",
    "    gb = row['gb_used'] - tariff['mb_per_month_included'].values[0] / 1024\n",
    "    res = tariff['rub_monthly_fee'].values[0]\n",
    "    if calls > 0:\n",
    "        res += calls * tariff['rub_per_minute'].values[0]\n",
    "    if msg > 0:\n",
    "        res += msg * tariff['rub_per_message'].values[0]\n",
    "    if gb > 0:\n",
    "        res += gb * tariff['rub_per_gb'].values[0]\n",
    "    return res"
   ]
  },
  {
   "cell_type": "code",
   "execution_count": 58,
   "metadata": {},
   "outputs": [],
   "source": [
    "all_data = all_data.reset_index()"
   ]
  },
  {
   "cell_type": "code",
   "execution_count": 59,
   "metadata": {},
   "outputs": [],
   "source": [
    "all_data['income_tot'] = all_data.apply(income, axis=1)"
   ]
  },
  {
   "cell_type": "code",
   "execution_count": 60,
   "metadata": {
    "scrolled": false
   },
   "outputs": [
    {
     "data": {
      "text/html": [
       "<div>\n",
       "<style scoped>\n",
       "    .dataframe tbody tr th:only-of-type {\n",
       "        vertical-align: middle;\n",
       "    }\n",
       "\n",
       "    .dataframe tbody tr th {\n",
       "        vertical-align: top;\n",
       "    }\n",
       "\n",
       "    .dataframe thead th {\n",
       "        text-align: right;\n",
       "    }\n",
       "</style>\n",
       "<table border=\"1\" class=\"dataframe\">\n",
       "  <thead>\n",
       "    <tr style=\"text-align: right;\">\n",
       "      <th></th>\n",
       "      <th>user_id</th>\n",
       "      <th>tariff</th>\n",
       "      <th>month</th>\n",
       "      <th>calls_count</th>\n",
       "      <th>calls_sum</th>\n",
       "      <th>gb_used</th>\n",
       "      <th>mb_used</th>\n",
       "      <th>msg_count</th>\n",
       "      <th>income_tot</th>\n",
       "    </tr>\n",
       "  </thead>\n",
       "  <tbody>\n",
       "    <tr>\n",
       "      <th>0</th>\n",
       "      <td>1000</td>\n",
       "      <td>ultra</td>\n",
       "      <td>5.00</td>\n",
       "      <td>22.00</td>\n",
       "      <td>159.00</td>\n",
       "      <td>3.00</td>\n",
       "      <td>2,253.49</td>\n",
       "      <td>22.00</td>\n",
       "      <td>1,950.00</td>\n",
       "    </tr>\n",
       "    <tr>\n",
       "      <th>1</th>\n",
       "      <td>1000</td>\n",
       "      <td>ultra</td>\n",
       "      <td>6.00</td>\n",
       "      <td>43.00</td>\n",
       "      <td>172.00</td>\n",
       "      <td>23.00</td>\n",
       "      <td>23,233.77</td>\n",
       "      <td>60.00</td>\n",
       "      <td>1,950.00</td>\n",
       "    </tr>\n",
       "    <tr>\n",
       "      <th>2</th>\n",
       "      <td>1000</td>\n",
       "      <td>ultra</td>\n",
       "      <td>7.00</td>\n",
       "      <td>47.00</td>\n",
       "      <td>340.00</td>\n",
       "      <td>14.00</td>\n",
       "      <td>14,003.64</td>\n",
       "      <td>75.00</td>\n",
       "      <td>1,950.00</td>\n",
       "    </tr>\n",
       "  </tbody>\n",
       "</table>\n",
       "</div>"
      ],
      "text/plain": [
       "   user_id tariff  month  calls_count  calls_sum  gb_used   mb_used  \\\n",
       "0     1000  ultra   5.00        22.00     159.00     3.00  2,253.49   \n",
       "1     1000  ultra   6.00        43.00     172.00    23.00 23,233.77   \n",
       "2     1000  ultra   7.00        47.00     340.00    14.00 14,003.64   \n",
       "\n",
       "   msg_count  income_tot  \n",
       "0      22.00    1,950.00  \n",
       "1      60.00    1,950.00  \n",
       "2      75.00    1,950.00  "
      ]
     },
     "execution_count": 60,
     "metadata": {},
     "output_type": "execute_result"
    }
   ],
   "source": [
    "all_data.head(3)"
   ]
  },
  {
   "cell_type": "code",
   "execution_count": 61,
   "metadata": {
    "scrolled": true
   },
   "outputs": [
    {
     "data": {
      "text/plain": [
       "(498,)"
      ]
     },
     "execution_count": 61,
     "metadata": {},
     "output_type": "execute_result"
    }
   ],
   "source": [
    "all_data.user_id.unique().shape"
   ]
  },
  {
   "cell_type": "markdown",
   "metadata": {},
   "source": [
    "Добавили новые данные по месяцам и заполнили образовавшиеся пропуски."
   ]
  },
  {
   "cell_type": "markdown",
   "metadata": {
    "id": "6t4EukPLgFyV"
   },
   "source": [
    "### Краткий вывод\n",
    "\n"
   ]
  },
  {
   "cell_type": "markdown",
   "metadata": {},
   "source": [
    "В таблице df_internet удалили лишнюю колонку. Привели даты к нормальному типу. Проверили данные на пропуски и дубликаты.\n",
    "<br>Изучили и проверили числовые, категориальные и текстовые данные на возможные ошибки и не явные дубликаты. \n",
    "\n",
    "<br>Добавили колонки с информацией о месяце и тарифе. Посчитали и добавили для каждого пользователя информацию по месяцам:\n",
    "- количество сделанных звонков и израсходованных минут;\n",
    "- количество отправленных сообщений;\n",
    "- объем израсходованного интернет-трафика;\n",
    "- помесячную выручку с каждого пользователя в зависимости от тарифного плана.<br>\n",
    "\n",
    "Объединили все данные в одну сводную таблицу."
   ]
  },
  {
   "cell_type": "markdown",
   "metadata": {
    "id": "6t4EukPLgFyV"
   },
   "source": [
    "## Исследовательский анализ данных\n"
   ]
  },
  {
   "cell_type": "code",
   "execution_count": 62,
   "metadata": {},
   "outputs": [],
   "source": [
    "smart_df = all_data.query('tariff == \"smart\"')"
   ]
  },
  {
   "cell_type": "code",
   "execution_count": 63,
   "metadata": {},
   "outputs": [
    {
     "data": {
      "text/html": [
       "<div>\n",
       "<style scoped>\n",
       "    .dataframe tbody tr th:only-of-type {\n",
       "        vertical-align: middle;\n",
       "    }\n",
       "\n",
       "    .dataframe tbody tr th {\n",
       "        vertical-align: top;\n",
       "    }\n",
       "\n",
       "    .dataframe thead th {\n",
       "        text-align: right;\n",
       "    }\n",
       "</style>\n",
       "<table border=\"1\" class=\"dataframe\">\n",
       "  <thead>\n",
       "    <tr style=\"text-align: right;\">\n",
       "      <th></th>\n",
       "      <th>user_id</th>\n",
       "      <th>month</th>\n",
       "      <th>calls_count</th>\n",
       "      <th>calls_sum</th>\n",
       "      <th>gb_used</th>\n",
       "      <th>mb_used</th>\n",
       "      <th>msg_count</th>\n",
       "      <th>income_tot</th>\n",
       "    </tr>\n",
       "  </thead>\n",
       "  <tbody>\n",
       "    <tr>\n",
       "      <th>count</th>\n",
       "      <td>2,229.00</td>\n",
       "      <td>2,229.00</td>\n",
       "      <td>2,229.00</td>\n",
       "      <td>2,229.00</td>\n",
       "      <td>2,229.00</td>\n",
       "      <td>2,229.00</td>\n",
       "      <td>2,229.00</td>\n",
       "      <td>2,229.00</td>\n",
       "    </tr>\n",
       "    <tr>\n",
       "      <th>mean</th>\n",
       "      <td>1,246.51</td>\n",
       "      <td>8.35</td>\n",
       "      <td>58.46</td>\n",
       "      <td>417.93</td>\n",
       "      <td>16.33</td>\n",
       "      <td>16,208.39</td>\n",
       "      <td>33.38</td>\n",
       "      <td>1,289.97</td>\n",
       "    </tr>\n",
       "    <tr>\n",
       "      <th>std</th>\n",
       "      <td>146.12</td>\n",
       "      <td>2.92</td>\n",
       "      <td>25.94</td>\n",
       "      <td>190.31</td>\n",
       "      <td>5.75</td>\n",
       "      <td>5,870.48</td>\n",
       "      <td>28.23</td>\n",
       "      <td>818.40</td>\n",
       "    </tr>\n",
       "    <tr>\n",
       "      <th>min</th>\n",
       "      <td>1,001.00</td>\n",
       "      <td>1.00</td>\n",
       "      <td>0.00</td>\n",
       "      <td>0.00</td>\n",
       "      <td>0.00</td>\n",
       "      <td>0.00</td>\n",
       "      <td>0.00</td>\n",
       "      <td>550.00</td>\n",
       "    </tr>\n",
       "    <tr>\n",
       "      <th>25%</th>\n",
       "      <td>1,121.00</td>\n",
       "      <td>6.00</td>\n",
       "      <td>40.00</td>\n",
       "      <td>282.00</td>\n",
       "      <td>13.00</td>\n",
       "      <td>12,643.01</td>\n",
       "      <td>10.00</td>\n",
       "      <td>550.00</td>\n",
       "    </tr>\n",
       "    <tr>\n",
       "      <th>50%</th>\n",
       "      <td>1,239.00</td>\n",
       "      <td>9.00</td>\n",
       "      <td>60.00</td>\n",
       "      <td>422.00</td>\n",
       "      <td>17.00</td>\n",
       "      <td>16,506.84</td>\n",
       "      <td>28.00</td>\n",
       "      <td>1,023.00</td>\n",
       "    </tr>\n",
       "    <tr>\n",
       "      <th>75%</th>\n",
       "      <td>1,376.00</td>\n",
       "      <td>11.00</td>\n",
       "      <td>76.00</td>\n",
       "      <td>545.00</td>\n",
       "      <td>20.00</td>\n",
       "      <td>20,042.93</td>\n",
       "      <td>51.00</td>\n",
       "      <td>1,750.00</td>\n",
       "    </tr>\n",
       "    <tr>\n",
       "      <th>max</th>\n",
       "      <td>1,499.00</td>\n",
       "      <td>12.00</td>\n",
       "      <td>198.00</td>\n",
       "      <td>1,435.00</td>\n",
       "      <td>38.00</td>\n",
       "      <td>38,552.45</td>\n",
       "      <td>143.00</td>\n",
       "      <td>6,770.00</td>\n",
       "    </tr>\n",
       "  </tbody>\n",
       "</table>\n",
       "</div>"
      ],
      "text/plain": [
       "       user_id    month  calls_count  calls_sum  gb_used   mb_used  msg_count  \\\n",
       "count 2,229.00 2,229.00     2,229.00   2,229.00 2,229.00  2,229.00   2,229.00   \n",
       "mean  1,246.51     8.35        58.46     417.93    16.33 16,208.39      33.38   \n",
       "std     146.12     2.92        25.94     190.31     5.75  5,870.48      28.23   \n",
       "min   1,001.00     1.00         0.00       0.00     0.00      0.00       0.00   \n",
       "25%   1,121.00     6.00        40.00     282.00    13.00 12,643.01      10.00   \n",
       "50%   1,239.00     9.00        60.00     422.00    17.00 16,506.84      28.00   \n",
       "75%   1,376.00    11.00        76.00     545.00    20.00 20,042.93      51.00   \n",
       "max   1,499.00    12.00       198.00   1,435.00    38.00 38,552.45     143.00   \n",
       "\n",
       "       income_tot  \n",
       "count    2,229.00  \n",
       "mean     1,289.97  \n",
       "std        818.40  \n",
       "min        550.00  \n",
       "25%        550.00  \n",
       "50%      1,023.00  \n",
       "75%      1,750.00  \n",
       "max      6,770.00  "
      ]
     },
     "execution_count": 63,
     "metadata": {},
     "output_type": "execute_result"
    }
   ],
   "source": [
    "smart_df.describe()"
   ]
  },
  {
   "cell_type": "markdown",
   "metadata": {},
   "source": [
    "Пользователи тарифа \"Smart\" в среднем переплачивают сверху абонентской платы почти в 2,5 раза. Расходуют больше интернет-трафика, чем включено в тариф."
   ]
  },
  {
   "cell_type": "code",
   "execution_count": 64,
   "metadata": {},
   "outputs": [],
   "source": [
    "ultra_df = all_data.query('tariff == \"ultra\"')"
   ]
  },
  {
   "cell_type": "code",
   "execution_count": 65,
   "metadata": {
    "scrolled": false
   },
   "outputs": [
    {
     "data": {
      "text/html": [
       "<div>\n",
       "<style scoped>\n",
       "    .dataframe tbody tr th:only-of-type {\n",
       "        vertical-align: middle;\n",
       "    }\n",
       "\n",
       "    .dataframe tbody tr th {\n",
       "        vertical-align: top;\n",
       "    }\n",
       "\n",
       "    .dataframe thead th {\n",
       "        text-align: right;\n",
       "    }\n",
       "</style>\n",
       "<table border=\"1\" class=\"dataframe\">\n",
       "  <thead>\n",
       "    <tr style=\"text-align: right;\">\n",
       "      <th></th>\n",
       "      <th>user_id</th>\n",
       "      <th>month</th>\n",
       "      <th>calls_count</th>\n",
       "      <th>calls_sum</th>\n",
       "      <th>gb_used</th>\n",
       "      <th>mb_used</th>\n",
       "      <th>msg_count</th>\n",
       "      <th>income_tot</th>\n",
       "    </tr>\n",
       "  </thead>\n",
       "  <tbody>\n",
       "    <tr>\n",
       "      <th>count</th>\n",
       "      <td>985.00</td>\n",
       "      <td>985.00</td>\n",
       "      <td>985.00</td>\n",
       "      <td>985.00</td>\n",
       "      <td>985.00</td>\n",
       "      <td>985.00</td>\n",
       "      <td>985.00</td>\n",
       "      <td>985.00</td>\n",
       "    </tr>\n",
       "    <tr>\n",
       "      <th>mean</th>\n",
       "      <td>1,263.09</td>\n",
       "      <td>8.25</td>\n",
       "      <td>73.39</td>\n",
       "      <td>526.62</td>\n",
       "      <td>19.49</td>\n",
       "      <td>19,468.81</td>\n",
       "      <td>49.36</td>\n",
       "      <td>2,070.15</td>\n",
       "    </tr>\n",
       "    <tr>\n",
       "      <th>std</th>\n",
       "      <td>140.69</td>\n",
       "      <td>2.87</td>\n",
       "      <td>43.92</td>\n",
       "      <td>317.61</td>\n",
       "      <td>9.85</td>\n",
       "      <td>10,087.17</td>\n",
       "      <td>47.80</td>\n",
       "      <td>376.19</td>\n",
       "    </tr>\n",
       "    <tr>\n",
       "      <th>min</th>\n",
       "      <td>1,000.00</td>\n",
       "      <td>1.00</td>\n",
       "      <td>0.00</td>\n",
       "      <td>0.00</td>\n",
       "      <td>0.00</td>\n",
       "      <td>0.00</td>\n",
       "      <td>0.00</td>\n",
       "      <td>1,950.00</td>\n",
       "    </tr>\n",
       "    <tr>\n",
       "      <th>25%</th>\n",
       "      <td>1,143.00</td>\n",
       "      <td>6.00</td>\n",
       "      <td>41.00</td>\n",
       "      <td>284.00</td>\n",
       "      <td>12.00</td>\n",
       "      <td>11,770.26</td>\n",
       "      <td>6.00</td>\n",
       "      <td>1,950.00</td>\n",
       "    </tr>\n",
       "    <tr>\n",
       "      <th>50%</th>\n",
       "      <td>1,277.00</td>\n",
       "      <td>9.00</td>\n",
       "      <td>74.00</td>\n",
       "      <td>518.00</td>\n",
       "      <td>19.00</td>\n",
       "      <td>19,308.01</td>\n",
       "      <td>38.00</td>\n",
       "      <td>1,950.00</td>\n",
       "    </tr>\n",
       "    <tr>\n",
       "      <th>75%</th>\n",
       "      <td>1,381.00</td>\n",
       "      <td>11.00</td>\n",
       "      <td>104.00</td>\n",
       "      <td>752.00</td>\n",
       "      <td>27.00</td>\n",
       "      <td>26,837.69</td>\n",
       "      <td>79.00</td>\n",
       "      <td>1,950.00</td>\n",
       "    </tr>\n",
       "    <tr>\n",
       "      <th>max</th>\n",
       "      <td>1,495.00</td>\n",
       "      <td>12.00</td>\n",
       "      <td>244.00</td>\n",
       "      <td>1,673.00</td>\n",
       "      <td>49.00</td>\n",
       "      <td>49,745.69</td>\n",
       "      <td>224.00</td>\n",
       "      <td>4,800.00</td>\n",
       "    </tr>\n",
       "  </tbody>\n",
       "</table>\n",
       "</div>"
      ],
      "text/plain": [
       "       user_id  month  calls_count  calls_sum  gb_used   mb_used  msg_count  \\\n",
       "count   985.00 985.00       985.00     985.00   985.00    985.00     985.00   \n",
       "mean  1,263.09   8.25        73.39     526.62    19.49 19,468.81      49.36   \n",
       "std     140.69   2.87        43.92     317.61     9.85 10,087.17      47.80   \n",
       "min   1,000.00   1.00         0.00       0.00     0.00      0.00       0.00   \n",
       "25%   1,143.00   6.00        41.00     284.00    12.00 11,770.26       6.00   \n",
       "50%   1,277.00   9.00        74.00     518.00    19.00 19,308.01      38.00   \n",
       "75%   1,381.00  11.00       104.00     752.00    27.00 26,837.69      79.00   \n",
       "max   1,495.00  12.00       244.00   1,673.00    49.00 49,745.69     224.00   \n",
       "\n",
       "       income_tot  \n",
       "count      985.00  \n",
       "mean     2,070.15  \n",
       "std        376.19  \n",
       "min      1,950.00  \n",
       "25%      1,950.00  \n",
       "50%      1,950.00  \n",
       "75%      1,950.00  \n",
       "max      4,800.00  "
      ]
     },
     "execution_count": 65,
     "metadata": {},
     "output_type": "execute_result"
    }
   ],
   "source": [
    "ultra_df.describe()"
   ]
  },
  {
   "cell_type": "markdown",
   "metadata": {},
   "source": [
    "Пользователи тарифа \"Ultra\" в среднем практически не переплачивают выше ежемесячной платы и не расходуют лишние минуты, сообщения и интернет-трафик.<br>\n",
    "Средняя месячная выручка с каждого пользователя больше на тарифе \"Ultra\"."
   ]
  },
  {
   "cell_type": "markdown",
   "metadata": {},
   "source": [
    "Рассчитаем дисперсию:"
   ]
  },
  {
   "cell_type": "code",
   "execution_count": 66,
   "metadata": {},
   "outputs": [],
   "source": [
    "var_df = pd.DataFrame(\n",
    "    {'tariff': ['smart', 'ultra'],\n",
    "     'calls_sum': [smart_df['calls_sum'].var(), ultra_df['calls_sum'].var()],\n",
    "     'gb_used': [smart_df['gb_used'].var(), ultra_df['gb_used'].var()],\n",
    "     'msg_count': [smart_df['msg_count'].var(), ultra_df['msg_count'].var()],\n",
    "     'income_tot': [smart_df['income_tot'].var(), ultra_df['income_tot'].var()],\n",
    "})"
   ]
  },
  {
   "cell_type": "code",
   "execution_count": 67,
   "metadata": {},
   "outputs": [
    {
     "data": {
      "text/html": [
       "<div>\n",
       "<style scoped>\n",
       "    .dataframe tbody tr th:only-of-type {\n",
       "        vertical-align: middle;\n",
       "    }\n",
       "\n",
       "    .dataframe tbody tr th {\n",
       "        vertical-align: top;\n",
       "    }\n",
       "\n",
       "    .dataframe thead th {\n",
       "        text-align: right;\n",
       "    }\n",
       "</style>\n",
       "<table border=\"1\" class=\"dataframe\">\n",
       "  <thead>\n",
       "    <tr style=\"text-align: right;\">\n",
       "      <th></th>\n",
       "      <th>tariff</th>\n",
       "      <th>calls_sum</th>\n",
       "      <th>gb_used</th>\n",
       "      <th>msg_count</th>\n",
       "      <th>income_tot</th>\n",
       "    </tr>\n",
       "  </thead>\n",
       "  <tbody>\n",
       "    <tr>\n",
       "      <th>0</th>\n",
       "      <td>smart</td>\n",
       "      <td>36,219.32</td>\n",
       "      <td>33.03</td>\n",
       "      <td>796.81</td>\n",
       "      <td>669,785.71</td>\n",
       "    </tr>\n",
       "    <tr>\n",
       "      <th>1</th>\n",
       "      <td>ultra</td>\n",
       "      <td>100,873.63</td>\n",
       "      <td>97.09</td>\n",
       "      <td>2,285.27</td>\n",
       "      <td>141,516.75</td>\n",
       "    </tr>\n",
       "  </tbody>\n",
       "</table>\n",
       "</div>"
      ],
      "text/plain": [
       "  tariff  calls_sum  gb_used  msg_count  income_tot\n",
       "0  smart  36,219.32    33.03     796.81  669,785.71\n",
       "1  ultra 100,873.63    97.09   2,285.27  141,516.75"
      ]
     },
     "execution_count": 67,
     "metadata": {},
     "output_type": "execute_result"
    }
   ],
   "source": [
    "var_df.head()"
   ]
  },
  {
   "cell_type": "markdown",
   "metadata": {},
   "source": [
    "Сделаем сводную таблицу с суммами используемых услуг и выручки для разных тарифов."
   ]
  },
  {
   "cell_type": "code",
   "execution_count": 68,
   "metadata": {},
   "outputs": [],
   "source": [
    "sum_all_data_pvt = all_data.pivot_table(\n",
    "    index=['month'],\n",
    "    values=['calls_sum', 'msg_count', 'gb_used', 'income_tot'],\n",
    "    columns=['tariff'],\n",
    "    aggfunc=['sum']\n",
    "    ).droplevel(level=0, axis=1)"
   ]
  },
  {
   "cell_type": "code",
   "execution_count": 69,
   "metadata": {},
   "outputs": [],
   "source": [
    "mean_all_data_pvt = all_data.pivot_table(\n",
    "    index=['month'],\n",
    "    values=['calls_sum', 'msg_count', 'gb_used', 'income_tot'],\n",
    "    columns=['tariff'],\n",
    "    aggfunc=['mean']\n",
    "    ).droplevel(level=0, axis=1)"
   ]
  },
  {
   "cell_type": "code",
   "execution_count": 70,
   "metadata": {},
   "outputs": [
    {
     "data": {
      "text/html": [
       "<div>\n",
       "<style scoped>\n",
       "    .dataframe tbody tr th:only-of-type {\n",
       "        vertical-align: middle;\n",
       "    }\n",
       "\n",
       "    .dataframe tbody tr th {\n",
       "        vertical-align: top;\n",
       "    }\n",
       "\n",
       "    .dataframe thead tr th {\n",
       "        text-align: left;\n",
       "    }\n",
       "\n",
       "    .dataframe thead tr:last-of-type th {\n",
       "        text-align: right;\n",
       "    }\n",
       "</style>\n",
       "<table border=\"1\" class=\"dataframe\">\n",
       "  <thead>\n",
       "    <tr>\n",
       "      <th></th>\n",
       "      <th colspan=\"2\" halign=\"left\">calls_sum</th>\n",
       "      <th colspan=\"2\" halign=\"left\">gb_used</th>\n",
       "      <th colspan=\"2\" halign=\"left\">income_tot</th>\n",
       "      <th colspan=\"2\" halign=\"left\">msg_count</th>\n",
       "    </tr>\n",
       "    <tr>\n",
       "      <th>tariff</th>\n",
       "      <th>smart</th>\n",
       "      <th>ultra</th>\n",
       "      <th>smart</th>\n",
       "      <th>ultra</th>\n",
       "      <th>smart</th>\n",
       "      <th>ultra</th>\n",
       "      <th>smart</th>\n",
       "      <th>ultra</th>\n",
       "    </tr>\n",
       "    <tr>\n",
       "      <th>month</th>\n",
       "      <th></th>\n",
       "      <th></th>\n",
       "      <th></th>\n",
       "      <th></th>\n",
       "      <th></th>\n",
       "      <th></th>\n",
       "      <th></th>\n",
       "      <th></th>\n",
       "    </tr>\n",
       "  </thead>\n",
       "  <tbody>\n",
       "    <tr>\n",
       "      <th>1.00</th>\n",
       "      <td>6,931.00</td>\n",
       "      <td>3,853.00</td>\n",
       "      <td>297.00</td>\n",
       "      <td>119.00</td>\n",
       "      <td>24,525.00</td>\n",
       "      <td>17,550.00</td>\n",
       "      <td>620.00</td>\n",
       "      <td>304.00</td>\n",
       "    </tr>\n",
       "    <tr>\n",
       "      <th>2.00</th>\n",
       "      <td>17,324.00</td>\n",
       "      <td>7,131.00</td>\n",
       "      <td>687.00</td>\n",
       "      <td>288.00</td>\n",
       "      <td>48,001.00</td>\n",
       "      <td>47,400.00</td>\n",
       "      <td>1,397.00</td>\n",
       "      <td>527.00</td>\n",
       "    </tr>\n",
       "    <tr>\n",
       "      <th>3.00</th>\n",
       "      <td>30,034.00</td>\n",
       "      <td>18,117.00</td>\n",
       "      <td>1,173.00</td>\n",
       "      <td>653.00</td>\n",
       "      <td>89,676.00</td>\n",
       "      <td>74,550.00</td>\n",
       "      <td>2,453.00</td>\n",
       "      <td>1,195.00</td>\n",
       "    </tr>\n",
       "  </tbody>\n",
       "</table>\n",
       "</div>"
      ],
      "text/plain": [
       "       calls_sum            gb_used        income_tot           msg_count  \\\n",
       "tariff     smart     ultra    smart  ultra      smart     ultra     smart   \n",
       "month                                                                       \n",
       "1.00    6,931.00  3,853.00   297.00 119.00  24,525.00 17,550.00    620.00   \n",
       "2.00   17,324.00  7,131.00   687.00 288.00  48,001.00 47,400.00  1,397.00   \n",
       "3.00   30,034.00 18,117.00 1,173.00 653.00  89,676.00 74,550.00  2,453.00   \n",
       "\n",
       "                 \n",
       "tariff    ultra  \n",
       "month            \n",
       "1.00     304.00  \n",
       "2.00     527.00  \n",
       "3.00   1,195.00  "
      ]
     },
     "execution_count": 70,
     "metadata": {},
     "output_type": "execute_result"
    }
   ],
   "source": [
    "sum_all_data_pvt.head(3)"
   ]
  },
  {
   "cell_type": "code",
   "execution_count": 71,
   "metadata": {
    "scrolled": true
   },
   "outputs": [
    {
     "data": {
      "image/png": "[encoded data removed]",
      "text/plain": [
       "<Figure size 432x288 with 1 Axes>"
      ]
     },
     "metadata": {
      "needs_background": "light"
     },
     "output_type": "display_data"
    }
   ],
   "source": [
    "mean_all_data_pvt['income_tot'].plot()\n",
    "plt.title('Средняя выручка')\n",
    "plt.xlabel('Месяц')\n",
    "plt.ylabel('Количество')\n",
    "plt.show()"
   ]
  },
  {
   "cell_type": "code",
   "execution_count": 72,
   "metadata": {
    "scrolled": false
   },
   "outputs": [
    {
     "data": {
      "image/png": "[encoded data removed]",
      "text/plain": [
       "<Figure size 432x288 with 1 Axes>"
      ]
     },
     "metadata": {
      "needs_background": "light"
     },
     "output_type": "display_data"
    }
   ],
   "source": [
    "sum_all_data_pvt['income_tot'].plot()\n",
    "plt.title('Общая выручка')\n",
    "plt.xlabel('Месяц')\n",
    "plt.ylabel('Количество')\n",
    "plt.show()"
   ]
  },
  {
   "cell_type": "markdown",
   "metadata": {},
   "source": [
    "Средняя помесячная выручка с каждого пользователя больше на тарифе \"Ultra\", но общая выручка больше с пользователей тарифа \"Smart\"."
   ]
  },
  {
   "cell_type": "code",
   "execution_count": 73,
   "metadata": {
    "scrolled": true
   },
   "outputs": [
    {
     "data": {
      "image/png": "[encoded data removed]",
      "text/plain": [
       "<Figure size 432x288 with 1 Axes>"
      ]
     },
     "metadata": {
      "needs_background": "light"
     },
     "output_type": "display_data"
    }
   ],
   "source": [
    "sum_all_data_pvt['calls_sum'].plot()\n",
    "plt.title('Общее количество израсходованных минут')\n",
    "plt.xlabel('Месяц')\n",
    "plt.ylabel('Количество')\n",
    "plt.show()"
   ]
  },
  {
   "cell_type": "code",
   "execution_count": 74,
   "metadata": {
    "scrolled": true
   },
   "outputs": [
    {
     "data": {
      "image/png": "[encoded data removed]",
      "text/plain": [
       "<Figure size 432x288 with 1 Axes>"
      ]
     },
     "metadata": {
      "needs_background": "light"
     },
     "output_type": "display_data"
    }
   ],
   "source": [
    "mean_all_data_pvt['calls_sum'].plot()\n",
    "plt.title('Среднее количество израсходованных минут')\n",
    "plt.xlabel('Месяц')\n",
    "plt.ylabel('Количество')\n",
    "plt.show()"
   ]
  },
  {
   "cell_type": "markdown",
   "metadata": {},
   "source": [
    "Общее количество израсходованных минут у пользователей тарифа \"Smart\" больше, но в среднем они расходуют меньше минут."
   ]
  },
  {
   "cell_type": "code",
   "execution_count": 75,
   "metadata": {
    "scrolled": true
   },
   "outputs": [
    {
     "data": {
      "image/png": "[encoded data removed]",
      "text/plain": [
       "<Figure size 432x288 with 1 Axes>"
      ]
     },
     "metadata": {
      "needs_background": "light"
     },
     "output_type": "display_data"
    }
   ],
   "source": [
    "sum_all_data_pvt['msg_count'].plot()\n",
    "plt.title('Общее количество отправленных сообщений')\n",
    "plt.xlabel('Месяц')\n",
    "plt.ylabel('Количество')\n",
    "plt.show()"
   ]
  },
  {
   "cell_type": "code",
   "execution_count": 76,
   "metadata": {
    "scrolled": true
   },
   "outputs": [
    {
     "data": {
      "image/png": "[encoded data removed]",
      "text/plain": [
       "<Figure size 432x288 with 1 Axes>"
      ]
     },
     "metadata": {
      "needs_background": "light"
     },
     "output_type": "display_data"
    }
   ],
   "source": [
    "mean_all_data_pvt['msg_count'].plot()\n",
    "plt.title('Среднее количество отправленных сообщений')\n",
    "plt.xlabel('Месяц')\n",
    "plt.ylabel('Количество')\n",
    "plt.show()"
   ]
  },
  {
   "cell_type": "markdown",
   "metadata": {},
   "source": [
    "Общее количество отправленных сообщений у пользователей тарифа \"Smart\" больше, но в среднем они отправляют меньше сообщений."
   ]
  },
  {
   "cell_type": "code",
   "execution_count": 77,
   "metadata": {
    "scrolled": true
   },
   "outputs": [
    {
     "data": {
      "image/png": "[encoded data removed]",
      "text/plain": [
       "<Figure size 432x288 with 1 Axes>"
      ]
     },
     "metadata": {
      "needs_background": "light"
     },
     "output_type": "display_data"
    }
   ],
   "source": [
    "sum_all_data_pvt['gb_used'].plot()\n",
    "plt.title('Общий объем израсходованного интернет-трафика')\n",
    "plt.xlabel('Месяц')\n",
    "plt.ylabel('Объем')\n",
    "plt.show()"
   ]
  },
  {
   "cell_type": "code",
   "execution_count": 78,
   "metadata": {
    "scrolled": true
   },
   "outputs": [
    {
     "data": {
      "image/png": "[encoded data removed]",
      "text/plain": [
       "<Figure size 432x288 with 1 Axes>"
      ]
     },
     "metadata": {
      "needs_background": "light"
     },
     "output_type": "display_data"
    }
   ],
   "source": [
    "mean_all_data_pvt['gb_used'].plot()\n",
    "plt.title('Средний объем израсходованного интернет-трафика')\n",
    "plt.xlabel('Месяц')\n",
    "plt.ylabel('Объем')\n",
    "plt.show()"
   ]
  },
  {
   "cell_type": "markdown",
   "metadata": {},
   "source": [
    "Тут тоже аналогично - общий объем трафика у пользователей тарифа \"Smart\" больше, но в среднем они расходуют меньше."
   ]
  },
  {
   "cell_type": "code",
   "execution_count": 79,
   "metadata": {
    "scrolled": false
   },
   "outputs": [
    {
     "data": {
      "image/png": "[encoded data removed]",
      "text/plain": [
       "<Figure size 1080x360 with 1 Axes>"
      ]
     },
     "metadata": {
      "needs_background": "light"
     },
     "output_type": "display_data"
    }
   ],
   "source": [
    "plt.figure(figsize = (15,5))\n",
    "sns.histplot(smart_df['calls_sum'], bins=50, label='Тариф Smart', color='red', alpha=0.3)\n",
    "sns.histplot(ultra_df['calls_sum'], bins=50, label='Тариф Ultra', color='green', alpha=.4)\n",
    "plt.title('Гистограмма средней длительности звонков')\n",
    "plt.xlabel('Минуты')\n",
    "plt.ylabel('Количество')\n",
    "plt.legend()\n",
    "plt.show()"
   ]
  },
  {
   "cell_type": "markdown",
   "metadata": {},
   "source": [
    "Гистограммы средней длительности звонков имеют нормальное распределение с немного смещенным центром распределения."
   ]
  },
  {
   "cell_type": "code",
   "execution_count": 80,
   "metadata": {
    "scrolled": true
   },
   "outputs": [
    {
     "data": {
      "image/png": "[encoded data removed]",
      "text/plain": [
       "<Figure size 1080x360 with 1 Axes>"
      ]
     },
     "metadata": {
      "needs_background": "light"
     },
     "output_type": "display_data"
    }
   ],
   "source": [
    "plt.figure(figsize = (15,5))\n",
    "sns.histplot(smart_df.query('msg_count > 0')['msg_count'], bins=50, label='Тариф Smart', color='red', alpha=0.3)\n",
    "sns.histplot(ultra_df.query('msg_count > 0')['msg_count'], bins=50, label='Тариф Ultra', color='green', alpha=.4)\n",
    "plt.title('Гистограмма среднего количества сообщений')\n",
    "plt.xlabel('Сообщения')\n",
    "plt.ylabel('Количество')\n",
    "plt.legend()\n",
    "plt.show()"
   ]
  },
  {
   "cell_type": "markdown",
   "metadata": {},
   "source": [
    "Гистограммы среднего количества сообщений имеют геометрическое распределение."
   ]
  },
  {
   "cell_type": "code",
   "execution_count": 81,
   "metadata": {
    "scrolled": false
   },
   "outputs": [
    {
     "data": {
      "image/png": "[encoded data removed]",
      "text/plain": [
       "<Figure size 1080x360 with 1 Axes>"
      ]
     },
     "metadata": {
      "needs_background": "light"
     },
     "output_type": "display_data"
    }
   ],
   "source": [
    "plt.figure(figsize = (15,5))\n",
    "sns.histplot(smart_df['gb_used'], bins=50, label='Тариф Smart', color='red', alpha=0.3)\n",
    "sns.histplot(ultra_df['gb_used'], bins=50, label='Тариф Ultra', color='green', alpha=.4)\n",
    "plt.title('Гистограмма среднего израсходованного интернет-трафика')\n",
    "plt.xlabel('Размер трафика в гигабайтах')\n",
    "plt.ylabel('Количество')\n",
    "plt.legend()\n",
    "plt.show()"
   ]
  },
  {
   "cell_type": "markdown",
   "metadata": {},
   "source": [
    "Гистограммы среднего израсходованного интернет-трафика имеют нормальное распределение."
   ]
  },
  {
   "cell_type": "markdown",
   "metadata": {
    "id": "6t4EukPLgFyV"
   },
   "source": [
    "### Краткий вывод:\n"
   ]
  },
  {
   "cell_type": "markdown",
   "metadata": {},
   "source": [
    "Пользователи тарифа \"Smart\" в среднем переплачивают сверх абонентской платы и расходуют больше интернет-трафика, чем включено в тариф. Пользователи тарифа \"Ultra\" в среднем практически не переплачивают выше ежемесячной платы и не расходуют лишние минуты, сообщения и интернет-трафик.<br>\n",
    "\n",
    "Средняя месячная выручка с каждого пользователя больше на тарифе \"Ultra\", но общая выручка больше с пользователей тарифа \"Smart\". Тариф \"Smart\" приносит больше денег.<br>\n",
    "\n",
    "Пользователи тарифа \"Smart\" в общем расходуют больше минут, сообщений и интернет трафика, но в среднем расходуют меньше пользователей тарифа \"Ultra\". В тарифе \"Ultra\" пользователи расходуют интернет-трафик не намного больше, а пользователи тарифа \"Smart\" в среднем практически всегда тратят больше включенных в тариф 15Гб трафика.<br>\n",
    "\n",
    "Гистограммы средней длительности звонков и среднего израсходованного интернет-трафика имеют нормальное распределение, а гистограммы среднего количества сообщений имеют геометрическое распределение."
   ]
  },
  {
   "cell_type": "markdown",
   "metadata": {
    "id": "l_Kg6Ku4gFya"
   },
   "source": [
    "## Проверка гипотез\n",
    "\n"
   ]
  },
  {
   "cell_type": "markdown",
   "metadata": {},
   "source": [
    "Проверим гипотезы:\n",
    "- средняя выручка пользователей тарифов «Ультра» и «Смарт» различаются;\n",
    "- средняя выручка пользователей из Москвы отличается от выручки пользователей из других регионов."
   ]
  },
  {
   "cell_type": "markdown",
   "metadata": {},
   "source": [
    "Нулевая гипотеза всегда формулируется так, чтобы использовать знак равенства. <br>\n",
    "Если мы выясняем, есть ли разница между совокупностями, то нулевая гипотеза в нашем случае будет такая: «Разницы нет, средняя выручка пользователей тарифов «Ультра» и «Смарт» равна!». Если отвергается нулевая гипотеза, то принимается альтернативная - \"Средняя выручка пользователей тарифов «Ультра» и «Смарт» различаются\"."
   ]
  },
  {
   "cell_type": "markdown",
   "metadata": {},
   "source": [
    "Для проверки гипотез будем использовать t-тест и уровень значимости p-value."
   ]
  },
  {
   "cell_type": "code",
   "execution_count": 82,
   "metadata": {
    "scrolled": true
   },
   "outputs": [
    {
     "name": "stdout",
     "output_type": "stream",
     "text": [
      "p-значение: 4.2606313931076085e-250\n",
      "Отвергаем нулевую гипотезу.\n"
     ]
    }
   ],
   "source": [
    "alpha = 0.05\n",
    "\n",
    "results = st.ttest_ind(\n",
    "    smart_df['income_tot'],\n",
    "    ultra_df['income_tot'],\n",
    "    equal_var=False)\n",
    "\n",
    "print('p-значение:', results.pvalue)\n",
    "if results.pvalue < alpha:\n",
    "    print(\"Отвергаем нулевую гипотезу.\")\n",
    "else:\n",
    "    print(\"Не получилось отвергнуть нулевую гипотезу.\")"
   ]
  },
  {
   "cell_type": "markdown",
   "metadata": {},
   "source": [
    "Можно сделать вывод, что, скорее всего, предположение всё-таки неверно и принять альтернативную гипотезу - \"Средняя выручка пользователей тарифов «Ультра» и «Смарт» различаются\"."
   ]
  },
  {
   "cell_type": "markdown",
   "metadata": {},
   "source": [
    "Посмотрим на график средней выручки."
   ]
  },
  {
   "cell_type": "code",
   "execution_count": 83,
   "metadata": {
    "scrolled": false
   },
   "outputs": [
    {
     "data": {
      "image/png": "[encoded data removed]",
      "text/plain": [
       "<Figure size 432x288 with 1 Axes>"
      ]
     },
     "metadata": {
      "needs_background": "light"
     },
     "output_type": "display_data"
    }
   ],
   "source": [
    "mean_all_data_pvt['income_tot'].plot()\n",
    "plt.title('Средняя выручка')\n",
    "plt.xlabel('Месяц')\n",
    "plt.ylabel('Количество')\n",
    "plt.show()"
   ]
  },
  {
   "cell_type": "markdown",
   "metadata": {},
   "source": [
    "Для проверки второй гипотезы добавим в сводную таблицу колонку с названием города:"
   ]
  },
  {
   "cell_type": "code",
   "execution_count": 84,
   "metadata": {},
   "outputs": [],
   "source": [
    "all_data = pd.merge(all_data, df_users[['user_id', 'city']], 'left', on=['user_id'])"
   ]
  },
  {
   "cell_type": "code",
   "execution_count": 85,
   "metadata": {},
   "outputs": [],
   "source": [
    "def city_group(name):\n",
    "    if name == \"Москва\":\n",
    "        return 'Москва'\n",
    "    else:\n",
    "        return 'Другой'"
   ]
  },
  {
   "cell_type": "code",
   "execution_count": 86,
   "metadata": {},
   "outputs": [],
   "source": [
    "all_data['city_group'] = all_data['city'].apply(city_group)"
   ]
  },
  {
   "cell_type": "markdown",
   "metadata": {},
   "source": [
    "Аналогично первой, для второй проверки гипотезы Н0 и Н1 будут такими:\n",
    "- Н0 - средняя выручка пользователей из Москвы равна выручке других регионов\n",
    "- Н1 - средняя выручка пользователей из Москвы отличается от выручки пользователей из других регионов"
   ]
  },
  {
   "cell_type": "code",
   "execution_count": 87,
   "metadata": {},
   "outputs": [
    {
     "name": "stdout",
     "output_type": "stream",
     "text": [
      "p-значение: 0.5257376663729298\n",
      "Не получилось отвергнуть нулевую гипотезу.\n"
     ]
    }
   ],
   "source": [
    "alpha = 0.05\n",
    "\n",
    "results = st.ttest_ind(\n",
    "    all_data.query('city == \"Москва\"')['income_tot'],\n",
    "    all_data.query('city != \"Москва\"')['income_tot'],\n",
    "    equal_var=False)\n",
    "\n",
    "print('p-значение:', results.pvalue)\n",
    "if results.pvalue < alpha:\n",
    "    print(\"Отвергаем нулевую гипотезу.\")\n",
    "else:\n",
    "    print(\"Не получилось отвергнуть нулевую гипотезу.\")"
   ]
  },
  {
   "cell_type": "markdown",
   "metadata": {},
   "source": [
    "Данные не дают основания отвергнуть нулевую гипотезу и принять альтернативную - \"Средняя выручка пользователей из Москвы отличается от выручки пользователей из других регионов.\"."
   ]
  },
  {
   "cell_type": "markdown",
   "metadata": {},
   "source": [
    "Взглянем на график средней выручки пользователей из Москвы и других регионов."
   ]
  },
  {
   "cell_type": "code",
   "execution_count": 88,
   "metadata": {
    "scrolled": false
   },
   "outputs": [
    {
     "data": {
      "image/png": "[encoded data removed]",
      "text/plain": [
       "<Figure size 432x288 with 1 Axes>"
      ]
     },
     "metadata": {
      "needs_background": "light"
     },
     "output_type": "display_data"
    }
   ],
   "source": [
    "all_data.pivot_table(\n",
    "    index=['month'],\n",
    "    values=['calls_sum', 'msg_count', 'gb_used', 'income_tot'],\n",
    "    columns=['city_group'],\n",
    "    aggfunc=['mean']\n",
    "    ).droplevel(level=0, axis=1)['income_tot'].plot()\n",
    "plt.title('Средняя выручка')\n",
    "plt.xlabel('Месяц')\n",
    "plt.ylabel('Количество')\n",
    "plt.show()"
   ]
  },
  {
   "cell_type": "markdown",
   "metadata": {
    "id": "6t4EukPLgFyV"
   },
   "source": [
    "### Краткий вывод:\n"
   ]
  },
  {
   "cell_type": "markdown",
   "metadata": {},
   "source": [
    "На основе проверок:\n",
    "- гипотезу \"Средняя выручка пользователей тарифов «Ультра» и «Смарт» различаются\" принимаем.<br>\n",
    "- гипотезу \"Средняя выручка пользователей из Москвы отличается от выручки пользователей из других регионов\" не принимаем.\n"
   ]
  },
  {
   "cell_type": "markdown",
   "metadata": {
    "id": "V2gYwMcPgFyd"
   },
   "source": [
    "## Общий вывод"
   ]
  },
  {
   "cell_type": "markdown",
   "metadata": {},
   "source": [
    "Изучили файлы с данными, исправили одну таблицу - удалили лишнюю колонку. Привели даты к нормальному типу. Проверили данные на пропуски и дубликаты.\n",
    "Изучили и проверили числовые, категориальные и текстовые данные на возможные ошибки и не явные дубликаты.<br>\n",
    "\n",
    "Добавили колонки с информацией о месяце и тарифе. Посчитали и добавили для каждого пользователя информацию по месяцам:\n",
    "- количество сделанных звонков и израсходованных минут;\n",
    "- количество отправленных сообщений;\n",
    "- объем израсходованного интернет-трафика;\n",
    "- помесячную выручку с каждого пользователя в зависимости от тарифного плана. <br>\n",
    "Объединили все данные в одну сводную таблицу.\n",
    "\n",
    "Пользователи тарифа \"Smart\" в среднем переплачивают сверх абонентской платы и расходуют больше интернет-трафика, чем включено в тариф. Пользователи тарифа \"Ultra\" в среднем практически не переплачивают выше ежемесячной платы и не расходуют лишние минуты, сообщения и интернет-трафик.<br>\n",
    "\n",
    "Средняя месячная выручка с каждого пользователя больше на тарифе \"Ultra\", но общая выручка больше с пользователей тарифа \"Smart\". Тариф \"Smart\" приносит больше денег.<br>\n",
    "\n",
    "Так же на графиках ниже видно, что общая и средняя выручка с пользователей тарифа \"Smart\" растет."
   ]
  },
  {
   "cell_type": "code",
   "execution_count": 89,
   "metadata": {
    "scrolled": true
   },
   "outputs": [
    {
     "data": {
      "image/png": "[encoded data removed]",
      "text/plain": [
       "<Figure size 432x288 with 1 Axes>"
      ]
     },
     "metadata": {
      "needs_background": "light"
     },
     "output_type": "display_data"
    }
   ],
   "source": [
    "sum_all_data_pvt['income_tot'].plot()\n",
    "plt.title('Общая выручка')\n",
    "plt.xlabel('Месяц')\n",
    "plt.ylabel('Количество')\n",
    "plt.show()"
   ]
  },
  {
   "cell_type": "code",
   "execution_count": 90,
   "metadata": {
    "scrolled": false
   },
   "outputs": [
    {
     "data": {
      "image/png": "[encoded data removed]",
      "text/plain": [
       "<Figure size 432x288 with 1 Axes>"
      ]
     },
     "metadata": {
      "needs_background": "light"
     },
     "output_type": "display_data"
    }
   ],
   "source": [
    "mean_all_data_pvt['income_tot'].plot()\n",
    "plt.title('Средняя выручка')\n",
    "plt.xlabel('Месяц')\n",
    "plt.ylabel('Количество')\n",
    "plt.show()"
   ]
  },
  {
   "cell_type": "markdown",
   "metadata": {},
   "source": [
    "Пользователи тарифа \"Smart\" в общем расходуют больше минут, сообщений и интернет трафика, но в среднем расходуют меньше пользователей тарифа \"Ultra\". В тарифе \"Ultra\" пользователи расходуют интернет-трафик не намного больше, а пользователи тарифа \"Smart\" в среднем практически всегда тратят больше включенных в тариф 15Гб трафика.<br>\n",
    "\n",
    "Гистограммы средней длительности звонков и среднего израсходованного интернет-трафика имеют нормальное распределение, а гистограммы среднего количества сообщений имеют геометрическое распределение.\n",
    "\n",
    "На основе проверок гипотез:\n",
    "- гипотезу \"Средняя выручка пользователей тарифов «Ультра» и «Смарт» различаются\" принимаем.\n",
    "- гипотезу \"Средняя выручка пользователей из Москвы отличается от выручки пользователей из других регионов\" не принимаем."
   ]
  }
 ],
 "metadata": {
  "ExecuteTimeLog": [
   {
    "duration": 1316,
    "start_time": "2022-08-30T11:32:18.899Z"
   },
   {
    "duration": 978,
    "start_time": "2022-08-30T11:42:50.185Z"
   },
   {
    "duration": 24,
    "start_time": "2022-08-30T11:43:03.335Z"
   },
   {
    "duration": 21,
    "start_time": "2022-08-30T11:43:17.634Z"
   },
   {
    "duration": 19,
    "start_time": "2022-08-30T11:44:02.395Z"
   },
   {
    "duration": 39,
    "start_time": "2022-08-30T11:44:38.970Z"
   },
   {
    "duration": 28,
    "start_time": "2022-08-30T11:46:21.554Z"
   },
   {
    "duration": 32,
    "start_time": "2022-08-30T11:46:26.487Z"
   },
   {
    "duration": 26,
    "start_time": "2022-08-30T11:47:01.312Z"
   },
   {
    "duration": 40,
    "start_time": "2022-08-30T11:47:09.905Z"
   },
   {
    "duration": 29,
    "start_time": "2022-08-30T11:47:42.985Z"
   },
   {
    "duration": 53,
    "start_time": "2022-08-30T11:48:02.357Z"
   },
   {
    "duration": 49,
    "start_time": "2022-08-30T11:48:15.129Z"
   },
   {
    "duration": 30,
    "start_time": "2022-08-30T11:48:30.559Z"
   },
   {
    "duration": 37,
    "start_time": "2022-08-30T11:48:35.644Z"
   },
   {
    "duration": 23,
    "start_time": "2022-08-30T12:06:38.654Z"
   },
   {
    "duration": 18,
    "start_time": "2022-08-30T12:07:07.341Z"
   },
   {
    "duration": 20,
    "start_time": "2022-08-30T12:07:42.705Z"
   },
   {
    "duration": 34,
    "start_time": "2022-08-30T14:36:35.500Z"
   },
   {
    "duration": 106,
    "start_time": "2022-08-30T14:43:40.587Z"
   },
   {
    "duration": 3,
    "start_time": "2022-08-30T14:47:05.052Z"
   },
   {
    "duration": 4,
    "start_time": "2022-08-30T14:47:35.962Z"
   },
   {
    "duration": 445,
    "start_time": "2022-08-30T14:47:35.968Z"
   },
   {
    "duration": 37,
    "start_time": "2022-08-30T14:47:36.415Z"
   },
   {
    "duration": 28,
    "start_time": "2022-08-30T14:47:36.454Z"
   },
   {
    "duration": 45,
    "start_time": "2022-08-30T14:47:36.484Z"
   },
   {
    "duration": 21,
    "start_time": "2022-08-30T14:47:36.532Z"
   },
   {
    "duration": 31,
    "start_time": "2022-08-30T14:47:36.555Z"
   },
   {
    "duration": 17,
    "start_time": "2022-08-30T14:47:36.587Z"
   },
   {
    "duration": 28,
    "start_time": "2022-08-30T14:47:44.476Z"
   },
   {
    "duration": 8,
    "start_time": "2022-08-30T14:48:44.740Z"
   },
   {
    "duration": 34,
    "start_time": "2022-08-30T14:50:04.084Z"
   },
   {
    "duration": 9,
    "start_time": "2022-08-30T14:50:14.605Z"
   },
   {
    "duration": 19,
    "start_time": "2022-08-30T14:50:23.033Z"
   },
   {
    "duration": 22,
    "start_time": "2022-08-30T14:51:23.848Z"
   },
   {
    "duration": 41,
    "start_time": "2022-08-30T14:51:33.344Z"
   },
   {
    "duration": 879,
    "start_time": "2022-08-30T14:52:02.645Z"
   },
   {
    "duration": 24,
    "start_time": "2022-08-30T14:52:16.216Z"
   },
   {
    "duration": 24,
    "start_time": "2022-08-30T14:52:33.667Z"
   },
   {
    "duration": 20,
    "start_time": "2022-08-30T14:52:51.959Z"
   },
   {
    "duration": 20,
    "start_time": "2022-08-30T14:53:21.092Z"
   },
   {
    "duration": 4,
    "start_time": "2022-08-30T14:53:51.010Z"
   },
   {
    "duration": 11,
    "start_time": "2022-08-30T14:54:48.281Z"
   },
   {
    "duration": 9,
    "start_time": "2022-08-30T14:55:32.918Z"
   },
   {
    "duration": 10,
    "start_time": "2022-08-30T14:55:48.597Z"
   },
   {
    "duration": 8,
    "start_time": "2022-08-30T14:56:13.625Z"
   },
   {
    "duration": 45,
    "start_time": "2022-08-30T14:57:35.129Z"
   },
   {
    "duration": 25,
    "start_time": "2022-08-30T14:57:42.026Z"
   },
   {
    "duration": 30,
    "start_time": "2022-08-30T14:57:47.028Z"
   },
   {
    "duration": 33,
    "start_time": "2022-08-30T14:58:34.336Z"
   },
   {
    "duration": 11,
    "start_time": "2022-08-30T14:59:15.530Z"
   },
   {
    "duration": 12,
    "start_time": "2022-08-30T15:00:14.077Z"
   },
   {
    "duration": 4,
    "start_time": "2022-08-30T15:00:21.323Z"
   },
   {
    "duration": 13,
    "start_time": "2022-08-30T15:00:27.034Z"
   },
   {
    "duration": 22,
    "start_time": "2022-08-30T15:00:36.409Z"
   },
   {
    "duration": 20,
    "start_time": "2022-08-30T15:00:49.255Z"
   },
   {
    "duration": 5,
    "start_time": "2022-08-30T15:01:06.205Z"
   },
   {
    "duration": 5,
    "start_time": "2022-08-30T15:03:02.974Z"
   },
   {
    "duration": 6,
    "start_time": "2022-08-30T15:03:36.040Z"
   },
   {
    "duration": 5,
    "start_time": "2022-08-30T15:09:57.580Z"
   },
   {
    "duration": 15,
    "start_time": "2022-08-30T15:12:26.296Z"
   },
   {
    "duration": 28,
    "start_time": "2022-08-30T15:12:55.337Z"
   },
   {
    "duration": 21,
    "start_time": "2022-08-30T15:13:03.179Z"
   },
   {
    "duration": 15,
    "start_time": "2022-08-30T15:13:08.691Z"
   },
   {
    "duration": 12,
    "start_time": "2022-08-30T15:13:15.966Z"
   },
   {
    "duration": 8,
    "start_time": "2022-08-30T15:13:19.127Z"
   },
   {
    "duration": 8,
    "start_time": "2022-08-30T15:15:20.309Z"
   },
   {
    "duration": 7,
    "start_time": "2022-08-30T15:15:25.763Z"
   },
   {
    "duration": 11,
    "start_time": "2022-08-30T15:23:45.756Z"
   },
   {
    "duration": 11,
    "start_time": "2022-08-30T15:23:50.930Z"
   },
   {
    "duration": 105,
    "start_time": "2022-08-30T15:23:56.847Z"
   },
   {
    "duration": 74,
    "start_time": "2022-08-30T15:24:28.021Z"
   },
   {
    "duration": 50,
    "start_time": "2022-08-30T15:24:30.284Z"
   },
   {
    "duration": 8,
    "start_time": "2022-08-30T15:24:32.545Z"
   },
   {
    "duration": 24,
    "start_time": "2022-08-30T15:34:41.641Z"
   },
   {
    "duration": 54,
    "start_time": "2022-08-30T15:34:54.928Z"
   },
   {
    "duration": 53,
    "start_time": "2022-08-30T15:35:28.117Z"
   },
   {
    "duration": 50,
    "start_time": "2022-08-30T15:36:15.291Z"
   },
   {
    "duration": 4,
    "start_time": "2022-08-30T15:36:21.433Z"
   },
   {
    "duration": 41,
    "start_time": "2022-08-30T15:36:29.575Z"
   },
   {
    "duration": 8,
    "start_time": "2022-08-30T15:46:17.207Z"
   },
   {
    "duration": 22,
    "start_time": "2022-08-30T15:46:29.583Z"
   },
   {
    "duration": 4,
    "start_time": "2022-08-30T15:53:40.390Z"
   },
   {
    "duration": 485,
    "start_time": "2022-08-30T15:53:40.396Z"
   },
   {
    "duration": 73,
    "start_time": "2022-08-30T15:53:40.883Z"
   },
   {
    "duration": 89,
    "start_time": "2022-08-30T15:53:40.958Z"
   },
   {
    "duration": 25,
    "start_time": "2022-08-30T15:53:41.049Z"
   },
   {
    "duration": 36,
    "start_time": "2022-08-30T15:53:41.076Z"
   },
   {
    "duration": 39,
    "start_time": "2022-08-30T15:53:41.113Z"
   },
   {
    "duration": 12,
    "start_time": "2022-08-30T15:53:41.153Z"
   },
   {
    "duration": 57,
    "start_time": "2022-08-30T15:53:41.168Z"
   },
   {
    "duration": 63,
    "start_time": "2022-08-30T15:53:41.229Z"
   },
   {
    "duration": 44,
    "start_time": "2022-08-30T15:53:41.294Z"
   },
   {
    "duration": 27,
    "start_time": "2022-08-30T15:53:41.339Z"
   },
   {
    "duration": 7,
    "start_time": "2022-08-30T15:53:41.368Z"
   },
   {
    "duration": 41,
    "start_time": "2022-08-30T15:53:41.379Z"
   },
   {
    "duration": 18,
    "start_time": "2022-08-30T15:53:41.422Z"
   },
   {
    "duration": 19,
    "start_time": "2022-08-30T15:53:41.442Z"
   },
   {
    "duration": 39,
    "start_time": "2022-08-30T15:53:41.463Z"
   },
   {
    "duration": 119,
    "start_time": "2022-08-30T15:53:41.506Z"
   },
   {
    "duration": 86,
    "start_time": "2022-08-30T15:53:41.627Z"
   },
   {
    "duration": 90,
    "start_time": "2022-08-30T15:53:41.715Z"
   },
   {
    "duration": 10,
    "start_time": "2022-08-30T15:53:41.807Z"
   },
   {
    "duration": 1393,
    "start_time": "2022-09-01T13:02:55.929Z"
   },
   {
    "duration": 1069,
    "start_time": "2022-09-01T13:02:57.324Z"
   },
   {
    "duration": 74,
    "start_time": "2022-09-01T13:02:58.394Z"
   },
   {
    "duration": 53,
    "start_time": "2022-09-01T13:02:58.469Z"
   },
   {
    "duration": 47,
    "start_time": "2022-09-01T13:02:58.525Z"
   },
   {
    "duration": 19,
    "start_time": "2022-09-01T13:02:58.574Z"
   },
   {
    "duration": 34,
    "start_time": "2022-09-01T13:02:58.594Z"
   },
   {
    "duration": 33,
    "start_time": "2022-09-01T13:02:58.630Z"
   },
   {
    "duration": 50,
    "start_time": "2022-09-01T13:02:58.666Z"
   },
   {
    "duration": 59,
    "start_time": "2022-09-01T13:02:58.718Z"
   },
   {
    "duration": 27,
    "start_time": "2022-09-01T13:02:58.781Z"
   },
   {
    "duration": 21,
    "start_time": "2022-09-01T13:02:58.810Z"
   },
   {
    "duration": 7,
    "start_time": "2022-09-01T13:02:58.833Z"
   },
   {
    "duration": 38,
    "start_time": "2022-09-01T13:02:58.842Z"
   },
   {
    "duration": 14,
    "start_time": "2022-09-01T13:02:58.882Z"
   },
   {
    "duration": 11,
    "start_time": "2022-09-01T13:02:58.898Z"
   },
   {
    "duration": 6,
    "start_time": "2022-09-01T13:02:58.911Z"
   },
   {
    "duration": 144,
    "start_time": "2022-09-01T13:02:58.919Z"
   },
   {
    "duration": 59,
    "start_time": "2022-09-01T13:02:59.071Z"
   },
   {
    "duration": 62,
    "start_time": "2022-09-01T13:02:59.132Z"
   },
   {
    "duration": 7,
    "start_time": "2022-09-01T13:02:59.196Z"
   },
   {
    "duration": 18,
    "start_time": "2022-09-01T13:05:52.787Z"
   },
   {
    "duration": 5,
    "start_time": "2022-09-01T13:05:57.552Z"
   },
   {
    "duration": 5,
    "start_time": "2022-09-01T13:06:00.532Z"
   },
   {
    "duration": 4,
    "start_time": "2022-09-01T13:06:03.747Z"
   },
   {
    "duration": 6,
    "start_time": "2022-09-01T13:06:09.114Z"
   },
   {
    "duration": 4,
    "start_time": "2022-09-01T13:06:11.898Z"
   },
   {
    "duration": 121,
    "start_time": "2022-09-01T13:34:05.218Z"
   },
   {
    "duration": 13,
    "start_time": "2022-09-01T13:34:30.554Z"
   },
   {
    "duration": 11,
    "start_time": "2022-09-01T13:34:54.285Z"
   },
   {
    "duration": 4,
    "start_time": "2022-09-01T13:37:03.983Z"
   },
   {
    "duration": 4,
    "start_time": "2022-09-01T13:37:12.566Z"
   },
   {
    "duration": 16,
    "start_time": "2022-09-01T13:40:31.010Z"
   },
   {
    "duration": 11,
    "start_time": "2022-09-01T13:40:38.673Z"
   },
   {
    "duration": 23,
    "start_time": "2022-09-01T13:42:22.389Z"
   },
   {
    "duration": 8,
    "start_time": "2022-09-01T13:42:26.281Z"
   },
   {
    "duration": 8,
    "start_time": "2022-09-01T13:43:50.938Z"
   },
   {
    "duration": 9,
    "start_time": "2022-09-01T13:43:57.172Z"
   },
   {
    "duration": 9,
    "start_time": "2022-09-01T13:44:00.677Z"
   },
   {
    "duration": 7,
    "start_time": "2022-09-01T13:44:08.272Z"
   },
   {
    "duration": 8505,
    "start_time": "2022-09-01T13:44:50.539Z"
   },
   {
    "duration": 15,
    "start_time": "2022-09-01T13:45:27.512Z"
   },
   {
    "duration": 10,
    "start_time": "2022-09-01T13:45:45.592Z"
   },
   {
    "duration": 19,
    "start_time": "2022-09-01T13:46:04.069Z"
   },
   {
    "duration": 10,
    "start_time": "2022-09-01T13:46:06.523Z"
   },
   {
    "duration": 8,
    "start_time": "2022-09-01T13:46:08.772Z"
   },
   {
    "duration": 9,
    "start_time": "2022-09-01T13:46:12.254Z"
   },
   {
    "duration": 10,
    "start_time": "2022-09-01T13:46:47.890Z"
   },
   {
    "duration": 14,
    "start_time": "2022-09-01T13:52:03.251Z"
   },
   {
    "duration": 9,
    "start_time": "2022-09-01T13:52:24.686Z"
   },
   {
    "duration": 3,
    "start_time": "2022-09-01T13:55:28.299Z"
   },
   {
    "duration": 3,
    "start_time": "2022-09-01T13:56:19.083Z"
   },
   {
    "duration": 9,
    "start_time": "2022-09-01T13:56:38.342Z"
   },
   {
    "duration": 12,
    "start_time": "2022-09-01T13:56:58.759Z"
   },
   {
    "duration": 3,
    "start_time": "2022-09-01T13:59:04.164Z"
   },
   {
    "duration": 9,
    "start_time": "2022-09-01T13:59:35.482Z"
   },
   {
    "duration": 3,
    "start_time": "2022-09-01T14:00:29.047Z"
   },
   {
    "duration": 8,
    "start_time": "2022-09-01T14:00:32.800Z"
   },
   {
    "duration": 3,
    "start_time": "2022-09-01T14:01:35.010Z"
   },
   {
    "duration": 9,
    "start_time": "2022-09-01T14:01:38.707Z"
   },
   {
    "duration": 86,
    "start_time": "2022-09-01T14:02:15.597Z"
   },
   {
    "duration": 8,
    "start_time": "2022-09-01T14:02:30.931Z"
   },
   {
    "duration": 19,
    "start_time": "2022-09-01T14:02:38.725Z"
   },
   {
    "duration": 8,
    "start_time": "2022-09-01T14:03:10.204Z"
   },
   {
    "duration": 8,
    "start_time": "2022-09-01T14:07:03.322Z"
   },
   {
    "duration": 3,
    "start_time": "2022-09-01T14:07:07.595Z"
   },
   {
    "duration": 10,
    "start_time": "2022-09-01T14:07:09.559Z"
   },
   {
    "duration": 10,
    "start_time": "2022-09-01T14:07:35.102Z"
   },
   {
    "duration": 73,
    "start_time": "2022-09-01T14:07:48.478Z"
   },
   {
    "duration": 11,
    "start_time": "2022-09-01T14:10:19.366Z"
   },
   {
    "duration": 42,
    "start_time": "2022-09-01T14:10:30.029Z"
   },
   {
    "duration": 55,
    "start_time": "2022-09-01T14:11:51.154Z"
   },
   {
    "duration": 49,
    "start_time": "2022-09-01T14:12:09.411Z"
   },
   {
    "duration": 56,
    "start_time": "2022-09-01T14:12:18.738Z"
   },
   {
    "duration": 51,
    "start_time": "2022-09-01T14:12:27.057Z"
   },
   {
    "duration": 22,
    "start_time": "2022-09-01T14:29:15.465Z"
   },
   {
    "duration": 32,
    "start_time": "2022-09-01T14:30:03.138Z"
   },
   {
    "duration": 30,
    "start_time": "2022-09-01T14:30:20.035Z"
   },
   {
    "duration": 52,
    "start_time": "2022-09-01T14:30:26.526Z"
   },
   {
    "duration": 29,
    "start_time": "2022-09-01T14:30:35.364Z"
   },
   {
    "duration": 30,
    "start_time": "2022-09-01T14:32:11.359Z"
   },
   {
    "duration": 49,
    "start_time": "2022-09-01T14:34:25.529Z"
   },
   {
    "duration": 54,
    "start_time": "2022-09-01T14:34:36.191Z"
   },
   {
    "duration": 24,
    "start_time": "2022-09-01T14:34:59.160Z"
   },
   {
    "duration": 26,
    "start_time": "2022-09-01T14:35:10.459Z"
   },
   {
    "duration": 20,
    "start_time": "2022-09-01T14:35:59.166Z"
   },
   {
    "duration": 26,
    "start_time": "2022-09-01T14:36:07.666Z"
   },
   {
    "duration": 30,
    "start_time": "2022-09-01T14:37:21.684Z"
   },
   {
    "duration": 27,
    "start_time": "2022-09-01T14:37:55.067Z"
   },
   {
    "duration": 62,
    "start_time": "2022-09-01T14:44:38.999Z"
   },
   {
    "duration": 7,
    "start_time": "2022-09-01T14:44:41.381Z"
   },
   {
    "duration": 9,
    "start_time": "2022-09-01T14:47:27.300Z"
   },
   {
    "duration": 8,
    "start_time": "2022-09-01T14:47:31.847Z"
   },
   {
    "duration": 48,
    "start_time": "2022-09-01T14:47:52.411Z"
   },
   {
    "duration": 7,
    "start_time": "2022-09-01T14:47:54.273Z"
   },
   {
    "duration": 56,
    "start_time": "2022-09-01T14:48:25.150Z"
   },
   {
    "duration": 7,
    "start_time": "2022-09-01T14:48:29.568Z"
   },
   {
    "duration": 4,
    "start_time": "2022-09-01T14:48:59.965Z"
   },
   {
    "duration": 7,
    "start_time": "2022-09-01T14:49:14.424Z"
   },
   {
    "duration": 3,
    "start_time": "2022-09-01T14:49:22.582Z"
   },
   {
    "duration": 3,
    "start_time": "2022-09-01T14:49:28.706Z"
   },
   {
    "duration": 9,
    "start_time": "2022-09-01T14:49:32.107Z"
   },
   {
    "duration": 3,
    "start_time": "2022-09-01T14:49:46.162Z"
   },
   {
    "duration": 3,
    "start_time": "2022-09-01T14:49:53.140Z"
   },
   {
    "duration": 3,
    "start_time": "2022-09-01T14:50:06.609Z"
   },
   {
    "duration": 3,
    "start_time": "2022-09-01T14:53:00.743Z"
   },
   {
    "duration": 7,
    "start_time": "2022-09-01T14:57:08.629Z"
   },
   {
    "duration": 3,
    "start_time": "2022-09-01T14:57:50.862Z"
   },
   {
    "duration": 8,
    "start_time": "2022-09-01T14:57:53.860Z"
   },
   {
    "duration": 7,
    "start_time": "2022-09-01T14:57:58.678Z"
   },
   {
    "duration": 3,
    "start_time": "2022-09-01T14:58:01.647Z"
   },
   {
    "duration": 6,
    "start_time": "2022-09-01T14:58:04.215Z"
   },
   {
    "duration": 47,
    "start_time": "2022-09-01T14:59:08.276Z"
   },
   {
    "duration": 8,
    "start_time": "2022-09-01T14:59:10.242Z"
   },
   {
    "duration": 50,
    "start_time": "2022-09-01T14:59:17.735Z"
   },
   {
    "duration": 7,
    "start_time": "2022-09-01T14:59:20.278Z"
   },
   {
    "duration": 56,
    "start_time": "2022-09-01T14:59:34.715Z"
   },
   {
    "duration": 8,
    "start_time": "2022-09-01T14:59:36.810Z"
   },
   {
    "duration": 65,
    "start_time": "2022-09-01T14:59:40.966Z"
   },
   {
    "duration": 50,
    "start_time": "2022-09-01T14:59:44.164Z"
   },
   {
    "duration": 4,
    "start_time": "2022-09-01T15:05:11.774Z"
   },
   {
    "duration": 7,
    "start_time": "2022-09-01T15:05:13.934Z"
   },
   {
    "duration": 3,
    "start_time": "2022-09-01T15:06:05.593Z"
   },
   {
    "duration": 7,
    "start_time": "2022-09-01T15:06:07.834Z"
   },
   {
    "duration": 3,
    "start_time": "2022-09-01T15:06:17.673Z"
   },
   {
    "duration": 401,
    "start_time": "2022-09-01T15:06:17.678Z"
   },
   {
    "duration": 52,
    "start_time": "2022-09-01T15:06:18.081Z"
   },
   {
    "duration": 51,
    "start_time": "2022-09-01T15:06:18.135Z"
   },
   {
    "duration": 21,
    "start_time": "2022-09-01T15:06:18.188Z"
   },
   {
    "duration": 14,
    "start_time": "2022-09-01T15:06:18.211Z"
   },
   {
    "duration": 53,
    "start_time": "2022-09-01T15:06:18.227Z"
   },
   {
    "duration": 8,
    "start_time": "2022-09-01T15:06:18.282Z"
   },
   {
    "duration": 23,
    "start_time": "2022-09-01T15:06:18.291Z"
   },
   {
    "duration": 50,
    "start_time": "2022-09-01T15:06:18.316Z"
   },
   {
    "duration": 23,
    "start_time": "2022-09-01T15:06:18.368Z"
   },
   {
    "duration": 18,
    "start_time": "2022-09-01T15:06:18.393Z"
   },
   {
    "duration": 6,
    "start_time": "2022-09-01T15:06:18.412Z"
   },
   {
    "duration": 37,
    "start_time": "2022-09-01T15:06:18.421Z"
   },
   {
    "duration": 11,
    "start_time": "2022-09-01T15:06:18.460Z"
   },
   {
    "duration": 9,
    "start_time": "2022-09-01T15:06:18.473Z"
   },
   {
    "duration": 13,
    "start_time": "2022-09-01T15:06:18.484Z"
   },
   {
    "duration": 109,
    "start_time": "2022-09-01T15:06:18.499Z"
   },
   {
    "duration": 36,
    "start_time": "2022-09-01T15:06:18.609Z"
   },
   {
    "duration": 44,
    "start_time": "2022-09-01T15:06:18.647Z"
   },
   {
    "duration": 6,
    "start_time": "2022-09-01T15:06:18.693Z"
   },
   {
    "duration": 18,
    "start_time": "2022-09-01T15:06:18.700Z"
   },
   {
    "duration": 7,
    "start_time": "2022-09-01T15:06:18.719Z"
   },
   {
    "duration": 32,
    "start_time": "2022-09-01T15:06:18.728Z"
   },
   {
    "duration": 6,
    "start_time": "2022-09-01T15:06:18.762Z"
   },
   {
    "duration": 9,
    "start_time": "2022-09-01T15:06:18.770Z"
   },
   {
    "duration": 13,
    "start_time": "2022-09-01T15:06:18.781Z"
   },
   {
    "duration": 25,
    "start_time": "2022-09-01T15:06:18.796Z"
   },
   {
    "duration": 38,
    "start_time": "2022-09-01T15:06:18.823Z"
   },
   {
    "duration": 18,
    "start_time": "2022-09-01T15:06:18.863Z"
   },
   {
    "duration": 10,
    "start_time": "2022-09-01T15:06:18.882Z"
   },
   {
    "duration": 12,
    "start_time": "2022-09-01T15:06:18.893Z"
   },
   {
    "duration": 11,
    "start_time": "2022-09-01T15:06:18.907Z"
   },
   {
    "duration": 12,
    "start_time": "2022-09-01T15:06:18.920Z"
   },
   {
    "duration": 29,
    "start_time": "2022-09-01T15:06:18.933Z"
   },
   {
    "duration": 2,
    "start_time": "2022-09-01T15:06:18.964Z"
   },
   {
    "duration": 72,
    "start_time": "2022-09-01T15:06:18.968Z"
   },
   {
    "duration": 21,
    "start_time": "2022-09-01T15:06:19.042Z"
   },
   {
    "duration": 52,
    "start_time": "2022-09-01T15:06:19.065Z"
   },
   {
    "duration": 4,
    "start_time": "2022-09-01T15:06:19.119Z"
   },
   {
    "duration": 3,
    "start_time": "2022-09-01T15:06:23.786Z"
   },
   {
    "duration": 7,
    "start_time": "2022-09-01T15:06:25.649Z"
   },
   {
    "duration": 30,
    "start_time": "2022-09-01T15:07:58.725Z"
   },
   {
    "duration": 8,
    "start_time": "2022-09-01T15:08:09.944Z"
   },
   {
    "duration": 3,
    "start_time": "2022-09-01T15:08:54.498Z"
   },
   {
    "duration": 373,
    "start_time": "2022-09-01T15:08:54.503Z"
   },
   {
    "duration": 48,
    "start_time": "2022-09-01T15:08:54.878Z"
   },
   {
    "duration": 45,
    "start_time": "2022-09-01T15:08:54.928Z"
   },
   {
    "duration": 21,
    "start_time": "2022-09-01T15:08:54.974Z"
   },
   {
    "duration": 14,
    "start_time": "2022-09-01T15:08:54.996Z"
   },
   {
    "duration": 55,
    "start_time": "2022-09-01T15:08:55.011Z"
   },
   {
    "duration": 7,
    "start_time": "2022-09-01T15:08:55.067Z"
   },
   {
    "duration": 24,
    "start_time": "2022-09-01T15:08:55.077Z"
   },
   {
    "duration": 29,
    "start_time": "2022-09-01T15:08:55.102Z"
   },
   {
    "duration": 35,
    "start_time": "2022-09-01T15:08:55.133Z"
   },
   {
    "duration": 24,
    "start_time": "2022-09-01T15:08:55.169Z"
   },
   {
    "duration": 9,
    "start_time": "2022-09-01T15:08:55.195Z"
   },
   {
    "duration": 19,
    "start_time": "2022-09-01T15:08:55.206Z"
   },
   {
    "duration": 31,
    "start_time": "2022-09-01T15:08:55.227Z"
   },
   {
    "duration": 13,
    "start_time": "2022-09-01T15:08:55.260Z"
   },
   {
    "duration": 20,
    "start_time": "2022-09-01T15:08:55.275Z"
   },
   {
    "duration": 111,
    "start_time": "2022-09-01T15:08:55.297Z"
   },
   {
    "duration": 54,
    "start_time": "2022-09-01T15:08:55.411Z"
   },
   {
    "duration": 35,
    "start_time": "2022-09-01T15:08:55.467Z"
   },
   {
    "duration": 6,
    "start_time": "2022-09-01T15:08:55.504Z"
   },
   {
    "duration": 19,
    "start_time": "2022-09-01T15:08:55.512Z"
   },
   {
    "duration": 28,
    "start_time": "2022-09-01T15:08:55.532Z"
   },
   {
    "duration": 6,
    "start_time": "2022-09-01T15:08:55.562Z"
   },
   {
    "duration": 6,
    "start_time": "2022-09-01T15:08:55.569Z"
   },
   {
    "duration": 9,
    "start_time": "2022-09-01T15:08:55.576Z"
   },
   {
    "duration": 5,
    "start_time": "2022-09-01T15:08:55.587Z"
   },
   {
    "duration": 27,
    "start_time": "2022-09-01T15:08:55.594Z"
   },
   {
    "duration": 40,
    "start_time": "2022-09-01T15:08:55.623Z"
   },
   {
    "duration": 22,
    "start_time": "2022-09-01T15:08:55.665Z"
   },
   {
    "duration": 9,
    "start_time": "2022-09-01T15:08:55.689Z"
   },
   {
    "duration": 18,
    "start_time": "2022-09-01T15:08:55.700Z"
   },
   {
    "duration": 18,
    "start_time": "2022-09-01T15:08:55.721Z"
   },
   {
    "duration": 35,
    "start_time": "2022-09-01T15:08:55.741Z"
   },
   {
    "duration": 12,
    "start_time": "2022-09-01T15:08:55.778Z"
   },
   {
    "duration": 6,
    "start_time": "2022-09-01T15:08:55.791Z"
   },
   {
    "duration": 72,
    "start_time": "2022-09-01T15:08:55.798Z"
   },
   {
    "duration": 9,
    "start_time": "2022-09-01T15:08:55.871Z"
   },
   {
    "duration": 20,
    "start_time": "2022-09-01T15:08:55.881Z"
   },
   {
    "duration": 0,
    "start_time": "2022-09-01T15:08:55.903Z"
   },
   {
    "duration": 0,
    "start_time": "2022-09-01T15:08:55.904Z"
   },
   {
    "duration": 0,
    "start_time": "2022-09-01T15:08:55.905Z"
   },
   {
    "duration": 48,
    "start_time": "2022-09-01T15:09:22.441Z"
   },
   {
    "duration": 3,
    "start_time": "2022-09-01T15:09:36.993Z"
   },
   {
    "duration": 387,
    "start_time": "2022-09-01T15:09:36.998Z"
   },
   {
    "duration": 49,
    "start_time": "2022-09-01T15:09:37.387Z"
   },
   {
    "duration": 48,
    "start_time": "2022-09-01T15:09:37.438Z"
   },
   {
    "duration": 20,
    "start_time": "2022-09-01T15:09:37.488Z"
   },
   {
    "duration": 14,
    "start_time": "2022-09-01T15:09:37.510Z"
   },
   {
    "duration": 54,
    "start_time": "2022-09-01T15:09:37.525Z"
   },
   {
    "duration": 8,
    "start_time": "2022-09-01T15:09:37.580Z"
   },
   {
    "duration": 23,
    "start_time": "2022-09-01T15:09:37.591Z"
   },
   {
    "duration": 43,
    "start_time": "2022-09-01T15:09:37.616Z"
   },
   {
    "duration": 22,
    "start_time": "2022-09-01T15:09:37.661Z"
   },
   {
    "duration": 17,
    "start_time": "2022-09-01T15:09:37.685Z"
   },
   {
    "duration": 5,
    "start_time": "2022-09-01T15:09:37.704Z"
   },
   {
    "duration": 13,
    "start_time": "2022-09-01T15:09:37.711Z"
   },
   {
    "duration": 32,
    "start_time": "2022-09-01T15:09:37.726Z"
   },
   {
    "duration": 9,
    "start_time": "2022-09-01T15:09:37.760Z"
   },
   {
    "duration": 6,
    "start_time": "2022-09-01T15:09:37.771Z"
   },
   {
    "duration": 96,
    "start_time": "2022-09-01T15:09:37.778Z"
   },
   {
    "duration": 34,
    "start_time": "2022-09-01T15:09:37.876Z"
   },
   {
    "duration": 51,
    "start_time": "2022-09-01T15:09:37.912Z"
   },
   {
    "duration": 7,
    "start_time": "2022-09-01T15:09:37.964Z"
   },
   {
    "duration": 27,
    "start_time": "2022-09-01T15:09:37.972Z"
   },
   {
    "duration": 6,
    "start_time": "2022-09-01T15:09:38.001Z"
   },
   {
    "duration": 5,
    "start_time": "2022-09-01T15:09:38.009Z"
   },
   {
    "duration": 8,
    "start_time": "2022-09-01T15:09:38.015Z"
   },
   {
    "duration": 6,
    "start_time": "2022-09-01T15:09:38.024Z"
   },
   {
    "duration": 27,
    "start_time": "2022-09-01T15:09:38.032Z"
   },
   {
    "duration": 22,
    "start_time": "2022-09-01T15:09:38.061Z"
   },
   {
    "duration": 14,
    "start_time": "2022-09-01T15:09:38.085Z"
   },
   {
    "duration": 17,
    "start_time": "2022-09-01T15:09:38.100Z"
   },
   {
    "duration": 8,
    "start_time": "2022-09-01T15:09:38.119Z"
   },
   {
    "duration": 37,
    "start_time": "2022-09-01T15:09:38.128Z"
   },
   {
    "duration": 10,
    "start_time": "2022-09-01T15:09:38.166Z"
   },
   {
    "duration": 10,
    "start_time": "2022-09-01T15:09:38.178Z"
   },
   {
    "duration": 10,
    "start_time": "2022-09-01T15:09:38.190Z"
   },
   {
    "duration": 6,
    "start_time": "2022-09-01T15:09:38.202Z"
   },
   {
    "duration": 93,
    "start_time": "2022-09-01T15:09:38.209Z"
   },
   {
    "duration": 8,
    "start_time": "2022-09-01T15:09:38.304Z"
   },
   {
    "duration": 58,
    "start_time": "2022-09-01T15:09:38.314Z"
   },
   {
    "duration": 7,
    "start_time": "2022-09-01T15:09:38.374Z"
   },
   {
    "duration": 33,
    "start_time": "2022-09-01T15:09:38.383Z"
   },
   {
    "duration": 41,
    "start_time": "2022-09-01T15:09:38.417Z"
   },
   {
    "duration": 7,
    "start_time": "2022-09-01T15:11:32.438Z"
   },
   {
    "duration": 11,
    "start_time": "2022-09-01T15:11:46.146Z"
   },
   {
    "duration": 9,
    "start_time": "2022-09-01T15:12:07.762Z"
   },
   {
    "duration": 15,
    "start_time": "2022-09-01T15:12:10.185Z"
   },
   {
    "duration": 9,
    "start_time": "2022-09-01T15:13:12.464Z"
   },
   {
    "duration": 11,
    "start_time": "2022-09-01T15:13:27.838Z"
   },
   {
    "duration": 10,
    "start_time": "2022-09-01T15:14:11.982Z"
   },
   {
    "duration": 16,
    "start_time": "2022-09-01T15:14:18.088Z"
   },
   {
    "duration": 4,
    "start_time": "2022-09-01T15:15:27.171Z"
   },
   {
    "duration": 17,
    "start_time": "2022-09-01T15:15:35.123Z"
   },
   {
    "duration": 16,
    "start_time": "2022-09-01T15:16:42.621Z"
   },
   {
    "duration": 7,
    "start_time": "2022-09-01T15:17:23.189Z"
   },
   {
    "duration": 5,
    "start_time": "2022-09-01T15:18:54.948Z"
   },
   {
    "duration": 10,
    "start_time": "2022-09-01T15:19:45.601Z"
   },
   {
    "duration": 8,
    "start_time": "2022-09-01T15:19:56.963Z"
   },
   {
    "duration": 15,
    "start_time": "2022-09-01T15:29:10.016Z"
   },
   {
    "duration": 15,
    "start_time": "2022-09-01T15:29:30.977Z"
   },
   {
    "duration": 11,
    "start_time": "2022-09-01T15:32:19.296Z"
   },
   {
    "duration": 15,
    "start_time": "2022-09-01T15:36:31.645Z"
   },
   {
    "duration": 10,
    "start_time": "2022-09-01T15:36:39.865Z"
   },
   {
    "duration": 4,
    "start_time": "2022-09-01T15:42:48.796Z"
   },
   {
    "duration": 3,
    "start_time": "2022-09-01T15:42:53.638Z"
   },
   {
    "duration": 387,
    "start_time": "2022-09-01T15:44:15.991Z"
   },
   {
    "duration": 3,
    "start_time": "2022-09-01T15:44:22.620Z"
   },
   {
    "duration": 5,
    "start_time": "2022-09-01T15:44:25.989Z"
   },
   {
    "duration": 12,
    "start_time": "2022-09-01T15:44:35.894Z"
   },
   {
    "duration": 29,
    "start_time": "2022-09-01T16:00:51.496Z"
   },
   {
    "duration": 8,
    "start_time": "2022-09-01T16:13:51.958Z"
   },
   {
    "duration": 4,
    "start_time": "2022-09-01T16:13:56.973Z"
   },
   {
    "duration": 33,
    "start_time": "2022-09-01T16:13:59.956Z"
   },
   {
    "duration": 27,
    "start_time": "2022-09-01T16:14:44.652Z"
   },
   {
    "duration": 13,
    "start_time": "2022-09-01T16:16:45.386Z"
   },
   {
    "duration": 29,
    "start_time": "2022-09-01T16:16:59.558Z"
   },
   {
    "duration": 18,
    "start_time": "2022-09-01T16:17:04.032Z"
   },
   {
    "duration": 29,
    "start_time": "2022-09-01T16:17:24.069Z"
   },
   {
    "duration": 9,
    "start_time": "2022-09-01T16:17:27.797Z"
   },
   {
    "duration": 4,
    "start_time": "2022-09-01T16:17:31.528Z"
   },
   {
    "duration": 38,
    "start_time": "2022-09-01T16:17:33.861Z"
   },
   {
    "duration": 221,
    "start_time": "2022-09-01T16:18:00.209Z"
   },
   {
    "duration": 5,
    "start_time": "2022-09-01T16:18:46.465Z"
   },
   {
    "duration": 746,
    "start_time": "2022-09-01T16:18:51.257Z"
   },
   {
    "duration": 5,
    "start_time": "2022-09-01T16:21:07.755Z"
   },
   {
    "duration": 5,
    "start_time": "2022-09-01T16:21:17.796Z"
   },
   {
    "duration": 3,
    "start_time": "2022-09-01T16:21:46.993Z"
   },
   {
    "duration": 4,
    "start_time": "2022-09-01T16:21:54.500Z"
   },
   {
    "duration": 4,
    "start_time": "2022-09-01T16:21:59.925Z"
   },
   {
    "duration": 3,
    "start_time": "2022-09-01T16:22:15.290Z"
   },
   {
    "duration": 4,
    "start_time": "2022-09-01T16:22:26.273Z"
   },
   {
    "duration": 665,
    "start_time": "2022-09-01T16:22:30.324Z"
   },
   {
    "duration": 4,
    "start_time": "2022-09-01T16:23:35.431Z"
   },
   {
    "duration": 19,
    "start_time": "2022-09-01T16:23:43.101Z"
   },
   {
    "duration": 10,
    "start_time": "2022-09-01T16:24:14.303Z"
   },
   {
    "duration": 0,
    "start_time": "2022-09-01T16:24:36.371Z"
   },
   {
    "duration": 10,
    "start_time": "2022-09-01T16:24:47.385Z"
   },
   {
    "duration": 6,
    "start_time": "2022-09-01T16:24:58.197Z"
   },
   {
    "duration": 1737,
    "start_time": "2022-09-01T16:25:01.889Z"
   },
   {
    "duration": 3,
    "start_time": "2022-09-01T16:29:43.589Z"
   },
   {
    "duration": 9,
    "start_time": "2022-09-01T16:29:51.420Z"
   },
   {
    "duration": 9,
    "start_time": "2022-09-01T16:29:54.899Z"
   },
   {
    "duration": 3,
    "start_time": "2022-09-01T16:30:00.436Z"
   },
   {
    "duration": 4,
    "start_time": "2022-09-01T16:30:22.410Z"
   },
   {
    "duration": 717,
    "start_time": "2022-09-01T16:30:25.067Z"
   },
   {
    "duration": 987,
    "start_time": "2022-09-01T16:31:55.402Z"
   },
   {
    "duration": 10,
    "start_time": "2022-09-01T16:32:00.335Z"
   },
   {
    "duration": 4,
    "start_time": "2022-09-01T16:33:54.718Z"
   },
   {
    "duration": 819,
    "start_time": "2022-09-01T16:33:57.655Z"
   },
   {
    "duration": 3,
    "start_time": "2022-09-01T16:35:35.077Z"
   },
   {
    "duration": 1038,
    "start_time": "2022-09-01T16:35:44.649Z"
   },
   {
    "duration": 3,
    "start_time": "2022-09-01T16:36:11.143Z"
   },
   {
    "duration": 810,
    "start_time": "2022-09-01T16:36:14.869Z"
   },
   {
    "duration": 3,
    "start_time": "2022-09-01T16:39:16.225Z"
   },
   {
    "duration": 14,
    "start_time": "2022-09-01T16:39:18.666Z"
   },
   {
    "duration": 3,
    "start_time": "2022-09-01T16:39:40.896Z"
   },
   {
    "duration": 752,
    "start_time": "2022-09-01T16:39:56.478Z"
   },
   {
    "duration": 11,
    "start_time": "2022-09-01T16:40:08.049Z"
   },
   {
    "duration": 3,
    "start_time": "2022-09-01T16:40:24.265Z"
   },
   {
    "duration": 659,
    "start_time": "2022-09-01T16:40:30.085Z"
   },
   {
    "duration": 2,
    "start_time": "2022-09-01T16:40:47.070Z"
   },
   {
    "duration": 3,
    "start_time": "2022-09-01T16:40:49.272Z"
   },
   {
    "duration": 1545,
    "start_time": "2022-09-01T16:40:53.097Z"
   },
   {
    "duration": 2,
    "start_time": "2022-09-01T16:41:43.522Z"
   },
   {
    "duration": 1460,
    "start_time": "2022-09-01T16:41:46.412Z"
   },
   {
    "duration": 3,
    "start_time": "2022-09-01T16:41:51.355Z"
   },
   {
    "duration": 1509,
    "start_time": "2022-09-01T16:41:53.534Z"
   },
   {
    "duration": 11,
    "start_time": "2022-09-01T16:43:59.670Z"
   },
   {
    "duration": 3,
    "start_time": "2022-09-01T16:47:50.820Z"
   },
   {
    "duration": 21,
    "start_time": "2022-09-01T16:47:57.728Z"
   },
   {
    "duration": 2463,
    "start_time": "2022-09-01T16:49:46.195Z"
   },
   {
    "duration": 4,
    "start_time": "2022-09-01T16:50:37.322Z"
   },
   {
    "duration": 937,
    "start_time": "2022-09-01T16:50:41.430Z"
   },
   {
    "duration": 8,
    "start_time": "2022-09-01T17:01:51.515Z"
   },
   {
    "duration": 3,
    "start_time": "2022-09-01T17:10:15.166Z"
   },
   {
    "duration": 691,
    "start_time": "2022-09-01T17:10:18.344Z"
   },
   {
    "duration": 4,
    "start_time": "2022-09-01T17:10:42.622Z"
   },
   {
    "duration": 660,
    "start_time": "2022-09-01T17:10:44.683Z"
   },
   {
    "duration": 3,
    "start_time": "2022-09-01T17:11:35.296Z"
   },
   {
    "duration": 606,
    "start_time": "2022-09-01T17:11:37.579Z"
   },
   {
    "duration": 3,
    "start_time": "2022-09-01T17:11:52.786Z"
   },
   {
    "duration": 822,
    "start_time": "2022-09-01T17:11:55.043Z"
   },
   {
    "duration": 3,
    "start_time": "2022-09-01T17:14:54.292Z"
   },
   {
    "duration": 221,
    "start_time": "2022-09-01T17:14:58.727Z"
   },
   {
    "duration": 3,
    "start_time": "2022-09-01T17:15:23.988Z"
   },
   {
    "duration": 249,
    "start_time": "2022-09-01T17:15:26.396Z"
   },
   {
    "duration": 3,
    "start_time": "2022-09-01T17:17:34.738Z"
   },
   {
    "duration": 255,
    "start_time": "2022-09-01T17:17:37.013Z"
   },
   {
    "duration": 2,
    "start_time": "2022-09-01T17:20:42.557Z"
   },
   {
    "duration": 228,
    "start_time": "2022-09-01T17:20:48.689Z"
   },
   {
    "duration": 3,
    "start_time": "2022-09-01T17:21:12.288Z"
   },
   {
    "duration": 23357,
    "start_time": "2022-09-01T17:21:13.958Z"
   },
   {
    "duration": 2,
    "start_time": "2022-09-01T17:21:53.339Z"
   },
   {
    "duration": 37679,
    "start_time": "2022-09-01T17:21:55.585Z"
   },
   {
    "duration": 0,
    "start_time": "2022-09-01T17:22:33.265Z"
   },
   {
    "duration": 3,
    "start_time": "2022-09-01T17:22:36.689Z"
   },
   {
    "duration": 4508,
    "start_time": "2022-09-01T17:22:47.632Z"
   },
   {
    "duration": 2,
    "start_time": "2022-09-01T17:23:09.804Z"
   },
   {
    "duration": 2669,
    "start_time": "2022-09-01T17:23:12.061Z"
   },
   {
    "duration": 6,
    "start_time": "2022-09-01T17:23:50.579Z"
   },
   {
    "duration": 772,
    "start_time": "2022-09-01T17:23:53.762Z"
   },
   {
    "duration": 5,
    "start_time": "2022-09-01T17:24:46.582Z"
   },
   {
    "duration": 1220,
    "start_time": "2022-09-01T17:24:50.467Z"
   },
   {
    "duration": 3,
    "start_time": "2022-09-01T17:26:58.492Z"
   },
   {
    "duration": 9667,
    "start_time": "2022-09-01T17:27:02.857Z"
   },
   {
    "duration": 3,
    "start_time": "2022-09-01T17:29:52.842Z"
   },
   {
    "duration": 2120,
    "start_time": "2022-09-01T17:29:55.080Z"
   },
   {
    "duration": 3,
    "start_time": "2022-09-01T17:30:48.891Z"
   },
   {
    "duration": 411,
    "start_time": "2022-09-01T17:30:48.896Z"
   },
   {
    "duration": 50,
    "start_time": "2022-09-01T17:30:49.309Z"
   },
   {
    "duration": 46,
    "start_time": "2022-09-01T17:30:49.361Z"
   },
   {
    "duration": 20,
    "start_time": "2022-09-01T17:30:49.409Z"
   },
   {
    "duration": 32,
    "start_time": "2022-09-01T17:30:49.430Z"
   },
   {
    "duration": 44,
    "start_time": "2022-09-01T17:30:49.464Z"
   },
   {
    "duration": 16,
    "start_time": "2022-09-01T17:30:49.510Z"
   },
   {
    "duration": 18,
    "start_time": "2022-09-01T17:30:49.528Z"
   },
   {
    "duration": 48,
    "start_time": "2022-09-01T17:30:49.547Z"
   },
   {
    "duration": 22,
    "start_time": "2022-09-01T17:30:49.597Z"
   },
   {
    "duration": 71,
    "start_time": "2022-09-01T17:30:49.621Z"
   },
   {
    "duration": 5,
    "start_time": "2022-09-01T17:30:49.694Z"
   },
   {
    "duration": 21,
    "start_time": "2022-09-01T17:30:49.700Z"
   },
   {
    "duration": 11,
    "start_time": "2022-09-01T17:30:49.722Z"
   },
   {
    "duration": 9,
    "start_time": "2022-09-01T17:30:49.735Z"
   },
   {
    "duration": 5,
    "start_time": "2022-09-01T17:30:49.746Z"
   },
   {
    "duration": 85,
    "start_time": "2022-09-01T17:30:49.753Z"
   },
   {
    "duration": 42,
    "start_time": "2022-09-01T17:30:49.840Z"
   },
   {
    "duration": 37,
    "start_time": "2022-09-01T17:30:49.883Z"
   },
   {
    "duration": 7,
    "start_time": "2022-09-01T17:30:49.922Z"
   },
   {
    "duration": 42,
    "start_time": "2022-09-01T17:30:49.931Z"
   },
   {
    "duration": 4,
    "start_time": "2022-09-01T17:30:49.975Z"
   },
   {
    "duration": 5,
    "start_time": "2022-09-01T17:30:49.983Z"
   },
   {
    "duration": 8,
    "start_time": "2022-09-01T17:30:49.989Z"
   },
   {
    "duration": 8,
    "start_time": "2022-09-01T17:30:49.998Z"
   },
   {
    "duration": 10,
    "start_time": "2022-09-01T17:30:50.008Z"
   },
   {
    "duration": 48,
    "start_time": "2022-09-01T17:30:50.020Z"
   },
   {
    "duration": 15,
    "start_time": "2022-09-01T17:30:50.070Z"
   },
   {
    "duration": 18,
    "start_time": "2022-09-01T17:30:50.086Z"
   },
   {
    "duration": 8,
    "start_time": "2022-09-01T17:30:50.106Z"
   },
   {
    "duration": 9,
    "start_time": "2022-09-01T17:30:50.115Z"
   },
   {
    "duration": 34,
    "start_time": "2022-09-01T17:30:50.126Z"
   },
   {
    "duration": 10,
    "start_time": "2022-09-01T17:30:50.161Z"
   },
   {
    "duration": 8,
    "start_time": "2022-09-01T17:30:50.173Z"
   },
   {
    "duration": 4,
    "start_time": "2022-09-01T17:30:50.183Z"
   },
   {
    "duration": 81,
    "start_time": "2022-09-01T17:30:50.188Z"
   },
   {
    "duration": 7,
    "start_time": "2022-09-01T17:30:50.271Z"
   },
   {
    "duration": 3,
    "start_time": "2022-09-01T17:30:55.384Z"
   },
   {
    "duration": 3,
    "start_time": "2022-09-01T17:31:22.531Z"
   },
   {
    "duration": 1396,
    "start_time": "2022-09-01T17:31:46.592Z"
   },
   {
    "duration": 8,
    "start_time": "2022-09-01T17:32:50.296Z"
   },
   {
    "duration": 2,
    "start_time": "2022-09-01T17:34:14.125Z"
   },
   {
    "duration": 1587,
    "start_time": "2022-09-01T17:34:17.587Z"
   },
   {
    "duration": 9,
    "start_time": "2022-09-01T17:34:53.895Z"
   },
   {
    "duration": 11,
    "start_time": "2022-09-01T17:35:57.847Z"
   },
   {
    "duration": 10,
    "start_time": "2022-09-01T17:36:01.736Z"
   },
   {
    "duration": 17,
    "start_time": "2022-09-01T17:36:14.143Z"
   },
   {
    "duration": 3,
    "start_time": "2022-09-01T17:38:55.275Z"
   },
   {
    "duration": 2282,
    "start_time": "2022-09-01T17:38:58.520Z"
   },
   {
    "duration": 3,
    "start_time": "2022-09-01T17:40:35.389Z"
   },
   {
    "duration": 85408,
    "start_time": "2022-09-01T17:40:37.842Z"
   },
   {
    "duration": 3,
    "start_time": "2022-09-01T17:42:46.439Z"
   },
   {
    "duration": 3,
    "start_time": "2022-09-01T17:43:00.836Z"
   },
   {
    "duration": 2087,
    "start_time": "2022-09-01T17:43:04.894Z"
   },
   {
    "duration": 3,
    "start_time": "2022-09-01T17:45:57.741Z"
   },
   {
    "duration": 418,
    "start_time": "2022-09-01T17:45:57.746Z"
   },
   {
    "duration": 57,
    "start_time": "2022-09-01T17:45:58.165Z"
   },
   {
    "duration": 67,
    "start_time": "2022-09-01T17:45:58.224Z"
   },
   {
    "duration": 21,
    "start_time": "2022-09-01T17:45:58.293Z"
   },
   {
    "duration": 18,
    "start_time": "2022-09-01T17:45:58.316Z"
   },
   {
    "duration": 48,
    "start_time": "2022-09-01T17:45:58.336Z"
   },
   {
    "duration": 8,
    "start_time": "2022-09-01T17:45:58.386Z"
   },
   {
    "duration": 41,
    "start_time": "2022-09-01T17:45:58.396Z"
   },
   {
    "duration": 41,
    "start_time": "2022-09-01T17:45:58.439Z"
   },
   {
    "duration": 24,
    "start_time": "2022-09-01T17:45:58.482Z"
   },
   {
    "duration": 19,
    "start_time": "2022-09-01T17:45:58.508Z"
   },
   {
    "duration": 5,
    "start_time": "2022-09-01T17:45:58.529Z"
   },
   {
    "duration": 16,
    "start_time": "2022-09-01T17:45:58.557Z"
   },
   {
    "duration": 11,
    "start_time": "2022-09-01T17:45:58.575Z"
   },
   {
    "duration": 10,
    "start_time": "2022-09-01T17:45:58.588Z"
   },
   {
    "duration": 6,
    "start_time": "2022-09-01T17:45:58.600Z"
   },
   {
    "duration": 135,
    "start_time": "2022-09-01T17:45:58.607Z"
   },
   {
    "duration": 56,
    "start_time": "2022-09-01T17:45:58.744Z"
   },
   {
    "duration": 40,
    "start_time": "2022-09-01T17:45:58.802Z"
   },
   {
    "duration": 7,
    "start_time": "2022-09-01T17:45:58.858Z"
   },
   {
    "duration": 34,
    "start_time": "2022-09-01T17:45:58.866Z"
   },
   {
    "duration": 10,
    "start_time": "2022-09-01T17:45:58.902Z"
   },
   {
    "duration": 20,
    "start_time": "2022-09-01T17:45:58.914Z"
   },
   {
    "duration": 19,
    "start_time": "2022-09-01T17:45:58.936Z"
   },
   {
    "duration": 25,
    "start_time": "2022-09-01T17:45:58.956Z"
   },
   {
    "duration": 14,
    "start_time": "2022-09-01T17:45:58.982Z"
   },
   {
    "duration": 42,
    "start_time": "2022-09-01T17:45:58.998Z"
   },
   {
    "duration": 14,
    "start_time": "2022-09-01T17:45:59.042Z"
   },
   {
    "duration": 22,
    "start_time": "2022-09-01T17:45:59.058Z"
   },
   {
    "duration": 11,
    "start_time": "2022-09-01T17:45:59.082Z"
   },
   {
    "duration": 24,
    "start_time": "2022-09-01T17:45:59.095Z"
   },
   {
    "duration": 13,
    "start_time": "2022-09-01T17:45:59.121Z"
   },
   {
    "duration": 12,
    "start_time": "2022-09-01T17:45:59.136Z"
   },
   {
    "duration": 19,
    "start_time": "2022-09-01T17:45:59.149Z"
   },
   {
    "duration": 5,
    "start_time": "2022-09-01T17:45:59.169Z"
   },
   {
    "duration": 100,
    "start_time": "2022-09-01T17:45:59.175Z"
   },
   {
    "duration": 8,
    "start_time": "2022-09-01T17:45:59.277Z"
   },
   {
    "duration": 13,
    "start_time": "2022-09-01T17:45:59.287Z"
   },
   {
    "duration": 24,
    "start_time": "2022-09-01T17:45:59.302Z"
   },
   {
    "duration": 3,
    "start_time": "2022-09-01T17:46:02.760Z"
   },
   {
    "duration": 19,
    "start_time": "2022-09-01T17:46:04.217Z"
   },
   {
    "duration": 2751,
    "start_time": "2022-09-01T17:46:08.044Z"
   },
   {
    "duration": 39,
    "start_time": "2022-09-01T17:46:51.032Z"
   },
   {
    "duration": 2717,
    "start_time": "2022-09-01T17:53:20.095Z"
   },
   {
    "duration": 2566,
    "start_time": "2022-09-01T17:53:45.079Z"
   },
   {
    "duration": 3,
    "start_time": "2022-09-01T17:58:19.716Z"
   },
   {
    "duration": 1122,
    "start_time": "2022-09-01T17:58:29.657Z"
   },
   {
    "duration": 12,
    "start_time": "2022-09-01T17:58:35.703Z"
   },
   {
    "duration": 11,
    "start_time": "2022-09-01T17:58:43.122Z"
   },
   {
    "duration": 3,
    "start_time": "2022-09-01T18:01:24.208Z"
   },
   {
    "duration": 48805,
    "start_time": "2022-09-01T18:01:27.694Z"
   },
   {
    "duration": 3,
    "start_time": "2022-09-01T18:03:26.090Z"
   },
   {
    "duration": 3,
    "start_time": "2022-09-01T18:03:33.875Z"
   },
   {
    "duration": 2890,
    "start_time": "2022-09-01T18:03:37.579Z"
   },
   {
    "duration": 3,
    "start_time": "2022-09-01T18:07:55.021Z"
   },
   {
    "duration": 449,
    "start_time": "2022-09-01T18:07:55.026Z"
   },
   {
    "duration": 49,
    "start_time": "2022-09-01T18:07:55.476Z"
   },
   {
    "duration": 51,
    "start_time": "2022-09-01T18:07:55.526Z"
   },
   {
    "duration": 22,
    "start_time": "2022-09-01T18:07:55.579Z"
   },
   {
    "duration": 15,
    "start_time": "2022-09-01T18:07:55.603Z"
   },
   {
    "duration": 62,
    "start_time": "2022-09-01T18:07:55.620Z"
   },
   {
    "duration": 8,
    "start_time": "2022-09-01T18:07:55.684Z"
   },
   {
    "duration": 25,
    "start_time": "2022-09-01T18:07:55.694Z"
   },
   {
    "duration": 56,
    "start_time": "2022-09-01T18:07:55.721Z"
   },
   {
    "duration": 23,
    "start_time": "2022-09-01T18:07:55.780Z"
   },
   {
    "duration": 18,
    "start_time": "2022-09-01T18:07:55.805Z"
   },
   {
    "duration": 5,
    "start_time": "2022-09-01T18:07:55.826Z"
   },
   {
    "duration": 30,
    "start_time": "2022-09-01T18:07:55.833Z"
   },
   {
    "duration": 13,
    "start_time": "2022-09-01T18:07:55.865Z"
   },
   {
    "duration": 9,
    "start_time": "2022-09-01T18:07:55.880Z"
   },
   {
    "duration": 7,
    "start_time": "2022-09-01T18:07:55.890Z"
   },
   {
    "duration": 102,
    "start_time": "2022-09-01T18:07:55.898Z"
   },
   {
    "duration": 39,
    "start_time": "2022-09-01T18:07:56.002Z"
   },
   {
    "duration": 60,
    "start_time": "2022-09-01T18:07:56.043Z"
   },
   {
    "duration": 8,
    "start_time": "2022-09-01T18:07:56.105Z"
   },
   {
    "duration": 17,
    "start_time": "2022-09-01T18:07:56.115Z"
   },
   {
    "duration": 40,
    "start_time": "2022-09-01T18:07:56.134Z"
   },
   {
    "duration": 5,
    "start_time": "2022-09-01T18:07:56.176Z"
   },
   {
    "duration": 5,
    "start_time": "2022-09-01T18:07:56.183Z"
   },
   {
    "duration": 6,
    "start_time": "2022-09-01T18:07:56.190Z"
   },
   {
    "duration": 5,
    "start_time": "2022-09-01T18:07:56.198Z"
   },
   {
    "duration": 23,
    "start_time": "2022-09-01T18:07:56.205Z"
   },
   {
    "duration": 38,
    "start_time": "2022-09-01T18:07:56.229Z"
   },
   {
    "duration": 18,
    "start_time": "2022-09-01T18:07:56.269Z"
   },
   {
    "duration": 8,
    "start_time": "2022-09-01T18:07:56.289Z"
   },
   {
    "duration": 9,
    "start_time": "2022-09-01T18:07:56.298Z"
   },
   {
    "duration": 14,
    "start_time": "2022-09-01T18:07:56.309Z"
   },
   {
    "duration": 14,
    "start_time": "2022-09-01T18:07:56.324Z"
   },
   {
    "duration": 23,
    "start_time": "2022-09-01T18:07:56.340Z"
   },
   {
    "duration": 8,
    "start_time": "2022-09-01T18:07:56.365Z"
   },
   {
    "duration": 69,
    "start_time": "2022-09-01T18:07:56.376Z"
   },
   {
    "duration": 20,
    "start_time": "2022-09-01T18:07:56.447Z"
   },
   {
    "duration": 8,
    "start_time": "2022-09-01T18:07:56.470Z"
   },
   {
    "duration": 3,
    "start_time": "2022-09-01T18:08:00.370Z"
   },
   {
    "duration": 3,
    "start_time": "2022-09-01T18:10:02.826Z"
   },
   {
    "duration": 176992,
    "start_time": "2022-09-01T18:10:05.645Z"
   },
   {
    "duration": 3,
    "start_time": "2022-09-01T18:13:21.788Z"
   },
   {
    "duration": 1987,
    "start_time": "2022-09-01T18:13:24.823Z"
   },
   {
    "duration": 3,
    "start_time": "2022-09-01T18:17:16.848Z"
   },
   {
    "duration": 3,
    "start_time": "2022-09-01T18:17:21.641Z"
   },
   {
    "duration": 207086,
    "start_time": "2022-09-01T18:17:23.806Z"
   },
   {
    "duration": 3,
    "start_time": "2022-09-01T18:29:10.327Z"
   },
   {
    "duration": 2935,
    "start_time": "2022-09-01T18:29:19.086Z"
   },
   {
    "duration": 9,
    "start_time": "2022-09-01T18:33:45.640Z"
   },
   {
    "duration": 2,
    "start_time": "2022-09-01T18:33:49.718Z"
   },
   {
    "duration": 385,
    "start_time": "2022-09-01T18:33:49.723Z"
   },
   {
    "duration": 61,
    "start_time": "2022-09-01T18:33:50.109Z"
   },
   {
    "duration": 48,
    "start_time": "2022-09-01T18:33:50.173Z"
   },
   {
    "duration": 20,
    "start_time": "2022-09-01T18:33:50.223Z"
   },
   {
    "duration": 24,
    "start_time": "2022-09-01T18:33:50.245Z"
   },
   {
    "duration": 27,
    "start_time": "2022-09-01T18:33:50.272Z"
   },
   {
    "duration": 7,
    "start_time": "2022-09-01T18:33:50.301Z"
   },
   {
    "duration": 20,
    "start_time": "2022-09-01T18:33:50.310Z"
   },
   {
    "duration": 52,
    "start_time": "2022-09-01T18:33:50.332Z"
   },
   {
    "duration": 21,
    "start_time": "2022-09-01T18:33:50.386Z"
   },
   {
    "duration": 17,
    "start_time": "2022-09-01T18:33:50.409Z"
   },
   {
    "duration": 5,
    "start_time": "2022-09-01T18:33:50.428Z"
   },
   {
    "duration": 39,
    "start_time": "2022-09-01T18:33:50.434Z"
   },
   {
    "duration": 11,
    "start_time": "2022-09-01T18:33:50.474Z"
   },
   {
    "duration": 11,
    "start_time": "2022-09-01T18:33:50.486Z"
   },
   {
    "duration": 8,
    "start_time": "2022-09-01T18:33:50.498Z"
   },
   {
    "duration": 101,
    "start_time": "2022-09-01T18:33:50.507Z"
   },
   {
    "duration": 36,
    "start_time": "2022-09-01T18:33:50.610Z"
   },
   {
    "duration": 47,
    "start_time": "2022-09-01T18:33:50.647Z"
   },
   {
    "duration": 12,
    "start_time": "2022-09-01T18:33:50.696Z"
   },
   {
    "duration": 25,
    "start_time": "2022-09-01T18:33:50.709Z"
   },
   {
    "duration": 9,
    "start_time": "2022-09-01T18:33:50.736Z"
   },
   {
    "duration": 15,
    "start_time": "2022-09-01T18:33:50.758Z"
   },
   {
    "duration": 16,
    "start_time": "2022-09-01T18:33:50.775Z"
   },
   {
    "duration": 19,
    "start_time": "2022-09-01T18:33:50.792Z"
   },
   {
    "duration": 9,
    "start_time": "2022-09-01T18:33:50.813Z"
   },
   {
    "duration": 32,
    "start_time": "2022-09-01T18:33:50.824Z"
   },
   {
    "duration": 16,
    "start_time": "2022-09-01T18:33:50.860Z"
   },
   {
    "duration": 27,
    "start_time": "2022-09-01T18:33:50.877Z"
   },
   {
    "duration": 8,
    "start_time": "2022-09-01T18:33:50.905Z"
   },
   {
    "duration": 18,
    "start_time": "2022-09-01T18:33:50.915Z"
   },
   {
    "duration": 36,
    "start_time": "2022-09-01T18:33:50.935Z"
   },
   {
    "duration": 18,
    "start_time": "2022-09-01T18:33:50.973Z"
   },
   {
    "duration": 25,
    "start_time": "2022-09-01T18:33:50.993Z"
   },
   {
    "duration": 8,
    "start_time": "2022-09-01T18:33:53.725Z"
   },
   {
    "duration": 4,
    "start_time": "2022-09-01T18:33:57.086Z"
   },
   {
    "duration": 9,
    "start_time": "2022-09-01T18:33:59.703Z"
   },
   {
    "duration": 10,
    "start_time": "2022-09-01T18:37:21.898Z"
   },
   {
    "duration": 9,
    "start_time": "2022-09-01T18:37:38.119Z"
   },
   {
    "duration": 10,
    "start_time": "2022-09-01T18:37:49.166Z"
   },
   {
    "duration": 1134,
    "start_time": "2022-09-01T18:41:12.618Z"
   },
   {
    "duration": 19,
    "start_time": "2022-09-01T18:41:42.950Z"
   },
   {
    "duration": 41,
    "start_time": "2022-09-01T18:41:55.672Z"
   },
   {
    "duration": 13,
    "start_time": "2022-09-01T18:41:57.950Z"
   },
   {
    "duration": 13,
    "start_time": "2022-09-01T18:42:03.970Z"
   },
   {
    "duration": 14,
    "start_time": "2022-09-01T18:42:13.453Z"
   },
   {
    "duration": 23,
    "start_time": "2022-09-01T18:42:21.883Z"
   },
   {
    "duration": 22,
    "start_time": "2022-09-01T18:42:28.774Z"
   },
   {
    "duration": 24,
    "start_time": "2022-09-01T18:42:32.148Z"
   },
   {
    "duration": 16,
    "start_time": "2022-09-01T18:42:37.628Z"
   },
   {
    "duration": 10,
    "start_time": "2022-09-01T18:42:50.056Z"
   },
   {
    "duration": 20,
    "start_time": "2022-09-01T18:43:32.690Z"
   },
   {
    "duration": 8,
    "start_time": "2022-09-01T18:43:36.872Z"
   },
   {
    "duration": 80,
    "start_time": "2022-09-01T18:44:06.671Z"
   },
   {
    "duration": 9,
    "start_time": "2022-09-01T18:44:22.739Z"
   },
   {
    "duration": 86,
    "start_time": "2022-09-01T18:46:17.084Z"
   },
   {
    "duration": 82,
    "start_time": "2022-09-01T18:46:42.475Z"
   },
   {
    "duration": 13,
    "start_time": "2022-09-01T18:46:45.450Z"
   },
   {
    "duration": 10,
    "start_time": "2022-09-01T18:50:15.129Z"
   },
   {
    "duration": 3,
    "start_time": "2022-09-01T18:50:30.115Z"
   },
   {
    "duration": 436,
    "start_time": "2022-09-01T18:50:30.120Z"
   },
   {
    "duration": 48,
    "start_time": "2022-09-01T18:50:30.559Z"
   },
   {
    "duration": 71,
    "start_time": "2022-09-01T18:50:30.609Z"
   },
   {
    "duration": 21,
    "start_time": "2022-09-01T18:50:30.681Z"
   },
   {
    "duration": 20,
    "start_time": "2022-09-01T18:50:30.703Z"
   },
   {
    "duration": 44,
    "start_time": "2022-09-01T18:50:30.724Z"
   },
   {
    "duration": 6,
    "start_time": "2022-09-01T18:50:30.770Z"
   },
   {
    "duration": 22,
    "start_time": "2022-09-01T18:50:30.778Z"
   },
   {
    "duration": 32,
    "start_time": "2022-09-01T18:50:30.801Z"
   },
   {
    "duration": 39,
    "start_time": "2022-09-01T18:50:30.835Z"
   },
   {
    "duration": 18,
    "start_time": "2022-09-01T18:50:30.876Z"
   },
   {
    "duration": 6,
    "start_time": "2022-09-01T18:50:30.895Z"
   },
   {
    "duration": 26,
    "start_time": "2022-09-01T18:50:30.903Z"
   },
   {
    "duration": 11,
    "start_time": "2022-09-01T18:50:30.930Z"
   },
   {
    "duration": 11,
    "start_time": "2022-09-01T18:50:30.958Z"
   },
   {
    "duration": 7,
    "start_time": "2022-09-01T18:50:30.970Z"
   },
   {
    "duration": 109,
    "start_time": "2022-09-01T18:50:30.979Z"
   },
   {
    "duration": 39,
    "start_time": "2022-09-01T18:50:31.090Z"
   },
   {
    "duration": 52,
    "start_time": "2022-09-01T18:50:31.132Z"
   },
   {
    "duration": 6,
    "start_time": "2022-09-01T18:50:31.186Z"
   },
   {
    "duration": 27,
    "start_time": "2022-09-01T18:50:31.194Z"
   },
   {
    "duration": 5,
    "start_time": "2022-09-01T18:50:31.224Z"
   },
   {
    "duration": 25,
    "start_time": "2022-09-01T18:50:31.233Z"
   },
   {
    "duration": 13,
    "start_time": "2022-09-01T18:50:31.260Z"
   },
   {
    "duration": 16,
    "start_time": "2022-09-01T18:50:31.275Z"
   },
   {
    "duration": 8,
    "start_time": "2022-09-01T18:50:31.293Z"
   },
   {
    "duration": 59,
    "start_time": "2022-09-01T18:50:31.303Z"
   },
   {
    "duration": 8,
    "start_time": "2022-09-01T18:50:31.364Z"
   },
   {
    "duration": 24,
    "start_time": "2022-09-01T18:50:31.374Z"
   },
   {
    "duration": 14,
    "start_time": "2022-09-01T18:50:31.400Z"
   },
   {
    "duration": 18,
    "start_time": "2022-09-01T18:50:31.416Z"
   },
   {
    "duration": 13,
    "start_time": "2022-09-01T18:50:31.436Z"
   },
   {
    "duration": 69,
    "start_time": "2022-09-01T18:50:31.451Z"
   },
   {
    "duration": 9,
    "start_time": "2022-09-01T18:50:31.522Z"
   },
   {
    "duration": 10,
    "start_time": "2022-09-01T18:50:35.531Z"
   },
   {
    "duration": 10,
    "start_time": "2022-09-01T18:50:37.900Z"
   },
   {
    "duration": 65,
    "start_time": "2022-09-01T18:53:29.092Z"
   },
   {
    "duration": 9,
    "start_time": "2022-09-01T18:53:31.284Z"
   },
   {
    "duration": 34,
    "start_time": "2022-09-01T18:53:53.735Z"
   },
   {
    "duration": 28,
    "start_time": "2022-09-01T18:54:54.201Z"
   },
   {
    "duration": 17,
    "start_time": "2022-09-01T18:55:05.507Z"
   },
   {
    "duration": 8,
    "start_time": "2022-09-01T19:00:44.222Z"
   },
   {
    "duration": 3,
    "start_time": "2022-09-01T19:00:48.145Z"
   },
   {
    "duration": 812,
    "start_time": "2022-09-01T19:00:50.034Z"
   },
   {
    "duration": 836,
    "start_time": "2022-09-01T19:01:48.325Z"
   },
   {
    "duration": 3,
    "start_time": "2022-09-01T19:02:08.295Z"
   },
   {
    "duration": 31,
    "start_time": "2022-09-01T19:02:10.150Z"
   },
   {
    "duration": 33,
    "start_time": "2022-09-01T19:03:10.155Z"
   },
   {
    "duration": 37,
    "start_time": "2022-09-01T19:03:13.386Z"
   },
   {
    "duration": 17,
    "start_time": "2022-09-01T19:03:35.480Z"
   },
   {
    "duration": 7,
    "start_time": "2022-09-01T19:03:38.171Z"
   },
   {
    "duration": 11,
    "start_time": "2022-09-01T19:03:43.896Z"
   },
   {
    "duration": 9,
    "start_time": "2022-09-01T19:04:25.901Z"
   },
   {
    "duration": 11,
    "start_time": "2022-09-01T19:04:37.524Z"
   },
   {
    "duration": 12,
    "start_time": "2022-09-01T19:06:58.548Z"
   },
   {
    "duration": 9,
    "start_time": "2022-09-01T19:07:05.773Z"
   },
   {
    "duration": 10,
    "start_time": "2022-09-01T19:07:12.245Z"
   },
   {
    "duration": 11,
    "start_time": "2022-09-01T19:08:25.424Z"
   },
   {
    "duration": 4,
    "start_time": "2022-09-01T19:09:44.321Z"
   },
   {
    "duration": 4,
    "start_time": "2022-09-01T19:11:08.933Z"
   },
   {
    "duration": 25,
    "start_time": "2022-09-01T19:11:11.138Z"
   },
   {
    "duration": 3262,
    "start_time": "2022-09-01T19:11:48.459Z"
   },
   {
    "duration": 10,
    "start_time": "2022-09-01T19:11:54.166Z"
   },
   {
    "duration": 18,
    "start_time": "2022-09-01T19:12:06.718Z"
   },
   {
    "duration": 18,
    "start_time": "2022-09-01T19:12:11.932Z"
   },
   {
    "duration": 20,
    "start_time": "2022-09-01T19:12:18.119Z"
   },
   {
    "duration": 4,
    "start_time": "2022-09-01T19:15:32.672Z"
   },
   {
    "duration": 4115,
    "start_time": "2022-09-01T19:15:36.816Z"
   },
   {
    "duration": 4,
    "start_time": "2022-09-01T19:16:14.436Z"
   },
   {
    "duration": 4,
    "start_time": "2022-09-01T19:16:16.450Z"
   },
   {
    "duration": 3316,
    "start_time": "2022-09-01T19:16:20.618Z"
   },
   {
    "duration": 808,
    "start_time": "2022-09-01T19:16:38.031Z"
   },
   {
    "duration": 9,
    "start_time": "2022-09-01T19:17:47.537Z"
   },
   {
    "duration": 9,
    "start_time": "2022-09-01T19:17:53.094Z"
   },
   {
    "duration": 7,
    "start_time": "2022-09-01T19:18:01.860Z"
   },
   {
    "duration": 20,
    "start_time": "2022-09-01T19:18:38.630Z"
   },
   {
    "duration": 22,
    "start_time": "2022-09-01T19:18:46.716Z"
   },
   {
    "duration": 4,
    "start_time": "2022-09-01T19:21:28.325Z"
   },
   {
    "duration": 3,
    "start_time": "2022-09-01T19:21:30.068Z"
   },
   {
    "duration": 25,
    "start_time": "2022-09-01T19:21:33.168Z"
   },
   {
    "duration": 3405,
    "start_time": "2022-09-01T19:21:42.876Z"
   },
   {
    "duration": 1032,
    "start_time": "2022-09-01T19:22:01.319Z"
   },
   {
    "duration": 18,
    "start_time": "2022-09-01T19:22:55.519Z"
   },
   {
    "duration": 7,
    "start_time": "2022-09-01T19:23:04.304Z"
   },
   {
    "duration": 2,
    "start_time": "2022-09-01T19:24:36.832Z"
   },
   {
    "duration": 389,
    "start_time": "2022-09-01T19:24:36.840Z"
   },
   {
    "duration": 54,
    "start_time": "2022-09-01T19:24:37.232Z"
   },
   {
    "duration": 47,
    "start_time": "2022-09-01T19:24:37.288Z"
   },
   {
    "duration": 34,
    "start_time": "2022-09-01T19:24:37.337Z"
   },
   {
    "duration": 16,
    "start_time": "2022-09-01T19:24:37.373Z"
   },
   {
    "duration": 30,
    "start_time": "2022-09-01T19:24:37.391Z"
   },
   {
    "duration": 38,
    "start_time": "2022-09-01T19:24:37.423Z"
   },
   {
    "duration": 37,
    "start_time": "2022-09-01T19:24:37.463Z"
   },
   {
    "duration": 55,
    "start_time": "2022-09-01T19:24:37.502Z"
   },
   {
    "duration": 23,
    "start_time": "2022-09-01T19:24:37.560Z"
   },
   {
    "duration": 19,
    "start_time": "2022-09-01T19:24:37.585Z"
   },
   {
    "duration": 6,
    "start_time": "2022-09-01T19:24:37.605Z"
   },
   {
    "duration": 14,
    "start_time": "2022-09-01T19:24:37.613Z"
   },
   {
    "duration": 37,
    "start_time": "2022-09-01T19:24:37.629Z"
   },
   {
    "duration": 11,
    "start_time": "2022-09-01T19:24:37.668Z"
   },
   {
    "duration": 7,
    "start_time": "2022-09-01T19:24:37.680Z"
   },
   {
    "duration": 102,
    "start_time": "2022-09-01T19:24:37.688Z"
   },
   {
    "duration": 39,
    "start_time": "2022-09-01T19:24:37.792Z"
   },
   {
    "duration": 50,
    "start_time": "2022-09-01T19:24:37.833Z"
   },
   {
    "duration": 9,
    "start_time": "2022-09-01T19:24:37.885Z"
   },
   {
    "duration": 18,
    "start_time": "2022-09-01T19:24:37.896Z"
   },
   {
    "duration": 5,
    "start_time": "2022-09-01T19:24:37.915Z"
   },
   {
    "duration": 38,
    "start_time": "2022-09-01T19:24:37.922Z"
   },
   {
    "duration": 17,
    "start_time": "2022-09-01T19:24:37.962Z"
   },
   {
    "duration": 7,
    "start_time": "2022-09-01T19:24:37.981Z"
   },
   {
    "duration": 8,
    "start_time": "2022-09-01T19:24:37.990Z"
   },
   {
    "duration": 63,
    "start_time": "2022-09-01T19:24:38.000Z"
   },
   {
    "duration": 9,
    "start_time": "2022-09-01T19:24:38.066Z"
   },
   {
    "duration": 11,
    "start_time": "2022-09-01T19:24:38.077Z"
   },
   {
    "duration": 10,
    "start_time": "2022-09-01T19:24:38.089Z"
   },
   {
    "duration": 6,
    "start_time": "2022-09-01T19:24:38.101Z"
   },
   {
    "duration": 11,
    "start_time": "2022-09-01T19:24:38.109Z"
   },
   {
    "duration": 90,
    "start_time": "2022-09-01T19:24:38.122Z"
   },
   {
    "duration": 8,
    "start_time": "2022-09-01T19:24:38.214Z"
   },
   {
    "duration": 92,
    "start_time": "2022-09-01T19:24:38.224Z"
   },
   {
    "duration": 10,
    "start_time": "2022-09-01T19:24:38.318Z"
   },
   {
    "duration": 57,
    "start_time": "2022-09-01T19:24:38.330Z"
   },
   {
    "duration": 34,
    "start_time": "2022-09-01T19:24:38.389Z"
   },
   {
    "duration": 36,
    "start_time": "2022-09-01T19:24:38.425Z"
   },
   {
    "duration": 7,
    "start_time": "2022-09-01T19:24:38.463Z"
   },
   {
    "duration": 16,
    "start_time": "2022-09-01T19:24:38.472Z"
   },
   {
    "duration": 10,
    "start_time": "2022-09-01T19:24:38.490Z"
   },
   {
    "duration": 5,
    "start_time": "2022-09-01T19:24:38.502Z"
   },
   {
    "duration": 6,
    "start_time": "2022-09-01T19:24:38.509Z"
   },
   {
    "duration": 10,
    "start_time": "2022-09-01T19:24:38.517Z"
   },
   {
    "duration": 47,
    "start_time": "2022-09-01T19:24:38.529Z"
   },
   {
    "duration": 28,
    "start_time": "2022-09-01T19:24:43.812Z"
   },
   {
    "duration": 8886,
    "start_time": "2022-09-01T19:24:48.375Z"
   },
   {
    "duration": 3335,
    "start_time": "2022-09-01T19:25:42.429Z"
   },
   {
    "duration": 20,
    "start_time": "2022-09-01T19:25:50.052Z"
   },
   {
    "duration": 1381,
    "start_time": "2022-09-01T19:25:55.312Z"
   },
   {
    "duration": 14,
    "start_time": "2022-09-01T19:26:52.649Z"
   },
   {
    "duration": 14,
    "start_time": "2022-09-01T19:27:22.721Z"
   },
   {
    "duration": 12,
    "start_time": "2022-09-01T19:27:45.983Z"
   },
   {
    "duration": 16,
    "start_time": "2022-09-01T19:29:01.482Z"
   },
   {
    "duration": 1489,
    "start_time": "2022-09-01T19:30:36.139Z"
   },
   {
    "duration": 11,
    "start_time": "2022-09-01T19:32:35.056Z"
   },
   {
    "duration": 7,
    "start_time": "2022-09-01T19:32:58.655Z"
   },
   {
    "duration": 22,
    "start_time": "2022-09-01T19:35:17.625Z"
   },
   {
    "duration": 9,
    "start_time": "2022-09-01T19:45:12.516Z"
   },
   {
    "duration": 5,
    "start_time": "2022-09-01T19:45:31.356Z"
   },
   {
    "duration": 7,
    "start_time": "2022-09-01T19:45:40.245Z"
   },
   {
    "duration": 3,
    "start_time": "2022-09-01T19:45:51.600Z"
   },
   {
    "duration": 356,
    "start_time": "2022-09-01T19:45:51.605Z"
   },
   {
    "duration": 48,
    "start_time": "2022-09-01T19:45:51.963Z"
   },
   {
    "duration": 58,
    "start_time": "2022-09-01T19:45:52.013Z"
   },
   {
    "duration": 19,
    "start_time": "2022-09-01T19:45:52.073Z"
   },
   {
    "duration": 13,
    "start_time": "2022-09-01T19:45:52.094Z"
   },
   {
    "duration": 55,
    "start_time": "2022-09-01T19:45:52.109Z"
   },
   {
    "duration": 6,
    "start_time": "2022-09-01T19:45:52.166Z"
   },
   {
    "duration": 29,
    "start_time": "2022-09-01T19:45:52.174Z"
   },
   {
    "duration": 49,
    "start_time": "2022-09-01T19:45:52.204Z"
   },
   {
    "duration": 30,
    "start_time": "2022-09-01T19:45:52.255Z"
   },
   {
    "duration": 25,
    "start_time": "2022-09-01T19:45:52.287Z"
   },
   {
    "duration": 6,
    "start_time": "2022-09-01T19:45:52.314Z"
   },
   {
    "duration": 24,
    "start_time": "2022-09-01T19:45:52.321Z"
   },
   {
    "duration": 18,
    "start_time": "2022-09-01T19:45:52.346Z"
   },
   {
    "duration": 12,
    "start_time": "2022-09-01T19:45:52.365Z"
   },
   {
    "duration": 13,
    "start_time": "2022-09-01T19:45:52.378Z"
   },
   {
    "duration": 81,
    "start_time": "2022-09-01T19:45:52.393Z"
   },
   {
    "duration": 34,
    "start_time": "2022-09-01T19:45:52.476Z"
   },
   {
    "duration": 50,
    "start_time": "2022-09-01T19:45:52.513Z"
   },
   {
    "duration": 8,
    "start_time": "2022-09-01T19:45:52.565Z"
   },
   {
    "duration": 25,
    "start_time": "2022-09-01T19:45:52.574Z"
   },
   {
    "duration": 14,
    "start_time": "2022-09-01T19:45:52.601Z"
   },
   {
    "duration": 28,
    "start_time": "2022-09-01T19:45:52.618Z"
   },
   {
    "duration": 18,
    "start_time": "2022-09-01T19:45:52.647Z"
   },
   {
    "duration": 19,
    "start_time": "2022-09-01T19:45:52.666Z"
   },
   {
    "duration": 14,
    "start_time": "2022-09-01T19:45:52.686Z"
   },
   {
    "duration": 46,
    "start_time": "2022-09-01T19:45:52.702Z"
   },
   {
    "duration": 8,
    "start_time": "2022-09-01T19:45:52.750Z"
   },
   {
    "duration": 24,
    "start_time": "2022-09-01T19:45:52.759Z"
   },
   {
    "duration": 25,
    "start_time": "2022-09-01T19:45:52.784Z"
   },
   {
    "duration": 6,
    "start_time": "2022-09-01T19:45:52.811Z"
   },
   {
    "duration": 9,
    "start_time": "2022-09-01T19:45:52.819Z"
   },
   {
    "duration": 61,
    "start_time": "2022-09-01T19:45:52.829Z"
   },
   {
    "duration": 10,
    "start_time": "2022-09-01T19:45:52.892Z"
   },
   {
    "duration": 75,
    "start_time": "2022-09-01T19:45:52.903Z"
   },
   {
    "duration": 9,
    "start_time": "2022-09-01T19:45:52.980Z"
   },
   {
    "duration": 35,
    "start_time": "2022-09-01T19:45:52.991Z"
   },
   {
    "duration": 52,
    "start_time": "2022-09-01T19:45:53.029Z"
   },
   {
    "duration": 17,
    "start_time": "2022-09-01T19:45:53.082Z"
   },
   {
    "duration": 5,
    "start_time": "2022-09-01T19:45:53.101Z"
   },
   {
    "duration": 5,
    "start_time": "2022-09-01T19:45:53.108Z"
   },
   {
    "duration": 7,
    "start_time": "2022-09-01T19:45:53.114Z"
   },
   {
    "duration": 8,
    "start_time": "2022-09-01T19:45:57.440Z"
   },
   {
    "duration": 26,
    "start_time": "2022-09-01T19:45:59.775Z"
   },
   {
    "duration": 6,
    "start_time": "2022-09-01T19:46:02.881Z"
   },
   {
    "duration": 3,
    "start_time": "2022-09-01T19:46:06.333Z"
   },
   {
    "duration": 4,
    "start_time": "2022-09-01T19:46:08.561Z"
   },
   {
    "duration": 4,
    "start_time": "2022-09-01T19:46:10.382Z"
   },
   {
    "duration": 3441,
    "start_time": "2022-09-01T19:46:12.985Z"
   },
   {
    "duration": 980,
    "start_time": "2022-09-01T19:46:18.639Z"
   },
   {
    "duration": 1456,
    "start_time": "2022-09-01T19:46:44.350Z"
   },
   {
    "duration": 1362,
    "start_time": "2022-09-01T19:49:26.986Z"
   },
   {
    "duration": 5,
    "start_time": "2022-09-01T19:52:15.432Z"
   },
   {
    "duration": 3225,
    "start_time": "2022-09-01T19:52:19.177Z"
   },
   {
    "duration": 9,
    "start_time": "2022-09-01T19:52:28.642Z"
   },
   {
    "duration": 15,
    "start_time": "2022-09-01T19:52:39.866Z"
   },
   {
    "duration": 9,
    "start_time": "2022-09-01T19:52:57.622Z"
   },
   {
    "duration": 20,
    "start_time": "2022-09-01T19:53:03.672Z"
   },
   {
    "duration": 17,
    "start_time": "2022-09-01T19:53:09.508Z"
   },
   {
    "duration": 3,
    "start_time": "2022-09-01T19:53:42.112Z"
   },
   {
    "duration": 1317,
    "start_time": "2022-09-01T19:53:47.927Z"
   },
   {
    "duration": 16,
    "start_time": "2022-09-01T19:53:55.394Z"
   },
   {
    "duration": 16,
    "start_time": "2022-09-01T19:54:24.736Z"
   },
   {
    "duration": 3241,
    "start_time": "2022-09-01T19:54:57.970Z"
   },
   {
    "duration": 3033,
    "start_time": "2022-09-01T19:55:19.474Z"
   },
   {
    "duration": 1404,
    "start_time": "2022-09-01T19:56:33.327Z"
   },
   {
    "duration": 2996,
    "start_time": "2022-09-01T19:56:51.617Z"
   },
   {
    "duration": 1306,
    "start_time": "2022-09-01T19:56:56.584Z"
   },
   {
    "duration": 18,
    "start_time": "2022-09-01T19:56:59.878Z"
   },
   {
    "duration": 18,
    "start_time": "2022-09-01T19:57:05.961Z"
   },
   {
    "duration": 4,
    "start_time": "2022-09-01T19:57:44.418Z"
   },
   {
    "duration": 17,
    "start_time": "2022-09-01T19:57:50.646Z"
   },
   {
    "duration": 4,
    "start_time": "2022-09-01T19:58:01.863Z"
   },
   {
    "duration": 17,
    "start_time": "2022-09-01T19:58:04.242Z"
   },
   {
    "duration": 5,
    "start_time": "2022-09-01T20:04:38.134Z"
   },
   {
    "duration": 7,
    "start_time": "2022-09-01T20:04:54.079Z"
   },
   {
    "duration": 18,
    "start_time": "2022-09-01T20:05:02.935Z"
   },
   {
    "duration": 3,
    "start_time": "2022-09-01T20:05:50.284Z"
   },
   {
    "duration": 428,
    "start_time": "2022-09-01T20:05:50.289Z"
   },
   {
    "duration": 50,
    "start_time": "2022-09-01T20:05:50.719Z"
   },
   {
    "duration": 47,
    "start_time": "2022-09-01T20:05:50.772Z"
   },
   {
    "duration": 37,
    "start_time": "2022-09-01T20:05:50.821Z"
   },
   {
    "duration": 14,
    "start_time": "2022-09-01T20:05:50.859Z"
   },
   {
    "duration": 28,
    "start_time": "2022-09-01T20:05:50.874Z"
   },
   {
    "duration": 8,
    "start_time": "2022-09-01T20:05:50.904Z"
   },
   {
    "duration": 46,
    "start_time": "2022-09-01T20:05:50.914Z"
   },
   {
    "duration": 29,
    "start_time": "2022-09-01T20:05:50.962Z"
   },
   {
    "duration": 23,
    "start_time": "2022-09-01T20:05:50.993Z"
   },
   {
    "duration": 39,
    "start_time": "2022-09-01T20:05:51.018Z"
   },
   {
    "duration": 6,
    "start_time": "2022-09-01T20:05:51.059Z"
   },
   {
    "duration": 15,
    "start_time": "2022-09-01T20:05:51.067Z"
   },
   {
    "duration": 10,
    "start_time": "2022-09-01T20:05:51.084Z"
   },
   {
    "duration": 9,
    "start_time": "2022-09-01T20:05:51.095Z"
   },
   {
    "duration": 6,
    "start_time": "2022-09-01T20:05:51.105Z"
   },
   {
    "duration": 102,
    "start_time": "2022-09-01T20:05:51.112Z"
   },
   {
    "duration": 46,
    "start_time": "2022-09-01T20:05:51.215Z"
   },
   {
    "duration": 35,
    "start_time": "2022-09-01T20:05:51.262Z"
   },
   {
    "duration": 6,
    "start_time": "2022-09-01T20:05:51.299Z"
   },
   {
    "duration": 17,
    "start_time": "2022-09-01T20:05:51.307Z"
   },
   {
    "duration": 32,
    "start_time": "2022-09-01T20:05:51.326Z"
   },
   {
    "duration": 4,
    "start_time": "2022-09-01T20:05:51.361Z"
   },
   {
    "duration": 8,
    "start_time": "2022-09-01T20:05:51.366Z"
   },
   {
    "duration": 8,
    "start_time": "2022-09-01T20:05:51.376Z"
   },
   {
    "duration": 6,
    "start_time": "2022-09-01T20:05:51.386Z"
   },
   {
    "duration": 69,
    "start_time": "2022-09-01T20:05:51.393Z"
   },
   {
    "duration": 9,
    "start_time": "2022-09-01T20:05:51.464Z"
   },
   {
    "duration": 9,
    "start_time": "2022-09-01T20:05:51.475Z"
   },
   {
    "duration": 11,
    "start_time": "2022-09-01T20:05:51.486Z"
   },
   {
    "duration": 7,
    "start_time": "2022-09-01T20:05:51.498Z"
   },
   {
    "duration": 10,
    "start_time": "2022-09-01T20:05:51.507Z"
   },
   {
    "duration": 86,
    "start_time": "2022-09-01T20:05:51.519Z"
   },
   {
    "duration": 9,
    "start_time": "2022-09-01T20:05:51.607Z"
   },
   {
    "duration": 94,
    "start_time": "2022-09-01T20:05:51.618Z"
   },
   {
    "duration": 10,
    "start_time": "2022-09-01T20:05:51.714Z"
   },
   {
    "duration": 48,
    "start_time": "2022-09-01T20:05:51.725Z"
   },
   {
    "duration": 34,
    "start_time": "2022-09-01T20:05:51.775Z"
   },
   {
    "duration": 19,
    "start_time": "2022-09-01T20:05:51.810Z"
   },
   {
    "duration": 28,
    "start_time": "2022-09-01T20:05:51.830Z"
   },
   {
    "duration": 4,
    "start_time": "2022-09-01T20:05:51.860Z"
   },
   {
    "duration": 8,
    "start_time": "2022-09-01T20:05:51.866Z"
   },
   {
    "duration": 23,
    "start_time": "2022-09-01T20:05:51.876Z"
   },
   {
    "duration": 2,
    "start_time": "2022-09-01T20:05:51.901Z"
   },
   {
    "duration": 6,
    "start_time": "2022-09-01T20:05:51.905Z"
   },
   {
    "duration": 8,
    "start_time": "2022-09-01T20:05:51.913Z"
   },
   {
    "duration": 11,
    "start_time": "2022-09-01T20:05:51.922Z"
   },
   {
    "duration": 25,
    "start_time": "2022-09-01T20:05:51.935Z"
   },
   {
    "duration": 15,
    "start_time": "2022-09-01T20:05:54.088Z"
   },
   {
    "duration": 3438,
    "start_time": "2022-09-01T20:07:01.431Z"
   },
   {
    "duration": 23,
    "start_time": "2022-09-01T20:08:18.512Z"
   },
   {
    "duration": 18,
    "start_time": "2022-09-01T20:08:44.310Z"
   },
   {
    "duration": 23,
    "start_time": "2022-09-01T20:09:06.864Z"
   },
   {
    "duration": 3486,
    "start_time": "2022-09-01T20:09:24.631Z"
   },
   {
    "duration": 3,
    "start_time": "2022-09-01T20:09:30.830Z"
   },
   {
    "duration": 3489,
    "start_time": "2022-09-01T20:09:33.667Z"
   },
   {
    "duration": 12,
    "start_time": "2022-09-01T20:09:42.709Z"
   },
   {
    "duration": 3,
    "start_time": "2022-09-01T20:10:20.003Z"
   },
   {
    "duration": 420,
    "start_time": "2022-09-01T20:10:20.008Z"
   },
   {
    "duration": 50,
    "start_time": "2022-09-01T20:10:20.430Z"
   },
   {
    "duration": 48,
    "start_time": "2022-09-01T20:10:20.482Z"
   },
   {
    "duration": 40,
    "start_time": "2022-09-01T20:10:20.532Z"
   },
   {
    "duration": 19,
    "start_time": "2022-09-01T20:10:20.574Z"
   },
   {
    "duration": 64,
    "start_time": "2022-09-01T20:10:20.595Z"
   },
   {
    "duration": 8,
    "start_time": "2022-09-01T20:10:20.661Z"
   },
   {
    "duration": 23,
    "start_time": "2022-09-01T20:10:20.671Z"
   },
   {
    "duration": 31,
    "start_time": "2022-09-01T20:10:20.696Z"
   },
   {
    "duration": 45,
    "start_time": "2022-09-01T20:10:20.728Z"
   },
   {
    "duration": 18,
    "start_time": "2022-09-01T20:10:20.775Z"
   },
   {
    "duration": 5,
    "start_time": "2022-09-01T20:10:20.796Z"
   },
   {
    "duration": 21,
    "start_time": "2022-09-01T20:10:20.803Z"
   },
   {
    "duration": 33,
    "start_time": "2022-09-01T20:10:20.826Z"
   },
   {
    "duration": 13,
    "start_time": "2022-09-01T20:10:20.861Z"
   },
   {
    "duration": 7,
    "start_time": "2022-09-01T20:10:20.876Z"
   },
   {
    "duration": 94,
    "start_time": "2022-09-01T20:10:20.884Z"
   },
   {
    "duration": 35,
    "start_time": "2022-09-01T20:10:20.979Z"
   },
   {
    "duration": 54,
    "start_time": "2022-09-01T20:10:21.016Z"
   },
   {
    "duration": 8,
    "start_time": "2022-09-01T20:10:21.072Z"
   },
   {
    "duration": 16,
    "start_time": "2022-09-01T20:10:21.082Z"
   },
   {
    "duration": 5,
    "start_time": "2022-09-01T20:10:21.100Z"
   },
   {
    "duration": 5,
    "start_time": "2022-09-01T20:10:21.106Z"
   },
   {
    "duration": 9,
    "start_time": "2022-09-01T20:10:21.112Z"
   },
   {
    "duration": 37,
    "start_time": "2022-09-01T20:10:21.122Z"
   },
   {
    "duration": 6,
    "start_time": "2022-09-01T20:10:21.160Z"
   },
   {
    "duration": 48,
    "start_time": "2022-09-01T20:10:21.167Z"
   },
   {
    "duration": 8,
    "start_time": "2022-09-01T20:10:21.216Z"
   },
   {
    "duration": 32,
    "start_time": "2022-09-01T20:10:21.226Z"
   },
   {
    "duration": 12,
    "start_time": "2022-09-01T20:10:21.260Z"
   },
   {
    "duration": 8,
    "start_time": "2022-09-01T20:10:21.274Z"
   },
   {
    "duration": 8,
    "start_time": "2022-09-01T20:10:21.284Z"
   },
   {
    "duration": 79,
    "start_time": "2022-09-01T20:10:21.293Z"
   },
   {
    "duration": 9,
    "start_time": "2022-09-01T20:10:21.374Z"
   },
   {
    "duration": 87,
    "start_time": "2022-09-01T20:10:21.384Z"
   },
   {
    "duration": 8,
    "start_time": "2022-09-01T20:10:21.475Z"
   },
   {
    "duration": 39,
    "start_time": "2022-09-01T20:10:21.484Z"
   },
   {
    "duration": 52,
    "start_time": "2022-09-01T20:10:21.525Z"
   },
   {
    "duration": 16,
    "start_time": "2022-09-01T20:10:21.578Z"
   },
   {
    "duration": 6,
    "start_time": "2022-09-01T20:10:21.596Z"
   },
   {
    "duration": 5,
    "start_time": "2022-09-01T20:10:21.603Z"
   },
   {
    "duration": 8,
    "start_time": "2022-09-01T20:10:21.610Z"
   },
   {
    "duration": 47,
    "start_time": "2022-09-01T20:10:21.619Z"
   },
   {
    "duration": 3,
    "start_time": "2022-09-01T20:10:21.668Z"
   },
   {
    "duration": 6,
    "start_time": "2022-09-01T20:10:21.673Z"
   },
   {
    "duration": 9,
    "start_time": "2022-09-01T20:10:21.680Z"
   },
   {
    "duration": 11,
    "start_time": "2022-09-01T20:10:21.690Z"
   },
   {
    "duration": 7,
    "start_time": "2022-09-01T20:10:21.703Z"
   },
   {
    "duration": 20,
    "start_time": "2022-09-01T20:10:25.021Z"
   },
   {
    "duration": 3,
    "start_time": "2022-09-01T20:12:14.613Z"
   },
   {
    "duration": 413,
    "start_time": "2022-09-01T20:12:14.618Z"
   },
   {
    "duration": 70,
    "start_time": "2022-09-01T20:12:15.032Z"
   },
   {
    "duration": 55,
    "start_time": "2022-09-01T20:12:15.105Z"
   },
   {
    "duration": 25,
    "start_time": "2022-09-01T20:12:15.162Z"
   },
   {
    "duration": 20,
    "start_time": "2022-09-01T20:12:15.189Z"
   },
   {
    "duration": 60,
    "start_time": "2022-09-01T20:12:15.211Z"
   },
   {
    "duration": 10,
    "start_time": "2022-09-01T20:12:15.273Z"
   },
   {
    "duration": 36,
    "start_time": "2022-09-01T20:12:15.286Z"
   },
   {
    "duration": 49,
    "start_time": "2022-09-01T20:12:15.325Z"
   },
   {
    "duration": 31,
    "start_time": "2022-09-01T20:12:15.376Z"
   },
   {
    "duration": 17,
    "start_time": "2022-09-01T20:12:15.409Z"
   },
   {
    "duration": 5,
    "start_time": "2022-09-01T20:12:15.427Z"
   },
   {
    "duration": 32,
    "start_time": "2022-09-01T20:12:15.434Z"
   },
   {
    "duration": 16,
    "start_time": "2022-09-01T20:12:15.468Z"
   },
   {
    "duration": 15,
    "start_time": "2022-09-01T20:12:15.485Z"
   },
   {
    "duration": 6,
    "start_time": "2022-09-01T20:12:15.501Z"
   },
   {
    "duration": 118,
    "start_time": "2022-09-01T20:12:15.509Z"
   },
   {
    "duration": 51,
    "start_time": "2022-09-01T20:12:15.629Z"
   },
   {
    "duration": 45,
    "start_time": "2022-09-01T20:12:15.682Z"
   },
   {
    "duration": 7,
    "start_time": "2022-09-01T20:12:15.729Z"
   },
   {
    "duration": 21,
    "start_time": "2022-09-01T20:12:15.757Z"
   },
   {
    "duration": 5,
    "start_time": "2022-09-01T20:12:15.780Z"
   },
   {
    "duration": 7,
    "start_time": "2022-09-01T20:12:15.789Z"
   },
   {
    "duration": 7,
    "start_time": "2022-09-01T20:12:15.798Z"
   },
   {
    "duration": 7,
    "start_time": "2022-09-01T20:12:15.807Z"
   },
   {
    "duration": 6,
    "start_time": "2022-09-01T20:12:15.816Z"
   },
   {
    "duration": 73,
    "start_time": "2022-09-01T20:12:15.823Z"
   },
   {
    "duration": 8,
    "start_time": "2022-09-01T20:12:15.897Z"
   },
   {
    "duration": 10,
    "start_time": "2022-09-01T20:12:15.907Z"
   },
   {
    "duration": 11,
    "start_time": "2022-09-01T20:12:15.919Z"
   },
   {
    "duration": 27,
    "start_time": "2022-09-01T20:12:15.931Z"
   },
   {
    "duration": 8,
    "start_time": "2022-09-01T20:12:15.960Z"
   },
   {
    "duration": 67,
    "start_time": "2022-09-01T20:12:15.969Z"
   },
   {
    "duration": 21,
    "start_time": "2022-09-01T20:12:16.038Z"
   },
   {
    "duration": 78,
    "start_time": "2022-09-01T20:12:16.061Z"
   },
   {
    "duration": 22,
    "start_time": "2022-09-01T20:12:16.141Z"
   },
   {
    "duration": 44,
    "start_time": "2022-09-01T20:12:16.165Z"
   },
   {
    "duration": 34,
    "start_time": "2022-09-01T20:12:16.211Z"
   },
   {
    "duration": 31,
    "start_time": "2022-09-01T20:12:16.247Z"
   },
   {
    "duration": 5,
    "start_time": "2022-09-01T20:12:16.280Z"
   },
   {
    "duration": 8,
    "start_time": "2022-09-01T20:12:16.287Z"
   },
   {
    "duration": 8,
    "start_time": "2022-09-01T20:12:16.296Z"
   },
   {
    "duration": 21,
    "start_time": "2022-09-01T20:12:16.306Z"
   },
   {
    "duration": 3,
    "start_time": "2022-09-01T20:12:16.328Z"
   },
   {
    "duration": 5,
    "start_time": "2022-09-01T20:12:16.357Z"
   },
   {
    "duration": 6,
    "start_time": "2022-09-01T20:12:16.364Z"
   },
   {
    "duration": 18,
    "start_time": "2022-09-01T20:12:24.899Z"
   },
   {
    "duration": 6,
    "start_time": "2022-09-01T20:12:40.509Z"
   },
   {
    "duration": 19,
    "start_time": "2022-09-01T20:12:46.550Z"
   },
   {
    "duration": 4,
    "start_time": "2022-09-01T20:14:56.851Z"
   },
   {
    "duration": 4,
    "start_time": "2022-09-01T20:14:58.739Z"
   },
   {
    "duration": 5265,
    "start_time": "2022-09-01T20:15:05.039Z"
   },
   {
    "duration": 4669,
    "start_time": "2022-09-01T20:16:23.531Z"
   },
   {
    "duration": 6,
    "start_time": "2022-09-01T20:16:53.476Z"
   },
   {
    "duration": 5,
    "start_time": "2022-09-01T20:16:58.080Z"
   },
   {
    "duration": 3344,
    "start_time": "2022-09-01T20:17:11.862Z"
   },
   {
    "duration": 4,
    "start_time": "2022-09-01T20:17:26.044Z"
   },
   {
    "duration": 3400,
    "start_time": "2022-09-01T20:17:32.231Z"
   },
   {
    "duration": 15,
    "start_time": "2022-09-01T20:17:38.783Z"
   },
   {
    "duration": 6,
    "start_time": "2022-09-01T20:17:58.547Z"
   },
   {
    "duration": 4,
    "start_time": "2022-09-01T20:18:16.260Z"
   },
   {
    "duration": 715,
    "start_time": "2022-09-01T20:18:30.753Z"
   },
   {
    "duration": 7,
    "start_time": "2022-09-01T20:19:06.515Z"
   },
   {
    "duration": 11,
    "start_time": "2022-09-01T20:19:20.064Z"
   },
   {
    "duration": 10,
    "start_time": "2022-09-01T20:19:41.376Z"
   },
   {
    "duration": 4,
    "start_time": "2022-09-01T20:20:00.468Z"
   },
   {
    "duration": 6,
    "start_time": "2022-09-01T20:20:03.467Z"
   },
   {
    "duration": 11,
    "start_time": "2022-09-01T20:20:06.225Z"
   },
   {
    "duration": 10,
    "start_time": "2022-09-01T20:20:08.749Z"
   },
   {
    "duration": 32,
    "start_time": "2022-09-01T20:21:47.688Z"
   },
   {
    "duration": 3,
    "start_time": "2022-09-01T20:27:16.756Z"
   },
   {
    "duration": 413,
    "start_time": "2022-09-01T20:27:16.761Z"
   },
   {
    "duration": 49,
    "start_time": "2022-09-01T20:27:17.176Z"
   },
   {
    "duration": 57,
    "start_time": "2022-09-01T20:27:17.228Z"
   },
   {
    "duration": 19,
    "start_time": "2022-09-01T20:27:17.287Z"
   },
   {
    "duration": 13,
    "start_time": "2022-09-01T20:27:17.308Z"
   },
   {
    "duration": 49,
    "start_time": "2022-09-01T20:27:17.323Z"
   },
   {
    "duration": 7,
    "start_time": "2022-09-01T20:27:17.373Z"
   },
   {
    "duration": 24,
    "start_time": "2022-09-01T20:27:17.382Z"
   },
   {
    "duration": 54,
    "start_time": "2022-09-01T20:27:17.408Z"
   },
   {
    "duration": 21,
    "start_time": "2022-09-01T20:27:17.464Z"
   },
   {
    "duration": 18,
    "start_time": "2022-09-01T20:27:17.487Z"
   },
   {
    "duration": 6,
    "start_time": "2022-09-01T20:27:17.507Z"
   },
   {
    "duration": 19,
    "start_time": "2022-09-01T20:27:17.515Z"
   },
   {
    "duration": 13,
    "start_time": "2022-09-01T20:27:17.557Z"
   },
   {
    "duration": 11,
    "start_time": "2022-09-01T20:27:17.572Z"
   },
   {
    "duration": 5,
    "start_time": "2022-09-01T20:27:17.585Z"
   },
   {
    "duration": 97,
    "start_time": "2022-09-01T20:27:17.591Z"
   },
   {
    "duration": 35,
    "start_time": "2022-09-01T20:27:17.690Z"
   },
   {
    "duration": 48,
    "start_time": "2022-09-01T20:27:17.727Z"
   },
   {
    "duration": 8,
    "start_time": "2022-09-01T20:27:17.776Z"
   },
   {
    "duration": 31,
    "start_time": "2022-09-01T20:27:17.785Z"
   },
   {
    "duration": 11,
    "start_time": "2022-09-01T20:27:17.818Z"
   },
   {
    "duration": 8,
    "start_time": "2022-09-01T20:27:17.833Z"
   },
   {
    "duration": 17,
    "start_time": "2022-09-01T20:27:17.843Z"
   },
   {
    "duration": 9,
    "start_time": "2022-09-01T20:27:17.861Z"
   },
   {
    "duration": 11,
    "start_time": "2022-09-01T20:27:17.872Z"
   },
   {
    "duration": 54,
    "start_time": "2022-09-01T20:27:17.884Z"
   },
   {
    "duration": 19,
    "start_time": "2022-09-01T20:27:17.939Z"
   },
   {
    "duration": 9,
    "start_time": "2022-09-01T20:27:17.960Z"
   },
   {
    "duration": 15,
    "start_time": "2022-09-01T20:27:17.971Z"
   },
   {
    "duration": 15,
    "start_time": "2022-09-01T20:27:17.988Z"
   },
   {
    "duration": 13,
    "start_time": "2022-09-01T20:27:18.005Z"
   },
   {
    "duration": 79,
    "start_time": "2022-09-01T20:27:18.020Z"
   },
   {
    "duration": 9,
    "start_time": "2022-09-01T20:27:18.101Z"
   },
   {
    "duration": 99,
    "start_time": "2022-09-01T20:27:18.112Z"
   },
   {
    "duration": 12,
    "start_time": "2022-09-01T20:27:18.213Z"
   },
   {
    "duration": 56,
    "start_time": "2022-09-01T20:27:18.227Z"
   },
   {
    "duration": 36,
    "start_time": "2022-09-01T20:27:18.285Z"
   },
   {
    "duration": 19,
    "start_time": "2022-09-01T20:27:18.323Z"
   },
   {
    "duration": 19,
    "start_time": "2022-09-01T20:27:18.343Z"
   },
   {
    "duration": 7,
    "start_time": "2022-09-01T20:27:18.363Z"
   },
   {
    "duration": 9,
    "start_time": "2022-09-01T20:27:18.372Z"
   },
   {
    "duration": 20,
    "start_time": "2022-09-01T20:27:18.383Z"
   },
   {
    "duration": 3,
    "start_time": "2022-09-01T20:27:18.405Z"
   },
   {
    "duration": 8,
    "start_time": "2022-09-01T20:27:18.410Z"
   },
   {
    "duration": 7,
    "start_time": "2022-09-01T20:27:18.420Z"
   },
   {
    "duration": 4830,
    "start_time": "2022-09-01T20:27:18.429Z"
   },
   {
    "duration": 0,
    "start_time": "2022-09-01T20:27:23.261Z"
   },
   {
    "duration": 0,
    "start_time": "2022-09-01T20:27:23.263Z"
   },
   {
    "duration": 0,
    "start_time": "2022-09-01T20:27:23.264Z"
   },
   {
    "duration": 0,
    "start_time": "2022-09-01T20:27:23.265Z"
   },
   {
    "duration": 0,
    "start_time": "2022-09-01T20:27:23.267Z"
   },
   {
    "duration": 0,
    "start_time": "2022-09-01T20:27:23.268Z"
   },
   {
    "duration": 5,
    "start_time": "2022-09-01T20:29:05.330Z"
   },
   {
    "duration": 17,
    "start_time": "2022-09-01T20:29:10.555Z"
   },
   {
    "duration": 4,
    "start_time": "2022-09-01T20:29:32.324Z"
   },
   {
    "duration": 10492,
    "start_time": "2022-09-01T20:29:34.329Z"
   },
   {
    "duration": 8,
    "start_time": "2022-09-01T20:31:10.958Z"
   },
   {
    "duration": 4,
    "start_time": "2022-09-01T20:32:10.956Z"
   },
   {
    "duration": 18,
    "start_time": "2022-09-01T20:32:13.597Z"
   },
   {
    "duration": 4,
    "start_time": "2022-09-01T20:32:38.741Z"
   },
   {
    "duration": 51,
    "start_time": "2022-09-01T20:32:41.478Z"
   },
   {
    "duration": 14,
    "start_time": "2022-09-01T20:32:53.541Z"
   },
   {
    "duration": 4,
    "start_time": "2022-09-01T20:34:07.064Z"
   },
   {
    "duration": 4215,
    "start_time": "2022-09-01T20:34:13.983Z"
   },
   {
    "duration": 16,
    "start_time": "2022-09-01T20:34:20.366Z"
   },
   {
    "duration": 4,
    "start_time": "2022-09-01T20:34:31.789Z"
   },
   {
    "duration": 3814,
    "start_time": "2022-09-01T20:34:36.010Z"
   },
   {
    "duration": 4,
    "start_time": "2022-09-01T20:36:28.011Z"
   },
   {
    "duration": 3812,
    "start_time": "2022-09-01T20:36:31.684Z"
   },
   {
    "duration": 4,
    "start_time": "2022-09-01T20:37:58.044Z"
   },
   {
    "duration": 4227,
    "start_time": "2022-09-01T20:38:00.639Z"
   },
   {
    "duration": 4,
    "start_time": "2022-09-01T20:38:37.591Z"
   },
   {
    "duration": 4398,
    "start_time": "2022-09-01T20:38:40.144Z"
   },
   {
    "duration": 4,
    "start_time": "2022-09-01T20:39:12.380Z"
   },
   {
    "duration": 4292,
    "start_time": "2022-09-01T20:39:18.435Z"
   },
   {
    "duration": 18,
    "start_time": "2022-09-01T20:39:25.672Z"
   },
   {
    "duration": 4,
    "start_time": "2022-09-01T20:40:09.777Z"
   },
   {
    "duration": 4748,
    "start_time": "2022-09-01T20:40:13.460Z"
   },
   {
    "duration": 14,
    "start_time": "2022-09-01T20:40:20.842Z"
   },
   {
    "duration": 10,
    "start_time": "2022-09-01T20:40:52.035Z"
   },
   {
    "duration": 61,
    "start_time": "2022-09-01T20:48:03.468Z"
   },
   {
    "duration": 147,
    "start_time": "2022-09-01T20:48:08.360Z"
   },
   {
    "duration": 149,
    "start_time": "2022-09-01T20:49:28.253Z"
   },
   {
    "duration": 147,
    "start_time": "2022-09-01T20:49:45.696Z"
   },
   {
    "duration": 152,
    "start_time": "2022-09-01T20:59:10.217Z"
   },
   {
    "duration": 136,
    "start_time": "2022-09-01T20:59:12.647Z"
   },
   {
    "duration": 161,
    "start_time": "2022-09-01T21:00:49.190Z"
   },
   {
    "duration": 130,
    "start_time": "2022-09-01T21:00:51.502Z"
   },
   {
    "duration": 158,
    "start_time": "2022-09-01T21:01:53.951Z"
   },
   {
    "duration": 133,
    "start_time": "2022-09-01T21:01:56.457Z"
   },
   {
    "duration": 6,
    "start_time": "2022-09-01T21:02:31.747Z"
   },
   {
    "duration": 568,
    "start_time": "2022-09-01T21:02:51.943Z"
   },
   {
    "duration": 167,
    "start_time": "2022-09-01T21:03:13.690Z"
   },
   {
    "duration": 322,
    "start_time": "2022-09-01T21:03:44.770Z"
   },
   {
    "duration": 68,
    "start_time": "2022-09-01T21:07:57.785Z"
   },
   {
    "duration": 10,
    "start_time": "2022-09-01T21:08:02.612Z"
   },
   {
    "duration": 211,
    "start_time": "2022-09-01T21:08:09.229Z"
   },
   {
    "duration": 1107,
    "start_time": "2022-09-01T21:08:50.243Z"
   },
   {
    "duration": 156,
    "start_time": "2022-09-01T21:09:02.841Z"
   },
   {
    "duration": 3,
    "start_time": "2022-09-01T21:10:36.040Z"
   },
   {
    "duration": 202,
    "start_time": "2022-09-01T21:11:36.686Z"
   },
   {
    "duration": 4,
    "start_time": "2022-09-01T21:11:39.103Z"
   },
   {
    "duration": 10,
    "start_time": "2022-09-01T21:11:41.527Z"
   },
   {
    "duration": 30,
    "start_time": "2022-09-01T21:12:33.946Z"
   },
   {
    "duration": 158,
    "start_time": "2022-09-01T21:19:13.489Z"
   },
   {
    "duration": 182,
    "start_time": "2022-09-01T21:19:23.903Z"
   },
   {
    "duration": 176,
    "start_time": "2022-09-01T21:20:09.025Z"
   },
   {
    "duration": 3,
    "start_time": "2022-09-01T21:20:11.209Z"
   },
   {
    "duration": 8,
    "start_time": "2022-09-01T21:20:13.491Z"
   },
   {
    "duration": 31,
    "start_time": "2022-09-01T21:20:15.654Z"
   },
   {
    "duration": 166,
    "start_time": "2022-09-01T21:20:33.501Z"
   },
   {
    "duration": 25,
    "start_time": "2022-09-01T21:22:33.351Z"
   },
   {
    "duration": 26,
    "start_time": "2022-09-01T21:22:43.831Z"
   },
   {
    "duration": 165,
    "start_time": "2022-09-01T21:22:47.133Z"
   },
   {
    "duration": 156,
    "start_time": "2022-09-01T21:24:41.083Z"
   },
   {
    "duration": 129,
    "start_time": "2022-09-01T21:26:27.376Z"
   },
   {
    "duration": 20,
    "start_time": "2022-09-01T21:26:43.319Z"
   },
   {
    "duration": 25,
    "start_time": "2022-09-01T21:27:14.713Z"
   },
   {
    "duration": 29,
    "start_time": "2022-09-01T21:27:17.540Z"
   },
   {
    "duration": 25,
    "start_time": "2022-09-01T21:27:30.095Z"
   },
   {
    "duration": 8,
    "start_time": "2022-09-01T21:27:33.771Z"
   },
   {
    "duration": 28,
    "start_time": "2022-09-01T21:27:35.744Z"
   },
   {
    "duration": 28,
    "start_time": "2022-09-01T21:28:15.677Z"
   },
   {
    "duration": 17,
    "start_time": "2022-09-01T21:33:44.045Z"
   },
   {
    "duration": 10,
    "start_time": "2022-09-01T21:36:37.973Z"
   },
   {
    "duration": 9,
    "start_time": "2022-09-01T21:36:42.134Z"
   },
   {
    "duration": 13,
    "start_time": "2022-09-01T21:40:05.759Z"
   },
   {
    "duration": 10,
    "start_time": "2022-09-01T21:40:19.912Z"
   },
   {
    "duration": 160,
    "start_time": "2022-09-01T21:40:26.868Z"
   },
   {
    "duration": 262,
    "start_time": "2022-09-01T21:41:01.597Z"
   },
   {
    "duration": 159,
    "start_time": "2022-09-01T21:41:51.053Z"
   },
   {
    "duration": 155,
    "start_time": "2022-09-01T21:42:42.634Z"
   },
   {
    "duration": 154,
    "start_time": "2022-09-01T21:43:03.379Z"
   },
   {
    "duration": 351,
    "start_time": "2022-09-01T21:44:17.470Z"
   },
   {
    "duration": 3,
    "start_time": "2022-09-01T21:46:52.819Z"
   },
   {
    "duration": 366,
    "start_time": "2022-09-01T21:46:52.823Z"
   },
   {
    "duration": 49,
    "start_time": "2022-09-01T21:46:53.190Z"
   },
   {
    "duration": 44,
    "start_time": "2022-09-01T21:46:53.242Z"
   },
   {
    "duration": 19,
    "start_time": "2022-09-01T21:46:53.287Z"
   },
   {
    "duration": 13,
    "start_time": "2022-09-01T21:46:53.308Z"
   },
   {
    "duration": 35,
    "start_time": "2022-09-01T21:46:53.322Z"
   },
   {
    "duration": 6,
    "start_time": "2022-09-01T21:46:53.359Z"
   },
   {
    "duration": 18,
    "start_time": "2022-09-01T21:46:53.368Z"
   },
   {
    "duration": 29,
    "start_time": "2022-09-01T21:46:53.387Z"
   },
   {
    "duration": 43,
    "start_time": "2022-09-01T21:46:53.417Z"
   },
   {
    "duration": 17,
    "start_time": "2022-09-01T21:46:53.462Z"
   },
   {
    "duration": 4,
    "start_time": "2022-09-01T21:46:53.481Z"
   },
   {
    "duration": 14,
    "start_time": "2022-09-01T21:46:53.487Z"
   },
   {
    "duration": 10,
    "start_time": "2022-09-01T21:46:53.503Z"
   },
   {
    "duration": 9,
    "start_time": "2022-09-01T21:46:53.514Z"
   },
   {
    "duration": 35,
    "start_time": "2022-09-01T21:46:53.524Z"
   },
   {
    "duration": 79,
    "start_time": "2022-09-01T21:46:53.561Z"
   },
   {
    "duration": 43,
    "start_time": "2022-09-01T21:46:53.642Z"
   },
   {
    "duration": 34,
    "start_time": "2022-09-01T21:46:53.687Z"
   },
   {
    "duration": 6,
    "start_time": "2022-09-01T21:46:53.723Z"
   },
   {
    "duration": 31,
    "start_time": "2022-09-01T21:46:53.731Z"
   },
   {
    "duration": 7,
    "start_time": "2022-09-01T21:46:53.764Z"
   },
   {
    "duration": 5,
    "start_time": "2022-09-01T21:46:53.773Z"
   },
   {
    "duration": 13,
    "start_time": "2022-09-01T21:46:53.779Z"
   },
   {
    "duration": 7,
    "start_time": "2022-09-01T21:46:53.793Z"
   },
   {
    "duration": 6,
    "start_time": "2022-09-01T21:46:53.801Z"
   },
   {
    "duration": 14,
    "start_time": "2022-09-01T21:46:53.808Z"
   },
   {
    "duration": 178,
    "start_time": "2022-09-01T21:46:53.823Z"
   },
   {
    "duration": 215,
    "start_time": "2022-09-01T21:46:54.003Z"
   },
   {
    "duration": 3,
    "start_time": "2022-09-01T21:46:54.219Z"
   },
   {
    "duration": 14,
    "start_time": "2022-09-01T21:46:54.224Z"
   },
   {
    "duration": 9,
    "start_time": "2022-09-01T21:46:56.750Z"
   },
   {
    "duration": 24,
    "start_time": "2022-09-01T21:46:59.011Z"
   },
   {
    "duration": 19,
    "start_time": "2022-09-01T21:49:50.922Z"
   },
   {
    "duration": 173,
    "start_time": "2022-09-01T21:50:00.597Z"
   },
   {
    "duration": 3,
    "start_time": "2022-09-01T21:50:29.765Z"
   },
   {
    "duration": 10,
    "start_time": "2022-09-01T21:50:33.847Z"
   },
   {
    "duration": 29,
    "start_time": "2022-09-01T21:52:01.641Z"
   },
   {
    "duration": 2,
    "start_time": "2022-09-01T21:52:42.820Z"
   },
   {
    "duration": 10,
    "start_time": "2022-09-01T21:52:45.110Z"
   },
   {
    "duration": 28,
    "start_time": "2022-09-01T21:52:49.053Z"
   },
   {
    "duration": 23,
    "start_time": "2022-09-01T21:53:16.811Z"
   },
   {
    "duration": 170,
    "start_time": "2022-09-01T21:53:18.913Z"
   },
   {
    "duration": 25,
    "start_time": "2022-09-01T21:54:09.187Z"
   },
   {
    "duration": 164,
    "start_time": "2022-09-01T21:54:11.137Z"
   },
   {
    "duration": 1247,
    "start_time": "2022-09-02T09:13:31.385Z"
   },
   {
    "duration": 968,
    "start_time": "2022-09-02T09:13:32.633Z"
   },
   {
    "duration": 54,
    "start_time": "2022-09-02T09:13:33.603Z"
   },
   {
    "duration": 51,
    "start_time": "2022-09-02T09:13:33.659Z"
   },
   {
    "duration": 33,
    "start_time": "2022-09-02T09:13:33.712Z"
   },
   {
    "duration": 17,
    "start_time": "2022-09-02T09:13:33.746Z"
   },
   {
    "duration": 15,
    "start_time": "2022-09-02T09:13:33.764Z"
   },
   {
    "duration": 9,
    "start_time": "2022-09-02T09:13:33.781Z"
   },
   {
    "duration": 51,
    "start_time": "2022-09-02T09:13:33.791Z"
   },
   {
    "duration": 33,
    "start_time": "2022-09-02T09:13:33.845Z"
   },
   {
    "duration": 23,
    "start_time": "2022-09-02T09:13:33.879Z"
   },
   {
    "duration": 36,
    "start_time": "2022-09-02T09:13:33.903Z"
   },
   {
    "duration": 6,
    "start_time": "2022-09-02T09:13:33.940Z"
   },
   {
    "duration": 18,
    "start_time": "2022-09-02T09:13:33.947Z"
   },
   {
    "duration": 10,
    "start_time": "2022-09-02T09:13:33.966Z"
   },
   {
    "duration": 9,
    "start_time": "2022-09-02T09:13:33.978Z"
   },
   {
    "duration": 5,
    "start_time": "2022-09-02T09:13:33.988Z"
   },
   {
    "duration": 114,
    "start_time": "2022-09-02T09:13:33.994Z"
   },
   {
    "duration": 48,
    "start_time": "2022-09-02T09:13:34.110Z"
   },
   {
    "duration": 36,
    "start_time": "2022-09-02T09:13:34.160Z"
   },
   {
    "duration": 6,
    "start_time": "2022-09-02T09:13:34.198Z"
   },
   {
    "duration": 11,
    "start_time": "2022-09-02T09:13:34.205Z"
   },
   {
    "duration": 22,
    "start_time": "2022-09-02T09:13:34.217Z"
   },
   {
    "duration": 3,
    "start_time": "2022-09-02T09:13:34.241Z"
   },
   {
    "duration": 6,
    "start_time": "2022-09-02T09:13:34.245Z"
   },
   {
    "duration": 8,
    "start_time": "2022-09-02T09:13:34.252Z"
   },
   {
    "duration": 11,
    "start_time": "2022-09-02T09:13:34.262Z"
   },
   {
    "duration": 197,
    "start_time": "2022-09-02T09:13:34.276Z"
   },
   {
    "duration": 222,
    "start_time": "2022-09-02T09:13:34.475Z"
   },
   {
    "duration": 175,
    "start_time": "2022-09-02T09:13:34.699Z"
   },
   {
    "duration": 192,
    "start_time": "2022-09-02T09:13:34.876Z"
   },
   {
    "duration": 3,
    "start_time": "2022-09-02T09:14:43.500Z"
   },
   {
    "duration": 17,
    "start_time": "2022-09-02T09:14:45.650Z"
   },
   {
    "duration": 118,
    "start_time": "2022-09-02T09:14:49.408Z"
   },
   {
    "duration": 27,
    "start_time": "2022-09-02T09:14:52.609Z"
   },
   {
    "duration": 10,
    "start_time": "2022-09-02T09:16:02.069Z"
   },
   {
    "duration": 41,
    "start_time": "2022-09-02T09:19:31.013Z"
   },
   {
    "duration": 3,
    "start_time": "2022-09-02T09:19:43.635Z"
   },
   {
    "duration": 392,
    "start_time": "2022-09-02T09:19:43.639Z"
   },
   {
    "duration": 50,
    "start_time": "2022-09-02T09:19:44.033Z"
   },
   {
    "duration": 69,
    "start_time": "2022-09-02T09:19:44.084Z"
   },
   {
    "duration": 20,
    "start_time": "2022-09-02T09:19:44.154Z"
   },
   {
    "duration": 13,
    "start_time": "2022-09-02T09:19:44.176Z"
   },
   {
    "duration": 20,
    "start_time": "2022-09-02T09:19:44.191Z"
   },
   {
    "duration": 29,
    "start_time": "2022-09-02T09:19:44.213Z"
   },
   {
    "duration": 20,
    "start_time": "2022-09-02T09:19:44.244Z"
   },
   {
    "duration": 31,
    "start_time": "2022-09-02T09:19:44.266Z"
   },
   {
    "duration": 47,
    "start_time": "2022-09-02T09:19:44.298Z"
   },
   {
    "duration": 20,
    "start_time": "2022-09-02T09:19:44.346Z"
   },
   {
    "duration": 7,
    "start_time": "2022-09-02T09:19:44.367Z"
   },
   {
    "duration": 18,
    "start_time": "2022-09-02T09:19:44.375Z"
   },
   {
    "duration": 11,
    "start_time": "2022-09-02T09:19:44.394Z"
   },
   {
    "duration": 13,
    "start_time": "2022-09-02T09:19:44.406Z"
   },
   {
    "duration": 7,
    "start_time": "2022-09-02T09:19:44.438Z"
   },
   {
    "duration": 76,
    "start_time": "2022-09-02T09:19:44.446Z"
   },
   {
    "duration": 44,
    "start_time": "2022-09-02T09:19:44.524Z"
   },
   {
    "duration": 33,
    "start_time": "2022-09-02T09:19:44.570Z"
   },
   {
    "duration": 6,
    "start_time": "2022-09-02T09:19:44.605Z"
   },
   {
    "duration": 29,
    "start_time": "2022-09-02T09:19:44.612Z"
   },
   {
    "duration": 12,
    "start_time": "2022-09-02T09:19:44.643Z"
   },
   {
    "duration": 6,
    "start_time": "2022-09-02T09:19:44.657Z"
   },
   {
    "duration": 7,
    "start_time": "2022-09-02T09:19:44.665Z"
   },
   {
    "duration": 6,
    "start_time": "2022-09-02T09:19:44.673Z"
   },
   {
    "duration": 5,
    "start_time": "2022-09-02T09:19:44.680Z"
   },
   {
    "duration": 4,
    "start_time": "2022-09-02T09:19:44.687Z"
   },
   {
    "duration": 178,
    "start_time": "2022-09-02T09:19:44.692Z"
   },
   {
    "duration": 221,
    "start_time": "2022-09-02T09:19:44.872Z"
   },
   {
    "duration": 10,
    "start_time": "2022-09-02T09:19:45.095Z"
   },
   {
    "duration": 33,
    "start_time": "2022-09-02T09:19:45.107Z"
   },
   {
    "duration": 19,
    "start_time": "2022-09-02T09:19:45.141Z"
   },
   {
    "duration": 179,
    "start_time": "2022-09-02T09:19:45.161Z"
   },
   {
    "duration": 202,
    "start_time": "2022-09-02T09:19:45.342Z"
   },
   {
    "duration": 9,
    "start_time": "2022-09-02T09:19:45.546Z"
   },
   {
    "duration": 22,
    "start_time": "2022-09-02T09:19:45.556Z"
   },
   {
    "duration": 15,
    "start_time": "2022-09-02T09:19:45.580Z"
   },
   {
    "duration": 256,
    "start_time": "2022-09-02T09:19:45.596Z"
   },
   {
    "duration": 157,
    "start_time": "2022-09-02T09:19:45.854Z"
   },
   {
    "duration": 402,
    "start_time": "2022-09-02T09:20:47.378Z"
   },
   {
    "duration": 332,
    "start_time": "2022-09-02T09:21:08.434Z"
   },
   {
    "duration": 332,
    "start_time": "2022-09-02T09:21:14.550Z"
   },
   {
    "duration": 143,
    "start_time": "2022-09-02T09:21:43.328Z"
   },
   {
    "duration": 3,
    "start_time": "2022-09-02T10:11:40.985Z"
   },
   {
    "duration": 401,
    "start_time": "2022-09-02T10:11:40.990Z"
   },
   {
    "duration": 48,
    "start_time": "2022-09-02T10:11:41.392Z"
   },
   {
    "duration": 46,
    "start_time": "2022-09-02T10:11:41.442Z"
   },
   {
    "duration": 21,
    "start_time": "2022-09-02T10:11:41.489Z"
   },
   {
    "duration": 35,
    "start_time": "2022-09-02T10:11:41.511Z"
   },
   {
    "duration": 18,
    "start_time": "2022-09-02T10:11:41.547Z"
   },
   {
    "duration": 17,
    "start_time": "2022-09-02T10:11:41.566Z"
   },
   {
    "duration": 21,
    "start_time": "2022-09-02T10:11:41.586Z"
   },
   {
    "duration": 44,
    "start_time": "2022-09-02T10:11:41.608Z"
   },
   {
    "duration": 22,
    "start_time": "2022-09-02T10:11:41.654Z"
   },
   {
    "duration": 30,
    "start_time": "2022-09-02T10:11:41.678Z"
   },
   {
    "duration": 9,
    "start_time": "2022-09-02T10:11:41.709Z"
   },
   {
    "duration": 34,
    "start_time": "2022-09-02T10:11:41.720Z"
   },
   {
    "duration": 12,
    "start_time": "2022-09-02T10:11:41.756Z"
   },
   {
    "duration": 16,
    "start_time": "2022-09-02T10:11:41.770Z"
   },
   {
    "duration": 9,
    "start_time": "2022-09-02T10:11:41.788Z"
   },
   {
    "duration": 88,
    "start_time": "2022-09-02T10:11:41.799Z"
   },
   {
    "duration": 36,
    "start_time": "2022-09-02T10:11:41.888Z"
   },
   {
    "duration": 45,
    "start_time": "2022-09-02T10:11:41.926Z"
   },
   {
    "duration": 7,
    "start_time": "2022-09-02T10:11:41.972Z"
   },
   {
    "duration": 12,
    "start_time": "2022-09-02T10:11:41.980Z"
   },
   {
    "duration": 18,
    "start_time": "2022-09-02T10:11:41.993Z"
   },
   {
    "duration": 17,
    "start_time": "2022-09-02T10:11:42.015Z"
   },
   {
    "duration": 10,
    "start_time": "2022-09-02T10:11:42.034Z"
   },
   {
    "duration": 16,
    "start_time": "2022-09-02T10:11:42.046Z"
   },
   {
    "duration": 24,
    "start_time": "2022-09-02T10:11:42.064Z"
   },
   {
    "duration": 10,
    "start_time": "2022-09-02T10:11:42.090Z"
   },
   {
    "duration": 156,
    "start_time": "2022-09-02T10:11:42.102Z"
   },
   {
    "duration": 301,
    "start_time": "2022-09-02T10:11:42.260Z"
   },
   {
    "duration": 10,
    "start_time": "2022-09-02T10:11:42.563Z"
   },
   {
    "duration": 25,
    "start_time": "2022-09-02T10:11:42.574Z"
   },
   {
    "duration": 17,
    "start_time": "2022-09-02T10:11:42.601Z"
   },
   {
    "duration": 177,
    "start_time": "2022-09-02T10:11:42.620Z"
   },
   {
    "duration": 189,
    "start_time": "2022-09-02T10:11:42.798Z"
   },
   {
    "duration": 8,
    "start_time": "2022-09-02T10:11:42.989Z"
   },
   {
    "duration": 21,
    "start_time": "2022-09-02T10:11:42.999Z"
   },
   {
    "duration": 30,
    "start_time": "2022-09-02T10:11:43.022Z"
   },
   {
    "duration": 153,
    "start_time": "2022-09-02T10:11:43.053Z"
   },
   {
    "duration": 157,
    "start_time": "2022-09-02T10:11:43.208Z"
   },
   {
    "duration": 47,
    "start_time": "2022-09-02T10:11:43.367Z"
   },
   {
    "duration": 8,
    "start_time": "2022-09-02T10:11:43.416Z"
   },
   {
    "duration": 7,
    "start_time": "2022-09-02T10:11:43.439Z"
   },
   {
    "duration": 10,
    "start_time": "2022-09-02T10:11:43.447Z"
   },
   {
    "duration": 6,
    "start_time": "2022-09-02T10:11:43.459Z"
   },
   {
    "duration": 8,
    "start_time": "2022-09-02T10:11:43.466Z"
   },
   {
    "duration": 90,
    "start_time": "2022-09-02T10:11:43.476Z"
   },
   {
    "duration": 8,
    "start_time": "2022-09-02T10:11:43.568Z"
   },
   {
    "duration": 86,
    "start_time": "2022-09-02T10:11:43.577Z"
   },
   {
    "duration": 9,
    "start_time": "2022-09-02T10:11:43.665Z"
   },
   {
    "duration": 42,
    "start_time": "2022-09-02T10:11:43.676Z"
   },
   {
    "duration": 52,
    "start_time": "2022-09-02T10:11:43.720Z"
   },
   {
    "duration": 17,
    "start_time": "2022-09-02T10:11:43.773Z"
   },
   {
    "duration": 6,
    "start_time": "2022-09-02T10:11:43.791Z"
   },
   {
    "duration": 5,
    "start_time": "2022-09-02T10:11:43.798Z"
   },
   {
    "duration": 9,
    "start_time": "2022-09-02T10:11:43.804Z"
   },
   {
    "duration": 23,
    "start_time": "2022-09-02T10:11:43.815Z"
   },
   {
    "duration": 3,
    "start_time": "2022-09-02T10:11:43.840Z"
   },
   {
    "duration": 8,
    "start_time": "2022-09-02T10:11:43.845Z"
   },
   {
    "duration": 4352,
    "start_time": "2022-09-02T10:11:43.854Z"
   },
   {
    "duration": 10,
    "start_time": "2022-09-02T10:11:48.209Z"
   },
   {
    "duration": 18,
    "start_time": "2022-09-02T10:11:48.221Z"
   },
   {
    "duration": 149,
    "start_time": "2022-09-02T10:11:48.240Z"
   },
   {
    "duration": 145,
    "start_time": "2022-09-02T10:11:48.390Z"
   },
   {
    "duration": 148,
    "start_time": "2022-09-02T10:14:10.696Z"
   },
   {
    "duration": 130,
    "start_time": "2022-09-02T10:14:18.267Z"
   },
   {
    "duration": 140,
    "start_time": "2022-09-02T10:14:24.371Z"
   },
   {
    "duration": 5,
    "start_time": "2022-09-02T10:15:08.431Z"
   },
   {
    "duration": 212,
    "start_time": "2022-09-02T10:15:24.691Z"
   },
   {
    "duration": 141,
    "start_time": "2022-09-02T10:15:27.414Z"
   },
   {
    "duration": 9,
    "start_time": "2022-09-02T10:18:19.238Z"
   },
   {
    "duration": 26,
    "start_time": "2022-09-02T10:20:01.841Z"
   },
   {
    "duration": 18,
    "start_time": "2022-09-02T10:20:43.868Z"
   },
   {
    "duration": 18,
    "start_time": "2022-09-02T10:20:50.161Z"
   },
   {
    "duration": 20,
    "start_time": "2022-09-02T10:20:56.267Z"
   },
   {
    "duration": 30,
    "start_time": "2022-09-02T10:21:44.722Z"
   },
   {
    "duration": 20,
    "start_time": "2022-09-02T10:23:25.897Z"
   },
   {
    "duration": 21,
    "start_time": "2022-09-02T10:23:32.761Z"
   },
   {
    "duration": 22,
    "start_time": "2022-09-02T10:23:42.952Z"
   },
   {
    "duration": 142,
    "start_time": "2022-09-02T10:26:18.687Z"
   },
   {
    "duration": 24,
    "start_time": "2022-09-02T10:27:21.754Z"
   },
   {
    "duration": 16,
    "start_time": "2022-09-02T10:29:30.157Z"
   },
   {
    "duration": 119,
    "start_time": "2022-09-02T10:29:37.600Z"
   },
   {
    "duration": 116,
    "start_time": "2022-09-02T10:33:16.986Z"
   },
   {
    "duration": 120,
    "start_time": "2022-09-02T10:34:22.250Z"
   },
   {
    "duration": 112,
    "start_time": "2022-09-02T10:34:29.193Z"
   },
   {
    "duration": 6,
    "start_time": "2022-09-02T10:34:49.774Z"
   },
   {
    "duration": 16,
    "start_time": "2022-09-02T10:34:59.792Z"
   },
   {
    "duration": 20,
    "start_time": "2022-09-02T10:35:24.635Z"
   },
   {
    "duration": 21,
    "start_time": "2022-09-02T10:36:00.171Z"
   },
   {
    "duration": 13,
    "start_time": "2022-09-02T10:37:03.152Z"
   },
   {
    "duration": 13,
    "start_time": "2022-09-02T10:37:15.674Z"
   },
   {
    "duration": 104,
    "start_time": "2022-09-02T10:37:48.036Z"
   },
   {
    "duration": 99,
    "start_time": "2022-09-02T10:38:17.776Z"
   },
   {
    "duration": 106,
    "start_time": "2022-09-02T10:38:37.590Z"
   },
   {
    "duration": 6,
    "start_time": "2022-09-02T10:38:53.847Z"
   },
   {
    "duration": 112,
    "start_time": "2022-09-02T10:38:59.432Z"
   },
   {
    "duration": 108,
    "start_time": "2022-09-02T10:39:22.887Z"
   },
   {
    "duration": 175,
    "start_time": "2022-09-02T10:39:39.435Z"
   },
   {
    "duration": 113,
    "start_time": "2022-09-02T10:40:42.738Z"
   },
   {
    "duration": 121,
    "start_time": "2022-09-02T10:40:52.520Z"
   },
   {
    "duration": 120,
    "start_time": "2022-09-02T10:42:30.498Z"
   },
   {
    "duration": 108,
    "start_time": "2022-09-02T10:42:37.805Z"
   },
   {
    "duration": 113,
    "start_time": "2022-09-02T10:42:48.018Z"
   },
   {
    "duration": 119,
    "start_time": "2022-09-02T10:43:05.086Z"
   },
   {
    "duration": 142,
    "start_time": "2022-09-02T10:43:22.009Z"
   },
   {
    "duration": 165,
    "start_time": "2022-09-02T10:43:48.863Z"
   },
   {
    "duration": 11,
    "start_time": "2022-09-02T10:44:14.409Z"
   },
   {
    "duration": 12,
    "start_time": "2022-09-02T10:44:16.130Z"
   },
   {
    "duration": 104,
    "start_time": "2022-09-02T10:44:17.956Z"
   },
   {
    "duration": 13,
    "start_time": "2022-09-02T10:44:30.897Z"
   },
   {
    "duration": 14,
    "start_time": "2022-09-02T10:44:32.666Z"
   },
   {
    "duration": 120,
    "start_time": "2022-09-02T10:44:34.542Z"
   },
   {
    "duration": 100,
    "start_time": "2022-09-02T10:45:23.433Z"
   },
   {
    "duration": 117,
    "start_time": "2022-09-02T10:46:05.508Z"
   },
   {
    "duration": 16,
    "start_time": "2022-09-02T10:49:02.570Z"
   },
   {
    "duration": 18,
    "start_time": "2022-09-02T10:49:38.060Z"
   },
   {
    "duration": 20,
    "start_time": "2022-09-02T10:49:55.767Z"
   },
   {
    "duration": 17,
    "start_time": "2022-09-02T10:50:14.561Z"
   },
   {
    "duration": 17,
    "start_time": "2022-09-02T10:50:40.902Z"
   },
   {
    "duration": 17,
    "start_time": "2022-09-02T11:53:26.148Z"
   },
   {
    "duration": 28,
    "start_time": "2022-09-02T12:03:48.090Z"
   },
   {
    "duration": 26,
    "start_time": "2022-09-02T12:04:37.855Z"
   },
   {
    "duration": 14,
    "start_time": "2022-09-02T12:08:44.584Z"
   },
   {
    "duration": 14,
    "start_time": "2022-09-02T12:09:25.879Z"
   },
   {
    "duration": 12,
    "start_time": "2022-09-02T12:09:27.635Z"
   },
   {
    "duration": 124,
    "start_time": "2022-09-02T12:09:29.431Z"
   },
   {
    "duration": 11,
    "start_time": "2022-09-02T12:10:29.586Z"
   },
   {
    "duration": 11,
    "start_time": "2022-09-02T12:10:31.301Z"
   },
   {
    "duration": 214,
    "start_time": "2022-09-02T12:10:33.572Z"
   },
   {
    "duration": 147,
    "start_time": "2022-09-02T12:11:34.269Z"
   },
   {
    "duration": 13,
    "start_time": "2022-09-02T12:13:10.330Z"
   },
   {
    "duration": 13,
    "start_time": "2022-09-02T12:13:11.949Z"
   },
   {
    "duration": 129,
    "start_time": "2022-09-02T12:13:13.622Z"
   },
   {
    "duration": 128,
    "start_time": "2022-09-02T12:16:05.900Z"
   },
   {
    "duration": 132,
    "start_time": "2022-09-02T12:16:19.871Z"
   },
   {
    "duration": 118,
    "start_time": "2022-09-02T12:16:27.954Z"
   },
   {
    "duration": 15,
    "start_time": "2022-09-02T12:17:36.662Z"
   },
   {
    "duration": 14,
    "start_time": "2022-09-02T12:17:38.320Z"
   },
   {
    "duration": 125,
    "start_time": "2022-09-02T12:17:40.113Z"
   },
   {
    "duration": 12,
    "start_time": "2022-09-02T12:18:02.060Z"
   },
   {
    "duration": 12,
    "start_time": "2022-09-02T12:18:03.821Z"
   },
   {
    "duration": 119,
    "start_time": "2022-09-02T12:18:05.497Z"
   },
   {
    "duration": 13,
    "start_time": "2022-09-02T12:20:29.905Z"
   },
   {
    "duration": 13,
    "start_time": "2022-09-02T12:20:33.085Z"
   },
   {
    "duration": 9,
    "start_time": "2022-09-02T12:20:38.568Z"
   },
   {
    "duration": 22,
    "start_time": "2022-09-02T12:21:03.703Z"
   },
   {
    "duration": 20,
    "start_time": "2022-09-02T12:22:48.934Z"
   },
   {
    "duration": 10,
    "start_time": "2022-09-02T12:22:50.859Z"
   },
   {
    "duration": 15,
    "start_time": "2022-09-02T12:23:15.071Z"
   },
   {
    "duration": 16,
    "start_time": "2022-09-02T12:23:44.250Z"
   },
   {
    "duration": 15,
    "start_time": "2022-09-02T12:23:57.561Z"
   },
   {
    "duration": 23,
    "start_time": "2022-09-02T12:24:05.668Z"
   },
   {
    "duration": 15,
    "start_time": "2022-09-02T12:24:44.439Z"
   },
   {
    "duration": 4,
    "start_time": "2022-09-02T12:25:13.499Z"
   },
   {
    "duration": 420,
    "start_time": "2022-09-02T12:25:13.505Z"
   },
   {
    "duration": 48,
    "start_time": "2022-09-02T12:25:13.927Z"
   },
   {
    "duration": 64,
    "start_time": "2022-09-02T12:25:13.976Z"
   },
   {
    "duration": 24,
    "start_time": "2022-09-02T12:25:14.042Z"
   },
   {
    "duration": 15,
    "start_time": "2022-09-02T12:25:14.068Z"
   },
   {
    "duration": 19,
    "start_time": "2022-09-02T12:25:14.085Z"
   },
   {
    "duration": 36,
    "start_time": "2022-09-02T12:25:14.106Z"
   },
   {
    "duration": 19,
    "start_time": "2022-09-02T12:25:14.145Z"
   },
   {
    "duration": 29,
    "start_time": "2022-09-02T12:25:14.168Z"
   },
   {
    "duration": 45,
    "start_time": "2022-09-02T12:25:14.199Z"
   },
   {
    "duration": 19,
    "start_time": "2022-09-02T12:25:14.245Z"
   },
   {
    "duration": 6,
    "start_time": "2022-09-02T12:25:14.266Z"
   },
   {
    "duration": 29,
    "start_time": "2022-09-02T12:25:14.274Z"
   },
   {
    "duration": 12,
    "start_time": "2022-09-02T12:25:14.305Z"
   },
   {
    "duration": 29,
    "start_time": "2022-09-02T12:25:14.318Z"
   },
   {
    "duration": 19,
    "start_time": "2022-09-02T12:25:14.349Z"
   },
   {
    "duration": 97,
    "start_time": "2022-09-02T12:25:14.370Z"
   },
   {
    "duration": 33,
    "start_time": "2022-09-02T12:25:14.468Z"
   },
   {
    "duration": 49,
    "start_time": "2022-09-02T12:25:14.502Z"
   },
   {
    "duration": 8,
    "start_time": "2022-09-02T12:25:14.553Z"
   },
   {
    "duration": 15,
    "start_time": "2022-09-02T12:25:14.563Z"
   },
   {
    "duration": 9,
    "start_time": "2022-09-02T12:25:14.580Z"
   },
   {
    "duration": 6,
    "start_time": "2022-09-02T12:25:14.591Z"
   },
   {
    "duration": 5,
    "start_time": "2022-09-02T12:25:14.599Z"
   },
   {
    "duration": 6,
    "start_time": "2022-09-02T12:25:14.606Z"
   },
   {
    "duration": 4,
    "start_time": "2022-09-02T12:25:14.638Z"
   },
   {
    "duration": 3,
    "start_time": "2022-09-02T12:25:14.646Z"
   },
   {
    "duration": 183,
    "start_time": "2022-09-02T12:25:14.650Z"
   },
   {
    "duration": 224,
    "start_time": "2022-09-02T12:25:14.834Z"
   },
   {
    "duration": 11,
    "start_time": "2022-09-02T12:25:15.059Z"
   },
   {
    "duration": 24,
    "start_time": "2022-09-02T12:25:15.071Z"
   },
   {
    "duration": 41,
    "start_time": "2022-09-02T12:25:15.097Z"
   },
   {
    "duration": 173,
    "start_time": "2022-09-02T12:25:15.140Z"
   },
   {
    "duration": 295,
    "start_time": "2022-09-02T12:25:15.315Z"
   },
   {
    "duration": 8,
    "start_time": "2022-09-02T12:25:15.612Z"
   },
   {
    "duration": 40,
    "start_time": "2022-09-02T12:25:15.622Z"
   },
   {
    "duration": 26,
    "start_time": "2022-09-02T12:25:15.665Z"
   },
   {
    "duration": 238,
    "start_time": "2022-09-02T12:25:15.694Z"
   },
   {
    "duration": 164,
    "start_time": "2022-09-02T12:25:15.934Z"
   },
   {
    "duration": 53,
    "start_time": "2022-09-02T12:25:16.100Z"
   },
   {
    "duration": 11,
    "start_time": "2022-09-02T12:25:16.155Z"
   },
   {
    "duration": 10,
    "start_time": "2022-09-02T12:25:16.168Z"
   },
   {
    "duration": 13,
    "start_time": "2022-09-02T12:25:16.179Z"
   },
   {
    "duration": 6,
    "start_time": "2022-09-02T12:25:16.193Z"
   },
   {
    "duration": 10,
    "start_time": "2022-09-02T12:25:16.201Z"
   },
   {
    "duration": 74,
    "start_time": "2022-09-02T12:25:16.212Z"
   },
   {
    "duration": 9,
    "start_time": "2022-09-02T12:25:16.287Z"
   },
   {
    "duration": 83,
    "start_time": "2022-09-02T12:25:16.297Z"
   },
   {
    "duration": 9,
    "start_time": "2022-09-02T12:25:16.382Z"
   },
   {
    "duration": 40,
    "start_time": "2022-09-02T12:25:16.392Z"
   },
   {
    "duration": 49,
    "start_time": "2022-09-02T12:25:16.433Z"
   },
   {
    "duration": 17,
    "start_time": "2022-09-02T12:25:16.483Z"
   },
   {
    "duration": 6,
    "start_time": "2022-09-02T12:25:16.501Z"
   },
   {
    "duration": 9,
    "start_time": "2022-09-02T12:25:16.508Z"
   },
   {
    "duration": 8,
    "start_time": "2022-09-02T12:25:16.518Z"
   },
   {
    "duration": 4,
    "start_time": "2022-09-02T12:25:16.527Z"
   },
   {
    "duration": 6,
    "start_time": "2022-09-02T12:25:16.532Z"
   },
   {
    "duration": 9,
    "start_time": "2022-09-02T12:25:16.540Z"
   },
   {
    "duration": 4654,
    "start_time": "2022-09-02T12:25:16.550Z"
   },
   {
    "duration": 12,
    "start_time": "2022-09-02T12:25:21.206Z"
   },
   {
    "duration": 18,
    "start_time": "2022-09-02T12:25:21.220Z"
   },
   {
    "duration": 17,
    "start_time": "2022-09-02T12:25:21.240Z"
   },
   {
    "duration": 10,
    "start_time": "2022-09-02T12:25:21.259Z"
   },
   {
    "duration": 38,
    "start_time": "2022-09-02T12:25:21.271Z"
   },
   {
    "duration": 11,
    "start_time": "2022-09-02T12:25:21.311Z"
   },
   {
    "duration": 25,
    "start_time": "2022-09-02T12:25:21.324Z"
   },
   {
    "duration": 49,
    "start_time": "2022-09-02T12:25:32.168Z"
   },
   {
    "duration": 26,
    "start_time": "2022-09-02T12:25:58.416Z"
   },
   {
    "duration": 209,
    "start_time": "2022-09-02T12:26:18.985Z"
   },
   {
    "duration": 22,
    "start_time": "2022-09-02T12:26:40.520Z"
   },
   {
    "duration": 146,
    "start_time": "2022-09-02T12:27:02.519Z"
   },
   {
    "duration": 25,
    "start_time": "2022-09-02T12:28:15.423Z"
   },
   {
    "duration": 152,
    "start_time": "2022-09-02T12:29:06.032Z"
   },
   {
    "duration": 156,
    "start_time": "2022-09-02T12:30:17.669Z"
   },
   {
    "duration": 158,
    "start_time": "2022-09-02T12:30:59.090Z"
   },
   {
    "duration": 158,
    "start_time": "2022-09-02T12:31:10.908Z"
   },
   {
    "duration": 148,
    "start_time": "2022-09-02T12:31:46.383Z"
   },
   {
    "duration": 158,
    "start_time": "2022-09-02T12:32:01.836Z"
   },
   {
    "duration": 240,
    "start_time": "2022-09-02T12:32:17.362Z"
   },
   {
    "duration": 154,
    "start_time": "2022-09-02T12:34:50.461Z"
   },
   {
    "duration": 142,
    "start_time": "2022-09-02T12:35:53.880Z"
   },
   {
    "duration": 151,
    "start_time": "2022-09-02T12:36:41.048Z"
   },
   {
    "duration": 215,
    "start_time": "2022-09-02T12:38:22.333Z"
   },
   {
    "duration": 141,
    "start_time": "2022-09-02T12:38:31.286Z"
   },
   {
    "duration": 154,
    "start_time": "2022-09-02T12:50:38.069Z"
   },
   {
    "duration": 158,
    "start_time": "2022-09-02T12:51:08.167Z"
   },
   {
    "duration": 166,
    "start_time": "2022-09-02T12:52:23.921Z"
   },
   {
    "duration": 175,
    "start_time": "2022-09-02T12:53:07.566Z"
   },
   {
    "duration": 152,
    "start_time": "2022-09-02T12:53:12.965Z"
   },
   {
    "duration": 310,
    "start_time": "2022-09-02T12:53:23.587Z"
   },
   {
    "duration": 187,
    "start_time": "2022-09-02T12:53:32.690Z"
   },
   {
    "duration": 162,
    "start_time": "2022-09-02T12:53:48.994Z"
   },
   {
    "duration": 173,
    "start_time": "2022-09-02T12:53:56.724Z"
   },
   {
    "duration": 218,
    "start_time": "2022-09-02T12:54:30.625Z"
   },
   {
    "duration": 293,
    "start_time": "2022-09-02T12:54:35.327Z"
   },
   {
    "duration": 279,
    "start_time": "2022-09-02T12:54:44.278Z"
   },
   {
    "duration": 3,
    "start_time": "2022-09-02T12:55:04.126Z"
   },
   {
    "duration": 412,
    "start_time": "2022-09-02T12:55:04.132Z"
   },
   {
    "duration": 49,
    "start_time": "2022-09-02T12:55:04.545Z"
   },
   {
    "duration": 62,
    "start_time": "2022-09-02T12:55:04.596Z"
   },
   {
    "duration": 21,
    "start_time": "2022-09-02T12:55:04.660Z"
   },
   {
    "duration": 13,
    "start_time": "2022-09-02T12:55:04.682Z"
   },
   {
    "duration": 18,
    "start_time": "2022-09-02T12:55:04.696Z"
   },
   {
    "duration": 25,
    "start_time": "2022-09-02T12:55:04.715Z"
   },
   {
    "duration": 23,
    "start_time": "2022-09-02T12:55:04.743Z"
   },
   {
    "duration": 30,
    "start_time": "2022-09-02T12:55:04.767Z"
   },
   {
    "duration": 45,
    "start_time": "2022-09-02T12:55:04.798Z"
   },
   {
    "duration": 19,
    "start_time": "2022-09-02T12:55:04.845Z"
   },
   {
    "duration": 5,
    "start_time": "2022-09-02T12:55:04.865Z"
   },
   {
    "duration": 16,
    "start_time": "2022-09-02T12:55:04.872Z"
   },
   {
    "duration": 11,
    "start_time": "2022-09-02T12:55:04.890Z"
   },
   {
    "duration": 37,
    "start_time": "2022-09-02T12:55:04.902Z"
   },
   {
    "duration": 5,
    "start_time": "2022-09-02T12:55:04.941Z"
   },
   {
    "duration": 90,
    "start_time": "2022-09-02T12:55:04.948Z"
   },
   {
    "duration": 36,
    "start_time": "2022-09-02T12:55:05.040Z"
   },
   {
    "duration": 37,
    "start_time": "2022-09-02T12:55:05.078Z"
   },
   {
    "duration": 22,
    "start_time": "2022-09-02T12:55:05.117Z"
   },
   {
    "duration": 9,
    "start_time": "2022-09-02T12:55:05.141Z"
   },
   {
    "duration": 11,
    "start_time": "2022-09-02T12:55:05.152Z"
   },
   {
    "duration": 5,
    "start_time": "2022-09-02T12:55:05.166Z"
   },
   {
    "duration": 7,
    "start_time": "2022-09-02T12:55:05.173Z"
   },
   {
    "duration": 6,
    "start_time": "2022-09-02T12:55:05.181Z"
   },
   {
    "duration": 5,
    "start_time": "2022-09-02T12:55:05.189Z"
   },
   {
    "duration": 5,
    "start_time": "2022-09-02T12:55:05.196Z"
   },
   {
    "duration": 183,
    "start_time": "2022-09-02T12:55:05.202Z"
   },
   {
    "duration": 331,
    "start_time": "2022-09-02T12:55:05.386Z"
   },
   {
    "duration": 10,
    "start_time": "2022-09-02T12:55:05.718Z"
   },
   {
    "duration": 30,
    "start_time": "2022-09-02T12:55:05.730Z"
   },
   {
    "duration": 20,
    "start_time": "2022-09-02T12:55:05.762Z"
   },
   {
    "duration": 186,
    "start_time": "2022-09-02T12:55:05.783Z"
   },
   {
    "duration": 216,
    "start_time": "2022-09-02T12:55:05.970Z"
   },
   {
    "duration": 10,
    "start_time": "2022-09-02T12:55:06.187Z"
   },
   {
    "duration": 39,
    "start_time": "2022-09-02T12:55:06.199Z"
   },
   {
    "duration": 16,
    "start_time": "2022-09-02T12:55:06.240Z"
   },
   {
    "duration": 159,
    "start_time": "2022-09-02T12:55:06.257Z"
   },
   {
    "duration": 162,
    "start_time": "2022-09-02T12:55:06.418Z"
   },
   {
    "duration": 45,
    "start_time": "2022-09-02T12:55:06.582Z"
   },
   {
    "duration": 11,
    "start_time": "2022-09-02T12:55:06.638Z"
   },
   {
    "duration": 9,
    "start_time": "2022-09-02T12:55:06.650Z"
   },
   {
    "duration": 9,
    "start_time": "2022-09-02T12:55:06.661Z"
   },
   {
    "duration": 5,
    "start_time": "2022-09-02T12:55:06.672Z"
   },
   {
    "duration": 9,
    "start_time": "2022-09-02T12:55:06.678Z"
   },
   {
    "duration": 91,
    "start_time": "2022-09-02T12:55:06.689Z"
   },
   {
    "duration": 9,
    "start_time": "2022-09-02T12:55:06.781Z"
   },
   {
    "duration": 96,
    "start_time": "2022-09-02T12:55:06.791Z"
   },
   {
    "duration": 9,
    "start_time": "2022-09-02T12:55:06.889Z"
   },
   {
    "duration": 52,
    "start_time": "2022-09-02T12:55:06.900Z"
   },
   {
    "duration": 39,
    "start_time": "2022-09-02T12:55:06.954Z"
   },
   {
    "duration": 17,
    "start_time": "2022-09-02T12:55:06.994Z"
   },
   {
    "duration": 6,
    "start_time": "2022-09-02T12:55:07.012Z"
   },
   {
    "duration": 4,
    "start_time": "2022-09-02T12:55:07.038Z"
   },
   {
    "duration": 10,
    "start_time": "2022-09-02T12:55:07.044Z"
   },
   {
    "duration": 5,
    "start_time": "2022-09-02T12:55:07.056Z"
   },
   {
    "duration": 7,
    "start_time": "2022-09-02T12:55:07.062Z"
   },
   {
    "duration": 6,
    "start_time": "2022-09-02T12:55:07.070Z"
   },
   {
    "duration": 4385,
    "start_time": "2022-09-02T12:55:07.077Z"
   },
   {
    "duration": 8,
    "start_time": "2022-09-02T12:55:11.464Z"
   },
   {
    "duration": 10,
    "start_time": "2022-09-02T12:55:11.474Z"
   },
   {
    "duration": 27,
    "start_time": "2022-09-02T12:55:11.485Z"
   },
   {
    "duration": 5,
    "start_time": "2022-09-02T12:55:11.514Z"
   },
   {
    "duration": 35,
    "start_time": "2022-09-02T12:55:11.521Z"
   },
   {
    "duration": 164,
    "start_time": "2022-09-02T12:55:11.558Z"
   },
   {
    "duration": 176,
    "start_time": "2022-09-02T12:55:11.724Z"
   },
   {
    "duration": 155,
    "start_time": "2022-09-02T12:55:11.902Z"
   },
   {
    "duration": 140,
    "start_time": "2022-09-02T12:55:12.061Z"
   },
   {
    "duration": 389,
    "start_time": "2022-09-02T12:55:12.203Z"
   },
   {
    "duration": 290,
    "start_time": "2022-09-02T12:55:12.594Z"
   },
   {
    "duration": 282,
    "start_time": "2022-09-02T12:57:09.605Z"
   },
   {
    "duration": 281,
    "start_time": "2022-09-02T12:57:22.054Z"
   },
   {
    "duration": 216,
    "start_time": "2022-09-02T12:57:29.209Z"
   },
   {
    "duration": 211,
    "start_time": "2022-09-02T12:57:33.301Z"
   },
   {
    "duration": 342,
    "start_time": "2022-09-02T12:58:46.335Z"
   },
   {
    "duration": 241,
    "start_time": "2022-09-02T12:59:15.417Z"
   },
   {
    "duration": 214,
    "start_time": "2022-09-02T13:00:17.013Z"
   },
   {
    "duration": 228,
    "start_time": "2022-09-02T13:02:34.411Z"
   },
   {
    "duration": 204,
    "start_time": "2022-09-02T13:02:36.791Z"
   },
   {
    "duration": 222,
    "start_time": "2022-09-02T13:03:05.318Z"
   },
   {
    "duration": 226,
    "start_time": "2022-09-02T13:03:14.374Z"
   },
   {
    "duration": 322,
    "start_time": "2022-09-02T13:03:50.928Z"
   },
   {
    "duration": 220,
    "start_time": "2022-09-02T13:04:26.261Z"
   },
   {
    "duration": 235,
    "start_time": "2022-09-02T13:04:33.549Z"
   },
   {
    "duration": 222,
    "start_time": "2022-09-02T13:04:36.080Z"
   },
   {
    "duration": 256,
    "start_time": "2022-09-02T13:05:18.912Z"
   },
   {
    "duration": 191,
    "start_time": "2022-09-02T13:05:22.130Z"
   },
   {
    "duration": 233,
    "start_time": "2022-09-02T13:05:25.989Z"
   },
   {
    "duration": 898,
    "start_time": "2022-09-02T13:06:44.413Z"
   },
   {
    "duration": 214,
    "start_time": "2022-09-02T13:07:00.766Z"
   },
   {
    "duration": 197,
    "start_time": "2022-09-02T13:07:38.368Z"
   },
   {
    "duration": 250,
    "start_time": "2022-09-02T13:11:24.268Z"
   },
   {
    "duration": 542,
    "start_time": "2022-09-02T13:11:39.363Z"
   },
   {
    "duration": 243,
    "start_time": "2022-09-02T13:11:55.741Z"
   },
   {
    "duration": 3,
    "start_time": "2022-09-02T13:23:12.140Z"
   },
   {
    "duration": 13,
    "start_time": "2022-09-02T13:25:34.001Z"
   },
   {
    "duration": 6,
    "start_time": "2022-09-02T13:25:42.107Z"
   },
   {
    "duration": 6,
    "start_time": "2022-09-02T13:29:21.777Z"
   },
   {
    "duration": 4,
    "start_time": "2022-09-02T13:29:39.810Z"
   },
   {
    "duration": 5,
    "start_time": "2022-09-02T13:29:44.935Z"
   },
   {
    "duration": 5,
    "start_time": "2022-09-02T13:29:49.786Z"
   },
   {
    "duration": 6,
    "start_time": "2022-09-02T13:29:52.584Z"
   },
   {
    "duration": 5,
    "start_time": "2022-09-02T13:30:02.168Z"
   },
   {
    "duration": 7,
    "start_time": "2022-09-02T13:30:52.945Z"
   },
   {
    "duration": 5,
    "start_time": "2022-09-02T13:31:15.176Z"
   },
   {
    "duration": 4,
    "start_time": "2022-09-02T13:33:07.161Z"
   },
   {
    "duration": 5,
    "start_time": "2022-09-02T13:37:52.235Z"
   },
   {
    "duration": 8,
    "start_time": "2022-09-02T13:40:17.592Z"
   },
   {
    "duration": 15,
    "start_time": "2022-09-02T13:40:20.215Z"
   },
   {
    "duration": 8,
    "start_time": "2022-09-02T13:40:48.009Z"
   },
   {
    "duration": 8,
    "start_time": "2022-09-02T13:40:52.890Z"
   },
   {
    "duration": 14,
    "start_time": "2022-09-02T13:41:17.844Z"
   },
   {
    "duration": 13,
    "start_time": "2022-09-02T13:42:47.795Z"
   },
   {
    "duration": 7,
    "start_time": "2022-09-02T13:43:01.012Z"
   },
   {
    "duration": 16,
    "start_time": "2022-09-02T13:43:06.553Z"
   },
   {
    "duration": 9,
    "start_time": "2022-09-02T13:43:19.267Z"
   },
   {
    "duration": 8,
    "start_time": "2022-09-02T13:43:25.463Z"
   },
   {
    "duration": 7,
    "start_time": "2022-09-02T13:43:31.489Z"
   },
   {
    "duration": 6,
    "start_time": "2022-09-02T13:49:26.231Z"
   },
   {
    "duration": 5,
    "start_time": "2022-09-02T13:49:39.508Z"
   },
   {
    "duration": 6,
    "start_time": "2022-09-02T13:49:43.399Z"
   },
   {
    "duration": 6,
    "start_time": "2022-09-02T13:49:50.458Z"
   },
   {
    "duration": 7,
    "start_time": "2022-09-02T13:49:58.999Z"
   },
   {
    "duration": 8,
    "start_time": "2022-09-02T13:51:00.623Z"
   },
   {
    "duration": 9,
    "start_time": "2022-09-02T13:51:27.857Z"
   },
   {
    "duration": 9,
    "start_time": "2022-09-02T13:51:35.396Z"
   },
   {
    "duration": 5,
    "start_time": "2022-09-02T13:52:48.525Z"
   },
   {
    "duration": 13,
    "start_time": "2022-09-02T13:53:41.287Z"
   },
   {
    "duration": 5,
    "start_time": "2022-09-02T13:54:44.758Z"
   },
   {
    "duration": 9,
    "start_time": "2022-09-02T13:54:53.311Z"
   },
   {
    "duration": 6,
    "start_time": "2022-09-02T14:18:05.395Z"
   },
   {
    "duration": 6,
    "start_time": "2022-09-02T14:18:21.525Z"
   },
   {
    "duration": 5,
    "start_time": "2022-09-02T14:21:33.864Z"
   },
   {
    "duration": 9,
    "start_time": "2022-09-02T14:21:42.756Z"
   },
   {
    "duration": 16,
    "start_time": "2022-09-02T15:05:16.465Z"
   },
   {
    "duration": 1428,
    "start_time": "2022-09-02T15:08:22.563Z"
   },
   {
    "duration": 161,
    "start_time": "2022-09-02T15:08:48.364Z"
   },
   {
    "duration": 151,
    "start_time": "2022-09-02T15:09:17.261Z"
   },
   {
    "duration": 50,
    "start_time": "2022-09-02T15:40:53.150Z"
   },
   {
    "duration": 5,
    "start_time": "2022-09-02T16:01:47.007Z"
   },
   {
    "duration": 10,
    "start_time": "2022-09-02T16:03:26.993Z"
   },
   {
    "duration": 2,
    "start_time": "2022-09-02T17:01:16.049Z"
   },
   {
    "duration": 424,
    "start_time": "2022-09-02T17:01:16.053Z"
   },
   {
    "duration": 50,
    "start_time": "2022-09-02T17:01:16.479Z"
   },
   {
    "duration": 48,
    "start_time": "2022-09-02T17:01:16.531Z"
   },
   {
    "duration": 21,
    "start_time": "2022-09-02T17:01:16.580Z"
   },
   {
    "duration": 20,
    "start_time": "2022-09-02T17:01:16.603Z"
   },
   {
    "duration": 32,
    "start_time": "2022-09-02T17:01:16.625Z"
   },
   {
    "duration": 7,
    "start_time": "2022-09-02T17:01:16.658Z"
   },
   {
    "duration": 36,
    "start_time": "2022-09-02T17:01:16.668Z"
   },
   {
    "duration": 33,
    "start_time": "2022-09-02T17:01:16.706Z"
   },
   {
    "duration": 21,
    "start_time": "2022-09-02T17:01:16.741Z"
   },
   {
    "duration": 22,
    "start_time": "2022-09-02T17:01:16.764Z"
   },
   {
    "duration": 14,
    "start_time": "2022-09-02T17:01:16.787Z"
   },
   {
    "duration": 34,
    "start_time": "2022-09-02T17:01:16.802Z"
   },
   {
    "duration": 11,
    "start_time": "2022-09-02T17:01:16.837Z"
   },
   {
    "duration": 23,
    "start_time": "2022-09-02T17:01:16.849Z"
   },
   {
    "duration": 13,
    "start_time": "2022-09-02T17:01:16.873Z"
   },
   {
    "duration": 104,
    "start_time": "2022-09-02T17:01:16.887Z"
   },
   {
    "duration": 36,
    "start_time": "2022-09-02T17:01:16.993Z"
   },
   {
    "duration": 43,
    "start_time": "2022-09-02T17:01:17.031Z"
   },
   {
    "duration": 8,
    "start_time": "2022-09-02T17:01:17.075Z"
   },
   {
    "duration": 20,
    "start_time": "2022-09-02T17:01:17.084Z"
   },
   {
    "duration": 22,
    "start_time": "2022-09-02T17:01:17.105Z"
   },
   {
    "duration": 13,
    "start_time": "2022-09-02T17:01:17.130Z"
   },
   {
    "duration": 19,
    "start_time": "2022-09-02T17:01:17.145Z"
   },
   {
    "duration": 19,
    "start_time": "2022-09-02T17:01:17.166Z"
   },
   {
    "duration": 9,
    "start_time": "2022-09-02T17:01:17.187Z"
   },
   {
    "duration": 19,
    "start_time": "2022-09-02T17:01:17.197Z"
   },
   {
    "duration": 172,
    "start_time": "2022-09-02T17:01:17.217Z"
   },
   {
    "duration": 220,
    "start_time": "2022-09-02T17:01:17.391Z"
   },
   {
    "duration": 10,
    "start_time": "2022-09-02T17:01:17.613Z"
   },
   {
    "duration": 39,
    "start_time": "2022-09-02T17:01:17.625Z"
   },
   {
    "duration": 22,
    "start_time": "2022-09-02T17:01:17.666Z"
   },
   {
    "duration": 206,
    "start_time": "2022-09-02T17:01:17.690Z"
   },
   {
    "duration": 214,
    "start_time": "2022-09-02T17:01:17.897Z"
   },
   {
    "duration": 9,
    "start_time": "2022-09-02T17:01:18.112Z"
   },
   {
    "duration": 35,
    "start_time": "2022-09-02T17:01:18.122Z"
   },
   {
    "duration": 17,
    "start_time": "2022-09-02T17:01:18.159Z"
   },
   {
    "duration": 170,
    "start_time": "2022-09-02T17:01:18.178Z"
   },
   {
    "duration": 269,
    "start_time": "2022-09-02T17:01:18.350Z"
   },
   {
    "duration": 52,
    "start_time": "2022-09-02T17:01:18.621Z"
   },
   {
    "duration": 8,
    "start_time": "2022-09-02T17:01:18.674Z"
   },
   {
    "duration": 11,
    "start_time": "2022-09-02T17:01:18.683Z"
   },
   {
    "duration": 11,
    "start_time": "2022-09-02T17:01:18.695Z"
   },
   {
    "duration": 10,
    "start_time": "2022-09-02T17:01:18.707Z"
   },
   {
    "duration": 20,
    "start_time": "2022-09-02T17:01:18.719Z"
   },
   {
    "duration": 62,
    "start_time": "2022-09-02T17:01:18.741Z"
   },
   {
    "duration": 9,
    "start_time": "2022-09-02T17:01:18.805Z"
   },
   {
    "duration": 116,
    "start_time": "2022-09-02T17:01:18.815Z"
   },
   {
    "duration": 13,
    "start_time": "2022-09-02T17:01:18.933Z"
   },
   {
    "duration": 53,
    "start_time": "2022-09-02T17:01:18.948Z"
   },
   {
    "duration": 55,
    "start_time": "2022-09-02T17:01:19.003Z"
   },
   {
    "duration": 17,
    "start_time": "2022-09-02T17:01:19.059Z"
   },
   {
    "duration": 6,
    "start_time": "2022-09-02T17:01:19.077Z"
   },
   {
    "duration": 7,
    "start_time": "2022-09-02T17:01:19.085Z"
   },
   {
    "duration": 9,
    "start_time": "2022-09-02T17:01:19.093Z"
   },
   {
    "duration": 5,
    "start_time": "2022-09-02T17:01:19.104Z"
   },
   {
    "duration": 8,
    "start_time": "2022-09-02T17:01:19.110Z"
   },
   {
    "duration": 23,
    "start_time": "2022-09-02T17:01:19.119Z"
   },
   {
    "duration": 4452,
    "start_time": "2022-09-02T17:01:19.144Z"
   },
   {
    "duration": 10,
    "start_time": "2022-09-02T17:01:23.597Z"
   },
   {
    "duration": 11,
    "start_time": "2022-09-02T17:01:23.609Z"
   },
   {
    "duration": 31,
    "start_time": "2022-09-02T17:01:23.622Z"
   },
   {
    "duration": 5,
    "start_time": "2022-09-02T17:01:23.655Z"
   },
   {
    "duration": 33,
    "start_time": "2022-09-02T17:01:23.661Z"
   },
   {
    "duration": 166,
    "start_time": "2022-09-02T17:01:23.696Z"
   },
   {
    "duration": 149,
    "start_time": "2022-09-02T17:01:23.864Z"
   },
   {
    "duration": 152,
    "start_time": "2022-09-02T17:01:24.014Z"
   },
   {
    "duration": 233,
    "start_time": "2022-09-02T17:01:24.171Z"
   },
   {
    "duration": 209,
    "start_time": "2022-09-02T17:01:24.406Z"
   },
   {
    "duration": 211,
    "start_time": "2022-09-02T17:01:24.617Z"
   },
   {
    "duration": 200,
    "start_time": "2022-09-02T17:01:24.830Z"
   },
   {
    "duration": 228,
    "start_time": "2022-09-02T17:01:25.032Z"
   },
   {
    "duration": 319,
    "start_time": "2022-09-02T17:01:25.262Z"
   },
   {
    "duration": 5,
    "start_time": "2022-09-02T17:01:25.583Z"
   },
   {
    "duration": 11,
    "start_time": "2022-09-02T17:01:25.589Z"
   },
   {
    "duration": 10,
    "start_time": "2022-09-02T17:01:25.601Z"
   },
   {
    "duration": 1070,
    "start_time": "2022-09-02T17:02:13.362Z"
   },
   {
    "duration": 389,
    "start_time": "2022-09-02T17:02:14.434Z"
   },
   {
    "duration": 56,
    "start_time": "2022-09-02T17:02:14.825Z"
   },
   {
    "duration": 57,
    "start_time": "2022-09-02T17:02:14.884Z"
   },
   {
    "duration": 22,
    "start_time": "2022-09-02T17:02:14.943Z"
   },
   {
    "duration": 13,
    "start_time": "2022-09-02T17:02:14.966Z"
   },
   {
    "duration": 21,
    "start_time": "2022-09-02T17:02:14.981Z"
   },
   {
    "duration": 8,
    "start_time": "2022-09-02T17:02:15.004Z"
   },
   {
    "duration": 44,
    "start_time": "2022-09-02T17:02:15.013Z"
   },
   {
    "duration": 33,
    "start_time": "2022-09-02T17:02:15.059Z"
   },
   {
    "duration": 23,
    "start_time": "2022-09-02T17:02:15.094Z"
   },
   {
    "duration": 32,
    "start_time": "2022-09-02T17:02:15.119Z"
   },
   {
    "duration": 5,
    "start_time": "2022-09-02T17:02:15.152Z"
   },
   {
    "duration": 15,
    "start_time": "2022-09-02T17:02:15.159Z"
   },
   {
    "duration": 12,
    "start_time": "2022-09-02T17:02:15.175Z"
   },
   {
    "duration": 10,
    "start_time": "2022-09-02T17:02:15.189Z"
   },
   {
    "duration": 39,
    "start_time": "2022-09-02T17:02:15.200Z"
   },
   {
    "duration": 85,
    "start_time": "2022-09-02T17:02:15.241Z"
   },
   {
    "duration": 44,
    "start_time": "2022-09-02T17:02:15.327Z"
   },
   {
    "duration": 39,
    "start_time": "2022-09-02T17:02:15.372Z"
   },
   {
    "duration": 29,
    "start_time": "2022-09-02T17:02:15.413Z"
   },
   {
    "duration": 9,
    "start_time": "2022-09-02T17:02:15.443Z"
   },
   {
    "duration": 9,
    "start_time": "2022-09-02T17:02:15.454Z"
   },
   {
    "duration": 5,
    "start_time": "2022-09-02T17:02:15.465Z"
   },
   {
    "duration": 5,
    "start_time": "2022-09-02T17:02:15.472Z"
   },
   {
    "duration": 6,
    "start_time": "2022-09-02T17:02:15.478Z"
   },
   {
    "duration": 6,
    "start_time": "2022-09-02T17:02:15.485Z"
   },
   {
    "duration": 2,
    "start_time": "2022-09-02T17:02:15.495Z"
   },
   {
    "duration": 192,
    "start_time": "2022-09-02T17:02:15.499Z"
   },
   {
    "duration": 220,
    "start_time": "2022-09-02T17:02:15.693Z"
   },
   {
    "duration": 10,
    "start_time": "2022-09-02T17:02:15.915Z"
   },
   {
    "duration": 120,
    "start_time": "2022-09-02T17:02:15.927Z"
   },
   {
    "duration": 23,
    "start_time": "2022-09-02T17:02:16.049Z"
   },
   {
    "duration": 193,
    "start_time": "2022-09-02T17:02:16.074Z"
   },
   {
    "duration": 191,
    "start_time": "2022-09-02T17:02:16.269Z"
   },
   {
    "duration": 9,
    "start_time": "2022-09-02T17:02:16.462Z"
   },
   {
    "duration": 21,
    "start_time": "2022-09-02T17:02:16.472Z"
   },
   {
    "duration": 16,
    "start_time": "2022-09-02T17:02:16.495Z"
   },
   {
    "duration": 172,
    "start_time": "2022-09-02T17:02:16.512Z"
   },
   {
    "duration": 158,
    "start_time": "2022-09-02T17:02:16.686Z"
   },
   {
    "duration": 46,
    "start_time": "2022-09-02T17:02:16.846Z"
   },
   {
    "duration": 8,
    "start_time": "2022-09-02T17:02:16.894Z"
   },
   {
    "duration": 13,
    "start_time": "2022-09-02T17:02:16.903Z"
   },
   {
    "duration": 25,
    "start_time": "2022-09-02T17:02:16.918Z"
   },
   {
    "duration": 9,
    "start_time": "2022-09-02T17:02:16.945Z"
   },
   {
    "duration": 8,
    "start_time": "2022-09-02T17:02:16.955Z"
   },
   {
    "duration": 80,
    "start_time": "2022-09-02T17:02:16.965Z"
   },
   {
    "duration": 8,
    "start_time": "2022-09-02T17:02:17.047Z"
   },
   {
    "duration": 89,
    "start_time": "2022-09-02T17:02:17.057Z"
   },
   {
    "duration": 9,
    "start_time": "2022-09-02T17:02:17.148Z"
   },
   {
    "duration": 37,
    "start_time": "2022-09-02T17:02:17.158Z"
   },
   {
    "duration": 54,
    "start_time": "2022-09-02T17:02:17.197Z"
   },
   {
    "duration": 16,
    "start_time": "2022-09-02T17:02:17.253Z"
   },
   {
    "duration": 6,
    "start_time": "2022-09-02T17:02:17.270Z"
   },
   {
    "duration": 8,
    "start_time": "2022-09-02T17:02:17.277Z"
   },
   {
    "duration": 12,
    "start_time": "2022-09-02T17:02:17.287Z"
   },
   {
    "duration": 5,
    "start_time": "2022-09-02T17:02:17.301Z"
   },
   {
    "duration": 12,
    "start_time": "2022-09-02T17:02:17.307Z"
   },
   {
    "duration": 7,
    "start_time": "2022-09-02T17:02:17.321Z"
   },
   {
    "duration": 4144,
    "start_time": "2022-09-02T17:02:17.330Z"
   },
   {
    "duration": 9,
    "start_time": "2022-09-02T17:02:21.475Z"
   },
   {
    "duration": 10,
    "start_time": "2022-09-02T17:02:21.485Z"
   },
   {
    "duration": 24,
    "start_time": "2022-09-02T17:02:21.496Z"
   },
   {
    "duration": 4,
    "start_time": "2022-09-02T17:02:21.522Z"
   },
   {
    "duration": 28,
    "start_time": "2022-09-02T17:02:21.538Z"
   },
   {
    "duration": 160,
    "start_time": "2022-09-02T17:02:21.567Z"
   },
   {
    "duration": 219,
    "start_time": "2022-09-02T17:02:21.728Z"
   },
   {
    "duration": 148,
    "start_time": "2022-09-02T17:02:21.949Z"
   },
   {
    "duration": 231,
    "start_time": "2022-09-02T17:02:22.099Z"
   },
   {
    "duration": 218,
    "start_time": "2022-09-02T17:02:22.332Z"
   },
   {
    "duration": 211,
    "start_time": "2022-09-02T17:02:22.551Z"
   },
   {
    "duration": 200,
    "start_time": "2022-09-02T17:02:22.764Z"
   },
   {
    "duration": 221,
    "start_time": "2022-09-02T17:02:22.966Z"
   },
   {
    "duration": 294,
    "start_time": "2022-09-02T17:02:23.188Z"
   },
   {
    "duration": 5,
    "start_time": "2022-09-02T17:02:23.483Z"
   },
   {
    "duration": 10,
    "start_time": "2022-09-02T17:02:23.490Z"
   },
   {
    "duration": 14,
    "start_time": "2022-09-02T17:02:23.502Z"
   },
   {
    "duration": 3,
    "start_time": "2022-09-02T17:02:58.894Z"
   },
   {
    "duration": 1012,
    "start_time": "2022-09-02T17:03:15.015Z"
   },
   {
    "duration": 443,
    "start_time": "2022-09-02T17:03:16.029Z"
   },
   {
    "duration": 55,
    "start_time": "2022-09-02T17:03:16.473Z"
   },
   {
    "duration": 45,
    "start_time": "2022-09-02T17:03:16.530Z"
   },
   {
    "duration": 20,
    "start_time": "2022-09-02T17:03:16.576Z"
   },
   {
    "duration": 13,
    "start_time": "2022-09-02T17:03:16.597Z"
   },
   {
    "duration": 37,
    "start_time": "2022-09-02T17:03:16.612Z"
   },
   {
    "duration": 15,
    "start_time": "2022-09-02T17:03:16.650Z"
   },
   {
    "duration": 31,
    "start_time": "2022-09-02T17:03:16.666Z"
   },
   {
    "duration": 44,
    "start_time": "2022-09-02T17:03:16.700Z"
   },
   {
    "duration": 22,
    "start_time": "2022-09-02T17:03:16.746Z"
   },
   {
    "duration": 18,
    "start_time": "2022-09-02T17:03:16.769Z"
   },
   {
    "duration": 8,
    "start_time": "2022-09-02T17:03:16.788Z"
   },
   {
    "duration": 29,
    "start_time": "2022-09-02T17:03:16.798Z"
   },
   {
    "duration": 14,
    "start_time": "2022-09-02T17:03:16.829Z"
   },
   {
    "duration": 24,
    "start_time": "2022-09-02T17:03:16.844Z"
   },
   {
    "duration": 17,
    "start_time": "2022-09-02T17:03:16.869Z"
   },
   {
    "duration": 116,
    "start_time": "2022-09-02T17:03:16.888Z"
   },
   {
    "duration": 47,
    "start_time": "2022-09-02T17:03:17.006Z"
   },
   {
    "duration": 43,
    "start_time": "2022-09-02T17:03:17.055Z"
   },
   {
    "duration": 7,
    "start_time": "2022-09-02T17:03:17.100Z"
   },
   {
    "duration": 33,
    "start_time": "2022-09-02T17:03:17.109Z"
   },
   {
    "duration": 16,
    "start_time": "2022-09-02T17:03:17.144Z"
   },
   {
    "duration": 29,
    "start_time": "2022-09-02T17:03:17.162Z"
   },
   {
    "duration": 23,
    "start_time": "2022-09-02T17:03:17.192Z"
   },
   {
    "duration": 13,
    "start_time": "2022-09-02T17:03:17.216Z"
   },
   {
    "duration": 24,
    "start_time": "2022-09-02T17:03:17.230Z"
   },
   {
    "duration": 23,
    "start_time": "2022-09-02T17:03:17.257Z"
   },
   {
    "duration": 190,
    "start_time": "2022-09-02T17:03:17.282Z"
   },
   {
    "duration": 225,
    "start_time": "2022-09-02T17:03:17.474Z"
   },
   {
    "duration": 11,
    "start_time": "2022-09-02T17:03:17.701Z"
   },
   {
    "duration": 129,
    "start_time": "2022-09-02T17:03:17.714Z"
   },
   {
    "duration": 23,
    "start_time": "2022-09-02T17:03:17.844Z"
   },
   {
    "duration": 175,
    "start_time": "2022-09-02T17:03:17.869Z"
   },
   {
    "duration": 185,
    "start_time": "2022-09-02T17:03:18.046Z"
   },
   {
    "duration": 8,
    "start_time": "2022-09-02T17:03:18.238Z"
   },
   {
    "duration": 28,
    "start_time": "2022-09-02T17:03:18.247Z"
   },
   {
    "duration": 18,
    "start_time": "2022-09-02T17:03:18.276Z"
   },
   {
    "duration": 153,
    "start_time": "2022-09-02T17:03:18.295Z"
   },
   {
    "duration": 152,
    "start_time": "2022-09-02T17:03:18.449Z"
   },
   {
    "duration": 56,
    "start_time": "2022-09-02T17:03:18.603Z"
   },
   {
    "duration": 9,
    "start_time": "2022-09-02T17:03:18.660Z"
   },
   {
    "duration": 25,
    "start_time": "2022-09-02T17:03:18.671Z"
   },
   {
    "duration": 22,
    "start_time": "2022-09-02T17:03:18.697Z"
   },
   {
    "duration": 22,
    "start_time": "2022-09-02T17:03:18.720Z"
   },
   {
    "duration": 38,
    "start_time": "2022-09-02T17:03:18.743Z"
   },
   {
    "duration": 81,
    "start_time": "2022-09-02T17:03:18.783Z"
   },
   {
    "duration": 12,
    "start_time": "2022-09-02T17:03:18.866Z"
   },
   {
    "duration": 110,
    "start_time": "2022-09-02T17:03:18.880Z"
   },
   {
    "duration": 10,
    "start_time": "2022-09-02T17:03:18.992Z"
   },
   {
    "duration": 47,
    "start_time": "2022-09-02T17:03:19.004Z"
   },
   {
    "duration": 36,
    "start_time": "2022-09-02T17:03:19.053Z"
   },
   {
    "duration": 15,
    "start_time": "2022-09-02T17:03:19.091Z"
   },
   {
    "duration": 4,
    "start_time": "2022-09-02T17:03:19.108Z"
   },
   {
    "duration": 24,
    "start_time": "2022-09-02T17:03:19.114Z"
   },
   {
    "duration": 5,
    "start_time": "2022-09-02T17:03:19.140Z"
   },
   {
    "duration": 4,
    "start_time": "2022-09-02T17:03:19.146Z"
   },
   {
    "duration": 7,
    "start_time": "2022-09-02T17:03:19.151Z"
   },
   {
    "duration": 11,
    "start_time": "2022-09-02T17:03:19.159Z"
   },
   {
    "duration": 4168,
    "start_time": "2022-09-02T17:03:19.171Z"
   },
   {
    "duration": 8,
    "start_time": "2022-09-02T17:03:23.341Z"
   },
   {
    "duration": 32,
    "start_time": "2022-09-02T17:03:23.351Z"
   },
   {
    "duration": 45,
    "start_time": "2022-09-02T17:03:23.384Z"
   },
   {
    "duration": 8,
    "start_time": "2022-09-02T17:03:23.431Z"
   },
   {
    "duration": 45,
    "start_time": "2022-09-02T17:03:23.441Z"
   },
   {
    "duration": 150,
    "start_time": "2022-09-02T17:03:23.488Z"
   },
   {
    "duration": 150,
    "start_time": "2022-09-02T17:03:23.640Z"
   },
   {
    "duration": 149,
    "start_time": "2022-09-02T17:03:23.792Z"
   },
   {
    "duration": 287,
    "start_time": "2022-09-02T17:03:23.942Z"
   },
   {
    "duration": 230,
    "start_time": "2022-09-02T17:03:24.231Z"
   },
   {
    "duration": 213,
    "start_time": "2022-09-02T17:03:24.462Z"
   },
   {
    "duration": 202,
    "start_time": "2022-09-02T17:03:24.677Z"
   },
   {
    "duration": 230,
    "start_time": "2022-09-02T17:03:24.881Z"
   },
   {
    "duration": 210,
    "start_time": "2022-09-02T17:03:25.112Z"
   },
   {
    "duration": 6,
    "start_time": "2022-09-02T17:03:25.323Z"
   },
   {
    "duration": 26,
    "start_time": "2022-09-02T17:03:25.338Z"
   },
   {
    "duration": 36,
    "start_time": "2022-09-02T17:03:25.366Z"
   },
   {
    "duration": 1416,
    "start_time": "2022-09-02T17:45:01.197Z"
   },
   {
    "duration": 450,
    "start_time": "2022-09-02T17:45:02.615Z"
   },
   {
    "duration": 62,
    "start_time": "2022-09-02T17:45:03.067Z"
   },
   {
    "duration": 75,
    "start_time": "2022-09-02T17:45:03.130Z"
   },
   {
    "duration": 21,
    "start_time": "2022-09-02T17:45:03.207Z"
   },
   {
    "duration": 15,
    "start_time": "2022-09-02T17:45:03.230Z"
   },
   {
    "duration": 35,
    "start_time": "2022-09-02T17:45:03.247Z"
   },
   {
    "duration": 8,
    "start_time": "2022-09-02T17:45:03.285Z"
   },
   {
    "duration": 22,
    "start_time": "2022-09-02T17:45:03.295Z"
   },
   {
    "duration": 52,
    "start_time": "2022-09-02T17:45:03.319Z"
   },
   {
    "duration": 33,
    "start_time": "2022-09-02T17:45:03.372Z"
   },
   {
    "duration": 19,
    "start_time": "2022-09-02T17:45:03.407Z"
   },
   {
    "duration": 5,
    "start_time": "2022-09-02T17:45:03.428Z"
   },
   {
    "duration": 16,
    "start_time": "2022-09-02T17:45:03.435Z"
   },
   {
    "duration": 33,
    "start_time": "2022-09-02T17:45:03.453Z"
   },
   {
    "duration": 10,
    "start_time": "2022-09-02T17:45:03.488Z"
   },
   {
    "duration": 7,
    "start_time": "2022-09-02T17:45:03.500Z"
   },
   {
    "duration": 114,
    "start_time": "2022-09-02T17:45:03.509Z"
   },
   {
    "duration": 54,
    "start_time": "2022-09-02T17:45:03.625Z"
   },
   {
    "duration": 48,
    "start_time": "2022-09-02T17:45:03.681Z"
   },
   {
    "duration": 6,
    "start_time": "2022-09-02T17:45:03.731Z"
   },
   {
    "duration": 33,
    "start_time": "2022-09-02T17:45:03.738Z"
   },
   {
    "duration": 4,
    "start_time": "2022-09-02T17:45:03.778Z"
   },
   {
    "duration": 7,
    "start_time": "2022-09-02T17:45:03.784Z"
   },
   {
    "duration": 6,
    "start_time": "2022-09-02T17:45:03.793Z"
   },
   {
    "duration": 8,
    "start_time": "2022-09-02T17:45:03.801Z"
   },
   {
    "duration": 7,
    "start_time": "2022-09-02T17:45:03.811Z"
   },
   {
    "duration": 9,
    "start_time": "2022-09-02T17:45:03.821Z"
   },
   {
    "duration": 198,
    "start_time": "2022-09-02T17:45:03.832Z"
   },
   {
    "duration": 266,
    "start_time": "2022-09-02T17:45:04.032Z"
   },
   {
    "duration": 10,
    "start_time": "2022-09-02T17:45:04.299Z"
   },
   {
    "duration": 121,
    "start_time": "2022-09-02T17:45:04.311Z"
   },
   {
    "duration": 38,
    "start_time": "2022-09-02T17:45:04.433Z"
   },
   {
    "duration": 175,
    "start_time": "2022-09-02T17:45:04.473Z"
   },
   {
    "duration": 202,
    "start_time": "2022-09-02T17:45:04.650Z"
   },
   {
    "duration": 22,
    "start_time": "2022-09-02T17:45:04.853Z"
   },
   {
    "duration": 23,
    "start_time": "2022-09-02T17:45:04.881Z"
   },
   {
    "duration": 17,
    "start_time": "2022-09-02T17:45:04.906Z"
   },
   {
    "duration": 174,
    "start_time": "2022-09-02T17:45:04.925Z"
   },
   {
    "duration": 187,
    "start_time": "2022-09-02T17:45:05.100Z"
   },
   {
    "duration": 47,
    "start_time": "2022-09-02T17:45:05.288Z"
   },
   {
    "duration": 9,
    "start_time": "2022-09-02T17:45:05.337Z"
   },
   {
    "duration": 30,
    "start_time": "2022-09-02T17:45:05.348Z"
   },
   {
    "duration": 10,
    "start_time": "2022-09-02T17:45:05.380Z"
   },
   {
    "duration": 9,
    "start_time": "2022-09-02T17:45:05.392Z"
   },
   {
    "duration": 13,
    "start_time": "2022-09-02T17:45:05.402Z"
   },
   {
    "duration": 100,
    "start_time": "2022-09-02T17:45:05.416Z"
   },
   {
    "duration": 11,
    "start_time": "2022-09-02T17:45:05.518Z"
   },
   {
    "duration": 105,
    "start_time": "2022-09-02T17:45:05.531Z"
   },
   {
    "duration": 9,
    "start_time": "2022-09-02T17:45:05.638Z"
   },
   {
    "duration": 55,
    "start_time": "2022-09-02T17:45:05.649Z"
   },
   {
    "duration": 43,
    "start_time": "2022-09-02T17:45:05.706Z"
   },
   {
    "duration": 43,
    "start_time": "2022-09-02T17:45:05.751Z"
   },
   {
    "duration": 7,
    "start_time": "2022-09-02T17:45:05.796Z"
   },
   {
    "duration": 6,
    "start_time": "2022-09-02T17:45:05.805Z"
   },
   {
    "duration": 9,
    "start_time": "2022-09-02T17:45:05.813Z"
   },
   {
    "duration": 4,
    "start_time": "2022-09-02T17:45:05.823Z"
   },
   {
    "duration": 8,
    "start_time": "2022-09-02T17:45:05.828Z"
   },
   {
    "duration": 12,
    "start_time": "2022-09-02T17:45:05.838Z"
   },
   {
    "duration": 4836,
    "start_time": "2022-09-02T17:45:05.852Z"
   },
   {
    "duration": 15,
    "start_time": "2022-09-02T17:45:10.690Z"
   },
   {
    "duration": 13,
    "start_time": "2022-09-02T17:45:10.707Z"
   },
   {
    "duration": 30,
    "start_time": "2022-09-02T17:45:10.722Z"
   },
   {
    "duration": 5,
    "start_time": "2022-09-02T17:45:10.755Z"
   },
   {
    "duration": 29,
    "start_time": "2022-09-02T17:45:10.776Z"
   },
   {
    "duration": 176,
    "start_time": "2022-09-02T17:45:10.807Z"
   },
   {
    "duration": 145,
    "start_time": "2022-09-02T17:45:10.985Z"
   },
   {
    "duration": 169,
    "start_time": "2022-09-02T17:45:11.133Z"
   },
   {
    "duration": 337,
    "start_time": "2022-09-02T17:45:11.304Z"
   },
   {
    "duration": 255,
    "start_time": "2022-09-02T17:45:11.643Z"
   },
   {
    "duration": 253,
    "start_time": "2022-09-02T17:45:11.900Z"
   },
   {
    "duration": 229,
    "start_time": "2022-09-02T17:45:12.155Z"
   },
   {
    "duration": 253,
    "start_time": "2022-09-02T17:45:12.386Z"
   },
   {
    "duration": 256,
    "start_time": "2022-09-02T17:45:12.641Z"
   },
   {
    "duration": 6,
    "start_time": "2022-09-02T17:45:12.899Z"
   },
   {
    "duration": 15,
    "start_time": "2022-09-02T17:45:12.906Z"
   },
   {
    "duration": 12,
    "start_time": "2022-09-02T17:45:12.922Z"
   },
   {
    "duration": 16,
    "start_time": "2022-09-02T17:59:59.938Z"
   },
   {
    "duration": 5,
    "start_time": "2022-09-02T18:02:33.880Z"
   },
   {
    "duration": 973,
    "start_time": "2022-09-02T18:03:53.622Z"
   },
   {
    "duration": 446,
    "start_time": "2022-09-02T18:03:54.597Z"
   },
   {
    "duration": 57,
    "start_time": "2022-09-02T18:03:55.045Z"
   },
   {
    "duration": 65,
    "start_time": "2022-09-02T18:03:55.104Z"
   },
   {
    "duration": 21,
    "start_time": "2022-09-02T18:03:55.170Z"
   },
   {
    "duration": 14,
    "start_time": "2022-09-02T18:03:55.193Z"
   },
   {
    "duration": 20,
    "start_time": "2022-09-02T18:03:55.208Z"
   },
   {
    "duration": 22,
    "start_time": "2022-09-02T18:03:55.229Z"
   },
   {
    "duration": 29,
    "start_time": "2022-09-02T18:03:55.253Z"
   },
   {
    "duration": 50,
    "start_time": "2022-09-02T18:03:55.283Z"
   },
   {
    "duration": 22,
    "start_time": "2022-09-02T18:03:55.335Z"
   },
   {
    "duration": 25,
    "start_time": "2022-09-02T18:03:55.359Z"
   },
   {
    "duration": 18,
    "start_time": "2022-09-02T18:03:55.386Z"
   },
   {
    "duration": 22,
    "start_time": "2022-09-02T18:03:55.407Z"
   },
   {
    "duration": 18,
    "start_time": "2022-09-02T18:03:55.431Z"
   },
   {
    "duration": 19,
    "start_time": "2022-09-02T18:03:55.451Z"
   },
   {
    "duration": 15,
    "start_time": "2022-09-02T18:03:55.472Z"
   },
   {
    "duration": 126,
    "start_time": "2022-09-02T18:03:55.489Z"
   },
   {
    "duration": 51,
    "start_time": "2022-09-02T18:03:55.617Z"
   },
   {
    "duration": 46,
    "start_time": "2022-09-02T18:03:55.670Z"
   },
   {
    "duration": 8,
    "start_time": "2022-09-02T18:03:55.718Z"
   },
   {
    "duration": 19,
    "start_time": "2022-09-02T18:03:55.728Z"
   },
   {
    "duration": 21,
    "start_time": "2022-09-02T18:03:55.748Z"
   },
   {
    "duration": 12,
    "start_time": "2022-09-02T18:03:55.770Z"
   },
   {
    "duration": 13,
    "start_time": "2022-09-02T18:03:55.784Z"
   },
   {
    "duration": 15,
    "start_time": "2022-09-02T18:03:55.799Z"
   },
   {
    "duration": 25,
    "start_time": "2022-09-02T18:03:55.816Z"
   },
   {
    "duration": 25,
    "start_time": "2022-09-02T18:03:55.843Z"
   },
   {
    "duration": 189,
    "start_time": "2022-09-02T18:03:55.870Z"
   },
   {
    "duration": 232,
    "start_time": "2022-09-02T18:03:56.067Z"
   },
   {
    "duration": 12,
    "start_time": "2022-09-02T18:03:56.305Z"
   },
   {
    "duration": 127,
    "start_time": "2022-09-02T18:03:56.319Z"
   },
   {
    "duration": 32,
    "start_time": "2022-09-02T18:03:56.447Z"
   },
   {
    "duration": 241,
    "start_time": "2022-09-02T18:03:56.482Z"
   },
   {
    "duration": 209,
    "start_time": "2022-09-02T18:03:56.725Z"
   },
   {
    "duration": 9,
    "start_time": "2022-09-02T18:03:56.936Z"
   },
   {
    "duration": 31,
    "start_time": "2022-09-02T18:03:56.947Z"
   },
   {
    "duration": 16,
    "start_time": "2022-09-02T18:03:56.979Z"
   },
   {
    "duration": 175,
    "start_time": "2022-09-02T18:03:56.997Z"
   },
   {
    "duration": 171,
    "start_time": "2022-09-02T18:03:57.173Z"
   },
   {
    "duration": 54,
    "start_time": "2022-09-02T18:03:57.347Z"
   },
   {
    "duration": 9,
    "start_time": "2022-09-02T18:03:57.402Z"
   },
   {
    "duration": 9,
    "start_time": "2022-09-02T18:03:57.412Z"
   },
   {
    "duration": 13,
    "start_time": "2022-09-02T18:03:57.422Z"
   },
   {
    "duration": 6,
    "start_time": "2022-09-02T18:03:57.437Z"
   },
   {
    "duration": 24,
    "start_time": "2022-09-02T18:03:57.444Z"
   },
   {
    "duration": 81,
    "start_time": "2022-09-02T18:03:57.470Z"
   },
   {
    "duration": 16,
    "start_time": "2022-09-02T18:03:57.552Z"
   },
   {
    "duration": 79,
    "start_time": "2022-09-02T18:03:57.570Z"
   },
   {
    "duration": 21,
    "start_time": "2022-09-02T18:03:57.651Z"
   },
   {
    "duration": 51,
    "start_time": "2022-09-02T18:03:57.673Z"
   },
   {
    "duration": 48,
    "start_time": "2022-09-02T18:03:57.726Z"
   },
   {
    "duration": 21,
    "start_time": "2022-09-02T18:03:57.776Z"
   },
   {
    "duration": 6,
    "start_time": "2022-09-02T18:03:57.800Z"
   },
   {
    "duration": 7,
    "start_time": "2022-09-02T18:03:57.807Z"
   },
   {
    "duration": 19,
    "start_time": "2022-09-02T18:03:57.816Z"
   },
   {
    "duration": 35,
    "start_time": "2022-09-02T18:03:57.837Z"
   },
   {
    "duration": 0,
    "start_time": "2022-09-02T18:03:57.874Z"
   },
   {
    "duration": 0,
    "start_time": "2022-09-02T18:03:57.875Z"
   },
   {
    "duration": 0,
    "start_time": "2022-09-02T18:03:57.876Z"
   },
   {
    "duration": 0,
    "start_time": "2022-09-02T18:03:57.878Z"
   },
   {
    "duration": 0,
    "start_time": "2022-09-02T18:03:57.879Z"
   },
   {
    "duration": 0,
    "start_time": "2022-09-02T18:03:57.880Z"
   },
   {
    "duration": 0,
    "start_time": "2022-09-02T18:03:57.882Z"
   },
   {
    "duration": 0,
    "start_time": "2022-09-02T18:03:57.883Z"
   },
   {
    "duration": 0,
    "start_time": "2022-09-02T18:03:57.884Z"
   },
   {
    "duration": 0,
    "start_time": "2022-09-02T18:03:57.885Z"
   },
   {
    "duration": 0,
    "start_time": "2022-09-02T18:03:57.886Z"
   },
   {
    "duration": 0,
    "start_time": "2022-09-02T18:03:57.888Z"
   },
   {
    "duration": 0,
    "start_time": "2022-09-02T18:03:57.889Z"
   },
   {
    "duration": 0,
    "start_time": "2022-09-02T18:03:57.891Z"
   },
   {
    "duration": 0,
    "start_time": "2022-09-02T18:03:57.892Z"
   },
   {
    "duration": 0,
    "start_time": "2022-09-02T18:03:57.894Z"
   },
   {
    "duration": 0,
    "start_time": "2022-09-02T18:03:57.895Z"
   },
   {
    "duration": 0,
    "start_time": "2022-09-02T18:03:57.897Z"
   },
   {
    "duration": 0,
    "start_time": "2022-09-02T18:03:57.898Z"
   },
   {
    "duration": 0,
    "start_time": "2022-09-02T18:03:57.900Z"
   },
   {
    "duration": 0,
    "start_time": "2022-09-02T18:03:57.901Z"
   },
   {
    "duration": 0,
    "start_time": "2022-09-02T18:03:57.903Z"
   },
   {
    "duration": 8,
    "start_time": "2022-09-02T18:04:57.003Z"
   },
   {
    "duration": 6,
    "start_time": "2022-09-02T18:05:14.718Z"
   },
   {
    "duration": 3,
    "start_time": "2022-09-02T18:05:17.397Z"
   },
   {
    "duration": 4,
    "start_time": "2022-09-02T18:05:18.078Z"
   },
   {
    "duration": 5,
    "start_time": "2022-09-02T18:05:18.868Z"
   },
   {
    "duration": 4355,
    "start_time": "2022-09-02T18:05:19.397Z"
   },
   {
    "duration": 15,
    "start_time": "2022-09-02T18:05:23.754Z"
   },
   {
    "duration": 5,
    "start_time": "2022-09-02T18:05:47.578Z"
   },
   {
    "duration": 1062,
    "start_time": "2022-09-02T18:06:54.891Z"
   },
   {
    "duration": 468,
    "start_time": "2022-09-02T18:06:55.955Z"
   },
   {
    "duration": 61,
    "start_time": "2022-09-02T18:06:56.424Z"
   },
   {
    "duration": 61,
    "start_time": "2022-09-02T18:06:56.487Z"
   },
   {
    "duration": 43,
    "start_time": "2022-09-02T18:06:56.551Z"
   },
   {
    "duration": 23,
    "start_time": "2022-09-02T18:06:56.596Z"
   },
   {
    "duration": 26,
    "start_time": "2022-09-02T18:06:56.623Z"
   },
   {
    "duration": 9,
    "start_time": "2022-09-02T18:06:56.669Z"
   },
   {
    "duration": 49,
    "start_time": "2022-09-02T18:06:56.681Z"
   },
   {
    "duration": 39,
    "start_time": "2022-09-02T18:06:56.732Z"
   },
   {
    "duration": 27,
    "start_time": "2022-09-02T18:06:56.772Z"
   },
   {
    "duration": 19,
    "start_time": "2022-09-02T18:06:56.801Z"
   },
   {
    "duration": 5,
    "start_time": "2022-09-02T18:06:56.822Z"
   },
   {
    "duration": 16,
    "start_time": "2022-09-02T18:06:56.831Z"
   },
   {
    "duration": 13,
    "start_time": "2022-09-02T18:06:56.868Z"
   },
   {
    "duration": 12,
    "start_time": "2022-09-02T18:06:56.882Z"
   },
   {
    "duration": 8,
    "start_time": "2022-09-02T18:06:56.896Z"
   },
   {
    "duration": 121,
    "start_time": "2022-09-02T18:06:56.906Z"
   },
   {
    "duration": 53,
    "start_time": "2022-09-02T18:06:57.029Z"
   },
   {
    "duration": 44,
    "start_time": "2022-09-02T18:06:57.084Z"
   },
   {
    "duration": 9,
    "start_time": "2022-09-02T18:06:57.130Z"
   },
   {
    "duration": 28,
    "start_time": "2022-09-02T18:06:57.141Z"
   },
   {
    "duration": 6,
    "start_time": "2022-09-02T18:06:57.171Z"
   },
   {
    "duration": 10,
    "start_time": "2022-09-02T18:06:57.179Z"
   },
   {
    "duration": 8,
    "start_time": "2022-09-02T18:06:57.190Z"
   },
   {
    "duration": 6,
    "start_time": "2022-09-02T18:06:57.200Z"
   },
   {
    "duration": 6,
    "start_time": "2022-09-02T18:06:57.207Z"
   },
   {
    "duration": 13,
    "start_time": "2022-09-02T18:06:57.214Z"
   },
   {
    "duration": 215,
    "start_time": "2022-09-02T18:06:57.229Z"
   },
   {
    "duration": 257,
    "start_time": "2022-09-02T18:06:57.446Z"
   },
   {
    "duration": 11,
    "start_time": "2022-09-02T18:06:57.705Z"
   },
   {
    "duration": 145,
    "start_time": "2022-09-02T18:06:57.718Z"
   },
   {
    "duration": 25,
    "start_time": "2022-09-02T18:06:57.868Z"
   },
   {
    "duration": 197,
    "start_time": "2022-09-02T18:06:57.894Z"
   },
   {
    "duration": 222,
    "start_time": "2022-09-02T18:06:58.093Z"
   },
   {
    "duration": 11,
    "start_time": "2022-09-02T18:06:58.316Z"
   },
   {
    "duration": 23,
    "start_time": "2022-09-02T18:06:58.329Z"
   },
   {
    "duration": 18,
    "start_time": "2022-09-02T18:06:58.368Z"
   },
   {
    "duration": 197,
    "start_time": "2022-09-02T18:06:58.388Z"
   },
   {
    "duration": 177,
    "start_time": "2022-09-02T18:06:58.586Z"
   },
   {
    "duration": 46,
    "start_time": "2022-09-02T18:06:58.767Z"
   },
   {
    "duration": 10,
    "start_time": "2022-09-02T18:06:58.815Z"
   },
   {
    "duration": 10,
    "start_time": "2022-09-02T18:06:58.826Z"
   },
   {
    "duration": 32,
    "start_time": "2022-09-02T18:06:58.838Z"
   },
   {
    "duration": 8,
    "start_time": "2022-09-02T18:06:58.872Z"
   },
   {
    "duration": 11,
    "start_time": "2022-09-02T18:06:58.882Z"
   },
   {
    "duration": 95,
    "start_time": "2022-09-02T18:06:58.894Z"
   },
   {
    "duration": 9,
    "start_time": "2022-09-02T18:06:58.990Z"
   },
   {
    "duration": 94,
    "start_time": "2022-09-02T18:06:59.001Z"
   },
   {
    "duration": 9,
    "start_time": "2022-09-02T18:06:59.097Z"
   },
   {
    "duration": 61,
    "start_time": "2022-09-02T18:06:59.108Z"
   },
   {
    "duration": 43,
    "start_time": "2022-09-02T18:06:59.172Z"
   },
   {
    "duration": 26,
    "start_time": "2022-09-02T18:06:59.216Z"
   },
   {
    "duration": 26,
    "start_time": "2022-09-02T18:06:59.245Z"
   },
   {
    "duration": 11,
    "start_time": "2022-09-02T18:06:59.272Z"
   },
   {
    "duration": 18,
    "start_time": "2022-09-02T18:06:59.285Z"
   },
   {
    "duration": 7,
    "start_time": "2022-09-02T18:06:59.305Z"
   },
   {
    "duration": 4,
    "start_time": "2022-09-02T18:06:59.314Z"
   },
   {
    "duration": 6,
    "start_time": "2022-09-02T18:06:59.319Z"
   },
   {
    "duration": 7,
    "start_time": "2022-09-02T18:06:59.327Z"
   },
   {
    "duration": 4468,
    "start_time": "2022-09-02T18:06:59.336Z"
   },
   {
    "duration": 10,
    "start_time": "2022-09-02T18:07:03.806Z"
   },
   {
    "duration": 10,
    "start_time": "2022-09-02T18:07:03.817Z"
   },
   {
    "duration": 10,
    "start_time": "2022-09-02T18:07:03.828Z"
   },
   {
    "duration": 34,
    "start_time": "2022-09-02T18:07:03.840Z"
   },
   {
    "duration": 5,
    "start_time": "2022-09-02T18:07:03.875Z"
   },
   {
    "duration": 26,
    "start_time": "2022-09-02T18:07:03.882Z"
   },
   {
    "duration": 181,
    "start_time": "2022-09-02T18:07:03.909Z"
   },
   {
    "duration": 146,
    "start_time": "2022-09-02T18:07:04.092Z"
   },
   {
    "duration": 159,
    "start_time": "2022-09-02T18:07:04.240Z"
   },
   {
    "duration": 333,
    "start_time": "2022-09-02T18:07:04.401Z"
   },
   {
    "duration": 234,
    "start_time": "2022-09-02T18:07:04.736Z"
   },
   {
    "duration": 246,
    "start_time": "2022-09-02T18:07:04.972Z"
   },
   {
    "duration": 239,
    "start_time": "2022-09-02T18:07:05.219Z"
   },
   {
    "duration": 290,
    "start_time": "2022-09-02T18:07:05.459Z"
   },
   {
    "duration": 248,
    "start_time": "2022-09-02T18:07:05.751Z"
   },
   {
    "duration": 8,
    "start_time": "2022-09-02T18:07:06.001Z"
   },
   {
    "duration": 12,
    "start_time": "2022-09-02T18:07:06.011Z"
   },
   {
    "duration": 12,
    "start_time": "2022-09-02T18:07:06.025Z"
   },
   {
    "duration": 43,
    "start_time": "2022-09-06T09:51:35.431Z"
   },
   {
    "duration": 1147,
    "start_time": "2022-09-06T09:51:44.346Z"
   },
   {
    "duration": 948,
    "start_time": "2022-09-06T09:51:45.498Z"
   },
   {
    "duration": 57,
    "start_time": "2022-09-06T09:51:46.447Z"
   },
   {
    "duration": 50,
    "start_time": "2022-09-06T09:51:46.506Z"
   },
   {
    "duration": 45,
    "start_time": "2022-09-06T09:51:46.558Z"
   },
   {
    "duration": 15,
    "start_time": "2022-09-06T09:51:46.605Z"
   },
   {
    "duration": 21,
    "start_time": "2022-09-06T09:51:46.622Z"
   },
   {
    "duration": 8,
    "start_time": "2022-09-06T09:51:46.645Z"
   },
   {
    "duration": 54,
    "start_time": "2022-09-06T09:51:46.655Z"
   },
   {
    "duration": 36,
    "start_time": "2022-09-06T09:51:46.712Z"
   },
   {
    "duration": 35,
    "start_time": "2022-09-06T09:51:46.750Z"
   },
   {
    "duration": 17,
    "start_time": "2022-09-06T09:51:46.786Z"
   },
   {
    "duration": 6,
    "start_time": "2022-09-06T09:51:46.804Z"
   },
   {
    "duration": 21,
    "start_time": "2022-09-06T09:51:46.811Z"
   },
   {
    "duration": 11,
    "start_time": "2022-09-06T09:51:46.834Z"
   },
   {
    "duration": 11,
    "start_time": "2022-09-06T09:51:46.846Z"
   },
   {
    "duration": 26,
    "start_time": "2022-09-06T09:51:46.859Z"
   },
   {
    "duration": 105,
    "start_time": "2022-09-06T09:51:46.887Z"
   },
   {
    "duration": 39,
    "start_time": "2022-09-06T09:51:46.993Z"
   },
   {
    "duration": 54,
    "start_time": "2022-09-06T09:51:47.034Z"
   },
   {
    "duration": 7,
    "start_time": "2022-09-06T09:51:47.090Z"
   },
   {
    "duration": 18,
    "start_time": "2022-09-06T09:51:47.099Z"
   },
   {
    "duration": 15,
    "start_time": "2022-09-06T09:51:47.119Z"
   },
   {
    "duration": 9,
    "start_time": "2022-09-06T09:51:47.137Z"
   },
   {
    "duration": 11,
    "start_time": "2022-09-06T09:51:47.148Z"
   },
   {
    "duration": 10,
    "start_time": "2022-09-06T09:51:47.161Z"
   },
   {
    "duration": 16,
    "start_time": "2022-09-06T09:51:47.172Z"
   },
   {
    "duration": 54,
    "start_time": "2022-09-06T09:51:47.191Z"
   },
   {
    "duration": 8,
    "start_time": "2022-09-06T09:51:47.246Z"
   },
   {
    "duration": 30,
    "start_time": "2022-09-06T09:51:47.256Z"
   },
   {
    "duration": 9,
    "start_time": "2022-09-06T09:51:47.287Z"
   },
   {
    "duration": 22,
    "start_time": "2022-09-06T09:51:47.298Z"
   },
   {
    "duration": 13,
    "start_time": "2022-09-06T09:51:47.322Z"
   },
   {
    "duration": 71,
    "start_time": "2022-09-06T09:51:47.336Z"
   },
   {
    "duration": 9,
    "start_time": "2022-09-06T09:51:47.409Z"
   },
   {
    "duration": 91,
    "start_time": "2022-09-06T09:51:47.420Z"
   },
   {
    "duration": 9,
    "start_time": "2022-09-06T09:51:47.513Z"
   },
   {
    "duration": 37,
    "start_time": "2022-09-06T09:51:47.523Z"
   },
   {
    "duration": 50,
    "start_time": "2022-09-06T09:51:47.561Z"
   },
   {
    "duration": 3,
    "start_time": "2022-09-06T09:51:47.613Z"
   },
   {
    "duration": 4,
    "start_time": "2022-09-06T09:51:49.799Z"
   },
   {
    "duration": 5,
    "start_time": "2022-09-06T09:51:51.760Z"
   },
   {
    "duration": 9,
    "start_time": "2022-09-06T09:52:01.038Z"
   },
   {
    "duration": 4,
    "start_time": "2022-09-06T09:53:43.646Z"
   },
   {
    "duration": 3,
    "start_time": "2022-09-06T09:54:26.237Z"
   },
   {
    "duration": 57,
    "start_time": "2022-09-06T09:57:30.356Z"
   },
   {
    "duration": 8,
    "start_time": "2022-09-06T09:57:34.227Z"
   },
   {
    "duration": 8,
    "start_time": "2022-09-06T09:57:41.400Z"
   },
   {
    "duration": 1135,
    "start_time": "2022-09-06T09:58:01.431Z"
   },
   {
    "duration": 9,
    "start_time": "2022-09-06T09:59:10.834Z"
   },
   {
    "duration": 8,
    "start_time": "2022-09-06T09:59:19.929Z"
   },
   {
    "duration": 5,
    "start_time": "2022-09-06T09:59:42.230Z"
   },
   {
    "duration": 7,
    "start_time": "2022-09-06T09:59:51.732Z"
   },
   {
    "duration": 8,
    "start_time": "2022-09-06T10:00:05.260Z"
   },
   {
    "duration": 5,
    "start_time": "2022-09-06T10:00:08.161Z"
   },
   {
    "duration": 5,
    "start_time": "2022-09-06T10:00:44.499Z"
   },
   {
    "duration": 5,
    "start_time": "2022-09-06T10:00:58.010Z"
   },
   {
    "duration": 4,
    "start_time": "2022-09-06T10:01:39.994Z"
   },
   {
    "duration": 11,
    "start_time": "2022-09-06T10:18:32.320Z"
   },
   {
    "duration": 14,
    "start_time": "2022-09-06T10:19:17.261Z"
   },
   {
    "duration": 6,
    "start_time": "2022-09-06T10:20:35.400Z"
   },
   {
    "duration": 10,
    "start_time": "2022-09-06T10:20:44.528Z"
   },
   {
    "duration": 6,
    "start_time": "2022-09-06T10:21:10.287Z"
   },
   {
    "duration": 8,
    "start_time": "2022-09-06T10:21:40.645Z"
   },
   {
    "duration": 7,
    "start_time": "2022-09-06T10:22:51.769Z"
   },
   {
    "duration": 5,
    "start_time": "2022-09-06T10:22:54.657Z"
   },
   {
    "duration": 8,
    "start_time": "2022-09-06T10:23:12.258Z"
   },
   {
    "duration": 7,
    "start_time": "2022-09-06T10:23:14.245Z"
   },
   {
    "duration": 8,
    "start_time": "2022-09-06T10:23:17.108Z"
   },
   {
    "duration": 8,
    "start_time": "2022-09-06T10:23:19.428Z"
   },
   {
    "duration": 12,
    "start_time": "2022-09-06T10:23:34.242Z"
   },
   {
    "duration": 7,
    "start_time": "2022-09-06T10:24:51.693Z"
   },
   {
    "duration": 5,
    "start_time": "2022-09-06T10:24:54.540Z"
   },
   {
    "duration": 10,
    "start_time": "2022-09-06T10:24:56.497Z"
   },
   {
    "duration": 8,
    "start_time": "2022-09-06T10:26:03.168Z"
   },
   {
    "duration": 13,
    "start_time": "2022-09-06T10:26:06.303Z"
   },
   {
    "duration": 5,
    "start_time": "2022-09-06T10:26:24.371Z"
   },
   {
    "duration": 8,
    "start_time": "2022-09-06T10:26:37.081Z"
   },
   {
    "duration": 5,
    "start_time": "2022-09-06T10:26:39.643Z"
   },
   {
    "duration": 11,
    "start_time": "2022-09-06T10:26:42.073Z"
   },
   {
    "duration": 3,
    "start_time": "2022-09-06T10:26:56.784Z"
   },
   {
    "duration": 437,
    "start_time": "2022-09-06T10:26:56.789Z"
   },
   {
    "duration": 51,
    "start_time": "2022-09-06T10:26:57.227Z"
   },
   {
    "duration": 50,
    "start_time": "2022-09-06T10:26:57.280Z"
   },
   {
    "duration": 25,
    "start_time": "2022-09-06T10:26:57.331Z"
   },
   {
    "duration": 36,
    "start_time": "2022-09-06T10:26:57.358Z"
   },
   {
    "duration": 18,
    "start_time": "2022-09-06T10:26:57.396Z"
   },
   {
    "duration": 7,
    "start_time": "2022-09-06T10:26:57.416Z"
   },
   {
    "duration": 22,
    "start_time": "2022-09-06T10:26:57.425Z"
   },
   {
    "duration": 56,
    "start_time": "2022-09-06T10:26:57.451Z"
   },
   {
    "duration": 25,
    "start_time": "2022-09-06T10:26:57.509Z"
   },
   {
    "duration": 20,
    "start_time": "2022-09-06T10:26:57.536Z"
   },
   {
    "duration": 29,
    "start_time": "2022-09-06T10:26:57.558Z"
   },
   {
    "duration": 23,
    "start_time": "2022-09-06T10:26:57.589Z"
   },
   {
    "duration": 10,
    "start_time": "2022-09-06T10:26:57.614Z"
   },
   {
    "duration": 14,
    "start_time": "2022-09-06T10:26:57.626Z"
   },
   {
    "duration": 6,
    "start_time": "2022-09-06T10:26:57.642Z"
   },
   {
    "duration": 113,
    "start_time": "2022-09-06T10:26:57.650Z"
   },
   {
    "duration": 48,
    "start_time": "2022-09-06T10:26:57.764Z"
   },
   {
    "duration": 43,
    "start_time": "2022-09-06T10:26:57.814Z"
   },
   {
    "duration": 27,
    "start_time": "2022-09-06T10:26:57.859Z"
   },
   {
    "duration": 10,
    "start_time": "2022-09-06T10:26:57.888Z"
   },
   {
    "duration": 13,
    "start_time": "2022-09-06T10:26:57.900Z"
   },
   {
    "duration": 13,
    "start_time": "2022-09-06T10:26:57.915Z"
   },
   {
    "duration": 21,
    "start_time": "2022-09-06T10:26:57.930Z"
   },
   {
    "duration": 7,
    "start_time": "2022-09-06T10:26:57.953Z"
   },
   {
    "duration": 15,
    "start_time": "2022-09-06T10:26:57.961Z"
   },
   {
    "duration": 48,
    "start_time": "2022-09-06T10:26:57.979Z"
   },
   {
    "duration": 11,
    "start_time": "2022-09-06T10:26:58.029Z"
   },
   {
    "duration": 10,
    "start_time": "2022-09-06T10:26:58.042Z"
   },
   {
    "duration": 31,
    "start_time": "2022-09-06T10:26:58.054Z"
   },
   {
    "duration": 5,
    "start_time": "2022-09-06T10:26:58.087Z"
   },
   {
    "duration": 11,
    "start_time": "2022-09-06T10:26:58.093Z"
   },
   {
    "duration": 95,
    "start_time": "2022-09-06T10:26:58.106Z"
   },
   {
    "duration": 9,
    "start_time": "2022-09-06T10:26:58.203Z"
   },
   {
    "duration": 100,
    "start_time": "2022-09-06T10:26:58.213Z"
   },
   {
    "duration": 10,
    "start_time": "2022-09-06T10:26:58.315Z"
   },
   {
    "duration": 42,
    "start_time": "2022-09-06T10:26:58.327Z"
   },
   {
    "duration": 46,
    "start_time": "2022-09-06T10:26:58.385Z"
   },
   {
    "duration": 3,
    "start_time": "2022-09-06T10:26:58.433Z"
   },
   {
    "duration": 9,
    "start_time": "2022-09-06T10:26:58.438Z"
   },
   {
    "duration": 12,
    "start_time": "2022-09-06T10:26:58.449Z"
   },
   {
    "duration": 23,
    "start_time": "2022-09-06T10:26:58.463Z"
   },
   {
    "duration": 6,
    "start_time": "2022-09-06T10:26:58.488Z"
   },
   {
    "duration": 6,
    "start_time": "2022-09-06T10:26:58.496Z"
   },
   {
    "duration": 5,
    "start_time": "2022-09-06T10:26:58.504Z"
   },
   {
    "duration": 11,
    "start_time": "2022-09-06T10:26:58.511Z"
   },
   {
    "duration": 12,
    "start_time": "2022-09-06T10:26:58.524Z"
   },
   {
    "duration": 49,
    "start_time": "2022-09-06T10:26:58.537Z"
   },
   {
    "duration": 7,
    "start_time": "2022-09-06T10:27:20.835Z"
   },
   {
    "duration": 5,
    "start_time": "2022-09-06T10:27:22.864Z"
   },
   {
    "duration": 10,
    "start_time": "2022-09-06T10:27:24.759Z"
   },
   {
    "duration": 8,
    "start_time": "2022-09-06T10:28:41.930Z"
   },
   {
    "duration": 11,
    "start_time": "2022-09-06T10:28:45.584Z"
   },
   {
    "duration": 6,
    "start_time": "2022-09-06T10:28:50.558Z"
   },
   {
    "duration": 5,
    "start_time": "2022-09-06T10:28:52.657Z"
   },
   {
    "duration": 15,
    "start_time": "2022-09-06T10:28:54.442Z"
   },
   {
    "duration": 8,
    "start_time": "2022-09-06T10:32:20.393Z"
   },
   {
    "duration": 6,
    "start_time": "2022-09-06T10:32:22.429Z"
   },
   {
    "duration": 12,
    "start_time": "2022-09-06T10:32:24.273Z"
   },
   {
    "duration": 7,
    "start_time": "2022-09-06T10:32:32.896Z"
   },
   {
    "duration": 5,
    "start_time": "2022-09-06T10:32:34.830Z"
   },
   {
    "duration": 10,
    "start_time": "2022-09-06T10:32:36.634Z"
   },
   {
    "duration": 9,
    "start_time": "2022-09-06T10:33:23.837Z"
   },
   {
    "duration": 5,
    "start_time": "2022-09-06T10:33:25.764Z"
   },
   {
    "duration": 12,
    "start_time": "2022-09-06T10:33:27.718Z"
   },
   {
    "duration": 13,
    "start_time": "2022-09-06T10:35:42.826Z"
   },
   {
    "duration": 10,
    "start_time": "2022-09-06T11:10:18.585Z"
   },
   {
    "duration": 9,
    "start_time": "2022-09-06T11:10:28.144Z"
   },
   {
    "duration": 5,
    "start_time": "2022-09-06T11:10:44.166Z"
   },
   {
    "duration": 81,
    "start_time": "2022-09-06T11:11:00.200Z"
   },
   {
    "duration": 9,
    "start_time": "2022-09-06T11:11:02.813Z"
   },
   {
    "duration": 5,
    "start_time": "2022-09-06T11:11:10.964Z"
   },
   {
    "duration": 3,
    "start_time": "2022-09-06T11:11:46.043Z"
   },
   {
    "duration": 405,
    "start_time": "2022-09-06T11:11:46.048Z"
   },
   {
    "duration": 45,
    "start_time": "2022-09-06T11:11:46.455Z"
   },
   {
    "duration": 43,
    "start_time": "2022-09-06T11:11:46.502Z"
   },
   {
    "duration": 21,
    "start_time": "2022-09-06T11:11:46.547Z"
   },
   {
    "duration": 14,
    "start_time": "2022-09-06T11:11:46.584Z"
   },
   {
    "duration": 19,
    "start_time": "2022-09-06T11:11:46.600Z"
   },
   {
    "duration": 6,
    "start_time": "2022-09-06T11:11:46.621Z"
   },
   {
    "duration": 20,
    "start_time": "2022-09-06T11:11:46.629Z"
   },
   {
    "duration": 46,
    "start_time": "2022-09-06T11:11:46.650Z"
   },
   {
    "duration": 20,
    "start_time": "2022-09-06T11:11:46.699Z"
   },
   {
    "duration": 16,
    "start_time": "2022-09-06T11:11:46.721Z"
   },
   {
    "duration": 4,
    "start_time": "2022-09-06T11:11:46.739Z"
   },
   {
    "duration": 19,
    "start_time": "2022-09-06T11:11:46.745Z"
   },
   {
    "duration": 25,
    "start_time": "2022-09-06T11:11:46.766Z"
   },
   {
    "duration": 10,
    "start_time": "2022-09-06T11:11:46.793Z"
   },
   {
    "duration": 6,
    "start_time": "2022-09-06T11:11:46.805Z"
   },
   {
    "duration": 108,
    "start_time": "2022-09-06T11:11:46.813Z"
   },
   {
    "duration": 40,
    "start_time": "2022-09-06T11:11:46.923Z"
   },
   {
    "duration": 46,
    "start_time": "2022-09-06T11:11:46.965Z"
   },
   {
    "duration": 6,
    "start_time": "2022-09-06T11:11:47.013Z"
   },
   {
    "duration": 12,
    "start_time": "2022-09-06T11:11:47.020Z"
   },
   {
    "duration": 10,
    "start_time": "2022-09-06T11:11:47.033Z"
   },
   {
    "duration": 6,
    "start_time": "2022-09-06T11:11:47.044Z"
   },
   {
    "duration": 6,
    "start_time": "2022-09-06T11:11:47.052Z"
   },
   {
    "duration": 26,
    "start_time": "2022-09-06T11:11:47.060Z"
   },
   {
    "duration": 4,
    "start_time": "2022-09-06T11:11:47.088Z"
   },
   {
    "duration": 49,
    "start_time": "2022-09-06T11:11:47.094Z"
   },
   {
    "duration": 9,
    "start_time": "2022-09-06T11:11:47.147Z"
   },
   {
    "duration": 31,
    "start_time": "2022-09-06T11:11:47.158Z"
   },
   {
    "duration": 8,
    "start_time": "2022-09-06T11:11:47.191Z"
   },
   {
    "duration": 6,
    "start_time": "2022-09-06T11:11:47.201Z"
   },
   {
    "duration": 10,
    "start_time": "2022-09-06T11:11:47.208Z"
   },
   {
    "duration": 89,
    "start_time": "2022-09-06T11:11:47.219Z"
   },
   {
    "duration": 9,
    "start_time": "2022-09-06T11:11:47.310Z"
   },
   {
    "duration": 7,
    "start_time": "2022-09-06T11:11:47.321Z"
   },
   {
    "duration": 9,
    "start_time": "2022-09-06T11:18:36.354Z"
   },
   {
    "duration": 9,
    "start_time": "2022-09-06T11:18:41.465Z"
   },
   {
    "duration": 4,
    "start_time": "2022-09-06T11:18:49.561Z"
   },
   {
    "duration": 8,
    "start_time": "2022-09-06T11:18:55.874Z"
   },
   {
    "duration": 4,
    "start_time": "2022-09-06T11:19:04.232Z"
   },
   {
    "duration": 5,
    "start_time": "2022-09-06T11:19:40.500Z"
   },
   {
    "duration": 6,
    "start_time": "2022-09-06T11:19:42.786Z"
   },
   {
    "duration": 3,
    "start_time": "2022-09-06T11:19:51.600Z"
   },
   {
    "duration": 364,
    "start_time": "2022-09-06T11:19:51.604Z"
   },
   {
    "duration": 46,
    "start_time": "2022-09-06T11:19:51.970Z"
   },
   {
    "duration": 44,
    "start_time": "2022-09-06T11:19:52.017Z"
   },
   {
    "duration": 36,
    "start_time": "2022-09-06T11:19:52.063Z"
   },
   {
    "duration": 16,
    "start_time": "2022-09-06T11:19:52.100Z"
   },
   {
    "duration": 19,
    "start_time": "2022-09-06T11:19:52.117Z"
   },
   {
    "duration": 9,
    "start_time": "2022-09-06T11:19:52.138Z"
   },
   {
    "duration": 37,
    "start_time": "2022-09-06T11:19:52.148Z"
   },
   {
    "duration": 28,
    "start_time": "2022-09-06T11:19:52.187Z"
   },
   {
    "duration": 25,
    "start_time": "2022-09-06T11:19:52.218Z"
   },
   {
    "duration": 44,
    "start_time": "2022-09-06T11:19:52.244Z"
   },
   {
    "duration": 6,
    "start_time": "2022-09-06T11:19:52.290Z"
   },
   {
    "duration": 16,
    "start_time": "2022-09-06T11:19:52.298Z"
   },
   {
    "duration": 10,
    "start_time": "2022-09-06T11:19:52.315Z"
   },
   {
    "duration": 25,
    "start_time": "2022-09-06T11:19:52.326Z"
   },
   {
    "duration": 6,
    "start_time": "2022-09-06T11:19:52.352Z"
   },
   {
    "duration": 102,
    "start_time": "2022-09-06T11:19:52.359Z"
   },
   {
    "duration": 39,
    "start_time": "2022-09-06T11:19:52.463Z"
   },
   {
    "duration": 34,
    "start_time": "2022-09-06T11:19:52.503Z"
   },
   {
    "duration": 6,
    "start_time": "2022-09-06T11:19:52.539Z"
   },
   {
    "duration": 12,
    "start_time": "2022-09-06T11:19:52.547Z"
   },
   {
    "duration": 24,
    "start_time": "2022-09-06T11:19:52.561Z"
   },
   {
    "duration": 3,
    "start_time": "2022-09-06T11:19:52.587Z"
   },
   {
    "duration": 9,
    "start_time": "2022-09-06T11:19:52.592Z"
   },
   {
    "duration": 7,
    "start_time": "2022-09-06T11:19:52.602Z"
   },
   {
    "duration": 11,
    "start_time": "2022-09-06T11:19:52.611Z"
   },
   {
    "duration": 50,
    "start_time": "2022-09-06T11:19:52.623Z"
   },
   {
    "duration": 14,
    "start_time": "2022-09-06T11:19:52.675Z"
   },
   {
    "duration": 9,
    "start_time": "2022-09-06T11:19:52.690Z"
   },
   {
    "duration": 9,
    "start_time": "2022-09-06T11:19:52.701Z"
   },
   {
    "duration": 6,
    "start_time": "2022-09-06T11:19:52.711Z"
   },
   {
    "duration": 11,
    "start_time": "2022-09-06T11:19:52.719Z"
   },
   {
    "duration": 5,
    "start_time": "2022-09-06T11:19:52.731Z"
   },
   {
    "duration": 7,
    "start_time": "2022-09-06T11:19:52.737Z"
   },
   {
    "duration": 3,
    "start_time": "2022-09-06T11:25:29.618Z"
   },
   {
    "duration": 360,
    "start_time": "2022-09-06T11:25:29.623Z"
   },
   {
    "duration": 44,
    "start_time": "2022-09-06T11:25:29.984Z"
   },
   {
    "duration": 62,
    "start_time": "2022-09-06T11:25:30.030Z"
   },
   {
    "duration": 20,
    "start_time": "2022-09-06T11:25:30.094Z"
   },
   {
    "duration": 19,
    "start_time": "2022-09-06T11:25:30.115Z"
   },
   {
    "duration": 37,
    "start_time": "2022-09-06T11:25:30.136Z"
   },
   {
    "duration": 13,
    "start_time": "2022-09-06T11:25:30.174Z"
   },
   {
    "duration": 44,
    "start_time": "2022-09-06T11:25:30.189Z"
   },
   {
    "duration": 54,
    "start_time": "2022-09-06T11:25:30.234Z"
   },
   {
    "duration": 20,
    "start_time": "2022-09-06T11:25:30.289Z"
   },
   {
    "duration": 18,
    "start_time": "2022-09-06T11:25:30.311Z"
   },
   {
    "duration": 5,
    "start_time": "2022-09-06T11:25:30.331Z"
   },
   {
    "duration": 23,
    "start_time": "2022-09-06T11:25:30.337Z"
   },
   {
    "duration": 26,
    "start_time": "2022-09-06T11:25:30.361Z"
   },
   {
    "duration": 25,
    "start_time": "2022-09-06T11:25:30.389Z"
   },
   {
    "duration": 7,
    "start_time": "2022-09-06T11:25:30.416Z"
   },
   {
    "duration": 98,
    "start_time": "2022-09-06T11:25:30.424Z"
   },
   {
    "duration": 38,
    "start_time": "2022-09-06T11:25:30.524Z"
   },
   {
    "duration": 50,
    "start_time": "2022-09-06T11:25:30.564Z"
   },
   {
    "duration": 7,
    "start_time": "2022-09-06T11:25:30.615Z"
   },
   {
    "duration": 18,
    "start_time": "2022-09-06T11:25:30.624Z"
   },
   {
    "duration": 18,
    "start_time": "2022-09-06T11:25:30.644Z"
   },
   {
    "duration": 20,
    "start_time": "2022-09-06T11:25:30.665Z"
   },
   {
    "duration": 19,
    "start_time": "2022-09-06T11:25:30.687Z"
   },
   {
    "duration": 34,
    "start_time": "2022-09-06T11:25:30.707Z"
   },
   {
    "duration": 14,
    "start_time": "2022-09-06T11:25:30.743Z"
   },
   {
    "duration": 58,
    "start_time": "2022-09-06T11:25:30.758Z"
   },
   {
    "duration": 9,
    "start_time": "2022-09-06T11:25:30.817Z"
   },
   {
    "duration": 16,
    "start_time": "2022-09-06T11:25:30.828Z"
   },
   {
    "duration": 14,
    "start_time": "2022-09-06T11:25:30.846Z"
   },
   {
    "duration": 14,
    "start_time": "2022-09-06T11:25:30.862Z"
   },
   {
    "duration": 73,
    "start_time": "2022-09-06T11:25:30.878Z"
   },
   {
    "duration": 10,
    "start_time": "2022-09-06T11:25:30.953Z"
   },
   {
    "duration": 98,
    "start_time": "2022-09-06T11:25:30.965Z"
   },
   {
    "duration": 11,
    "start_time": "2022-09-06T11:25:31.064Z"
   },
   {
    "duration": 56,
    "start_time": "2022-09-06T11:25:31.077Z"
   },
   {
    "duration": 51,
    "start_time": "2022-09-06T11:25:31.135Z"
   },
   {
    "duration": 3,
    "start_time": "2022-09-06T11:25:31.187Z"
   },
   {
    "duration": 9,
    "start_time": "2022-09-06T11:25:31.191Z"
   },
   {
    "duration": 14,
    "start_time": "2022-09-06T11:25:31.202Z"
   },
   {
    "duration": 7,
    "start_time": "2022-09-06T11:25:31.218Z"
   },
   {
    "duration": 15,
    "start_time": "2022-09-06T11:25:31.226Z"
   },
   {
    "duration": 31,
    "start_time": "2022-09-06T11:25:31.243Z"
   },
   {
    "duration": 17,
    "start_time": "2022-09-06T11:25:31.275Z"
   },
   {
    "duration": 2,
    "start_time": "2022-09-06T11:26:52.472Z"
   },
   {
    "duration": 366,
    "start_time": "2022-09-06T11:26:52.476Z"
   },
   {
    "duration": 53,
    "start_time": "2022-09-06T11:26:52.844Z"
   },
   {
    "duration": 53,
    "start_time": "2022-09-06T11:26:52.898Z"
   },
   {
    "duration": 36,
    "start_time": "2022-09-06T11:26:52.953Z"
   },
   {
    "duration": 16,
    "start_time": "2022-09-06T11:26:52.991Z"
   },
   {
    "duration": 19,
    "start_time": "2022-09-06T11:26:53.009Z"
   },
   {
    "duration": 17,
    "start_time": "2022-09-06T11:26:53.030Z"
   },
   {
    "duration": 36,
    "start_time": "2022-09-06T11:26:53.049Z"
   },
   {
    "duration": 27,
    "start_time": "2022-09-06T11:26:53.087Z"
   },
   {
    "duration": 21,
    "start_time": "2022-09-06T11:26:53.117Z"
   },
   {
    "duration": 20,
    "start_time": "2022-09-06T11:26:53.140Z"
   },
   {
    "duration": 26,
    "start_time": "2022-09-06T11:26:53.162Z"
   },
   {
    "duration": 15,
    "start_time": "2022-09-06T11:26:53.189Z"
   },
   {
    "duration": 10,
    "start_time": "2022-09-06T11:26:53.205Z"
   },
   {
    "duration": 8,
    "start_time": "2022-09-06T11:26:53.216Z"
   },
   {
    "duration": 5,
    "start_time": "2022-09-06T11:26:53.226Z"
   },
   {
    "duration": 112,
    "start_time": "2022-09-06T11:26:53.232Z"
   },
   {
    "duration": 32,
    "start_time": "2022-09-06T11:26:53.345Z"
   },
   {
    "duration": 40,
    "start_time": "2022-09-06T11:26:53.385Z"
   },
   {
    "duration": 6,
    "start_time": "2022-09-06T11:26:53.427Z"
   },
   {
    "duration": 10,
    "start_time": "2022-09-06T11:26:53.435Z"
   },
   {
    "duration": 8,
    "start_time": "2022-09-06T11:26:53.446Z"
   },
   {
    "duration": 31,
    "start_time": "2022-09-06T11:26:53.456Z"
   },
   {
    "duration": 5,
    "start_time": "2022-09-06T11:26:53.488Z"
   },
   {
    "duration": 15,
    "start_time": "2022-09-06T11:26:53.494Z"
   },
   {
    "duration": 5,
    "start_time": "2022-09-06T11:26:53.510Z"
   },
   {
    "duration": 51,
    "start_time": "2022-09-06T11:26:53.517Z"
   },
   {
    "duration": 10,
    "start_time": "2022-09-06T11:26:53.587Z"
   },
   {
    "duration": 8,
    "start_time": "2022-09-06T11:26:53.600Z"
   },
   {
    "duration": 10,
    "start_time": "2022-09-06T11:26:53.610Z"
   },
   {
    "duration": 5,
    "start_time": "2022-09-06T11:26:53.622Z"
   },
   {
    "duration": 102,
    "start_time": "2022-09-06T11:26:53.629Z"
   },
   {
    "duration": 11,
    "start_time": "2022-09-06T11:26:53.733Z"
   },
   {
    "duration": 93,
    "start_time": "2022-09-06T11:26:53.746Z"
   },
   {
    "duration": 10,
    "start_time": "2022-09-06T11:26:53.841Z"
   },
   {
    "duration": 48,
    "start_time": "2022-09-06T11:26:53.852Z"
   },
   {
    "duration": 36,
    "start_time": "2022-09-06T11:26:53.902Z"
   },
   {
    "duration": 3,
    "start_time": "2022-09-06T11:26:53.940Z"
   },
   {
    "duration": 14,
    "start_time": "2022-09-06T11:26:53.944Z"
   },
   {
    "duration": 25,
    "start_time": "2022-09-06T11:26:53.960Z"
   },
   {
    "duration": 29,
    "start_time": "2022-09-06T11:26:53.987Z"
   },
   {
    "duration": 7,
    "start_time": "2022-09-06T11:26:54.018Z"
   },
   {
    "duration": 6,
    "start_time": "2022-09-06T11:26:54.027Z"
   },
   {
    "duration": 28,
    "start_time": "2022-09-06T11:26:54.035Z"
   },
   {
    "duration": 23,
    "start_time": "2022-09-06T11:26:54.065Z"
   },
   {
    "duration": 5,
    "start_time": "2022-09-06T11:27:17.881Z"
   },
   {
    "duration": 18,
    "start_time": "2022-09-06T11:27:20.834Z"
   },
   {
    "duration": 6,
    "start_time": "2022-09-06T11:27:27.153Z"
   },
   {
    "duration": 4,
    "start_time": "2022-09-06T11:32:54.978Z"
   },
   {
    "duration": 5,
    "start_time": "2022-09-06T11:32:57.529Z"
   },
   {
    "duration": 17,
    "start_time": "2022-09-06T11:33:06.531Z"
   },
   {
    "duration": 4,
    "start_time": "2022-09-06T11:33:28.327Z"
   },
   {
    "duration": 4,
    "start_time": "2022-09-06T11:33:30.353Z"
   },
   {
    "duration": 4499,
    "start_time": "2022-09-06T11:33:32.731Z"
   },
   {
    "duration": 11,
    "start_time": "2022-09-06T11:33:37.231Z"
   },
   {
    "duration": 4,
    "start_time": "2022-09-06T11:35:04.642Z"
   },
   {
    "duration": 21,
    "start_time": "2022-09-06T11:35:07.237Z"
   },
   {
    "duration": 2,
    "start_time": "2022-09-06T11:35:30.316Z"
   },
   {
    "duration": 388,
    "start_time": "2022-09-06T11:35:30.320Z"
   },
   {
    "duration": 48,
    "start_time": "2022-09-06T11:35:30.710Z"
   },
   {
    "duration": 47,
    "start_time": "2022-09-06T11:35:30.760Z"
   },
   {
    "duration": 21,
    "start_time": "2022-09-06T11:35:30.809Z"
   },
   {
    "duration": 22,
    "start_time": "2022-09-06T11:35:30.831Z"
   },
   {
    "duration": 34,
    "start_time": "2022-09-06T11:35:30.855Z"
   },
   {
    "duration": 8,
    "start_time": "2022-09-06T11:35:30.890Z"
   },
   {
    "duration": 45,
    "start_time": "2022-09-06T11:35:30.899Z"
   },
   {
    "duration": 27,
    "start_time": "2022-09-06T11:35:30.946Z"
   },
   {
    "duration": 22,
    "start_time": "2022-09-06T11:35:30.974Z"
   },
   {
    "duration": 35,
    "start_time": "2022-09-06T11:35:30.998Z"
   },
   {
    "duration": 17,
    "start_time": "2022-09-06T11:35:31.035Z"
   },
   {
    "duration": 17,
    "start_time": "2022-09-06T11:35:31.054Z"
   },
   {
    "duration": 9,
    "start_time": "2022-09-06T11:35:31.073Z"
   },
   {
    "duration": 15,
    "start_time": "2022-09-06T11:35:31.083Z"
   },
   {
    "duration": 7,
    "start_time": "2022-09-06T11:35:31.100Z"
   },
   {
    "duration": 104,
    "start_time": "2022-09-06T11:35:31.108Z"
   },
   {
    "duration": 35,
    "start_time": "2022-09-06T11:35:31.214Z"
   },
   {
    "duration": 50,
    "start_time": "2022-09-06T11:35:31.250Z"
   },
   {
    "duration": 7,
    "start_time": "2022-09-06T11:35:31.302Z"
   },
   {
    "duration": 13,
    "start_time": "2022-09-06T11:35:31.311Z"
   },
   {
    "duration": 7,
    "start_time": "2022-09-06T11:35:31.326Z"
   },
   {
    "duration": 10,
    "start_time": "2022-09-06T11:35:31.335Z"
   },
   {
    "duration": 11,
    "start_time": "2022-09-06T11:35:31.346Z"
   },
   {
    "duration": 8,
    "start_time": "2022-09-06T11:35:31.358Z"
   },
   {
    "duration": 19,
    "start_time": "2022-09-06T11:35:31.368Z"
   },
   {
    "duration": 50,
    "start_time": "2022-09-06T11:35:31.389Z"
   },
   {
    "duration": 8,
    "start_time": "2022-09-06T11:35:31.440Z"
   },
   {
    "duration": 16,
    "start_time": "2022-09-06T11:35:31.450Z"
   },
   {
    "duration": 19,
    "start_time": "2022-09-06T11:35:31.467Z"
   },
   {
    "duration": 16,
    "start_time": "2022-09-06T11:35:31.488Z"
   },
   {
    "duration": 73,
    "start_time": "2022-09-06T11:35:31.505Z"
   },
   {
    "duration": 10,
    "start_time": "2022-09-06T11:35:31.579Z"
   },
   {
    "duration": 94,
    "start_time": "2022-09-06T11:35:31.590Z"
   },
   {
    "duration": 9,
    "start_time": "2022-09-06T11:35:31.686Z"
   },
   {
    "duration": 37,
    "start_time": "2022-09-06T11:35:31.696Z"
   },
   {
    "duration": 52,
    "start_time": "2022-09-06T11:35:31.735Z"
   },
   {
    "duration": 3,
    "start_time": "2022-09-06T11:35:31.788Z"
   },
   {
    "duration": 8,
    "start_time": "2022-09-06T11:35:31.792Z"
   },
   {
    "duration": 25,
    "start_time": "2022-09-06T11:35:31.803Z"
   },
   {
    "duration": 20,
    "start_time": "2022-09-06T11:35:31.829Z"
   },
   {
    "duration": 6,
    "start_time": "2022-09-06T11:35:31.850Z"
   },
   {
    "duration": 6,
    "start_time": "2022-09-06T11:35:31.857Z"
   },
   {
    "duration": 26,
    "start_time": "2022-09-06T11:35:31.864Z"
   },
   {
    "duration": 5,
    "start_time": "2022-09-06T11:35:31.892Z"
   },
   {
    "duration": 5,
    "start_time": "2022-09-06T11:35:31.898Z"
   },
   {
    "duration": 11,
    "start_time": "2022-09-06T11:35:31.904Z"
   },
   {
    "duration": 4293,
    "start_time": "2022-09-06T11:35:31.916Z"
   },
   {
    "duration": 11,
    "start_time": "2022-09-06T11:35:36.211Z"
   },
   {
    "duration": 4,
    "start_time": "2022-09-06T11:43:21.821Z"
   },
   {
    "duration": 5,
    "start_time": "2022-09-06T11:43:24.262Z"
   },
   {
    "duration": 2,
    "start_time": "2022-09-06T11:43:43.069Z"
   },
   {
    "duration": 406,
    "start_time": "2022-09-06T11:43:43.073Z"
   },
   {
    "duration": 70,
    "start_time": "2022-09-06T11:43:43.481Z"
   },
   {
    "duration": 67,
    "start_time": "2022-09-06T11:43:43.552Z"
   },
   {
    "duration": 33,
    "start_time": "2022-09-06T11:43:43.621Z"
   },
   {
    "duration": 38,
    "start_time": "2022-09-06T11:43:43.656Z"
   },
   {
    "duration": 22,
    "start_time": "2022-09-06T11:43:43.696Z"
   },
   {
    "duration": 8,
    "start_time": "2022-09-06T11:43:43.720Z"
   },
   {
    "duration": 17,
    "start_time": "2022-09-06T11:43:43.729Z"
   },
   {
    "duration": 53,
    "start_time": "2022-09-06T11:43:43.748Z"
   },
   {
    "duration": 20,
    "start_time": "2022-09-06T11:43:43.802Z"
   },
   {
    "duration": 16,
    "start_time": "2022-09-06T11:43:43.824Z"
   },
   {
    "duration": 7,
    "start_time": "2022-09-06T11:43:43.841Z"
   },
   {
    "duration": 17,
    "start_time": "2022-09-06T11:43:43.850Z"
   },
   {
    "duration": 22,
    "start_time": "2022-09-06T11:43:43.869Z"
   },
   {
    "duration": 9,
    "start_time": "2022-09-06T11:43:43.893Z"
   },
   {
    "duration": 6,
    "start_time": "2022-09-06T11:43:43.903Z"
   },
   {
    "duration": 104,
    "start_time": "2022-09-06T11:43:43.911Z"
   },
   {
    "duration": 34,
    "start_time": "2022-09-06T11:43:44.017Z"
   },
   {
    "duration": 49,
    "start_time": "2022-09-06T11:43:44.052Z"
   },
   {
    "duration": 9,
    "start_time": "2022-09-06T11:43:44.102Z"
   },
   {
    "duration": 14,
    "start_time": "2022-09-06T11:43:44.113Z"
   },
   {
    "duration": 11,
    "start_time": "2022-09-06T11:43:44.129Z"
   },
   {
    "duration": 16,
    "start_time": "2022-09-06T11:43:44.141Z"
   },
   {
    "duration": 26,
    "start_time": "2022-09-06T11:43:44.159Z"
   },
   {
    "duration": 6,
    "start_time": "2022-09-06T11:43:44.187Z"
   },
   {
    "duration": 5,
    "start_time": "2022-09-06T11:43:44.195Z"
   },
   {
    "duration": 46,
    "start_time": "2022-09-06T11:43:44.201Z"
   },
   {
    "duration": 7,
    "start_time": "2022-09-06T11:43:44.249Z"
   },
   {
    "duration": 33,
    "start_time": "2022-09-06T11:43:44.257Z"
   },
   {
    "duration": 10,
    "start_time": "2022-09-06T11:43:44.292Z"
   },
   {
    "duration": 7,
    "start_time": "2022-09-06T11:43:44.304Z"
   },
   {
    "duration": 100,
    "start_time": "2022-09-06T11:43:44.313Z"
   },
   {
    "duration": 11,
    "start_time": "2022-09-06T11:43:44.415Z"
   },
   {
    "duration": 105,
    "start_time": "2022-09-06T11:43:44.428Z"
   },
   {
    "duration": 13,
    "start_time": "2022-09-06T11:43:44.535Z"
   },
   {
    "duration": 64,
    "start_time": "2022-09-06T11:43:44.550Z"
   },
   {
    "duration": 39,
    "start_time": "2022-09-06T11:43:44.616Z"
   },
   {
    "duration": 3,
    "start_time": "2022-09-06T11:43:44.656Z"
   },
   {
    "duration": 28,
    "start_time": "2022-09-06T11:43:44.661Z"
   },
   {
    "duration": 12,
    "start_time": "2022-09-06T11:43:44.692Z"
   },
   {
    "duration": 20,
    "start_time": "2022-09-06T11:43:44.706Z"
   },
   {
    "duration": 5,
    "start_time": "2022-09-06T11:43:44.728Z"
   },
   {
    "duration": 6,
    "start_time": "2022-09-06T11:43:44.735Z"
   },
   {
    "duration": 51,
    "start_time": "2022-09-06T11:43:44.742Z"
   },
   {
    "duration": 6,
    "start_time": "2022-09-06T11:43:44.794Z"
   },
   {
    "duration": 5,
    "start_time": "2022-09-06T11:43:44.801Z"
   },
   {
    "duration": 5,
    "start_time": "2022-09-06T11:43:44.808Z"
   },
   {
    "duration": 4204,
    "start_time": "2022-09-06T11:43:44.814Z"
   },
   {
    "duration": 10,
    "start_time": "2022-09-06T11:43:49.020Z"
   },
   {
    "duration": 5,
    "start_time": "2022-09-06T11:43:54.767Z"
   },
   {
    "duration": 5,
    "start_time": "2022-09-06T11:46:07.826Z"
   },
   {
    "duration": 4,
    "start_time": "2022-09-06T11:46:23.281Z"
   },
   {
    "duration": 4,
    "start_time": "2022-09-06T11:46:25.614Z"
   },
   {
    "duration": 8,
    "start_time": "2022-09-06T11:47:13.073Z"
   },
   {
    "duration": 19,
    "start_time": "2022-09-06T11:47:50.888Z"
   },
   {
    "duration": 7,
    "start_time": "2022-09-06T11:47:56.147Z"
   },
   {
    "duration": 4,
    "start_time": "2022-09-06T11:48:18.198Z"
   },
   {
    "duration": 12,
    "start_time": "2022-09-06T11:48:23.435Z"
   },
   {
    "duration": 5,
    "start_time": "2022-09-06T11:48:34.513Z"
   },
   {
    "duration": 22,
    "start_time": "2022-09-06T11:49:10.330Z"
   },
   {
    "duration": 2,
    "start_time": "2022-09-06T11:49:19.723Z"
   },
   {
    "duration": 369,
    "start_time": "2022-09-06T11:49:19.727Z"
   },
   {
    "duration": 47,
    "start_time": "2022-09-06T11:49:20.097Z"
   },
   {
    "duration": 47,
    "start_time": "2022-09-06T11:49:20.145Z"
   },
   {
    "duration": 18,
    "start_time": "2022-09-06T11:49:20.193Z"
   },
   {
    "duration": 28,
    "start_time": "2022-09-06T11:49:20.212Z"
   },
   {
    "duration": 20,
    "start_time": "2022-09-06T11:49:20.241Z"
   },
   {
    "duration": 15,
    "start_time": "2022-09-06T11:49:20.263Z"
   },
   {
    "duration": 21,
    "start_time": "2022-09-06T11:49:20.280Z"
   },
   {
    "duration": 44,
    "start_time": "2022-09-06T11:49:20.302Z"
   },
   {
    "duration": 19,
    "start_time": "2022-09-06T11:49:20.348Z"
   },
   {
    "duration": 15,
    "start_time": "2022-09-06T11:49:20.368Z"
   },
   {
    "duration": 13,
    "start_time": "2022-09-06T11:49:20.385Z"
   },
   {
    "duration": 22,
    "start_time": "2022-09-06T11:49:20.399Z"
   },
   {
    "duration": 27,
    "start_time": "2022-09-06T11:49:20.422Z"
   },
   {
    "duration": 13,
    "start_time": "2022-09-06T11:49:20.450Z"
   },
   {
    "duration": 9,
    "start_time": "2022-09-06T11:49:20.464Z"
   },
   {
    "duration": 80,
    "start_time": "2022-09-06T11:49:20.474Z"
   },
   {
    "duration": 35,
    "start_time": "2022-09-06T11:49:20.556Z"
   },
   {
    "duration": 34,
    "start_time": "2022-09-06T11:49:20.592Z"
   },
   {
    "duration": 5,
    "start_time": "2022-09-06T11:49:20.628Z"
   },
   {
    "duration": 29,
    "start_time": "2022-09-06T11:49:20.634Z"
   },
   {
    "duration": 19,
    "start_time": "2022-09-06T11:49:20.664Z"
   },
   {
    "duration": 14,
    "start_time": "2022-09-06T11:49:20.686Z"
   },
   {
    "duration": 16,
    "start_time": "2022-09-06T11:49:20.701Z"
   },
   {
    "duration": 9,
    "start_time": "2022-09-06T11:49:20.718Z"
   },
   {
    "duration": 21,
    "start_time": "2022-09-06T11:49:20.729Z"
   },
   {
    "duration": 51,
    "start_time": "2022-09-06T11:49:20.751Z"
   },
   {
    "duration": 8,
    "start_time": "2022-09-06T11:49:20.803Z"
   },
   {
    "duration": 23,
    "start_time": "2022-09-06T11:49:20.813Z"
   },
   {
    "duration": 10,
    "start_time": "2022-09-06T11:49:20.837Z"
   },
   {
    "duration": 12,
    "start_time": "2022-09-06T11:49:20.848Z"
   },
   {
    "duration": 62,
    "start_time": "2022-09-06T11:49:20.861Z"
   },
   {
    "duration": 6,
    "start_time": "2022-09-06T11:49:20.925Z"
   },
   {
    "duration": 17,
    "start_time": "2022-09-06T11:49:20.932Z"
   },
   {
    "duration": 11,
    "start_time": "2022-09-06T11:49:20.951Z"
   },
   {
    "duration": 22,
    "start_time": "2022-09-06T11:49:20.963Z"
   },
   {
    "duration": 69,
    "start_time": "2022-09-06T11:49:20.987Z"
   },
   {
    "duration": 10,
    "start_time": "2022-09-06T11:49:21.057Z"
   },
   {
    "duration": 46,
    "start_time": "2022-09-06T11:49:21.068Z"
   },
   {
    "duration": 36,
    "start_time": "2022-09-06T11:49:21.116Z"
   },
   {
    "duration": 3,
    "start_time": "2022-09-06T11:49:21.154Z"
   },
   {
    "duration": 6,
    "start_time": "2022-09-06T11:49:21.184Z"
   },
   {
    "duration": 10,
    "start_time": "2022-09-06T11:49:21.192Z"
   },
   {
    "duration": 19,
    "start_time": "2022-09-06T11:49:21.204Z"
   },
   {
    "duration": 7,
    "start_time": "2022-09-06T11:49:21.224Z"
   },
   {
    "duration": 6,
    "start_time": "2022-09-06T11:49:21.232Z"
   },
   {
    "duration": 19,
    "start_time": "2022-09-06T11:49:21.239Z"
   },
   {
    "duration": 5,
    "start_time": "2022-09-06T11:49:21.285Z"
   },
   {
    "duration": 5,
    "start_time": "2022-09-06T11:49:21.292Z"
   },
   {
    "duration": 10,
    "start_time": "2022-09-06T11:49:21.298Z"
   },
   {
    "duration": 4289,
    "start_time": "2022-09-06T11:49:21.309Z"
   },
   {
    "duration": 11,
    "start_time": "2022-09-06T11:49:25.600Z"
   },
   {
    "duration": 22,
    "start_time": "2022-09-06T11:49:25.612Z"
   },
   {
    "duration": 5,
    "start_time": "2022-09-06T11:50:48.972Z"
   },
   {
    "duration": 17,
    "start_time": "2022-09-06T11:50:52.388Z"
   },
   {
    "duration": 8,
    "start_time": "2022-09-06T11:50:58.885Z"
   },
   {
    "duration": 5,
    "start_time": "2022-09-06T11:51:07.896Z"
   },
   {
    "duration": 4,
    "start_time": "2022-09-06T11:51:13.246Z"
   },
   {
    "duration": 4275,
    "start_time": "2022-09-06T11:51:15.559Z"
   },
   {
    "duration": 10,
    "start_time": "2022-09-06T11:51:19.836Z"
   },
   {
    "duration": 4,
    "start_time": "2022-09-06T11:51:23.438Z"
   },
   {
    "duration": 27,
    "start_time": "2022-09-06T11:53:01.840Z"
   },
   {
    "duration": 8,
    "start_time": "2022-09-06T11:53:04.818Z"
   },
   {
    "duration": 9,
    "start_time": "2022-09-06T11:53:18.131Z"
   },
   {
    "duration": 9,
    "start_time": "2022-09-06T11:53:45.791Z"
   },
   {
    "duration": 16,
    "start_time": "2022-09-06T11:53:48.133Z"
   },
   {
    "duration": 8,
    "start_time": "2022-09-06T11:53:56.685Z"
   },
   {
    "duration": 19,
    "start_time": "2022-09-06T11:57:44.672Z"
   },
   {
    "duration": 11,
    "start_time": "2022-09-06T11:57:46.785Z"
   },
   {
    "duration": 7,
    "start_time": "2022-09-06T11:57:50.103Z"
   },
   {
    "duration": 6,
    "start_time": "2022-09-06T11:57:53.013Z"
   },
   {
    "duration": 19,
    "start_time": "2022-09-06T11:57:55.940Z"
   },
   {
    "duration": 5,
    "start_time": "2022-09-06T11:57:58.535Z"
   },
   {
    "duration": 5,
    "start_time": "2022-09-06T11:58:02.847Z"
   },
   {
    "duration": 5,
    "start_time": "2022-09-06T11:58:05.058Z"
   },
   {
    "duration": 4392,
    "start_time": "2022-09-06T11:58:09.036Z"
   },
   {
    "duration": 11,
    "start_time": "2022-09-06T11:58:15.378Z"
   },
   {
    "duration": 4,
    "start_time": "2022-09-06T11:58:18.734Z"
   },
   {
    "duration": 27,
    "start_time": "2022-09-06T11:59:52.376Z"
   },
   {
    "duration": 33,
    "start_time": "2022-09-06T12:00:00.086Z"
   },
   {
    "duration": 15,
    "start_time": "2022-09-06T12:00:39.817Z"
   },
   {
    "duration": 14,
    "start_time": "2022-09-06T12:00:58.896Z"
   },
   {
    "duration": 19,
    "start_time": "2022-09-06T12:01:12.832Z"
   },
   {
    "duration": 16,
    "start_time": "2022-09-06T12:03:11.240Z"
   },
   {
    "duration": 19,
    "start_time": "2022-09-06T12:03:39.485Z"
   },
   {
    "duration": 27,
    "start_time": "2022-09-06T12:03:49.292Z"
   },
   {
    "duration": 13,
    "start_time": "2022-09-06T12:03:53.973Z"
   },
   {
    "duration": 14,
    "start_time": "2022-09-06T12:08:30.378Z"
   },
   {
    "duration": 25,
    "start_time": "2022-09-06T12:08:52.846Z"
   },
   {
    "duration": 79,
    "start_time": "2022-09-06T12:10:14.387Z"
   },
   {
    "duration": 10,
    "start_time": "2022-09-06T12:10:17.588Z"
   },
   {
    "duration": 34,
    "start_time": "2022-09-06T12:10:33.822Z"
   },
   {
    "duration": 32,
    "start_time": "2022-09-06T12:10:44.642Z"
   },
   {
    "duration": 3,
    "start_time": "2022-09-06T12:10:49.029Z"
   },
   {
    "duration": 5,
    "start_time": "2022-09-06T12:10:51.816Z"
   },
   {
    "duration": 9,
    "start_time": "2022-09-06T12:10:53.981Z"
   },
   {
    "duration": 16,
    "start_time": "2022-09-06T12:10:56.410Z"
   },
   {
    "duration": 13,
    "start_time": "2022-09-06T12:11:08.887Z"
   },
   {
    "duration": 17,
    "start_time": "2022-09-06T12:11:12.282Z"
   },
   {
    "duration": 17,
    "start_time": "2022-09-06T12:11:16.689Z"
   },
   {
    "duration": 13,
    "start_time": "2022-09-06T12:11:19.219Z"
   },
   {
    "duration": 6,
    "start_time": "2022-09-06T12:11:22.202Z"
   },
   {
    "duration": 5,
    "start_time": "2022-09-06T12:11:25.096Z"
   },
   {
    "duration": 18,
    "start_time": "2022-09-06T12:11:28.788Z"
   },
   {
    "duration": 6,
    "start_time": "2022-09-06T12:11:37.603Z"
   },
   {
    "duration": 4,
    "start_time": "2022-09-06T12:11:51.838Z"
   },
   {
    "duration": 5,
    "start_time": "2022-09-06T12:11:54.236Z"
   },
   {
    "duration": 5,
    "start_time": "2022-09-06T12:11:56.966Z"
   },
   {
    "duration": 4,
    "start_time": "2022-09-06T12:11:58.795Z"
   },
   {
    "duration": 3,
    "start_time": "2022-09-06T12:12:01.245Z"
   },
   {
    "duration": 4375,
    "start_time": "2022-09-06T12:12:03.041Z"
   },
   {
    "duration": 12,
    "start_time": "2022-09-06T12:12:07.417Z"
   },
   {
    "duration": 3,
    "start_time": "2022-09-06T12:12:16.018Z"
   },
   {
    "duration": 4,
    "start_time": "2022-09-06T12:12:21.287Z"
   },
   {
    "duration": 3,
    "start_time": "2022-09-06T12:13:08.449Z"
   },
   {
    "duration": 364,
    "start_time": "2022-09-06T12:13:08.453Z"
   },
   {
    "duration": 47,
    "start_time": "2022-09-06T12:13:08.818Z"
   },
   {
    "duration": 43,
    "start_time": "2022-09-06T12:13:08.868Z"
   },
   {
    "duration": 19,
    "start_time": "2022-09-06T12:13:08.912Z"
   },
   {
    "duration": 13,
    "start_time": "2022-09-06T12:13:08.932Z"
   },
   {
    "duration": 18,
    "start_time": "2022-09-06T12:13:08.946Z"
   },
   {
    "duration": 24,
    "start_time": "2022-09-06T12:13:08.965Z"
   },
   {
    "duration": 25,
    "start_time": "2022-09-06T12:13:08.992Z"
   },
   {
    "duration": 27,
    "start_time": "2022-09-06T12:13:09.018Z"
   },
   {
    "duration": 20,
    "start_time": "2022-09-06T12:13:09.046Z"
   },
   {
    "duration": 25,
    "start_time": "2022-09-06T12:13:09.067Z"
   },
   {
    "duration": 4,
    "start_time": "2022-09-06T12:13:09.094Z"
   },
   {
    "duration": 13,
    "start_time": "2022-09-06T12:13:09.100Z"
   },
   {
    "duration": 9,
    "start_time": "2022-09-06T12:13:09.115Z"
   },
   {
    "duration": 13,
    "start_time": "2022-09-06T12:13:09.125Z"
   },
   {
    "duration": 10,
    "start_time": "2022-09-06T12:13:09.139Z"
   },
   {
    "duration": 87,
    "start_time": "2022-09-06T12:13:09.150Z"
   },
   {
    "duration": 31,
    "start_time": "2022-09-06T12:13:09.239Z"
   },
   {
    "duration": 32,
    "start_time": "2022-09-06T12:13:09.285Z"
   },
   {
    "duration": 6,
    "start_time": "2022-09-06T12:13:09.318Z"
   },
   {
    "duration": 10,
    "start_time": "2022-09-06T12:13:09.326Z"
   },
   {
    "duration": 6,
    "start_time": "2022-09-06T12:13:09.337Z"
   },
   {
    "duration": 8,
    "start_time": "2022-09-06T12:13:09.346Z"
   },
   {
    "duration": 6,
    "start_time": "2022-09-06T12:13:09.355Z"
   },
   {
    "duration": 24,
    "start_time": "2022-09-06T12:13:09.362Z"
   },
   {
    "duration": 6,
    "start_time": "2022-09-06T12:13:09.387Z"
   },
   {
    "duration": 49,
    "start_time": "2022-09-06T12:13:09.394Z"
   },
   {
    "duration": 8,
    "start_time": "2022-09-06T12:13:09.445Z"
   },
   {
    "duration": 13,
    "start_time": "2022-09-06T12:13:09.454Z"
   },
   {
    "duration": 17,
    "start_time": "2022-09-06T12:13:09.469Z"
   },
   {
    "duration": 6,
    "start_time": "2022-09-06T12:13:09.488Z"
   },
   {
    "duration": 61,
    "start_time": "2022-09-06T12:13:09.495Z"
   },
   {
    "duration": 4,
    "start_time": "2022-09-06T12:13:09.558Z"
   },
   {
    "duration": 7,
    "start_time": "2022-09-06T12:13:09.563Z"
   },
   {
    "duration": 17,
    "start_time": "2022-09-06T12:13:09.571Z"
   },
   {
    "duration": 13,
    "start_time": "2022-09-06T12:13:09.590Z"
   },
   {
    "duration": 17,
    "start_time": "2022-09-06T12:13:09.604Z"
   },
   {
    "duration": 18,
    "start_time": "2022-09-06T12:13:09.623Z"
   },
   {
    "duration": 9,
    "start_time": "2022-09-06T12:13:09.643Z"
   },
   {
    "duration": 97,
    "start_time": "2022-09-06T12:13:09.653Z"
   },
   {
    "duration": 9,
    "start_time": "2022-09-06T12:13:09.751Z"
   },
   {
    "duration": 42,
    "start_time": "2022-09-06T12:13:09.761Z"
   },
   {
    "duration": 34,
    "start_time": "2022-09-06T12:13:09.804Z"
   },
   {
    "duration": 3,
    "start_time": "2022-09-06T12:13:09.839Z"
   },
   {
    "duration": 8,
    "start_time": "2022-09-06T12:13:09.843Z"
   },
   {
    "duration": 12,
    "start_time": "2022-09-06T12:13:09.852Z"
   },
   {
    "duration": 34,
    "start_time": "2022-09-06T12:13:09.865Z"
   },
   {
    "duration": 15,
    "start_time": "2022-09-06T12:13:09.901Z"
   },
   {
    "duration": 15,
    "start_time": "2022-09-06T12:13:09.918Z"
   },
   {
    "duration": 18,
    "start_time": "2022-09-06T12:13:09.935Z"
   },
   {
    "duration": 39,
    "start_time": "2022-09-06T12:13:09.955Z"
   },
   {
    "duration": 10,
    "start_time": "2022-09-06T12:13:09.996Z"
   },
   {
    "duration": 9,
    "start_time": "2022-09-06T12:13:10.007Z"
   },
   {
    "duration": 23,
    "start_time": "2022-09-06T12:13:10.018Z"
   },
   {
    "duration": 8,
    "start_time": "2022-09-06T12:13:10.042Z"
   },
   {
    "duration": 13,
    "start_time": "2022-09-06T12:13:10.051Z"
   },
   {
    "duration": 12,
    "start_time": "2022-09-06T12:13:10.065Z"
   },
   {
    "duration": 4372,
    "start_time": "2022-09-06T12:13:10.078Z"
   },
   {
    "duration": 14,
    "start_time": "2022-09-06T12:13:14.452Z"
   },
   {
    "duration": 18,
    "start_time": "2022-09-06T12:13:14.468Z"
   },
   {
    "duration": 3,
    "start_time": "2022-09-06T12:13:18.047Z"
   },
   {
    "duration": 5,
    "start_time": "2022-09-06T12:14:37.844Z"
   },
   {
    "duration": 13,
    "start_time": "2022-09-06T12:14:44.337Z"
   },
   {
    "duration": 5,
    "start_time": "2022-09-06T12:15:01.019Z"
   },
   {
    "duration": 7,
    "start_time": "2022-09-06T12:15:10.783Z"
   },
   {
    "duration": 4,
    "start_time": "2022-09-06T12:15:16.442Z"
   },
   {
    "duration": 4,
    "start_time": "2022-09-06T12:15:53.032Z"
   },
   {
    "duration": 4,
    "start_time": "2022-09-06T12:16:08.719Z"
   },
   {
    "duration": 6,
    "start_time": "2022-09-06T12:16:28.085Z"
   },
   {
    "duration": 4,
    "start_time": "2022-09-06T12:16:38.487Z"
   },
   {
    "duration": 15,
    "start_time": "2022-09-06T12:18:06.685Z"
   },
   {
    "duration": 12,
    "start_time": "2022-09-06T12:18:10.327Z"
   },
   {
    "duration": 6,
    "start_time": "2022-09-06T12:18:16.050Z"
   },
   {
    "duration": 6,
    "start_time": "2022-09-06T12:18:39.298Z"
   },
   {
    "duration": 17,
    "start_time": "2022-09-06T12:18:41.845Z"
   },
   {
    "duration": 7,
    "start_time": "2022-09-06T12:18:45.458Z"
   },
   {
    "duration": 5,
    "start_time": "2022-09-06T12:19:05.687Z"
   },
   {
    "duration": 12,
    "start_time": "2022-09-06T12:28:34.489Z"
   },
   {
    "duration": 17,
    "start_time": "2022-09-06T12:28:41.389Z"
   },
   {
    "duration": 8,
    "start_time": "2022-09-06T12:28:56.302Z"
   },
   {
    "duration": 58,
    "start_time": "2022-09-06T12:36:29.455Z"
   },
   {
    "duration": 8,
    "start_time": "2022-09-06T12:36:34.827Z"
   },
   {
    "duration": 6,
    "start_time": "2022-09-06T12:36:42.458Z"
   },
   {
    "duration": 14,
    "start_time": "2022-09-06T12:37:36.942Z"
   },
   {
    "duration": 496,
    "start_time": "2022-09-06T12:38:51.001Z"
   },
   {
    "duration": 22,
    "start_time": "2022-09-06T12:38:58.027Z"
   },
   {
    "duration": 8,
    "start_time": "2022-09-06T12:39:00.739Z"
   },
   {
    "duration": 41,
    "start_time": "2022-09-06T12:39:22.549Z"
   },
   {
    "duration": 3,
    "start_time": "2022-09-06T12:39:27.097Z"
   },
   {
    "duration": 4,
    "start_time": "2022-09-06T12:39:29.069Z"
   },
   {
    "duration": 10,
    "start_time": "2022-09-06T12:39:31.391Z"
   },
   {
    "duration": 5,
    "start_time": "2022-09-06T12:39:36.695Z"
   },
   {
    "duration": 4,
    "start_time": "2022-09-06T12:39:38.927Z"
   },
   {
    "duration": 14,
    "start_time": "2022-09-06T12:40:25.304Z"
   },
   {
    "duration": 12,
    "start_time": "2022-09-06T12:40:27.796Z"
   },
   {
    "duration": 7,
    "start_time": "2022-09-06T12:40:35.743Z"
   },
   {
    "duration": 6,
    "start_time": "2022-09-06T12:40:40.333Z"
   },
   {
    "duration": 7,
    "start_time": "2022-09-06T12:40:42.591Z"
   },
   {
    "duration": 4,
    "start_time": "2022-09-06T12:40:45.221Z"
   },
   {
    "duration": 5,
    "start_time": "2022-09-06T12:40:56.202Z"
   },
   {
    "duration": 5,
    "start_time": "2022-09-06T12:41:48.742Z"
   },
   {
    "duration": 19,
    "start_time": "2022-09-06T12:41:50.723Z"
   },
   {
    "duration": 2,
    "start_time": "2022-09-06T12:41:56.563Z"
   },
   {
    "duration": 382,
    "start_time": "2022-09-06T12:41:56.568Z"
   },
   {
    "duration": 46,
    "start_time": "2022-09-06T12:41:56.952Z"
   },
   {
    "duration": 43,
    "start_time": "2022-09-06T12:41:57.000Z"
   },
   {
    "duration": 19,
    "start_time": "2022-09-06T12:41:57.044Z"
   },
   {
    "duration": 32,
    "start_time": "2022-09-06T12:41:57.064Z"
   },
   {
    "duration": 15,
    "start_time": "2022-09-06T12:41:57.098Z"
   },
   {
    "duration": 7,
    "start_time": "2022-09-06T12:41:57.114Z"
   },
   {
    "duration": 21,
    "start_time": "2022-09-06T12:41:57.123Z"
   },
   {
    "duration": 51,
    "start_time": "2022-09-06T12:41:57.145Z"
   },
   {
    "duration": 21,
    "start_time": "2022-09-06T12:41:57.198Z"
   },
   {
    "duration": 16,
    "start_time": "2022-09-06T12:41:57.220Z"
   },
   {
    "duration": 5,
    "start_time": "2022-09-06T12:41:57.238Z"
   },
   {
    "duration": 15,
    "start_time": "2022-09-06T12:41:57.244Z"
   },
   {
    "duration": 32,
    "start_time": "2022-09-06T12:41:57.260Z"
   },
   {
    "duration": 8,
    "start_time": "2022-09-06T12:41:57.294Z"
   },
   {
    "duration": 6,
    "start_time": "2022-09-06T12:41:57.304Z"
   },
   {
    "duration": 90,
    "start_time": "2022-09-06T12:41:57.311Z"
   },
   {
    "duration": 32,
    "start_time": "2022-09-06T12:41:57.403Z"
   },
   {
    "duration": 31,
    "start_time": "2022-09-06T12:41:57.437Z"
   },
   {
    "duration": 20,
    "start_time": "2022-09-06T12:41:57.469Z"
   },
   {
    "duration": 9,
    "start_time": "2022-09-06T12:41:57.490Z"
   },
   {
    "duration": 5,
    "start_time": "2022-09-06T12:41:57.500Z"
   },
   {
    "duration": 4,
    "start_time": "2022-09-06T12:41:57.508Z"
   },
   {
    "duration": 6,
    "start_time": "2022-09-06T12:41:57.513Z"
   },
   {
    "duration": 10,
    "start_time": "2022-09-06T12:41:57.520Z"
   },
   {
    "duration": 5,
    "start_time": "2022-09-06T12:41:57.531Z"
   },
   {
    "duration": 67,
    "start_time": "2022-09-06T12:41:57.537Z"
   },
   {
    "duration": 9,
    "start_time": "2022-09-06T12:41:57.605Z"
   },
   {
    "duration": 12,
    "start_time": "2022-09-06T12:41:57.615Z"
   },
   {
    "duration": 20,
    "start_time": "2022-09-06T12:41:57.628Z"
   },
   {
    "duration": 8,
    "start_time": "2022-09-06T12:41:57.649Z"
   },
   {
    "duration": 73,
    "start_time": "2022-09-06T12:41:57.658Z"
   },
   {
    "duration": 14,
    "start_time": "2022-09-06T12:41:57.732Z"
   },
   {
    "duration": 4,
    "start_time": "2022-09-06T12:41:57.747Z"
   },
   {
    "duration": 4,
    "start_time": "2022-09-06T12:42:02.588Z"
   },
   {
    "duration": 15,
    "start_time": "2022-09-06T12:42:05.051Z"
   },
   {
    "duration": 10,
    "start_time": "2022-09-06T12:42:08.621Z"
   },
   {
    "duration": 3,
    "start_time": "2022-09-06T12:42:40.099Z"
   },
   {
    "duration": 430,
    "start_time": "2022-09-06T12:42:40.104Z"
   },
   {
    "duration": 46,
    "start_time": "2022-09-06T12:42:40.535Z"
   },
   {
    "duration": 45,
    "start_time": "2022-09-06T12:42:40.584Z"
   },
   {
    "duration": 20,
    "start_time": "2022-09-06T12:42:40.631Z"
   },
   {
    "duration": 38,
    "start_time": "2022-09-06T12:42:40.653Z"
   },
   {
    "duration": 25,
    "start_time": "2022-09-06T12:42:40.693Z"
   },
   {
    "duration": 28,
    "start_time": "2022-09-06T12:42:40.720Z"
   },
   {
    "duration": 32,
    "start_time": "2022-09-06T12:42:40.750Z"
   },
   {
    "duration": 39,
    "start_time": "2022-09-06T12:42:40.783Z"
   },
   {
    "duration": 27,
    "start_time": "2022-09-06T12:42:40.824Z"
   },
   {
    "duration": 18,
    "start_time": "2022-09-06T12:42:40.852Z"
   },
   {
    "duration": 17,
    "start_time": "2022-09-06T12:42:40.871Z"
   },
   {
    "duration": 26,
    "start_time": "2022-09-06T12:42:40.889Z"
   },
   {
    "duration": 22,
    "start_time": "2022-09-06T12:42:40.916Z"
   },
   {
    "duration": 30,
    "start_time": "2022-09-06T12:42:40.939Z"
   },
   {
    "duration": 13,
    "start_time": "2022-09-06T12:42:40.970Z"
   },
   {
    "duration": 93,
    "start_time": "2022-09-06T12:42:40.985Z"
   },
   {
    "duration": 36,
    "start_time": "2022-09-06T12:42:41.080Z"
   },
   {
    "duration": 37,
    "start_time": "2022-09-06T12:42:41.118Z"
   },
   {
    "duration": 29,
    "start_time": "2022-09-06T12:42:41.157Z"
   },
   {
    "duration": 10,
    "start_time": "2022-09-06T12:42:41.188Z"
   },
   {
    "duration": 18,
    "start_time": "2022-09-06T12:42:41.200Z"
   },
   {
    "duration": 23,
    "start_time": "2022-09-06T12:42:41.222Z"
   },
   {
    "duration": 22,
    "start_time": "2022-09-06T12:42:41.247Z"
   },
   {
    "duration": 28,
    "start_time": "2022-09-06T12:42:41.270Z"
   },
   {
    "duration": 15,
    "start_time": "2022-09-06T12:42:41.300Z"
   },
   {
    "duration": 66,
    "start_time": "2022-09-06T12:42:41.317Z"
   },
   {
    "duration": 9,
    "start_time": "2022-09-06T12:42:41.384Z"
   },
   {
    "duration": 24,
    "start_time": "2022-09-06T12:42:41.395Z"
   },
   {
    "duration": 41,
    "start_time": "2022-09-06T12:42:41.421Z"
   },
   {
    "duration": 34,
    "start_time": "2022-09-06T12:42:41.464Z"
   },
   {
    "duration": 85,
    "start_time": "2022-09-06T12:42:41.499Z"
   },
   {
    "duration": 14,
    "start_time": "2022-09-06T12:42:41.585Z"
   },
   {
    "duration": 16,
    "start_time": "2022-09-06T12:42:41.601Z"
   },
   {
    "duration": 43,
    "start_time": "2022-09-06T12:42:41.618Z"
   },
   {
    "duration": 16,
    "start_time": "2022-09-06T12:42:41.662Z"
   },
   {
    "duration": 102,
    "start_time": "2022-09-06T12:42:41.679Z"
   },
   {
    "duration": 10,
    "start_time": "2022-09-06T12:42:41.783Z"
   },
   {
    "duration": 50,
    "start_time": "2022-09-06T12:42:41.794Z"
   },
   {
    "duration": 43,
    "start_time": "2022-09-06T12:42:41.846Z"
   },
   {
    "duration": 3,
    "start_time": "2022-09-06T12:42:41.891Z"
   },
   {
    "duration": 18,
    "start_time": "2022-09-06T12:42:41.895Z"
   },
   {
    "duration": 29,
    "start_time": "2022-09-06T12:42:41.915Z"
   },
   {
    "duration": 26,
    "start_time": "2022-09-06T12:42:41.945Z"
   },
   {
    "duration": 24,
    "start_time": "2022-09-06T12:42:41.972Z"
   },
   {
    "duration": 23,
    "start_time": "2022-09-06T12:42:41.998Z"
   },
   {
    "duration": 28,
    "start_time": "2022-09-06T12:42:42.022Z"
   },
   {
    "duration": 24,
    "start_time": "2022-09-06T12:42:42.051Z"
   },
   {
    "duration": 24,
    "start_time": "2022-09-06T12:42:42.076Z"
   },
   {
    "duration": 29,
    "start_time": "2022-09-06T12:42:42.102Z"
   },
   {
    "duration": 17,
    "start_time": "2022-09-06T12:42:42.133Z"
   },
   {
    "duration": 27,
    "start_time": "2022-09-06T12:42:42.151Z"
   },
   {
    "duration": 17,
    "start_time": "2022-09-06T12:42:42.179Z"
   },
   {
    "duration": 22,
    "start_time": "2022-09-06T12:42:42.198Z"
   },
   {
    "duration": 48,
    "start_time": "2022-09-06T12:42:42.221Z"
   },
   {
    "duration": 25,
    "start_time": "2022-09-06T12:42:42.271Z"
   },
   {
    "duration": 28,
    "start_time": "2022-09-06T12:42:42.298Z"
   },
   {
    "duration": 36,
    "start_time": "2022-09-06T12:42:42.327Z"
   },
   {
    "duration": 24,
    "start_time": "2022-09-06T12:42:42.365Z"
   },
   {
    "duration": 36,
    "start_time": "2022-09-06T12:42:42.390Z"
   },
   {
    "duration": 4439,
    "start_time": "2022-09-06T12:42:42.427Z"
   },
   {
    "duration": 11,
    "start_time": "2022-09-06T12:42:46.868Z"
   },
   {
    "duration": 4,
    "start_time": "2022-09-06T12:42:46.885Z"
   },
   {
    "duration": 4,
    "start_time": "2022-09-06T12:47:51.622Z"
   },
   {
    "duration": 5,
    "start_time": "2022-09-06T12:51:16.167Z"
   },
   {
    "duration": 4,
    "start_time": "2022-09-06T12:51:18.347Z"
   },
   {
    "duration": 4585,
    "start_time": "2022-09-06T12:51:20.194Z"
   },
   {
    "duration": 11,
    "start_time": "2022-09-06T12:51:26.552Z"
   },
   {
    "duration": 2,
    "start_time": "2022-09-06T12:51:37.640Z"
   },
   {
    "duration": 362,
    "start_time": "2022-09-06T12:51:37.644Z"
   },
   {
    "duration": 44,
    "start_time": "2022-09-06T12:51:38.008Z"
   },
   {
    "duration": 44,
    "start_time": "2022-09-06T12:51:38.054Z"
   },
   {
    "duration": 20,
    "start_time": "2022-09-06T12:51:38.100Z"
   },
   {
    "duration": 16,
    "start_time": "2022-09-06T12:51:38.122Z"
   },
   {
    "duration": 18,
    "start_time": "2022-09-06T12:51:38.139Z"
   },
   {
    "duration": 31,
    "start_time": "2022-09-06T12:51:38.159Z"
   },
   {
    "duration": 23,
    "start_time": "2022-09-06T12:51:38.191Z"
   },
   {
    "duration": 29,
    "start_time": "2022-09-06T12:51:38.216Z"
   },
   {
    "duration": 40,
    "start_time": "2022-09-06T12:51:38.246Z"
   },
   {
    "duration": 18,
    "start_time": "2022-09-06T12:51:38.287Z"
   },
   {
    "duration": 6,
    "start_time": "2022-09-06T12:51:38.306Z"
   },
   {
    "duration": 14,
    "start_time": "2022-09-06T12:51:38.315Z"
   },
   {
    "duration": 10,
    "start_time": "2022-09-06T12:51:38.331Z"
   },
   {
    "duration": 10,
    "start_time": "2022-09-06T12:51:38.343Z"
   },
   {
    "duration": 36,
    "start_time": "2022-09-06T12:51:38.354Z"
   },
   {
    "duration": 102,
    "start_time": "2022-09-06T12:51:38.392Z"
   },
   {
    "duration": 34,
    "start_time": "2022-09-06T12:51:38.496Z"
   },
   {
    "duration": 34,
    "start_time": "2022-09-06T12:51:38.532Z"
   },
   {
    "duration": 7,
    "start_time": "2022-09-06T12:51:38.586Z"
   },
   {
    "duration": 24,
    "start_time": "2022-09-06T12:51:38.594Z"
   },
   {
    "duration": 25,
    "start_time": "2022-09-06T12:51:38.620Z"
   },
   {
    "duration": 26,
    "start_time": "2022-09-06T12:51:38.646Z"
   },
   {
    "duration": 25,
    "start_time": "2022-09-06T12:51:38.673Z"
   },
   {
    "duration": 18,
    "start_time": "2022-09-06T12:51:38.700Z"
   },
   {
    "duration": 10,
    "start_time": "2022-09-06T12:51:38.719Z"
   },
   {
    "duration": 67,
    "start_time": "2022-09-06T12:51:38.730Z"
   },
   {
    "duration": 8,
    "start_time": "2022-09-06T12:51:38.799Z"
   },
   {
    "duration": 29,
    "start_time": "2022-09-06T12:51:38.809Z"
   },
   {
    "duration": 28,
    "start_time": "2022-09-06T12:51:38.839Z"
   },
   {
    "duration": 20,
    "start_time": "2022-09-06T12:51:38.869Z"
   },
   {
    "duration": 73,
    "start_time": "2022-09-06T12:51:38.891Z"
   },
   {
    "duration": 9,
    "start_time": "2022-09-06T12:51:38.966Z"
   },
   {
    "duration": 78,
    "start_time": "2022-09-06T12:51:38.976Z"
   },
   {
    "duration": 9,
    "start_time": "2022-09-06T12:51:39.056Z"
   },
   {
    "duration": 49,
    "start_time": "2022-09-06T12:51:39.067Z"
   },
   {
    "duration": 42,
    "start_time": "2022-09-06T12:51:39.118Z"
   },
   {
    "duration": 3,
    "start_time": "2022-09-06T12:51:39.162Z"
   },
   {
    "duration": 21,
    "start_time": "2022-09-06T12:51:39.166Z"
   },
   {
    "duration": 10,
    "start_time": "2022-09-06T12:51:39.191Z"
   },
   {
    "duration": 10,
    "start_time": "2022-09-06T12:51:39.202Z"
   },
   {
    "duration": 8,
    "start_time": "2022-09-06T12:51:39.213Z"
   },
   {
    "duration": 5,
    "start_time": "2022-09-06T12:51:39.222Z"
   },
   {
    "duration": 5,
    "start_time": "2022-09-06T12:51:39.229Z"
   },
   {
    "duration": 6,
    "start_time": "2022-09-06T12:51:39.235Z"
   },
   {
    "duration": 7,
    "start_time": "2022-09-06T12:51:39.243Z"
   },
   {
    "duration": 7,
    "start_time": "2022-09-06T12:51:39.251Z"
   },
   {
    "duration": 15,
    "start_time": "2022-09-06T12:51:39.285Z"
   },
   {
    "duration": 11,
    "start_time": "2022-09-06T12:51:39.302Z"
   },
   {
    "duration": 8,
    "start_time": "2022-09-06T12:51:39.315Z"
   },
   {
    "duration": 8,
    "start_time": "2022-09-06T12:51:39.325Z"
   },
   {
    "duration": 9,
    "start_time": "2022-09-06T12:51:39.335Z"
   },
   {
    "duration": 4,
    "start_time": "2022-09-06T12:51:39.345Z"
   },
   {
    "duration": 48,
    "start_time": "2022-09-06T12:51:39.350Z"
   },
   {
    "duration": 10,
    "start_time": "2022-09-06T12:51:39.400Z"
   },
   {
    "duration": 8,
    "start_time": "2022-09-06T12:51:39.411Z"
   },
   {
    "duration": 4588,
    "start_time": "2022-09-06T12:51:39.420Z"
   },
   {
    "duration": 14,
    "start_time": "2022-09-06T12:51:44.010Z"
   },
   {
    "duration": 8,
    "start_time": "2022-09-06T12:51:44.025Z"
   },
   {
    "duration": 4,
    "start_time": "2022-09-06T12:56:47.933Z"
   },
   {
    "duration": 8,
    "start_time": "2022-09-06T13:14:27.734Z"
   },
   {
    "duration": 2,
    "start_time": "2022-09-06T13:14:42.332Z"
   },
   {
    "duration": 394,
    "start_time": "2022-09-06T13:14:42.336Z"
   },
   {
    "duration": 47,
    "start_time": "2022-09-06T13:14:42.732Z"
   },
   {
    "duration": 52,
    "start_time": "2022-09-06T13:14:42.782Z"
   },
   {
    "duration": 52,
    "start_time": "2022-09-06T13:14:42.836Z"
   },
   {
    "duration": 20,
    "start_time": "2022-09-06T13:14:42.890Z"
   },
   {
    "duration": 19,
    "start_time": "2022-09-06T13:14:42.913Z"
   },
   {
    "duration": 12,
    "start_time": "2022-09-06T13:14:42.933Z"
   },
   {
    "duration": 44,
    "start_time": "2022-09-06T13:14:42.948Z"
   },
   {
    "duration": 30,
    "start_time": "2022-09-06T13:14:42.994Z"
   },
   {
    "duration": 21,
    "start_time": "2022-09-06T13:14:43.026Z"
   },
   {
    "duration": 39,
    "start_time": "2022-09-06T13:14:43.049Z"
   },
   {
    "duration": 5,
    "start_time": "2022-09-06T13:14:43.089Z"
   },
   {
    "duration": 17,
    "start_time": "2022-09-06T13:14:43.096Z"
   },
   {
    "duration": 10,
    "start_time": "2022-09-06T13:14:43.114Z"
   },
   {
    "duration": 12,
    "start_time": "2022-09-06T13:14:43.126Z"
   },
   {
    "duration": 6,
    "start_time": "2022-09-06T13:14:43.140Z"
   },
   {
    "duration": 116,
    "start_time": "2022-09-06T13:14:43.148Z"
   },
   {
    "duration": 48,
    "start_time": "2022-09-06T13:14:43.265Z"
   },
   {
    "duration": 37,
    "start_time": "2022-09-06T13:14:43.315Z"
   },
   {
    "duration": 7,
    "start_time": "2022-09-06T13:14:43.354Z"
   },
   {
    "duration": 31,
    "start_time": "2022-09-06T13:14:43.362Z"
   },
   {
    "duration": 7,
    "start_time": "2022-09-06T13:14:43.395Z"
   },
   {
    "duration": 9,
    "start_time": "2022-09-06T13:14:43.405Z"
   },
   {
    "duration": 11,
    "start_time": "2022-09-06T13:14:43.416Z"
   },
   {
    "duration": 11,
    "start_time": "2022-09-06T13:14:43.428Z"
   },
   {
    "duration": 6,
    "start_time": "2022-09-06T13:14:43.440Z"
   },
   {
    "duration": 63,
    "start_time": "2022-09-06T13:14:43.447Z"
   },
   {
    "duration": 8,
    "start_time": "2022-09-06T13:14:43.512Z"
   },
   {
    "duration": 19,
    "start_time": "2022-09-06T13:14:43.522Z"
   },
   {
    "duration": 10,
    "start_time": "2022-09-06T13:14:43.543Z"
   },
   {
    "duration": 12,
    "start_time": "2022-09-06T13:14:43.555Z"
   },
   {
    "duration": 81,
    "start_time": "2022-09-06T13:14:43.568Z"
   },
   {
    "duration": 9,
    "start_time": "2022-09-06T13:14:43.651Z"
   },
   {
    "duration": 105,
    "start_time": "2022-09-06T13:14:43.661Z"
   },
   {
    "duration": 20,
    "start_time": "2022-09-06T13:14:43.767Z"
   },
   {
    "duration": 56,
    "start_time": "2022-09-06T13:14:43.789Z"
   },
   {
    "duration": 57,
    "start_time": "2022-09-06T13:14:43.846Z"
   },
   {
    "duration": 3,
    "start_time": "2022-09-06T13:14:43.904Z"
   },
   {
    "duration": 11,
    "start_time": "2022-09-06T13:14:43.909Z"
   },
   {
    "duration": 11,
    "start_time": "2022-09-06T13:14:43.922Z"
   },
   {
    "duration": 5,
    "start_time": "2022-09-06T13:14:43.935Z"
   },
   {
    "duration": 7,
    "start_time": "2022-09-06T13:14:43.941Z"
   },
   {
    "duration": 6,
    "start_time": "2022-09-06T13:14:43.950Z"
   },
   {
    "duration": 5,
    "start_time": "2022-09-06T13:14:43.957Z"
   },
   {
    "duration": 22,
    "start_time": "2022-09-06T13:14:43.964Z"
   },
   {
    "duration": 4,
    "start_time": "2022-09-06T13:14:43.987Z"
   },
   {
    "duration": 11,
    "start_time": "2022-09-06T13:14:43.992Z"
   },
   {
    "duration": 18,
    "start_time": "2022-09-06T13:14:44.004Z"
   },
   {
    "duration": 11,
    "start_time": "2022-09-06T13:14:44.024Z"
   },
   {
    "duration": 8,
    "start_time": "2022-09-06T13:14:44.036Z"
   },
   {
    "duration": 9,
    "start_time": "2022-09-06T13:14:44.045Z"
   },
   {
    "duration": 10,
    "start_time": "2022-09-06T13:14:44.056Z"
   },
   {
    "duration": 19,
    "start_time": "2022-09-06T13:14:44.067Z"
   },
   {
    "duration": 14,
    "start_time": "2022-09-06T13:14:44.087Z"
   },
   {
    "duration": 4,
    "start_time": "2022-09-06T13:14:44.103Z"
   },
   {
    "duration": 12,
    "start_time": "2022-09-06T13:14:44.108Z"
   },
   {
    "duration": 4595,
    "start_time": "2022-09-06T13:14:44.122Z"
   },
   {
    "duration": 10,
    "start_time": "2022-09-06T13:14:48.719Z"
   },
   {
    "duration": 6,
    "start_time": "2022-09-06T13:14:48.731Z"
   },
   {
    "duration": 9,
    "start_time": "2022-09-06T13:14:48.738Z"
   },
   {
    "duration": 21,
    "start_time": "2022-09-06T13:14:52.740Z"
   },
   {
    "duration": 23,
    "start_time": "2022-09-06T13:15:02.137Z"
   },
   {
    "duration": 22,
    "start_time": "2022-09-06T13:15:08.222Z"
   },
   {
    "duration": 5,
    "start_time": "2022-09-06T13:23:36.402Z"
   },
   {
    "duration": 6,
    "start_time": "2022-09-06T13:24:39.705Z"
   },
   {
    "duration": 4,
    "start_time": "2022-09-06T13:25:05.600Z"
   },
   {
    "duration": 37,
    "start_time": "2022-09-06T13:25:24.491Z"
   },
   {
    "duration": 4,
    "start_time": "2022-09-06T13:25:34.299Z"
   },
   {
    "duration": 6,
    "start_time": "2022-09-06T13:26:22.002Z"
   },
   {
    "duration": 5,
    "start_time": "2022-09-06T13:27:02.960Z"
   },
   {
    "duration": 5,
    "start_time": "2022-09-06T13:27:13.242Z"
   },
   {
    "duration": 5,
    "start_time": "2022-09-06T13:27:20.904Z"
   },
   {
    "duration": 5,
    "start_time": "2022-09-06T13:27:47.232Z"
   },
   {
    "duration": 5,
    "start_time": "2022-09-06T13:29:26.919Z"
   },
   {
    "duration": 5,
    "start_time": "2022-09-06T13:32:31.649Z"
   },
   {
    "duration": 7,
    "start_time": "2022-09-06T13:32:38.033Z"
   },
   {
    "duration": 7,
    "start_time": "2022-09-06T13:33:14.098Z"
   },
   {
    "duration": 5,
    "start_time": "2022-09-06T13:33:55.465Z"
   },
   {
    "duration": 7,
    "start_time": "2022-09-06T13:33:57.817Z"
   },
   {
    "duration": 8,
    "start_time": "2022-09-06T13:35:00.496Z"
   },
   {
    "duration": 6,
    "start_time": "2022-09-06T13:35:02.217Z"
   },
   {
    "duration": 8,
    "start_time": "2022-09-06T13:35:04.142Z"
   },
   {
    "duration": 7,
    "start_time": "2022-09-06T13:36:17.823Z"
   },
   {
    "duration": 10,
    "start_time": "2022-09-06T13:36:19.648Z"
   },
   {
    "duration": 15,
    "start_time": "2022-09-06T13:36:25.023Z"
   },
   {
    "duration": 16,
    "start_time": "2022-09-06T13:36:27.320Z"
   },
   {
    "duration": 11,
    "start_time": "2022-09-06T13:40:00.868Z"
   },
   {
    "duration": 8,
    "start_time": "2022-09-06T13:40:35.193Z"
   },
   {
    "duration": 44,
    "start_time": "2022-09-06T13:40:36.931Z"
   },
   {
    "duration": 7,
    "start_time": "2022-09-06T13:40:39.156Z"
   },
   {
    "duration": 8,
    "start_time": "2022-09-06T13:40:52.101Z"
   },
   {
    "duration": 10,
    "start_time": "2022-09-06T13:43:37.798Z"
   },
   {
    "duration": 5,
    "start_time": "2022-09-06T13:49:11.521Z"
   },
   {
    "duration": 8,
    "start_time": "2022-09-06T13:49:33.791Z"
   },
   {
    "duration": 8,
    "start_time": "2022-09-06T13:49:35.801Z"
   },
   {
    "duration": 6,
    "start_time": "2022-09-06T13:49:45.200Z"
   },
   {
    "duration": 13,
    "start_time": "2022-09-06T13:49:47.355Z"
   },
   {
    "duration": 8,
    "start_time": "2022-09-06T13:50:01.517Z"
   },
   {
    "duration": 7,
    "start_time": "2022-09-06T13:50:16.085Z"
   },
   {
    "duration": 8,
    "start_time": "2022-09-06T13:50:21.633Z"
   },
   {
    "duration": 9,
    "start_time": "2022-09-06T13:50:27.168Z"
   },
   {
    "duration": 6,
    "start_time": "2022-09-06T13:50:38.545Z"
   },
   {
    "duration": 10,
    "start_time": "2022-09-06T13:50:40.517Z"
   },
   {
    "duration": 9,
    "start_time": "2022-09-06T13:58:23.328Z"
   },
   {
    "duration": 10,
    "start_time": "2022-09-06T13:58:30.535Z"
   },
   {
    "duration": 8,
    "start_time": "2022-09-06T13:58:48.748Z"
   },
   {
    "duration": 7,
    "start_time": "2022-09-06T13:58:53.599Z"
   },
   {
    "duration": 10,
    "start_time": "2022-09-06T13:59:04.648Z"
   },
   {
    "duration": 8,
    "start_time": "2022-09-06T13:59:12.323Z"
   },
   {
    "duration": 7,
    "start_time": "2022-09-06T13:59:24.924Z"
   },
   {
    "duration": 31,
    "start_time": "2022-09-06T13:59:40.489Z"
   },
   {
    "duration": 3,
    "start_time": "2022-09-06T14:00:08.683Z"
   },
   {
    "duration": 25,
    "start_time": "2022-09-06T14:00:20.316Z"
   },
   {
    "duration": 7,
    "start_time": "2022-09-06T14:00:26.352Z"
   },
   {
    "duration": 180,
    "start_time": "2022-09-06T14:10:35.213Z"
   },
   {
    "duration": 184,
    "start_time": "2022-09-06T14:11:35.239Z"
   },
   {
    "duration": 296,
    "start_time": "2022-09-06T14:13:46.524Z"
   },
   {
    "duration": 63,
    "start_time": "2022-09-06T14:31:48.674Z"
   },
   {
    "duration": 206,
    "start_time": "2022-09-06T14:33:22.139Z"
   },
   {
    "duration": 206,
    "start_time": "2022-09-06T14:34:07.040Z"
   },
   {
    "duration": 194,
    "start_time": "2022-09-06T14:34:12.402Z"
   },
   {
    "duration": 210,
    "start_time": "2022-09-06T14:34:27.198Z"
   },
   {
    "duration": 217,
    "start_time": "2022-09-06T14:34:56.461Z"
   },
   {
    "duration": 220,
    "start_time": "2022-09-06T14:35:15.793Z"
   },
   {
    "duration": 222,
    "start_time": "2022-09-06T14:36:01.745Z"
   },
   {
    "duration": 344,
    "start_time": "2022-09-06T14:36:52.734Z"
   },
   {
    "duration": 410,
    "start_time": "2022-09-06T14:36:58.563Z"
   },
   {
    "duration": 307,
    "start_time": "2022-09-06T14:37:07.637Z"
   },
   {
    "duration": 322,
    "start_time": "2022-09-06T14:37:49.021Z"
   },
   {
    "duration": 405,
    "start_time": "2022-09-06T14:38:04.322Z"
   },
   {
    "duration": 322,
    "start_time": "2022-09-06T14:38:20.645Z"
   },
   {
    "duration": 333,
    "start_time": "2022-09-06T14:38:25.365Z"
   },
   {
    "duration": 522,
    "start_time": "2022-09-06T14:41:23.938Z"
   },
   {
    "duration": 405,
    "start_time": "2022-09-06T14:43:24.299Z"
   },
   {
    "duration": 323,
    "start_time": "2022-09-06T14:43:37.747Z"
   },
   {
    "duration": 408,
    "start_time": "2022-09-06T14:43:44.284Z"
   },
   {
    "duration": 329,
    "start_time": "2022-09-06T14:43:51.479Z"
   },
   {
    "duration": 212,
    "start_time": "2022-09-06T14:44:41.166Z"
   },
   {
    "duration": 291,
    "start_time": "2022-09-06T14:45:06.215Z"
   },
   {
    "duration": 444,
    "start_time": "2022-09-06T14:45:35.971Z"
   },
   {
    "duration": 342,
    "start_time": "2022-09-06T14:46:03.284Z"
   },
   {
    "duration": 295,
    "start_time": "2022-09-06T14:47:07.652Z"
   },
   {
    "duration": 256,
    "start_time": "2022-09-06T14:47:18.866Z"
   },
   {
    "duration": 316,
    "start_time": "2022-09-06T14:47:25.786Z"
   },
   {
    "duration": 251,
    "start_time": "2022-09-06T14:47:38.748Z"
   },
   {
    "duration": 273,
    "start_time": "2022-09-06T14:47:45.819Z"
   },
   {
    "duration": 507,
    "start_time": "2022-09-06T14:47:52.802Z"
   },
   {
    "duration": 203,
    "start_time": "2022-09-06T14:47:59.194Z"
   },
   {
    "duration": 255,
    "start_time": "2022-09-06T14:48:03.143Z"
   },
   {
    "duration": 246,
    "start_time": "2022-09-06T14:48:08.290Z"
   },
   {
    "duration": 330,
    "start_time": "2022-09-06T14:48:23.584Z"
   },
   {
    "duration": 288,
    "start_time": "2022-09-06T14:48:31.835Z"
   },
   {
    "duration": 362,
    "start_time": "2022-09-06T14:48:37.018Z"
   },
   {
    "duration": 332,
    "start_time": "2022-09-06T14:48:48.884Z"
   },
   {
    "duration": 439,
    "start_time": "2022-09-06T14:49:16.541Z"
   },
   {
    "duration": 356,
    "start_time": "2022-09-06T14:49:34.142Z"
   },
   {
    "duration": 349,
    "start_time": "2022-09-06T14:49:54.551Z"
   },
   {
    "duration": 306,
    "start_time": "2022-09-06T14:50:06.668Z"
   },
   {
    "duration": 320,
    "start_time": "2022-09-06T14:50:10.919Z"
   },
   {
    "duration": 318,
    "start_time": "2022-09-06T14:50:28.387Z"
   },
   {
    "duration": 344,
    "start_time": "2022-09-06T14:50:32.884Z"
   },
   {
    "duration": 461,
    "start_time": "2022-09-06T14:50:42.028Z"
   },
   {
    "duration": 145,
    "start_time": "2022-09-06T15:40:33.597Z"
   },
   {
    "duration": 134,
    "start_time": "2022-09-06T15:41:06.024Z"
   },
   {
    "duration": 13,
    "start_time": "2022-09-06T15:42:17.717Z"
   },
   {
    "duration": 163,
    "start_time": "2022-09-06T15:42:28.011Z"
   },
   {
    "duration": 184,
    "start_time": "2022-09-06T15:42:36.017Z"
   },
   {
    "duration": 12,
    "start_time": "2022-09-06T15:43:13.657Z"
   },
   {
    "duration": 147,
    "start_time": "2022-09-06T15:43:15.236Z"
   },
   {
    "duration": 145,
    "start_time": "2022-09-06T15:43:19.526Z"
   },
   {
    "duration": 172,
    "start_time": "2022-09-06T15:43:42.474Z"
   },
   {
    "duration": 153,
    "start_time": "2022-09-06T15:45:09.796Z"
   },
   {
    "duration": 145,
    "start_time": "2022-09-06T15:45:41.525Z"
   },
   {
    "duration": 9,
    "start_time": "2022-09-06T17:00:01.555Z"
   },
   {
    "duration": 18,
    "start_time": "2022-09-06T17:01:00.285Z"
   },
   {
    "duration": 1165,
    "start_time": "2022-09-06T17:02:59.333Z"
   },
   {
    "duration": 14,
    "start_time": "2022-09-06T17:03:10.500Z"
   },
   {
    "duration": 10,
    "start_time": "2022-09-06T17:03:14.866Z"
   },
   {
    "duration": 138,
    "start_time": "2022-09-06T17:03:31.340Z"
   },
   {
    "duration": 153,
    "start_time": "2022-09-06T17:03:33.453Z"
   },
   {
    "duration": 166,
    "start_time": "2022-09-06T17:03:37.237Z"
   },
   {
    "duration": 142,
    "start_time": "2022-09-06T17:03:39.924Z"
   },
   {
    "duration": 345,
    "start_time": "2022-09-06T17:09:26.617Z"
   },
   {
    "duration": 244,
    "start_time": "2022-09-06T17:17:35.258Z"
   },
   {
    "duration": 113,
    "start_time": "2022-09-06T17:17:38.925Z"
   },
   {
    "duration": 160,
    "start_time": "2022-09-06T17:18:03.438Z"
   },
   {
    "duration": 168,
    "start_time": "2022-09-06T17:18:22.120Z"
   },
   {
    "duration": 8,
    "start_time": "2022-09-06T17:18:43.139Z"
   },
   {
    "duration": 14,
    "start_time": "2022-09-06T17:18:45.698Z"
   },
   {
    "duration": 11,
    "start_time": "2022-09-06T17:18:47.622Z"
   },
   {
    "duration": 159,
    "start_time": "2022-09-06T17:19:09.648Z"
   },
   {
    "duration": 164,
    "start_time": "2022-09-06T17:20:17.105Z"
   },
   {
    "duration": 12,
    "start_time": "2022-09-06T17:34:13.658Z"
   },
   {
    "duration": 152,
    "start_time": "2022-09-06T17:38:03.293Z"
   },
   {
    "duration": 156,
    "start_time": "2022-09-06T17:38:13.651Z"
   },
   {
    "duration": 150,
    "start_time": "2022-09-06T17:38:19.432Z"
   },
   {
    "duration": 156,
    "start_time": "2022-09-06T17:41:28.304Z"
   },
   {
    "duration": 160,
    "start_time": "2022-09-06T17:41:35.635Z"
   },
   {
    "duration": 136,
    "start_time": "2022-09-06T17:41:43.679Z"
   },
   {
    "duration": 166,
    "start_time": "2022-09-06T17:43:21.359Z"
   },
   {
    "duration": 150,
    "start_time": "2022-09-06T17:43:31.534Z"
   },
   {
    "duration": 164,
    "start_time": "2022-09-06T17:43:36.953Z"
   },
   {
    "duration": 180,
    "start_time": "2022-09-06T17:54:37.042Z"
   },
   {
    "duration": 152,
    "start_time": "2022-09-06T17:55:00.704Z"
   },
   {
    "duration": 139,
    "start_time": "2022-09-06T17:55:13.454Z"
   },
   {
    "duration": 8,
    "start_time": "2022-09-06T17:59:07.435Z"
   },
   {
    "duration": 138,
    "start_time": "2022-09-06T17:59:24.096Z"
   },
   {
    "duration": 749,
    "start_time": "2022-09-06T18:00:18.987Z"
   },
   {
    "duration": 286,
    "start_time": "2022-09-06T18:00:36.136Z"
   },
   {
    "duration": 4,
    "start_time": "2022-09-06T18:03:26.291Z"
   },
   {
    "duration": 5,
    "start_time": "2022-09-06T18:04:14.862Z"
   },
   {
    "duration": 237,
    "start_time": "2022-09-06T18:04:18.422Z"
   },
   {
    "duration": 248,
    "start_time": "2022-09-06T18:05:35.466Z"
   },
   {
    "duration": 147,
    "start_time": "2022-09-06T18:06:05.230Z"
   },
   {
    "duration": 1217,
    "start_time": "2022-09-06T18:20:35.977Z"
   },
   {
    "duration": 414,
    "start_time": "2022-09-06T18:20:37.196Z"
   },
   {
    "duration": 3,
    "start_time": "2022-09-06T18:20:37.612Z"
   },
   {
    "duration": 60,
    "start_time": "2022-09-06T18:20:37.616Z"
   },
   {
    "duration": 45,
    "start_time": "2022-09-06T18:20:37.679Z"
   },
   {
    "duration": 19,
    "start_time": "2022-09-06T18:20:37.726Z"
   },
   {
    "duration": 13,
    "start_time": "2022-09-06T18:20:37.746Z"
   },
   {
    "duration": 35,
    "start_time": "2022-09-06T18:20:37.760Z"
   },
   {
    "duration": 8,
    "start_time": "2022-09-06T18:20:37.796Z"
   },
   {
    "duration": 22,
    "start_time": "2022-09-06T18:20:37.805Z"
   },
   {
    "duration": 33,
    "start_time": "2022-09-06T18:20:37.829Z"
   },
   {
    "duration": 41,
    "start_time": "2022-09-06T18:20:37.864Z"
   },
   {
    "duration": 19,
    "start_time": "2022-09-06T18:20:37.906Z"
   },
   {
    "duration": 5,
    "start_time": "2022-09-06T18:20:37.928Z"
   },
   {
    "duration": 15,
    "start_time": "2022-09-06T18:20:37.934Z"
   },
   {
    "duration": 10,
    "start_time": "2022-09-06T18:20:37.950Z"
   },
   {
    "duration": 10,
    "start_time": "2022-09-06T18:20:37.984Z"
   },
   {
    "duration": 7,
    "start_time": "2022-09-06T18:20:37.995Z"
   },
   {
    "duration": 112,
    "start_time": "2022-09-06T18:20:38.004Z"
   },
   {
    "duration": 41,
    "start_time": "2022-09-06T18:20:38.117Z"
   },
   {
    "duration": 48,
    "start_time": "2022-09-06T18:20:38.160Z"
   },
   {
    "duration": 6,
    "start_time": "2022-09-06T18:20:38.210Z"
   },
   {
    "duration": 10,
    "start_time": "2022-09-06T18:20:38.217Z"
   },
   {
    "duration": 6,
    "start_time": "2022-09-06T18:20:38.228Z"
   },
   {
    "duration": 6,
    "start_time": "2022-09-06T18:20:38.235Z"
   },
   {
    "duration": 7,
    "start_time": "2022-09-06T18:20:38.242Z"
   },
   {
    "duration": 14,
    "start_time": "2022-09-06T18:20:38.250Z"
   },
   {
    "duration": 4,
    "start_time": "2022-09-06T18:20:38.285Z"
   },
   {
    "duration": 48,
    "start_time": "2022-09-06T18:20:38.291Z"
   },
   {
    "duration": 9,
    "start_time": "2022-09-06T18:20:38.340Z"
   },
   {
    "duration": 14,
    "start_time": "2022-09-06T18:20:38.350Z"
   },
   {
    "duration": 25,
    "start_time": "2022-09-06T18:20:38.365Z"
   },
   {
    "duration": 11,
    "start_time": "2022-09-06T18:20:38.392Z"
   },
   {
    "duration": 72,
    "start_time": "2022-09-06T18:20:38.404Z"
   },
   {
    "duration": 12,
    "start_time": "2022-09-06T18:20:38.478Z"
   },
   {
    "duration": 76,
    "start_time": "2022-09-06T18:20:38.492Z"
   },
   {
    "duration": 16,
    "start_time": "2022-09-06T18:20:38.570Z"
   },
   {
    "duration": 38,
    "start_time": "2022-09-06T18:20:38.587Z"
   },
   {
    "duration": 34,
    "start_time": "2022-09-06T18:20:38.626Z"
   },
   {
    "duration": 2,
    "start_time": "2022-09-06T18:20:38.662Z"
   },
   {
    "duration": 5,
    "start_time": "2022-09-06T18:20:38.684Z"
   },
   {
    "duration": 10,
    "start_time": "2022-09-06T18:20:38.690Z"
   },
   {
    "duration": 6,
    "start_time": "2022-09-06T18:20:38.701Z"
   },
   {
    "duration": 7,
    "start_time": "2022-09-06T18:20:38.708Z"
   },
   {
    "duration": 12,
    "start_time": "2022-09-06T18:20:38.717Z"
   },
   {
    "duration": 5,
    "start_time": "2022-09-06T18:20:38.731Z"
   },
   {
    "duration": 13,
    "start_time": "2022-09-06T18:20:38.738Z"
   },
   {
    "duration": 4,
    "start_time": "2022-09-06T18:20:38.753Z"
   },
   {
    "duration": 8,
    "start_time": "2022-09-06T18:20:38.759Z"
   },
   {
    "duration": 13,
    "start_time": "2022-09-06T18:20:38.785Z"
   },
   {
    "duration": 8,
    "start_time": "2022-09-06T18:20:38.800Z"
   },
   {
    "duration": 7,
    "start_time": "2022-09-06T18:20:38.810Z"
   },
   {
    "duration": 4,
    "start_time": "2022-09-06T18:20:38.818Z"
   },
   {
    "duration": 8,
    "start_time": "2022-09-06T18:20:38.823Z"
   },
   {
    "duration": 6,
    "start_time": "2022-09-06T18:20:38.832Z"
   },
   {
    "duration": 13,
    "start_time": "2022-09-06T18:20:38.839Z"
   },
   {
    "duration": 34,
    "start_time": "2022-09-06T18:20:38.853Z"
   },
   {
    "duration": 6,
    "start_time": "2022-09-06T18:20:38.888Z"
   },
   {
    "duration": 4404,
    "start_time": "2022-09-06T18:20:38.895Z"
   },
   {
    "duration": 8,
    "start_time": "2022-09-06T18:20:43.301Z"
   },
   {
    "duration": 6,
    "start_time": "2022-09-06T18:20:43.310Z"
   },
   {
    "duration": 7,
    "start_time": "2022-09-06T18:20:43.317Z"
   },
   {
    "duration": 26,
    "start_time": "2022-09-06T18:20:43.325Z"
   },
   {
    "duration": 4,
    "start_time": "2022-09-06T18:20:43.352Z"
   },
   {
    "duration": 45,
    "start_time": "2022-09-06T18:20:43.357Z"
   },
   {
    "duration": 6,
    "start_time": "2022-09-06T18:20:43.404Z"
   },
   {
    "duration": 8,
    "start_time": "2022-09-06T18:20:43.412Z"
   },
   {
    "duration": 25,
    "start_time": "2022-09-06T18:20:43.422Z"
   },
   {
    "duration": 13,
    "start_time": "2022-09-06T18:20:43.448Z"
   },
   {
    "duration": 24,
    "start_time": "2022-09-06T18:20:43.463Z"
   },
   {
    "duration": 177,
    "start_time": "2022-09-06T18:20:43.489Z"
   },
   {
    "duration": 145,
    "start_time": "2022-09-06T18:20:43.668Z"
   },
   {
    "duration": 145,
    "start_time": "2022-09-06T18:20:43.814Z"
   },
   {
    "duration": 162,
    "start_time": "2022-09-06T18:20:43.960Z"
   },
   {
    "duration": 148,
    "start_time": "2022-09-06T18:20:44.124Z"
   },
   {
    "duration": 137,
    "start_time": "2022-09-06T18:20:44.273Z"
   },
   {
    "duration": 188,
    "start_time": "2022-09-06T18:20:44.412Z"
   },
   {
    "duration": 211,
    "start_time": "2022-09-06T18:20:44.602Z"
   },
   {
    "duration": 331,
    "start_time": "2022-09-06T18:20:44.815Z"
   },
   {
    "duration": 320,
    "start_time": "2022-09-06T18:20:45.147Z"
   },
   {
    "duration": 327,
    "start_time": "2022-09-06T18:20:45.469Z"
   },
   {
    "duration": 5,
    "start_time": "2022-09-06T18:20:45.798Z"
   },
   {
    "duration": 157,
    "start_time": "2022-09-06T18:20:45.804Z"
   },
   {
    "duration": 6,
    "start_time": "2022-09-06T18:20:45.963Z"
   },
   {
    "duration": 14,
    "start_time": "2022-09-06T18:20:45.971Z"
   },
   {
    "duration": 4,
    "start_time": "2022-09-06T18:20:45.986Z"
   },
   {
    "duration": 20,
    "start_time": "2022-09-06T18:20:45.991Z"
   },
   {
    "duration": 153,
    "start_time": "2022-09-06T18:20:46.013Z"
   },
   {
    "duration": 139,
    "start_time": "2022-09-06T18:20:46.168Z"
   },
   {
    "duration": 148,
    "start_time": "2022-09-06T18:20:46.308Z"
   },
   {
    "duration": 12,
    "start_time": "2022-09-06T18:27:20.278Z"
   },
   {
    "duration": 1086,
    "start_time": "2022-09-06T18:31:51.179Z"
   },
   {
    "duration": 387,
    "start_time": "2022-09-06T18:31:52.267Z"
   },
   {
    "duration": 3,
    "start_time": "2022-09-06T18:31:52.655Z"
   },
   {
    "duration": 61,
    "start_time": "2022-09-06T18:31:52.660Z"
   },
   {
    "duration": 45,
    "start_time": "2022-09-06T18:31:52.723Z"
   },
   {
    "duration": 35,
    "start_time": "2022-09-06T18:31:52.770Z"
   },
   {
    "duration": 16,
    "start_time": "2022-09-06T18:31:52.807Z"
   },
   {
    "duration": 27,
    "start_time": "2022-09-06T18:31:52.824Z"
   },
   {
    "duration": 38,
    "start_time": "2022-09-06T18:31:52.853Z"
   },
   {
    "duration": 22,
    "start_time": "2022-09-06T18:31:52.893Z"
   },
   {
    "duration": 48,
    "start_time": "2022-09-06T18:31:52.917Z"
   },
   {
    "duration": 32,
    "start_time": "2022-09-06T18:31:52.967Z"
   },
   {
    "duration": 16,
    "start_time": "2022-09-06T18:31:53.000Z"
   },
   {
    "duration": 4,
    "start_time": "2022-09-06T18:31:53.019Z"
   },
   {
    "duration": 15,
    "start_time": "2022-09-06T18:31:53.025Z"
   },
   {
    "duration": 10,
    "start_time": "2022-09-06T18:31:53.041Z"
   },
   {
    "duration": 10,
    "start_time": "2022-09-06T18:31:53.052Z"
   },
   {
    "duration": 8,
    "start_time": "2022-09-06T18:31:53.085Z"
   },
   {
    "duration": 103,
    "start_time": "2022-09-06T18:31:53.095Z"
   },
   {
    "duration": 36,
    "start_time": "2022-09-06T18:31:53.199Z"
   },
   {
    "duration": 57,
    "start_time": "2022-09-06T18:31:53.237Z"
   },
   {
    "duration": 7,
    "start_time": "2022-09-06T18:31:53.295Z"
   },
   {
    "duration": 12,
    "start_time": "2022-09-06T18:31:53.303Z"
   },
   {
    "duration": 7,
    "start_time": "2022-09-06T18:31:53.316Z"
   },
   {
    "duration": 8,
    "start_time": "2022-09-06T18:31:53.325Z"
   },
   {
    "duration": 7,
    "start_time": "2022-09-06T18:31:53.335Z"
   },
   {
    "duration": 6,
    "start_time": "2022-09-06T18:31:53.343Z"
   },
   {
    "duration": 6,
    "start_time": "2022-09-06T18:31:53.350Z"
   },
   {
    "duration": 69,
    "start_time": "2022-09-06T18:31:53.357Z"
   },
   {
    "duration": 8,
    "start_time": "2022-09-06T18:31:53.428Z"
   },
   {
    "duration": 13,
    "start_time": "2022-09-06T18:31:53.438Z"
   },
   {
    "duration": 9,
    "start_time": "2022-09-06T18:31:53.453Z"
   },
   {
    "duration": 21,
    "start_time": "2022-09-06T18:31:53.464Z"
   },
   {
    "duration": 84,
    "start_time": "2022-09-06T18:31:53.487Z"
   },
   {
    "duration": 13,
    "start_time": "2022-09-06T18:31:53.573Z"
   },
   {
    "duration": 106,
    "start_time": "2022-09-06T18:31:53.588Z"
   },
   {
    "duration": 8,
    "start_time": "2022-09-06T18:31:53.696Z"
   },
   {
    "duration": 39,
    "start_time": "2022-09-06T18:31:53.706Z"
   },
   {
    "duration": 63,
    "start_time": "2022-09-06T18:31:53.747Z"
   },
   {
    "duration": 2,
    "start_time": "2022-09-06T18:31:53.812Z"
   },
   {
    "duration": 7,
    "start_time": "2022-09-06T18:31:53.818Z"
   },
   {
    "duration": 11,
    "start_time": "2022-09-06T18:31:53.826Z"
   },
   {
    "duration": 9,
    "start_time": "2022-09-06T18:31:53.838Z"
   },
   {
    "duration": 10,
    "start_time": "2022-09-06T18:31:53.848Z"
   },
   {
    "duration": 26,
    "start_time": "2022-09-06T18:31:53.859Z"
   },
   {
    "duration": 6,
    "start_time": "2022-09-06T18:31:53.887Z"
   },
   {
    "duration": 6,
    "start_time": "2022-09-06T18:31:53.895Z"
   },
   {
    "duration": 4,
    "start_time": "2022-09-06T18:31:53.903Z"
   },
   {
    "duration": 8,
    "start_time": "2022-09-06T18:31:53.909Z"
   },
   {
    "duration": 14,
    "start_time": "2022-09-06T18:31:53.918Z"
   },
   {
    "duration": 8,
    "start_time": "2022-09-06T18:31:53.933Z"
   },
   {
    "duration": 42,
    "start_time": "2022-09-06T18:31:53.943Z"
   },
   {
    "duration": 7,
    "start_time": "2022-09-06T18:31:53.987Z"
   },
   {
    "duration": 9,
    "start_time": "2022-09-06T18:31:53.996Z"
   },
   {
    "duration": 12,
    "start_time": "2022-09-06T18:31:54.006Z"
   },
   {
    "duration": 18,
    "start_time": "2022-09-06T18:31:54.020Z"
   },
   {
    "duration": 5,
    "start_time": "2022-09-06T18:31:54.040Z"
   },
   {
    "duration": 6,
    "start_time": "2022-09-06T18:31:54.046Z"
   },
   {
    "duration": 4351,
    "start_time": "2022-09-06T18:31:54.053Z"
   },
   {
    "duration": 10,
    "start_time": "2022-09-06T18:31:58.405Z"
   },
   {
    "duration": 8,
    "start_time": "2022-09-06T18:31:58.417Z"
   },
   {
    "duration": 10,
    "start_time": "2022-09-06T18:31:58.426Z"
   },
   {
    "duration": 28,
    "start_time": "2022-09-06T18:31:58.438Z"
   },
   {
    "duration": 17,
    "start_time": "2022-09-06T18:31:58.468Z"
   },
   {
    "duration": 36,
    "start_time": "2022-09-06T18:31:58.489Z"
   },
   {
    "duration": 6,
    "start_time": "2022-09-06T18:31:58.527Z"
   },
   {
    "duration": 9,
    "start_time": "2022-09-06T18:31:58.534Z"
   },
   {
    "duration": 14,
    "start_time": "2022-09-06T18:31:58.544Z"
   },
   {
    "duration": 12,
    "start_time": "2022-09-06T18:31:58.559Z"
   },
   {
    "duration": 28,
    "start_time": "2022-09-06T18:31:58.572Z"
   },
   {
    "duration": 153,
    "start_time": "2022-09-06T18:31:58.602Z"
   },
   {
    "duration": 143,
    "start_time": "2022-09-06T18:31:58.757Z"
   },
   {
    "duration": 156,
    "start_time": "2022-09-06T18:31:58.901Z"
   },
   {
    "duration": 161,
    "start_time": "2022-09-06T18:31:59.058Z"
   },
   {
    "duration": 156,
    "start_time": "2022-09-06T18:31:59.221Z"
   },
   {
    "duration": 145,
    "start_time": "2022-09-06T18:31:59.386Z"
   },
   {
    "duration": 144,
    "start_time": "2022-09-06T18:31:59.533Z"
   },
   {
    "duration": 197,
    "start_time": "2022-09-06T18:31:59.678Z"
   },
   {
    "duration": 340,
    "start_time": "2022-09-06T18:31:59.876Z"
   },
   {
    "duration": 321,
    "start_time": "2022-09-06T18:32:00.218Z"
   },
   {
    "duration": 325,
    "start_time": "2022-09-06T18:32:00.541Z"
   },
   {
    "duration": 5,
    "start_time": "2022-09-06T18:32:00.867Z"
   },
   {
    "duration": 164,
    "start_time": "2022-09-06T18:32:00.873Z"
   },
   {
    "duration": 7,
    "start_time": "2022-09-06T18:32:01.038Z"
   },
   {
    "duration": 14,
    "start_time": "2022-09-06T18:32:01.046Z"
   },
   {
    "duration": 8,
    "start_time": "2022-09-06T18:32:01.061Z"
   },
   {
    "duration": 26,
    "start_time": "2022-09-06T18:32:01.070Z"
   },
   {
    "duration": 170,
    "start_time": "2022-09-06T18:32:01.098Z"
   },
   {
    "duration": 160,
    "start_time": "2022-09-06T18:32:01.269Z"
   },
   {
    "duration": 183,
    "start_time": "2022-09-06T18:32:01.432Z"
   },
   {
    "duration": 1344,
    "start_time": "2022-09-06T20:51:05.929Z"
   },
   {
    "duration": 1075,
    "start_time": "2022-09-06T20:51:58.772Z"
   },
   {
    "duration": 12508,
    "start_time": "2022-09-06T20:51:59.849Z"
   },
   {
    "duration": 2,
    "start_time": "2022-09-06T20:52:12.359Z"
   },
   {
    "duration": 55,
    "start_time": "2022-09-06T20:52:12.363Z"
   },
   {
    "duration": 46,
    "start_time": "2022-09-06T20:52:12.420Z"
   },
   {
    "duration": 34,
    "start_time": "2022-09-06T20:52:12.467Z"
   },
   {
    "duration": 14,
    "start_time": "2022-09-06T20:52:12.503Z"
   },
   {
    "duration": 19,
    "start_time": "2022-09-06T20:52:12.518Z"
   },
   {
    "duration": 7,
    "start_time": "2022-09-06T20:52:12.539Z"
   },
   {
    "duration": 30,
    "start_time": "2022-09-06T20:52:12.548Z"
   },
   {
    "duration": 46,
    "start_time": "2022-09-06T20:52:12.579Z"
   },
   {
    "duration": 23,
    "start_time": "2022-09-06T20:52:12.627Z"
   },
   {
    "duration": 19,
    "start_time": "2022-09-06T20:52:12.651Z"
   },
   {
    "duration": 5,
    "start_time": "2022-09-06T20:52:12.671Z"
   },
   {
    "duration": 27,
    "start_time": "2022-09-06T20:52:12.678Z"
   },
   {
    "duration": 12,
    "start_time": "2022-09-06T20:52:12.707Z"
   },
   {
    "duration": 10,
    "start_time": "2022-09-06T20:52:12.720Z"
   },
   {
    "duration": 6,
    "start_time": "2022-09-06T20:52:12.732Z"
   },
   {
    "duration": 113,
    "start_time": "2022-09-06T20:52:12.739Z"
   },
   {
    "duration": 45,
    "start_time": "2022-09-06T20:52:12.854Z"
   },
   {
    "duration": 38,
    "start_time": "2022-09-06T20:52:12.901Z"
   },
   {
    "duration": 7,
    "start_time": "2022-09-06T20:52:12.941Z"
   },
   {
    "duration": 10,
    "start_time": "2022-09-06T20:52:12.949Z"
   },
   {
    "duration": 5,
    "start_time": "2022-09-06T20:52:12.960Z"
   },
   {
    "duration": 34,
    "start_time": "2022-09-06T20:52:12.966Z"
   },
   {
    "duration": 5,
    "start_time": "2022-09-06T20:52:13.001Z"
   },
   {
    "duration": 11,
    "start_time": "2022-09-06T20:52:13.007Z"
   },
   {
    "duration": 6,
    "start_time": "2022-09-06T20:52:13.022Z"
   },
   {
    "duration": 30,
    "start_time": "2022-09-06T20:52:13.030Z"
   },
   {
    "duration": 8,
    "start_time": "2022-09-06T20:52:13.062Z"
   },
   {
    "duration": 9,
    "start_time": "2022-09-06T20:52:13.071Z"
   },
   {
    "duration": 7,
    "start_time": "2022-09-06T20:52:13.098Z"
   },
   {
    "duration": 5,
    "start_time": "2022-09-06T20:52:13.107Z"
   },
   {
    "duration": 69,
    "start_time": "2022-09-06T20:52:13.113Z"
   },
   {
    "duration": 8,
    "start_time": "2022-09-06T20:52:13.197Z"
   },
   {
    "duration": 91,
    "start_time": "2022-09-06T20:52:13.207Z"
   },
   {
    "duration": 8,
    "start_time": "2022-09-06T20:52:13.300Z"
   },
   {
    "duration": 43,
    "start_time": "2022-09-06T20:52:13.309Z"
   },
   {
    "duration": 50,
    "start_time": "2022-09-06T20:52:13.353Z"
   },
   {
    "duration": 3,
    "start_time": "2022-09-06T20:52:13.404Z"
   },
   {
    "duration": 8,
    "start_time": "2022-09-06T20:52:13.408Z"
   },
   {
    "duration": 8,
    "start_time": "2022-09-06T20:52:13.418Z"
   },
   {
    "duration": 6,
    "start_time": "2022-09-06T20:52:13.427Z"
   },
   {
    "duration": 3,
    "start_time": "2022-09-06T20:52:13.435Z"
   },
   {
    "duration": 5,
    "start_time": "2022-09-06T20:52:13.440Z"
   },
   {
    "duration": 5,
    "start_time": "2022-09-06T20:52:13.446Z"
   },
   {
    "duration": 5,
    "start_time": "2022-09-06T20:52:13.452Z"
   },
   {
    "duration": 4,
    "start_time": "2022-09-06T20:52:13.459Z"
   },
   {
    "duration": 35,
    "start_time": "2022-09-06T20:52:13.465Z"
   },
   {
    "duration": 16,
    "start_time": "2022-09-06T20:52:13.501Z"
   },
   {
    "duration": 7,
    "start_time": "2022-09-06T20:52:13.518Z"
   },
   {
    "duration": 9,
    "start_time": "2022-09-06T20:52:13.526Z"
   },
   {
    "duration": 10,
    "start_time": "2022-09-06T20:52:13.537Z"
   },
   {
    "duration": 8,
    "start_time": "2022-09-06T20:52:13.548Z"
   },
   {
    "duration": 13,
    "start_time": "2022-09-06T20:52:13.558Z"
   },
   {
    "duration": 26,
    "start_time": "2022-09-06T20:52:13.572Z"
   },
   {
    "duration": 4,
    "start_time": "2022-09-06T20:52:13.600Z"
   },
   {
    "duration": 14,
    "start_time": "2022-09-06T20:52:13.605Z"
   },
   {
    "duration": 4476,
    "start_time": "2022-09-06T20:52:13.620Z"
   },
   {
    "duration": 7,
    "start_time": "2022-09-06T20:52:18.098Z"
   },
   {
    "duration": 7,
    "start_time": "2022-09-06T20:52:18.107Z"
   },
   {
    "duration": 6,
    "start_time": "2022-09-06T20:52:18.115Z"
   },
   {
    "duration": 27,
    "start_time": "2022-09-06T20:52:18.123Z"
   },
   {
    "duration": 3,
    "start_time": "2022-09-06T20:52:18.152Z"
   },
   {
    "duration": 22,
    "start_time": "2022-09-06T20:52:18.157Z"
   },
   {
    "duration": 20,
    "start_time": "2022-09-06T20:52:18.181Z"
   },
   {
    "duration": 6,
    "start_time": "2022-09-06T20:52:18.202Z"
   },
   {
    "duration": 13,
    "start_time": "2022-09-06T20:52:18.210Z"
   },
   {
    "duration": 11,
    "start_time": "2022-09-06T20:52:18.224Z"
   },
   {
    "duration": 9,
    "start_time": "2022-09-06T20:52:18.236Z"
   },
   {
    "duration": 182,
    "start_time": "2022-09-06T20:52:18.246Z"
   },
   {
    "duration": 137,
    "start_time": "2022-09-06T20:52:18.430Z"
   },
   {
    "duration": 153,
    "start_time": "2022-09-06T20:52:18.569Z"
   },
   {
    "duration": 152,
    "start_time": "2022-09-06T20:52:18.723Z"
   },
   {
    "duration": 148,
    "start_time": "2022-09-06T20:52:18.876Z"
   },
   {
    "duration": 144,
    "start_time": "2022-09-06T20:52:19.025Z"
   },
   {
    "duration": 146,
    "start_time": "2022-09-06T20:52:19.171Z"
   },
   {
    "duration": 199,
    "start_time": "2022-09-06T20:52:19.319Z"
   },
   {
    "duration": 308,
    "start_time": "2022-09-06T20:52:19.520Z"
   },
   {
    "duration": 315,
    "start_time": "2022-09-06T20:52:19.830Z"
   },
   {
    "duration": 313,
    "start_time": "2022-09-06T20:52:20.147Z"
   },
   {
    "duration": 5,
    "start_time": "2022-09-06T20:52:20.465Z"
   },
   {
    "duration": 148,
    "start_time": "2022-09-06T20:52:20.472Z"
   },
   {
    "duration": 7,
    "start_time": "2022-09-06T20:52:20.621Z"
   },
   {
    "duration": 4,
    "start_time": "2022-09-06T20:52:20.629Z"
   },
   {
    "duration": 8,
    "start_time": "2022-09-06T20:52:20.634Z"
   },
   {
    "duration": 11,
    "start_time": "2022-09-06T20:52:20.643Z"
   },
   {
    "duration": 155,
    "start_time": "2022-09-06T20:52:20.655Z"
   },
   {
    "duration": 140,
    "start_time": "2022-09-06T20:52:20.812Z"
   },
   {
    "duration": 159,
    "start_time": "2022-09-06T20:52:20.954Z"
   },
   {
    "duration": 4,
    "start_time": "2022-09-06T21:10:45.265Z"
   },
   {
    "duration": 4,
    "start_time": "2022-09-06T23:11:28.409Z"
   },
   {
    "duration": 3,
    "start_time": "2022-09-06T23:11:33.873Z"
   },
   {
    "duration": 9,
    "start_time": "2022-09-06T23:18:39.030Z"
   },
   {
    "duration": 8,
    "start_time": "2022-09-06T23:18:52.425Z"
   }
  ],
  "kernelspec": {
   "display_name": "Python 3 (ipykernel)",
   "language": "python",
   "name": "python3"
  },
  "language_info": {
   "codemirror_mode": {
    "name": "ipython",
    "version": 3
   },
   "file_extension": ".py",
   "mimetype": "text/x-python",
   "name": "python",
   "nbconvert_exporter": "python",
   "pygments_lexer": "ipython3",
   "version": "3.10.11"
  },
  "toc": {
   "base_numbering": 1,
   "nav_menu": {},
   "number_sections": true,
   "sideBar": true,
   "skip_h1_title": true,
   "title_cell": "Table of Contents",
   "title_sidebar": "Contents",
   "toc_cell": false,
   "toc_position": {
    "height": "calc(100% - 180px)",
    "left": "10px",
    "top": "150px",
    "width": "176.682px"
   },
   "toc_section_display": true,
   "toc_window_display": false
  }
 },
 "nbformat": 4,
 "nbformat_minor": 2
}
