{
 "cells": [
  {
   "cell_type": "markdown",
   "id": "7c28646a",
   "metadata": {},
   "source": [
    "# Исследование надежности заемщиков."
   ]
  },
  {
   "cell_type": "markdown",
   "id": "d9630e73",
   "metadata": {},
   "source": [
    "Нужно разобраться, как влияют семейное положение, количество детей, уровень дохода и цели кредита на факт погашения кредита в срок. Входные данные от банка — статистика о платёжеспособности клиентов. Результаты исследования будут учтены при построении модели кредитного скоринга."
   ]
  },
  {
   "cell_type": "markdown",
   "id": "62b78ca6",
   "metadata": {},
   "source": [
    "### Шаг 1. Обзор данных"
   ]
  },
  {
   "cell_type": "code",
   "execution_count": 1,
   "id": "9c60221f",
   "metadata": {},
   "outputs": [
    {
     "data": {
      "text/html": [
       "<div>\n",
       "<style scoped>\n",
       "    .dataframe tbody tr th:only-of-type {\n",
       "        vertical-align: middle;\n",
       "    }\n",
       "\n",
       "    .dataframe tbody tr th {\n",
       "        vertical-align: top;\n",
       "    }\n",
       "\n",
       "    .dataframe thead th {\n",
       "        text-align: right;\n",
       "    }\n",
       "</style>\n",
       "<table border=\"1\" class=\"dataframe\">\n",
       "  <thead>\n",
       "    <tr style=\"text-align: right;\">\n",
       "      <th></th>\n",
       "      <th>children</th>\n",
       "      <th>days_employed</th>\n",
       "      <th>dob_years</th>\n",
       "      <th>education</th>\n",
       "      <th>education_id</th>\n",
       "      <th>family_status</th>\n",
       "      <th>family_status_id</th>\n",
       "      <th>gender</th>\n",
       "      <th>income_type</th>\n",
       "      <th>debt</th>\n",
       "      <th>total_income</th>\n",
       "      <th>purpose</th>\n",
       "    </tr>\n",
       "  </thead>\n",
       "  <tbody>\n",
       "    <tr>\n",
       "      <th>0</th>\n",
       "      <td>1</td>\n",
       "      <td>-8437.673028</td>\n",
       "      <td>42</td>\n",
       "      <td>высшее</td>\n",
       "      <td>0</td>\n",
       "      <td>женат / замужем</td>\n",
       "      <td>0</td>\n",
       "      <td>F</td>\n",
       "      <td>сотрудник</td>\n",
       "      <td>0</td>\n",
       "      <td>253875.639453</td>\n",
       "      <td>покупка жилья</td>\n",
       "    </tr>\n",
       "    <tr>\n",
       "      <th>1</th>\n",
       "      <td>1</td>\n",
       "      <td>-4024.803754</td>\n",
       "      <td>36</td>\n",
       "      <td>среднее</td>\n",
       "      <td>1</td>\n",
       "      <td>женат / замужем</td>\n",
       "      <td>0</td>\n",
       "      <td>F</td>\n",
       "      <td>сотрудник</td>\n",
       "      <td>0</td>\n",
       "      <td>112080.014102</td>\n",
       "      <td>приобретение автомобиля</td>\n",
       "    </tr>\n",
       "    <tr>\n",
       "      <th>2</th>\n",
       "      <td>0</td>\n",
       "      <td>-5623.422610</td>\n",
       "      <td>33</td>\n",
       "      <td>Среднее</td>\n",
       "      <td>1</td>\n",
       "      <td>женат / замужем</td>\n",
       "      <td>0</td>\n",
       "      <td>M</td>\n",
       "      <td>сотрудник</td>\n",
       "      <td>0</td>\n",
       "      <td>145885.952297</td>\n",
       "      <td>покупка жилья</td>\n",
       "    </tr>\n",
       "    <tr>\n",
       "      <th>3</th>\n",
       "      <td>3</td>\n",
       "      <td>-4124.747207</td>\n",
       "      <td>32</td>\n",
       "      <td>среднее</td>\n",
       "      <td>1</td>\n",
       "      <td>женат / замужем</td>\n",
       "      <td>0</td>\n",
       "      <td>M</td>\n",
       "      <td>сотрудник</td>\n",
       "      <td>0</td>\n",
       "      <td>267628.550329</td>\n",
       "      <td>дополнительное образование</td>\n",
       "    </tr>\n",
       "    <tr>\n",
       "      <th>4</th>\n",
       "      <td>0</td>\n",
       "      <td>340266.072047</td>\n",
       "      <td>53</td>\n",
       "      <td>среднее</td>\n",
       "      <td>1</td>\n",
       "      <td>гражданский брак</td>\n",
       "      <td>1</td>\n",
       "      <td>F</td>\n",
       "      <td>пенсионер</td>\n",
       "      <td>0</td>\n",
       "      <td>158616.077870</td>\n",
       "      <td>сыграть свадьбу</td>\n",
       "    </tr>\n",
       "  </tbody>\n",
       "</table>\n",
       "</div>"
      ],
      "text/plain": [
       "   children  days_employed  dob_years education  education_id  \\\n",
       "0         1   -8437.673028         42    высшее             0   \n",
       "1         1   -4024.803754         36   среднее             1   \n",
       "2         0   -5623.422610         33   Среднее             1   \n",
       "3         3   -4124.747207         32   среднее             1   \n",
       "4         0  340266.072047         53   среднее             1   \n",
       "\n",
       "      family_status  family_status_id gender income_type  debt   total_income  \\\n",
       "0   женат / замужем                 0      F   сотрудник     0  253875.639453   \n",
       "1   женат / замужем                 0      F   сотрудник     0  112080.014102   \n",
       "2   женат / замужем                 0      M   сотрудник     0  145885.952297   \n",
       "3   женат / замужем                 0      M   сотрудник     0  267628.550329   \n",
       "4  гражданский брак                 1      F   пенсионер     0  158616.077870   \n",
       "\n",
       "                      purpose  \n",
       "0               покупка жилья  \n",
       "1     приобретение автомобиля  \n",
       "2               покупка жилья  \n",
       "3  дополнительное образование  \n",
       "4             сыграть свадьбу  "
      ]
     },
     "metadata": {},
     "output_type": "display_data"
    },
    {
     "name": "stdout",
     "output_type": "stream",
     "text": [
      "<class 'pandas.core.frame.DataFrame'>\n",
      "RangeIndex: 21525 entries, 0 to 21524\n",
      "Data columns (total 12 columns):\n",
      " #   Column            Non-Null Count  Dtype  \n",
      "---  ------            --------------  -----  \n",
      " 0   children          21525 non-null  int64  \n",
      " 1   days_employed     19351 non-null  float64\n",
      " 2   dob_years         21525 non-null  int64  \n",
      " 3   education         21525 non-null  object \n",
      " 4   education_id      21525 non-null  int64  \n",
      " 5   family_status     21525 non-null  object \n",
      " 6   family_status_id  21525 non-null  int64  \n",
      " 7   gender            21525 non-null  object \n",
      " 8   income_type       21525 non-null  object \n",
      " 9   debt              21525 non-null  int64  \n",
      " 10  total_income      19351 non-null  float64\n",
      " 11  purpose           21525 non-null  object \n",
      "dtypes: float64(2), int64(5), object(5)\n",
      "memory usage: 2.0+ MB\n"
     ]
    },
    {
     "data": {
      "text/html": [
       "<div>\n",
       "<style scoped>\n",
       "    .dataframe tbody tr th:only-of-type {\n",
       "        vertical-align: middle;\n",
       "    }\n",
       "\n",
       "    .dataframe tbody tr th {\n",
       "        vertical-align: top;\n",
       "    }\n",
       "\n",
       "    .dataframe thead th {\n",
       "        text-align: right;\n",
       "    }\n",
       "</style>\n",
       "<table border=\"1\" class=\"dataframe\">\n",
       "  <thead>\n",
       "    <tr style=\"text-align: right;\">\n",
       "      <th></th>\n",
       "      <th>children</th>\n",
       "      <th>days_employed</th>\n",
       "      <th>dob_years</th>\n",
       "      <th>education_id</th>\n",
       "      <th>family_status_id</th>\n",
       "      <th>debt</th>\n",
       "      <th>total_income</th>\n",
       "    </tr>\n",
       "  </thead>\n",
       "  <tbody>\n",
       "    <tr>\n",
       "      <th>count</th>\n",
       "      <td>21525.000000</td>\n",
       "      <td>19351.000000</td>\n",
       "      <td>21525.000000</td>\n",
       "      <td>21525.000000</td>\n",
       "      <td>21525.000000</td>\n",
       "      <td>21525.000000</td>\n",
       "      <td>1.935100e+04</td>\n",
       "    </tr>\n",
       "    <tr>\n",
       "      <th>mean</th>\n",
       "      <td>0.538908</td>\n",
       "      <td>63046.497661</td>\n",
       "      <td>43.293380</td>\n",
       "      <td>0.817236</td>\n",
       "      <td>0.972544</td>\n",
       "      <td>0.080883</td>\n",
       "      <td>1.674223e+05</td>\n",
       "    </tr>\n",
       "    <tr>\n",
       "      <th>std</th>\n",
       "      <td>1.381587</td>\n",
       "      <td>140827.311974</td>\n",
       "      <td>12.574584</td>\n",
       "      <td>0.548138</td>\n",
       "      <td>1.420324</td>\n",
       "      <td>0.272661</td>\n",
       "      <td>1.029716e+05</td>\n",
       "    </tr>\n",
       "    <tr>\n",
       "      <th>min</th>\n",
       "      <td>-1.000000</td>\n",
       "      <td>-18388.949901</td>\n",
       "      <td>0.000000</td>\n",
       "      <td>0.000000</td>\n",
       "      <td>0.000000</td>\n",
       "      <td>0.000000</td>\n",
       "      <td>2.066726e+04</td>\n",
       "    </tr>\n",
       "    <tr>\n",
       "      <th>25%</th>\n",
       "      <td>0.000000</td>\n",
       "      <td>-2747.423625</td>\n",
       "      <td>33.000000</td>\n",
       "      <td>1.000000</td>\n",
       "      <td>0.000000</td>\n",
       "      <td>0.000000</td>\n",
       "      <td>1.030532e+05</td>\n",
       "    </tr>\n",
       "    <tr>\n",
       "      <th>50%</th>\n",
       "      <td>0.000000</td>\n",
       "      <td>-1203.369529</td>\n",
       "      <td>42.000000</td>\n",
       "      <td>1.000000</td>\n",
       "      <td>0.000000</td>\n",
       "      <td>0.000000</td>\n",
       "      <td>1.450179e+05</td>\n",
       "    </tr>\n",
       "    <tr>\n",
       "      <th>75%</th>\n",
       "      <td>1.000000</td>\n",
       "      <td>-291.095954</td>\n",
       "      <td>53.000000</td>\n",
       "      <td>1.000000</td>\n",
       "      <td>1.000000</td>\n",
       "      <td>0.000000</td>\n",
       "      <td>2.034351e+05</td>\n",
       "    </tr>\n",
       "    <tr>\n",
       "      <th>max</th>\n",
       "      <td>20.000000</td>\n",
       "      <td>401755.400475</td>\n",
       "      <td>75.000000</td>\n",
       "      <td>4.000000</td>\n",
       "      <td>4.000000</td>\n",
       "      <td>1.000000</td>\n",
       "      <td>2.265604e+06</td>\n",
       "    </tr>\n",
       "  </tbody>\n",
       "</table>\n",
       "</div>"
      ],
      "text/plain": [
       "           children  days_employed     dob_years  education_id  \\\n",
       "count  21525.000000   19351.000000  21525.000000  21525.000000   \n",
       "mean       0.538908   63046.497661     43.293380      0.817236   \n",
       "std        1.381587  140827.311974     12.574584      0.548138   \n",
       "min       -1.000000  -18388.949901      0.000000      0.000000   \n",
       "25%        0.000000   -2747.423625     33.000000      1.000000   \n",
       "50%        0.000000   -1203.369529     42.000000      1.000000   \n",
       "75%        1.000000    -291.095954     53.000000      1.000000   \n",
       "max       20.000000  401755.400475     75.000000      4.000000   \n",
       "\n",
       "       family_status_id          debt  total_income  \n",
       "count      21525.000000  21525.000000  1.935100e+04  \n",
       "mean           0.972544      0.080883  1.674223e+05  \n",
       "std            1.420324      0.272661  1.029716e+05  \n",
       "min            0.000000      0.000000  2.066726e+04  \n",
       "25%            0.000000      0.000000  1.030532e+05  \n",
       "50%            0.000000      0.000000  1.450179e+05  \n",
       "75%            1.000000      0.000000  2.034351e+05  \n",
       "max            4.000000      1.000000  2.265604e+06  "
      ]
     },
     "metadata": {},
     "output_type": "display_data"
    }
   ],
   "source": [
    "import pandas as pd\n",
    "\n",
    "df = pd.read_csv('/datasets/data.csv')\n",
    "display(df.head())\n",
    "df.info()\n",
    "display(df. describe())"
   ]
  },
  {
   "cell_type": "markdown",
   "id": "84f645ba",
   "metadata": {},
   "source": [
    "В столбце `days_employed` сразу видно аномальные значения - минусовые и очень большие.\n",
    "Названия столбцов соответствуют стилю."
   ]
  },
  {
   "cell_type": "markdown",
   "id": "e2a2fafa",
   "metadata": {},
   "source": [
    "В `describe` сразу видно аномальные `min` и `max` в категориях `children`, `days_employed`, `dob_years`."
   ]
  },
  {
   "cell_type": "markdown",
   "id": "c57294bf",
   "metadata": {},
   "source": [
    "### Шаг 2.1 Заполнение пропусков\n"
   ]
  },
  {
   "cell_type": "code",
   "execution_count": 2,
   "id": "ae6e1a0b",
   "metadata": {},
   "outputs": [
    {
     "data": {
      "text/plain": [
       "children               0\n",
       "days_employed       2174\n",
       "dob_years              0\n",
       "education              0\n",
       "education_id           0\n",
       "family_status          0\n",
       "family_status_id       0\n",
       "gender                 0\n",
       "income_type            0\n",
       "debt                   0\n",
       "total_income        2174\n",
       "purpose                0\n",
       "dtype: int64"
      ]
     },
     "execution_count": 2,
     "metadata": {},
     "output_type": "execute_result"
    }
   ],
   "source": [
    "df.isna().sum()"
   ]
  },
  {
   "cell_type": "markdown",
   "id": "c05f5e6a",
   "metadata": {},
   "source": [
    "Пропуски есть в двух столбцах и одинаковое количество. "
   ]
  },
  {
   "cell_type": "code",
   "execution_count": 3,
   "id": "6a78a628",
   "metadata": {
    "scrolled": true
   },
   "outputs": [
    {
     "data": {
      "text/html": [
       "<div>\n",
       "<style scoped>\n",
       "    .dataframe tbody tr th:only-of-type {\n",
       "        vertical-align: middle;\n",
       "    }\n",
       "\n",
       "    .dataframe tbody tr th {\n",
       "        vertical-align: top;\n",
       "    }\n",
       "\n",
       "    .dataframe thead th {\n",
       "        text-align: right;\n",
       "    }\n",
       "</style>\n",
       "<table border=\"1\" class=\"dataframe\">\n",
       "  <thead>\n",
       "    <tr style=\"text-align: right;\">\n",
       "      <th></th>\n",
       "      <th>children</th>\n",
       "      <th>days_employed</th>\n",
       "      <th>dob_years</th>\n",
       "      <th>education</th>\n",
       "      <th>education_id</th>\n",
       "      <th>family_status</th>\n",
       "      <th>family_status_id</th>\n",
       "      <th>gender</th>\n",
       "      <th>income_type</th>\n",
       "      <th>debt</th>\n",
       "      <th>total_income</th>\n",
       "      <th>purpose</th>\n",
       "    </tr>\n",
       "  </thead>\n",
       "  <tbody>\n",
       "    <tr>\n",
       "      <th>12</th>\n",
       "      <td>0</td>\n",
       "      <td>NaN</td>\n",
       "      <td>65</td>\n",
       "      <td>среднее</td>\n",
       "      <td>1</td>\n",
       "      <td>гражданский брак</td>\n",
       "      <td>1</td>\n",
       "      <td>M</td>\n",
       "      <td>пенсионер</td>\n",
       "      <td>0</td>\n",
       "      <td>NaN</td>\n",
       "      <td>сыграть свадьбу</td>\n",
       "    </tr>\n",
       "    <tr>\n",
       "      <th>26</th>\n",
       "      <td>0</td>\n",
       "      <td>NaN</td>\n",
       "      <td>41</td>\n",
       "      <td>среднее</td>\n",
       "      <td>1</td>\n",
       "      <td>женат / замужем</td>\n",
       "      <td>0</td>\n",
       "      <td>M</td>\n",
       "      <td>госслужащий</td>\n",
       "      <td>0</td>\n",
       "      <td>NaN</td>\n",
       "      <td>образование</td>\n",
       "    </tr>\n",
       "    <tr>\n",
       "      <th>29</th>\n",
       "      <td>0</td>\n",
       "      <td>NaN</td>\n",
       "      <td>63</td>\n",
       "      <td>среднее</td>\n",
       "      <td>1</td>\n",
       "      <td>Не женат / не замужем</td>\n",
       "      <td>4</td>\n",
       "      <td>F</td>\n",
       "      <td>пенсионер</td>\n",
       "      <td>0</td>\n",
       "      <td>NaN</td>\n",
       "      <td>строительство жилой недвижимости</td>\n",
       "    </tr>\n",
       "    <tr>\n",
       "      <th>41</th>\n",
       "      <td>0</td>\n",
       "      <td>NaN</td>\n",
       "      <td>50</td>\n",
       "      <td>среднее</td>\n",
       "      <td>1</td>\n",
       "      <td>женат / замужем</td>\n",
       "      <td>0</td>\n",
       "      <td>F</td>\n",
       "      <td>госслужащий</td>\n",
       "      <td>0</td>\n",
       "      <td>NaN</td>\n",
       "      <td>сделка с подержанным автомобилем</td>\n",
       "    </tr>\n",
       "    <tr>\n",
       "      <th>55</th>\n",
       "      <td>0</td>\n",
       "      <td>NaN</td>\n",
       "      <td>54</td>\n",
       "      <td>среднее</td>\n",
       "      <td>1</td>\n",
       "      <td>гражданский брак</td>\n",
       "      <td>1</td>\n",
       "      <td>F</td>\n",
       "      <td>пенсионер</td>\n",
       "      <td>1</td>\n",
       "      <td>NaN</td>\n",
       "      <td>сыграть свадьбу</td>\n",
       "    </tr>\n",
       "  </tbody>\n",
       "</table>\n",
       "</div>"
      ],
      "text/plain": [
       "    children  days_employed  dob_years education  education_id  \\\n",
       "12         0            NaN         65   среднее             1   \n",
       "26         0            NaN         41   среднее             1   \n",
       "29         0            NaN         63   среднее             1   \n",
       "41         0            NaN         50   среднее             1   \n",
       "55         0            NaN         54   среднее             1   \n",
       "\n",
       "            family_status  family_status_id gender  income_type  debt  \\\n",
       "12       гражданский брак                 1      M    пенсионер     0   \n",
       "26        женат / замужем                 0      M  госслужащий     0   \n",
       "29  Не женат / не замужем                 4      F    пенсионер     0   \n",
       "41        женат / замужем                 0      F  госслужащий     0   \n",
       "55       гражданский брак                 1      F    пенсионер     1   \n",
       "\n",
       "    total_income                           purpose  \n",
       "12           NaN                   сыграть свадьбу  \n",
       "26           NaN                       образование  \n",
       "29           NaN  строительство жилой недвижимости  \n",
       "41           NaN  сделка с подержанным автомобилем  \n",
       "55           NaN                   сыграть свадьбу  "
      ]
     },
     "metadata": {},
     "output_type": "display_data"
    }
   ],
   "source": [
    "display(df[df['days_employed'].isna()].head(5))"
   ]
  },
  {
   "cell_type": "markdown",
   "id": "d6f4aa51",
   "metadata": {},
   "source": [
    "Посчитаем процент пропусков."
   ]
  },
  {
   "cell_type": "code",
   "execution_count": 4,
   "id": "f522b1a6",
   "metadata": {},
   "outputs": [
    {
     "name": "stdout",
     "output_type": "stream",
     "text": [
      "Процент пропусков: 10%\n"
     ]
    }
   ],
   "source": [
    "print(f'Процент пропусков: {df.days_employed.isna().sum() / df.shape[0]:.0%}')"
   ]
  },
  {
   "cell_type": "markdown",
   "id": "4229c6cb",
   "metadata": {},
   "source": [
    "Проверим на отрицательные значения столбец `total_income`."
   ]
  },
  {
   "cell_type": "code",
   "execution_count": 5,
   "id": "d8861c82",
   "metadata": {
    "scrolled": false
   },
   "outputs": [
    {
     "data": {
      "text/plain": [
       "Series([], dtype: int64)"
      ]
     },
     "execution_count": 5,
     "metadata": {},
     "output_type": "execute_result"
    }
   ],
   "source": [
    "df[df['total_income'] < 0].value_counts()"
   ]
  },
  {
   "cell_type": "markdown",
   "id": "c3901829",
   "metadata": {},
   "source": [
    "В колонке `days_employed` есть аномальные значения, пропуски заменим после исправления.\n",
    "В колонке `total_income` заменим пропуски на медиану. Среднее значение некорректно характеризует данные, когда некоторые значения сильно выделяются среди большинства. По этому берем медиану."
   ]
  },
  {
   "cell_type": "code",
   "execution_count": 6,
   "id": "a1b62f50",
   "metadata": {},
   "outputs": [
    {
     "name": "stdout",
     "output_type": "stream",
     "text": [
      "<class 'pandas.core.frame.DataFrame'>\n",
      "RangeIndex: 21525 entries, 0 to 21524\n",
      "Data columns (total 12 columns):\n",
      " #   Column            Non-Null Count  Dtype  \n",
      "---  ------            --------------  -----  \n",
      " 0   children          21525 non-null  int64  \n",
      " 1   days_employed     19351 non-null  float64\n",
      " 2   dob_years         21525 non-null  int64  \n",
      " 3   education         21525 non-null  object \n",
      " 4   education_id      21525 non-null  int64  \n",
      " 5   family_status     21525 non-null  object \n",
      " 6   family_status_id  21525 non-null  int64  \n",
      " 7   gender            21525 non-null  object \n",
      " 8   income_type       21525 non-null  object \n",
      " 9   debt              21525 non-null  int64  \n",
      " 10  total_income      21525 non-null  float64\n",
      " 11  purpose           21525 non-null  object \n",
      "dtypes: float64(2), int64(5), object(5)\n",
      "memory usage: 2.0+ MB\n"
     ]
    }
   ],
   "source": [
    "df['total_income'] = df['total_income'].fillna(value=df['total_income'].median())\n",
    "df.info()"
   ]
  },
  {
   "cell_type": "markdown",
   "id": "d7968df8",
   "metadata": {},
   "source": [
    "Одинаковое кол-во пропусков приходится на `days_employed` и `income_type`, возможно они как то связаны и произошла ошибка при выгрузке. Возможно это закрытая информация этих клиентов. Нужно уточнить у тех, кто предоставил данные."
   ]
  },
  {
   "cell_type": "markdown",
   "id": "841b572b",
   "metadata": {},
   "source": [
    "### Шаг 2.2 Проверка данных на аномалии и исправления."
   ]
  },
  {
   "cell_type": "markdown",
   "id": "a43791dc",
   "metadata": {},
   "source": [
    "Проверим на отрицательные значения `days_employed` и исправим. Очень похоже на ошибку, нужно привести значения к абсолютным."
   ]
  },
  {
   "cell_type": "code",
   "execution_count": 7,
   "id": "4584f5c2",
   "metadata": {},
   "outputs": [
    {
     "data": {
      "text/html": [
       "<div>\n",
       "<style scoped>\n",
       "    .dataframe tbody tr th:only-of-type {\n",
       "        vertical-align: middle;\n",
       "    }\n",
       "\n",
       "    .dataframe tbody tr th {\n",
       "        vertical-align: top;\n",
       "    }\n",
       "\n",
       "    .dataframe thead th {\n",
       "        text-align: right;\n",
       "    }\n",
       "</style>\n",
       "<table border=\"1\" class=\"dataframe\">\n",
       "  <thead>\n",
       "    <tr style=\"text-align: right;\">\n",
       "      <th></th>\n",
       "      <th>children</th>\n",
       "      <th>days_employed</th>\n",
       "      <th>dob_years</th>\n",
       "      <th>education</th>\n",
       "      <th>education_id</th>\n",
       "      <th>family_status</th>\n",
       "      <th>family_status_id</th>\n",
       "      <th>gender</th>\n",
       "      <th>income_type</th>\n",
       "      <th>debt</th>\n",
       "      <th>total_income</th>\n",
       "      <th>purpose</th>\n",
       "    </tr>\n",
       "  </thead>\n",
       "  <tbody>\n",
       "    <tr>\n",
       "      <th>0</th>\n",
       "      <td>1</td>\n",
       "      <td>-8437.673028</td>\n",
       "      <td>42</td>\n",
       "      <td>высшее</td>\n",
       "      <td>0</td>\n",
       "      <td>женат / замужем</td>\n",
       "      <td>0</td>\n",
       "      <td>F</td>\n",
       "      <td>сотрудник</td>\n",
       "      <td>0</td>\n",
       "      <td>253875.639453</td>\n",
       "      <td>покупка жилья</td>\n",
       "    </tr>\n",
       "    <tr>\n",
       "      <th>1</th>\n",
       "      <td>1</td>\n",
       "      <td>-4024.803754</td>\n",
       "      <td>36</td>\n",
       "      <td>среднее</td>\n",
       "      <td>1</td>\n",
       "      <td>женат / замужем</td>\n",
       "      <td>0</td>\n",
       "      <td>F</td>\n",
       "      <td>сотрудник</td>\n",
       "      <td>0</td>\n",
       "      <td>112080.014102</td>\n",
       "      <td>приобретение автомобиля</td>\n",
       "    </tr>\n",
       "    <tr>\n",
       "      <th>2</th>\n",
       "      <td>0</td>\n",
       "      <td>-5623.422610</td>\n",
       "      <td>33</td>\n",
       "      <td>Среднее</td>\n",
       "      <td>1</td>\n",
       "      <td>женат / замужем</td>\n",
       "      <td>0</td>\n",
       "      <td>M</td>\n",
       "      <td>сотрудник</td>\n",
       "      <td>0</td>\n",
       "      <td>145885.952297</td>\n",
       "      <td>покупка жилья</td>\n",
       "    </tr>\n",
       "    <tr>\n",
       "      <th>3</th>\n",
       "      <td>3</td>\n",
       "      <td>-4124.747207</td>\n",
       "      <td>32</td>\n",
       "      <td>среднее</td>\n",
       "      <td>1</td>\n",
       "      <td>женат / замужем</td>\n",
       "      <td>0</td>\n",
       "      <td>M</td>\n",
       "      <td>сотрудник</td>\n",
       "      <td>0</td>\n",
       "      <td>267628.550329</td>\n",
       "      <td>дополнительное образование</td>\n",
       "    </tr>\n",
       "    <tr>\n",
       "      <th>5</th>\n",
       "      <td>0</td>\n",
       "      <td>-926.185831</td>\n",
       "      <td>27</td>\n",
       "      <td>высшее</td>\n",
       "      <td>0</td>\n",
       "      <td>гражданский брак</td>\n",
       "      <td>1</td>\n",
       "      <td>M</td>\n",
       "      <td>компаньон</td>\n",
       "      <td>0</td>\n",
       "      <td>255763.565419</td>\n",
       "      <td>покупка жилья</td>\n",
       "    </tr>\n",
       "  </tbody>\n",
       "</table>\n",
       "</div>"
      ],
      "text/plain": [
       "   children  days_employed  dob_years education  education_id  \\\n",
       "0         1   -8437.673028         42    высшее             0   \n",
       "1         1   -4024.803754         36   среднее             1   \n",
       "2         0   -5623.422610         33   Среднее             1   \n",
       "3         3   -4124.747207         32   среднее             1   \n",
       "5         0    -926.185831         27    высшее             0   \n",
       "\n",
       "      family_status  family_status_id gender income_type  debt   total_income  \\\n",
       "0   женат / замужем                 0      F   сотрудник     0  253875.639453   \n",
       "1   женат / замужем                 0      F   сотрудник     0  112080.014102   \n",
       "2   женат / замужем                 0      M   сотрудник     0  145885.952297   \n",
       "3   женат / замужем                 0      M   сотрудник     0  267628.550329   \n",
       "5  гражданский брак                 1      M   компаньон     0  255763.565419   \n",
       "\n",
       "                      purpose  \n",
       "0               покупка жилья  \n",
       "1     приобретение автомобиля  \n",
       "2               покупка жилья  \n",
       "3  дополнительное образование  \n",
       "5               покупка жилья  "
      ]
     },
     "metadata": {},
     "output_type": "display_data"
    }
   ],
   "source": [
    "display(df[df['days_employed'] < 0].head())\n",
    "df[df['days_employed'] < 0][['days_employed']].count()\n",
    "\n",
    "df.loc[df['days_employed'] < 0, 'days_employed'] = abs(df.loc[df['days_employed'] < 0, 'days_employed'])"
   ]
  },
  {
   "cell_type": "markdown",
   "id": "7e37e98b",
   "metadata": {},
   "source": [
    "Большие цифры в колонке `days_employed` возможно записаны не в количестве дней, а количестве часов. Проверим стаж и соотнесем значения с возрастом. Возьмем все значения где стаж больше возраста."
   ]
  },
  {
   "cell_type": "code",
   "execution_count": 8,
   "id": "1d318596",
   "metadata": {},
   "outputs": [
    {
     "data": {
      "text/html": [
       "<div>\n",
       "<style scoped>\n",
       "    .dataframe tbody tr th:only-of-type {\n",
       "        vertical-align: middle;\n",
       "    }\n",
       "\n",
       "    .dataframe tbody tr th {\n",
       "        vertical-align: top;\n",
       "    }\n",
       "\n",
       "    .dataframe thead th {\n",
       "        text-align: right;\n",
       "    }\n",
       "</style>\n",
       "<table border=\"1\" class=\"dataframe\">\n",
       "  <thead>\n",
       "    <tr style=\"text-align: right;\">\n",
       "      <th></th>\n",
       "      <th>children</th>\n",
       "      <th>days_employed</th>\n",
       "      <th>dob_years</th>\n",
       "      <th>education</th>\n",
       "      <th>education_id</th>\n",
       "      <th>family_status</th>\n",
       "      <th>family_status_id</th>\n",
       "      <th>gender</th>\n",
       "      <th>income_type</th>\n",
       "      <th>debt</th>\n",
       "      <th>total_income</th>\n",
       "      <th>purpose</th>\n",
       "    </tr>\n",
       "  </thead>\n",
       "  <tbody>\n",
       "    <tr>\n",
       "      <th>4</th>\n",
       "      <td>0</td>\n",
       "      <td>340266.072047</td>\n",
       "      <td>53</td>\n",
       "      <td>среднее</td>\n",
       "      <td>1</td>\n",
       "      <td>гражданский брак</td>\n",
       "      <td>1</td>\n",
       "      <td>F</td>\n",
       "      <td>пенсионер</td>\n",
       "      <td>0</td>\n",
       "      <td>158616.077870</td>\n",
       "      <td>сыграть свадьбу</td>\n",
       "    </tr>\n",
       "    <tr>\n",
       "      <th>18</th>\n",
       "      <td>0</td>\n",
       "      <td>400281.136913</td>\n",
       "      <td>53</td>\n",
       "      <td>среднее</td>\n",
       "      <td>1</td>\n",
       "      <td>вдовец / вдова</td>\n",
       "      <td>2</td>\n",
       "      <td>F</td>\n",
       "      <td>пенсионер</td>\n",
       "      <td>0</td>\n",
       "      <td>56823.777243</td>\n",
       "      <td>на покупку подержанного автомобиля</td>\n",
       "    </tr>\n",
       "    <tr>\n",
       "      <th>24</th>\n",
       "      <td>1</td>\n",
       "      <td>338551.952911</td>\n",
       "      <td>57</td>\n",
       "      <td>среднее</td>\n",
       "      <td>1</td>\n",
       "      <td>Не женат / не замужем</td>\n",
       "      <td>4</td>\n",
       "      <td>F</td>\n",
       "      <td>пенсионер</td>\n",
       "      <td>0</td>\n",
       "      <td>290547.235997</td>\n",
       "      <td>операции с коммерческой недвижимостью</td>\n",
       "    </tr>\n",
       "    <tr>\n",
       "      <th>25</th>\n",
       "      <td>0</td>\n",
       "      <td>363548.489348</td>\n",
       "      <td>67</td>\n",
       "      <td>среднее</td>\n",
       "      <td>1</td>\n",
       "      <td>женат / замужем</td>\n",
       "      <td>0</td>\n",
       "      <td>M</td>\n",
       "      <td>пенсионер</td>\n",
       "      <td>0</td>\n",
       "      <td>55112.757732</td>\n",
       "      <td>покупка недвижимости</td>\n",
       "    </tr>\n",
       "    <tr>\n",
       "      <th>30</th>\n",
       "      <td>1</td>\n",
       "      <td>335581.668515</td>\n",
       "      <td>62</td>\n",
       "      <td>среднее</td>\n",
       "      <td>1</td>\n",
       "      <td>женат / замужем</td>\n",
       "      <td>0</td>\n",
       "      <td>F</td>\n",
       "      <td>пенсионер</td>\n",
       "      <td>0</td>\n",
       "      <td>171456.067993</td>\n",
       "      <td>операции с коммерческой недвижимостью</td>\n",
       "    </tr>\n",
       "  </tbody>\n",
       "</table>\n",
       "</div>"
      ],
      "text/plain": [
       "    children  days_employed  dob_years education  education_id  \\\n",
       "4          0  340266.072047         53   среднее             1   \n",
       "18         0  400281.136913         53   среднее             1   \n",
       "24         1  338551.952911         57   среднее             1   \n",
       "25         0  363548.489348         67   среднее             1   \n",
       "30         1  335581.668515         62   среднее             1   \n",
       "\n",
       "            family_status  family_status_id gender income_type  debt  \\\n",
       "4        гражданский брак                 1      F   пенсионер     0   \n",
       "18         вдовец / вдова                 2      F   пенсионер     0   \n",
       "24  Не женат / не замужем                 4      F   пенсионер     0   \n",
       "25        женат / замужем                 0      M   пенсионер     0   \n",
       "30        женат / замужем                 0      F   пенсионер     0   \n",
       "\n",
       "     total_income                                purpose  \n",
       "4   158616.077870                        сыграть свадьбу  \n",
       "18   56823.777243     на покупку подержанного автомобиля  \n",
       "24  290547.235997  операции с коммерческой недвижимостью  \n",
       "25   55112.757732                   покупка недвижимости  \n",
       "30  171456.067993  операции с коммерческой недвижимостью  "
      ]
     },
     "metadata": {},
     "output_type": "display_data"
    },
    {
     "data": {
      "text/plain": [
       "4     39.382647\n",
       "18    46.328835\n",
       "24    39.184254\n",
       "25    42.077371\n",
       "30    38.840471\n",
       "35    45.604291\n",
       "50    40.941138\n",
       "56    42.840867\n",
       "71    39.133510\n",
       "78    41.634600\n",
       "Name: days_employed, dtype: float64"
      ]
     },
     "metadata": {},
     "output_type": "display_data"
    },
    {
     "data": {
      "text/plain": [
       "4     53\n",
       "18    53\n",
       "24    57\n",
       "25    67\n",
       "30    62\n",
       "35    68\n",
       "50    63\n",
       "56    64\n",
       "71    62\n",
       "78    61\n",
       "Name: dob_years, dtype: int64"
      ]
     },
     "metadata": {},
     "output_type": "display_data"
    }
   ],
   "source": [
    "display(df[df['days_employed'] > 360 * df['dob_years']].head())\n",
    "\n",
    "test_df = df[df['days_employed'] > 360 * df['dob_years']].head(10)\n",
    "display(test_df['days_employed'] / 24 / 360, test_df['dob_years'])"
   ]
  },
  {
   "cell_type": "markdown",
   "id": "2dcfb3d9",
   "metadata": {},
   "source": [
    "Не совсем сходится, для 53-х летнего стаж 46 лет. Гипотеза не подтвердилась, но зато можно заметить, что большие значения в группе \"пенсионер\". Проверим, если так и есть, то заменим аномальные значения медианой для группы `income_type = пенсионер`"
   ]
  },
  {
   "cell_type": "code",
   "execution_count": 9,
   "id": "dea33f0c",
   "metadata": {},
   "outputs": [
    {
     "name": "stdout",
     "output_type": "stream",
     "text": [
      "income_type\n",
      "безработный       2\n",
      "госслужащий       6\n",
      "компаньон        18\n",
      "пенсионер      3443\n",
      "сотрудник        50\n",
      "Name: days_employed, dtype: int64\n"
     ]
    }
   ],
   "source": [
    "print(df[df['days_employed'] > 360 * df['dob_years']].groupby('income_type')['days_employed'].count())"
   ]
  },
  {
   "cell_type": "markdown",
   "id": "7e090f92",
   "metadata": {},
   "source": [
    "При детальном анализе выяснилось, что у всей группы `пенсионер` аномально большие значения. По хорошему нужно узнать, что это за цифры, возможно не правильный расчет при выгрузке или не привели значения к \"годам\".\n",
    "Т.к. нет возможности, то будем заменять все аномально большие значения на медиану по всему столбцу `days_employed`."
   ]
  },
  {
   "cell_type": "code",
   "execution_count": 10,
   "id": "fed72936",
   "metadata": {},
   "outputs": [],
   "source": [
    "df.loc[df['days_employed'] > 360 * df['dob_years'], 'days_employed'] = df['days_employed'].median()"
   ]
  },
  {
   "cell_type": "markdown",
   "id": "00178518",
   "metadata": {},
   "source": [
    "Так же заменим пропуски на медиану."
   ]
  },
  {
   "cell_type": "code",
   "execution_count": 11,
   "id": "6477cb03",
   "metadata": {},
   "outputs": [
    {
     "name": "stdout",
     "output_type": "stream",
     "text": [
      "<class 'pandas.core.frame.DataFrame'>\n",
      "RangeIndex: 21525 entries, 0 to 21524\n",
      "Data columns (total 12 columns):\n",
      " #   Column            Non-Null Count  Dtype  \n",
      "---  ------            --------------  -----  \n",
      " 0   children          21525 non-null  int64  \n",
      " 1   days_employed     21525 non-null  float64\n",
      " 2   dob_years         21525 non-null  int64  \n",
      " 3   education         21525 non-null  object \n",
      " 4   education_id      21525 non-null  int64  \n",
      " 5   family_status     21525 non-null  object \n",
      " 6   family_status_id  21525 non-null  int64  \n",
      " 7   gender            21525 non-null  object \n",
      " 8   income_type       21525 non-null  object \n",
      " 9   debt              21525 non-null  int64  \n",
      " 10  total_income      21525 non-null  float64\n",
      " 11  purpose           21525 non-null  object \n",
      "dtypes: float64(2), int64(5), object(5)\n",
      "memory usage: 2.0+ MB\n"
     ]
    }
   ],
   "source": [
    "df['days_employed'] = df['days_employed'].fillna(df['days_employed'].median())\n",
    "df.info()"
   ]
  },
  {
   "cell_type": "markdown",
   "id": "016a8114",
   "metadata": {},
   "source": [
    "Поищем еще аномалии в данных"
   ]
  },
  {
   "cell_type": "code",
   "execution_count": 12,
   "id": "ff8b7e8c",
   "metadata": {
    "scrolled": true
   },
   "outputs": [
    {
     "name": "stdout",
     "output_type": "stream",
     "text": [
      " 0     14149\n",
      " 1      4818\n",
      " 2      2055\n",
      " 3       330\n",
      " 20       76\n",
      "-1        47\n",
      " 4        41\n",
      " 5         9\n",
      "Name: children, dtype: int64\n"
     ]
    }
   ],
   "source": [
    "print(df['children'].value_counts())"
   ]
  },
  {
   "cell_type": "markdown",
   "id": "5ac017d7",
   "metadata": {},
   "source": [
    "Явные аномалии `-1` и `20`, возникшие при некорректном вводе данных. Заменим на `1` и `2`"
   ]
  },
  {
   "cell_type": "code",
   "execution_count": 13,
   "id": "2d170eb9",
   "metadata": {},
   "outputs": [
    {
     "name": "stdout",
     "output_type": "stream",
     "text": [
      "0    14149\n",
      "1     4865\n",
      "2     2131\n",
      "3      330\n",
      "4       41\n",
      "5        9\n",
      "Name: children, dtype: int64\n"
     ]
    }
   ],
   "source": [
    "df.loc[df['children'] == -1, 'children'] = 1\n",
    "df.loc[df['children'] == 20, 'children'] = 2\n",
    "print(df['children'].value_counts())"
   ]
  },
  {
   "cell_type": "code",
   "execution_count": 14,
   "id": "8af4e486",
   "metadata": {
    "scrolled": true
   },
   "outputs": [
    {
     "name": "stdout",
     "output_type": "stream",
     "text": [
      "35    617\n",
      "40    609\n",
      "41    607\n",
      "34    603\n",
      "38    598\n",
      "42    597\n",
      "33    581\n",
      "39    573\n",
      "31    560\n",
      "36    555\n",
      "44    547\n",
      "29    545\n",
      "30    540\n",
      "48    538\n",
      "37    537\n",
      "50    514\n",
      "43    513\n",
      "32    510\n",
      "49    508\n",
      "28    503\n",
      "45    497\n",
      "27    493\n",
      "56    487\n",
      "52    484\n",
      "47    480\n",
      "54    479\n",
      "46    475\n",
      "58    461\n",
      "57    460\n",
      "53    459\n",
      "51    448\n",
      "59    444\n",
      "55    443\n",
      "26    408\n",
      "60    377\n",
      "25    357\n",
      "61    355\n",
      "62    352\n",
      "63    269\n",
      "64    265\n",
      "24    264\n",
      "23    254\n",
      "65    194\n",
      "66    183\n",
      "22    183\n",
      "67    167\n",
      "21    111\n",
      "0     101\n",
      "68     99\n",
      "69     85\n",
      "70     65\n",
      "71     58\n",
      "20     51\n",
      "72     33\n",
      "19     14\n",
      "73      8\n",
      "74      6\n",
      "75      1\n",
      "Name: dob_years, dtype: int64\n"
     ]
    }
   ],
   "source": [
    "print(df['dob_years'].value_counts())"
   ]
  },
  {
   "cell_type": "markdown",
   "id": "98c7660b",
   "metadata": {},
   "source": [
    "Возраст \"0\" явная аномалия, заменим ее на среднее значение. Но можно посмотреть к каким категориям они относятся и заменить возраст на среднее значение по этой категории."
   ]
  },
  {
   "cell_type": "code",
   "execution_count": 15,
   "id": "0d207414",
   "metadata": {},
   "outputs": [
    {
     "name": "stdout",
     "output_type": "stream",
     "text": [
      "income_type\n",
      "госслужащий     6\n",
      "компаньон      20\n",
      "пенсионер      20\n",
      "сотрудник      55\n",
      "Name: dob_years, dtype: int64\n"
     ]
    }
   ],
   "source": [
    "print(df[df['dob_years'] == 0].groupby('income_type')['dob_years'].count())"
   ]
  },
  {
   "cell_type": "code",
   "execution_count": 16,
   "id": "b96c7137",
   "metadata": {},
   "outputs": [],
   "source": [
    "df.loc[df['income_type'] == 'госслужащий', 'dob_years'] = int(df[df['income_type'] == 'госслужащий']['dob_years'].mean())\n",
    "df.loc[df['income_type'] == 'компаньон', 'dob_years'] = int(df[df['income_type'] == 'компаньон']['dob_years'].mean())\n",
    "df.loc[df['income_type'] == 'пенсионер', 'dob_years'] = int(df[df['income_type'] == 'пенсионер']['dob_years'].mean())\n",
    "df.loc[df['income_type'] == 'сотрудник', 'dob_years'] = int(df[df['income_type'] == 'сотрудник']['dob_years'].mean())"
   ]
  },
  {
   "cell_type": "markdown",
   "id": "cb38a5cb",
   "metadata": {},
   "source": [
    "Проверим отсутствие нулей в возрасте."
   ]
  },
  {
   "cell_type": "code",
   "execution_count": 17,
   "id": "a16e0b8a",
   "metadata": {},
   "outputs": [
    {
     "name": "stdout",
     "output_type": "stream",
     "text": [
      "Series([], Name: dob_years, dtype: int64)\n"
     ]
    }
   ],
   "source": [
    "print(df[df['dob_years'] == 0].groupby('income_type')['dob_years'].count())"
   ]
  },
  {
   "cell_type": "markdown",
   "id": "3fc78259",
   "metadata": {},
   "source": [
    "### Шаг 2.3. Изменение типов данных."
   ]
  },
  {
   "cell_type": "markdown",
   "id": "2330cd12",
   "metadata": {},
   "source": [
    "Изменим тип данных `days_employed` и `total_income` на целочисленный."
   ]
  },
  {
   "cell_type": "code",
   "execution_count": 18,
   "id": "2ce7cee2",
   "metadata": {},
   "outputs": [
    {
     "name": "stdout",
     "output_type": "stream",
     "text": [
      "<class 'pandas.core.frame.DataFrame'>\n",
      "RangeIndex: 21525 entries, 0 to 21524\n",
      "Data columns (total 12 columns):\n",
      " #   Column            Non-Null Count  Dtype \n",
      "---  ------            --------------  ----- \n",
      " 0   children          21525 non-null  int64 \n",
      " 1   days_employed     21525 non-null  int64 \n",
      " 2   dob_years         21525 non-null  int64 \n",
      " 3   education         21525 non-null  object\n",
      " 4   education_id      21525 non-null  int64 \n",
      " 5   family_status     21525 non-null  object\n",
      " 6   family_status_id  21525 non-null  int64 \n",
      " 7   gender            21525 non-null  object\n",
      " 8   income_type       21525 non-null  object\n",
      " 9   debt              21525 non-null  int64 \n",
      " 10  total_income      21525 non-null  int64 \n",
      " 11  purpose           21525 non-null  object\n",
      "dtypes: int64(7), object(5)\n",
      "memory usage: 2.0+ MB\n"
     ]
    }
   ],
   "source": [
    "df['days_employed'] = df['days_employed'].astype('int')\n",
    "df['total_income'] = df['total_income'].astype('int')\n",
    "df.info()"
   ]
  },
  {
   "cell_type": "markdown",
   "id": "8e824159",
   "metadata": {},
   "source": [
    "### Шаг 2.4. Удаление дубликатов."
   ]
  },
  {
   "cell_type": "markdown",
   "id": "a53944d9",
   "metadata": {},
   "source": [
    "Найдем и удалим явные дубликаты"
   ]
  },
  {
   "cell_type": "code",
   "execution_count": 19,
   "id": "f3eb8f1f",
   "metadata": {
    "scrolled": true
   },
   "outputs": [
    {
     "data": {
      "text/plain": [
       "670"
      ]
     },
     "execution_count": 19,
     "metadata": {},
     "output_type": "execute_result"
    }
   ],
   "source": [
    "df.duplicated().sum()"
   ]
  },
  {
   "cell_type": "code",
   "execution_count": 20,
   "id": "77318fa0",
   "metadata": {
    "scrolled": true
   },
   "outputs": [
    {
     "data": {
      "text/plain": [
       "0"
      ]
     },
     "execution_count": 20,
     "metadata": {},
     "output_type": "execute_result"
    }
   ],
   "source": [
    "df = df.drop_duplicates().reset_index(drop=True)\n",
    "df.duplicated().sum()"
   ]
  },
  {
   "cell_type": "markdown",
   "id": "7de32a40",
   "metadata": {},
   "source": [
    "Проверим колонки на не явные дубликаты"
   ]
  },
  {
   "cell_type": "code",
   "execution_count": 21,
   "id": "5e50328e",
   "metadata": {
    "scrolled": false
   },
   "outputs": [
    {
     "name": "stdout",
     "output_type": "stream",
     "text": [
      "среднее                13193\n",
      "высшее                  4614\n",
      "СРЕДНЕЕ                  770\n",
      "Среднее                  707\n",
      "неоконченное высшее      667\n",
      "ВЫСШЕЕ                   273\n",
      "Высшее                   267\n",
      "начальное                250\n",
      "Неоконченное высшее       47\n",
      "НЕОКОНЧЕННОЕ ВЫСШЕЕ       29\n",
      "НАЧАЛЬНОЕ                 17\n",
      "Начальное                 15\n",
      "ученая степень             4\n",
      "УЧЕНАЯ СТЕПЕНЬ             1\n",
      "Ученая степень             1\n",
      "Name: education, dtype: int64\n"
     ]
    }
   ],
   "source": [
    "print(df['education'].value_counts())"
   ]
  },
  {
   "cell_type": "markdown",
   "id": "fc7506ec",
   "metadata": {},
   "source": [
    "Приведем к единому стилю/регистру."
   ]
  },
  {
   "cell_type": "code",
   "execution_count": 22,
   "id": "1534be3d",
   "metadata": {},
   "outputs": [],
   "source": [
    "df['education'] = df['education'].str.lower()"
   ]
  },
  {
   "cell_type": "code",
   "execution_count": 23,
   "id": "ae51ee85",
   "metadata": {
    "scrolled": false
   },
   "outputs": [
    {
     "name": "stdout",
     "output_type": "stream",
     "text": [
      "среднее                14670\n",
      "высшее                  5154\n",
      "неоконченное высшее      743\n",
      "начальное                282\n",
      "ученая степень             6\n",
      "Name: education, dtype: int64\n"
     ]
    }
   ],
   "source": [
    "print(df['education'].value_counts())"
   ]
  },
  {
   "cell_type": "code",
   "execution_count": 24,
   "id": "c1e36b50",
   "metadata": {
    "scrolled": true
   },
   "outputs": [
    {
     "name": "stdout",
     "output_type": "stream",
     "text": [
      "женат / замужем          11928\n",
      "гражданский брак          4032\n",
      "Не женат / не замужем     2765\n",
      "в разводе                 1185\n",
      "вдовец / вдова             945\n",
      "Name: family_status, dtype: int64\n"
     ]
    }
   ],
   "source": [
    "print(df['family_status'].value_counts())"
   ]
  },
  {
   "cell_type": "markdown",
   "id": "3d814953",
   "metadata": {},
   "source": [
    "Дубликатов нет, просто приведем все к единому регистру."
   ]
  },
  {
   "cell_type": "code",
   "execution_count": 25,
   "id": "203119c5",
   "metadata": {},
   "outputs": [],
   "source": [
    "df['family_status'] = df['family_status'].str.lower()"
   ]
  },
  {
   "cell_type": "code",
   "execution_count": 26,
   "id": "0ad83974",
   "metadata": {},
   "outputs": [
    {
     "name": "stdout",
     "output_type": "stream",
     "text": [
      "женат / замужем          11928\n",
      "гражданский брак          4032\n",
      "не женат / не замужем     2765\n",
      "в разводе                 1185\n",
      "вдовец / вдова             945\n",
      "Name: family_status, dtype: int64\n"
     ]
    }
   ],
   "source": [
    "print(df['family_status'].value_counts())"
   ]
  },
  {
   "cell_type": "code",
   "execution_count": 27,
   "id": "12103b44",
   "metadata": {},
   "outputs": [
    {
     "name": "stdout",
     "output_type": "stream",
     "text": [
      "F      13740\n",
      "M       7114\n",
      "XNA        1\n",
      "Name: gender, dtype: int64\n"
     ]
    }
   ],
   "source": [
    "print(df['gender'].value_counts())"
   ]
  },
  {
   "cell_type": "markdown",
   "id": "332ce928",
   "metadata": {},
   "source": [
    "Всего одна строка с неверным значением, можно удалить или присвоить значение \"F\" или \"M\". Одна строка не повлияет на статистику. Присвоим значение \"M\"."
   ]
  },
  {
   "cell_type": "code",
   "execution_count": 28,
   "id": "36959720",
   "metadata": {
    "scrolled": true
   },
   "outputs": [
    {
     "name": "stdout",
     "output_type": "stream",
     "text": [
      "F    13740\n",
      "M     7115\n",
      "Name: gender, dtype: int64\n"
     ]
    }
   ],
   "source": [
    "df.loc[df['gender'] == 'XNA', 'gender'] = 'M'\n",
    "print(df['gender'].value_counts())"
   ]
  },
  {
   "cell_type": "code",
   "execution_count": 29,
   "id": "786fe8be",
   "metadata": {
    "scrolled": true
   },
   "outputs": [
    {
     "name": "stdout",
     "output_type": "stream",
     "text": [
      "сотрудник          10730\n",
      "компаньон           4971\n",
      "пенсионер           3701\n",
      "госслужащий         1447\n",
      "предприниматель        2\n",
      "безработный            2\n",
      "в декрете              1\n",
      "студент                1\n",
      "Name: income_type, dtype: int64\n"
     ]
    }
   ],
   "source": [
    "print(df['income_type'].value_counts())"
   ]
  },
  {
   "cell_type": "markdown",
   "id": "5fa82959",
   "metadata": {},
   "source": [
    "Проверим не появились ли явные дубликаты, после исправления неявных. Если появились - удалим."
   ]
  },
  {
   "cell_type": "code",
   "execution_count": 30,
   "id": "72e52de1",
   "metadata": {},
   "outputs": [
    {
     "name": "stdout",
     "output_type": "stream",
     "text": [
      "98\n"
     ]
    }
   ],
   "source": [
    "print(df.duplicated().sum())"
   ]
  },
  {
   "cell_type": "code",
   "execution_count": 31,
   "id": "a86238d1",
   "metadata": {},
   "outputs": [
    {
     "name": "stdout",
     "output_type": "stream",
     "text": [
      "0\n"
     ]
    }
   ],
   "source": [
    "df = df.drop_duplicates().reset_index(drop=True)\n",
    "print(df.duplicated().sum())"
   ]
  },
  {
   "cell_type": "markdown",
   "id": "4da9060d",
   "metadata": {},
   "source": [
    "### Шаг 2.5. Формирование дополнительных датафреймов словарей, декомпозиция исходного датафрейма."
   ]
  },
  {
   "cell_type": "code",
   "execution_count": 32,
   "id": "d22b70cd",
   "metadata": {
    "scrolled": true
   },
   "outputs": [
    {
     "name": "stdout",
     "output_type": "stream",
     "text": [
      "<class 'pandas.core.frame.DataFrame'>\n",
      "RangeIndex: 20757 entries, 0 to 20756\n",
      "Data columns (total 12 columns):\n",
      " #   Column            Non-Null Count  Dtype \n",
      "---  ------            --------------  ----- \n",
      " 0   children          20757 non-null  int64 \n",
      " 1   days_employed     20757 non-null  int64 \n",
      " 2   dob_years         20757 non-null  int64 \n",
      " 3   education         20757 non-null  object\n",
      " 4   education_id      20757 non-null  int64 \n",
      " 5   family_status     20757 non-null  object\n",
      " 6   family_status_id  20757 non-null  int64 \n",
      " 7   gender            20757 non-null  object\n",
      " 8   income_type       20757 non-null  object\n",
      " 9   debt              20757 non-null  int64 \n",
      " 10  total_income      20757 non-null  int64 \n",
      " 11  purpose           20757 non-null  object\n",
      "dtypes: int64(7), object(5)\n",
      "memory usage: 1.9+ MB\n"
     ]
    }
   ],
   "source": [
    "df.info()"
   ]
  },
  {
   "cell_type": "code",
   "execution_count": 33,
   "id": "30ec0637",
   "metadata": {},
   "outputs": [
    {
     "name": "stdout",
     "output_type": "stream",
     "text": [
      "   education_id education\n",
      "0             0    высшее\n",
      "1             1   среднее\n",
      "2             1   среднее\n",
      "3             1   среднее\n",
      "4             1   среднее\n",
      "5             0    высшее\n",
      "6             0    высшее\n",
      "7             1   среднее\n",
      "8             0    высшее\n",
      "9             1   среднее\n"
     ]
    }
   ],
   "source": [
    "education_dict = df[['education_id', 'education']]\n",
    "print(education_dict.head(10))"
   ]
  },
  {
   "cell_type": "code",
   "execution_count": 34,
   "id": "88c3a09d",
   "metadata": {},
   "outputs": [
    {
     "name": "stdout",
     "output_type": "stream",
     "text": [
      "   education_id            education\n",
      "0             0               высшее\n",
      "1             1              среднее\n",
      "2             2  неоконченное высшее\n",
      "3             3            начальное\n",
      "4             4       ученая степень\n"
     ]
    }
   ],
   "source": [
    "education_dict = education_dict.drop_duplicates().reset_index(drop=True)\n",
    "print(education_dict)"
   ]
  },
  {
   "cell_type": "code",
   "execution_count": 35,
   "id": "b99b968f",
   "metadata": {},
   "outputs": [
    {
     "name": "stdout",
     "output_type": "stream",
     "text": [
      "   family_status_id          family_status\n",
      "0                 0        женат / замужем\n",
      "1                 1       гражданский брак\n",
      "2                 2         вдовец / вдова\n",
      "3                 3              в разводе\n",
      "4                 4  не женат / не замужем\n"
     ]
    }
   ],
   "source": [
    "family_status_dict = df[['family_status_id', 'family_status']]\n",
    "family_status_dict = family_status_dict.drop_duplicates().reset_index(drop=True)\n",
    "print(family_status_dict)"
   ]
  },
  {
   "cell_type": "markdown",
   "id": "b3001a5d",
   "metadata": {},
   "source": [
    "Удалим не нужные столбцы."
   ]
  },
  {
   "cell_type": "code",
   "execution_count": 36,
   "id": "bf8918af",
   "metadata": {},
   "outputs": [],
   "source": [
    "df.drop(columns=['education', 'family_status'], axis=1, inplace=True)"
   ]
  },
  {
   "cell_type": "code",
   "execution_count": 37,
   "id": "b5994607",
   "metadata": {},
   "outputs": [
    {
     "name": "stdout",
     "output_type": "stream",
     "text": [
      "<class 'pandas.core.frame.DataFrame'>\n",
      "RangeIndex: 20757 entries, 0 to 20756\n",
      "Data columns (total 10 columns):\n",
      " #   Column            Non-Null Count  Dtype \n",
      "---  ------            --------------  ----- \n",
      " 0   children          20757 non-null  int64 \n",
      " 1   days_employed     20757 non-null  int64 \n",
      " 2   dob_years         20757 non-null  int64 \n",
      " 3   education_id      20757 non-null  int64 \n",
      " 4   family_status_id  20757 non-null  int64 \n",
      " 5   gender            20757 non-null  object\n",
      " 6   income_type       20757 non-null  object\n",
      " 7   debt              20757 non-null  int64 \n",
      " 8   total_income      20757 non-null  int64 \n",
      " 9   purpose           20757 non-null  object\n",
      "dtypes: int64(7), object(3)\n",
      "memory usage: 1.6+ MB\n"
     ]
    }
   ],
   "source": [
    "df.info()"
   ]
  },
  {
   "cell_type": "markdown",
   "id": "2fd70664",
   "metadata": {},
   "source": [
    "### Шаг 2.6. Категоризация дохода."
   ]
  },
  {
   "cell_type": "code",
   "execution_count": 38,
   "id": "4988844d",
   "metadata": {},
   "outputs": [],
   "source": [
    "def income_category(income):\n",
    "    \"\"\"\n",
    "    Возвращает категорию дохода:\n",
    "    0–30000 — 'E';\n",
    "    30001–50000 — 'D';\n",
    "    50001–200000 — 'C';\n",
    "    200001–1000000 — 'B';\n",
    "    1000001 и выше — 'A'.\n",
    "    \"\"\"\n",
    "    if income <= 30000:\n",
    "        return 'E'\n",
    "    if income <= 50000 and income >= 30001:\n",
    "        return 'D'\n",
    "    if income <= 200000 and income >= 50001:\n",
    "        return 'C'\n",
    "    if income <= 1000000 and income >= 200001:\n",
    "        return 'B'\n",
    "    else:\n",
    "        return 'A'"
   ]
  },
  {
   "cell_type": "code",
   "execution_count": 39,
   "id": "20f1cb70",
   "metadata": {},
   "outputs": [
    {
     "data": {
      "text/html": [
       "<div>\n",
       "<style scoped>\n",
       "    .dataframe tbody tr th:only-of-type {\n",
       "        vertical-align: middle;\n",
       "    }\n",
       "\n",
       "    .dataframe tbody tr th {\n",
       "        vertical-align: top;\n",
       "    }\n",
       "\n",
       "    .dataframe thead th {\n",
       "        text-align: right;\n",
       "    }\n",
       "</style>\n",
       "<table border=\"1\" class=\"dataframe\">\n",
       "  <thead>\n",
       "    <tr style=\"text-align: right;\">\n",
       "      <th></th>\n",
       "      <th>children</th>\n",
       "      <th>days_employed</th>\n",
       "      <th>dob_years</th>\n",
       "      <th>education_id</th>\n",
       "      <th>family_status_id</th>\n",
       "      <th>gender</th>\n",
       "      <th>income_type</th>\n",
       "      <th>debt</th>\n",
       "      <th>total_income</th>\n",
       "      <th>purpose</th>\n",
       "      <th>total_income_category</th>\n",
       "    </tr>\n",
       "  </thead>\n",
       "  <tbody>\n",
       "    <tr>\n",
       "      <th>0</th>\n",
       "      <td>1</td>\n",
       "      <td>8437</td>\n",
       "      <td>39</td>\n",
       "      <td>0</td>\n",
       "      <td>0</td>\n",
       "      <td>F</td>\n",
       "      <td>сотрудник</td>\n",
       "      <td>0</td>\n",
       "      <td>253875</td>\n",
       "      <td>покупка жилья</td>\n",
       "      <td>B</td>\n",
       "    </tr>\n",
       "    <tr>\n",
       "      <th>1</th>\n",
       "      <td>1</td>\n",
       "      <td>4024</td>\n",
       "      <td>39</td>\n",
       "      <td>1</td>\n",
       "      <td>0</td>\n",
       "      <td>F</td>\n",
       "      <td>сотрудник</td>\n",
       "      <td>0</td>\n",
       "      <td>112080</td>\n",
       "      <td>приобретение автомобиля</td>\n",
       "      <td>C</td>\n",
       "    </tr>\n",
       "    <tr>\n",
       "      <th>2</th>\n",
       "      <td>0</td>\n",
       "      <td>5623</td>\n",
       "      <td>39</td>\n",
       "      <td>1</td>\n",
       "      <td>0</td>\n",
       "      <td>M</td>\n",
       "      <td>сотрудник</td>\n",
       "      <td>0</td>\n",
       "      <td>145885</td>\n",
       "      <td>покупка жилья</td>\n",
       "      <td>C</td>\n",
       "    </tr>\n",
       "    <tr>\n",
       "      <th>3</th>\n",
       "      <td>3</td>\n",
       "      <td>4124</td>\n",
       "      <td>39</td>\n",
       "      <td>1</td>\n",
       "      <td>0</td>\n",
       "      <td>M</td>\n",
       "      <td>сотрудник</td>\n",
       "      <td>0</td>\n",
       "      <td>267628</td>\n",
       "      <td>дополнительное образование</td>\n",
       "      <td>B</td>\n",
       "    </tr>\n",
       "    <tr>\n",
       "      <th>4</th>\n",
       "      <td>0</td>\n",
       "      <td>2194</td>\n",
       "      <td>59</td>\n",
       "      <td>1</td>\n",
       "      <td>1</td>\n",
       "      <td>F</td>\n",
       "      <td>пенсионер</td>\n",
       "      <td>0</td>\n",
       "      <td>158616</td>\n",
       "      <td>сыграть свадьбу</td>\n",
       "      <td>C</td>\n",
       "    </tr>\n",
       "  </tbody>\n",
       "</table>\n",
       "</div>"
      ],
      "text/plain": [
       "   children  days_employed  dob_years  education_id  family_status_id gender  \\\n",
       "0         1           8437         39             0                 0      F   \n",
       "1         1           4024         39             1                 0      F   \n",
       "2         0           5623         39             1                 0      M   \n",
       "3         3           4124         39             1                 0      M   \n",
       "4         0           2194         59             1                 1      F   \n",
       "\n",
       "  income_type  debt  total_income                     purpose  \\\n",
       "0   сотрудник     0        253875               покупка жилья   \n",
       "1   сотрудник     0        112080     приобретение автомобиля   \n",
       "2   сотрудник     0        145885               покупка жилья   \n",
       "3   сотрудник     0        267628  дополнительное образование   \n",
       "4   пенсионер     0        158616             сыграть свадьбу   \n",
       "\n",
       "  total_income_category  \n",
       "0                     B  \n",
       "1                     C  \n",
       "2                     C  \n",
       "3                     B  \n",
       "4                     C  "
      ]
     },
     "metadata": {},
     "output_type": "display_data"
    }
   ],
   "source": [
    "df['total_income_category'] = df['total_income'].apply(income_category)\n",
    "display(df.head())"
   ]
  },
  {
   "cell_type": "markdown",
   "id": "5dacda3c",
   "metadata": {},
   "source": [
    "### Шаг 2.7. Категоризация целей кредита."
   ]
  },
  {
   "cell_type": "markdown",
   "id": "6febcf31",
   "metadata": {},
   "source": [
    "Изучим данные в столбце `purpose`"
   ]
  },
  {
   "cell_type": "code",
   "execution_count": 40,
   "id": "38756523",
   "metadata": {},
   "outputs": [
    {
     "name": "stdout",
     "output_type": "stream",
     "text": [
      "свадьба                                   755\n",
      "сыграть свадьбу                           722\n",
      "на проведение свадьбы                     720\n",
      "операции с недвижимостью                  658\n",
      "покупка коммерческой недвижимости         640\n",
      "операции с коммерческой недвижимостью     633\n",
      "покупка жилья                             632\n",
      "операции с жильем                         631\n",
      "покупка жилья для сдачи                   626\n",
      "жилье                                     625\n",
      "покупка жилья для семьи                   617\n",
      "строительство собственной недвижимости    610\n",
      "строительство жилой недвижимости          608\n",
      "недвижимость                              608\n",
      "покупка своего жилья                      606\n",
      "операции со своей недвижимостью           602\n",
      "строительство недвижимости                600\n",
      "покупка недвижимости                      594\n",
      "ремонт жилью                              589\n",
      "покупка жилой недвижимости                581\n",
      "на покупку своего автомобиля              486\n",
      "автомобиль                                485\n",
      "заняться высшим образованием              479\n",
      "свой автомобиль                           469\n",
      "сделка с подержанным автомобилем          466\n",
      "на покупку подержанного автомобиля        466\n",
      "на покупку автомобиля                     463\n",
      "автомобили                                462\n",
      "приобретение автомобиля                   450\n",
      "дополнительное образование                447\n",
      "высшее образование                        444\n",
      "сделка с автомобилем                      442\n",
      "образование                               437\n",
      "получение дополнительного образования     434\n",
      "получение образования                     430\n",
      "профильное образование                    428\n",
      "получение высшего образования             421\n",
      "заняться образованием                     391\n",
      "Name: purpose, dtype: int64\n"
     ]
    }
   ],
   "source": [
    "print(df.purpose.value_counts())"
   ]
  },
  {
   "cell_type": "code",
   "execution_count": 41,
   "id": "1700d4c0",
   "metadata": {},
   "outputs": [],
   "source": [
    "def purpose_category(purpose):\n",
    "    \"\"\"\n",
    "    Возвращает одну из категорий, на основе совпадений:\n",
    "    'операции с автомобилем',\n",
    "    'операции с недвижимостью',\n",
    "    'проведение свадьбы',\n",
    "    'получение образования'\n",
    "    \"\"\"\n",
    "    if 'автом' in purpose:\n",
    "        return 'операции с автомобилем'\n",
    "    if 'жиль' in purpose or 'недвиж' in purpose:\n",
    "        return 'операции с недвижимостью'\n",
    "    if 'свадь' in purpose:\n",
    "        return 'проведение свадьбы'\n",
    "    if 'образ' in purpose:\n",
    "        return 'получение образования'\n",
    "    else:\n",
    "        return 'unknow'"
   ]
  },
  {
   "cell_type": "markdown",
   "id": "60f98573",
   "metadata": {},
   "source": [
    "Проверим все ли строки распределились по группам, и нет ли `unknow`"
   ]
  },
  {
   "cell_type": "code",
   "execution_count": 42,
   "id": "47237e54",
   "metadata": {},
   "outputs": [
    {
     "name": "stdout",
     "output_type": "stream",
     "text": [
      "операции с недвижимостью    10460\n",
      "операции с автомобилем       4189\n",
      "получение образования        3911\n",
      "проведение свадьбы           2197\n",
      "Name: purpose_category, dtype: int64\n"
     ]
    }
   ],
   "source": [
    "df['purpose_category'] = df['purpose'].apply(purpose_category)\n",
    "print(df['purpose_category'].value_counts())"
   ]
  },
  {
   "cell_type": "markdown",
   "id": "bb841749",
   "metadata": {},
   "source": [
    "### Ответы на вопросы."
   ]
  },
  {
   "cell_type": "markdown",
   "id": "91e853a3",
   "metadata": {},
   "source": [
    "#### Есть ли зависимость между количеством детей и возвратом кредита в срок?:"
   ]
  },
  {
   "cell_type": "code",
   "execution_count": 43,
   "id": "2b09106f",
   "metadata": {},
   "outputs": [],
   "source": [
    "def calc_debt_percent(column):\n",
    "    \"\"\"\n",
    "    Функция позволяет расчитать процент просрочек для определенной группы (столбца).\n",
    "    Возвращает сводную таблицу.\n",
    "    \"\"\"\n",
    "    pivot = df.pivot_table(index=column,  values='debt', aggfunc=['count', 'sum'])\n",
    "    pivot['percent'] = round(pivot['count'] / pivot['sum'], 2)\n",
    "    return pivot.droplevel(level=1, axis=1)"
   ]
  },
  {
   "cell_type": "code",
   "execution_count": 44,
   "id": "2e714756",
   "metadata": {
    "scrolled": true
   },
   "outputs": [
    {
     "data": {
      "text/html": [
       "<div>\n",
       "<style scoped>\n",
       "    .dataframe tbody tr th:only-of-type {\n",
       "        vertical-align: middle;\n",
       "    }\n",
       "\n",
       "    .dataframe tbody tr th {\n",
       "        vertical-align: top;\n",
       "    }\n",
       "\n",
       "    .dataframe thead th {\n",
       "        text-align: right;\n",
       "    }\n",
       "</style>\n",
       "<table border=\"1\" class=\"dataframe\">\n",
       "  <thead>\n",
       "    <tr style=\"text-align: right;\">\n",
       "      <th></th>\n",
       "      <th>count</th>\n",
       "      <th>sum</th>\n",
       "      <th>percent</th>\n",
       "    </tr>\n",
       "    <tr>\n",
       "      <th>children</th>\n",
       "      <th></th>\n",
       "      <th></th>\n",
       "      <th></th>\n",
       "    </tr>\n",
       "  </thead>\n",
       "  <tbody>\n",
       "    <tr>\n",
       "      <th>0</th>\n",
       "      <td>13551</td>\n",
       "      <td>1051</td>\n",
       "      <td>12.89</td>\n",
       "    </tr>\n",
       "    <tr>\n",
       "      <th>1</th>\n",
       "      <td>4737</td>\n",
       "      <td>444</td>\n",
       "      <td>10.67</td>\n",
       "    </tr>\n",
       "    <tr>\n",
       "      <th>2</th>\n",
       "      <td>2090</td>\n",
       "      <td>202</td>\n",
       "      <td>10.35</td>\n",
       "    </tr>\n",
       "    <tr>\n",
       "      <th>3</th>\n",
       "      <td>329</td>\n",
       "      <td>27</td>\n",
       "      <td>12.19</td>\n",
       "    </tr>\n",
       "    <tr>\n",
       "      <th>4</th>\n",
       "      <td>41</td>\n",
       "      <td>4</td>\n",
       "      <td>10.25</td>\n",
       "    </tr>\n",
       "    <tr>\n",
       "      <th>5</th>\n",
       "      <td>9</td>\n",
       "      <td>0</td>\n",
       "      <td>inf</td>\n",
       "    </tr>\n",
       "  </tbody>\n",
       "</table>\n",
       "</div>"
      ],
      "text/plain": [
       "          count   sum  percent\n",
       "children                      \n",
       "0         13551  1051    12.89\n",
       "1          4737   444    10.67\n",
       "2          2090   202    10.35\n",
       "3           329    27    12.19\n",
       "4            41     4    10.25\n",
       "5             9     0      inf"
      ]
     },
     "metadata": {},
     "output_type": "display_data"
    }
   ],
   "source": [
    "display(calc_debt_percent('children'))"
   ]
  },
  {
   "cell_type": "markdown",
   "id": "39e61e70",
   "metadata": {},
   "source": [
    "Зависимость есть, но совсем не большая - без детей и с 3 детьми процент просрочек немного больше."
   ]
  },
  {
   "cell_type": "markdown",
   "id": "8209751b",
   "metadata": {},
   "source": [
    "#### Есть ли зависимость между семейным положением и возвратом кредита в срок?:"
   ]
  },
  {
   "cell_type": "code",
   "execution_count": 45,
   "id": "924298e5",
   "metadata": {
    "scrolled": false
   },
   "outputs": [
    {
     "data": {
      "text/html": [
       "<div>\n",
       "<style scoped>\n",
       "    .dataframe tbody tr th:only-of-type {\n",
       "        vertical-align: middle;\n",
       "    }\n",
       "\n",
       "    .dataframe tbody tr th {\n",
       "        vertical-align: top;\n",
       "    }\n",
       "\n",
       "    .dataframe thead th {\n",
       "        text-align: right;\n",
       "    }\n",
       "</style>\n",
       "<table border=\"1\" class=\"dataframe\">\n",
       "  <thead>\n",
       "    <tr style=\"text-align: right;\">\n",
       "      <th></th>\n",
       "      <th>count</th>\n",
       "      <th>sum</th>\n",
       "      <th>percent</th>\n",
       "    </tr>\n",
       "    <tr>\n",
       "      <th>family_status_id</th>\n",
       "      <th></th>\n",
       "      <th></th>\n",
       "      <th></th>\n",
       "    </tr>\n",
       "  </thead>\n",
       "  <tbody>\n",
       "    <tr>\n",
       "      <th>0</th>\n",
       "      <td>11869</td>\n",
       "      <td>925</td>\n",
       "      <td>12.83</td>\n",
       "    </tr>\n",
       "    <tr>\n",
       "      <th>1</th>\n",
       "      <td>4005</td>\n",
       "      <td>381</td>\n",
       "      <td>10.51</td>\n",
       "    </tr>\n",
       "    <tr>\n",
       "      <th>2</th>\n",
       "      <td>940</td>\n",
       "      <td>63</td>\n",
       "      <td>14.92</td>\n",
       "    </tr>\n",
       "    <tr>\n",
       "      <th>3</th>\n",
       "      <td>1182</td>\n",
       "      <td>85</td>\n",
       "      <td>13.91</td>\n",
       "    </tr>\n",
       "    <tr>\n",
       "      <th>4</th>\n",
       "      <td>2761</td>\n",
       "      <td>274</td>\n",
       "      <td>10.08</td>\n",
       "    </tr>\n",
       "  </tbody>\n",
       "</table>\n",
       "</div>"
      ],
      "text/plain": [
       "                  count  sum  percent\n",
       "family_status_id                     \n",
       "0                 11869  925    12.83\n",
       "1                  4005  381    10.51\n",
       "2                   940   63    14.92\n",
       "3                  1182   85    13.91\n",
       "4                  2761  274    10.08"
      ]
     },
     "metadata": {},
     "output_type": "display_data"
    },
    {
     "data": {
      "text/html": [
       "<div>\n",
       "<style scoped>\n",
       "    .dataframe tbody tr th:only-of-type {\n",
       "        vertical-align: middle;\n",
       "    }\n",
       "\n",
       "    .dataframe tbody tr th {\n",
       "        vertical-align: top;\n",
       "    }\n",
       "\n",
       "    .dataframe thead th {\n",
       "        text-align: right;\n",
       "    }\n",
       "</style>\n",
       "<table border=\"1\" class=\"dataframe\">\n",
       "  <thead>\n",
       "    <tr style=\"text-align: right;\">\n",
       "      <th></th>\n",
       "      <th>family_status_id</th>\n",
       "      <th>family_status</th>\n",
       "    </tr>\n",
       "  </thead>\n",
       "  <tbody>\n",
       "    <tr>\n",
       "      <th>0</th>\n",
       "      <td>0</td>\n",
       "      <td>женат / замужем</td>\n",
       "    </tr>\n",
       "    <tr>\n",
       "      <th>1</th>\n",
       "      <td>1</td>\n",
       "      <td>гражданский брак</td>\n",
       "    </tr>\n",
       "    <tr>\n",
       "      <th>2</th>\n",
       "      <td>2</td>\n",
       "      <td>вдовец / вдова</td>\n",
       "    </tr>\n",
       "    <tr>\n",
       "      <th>3</th>\n",
       "      <td>3</td>\n",
       "      <td>в разводе</td>\n",
       "    </tr>\n",
       "    <tr>\n",
       "      <th>4</th>\n",
       "      <td>4</td>\n",
       "      <td>не женат / не замужем</td>\n",
       "    </tr>\n",
       "  </tbody>\n",
       "</table>\n",
       "</div>"
      ],
      "text/plain": [
       "   family_status_id          family_status\n",
       "0                 0        женат / замужем\n",
       "1                 1       гражданский брак\n",
       "2                 2         вдовец / вдова\n",
       "3                 3              в разводе\n",
       "4                 4  не женат / не замужем"
      ]
     },
     "metadata": {},
     "output_type": "display_data"
    }
   ],
   "source": [
    "display(calc_debt_percent('family_status_id'), family_status_dict)"
   ]
  },
  {
   "cell_type": "markdown",
   "id": "f2c79b82",
   "metadata": {},
   "source": [
    "Зависимость есть, не в браке \"без обязательств\" меньше всего просрочек, в разводе и в браке уже больше и больше всего просрочек у группы `вдовец / вдова`"
   ]
  },
  {
   "cell_type": "markdown",
   "id": "03c35f83",
   "metadata": {},
   "source": [
    "#### Есть ли зависимость между уровнем дохода и возвратом кредита в срок?"
   ]
  },
  {
   "cell_type": "code",
   "execution_count": 46,
   "id": "bc19e7bd",
   "metadata": {
    "scrolled": true
   },
   "outputs": [
    {
     "data": {
      "text/html": [
       "<div>\n",
       "<style scoped>\n",
       "    .dataframe tbody tr th:only-of-type {\n",
       "        vertical-align: middle;\n",
       "    }\n",
       "\n",
       "    .dataframe tbody tr th {\n",
       "        vertical-align: top;\n",
       "    }\n",
       "\n",
       "    .dataframe thead th {\n",
       "        text-align: right;\n",
       "    }\n",
       "</style>\n",
       "<table border=\"1\" class=\"dataframe\">\n",
       "  <thead>\n",
       "    <tr style=\"text-align: right;\">\n",
       "      <th></th>\n",
       "      <th>count</th>\n",
       "      <th>sum</th>\n",
       "      <th>percent</th>\n",
       "    </tr>\n",
       "    <tr>\n",
       "      <th>total_income_category</th>\n",
       "      <th></th>\n",
       "      <th></th>\n",
       "      <th></th>\n",
       "    </tr>\n",
       "  </thead>\n",
       "  <tbody>\n",
       "    <tr>\n",
       "      <th>A</th>\n",
       "      <td>25</td>\n",
       "      <td>2</td>\n",
       "      <td>12.50</td>\n",
       "    </tr>\n",
       "    <tr>\n",
       "      <th>B</th>\n",
       "      <td>5041</td>\n",
       "      <td>356</td>\n",
       "      <td>14.16</td>\n",
       "    </tr>\n",
       "    <tr>\n",
       "      <th>C</th>\n",
       "      <td>15319</td>\n",
       "      <td>1347</td>\n",
       "      <td>11.37</td>\n",
       "    </tr>\n",
       "    <tr>\n",
       "      <th>D</th>\n",
       "      <td>350</td>\n",
       "      <td>21</td>\n",
       "      <td>16.67</td>\n",
       "    </tr>\n",
       "    <tr>\n",
       "      <th>E</th>\n",
       "      <td>22</td>\n",
       "      <td>2</td>\n",
       "      <td>11.00</td>\n",
       "    </tr>\n",
       "  </tbody>\n",
       "</table>\n",
       "</div>"
      ],
      "text/plain": [
       "                       count   sum  percent\n",
       "total_income_category                      \n",
       "A                         25     2    12.50\n",
       "B                       5041   356    14.16\n",
       "C                      15319  1347    11.37\n",
       "D                        350    21    16.67\n",
       "E                         22     2    11.00"
      ]
     },
     "metadata": {},
     "output_type": "display_data"
    }
   ],
   "source": [
    "display(calc_debt_percent('total_income_category'))"
   ]
  },
  {
   "cell_type": "markdown",
   "id": "ae659db8",
   "metadata": {},
   "source": [
    "Да, тоже есть небольшая зависимость, но на категорию `D` маленькая выборка, а на `А` и `Е` вообще минимальная."
   ]
  },
  {
   "cell_type": "markdown",
   "id": "ad1bfb3b",
   "metadata": {},
   "source": [
    "#### Как разные цели кредита влияют на его возврат в срок?"
   ]
  },
  {
   "cell_type": "code",
   "execution_count": 47,
   "id": "ba387c67",
   "metadata": {},
   "outputs": [
    {
     "data": {
      "text/html": [
       "<div>\n",
       "<style scoped>\n",
       "    .dataframe tbody tr th:only-of-type {\n",
       "        vertical-align: middle;\n",
       "    }\n",
       "\n",
       "    .dataframe tbody tr th {\n",
       "        vertical-align: top;\n",
       "    }\n",
       "\n",
       "    .dataframe thead th {\n",
       "        text-align: right;\n",
       "    }\n",
       "</style>\n",
       "<table border=\"1\" class=\"dataframe\">\n",
       "  <thead>\n",
       "    <tr style=\"text-align: right;\">\n",
       "      <th></th>\n",
       "      <th>count</th>\n",
       "      <th>sum</th>\n",
       "      <th>percent</th>\n",
       "    </tr>\n",
       "    <tr>\n",
       "      <th>purpose_category</th>\n",
       "      <th></th>\n",
       "      <th></th>\n",
       "      <th></th>\n",
       "    </tr>\n",
       "  </thead>\n",
       "  <tbody>\n",
       "    <tr>\n",
       "      <th>операции с автомобилем</th>\n",
       "      <td>4189</td>\n",
       "      <td>401</td>\n",
       "      <td>10.45</td>\n",
       "    </tr>\n",
       "    <tr>\n",
       "      <th>операции с недвижимостью</th>\n",
       "      <td>10460</td>\n",
       "      <td>780</td>\n",
       "      <td>13.41</td>\n",
       "    </tr>\n",
       "    <tr>\n",
       "      <th>получение образования</th>\n",
       "      <td>3911</td>\n",
       "      <td>368</td>\n",
       "      <td>10.63</td>\n",
       "    </tr>\n",
       "    <tr>\n",
       "      <th>проведение свадьбы</th>\n",
       "      <td>2197</td>\n",
       "      <td>179</td>\n",
       "      <td>12.27</td>\n",
       "    </tr>\n",
       "  </tbody>\n",
       "</table>\n",
       "</div>"
      ],
      "text/plain": [
       "                          count  sum  percent\n",
       "purpose_category                             \n",
       "операции с автомобилем     4189  401    10.45\n",
       "операции с недвижимостью  10460  780    13.41\n",
       "получение образования      3911  368    10.63\n",
       "проведение свадьбы         2197  179    12.27"
      ]
     },
     "metadata": {},
     "output_type": "display_data"
    }
   ],
   "source": [
    "display(calc_debt_percent('purpose_category'))"
   ]
  },
  {
   "cell_type": "markdown",
   "id": "2e2e208d",
   "metadata": {},
   "source": [
    "Просрочек немного больше у групп - `операции с недвижимостью` и `проведение свадьбы`"
   ]
  },
  {
   "cell_type": "markdown",
   "id": "8f07c736",
   "metadata": {},
   "source": [
    "## Общий вывод:"
   ]
  },
  {
   "cell_type": "markdown",
   "id": "d5630d27",
   "metadata": {},
   "source": [
    "При анализе и предобработке данных были найдены и исправлены небольшие аномалии в данных. Стоит обратить внимание на большое количество неверных данных в зарплатах пенсионеров и пропуски стажа и зарплаты (уточнить данные).\n",
    "\n",
    "Обработали и удалили явные и неявные дубликаты. Категориальные данные были приведены к единому стилю. \n",
    "Сделана категоризация данных - цели кредита были обработаны и распределены по категориям, сделано разделение по категориям дохода.\n",
    "\n",
    "Сделали декомпозицию исходного датафрейма, сформировали дополнительные датафреймы словарей.\n",
    "\n",
    "Провели анализ данных как разные категории влияют на количество просрочек. Зависимости есть, если накладывать их на конкретного человека, то можно составить его кредитный рейтинг относительно других."
   ]
  }
 ],
 "metadata": {
  "ExecuteTimeLog": [
   {
    "duration": 722,
    "start_time": "2022-05-23T14:32:01.124Z"
   },
   {
    "duration": 8,
    "start_time": "2022-05-23T14:34:46.952Z"
   },
   {
    "duration": 65,
    "start_time": "2022-05-23T14:35:02.379Z"
   },
   {
    "duration": 7,
    "start_time": "2022-05-23T14:35:08.259Z"
   },
   {
    "duration": 3,
    "start_time": "2022-05-23T14:35:21.910Z"
   },
   {
    "duration": 4,
    "start_time": "2022-05-23T14:35:25.978Z"
   },
   {
    "duration": 6,
    "start_time": "2022-05-23T14:36:51.014Z"
   },
   {
    "duration": 5,
    "start_time": "2022-05-23T14:37:18.407Z"
   },
   {
    "duration": 4,
    "start_time": "2022-05-23T14:38:39.721Z"
   },
   {
    "duration": 8,
    "start_time": "2022-05-23T14:39:41.821Z"
   },
   {
    "duration": 4,
    "start_time": "2022-05-23T14:40:25.544Z"
   },
   {
    "duration": 5,
    "start_time": "2022-05-23T14:40:45.285Z"
   },
   {
    "duration": 6,
    "start_time": "2022-05-23T14:40:59.645Z"
   },
   {
    "duration": 3,
    "start_time": "2022-05-23T14:41:22.284Z"
   },
   {
    "duration": 8,
    "start_time": "2022-05-23T14:41:32.765Z"
   },
   {
    "duration": 46,
    "start_time": "2022-05-23T14:43:03.803Z"
   },
   {
    "duration": 6,
    "start_time": "2022-05-23T14:43:13.910Z"
   },
   {
    "duration": 4,
    "start_time": "2022-05-23T14:43:24.512Z"
   },
   {
    "duration": 4,
    "start_time": "2022-05-23T14:43:34.415Z"
   },
   {
    "duration": 5,
    "start_time": "2022-05-23T14:43:46.062Z"
   },
   {
    "duration": 6,
    "start_time": "2022-05-23T14:44:06.694Z"
   },
   {
    "duration": 6,
    "start_time": "2022-05-23T14:45:13.498Z"
   },
   {
    "duration": 11,
    "start_time": "2022-05-23T14:45:45.611Z"
   },
   {
    "duration": 9,
    "start_time": "2022-05-23T14:45:56.505Z"
   },
   {
    "duration": 8,
    "start_time": "2022-05-23T14:48:02.897Z"
   },
   {
    "duration": 20,
    "start_time": "2022-05-23T14:48:31.606Z"
   },
   {
    "duration": 14,
    "start_time": "2022-05-23T14:48:40.103Z"
   },
   {
    "duration": 14,
    "start_time": "2022-05-23T14:52:25.737Z"
   },
   {
    "duration": 13,
    "start_time": "2022-05-23T14:52:37.113Z"
   },
   {
    "duration": 27,
    "start_time": "2022-05-23T14:57:41.581Z"
   },
   {
    "duration": 17,
    "start_time": "2022-05-23T14:57:46.513Z"
   },
   {
    "duration": 16,
    "start_time": "2022-05-23T14:57:57.736Z"
   },
   {
    "duration": 87,
    "start_time": "2022-05-23T15:10:43.458Z"
   },
   {
    "duration": 94,
    "start_time": "2022-05-23T15:10:51.867Z"
   },
   {
    "duration": 17,
    "start_time": "2022-05-23T15:11:31.951Z"
   },
   {
    "duration": 72,
    "start_time": "2022-05-23T15:14:36.539Z"
   },
   {
    "duration": 11,
    "start_time": "2022-05-23T15:20:39.234Z"
   },
   {
    "duration": 13,
    "start_time": "2022-05-23T15:20:44.548Z"
   },
   {
    "duration": 12,
    "start_time": "2022-05-23T15:22:25.775Z"
   },
   {
    "duration": 15,
    "start_time": "2022-05-23T15:22:28.324Z"
   },
   {
    "duration": 0,
    "start_time": "2022-05-23T15:22:28.340Z"
   },
   {
    "duration": 13,
    "start_time": "2022-05-23T15:22:57.346Z"
   },
   {
    "duration": 0,
    "start_time": "2022-05-23T15:22:57.361Z"
   },
   {
    "duration": 13,
    "start_time": "2022-05-23T15:23:01.992Z"
   },
   {
    "duration": 12,
    "start_time": "2022-05-23T15:23:03.135Z"
   },
   {
    "duration": 12,
    "start_time": "2022-05-23T15:23:22.263Z"
   },
   {
    "duration": 12,
    "start_time": "2022-05-23T15:23:23.397Z"
   },
   {
    "duration": 13,
    "start_time": "2022-05-23T15:23:24.089Z"
   },
   {
    "duration": 13,
    "start_time": "2022-05-23T15:23:25.259Z"
   },
   {
    "duration": 13,
    "start_time": "2022-05-23T15:23:26.466Z"
   },
   {
    "duration": 13,
    "start_time": "2022-05-23T15:23:27.851Z"
   },
   {
    "duration": 12,
    "start_time": "2022-05-23T15:23:28.649Z"
   },
   {
    "duration": 13,
    "start_time": "2022-05-23T15:23:37.348Z"
   },
   {
    "duration": 10,
    "start_time": "2022-05-23T15:24:00.142Z"
   },
   {
    "duration": 12,
    "start_time": "2022-05-23T15:24:38.350Z"
   },
   {
    "duration": 6,
    "start_time": "2022-05-23T15:26:58.649Z"
   },
   {
    "duration": 9,
    "start_time": "2022-05-23T15:27:05.985Z"
   },
   {
    "duration": 7,
    "start_time": "2022-05-23T15:27:10.446Z"
   },
   {
    "duration": 8,
    "start_time": "2022-05-23T15:27:39.014Z"
   },
   {
    "duration": 6,
    "start_time": "2022-05-23T15:27:47.193Z"
   },
   {
    "duration": 351,
    "start_time": "2022-05-23T15:28:28.173Z"
   },
   {
    "duration": 9,
    "start_time": "2022-05-23T15:28:43.665Z"
   },
   {
    "duration": 15,
    "start_time": "2022-05-23T15:32:00.849Z"
   },
   {
    "duration": 13,
    "start_time": "2022-05-23T15:32:02.157Z"
   },
   {
    "duration": 12,
    "start_time": "2022-05-23T15:32:26.642Z"
   },
   {
    "duration": 1,
    "start_time": "2022-05-23T15:32:26.655Z"
   },
   {
    "duration": 0,
    "start_time": "2022-05-23T15:32:26.656Z"
   },
   {
    "duration": 0,
    "start_time": "2022-05-23T15:32:26.658Z"
   },
   {
    "duration": 7,
    "start_time": "2022-05-23T15:32:31.181Z"
   },
   {
    "duration": 12,
    "start_time": "2022-05-23T15:32:35.886Z"
   },
   {
    "duration": 12,
    "start_time": "2022-05-23T15:38:14.065Z"
   },
   {
    "duration": 14,
    "start_time": "2022-05-23T15:38:14.946Z"
   },
   {
    "duration": 13,
    "start_time": "2022-05-23T15:38:15.146Z"
   },
   {
    "duration": 21,
    "start_time": "2022-05-23T15:45:18.545Z"
   },
   {
    "duration": 19,
    "start_time": "2022-05-23T15:45:21.142Z"
   },
   {
    "duration": 549,
    "start_time": "2022-05-23T15:45:53.341Z"
   },
   {
    "duration": 10,
    "start_time": "2022-05-23T15:45:53.893Z"
   },
   {
    "duration": 22,
    "start_time": "2022-05-23T15:45:53.904Z"
   },
   {
    "duration": 11,
    "start_time": "2022-05-23T15:45:53.928Z"
   },
   {
    "duration": 110,
    "start_time": "2022-05-23T15:52:39.046Z"
   },
   {
    "duration": 93,
    "start_time": "2022-05-23T15:52:59.369Z"
   },
   {
    "duration": 10,
    "start_time": "2022-05-23T15:52:59.464Z"
   },
   {
    "duration": 21,
    "start_time": "2022-05-23T15:52:59.476Z"
   },
   {
    "duration": 8,
    "start_time": "2022-05-23T15:52:59.499Z"
   },
   {
    "duration": 68,
    "start_time": "2022-05-23T16:01:41.029Z"
   },
   {
    "duration": 8,
    "start_time": "2022-05-23T16:02:01.149Z"
   },
   {
    "duration": 4,
    "start_time": "2022-05-23T16:02:08.050Z"
   },
   {
    "duration": 8,
    "start_time": "2022-05-23T16:02:28.287Z"
   },
   {
    "duration": 7,
    "start_time": "2022-05-23T16:02:39.509Z"
   },
   {
    "duration": 4,
    "start_time": "2022-05-23T16:02:46.595Z"
   },
   {
    "duration": 3,
    "start_time": "2022-05-23T16:02:59.543Z"
   },
   {
    "duration": 10,
    "start_time": "2022-05-23T16:05:00.198Z"
   },
   {
    "duration": 5,
    "start_time": "2022-05-23T16:05:06.460Z"
   },
   {
    "duration": 36,
    "start_time": "2022-05-23T16:16:16.346Z"
   },
   {
    "duration": 28,
    "start_time": "2022-05-23T16:16:33.150Z"
   },
   {
    "duration": 5,
    "start_time": "2022-05-23T16:16:50.063Z"
   },
   {
    "duration": 3,
    "start_time": "2022-05-23T16:17:43.004Z"
   },
   {
    "duration": 3,
    "start_time": "2022-05-23T16:17:58.278Z"
   },
   {
    "duration": 4,
    "start_time": "2022-05-23T16:18:02.003Z"
   },
   {
    "duration": 5,
    "start_time": "2022-05-23T16:18:21.405Z"
   },
   {
    "duration": 35,
    "start_time": "2022-05-23T16:19:52.387Z"
   },
   {
    "duration": 4,
    "start_time": "2022-05-23T16:23:32.093Z"
   },
   {
    "duration": 44,
    "start_time": "2022-05-23T16:24:41.631Z"
   },
   {
    "duration": 25,
    "start_time": "2022-05-23T16:24:56.914Z"
   },
   {
    "duration": 5,
    "start_time": "2022-05-23T16:25:12.624Z"
   },
   {
    "duration": 6,
    "start_time": "2022-05-23T16:25:18.629Z"
   },
   {
    "duration": 6,
    "start_time": "2022-05-23T16:25:39.695Z"
   },
   {
    "duration": 4,
    "start_time": "2022-05-23T16:26:03.189Z"
   },
   {
    "duration": 4,
    "start_time": "2022-05-23T16:26:10.104Z"
   },
   {
    "duration": 4,
    "start_time": "2022-05-23T16:26:25.167Z"
   },
   {
    "duration": 7,
    "start_time": "2022-05-23T16:41:09.117Z"
   },
   {
    "duration": 9,
    "start_time": "2022-05-23T16:41:46.460Z"
   },
   {
    "duration": 8,
    "start_time": "2022-05-23T16:41:48.937Z"
   },
   {
    "duration": 9,
    "start_time": "2022-05-23T16:42:01.330Z"
   },
   {
    "duration": 83,
    "start_time": "2022-05-23T16:42:46.462Z"
   },
   {
    "duration": 8,
    "start_time": "2022-05-23T16:42:46.547Z"
   },
   {
    "duration": 13,
    "start_time": "2022-05-23T16:42:46.557Z"
   },
   {
    "duration": 3,
    "start_time": "2022-05-23T16:42:46.574Z"
   },
   {
    "duration": 11,
    "start_time": "2022-05-23T16:42:49.054Z"
   },
   {
    "duration": 18,
    "start_time": "2022-05-23T16:43:10.209Z"
   },
   {
    "duration": 28,
    "start_time": "2022-05-23T17:16:47.728Z"
   },
   {
    "duration": 87,
    "start_time": "2022-05-23T17:16:56.150Z"
   },
   {
    "duration": 10,
    "start_time": "2022-05-23T17:16:56.238Z"
   },
   {
    "duration": 13,
    "start_time": "2022-05-23T17:16:56.249Z"
   },
   {
    "duration": 12,
    "start_time": "2022-05-23T17:16:56.264Z"
   },
   {
    "duration": 10,
    "start_time": "2022-05-23T17:16:56.277Z"
   },
   {
    "duration": 40,
    "start_time": "2022-05-23T17:17:01.775Z"
   },
   {
    "duration": 24,
    "start_time": "2022-05-23T17:20:55.167Z"
   },
   {
    "duration": 81,
    "start_time": "2022-05-23T17:21:05.987Z"
   },
   {
    "duration": 7,
    "start_time": "2022-05-23T17:21:06.070Z"
   },
   {
    "duration": 21,
    "start_time": "2022-05-23T17:21:06.079Z"
   },
   {
    "duration": 5,
    "start_time": "2022-05-23T17:21:06.101Z"
   },
   {
    "duration": 9,
    "start_time": "2022-05-23T17:21:06.108Z"
   },
   {
    "duration": 24,
    "start_time": "2022-05-23T17:21:08.679Z"
   },
   {
    "duration": 17,
    "start_time": "2022-05-23T17:21:35.256Z"
   },
   {
    "duration": 14,
    "start_time": "2022-05-23T17:24:37.347Z"
   },
   {
    "duration": 13,
    "start_time": "2022-05-23T20:16:03.288Z"
   },
   {
    "duration": 19,
    "start_time": "2022-05-23T20:16:41.404Z"
   },
   {
    "duration": 6,
    "start_time": "2022-05-23T20:16:58.155Z"
   },
   {
    "duration": 6,
    "start_time": "2022-05-23T20:17:15.470Z"
   },
   {
    "duration": 15,
    "start_time": "2022-05-23T20:17:30.796Z"
   },
   {
    "duration": 5,
    "start_time": "2022-05-23T20:17:50.470Z"
   },
   {
    "duration": 8,
    "start_time": "2022-05-23T20:18:26.463Z"
   },
   {
    "duration": 7,
    "start_time": "2022-05-23T20:18:51.908Z"
   },
   {
    "duration": 5,
    "start_time": "2022-05-23T20:18:56.528Z"
   },
   {
    "duration": 14,
    "start_time": "2022-05-23T20:19:24.505Z"
   },
   {
    "duration": 5,
    "start_time": "2022-05-23T20:28:28.229Z"
   },
   {
    "duration": 5,
    "start_time": "2022-05-23T20:28:39.929Z"
   },
   {
    "duration": 7,
    "start_time": "2022-05-23T20:31:04.064Z"
   },
   {
    "duration": 7,
    "start_time": "2022-05-23T20:31:32.501Z"
   },
   {
    "duration": 18,
    "start_time": "2022-05-23T20:31:58.482Z"
   },
   {
    "duration": 5,
    "start_time": "2022-05-23T20:32:53.373Z"
   },
   {
    "duration": 6,
    "start_time": "2022-05-23T20:33:25.990Z"
   },
   {
    "duration": 6,
    "start_time": "2022-05-23T20:39:37.230Z"
   },
   {
    "duration": 6,
    "start_time": "2022-05-23T20:40:26.002Z"
   },
   {
    "duration": 8,
    "start_time": "2022-05-23T20:40:49.924Z"
   },
   {
    "duration": 9,
    "start_time": "2022-05-23T20:41:10.417Z"
   },
   {
    "duration": 6,
    "start_time": "2022-05-23T20:43:45.894Z"
   },
   {
    "duration": 12,
    "start_time": "2022-05-23T20:45:49.077Z"
   },
   {
    "duration": 6,
    "start_time": "2022-05-23T20:46:05.934Z"
   },
   {
    "duration": 9,
    "start_time": "2022-05-23T20:46:15.679Z"
   },
   {
    "duration": 8,
    "start_time": "2022-05-23T20:46:18.005Z"
   },
   {
    "duration": 17,
    "start_time": "2022-05-23T20:48:07.885Z"
   },
   {
    "duration": 17,
    "start_time": "2022-05-23T20:48:24.828Z"
   },
   {
    "duration": 17,
    "start_time": "2022-05-23T20:48:29.529Z"
   },
   {
    "duration": 28,
    "start_time": "2022-05-23T20:50:25.474Z"
   },
   {
    "duration": 16,
    "start_time": "2022-05-23T20:51:12.993Z"
   },
   {
    "duration": 15,
    "start_time": "2022-05-23T20:51:41.417Z"
   },
   {
    "duration": 28,
    "start_time": "2022-05-23T20:52:34.098Z"
   },
   {
    "duration": 29,
    "start_time": "2022-05-23T20:52:51.301Z"
   },
   {
    "duration": 27,
    "start_time": "2022-05-23T20:53:06.121Z"
   },
   {
    "duration": 41,
    "start_time": "2022-05-23T20:54:33.163Z"
   },
   {
    "duration": 33,
    "start_time": "2022-05-23T20:54:48.248Z"
   },
   {
    "duration": 36,
    "start_time": "2022-05-23T20:54:58.363Z"
   },
   {
    "duration": 137,
    "start_time": "2022-05-23T20:55:18.043Z"
   },
   {
    "duration": 9,
    "start_time": "2022-05-23T20:55:18.181Z"
   },
   {
    "duration": 14,
    "start_time": "2022-05-23T20:55:18.191Z"
   },
   {
    "duration": 4,
    "start_time": "2022-05-23T20:55:18.207Z"
   },
   {
    "duration": 10,
    "start_time": "2022-05-23T20:55:18.216Z"
   },
   {
    "duration": 21,
    "start_time": "2022-05-23T20:55:18.227Z"
   },
   {
    "duration": 40,
    "start_time": "2022-05-23T20:55:18.250Z"
   },
   {
    "duration": 17,
    "start_time": "2022-05-23T20:55:18.292Z"
   },
   {
    "duration": 6,
    "start_time": "2022-05-23T20:55:18.310Z"
   },
   {
    "duration": 4,
    "start_time": "2022-05-23T20:55:18.318Z"
   },
   {
    "duration": 15,
    "start_time": "2022-05-23T20:55:18.323Z"
   },
   {
    "duration": 3,
    "start_time": "2022-05-23T20:55:18.340Z"
   },
   {
    "duration": 6,
    "start_time": "2022-05-23T20:55:18.374Z"
   },
   {
    "duration": 6,
    "start_time": "2022-05-23T20:55:18.381Z"
   },
   {
    "duration": 5,
    "start_time": "2022-05-23T20:55:18.389Z"
   },
   {
    "duration": 17,
    "start_time": "2022-05-23T20:55:18.395Z"
   },
   {
    "duration": 34,
    "start_time": "2022-05-23T20:55:18.413Z"
   },
   {
    "duration": 0,
    "start_time": "2022-05-23T20:55:18.448Z"
   },
   {
    "duration": 85,
    "start_time": "2022-05-23T20:55:30.251Z"
   },
   {
    "duration": 9,
    "start_time": "2022-05-23T20:55:30.338Z"
   },
   {
    "duration": 28,
    "start_time": "2022-05-23T20:55:30.348Z"
   },
   {
    "duration": 4,
    "start_time": "2022-05-23T20:55:30.378Z"
   },
   {
    "duration": 24,
    "start_time": "2022-05-23T20:55:30.383Z"
   },
   {
    "duration": 24,
    "start_time": "2022-05-23T20:55:30.409Z"
   },
   {
    "duration": 18,
    "start_time": "2022-05-23T20:55:30.435Z"
   },
   {
    "duration": 30,
    "start_time": "2022-05-23T20:55:30.454Z"
   },
   {
    "duration": 7,
    "start_time": "2022-05-23T20:55:30.485Z"
   },
   {
    "duration": 7,
    "start_time": "2022-05-23T20:55:30.495Z"
   },
   {
    "duration": 16,
    "start_time": "2022-05-23T20:55:30.504Z"
   },
   {
    "duration": 5,
    "start_time": "2022-05-23T20:55:30.522Z"
   },
   {
    "duration": 20,
    "start_time": "2022-05-23T20:55:30.528Z"
   },
   {
    "duration": 25,
    "start_time": "2022-05-23T20:55:30.550Z"
   },
   {
    "duration": 4,
    "start_time": "2022-05-23T20:55:30.577Z"
   },
   {
    "duration": 17,
    "start_time": "2022-05-23T20:55:30.583Z"
   },
   {
    "duration": 16,
    "start_time": "2022-05-23T20:55:33.686Z"
   },
   {
    "duration": 34,
    "start_time": "2022-05-23T20:55:40.510Z"
   },
   {
    "duration": 6,
    "start_time": "2022-05-23T20:55:44.709Z"
   },
   {
    "duration": 6,
    "start_time": "2022-05-23T20:56:21.383Z"
   },
   {
    "duration": 11,
    "start_time": "2022-05-23T20:56:25.557Z"
   },
   {
    "duration": 7,
    "start_time": "2022-05-23T20:56:27.368Z"
   },
   {
    "duration": 5,
    "start_time": "2022-05-23T20:56:59.612Z"
   },
   {
    "duration": 17,
    "start_time": "2022-05-23T21:01:36.428Z"
   },
   {
    "duration": 14,
    "start_time": "2022-05-23T21:01:39.704Z"
   },
   {
    "duration": 7,
    "start_time": "2022-05-23T21:02:06.427Z"
   },
   {
    "duration": 20,
    "start_time": "2022-05-23T21:02:31.940Z"
   },
   {
    "duration": 8,
    "start_time": "2022-05-23T21:02:34.968Z"
   },
   {
    "duration": 86,
    "start_time": "2022-05-23T21:02:41.958Z"
   },
   {
    "duration": 9,
    "start_time": "2022-05-23T21:02:42.046Z"
   },
   {
    "duration": 23,
    "start_time": "2022-05-23T21:02:42.057Z"
   },
   {
    "duration": 4,
    "start_time": "2022-05-23T21:02:42.082Z"
   },
   {
    "duration": 13,
    "start_time": "2022-05-23T21:02:42.088Z"
   },
   {
    "duration": 21,
    "start_time": "2022-05-23T21:02:42.102Z"
   },
   {
    "duration": 18,
    "start_time": "2022-05-23T21:02:42.124Z"
   },
   {
    "duration": 40,
    "start_time": "2022-05-23T21:02:42.144Z"
   },
   {
    "duration": 6,
    "start_time": "2022-05-23T21:02:42.186Z"
   },
   {
    "duration": 7,
    "start_time": "2022-05-23T21:02:42.194Z"
   },
   {
    "duration": 23,
    "start_time": "2022-05-23T21:02:42.202Z"
   },
   {
    "duration": 5,
    "start_time": "2022-05-23T21:02:42.227Z"
   },
   {
    "duration": 11,
    "start_time": "2022-05-23T21:02:42.233Z"
   },
   {
    "duration": 5,
    "start_time": "2022-05-23T21:02:42.276Z"
   },
   {
    "duration": 8,
    "start_time": "2022-05-23T21:02:42.282Z"
   },
   {
    "duration": 19,
    "start_time": "2022-05-23T21:02:42.291Z"
   },
   {
    "duration": 16,
    "start_time": "2022-05-23T21:02:42.312Z"
   },
   {
    "duration": 61,
    "start_time": "2022-05-23T21:02:42.330Z"
   },
   {
    "duration": 7,
    "start_time": "2022-05-23T21:02:42.392Z"
   },
   {
    "duration": 14,
    "start_time": "2022-05-23T21:02:42.400Z"
   },
   {
    "duration": 9,
    "start_time": "2022-05-23T21:02:42.415Z"
   },
   {
    "duration": 9,
    "start_time": "2022-05-23T21:02:42.425Z"
   },
   {
    "duration": 5,
    "start_time": "2022-05-23T21:02:57.343Z"
   },
   {
    "duration": 10,
    "start_time": "2022-05-23T21:02:59.756Z"
   },
   {
    "duration": 7,
    "start_time": "2022-05-23T21:03:29.215Z"
   },
   {
    "duration": 7,
    "start_time": "2022-05-23T21:03:32.222Z"
   },
   {
    "duration": 6,
    "start_time": "2022-05-23T21:07:29.259Z"
   },
   {
    "duration": 11,
    "start_time": "2022-05-23T21:08:19.510Z"
   },
   {
    "duration": 18,
    "start_time": "2022-05-23T21:08:25.868Z"
   },
   {
    "duration": 30,
    "start_time": "2022-05-23T21:26:47.868Z"
   },
   {
    "duration": 4,
    "start_time": "2022-05-23T21:27:45.794Z"
   },
   {
    "duration": 15,
    "start_time": "2022-05-23T21:27:58.153Z"
   },
   {
    "duration": 13,
    "start_time": "2022-05-23T21:28:30.760Z"
   },
   {
    "duration": 13,
    "start_time": "2022-05-23T21:28:41.528Z"
   },
   {
    "duration": 91,
    "start_time": "2022-05-23T21:28:49.411Z"
   },
   {
    "duration": 10,
    "start_time": "2022-05-23T21:28:49.504Z"
   },
   {
    "duration": 12,
    "start_time": "2022-05-23T21:28:49.515Z"
   },
   {
    "duration": 4,
    "start_time": "2022-05-23T21:28:49.528Z"
   },
   {
    "duration": 13,
    "start_time": "2022-05-23T21:28:49.534Z"
   },
   {
    "duration": 21,
    "start_time": "2022-05-23T21:28:49.574Z"
   },
   {
    "duration": 16,
    "start_time": "2022-05-23T21:28:49.597Z"
   },
   {
    "duration": 19,
    "start_time": "2022-05-23T21:28:51.698Z"
   },
   {
    "duration": 14,
    "start_time": "2022-05-23T21:30:11.524Z"
   },
   {
    "duration": 7,
    "start_time": "2022-05-23T21:31:38.433Z"
   },
   {
    "duration": 6,
    "start_time": "2022-05-23T21:31:43.464Z"
   },
   {
    "duration": 6,
    "start_time": "2022-05-23T21:31:48.857Z"
   },
   {
    "duration": 101,
    "start_time": "2022-05-23T21:31:59.964Z"
   },
   {
    "duration": 11,
    "start_time": "2022-05-23T21:32:00.067Z"
   },
   {
    "duration": 19,
    "start_time": "2022-05-23T21:32:00.080Z"
   },
   {
    "duration": 3,
    "start_time": "2022-05-23T21:32:00.101Z"
   },
   {
    "duration": 10,
    "start_time": "2022-05-23T21:32:00.105Z"
   },
   {
    "duration": 15,
    "start_time": "2022-05-23T21:32:00.116Z"
   },
   {
    "duration": 16,
    "start_time": "2022-05-23T21:32:00.133Z"
   },
   {
    "duration": 45,
    "start_time": "2022-05-23T21:32:00.150Z"
   },
   {
    "duration": 7,
    "start_time": "2022-05-23T21:32:00.197Z"
   },
   {
    "duration": 5,
    "start_time": "2022-05-23T21:32:00.208Z"
   },
   {
    "duration": 15,
    "start_time": "2022-05-23T21:32:00.215Z"
   },
   {
    "duration": 4,
    "start_time": "2022-05-23T21:32:00.231Z"
   },
   {
    "duration": 11,
    "start_time": "2022-05-23T21:32:00.236Z"
   },
   {
    "duration": 5,
    "start_time": "2022-05-23T21:32:00.274Z"
   },
   {
    "duration": 11,
    "start_time": "2022-05-23T21:32:00.280Z"
   },
   {
    "duration": 22,
    "start_time": "2022-05-23T21:32:00.293Z"
   },
   {
    "duration": 14,
    "start_time": "2022-05-23T21:32:00.317Z"
   },
   {
    "duration": 30,
    "start_time": "2022-05-23T21:32:00.332Z"
   },
   {
    "duration": 15,
    "start_time": "2022-05-23T21:32:00.365Z"
   },
   {
    "duration": 39,
    "start_time": "2022-05-23T21:32:00.382Z"
   },
   {
    "duration": 9,
    "start_time": "2022-05-23T21:32:00.422Z"
   },
   {
    "duration": 11,
    "start_time": "2022-05-23T21:32:00.433Z"
   },
   {
    "duration": 19,
    "start_time": "2022-05-23T21:32:00.445Z"
   },
   {
    "duration": 30,
    "start_time": "2022-05-23T21:32:00.466Z"
   },
   {
    "duration": 12,
    "start_time": "2022-05-23T21:32:00.497Z"
   },
   {
    "duration": 12,
    "start_time": "2022-05-23T21:32:00.510Z"
   },
   {
    "duration": 11,
    "start_time": "2022-05-23T21:32:00.523Z"
   },
   {
    "duration": 18,
    "start_time": "2022-05-23T21:32:00.537Z"
   },
   {
    "duration": 7,
    "start_time": "2022-05-23T21:32:03.042Z"
   },
   {
    "duration": 101,
    "start_time": "2022-05-23T21:33:07.227Z"
   },
   {
    "duration": 9,
    "start_time": "2022-05-23T21:33:07.329Z"
   },
   {
    "duration": 12,
    "start_time": "2022-05-23T21:33:07.339Z"
   },
   {
    "duration": 3,
    "start_time": "2022-05-23T21:33:07.352Z"
   },
   {
    "duration": 39,
    "start_time": "2022-05-23T21:33:07.357Z"
   },
   {
    "duration": 19,
    "start_time": "2022-05-23T21:33:07.398Z"
   },
   {
    "duration": 17,
    "start_time": "2022-05-23T21:33:07.419Z"
   },
   {
    "duration": 17,
    "start_time": "2022-05-23T21:33:07.437Z"
   },
   {
    "duration": 5,
    "start_time": "2022-05-23T21:33:07.455Z"
   },
   {
    "duration": 35,
    "start_time": "2022-05-23T21:33:07.461Z"
   },
   {
    "duration": 19,
    "start_time": "2022-05-23T21:33:07.499Z"
   },
   {
    "duration": 4,
    "start_time": "2022-05-23T21:33:07.519Z"
   },
   {
    "duration": 7,
    "start_time": "2022-05-23T21:33:07.525Z"
   },
   {
    "duration": 4,
    "start_time": "2022-05-23T21:33:07.535Z"
   },
   {
    "duration": 4,
    "start_time": "2022-05-23T21:33:07.541Z"
   },
   {
    "duration": 16,
    "start_time": "2022-05-23T21:33:07.547Z"
   },
   {
    "duration": 28,
    "start_time": "2022-05-23T21:33:07.585Z"
   },
   {
    "duration": 28,
    "start_time": "2022-05-23T21:33:07.615Z"
   },
   {
    "duration": 5,
    "start_time": "2022-05-23T21:33:07.645Z"
   },
   {
    "duration": 13,
    "start_time": "2022-05-23T21:33:07.651Z"
   },
   {
    "duration": 32,
    "start_time": "2022-05-23T21:33:07.665Z"
   },
   {
    "duration": 9,
    "start_time": "2022-05-23T21:33:07.698Z"
   },
   {
    "duration": 14,
    "start_time": "2022-05-23T21:33:07.709Z"
   },
   {
    "duration": 9,
    "start_time": "2022-05-23T21:33:07.724Z"
   },
   {
    "duration": 7,
    "start_time": "2022-05-23T21:33:07.735Z"
   },
   {
    "duration": 12,
    "start_time": "2022-05-23T21:33:07.743Z"
   },
   {
    "duration": 6,
    "start_time": "2022-05-23T21:33:07.756Z"
   },
   {
    "duration": 38,
    "start_time": "2022-05-23T21:33:07.763Z"
   },
   {
    "duration": 7,
    "start_time": "2022-05-23T21:33:10.187Z"
   },
   {
    "duration": 18,
    "start_time": "2022-05-23T21:33:15.167Z"
   },
   {
    "duration": 7,
    "start_time": "2022-05-23T21:33:29.018Z"
   },
   {
    "duration": 4,
    "start_time": "2022-05-23T21:35:11.013Z"
   },
   {
    "duration": 7,
    "start_time": "2022-05-23T21:35:39.286Z"
   },
   {
    "duration": 10,
    "start_time": "2022-05-23T21:35:54.293Z"
   },
   {
    "duration": 6,
    "start_time": "2022-05-23T21:42:08.040Z"
   },
   {
    "duration": 12,
    "start_time": "2022-05-23T21:42:22.161Z"
   },
   {
    "duration": 14,
    "start_time": "2022-05-23T21:42:32.678Z"
   },
   {
    "duration": 94,
    "start_time": "2022-05-23T21:42:41.902Z"
   },
   {
    "duration": 9,
    "start_time": "2022-05-23T21:42:41.997Z"
   },
   {
    "duration": 19,
    "start_time": "2022-05-23T21:42:42.007Z"
   },
   {
    "duration": 17,
    "start_time": "2022-05-23T21:42:42.028Z"
   },
   {
    "duration": 24,
    "start_time": "2022-05-23T21:42:42.046Z"
   },
   {
    "duration": 37,
    "start_time": "2022-05-23T21:42:42.071Z"
   },
   {
    "duration": 24,
    "start_time": "2022-05-23T21:42:42.109Z"
   },
   {
    "duration": 16,
    "start_time": "2022-05-23T21:42:42.134Z"
   },
   {
    "duration": 5,
    "start_time": "2022-05-23T21:42:42.151Z"
   },
   {
    "duration": 14,
    "start_time": "2022-05-23T21:42:42.158Z"
   },
   {
    "duration": 34,
    "start_time": "2022-05-23T21:42:42.173Z"
   },
   {
    "duration": 4,
    "start_time": "2022-05-23T21:42:42.209Z"
   },
   {
    "duration": 24,
    "start_time": "2022-05-23T21:42:42.214Z"
   },
   {
    "duration": 11,
    "start_time": "2022-05-23T21:42:42.241Z"
   },
   {
    "duration": 19,
    "start_time": "2022-05-23T21:42:42.254Z"
   },
   {
    "duration": 42,
    "start_time": "2022-05-23T21:42:42.274Z"
   },
   {
    "duration": 16,
    "start_time": "2022-05-23T21:42:42.318Z"
   },
   {
    "duration": 34,
    "start_time": "2022-05-23T21:42:42.335Z"
   },
   {
    "duration": 16,
    "start_time": "2022-05-23T21:42:42.370Z"
   },
   {
    "duration": 31,
    "start_time": "2022-05-23T21:42:42.388Z"
   },
   {
    "duration": 11,
    "start_time": "2022-05-23T21:42:42.421Z"
   },
   {
    "duration": 19,
    "start_time": "2022-05-23T21:42:42.434Z"
   },
   {
    "duration": 32,
    "start_time": "2022-05-23T21:42:42.455Z"
   },
   {
    "duration": 15,
    "start_time": "2022-05-23T21:42:42.488Z"
   },
   {
    "duration": 26,
    "start_time": "2022-05-23T21:42:42.504Z"
   },
   {
    "duration": 19,
    "start_time": "2022-05-23T21:42:42.531Z"
   },
   {
    "duration": 20,
    "start_time": "2022-05-23T21:42:42.551Z"
   },
   {
    "duration": 35,
    "start_time": "2022-05-23T21:42:42.573Z"
   },
   {
    "duration": 14,
    "start_time": "2022-05-23T21:42:42.610Z"
   },
   {
    "duration": 35,
    "start_time": "2022-05-23T21:42:42.625Z"
   },
   {
    "duration": 27,
    "start_time": "2022-05-23T21:42:42.662Z"
   },
   {
    "duration": 15,
    "start_time": "2022-05-23T21:42:45.670Z"
   },
   {
    "duration": 13,
    "start_time": "2022-05-23T21:42:48.195Z"
   },
   {
    "duration": 7,
    "start_time": "2022-05-23T21:51:55.416Z"
   },
   {
    "duration": 9,
    "start_time": "2022-05-23T21:52:03.656Z"
   },
   {
    "duration": 3,
    "start_time": "2022-05-23T21:52:08.041Z"
   },
   {
    "duration": 3,
    "start_time": "2022-05-23T21:52:10.413Z"
   },
   {
    "duration": 3,
    "start_time": "2022-05-23T21:52:16.418Z"
   },
   {
    "duration": 3,
    "start_time": "2022-05-23T21:52:23.813Z"
   },
   {
    "duration": 3,
    "start_time": "2022-05-23T21:52:25.812Z"
   },
   {
    "duration": 11,
    "start_time": "2022-05-23T21:54:48.894Z"
   },
   {
    "duration": 14,
    "start_time": "2022-05-23T21:54:55.545Z"
   },
   {
    "duration": 3,
    "start_time": "2022-05-23T21:58:53.548Z"
   },
   {
    "duration": 19,
    "start_time": "2022-05-23T21:58:55.561Z"
   },
   {
    "duration": 5,
    "start_time": "2022-05-23T22:06:59.698Z"
   },
   {
    "duration": 7,
    "start_time": "2022-05-23T22:17:36.460Z"
   },
   {
    "duration": 4,
    "start_time": "2022-05-23T22:17:42.869Z"
   },
   {
    "duration": 10,
    "start_time": "2022-05-23T22:17:45.293Z"
   },
   {
    "duration": 14,
    "start_time": "2022-05-23T22:29:08.757Z"
   },
   {
    "duration": 19,
    "start_time": "2022-05-23T22:34:29.951Z"
   },
   {
    "duration": 22,
    "start_time": "2022-05-23T22:34:48.197Z"
   },
   {
    "duration": 20,
    "start_time": "2022-05-23T22:35:08.661Z"
   },
   {
    "duration": 10,
    "start_time": "2022-05-23T22:36:15.942Z"
   },
   {
    "duration": 12,
    "start_time": "2022-05-23T22:37:37.778Z"
   },
   {
    "duration": 12,
    "start_time": "2022-05-23T22:38:39.393Z"
   },
   {
    "duration": 13,
    "start_time": "2022-05-23T22:41:43.879Z"
   },
   {
    "duration": 13,
    "start_time": "2022-05-23T22:41:58.364Z"
   },
   {
    "duration": 13,
    "start_time": "2022-05-23T22:42:46.764Z"
   },
   {
    "duration": 7,
    "start_time": "2022-05-23T22:44:35.083Z"
   },
   {
    "duration": 4,
    "start_time": "2022-05-23T22:44:44.433Z"
   },
   {
    "duration": 6,
    "start_time": "2022-05-23T22:45:01.492Z"
   },
   {
    "duration": 6,
    "start_time": "2022-05-23T22:45:21.930Z"
   },
   {
    "duration": 6,
    "start_time": "2022-05-23T22:45:33.780Z"
   },
   {
    "duration": 13,
    "start_time": "2022-05-23T22:48:02.901Z"
   },
   {
    "duration": 14,
    "start_time": "2022-05-23T22:48:27.385Z"
   },
   {
    "duration": 16,
    "start_time": "2022-05-23T22:48:48.872Z"
   },
   {
    "duration": 11,
    "start_time": "2022-05-23T22:49:25.419Z"
   },
   {
    "duration": 12,
    "start_time": "2022-05-23T22:55:04.374Z"
   },
   {
    "duration": 606,
    "start_time": "2022-05-23T22:56:52.970Z"
   },
   {
    "duration": 497,
    "start_time": "2022-05-23T22:57:02.110Z"
   },
   {
    "duration": 464,
    "start_time": "2022-05-23T22:57:40.835Z"
   },
   {
    "duration": 475,
    "start_time": "2022-05-23T22:57:42.111Z"
   },
   {
    "duration": 448,
    "start_time": "2022-05-23T22:57:43.291Z"
   },
   {
    "duration": 479,
    "start_time": "2022-05-23T22:57:44.650Z"
   },
   {
    "duration": 676,
    "start_time": "2022-05-23T22:57:45.757Z"
   },
   {
    "duration": 491,
    "start_time": "2022-05-23T22:57:47.129Z"
   },
   {
    "duration": 532,
    "start_time": "2022-05-23T22:57:48.269Z"
   },
   {
    "duration": 468,
    "start_time": "2022-05-23T22:57:49.391Z"
   },
   {
    "duration": 424,
    "start_time": "2022-05-23T22:58:14.428Z"
   },
   {
    "duration": 12,
    "start_time": "2022-05-23T22:58:34.600Z"
   },
   {
    "duration": 432,
    "start_time": "2022-05-23T22:59:13.924Z"
   },
   {
    "duration": 11,
    "start_time": "2022-05-23T22:59:58.308Z"
   },
   {
    "duration": 13,
    "start_time": "2022-05-23T23:00:23.259Z"
   },
   {
    "duration": 13,
    "start_time": "2022-05-23T23:00:45.537Z"
   },
   {
    "duration": 13,
    "start_time": "2022-05-23T23:00:51.268Z"
   },
   {
    "duration": 816,
    "start_time": "2022-05-24T12:14:30.557Z"
   },
   {
    "duration": 19,
    "start_time": "2022-05-24T12:14:31.377Z"
   },
   {
    "duration": 52,
    "start_time": "2022-05-24T12:14:31.398Z"
   },
   {
    "duration": 6,
    "start_time": "2022-05-24T12:14:31.454Z"
   },
   {
    "duration": 20,
    "start_time": "2022-05-24T12:14:31.463Z"
   },
   {
    "duration": 30,
    "start_time": "2022-05-24T12:14:31.485Z"
   },
   {
    "duration": 43,
    "start_time": "2022-05-24T12:14:31.517Z"
   },
   {
    "duration": 44,
    "start_time": "2022-05-24T12:14:31.562Z"
   },
   {
    "duration": 15,
    "start_time": "2022-05-24T12:14:31.608Z"
   },
   {
    "duration": 15,
    "start_time": "2022-05-24T12:14:31.628Z"
   },
   {
    "duration": 24,
    "start_time": "2022-05-24T12:14:31.645Z"
   },
   {
    "duration": 27,
    "start_time": "2022-05-24T12:14:31.671Z"
   },
   {
    "duration": 36,
    "start_time": "2022-05-24T12:14:31.701Z"
   },
   {
    "duration": 4,
    "start_time": "2022-05-24T12:28:24.238Z"
   },
   {
    "duration": 5,
    "start_time": "2022-05-24T12:29:54.062Z"
   },
   {
    "duration": 6,
    "start_time": "2022-05-24T12:30:07.479Z"
   },
   {
    "duration": 15,
    "start_time": "2022-05-24T12:30:26.160Z"
   },
   {
    "duration": 24,
    "start_time": "2022-05-24T12:30:53.713Z"
   },
   {
    "duration": 7,
    "start_time": "2022-05-24T12:33:08.785Z"
   },
   {
    "duration": 18,
    "start_time": "2022-05-24T12:33:16.684Z"
   },
   {
    "duration": 13,
    "start_time": "2022-05-24T12:34:24.906Z"
   },
   {
    "duration": 8,
    "start_time": "2022-05-24T12:35:34.112Z"
   },
   {
    "duration": 7,
    "start_time": "2022-05-24T12:35:40.285Z"
   },
   {
    "duration": 16,
    "start_time": "2022-05-24T12:41:10.953Z"
   },
   {
    "duration": 7,
    "start_time": "2022-05-24T12:41:27.916Z"
   },
   {
    "duration": 109,
    "start_time": "2022-05-24T12:41:49.714Z"
   },
   {
    "duration": 6,
    "start_time": "2022-05-24T12:41:55.930Z"
   },
   {
    "duration": 10,
    "start_time": "2022-05-24T12:42:11.955Z"
   },
   {
    "duration": 13,
    "start_time": "2022-05-24T12:42:26.719Z"
   },
   {
    "duration": 18,
    "start_time": "2022-05-24T12:42:39.301Z"
   },
   {
    "duration": 5,
    "start_time": "2022-05-24T12:44:17.619Z"
   },
   {
    "duration": 20,
    "start_time": "2022-05-24T12:44:46.467Z"
   },
   {
    "duration": 6,
    "start_time": "2022-05-24T12:44:50.288Z"
   },
   {
    "duration": 26,
    "start_time": "2022-05-24T12:45:45.501Z"
   },
   {
    "duration": 7,
    "start_time": "2022-05-24T12:45:51.822Z"
   },
   {
    "duration": 6,
    "start_time": "2022-05-24T12:45:54.305Z"
   },
   {
    "duration": 24,
    "start_time": "2022-05-24T12:46:09.613Z"
   },
   {
    "duration": 6,
    "start_time": "2022-05-24T12:46:11.500Z"
   },
   {
    "duration": 108,
    "start_time": "2022-05-24T12:46:20.206Z"
   },
   {
    "duration": 14,
    "start_time": "2022-05-24T12:46:20.316Z"
   },
   {
    "duration": 23,
    "start_time": "2022-05-24T12:46:20.333Z"
   },
   {
    "duration": 5,
    "start_time": "2022-05-24T12:46:20.357Z"
   },
   {
    "duration": 36,
    "start_time": "2022-05-24T12:46:20.363Z"
   },
   {
    "duration": 18,
    "start_time": "2022-05-24T12:46:20.401Z"
   },
   {
    "duration": 20,
    "start_time": "2022-05-24T12:46:20.421Z"
   },
   {
    "duration": 21,
    "start_time": "2022-05-24T12:46:20.443Z"
   },
   {
    "duration": 34,
    "start_time": "2022-05-24T12:46:20.466Z"
   },
   {
    "duration": 7,
    "start_time": "2022-05-24T12:46:20.502Z"
   },
   {
    "duration": 25,
    "start_time": "2022-05-24T12:46:20.510Z"
   },
   {
    "duration": 6,
    "start_time": "2022-05-24T12:46:20.536Z"
   },
   {
    "duration": 12,
    "start_time": "2022-05-24T12:46:20.543Z"
   },
   {
    "duration": 12,
    "start_time": "2022-05-24T12:46:20.557Z"
   },
   {
    "duration": 6,
    "start_time": "2022-05-24T12:46:23.110Z"
   },
   {
    "duration": 6,
    "start_time": "2022-05-24T12:47:02.492Z"
   },
   {
    "duration": 24,
    "start_time": "2022-05-24T12:47:06.216Z"
   },
   {
    "duration": 6,
    "start_time": "2022-05-24T12:47:08.778Z"
   },
   {
    "duration": 96,
    "start_time": "2022-05-24T12:49:12.782Z"
   },
   {
    "duration": 10,
    "start_time": "2022-05-24T12:49:12.894Z"
   },
   {
    "duration": 15,
    "start_time": "2022-05-24T12:49:12.906Z"
   },
   {
    "duration": 4,
    "start_time": "2022-05-24T12:49:12.923Z"
   },
   {
    "duration": 12,
    "start_time": "2022-05-24T12:49:12.929Z"
   },
   {
    "duration": 22,
    "start_time": "2022-05-24T12:49:12.942Z"
   },
   {
    "duration": 47,
    "start_time": "2022-05-24T12:49:12.966Z"
   },
   {
    "duration": 26,
    "start_time": "2022-05-24T12:49:13.014Z"
   },
   {
    "duration": 7,
    "start_time": "2022-05-24T12:49:13.042Z"
   },
   {
    "duration": 10,
    "start_time": "2022-05-24T12:49:13.051Z"
   },
   {
    "duration": 48,
    "start_time": "2022-05-24T12:49:13.062Z"
   },
   {
    "duration": 4,
    "start_time": "2022-05-24T12:49:13.112Z"
   },
   {
    "duration": 9,
    "start_time": "2022-05-24T12:49:13.118Z"
   },
   {
    "duration": 5,
    "start_time": "2022-05-24T12:49:13.130Z"
   },
   {
    "duration": 7,
    "start_time": "2022-05-24T12:49:13.137Z"
   },
   {
    "duration": 58,
    "start_time": "2022-05-24T12:49:13.146Z"
   },
   {
    "duration": 6,
    "start_time": "2022-05-24T12:49:13.205Z"
   },
   {
    "duration": 18,
    "start_time": "2022-05-24T12:49:13.213Z"
   },
   {
    "duration": 16,
    "start_time": "2022-05-24T12:49:13.233Z"
   },
   {
    "duration": 61,
    "start_time": "2022-05-24T12:49:13.251Z"
   },
   {
    "duration": 6,
    "start_time": "2022-05-24T12:49:13.314Z"
   },
   {
    "duration": 15,
    "start_time": "2022-05-24T12:49:13.321Z"
   },
   {
    "duration": 10,
    "start_time": "2022-05-24T12:49:13.338Z"
   },
   {
    "duration": 9,
    "start_time": "2022-05-24T12:49:13.350Z"
   },
   {
    "duration": 38,
    "start_time": "2022-05-24T12:49:13.361Z"
   },
   {
    "duration": 13,
    "start_time": "2022-05-24T12:49:13.401Z"
   },
   {
    "duration": 8,
    "start_time": "2022-05-24T12:49:13.416Z"
   },
   {
    "duration": 9,
    "start_time": "2022-05-24T12:49:13.426Z"
   },
   {
    "duration": 9,
    "start_time": "2022-05-24T12:49:13.437Z"
   },
   {
    "duration": 17,
    "start_time": "2022-05-24T12:49:13.447Z"
   },
   {
    "duration": 29,
    "start_time": "2022-05-24T12:49:13.468Z"
   },
   {
    "duration": 11,
    "start_time": "2022-05-24T12:49:13.499Z"
   },
   {
    "duration": 11,
    "start_time": "2022-05-24T12:49:13.512Z"
   },
   {
    "duration": 5,
    "start_time": "2022-05-24T12:49:13.525Z"
   },
   {
    "duration": 16,
    "start_time": "2022-05-24T12:49:13.532Z"
   },
   {
    "duration": 4,
    "start_time": "2022-05-24T12:49:13.549Z"
   },
   {
    "duration": 50,
    "start_time": "2022-05-24T12:49:13.555Z"
   },
   {
    "duration": 7,
    "start_time": "2022-05-24T12:49:13.607Z"
   },
   {
    "duration": 7,
    "start_time": "2022-05-24T12:49:13.616Z"
   },
   {
    "duration": 21,
    "start_time": "2022-05-24T12:49:13.625Z"
   },
   {
    "duration": 82,
    "start_time": "2022-05-24T13:01:45.387Z"
   },
   {
    "duration": 13,
    "start_time": "2022-05-24T13:01:53.016Z"
   },
   {
    "duration": 24,
    "start_time": "2022-05-24T13:07:24.207Z"
   },
   {
    "duration": 14,
    "start_time": "2022-05-24T13:08:09.900Z"
   },
   {
    "duration": 14,
    "start_time": "2022-05-24T13:14:10.648Z"
   },
   {
    "duration": 14,
    "start_time": "2022-05-24T13:14:24.060Z"
   },
   {
    "duration": 12,
    "start_time": "2022-05-24T13:16:02.396Z"
   },
   {
    "duration": 26,
    "start_time": "2022-05-24T13:16:23.392Z"
   },
   {
    "duration": 25,
    "start_time": "2022-05-24T13:16:54.106Z"
   },
   {
    "duration": 15,
    "start_time": "2022-05-24T13:17:53.458Z"
   },
   {
    "duration": 90,
    "start_time": "2022-05-24T13:18:40.625Z"
   },
   {
    "duration": 9,
    "start_time": "2022-05-24T13:18:40.717Z"
   },
   {
    "duration": 21,
    "start_time": "2022-05-24T13:18:40.728Z"
   },
   {
    "duration": 4,
    "start_time": "2022-05-24T13:18:40.751Z"
   },
   {
    "duration": 39,
    "start_time": "2022-05-24T13:18:40.756Z"
   },
   {
    "duration": 21,
    "start_time": "2022-05-24T13:18:40.797Z"
   },
   {
    "duration": 28,
    "start_time": "2022-05-24T13:18:40.819Z"
   },
   {
    "duration": 19,
    "start_time": "2022-05-24T13:18:40.848Z"
   },
   {
    "duration": 8,
    "start_time": "2022-05-24T13:18:40.895Z"
   },
   {
    "duration": 31,
    "start_time": "2022-05-24T13:18:40.906Z"
   },
   {
    "duration": 35,
    "start_time": "2022-05-24T13:18:40.939Z"
   },
   {
    "duration": 4,
    "start_time": "2022-05-24T13:18:40.976Z"
   },
   {
    "duration": 20,
    "start_time": "2022-05-24T13:18:40.981Z"
   },
   {
    "duration": 27,
    "start_time": "2022-05-24T13:18:41.003Z"
   },
   {
    "duration": 21,
    "start_time": "2022-05-24T13:18:41.031Z"
   },
   {
    "duration": 50,
    "start_time": "2022-05-24T13:18:41.054Z"
   },
   {
    "duration": 7,
    "start_time": "2022-05-24T13:18:41.106Z"
   },
   {
    "duration": 36,
    "start_time": "2022-05-24T13:18:41.115Z"
   },
   {
    "duration": 21,
    "start_time": "2022-05-24T13:18:41.153Z"
   },
   {
    "duration": 57,
    "start_time": "2022-05-24T13:18:41.176Z"
   },
   {
    "duration": 6,
    "start_time": "2022-05-24T13:18:41.234Z"
   },
   {
    "duration": 18,
    "start_time": "2022-05-24T13:18:41.242Z"
   },
   {
    "duration": 25,
    "start_time": "2022-05-24T13:18:41.262Z"
   },
   {
    "duration": 24,
    "start_time": "2022-05-24T13:18:41.289Z"
   },
   {
    "duration": 27,
    "start_time": "2022-05-24T13:18:41.315Z"
   },
   {
    "duration": 40,
    "start_time": "2022-05-24T13:18:41.344Z"
   },
   {
    "duration": 18,
    "start_time": "2022-05-24T13:18:41.386Z"
   },
   {
    "duration": 26,
    "start_time": "2022-05-24T13:18:41.408Z"
   },
   {
    "duration": 27,
    "start_time": "2022-05-24T13:18:41.436Z"
   },
   {
    "duration": 38,
    "start_time": "2022-05-24T13:18:41.465Z"
   },
   {
    "duration": 30,
    "start_time": "2022-05-24T13:18:41.505Z"
   },
   {
    "duration": 63,
    "start_time": "2022-05-24T13:18:41.537Z"
   },
   {
    "duration": 37,
    "start_time": "2022-05-24T13:18:41.602Z"
   },
   {
    "duration": 11,
    "start_time": "2022-05-24T13:18:41.641Z"
   },
   {
    "duration": 43,
    "start_time": "2022-05-24T13:18:41.654Z"
   },
   {
    "duration": 23,
    "start_time": "2022-05-24T13:18:41.699Z"
   },
   {
    "duration": 42,
    "start_time": "2022-05-24T13:18:41.724Z"
   },
   {
    "duration": 29,
    "start_time": "2022-05-24T13:18:41.769Z"
   },
   {
    "duration": 24,
    "start_time": "2022-05-24T13:18:41.800Z"
   },
   {
    "duration": 18,
    "start_time": "2022-05-24T13:18:41.826Z"
   },
   {
    "duration": 12,
    "start_time": "2022-05-24T13:18:47.157Z"
   },
   {
    "duration": 3,
    "start_time": "2022-05-24T13:19:52.854Z"
   },
   {
    "duration": 9,
    "start_time": "2022-05-24T13:20:24.924Z"
   },
   {
    "duration": 17,
    "start_time": "2022-05-24T13:20:33.850Z"
   },
   {
    "duration": 10,
    "start_time": "2022-05-24T13:20:42.301Z"
   },
   {
    "duration": 19,
    "start_time": "2022-05-24T13:21:00.041Z"
   },
   {
    "duration": 17,
    "start_time": "2022-05-24T13:21:04.065Z"
   },
   {
    "duration": 11,
    "start_time": "2022-05-24T13:22:40.026Z"
   },
   {
    "duration": 16,
    "start_time": "2022-05-24T13:22:52.173Z"
   },
   {
    "duration": 27,
    "start_time": "2022-05-24T13:26:06.447Z"
   },
   {
    "duration": 11,
    "start_time": "2022-05-24T13:26:18.276Z"
   },
   {
    "duration": 12,
    "start_time": "2022-05-24T13:27:27.291Z"
   },
   {
    "duration": 94,
    "start_time": "2022-05-24T13:28:07.156Z"
   },
   {
    "duration": 10,
    "start_time": "2022-05-24T13:28:07.253Z"
   },
   {
    "duration": 44,
    "start_time": "2022-05-24T13:28:07.265Z"
   },
   {
    "duration": 35,
    "start_time": "2022-05-24T13:28:07.312Z"
   },
   {
    "duration": 28,
    "start_time": "2022-05-24T13:28:07.351Z"
   },
   {
    "duration": 44,
    "start_time": "2022-05-24T13:28:07.381Z"
   },
   {
    "duration": 35,
    "start_time": "2022-05-24T13:28:07.427Z"
   },
   {
    "duration": 31,
    "start_time": "2022-05-24T13:28:07.464Z"
   },
   {
    "duration": 19,
    "start_time": "2022-05-24T13:28:07.497Z"
   },
   {
    "duration": 27,
    "start_time": "2022-05-24T13:28:07.518Z"
   },
   {
    "duration": 46,
    "start_time": "2022-05-24T13:28:07.548Z"
   },
   {
    "duration": 7,
    "start_time": "2022-05-24T13:28:07.596Z"
   },
   {
    "duration": 32,
    "start_time": "2022-05-24T13:28:07.605Z"
   },
   {
    "duration": 36,
    "start_time": "2022-05-24T13:28:07.641Z"
   },
   {
    "duration": 22,
    "start_time": "2022-05-24T13:28:07.679Z"
   },
   {
    "duration": 40,
    "start_time": "2022-05-24T13:28:07.703Z"
   },
   {
    "duration": 19,
    "start_time": "2022-05-24T13:28:07.745Z"
   },
   {
    "duration": 35,
    "start_time": "2022-05-24T13:28:07.766Z"
   },
   {
    "duration": 18,
    "start_time": "2022-05-24T13:28:07.803Z"
   },
   {
    "duration": 38,
    "start_time": "2022-05-24T13:28:07.823Z"
   },
   {
    "duration": 9,
    "start_time": "2022-05-24T13:28:07.863Z"
   },
   {
    "duration": 44,
    "start_time": "2022-05-24T13:28:07.873Z"
   },
   {
    "duration": 31,
    "start_time": "2022-05-24T13:28:07.919Z"
   },
   {
    "duration": 24,
    "start_time": "2022-05-24T13:28:07.952Z"
   },
   {
    "duration": 29,
    "start_time": "2022-05-24T13:28:07.977Z"
   },
   {
    "duration": 32,
    "start_time": "2022-05-24T13:28:08.008Z"
   },
   {
    "duration": 39,
    "start_time": "2022-05-24T13:28:08.042Z"
   },
   {
    "duration": 25,
    "start_time": "2022-05-24T13:28:08.082Z"
   },
   {
    "duration": 12,
    "start_time": "2022-05-24T13:28:08.109Z"
   },
   {
    "duration": 17,
    "start_time": "2022-05-24T13:28:08.123Z"
   },
   {
    "duration": 7,
    "start_time": "2022-05-24T13:28:08.142Z"
   },
   {
    "duration": 13,
    "start_time": "2022-05-24T13:28:08.150Z"
   },
   {
    "duration": 36,
    "start_time": "2022-05-24T13:28:08.165Z"
   },
   {
    "duration": 8,
    "start_time": "2022-05-24T13:28:08.204Z"
   },
   {
    "duration": 27,
    "start_time": "2022-05-24T13:28:08.213Z"
   },
   {
    "duration": 3,
    "start_time": "2022-05-24T13:28:08.242Z"
   },
   {
    "duration": 30,
    "start_time": "2022-05-24T13:28:08.247Z"
   },
   {
    "duration": 8,
    "start_time": "2022-05-24T13:28:08.279Z"
   },
   {
    "duration": 4,
    "start_time": "2022-05-24T13:28:08.295Z"
   },
   {
    "duration": 20,
    "start_time": "2022-05-24T13:28:08.301Z"
   },
   {
    "duration": 11,
    "start_time": "2022-05-24T13:28:53.387Z"
   },
   {
    "duration": 13,
    "start_time": "2022-05-24T13:29:55.883Z"
   },
   {
    "duration": 20,
    "start_time": "2022-05-24T13:30:08.069Z"
   },
   {
    "duration": 100,
    "start_time": "2022-05-24T13:32:56.487Z"
   },
   {
    "duration": 11,
    "start_time": "2022-05-24T13:32:56.595Z"
   },
   {
    "duration": 15,
    "start_time": "2022-05-24T13:32:56.607Z"
   },
   {
    "duration": 6,
    "start_time": "2022-05-24T13:32:56.624Z"
   },
   {
    "duration": 10,
    "start_time": "2022-05-24T13:32:56.633Z"
   },
   {
    "duration": 24,
    "start_time": "2022-05-24T13:32:56.645Z"
   },
   {
    "duration": 45,
    "start_time": "2022-05-24T13:32:56.670Z"
   },
   {
    "duration": 24,
    "start_time": "2022-05-24T13:32:56.717Z"
   },
   {
    "duration": 8,
    "start_time": "2022-05-24T13:32:56.743Z"
   },
   {
    "duration": 14,
    "start_time": "2022-05-24T13:32:56.753Z"
   },
   {
    "duration": 18,
    "start_time": "2022-05-24T13:32:56.794Z"
   },
   {
    "duration": 5,
    "start_time": "2022-05-24T13:32:56.814Z"
   },
   {
    "duration": 8,
    "start_time": "2022-05-24T13:32:56.821Z"
   },
   {
    "duration": 6,
    "start_time": "2022-05-24T13:32:56.833Z"
   },
   {
    "duration": 8,
    "start_time": "2022-05-24T13:32:56.841Z"
   },
   {
    "duration": 64,
    "start_time": "2022-05-24T13:32:56.851Z"
   },
   {
    "duration": 6,
    "start_time": "2022-05-24T13:32:56.917Z"
   },
   {
    "duration": 26,
    "start_time": "2022-05-24T13:32:56.925Z"
   },
   {
    "duration": 17,
    "start_time": "2022-05-24T13:32:56.952Z"
   },
   {
    "duration": 55,
    "start_time": "2022-05-24T13:32:56.971Z"
   },
   {
    "duration": 6,
    "start_time": "2022-05-24T13:32:57.027Z"
   },
   {
    "duration": 14,
    "start_time": "2022-05-24T13:32:57.035Z"
   },
   {
    "duration": 15,
    "start_time": "2022-05-24T13:32:57.052Z"
   },
   {
    "duration": 26,
    "start_time": "2022-05-24T13:32:57.069Z"
   },
   {
    "duration": 13,
    "start_time": "2022-05-24T13:32:57.097Z"
   },
   {
    "duration": 11,
    "start_time": "2022-05-24T13:32:57.111Z"
   },
   {
    "duration": 9,
    "start_time": "2022-05-24T13:32:57.124Z"
   },
   {
    "duration": 10,
    "start_time": "2022-05-24T13:32:57.134Z"
   },
   {
    "duration": 6,
    "start_time": "2022-05-24T13:32:57.145Z"
   },
   {
    "duration": 65,
    "start_time": "2022-05-24T13:32:57.153Z"
   },
   {
    "duration": 9,
    "start_time": "2022-05-24T13:32:57.220Z"
   },
   {
    "duration": 20,
    "start_time": "2022-05-24T13:32:57.231Z"
   },
   {
    "duration": 24,
    "start_time": "2022-05-24T13:32:57.253Z"
   },
   {
    "duration": 22,
    "start_time": "2022-05-24T13:32:57.279Z"
   },
   {
    "duration": 33,
    "start_time": "2022-05-24T13:32:57.304Z"
   },
   {
    "duration": 7,
    "start_time": "2022-05-24T13:32:57.339Z"
   },
   {
    "duration": 37,
    "start_time": "2022-05-24T13:32:57.348Z"
   },
   {
    "duration": 15,
    "start_time": "2022-05-24T13:32:57.387Z"
   },
   {
    "duration": 11,
    "start_time": "2022-05-24T13:32:57.404Z"
   },
   {
    "duration": 22,
    "start_time": "2022-05-24T13:32:57.417Z"
   },
   {
    "duration": 14,
    "start_time": "2022-05-24T13:33:37.600Z"
   },
   {
    "duration": 14,
    "start_time": "2022-05-24T13:35:02.274Z"
   },
   {
    "duration": 14,
    "start_time": "2022-05-24T13:36:13.705Z"
   },
   {
    "duration": 19,
    "start_time": "2022-05-24T13:37:19.546Z"
   },
   {
    "duration": 15,
    "start_time": "2022-05-24T13:37:42.231Z"
   },
   {
    "duration": 19,
    "start_time": "2022-05-24T13:49:19.773Z"
   },
   {
    "duration": 19,
    "start_time": "2022-05-24T13:53:46.866Z"
   },
   {
    "duration": 1473,
    "start_time": "2022-05-25T12:50:04.494Z"
   },
   {
    "duration": 112,
    "start_time": "2022-05-25T12:50:22.206Z"
   },
   {
    "duration": 110,
    "start_time": "2022-05-25T12:50:29.865Z"
   },
   {
    "duration": 139,
    "start_time": "2022-05-25T12:50:41.959Z"
   },
   {
    "duration": 113,
    "start_time": "2022-05-25T12:50:47.704Z"
   },
   {
    "duration": 18,
    "start_time": "2022-05-25T13:52:05.475Z"
   },
   {
    "duration": 17,
    "start_time": "2022-05-25T13:52:22.148Z"
   },
   {
    "duration": 31,
    "start_time": "2022-05-25T13:57:45.858Z"
   },
   {
    "duration": 436,
    "start_time": "2022-05-25T14:24:42.726Z"
   },
   {
    "duration": 277,
    "start_time": "2022-05-25T14:25:00.164Z"
   },
   {
    "duration": 9,
    "start_time": "2022-05-25T14:25:00.443Z"
   },
   {
    "duration": 27,
    "start_time": "2022-05-25T14:25:00.453Z"
   },
   {
    "duration": 13,
    "start_time": "2022-05-25T14:25:00.481Z"
   },
   {
    "duration": 19,
    "start_time": "2022-05-25T14:25:00.497Z"
   },
   {
    "duration": 38,
    "start_time": "2022-05-25T14:25:00.517Z"
   },
   {
    "duration": 28,
    "start_time": "2022-05-25T14:25:00.556Z"
   },
   {
    "duration": 17,
    "start_time": "2022-05-25T14:25:00.586Z"
   },
   {
    "duration": 6,
    "start_time": "2022-05-25T14:25:00.605Z"
   },
   {
    "duration": 9,
    "start_time": "2022-05-25T14:25:00.612Z"
   },
   {
    "duration": 31,
    "start_time": "2022-05-25T14:25:00.623Z"
   },
   {
    "duration": 4,
    "start_time": "2022-05-25T14:25:00.655Z"
   },
   {
    "duration": 11,
    "start_time": "2022-05-25T14:25:00.661Z"
   },
   {
    "duration": 17,
    "start_time": "2022-05-25T14:25:00.675Z"
   },
   {
    "duration": 17,
    "start_time": "2022-05-25T14:25:00.694Z"
   },
   {
    "duration": 33,
    "start_time": "2022-05-25T14:25:00.713Z"
   },
   {
    "duration": 4,
    "start_time": "2022-05-25T14:25:00.748Z"
   },
   {
    "duration": 21,
    "start_time": "2022-05-25T14:25:00.754Z"
   },
   {
    "duration": 18,
    "start_time": "2022-05-25T14:25:00.776Z"
   },
   {
    "duration": 29,
    "start_time": "2022-05-25T14:25:00.795Z"
   },
   {
    "duration": 5,
    "start_time": "2022-05-25T14:25:00.825Z"
   },
   {
    "duration": 22,
    "start_time": "2022-05-25T14:25:00.832Z"
   },
   {
    "duration": 13,
    "start_time": "2022-05-25T14:25:00.856Z"
   },
   {
    "duration": 29,
    "start_time": "2022-05-25T14:25:00.870Z"
   },
   {
    "duration": 19,
    "start_time": "2022-05-25T14:25:00.901Z"
   },
   {
    "duration": 14,
    "start_time": "2022-05-25T14:25:00.922Z"
   },
   {
    "duration": 27,
    "start_time": "2022-05-25T14:25:00.938Z"
   },
   {
    "duration": 21,
    "start_time": "2022-05-25T14:25:00.967Z"
   },
   {
    "duration": 16,
    "start_time": "2022-05-25T14:25:00.990Z"
   },
   {
    "duration": 34,
    "start_time": "2022-05-25T14:25:01.008Z"
   },
   {
    "duration": 29,
    "start_time": "2022-05-25T14:25:01.043Z"
   },
   {
    "duration": 14,
    "start_time": "2022-05-25T14:25:01.073Z"
   },
   {
    "duration": 6,
    "start_time": "2022-05-25T14:25:01.088Z"
   },
   {
    "duration": 27,
    "start_time": "2022-05-25T14:25:01.095Z"
   },
   {
    "duration": 31,
    "start_time": "2022-05-25T14:25:01.123Z"
   },
   {
    "duration": 22,
    "start_time": "2022-05-25T14:25:01.155Z"
   },
   {
    "duration": 20,
    "start_time": "2022-05-25T14:25:01.178Z"
   },
   {
    "duration": 7,
    "start_time": "2022-05-25T14:25:01.199Z"
   },
   {
    "duration": 46,
    "start_time": "2022-05-25T14:25:01.207Z"
   },
   {
    "duration": 39,
    "start_time": "2022-05-25T14:25:01.254Z"
   },
   {
    "duration": 13,
    "start_time": "2022-05-25T14:25:01.296Z"
   },
   {
    "duration": 24,
    "start_time": "2022-05-25T14:25:01.310Z"
   },
   {
    "duration": 45,
    "start_time": "2022-05-25T14:25:01.335Z"
   },
   {
    "duration": 25,
    "start_time": "2022-05-25T14:25:06.031Z"
   },
   {
    "duration": 35,
    "start_time": "2022-05-25T14:26:19.047Z"
   },
   {
    "duration": 21,
    "start_time": "2022-05-25T14:26:31.804Z"
   },
   {
    "duration": 34,
    "start_time": "2022-05-25T14:27:49.556Z"
   },
   {
    "duration": 13,
    "start_time": "2022-05-25T14:28:54.666Z"
   },
   {
    "duration": 107,
    "start_time": "2022-05-25T14:29:15.346Z"
   },
   {
    "duration": 7,
    "start_time": "2022-05-25T14:29:23.681Z"
   },
   {
    "duration": 13,
    "start_time": "2022-05-25T14:29:35.389Z"
   },
   {
    "duration": 20,
    "start_time": "2022-05-25T14:29:42.032Z"
   },
   {
    "duration": 8,
    "start_time": "2022-05-25T14:29:57.115Z"
   },
   {
    "duration": 26,
    "start_time": "2022-05-25T14:30:05.699Z"
   },
   {
    "duration": 13,
    "start_time": "2022-05-25T14:30:39.944Z"
   },
   {
    "duration": 18,
    "start_time": "2022-05-25T14:30:56.474Z"
   },
   {
    "duration": 22,
    "start_time": "2022-05-25T14:35:52.323Z"
   },
   {
    "duration": 112,
    "start_time": "2022-05-25T14:36:30.605Z"
   },
   {
    "duration": 31,
    "start_time": "2022-05-25T14:36:57.197Z"
   },
   {
    "duration": 21,
    "start_time": "2022-05-25T14:41:06.649Z"
   },
   {
    "duration": 25,
    "start_time": "2022-05-25T14:43:02.801Z"
   },
   {
    "duration": 25,
    "start_time": "2022-05-25T14:44:09.455Z"
   },
   {
    "duration": 23,
    "start_time": "2022-05-25T14:44:19.954Z"
   },
   {
    "duration": 33,
    "start_time": "2022-05-25T14:45:17.745Z"
   },
   {
    "duration": 31,
    "start_time": "2022-05-25T14:45:43.458Z"
   },
   {
    "duration": 38,
    "start_time": "2022-05-25T14:46:06.699Z"
   },
   {
    "duration": 25,
    "start_time": "2022-05-25T14:46:31.172Z"
   },
   {
    "duration": 29,
    "start_time": "2022-05-25T14:51:33.660Z"
   },
   {
    "duration": 20,
    "start_time": "2022-05-25T14:52:04.660Z"
   },
   {
    "duration": 38,
    "start_time": "2022-05-25T14:52:22.989Z"
   },
   {
    "duration": 23,
    "start_time": "2022-05-25T14:56:51.512Z"
   },
   {
    "duration": 30,
    "start_time": "2022-05-25T14:57:04.730Z"
   },
   {
    "duration": 22,
    "start_time": "2022-05-25T14:57:27.719Z"
   },
   {
    "duration": 34,
    "start_time": "2022-05-25T14:57:31.401Z"
   },
   {
    "duration": 20,
    "start_time": "2022-05-25T14:57:34.754Z"
   },
   {
    "duration": 32,
    "start_time": "2022-05-25T14:58:26.277Z"
   },
   {
    "duration": 28,
    "start_time": "2022-05-25T14:58:51.502Z"
   },
   {
    "duration": 30,
    "start_time": "2022-05-25T14:59:06.190Z"
   },
   {
    "duration": 31,
    "start_time": "2022-05-25T14:59:43.958Z"
   },
   {
    "duration": 23,
    "start_time": "2022-05-25T15:01:33.332Z"
   },
   {
    "duration": 22,
    "start_time": "2022-05-25T15:01:39.348Z"
   },
   {
    "duration": 39,
    "start_time": "2022-05-25T15:02:03.076Z"
   },
   {
    "duration": 21,
    "start_time": "2022-05-25T15:02:07.753Z"
   },
   {
    "duration": 47,
    "start_time": "2022-05-25T15:02:13.675Z"
   },
   {
    "duration": 38,
    "start_time": "2022-05-25T15:02:19.373Z"
   },
   {
    "duration": 28,
    "start_time": "2022-05-25T15:03:12.607Z"
   },
   {
    "duration": 23,
    "start_time": "2022-05-25T15:03:25.574Z"
   },
   {
    "duration": 35,
    "start_time": "2022-05-25T15:03:49.455Z"
   },
   {
    "duration": 22,
    "start_time": "2022-05-25T15:03:54.057Z"
   },
   {
    "duration": 37,
    "start_time": "2022-05-25T15:07:49.409Z"
   },
   {
    "duration": 35,
    "start_time": "2022-05-25T15:08:41.087Z"
   },
   {
    "duration": 32,
    "start_time": "2022-05-25T15:09:33.399Z"
   },
   {
    "duration": 37,
    "start_time": "2022-05-25T15:09:49.773Z"
   },
   {
    "duration": 24,
    "start_time": "2022-05-25T15:10:02.816Z"
   },
   {
    "duration": 25,
    "start_time": "2022-05-25T15:10:38.118Z"
   },
   {
    "duration": 24,
    "start_time": "2022-05-25T15:11:07.923Z"
   },
   {
    "duration": 74,
    "start_time": "2022-05-25T15:15:38.396Z"
   },
   {
    "duration": 3,
    "start_time": "2022-05-25T15:15:43.430Z"
   },
   {
    "duration": 24,
    "start_time": "2022-05-25T15:15:45.675Z"
   },
   {
    "duration": 3,
    "start_time": "2022-05-25T15:15:55.528Z"
   },
   {
    "duration": 20,
    "start_time": "2022-05-25T15:15:57.681Z"
   },
   {
    "duration": 3,
    "start_time": "2022-05-25T15:16:12.482Z"
   },
   {
    "duration": 21,
    "start_time": "2022-05-25T15:16:14.116Z"
   },
   {
    "duration": 19,
    "start_time": "2022-05-25T15:16:22.808Z"
   },
   {
    "duration": 23,
    "start_time": "2022-05-25T15:21:30.922Z"
   },
   {
    "duration": 21,
    "start_time": "2022-05-25T15:21:54.517Z"
   },
   {
    "duration": 24,
    "start_time": "2022-05-25T15:22:08.696Z"
   },
   {
    "duration": 773,
    "start_time": "2022-05-25T15:50:00.256Z"
   },
   {
    "duration": 10,
    "start_time": "2022-05-25T15:50:01.031Z"
   },
   {
    "duration": 36,
    "start_time": "2022-05-25T15:50:01.042Z"
   },
   {
    "duration": 14,
    "start_time": "2022-05-25T15:50:01.080Z"
   },
   {
    "duration": 28,
    "start_time": "2022-05-25T15:50:01.096Z"
   },
   {
    "duration": 40,
    "start_time": "2022-05-25T15:50:01.126Z"
   },
   {
    "duration": 31,
    "start_time": "2022-05-25T15:50:01.167Z"
   },
   {
    "duration": 23,
    "start_time": "2022-05-25T15:50:01.200Z"
   },
   {
    "duration": 7,
    "start_time": "2022-05-25T15:50:01.224Z"
   },
   {
    "duration": 25,
    "start_time": "2022-05-25T15:50:01.233Z"
   },
   {
    "duration": 50,
    "start_time": "2022-05-25T15:50:01.260Z"
   },
   {
    "duration": 4,
    "start_time": "2022-05-25T15:50:01.312Z"
   },
   {
    "duration": 38,
    "start_time": "2022-05-25T15:50:01.317Z"
   },
   {
    "duration": 29,
    "start_time": "2022-05-25T15:50:01.357Z"
   },
   {
    "duration": 39,
    "start_time": "2022-05-25T15:50:01.387Z"
   },
   {
    "duration": 38,
    "start_time": "2022-05-25T15:50:01.428Z"
   },
   {
    "duration": 36,
    "start_time": "2022-05-25T15:50:01.468Z"
   },
   {
    "duration": 64,
    "start_time": "2022-05-25T15:50:01.505Z"
   },
   {
    "duration": 20,
    "start_time": "2022-05-25T15:50:01.571Z"
   },
   {
    "duration": 46,
    "start_time": "2022-05-25T15:50:01.593Z"
   },
   {
    "duration": 6,
    "start_time": "2022-05-25T15:50:01.640Z"
   },
   {
    "duration": 54,
    "start_time": "2022-05-25T15:50:01.647Z"
   },
   {
    "duration": 54,
    "start_time": "2022-05-25T15:50:01.703Z"
   },
   {
    "duration": 42,
    "start_time": "2022-05-25T15:50:01.759Z"
   },
   {
    "duration": 28,
    "start_time": "2022-05-25T15:50:01.803Z"
   },
   {
    "duration": 24,
    "start_time": "2022-05-25T15:50:01.833Z"
   },
   {
    "duration": 22,
    "start_time": "2022-05-25T15:50:01.859Z"
   },
   {
    "duration": 21,
    "start_time": "2022-05-25T15:50:01.884Z"
   },
   {
    "duration": 13,
    "start_time": "2022-05-25T15:50:01.907Z"
   },
   {
    "duration": 40,
    "start_time": "2022-05-25T15:50:01.922Z"
   },
   {
    "duration": 37,
    "start_time": "2022-05-25T15:50:01.964Z"
   },
   {
    "duration": 13,
    "start_time": "2022-05-25T15:50:02.004Z"
   },
   {
    "duration": 27,
    "start_time": "2022-05-25T15:50:02.019Z"
   },
   {
    "duration": 17,
    "start_time": "2022-05-25T15:50:02.049Z"
   },
   {
    "duration": 27,
    "start_time": "2022-05-25T15:50:02.068Z"
   },
   {
    "duration": 18,
    "start_time": "2022-05-25T15:50:02.097Z"
   },
   {
    "duration": 19,
    "start_time": "2022-05-25T15:50:02.117Z"
   },
   {
    "duration": 17,
    "start_time": "2022-05-25T15:50:02.138Z"
   },
   {
    "duration": 28,
    "start_time": "2022-05-25T15:50:02.157Z"
   },
   {
    "duration": 16,
    "start_time": "2022-05-25T15:50:02.186Z"
   },
   {
    "duration": 32,
    "start_time": "2022-05-25T15:50:02.204Z"
   },
   {
    "duration": 31,
    "start_time": "2022-05-25T15:50:02.237Z"
   },
   {
    "duration": 15,
    "start_time": "2022-05-25T15:50:02.270Z"
   },
   {
    "duration": 30,
    "start_time": "2022-05-25T15:50:02.286Z"
   },
   {
    "duration": 24,
    "start_time": "2022-05-25T15:50:02.318Z"
   },
   {
    "duration": 22,
    "start_time": "2022-05-25T15:50:02.344Z"
   },
   {
    "duration": 46,
    "start_time": "2022-05-25T15:50:02.368Z"
   },
   {
    "duration": 514,
    "start_time": "2022-05-25T15:58:46.026Z"
   },
   {
    "duration": 11,
    "start_time": "2022-05-25T15:58:46.542Z"
   },
   {
    "duration": 12,
    "start_time": "2022-05-25T15:58:46.554Z"
   },
   {
    "duration": 3,
    "start_time": "2022-05-25T15:58:46.568Z"
   },
   {
    "duration": 28,
    "start_time": "2022-05-25T15:58:46.573Z"
   },
   {
    "duration": 15,
    "start_time": "2022-05-25T15:58:46.602Z"
   },
   {
    "duration": 18,
    "start_time": "2022-05-25T15:58:46.618Z"
   },
   {
    "duration": 17,
    "start_time": "2022-05-25T15:58:46.638Z"
   },
   {
    "duration": 5,
    "start_time": "2022-05-25T15:58:46.657Z"
   },
   {
    "duration": 5,
    "start_time": "2022-05-25T15:58:46.695Z"
   },
   {
    "duration": 15,
    "start_time": "2022-05-25T15:58:46.701Z"
   },
   {
    "duration": 4,
    "start_time": "2022-05-25T15:58:46.718Z"
   },
   {
    "duration": 10,
    "start_time": "2022-05-25T15:58:46.723Z"
   },
   {
    "duration": 5,
    "start_time": "2022-05-25T15:58:46.735Z"
   },
   {
    "duration": 7,
    "start_time": "2022-05-25T15:58:46.741Z"
   },
   {
    "duration": 55,
    "start_time": "2022-05-25T15:58:46.750Z"
   },
   {
    "duration": 5,
    "start_time": "2022-05-25T15:58:46.807Z"
   },
   {
    "duration": 22,
    "start_time": "2022-05-25T15:58:46.813Z"
   },
   {
    "duration": 22,
    "start_time": "2022-05-25T15:58:46.837Z"
   },
   {
    "duration": 61,
    "start_time": "2022-05-25T15:58:46.860Z"
   },
   {
    "duration": 6,
    "start_time": "2022-05-25T15:58:46.923Z"
   },
   {
    "duration": 13,
    "start_time": "2022-05-25T15:58:46.930Z"
   },
   {
    "duration": 9,
    "start_time": "2022-05-25T15:58:46.944Z"
   },
   {
    "duration": 10,
    "start_time": "2022-05-25T15:58:46.955Z"
   },
   {
    "duration": 30,
    "start_time": "2022-05-25T15:58:46.967Z"
   },
   {
    "duration": 8,
    "start_time": "2022-05-25T15:58:46.999Z"
   },
   {
    "duration": 7,
    "start_time": "2022-05-25T15:58:47.008Z"
   },
   {
    "duration": 10,
    "start_time": "2022-05-25T15:58:47.018Z"
   },
   {
    "duration": 7,
    "start_time": "2022-05-25T15:58:47.030Z"
   },
   {
    "duration": 22,
    "start_time": "2022-05-25T15:58:47.038Z"
   },
   {
    "duration": 54,
    "start_time": "2022-05-25T15:58:47.061Z"
   },
   {
    "duration": 14,
    "start_time": "2022-05-25T15:58:47.117Z"
   },
   {
    "duration": 5,
    "start_time": "2022-05-25T15:58:47.133Z"
   },
   {
    "duration": 11,
    "start_time": "2022-05-25T15:58:47.139Z"
   },
   {
    "duration": 20,
    "start_time": "2022-05-25T15:58:47.152Z"
   },
   {
    "duration": 5,
    "start_time": "2022-05-25T15:58:47.174Z"
   },
   {
    "duration": 15,
    "start_time": "2022-05-25T15:58:47.195Z"
   },
   {
    "duration": 4,
    "start_time": "2022-05-25T15:58:47.212Z"
   },
   {
    "duration": 20,
    "start_time": "2022-05-25T15:58:47.217Z"
   },
   {
    "duration": 5,
    "start_time": "2022-05-25T15:58:47.238Z"
   },
   {
    "duration": 9,
    "start_time": "2022-05-25T15:58:47.245Z"
   },
   {
    "duration": 39,
    "start_time": "2022-05-25T15:58:47.256Z"
   },
   {
    "duration": 3,
    "start_time": "2022-05-25T15:58:47.297Z"
   },
   {
    "duration": 39,
    "start_time": "2022-05-25T15:58:47.302Z"
   },
   {
    "duration": 26,
    "start_time": "2022-05-25T15:58:47.343Z"
   },
   {
    "duration": 42,
    "start_time": "2022-05-25T15:58:47.370Z"
   },
   {
    "duration": 22,
    "start_time": "2022-05-25T15:58:47.414Z"
   }
  ],
  "kernelspec": {
   "display_name": "Python 3 (ipykernel)",
   "language": "python",
   "name": "python3"
  },
  "language_info": {
   "codemirror_mode": {
    "name": "ipython",
    "version": 3
   },
   "file_extension": ".py",
   "mimetype": "text/x-python",
   "name": "python",
   "nbconvert_exporter": "python",
   "pygments_lexer": "ipython3",
   "version": "3.10.11"
  },
  "toc": {
   "base_numbering": 1,
   "nav_menu": {},
   "number_sections": true,
   "sideBar": true,
   "skip_h1_title": true,
   "title_cell": "Table of Contents",
   "title_sidebar": "Contents",
   "toc_cell": false,
   "toc_position": {},
   "toc_section_display": true,
   "toc_window_display": false
  }
 },
 "nbformat": 4,
 "nbformat_minor": 5
}
