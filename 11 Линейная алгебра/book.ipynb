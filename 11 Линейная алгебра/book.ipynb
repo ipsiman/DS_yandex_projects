{
 "cells": [
  {
   "cell_type": "markdown",
   "metadata": {
    "toc": true
   },
   "source": [
    "<h1>Содержание<span class=\"tocSkip\"></span></h1>\n",
    "<div class=\"toc\"><ul class=\"toc-item\"><li><span><a href=\"#Загрузка-данных\" data-toc-modified-id=\"Загрузка-данных-1\"><span class=\"toc-item-num\">1&nbsp;&nbsp;</span>Загрузка данных</a></span></li><li><span><a href=\"#Умножение-матриц\" data-toc-modified-id=\"Умножение-матриц-2\"><span class=\"toc-item-num\">2&nbsp;&nbsp;</span>Умножение матриц</a></span></li><li><span><a href=\"#Алгоритм-преобразования\" data-toc-modified-id=\"Алгоритм-преобразования-3\"><span class=\"toc-item-num\">3&nbsp;&nbsp;</span>Алгоритм преобразования</a></span></li><li><span><a href=\"#Проверка-алгоритма\" data-toc-modified-id=\"Проверка-алгоритма-4\"><span class=\"toc-item-num\">4&nbsp;&nbsp;</span>Проверка алгоритма</a></span></li><li><span><a href=\"#Итоговый-вывод\" data-toc-modified-id=\"Итоговый-вывод-5\"><span class=\"toc-item-num\">5&nbsp;&nbsp;</span>Итоговый вывод</a></span></li><li><span><a href=\"#Чек-лист-проверки\" data-toc-modified-id=\"Чек-лист-проверки-6\"><span class=\"toc-item-num\">6&nbsp;&nbsp;</span>Чек-лист проверки</a></span></li></ul></div>"
   ]
  },
  {
   "cell_type": "markdown",
   "metadata": {},
   "source": [
    "# Защита персональных данных клиентов"
   ]
  },
  {
   "cell_type": "markdown",
   "metadata": {},
   "source": [
    "Нужно защитить данные клиентов страховой компании «Хоть потоп». Разработать такой метод преобразования данных, чтобы по ним было сложно восстановить персональную информацию. Обосновать корректность его работы.\n",
    "\n",
    "Нужно защитить данные, чтобы при преобразовании качество моделей машинного обучения не ухудшилось. Подбирать наилучшую модель не требуется."
   ]
  },
  {
   "cell_type": "markdown",
   "metadata": {},
   "source": [
    "## Загрузка данных"
   ]
  },
  {
   "cell_type": "code",
   "execution_count": 1,
   "metadata": {},
   "outputs": [],
   "source": [
    "import pandas as pd\n",
    "import numpy as np\n",
    "import matplotlib.pyplot as plt\n",
    "import seaborn as sns\n",
    "\n",
    "from sklearn.metrics import r2_score\n",
    "from sklearn.linear_model import LinearRegression"
   ]
  },
  {
   "cell_type": "code",
   "execution_count": 2,
   "metadata": {},
   "outputs": [],
   "source": [
    "df = pd.read_csv('/datasets/insurance.csv')"
   ]
  },
  {
   "cell_type": "code",
   "execution_count": 3,
   "metadata": {},
   "outputs": [
    {
     "data": {
      "text/html": [
       "<div>\n",
       "<style scoped>\n",
       "    .dataframe tbody tr th:only-of-type {\n",
       "        vertical-align: middle;\n",
       "    }\n",
       "\n",
       "    .dataframe tbody tr th {\n",
       "        vertical-align: top;\n",
       "    }\n",
       "\n",
       "    .dataframe thead th {\n",
       "        text-align: right;\n",
       "    }\n",
       "</style>\n",
       "<table border=\"1\" class=\"dataframe\">\n",
       "  <thead>\n",
       "    <tr style=\"text-align: right;\">\n",
       "      <th></th>\n",
       "      <th>Пол</th>\n",
       "      <th>Возраст</th>\n",
       "      <th>Зарплата</th>\n",
       "      <th>Члены семьи</th>\n",
       "      <th>Страховые выплаты</th>\n",
       "    </tr>\n",
       "  </thead>\n",
       "  <tbody>\n",
       "    <tr>\n",
       "      <th>0</th>\n",
       "      <td>1</td>\n",
       "      <td>41.0</td>\n",
       "      <td>49600.0</td>\n",
       "      <td>1</td>\n",
       "      <td>0</td>\n",
       "    </tr>\n",
       "    <tr>\n",
       "      <th>1</th>\n",
       "      <td>0</td>\n",
       "      <td>46.0</td>\n",
       "      <td>38000.0</td>\n",
       "      <td>1</td>\n",
       "      <td>1</td>\n",
       "    </tr>\n",
       "    <tr>\n",
       "      <th>2</th>\n",
       "      <td>0</td>\n",
       "      <td>29.0</td>\n",
       "      <td>21000.0</td>\n",
       "      <td>0</td>\n",
       "      <td>0</td>\n",
       "    </tr>\n",
       "    <tr>\n",
       "      <th>3</th>\n",
       "      <td>0</td>\n",
       "      <td>21.0</td>\n",
       "      <td>41700.0</td>\n",
       "      <td>2</td>\n",
       "      <td>0</td>\n",
       "    </tr>\n",
       "    <tr>\n",
       "      <th>4</th>\n",
       "      <td>1</td>\n",
       "      <td>28.0</td>\n",
       "      <td>26100.0</td>\n",
       "      <td>0</td>\n",
       "      <td>0</td>\n",
       "    </tr>\n",
       "  </tbody>\n",
       "</table>\n",
       "</div>"
      ],
      "text/plain": [
       "   Пол  Возраст  Зарплата  Члены семьи  Страховые выплаты\n",
       "0    1     41.0   49600.0            1                  0\n",
       "1    0     46.0   38000.0            1                  1\n",
       "2    0     29.0   21000.0            0                  0\n",
       "3    0     21.0   41700.0            2                  0\n",
       "4    1     28.0   26100.0            0                  0"
      ]
     },
     "execution_count": 3,
     "metadata": {},
     "output_type": "execute_result"
    }
   ],
   "source": [
    "df.head()"
   ]
  },
  {
   "cell_type": "code",
   "execution_count": 4,
   "metadata": {},
   "outputs": [
    {
     "data": {
      "text/html": [
       "<div>\n",
       "<style scoped>\n",
       "    .dataframe tbody tr th:only-of-type {\n",
       "        vertical-align: middle;\n",
       "    }\n",
       "\n",
       "    .dataframe tbody tr th {\n",
       "        vertical-align: top;\n",
       "    }\n",
       "\n",
       "    .dataframe thead th {\n",
       "        text-align: right;\n",
       "    }\n",
       "</style>\n",
       "<table border=\"1\" class=\"dataframe\">\n",
       "  <thead>\n",
       "    <tr style=\"text-align: right;\">\n",
       "      <th></th>\n",
       "      <th>Пол</th>\n",
       "      <th>Возраст</th>\n",
       "      <th>Зарплата</th>\n",
       "      <th>Члены семьи</th>\n",
       "      <th>Страховые выплаты</th>\n",
       "    </tr>\n",
       "  </thead>\n",
       "  <tbody>\n",
       "    <tr>\n",
       "      <th>count</th>\n",
       "      <td>5000.000000</td>\n",
       "      <td>5000.000000</td>\n",
       "      <td>5000.000000</td>\n",
       "      <td>5000.000000</td>\n",
       "      <td>5000.000000</td>\n",
       "    </tr>\n",
       "    <tr>\n",
       "      <th>mean</th>\n",
       "      <td>0.499000</td>\n",
       "      <td>30.952800</td>\n",
       "      <td>39916.360000</td>\n",
       "      <td>1.194200</td>\n",
       "      <td>0.148000</td>\n",
       "    </tr>\n",
       "    <tr>\n",
       "      <th>std</th>\n",
       "      <td>0.500049</td>\n",
       "      <td>8.440807</td>\n",
       "      <td>9900.083569</td>\n",
       "      <td>1.091387</td>\n",
       "      <td>0.463183</td>\n",
       "    </tr>\n",
       "    <tr>\n",
       "      <th>min</th>\n",
       "      <td>0.000000</td>\n",
       "      <td>18.000000</td>\n",
       "      <td>5300.000000</td>\n",
       "      <td>0.000000</td>\n",
       "      <td>0.000000</td>\n",
       "    </tr>\n",
       "    <tr>\n",
       "      <th>25%</th>\n",
       "      <td>0.000000</td>\n",
       "      <td>24.000000</td>\n",
       "      <td>33300.000000</td>\n",
       "      <td>0.000000</td>\n",
       "      <td>0.000000</td>\n",
       "    </tr>\n",
       "    <tr>\n",
       "      <th>50%</th>\n",
       "      <td>0.000000</td>\n",
       "      <td>30.000000</td>\n",
       "      <td>40200.000000</td>\n",
       "      <td>1.000000</td>\n",
       "      <td>0.000000</td>\n",
       "    </tr>\n",
       "    <tr>\n",
       "      <th>75%</th>\n",
       "      <td>1.000000</td>\n",
       "      <td>37.000000</td>\n",
       "      <td>46600.000000</td>\n",
       "      <td>2.000000</td>\n",
       "      <td>0.000000</td>\n",
       "    </tr>\n",
       "    <tr>\n",
       "      <th>max</th>\n",
       "      <td>1.000000</td>\n",
       "      <td>65.000000</td>\n",
       "      <td>79000.000000</td>\n",
       "      <td>6.000000</td>\n",
       "      <td>5.000000</td>\n",
       "    </tr>\n",
       "  </tbody>\n",
       "</table>\n",
       "</div>"
      ],
      "text/plain": [
       "               Пол      Возраст      Зарплата  Члены семьи  Страховые выплаты\n",
       "count  5000.000000  5000.000000   5000.000000  5000.000000        5000.000000\n",
       "mean      0.499000    30.952800  39916.360000     1.194200           0.148000\n",
       "std       0.500049     8.440807   9900.083569     1.091387           0.463183\n",
       "min       0.000000    18.000000   5300.000000     0.000000           0.000000\n",
       "25%       0.000000    24.000000  33300.000000     0.000000           0.000000\n",
       "50%       0.000000    30.000000  40200.000000     1.000000           0.000000\n",
       "75%       1.000000    37.000000  46600.000000     2.000000           0.000000\n",
       "max       1.000000    65.000000  79000.000000     6.000000           5.000000"
      ]
     },
     "execution_count": 4,
     "metadata": {},
     "output_type": "execute_result"
    }
   ],
   "source": [
    "df.describe()"
   ]
  },
  {
   "cell_type": "code",
   "execution_count": 5,
   "metadata": {},
   "outputs": [
    {
     "name": "stdout",
     "output_type": "stream",
     "text": [
      "<class 'pandas.core.frame.DataFrame'>\n",
      "RangeIndex: 5000 entries, 0 to 4999\n",
      "Data columns (total 5 columns):\n",
      " #   Column             Non-Null Count  Dtype  \n",
      "---  ------             --------------  -----  \n",
      " 0   Пол                5000 non-null   int64  \n",
      " 1   Возраст            5000 non-null   float64\n",
      " 2   Зарплата           5000 non-null   float64\n",
      " 3   Члены семьи        5000 non-null   int64  \n",
      " 4   Страховые выплаты  5000 non-null   int64  \n",
      "dtypes: float64(2), int64(3)\n",
      "memory usage: 195.4 KB\n"
     ]
    }
   ],
   "source": [
    "df.info()"
   ]
  },
  {
   "cell_type": "markdown",
   "metadata": {},
   "source": [
    "Разделим данные на признаки."
   ]
  },
  {
   "cell_type": "code",
   "execution_count": 6,
   "metadata": {},
   "outputs": [],
   "source": [
    "X, y = df.drop('Страховые выплаты', axis=1), df['Страховые выплаты']"
   ]
  },
  {
   "cell_type": "code",
   "execution_count": 10,
   "metadata": {},
   "outputs": [
    {
     "data": {
      "text/html": [
       "<div>\n",
       "<style scoped>\n",
       "    .dataframe tbody tr th:only-of-type {\n",
       "        vertical-align: middle;\n",
       "    }\n",
       "\n",
       "    .dataframe tbody tr th {\n",
       "        vertical-align: top;\n",
       "    }\n",
       "\n",
       "    .dataframe thead th {\n",
       "        text-align: right;\n",
       "    }\n",
       "</style>\n",
       "<table border=\"1\" class=\"dataframe\">\n",
       "  <thead>\n",
       "    <tr style=\"text-align: right;\">\n",
       "      <th></th>\n",
       "      <th>Пол</th>\n",
       "      <th>Возраст</th>\n",
       "      <th>Зарплата</th>\n",
       "      <th>Члены семьи</th>\n",
       "    </tr>\n",
       "  </thead>\n",
       "  <tbody>\n",
       "    <tr>\n",
       "      <th>0</th>\n",
       "      <td>1</td>\n",
       "      <td>41.0</td>\n",
       "      <td>49600.0</td>\n",
       "      <td>1</td>\n",
       "    </tr>\n",
       "    <tr>\n",
       "      <th>1</th>\n",
       "      <td>0</td>\n",
       "      <td>46.0</td>\n",
       "      <td>38000.0</td>\n",
       "      <td>1</td>\n",
       "    </tr>\n",
       "    <tr>\n",
       "      <th>2</th>\n",
       "      <td>0</td>\n",
       "      <td>29.0</td>\n",
       "      <td>21000.0</td>\n",
       "      <td>0</td>\n",
       "    </tr>\n",
       "    <tr>\n",
       "      <th>3</th>\n",
       "      <td>0</td>\n",
       "      <td>21.0</td>\n",
       "      <td>41700.0</td>\n",
       "      <td>2</td>\n",
       "    </tr>\n",
       "    <tr>\n",
       "      <th>4</th>\n",
       "      <td>1</td>\n",
       "      <td>28.0</td>\n",
       "      <td>26100.0</td>\n",
       "      <td>0</td>\n",
       "    </tr>\n",
       "  </tbody>\n",
       "</table>\n",
       "</div>"
      ],
      "text/plain": [
       "   Пол  Возраст  Зарплата  Члены семьи\n",
       "0    1     41.0   49600.0            1\n",
       "1    0     46.0   38000.0            1\n",
       "2    0     29.0   21000.0            0\n",
       "3    0     21.0   41700.0            2\n",
       "4    1     28.0   26100.0            0"
      ]
     },
     "execution_count": 10,
     "metadata": {},
     "output_type": "execute_result"
    }
   ],
   "source": [
    "X.head()"
   ]
  },
  {
   "cell_type": "code",
   "execution_count": 8,
   "metadata": {
    "scrolled": false
   },
   "outputs": [
    {
     "data": {
      "image/png": "[encoded data removed]",
      "text/plain": [
       "<Figure size 576x576 with 1 Axes>"
      ]
     },
     "metadata": {},
     "output_type": "display_data"
    }
   ],
   "source": [
    "plt.rcParams.update({'font.size': 14})\n",
    "\n",
    "plt.figure(figsize=(8, 8))\n",
    "df['Пол'].value_counts().plot(\n",
    "    kind='pie',\n",
    "    autopct='%1.0f%%',\n",
    "    colors=['skyblue', 'orange'],\n",
    "    explode=(0.05, 0.05))\n",
    "plt.title('Отношение мужчин к женщинам')\n",
    "plt.show()"
   ]
  },
  {
   "cell_type": "markdown",
   "metadata": {},
   "source": [
    "Проверим распределения данных."
   ]
  },
  {
   "cell_type": "code",
   "execution_count": 9,
   "metadata": {},
   "outputs": [
    {
     "data": {
      "image/png": "[encoded data removed]",
      "text/plain": [
       "<Figure size 432x288 with 1 Axes>"
      ]
     },
     "metadata": {
      "needs_background": "light"
     },
     "output_type": "display_data"
    }
   ],
   "source": [
    "_ = df['Члены семьи'].hist(bins=6)"
   ]
  },
  {
   "cell_type": "code",
   "execution_count": 10,
   "metadata": {},
   "outputs": [
    {
     "data": {
      "image/png": "[encoded data removed]",
      "text/plain": [
       "<Figure size 432x288 with 1 Axes>"
      ]
     },
     "metadata": {
      "needs_background": "light"
     },
     "output_type": "display_data"
    }
   ],
   "source": [
    "_ = df['Страховые выплаты'].hist(bins=5)"
   ]
  },
  {
   "cell_type": "code",
   "execution_count": 11,
   "metadata": {},
   "outputs": [
    {
     "data": {
      "image/png": "[encoded data removed]",
      "text/plain": [
       "<Figure size 432x288 with 1 Axes>"
      ]
     },
     "metadata": {
      "needs_background": "light"
     },
     "output_type": "display_data"
    }
   ],
   "source": [
    "_ = df['Возраст'].hist(bins=20)"
   ]
  },
  {
   "cell_type": "code",
   "execution_count": 12,
   "metadata": {},
   "outputs": [
    {
     "data": {
      "image/png": "[encoded data removed]",
      "text/plain": [
       "<Figure size 432x288 with 1 Axes>"
      ]
     },
     "metadata": {
      "needs_background": "light"
     },
     "output_type": "display_data"
    }
   ],
   "source": [
    "_ = df['Зарплата'].hist(bins=20)"
   ]
  },
  {
   "cell_type": "markdown",
   "metadata": {},
   "source": [
    "## Умножение матриц"
   ]
  },
  {
   "cell_type": "markdown",
   "metadata": {},
   "source": [
    "Обозначения:\n",
    "\n",
    "- $X$ — матрица признаков (нулевой столбец состоит из единиц)\n",
    "\n",
    "- $y$ — вектор целевого признака\n",
    "\n",
    "- $P$ — матрица, на которую умножаются признаки\n",
    "\n",
    "- $w$ — вектор весов линейной регрессии (нулевой элемент равен сдвигу)"
   ]
  },
  {
   "cell_type": "markdown",
   "metadata": {},
   "source": [
    "Предсказания:\n",
    "\n",
    "$$\n",
    "a = Xw\n",
    "$$\n",
    "\n",
    "Задача обучения:\n",
    "\n",
    "$$\n",
    "w = \\arg\\min_w MSE(Xw, y)\n",
    "$$\n",
    "\n",
    "Формула обучения:\n",
    "\n",
    "$$\n",
    "w = (X^T X)^{-1} X^T y\n",
    "$$"
   ]
  },
  {
   "cell_type": "markdown",
   "metadata": {},
   "source": [
    "**Вопрос:**\n",
    "\n",
    "Признаки умножают на обратимую матрицу. Изменится ли качество линейной регрессии? (Её можно обучить заново.)\n",
    "\n",
    "**Ответ:**\n",
    "\n",
    "Если в предсказаниях $a = Xw$, $X$ умножить на обратимую матрицу $Z$, то при вычислении $w = (X^T X)^{-1} X^T y$ предсказания $a$  не дожны изменится."
   ]
  },
  {
   "cell_type": "markdown",
   "metadata": {},
   "source": [
    "**Обоснование:**\n"
   ]
  },
  {
   "cell_type": "markdown",
   "metadata": {},
   "source": [
    "Для доказательства вместо $X$ подставим в расчеты $XZ$, где $Z$ - обратимая матрица, на которую может быть умножена матрица $X$.\n",
    "\n",
    "Получим:\n",
    "$$a_2 = XZw_2$$\n",
    "$$w_2 = ((XZ)^T XZ)^{-1}(XZ)^T y$$"
   ]
  },
  {
   "cell_type": "markdown",
   "metadata": {},
   "source": [
    "Подставим $a_2$ и $w_2$ в формулу и сделаем преобразования:"
   ]
  },
  {
   "cell_type": "markdown",
   "metadata": {},
   "source": [
    "Раскрываем транспонирования по свойству: $(AB)^T = B^T A^T$\n"
   ]
  },
  {
   "cell_type": "markdown",
   "metadata": {},
   "source": [
    "$a_2 = X Z ((XZ)^T XZ)^{-1}(XZ)^T y = \\\\X Z (Z^TX^T XZ)^{-1}Z^T X^T y = \\\\X Z (X^TXZ)^{-1} (Z^T)^{-1} Z^T X^T y = \\\\X Z Z^{-1}(X^TX)^{-1} (Z^T)^{-1} Z^T X^T y = \\\\X E (X^TX)^{-1} E  X^T y = \\\\X (X^TX)^{-1} X^T y =  X w = a$"
   ]
  },
  {
   "cell_type": "markdown",
   "metadata": {},
   "source": [
    "Как можно заметить, значение предсказания $a_2$ не меняется и равно $a$, если умножать матрицу признаков на обратимую матрицу."
   ]
  },
  {
   "cell_type": "markdown",
   "metadata": {},
   "source": [
    "## Алгоритм преобразования"
   ]
  },
  {
   "cell_type": "markdown",
   "metadata": {},
   "source": [
    "Для защиты данных клиентов страховой компании умножим матрицу признаков на случайную обратимую матрицу.\n",
    "\n",
    "Напишем функцию преобразования данных. Для получения обратной матрицы будем использовать функцию numpy.random.normal(), вероятность получить необратимую матрицу близка к нулю."
   ]
  },
  {
   "cell_type": "code",
   "execution_count": 13,
   "metadata": {},
   "outputs": [],
   "source": [
    "def crypt_features(features):\n",
    "    n = features.shape[1]\n",
    "    Z = np.random.normal(1, 1, (n, n))\n",
    "    Z_inv = np.linalg.inv(Z)\n",
    "    if np.allclose(np.dot(Z, Z_inv), np.eye(Z.shape[0])):\n",
    "        print('Matrix Correct')\n",
    "        return features @ Z, Z\n",
    "    else:\n",
    "        print('Matrix Incorrect')"
   ]
  },
  {
   "cell_type": "markdown",
   "metadata": {},
   "source": [
    "Матрица Z должна иметь необходимую размерность (n * n), где n - количество признаков для регрессии. Таким образом матрица  будет иметь туже размерность, что и матрица X. "
   ]
  },
  {
   "cell_type": "markdown",
   "metadata": {},
   "source": [
    "## Проверка алгоритма"
   ]
  },
  {
   "cell_type": "markdown",
   "metadata": {},
   "source": [
    "Преобразуем данные."
   ]
  },
  {
   "cell_type": "code",
   "execution_count": 14,
   "metadata": {},
   "outputs": [
    {
     "name": "stdout",
     "output_type": "stream",
     "text": [
      "Matrix Correct\n"
     ]
    }
   ],
   "source": [
    "X_crypt, Z = crypt_features(X)"
   ]
  },
  {
   "cell_type": "code",
   "execution_count": 15,
   "metadata": {},
   "outputs": [
    {
     "name": "stdout",
     "output_type": "stream",
     "text": [
      "Matrix:\n",
      " [[-0.08765544  1.011729   -1.38775573 -0.21465258]\n",
      " [ 1.66015578 -0.72258178 -0.56101133  2.15556408]\n",
      " [ 1.7598988   1.00629852  3.30699974  2.09666067]\n",
      " [ 0.48461117  0.20751647  2.06884586  1.88737927]]\n"
     ]
    }
   ],
   "source": [
    "print('Matrix:\\n', Z)"
   ]
  },
  {
   "cell_type": "code",
   "execution_count": null,
   "metadata": {},
   "outputs": [],
   "source": [
    "def generate_invertible_matrix(size):\n",
    "    try: \n",
    "        matrix = np.random.normal(size=(size, size))\n",
    "        # проверим матрицу на обратимость, если нет, пробуем сгенерировать еще раз \n",
    "        # таким образом гарантируем, что матрица стопроцентно будет обратимой \n",
    "        np.linalg.inv(matrix) \n",
    "    except \n",
    "        np.linalg.LinAlgError: matrix = generate_invertible_matrix()\n",
    "\n",
    "return matrix"
   ]
  },
  {
   "cell_type": "code",
   "execution_count": 16,
   "metadata": {},
   "outputs": [
    {
     "data": {
      "text/html": [
       "<div>\n",
       "<style scoped>\n",
       "    .dataframe tbody tr th:only-of-type {\n",
       "        vertical-align: middle;\n",
       "    }\n",
       "\n",
       "    .dataframe tbody tr th {\n",
       "        vertical-align: top;\n",
       "    }\n",
       "\n",
       "    .dataframe thead th {\n",
       "        text-align: right;\n",
       "    }\n",
       "</style>\n",
       "<table border=\"1\" class=\"dataframe\">\n",
       "  <thead>\n",
       "    <tr style=\"text-align: right;\">\n",
       "      <th></th>\n",
       "      <th>Пол</th>\n",
       "      <th>Возраст</th>\n",
       "      <th>Зарплата</th>\n",
       "      <th>Члены семьи</th>\n",
       "    </tr>\n",
       "  </thead>\n",
       "  <tbody>\n",
       "    <tr>\n",
       "      <th>0</th>\n",
       "      <td>1</td>\n",
       "      <td>41.0</td>\n",
       "      <td>49600.0</td>\n",
       "      <td>1</td>\n",
       "    </tr>\n",
       "    <tr>\n",
       "      <th>1</th>\n",
       "      <td>0</td>\n",
       "      <td>46.0</td>\n",
       "      <td>38000.0</td>\n",
       "      <td>1</td>\n",
       "    </tr>\n",
       "    <tr>\n",
       "      <th>2</th>\n",
       "      <td>0</td>\n",
       "      <td>29.0</td>\n",
       "      <td>21000.0</td>\n",
       "      <td>0</td>\n",
       "    </tr>\n",
       "    <tr>\n",
       "      <th>3</th>\n",
       "      <td>0</td>\n",
       "      <td>21.0</td>\n",
       "      <td>41700.0</td>\n",
       "      <td>2</td>\n",
       "    </tr>\n",
       "    <tr>\n",
       "      <th>4</th>\n",
       "      <td>1</td>\n",
       "      <td>28.0</td>\n",
       "      <td>26100.0</td>\n",
       "      <td>0</td>\n",
       "    </tr>\n",
       "  </tbody>\n",
       "</table>\n",
       "</div>"
      ],
      "text/plain": [
       "   Пол  Возраст  Зарплата  Члены семьи\n",
       "0    1     41.0   49600.0            1\n",
       "1    0     46.0   38000.0            1\n",
       "2    0     29.0   21000.0            0\n",
       "3    0     21.0   41700.0            2\n",
       "4    1     28.0   26100.0            0"
      ]
     },
     "execution_count": 16,
     "metadata": {},
     "output_type": "execute_result"
    }
   ],
   "source": [
    "X.head()"
   ]
  },
  {
   "cell_type": "code",
   "execution_count": 17,
   "metadata": {},
   "outputs": [
    {
     "data": {
      "text/html": [
       "<div>\n",
       "<style scoped>\n",
       "    .dataframe tbody tr th:only-of-type {\n",
       "        vertical-align: middle;\n",
       "    }\n",
       "\n",
       "    .dataframe tbody tr th {\n",
       "        vertical-align: top;\n",
       "    }\n",
       "\n",
       "    .dataframe thead th {\n",
       "        text-align: right;\n",
       "    }\n",
       "</style>\n",
       "<table border=\"1\" class=\"dataframe\">\n",
       "  <thead>\n",
       "    <tr style=\"text-align: right;\">\n",
       "      <th></th>\n",
       "      <th>0</th>\n",
       "      <th>1</th>\n",
       "      <th>2</th>\n",
       "      <th>3</th>\n",
       "    </tr>\n",
       "  </thead>\n",
       "  <tbody>\n",
       "    <tr>\n",
       "      <th>0</th>\n",
       "      <td>87359.444009</td>\n",
       "      <td>49884.000080</td>\n",
       "      <td>164004.866792</td>\n",
       "      <td>104084.420047</td>\n",
       "    </tr>\n",
       "    <tr>\n",
       "      <th>1</th>\n",
       "      <td>66953.006320</td>\n",
       "      <td>38206.312588</td>\n",
       "      <td>125642.252492</td>\n",
       "      <td>79774.148757</td>\n",
       "    </tr>\n",
       "    <tr>\n",
       "      <th>2</th>\n",
       "      <td>37006.019397</td>\n",
       "      <td>21111.314089</td>\n",
       "      <td>69430.725238</td>\n",
       "      <td>44092.385412</td>\n",
       "    </tr>\n",
       "    <tr>\n",
       "      <th>3</th>\n",
       "      <td>73423.612611</td>\n",
       "      <td>41947.889180</td>\n",
       "      <td>137894.245664</td>\n",
       "      <td>87479.791511</td>\n",
       "    </tr>\n",
       "    <tr>\n",
       "      <th>4</th>\n",
       "      <td>45979.755485</td>\n",
       "      <td>26245.170862</td>\n",
       "      <td>86295.597174</td>\n",
       "      <td>54782.984608</td>\n",
       "    </tr>\n",
       "  </tbody>\n",
       "</table>\n",
       "</div>"
      ],
      "text/plain": [
       "              0             1              2              3\n",
       "0  87359.444009  49884.000080  164004.866792  104084.420047\n",
       "1  66953.006320  38206.312588  125642.252492   79774.148757\n",
       "2  37006.019397  21111.314089   69430.725238   44092.385412\n",
       "3  73423.612611  41947.889180  137894.245664   87479.791511\n",
       "4  45979.755485  26245.170862   86295.597174   54782.984608"
      ]
     },
     "execution_count": 17,
     "metadata": {},
     "output_type": "execute_result"
    }
   ],
   "source": [
    "X_crypt.head()"
   ]
  },
  {
   "cell_type": "markdown",
   "metadata": {},
   "source": [
    "Данные преобразовались и теперь имеют \"зашифрованный\" вид."
   ]
  },
  {
   "cell_type": "markdown",
   "metadata": {},
   "source": [
    "Проверим алгоритм на исходных и преобразованных данных по метрике r2 score."
   ]
  },
  {
   "cell_type": "code",
   "execution_count": 18,
   "metadata": {},
   "outputs": [],
   "source": [
    "model = LinearRegression()\n",
    "\n",
    "model.fit(X, y)\n",
    "predict = model.predict(X)\n",
    "\n",
    "model.fit(X_crypt, y)\n",
    "predict_crypt = model.predict(X_crypt)"
   ]
  },
  {
   "cell_type": "markdown",
   "metadata": {},
   "source": [
    "Сравним показания:"
   ]
  },
  {
   "cell_type": "code",
   "execution_count": 19,
   "metadata": {},
   "outputs": [
    {
     "name": "stdout",
     "output_type": "stream",
     "text": [
      "Стандартные данные: 0.4249455028666801\n",
      "Преобразованные данные: 0.42494550286667043\n"
     ]
    }
   ],
   "source": [
    "print('Стандартные данные:', r2_score(y, predict))\n",
    "print('Преобразованные данные:', r2_score(y, predict_crypt))"
   ]
  },
  {
   "cell_type": "markdown",
   "metadata": {},
   "source": [
    "Получили одинаковые метрики, что подтверждает теорию."
   ]
  },
  {
   "cell_type": "markdown",
   "metadata": {},
   "source": [
    "## Итоговый вывод"
   ]
  },
  {
   "cell_type": "markdown",
   "metadata": {},
   "source": [
    "Загрузили и изучили данные.\n",
    "\n",
    "Сделали теоретическое умножение матриц. Значение предсказания $a_2$ не меняется и равно $a$, если умножать матрицу признаков на обратимую матрицу.\n",
    "\n",
    "Написали функцию преобразования данных в \"зашифрованный вид\".\n",
    "\n",
    "Проверили алгоритм LinearRegression на исходных и преобразованных данных по метрике r2 score. Получили одинаковые метрики, что подтвердило теорию."
   ]
  }
 ],
 "metadata": {
  "ExecuteTimeLog": [
   {
    "duration": 405,
    "start_time": "2022-12-27T17:09:22.411Z"
   },
   {
    "duration": 61,
    "start_time": "2022-12-27T17:10:06.210Z"
   },
   {
    "duration": 90,
    "start_time": "2022-12-27T17:10:09.811Z"
   },
   {
    "duration": 26,
    "start_time": "2022-12-27T17:10:11.392Z"
   },
   {
    "duration": 20,
    "start_time": "2022-12-27T17:10:11.854Z"
   },
   {
    "duration": 23,
    "start_time": "2022-12-27T17:10:19.235Z"
   },
   {
    "duration": 5,
    "start_time": "2022-12-27T17:10:33.652Z"
   },
   {
    "duration": 15,
    "start_time": "2022-12-27T17:13:42.717Z"
   },
   {
    "duration": 12,
    "start_time": "2022-12-27T17:13:56.570Z"
   },
   {
    "duration": 3,
    "start_time": "2022-12-27T17:13:59.739Z"
   },
   {
    "duration": 8,
    "start_time": "2022-12-27T17:14:15.871Z"
   },
   {
    "duration": 5,
    "start_time": "2022-12-27T17:14:25.827Z"
   },
   {
    "duration": 8,
    "start_time": "2022-12-27T17:14:31.099Z"
   },
   {
    "duration": 4,
    "start_time": "2022-12-27T17:14:31.742Z"
   },
   {
    "duration": 56,
    "start_time": "2023-01-11T11:51:07.989Z"
   },
   {
    "duration": 444,
    "start_time": "2023-01-11T11:51:14.234Z"
   },
   {
    "duration": 3,
    "start_time": "2023-01-11T11:51:15.482Z"
   },
   {
    "duration": 72,
    "start_time": "2023-01-11T11:51:15.909Z"
   },
   {
    "duration": 17,
    "start_time": "2023-01-11T11:51:16.423Z"
   },
   {
    "duration": 36,
    "start_time": "2023-01-11T11:51:17.268Z"
   },
   {
    "duration": 5,
    "start_time": "2023-01-11T11:51:19.297Z"
   },
   {
    "duration": 12,
    "start_time": "2023-01-11T11:51:20.736Z"
   },
   {
    "duration": 7,
    "start_time": "2023-01-11T11:51:26.412Z"
   },
   {
    "duration": 7,
    "start_time": "2023-01-11T11:51:38.737Z"
   },
   {
    "duration": 9,
    "start_time": "2023-01-11T11:51:53.166Z"
   },
   {
    "duration": 6,
    "start_time": "2023-01-11T11:51:58.205Z"
   },
   {
    "duration": 8,
    "start_time": "2023-01-11T11:52:06.758Z"
   },
   {
    "duration": 16,
    "start_time": "2023-01-11T11:59:25.411Z"
   },
   {
    "duration": 5,
    "start_time": "2023-01-11T12:00:15.933Z"
   },
   {
    "duration": 9,
    "start_time": "2023-01-11T12:00:34.676Z"
   },
   {
    "duration": 5,
    "start_time": "2023-01-11T12:03:58.020Z"
   },
   {
    "duration": 10,
    "start_time": "2023-01-11T12:04:07.673Z"
   },
   {
    "duration": 3,
    "start_time": "2023-01-11T12:05:55.937Z"
   },
   {
    "duration": 10,
    "start_time": "2023-01-11T12:05:58.139Z"
   },
   {
    "duration": 29,
    "start_time": "2023-01-11T12:06:39.081Z"
   },
   {
    "duration": 13,
    "start_time": "2023-01-11T12:06:41.453Z"
   },
   {
    "duration": 4,
    "start_time": "2023-01-11T12:06:42.914Z"
   },
   {
    "duration": 7,
    "start_time": "2023-01-11T12:06:43.656Z"
   },
   {
    "duration": 5,
    "start_time": "2023-01-11T12:06:44.422Z"
   },
   {
    "duration": 4,
    "start_time": "2023-01-11T12:07:02.467Z"
   },
   {
    "duration": 41,
    "start_time": "2023-01-11T12:07:02.474Z"
   },
   {
    "duration": 10,
    "start_time": "2023-01-11T12:07:02.517Z"
   },
   {
    "duration": 50,
    "start_time": "2023-01-11T12:07:02.529Z"
   },
   {
    "duration": 50,
    "start_time": "2023-01-11T12:07:02.581Z"
   },
   {
    "duration": 22,
    "start_time": "2023-01-11T12:07:02.633Z"
   },
   {
    "duration": 36,
    "start_time": "2023-01-11T12:07:02.656Z"
   },
   {
    "duration": 26,
    "start_time": "2023-01-11T12:07:02.694Z"
   },
   {
    "duration": 375,
    "start_time": "2023-01-11T14:50:22.486Z"
   },
   {
    "duration": 28,
    "start_time": "2023-01-11T14:50:22.863Z"
   },
   {
    "duration": 16,
    "start_time": "2023-01-11T14:50:22.892Z"
   },
   {
    "duration": 22,
    "start_time": "2023-01-11T14:50:22.909Z"
   },
   {
    "duration": 10,
    "start_time": "2023-01-11T14:50:22.933Z"
   },
   {
    "duration": 6,
    "start_time": "2023-01-11T14:50:22.944Z"
   },
   {
    "duration": 12,
    "start_time": "2023-01-11T14:50:22.951Z"
   },
   {
    "duration": 11,
    "start_time": "2023-01-11T14:50:22.965Z"
   },
   {
    "duration": 696,
    "start_time": "2023-01-11T15:13:56.533Z"
   },
   {
    "duration": 27,
    "start_time": "2023-01-11T15:40:08.120Z"
   },
   {
    "duration": 48,
    "start_time": "2023-01-11T15:43:13.154Z"
   },
   {
    "duration": 3,
    "start_time": "2023-01-11T15:47:49.025Z"
   },
   {
    "duration": 103,
    "start_time": "2023-01-11T15:47:58.461Z"
   },
   {
    "duration": 3,
    "start_time": "2023-01-11T15:48:15.249Z"
   },
   {
    "duration": 4,
    "start_time": "2023-01-11T15:48:21.671Z"
   },
   {
    "duration": 5,
    "start_time": "2023-01-11T15:48:36.558Z"
   },
   {
    "duration": 4,
    "start_time": "2023-01-11T15:48:45.827Z"
   },
   {
    "duration": 3,
    "start_time": "2023-01-11T15:52:38.378Z"
   },
   {
    "duration": 5,
    "start_time": "2023-01-11T15:52:43.415Z"
   },
   {
    "duration": 5,
    "start_time": "2023-01-11T15:52:46.543Z"
   },
   {
    "duration": 5,
    "start_time": "2023-01-11T15:52:49.154Z"
   },
   {
    "duration": 9,
    "start_time": "2023-01-11T15:53:34.865Z"
   },
   {
    "duration": 9,
    "start_time": "2023-01-11T15:53:42.772Z"
   },
   {
    "duration": 4,
    "start_time": "2023-01-11T15:53:48.774Z"
   },
   {
    "duration": 6,
    "start_time": "2023-01-11T15:53:57.191Z"
   },
   {
    "duration": 5,
    "start_time": "2023-01-11T15:54:04.242Z"
   },
   {
    "duration": 6,
    "start_time": "2023-01-11T15:54:07.231Z"
   },
   {
    "duration": 5,
    "start_time": "2023-01-11T15:54:11.627Z"
   },
   {
    "duration": 5,
    "start_time": "2023-01-11T15:54:20.258Z"
   },
   {
    "duration": 6,
    "start_time": "2023-01-11T15:56:22.752Z"
   },
   {
    "duration": 5,
    "start_time": "2023-01-11T15:56:33.698Z"
   },
   {
    "duration": 10,
    "start_time": "2023-01-11T15:56:40.091Z"
   },
   {
    "duration": 6,
    "start_time": "2023-01-11T15:56:43.179Z"
   },
   {
    "duration": 5,
    "start_time": "2023-01-11T15:56:48.207Z"
   },
   {
    "duration": 6,
    "start_time": "2023-01-11T15:56:57.652Z"
   },
   {
    "duration": 5,
    "start_time": "2023-01-11T15:57:51.015Z"
   },
   {
    "duration": 3,
    "start_time": "2023-01-11T15:57:52.957Z"
   },
   {
    "duration": 4,
    "start_time": "2023-01-11T15:57:53.577Z"
   },
   {
    "duration": 4,
    "start_time": "2023-01-11T15:57:54.026Z"
   },
   {
    "duration": 4,
    "start_time": "2023-01-11T15:57:54.503Z"
   },
   {
    "duration": 4,
    "start_time": "2023-01-11T15:57:54.908Z"
   },
   {
    "duration": 4,
    "start_time": "2023-01-11T15:57:55.384Z"
   },
   {
    "duration": 4,
    "start_time": "2023-01-11T15:57:55.577Z"
   },
   {
    "duration": 5,
    "start_time": "2023-01-11T15:57:55.724Z"
   },
   {
    "duration": 4,
    "start_time": "2023-01-11T15:57:55.894Z"
   },
   {
    "duration": 5,
    "start_time": "2023-01-11T15:57:56.053Z"
   },
   {
    "duration": 4,
    "start_time": "2023-01-11T15:57:56.216Z"
   },
   {
    "duration": 3,
    "start_time": "2023-01-11T15:57:56.420Z"
   },
   {
    "duration": 3,
    "start_time": "2023-01-11T15:57:56.577Z"
   },
   {
    "duration": 5,
    "start_time": "2023-01-11T15:57:56.742Z"
   },
   {
    "duration": 4,
    "start_time": "2023-01-11T15:57:56.939Z"
   },
   {
    "duration": 4,
    "start_time": "2023-01-11T15:57:57.121Z"
   },
   {
    "duration": 4,
    "start_time": "2023-01-11T15:57:57.283Z"
   },
   {
    "duration": 3,
    "start_time": "2023-01-11T15:59:32.137Z"
   },
   {
    "duration": 15,
    "start_time": "2023-01-11T16:01:57.332Z"
   },
   {
    "duration": 9,
    "start_time": "2023-01-11T16:02:54.598Z"
   },
   {
    "duration": 18,
    "start_time": "2023-01-11T16:02:57.143Z"
   },
   {
    "duration": 17,
    "start_time": "2023-01-11T16:03:00.523Z"
   },
   {
    "duration": 40,
    "start_time": "2023-01-11T16:05:46.697Z"
   },
   {
    "duration": 3,
    "start_time": "2023-01-11T16:06:11.731Z"
   },
   {
    "duration": 39,
    "start_time": "2023-01-11T16:06:11.743Z"
   },
   {
    "duration": 9,
    "start_time": "2023-01-11T16:06:11.784Z"
   },
   {
    "duration": 31,
    "start_time": "2023-01-11T16:06:11.794Z"
   },
   {
    "duration": 11,
    "start_time": "2023-01-11T16:06:11.827Z"
   },
   {
    "duration": 29,
    "start_time": "2023-01-11T16:06:11.840Z"
   },
   {
    "duration": 17,
    "start_time": "2023-01-11T16:06:11.870Z"
   },
   {
    "duration": 13,
    "start_time": "2023-01-11T16:06:11.889Z"
   },
   {
    "duration": 15,
    "start_time": "2023-01-11T16:06:11.904Z"
   },
   {
    "duration": 17,
    "start_time": "2023-01-11T16:06:11.921Z"
   },
   {
    "duration": 10,
    "start_time": "2023-01-11T16:06:11.941Z"
   },
   {
    "duration": 67,
    "start_time": "2023-01-11T16:06:16.470Z"
   },
   {
    "duration": 4,
    "start_time": "2023-01-11T16:19:16.966Z"
   },
   {
    "duration": 8,
    "start_time": "2023-01-11T16:19:25.072Z"
   },
   {
    "duration": 12,
    "start_time": "2023-01-11T16:19:33.486Z"
   },
   {
    "duration": 12,
    "start_time": "2023-01-11T16:19:42.522Z"
   },
   {
    "duration": 9,
    "start_time": "2023-01-11T16:19:53.006Z"
   },
   {
    "duration": 16,
    "start_time": "2023-01-11T16:36:36.991Z"
   },
   {
    "duration": 6,
    "start_time": "2023-01-11T16:37:46.380Z"
   },
   {
    "duration": 44,
    "start_time": "2023-01-11T16:50:21.070Z"
   },
   {
    "duration": 1106,
    "start_time": "2023-01-11T17:00:18.635Z"
   },
   {
    "duration": 28,
    "start_time": "2023-01-11T17:00:19.743Z"
   },
   {
    "duration": 16,
    "start_time": "2023-01-11T17:00:19.775Z"
   },
   {
    "duration": 25,
    "start_time": "2023-01-11T17:00:19.793Z"
   },
   {
    "duration": 18,
    "start_time": "2023-01-11T17:00:19.819Z"
   },
   {
    "duration": 11,
    "start_time": "2023-01-11T17:00:19.838Z"
   },
   {
    "duration": 19,
    "start_time": "2023-01-11T17:00:19.851Z"
   },
   {
    "duration": 10,
    "start_time": "2023-01-11T17:00:19.872Z"
   },
   {
    "duration": 17,
    "start_time": "2023-01-11T17:00:19.884Z"
   },
   {
    "duration": 11,
    "start_time": "2023-01-11T17:00:19.903Z"
   },
   {
    "duration": 16,
    "start_time": "2023-01-11T17:00:19.916Z"
   },
   {
    "duration": 14,
    "start_time": "2023-01-11T17:00:19.935Z"
   },
   {
    "duration": 84,
    "start_time": "2023-01-11T17:00:19.951Z"
   },
   {
    "duration": 11,
    "start_time": "2023-01-11T17:00:20.038Z"
   },
   {
    "duration": 17,
    "start_time": "2023-01-11T17:01:25.717Z"
   },
   {
    "duration": 1097,
    "start_time": "2023-01-11T17:03:06.189Z"
   },
   {
    "duration": 28,
    "start_time": "2023-01-11T17:03:07.288Z"
   },
   {
    "duration": 15,
    "start_time": "2023-01-11T17:03:07.318Z"
   },
   {
    "duration": 31,
    "start_time": "2023-01-11T17:03:07.335Z"
   },
   {
    "duration": 11,
    "start_time": "2023-01-11T17:03:07.368Z"
   },
   {
    "duration": 16,
    "start_time": "2023-01-11T17:03:07.381Z"
   },
   {
    "duration": 14,
    "start_time": "2023-01-11T17:03:07.398Z"
   },
   {
    "duration": 11,
    "start_time": "2023-01-11T17:03:07.414Z"
   },
   {
    "duration": 9,
    "start_time": "2023-01-11T17:03:07.427Z"
   },
   {
    "duration": 12,
    "start_time": "2023-01-11T17:03:07.438Z"
   },
   {
    "duration": 12,
    "start_time": "2023-01-11T17:03:07.452Z"
   },
   {
    "duration": 17,
    "start_time": "2023-01-11T17:03:07.465Z"
   },
   {
    "duration": 62,
    "start_time": "2023-01-11T17:03:07.484Z"
   },
   {
    "duration": 101,
    "start_time": "2023-01-11T17:03:07.638Z"
   },
   {
    "duration": 2187,
    "start_time": "2023-01-11T17:24:52.574Z"
   },
   {
    "duration": 28,
    "start_time": "2023-01-11T17:24:54.763Z"
   },
   {
    "duration": 15,
    "start_time": "2023-01-11T17:25:32.110Z"
   },
   {
    "duration": 28,
    "start_time": "2023-01-11T17:25:32.587Z"
   },
   {
    "duration": 12,
    "start_time": "2023-01-11T17:25:33.117Z"
   },
   {
    "duration": 4,
    "start_time": "2023-01-11T17:25:38.575Z"
   },
   {
    "duration": 9,
    "start_time": "2023-01-11T17:25:38.810Z"
   },
   {
    "duration": 5,
    "start_time": "2023-01-11T17:25:39.010Z"
   },
   {
    "duration": 3,
    "start_time": "2023-01-11T17:31:48.961Z"
   },
   {
    "duration": 4,
    "start_time": "2023-01-11T17:32:54.929Z"
   },
   {
    "duration": 8,
    "start_time": "2023-01-11T17:32:55.453Z"
   },
   {
    "duration": 8,
    "start_time": "2023-01-11T17:32:59.575Z"
   },
   {
    "duration": 1104,
    "start_time": "2023-01-12T10:50:40.528Z"
   },
   {
    "duration": 102,
    "start_time": "2023-01-12T10:50:41.635Z"
   },
   {
    "duration": 16,
    "start_time": "2023-01-12T10:50:41.739Z"
   },
   {
    "duration": 29,
    "start_time": "2023-01-12T10:50:41.757Z"
   },
   {
    "duration": 11,
    "start_time": "2023-01-12T10:50:41.788Z"
   },
   {
    "duration": 7,
    "start_time": "2023-01-12T10:50:41.801Z"
   },
   {
    "duration": 15,
    "start_time": "2023-01-12T10:50:41.810Z"
   },
   {
    "duration": 8,
    "start_time": "2023-01-12T10:50:41.826Z"
   },
   {
    "duration": 12,
    "start_time": "2023-01-12T10:50:41.836Z"
   },
   {
    "duration": 19,
    "start_time": "2023-01-12T10:50:41.851Z"
   },
   {
    "duration": 18,
    "start_time": "2023-01-12T10:50:41.872Z"
   },
   {
    "duration": 15,
    "start_time": "2023-01-12T10:50:41.892Z"
   },
   {
    "duration": 20,
    "start_time": "2023-01-12T10:50:41.909Z"
   },
   {
    "duration": 95,
    "start_time": "2023-01-12T10:50:41.931Z"
   },
   {
    "duration": 437,
    "start_time": "2023-01-12T10:53:47.327Z"
   },
   {
    "duration": 281,
    "start_time": "2023-01-12T10:54:42.044Z"
   },
   {
    "duration": 144,
    "start_time": "2023-01-12T10:55:09.603Z"
   },
   {
    "duration": 9,
    "start_time": "2023-01-12T10:56:01.808Z"
   },
   {
    "duration": 24,
    "start_time": "2023-01-12T10:56:05.949Z"
   },
   {
    "duration": 10,
    "start_time": "2023-01-12T10:56:06.835Z"
   },
   {
    "duration": 4,
    "start_time": "2023-01-12T10:56:10.693Z"
   },
   {
    "duration": 8,
    "start_time": "2023-01-12T10:56:11.075Z"
   },
   {
    "duration": 5,
    "start_time": "2023-01-12T10:56:11.923Z"
   },
   {
    "duration": 127,
    "start_time": "2023-01-12T10:56:13.150Z"
   },
   {
    "duration": 6,
    "start_time": "2023-01-12T10:57:16.813Z"
   },
   {
    "duration": 87,
    "start_time": "2023-01-12T10:58:12.178Z"
   },
   {
    "duration": 7,
    "start_time": "2023-01-12T10:58:22.570Z"
   },
   {
    "duration": 83,
    "start_time": "2023-01-12T10:59:14.193Z"
   },
   {
    "duration": 178,
    "start_time": "2023-01-12T10:59:59.396Z"
   },
   {
    "duration": 128,
    "start_time": "2023-01-12T11:00:38.628Z"
   },
   {
    "duration": 113,
    "start_time": "2023-01-12T11:00:59.690Z"
   },
   {
    "duration": 117,
    "start_time": "2023-01-12T11:01:31.609Z"
   },
   {
    "duration": 120,
    "start_time": "2023-01-12T11:01:54.888Z"
   },
   {
    "duration": 113,
    "start_time": "2023-01-12T11:01:59.272Z"
   },
   {
    "duration": 107,
    "start_time": "2023-01-12T11:02:04.300Z"
   },
   {
    "duration": 100,
    "start_time": "2023-01-12T11:02:20.665Z"
   },
   {
    "duration": 47,
    "start_time": "2023-01-12T11:07:06.676Z"
   },
   {
    "duration": 1614,
    "start_time": "2023-01-12T11:07:10.811Z"
   },
   {
    "duration": 115,
    "start_time": "2023-01-12T11:07:12.427Z"
   },
   {
    "duration": 14,
    "start_time": "2023-01-12T11:07:12.543Z"
   },
   {
    "duration": 26,
    "start_time": "2023-01-12T11:07:12.558Z"
   },
   {
    "duration": 12,
    "start_time": "2023-01-12T11:07:12.586Z"
   },
   {
    "duration": 5,
    "start_time": "2023-01-12T11:07:12.600Z"
   },
   {
    "duration": 19,
    "start_time": "2023-01-12T11:07:12.607Z"
   },
   {
    "duration": 119,
    "start_time": "2023-01-12T11:07:12.627Z"
   },
   {
    "duration": 123,
    "start_time": "2023-01-12T11:07:12.748Z"
   },
   {
    "duration": 127,
    "start_time": "2023-01-12T11:07:12.873Z"
   },
   {
    "duration": 243,
    "start_time": "2023-01-12T11:07:15.899Z"
   },
   {
    "duration": 149,
    "start_time": "2023-01-12T11:07:25.402Z"
   },
   {
    "duration": 135,
    "start_time": "2023-01-12T11:07:28.464Z"
   },
   {
    "duration": 129,
    "start_time": "2023-01-12T11:07:33.201Z"
   },
   {
    "duration": 4,
    "start_time": "2023-01-12T11:14:34.412Z"
   },
   {
    "duration": 32,
    "start_time": "2023-01-12T11:14:34.418Z"
   },
   {
    "duration": 8,
    "start_time": "2023-01-12T11:14:34.452Z"
   },
   {
    "duration": 24,
    "start_time": "2023-01-12T11:14:34.461Z"
   },
   {
    "duration": 9,
    "start_time": "2023-01-12T11:14:34.487Z"
   },
   {
    "duration": 4,
    "start_time": "2023-01-12T11:14:34.498Z"
   },
   {
    "duration": 24,
    "start_time": "2023-01-12T11:14:34.503Z"
   },
   {
    "duration": 98,
    "start_time": "2023-01-12T11:14:34.529Z"
   },
   {
    "duration": 138,
    "start_time": "2023-01-12T11:14:34.629Z"
   },
   {
    "duration": 130,
    "start_time": "2023-01-12T11:14:34.769Z"
   },
   {
    "duration": 164,
    "start_time": "2023-01-12T11:14:34.901Z"
   },
   {
    "duration": 122,
    "start_time": "2023-01-12T11:14:35.066Z"
   },
   {
    "duration": 3,
    "start_time": "2023-01-12T11:14:35.190Z"
   },
   {
    "duration": 6,
    "start_time": "2023-01-12T11:14:35.195Z"
   },
   {
    "duration": 153,
    "start_time": "2023-01-12T11:14:35.213Z"
   },
   {
    "duration": 3,
    "start_time": "2023-01-12T11:24:53.204Z"
   },
   {
    "duration": 8,
    "start_time": "2023-01-12T11:24:57.159Z"
   },
   {
    "duration": 4,
    "start_time": "2023-01-12T11:25:53.400Z"
   },
   {
    "duration": 5,
    "start_time": "2023-01-12T11:25:56.099Z"
   },
   {
    "duration": 4,
    "start_time": "2023-01-12T11:26:30.371Z"
   },
   {
    "duration": 6,
    "start_time": "2023-01-12T11:26:32.590Z"
   },
   {
    "duration": 4,
    "start_time": "2023-01-12T11:29:43.962Z"
   },
   {
    "duration": 5,
    "start_time": "2023-01-12T11:29:46.716Z"
   },
   {
    "duration": 4,
    "start_time": "2023-01-12T11:35:52.936Z"
   },
   {
    "duration": 6,
    "start_time": "2023-01-12T11:35:54.970Z"
   },
   {
    "duration": 4,
    "start_time": "2023-01-12T11:37:06.017Z"
   },
   {
    "duration": 6,
    "start_time": "2023-01-12T11:37:08.585Z"
   },
   {
    "duration": 3,
    "start_time": "2023-01-12T11:38:44.640Z"
   },
   {
    "duration": 5,
    "start_time": "2023-01-12T11:38:50.600Z"
   },
   {
    "duration": 83,
    "start_time": "2023-01-12T11:40:40.715Z"
   },
   {
    "duration": 82,
    "start_time": "2023-01-12T11:40:54.664Z"
   },
   {
    "duration": 4,
    "start_time": "2023-01-12T11:41:18.407Z"
   },
   {
    "duration": 3,
    "start_time": "2023-01-12T11:41:19.812Z"
   },
   {
    "duration": 5,
    "start_time": "2023-01-12T11:41:21.868Z"
   },
   {
    "duration": 3,
    "start_time": "2023-01-12T11:46:31.292Z"
   },
   {
    "duration": 5,
    "start_time": "2023-01-12T11:46:34.999Z"
   },
   {
    "duration": 4,
    "start_time": "2023-01-12T11:51:48.565Z"
   },
   {
    "duration": 6,
    "start_time": "2023-01-12T11:51:51.290Z"
   },
   {
    "duration": 5,
    "start_time": "2023-01-12T11:53:30.384Z"
   },
   {
    "duration": 6,
    "start_time": "2023-01-12T11:53:32.509Z"
   },
   {
    "duration": 4,
    "start_time": "2023-01-12T11:57:27.606Z"
   },
   {
    "duration": 9,
    "start_time": "2023-01-12T11:57:30.232Z"
   },
   {
    "duration": 4,
    "start_time": "2023-01-12T11:58:11.689Z"
   },
   {
    "duration": 6,
    "start_time": "2023-01-12T11:58:14.277Z"
   },
   {
    "duration": 8,
    "start_time": "2023-01-12T11:58:17.253Z"
   },
   {
    "duration": 6,
    "start_time": "2023-01-12T11:58:18.624Z"
   },
   {
    "duration": 6,
    "start_time": "2023-01-12T11:58:20.089Z"
   },
   {
    "duration": 6,
    "start_time": "2023-01-12T11:58:21.233Z"
   },
   {
    "duration": 6,
    "start_time": "2023-01-12T11:58:21.976Z"
   },
   {
    "duration": 4,
    "start_time": "2023-01-12T11:58:51.565Z"
   },
   {
    "duration": 6,
    "start_time": "2023-01-12T11:58:54.574Z"
   },
   {
    "duration": 4,
    "start_time": "2023-01-12T11:59:16.471Z"
   },
   {
    "duration": 5,
    "start_time": "2023-01-12T11:59:18.690Z"
   },
   {
    "duration": 5,
    "start_time": "2023-01-12T11:59:32.960Z"
   },
   {
    "duration": 3,
    "start_time": "2023-01-12T11:59:34.199Z"
   },
   {
    "duration": 5,
    "start_time": "2023-01-12T11:59:36.293Z"
   },
   {
    "duration": 5,
    "start_time": "2023-01-12T11:59:39.242Z"
   },
   {
    "duration": 14,
    "start_time": "2023-01-12T12:00:15.966Z"
   },
   {
    "duration": 3,
    "start_time": "2023-01-12T12:00:42.028Z"
   },
   {
    "duration": 5,
    "start_time": "2023-01-12T12:00:44.275Z"
   },
   {
    "duration": 5,
    "start_time": "2023-01-12T12:00:54.035Z"
   },
   {
    "duration": 5,
    "start_time": "2023-01-12T12:00:58.045Z"
   },
   {
    "duration": 6,
    "start_time": "2023-01-12T12:01:38.581Z"
   },
   {
    "duration": 7,
    "start_time": "2023-01-12T12:01:51.309Z"
   },
   {
    "duration": 5,
    "start_time": "2023-01-12T12:02:08.788Z"
   },
   {
    "duration": 6,
    "start_time": "2023-01-12T12:02:26.528Z"
   },
   {
    "duration": 4,
    "start_time": "2023-01-12T12:02:31.244Z"
   },
   {
    "duration": 3,
    "start_time": "2023-01-12T12:02:37.080Z"
   },
   {
    "duration": 1336,
    "start_time": "2023-01-12T12:03:13.116Z"
   },
   {
    "duration": 39,
    "start_time": "2023-01-12T12:03:14.455Z"
   },
   {
    "duration": 12,
    "start_time": "2023-01-12T12:03:14.496Z"
   },
   {
    "duration": 23,
    "start_time": "2023-01-12T12:03:14.509Z"
   },
   {
    "duration": 11,
    "start_time": "2023-01-12T12:03:14.534Z"
   },
   {
    "duration": 7,
    "start_time": "2023-01-12T12:03:14.547Z"
   },
   {
    "duration": 11,
    "start_time": "2023-01-12T12:03:14.555Z"
   },
   {
    "duration": 153,
    "start_time": "2023-01-12T12:03:14.567Z"
   },
   {
    "duration": 121,
    "start_time": "2023-01-12T12:03:14.722Z"
   },
   {
    "duration": 125,
    "start_time": "2023-01-12T12:03:14.845Z"
   },
   {
    "duration": 142,
    "start_time": "2023-01-12T12:03:14.972Z"
   },
   {
    "duration": 198,
    "start_time": "2023-01-12T12:03:15.116Z"
   },
   {
    "duration": 4,
    "start_time": "2023-01-12T12:03:15.316Z"
   },
   {
    "duration": 9,
    "start_time": "2023-01-12T12:03:15.322Z"
   },
   {
    "duration": 13,
    "start_time": "2023-01-12T12:03:15.332Z"
   },
   {
    "duration": 17,
    "start_time": "2023-01-12T12:03:15.413Z"
   },
   {
    "duration": 191,
    "start_time": "2023-01-12T12:03:15.432Z"
   },
   {
    "duration": 0,
    "start_time": "2023-01-12T12:03:15.624Z"
   },
   {
    "duration": 0,
    "start_time": "2023-01-12T12:03:15.625Z"
   },
   {
    "duration": 10,
    "start_time": "2023-01-12T12:05:17.152Z"
   },
   {
    "duration": 4,
    "start_time": "2023-01-12T12:05:38.200Z"
   },
   {
    "duration": 4,
    "start_time": "2023-01-12T12:05:40.542Z"
   },
   {
    "duration": 4,
    "start_time": "2023-01-12T12:05:41.389Z"
   },
   {
    "duration": 8,
    "start_time": "2023-01-12T12:05:44.561Z"
   },
   {
    "duration": 8,
    "start_time": "2023-01-12T12:05:45.265Z"
   },
   {
    "duration": 21,
    "start_time": "2023-01-12T12:05:51.207Z"
   },
   {
    "duration": 6,
    "start_time": "2023-01-12T12:05:52.879Z"
   },
   {
    "duration": 1408,
    "start_time": "2023-01-12T12:06:02.081Z"
   },
   {
    "duration": 47,
    "start_time": "2023-01-12T12:06:03.491Z"
   },
   {
    "duration": 13,
    "start_time": "2023-01-12T12:06:03.539Z"
   },
   {
    "duration": 35,
    "start_time": "2023-01-12T12:06:03.554Z"
   },
   {
    "duration": 10,
    "start_time": "2023-01-12T12:06:03.591Z"
   },
   {
    "duration": 21,
    "start_time": "2023-01-12T12:06:03.603Z"
   },
   {
    "duration": 25,
    "start_time": "2023-01-12T12:06:03.626Z"
   },
   {
    "duration": 125,
    "start_time": "2023-01-12T12:06:03.653Z"
   },
   {
    "duration": 114,
    "start_time": "2023-01-12T12:06:03.780Z"
   },
   {
    "duration": 121,
    "start_time": "2023-01-12T12:06:03.896Z"
   },
   {
    "duration": 153,
    "start_time": "2023-01-12T12:06:04.019Z"
   },
   {
    "duration": 192,
    "start_time": "2023-01-12T12:06:04.175Z"
   },
   {
    "duration": 3,
    "start_time": "2023-01-12T12:06:04.369Z"
   },
   {
    "duration": 44,
    "start_time": "2023-01-12T12:06:04.374Z"
   },
   {
    "duration": 101,
    "start_time": "2023-01-12T12:06:04.420Z"
   },
   {
    "duration": 98,
    "start_time": "2023-01-12T12:06:04.523Z"
   },
   {
    "duration": 45,
    "start_time": "2023-01-12T12:06:04.623Z"
   },
   {
    "duration": 143,
    "start_time": "2023-01-12T12:06:04.671Z"
   },
   {
    "duration": 102,
    "start_time": "2023-01-12T12:06:04.815Z"
   },
   {
    "duration": 11,
    "start_time": "2023-01-12T12:06:35.830Z"
   },
   {
    "duration": 1375,
    "start_time": "2023-01-12T12:07:12.233Z"
   },
   {
    "duration": 30,
    "start_time": "2023-01-12T12:07:13.610Z"
   },
   {
    "duration": 13,
    "start_time": "2023-01-12T12:07:13.641Z"
   },
   {
    "duration": 26,
    "start_time": "2023-01-12T12:07:13.655Z"
   },
   {
    "duration": 13,
    "start_time": "2023-01-12T12:07:13.683Z"
   },
   {
    "duration": 21,
    "start_time": "2023-01-12T12:07:13.697Z"
   },
   {
    "duration": 12,
    "start_time": "2023-01-12T12:07:13.720Z"
   },
   {
    "duration": 109,
    "start_time": "2023-01-12T12:07:13.734Z"
   },
   {
    "duration": 123,
    "start_time": "2023-01-12T12:07:13.845Z"
   },
   {
    "duration": 119,
    "start_time": "2023-01-12T12:07:13.970Z"
   },
   {
    "duration": 144,
    "start_time": "2023-01-12T12:07:14.090Z"
   },
   {
    "duration": 194,
    "start_time": "2023-01-12T12:07:14.236Z"
   },
   {
    "duration": 4,
    "start_time": "2023-01-12T12:07:14.432Z"
   },
   {
    "duration": 6,
    "start_time": "2023-01-12T12:07:14.438Z"
   },
   {
    "duration": 7,
    "start_time": "2023-01-12T12:07:14.446Z"
   },
   {
    "duration": 15,
    "start_time": "2023-01-12T12:07:14.514Z"
   },
   {
    "duration": 89,
    "start_time": "2023-01-12T12:07:14.530Z"
   },
   {
    "duration": 18,
    "start_time": "2023-01-12T12:07:14.621Z"
   },
   {
    "duration": 84,
    "start_time": "2023-01-12T12:07:14.641Z"
   },
   {
    "duration": 2141,
    "start_time": "2023-01-12T12:44:52.848Z"
   },
   {
    "duration": 85,
    "start_time": "2023-01-12T12:44:54.992Z"
   },
   {
    "duration": 17,
    "start_time": "2023-01-12T12:44:56.738Z"
   },
   {
    "duration": 30,
    "start_time": "2023-01-12T12:44:56.904Z"
   },
   {
    "duration": 15,
    "start_time": "2023-01-12T12:44:57.577Z"
   },
   {
    "duration": 5,
    "start_time": "2023-01-12T12:44:58.837Z"
   },
   {
    "duration": 160,
    "start_time": "2023-01-12T12:44:59.778Z"
   },
   {
    "duration": 16,
    "start_time": "2023-01-12T12:45:17.680Z"
   },
   {
    "duration": 11,
    "start_time": "2023-01-12T12:45:27.828Z"
   },
   {
    "duration": 10,
    "start_time": "2023-01-12T13:00:15.226Z"
   }
  ],
  "kernelspec": {
   "display_name": "Python 3 (ipykernel)",
   "language": "python",
   "name": "python3"
  },
  "language_info": {
   "codemirror_mode": {
    "name": "ipython",
    "version": 3
   },
   "file_extension": ".py",
   "mimetype": "text/x-python",
   "name": "python",
   "nbconvert_exporter": "python",
   "pygments_lexer": "ipython3",
   "version": "3.10.11"
  },
  "toc": {
   "base_numbering": 1,
   "nav_menu": {},
   "number_sections": true,
   "sideBar": true,
   "skip_h1_title": true,
   "title_cell": "Содержание",
   "title_sidebar": "Contents",
   "toc_cell": true,
   "toc_position": {
    "height": "calc(100% - 180px)",
    "left": "10px",
    "top": "150px",
    "width": "216px"
   },
   "toc_section_display": true,
   "toc_window_display": true
  }
 },
 "nbformat": 4,
 "nbformat_minor": 2
}
