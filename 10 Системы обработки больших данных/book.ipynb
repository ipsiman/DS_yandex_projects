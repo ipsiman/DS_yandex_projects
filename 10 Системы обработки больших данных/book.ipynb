{
 "cells": [
  {
   "cell_type": "markdown",
   "id": "GEqQaHzsZ_bA",
   "metadata": {
    "id": "GEqQaHzsZ_bA"
   },
   "source": [
    "# Предсказание стоимости жилья"
   ]
  },
  {
   "cell_type": "markdown",
   "id": "5396ea4b",
   "metadata": {},
   "source": [
    "## Описание проекта\n",
    "\n",
    "В проекте нужно обучить модель линейной регрессии на данных о жилье в Калифорнии в 1990 году. На основе данных нужно предсказать медианную стоимость дома в жилом массиве. Обучим модель и сделаем предсказания на тестовой выборке. Для оценки качества модели используем метрики RMSE, MAE и R2.\n",
    "\n",
    "В колонках датасета содержатся следующие данные:\n",
    "- `longitude` — широта;\n",
    "- `latitude` — долгота;\n",
    "- `housing_median_age` — медианный возраст жителей жилого массива;\n",
    "- `total_rooms` — общее количество комнат в домах жилого массива;\n",
    "- `total_bedrooms` — общее количество спален в домах жилого массива;\n",
    "- `population` — количество человек, которые проживают в жилом массиве;\n",
    "- `households` — количество домовладений в жилом массиве;\n",
    "- `median_income` — медианный доход жителей жилого массива;\n",
    "- `median_house_value` — медианная стоимость дома в жилом массиве;\n",
    "- `ocean_proximity` — близость к океану."
   ]
  },
  {
   "cell_type": "markdown",
   "id": "53871372",
   "metadata": {
    "id": "53871372"
   },
   "source": [
    "## Подготовка данных"
   ]
  },
  {
   "cell_type": "code",
   "execution_count": 1,
   "id": "59334be3",
   "metadata": {},
   "outputs": [],
   "source": [
    "import pandas as pd\n",
    "\n",
    "import pyspark\n",
    "from pyspark.sql import SparkSession\n",
    "from pyspark.sql.types import *\n",
    "import pyspark.sql.functions as F\n",
    "\n",
    "from pyspark.ml.feature import StringIndexer, VectorAssembler, StandardScaler, OneHotEncoder\n",
    "from pyspark.ml.regression import LinearRegression\n",
    "from pyspark.ml.evaluation import RegressionEvaluator"
   ]
  },
  {
   "cell_type": "markdown",
   "id": "963c8783",
   "metadata": {},
   "source": [
    "Инициализируем локальную Spark-сессию и прочитаем содержимое файла."
   ]
  },
  {
   "cell_type": "code",
   "execution_count": 2,
   "id": "dd776aa4",
   "metadata": {},
   "outputs": [
    {
     "name": "stderr",
     "output_type": "stream",
     "text": [
      "                                                                                \r"
     ]
    }
   ],
   "source": [
    "RANDOM_SEED = 33\n",
    "\n",
    "spark = SparkSession.builder \\\n",
    "                    .master(\"local\") \\\n",
    "                    .appName(\"Californication - Linear regression\") \\\n",
    "                    .getOrCreate()\n",
    "\n",
    "df = spark.read.load('/datasets/housing.csv', format='csv', sep=',', inferSchema=True, header='true')"
   ]
  },
  {
   "cell_type": "code",
   "execution_count": 3,
   "id": "45294133",
   "metadata": {},
   "outputs": [
    {
     "name": "stdout",
     "output_type": "stream",
     "text": [
      "root\n",
      " |-- longitude: double (nullable = true)\n",
      " |-- latitude: double (nullable = true)\n",
      " |-- housing_median_age: double (nullable = true)\n",
      " |-- total_rooms: double (nullable = true)\n",
      " |-- total_bedrooms: double (nullable = true)\n",
      " |-- population: double (nullable = true)\n",
      " |-- households: double (nullable = true)\n",
      " |-- median_income: double (nullable = true)\n",
      " |-- median_house_value: double (nullable = true)\n",
      " |-- ocean_proximity: string (nullable = true)\n",
      "\n"
     ]
    }
   ],
   "source": [
    "df.printSchema()"
   ]
  },
  {
   "cell_type": "code",
   "execution_count": 4,
   "id": "3896935d",
   "metadata": {},
   "outputs": [
    {
     "name": "stdout",
     "output_type": "stream",
     "text": [
      "+---------+--------+------------------+-----------+--------------+----------+----------+-------------+------------------+---------------+\n",
      "|longitude|latitude|housing_median_age|total_rooms|total_bedrooms|population|households|median_income|median_house_value|ocean_proximity|\n",
      "+---------+--------+------------------+-----------+--------------+----------+----------+-------------+------------------+---------------+\n",
      "|  -122.23|   37.88|              41.0|      880.0|         129.0|     322.0|     126.0|       8.3252|          452600.0|       NEAR BAY|\n",
      "|  -122.22|   37.86|              21.0|     7099.0|        1106.0|    2401.0|    1138.0|       8.3014|          358500.0|       NEAR BAY|\n",
      "|  -122.24|   37.85|              52.0|     1467.0|         190.0|     496.0|     177.0|       7.2574|          352100.0|       NEAR BAY|\n",
      "+---------+--------+------------------+-----------+--------------+----------+----------+-------------+------------------+---------------+\n",
      "only showing top 3 rows\n",
      "\n"
     ]
    }
   ],
   "source": [
    "df.show(3)"
   ]
  },
  {
   "cell_type": "code",
   "execution_count": 5,
   "id": "abf8eba2",
   "metadata": {},
   "outputs": [
    {
     "data": {
      "text/html": [
       "<div>\n",
       "<style scoped>\n",
       "    .dataframe tbody tr th:only-of-type {\n",
       "        vertical-align: middle;\n",
       "    }\n",
       "\n",
       "    .dataframe tbody tr th {\n",
       "        vertical-align: top;\n",
       "    }\n",
       "\n",
       "    .dataframe thead th {\n",
       "        text-align: right;\n",
       "    }\n",
       "</style>\n",
       "<table border=\"1\" class=\"dataframe\">\n",
       "  <thead>\n",
       "    <tr style=\"text-align: right;\">\n",
       "      <th></th>\n",
       "      <th>column</th>\n",
       "      <th>type</th>\n",
       "    </tr>\n",
       "  </thead>\n",
       "  <tbody>\n",
       "    <tr>\n",
       "      <th>0</th>\n",
       "      <td>longitude</td>\n",
       "      <td>double</td>\n",
       "    </tr>\n",
       "    <tr>\n",
       "      <th>1</th>\n",
       "      <td>latitude</td>\n",
       "      <td>double</td>\n",
       "    </tr>\n",
       "    <tr>\n",
       "      <th>2</th>\n",
       "      <td>housing_median_age</td>\n",
       "      <td>double</td>\n",
       "    </tr>\n",
       "    <tr>\n",
       "      <th>3</th>\n",
       "      <td>total_rooms</td>\n",
       "      <td>double</td>\n",
       "    </tr>\n",
       "    <tr>\n",
       "      <th>4</th>\n",
       "      <td>total_bedrooms</td>\n",
       "      <td>double</td>\n",
       "    </tr>\n",
       "    <tr>\n",
       "      <th>5</th>\n",
       "      <td>population</td>\n",
       "      <td>double</td>\n",
       "    </tr>\n",
       "    <tr>\n",
       "      <th>6</th>\n",
       "      <td>households</td>\n",
       "      <td>double</td>\n",
       "    </tr>\n",
       "    <tr>\n",
       "      <th>7</th>\n",
       "      <td>median_income</td>\n",
       "      <td>double</td>\n",
       "    </tr>\n",
       "    <tr>\n",
       "      <th>8</th>\n",
       "      <td>median_house_value</td>\n",
       "      <td>double</td>\n",
       "    </tr>\n",
       "    <tr>\n",
       "      <th>9</th>\n",
       "      <td>ocean_proximity</td>\n",
       "      <td>string</td>\n",
       "    </tr>\n",
       "  </tbody>\n",
       "</table>\n",
       "</div>"
      ],
      "text/plain": [
       "               column    type\n",
       "0           longitude  double\n",
       "1            latitude  double\n",
       "2  housing_median_age  double\n",
       "3         total_rooms  double\n",
       "4      total_bedrooms  double\n",
       "5          population  double\n",
       "6          households  double\n",
       "7       median_income  double\n",
       "8  median_house_value  double\n",
       "9     ocean_proximity  string"
      ]
     },
     "execution_count": 5,
     "metadata": {},
     "output_type": "execute_result"
    }
   ],
   "source": [
    "pd.DataFrame(df.dtypes, columns=['column', 'type'])"
   ]
  },
  {
   "cell_type": "code",
   "execution_count": 6,
   "id": "bfd6c152",
   "metadata": {
    "scrolled": true
   },
   "outputs": [
    {
     "name": "stderr",
     "output_type": "stream",
     "text": [
      "                                                                                \r"
     ]
    },
    {
     "data": {
      "text/html": [
       "<div>\n",
       "<style scoped>\n",
       "    .dataframe tbody tr th:only-of-type {\n",
       "        vertical-align: middle;\n",
       "    }\n",
       "\n",
       "    .dataframe tbody tr th {\n",
       "        vertical-align: top;\n",
       "    }\n",
       "\n",
       "    .dataframe thead th {\n",
       "        text-align: right;\n",
       "    }\n",
       "</style>\n",
       "<table border=\"1\" class=\"dataframe\">\n",
       "  <thead>\n",
       "    <tr style=\"text-align: right;\">\n",
       "      <th></th>\n",
       "      <th>summary</th>\n",
       "      <th>longitude</th>\n",
       "      <th>latitude</th>\n",
       "      <th>housing_median_age</th>\n",
       "      <th>total_rooms</th>\n",
       "      <th>total_bedrooms</th>\n",
       "      <th>population</th>\n",
       "      <th>households</th>\n",
       "      <th>median_income</th>\n",
       "      <th>median_house_value</th>\n",
       "      <th>ocean_proximity</th>\n",
       "    </tr>\n",
       "  </thead>\n",
       "  <tbody>\n",
       "    <tr>\n",
       "      <th>0</th>\n",
       "      <td>count</td>\n",
       "      <td>20640</td>\n",
       "      <td>20640</td>\n",
       "      <td>20640</td>\n",
       "      <td>20640</td>\n",
       "      <td>20433</td>\n",
       "      <td>20640</td>\n",
       "      <td>20640</td>\n",
       "      <td>20640</td>\n",
       "      <td>20640</td>\n",
       "      <td>20640</td>\n",
       "    </tr>\n",
       "    <tr>\n",
       "      <th>1</th>\n",
       "      <td>mean</td>\n",
       "      <td>-119.56970445736148</td>\n",
       "      <td>35.6318614341087</td>\n",
       "      <td>28.639486434108527</td>\n",
       "      <td>2635.7630813953488</td>\n",
       "      <td>537.8705525375618</td>\n",
       "      <td>1425.4767441860465</td>\n",
       "      <td>499.5396802325581</td>\n",
       "      <td>3.8706710029070246</td>\n",
       "      <td>206855.81690891474</td>\n",
       "      <td>None</td>\n",
       "    </tr>\n",
       "    <tr>\n",
       "      <th>2</th>\n",
       "      <td>stddev</td>\n",
       "      <td>2.003531723502584</td>\n",
       "      <td>2.135952397457101</td>\n",
       "      <td>12.58555761211163</td>\n",
       "      <td>2181.6152515827944</td>\n",
       "      <td>421.38507007403115</td>\n",
       "      <td>1132.46212176534</td>\n",
       "      <td>382.3297528316098</td>\n",
       "      <td>1.899821717945263</td>\n",
       "      <td>115395.61587441359</td>\n",
       "      <td>None</td>\n",
       "    </tr>\n",
       "    <tr>\n",
       "      <th>3</th>\n",
       "      <td>min</td>\n",
       "      <td>-124.35</td>\n",
       "      <td>32.54</td>\n",
       "      <td>1.0</td>\n",
       "      <td>2.0</td>\n",
       "      <td>1.0</td>\n",
       "      <td>3.0</td>\n",
       "      <td>1.0</td>\n",
       "      <td>0.4999</td>\n",
       "      <td>14999.0</td>\n",
       "      <td>&lt;1H OCEAN</td>\n",
       "    </tr>\n",
       "    <tr>\n",
       "      <th>4</th>\n",
       "      <td>max</td>\n",
       "      <td>-114.31</td>\n",
       "      <td>41.95</td>\n",
       "      <td>52.0</td>\n",
       "      <td>39320.0</td>\n",
       "      <td>6445.0</td>\n",
       "      <td>35682.0</td>\n",
       "      <td>6082.0</td>\n",
       "      <td>15.0001</td>\n",
       "      <td>500001.0</td>\n",
       "      <td>NEAR OCEAN</td>\n",
       "    </tr>\n",
       "  </tbody>\n",
       "</table>\n",
       "</div>"
      ],
      "text/plain": [
       "  summary            longitude           latitude  housing_median_age  \\\n",
       "0   count                20640              20640               20640   \n",
       "1    mean  -119.56970445736148   35.6318614341087  28.639486434108527   \n",
       "2  stddev    2.003531723502584  2.135952397457101   12.58555761211163   \n",
       "3     min              -124.35              32.54                 1.0   \n",
       "4     max              -114.31              41.95                52.0   \n",
       "\n",
       "          total_rooms      total_bedrooms          population  \\\n",
       "0               20640               20433               20640   \n",
       "1  2635.7630813953488   537.8705525375618  1425.4767441860465   \n",
       "2  2181.6152515827944  421.38507007403115    1132.46212176534   \n",
       "3                 2.0                 1.0                 3.0   \n",
       "4             39320.0              6445.0             35682.0   \n",
       "\n",
       "          households       median_income  median_house_value ocean_proximity  \n",
       "0              20640               20640               20640           20640  \n",
       "1  499.5396802325581  3.8706710029070246  206855.81690891474            None  \n",
       "2  382.3297528316098   1.899821717945263  115395.61587441359            None  \n",
       "3                1.0              0.4999             14999.0       <1H OCEAN  \n",
       "4             6082.0             15.0001            500001.0      NEAR OCEAN  "
      ]
     },
     "execution_count": 6,
     "metadata": {},
     "output_type": "execute_result"
    }
   ],
   "source": [
    "df.describe().toPandas()"
   ]
  },
  {
   "cell_type": "markdown",
   "id": "ce87c461",
   "metadata": {},
   "source": [
    "Удалим дубликаты и проверим на пропуски."
   ]
  },
  {
   "cell_type": "code",
   "execution_count": 7,
   "id": "754ffccf",
   "metadata": {},
   "outputs": [],
   "source": [
    "df = df.dropDuplicates()"
   ]
  },
  {
   "cell_type": "code",
   "execution_count": 8,
   "id": "14ef54fa",
   "metadata": {},
   "outputs": [
    {
     "name": "stderr",
     "output_type": "stream",
     "text": [
      "[Stage 6:======================================================>(199 + 1) / 200]\r"
     ]
    },
    {
     "name": "stdout",
     "output_type": "stream",
     "text": [
      "+---------+--------+------------------+-----------+--------------+----------+----------+-------------+------------------+---------------+\n",
      "|longitude|latitude|housing_median_age|total_rooms|total_bedrooms|population|households|median_income|median_house_value|ocean_proximity|\n",
      "+---------+--------+------------------+-----------+--------------+----------+----------+-------------+------------------+---------------+\n",
      "|        0|       0|                 0|          0|           207|         0|         0|            0|                 0|              0|\n",
      "+---------+--------+------------------+-----------+--------------+----------+----------+-------------+------------------+---------------+\n",
      "\n"
     ]
    },
    {
     "name": "stderr",
     "output_type": "stream",
     "text": [
      "                                                                                \r"
     ]
    }
   ],
   "source": [
    "df.select([F.count(F.when(F.isnan(c) | F.col(c).isNull(), c)).alias(c) for c in df.columns]).show()"
   ]
  },
  {
   "cell_type": "markdown",
   "id": "5bae1388",
   "metadata": {},
   "source": [
    "`total_bedrooms` имеет 207 пропусков, заменим их медианой."
   ]
  },
  {
   "cell_type": "code",
   "execution_count": 9,
   "id": "047e35e2",
   "metadata": {},
   "outputs": [
    {
     "name": "stderr",
     "output_type": "stream",
     "text": [
      "                                                                                \r"
     ]
    },
    {
     "data": {
      "text/plain": [
       "435.0"
      ]
     },
     "execution_count": 9,
     "metadata": {},
     "output_type": "execute_result"
    }
   ],
   "source": [
    "tb_median = df.approxQuantile('total_bedrooms', [0.5], 0)[0]\n",
    "tb_median"
   ]
  },
  {
   "cell_type": "code",
   "execution_count": 10,
   "id": "f47f8f0e",
   "metadata": {},
   "outputs": [],
   "source": [
    "df = df.na.fill(value=tb_median, subset=[\"total_bedrooms\"])"
   ]
  },
  {
   "cell_type": "code",
   "execution_count": 11,
   "id": "a503f6a6",
   "metadata": {},
   "outputs": [
    {
     "name": "stderr",
     "output_type": "stream",
     "text": [
      "[Stage 12:==============================================>       (172 + 1) / 200]\r"
     ]
    },
    {
     "name": "stdout",
     "output_type": "stream",
     "text": [
      "+---------+--------+------------------+-----------+--------------+----------+----------+-------------+------------------+---------------+\n",
      "|longitude|latitude|housing_median_age|total_rooms|total_bedrooms|population|households|median_income|median_house_value|ocean_proximity|\n",
      "+---------+--------+------------------+-----------+--------------+----------+----------+-------------+------------------+---------------+\n",
      "|        0|       0|                 0|          0|             0|         0|         0|            0|                 0|              0|\n",
      "+---------+--------+------------------+-----------+--------------+----------+----------+-------------+------------------+---------------+\n",
      "\n"
     ]
    },
    {
     "name": "stderr",
     "output_type": "stream",
     "text": [
      "                                                                                \r"
     ]
    }
   ],
   "source": [
    "df.select([F.count(F.when(F.isnan(c) | F.col(c).isNull(), c)).alias(c) for c in df.columns]).show()"
   ]
  },
  {
   "cell_type": "markdown",
   "id": "3133ccbe",
   "metadata": {},
   "source": [
    "### Разделение на выборки"
   ]
  },
  {
   "cell_type": "code",
   "execution_count": 12,
   "id": "8f8f8475",
   "metadata": {},
   "outputs": [
    {
     "name": "stderr",
     "output_type": "stream",
     "text": [
      "[Stage 18:==================================================>   (186 + 1) / 200]\r"
     ]
    },
    {
     "name": "stdout",
     "output_type": "stream",
     "text": [
      "16433 4207\n"
     ]
    },
    {
     "name": "stderr",
     "output_type": "stream",
     "text": [
      "                                                                                \r"
     ]
    }
   ],
   "source": [
    "train_data, test_data = df.randomSplit([.8, .2], seed=RANDOM_SEED)\n",
    "print(train_data.count(), test_data.count())"
   ]
  },
  {
   "cell_type": "markdown",
   "id": "9e7b7545",
   "metadata": {},
   "source": [
    "### Трансформация категорийных признаков"
   ]
  },
  {
   "cell_type": "markdown",
   "id": "c8befc8f",
   "metadata": {},
   "source": [
    "Трансформируем категориальные признаки с помощью трансформера StringIndexer. Он переводит текстовые категории в числовое представление."
   ]
  },
  {
   "cell_type": "code",
   "execution_count": 13,
   "id": "28e1a7f0",
   "metadata": {},
   "outputs": [],
   "source": [
    "cat_cols = ['ocean_proximity']\n",
    "num_cols = ['longitude','latitude', 'housing_median_age', 'total_rooms', \n",
    "            'total_bedrooms', 'population', 'households', 'median_income']\n",
    "target = ['median_house_value']"
   ]
  },
  {
   "cell_type": "code",
   "execution_count": 14,
   "id": "15d6bb82",
   "metadata": {
    "scrolled": true
   },
   "outputs": [
    {
     "name": "stderr",
     "output_type": "stream",
     "text": [
      "                                                                                \r"
     ]
    },
    {
     "name": "stdout",
     "output_type": "stream",
     "text": [
      "+---------------+-------------------+\n",
      "|ocean_proximity|ocean_proximity_idx|\n",
      "+---------------+-------------------+\n",
      "|     NEAR OCEAN|                2.0|\n",
      "|      <1H OCEAN|                0.0|\n",
      "|     NEAR OCEAN|                2.0|\n",
      "+---------------+-------------------+\n",
      "only showing top 3 rows\n",
      "\n"
     ]
    }
   ],
   "source": [
    "indexer = StringIndexer(inputCols=cat_cols, \n",
    "                        outputCols=[c+'_idx' for c in cat_cols]) \n",
    "model = indexer.fit(train_data)\n",
    "train_data = model.transform(train_data)\n",
    "test_data = model.transform(test_data)\n",
    "\n",
    "cols = [c for c in train_data.columns for i in cat_cols if (c.startswith(i))]\n",
    "train_data.select(cols).show(3)"
   ]
  },
  {
   "cell_type": "markdown",
   "id": "2921ce1b",
   "metadata": {},
   "source": [
    "Дополнительно можно сделать OHE-кодирование (One hot encoder) для категорий."
   ]
  },
  {
   "cell_type": "code",
   "execution_count": 15,
   "id": "ad46fb8e",
   "metadata": {},
   "outputs": [
    {
     "name": "stdout",
     "output_type": "stream",
     "text": [
      "+---------------+-------------------+-------------------+\n",
      "|ocean_proximity|ocean_proximity_idx|ocean_proximity_ohe|\n",
      "+---------------+-------------------+-------------------+\n",
      "|     NEAR OCEAN|                2.0|      (4,[2],[1.0])|\n",
      "|      <1H OCEAN|                0.0|      (4,[0],[1.0])|\n",
      "|     NEAR OCEAN|                2.0|      (4,[2],[1.0])|\n",
      "+---------------+-------------------+-------------------+\n",
      "only showing top 3 rows\n",
      "\n"
     ]
    }
   ],
   "source": [
    "encoder = OneHotEncoder(inputCols=[c+'_idx' for c in cat_cols],\n",
    "                        outputCols=[c+'_ohe' for c in cat_cols])\n",
    "model = encoder.fit(train_data)\n",
    "train_data = model.transform(train_data)\n",
    "test_data = model.transform(test_data)\n",
    "\n",
    "cols = [c for c in train_data.columns for i in cat_cols if (c.startswith(i))]\n",
    "train_data.select(cols).show(3)"
   ]
  },
  {
   "cell_type": "markdown",
   "id": "52ba491f",
   "metadata": {},
   "source": [
    "Финальный шаг преобразований — объединение признаков в один вектор, с которым ML-алгоритм умеет работать."
   ]
  },
  {
   "cell_type": "code",
   "execution_count": 16,
   "id": "9168f52a",
   "metadata": {},
   "outputs": [],
   "source": [
    "cat_assembler = VectorAssembler(inputCols=[c+'_ohe' for c in cat_cols],\n",
    "                                outputCol='categorical_features')\n",
    "\n",
    "train_data = cat_assembler.transform(train_data)\n",
    "test_data = cat_assembler.transform(test_data)"
   ]
  },
  {
   "cell_type": "code",
   "execution_count": 17,
   "id": "2ca27b38",
   "metadata": {},
   "outputs": [
    {
     "name": "stdout",
     "output_type": "stream",
     "text": [
      "root\n",
      " |-- longitude: double (nullable = true)\n",
      " |-- latitude: double (nullable = true)\n",
      " |-- housing_median_age: double (nullable = true)\n",
      " |-- total_rooms: double (nullable = true)\n",
      " |-- total_bedrooms: double (nullable = false)\n",
      " |-- population: double (nullable = true)\n",
      " |-- households: double (nullable = true)\n",
      " |-- median_income: double (nullable = true)\n",
      " |-- median_house_value: double (nullable = true)\n",
      " |-- ocean_proximity: string (nullable = true)\n",
      " |-- ocean_proximity_idx: double (nullable = false)\n",
      " |-- ocean_proximity_ohe: vector (nullable = true)\n",
      " |-- categorical_features: vector (nullable = true)\n",
      "\n"
     ]
    }
   ],
   "source": [
    "train_data.printSchema()"
   ]
  },
  {
   "cell_type": "markdown",
   "id": "80d38e53",
   "metadata": {},
   "source": [
    "### Трансформация числовых признаков"
   ]
  },
  {
   "cell_type": "markdown",
   "id": "551776e9",
   "metadata": {},
   "source": [
    "Произведем стандартизацию (шкалирование) значений — чтобы сильные выбросы не смещали предсказания модели."
   ]
  },
  {
   "cell_type": "code",
   "execution_count": 18,
   "id": "5a673a66",
   "metadata": {},
   "outputs": [],
   "source": [
    "num_assembler = VectorAssembler(inputCols=num_cols, outputCol='numerical_features')\n",
    "train_data = num_assembler.transform(train_data)\n",
    "test_data = num_assembler.transform(test_data)"
   ]
  },
  {
   "cell_type": "code",
   "execution_count": 19,
   "id": "f80b206c",
   "metadata": {},
   "outputs": [
    {
     "name": "stderr",
     "output_type": "stream",
     "text": [
      "                                                                                \r"
     ]
    }
   ],
   "source": [
    "standardScaler = StandardScaler(inputCol='numerical_features', outputCol='numerical_features_scaled')\n",
    "model = standardScaler.fit(train_data)\n",
    "\n",
    "train_data = model.transform(train_data)\n",
    "test_data = model.transform(test_data)"
   ]
  },
  {
   "cell_type": "code",
   "execution_count": 20,
   "id": "93ace3fc",
   "metadata": {},
   "outputs": [
    {
     "name": "stdout",
     "output_type": "stream",
     "text": [
      "root\n",
      " |-- longitude: double (nullable = true)\n",
      " |-- latitude: double (nullable = true)\n",
      " |-- housing_median_age: double (nullable = true)\n",
      " |-- total_rooms: double (nullable = true)\n",
      " |-- total_bedrooms: double (nullable = false)\n",
      " |-- population: double (nullable = true)\n",
      " |-- households: double (nullable = true)\n",
      " |-- median_income: double (nullable = true)\n",
      " |-- median_house_value: double (nullable = true)\n",
      " |-- ocean_proximity: string (nullable = true)\n",
      " |-- ocean_proximity_idx: double (nullable = false)\n",
      " |-- ocean_proximity_ohe: vector (nullable = true)\n",
      " |-- categorical_features: vector (nullable = true)\n",
      " |-- numerical_features: vector (nullable = true)\n",
      " |-- numerical_features_scaled: vector (nullable = true)\n",
      "\n"
     ]
    }
   ],
   "source": [
    "train_data.printSchema()"
   ]
  },
  {
   "cell_type": "markdown",
   "id": "0def2454",
   "metadata": {},
   "source": [
    "Финальный шаг — собрать трансформированные категорийные и числовые признаки."
   ]
  },
  {
   "cell_type": "code",
   "execution_count": 21,
   "id": "ad9c8468",
   "metadata": {
    "scrolled": true
   },
   "outputs": [
    {
     "name": "stderr",
     "output_type": "stream",
     "text": [
      "                                                                                \r"
     ]
    },
    {
     "name": "stdout",
     "output_type": "stream",
     "text": [
      "+--------------------+-------------------------+\n",
      "|categorical_features|numerical_features_scaled|\n",
      "+--------------------+-------------------------+\n",
      "|       (4,[2],[1.0])|     [-61.832365530924...|\n",
      "|       (4,[0],[1.0])|     [-61.109617203476...|\n",
      "|       (4,[2],[1.0])|     [-61.054788020015...|\n",
      "+--------------------+-------------------------+\n",
      "only showing top 3 rows\n",
      "\n",
      "+--------------------+\n",
      "|            features|\n",
      "+--------------------+\n",
      "|[0.0,0.0,1.0,0.0,...|\n",
      "|[1.0,0.0,0.0,0.0,...|\n",
      "|[0.0,0.0,1.0,0.0,...|\n",
      "+--------------------+\n",
      "only showing top 3 rows\n",
      "\n"
     ]
    }
   ],
   "source": [
    "all_features = ['categorical_features','numerical_features_scaled']\n",
    "\n",
    "final_assembler = VectorAssembler(inputCols=all_features, outputCol='features') \n",
    "train_data = final_assembler.transform(train_data)\n",
    "test_data = final_assembler.transform(test_data)\n",
    "\n",
    "train_data.select(all_features).show(3)\n",
    "train_data.select('features').show(3)"
   ]
  },
  {
   "cell_type": "code",
   "execution_count": 22,
   "id": "b5dd3d7c",
   "metadata": {},
   "outputs": [
    {
     "data": {
      "text/html": [
       "<div>\n",
       "<style scoped>\n",
       "    .dataframe tbody tr th:only-of-type {\n",
       "        vertical-align: middle;\n",
       "    }\n",
       "\n",
       "    .dataframe tbody tr th {\n",
       "        vertical-align: top;\n",
       "    }\n",
       "\n",
       "    .dataframe thead th {\n",
       "        text-align: right;\n",
       "    }\n",
       "</style>\n",
       "<table border=\"1\" class=\"dataframe\">\n",
       "  <thead>\n",
       "    <tr style=\"text-align: right;\">\n",
       "      <th></th>\n",
       "      <th>column</th>\n",
       "      <th>type</th>\n",
       "    </tr>\n",
       "  </thead>\n",
       "  <tbody>\n",
       "    <tr>\n",
       "      <th>0</th>\n",
       "      <td>longitude</td>\n",
       "      <td>double</td>\n",
       "    </tr>\n",
       "    <tr>\n",
       "      <th>1</th>\n",
       "      <td>latitude</td>\n",
       "      <td>double</td>\n",
       "    </tr>\n",
       "    <tr>\n",
       "      <th>2</th>\n",
       "      <td>housing_median_age</td>\n",
       "      <td>double</td>\n",
       "    </tr>\n",
       "    <tr>\n",
       "      <th>3</th>\n",
       "      <td>total_rooms</td>\n",
       "      <td>double</td>\n",
       "    </tr>\n",
       "    <tr>\n",
       "      <th>4</th>\n",
       "      <td>total_bedrooms</td>\n",
       "      <td>double</td>\n",
       "    </tr>\n",
       "    <tr>\n",
       "      <th>5</th>\n",
       "      <td>population</td>\n",
       "      <td>double</td>\n",
       "    </tr>\n",
       "    <tr>\n",
       "      <th>6</th>\n",
       "      <td>households</td>\n",
       "      <td>double</td>\n",
       "    </tr>\n",
       "    <tr>\n",
       "      <th>7</th>\n",
       "      <td>median_income</td>\n",
       "      <td>double</td>\n",
       "    </tr>\n",
       "    <tr>\n",
       "      <th>8</th>\n",
       "      <td>median_house_value</td>\n",
       "      <td>double</td>\n",
       "    </tr>\n",
       "    <tr>\n",
       "      <th>9</th>\n",
       "      <td>ocean_proximity</td>\n",
       "      <td>string</td>\n",
       "    </tr>\n",
       "    <tr>\n",
       "      <th>10</th>\n",
       "      <td>ocean_proximity_idx</td>\n",
       "      <td>double</td>\n",
       "    </tr>\n",
       "    <tr>\n",
       "      <th>11</th>\n",
       "      <td>ocean_proximity_ohe</td>\n",
       "      <td>vector</td>\n",
       "    </tr>\n",
       "    <tr>\n",
       "      <th>12</th>\n",
       "      <td>categorical_features</td>\n",
       "      <td>vector</td>\n",
       "    </tr>\n",
       "    <tr>\n",
       "      <th>13</th>\n",
       "      <td>numerical_features</td>\n",
       "      <td>vector</td>\n",
       "    </tr>\n",
       "    <tr>\n",
       "      <th>14</th>\n",
       "      <td>numerical_features_scaled</td>\n",
       "      <td>vector</td>\n",
       "    </tr>\n",
       "    <tr>\n",
       "      <th>15</th>\n",
       "      <td>features</td>\n",
       "      <td>vector</td>\n",
       "    </tr>\n",
       "  </tbody>\n",
       "</table>\n",
       "</div>"
      ],
      "text/plain": [
       "                       column    type\n",
       "0                   longitude  double\n",
       "1                    latitude  double\n",
       "2          housing_median_age  double\n",
       "3                 total_rooms  double\n",
       "4              total_bedrooms  double\n",
       "5                  population  double\n",
       "6                  households  double\n",
       "7               median_income  double\n",
       "8          median_house_value  double\n",
       "9             ocean_proximity  string\n",
       "10        ocean_proximity_idx  double\n",
       "11        ocean_proximity_ohe  vector\n",
       "12       categorical_features  vector\n",
       "13         numerical_features  vector\n",
       "14  numerical_features_scaled  vector\n",
       "15                   features  vector"
      ]
     },
     "execution_count": 22,
     "metadata": {},
     "output_type": "execute_result"
    }
   ],
   "source": [
    "pd.DataFrame(train_data.dtypes, columns=['column', 'type'])"
   ]
  },
  {
   "cell_type": "markdown",
   "id": "9f0a82f3",
   "metadata": {
    "id": "9f0a82f3"
   },
   "source": [
    "## Обучение моделей"
   ]
  },
  {
   "cell_type": "markdown",
   "id": "1eb46797",
   "metadata": {},
   "source": [
    "Обучим и сравним модель используя все данные из файла и используя только числовые переменные, исключив категориальные."
   ]
  },
  {
   "cell_type": "code",
   "execution_count": 23,
   "id": "bddb08c4",
   "metadata": {
    "id": "bddb08c4"
   },
   "outputs": [
    {
     "name": "stderr",
     "output_type": "stream",
     "text": [
      "22/12/09 11:19:20 WARN Instrumentation: [c7c7f93b] regParam is zero, which might cause numerical instability and overfitting.\n",
      "22/12/09 11:19:21 WARN BLAS: Failed to load implementation from: com.github.fommil.netlib.NativeSystemBLAS\n",
      "22/12/09 11:19:21 WARN BLAS: Failed to load implementation from: com.github.fommil.netlib.NativeRefBLAS\n",
      "22/12/09 11:19:29 WARN LAPACK: Failed to load implementation from: com.github.fommil.netlib.NativeSystemLAPACK\n",
      "22/12/09 11:19:29 WARN LAPACK: Failed to load implementation from: com.github.fommil.netlib.NativeRefLAPACK\n",
      "                                                                                \r"
     ]
    }
   ],
   "source": [
    "lr = LinearRegression(labelCol='median_house_value', featuresCol='features', maxIter=10)\n",
    "model = lr.fit(train_data)"
   ]
  },
  {
   "cell_type": "code",
   "execution_count": 24,
   "id": "958579b1",
   "metadata": {},
   "outputs": [
    {
     "name": "stdout",
     "output_type": "stream",
     "text": [
      "+------------------+------------------+\n",
      "|median_house_value|        prediction|\n",
      "+------------------+------------------+\n",
      "|           67900.0|122595.89795868425|\n",
      "|          500001.0|451341.20104264654|\n",
      "|          112500.0| 161072.1015965338|\n",
      "|          133400.0|182138.22120002192|\n",
      "|          137500.0|104880.58984675026|\n",
      "|          132400.0|190358.92072507925|\n",
      "|          154900.0|26496.076108738314|\n",
      "|          500001.0| 341111.8871703581|\n",
      "|          429100.0| 281352.9477849901|\n",
      "|          139500.0|134220.97702931752|\n",
      "|          127100.0|154525.86268744105|\n",
      "|          196900.0|211390.94220880372|\n",
      "|          214100.0|232627.49282042542|\n",
      "|          343100.0|236803.72161215823|\n",
      "|           98300.0| 98084.07690468617|\n",
      "|          344200.0|298058.54352872726|\n",
      "|          291500.0|202325.25385992136|\n",
      "|          147900.0|237835.77072464302|\n",
      "|          344100.0|343457.10986782657|\n",
      "|          274600.0| 289394.3243488739|\n",
      "+------------------+------------------+\n",
      "only showing top 20 rows\n",
      "\n"
     ]
    }
   ],
   "source": [
    "predictions = model.transform(test_data)\n",
    "\n",
    "predictedLabes = predictions.select(\"median_house_value\", \"prediction\")\n",
    "predictedLabes.show()"
   ]
  },
  {
   "cell_type": "code",
   "execution_count": 25,
   "id": "a840f37b",
   "metadata": {},
   "outputs": [
    {
     "name": "stderr",
     "output_type": "stream",
     "text": [
      "                                                                                \r"
     ]
    }
   ],
   "source": [
    "rmse = RegressionEvaluator(labelCol='median_house_value', metricName='rmse').evaluate(predictions)\n",
    "mae = RegressionEvaluator(labelCol='median_house_value', metricName='mae').evaluate(predictions)\n",
    "r2 = RegressionEvaluator(labelCol='median_house_value', metricName='r2').evaluate(predictions)"
   ]
  },
  {
   "cell_type": "code",
   "execution_count": 26,
   "id": "ddb35dd1",
   "metadata": {},
   "outputs": [],
   "source": [
    "result = pd.DataFrame(data = {'features': ['all'], 'rmse': [rmse], 'mae': [mae], 'r2': [r2]})"
   ]
  },
  {
   "cell_type": "code",
   "execution_count": 27,
   "id": "b09e4162",
   "metadata": {},
   "outputs": [
    {
     "name": "stderr",
     "output_type": "stream",
     "text": [
      "22/12/09 11:20:02 WARN Instrumentation: [02d32d8e] regParam is zero, which might cause numerical instability and overfitting.\n",
      "                                                                                \r"
     ]
    }
   ],
   "source": [
    "lr = LinearRegression(labelCol='median_house_value', featuresCol='numerical_features_scaled', maxIter=10)\n",
    "model = lr.fit(train_data)\n",
    "\n",
    "predictions = model.transform(test_data)\n",
    "predictedLabes = predictions.select(\"median_house_value\", \"prediction\")\n",
    "\n",
    "rmse = RegressionEvaluator(labelCol='median_house_value', metricName='rmse').evaluate(predictions)\n",
    "mae = RegressionEvaluator(labelCol='median_house_value', metricName='mae').evaluate(predictions)\n",
    "r2 = RegressionEvaluator(labelCol='median_house_value', metricName='r2').evaluate(predictions)"
   ]
  },
  {
   "cell_type": "code",
   "execution_count": 28,
   "id": "082f5a89",
   "metadata": {},
   "outputs": [],
   "source": [
    "result = result.append({'features': 'num', 'rmse': rmse, 'mae': mae, 'r2': r2}, ignore_index=True)"
   ]
  },
  {
   "cell_type": "code",
   "execution_count": 29,
   "id": "53299f3c",
   "metadata": {},
   "outputs": [],
   "source": [
    "# остановим Spark сессию\n",
    "spark.stop()"
   ]
  },
  {
   "cell_type": "markdown",
   "id": "757fd103",
   "metadata": {
    "id": "757fd103"
   },
   "source": [
    "## Анализ результатов"
   ]
  },
  {
   "cell_type": "code",
   "execution_count": 30,
   "id": "f2baad20",
   "metadata": {
    "scrolled": true
   },
   "outputs": [
    {
     "data": {
      "text/html": [
       "<div>\n",
       "<style scoped>\n",
       "    .dataframe tbody tr th:only-of-type {\n",
       "        vertical-align: middle;\n",
       "    }\n",
       "\n",
       "    .dataframe tbody tr th {\n",
       "        vertical-align: top;\n",
       "    }\n",
       "\n",
       "    .dataframe thead th {\n",
       "        text-align: right;\n",
       "    }\n",
       "</style>\n",
       "<table border=\"1\" class=\"dataframe\">\n",
       "  <thead>\n",
       "    <tr style=\"text-align: right;\">\n",
       "      <th></th>\n",
       "      <th>features</th>\n",
       "      <th>rmse</th>\n",
       "      <th>mae</th>\n",
       "      <th>r2</th>\n",
       "    </tr>\n",
       "  </thead>\n",
       "  <tbody>\n",
       "    <tr>\n",
       "      <th>0</th>\n",
       "      <td>all</td>\n",
       "      <td>69208.659866</td>\n",
       "      <td>50187.564635</td>\n",
       "      <td>0.638066</td>\n",
       "    </tr>\n",
       "    <tr>\n",
       "      <th>1</th>\n",
       "      <td>num</td>\n",
       "      <td>70099.775327</td>\n",
       "      <td>51023.627846</td>\n",
       "      <td>0.628686</td>\n",
       "    </tr>\n",
       "  </tbody>\n",
       "</table>\n",
       "</div>"
      ],
      "text/plain": [
       "  features          rmse           mae        r2\n",
       "0      all  69208.659866  50187.564635  0.638066\n",
       "1      num  70099.775327  51023.627846  0.628686"
      ]
     },
     "execution_count": 30,
     "metadata": {},
     "output_type": "execute_result"
    }
   ],
   "source": [
    "result"
   ]
  },
  {
   "cell_type": "markdown",
   "id": "7bf33eba",
   "metadata": {},
   "source": [
    "Результаты с категориальным признаком и без почти одинаковые. Возможно у него маленькая корреляция с таргет признаком."
   ]
  }
 ],
 "metadata": {
  "ExecuteTimeLog": [
   {
    "duration": 797,
    "start_time": "2022-12-08T17:36:33.047Z"
   },
   {
    "duration": 4,
    "start_time": "2022-12-08T17:37:04.953Z"
   },
   {
    "duration": 4,
    "start_time": "2022-12-08T17:37:07.040Z"
   },
   {
    "duration": 50,
    "start_time": "2022-12-08T17:39:09.319Z"
   },
   {
    "duration": 53,
    "start_time": "2022-12-08T17:39:45.344Z"
   },
   {
    "duration": 50,
    "start_time": "2022-12-08T17:39:54.751Z"
   },
   {
    "duration": 16894,
    "start_time": "2022-12-08T17:40:13.722Z"
   },
   {
    "duration": 160,
    "start_time": "2022-12-08T17:41:01.106Z"
   },
   {
    "duration": 104,
    "start_time": "2022-12-08T17:41:08.918Z"
   },
   {
    "duration": 127,
    "start_time": "2022-12-08T17:41:42.348Z"
   },
   {
    "duration": 92,
    "start_time": "2022-12-08T17:43:01.348Z"
   },
   {
    "duration": 9511,
    "start_time": "2022-12-08T17:43:19.576Z"
   },
   {
    "duration": 53,
    "start_time": "2022-12-08T18:05:42.163Z"
   },
   {
    "duration": 11,
    "start_time": "2022-12-08T18:06:04.059Z"
   },
   {
    "duration": 9,
    "start_time": "2022-12-08T18:06:41.069Z"
   },
   {
    "duration": 6,
    "start_time": "2022-12-08T18:07:19.889Z"
   },
   {
    "duration": 631,
    "start_time": "2022-12-08T18:07:28.957Z"
   },
   {
    "duration": 4240,
    "start_time": "2022-12-08T18:07:40.760Z"
   },
   {
    "duration": 2083,
    "start_time": "2022-12-08T18:08:12.531Z"
   },
   {
    "duration": 15,
    "start_time": "2022-12-08T18:13:20.665Z"
   },
   {
    "duration": 13,
    "start_time": "2022-12-08T18:13:54.578Z"
   },
   {
    "duration": 17,
    "start_time": "2022-12-08T18:13:58.251Z"
   },
   {
    "duration": 1265,
    "start_time": "2022-12-08T18:14:18.538Z"
   },
   {
    "duration": 11,
    "start_time": "2022-12-08T18:23:29.191Z"
   },
   {
    "duration": 8776,
    "start_time": "2022-12-08T18:23:40.222Z"
   },
   {
    "duration": 22,
    "start_time": "2022-12-08T18:26:16.571Z"
   },
   {
    "duration": 26,
    "start_time": "2022-12-08T18:27:09.572Z"
   },
   {
    "duration": 11,
    "start_time": "2022-12-08T18:33:22.703Z"
   },
   {
    "duration": 14,
    "start_time": "2022-12-08T18:33:29.381Z"
   },
   {
    "duration": 30,
    "start_time": "2022-12-08T18:33:43.667Z"
   },
   {
    "duration": 17,
    "start_time": "2022-12-08T18:33:57.375Z"
   },
   {
    "duration": 31,
    "start_time": "2022-12-08T18:34:07.657Z"
   },
   {
    "duration": 4467,
    "start_time": "2022-12-08T18:34:35.521Z"
   },
   {
    "duration": 3992,
    "start_time": "2022-12-08T18:35:23.788Z"
   },
   {
    "duration": 4,
    "start_time": "2022-12-08T18:35:31.124Z"
   },
   {
    "duration": 3,
    "start_time": "2022-12-08T18:35:39.371Z"
   },
   {
    "duration": 3366,
    "start_time": "2022-12-08T18:35:53.418Z"
   },
   {
    "duration": 3550,
    "start_time": "2022-12-08T18:36:08.031Z"
   },
   {
    "duration": 3,
    "start_time": "2022-12-08T18:36:14.525Z"
   },
   {
    "duration": 8,
    "start_time": "2022-12-08T18:36:17.476Z"
   },
   {
    "duration": 4,
    "start_time": "2022-12-08T18:36:23.606Z"
   },
   {
    "duration": 2664,
    "start_time": "2022-12-08T18:36:31.949Z"
   },
   {
    "duration": 4,
    "start_time": "2022-12-08T18:36:38.156Z"
   },
   {
    "duration": 39,
    "start_time": "2022-12-08T18:38:46.193Z"
   },
   {
    "duration": 4144,
    "start_time": "2022-12-08T18:38:53.736Z"
   },
   {
    "duration": 18,
    "start_time": "2022-12-08T18:39:04.186Z"
   },
   {
    "duration": 3581,
    "start_time": "2022-12-08T18:39:07.396Z"
   },
   {
    "duration": 9,
    "start_time": "2022-12-08T18:44:08.681Z"
   },
   {
    "duration": 3,
    "start_time": "2022-12-08T18:59:29.463Z"
   },
   {
    "duration": 9266,
    "start_time": "2022-12-08T19:00:13.213Z"
   },
   {
    "duration": 984,
    "start_time": "2022-12-08T19:01:07.026Z"
   },
   {
    "duration": 3,
    "start_time": "2022-12-08T19:04:52.639Z"
   },
   {
    "duration": 132,
    "start_time": "2022-12-08T19:04:55.132Z"
   },
   {
    "duration": 100,
    "start_time": "2022-12-08T19:05:08.717Z"
   },
   {
    "duration": 4,
    "start_time": "2022-12-08T19:05:32.151Z"
   },
   {
    "duration": 33,
    "start_time": "2022-12-08T19:09:17.112Z"
   },
   {
    "duration": 6379,
    "start_time": "2022-12-08T19:09:43.869Z"
   },
   {
    "duration": 4,
    "start_time": "2022-12-08T19:10:00.441Z"
   },
   {
    "duration": 691,
    "start_time": "2022-12-08T19:12:31.616Z"
   },
   {
    "duration": 19,
    "start_time": "2022-12-08T19:12:34.786Z"
   },
   {
    "duration": 106,
    "start_time": "2022-12-08T19:13:04.800Z"
   },
   {
    "duration": 85,
    "start_time": "2022-12-08T19:13:14.437Z"
   },
   {
    "duration": 83,
    "start_time": "2022-12-08T19:13:16.474Z"
   },
   {
    "duration": 479,
    "start_time": "2022-12-08T19:13:22.840Z"
   },
   {
    "duration": 16710,
    "start_time": "2022-12-08T19:14:23.172Z"
   },
   {
    "duration": 13,
    "start_time": "2022-12-08T19:18:12.729Z"
   },
   {
    "duration": 4,
    "start_time": "2022-12-08T19:18:47.497Z"
   },
   {
    "duration": 605,
    "start_time": "2022-12-08T19:18:47.504Z"
   },
   {
    "duration": 4,
    "start_time": "2022-12-08T19:18:48.111Z"
   },
   {
    "duration": 201,
    "start_time": "2022-12-08T19:18:48.117Z"
   },
   {
    "duration": 11,
    "start_time": "2022-12-08T19:18:48.321Z"
   },
   {
    "duration": 1270,
    "start_time": "2022-12-08T19:18:48.334Z"
   },
   {
    "duration": 4,
    "start_time": "2022-12-08T19:18:49.606Z"
   },
   {
    "duration": 3691,
    "start_time": "2022-12-08T19:18:49.611Z"
   },
   {
    "duration": 3380,
    "start_time": "2022-12-08T19:18:53.304Z"
   },
   {
    "duration": 15,
    "start_time": "2022-12-08T19:18:56.686Z"
   },
   {
    "duration": 3093,
    "start_time": "2022-12-08T19:18:56.703Z"
   },
   {
    "duration": 4,
    "start_time": "2022-12-08T19:18:59.798Z"
   },
   {
    "duration": 4139,
    "start_time": "2022-12-08T19:18:59.803Z"
   },
   {
    "duration": 517,
    "start_time": "2022-12-08T19:19:03.977Z"
   },
   {
    "duration": 19,
    "start_time": "2022-12-08T19:19:04.495Z"
   },
   {
    "duration": 5,
    "start_time": "2022-12-08T19:19:04.516Z"
   },
   {
    "duration": 63,
    "start_time": "2022-12-08T19:19:04.523Z"
   },
   {
    "duration": 3009,
    "start_time": "2022-12-08T19:19:04.588Z"
   },
   {
    "duration": 4,
    "start_time": "2022-12-08T19:19:07.599Z"
   },
   {
    "duration": 659,
    "start_time": "2022-12-08T19:19:07.605Z"
   },
   {
    "duration": 0,
    "start_time": "2022-12-08T19:19:08.266Z"
   },
   {
    "duration": 1,
    "start_time": "2022-12-08T19:19:08.267Z"
   },
   {
    "duration": 1082,
    "start_time": "2022-12-08T19:19:47.409Z"
   },
   {
    "duration": 10218,
    "start_time": "2022-12-08T19:19:56.861Z"
   },
   {
    "duration": 12,
    "start_time": "2022-12-08T19:20:09.533Z"
   },
   {
    "duration": 9,
    "start_time": "2022-12-08T19:25:40.655Z"
   },
   {
    "duration": 277,
    "start_time": "2022-12-08T19:26:00.507Z"
   },
   {
    "duration": 16404,
    "start_time": "2022-12-08T19:27:57.211Z"
   },
   {
    "duration": 1010,
    "start_time": "2022-12-08T19:28:52.794Z"
   },
   {
    "duration": 104,
    "start_time": "2022-12-08T19:31:26.701Z"
   },
   {
    "duration": 5649,
    "start_time": "2022-12-08T19:31:38.644Z"
   },
   {
    "duration": 13233,
    "start_time": "2022-12-08T19:34:29.880Z"
   },
   {
    "duration": 13076,
    "start_time": "2022-12-08T19:34:59.968Z"
   },
   {
    "duration": 28465,
    "start_time": "2022-12-08T19:36:21.616Z"
   },
   {
    "duration": 12,
    "start_time": "2022-12-08T20:03:46.733Z"
   },
   {
    "duration": 12119,
    "start_time": "2022-12-08T20:03:49.897Z"
   },
   {
    "duration": 727,
    "start_time": "2022-12-08T20:04:26.001Z"
   },
   {
    "duration": 25070,
    "start_time": "2022-12-08T20:04:26.731Z"
   },
   {
    "duration": 94,
    "start_time": "2022-12-08T20:04:51.803Z"
   },
   {
    "duration": 885,
    "start_time": "2022-12-08T20:04:51.899Z"
   },
   {
    "duration": 101,
    "start_time": "2022-12-08T20:04:52.787Z"
   },
   {
    "duration": 17,
    "start_time": "2022-12-08T20:04:52.890Z"
   },
   {
    "duration": 4405,
    "start_time": "2022-12-08T20:04:52.909Z"
   },
   {
    "duration": 71,
    "start_time": "2022-12-08T20:04:57.316Z"
   },
   {
    "duration": 8495,
    "start_time": "2022-12-08T20:04:57.390Z"
   },
   {
    "duration": 5403,
    "start_time": "2022-12-08T20:05:05.887Z"
   },
   {
    "duration": 100,
    "start_time": "2022-12-08T20:05:11.292Z"
   },
   {
    "duration": 4283,
    "start_time": "2022-12-08T20:05:11.394Z"
   },
   {
    "duration": 4,
    "start_time": "2022-12-08T20:05:15.680Z"
   },
   {
    "duration": 8494,
    "start_time": "2022-12-08T20:05:15.688Z"
   },
   {
    "duration": 1021,
    "start_time": "2022-12-08T20:05:24.184Z"
   },
   {
    "duration": 104,
    "start_time": "2022-12-08T20:05:25.207Z"
   },
   {
    "duration": 4,
    "start_time": "2022-12-08T20:05:25.312Z"
   },
   {
    "duration": 386,
    "start_time": "2022-12-08T20:05:25.318Z"
   },
   {
    "duration": 0,
    "start_time": "2022-12-08T20:05:25.706Z"
   },
   {
    "duration": 0,
    "start_time": "2022-12-08T20:05:25.708Z"
   },
   {
    "duration": 0,
    "start_time": "2022-12-08T20:05:25.709Z"
   },
   {
    "duration": 0,
    "start_time": "2022-12-08T20:05:25.710Z"
   },
   {
    "duration": 0,
    "start_time": "2022-12-08T20:05:25.711Z"
   },
   {
    "duration": 0,
    "start_time": "2022-12-08T20:05:25.779Z"
   },
   {
    "duration": 0,
    "start_time": "2022-12-08T20:05:25.780Z"
   },
   {
    "duration": 0,
    "start_time": "2022-12-08T20:05:25.782Z"
   },
   {
    "duration": 0,
    "start_time": "2022-12-08T20:05:25.783Z"
   },
   {
    "duration": 754,
    "start_time": "2022-12-08T20:06:06.164Z"
   },
   {
    "duration": 25692,
    "start_time": "2022-12-08T20:06:06.920Z"
   },
   {
    "duration": 77,
    "start_time": "2022-12-08T20:06:32.614Z"
   },
   {
    "duration": 804,
    "start_time": "2022-12-08T20:06:32.695Z"
   },
   {
    "duration": 90,
    "start_time": "2022-12-08T20:06:33.500Z"
   },
   {
    "duration": 20,
    "start_time": "2022-12-08T20:06:33.592Z"
   },
   {
    "duration": 4391,
    "start_time": "2022-12-08T20:06:33.614Z"
   },
   {
    "duration": 71,
    "start_time": "2022-12-08T20:06:38.007Z"
   },
   {
    "duration": 8217,
    "start_time": "2022-12-08T20:06:38.080Z"
   },
   {
    "duration": 5183,
    "start_time": "2022-12-08T20:06:46.301Z"
   },
   {
    "duration": 31,
    "start_time": "2022-12-08T20:06:51.486Z"
   },
   {
    "duration": 4310,
    "start_time": "2022-12-08T20:06:51.579Z"
   },
   {
    "duration": 9,
    "start_time": "2022-12-08T20:06:55.891Z"
   },
   {
    "duration": 7910,
    "start_time": "2022-12-08T20:06:55.902Z"
   },
   {
    "duration": 987,
    "start_time": "2022-12-08T20:07:03.814Z"
   },
   {
    "duration": 111,
    "start_time": "2022-12-08T20:07:04.803Z"
   },
   {
    "duration": 64,
    "start_time": "2022-12-08T20:07:04.915Z"
   },
   {
    "duration": 102,
    "start_time": "2022-12-08T20:07:04.981Z"
   },
   {
    "duration": 6196,
    "start_time": "2022-12-08T20:07:05.086Z"
   },
   {
    "duration": 5,
    "start_time": "2022-12-08T20:07:11.283Z"
   },
   {
    "duration": 1527,
    "start_time": "2022-12-08T20:07:11.289Z"
   },
   {
    "duration": 17570,
    "start_time": "2022-12-08T20:07:12.818Z"
   },
   {
    "duration": 89,
    "start_time": "2022-12-08T20:07:30.390Z"
   },
   {
    "duration": 25204,
    "start_time": "2022-12-08T20:07:30.481Z"
   },
   {
    "duration": 715,
    "start_time": "2022-12-08T20:07:55.687Z"
   },
   {
    "duration": 18101,
    "start_time": "2022-12-08T20:07:56.404Z"
   },
   {
    "duration": 29172,
    "start_time": "2022-12-08T20:08:14.508Z"
   },
   {
    "duration": 714,
    "start_time": "2022-12-08T20:11:46.508Z"
   },
   {
    "duration": 25982,
    "start_time": "2022-12-08T20:11:47.224Z"
   },
   {
    "duration": 86,
    "start_time": "2022-12-08T20:12:13.208Z"
   },
   {
    "duration": 903,
    "start_time": "2022-12-08T20:12:13.300Z"
   },
   {
    "duration": 101,
    "start_time": "2022-12-08T20:12:14.204Z"
   },
   {
    "duration": 2,
    "start_time": "2022-12-08T20:12:14.307Z"
   },
   {
    "duration": 5086,
    "start_time": "2022-12-08T20:12:14.311Z"
   },
   {
    "duration": 10,
    "start_time": "2022-12-08T20:12:19.399Z"
   },
   {
    "duration": 8768,
    "start_time": "2022-12-08T20:12:19.411Z"
   },
   {
    "duration": 5206,
    "start_time": "2022-12-08T20:12:28.182Z"
   },
   {
    "duration": 99,
    "start_time": "2022-12-08T20:12:33.390Z"
   },
   {
    "duration": 4708,
    "start_time": "2022-12-08T20:12:33.492Z"
   },
   {
    "duration": 5,
    "start_time": "2022-12-08T20:12:38.202Z"
   },
   {
    "duration": 9207,
    "start_time": "2022-12-08T20:12:38.210Z"
   },
   {
    "duration": 1171,
    "start_time": "2022-12-08T20:12:47.419Z"
   },
   {
    "duration": 118,
    "start_time": "2022-12-08T20:12:48.592Z"
   },
   {
    "duration": 68,
    "start_time": "2022-12-08T20:12:48.712Z"
   },
   {
    "duration": 37,
    "start_time": "2022-12-08T20:12:48.782Z"
   },
   {
    "duration": 5610,
    "start_time": "2022-12-08T20:12:48.878Z"
   },
   {
    "duration": 5,
    "start_time": "2022-12-08T20:12:54.490Z"
   },
   {
    "duration": 2096,
    "start_time": "2022-12-08T20:12:54.497Z"
   },
   {
    "duration": 17114,
    "start_time": "2022-12-08T20:12:56.596Z"
   },
   {
    "duration": 82,
    "start_time": "2022-12-08T20:13:13.712Z"
   },
   {
    "duration": 21915,
    "start_time": "2022-12-08T20:13:13.796Z"
   },
   {
    "duration": 875,
    "start_time": "2022-12-08T20:13:35.714Z"
   },
   {
    "duration": 15432,
    "start_time": "2022-12-08T20:13:36.592Z"
   },
   {
    "duration": 28483,
    "start_time": "2022-12-08T20:13:52.025Z"
   },
   {
    "duration": 705,
    "start_time": "2022-12-08T20:35:11.418Z"
   },
   {
    "duration": 24554,
    "start_time": "2022-12-08T20:35:12.125Z"
   },
   {
    "duration": 17,
    "start_time": "2022-12-08T20:35:36.681Z"
   },
   {
    "duration": 885,
    "start_time": "2022-12-08T20:35:36.703Z"
   },
   {
    "duration": 106,
    "start_time": "2022-12-08T20:35:37.590Z"
   },
   {
    "duration": 4786,
    "start_time": "2022-12-08T20:35:37.699Z"
   },
   {
    "duration": 11,
    "start_time": "2022-12-08T20:35:42.487Z"
   },
   {
    "duration": 8583,
    "start_time": "2022-12-08T20:35:42.501Z"
   },
   {
    "duration": 5007,
    "start_time": "2022-12-08T20:35:51.086Z"
   },
   {
    "duration": 89,
    "start_time": "2022-12-08T20:35:56.097Z"
   },
   {
    "duration": 4819,
    "start_time": "2022-12-08T20:35:56.188Z"
   },
   {
    "duration": 69,
    "start_time": "2022-12-08T20:36:01.009Z"
   },
   {
    "duration": 7824,
    "start_time": "2022-12-08T20:36:01.080Z"
   },
   {
    "duration": 1102,
    "start_time": "2022-12-08T20:36:08.905Z"
   },
   {
    "duration": 173,
    "start_time": "2022-12-08T20:36:10.009Z"
   },
   {
    "duration": 4,
    "start_time": "2022-12-08T20:36:10.185Z"
   },
   {
    "duration": 105,
    "start_time": "2022-12-08T20:36:10.191Z"
   },
   {
    "duration": 5694,
    "start_time": "2022-12-08T20:36:10.299Z"
   },
   {
    "duration": 4,
    "start_time": "2022-12-08T20:36:15.996Z"
   },
   {
    "duration": 2092,
    "start_time": "2022-12-08T20:36:16.002Z"
   },
   {
    "duration": 16806,
    "start_time": "2022-12-08T20:36:18.095Z"
   },
   {
    "duration": 79,
    "start_time": "2022-12-08T20:36:34.904Z"
   },
   {
    "duration": 22917,
    "start_time": "2022-12-08T20:36:34.985Z"
   },
   {
    "duration": 901,
    "start_time": "2022-12-08T20:36:57.905Z"
   },
   {
    "duration": 15636,
    "start_time": "2022-12-08T20:36:58.808Z"
   },
   {
    "duration": 35,
    "start_time": "2022-12-08T20:37:14.446Z"
   },
   {
    "duration": 26245,
    "start_time": "2022-12-08T20:37:14.483Z"
   },
   {
    "duration": 8,
    "start_time": "2022-12-08T20:37:40.731Z"
   },
   {
    "duration": 37,
    "start_time": "2022-12-08T20:37:40.741Z"
   },
   {
    "duration": 9,
    "start_time": "2022-12-08T20:38:04.342Z"
   },
   {
    "duration": 9,
    "start_time": "2022-12-08T20:38:25.281Z"
   },
   {
    "duration": 697,
    "start_time": "2022-12-08T20:44:14.724Z"
   },
   {
    "duration": 25491,
    "start_time": "2022-12-08T20:44:15.423Z"
   },
   {
    "duration": 81,
    "start_time": "2022-12-08T20:44:40.916Z"
   },
   {
    "duration": 883,
    "start_time": "2022-12-08T20:44:41.002Z"
   },
   {
    "duration": 101,
    "start_time": "2022-12-08T20:44:41.887Z"
   },
   {
    "duration": 4326,
    "start_time": "2022-12-08T20:44:41.989Z"
   },
   {
    "duration": 66,
    "start_time": "2022-12-08T20:44:46.317Z"
   },
   {
    "duration": 8016,
    "start_time": "2022-12-08T20:44:46.384Z"
   },
   {
    "duration": 5180,
    "start_time": "2022-12-08T20:44:54.402Z"
   },
   {
    "duration": 92,
    "start_time": "2022-12-08T20:44:59.586Z"
   },
   {
    "duration": 4508,
    "start_time": "2022-12-08T20:44:59.680Z"
   },
   {
    "duration": 3,
    "start_time": "2022-12-08T20:45:04.190Z"
   },
   {
    "duration": 8419,
    "start_time": "2022-12-08T20:45:04.195Z"
   },
   {
    "duration": 1172,
    "start_time": "2022-12-08T20:45:12.615Z"
   },
   {
    "duration": 108,
    "start_time": "2022-12-08T20:45:13.789Z"
   },
   {
    "duration": 4,
    "start_time": "2022-12-08T20:45:13.899Z"
   },
   {
    "duration": 103,
    "start_time": "2022-12-08T20:45:13.905Z"
   },
   {
    "duration": 5597,
    "start_time": "2022-12-08T20:45:14.010Z"
   },
   {
    "duration": 3,
    "start_time": "2022-12-08T20:45:19.609Z"
   },
   {
    "duration": 1771,
    "start_time": "2022-12-08T20:45:19.614Z"
   },
   {
    "duration": 16323,
    "start_time": "2022-12-08T20:45:21.387Z"
   },
   {
    "duration": 74,
    "start_time": "2022-12-08T20:45:37.712Z"
   },
   {
    "duration": 26630,
    "start_time": "2022-12-08T20:45:37.788Z"
   },
   {
    "duration": 899,
    "start_time": "2022-12-08T20:46:04.478Z"
   },
   {
    "duration": 23800,
    "start_time": "2022-12-08T20:46:05.379Z"
   },
   {
    "duration": 5,
    "start_time": "2022-12-08T20:46:29.181Z"
   },
   {
    "duration": 34126,
    "start_time": "2022-12-08T20:46:29.188Z"
   },
   {
    "duration": 8,
    "start_time": "2022-12-08T20:47:03.317Z"
   },
   {
    "duration": 19,
    "start_time": "2022-12-08T20:47:03.326Z"
   },
   {
    "duration": 50,
    "start_time": "2022-12-09T10:17:16.811Z"
   },
   {
    "duration": 752,
    "start_time": "2022-12-09T10:17:57.551Z"
   },
   {
    "duration": 25365,
    "start_time": "2022-12-09T10:17:58.305Z"
   },
   {
    "duration": 82,
    "start_time": "2022-12-09T10:18:23.673Z"
   },
   {
    "duration": 810,
    "start_time": "2022-12-09T10:18:23.757Z"
   },
   {
    "duration": 103,
    "start_time": "2022-12-09T10:18:24.569Z"
   },
   {
    "duration": 4513,
    "start_time": "2022-12-09T10:18:24.673Z"
   },
   {
    "duration": 67,
    "start_time": "2022-12-09T10:18:29.188Z"
   },
   {
    "duration": 7704,
    "start_time": "2022-12-09T10:18:29.257Z"
   },
   {
    "duration": 3,
    "start_time": "2022-12-09T10:21:25.623Z"
   },
   {
    "duration": 45,
    "start_time": "2022-12-09T10:21:28.244Z"
   },
   {
    "duration": 6326,
    "start_time": "2022-12-09T10:21:40.362Z"
   },
   {
    "duration": 4205,
    "start_time": "2022-12-09T10:23:37.573Z"
   },
   {
    "duration": 5,
    "start_time": "2022-12-09T10:23:48.467Z"
   },
   {
    "duration": 18,
    "start_time": "2022-12-09T10:24:56.314Z"
   },
   {
    "duration": 4181,
    "start_time": "2022-12-09T10:25:16.820Z"
   },
   {
    "duration": 7,
    "start_time": "2022-12-09T10:25:53.394Z"
   },
   {
    "duration": 7,
    "start_time": "2022-12-09T10:26:47.631Z"
   },
   {
    "duration": 4652,
    "start_time": "2022-12-09T10:26:57.592Z"
   },
   {
    "duration": 3875,
    "start_time": "2022-12-09T10:27:29.614Z"
   },
   {
    "duration": 5,
    "start_time": "2022-12-09T10:27:43.605Z"
   },
   {
    "duration": 3791,
    "start_time": "2022-12-09T10:27:47.678Z"
   },
   {
    "duration": 28,
    "start_time": "2022-12-09T10:33:28.022Z"
   },
   {
    "duration": 3375,
    "start_time": "2022-12-09T10:33:34.727Z"
   },
   {
    "duration": 8523,
    "start_time": "2022-12-09T10:38:02.233Z"
   },
   {
    "duration": 2740,
    "start_time": "2022-12-09T10:39:46.047Z"
   },
   {
    "duration": 3,
    "start_time": "2022-12-09T10:41:29.607Z"
   },
   {
    "duration": 6527,
    "start_time": "2022-12-09T10:41:32.533Z"
   },
   {
    "duration": 98,
    "start_time": "2022-12-09T10:46:33.357Z"
   },
   {
    "duration": 3,
    "start_time": "2022-12-09T10:46:55.667Z"
   },
   {
    "duration": 412,
    "start_time": "2022-12-09T10:46:55.673Z"
   },
   {
    "duration": 4,
    "start_time": "2022-12-09T10:46:56.087Z"
   },
   {
    "duration": 201,
    "start_time": "2022-12-09T10:46:56.093Z"
   },
   {
    "duration": 10,
    "start_time": "2022-12-09T10:46:56.300Z"
   },
   {
    "duration": 1168,
    "start_time": "2022-12-09T10:46:56.312Z"
   },
   {
    "duration": 5,
    "start_time": "2022-12-09T10:46:57.481Z"
   },
   {
    "duration": 2792,
    "start_time": "2022-12-09T10:46:57.488Z"
   },
   {
    "duration": 2535,
    "start_time": "2022-12-09T10:47:00.282Z"
   },
   {
    "duration": 17,
    "start_time": "2022-12-09T10:47:02.855Z"
   },
   {
    "duration": 2887,
    "start_time": "2022-12-09T10:47:02.874Z"
   },
   {
    "duration": 5413,
    "start_time": "2022-12-09T10:47:05.763Z"
   },
   {
    "duration": 3,
    "start_time": "2022-12-09T10:47:11.178Z"
   },
   {
    "duration": 8524,
    "start_time": "2022-12-09T10:47:14.871Z"
   },
   {
    "duration": 100,
    "start_time": "2022-12-09T10:51:04.414Z"
   },
   {
    "duration": 4,
    "start_time": "2022-12-09T10:51:17.277Z"
   },
   {
    "duration": 405,
    "start_time": "2022-12-09T10:51:17.283Z"
   },
   {
    "duration": 4,
    "start_time": "2022-12-09T10:51:17.690Z"
   },
   {
    "duration": 164,
    "start_time": "2022-12-09T10:51:17.696Z"
   },
   {
    "duration": 9,
    "start_time": "2022-12-09T10:51:17.861Z"
   },
   {
    "duration": 909,
    "start_time": "2022-12-09T10:51:17.872Z"
   },
   {
    "duration": 5,
    "start_time": "2022-12-09T10:51:18.783Z"
   },
   {
    "duration": 2865,
    "start_time": "2022-12-09T10:51:18.790Z"
   },
   {
    "duration": 1955,
    "start_time": "2022-12-09T10:51:21.657Z"
   },
   {
    "duration": 16,
    "start_time": "2022-12-09T10:51:23.654Z"
   },
   {
    "duration": 2110,
    "start_time": "2022-12-09T10:51:23.672Z"
   },
   {
    "duration": 4413,
    "start_time": "2022-12-09T10:51:25.784Z"
   },
   {
    "duration": 3,
    "start_time": "2022-12-09T10:51:30.199Z"
   },
   {
    "duration": 3607,
    "start_time": "2022-12-09T10:51:34.148Z"
   },
   {
    "duration": 1051,
    "start_time": "2022-12-09T10:52:31.213Z"
   },
   {
    "duration": 4,
    "start_time": "2022-12-09T10:52:58.788Z"
   },
   {
    "duration": 292,
    "start_time": "2022-12-09T10:52:58.793Z"
   },
   {
    "duration": 4,
    "start_time": "2022-12-09T10:52:59.086Z"
   },
   {
    "duration": 105,
    "start_time": "2022-12-09T10:52:59.091Z"
   },
   {
    "duration": 10,
    "start_time": "2022-12-09T10:52:59.198Z"
   },
   {
    "duration": 563,
    "start_time": "2022-12-09T10:52:59.210Z"
   },
   {
    "duration": 4,
    "start_time": "2022-12-09T10:52:59.775Z"
   },
   {
    "duration": 2317,
    "start_time": "2022-12-09T10:52:59.781Z"
   },
   {
    "duration": 2203,
    "start_time": "2022-12-09T10:53:02.099Z"
   },
   {
    "duration": 64,
    "start_time": "2022-12-09T10:53:04.304Z"
   },
   {
    "duration": 2118,
    "start_time": "2022-12-09T10:53:04.370Z"
   },
   {
    "duration": 5512,
    "start_time": "2022-12-09T10:53:06.490Z"
   },
   {
    "duration": 3,
    "start_time": "2022-12-09T10:53:12.003Z"
   },
   {
    "duration": 3523,
    "start_time": "2022-12-09T10:53:12.008Z"
   },
   {
    "duration": 576,
    "start_time": "2022-12-09T10:53:15.533Z"
   },
   {
    "duration": 70,
    "start_time": "2022-12-09T11:05:39.600Z"
   },
   {
    "duration": 4,
    "start_time": "2022-12-09T11:05:41.520Z"
   },
   {
    "duration": 49,
    "start_time": "2022-12-09T11:07:15.769Z"
   },
   {
    "duration": 5454,
    "start_time": "2022-12-09T11:07:20.918Z"
   },
   {
    "duration": 5,
    "start_time": "2022-12-09T11:07:28.927Z"
   },
   {
    "duration": 1398,
    "start_time": "2022-12-09T11:11:01.779Z"
   },
   {
    "duration": 21,
    "start_time": "2022-12-09T11:11:16.944Z"
   },
   {
    "duration": 12330,
    "start_time": "2022-12-09T11:15:27.748Z"
   },
   {
    "duration": 620,
    "start_time": "2022-12-09T11:15:41.962Z"
   },
   {
    "duration": 11942,
    "start_time": "2022-12-09T11:15:50.197Z"
   },
   {
    "duration": 5,
    "start_time": "2022-12-09T11:16:04.149Z"
   },
   {
    "duration": 17065,
    "start_time": "2022-12-09T11:16:07.448Z"
   },
   {
    "duration": 8,
    "start_time": "2022-12-09T11:16:27.870Z"
   },
   {
    "duration": 657,
    "start_time": "2022-12-09T11:16:30.842Z"
   },
   {
    "duration": 8,
    "start_time": "2022-12-09T11:16:35.345Z"
   },
   {
    "duration": 703,
    "start_time": "2022-12-09T11:17:50.495Z"
   },
   {
    "duration": 27480,
    "start_time": "2022-12-09T11:17:51.200Z"
   },
   {
    "duration": 73,
    "start_time": "2022-12-09T11:18:18.684Z"
   },
   {
    "duration": 1004,
    "start_time": "2022-12-09T11:18:18.763Z"
   },
   {
    "duration": 107,
    "start_time": "2022-12-09T11:18:19.769Z"
   },
   {
    "duration": 5408,
    "start_time": "2022-12-09T11:18:19.878Z"
   },
   {
    "duration": 67,
    "start_time": "2022-12-09T11:18:25.288Z"
   },
   {
    "duration": 9030,
    "start_time": "2022-12-09T11:18:25.358Z"
   },
   {
    "duration": 7146,
    "start_time": "2022-12-09T11:18:34.455Z"
   },
   {
    "duration": 93,
    "start_time": "2022-12-09T11:18:41.676Z"
   },
   {
    "duration": 5018,
    "start_time": "2022-12-09T11:18:41.772Z"
   },
   {
    "duration": 11169,
    "start_time": "2022-12-09T11:18:46.792Z"
   },
   {
    "duration": 7,
    "start_time": "2022-12-09T11:18:57.963Z"
   },
   {
    "duration": 10290,
    "start_time": "2022-12-09T11:18:57.972Z"
   },
   {
    "duration": 1408,
    "start_time": "2022-12-09T11:19:08.269Z"
   },
   {
    "duration": 200,
    "start_time": "2022-12-09T11:19:09.679Z"
   },
   {
    "duration": 4,
    "start_time": "2022-12-09T11:19:09.882Z"
   },
   {
    "duration": 173,
    "start_time": "2022-12-09T11:19:09.888Z"
   },
   {
    "duration": 7420,
    "start_time": "2022-12-09T11:19:10.064Z"
   },
   {
    "duration": 6,
    "start_time": "2022-12-09T11:19:17.487Z"
   },
   {
    "duration": 2333,
    "start_time": "2022-12-09T11:19:17.557Z"
   },
   {
    "duration": 75,
    "start_time": "2022-12-09T11:19:19.892Z"
   },
   {
    "duration": 23786,
    "start_time": "2022-12-09T11:19:19.972Z"
   },
   {
    "duration": 821,
    "start_time": "2022-12-09T11:19:43.761Z"
   },
   {
    "duration": 17592,
    "start_time": "2022-12-09T11:19:44.584Z"
   },
   {
    "duration": 6,
    "start_time": "2022-12-09T11:20:02.178Z"
   },
   {
    "duration": 26136,
    "start_time": "2022-12-09T11:20:02.186Z"
   },
   {
    "duration": 7,
    "start_time": "2022-12-09T11:20:28.357Z"
   },
   {
    "duration": 630,
    "start_time": "2022-12-09T11:20:28.366Z"
   },
   {
    "duration": 13,
    "start_time": "2022-12-09T11:20:28.998Z"
   }
  ],
  "colab": {
   "name": "PySparkSprint.ipynb",
   "provenance": []
  },
  "kernelspec": {
   "display_name": "Python 3 (ipykernel)",
   "language": "python",
   "name": "python3"
  },
  "language_info": {
   "codemirror_mode": {
    "name": "ipython",
    "version": 3
   },
   "file_extension": ".py",
   "mimetype": "text/x-python",
   "name": "python",
   "nbconvert_exporter": "python",
   "pygments_lexer": "ipython3",
   "version": "3.10.11"
  },
  "toc": {
   "base_numbering": 1,
   "nav_menu": {},
   "number_sections": true,
   "sideBar": true,
   "skip_h1_title": true,
   "title_cell": "Table of Contents",
   "title_sidebar": "Contents",
   "toc_cell": false,
   "toc_position": {},
   "toc_section_display": true,
   "toc_window_display": false
  }
 },
 "nbformat": 4,
 "nbformat_minor": 5
}
