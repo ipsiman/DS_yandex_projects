{
 "cells": [
  {
   "cell_type": "markdown",
   "metadata": {},
   "source": [
    "# Исследование данных о российском кинопрокате\n",
    "Заказчик этого исследования — Министерство культуры Российской Федерации.<br>\n",
    "Нужно изучить рынок российского кинопроката и выявить текущие тренды. Уделить внимание фильмам, которые получили государственную поддержку. Попробовать ответить на вопрос, насколько такие фильмы интересны зрителю.\n",
    "Будем работать с данными, опубликованными на портале открытых данных Министерства культуры. Набор данных содержит информацию о прокатных удостоверениях, сборах и государственной поддержке фильмов, а также информацию с сайта КиноПоиск."
   ]
  },
  {
   "cell_type": "markdown",
   "metadata": {
    "id": "3bSlkCsbgFyL"
   },
   "source": [
    "## Изучение файлов с данными и объединение их в один датафрейм. \n",
    "\n"
   ]
  },
  {
   "cell_type": "code",
   "execution_count": 1,
   "metadata": {
    "id": "dw87FlzMgFyM"
   },
   "outputs": [],
   "source": [
    "import pandas as pd\n",
    "import numpy as np\n",
    "import matplotlib.pyplot as plt\n",
    "import seaborn as sns"
   ]
  },
  {
   "cell_type": "code",
   "execution_count": 2,
   "metadata": {},
   "outputs": [
    {
     "name": "stdout",
     "output_type": "stream",
     "text": [
      "<class 'pandas.core.frame.DataFrame'>\n",
      "RangeIndex: 7486 entries, 0 to 7485\n",
      "Data columns (total 15 columns):\n",
      " #   Column                 Non-Null Count  Dtype  \n",
      "---  ------                 --------------  -----  \n",
      " 0   title                  7486 non-null   object \n",
      " 1   puNumber               7486 non-null   object \n",
      " 2   show_start_date        7486 non-null   object \n",
      " 3   type                   7486 non-null   object \n",
      " 4   film_studio            7468 non-null   object \n",
      " 5   production_country     7484 non-null   object \n",
      " 6   director               7477 non-null   object \n",
      " 7   producer               6918 non-null   object \n",
      " 8   age_restriction        7486 non-null   object \n",
      " 9   refundable_support     332 non-null    float64\n",
      " 10  nonrefundable_support  332 non-null    float64\n",
      " 11  budget                 332 non-null    float64\n",
      " 12  financing_source       332 non-null    object \n",
      " 13  ratings                6519 non-null   object \n",
      " 14  genres                 6510 non-null   object \n",
      "dtypes: float64(3), object(12)\n",
      "memory usage: 877.4+ KB\n"
     ]
    },
    {
     "data": {
      "text/html": [
       "<div>\n",
       "<style scoped>\n",
       "    .dataframe tbody tr th:only-of-type {\n",
       "        vertical-align: middle;\n",
       "    }\n",
       "\n",
       "    .dataframe tbody tr th {\n",
       "        vertical-align: top;\n",
       "    }\n",
       "\n",
       "    .dataframe thead th {\n",
       "        text-align: right;\n",
       "    }\n",
       "</style>\n",
       "<table border=\"1\" class=\"dataframe\">\n",
       "  <thead>\n",
       "    <tr style=\"text-align: right;\">\n",
       "      <th></th>\n",
       "      <th>title</th>\n",
       "      <th>puNumber</th>\n",
       "      <th>show_start_date</th>\n",
       "      <th>type</th>\n",
       "      <th>film_studio</th>\n",
       "      <th>production_country</th>\n",
       "      <th>director</th>\n",
       "      <th>producer</th>\n",
       "      <th>age_restriction</th>\n",
       "      <th>refundable_support</th>\n",
       "      <th>nonrefundable_support</th>\n",
       "      <th>budget</th>\n",
       "      <th>financing_source</th>\n",
       "      <th>ratings</th>\n",
       "      <th>genres</th>\n",
       "    </tr>\n",
       "  </thead>\n",
       "  <tbody>\n",
       "    <tr>\n",
       "      <th>0</th>\n",
       "      <td>Открытый простор</td>\n",
       "      <td>221048915</td>\n",
       "      <td>2015-11-27T12:00:00.000Z</td>\n",
       "      <td>Художественный</td>\n",
       "      <td>Тачстоун Пикчерз, Кобальт Пикчерз, Бикон Пикче...</td>\n",
       "      <td>США</td>\n",
       "      <td>Кевин Костнер</td>\n",
       "      <td>Дэвид Валдес, Кевин Костнер, Джейк Эбертс</td>\n",
       "      <td>«18+» - запрещено для детей</td>\n",
       "      <td>NaN</td>\n",
       "      <td>NaN</td>\n",
       "      <td>NaN</td>\n",
       "      <td>NaN</td>\n",
       "      <td>7.2</td>\n",
       "      <td>боевик,драма,мелодрама</td>\n",
       "    </tr>\n",
       "    <tr>\n",
       "      <th>1</th>\n",
       "      <td>Особо важное задание</td>\n",
       "      <td>111013716</td>\n",
       "      <td>2016-09-13T12:00:00.000Z</td>\n",
       "      <td>Художественный</td>\n",
       "      <td>Киностудия \"Мосфильм\"</td>\n",
       "      <td>СССР</td>\n",
       "      <td>Е.Матвеев</td>\n",
       "      <td>NaN</td>\n",
       "      <td>«6+» - для детей старше 6 лет</td>\n",
       "      <td>NaN</td>\n",
       "      <td>NaN</td>\n",
       "      <td>NaN</td>\n",
       "      <td>NaN</td>\n",
       "      <td>6.6</td>\n",
       "      <td>драма,военный</td>\n",
       "    </tr>\n",
       "    <tr>\n",
       "      <th>2</th>\n",
       "      <td>Особо опасен</td>\n",
       "      <td>221038416</td>\n",
       "      <td>2016-10-10T12:00:00.000Z</td>\n",
       "      <td>Художественный</td>\n",
       "      <td>Юниверсал Пикчерз, Кикстарт Продакшнз, Марк Пл...</td>\n",
       "      <td>США</td>\n",
       "      <td>Тимур Бекмамбетов</td>\n",
       "      <td>Джим Лемли, Джейсон Нетер, Марк Е.Платт, Яйн Смит</td>\n",
       "      <td>«18+» - запрещено для детей</td>\n",
       "      <td>NaN</td>\n",
       "      <td>NaN</td>\n",
       "      <td>NaN</td>\n",
       "      <td>NaN</td>\n",
       "      <td>6.8</td>\n",
       "      <td>фантастика,боевик,триллер</td>\n",
       "    </tr>\n",
       "  </tbody>\n",
       "</table>\n",
       "</div>"
      ],
      "text/plain": [
       "                  title   puNumber           show_start_date            type  \\\n",
       "0      Открытый простор  221048915  2015-11-27T12:00:00.000Z  Художественный   \n",
       "1  Особо важное задание  111013716  2016-09-13T12:00:00.000Z  Художественный   \n",
       "2          Особо опасен  221038416  2016-10-10T12:00:00.000Z  Художественный   \n",
       "\n",
       "                                         film_studio production_country  \\\n",
       "0  Тачстоун Пикчерз, Кобальт Пикчерз, Бикон Пикче...                США   \n",
       "1                              Киностудия \"Мосфильм\"               СССР   \n",
       "2  Юниверсал Пикчерз, Кикстарт Продакшнз, Марк Пл...                США   \n",
       "\n",
       "            director                                           producer  \\\n",
       "0      Кевин Костнер          Дэвид Валдес, Кевин Костнер, Джейк Эбертс   \n",
       "1          Е.Матвеев                                                NaN   \n",
       "2  Тимур Бекмамбетов  Джим Лемли, Джейсон Нетер, Марк Е.Платт, Яйн Смит   \n",
       "\n",
       "                 age_restriction  refundable_support  nonrefundable_support  \\\n",
       "0    «18+» - запрещено для детей                 NaN                    NaN   \n",
       "1  «6+» - для детей старше 6 лет                 NaN                    NaN   \n",
       "2    «18+» - запрещено для детей                 NaN                    NaN   \n",
       "\n",
       "   budget financing_source ratings                     genres  \n",
       "0     NaN              NaN     7.2     боевик,драма,мелодрама  \n",
       "1     NaN              NaN     6.6              драма,военный  \n",
       "2     NaN              NaN     6.8  фантастика,боевик,триллер  "
      ]
     },
     "metadata": {},
     "output_type": "display_data"
    }
   ],
   "source": [
    "df_movies = pd.read_csv('/datasets/mkrf_movies.csv')\n",
    "df_movies.info()\n",
    "display(df_movies.head(3))"
   ]
  },
  {
   "cell_type": "code",
   "execution_count": 3,
   "metadata": {},
   "outputs": [
    {
     "name": "stdout",
     "output_type": "stream",
     "text": [
      "<class 'pandas.core.frame.DataFrame'>\n",
      "RangeIndex: 3158 entries, 0 to 3157\n",
      "Data columns (total 2 columns):\n",
      " #   Column      Non-Null Count  Dtype  \n",
      "---  ------      --------------  -----  \n",
      " 0   puNumber    3158 non-null   int64  \n",
      " 1   box_office  3158 non-null   float64\n",
      "dtypes: float64(1), int64(1)\n",
      "memory usage: 49.5 KB\n"
     ]
    },
    {
     "data": {
      "text/html": [
       "<div>\n",
       "<style scoped>\n",
       "    .dataframe tbody tr th:only-of-type {\n",
       "        vertical-align: middle;\n",
       "    }\n",
       "\n",
       "    .dataframe tbody tr th {\n",
       "        vertical-align: top;\n",
       "    }\n",
       "\n",
       "    .dataframe thead th {\n",
       "        text-align: right;\n",
       "    }\n",
       "</style>\n",
       "<table border=\"1\" class=\"dataframe\">\n",
       "  <thead>\n",
       "    <tr style=\"text-align: right;\">\n",
       "      <th></th>\n",
       "      <th>puNumber</th>\n",
       "      <th>box_office</th>\n",
       "    </tr>\n",
       "  </thead>\n",
       "  <tbody>\n",
       "    <tr>\n",
       "      <th>0</th>\n",
       "      <td>111000113</td>\n",
       "      <td>2450.0</td>\n",
       "    </tr>\n",
       "    <tr>\n",
       "      <th>1</th>\n",
       "      <td>111000115</td>\n",
       "      <td>61040.0</td>\n",
       "    </tr>\n",
       "    <tr>\n",
       "      <th>2</th>\n",
       "      <td>111000116</td>\n",
       "      <td>153030013.4</td>\n",
       "    </tr>\n",
       "  </tbody>\n",
       "</table>\n",
       "</div>"
      ],
      "text/plain": [
       "    puNumber   box_office\n",
       "0  111000113       2450.0\n",
       "1  111000115      61040.0\n",
       "2  111000116  153030013.4"
      ]
     },
     "metadata": {},
     "output_type": "display_data"
    }
   ],
   "source": [
    "df_shows = pd.read_csv('/datasets/mkrf_shows.csv')\n",
    "df_shows.info()\n",
    "display(df_shows.head(3))"
   ]
  },
  {
   "cell_type": "markdown",
   "metadata": {},
   "source": [
    "Для объединения таблицы приведем к единому типу данных колонку `puNumber` в первой таблице по которой будем объединять."
   ]
  },
  {
   "cell_type": "markdown",
   "metadata": {},
   "source": [
    "В данных есть не \"числовые\" значения, заменим их все на NaN а потом удалим. Приведем данные к нужному типу."
   ]
  },
  {
   "cell_type": "code",
   "execution_count": 4,
   "metadata": {},
   "outputs": [],
   "source": [
    "df_movies['puNumber'] = pd.to_numeric(df_movies['puNumber'], errors='coerce')"
   ]
  },
  {
   "cell_type": "code",
   "execution_count": 5,
   "metadata": {},
   "outputs": [
    {
     "data": {
      "text/plain": [
       "1"
      ]
     },
     "execution_count": 5,
     "metadata": {},
     "output_type": "execute_result"
    }
   ],
   "source": [
    "df_movies['puNumber'].isna().sum()"
   ]
  },
  {
   "cell_type": "code",
   "execution_count": 6,
   "metadata": {},
   "outputs": [
    {
     "data": {
      "text/plain": [
       "0"
      ]
     },
     "execution_count": 6,
     "metadata": {},
     "output_type": "execute_result"
    }
   ],
   "source": [
    "df_movies.dropna(subset=['puNumber'], inplace=True)\n",
    "df_movies['puNumber'].isna().sum()"
   ]
  },
  {
   "cell_type": "code",
   "execution_count": 7,
   "metadata": {},
   "outputs": [],
   "source": [
    "df_movies['puNumber'] = df_movies['puNumber'].astype('int')"
   ]
  },
  {
   "cell_type": "code",
   "execution_count": 8,
   "metadata": {},
   "outputs": [
    {
     "name": "stdout",
     "output_type": "stream",
     "text": [
      "<class 'pandas.core.frame.DataFrame'>\n",
      "Int64Index: 7485 entries, 0 to 7485\n",
      "Data columns (total 15 columns):\n",
      " #   Column                 Non-Null Count  Dtype  \n",
      "---  ------                 --------------  -----  \n",
      " 0   title                  7485 non-null   object \n",
      " 1   puNumber               7485 non-null   int64  \n",
      " 2   show_start_date        7485 non-null   object \n",
      " 3   type                   7485 non-null   object \n",
      " 4   film_studio            7467 non-null   object \n",
      " 5   production_country     7483 non-null   object \n",
      " 6   director               7476 non-null   object \n",
      " 7   producer               6917 non-null   object \n",
      " 8   age_restriction        7485 non-null   object \n",
      " 9   refundable_support     332 non-null    float64\n",
      " 10  nonrefundable_support  332 non-null    float64\n",
      " 11  budget                 332 non-null    float64\n",
      " 12  financing_source       332 non-null    object \n",
      " 13  ratings                6519 non-null   object \n",
      " 14  genres                 6510 non-null   object \n",
      "dtypes: float64(3), int64(1), object(11)\n",
      "memory usage: 935.6+ KB\n"
     ]
    }
   ],
   "source": [
    "df_movies.info()"
   ]
  },
  {
   "cell_type": "code",
   "execution_count": 9,
   "metadata": {},
   "outputs": [],
   "source": [
    "df = df_movies.merge(df_shows, on='puNumber', how='left')"
   ]
  },
  {
   "cell_type": "code",
   "execution_count": 10,
   "metadata": {},
   "outputs": [
    {
     "name": "stdout",
     "output_type": "stream",
     "text": [
      "<class 'pandas.core.frame.DataFrame'>\n",
      "Int64Index: 7485 entries, 0 to 7484\n",
      "Data columns (total 16 columns):\n",
      " #   Column                 Non-Null Count  Dtype  \n",
      "---  ------                 --------------  -----  \n",
      " 0   title                  7485 non-null   object \n",
      " 1   puNumber               7485 non-null   int64  \n",
      " 2   show_start_date        7485 non-null   object \n",
      " 3   type                   7485 non-null   object \n",
      " 4   film_studio            7467 non-null   object \n",
      " 5   production_country     7483 non-null   object \n",
      " 6   director               7476 non-null   object \n",
      " 7   producer               6917 non-null   object \n",
      " 8   age_restriction        7485 non-null   object \n",
      " 9   refundable_support     332 non-null    float64\n",
      " 10  nonrefundable_support  332 non-null    float64\n",
      " 11  budget                 332 non-null    float64\n",
      " 12  financing_source       332 non-null    object \n",
      " 13  ratings                6519 non-null   object \n",
      " 14  genres                 6510 non-null   object \n",
      " 15  box_office             3158 non-null   float64\n",
      "dtypes: float64(4), int64(1), object(11)\n",
      "memory usage: 994.1+ KB\n"
     ]
    },
    {
     "data": {
      "text/html": [
       "<div>\n",
       "<style scoped>\n",
       "    .dataframe tbody tr th:only-of-type {\n",
       "        vertical-align: middle;\n",
       "    }\n",
       "\n",
       "    .dataframe tbody tr th {\n",
       "        vertical-align: top;\n",
       "    }\n",
       "\n",
       "    .dataframe thead th {\n",
       "        text-align: right;\n",
       "    }\n",
       "</style>\n",
       "<table border=\"1\" class=\"dataframe\">\n",
       "  <thead>\n",
       "    <tr style=\"text-align: right;\">\n",
       "      <th></th>\n",
       "      <th>title</th>\n",
       "      <th>puNumber</th>\n",
       "      <th>show_start_date</th>\n",
       "      <th>type</th>\n",
       "      <th>film_studio</th>\n",
       "      <th>production_country</th>\n",
       "      <th>director</th>\n",
       "      <th>producer</th>\n",
       "      <th>age_restriction</th>\n",
       "      <th>refundable_support</th>\n",
       "      <th>nonrefundable_support</th>\n",
       "      <th>budget</th>\n",
       "      <th>financing_source</th>\n",
       "      <th>ratings</th>\n",
       "      <th>genres</th>\n",
       "      <th>box_office</th>\n",
       "    </tr>\n",
       "  </thead>\n",
       "  <tbody>\n",
       "    <tr>\n",
       "      <th>0</th>\n",
       "      <td>Открытый простор</td>\n",
       "      <td>221048915</td>\n",
       "      <td>2015-11-27T12:00:00.000Z</td>\n",
       "      <td>Художественный</td>\n",
       "      <td>Тачстоун Пикчерз, Кобальт Пикчерз, Бикон Пикче...</td>\n",
       "      <td>США</td>\n",
       "      <td>Кевин Костнер</td>\n",
       "      <td>Дэвид Валдес, Кевин Костнер, Джейк Эбертс</td>\n",
       "      <td>«18+» - запрещено для детей</td>\n",
       "      <td>NaN</td>\n",
       "      <td>NaN</td>\n",
       "      <td>NaN</td>\n",
       "      <td>NaN</td>\n",
       "      <td>7.2</td>\n",
       "      <td>боевик,драма,мелодрама</td>\n",
       "      <td>NaN</td>\n",
       "    </tr>\n",
       "    <tr>\n",
       "      <th>1</th>\n",
       "      <td>Особо важное задание</td>\n",
       "      <td>111013716</td>\n",
       "      <td>2016-09-13T12:00:00.000Z</td>\n",
       "      <td>Художественный</td>\n",
       "      <td>Киностудия \"Мосфильм\"</td>\n",
       "      <td>СССР</td>\n",
       "      <td>Е.Матвеев</td>\n",
       "      <td>NaN</td>\n",
       "      <td>«6+» - для детей старше 6 лет</td>\n",
       "      <td>NaN</td>\n",
       "      <td>NaN</td>\n",
       "      <td>NaN</td>\n",
       "      <td>NaN</td>\n",
       "      <td>6.6</td>\n",
       "      <td>драма,военный</td>\n",
       "      <td>NaN</td>\n",
       "    </tr>\n",
       "    <tr>\n",
       "      <th>2</th>\n",
       "      <td>Особо опасен</td>\n",
       "      <td>221038416</td>\n",
       "      <td>2016-10-10T12:00:00.000Z</td>\n",
       "      <td>Художественный</td>\n",
       "      <td>Юниверсал Пикчерз, Кикстарт Продакшнз, Марк Пл...</td>\n",
       "      <td>США</td>\n",
       "      <td>Тимур Бекмамбетов</td>\n",
       "      <td>Джим Лемли, Джейсон Нетер, Марк Е.Платт, Яйн Смит</td>\n",
       "      <td>«18+» - запрещено для детей</td>\n",
       "      <td>NaN</td>\n",
       "      <td>NaN</td>\n",
       "      <td>NaN</td>\n",
       "      <td>NaN</td>\n",
       "      <td>6.8</td>\n",
       "      <td>фантастика,боевик,триллер</td>\n",
       "      <td>NaN</td>\n",
       "    </tr>\n",
       "  </tbody>\n",
       "</table>\n",
       "</div>"
      ],
      "text/plain": [
       "                  title   puNumber           show_start_date            type  \\\n",
       "0      Открытый простор  221048915  2015-11-27T12:00:00.000Z  Художественный   \n",
       "1  Особо важное задание  111013716  2016-09-13T12:00:00.000Z  Художественный   \n",
       "2          Особо опасен  221038416  2016-10-10T12:00:00.000Z  Художественный   \n",
       "\n",
       "                                         film_studio production_country  \\\n",
       "0  Тачстоун Пикчерз, Кобальт Пикчерз, Бикон Пикче...                США   \n",
       "1                              Киностудия \"Мосфильм\"               СССР   \n",
       "2  Юниверсал Пикчерз, Кикстарт Продакшнз, Марк Пл...                США   \n",
       "\n",
       "            director                                           producer  \\\n",
       "0      Кевин Костнер          Дэвид Валдес, Кевин Костнер, Джейк Эбертс   \n",
       "1          Е.Матвеев                                                NaN   \n",
       "2  Тимур Бекмамбетов  Джим Лемли, Джейсон Нетер, Марк Е.Платт, Яйн Смит   \n",
       "\n",
       "                 age_restriction  refundable_support  nonrefundable_support  \\\n",
       "0    «18+» - запрещено для детей                 NaN                    NaN   \n",
       "1  «6+» - для детей старше 6 лет                 NaN                    NaN   \n",
       "2    «18+» - запрещено для детей                 NaN                    NaN   \n",
       "\n",
       "   budget financing_source ratings                     genres  box_office  \n",
       "0     NaN              NaN     7.2     боевик,драма,мелодрама         NaN  \n",
       "1     NaN              NaN     6.6              драма,военный         NaN  \n",
       "2     NaN              NaN     6.8  фантастика,боевик,триллер         NaN  "
      ]
     },
     "execution_count": 10,
     "metadata": {},
     "output_type": "execute_result"
    }
   ],
   "source": [
    "df.info()\n",
    "df.head(3)"
   ]
  },
  {
   "cell_type": "markdown",
   "metadata": {},
   "source": [
    "Привели столбец в первой таблице к числовому типу и объединили таблицы. Все данные из второй таблицы сохранились."
   ]
  },
  {
   "cell_type": "markdown",
   "metadata": {
    "id": "KLDGpPG0gFyM"
   },
   "source": [
    "## Предобработка данных"
   ]
  },
  {
   "cell_type": "markdown",
   "metadata": {
    "id": "ssWwKXsxgFyO"
   },
   "source": [
    "### Проверка типов данных\n",
    "\n",
    "- Проверим типы данных в датафрейме и преобразуем их там, где это необходимо."
   ]
  },
  {
   "cell_type": "markdown",
   "metadata": {},
   "source": [
    "Приведем дату к нормальному типу."
   ]
  },
  {
   "cell_type": "code",
   "execution_count": 11,
   "metadata": {
    "id": "kVGSplJOgFyO"
   },
   "outputs": [],
   "source": [
    "df['show_start_date'] = pd.to_datetime(df['show_start_date'], format='%Y.%m.%d')"
   ]
  },
  {
   "cell_type": "code",
   "execution_count": 12,
   "metadata": {},
   "outputs": [
    {
     "data": {
      "text/plain": [
       "ratings\n",
       "6.6    312\n",
       "6.7    308\n",
       "6.8    261\n",
       "7.2    252\n",
       "6.2    243\n",
       "      ... \n",
       "1.8      1\n",
       "1.9      1\n",
       "19%      1\n",
       "28%      1\n",
       "1.0      1\n",
       "Length: 94, dtype: int64"
      ]
     },
     "execution_count": 12,
     "metadata": {},
     "output_type": "execute_result"
    }
   ],
   "source": [
    "df.value_counts('ratings')"
   ]
  },
  {
   "cell_type": "code",
   "execution_count": 13,
   "metadata": {},
   "outputs": [
    {
     "data": {
      "text/plain": [
       "array(['7.2', '6.6', '6.8', '7.7', '8.3', '8.0', '7.8', '8.1', '7.1',\n",
       "       '6.0', '7.4', '5.8', '8.7', '6.3', '6.9', '5.0', '4.3', '7.3',\n",
       "       '7.0', '6.4', nan, '8.2', '7.5', '6.7', '7.9', '5.9', '6.2', '5.6',\n",
       "       '6.5', '2.4', '7.6', '6.1', '8.6', '8.5', '8.8', '5.5', '5.1',\n",
       "       '5.7', '5.4', '99%', '4.4', '4.5', '5.3', '4.1', '8.4', '2.6',\n",
       "       '3.8', '4.6', '4.8', '4.0', '3.0', '1.6', '4.2', '5.2', '4.7',\n",
       "       '4.9', '3.9', '2.7', '3.3', '2.9', '28%', '3.7', '1.4', '3.1',\n",
       "       '97%', '3.5', '3.2', '2.8', '1.5', '2.1', '2.5', '9.2', '3.4',\n",
       "       '1.1', '3.6', '83%', '64%', '91%', '94%', '62%', '79%', '90%',\n",
       "       '19%', '88%', '1.0', '89%', '1.3', '1.9', '1.8', '1.2', '1.7',\n",
       "       '9.0', '98%', '8.9', '9.1'], dtype=object)"
      ]
     },
     "execution_count": 13,
     "metadata": {},
     "output_type": "execute_result"
    }
   ],
   "source": [
    "df['ratings'].unique()"
   ]
  },
  {
   "cell_type": "markdown",
   "metadata": {},
   "source": [
    "При попытке привести рейтинг к числовому типу было обнаружено, что некоторые данные записаны в другом формате, исправим это."
   ]
  },
  {
   "cell_type": "code",
   "execution_count": 14,
   "metadata": {},
   "outputs": [],
   "source": [
    "def convert(value):\n",
    "    if isinstance(value['ratings'], str) and '%' in value['ratings']:\n",
    "        return int(value['ratings'].rstrip('%')) / 10\n",
    "    else:\n",
    "        return value['ratings']"
   ]
  },
  {
   "cell_type": "code",
   "execution_count": 15,
   "metadata": {},
   "outputs": [],
   "source": [
    "df['ratings'] = df.apply(convert, axis=1)"
   ]
  },
  {
   "cell_type": "code",
   "execution_count": 16,
   "metadata": {},
   "outputs": [
    {
     "data": {
      "text/plain": [
       "array(['7.2', '6.6', '6.8', '7.7', '8.3', '8.0', '7.8', '8.1', '7.1',\n",
       "       '6.0', '7.4', '5.8', '8.7', '6.3', '6.9', '5.0', '4.3', '7.3',\n",
       "       '7.0', '6.4', nan, '8.2', '7.5', '6.7', '7.9', '5.9', '6.2', '5.6',\n",
       "       '6.5', '2.4', '7.6', '6.1', '8.6', '8.5', '8.8', '5.5', '5.1',\n",
       "       '5.7', '5.4', 9.9, '4.4', '4.5', '5.3', '4.1', '8.4', '2.6', '3.8',\n",
       "       '4.6', '4.8', '4.0', '3.0', '1.6', '4.2', '5.2', '4.7', '4.9',\n",
       "       '3.9', '2.7', '3.3', '2.9', 2.8, '3.7', '1.4', '3.1', 9.7, '3.5',\n",
       "       '3.2', '2.8', '1.5', '2.1', '2.5', '9.2', '3.4', '1.1', '3.6', 8.3,\n",
       "       6.4, 9.1, 9.4, 6.2, 7.9, 9.0, 1.9, 8.8, '1.0', 8.9, '1.3', '1.9',\n",
       "       '1.8', '1.2', '1.7', '9.0', 9.8, '8.9', '9.1'], dtype=object)"
      ]
     },
     "execution_count": 16,
     "metadata": {},
     "output_type": "execute_result"
    }
   ],
   "source": [
    "df['ratings'].unique()"
   ]
  },
  {
   "cell_type": "markdown",
   "metadata": {},
   "source": [
    "Привели дату к нужному типу данных и исправили ошибки в данных о рейтинге."
   ]
  },
  {
   "cell_type": "markdown",
   "metadata": {
    "id": "i0MOLbF-gFyP"
   },
   "source": [
    "### Пропуски в датафрейме\n"
   ]
  },
  {
   "cell_type": "code",
   "execution_count": 17,
   "metadata": {
    "id": "8MJD_lkngFyP",
    "scrolled": true
   },
   "outputs": [
    {
     "data": {
      "text/plain": [
       "title                       0\n",
       "puNumber                    0\n",
       "show_start_date             0\n",
       "type                        0\n",
       "film_studio                18\n",
       "production_country          2\n",
       "director                    9\n",
       "producer                  568\n",
       "age_restriction             0\n",
       "refundable_support       7153\n",
       "nonrefundable_support    7153\n",
       "budget                   7153\n",
       "financing_source         7153\n",
       "ratings                   966\n",
       "genres                    975\n",
       "box_office               4327\n",
       "dtype: int64"
      ]
     },
     "execution_count": 17,
     "metadata": {},
     "output_type": "execute_result"
    }
   ],
   "source": [
    "base_counts = len(df)\n",
    "df.isna().sum()"
   ]
  },
  {
   "cell_type": "markdown",
   "metadata": {},
   "source": [
    "Пропуски в данных `film_studio, production_country, director` совсем маленькие, их можно просто удалить. <br>"
   ]
  },
  {
   "cell_type": "code",
   "execution_count": 18,
   "metadata": {},
   "outputs": [],
   "source": [
    "df.dropna(subset=['film_studio', 'production_country', 'director'], inplace=True)"
   ]
  },
  {
   "cell_type": "code",
   "execution_count": 19,
   "metadata": {},
   "outputs": [],
   "source": [
    "df = df.reset_index(drop=True)"
   ]
  },
  {
   "cell_type": "markdown",
   "metadata": {},
   "source": [
    "Пропуски в `producer` для нашего анализа не важны, можно оставить."
   ]
  },
  {
   "cell_type": "code",
   "execution_count": 20,
   "metadata": {},
   "outputs": [
    {
     "data": {
      "text/plain": [
       "947"
      ]
     },
     "execution_count": 20,
     "metadata": {},
     "output_type": "execute_result"
    }
   ],
   "source": [
    "df.query('ratings.isna() and genres.isna()')['title'].count()"
   ]
  },
  {
   "cell_type": "markdown",
   "metadata": {},
   "source": [
    "Пропуски в жанре и рейтинге явно связаны. При этом рейтинг и жанры есть на кинопоиске (проверено несколько). Возможна ошибка при выгрузке данных. Хорошо бы сообщить тем кто предоставил данные, может дадут новые хорошие данные. Если бы был платный доступ к API Кинопоиска, можно было бы обновить данные самим.<br>\n",
    "Если удалим, то потеряем много других важных данных, заполнять средним или медианой рейтинг считаю не целесообразно. Для анализа только рейтинга предлагаю просто взять данные без этих пропусков в дальнейшем.<br>\n",
    "Пропуски в жанрах можно заменить на `unknown`"
   ]
  },
  {
   "cell_type": "code",
   "execution_count": 21,
   "metadata": {},
   "outputs": [],
   "source": [
    "df['genres'] = df['genres'].fillna(value='unknown')"
   ]
  },
  {
   "cell_type": "markdown",
   "metadata": {},
   "source": [
    "Пропуски по бюджетным данным `refundable_support, nonrefundable_support, budget, financing_source` удалять не стоит, а для анализа государственной поддержки можно сделать отдельную таблицу без пропусков."
   ]
  },
  {
   "cell_type": "markdown",
   "metadata": {},
   "source": [
    "Данные о прокате в кинотеатрах известны не для всех фильмов, пропуски в `box_office` можно заменить на 0. Проверим, есть ли фильмы с доходом 0, чтобы не объединить их с пропусками лучше заменить пропуски на -1."
   ]
  },
  {
   "cell_type": "code",
   "execution_count": 22,
   "metadata": {},
   "outputs": [
    {
     "data": {
      "text/plain": [
       "24"
      ]
     },
     "execution_count": 22,
     "metadata": {},
     "output_type": "execute_result"
    }
   ],
   "source": [
    "len(df[df['box_office'] == 0])"
   ]
  },
  {
   "cell_type": "markdown",
   "metadata": {},
   "source": [
    "Есть фильмы с нулевым доходом, заменим пропуски на -1, чтобы можно было легко отфильтровать данные в дальнейшем. Аналогично сделаем и для колонки `budget`."
   ]
  },
  {
   "cell_type": "code",
   "execution_count": 23,
   "metadata": {},
   "outputs": [],
   "source": [
    "df['box_office'] = df['box_office'].fillna(value=-1)\n",
    "df['budget'] = df['budget'].fillna(value=-1)"
   ]
  },
  {
   "cell_type": "code",
   "execution_count": 24,
   "metadata": {},
   "outputs": [
    {
     "name": "stdout",
     "output_type": "stream",
     "text": [
      "<class 'pandas.core.frame.DataFrame'>\n",
      "RangeIndex: 7458 entries, 0 to 7457\n",
      "Data columns (total 16 columns):\n",
      " #   Column                 Non-Null Count  Dtype              \n",
      "---  ------                 --------------  -----              \n",
      " 0   title                  7458 non-null   object             \n",
      " 1   puNumber               7458 non-null   int64              \n",
      " 2   show_start_date        7458 non-null   datetime64[ns, UTC]\n",
      " 3   type                   7458 non-null   object             \n",
      " 4   film_studio            7458 non-null   object             \n",
      " 5   production_country     7458 non-null   object             \n",
      " 6   director               7458 non-null   object             \n",
      " 7   producer               6894 non-null   object             \n",
      " 8   age_restriction        7458 non-null   object             \n",
      " 9   refundable_support     332 non-null    float64            \n",
      " 10  nonrefundable_support  332 non-null    float64            \n",
      " 11  budget                 7458 non-null   float64            \n",
      " 12  financing_source       332 non-null    object             \n",
      " 13  ratings                6511 non-null   object             \n",
      " 14  genres                 7458 non-null   object             \n",
      " 15  box_office             7458 non-null   float64            \n",
      "dtypes: datetime64[ns, UTC](1), float64(4), int64(1), object(10)\n",
      "memory usage: 932.4+ KB\n"
     ]
    }
   ],
   "source": [
    "df.info()"
   ]
  },
  {
   "cell_type": "code",
   "execution_count": 25,
   "metadata": {
    "scrolled": true
   },
   "outputs": [
    {
     "name": "stdout",
     "output_type": "stream",
     "text": [
      "Удалено: 27 строк.\n"
     ]
    }
   ],
   "source": [
    "print(f'Удалено: {base_counts - len(df)} строк.')"
   ]
  },
  {
   "cell_type": "markdown",
   "metadata": {},
   "source": [
    "Удалили и обработали пропуски, потери составили 27 строк. Нашли ошибку выгрузки данных в колонках `ratings и genres`, нужно сообщить источнику данных."
   ]
  },
  {
   "cell_type": "markdown",
   "metadata": {
    "id": "4c6k1t9ygFyQ"
   },
   "source": [
    "### Дубликаты в датафрейме\n"
   ]
  },
  {
   "cell_type": "code",
   "execution_count": 26,
   "metadata": {},
   "outputs": [
    {
     "data": {
      "text/plain": [
       "0"
      ]
     },
     "execution_count": 26,
     "metadata": {},
     "output_type": "execute_result"
    }
   ],
   "source": [
    "df.duplicated().sum()"
   ]
  },
  {
   "cell_type": "markdown",
   "metadata": {},
   "source": [
    "Явные дубликаты отсутствуют. Проверим дубликаты по названию фильма."
   ]
  },
  {
   "cell_type": "code",
   "execution_count": 27,
   "metadata": {
    "id": "aKck8RIdgFyQ"
   },
   "outputs": [
    {
     "data": {
      "text/html": [
       "<div>\n",
       "<style scoped>\n",
       "    .dataframe tbody tr th:only-of-type {\n",
       "        vertical-align: middle;\n",
       "    }\n",
       "\n",
       "    .dataframe tbody tr th {\n",
       "        vertical-align: top;\n",
       "    }\n",
       "\n",
       "    .dataframe thead th {\n",
       "        text-align: right;\n",
       "    }\n",
       "</style>\n",
       "<table border=\"1\" class=\"dataframe\">\n",
       "  <thead>\n",
       "    <tr style=\"text-align: right;\">\n",
       "      <th></th>\n",
       "      <th>title</th>\n",
       "      <th>puNumber</th>\n",
       "      <th>show_start_date</th>\n",
       "      <th>type</th>\n",
       "      <th>film_studio</th>\n",
       "      <th>production_country</th>\n",
       "      <th>director</th>\n",
       "      <th>producer</th>\n",
       "      <th>age_restriction</th>\n",
       "      <th>refundable_support</th>\n",
       "      <th>nonrefundable_support</th>\n",
       "      <th>budget</th>\n",
       "      <th>financing_source</th>\n",
       "      <th>ratings</th>\n",
       "      <th>genres</th>\n",
       "      <th>box_office</th>\n",
       "    </tr>\n",
       "  </thead>\n",
       "  <tbody>\n",
       "    <tr>\n",
       "      <th>3</th>\n",
       "      <td>Особо опасен</td>\n",
       "      <td>221026916</td>\n",
       "      <td>2016-06-10 12:00:00+00:00</td>\n",
       "      <td>Художественный</td>\n",
       "      <td>Юниверсал Пикчерз, Кикстарт Продакшнз, Марк Пл...</td>\n",
       "      <td>США</td>\n",
       "      <td>Тимур Бекмамбетов</td>\n",
       "      <td>Джим Лемли, Джейсон Нетер, Марк Е.Платт, Яйн Смит</td>\n",
       "      <td>«18+» - запрещено для детей</td>\n",
       "      <td>NaN</td>\n",
       "      <td>NaN</td>\n",
       "      <td>-1.0</td>\n",
       "      <td>NaN</td>\n",
       "      <td>6.8</td>\n",
       "      <td>фантастика,боевик,триллер</td>\n",
       "      <td>-1.0</td>\n",
       "    </tr>\n",
       "    <tr>\n",
       "      <th>4</th>\n",
       "      <td>Особо опасен</td>\n",
       "      <td>221030815</td>\n",
       "      <td>2015-07-29 12:00:00+00:00</td>\n",
       "      <td>Художественный</td>\n",
       "      <td>Юниверсал Пикчерз, Кикстарт Продакшнз, Марк Пл...</td>\n",
       "      <td>США</td>\n",
       "      <td>Тимур Бекмамбетов</td>\n",
       "      <td>Джим Лемли, Джейсон Нетер, Марк Е.Платт, Яйн Смит</td>\n",
       "      <td>«18+» - запрещено для детей</td>\n",
       "      <td>NaN</td>\n",
       "      <td>NaN</td>\n",
       "      <td>-1.0</td>\n",
       "      <td>NaN</td>\n",
       "      <td>6.8</td>\n",
       "      <td>фантастика,боевик,триллер</td>\n",
       "      <td>-1.0</td>\n",
       "    </tr>\n",
       "    <tr>\n",
       "      <th>41</th>\n",
       "      <td>Алекс и Эмма</td>\n",
       "      <td>221004616</td>\n",
       "      <td>2016-02-09 12:00:00+00:00</td>\n",
       "      <td>Художественный</td>\n",
       "      <td>Эскейп Артистс, Франчайз Пикчерз, Рейнер-Грэйс...</td>\n",
       "      <td>США</td>\n",
       "      <td>Роб Райнер</td>\n",
       "      <td>Тодд Блэк, Элан Грейсман, Джереми Левен, Роб Р...</td>\n",
       "      <td>«16+» - для детей старше 16 лет</td>\n",
       "      <td>NaN</td>\n",
       "      <td>NaN</td>\n",
       "      <td>-1.0</td>\n",
       "      <td>NaN</td>\n",
       "      <td>6.4</td>\n",
       "      <td>мелодрама,комедия</td>\n",
       "      <td>-1.0</td>\n",
       "    </tr>\n",
       "    <tr>\n",
       "      <th>110</th>\n",
       "      <td>Гарри Поттер и орден Феникса /По роману Дж.К.Р...</td>\n",
       "      <td>121026316</td>\n",
       "      <td>2016-09-23 12:00:00+00:00</td>\n",
       "      <td>Художественный</td>\n",
       "      <td>Уорнер Бразерс, Хэйдей Филмз</td>\n",
       "      <td>США - Великобритания</td>\n",
       "      <td>Дэвид Йетс</td>\n",
       "      <td>Дэйвид Баррон, Дэйвид Хейман</td>\n",
       "      <td>«16+» - для детей старше 16 лет</td>\n",
       "      <td>NaN</td>\n",
       "      <td>NaN</td>\n",
       "      <td>-1.0</td>\n",
       "      <td>NaN</td>\n",
       "      <td>7.7</td>\n",
       "      <td>фэнтези,приключения,семейный</td>\n",
       "      <td>759526.0</td>\n",
       "    </tr>\n",
       "    <tr>\n",
       "      <th>113</th>\n",
       "      <td>Гарри Поттер и узник Азкабана /По роману Дж.К....</td>\n",
       "      <td>121026116</td>\n",
       "      <td>2016-09-23 12:00:00+00:00</td>\n",
       "      <td>Художественный</td>\n",
       "      <td>Хэйдей Филмз, 1492 Пикчерз, Уорнер Бразерс</td>\n",
       "      <td>США</td>\n",
       "      <td>Альфонсо Куарон</td>\n",
       "      <td>Майкл Барната</td>\n",
       "      <td>«12+» - для детей старше 12 лет</td>\n",
       "      <td>NaN</td>\n",
       "      <td>NaN</td>\n",
       "      <td>-1.0</td>\n",
       "      <td>NaN</td>\n",
       "      <td>8.2</td>\n",
       "      <td>фэнтези,приключения,семейный</td>\n",
       "      <td>1125302.0</td>\n",
       "    </tr>\n",
       "    <tr>\n",
       "      <th>122</th>\n",
       "      <td>Гарри Поттер и кубок огня /По роману Дж.К.Ролинг/</td>\n",
       "      <td>121026216</td>\n",
       "      <td>2016-09-23 12:00:00+00:00</td>\n",
       "      <td>Художественный</td>\n",
       "      <td>Уорнер Бразерс, Хэйдэй Филмз</td>\n",
       "      <td>США - Великобритания</td>\n",
       "      <td>Майк Ньюэлл</td>\n",
       "      <td>Дэйвид Хейман</td>\n",
       "      <td>«16+» - для детей старше 16 лет</td>\n",
       "      <td>NaN</td>\n",
       "      <td>NaN</td>\n",
       "      <td>-1.0</td>\n",
       "      <td>NaN</td>\n",
       "      <td>7.9</td>\n",
       "      <td>фэнтези,приключения,семейный</td>\n",
       "      <td>843310.0</td>\n",
       "    </tr>\n",
       "    <tr>\n",
       "      <th>132</th>\n",
       "      <td>Джейн Эйр /По одноименному роману Шарлотты Бро...</td>\n",
       "      <td>221035716</td>\n",
       "      <td>2016-06-07 12:00:00+00:00</td>\n",
       "      <td>Художественный</td>\n",
       "      <td>Чинеритино, Флаш Фильм, Медиасет, Мирамакс, Ро...</td>\n",
       "      <td>Франция - Италия - Великобритания - США</td>\n",
       "      <td>Франко Дзеффирелли</td>\n",
       "      <td>NaN</td>\n",
       "      <td>«12+» - для детей старше 12 лет</td>\n",
       "      <td>NaN</td>\n",
       "      <td>NaN</td>\n",
       "      <td>-1.0</td>\n",
       "      <td>NaN</td>\n",
       "      <td>7.4</td>\n",
       "      <td>драма,мелодрама</td>\n",
       "      <td>-1.0</td>\n",
       "    </tr>\n",
       "    <tr>\n",
       "      <th>205</th>\n",
       "      <td>Кинг Конг _</td>\n",
       "      <td>221001815</td>\n",
       "      <td>2015-02-11 12:00:00+00:00</td>\n",
       "      <td>Художественный</td>\n",
       "      <td>Биг Праймейт Пикчерз, Юниверсал Пикчерз, ВингН...</td>\n",
       "      <td>Новая Зеландия - США</td>\n",
       "      <td>Питер Джексон</td>\n",
       "      <td>Йен Бленкин, Питер Джексон, Кэролайн Каннингэм...</td>\n",
       "      <td>«16+» - для детей старше 16 лет</td>\n",
       "      <td>NaN</td>\n",
       "      <td>NaN</td>\n",
       "      <td>-1.0</td>\n",
       "      <td>NaN</td>\n",
       "      <td>7.6</td>\n",
       "      <td>боевик,драма,мелодрама</td>\n",
       "      <td>-1.0</td>\n",
       "    </tr>\n",
       "    <tr>\n",
       "      <th>268</th>\n",
       "      <td>Пуленепробиваемый.</td>\n",
       "      <td>121009103</td>\n",
       "      <td>2013-03-13 12:00:00+00:00</td>\n",
       "      <td>Художественный</td>\n",
       "      <td>Лейкшор Интертейнмент, Мозаик Медиа Груп, Сайн...</td>\n",
       "      <td>США</td>\n",
       "      <td>Пол Хантер</td>\n",
       "      <td>Джон Ву, Чарльз Ровен, Дуглас Сегал, Теренс Чанг</td>\n",
       "      <td>«12+» - для детей старше 12 лет</td>\n",
       "      <td>NaN</td>\n",
       "      <td>NaN</td>\n",
       "      <td>-1.0</td>\n",
       "      <td>NaN</td>\n",
       "      <td>6.7</td>\n",
       "      <td>фэнтези,боевик,комедия</td>\n",
       "      <td>-1.0</td>\n",
       "    </tr>\n",
       "    <tr>\n",
       "      <th>379</th>\n",
       "      <td>Рапунцель: Запутанная история</td>\n",
       "      <td>224026712</td>\n",
       "      <td>2012-10-23 12:00:00+00:00</td>\n",
       "      <td>Анимационный</td>\n",
       "      <td>Уолт Дисней Анимейшн Студиос, Уолт Дисней Пикчерз</td>\n",
       "      <td>США</td>\n",
       "      <td>Натан Грино, Байрон Ховард</td>\n",
       "      <td>Рой Конли</td>\n",
       "      <td>«12+» - для детей старше 12 лет</td>\n",
       "      <td>NaN</td>\n",
       "      <td>NaN</td>\n",
       "      <td>-1.0</td>\n",
       "      <td>NaN</td>\n",
       "      <td>7.9</td>\n",
       "      <td>мультфильм,мюзикл,фэнтези</td>\n",
       "      <td>-1.0</td>\n",
       "    </tr>\n",
       "  </tbody>\n",
       "</table>\n",
       "</div>"
      ],
      "text/plain": [
       "                                                 title   puNumber  \\\n",
       "3                                         Особо опасен  221026916   \n",
       "4                                         Особо опасен  221030815   \n",
       "41                                        Алекс и Эмма  221004616   \n",
       "110  Гарри Поттер и орден Феникса /По роману Дж.К.Р...  121026316   \n",
       "113  Гарри Поттер и узник Азкабана /По роману Дж.К....  121026116   \n",
       "122  Гарри Поттер и кубок огня /По роману Дж.К.Ролинг/  121026216   \n",
       "132  Джейн Эйр /По одноименному роману Шарлотты Бро...  221035716   \n",
       "205                                        Кинг Конг _  221001815   \n",
       "268                                 Пуленепробиваемый.  121009103   \n",
       "379                      Рапунцель: Запутанная история  224026712   \n",
       "\n",
       "              show_start_date            type  \\\n",
       "3   2016-06-10 12:00:00+00:00  Художественный   \n",
       "4   2015-07-29 12:00:00+00:00  Художественный   \n",
       "41  2016-02-09 12:00:00+00:00  Художественный   \n",
       "110 2016-09-23 12:00:00+00:00  Художественный   \n",
       "113 2016-09-23 12:00:00+00:00  Художественный   \n",
       "122 2016-09-23 12:00:00+00:00  Художественный   \n",
       "132 2016-06-07 12:00:00+00:00  Художественный   \n",
       "205 2015-02-11 12:00:00+00:00  Художественный   \n",
       "268 2013-03-13 12:00:00+00:00  Художественный   \n",
       "379 2012-10-23 12:00:00+00:00    Анимационный   \n",
       "\n",
       "                                           film_studio  \\\n",
       "3    Юниверсал Пикчерз, Кикстарт Продакшнз, Марк Пл...   \n",
       "4    Юниверсал Пикчерз, Кикстарт Продакшнз, Марк Пл...   \n",
       "41   Эскейп Артистс, Франчайз Пикчерз, Рейнер-Грэйс...   \n",
       "110                       Уорнер Бразерс, Хэйдей Филмз   \n",
       "113         Хэйдей Филмз, 1492 Пикчерз, Уорнер Бразерс   \n",
       "122                       Уорнер Бразерс, Хэйдэй Филмз   \n",
       "132  Чинеритино, Флаш Фильм, Медиасет, Мирамакс, Ро...   \n",
       "205  Биг Праймейт Пикчерз, Юниверсал Пикчерз, ВингН...   \n",
       "268  Лейкшор Интертейнмент, Мозаик Медиа Груп, Сайн...   \n",
       "379  Уолт Дисней Анимейшн Студиос, Уолт Дисней Пикчерз   \n",
       "\n",
       "                          production_country                    director  \\\n",
       "3                                        США           Тимур Бекмамбетов   \n",
       "4                                        США           Тимур Бекмамбетов   \n",
       "41                                       США                  Роб Райнер   \n",
       "110                     США - Великобритания                  Дэвид Йетс   \n",
       "113                                      США             Альфонсо Куарон   \n",
       "122                     США - Великобритания                 Майк Ньюэлл   \n",
       "132  Франция - Италия - Великобритания - США          Франко Дзеффирелли   \n",
       "205                     Новая Зеландия - США               Питер Джексон   \n",
       "268                                      США                  Пол Хантер   \n",
       "379                                      США  Натан Грино, Байрон Ховард   \n",
       "\n",
       "                                              producer  \\\n",
       "3    Джим Лемли, Джейсон Нетер, Марк Е.Платт, Яйн Смит   \n",
       "4    Джим Лемли, Джейсон Нетер, Марк Е.Платт, Яйн Смит   \n",
       "41   Тодд Блэк, Элан Грейсман, Джереми Левен, Роб Р...   \n",
       "110                       Дэйвид Баррон, Дэйвид Хейман   \n",
       "113                                      Майкл Барната   \n",
       "122                                      Дэйвид Хейман   \n",
       "132                                                NaN   \n",
       "205  Йен Бленкин, Питер Джексон, Кэролайн Каннингэм...   \n",
       "268   Джон Ву, Чарльз Ровен, Дуглас Сегал, Теренс Чанг   \n",
       "379                                          Рой Конли   \n",
       "\n",
       "                     age_restriction  refundable_support  \\\n",
       "3        «18+» - запрещено для детей                 NaN   \n",
       "4        «18+» - запрещено для детей                 NaN   \n",
       "41   «16+» - для детей старше 16 лет                 NaN   \n",
       "110  «16+» - для детей старше 16 лет                 NaN   \n",
       "113  «12+» - для детей старше 12 лет                 NaN   \n",
       "122  «16+» - для детей старше 16 лет                 NaN   \n",
       "132  «12+» - для детей старше 12 лет                 NaN   \n",
       "205  «16+» - для детей старше 16 лет                 NaN   \n",
       "268  «12+» - для детей старше 12 лет                 NaN   \n",
       "379  «12+» - для детей старше 12 лет                 NaN   \n",
       "\n",
       "     nonrefundable_support  budget financing_source ratings  \\\n",
       "3                      NaN    -1.0              NaN     6.8   \n",
       "4                      NaN    -1.0              NaN     6.8   \n",
       "41                     NaN    -1.0              NaN     6.4   \n",
       "110                    NaN    -1.0              NaN     7.7   \n",
       "113                    NaN    -1.0              NaN     8.2   \n",
       "122                    NaN    -1.0              NaN     7.9   \n",
       "132                    NaN    -1.0              NaN     7.4   \n",
       "205                    NaN    -1.0              NaN     7.6   \n",
       "268                    NaN    -1.0              NaN     6.7   \n",
       "379                    NaN    -1.0              NaN     7.9   \n",
       "\n",
       "                           genres  box_office  \n",
       "3       фантастика,боевик,триллер        -1.0  \n",
       "4       фантастика,боевик,триллер        -1.0  \n",
       "41              мелодрама,комедия        -1.0  \n",
       "110  фэнтези,приключения,семейный    759526.0  \n",
       "113  фэнтези,приключения,семейный   1125302.0  \n",
       "122  фэнтези,приключения,семейный    843310.0  \n",
       "132               драма,мелодрама        -1.0  \n",
       "205        боевик,драма,мелодрама        -1.0  \n",
       "268        фэнтези,боевик,комедия        -1.0  \n",
       "379     мультфильм,мюзикл,фэнтези        -1.0  "
      ]
     },
     "execution_count": 27,
     "metadata": {},
     "output_type": "execute_result"
    }
   ],
   "source": [
    "df[df['title'].duplicated()].head(10)"
   ]
  },
  {
   "cell_type": "code",
   "execution_count": 28,
   "metadata": {},
   "outputs": [
    {
     "data": {
      "text/html": [
       "<div>\n",
       "<style scoped>\n",
       "    .dataframe tbody tr th:only-of-type {\n",
       "        vertical-align: middle;\n",
       "    }\n",
       "\n",
       "    .dataframe tbody tr th {\n",
       "        vertical-align: top;\n",
       "    }\n",
       "\n",
       "    .dataframe thead th {\n",
       "        text-align: right;\n",
       "    }\n",
       "</style>\n",
       "<table border=\"1\" class=\"dataframe\">\n",
       "  <thead>\n",
       "    <tr style=\"text-align: right;\">\n",
       "      <th></th>\n",
       "      <th>title</th>\n",
       "      <th>puNumber</th>\n",
       "      <th>show_start_date</th>\n",
       "      <th>type</th>\n",
       "      <th>film_studio</th>\n",
       "      <th>production_country</th>\n",
       "      <th>director</th>\n",
       "      <th>producer</th>\n",
       "      <th>age_restriction</th>\n",
       "      <th>refundable_support</th>\n",
       "      <th>nonrefundable_support</th>\n",
       "      <th>budget</th>\n",
       "      <th>financing_source</th>\n",
       "      <th>ratings</th>\n",
       "      <th>genres</th>\n",
       "      <th>box_office</th>\n",
       "    </tr>\n",
       "  </thead>\n",
       "  <tbody>\n",
       "    <tr>\n",
       "      <th>121</th>\n",
       "      <td>Гарри Поттер и кубок огня /По роману Дж.К.Ролинг/</td>\n",
       "      <td>221004816</td>\n",
       "      <td>2016-02-09 12:00:00+00:00</td>\n",
       "      <td>Художественный</td>\n",
       "      <td>Уорнер Бразерс, Хэйдэй Филмз</td>\n",
       "      <td>США - Великобритания</td>\n",
       "      <td>Майк Ньюэлл</td>\n",
       "      <td>Дэйвид Хейман</td>\n",
       "      <td>«16+» - для детей старше 16 лет</td>\n",
       "      <td>NaN</td>\n",
       "      <td>NaN</td>\n",
       "      <td>-1.0</td>\n",
       "      <td>NaN</td>\n",
       "      <td>7.9</td>\n",
       "      <td>фэнтези,приключения,семейный</td>\n",
       "      <td>-1.0</td>\n",
       "    </tr>\n",
       "    <tr>\n",
       "      <th>122</th>\n",
       "      <td>Гарри Поттер и кубок огня /По роману Дж.К.Ролинг/</td>\n",
       "      <td>121026216</td>\n",
       "      <td>2016-09-23 12:00:00+00:00</td>\n",
       "      <td>Художественный</td>\n",
       "      <td>Уорнер Бразерс, Хэйдэй Филмз</td>\n",
       "      <td>США - Великобритания</td>\n",
       "      <td>Майк Ньюэлл</td>\n",
       "      <td>Дэйвид Хейман</td>\n",
       "      <td>«16+» - для детей старше 16 лет</td>\n",
       "      <td>NaN</td>\n",
       "      <td>NaN</td>\n",
       "      <td>-1.0</td>\n",
       "      <td>NaN</td>\n",
       "      <td>7.9</td>\n",
       "      <td>фэнтези,приключения,семейный</td>\n",
       "      <td>843310.0</td>\n",
       "    </tr>\n",
       "    <tr>\n",
       "      <th>4417</th>\n",
       "      <td>Гарри Поттер и кубок огня /По роману Дж.К.Ролинг/</td>\n",
       "      <td>221134410</td>\n",
       "      <td>2010-11-29 12:00:00+00:00</td>\n",
       "      <td>Художественный</td>\n",
       "      <td>Уорнер Бразерс, Хэйдэй Филмз</td>\n",
       "      <td>США - Великобритания</td>\n",
       "      <td>Майк Ньюэлл</td>\n",
       "      <td>Дэйвид Хейман</td>\n",
       "      <td>«16+» - для детей старше 16 лет</td>\n",
       "      <td>NaN</td>\n",
       "      <td>NaN</td>\n",
       "      <td>-1.0</td>\n",
       "      <td>NaN</td>\n",
       "      <td>7.9</td>\n",
       "      <td>фэнтези,приключения,семейный</td>\n",
       "      <td>-1.0</td>\n",
       "    </tr>\n",
       "  </tbody>\n",
       "</table>\n",
       "</div>"
      ],
      "text/plain": [
       "                                                  title   puNumber  \\\n",
       "121   Гарри Поттер и кубок огня /По роману Дж.К.Ролинг/  221004816   \n",
       "122   Гарри Поттер и кубок огня /По роману Дж.К.Ролинг/  121026216   \n",
       "4417  Гарри Поттер и кубок огня /По роману Дж.К.Ролинг/  221134410   \n",
       "\n",
       "               show_start_date            type                   film_studio  \\\n",
       "121  2016-02-09 12:00:00+00:00  Художественный  Уорнер Бразерс, Хэйдэй Филмз   \n",
       "122  2016-09-23 12:00:00+00:00  Художественный  Уорнер Бразерс, Хэйдэй Филмз   \n",
       "4417 2010-11-29 12:00:00+00:00  Художественный  Уорнер Бразерс, Хэйдэй Филмз   \n",
       "\n",
       "        production_country     director       producer  \\\n",
       "121   США - Великобритания  Майк Ньюэлл  Дэйвид Хейман   \n",
       "122   США - Великобритания  Майк Ньюэлл  Дэйвид Хейман   \n",
       "4417  США - Великобритания  Майк Ньюэлл  Дэйвид Хейман   \n",
       "\n",
       "                      age_restriction  refundable_support  \\\n",
       "121   «16+» - для детей старше 16 лет                 NaN   \n",
       "122   «16+» - для детей старше 16 лет                 NaN   \n",
       "4417  «16+» - для детей старше 16 лет                 NaN   \n",
       "\n",
       "      nonrefundable_support  budget financing_source ratings  \\\n",
       "121                     NaN    -1.0              NaN     7.9   \n",
       "122                     NaN    -1.0              NaN     7.9   \n",
       "4417                    NaN    -1.0              NaN     7.9   \n",
       "\n",
       "                            genres  box_office  \n",
       "121   фэнтези,приключения,семейный        -1.0  \n",
       "122   фэнтези,приключения,семейный    843310.0  \n",
       "4417  фэнтези,приключения,семейный        -1.0  "
      ]
     },
     "execution_count": 28,
     "metadata": {},
     "output_type": "execute_result"
    }
   ],
   "source": [
    "df.query('title == \"Гарри Поттер и кубок огня /По роману Дж.К.Ролинг/\"')"
   ]
  },
  {
   "cell_type": "markdown",
   "metadata": {},
   "source": [
    "Анализ дубликатов по названию выявил, что есть дубликаты, но у них разные даты стартов показов и разные прокатные удостоверения. Скорее всего фильмы показывались в разных киносетях или разных качествах в разное время. И в некоторых показах есть данные по сборам. Думаю удалять такие \"дубликаты\" не стоит."
   ]
  },
  {
   "cell_type": "markdown",
   "metadata": {},
   "source": [
    "Еще проверим нет ли дубликатов по прокатным удостоверениям."
   ]
  },
  {
   "cell_type": "code",
   "execution_count": 29,
   "metadata": {},
   "outputs": [
    {
     "data": {
      "text/html": [
       "<div>\n",
       "<style scoped>\n",
       "    .dataframe tbody tr th:only-of-type {\n",
       "        vertical-align: middle;\n",
       "    }\n",
       "\n",
       "    .dataframe tbody tr th {\n",
       "        vertical-align: top;\n",
       "    }\n",
       "\n",
       "    .dataframe thead th {\n",
       "        text-align: right;\n",
       "    }\n",
       "</style>\n",
       "<table border=\"1\" class=\"dataframe\">\n",
       "  <thead>\n",
       "    <tr style=\"text-align: right;\">\n",
       "      <th></th>\n",
       "      <th>title</th>\n",
       "      <th>puNumber</th>\n",
       "      <th>show_start_date</th>\n",
       "      <th>type</th>\n",
       "      <th>film_studio</th>\n",
       "      <th>production_country</th>\n",
       "      <th>director</th>\n",
       "      <th>producer</th>\n",
       "      <th>age_restriction</th>\n",
       "      <th>refundable_support</th>\n",
       "      <th>nonrefundable_support</th>\n",
       "      <th>budget</th>\n",
       "      <th>financing_source</th>\n",
       "      <th>ratings</th>\n",
       "      <th>genres</th>\n",
       "      <th>box_office</th>\n",
       "    </tr>\n",
       "  </thead>\n",
       "  <tbody>\n",
       "    <tr>\n",
       "      <th>4629</th>\n",
       "      <td>Иоанна - женщина на папском престоле /По роман...</td>\n",
       "      <td>221154310</td>\n",
       "      <td>2010-12-17 12:00:00+00:00</td>\n",
       "      <td>Художественный</td>\n",
       "      <td>Константин Фильм, А Эр Ди Дегето Фильм, Дюне ...</td>\n",
       "      <td>Германия - Великобритания - Италия - Испания</td>\n",
       "      <td>Зенке Вортманн</td>\n",
       "      <td>Оливер Бербен, Дорис Д.Хайнце, Фарук Элтан</td>\n",
       "      <td>«16+» - для детей старше 16 лет</td>\n",
       "      <td>NaN</td>\n",
       "      <td>NaN</td>\n",
       "      <td>-1.0</td>\n",
       "      <td>NaN</td>\n",
       "      <td>7.6</td>\n",
       "      <td>драма,мелодрама,история</td>\n",
       "      <td>-1.0</td>\n",
       "    </tr>\n",
       "    <tr>\n",
       "      <th>5056</th>\n",
       "      <td>Анализируй то!</td>\n",
       "      <td>221054410</td>\n",
       "      <td>2010-05-25 12:00:00+00:00</td>\n",
       "      <td>Художественный</td>\n",
       "      <td>Уорнер Бразерс, Виллидж Роадшоу Пикчерз, Эн-Пи...</td>\n",
       "      <td>США</td>\n",
       "      <td>Гарольд Реймис</td>\n",
       "      <td>Джейн Розенталь, Паул Уэйнстейн</td>\n",
       "      <td>«12+» - для детей старше 12 лет</td>\n",
       "      <td>NaN</td>\n",
       "      <td>NaN</td>\n",
       "      <td>-1.0</td>\n",
       "      <td>NaN</td>\n",
       "      <td>6.8</td>\n",
       "      <td>комедия,криминал</td>\n",
       "      <td>-1.0</td>\n",
       "    </tr>\n",
       "  </tbody>\n",
       "</table>\n",
       "</div>"
      ],
      "text/plain": [
       "                                                  title   puNumber  \\\n",
       "4629  Иоанна - женщина на папском престоле /По роман...  221154310   \n",
       "5056                                     Анализируй то!  221054410   \n",
       "\n",
       "               show_start_date            type  \\\n",
       "4629 2010-12-17 12:00:00+00:00  Художественный   \n",
       "5056 2010-05-25 12:00:00+00:00  Художественный   \n",
       "\n",
       "                                            film_studio  \\\n",
       "4629   Константин Фильм, А Эр Ди Дегето Фильм, Дюне ...   \n",
       "5056  Уорнер Бразерс, Виллидж Роадшоу Пикчерз, Эн-Пи...   \n",
       "\n",
       "                                production_country        director  \\\n",
       "4629  Германия - Великобритания - Италия - Испания  Зенке Вортманн   \n",
       "5056                                           США  Гарольд Реймис   \n",
       "\n",
       "                                        producer  \\\n",
       "4629  Оливер Бербен, Дорис Д.Хайнце, Фарук Элтан   \n",
       "5056             Джейн Розенталь, Паул Уэйнстейн   \n",
       "\n",
       "                      age_restriction  refundable_support  \\\n",
       "4629  «16+» - для детей старше 16 лет                 NaN   \n",
       "5056  «12+» - для детей старше 12 лет                 NaN   \n",
       "\n",
       "      nonrefundable_support  budget financing_source ratings  \\\n",
       "4629                    NaN    -1.0              NaN     7.6   \n",
       "5056                    NaN    -1.0              NaN     6.8   \n",
       "\n",
       "                       genres  box_office  \n",
       "4629  драма,мелодрама,история        -1.0  \n",
       "5056         комедия,криминал        -1.0  "
      ]
     },
     "execution_count": 29,
     "metadata": {},
     "output_type": "execute_result"
    }
   ],
   "source": [
    "df[df['puNumber'].duplicated()].head(10)"
   ]
  },
  {
   "cell_type": "code",
   "execution_count": 30,
   "metadata": {},
   "outputs": [
    {
     "data": {
      "text/html": [
       "<div>\n",
       "<style scoped>\n",
       "    .dataframe tbody tr th:only-of-type {\n",
       "        vertical-align: middle;\n",
       "    }\n",
       "\n",
       "    .dataframe tbody tr th {\n",
       "        vertical-align: top;\n",
       "    }\n",
       "\n",
       "    .dataframe thead th {\n",
       "        text-align: right;\n",
       "    }\n",
       "</style>\n",
       "<table border=\"1\" class=\"dataframe\">\n",
       "  <thead>\n",
       "    <tr style=\"text-align: right;\">\n",
       "      <th></th>\n",
       "      <th>title</th>\n",
       "      <th>puNumber</th>\n",
       "      <th>show_start_date</th>\n",
       "      <th>type</th>\n",
       "      <th>film_studio</th>\n",
       "      <th>production_country</th>\n",
       "      <th>director</th>\n",
       "      <th>producer</th>\n",
       "      <th>age_restriction</th>\n",
       "      <th>refundable_support</th>\n",
       "      <th>nonrefundable_support</th>\n",
       "      <th>budget</th>\n",
       "      <th>financing_source</th>\n",
       "      <th>ratings</th>\n",
       "      <th>genres</th>\n",
       "      <th>box_office</th>\n",
       "    </tr>\n",
       "  </thead>\n",
       "  <tbody>\n",
       "    <tr>\n",
       "      <th>4628</th>\n",
       "      <td>Как жениться и остаться холостым</td>\n",
       "      <td>221154310</td>\n",
       "      <td>2010-12-17 12:00:00+00:00</td>\n",
       "      <td>Художественный</td>\n",
       "      <td>Ше Вам, Скрипт Ассосье, Тэ Фэ 1 Фильм Продюксь...</td>\n",
       "      <td>Франция</td>\n",
       "      <td>Эрик Лартиго</td>\n",
       "      <td>Амандин Било, Алан Шаба</td>\n",
       "      <td>«16+» - для детей старше 16 лет</td>\n",
       "      <td>NaN</td>\n",
       "      <td>NaN</td>\n",
       "      <td>-1.0</td>\n",
       "      <td>NaN</td>\n",
       "      <td>7.0</td>\n",
       "      <td>мелодрама,комедия</td>\n",
       "      <td>-1.0</td>\n",
       "    </tr>\n",
       "    <tr>\n",
       "      <th>4629</th>\n",
       "      <td>Иоанна - женщина на папском престоле /По роман...</td>\n",
       "      <td>221154310</td>\n",
       "      <td>2010-12-17 12:00:00+00:00</td>\n",
       "      <td>Художественный</td>\n",
       "      <td>Константин Фильм, А Эр Ди Дегето Фильм, Дюне ...</td>\n",
       "      <td>Германия - Великобритания - Италия - Испания</td>\n",
       "      <td>Зенке Вортманн</td>\n",
       "      <td>Оливер Бербен, Дорис Д.Хайнце, Фарук Элтан</td>\n",
       "      <td>«16+» - для детей старше 16 лет</td>\n",
       "      <td>NaN</td>\n",
       "      <td>NaN</td>\n",
       "      <td>-1.0</td>\n",
       "      <td>NaN</td>\n",
       "      <td>7.6</td>\n",
       "      <td>драма,мелодрама,история</td>\n",
       "      <td>-1.0</td>\n",
       "    </tr>\n",
       "  </tbody>\n",
       "</table>\n",
       "</div>"
      ],
      "text/plain": [
       "                                                  title   puNumber  \\\n",
       "4628                   Как жениться и остаться холостым  221154310   \n",
       "4629  Иоанна - женщина на папском престоле /По роман...  221154310   \n",
       "\n",
       "               show_start_date            type  \\\n",
       "4628 2010-12-17 12:00:00+00:00  Художественный   \n",
       "4629 2010-12-17 12:00:00+00:00  Художественный   \n",
       "\n",
       "                                            film_studio  \\\n",
       "4628  Ше Вам, Скрипт Ассосье, Тэ Фэ 1 Фильм Продюксь...   \n",
       "4629   Константин Фильм, А Эр Ди Дегето Фильм, Дюне ...   \n",
       "\n",
       "                                production_country        director  \\\n",
       "4628                                       Франция    Эрик Лартиго   \n",
       "4629  Германия - Великобритания - Италия - Испания  Зенке Вортманн   \n",
       "\n",
       "                                        producer  \\\n",
       "4628                     Амандин Било, Алан Шаба   \n",
       "4629  Оливер Бербен, Дорис Д.Хайнце, Фарук Элтан   \n",
       "\n",
       "                      age_restriction  refundable_support  \\\n",
       "4628  «16+» - для детей старше 16 лет                 NaN   \n",
       "4629  «16+» - для детей старше 16 лет                 NaN   \n",
       "\n",
       "      nonrefundable_support  budget financing_source ratings  \\\n",
       "4628                    NaN    -1.0              NaN     7.0   \n",
       "4629                    NaN    -1.0              NaN     7.6   \n",
       "\n",
       "                       genres  box_office  \n",
       "4628        мелодрама,комедия        -1.0  \n",
       "4629  драма,мелодрама,история        -1.0  "
      ]
     },
     "execution_count": 30,
     "metadata": {},
     "output_type": "execute_result"
    }
   ],
   "source": [
    "df[df['puNumber'] == 221154310]"
   ]
  },
  {
   "cell_type": "code",
   "execution_count": 31,
   "metadata": {},
   "outputs": [
    {
     "data": {
      "text/html": [
       "<div>\n",
       "<style scoped>\n",
       "    .dataframe tbody tr th:only-of-type {\n",
       "        vertical-align: middle;\n",
       "    }\n",
       "\n",
       "    .dataframe tbody tr th {\n",
       "        vertical-align: top;\n",
       "    }\n",
       "\n",
       "    .dataframe thead th {\n",
       "        text-align: right;\n",
       "    }\n",
       "</style>\n",
       "<table border=\"1\" class=\"dataframe\">\n",
       "  <thead>\n",
       "    <tr style=\"text-align: right;\">\n",
       "      <th></th>\n",
       "      <th>title</th>\n",
       "      <th>puNumber</th>\n",
       "      <th>show_start_date</th>\n",
       "      <th>type</th>\n",
       "      <th>film_studio</th>\n",
       "      <th>production_country</th>\n",
       "      <th>director</th>\n",
       "      <th>producer</th>\n",
       "      <th>age_restriction</th>\n",
       "      <th>refundable_support</th>\n",
       "      <th>nonrefundable_support</th>\n",
       "      <th>budget</th>\n",
       "      <th>financing_source</th>\n",
       "      <th>ratings</th>\n",
       "      <th>genres</th>\n",
       "      <th>box_office</th>\n",
       "    </tr>\n",
       "  </thead>\n",
       "  <tbody>\n",
       "    <tr>\n",
       "      <th>5055</th>\n",
       "      <td>Анализируй это!</td>\n",
       "      <td>221054410</td>\n",
       "      <td>2010-05-25 12:00:00+00:00</td>\n",
       "      <td>Художественный</td>\n",
       "      <td>Уорнер Бразерс, Вилладж Роудшоу Филмз ЛТД</td>\n",
       "      <td>США-Австралия</td>\n",
       "      <td>ХЭрольд Рэмис</td>\n",
       "      <td>Джейн Розенталь, Пола Уейнстейн</td>\n",
       "      <td>«16+» - для детей старше 16 лет</td>\n",
       "      <td>NaN</td>\n",
       "      <td>NaN</td>\n",
       "      <td>-1.0</td>\n",
       "      <td>NaN</td>\n",
       "      <td>7.4</td>\n",
       "      <td>комедия,криминал</td>\n",
       "      <td>-1.0</td>\n",
       "    </tr>\n",
       "    <tr>\n",
       "      <th>5056</th>\n",
       "      <td>Анализируй то!</td>\n",
       "      <td>221054410</td>\n",
       "      <td>2010-05-25 12:00:00+00:00</td>\n",
       "      <td>Художественный</td>\n",
       "      <td>Уорнер Бразерс, Виллидж Роадшоу Пикчерз, Эн-Пи...</td>\n",
       "      <td>США</td>\n",
       "      <td>Гарольд Реймис</td>\n",
       "      <td>Джейн Розенталь, Паул Уэйнстейн</td>\n",
       "      <td>«12+» - для детей старше 12 лет</td>\n",
       "      <td>NaN</td>\n",
       "      <td>NaN</td>\n",
       "      <td>-1.0</td>\n",
       "      <td>NaN</td>\n",
       "      <td>6.8</td>\n",
       "      <td>комедия,криминал</td>\n",
       "      <td>-1.0</td>\n",
       "    </tr>\n",
       "  </tbody>\n",
       "</table>\n",
       "</div>"
      ],
      "text/plain": [
       "                title   puNumber           show_start_date            type  \\\n",
       "5055  Анализируй это!  221054410 2010-05-25 12:00:00+00:00  Художественный   \n",
       "5056   Анализируй то!  221054410 2010-05-25 12:00:00+00:00  Художественный   \n",
       "\n",
       "                                            film_studio production_country  \\\n",
       "5055          Уорнер Бразерс, Вилладж Роудшоу Филмз ЛТД      США-Австралия   \n",
       "5056  Уорнер Бразерс, Виллидж Роадшоу Пикчерз, Эн-Пи...                США   \n",
       "\n",
       "            director                         producer  \\\n",
       "5055   ХЭрольд Рэмис  Джейн Розенталь, Пола Уейнстейн   \n",
       "5056  Гарольд Реймис  Джейн Розенталь, Паул Уэйнстейн   \n",
       "\n",
       "                      age_restriction  refundable_support  \\\n",
       "5055  «16+» - для детей старше 16 лет                 NaN   \n",
       "5056  «12+» - для детей старше 12 лет                 NaN   \n",
       "\n",
       "      nonrefundable_support  budget financing_source ratings  \\\n",
       "5055                    NaN    -1.0              NaN     7.4   \n",
       "5056                    NaN    -1.0              NaN     6.8   \n",
       "\n",
       "                genres  box_office  \n",
       "5055  комедия,криминал        -1.0  \n",
       "5056  комедия,криминал        -1.0  "
      ]
     },
     "execution_count": 31,
     "metadata": {},
     "output_type": "execute_result"
    }
   ],
   "source": [
    "df[df['puNumber'] == 221054410]"
   ]
  },
  {
   "cell_type": "markdown",
   "metadata": {},
   "source": [
    "Всего два дубликата. Номера одинаковые, а фильмы разные. Возможно ошибка в данных, можно сообщить в источник данных о найденной ошибке. Прокатный номер у нас в аналитике не учавствует, можно не удалять эти дубликаты."
   ]
  },
  {
   "cell_type": "markdown",
   "metadata": {},
   "source": [
    "Явных дубликатов не нашли. Нашли две ошибки в данных о прокатных удостоверениях."
   ]
  },
  {
   "cell_type": "markdown",
   "metadata": {
    "id": "52fOPrEBgFyQ"
   },
   "source": [
    "### Категориальные значения\n"
   ]
  },
  {
   "cell_type": "code",
   "execution_count": 32,
   "metadata": {
    "id": "PnXKIVdFgFyR"
   },
   "outputs": [
    {
     "data": {
      "text/plain": [
       "type\n",
       "Художественный                4513\n",
       " Художественный               1384\n",
       "Анимационный                   828\n",
       "Прочие                         401\n",
       "Документальный                 280\n",
       "Научно-популярный               50\n",
       " Анимационный                    1\n",
       "Музыкально-развлекательный       1\n",
       "dtype: int64"
      ]
     },
     "execution_count": 32,
     "metadata": {},
     "output_type": "execute_result"
    }
   ],
   "source": [
    "df.value_counts('type')"
   ]
  },
  {
   "cell_type": "code",
   "execution_count": 33,
   "metadata": {},
   "outputs": [
    {
     "data": {
      "text/plain": [
       "array(['США', 'СССР', 'Франция', 'СССР, Венгрия',\n",
       "       'Германия-Великобритания', 'Великобритания - Италия',\n",
       "       'Чехословакия', 'США - Франция - Турция', 'Новая Зеландия',\n",
       "       'Канада - Франция - Испания', 'США-Германия',\n",
       "       'США - Великобритания', 'Великобритания', 'США - Германия',\n",
       "       'Франция - Мексика - США', 'Россия, Казахстан, США',\n",
       "       'СССР, Швеция', 'СССР, Франция, Англия, Куба, ГДР', 'Германия',\n",
       "       'Великобритания-США-Германия-КНР',\n",
       "       'СССР, ЧССР, Западный Берлин, ПНР', 'СССР, Италия', 'Гонконг, КНР',\n",
       "       'США - Франция', 'США - Япония - Франция - Великобритания',\n",
       "       'Гонконг - Сингапур - Таиланд - Великобритания', 'США-Канада',\n",
       "       'Франция - Италия - Великобритания - США', 'Франция - США',\n",
       "       'Ирландия-Великобритания-Германия', 'Чехия', 'США-Австралия',\n",
       "       'СССР, Финляндия', 'США-Франция-Великобритания-Австрия',\n",
       "       'США - Бельгия', 'США - Ирландия - Великобритания',\n",
       "       'Великобритания - США',\n",
       "       'Люксембург - Нидерланды - Испания - Великобритания - США - Италия',\n",
       "       'Великобритания - Франция - США', 'Новая Зеландия - США',\n",
       "       'США - Великобритания - Чехия',\n",
       "       'Канада - Франция - Великобритания', 'Ирландия',\n",
       "       'Великобритания - Германия - США',\n",
       "       'США - Франция - Великобритания', 'Япония', 'СССР, Польша',\n",
       "       'Франция - Испания', 'Канада-Франция', 'Германия - Италия - США',\n",
       "       'Аргентина - Бразилия', 'Дания - Швейцария - Бельгия - Франция',\n",
       "       'США - Испания', 'Германия - США',\n",
       "       'Франция - Австрия - Германия - Италия - США', 'Австрия',\n",
       "       'США - Канада - Германия', 'США - Канада',\n",
       "       'СССР - Швейцария - Франция', 'Россия - Казахстан', 'Гонконг',\n",
       "       'Италия', 'США - ОАЭ', 'Россия',\n",
       "       'США - Франция - Испания - Великобритания',\n",
       "       'Великобритания - Франция', 'США-Италия-Испания-Аргентина',\n",
       "       'Франция-Великобритания', 'КНР - Гонконг',\n",
       "       'Франция - Италия - Швейцария', 'США - Новая Зеландия',\n",
       "       'Франция - Бельгия', 'КНР', 'Германия - Великобритания - Австрия',\n",
       "       'Великобритания - Израиль - Франция - Япония - США', 'Швеция',\n",
       "       'Испания', 'Дания', 'Франция - Бельгия - Люксембург',\n",
       "       'США - Индия - ОАЭ',\n",
       "       'Германия-Канада-Великобритания-Швейцария-Франция',\n",
       "       'Мексика - Чили', 'Аргентина', 'Бразилия', 'Чили', 'Австралия',\n",
       "       'Португалия - Франция', 'США - ЮАР', 'Исландия-Ирландия-Германия',\n",
       "       'США-Индонезия', 'Южная Корея', 'Мексика - Испания - Дания - США',\n",
       "       'Великобритания-США', 'Франция - Италия', 'США-Франция',\n",
       "       'США - Венгрия - Великобритания', 'Бельгия-Франция-Италия',\n",
       "       'Чехия - Германия', 'Германия - Франция', 'США-Нидерланды',\n",
       "       'Украина', 'Великобритания - Германия', 'Франция-Бельгия',\n",
       "       'США-Франция-Испания', 'Италия - Франция', 'Канада',\n",
       "       'Швеция-Франция-Дания', 'Германия-Франция-Польша',\n",
       "       'Франция-Великобритания - Германия',\n",
       "       'США - Бразилия - Франция - Австралия - Великобритания - Германия',\n",
       "       'Германия-Австрия', 'Германия-Италия- Шри-Ланка',\n",
       "       'Великобритания - Испания',\n",
       "       'США - Великобритания - Канада - Швеция',\n",
       "       'Босния и Герцеговина - Франция - Великобритания - Германия - Словения - Бельгия - Сербия',\n",
       "       'Великобритания - Франция - Италия - США', 'США-ОАЭ',\n",
       "       'Испания - Франция', 'США-Великобритания', 'США-ЮАР',\n",
       "       'Великобритания-Австралия - США',\n",
       "       'Норвегия - Швеция - Дания - Германия', 'Норвегия', 'Швейцария',\n",
       "       'Греция - Германия - Франция', 'Норвения', 'Южная Корея - США',\n",
       "       'Чили - Франция - США', 'Австрия - Германия - Франция',\n",
       "       'Швеция - Дания', 'Великобритания - Франция - Бельгия - Италия',\n",
       "       'Франция - Германия', 'Грузия - Франция - Люксембург',\n",
       "       'США - Франция - Великобритания - Бразилия ', 'США - КНР',\n",
       "       'Мексика - Франция', 'США - Германия - Гонконг - Сингапур',\n",
       "       'Финляндия - Австрия - Россия', 'Испания - Куба',\n",
       "       'Великобритания - ЮАР', 'Великобритания - Ирландия', 'Израиль',\n",
       "       'Бразилия - Германия - Порртугалия - Франция ',\n",
       "       'Франция - Канада - Бельгия', 'Франция-Испания',\n",
       "       'Испания - Канада - Япония', 'Иран', 'Швеция-Куба',\n",
       "       'США-Великобритания-Ирландия', 'Гонконг - КНР', 'Нидерланды',\n",
       "       'Испания - Канада', 'Япония-Великобритания',\n",
       "       'Великобритания - Норвегия - Дания - Германия',\n",
       "       'Финляндия - Франция - Германия',\n",
       "       'Мексика - Франция - Нидерланды - Германия', 'США - Индия',\n",
       "       'США-Великобритания-Индия', 'США-Канада-Бельгия',\n",
       "       'Республика Узбекистан', 'Италия ', 'Турция',\n",
       "       'Сербия - Словения - Хорватия - Черногория - Македония',\n",
       "       'Киргизия', 'Германия - Нидерланды - Беларусь - Россия - Латвия',\n",
       "       'Индия', 'Нидерланды - Россия - Германия',\n",
       "       'Великобритания - Нидерланды - Франция - Хорватия',\n",
       "       'Канада - Южная Корея',\n",
       "       'Великобритания - Польша - КНР - Индия - Норвегия',\n",
       "       'Япония - Франция - США - Южная Корея - Турция',\n",
       "       'Мексика - Аргентина - Великобритания', 'Израиль - Франция',\n",
       "       'Польша - Португалия - Франция - Великобритания',\n",
       "       'Австралия - США', 'США - Великобритания ',\n",
       "       'Франция - Люксембург - Бельгия', 'Армения',\n",
       "       'Бельгия - Люксембург - Франция - Швейцария',\n",
       "       'США - Великобритания - Канада', 'Норвегия - Швеция',\n",
       "       'Канада - Франция', 'КНР - Гонконг - США',\n",
       "       'США - Сингапур - Малайзия - Индонезия', 'Германия - Россия',\n",
       "       'Япония - Канада', 'Финляндия - Дания - Германия - Ирландия',\n",
       "       'Франция - Люксембург - Германия - Бельгия - Швейцария - Великобритания ',\n",
       "       'Канада - США', 'США-Италия-Испания', 'США-Испания',\n",
       "       'США - Швейцария - Франция', 'Испания - США - Колумбия',\n",
       "       'Канада-ЮАР', 'Франция - Россия',\n",
       "       'Германия - Финляндия - Австралия', 'Дания - Швеция', 'Бельгия',\n",
       "       'Германия - Франция - Австрия', 'Франция-Индия', 'ЮАР',\n",
       "       'Франция-Перу', 'Франция - Канада', 'Республика Беларусь',\n",
       "       'Великобритания - Австрия - Франция - США',\n",
       "       'Австрия-Германия-Франция', 'США-Россия', 'Германия-США',\n",
       "       'США - Южная Корея', 'Канада - КНР',\n",
       "       'Дания - Швеция - Италия - Франция - Германия',\n",
       "       'Франция-Италия-Испания-Венгрия', 'Франция - Германия - Бельгия',\n",
       "       'Франция-Великобритания-Чехия', 'Румыния - Франция - Бельгия',\n",
       "       'Болгария - Франция - Изриль',\n",
       "       'Израиль - Германия - Польша - Бельгия - Франция - Люксембург',\n",
       "       'Россия, Германия, Франция, Бельгия', 'Индонезия',\n",
       "       'Франция - Португалия', 'Великобритания - Пуэрто-Рико',\n",
       "       'СССР, ФРГ, Западный Берлин', 'Россия, Республика Беларусь',\n",
       "       'Франция - Австрия', 'Бельгия-Нидерланды',\n",
       "       'Великобритания - США - Индия', 'США - Великобритания - Австралия',\n",
       "       'Канада - Франция - США - ОАЭ - Великобритания',\n",
       "       'США - Австралия - Франция',\n",
       "       'Дания-Франция-Бельгия-Германия-Великобритания',\n",
       "       'Испания - Аргентина', 'Исландия - Финляндия',\n",
       "       'Россия-Польша-Голландия-Словакия', 'Дания - Германия - Швеция',\n",
       "       'Южная Корея - США - Канада', 'Таиланд', 'США-Мальта',\n",
       "       'США -Германия',\n",
       "       'Великобритания - Германия - Франция - Кипр - США', 'Мексика',\n",
       "       'США - Великобритания - Ирландия', 'США - Украина',\n",
       "       'США - Финляндия - Испания - Великобритания - Франция',\n",
       "       'Австралия-Великобритания',\n",
       "       'США - Канада - Афганистан - Бельгия - Франция',\n",
       "       'США - Великобритания - Германия - Новая Зеландия - Бельгия - Франция',\n",
       "       'Франция-Канада',\n",
       "       'Ирландия - Финляндия - Бельгия - Великобритания - США - Швейцария',\n",
       "       'Малайзия - США', 'Германия - Италия',\n",
       "       'США - Франция - Бельгия - Италия', 'Франция - Ирландия - Швеция',\n",
       "       'Азербайджан-Россия', 'Великобритания - Италия - Швейцария',\n",
       "       'США - Германия - Великобритания',\n",
       "       'Германия - Бельгия - США -Франция', 'США-Китай', 'Чили - Испания',\n",
       "       'Франция - Швейцария', 'Канада - Испания',\n",
       "       'США - Румыния - Великобритания', 'США - Япония',\n",
       "       'США - Россия - Франция', 'Франция-США', 'Парагвай',\n",
       "       'Германия - Канада', 'США - Канада - Великобритания',\n",
       "       'Финляндия - Канада', 'Уругвай-Мексика-Германия ', 'США - Чили',\n",
       "       'Германия - Аргентина - Нидерланды - Чили',\n",
       "       'США - Канада - Индонезия', 'Армения - Казахстан', 'Финляндия',\n",
       "       'Испания - Италия - Франция',\n",
       "       'Бельгия - Испания - Канада - Нидерланды',\n",
       "       'Великобритания - Франция - Швеция - Бельгия',\n",
       "       'Мексика - Эквадор - Канада - США - Франция - Малайзия - Италия - Аргентина - Германия - Индия  ',\n",
       "       'Франция - Бенльгия', 'Индия - Великобритания',\n",
       "       'Япония - Великобритания - Франция',\n",
       "       'Испания - Уругвай - Аргентина',\n",
       "       'Франция - Италия - Бельгия - Люксембург',\n",
       "       'Франция - Украина - Грузия - Армения',\n",
       "       'Сербия - Германия - Венгрия', 'Франция-Польша', 'Франция ',\n",
       "       'Румыния-США', 'Россия-Азербайджан',\n",
       "       'США - Нидерланды - Бельгия - Венгрия - Греция - Канада',\n",
       "       'Германия - Франция - Люксембург', 'США - Россия',\n",
       "       'Великобритания - США - Франция', 'США - Австралия - Дания',\n",
       "       'Бельгия-Франция', 'США-Мексика',\n",
       "       'Норвегия - Азербайджан - Россия - Колумбия - Великобритания - Венгрия - Румыния - Франция - Грузия',\n",
       "       'СЩА', 'Бразилия - Испания', 'Россия, Франция, Латвия',\n",
       "       'Нидерланды - США - Германия - Канада - Франция - Ирландия - Великобритания',\n",
       "       'Уругвай - Колумбия', 'США - Испания - Болгария',\n",
       "       'Армения - Германия', 'США - Великобритания- Франция - Швеция',\n",
       "       'США - Мексика', 'Австралия-Турция-США', 'Швеция - Германия',\n",
       "       'Польша - Италия - Россия', 'Франция - Бразилия',\n",
       "       'США - Канада - КНР', 'СССР, Венгрия, ЧССР, ГДР',\n",
       "       'Бельгия - Германия - Люксембург', 'СССР  ', 'СССР ', ' СССР ',\n",
       "       'США - Австралия', 'Бразилия - США',\n",
       "       'США - Великобритания - Канада - КНР', 'Франция - Чили',\n",
       "       'Франция - США - Великобритания - Колумбия - Бельгия - Россия',\n",
       "       'Дания - Великобритания - ЮАР', 'СССР   ',\n",
       "       'Россия-США-Канада-Люксембург', 'Россия - Республика Кипр',\n",
       "       'Германия - США - Швеция - Франция',\n",
       "       'Великобритания-Германия-Канада-ЮАР', ' СССР   ', 'СССР     ',\n",
       "       'Ирландия, Канада',\n",
       "       'Япония - Великобритания - Швейцария - Ирландия - Дания - Франция - Польша - Австралия - Канада  ',\n",
       "       'Великобритания, Канада', 'Бельгия - США',\n",
       "       'Великобритания - США - Россия', 'Россия-Украина',\n",
       "       'Германия - США - Великобритания - Израиль', 'Канада - Германия',\n",
       "       'США- Ю.Корея', 'Индия - Мексика',\n",
       "       'Великобритания - Франция - Республика Кипр - Швейцария - США - Сербия',\n",
       "       'Испания - Аргентина - Индия - США',\n",
       "       'Норвегия - Исландия - США - Великобритания ',\n",
       "       'Турция - Германя - Франция', 'Германия - Великобритания',\n",
       "       'Австралия - Германия', 'Мексика - Испания',\n",
       "       'Великобритания - США - Германия - Бельгия',\n",
       "       'США - Чехия - Франция', 'Россия - Италия', 'Франция-Россия',\n",
       "       'Норвегия - Дания - Швеция', 'Франция - Швейцария - Германия',\n",
       "       'Грузия - Украина', 'Россия - Эстония - Финляндия - Беларусь',\n",
       "       'США - Франция - ЮАР', 'Великобритания - США - Швейцария',\n",
       "       'Канада-США', 'Мексика - Нидерланды - Германия - Франция',\n",
       "       'США - Испания - Франция', 'США - Великобритания - КНР',\n",
       "       'США-Франция-Канада',\n",
       "       'Япония, Великобритания, Австрия, Германия, Ю.Корея',\n",
       "       'Великобритания - Ирландия - США', 'Бельгия - Италия - Франция ',\n",
       "       'Швейцария-Германия-ЮАР', 'Великобритания - США - Германия',\n",
       "       'Германия - Исландия', 'Испания - США', 'СССР    ', 'Хорватия',\n",
       "       'Финляндия - Исландия - Швеция',\n",
       "       'Канада - США - Германия - Франция',\n",
       "       'США - Великобритания - Испания', 'Ирландия-Великобритания',\n",
       "       'Аргентина - Испания', 'Австрия - Германия', ' СССР',\n",
       "       'Германия - Швейцария - Франция - Южная Корея - США',\n",
       "       'Украина - Нидерланды', 'Венгрия - Германия - Швеция',\n",
       "       'Германия - Франция -  Польша - Турция - Канада - Италия - Россия ',\n",
       "       'СССР, Афганистан', 'СССР, Монголия', 'Россия-Кипр',\n",
       "       'Россия, Грузия, Испания',\n",
       "       'Великобритания - Нидерланды - Германия - Франция - Бельгия - Австрия ',\n",
       "       'Испания - Великобритания - Франция',\n",
       "       'Дания - Норвегия - Великобритания',\n",
       "       'Бельгия - Франция - Люксембург',\n",
       "       'Италия - Франция - Швейцария - Великобритания',\n",
       "       'Франция - Бельгия - Великобритания - Испания - Германия - США',\n",
       "       'Швейцария - Израиль - Франция - Великобритания',\n",
       "       'Великобритания - США - Канада - Нидерланды - Франция',\n",
       "       'Россия, Италия', 'СССР, Албания',\n",
       "       'Россия, Украина, Республика Беларусь, Литва',\n",
       "       'Финляндия - Великобритания - Германия', 'Россия, Украина, Польша',\n",
       "       'Франция - Италия - Бельгия - КНР',\n",
       "       'Германия - Бельгия - Люксембург - Ирландия', 'КНР - Сингапур',\n",
       "       'Франция - Бельгия - Великобритания - США - Нидерланды - Канада',\n",
       "       'США - Россия - Польша - Германия - Пуэрто Рико',\n",
       "       'Франция - Бельгия - Канада', 'США ', 'Мексика - США',\n",
       "       'США - Гонконг - КНР ', 'Греция - Россия',\n",
       "       'Ирландия - Дания - Бельгия - Люксембург - Франция',\n",
       "       'Эстония - Россия',\n",
       "       'Великобритания - Исландия - Испания - Швейцария - США',\n",
       "       'Австралия - Великобритания - Бельгия - Индия',\n",
       "       'Швеция - Германия - Франция - Норвегия',\n",
       "       'Нидерланды - Бельгия - Германия - Ирландия',\n",
       "       'Нидерланды - Великобритания - Бельгия',\n",
       "       'США - Колумбия - Испания', 'Франция-Испания-Бельгия-Панама',\n",
       "       'США-Великобритания-Чехия-Румыния',\n",
       "       'Аргентина - Уругвай - Россия - Германия - Франция - Нидерланды',\n",
       "       'Швеция - Франция - Норвегия - Дания',\n",
       "       'Италия-Франция-Великобритания', 'Великобритания, Франция',\n",
       "       'Австралия, США', 'Венесуэла',\n",
       "       'Великобритания - США - Австралия - Ирландия - Германия - Куба - Канада',\n",
       "       'Южная Корея - КНР',\n",
       "       'Аргентина - Мексика - Бразилия - Франция - США', 'Швеция - США',\n",
       "       'Франция - Германия - Турция - Катар', 'Франция-Китай',\n",
       "       'Россия, Германия, Великобритания',\n",
       "       'Великобритания - Италия - Испания', 'Италия - Россия',\n",
       "       'Япония - КНР - Южная Корея', 'Россия, Германия',\n",
       "       'Россия-Ирландия', 'Македония - Франция - Великобритания',\n",
       "       'Франция - Бразилия - Италия', 'Россия-США', 'Армения-Россия',\n",
       "       'Россия, Румыния', 'Франция -  Бельгия', 'Грузия-Франция',\n",
       "       'ЮАР - США', 'Великобритания-США-Франция',\n",
       "       'Великобритания - США - Германия - Канада - Австралия',\n",
       "       'США-Ирландия', 'Россия, Республика Кипр',\n",
       "       'Германия - Люксембург - Франция', 'Россия-Франция',\n",
       "       'США - Нидерланды - Финляндия - Великобритания - Италия',\n",
       "       'Республика Кипр', 'Венгрия', 'Франция - США - Норвегия - Дания',\n",
       "       'Германия - Австрия - Ирландия', 'США - Финляндия',\n",
       "       'Италия-Великобритания', 'Россия, Испания',\n",
       "       'США - Великобритания - Болгария', 'Великобритания - Люксембург',\n",
       "       'Индия - США', 'США - Канада - Россия - Франция - Чили - Ирландия',\n",
       "       'Грузия-Россия',\n",
       "       'Дания - Австрия - Ирландия - Финляндия - Норвегия - Швеция - Нидерланды',\n",
       "       'США-КНР', 'Грузия', 'Австралия - Ирландия',\n",
       "       'Великобритания - Канада', 'Италия - Аргентина - Словения ',\n",
       "       'Испания - Франция - Нидерланды - Германия - Бельгия - Великобритания - Канада',\n",
       "       'Франция - Чехия - Бельгия',\n",
       "       'Великобритания - Франция - Германия - США',\n",
       "       'Ирландия - Великобритания - Франция - США - Германия - Нидерланды',\n",
       "       'США - Канада - Япония - КНР', 'Италия-Франция',\n",
       "       'США - Великобритания - Исландия', 'Великобритания-Франция',\n",
       "       'Франция - Германия - Нидерланды', 'Иран ',\n",
       "       'Франция - Германия - Швеция - США - Чехия - Словакия - Великобритания - Нидерланды',\n",
       "       'Франция - Канада - Н.Зеландия - США - Нидерланды - Германия - Швеция - Россия',\n",
       "       'Турция - США',\n",
       "       'Великобритания - США - Канада - Бельгия - Нидерланды - Австрия - Германия',\n",
       "       'Израиль - Франция - Германия - Палестина - США - Австрия - Великобритания',\n",
       "       'Аргентина - Франция - Испания', 'СССР, Россия',\n",
       "       'Великобритания - Франция - Италия - Индия - Дания - КНР - Бангладеш - Камбоджа - Гаити - Уганда',\n",
       "       'Италия - Франция - Швейцария',\n",
       "       'Ирландия - Великобритания - Канада', 'Перу', 'США - Норвегия',\n",
       "       'Испания-Канада', 'Китай-Гонконг', 'США - Германия - КНР',\n",
       "       'Великобритания - Новая Зеландия',\n",
       "       'Франция - Дания - Швеция - КНР',\n",
       "       'США - Великобритания - Германия - Бельгия - Дания',\n",
       "       'США - Франция - Канада - Германия - Австралия - Индия',\n",
       "       'СССР, Румыния, Франция', 'СССР, ГДР', 'Австралия-Ирландия',\n",
       "       'США - Китай', 'Великобритания - Франция - Австрия - Швеция',\n",
       "       'Россия, Таджикистан', 'Нидерланды - Бельгия - Болгария',\n",
       "       'Великобритания - Канада - США', 'Франция - Бельгия - Испания',\n",
       "       'Китай-Гонконг-США', 'Франция - Великобритания', 'США - Вьетнам',\n",
       "       'США - Германия - Франция', 'Германия - Франция - Бельгия',\n",
       "       'США - Италия',\n",
       "       'Германия - Дания - Испания - Швеция - Канада - Эстония - Франция',\n",
       "       'Княжество Андорра - Украина', 'Германия - Люксембург - Бельгия',\n",
       "       'Великобритания - Россия - Украина - США',\n",
       "       'Германия - Бельгия - Люксембург - Норвегия',\n",
       "       'США - Австралия - Новая Зеландия - Великобритания',\n",
       "       'США - Франция - Канада - Великобритания', 'Испания-Колумбия',\n",
       "       'Великобритания - Чехия - Франция', 'Россия, Украина', 'Исландия',\n",
       "       'Великобритания - Франция - Венгрия',\n",
       "       'Россия, Франция, Германия, Бельгия', 'Франция - Македония',\n",
       "       'Нидерланды - Франция - Германия - Бельгия - Швеция - Великобритания',\n",
       "       'Испания - США - Великобритания - Канада', 'Германия - Австрия',\n",
       "       'Республика Казахстан',\n",
       "       'Франция - Испания - Дания - Венгрия - Швейцария', 'Франция-КНР',\n",
       "       'США - Пуэрто-Рико - Франция ', 'Мексика - Тайвань - США',\n",
       "       'Великобритания - Испания - Непал - Индия - Венгрия - Гонконг - Германия - Дания - Бахрейн',\n",
       "       'Великобритания - Аргентина - США - Франция - Россия - Испания',\n",
       "       'КНР - США', 'Италия - США', 'Финляндия - Швеция - Германия',\n",
       "       'Канада- Испания', 'Франция - Бельгия - Чехия',\n",
       "       'Франция-Бельгия-Канада', 'Франция - Германия - США',\n",
       "       'США - Дания', 'Индия - КНР', 'Чехия-Великобритания-США',\n",
       "       'США-ФРГ-Россия', 'Ирландия-Нидерланды-Франция-США-Великобритания',\n",
       "       'Россия, Грузия, Хорватия, Испания',\n",
       "       'Финляндия - Швеция - Норвегия', 'Сербия - Великобритания - США',\n",
       "       'США - Великобритания - Франция - Гонконг', 'Швейцария - Франция',\n",
       "       'Швейцария - Великобритания', 'ОАЭ - США',\n",
       "       'США - Франция - Германия - Канада - Австралия ',\n",
       "       'Германия - Австралия', 'Иран, Франция',\n",
       "       'США - Великобритания - Новая Зеландия', 'США-Колумбия',\n",
       "       'США-Франция-Ирландия', 'Великобритания - Франция - Бельгия',\n",
       "       'США - Великобритания - Япония', 'США - Франция - Германия',\n",
       "       'Польша - Ирландия', 'Ирландия - Великобритания - Франция - США',\n",
       "       'США - Бельгия - Великобритания', 'СССР, ВНР',\n",
       "       'Испания - Франция - США - Великобритания - Бельгия',\n",
       "       'Франция - Дания - США', 'США - Гонконг', 'Бразилия - К;анада',\n",
       "       'Франция-Германия', 'США - Колумбия',\n",
       "       'США - Ирландия - Великобритания - Франция',\n",
       "       'Великобритания - США - Канада', 'Польша - Франция',\n",
       "       'Канада - США - Нидерланды - Великобритания - Аргентина',\n",
       "       'Великобритания - Дания', 'Франция - Бельгия - Япония',\n",
       "       'Россия,  Испания', 'Франция -Бельгия',\n",
       "       'США - Канада - Германия - Франция', 'США-Канада-Франция',\n",
       "       'Россия - Германия', 'Россия-Италия', 'Китай - Гонконг',\n",
       "       'Германия-Австрия-Франция-Италия', 'США-Япония',\n",
       "       'США - Германия - Канада', 'Испания-Мексика',\n",
       "       'США - Япония - Канада - Великобритания - Германия - Франция',\n",
       "       'США -Великобритания - Австралия', 'Россия-Украина-Германия',\n",
       "       'Израиль - Франция - Великобритания - Германия', 'Корея',\n",
       "       'Россия - Болгария', 'США-Индия',\n",
       "       'Германия-Канада-Франция-Бельгия', 'Германия-Кения',\n",
       "       'Франция - Монако', 'Франция-Испания-Швейцария',\n",
       "       'Австрия-Франция-Германия', 'Румыния',\n",
       "       'США-Великобритания-Франция', 'Канада-Великобритания',\n",
       "       'Канада-Бразилия-Япония', 'Германия - Дания - Норвегия',\n",
       "       'Дания - Германия', 'СССР - Италия',\n",
       "       'СССР - ГДР - Польша - Италия',\n",
       "       'США - Испания - Франция - Великобритания', 'Китай',\n",
       "       'Мексика-Аргентина',\n",
       "       'Германия - Великобритания - Италия - Испания',\n",
       "       'Франция-Германия-Великобритания', 'Россия - Германия - Швейцария',\n",
       "       'Франция-Австралия', 'Голландия', 'Швейцария-Франция',\n",
       "       'Россия-Белоруссия', 'Франция - Испания - Тайвань',\n",
       "       'США-Южная Корея-Новая Зеландия', 'Великобритания-Венгрия',\n",
       "       'Россия-Германия', 'Великобритания-Франция-Германия',\n",
       "       'Франция-Германия-Италия', 'Швеция-Финляндия-Франция-Норвегия',\n",
       "       'Франция-Италия', 'Германия-Израиль',\n",
       "       'Швеция - Германия - Дания - Норвегия', 'США-Бельгия',\n",
       "       'Франция-Гонконг-Ирландия', 'Эстония', 'Литва-Россия-Украина',\n",
       "       'Германия - Италия - Франция',\n",
       "       'Великобритания - Австрия - Германия', 'Бельгия - Франция',\n",
       "       'Россия-Казахстан', 'Испания - Мальта',\n",
       "       'Франция-Россия-Румыния-Италия-Бельгия', 'Россия - Польша',\n",
       "       'Испания - Мексика', 'США-Аргентина', 'Великобритания ',\n",
       "       'Израиль-США-Франция', 'США - Новая Зеландия - Япония',\n",
       "       'Франция - Чехия - Великобритания', 'Россия-Польша',\n",
       "       'Германия-Франция-Великобритания', 'США-Германия-Канада',\n",
       "       'США-Гонконг-Китай', 'США - Великобритания - Германия',\n",
       "       'США-Канада-Австралия', 'Япония-США-Франция',\n",
       "       'Франция-Испания-Германия', 'США - Хорватия - Босния-Герцеговина',\n",
       "       'Великобритания - Чехия - Франция - Италия',\n",
       "       'США - Германия - Нидерланды', 'Германия - Франция - Канада',\n",
       "       'Франция-Грузия-Германия-Россия-Украина-Бельгия',\n",
       "       'Великобритания - Франция - Италия', 'Россия - США',\n",
       "       'Франция - Италия - Иран', 'Россия - Азербайджан', 'Греция',\n",
       "       'Дания - США', 'США-Великобритания-Новая Зеландия',\n",
       "       'США-Германия-Австралия', 'США-Канада-Италия',\n",
       "       'США - Япония - Германия', 'Австралия-США',\n",
       "       'Франция - Великобритания - Багамские острова - США',\n",
       "       'Швейцария - Люксембург', 'Швейцария - Австрия',\n",
       "       'Германия - Швейцария', 'Дания-Швеция-Франция-Германия', 'Польша',\n",
       "       'Швейцария-Австрия', 'Бразилия - Канада - США',\n",
       "       'Нидерланды - Россия', 'Португалия', 'Франция-Аргентина',\n",
       "       'Швеция-Франция', 'Франция-Украина', 'Германия-Украина-Нидерланды',\n",
       "       'Италия-Швейцария', 'США-Германия-Великобритания',\n",
       "       'Латвия - Россия', 'Германия-Франция-Великобритания-США',\n",
       "       'Канада - Италия', 'США - Объединенные Арабские Эмираты',\n",
       "       'США-Венгрия', 'Малайзия', 'Россия - Германия - Украина',\n",
       "       'США - Австралия - Мексика', 'Литва - Венгрия', 'Германия - Китай',\n",
       "       'Казахстан', 'Республика Корея',\n",
       "       'США - Германия - Франция - Великобритания - Канада ',\n",
       "       'Бельгия - Германия - Люксембург - Франция', 'Франция - Греция',\n",
       "       'Италия - Канада', 'США - Великобритания - Франция',\n",
       "       'США-Италия-Греция', 'Германия - США - Великобритания - Ирландия',\n",
       "       'Великобритания - Франция - Германия',\n",
       "       'Германия - Нидерланды - ЮАР',\n",
       "       'США-Япония-Германия-Великобритания-Нидерланды',\n",
       "       'США-Япония-Германия-Великобритания',\n",
       "       'Германия - Франция - Польша',\n",
       "       'Таиланд-Великобритания-Франция-Германия-Испания-Нидерланды',\n",
       "       'Германия-Италия-Швейцария',\n",
       "       'Дания - Швеция - Великобритания - Франция - Германия - Нидерланды - Норвегия - Финляндия',\n",
       "       'Франция - Великобритания - Нидерланды - Люксембург',\n",
       "       'Нидерланды-Великобритания-Франция-Италия-Япония',\n",
       "       'Финляндия-Дания-Германия-Ирландия', 'Испания-Аргентина',\n",
       "       'Великобритания - Нидерланды - Франция - США', 'Канада - Мексика',\n",
       "       'США, Франция', 'Канада-Южная Корея-США',\n",
       "       'Великобритания - Франция - Бельгия - США', 'КНР - Канада - США',\n",
       "       'Италия - Франция - Германия',\n",
       "       'Швеция - Германия - Франция - Дания', 'Франция - США - Бельгия',\n",
       "       'Украина - Германия - Латвия - Эстония', 'Австрия - Люксембург',\n",
       "       'Великобритания - КНР', 'Монголия', 'Франция - Дания',\n",
       "       'Швеция - Дания - Финляндия',\n",
       "       'Сингапур - Великобритания - Индонезия - Канада - США',\n",
       "       'США - Германия - Япония', 'Таиланд - США', 'Франция - Нидерланды',\n",
       "       'Великобритания - Румыния', 'США - Мальта',\n",
       "       'Великобритания - Германия - Нидерланды - Дания',\n",
       "       'Франция - Германия - Литва - Нидерланды - Россия',\n",
       "       'США - ЮАР - Гонконг', 'Австралия - Колумбия',\n",
       "       'Великобритания - Польша', 'США - Великобритания - Швеция',\n",
       "       'Франция - Швеция - Дания - Норвегия', 'Болгария - США',\n",
       "       'СССР, ФРГ', 'Бельгия - Нидерланды - Франция',\n",
       "       'Финляндия - Германия', 'Болгария',\n",
       "       'Грузия - Россия - Украина - Хорватия - Германия',\n",
       "       'Франция - Люксембург', 'Франция - Германия - Австрия',\n",
       "       'Норвегия - США', 'Германия-Швеция', 'Франция - Германия - Италия',\n",
       "       'Франция-Германия-Австрия', 'КНР-США',\n",
       "       'Великобритания - Ирландия - США ',\n",
       "       'Дания - Латвия - Россия - США', 'Финляндия - Польша',\n",
       "       'Германия - Бельгия', 'Германия - США - Франция - Испания',\n",
       "       'Бельгия-Германия-Канада-Франция-США-Великобритания',\n",
       "       'Нидерланды - Бельгия - Люксембург', 'Канада-Германия',\n",
       "       'Люксембург - Бельгия - Франция', 'США-Великобритания-Австралия',\n",
       "       'Великобритания, Новая Зеландия', 'Бельгия, Великобритания, США',\n",
       "       'Великобритания, Австралия', 'Исландия, Бельгия',\n",
       "       'Испания - Швейцария - Великобритания - Германия - Новая Зеландия - Нидерланды - Канада',\n",
       "       'Франция, Бельгия', 'Великобритания, США', 'Киргизия-Россия',\n",
       "       'Германия, США', 'Великобритания, США, Испания',\n",
       "       'Италия - Швейцария - Германия', 'Россия, Армения',\n",
       "       'Франция, Германия', 'Китай, Канада, США', 'Германия, Австралия',\n",
       "       'КНР, США', 'США, Великобритания, Люксембург',\n",
       "       'Испания, Ирландия, Бельгия, Франция',\n",
       "       'Великобритания - Гонконг - Венгрия - США - Ирландия',\n",
       "       'США - Пуэрто Рико', 'Аргентина - Испания - Уругвай',\n",
       "       'Израиль - Германия - Франция - Швейцария',\n",
       "       'Великобритания - Мексика - США', 'Испания - Болгария - США',\n",
       "       'Россия-Словакия-Чехия',\n",
       "       'Швейцария - КНР - США - Россия - Республика Корея - Великобритания',\n",
       "       'Россия, Нидерланды, Финляндия',\n",
       "       'Испания - Бельгия - Франция - Португалия - Великобритания',\n",
       "       'Бразилия - Португалия - Франция', 'Швеция - Норвегия',\n",
       "       'Франция - Польша - Бельгия', 'CША', 'Китай, США',\n",
       "       'Италия, Франция, Германия', 'Германия - Австрия - Франция',\n",
       "       'Чехия - Словакия - Хорватия', 'Россия, Польша, Финляндия',\n",
       "       'Россия, Латвия, Чешская Республика',\n",
       "       'Франция - Великобритания - Камбоджа - США - КНР',\n",
       "       'Чехия - Испания - США', 'Германия - Люксембург - Дания',\n",
       "       'Великобритания - Испания - Германия', 'Дания - Исландия',\n",
       "       'Германия, Франция, Великобритания',\n",
       "       'Великобритания - Испания - Италия - Латвия - Франция - Эстония',\n",
       "       'Дания, Швеция, Великобритания, Франция, Германия, Норвегия, Финляндия, Нидерланды, Италия',\n",
       "       'Польша - Франция - Великобритания',\n",
       "       'Дания, Норвегия, Венгрия, Чехия',\n",
       "       'Дания - Франция - Германия - Швеция',\n",
       "       'Великобритания, Швеция, США',\n",
       "       'Канада, Франция, Италия, Швейцария, США', 'США, Индия',\n",
       "       'США - Великобритания - Германия - - Швеция - Канада',\n",
       "       'Италия, Франция', 'Республика Беларусь, Германия, США, Россия',\n",
       "       'Италия-Швейцария-Франция-Германия ',\n",
       "       'Россия - Франция - Великобритания - Латвия', 'Россия-Беларусь',\n",
       "       'Франция - Испания - Румыния - США - Бельгия', 'Италия-США',\n",
       "       'Россия, Австрия', 'Ирландия - Великобритания - США',\n",
       "       'Швейцария, Великобритания, Франция, США, Ирландия',\n",
       "       'Мексика, Франция, Германия, Дания, Швеция', 'Нидерланды, Бельгия',\n",
       "       'Швеция, Норвегия, Финляндия, Франция', 'Испания, Франция, Италия',\n",
       "       'Испания-Франция-Греция-Индия-США-Россия-Великобритания',\n",
       "       'Великобритания - Япония - США',\n",
       "       'Дания, Канада, Норвегия, Австралия, США', 'Аргентина, Испания',\n",
       "       'Россия, Германия, Казахстан, Польша, Китай',\n",
       "       'Португалия, Франция, Польша, США', 'США - Канада - Аргентина',\n",
       "       'Ливан-США', 'США, Великобритания', 'Япония - США',\n",
       "       'США, Гонконг ',\n",
       "       'Франция - Россия - Швейцария - Румыния - Венгрия',\n",
       "       'Аргентина-Испания', 'Россия, Сербия', 'США - Болгария - Мексика',\n",
       "       'США - Великобритания - Швейцария - Франция',\n",
       "       'Таиланд - КНР - США',\n",
       "       'Великобритания, Нидерланды, Польша, Швейцария, Франция',\n",
       "       'Ирландия - США',\n",
       "       'Германия - Франция - Великобритания - Польша - США',\n",
       "       'Великобритания-Франция-Италия', 'США - Австралия - Индия',\n",
       "       'Франция - КНР', 'Великобритания - Израиль',\n",
       "       'Великобритания - Норвегия - Кения - Хорватия',\n",
       "       'США - Бразилия - Великобритания - Канада', 'Германия, Бельгия',\n",
       "       'Австралия, Канада', 'США, Великобритания, Франция',\n",
       "       'Кения, Германия', 'Нидерланды, Бельгия, Люксембург', 'Колумбия',\n",
       "       'Латвия - Франция', 'Ирландия, Великобритания',\n",
       "       'Франция - Израиль - Германия', 'Швеция, Франция, Великобритания',\n",
       "       'Бельгия - Люксембург', 'Германия - Бельгия - Великобритания',\n",
       "       'Испания, Франция, Великобритания, Дания, Бельгия, Германия',\n",
       "       'Румыния, ЮАР, Иран, Франция, Канада, Великобритания',\n",
       "       'Германия, Франция', 'США, Япония',\n",
       "       'США, Великобритания, Ирландия, Люксембург', 'Республика Армения',\n",
       "       'США, Франция, Япония', 'Япония, США', 'Канада, США',\n",
       "       'Республика Кипр - Россия',\n",
       "       'Дания - Франция - Италия - Бельгия - Нидерланды',\n",
       "       'Россия - Грузия', 'Италия, Германия', 'Норвегия, Швеция, Дания',\n",
       "       'Республика Кипр, Россия', 'КНР, Индия, Гонконг, США',\n",
       "       'Израиль, Украина', 'США, Россия', 'США - КНР - Индия - Ю.Корея',\n",
       "       'США - Швеция', 'Франция, Канада', 'Россия-Китай',\n",
       "       'Канада, Великобритания', 'США, Германия',\n",
       "       'Канада, США, Каймановы острова',\n",
       "       'Бразилия, Уругвай, Дания, Норвегия, Чили, Швеция',\n",
       "       'Пуэрто-Рико, Великобритания, США',\n",
       "       'Уругвай - Аргентина - Испания',\n",
       "       'США - Великобритания - Италия - Израиль - Сербия - Индия',\n",
       "       'США - Канада - Франция - Индия', 'Великобритания - Россия - КНР',\n",
       "       'Франция, Новая Зеландия', 'Франция, Люксембург, Бельгия',\n",
       "       'Канада, США, Норвегия', 'Италия, Испания',\n",
       "       'Испания - Германия - Нидерланды', 'Бразилия - США - КНР ',\n",
       "       'Великобритания, Германия, Дания, США', '2019',\n",
       "       'Италия - Фрация - Бразилия - Германия',\n",
       "       'Норвегия - Швеция - Россия', 'Великобритания, Япония, США',\n",
       "       'Сша, Канада', 'Бельгия, Канада',\n",
       "       'Великобритания - Австралия - США', 'США, Канада', 'КНР - США ',\n",
       "       'Франция - Финляндия', 'Колумбия - США',\n",
       "       'Великобритания, Франция, Бельгия', 'Норвегия - Нидерланды',\n",
       "       'Великобритания, Канада, США', 'Япония, Великобритания',\n",
       "       'Италия - Бельгия - Франция', 'Россия, Бельгия, Финляндия',\n",
       "       'США, Украина', 'Франция, Норвегия',\n",
       "       'Великобритания, Южная Корея, Канада, США, Индия, Китай, Япония',\n",
       "       'Канада - Норвегия', 'Республика Кипр-Россия', 'Германия, Россия',\n",
       "       'Польша - Франция - Испания - Бразилия - Швеция',\n",
       "       'Австрия, Великобритания, Германия', 'Франция - Сенегал - Бельгия',\n",
       "       'Франция, Бельгия, Люксембург', 'Финляндия, Латвия', 'Пакистан',\n",
       "       'Германия, Франция, США', 'Германия - Великобритания - США',\n",
       "       'КНР - Франция', 'Дания, Норвегия, Швеция, Исландия',\n",
       "       'Республика Кипр, США, Россия', 'Новая Зеландия - КНР',\n",
       "       'Дания - Канада - Швеция - Франция - Германия - Великобритания - США'],\n",
       "      dtype=object)"
      ]
     },
     "execution_count": 33,
     "metadata": {},
     "output_type": "execute_result"
    }
   ],
   "source": [
    "df['production_country'].unique()"
   ]
  },
  {
   "cell_type": "code",
   "execution_count": 34,
   "metadata": {},
   "outputs": [
    {
     "data": {
      "text/plain": [
       "array(['боевик,драма,мелодрама', 'драма,военный',\n",
       "       'фантастика,боевик,триллер', 'драма', 'мелодрама,комедия',\n",
       "       'мюзикл,мелодрама,комедия', 'комедия,криминал',\n",
       "       'боевик,триллер,детектив', 'боевик,драма,приключения',\n",
       "       'драма,спорт', 'триллер,драма,мелодрама', 'комедия,мелодрама',\n",
       "       'драма,мелодрама,комедия', 'драма,мелодрама', 'драма,история',\n",
       "       'драма,мелодрама,семейный', 'комедия,мелодрама,криминал',\n",
       "       'комедия', 'боевик,драма,криминал', 'драма,комедия',\n",
       "       'ужасы,фантастика,комедия', 'мультфильм,короткометражка,мелодрама',\n",
       "       'драма,криминал', 'мультфильм,фантастика,фэнтези',\n",
       "       'триллер,драма,криминал', 'драма,мелодрама,биография',\n",
       "       'драма,комедия,военный', 'фантастика,драма,детектив',\n",
       "       'мюзикл,семейный', 'unknown', 'военный,приключения,драма',\n",
       "       'документальный,драма', 'драма,биография,история',\n",
       "       'боевик,триллер,драма', 'фэнтези,боевик',\n",
       "       'боевик,комедия,криминал', 'мюзикл,комедия,детский',\n",
       "       'комедия,мелодрама,драма', 'мультфильм,фэнтези,комедия',\n",
       "       'комедия,история', 'мелодрама', 'драма,биография,музыка',\n",
       "       'фэнтези,драма,мелодрама', 'триллер,военный',\n",
       "       'драма,мелодрама,военный', 'мюзикл,драма,мелодрама',\n",
       "       'мюзикл,комедия', 'мультфильм,приключения,семейный',\n",
       "       'ужасы,триллер', 'боевик,драма,военный', 'драма,боевик',\n",
       "       'мультфильм,драма,комедия', 'триллер,криминал',\n",
       "       'военный,биография,драма', 'комедия,семейный', 'военный',\n",
       "       'драма,семейный,биография', 'фэнтези,приключения,семейный',\n",
       "       'драма,криминал,биография', 'ужасы,триллер,детектив',\n",
       "       'боевик,история,драма', 'ужасы,триллер,драма',\n",
       "       'драма,криминал,спорт', 'документальный,короткометражка',\n",
       "       'триллер,драма', 'криминал,детектив,приключения',\n",
       "       'драма,комедия,криминал', 'драма,комедия,вестерн',\n",
       "       'драма,мелодрама,детектив', 'мелодрама,биография',\n",
       "       'фэнтези,мелодрама,драма', 'драма,мелодрама,история',\n",
       "       'комедия,приключения,история', 'приключения', 'драма,семейный',\n",
       "       'криминал,детектив', 'мультфильм,короткометражка,ужасы',\n",
       "       'фантастика,триллер,драма', 'фэнтези,мелодрама,комедия',\n",
       "       'драма,биография', 'комедия,криминал,история',\n",
       "       'триллер,драма,детектив', 'фантастика,комедия,приключения',\n",
       "       'фэнтези,семейный', 'ужасы,фантастика,боевик',\n",
       "       'мелодрама,криминал', 'комедия,приключения,мелодрама',\n",
       "       'боевик,триллер,приключения', 'боевик,приключения',\n",
       "       'боевик,триллер,криминал', 'документальный,военный,история',\n",
       "       'драма,музыка', 'боевик,драма', 'приключения,боевик',\n",
       "       'драма,военный,биография', 'триллер,драма,приключения',\n",
       "       'аниме,мультфильм,фэнтези', 'триллер,детектив,драма',\n",
       "       'боевик,триллер,мелодрама', 'боевик,история',\n",
       "       'приключения,история', 'драма,комедия,приключения',\n",
       "       'фэнтези,комедия,приключения', 'драма,вестерн',\n",
       "       'документальный,музыка', 'мелодрама,драма',\n",
       "       'триллер,криминал,детектив', 'ужасы', 'боевик,комедия,приключения',\n",
       "       'мультфильм,фэнтези,боевик', 'боевик,фэнтези,драма',\n",
       "       'фэнтези,драма', 'фэнтези,боевик,комедия',\n",
       "       'приключения,детский,комедия', 'документальный',\n",
       "       'боевик,триллер,комедия', 'мелодрама,комедия,криминал',\n",
       "       'драма,детектив', 'мюзикл,ужасы,триллер', 'детектив,триллер,ужасы',\n",
       "       'ужасы,фэнтези', 'ужасы,фэнтези,триллер', 'мультфильм,драма',\n",
       "       'ужасы,боевик,фантастика', 'боевик', 'фантастика,боевик',\n",
       "       'мелодрама,комедия,приключения', 'триллер,детектив',\n",
       "       'мюзикл,мелодрама,фэнтези', 'криминал', 'триллер,комедия,криминал',\n",
       "       'боевик,приключения,триллер', 'триллер,драма,военный',\n",
       "       'комедия,семейный,музыка', 'комедия,фантастика,мелодрама',\n",
       "       'фантастика,триллер,криминал', 'комедия,драма', 'боевик,военный',\n",
       "       'ужасы,фантастика,триллер', 'фантастика,драма,мелодрама',\n",
       "       'фэнтези,драма,детектив', 'боевик,триллер', 'боевик,драма,история',\n",
       "       'мультфильм,мюзикл,фэнтези', 'для взрослых,драма,мелодрама',\n",
       "       'мультфильм,боевик,детектив', 'фантастика,мелодрама,боевик',\n",
       "       'ужасы,фантастика,детектив', 'фантастика,боевик,приключения',\n",
       "       'мелодрама,комедия,спорт', 'комедия,боевик,приключения',\n",
       "       'документальный,приключения', 'мультфильм,короткометражка,детский',\n",
       "       'комедия,приключения', 'ужасы,драма', 'ужасы,фэнтези,боевик',\n",
       "       'мультфильм,фэнтези,детский', 'мюзикл,боевик,драма',\n",
       "       'семейный,комедия,драма', 'концерт,музыка', 'фэнтези,боевик,драма',\n",
       "       'драма,комедия,музыка', 'фантастика,фэнтези,боевик',\n",
       "       'фэнтези,комедия,семейный', 'фэнтези,драма,комедия',\n",
       "       'мультфильм,мюзикл,драма', 'триллер', 'боевик,криминал,триллер',\n",
       "       'мультфильм,приключения,драма', 'мелодрама,музыка',\n",
       "       'документальный,музыка,концерт', 'мультфильм,семейный',\n",
       "       'мультфильм,комедия,приключения', 'мультфильм,комедия,семейный',\n",
       "       'фантастика,драма', 'фэнтези,боевик,приключения',\n",
       "       'мультфильм,приключения', 'драма,военный,история', 'история',\n",
       "       'драма,приключения,военный',\n",
       "       'документальный,короткометражка,семейный',\n",
       "       'мелодрама,история,триллер', 'ужасы,детектив',\n",
       "       'мюзикл,комедия,приключения', 'драма,спорт,биография',\n",
       "       'фантастика,боевик,комедия', 'фантастика,приключения,детектив',\n",
       "       'короткометражка,драма,военный', 'драма,мультфильм',\n",
       "       'приключения,семейный', 'детектив', 'триллер,приключения',\n",
       "       'аниме,мультфильм,боевик', 'драма,комедия,биография',\n",
       "       'драма,комедия,спорт', 'боевик,мелодрама,комедия',\n",
       "       'семейный,комедия', 'фэнтези,боевик,триллер',\n",
       "       'документальный,фэнтези,семейный', 'фантастика,фэнтези,драма',\n",
       "       'ужасы,комедия,фэнтези', 'документальный,биография,музыка',\n",
       "       'фантастика,боевик,фэнтези', 'ужасы,боевик,триллер',\n",
       "       'комедия,криминал,семейный', 'приключения,драма',\n",
       "       'криминал,драма,триллер', 'драма,детектив,криминал',\n",
       "       'фэнтези,приключения,комедия', 'комедия,спорт',\n",
       "       'мюзикл,фэнтези,мелодрама', 'мультфильм,фэнтези,приключения',\n",
       "       'фантастика,фэнтези,приключения', 'фэнтези',\n",
       "       'фэнтези,приключения,боевик', 'фантастика,боевик,драма',\n",
       "       'криминал,драма', 'криминал,триллер,драма',\n",
       "       'драма,мелодрама,приключения', 'детский,комедия',\n",
       "       'фантастика,драма,боевик', 'мультфильм,семейный,фэнтези',\n",
       "       'концерт,музыка,документальный', 'ужасы,комедия,приключения',\n",
       "       'драма,мелодрама,криминал', 'ужасы,фантастика,фэнтези',\n",
       "       'боевик,комедия', 'мультфильм,фантастика,комедия', 'триллер,ужасы',\n",
       "       'мультфильм,мюзикл,комедия', 'мелодрама,фэнтези,триллер',\n",
       "       'детский,приключения,комедия', 'комедия,детектив',\n",
       "       'аниме,мультфильм,мелодрама', 'документальный,драма,семейный',\n",
       "       'документальный,биография,история', 'военный,боевик,драма',\n",
       "       'ужасы,комедия', 'комедия,приключения,семейный',\n",
       "       'приключения,биография,история', 'детский,приключения,семейный',\n",
       "       'спорт,драма,биография', 'аниме,мультфильм,ужасы',\n",
       "       'фантастика,боевик,криминал', 'мюзикл,драма',\n",
       "       'драма,криминал,детектив', 'аниме,мультфильм,драма',\n",
       "       'драма,триллер,приключения', 'триллер,криминал,драма',\n",
       "       'фэнтези,комедия,драма', 'мультфильм,комедия',\n",
       "       'драма,комедия,история', 'комедия,биография,история',\n",
       "       'мультфильм,фантастика,приключения', 'аниме,мультфильм,фантастика',\n",
       "       'мультфильм,фэнтези,семейный', 'мультфильм,боевик,комедия',\n",
       "       'комедия,криминал,спорт', 'документальный,мюзикл',\n",
       "       'мелодрама,комедия,музыка', 'биография',\n",
       "       'триллер,криминал,комедия', 'фантастика,драма,комедия',\n",
       "       'комедия,драма,мелодрама', 'фантастика,приключения,боевик',\n",
       "       'мультфильм,фэнтези,драма', 'триллер,комедия',\n",
       "       'драма,приключения,биография', 'фантастика,комедия',\n",
       "       'мелодрама,драма,комедия', 'боевик,криминал',\n",
       "       'драма,криминал,боевик', 'мультфильм,мюзикл,детский',\n",
       "       'драма,фэнтези', 'документальный,семейный',\n",
       "       'фэнтези,драма,приключения', 'ужасы,комедия,фантастика',\n",
       "       'драма,мелодрама,музыка', 'фэнтези,драма,семейный',\n",
       "       'триллер,мелодрама,драма', 'вестерн,боевик,драма',\n",
       "       'мультфильм,короткометражка,комедия', 'триллер,драма,история',\n",
       "       'ужасы,фантастика', 'ужасы,мелодрама,комедия',\n",
       "       'фэнтези,приключения', 'фантастика,триллер',\n",
       "       'ужасы,боевик,фэнтези', 'мультфильм,комедия,детский',\n",
       "       'триллер,драма,биография', 'мультфильм,ужасы,фэнтези',\n",
       "       'мультфильм,ужасы,фантастика', 'ужасы,боевик,комедия',\n",
       "       'драма,биография,спорт', 'мультфильм', 'мелодрама,комедия,драма',\n",
       "       'приключения,фантастика,семейный', 'комедия,криминал,детектив',\n",
       "       'ужасы,триллер,комедия', 'криминал,комедия,триллер',\n",
       "       'семейный,приключения,комедия', 'мультфильм,драма,приключения',\n",
       "       'ужасы,драма,детектив', 'драма,приключения,фэнтези',\n",
       "       'фантастика,мультфильм,драма', 'драма,триллер,детектив',\n",
       "       'драма,история,музыка', 'детский', 'триллер,боевик,криминал',\n",
       "       'драма,фантастика', 'комедия,драма,семейный',\n",
       "       'боевик,драма,комедия', 'комедия,ужасы',\n",
       "       'драма,фантастика,триллер', 'фантастика,драма,триллер',\n",
       "       'история,спорт,драма', 'документальный,биография',\n",
       "       'биография,история', 'спорт,драма', 'боевик,фэнтези',\n",
       "       'мультфильм,фэнтези', 'документальный,комедия,история',\n",
       "       'криминал,комедия,боевик', 'фэнтези,приключения,драма',\n",
       "       'музыка,концерт', 'триллер,драма,боевик',\n",
       "       'комедия,криминал,боевик', 'комедия,фантастика,боевик',\n",
       "       'вестерн,приключения,боевик', 'аниме,мультфильм,комедия',\n",
       "       'детектив,криминал,триллер', 'мультфильм,комедия,криминал',\n",
       "       'комедия,приключения,детектив', 'мелодрама,фантастика,драма',\n",
       "       'драма,комедия,семейный', 'приключения,фантастика',\n",
       "       'триллер,детектив,ужасы', 'комедия,приключения,фэнтези',\n",
       "       'фэнтези,триллер,драма', 'мелодрама,приключения,боевик',\n",
       "       'детектив,триллер,криминал', 'фэнтези,семейный,мелодрама',\n",
       "       'военный,драма', 'документальный,приключения,семейный',\n",
       "       'криминал,комедия,драма', 'комедия,фантастика',\n",
       "       'история,биография,драма', 'мелодрама,драма,музыка',\n",
       "       'боевик,мелодрама', 'комедия,криминал,триллер',\n",
       "       'детектив,триллер,боевик', 'комедия,боевик,криминал',\n",
       "       'комедия,вестерн', 'детский,мелодрама,семейный',\n",
       "       'короткометражка,мультфильм', 'комедия,фэнтези',\n",
       "       'фантастика,драма,ужасы', 'триллер,драма,ужасы',\n",
       "       'драма,фэнтези,история', 'комедия,драма,короткометражка',\n",
       "       'фэнтези,триллер,приключения', 'семейный',\n",
       "       'комедия,криминал,драма', 'комедия,фэнтези,ужасы',\n",
       "       'короткометражка,комедия,криминал', 'фантастика',\n",
       "       'триллер,ужасы,драма', 'мелодрама,драма,фэнтези',\n",
       "       'фантастика,приключения,драма', 'боевик,детектив',\n",
       "       'военный,драма,боевик', 'комедия,мелодрама,фэнтези',\n",
       "       'вестерн,криминал,триллер', 'драма,история,триллер',\n",
       "       'мультфильм,фантастика,боевик', 'детектив,драма,криминал',\n",
       "       'приключения,история,драма', 'мультфильм,семейный,детский',\n",
       "       'биография,драма,история', 'триллер,криминал,боевик',\n",
       "       'история,мелодрама', 'приключения,детский',\n",
       "       'музыка,приключения,концерт', 'военный,драма,комедия',\n",
       "       'фэнтези,боевик,военный', 'фантастика,детектив,боевик',\n",
       "       'мультфильм,фэнтези,история', 'биография,мелодрама,драма',\n",
       "       'документальный,биография,спорт', 'фантастика,комедия,детектив',\n",
       "       'музыка,концерт,документальный', 'триллер,боевик,приключения',\n",
       "       'триллер,драма,комедия', 'детектив,криминал',\n",
       "       'мультфильм,приключения,фэнтези', 'мелодрама,приключения',\n",
       "       'комедия,музыка', 'мелодрама,комедия,ужасы',\n",
       "       'драма,криминал,приключения', 'приключения,детектив,мелодрама',\n",
       "       'драма,криминал,фантастика', 'фэнтези,драма,биография',\n",
       "       'детектив,фантастика,криминал', 'триллер,драма,фантастика',\n",
       "       'ужасы,комедия,боевик', 'мелодрама,история', 'триллер,боевик',\n",
       "       'фильм-нуар,триллер,детектив', 'комедия,криминал,приключения',\n",
       "       'ужасы,триллер,мелодрама', 'военный,драма,история',\n",
       "       'драма,спорт,история', 'документальный,драма,история',\n",
       "       'триллер,мелодрама,детектив', 'детский,семейный',\n",
       "       'мюзикл,семейный,драма', 'биография,военный,драма',\n",
       "       'мультфильм,детский', 'боевик,криминал,драма',\n",
       "       'детектив,фэнтези,триллер', 'драма,боевик,приключения',\n",
       "       'драма,мелодрама,фэнтези', 'детектив,история,драма',\n",
       "       'фэнтези,боевик,ужасы', 'ужасы,фэнтези,мелодрама',\n",
       "       'ужасы,приключения', 'боевик,фантастика',\n",
       "       'ужасы,мелодрама,детектив', 'фантастика,триллер,приключения',\n",
       "       'боевик,приключения,история', 'приключения,боевик,триллер',\n",
       "       'детектив,ужасы,криминал', 'семейный,фэнтези', 'мюзикл,мелодрама',\n",
       "       'драма,военный,приключения', 'фантастика,драма,приключения',\n",
       "       'приключения,семейный,драма', 'история,драма,боевик',\n",
       "       'мультфильм,приключения,комедия', 'криминал,драма,комедия',\n",
       "       'ужасы,комедия,драма', 'комедия,семейный,приключения',\n",
       "       'мюзикл,фэнтези,драма', 'драма,вестерн,боевик',\n",
       "       'фантастика,триллер,детектив', 'драма,история,детектив',\n",
       "       'короткометражка,биография', 'мультфильм,приключения,фантастика',\n",
       "       'комедия,триллер', 'мультфильм,приключения,детектив',\n",
       "       'драма,триллер', 'ужасы,триллер,криминал',\n",
       "       'документальный,криминал,военный', 'ужасы,фэнтези,драма',\n",
       "       'фэнтези,комедия', 'ужасы,фэнтези,комедия', 'комедия,музыка,драма',\n",
       "       'мультфильм,приключения,военный', 'мюзикл,фэнтези,комедия',\n",
       "       'боевик,фантастика,приключения', 'триллер,ужасы,криминал',\n",
       "       'ужасы,фантастика,драма', 'фантастика,приключения,семейный',\n",
       "       'короткометражка,музыка', 'мелодрама,детектив,комедия',\n",
       "       'документальный,триллер,биография', 'боевик,фантастика,триллер',\n",
       "       'спорт,драма,комедия', 'фэнтези,мелодрама,приключения',\n",
       "       'триллер,детектив,криминал', 'короткометражка,мелодрама',\n",
       "       'мультфильм,семейный,спорт', 'комедия,фэнтези,мелодрама',\n",
       "       'драма,спорт,комедия', 'история,драма,мелодрама',\n",
       "       'драма,боевик,криминал', 'драма,комедия,триллер',\n",
       "       'аниме,мультфильм', 'документальный,ужасы',\n",
       "       'мультфильм,короткометражка', 'драма,история,военный',\n",
       "       'мультфильм,короткометражка,фэнтези', 'комедия,военный,музыка',\n",
       "       'биография,история,драма', 'ужасы,драма,мелодрама',\n",
       "       'драма,комедия,детектив', 'комедия,семейный,фантастика',\n",
       "       'мультфильм,семейный,комедия', 'история,детектив',\n",
       "       'приключения,мелодрама,детектив', 'мюзикл,комедия,мелодрама',\n",
       "       'драма,фантастика,ужасы', 'мультфильм,ужасы,комедия',\n",
       "       'для взрослых,драма,комедия', 'ужасы,комедия,музыка',\n",
       "       'комедия,история,драма', 'семейный,детектив,детский',\n",
       "       'короткометражка,драма', 'документальный,новости,драма',\n",
       "       'триллер,мелодрама', 'ужасы,драма,вестерн',\n",
       "       'мюзикл,фэнтези,семейный', 'вестерн,драма,триллер',\n",
       "       'приключения,вестерн,боевик', 'семейный,комедия,музыка',\n",
       "       'боевик,драма,вестерн', 'ужасы,драма,триллер',\n",
       "       'фантастика,мелодрама', 'комедия,криминал,биография',\n",
       "       'семейный,мультфильм,комедия', 'комедия,драма,криминал',\n",
       "       'фантастика,боевик,военный', 'приключения,биография,драма',\n",
       "       'приключения,триллер,биография', 'криминал,боевик,триллер',\n",
       "       'боевик,вестерн,приключения', 'история,драма',\n",
       "       'фантастика,фэнтези,комедия', 'мультфильм,детский,комедия',\n",
       "       'мелодрама,комедия,триллер', 'документальный,боевик,приключения',\n",
       "       'драма,приключения', 'мелодрама,военный,драма', 'триллер,фэнтези',\n",
       "       'драма,триллер,биография', 'фэнтези,боевик,семейный',\n",
       "       'фантастика,триллер,комедия', 'документальный,фэнтези',\n",
       "       'комедия,мультфильм,фантастика', 'криминал,биография,комедия',\n",
       "       'биография,спорт,драма', 'приключения,военный',\n",
       "       'мультфильм,семейный,драма', 'документальный,фэнтези,драма',\n",
       "       'комедия,боевик,фантастика', 'семейный,приключения,военный',\n",
       "       'триллер,ужасы,детектив', 'короткометражка',\n",
       "       'мелодрама,триллер,история', 'документальный,история',\n",
       "       'мультфильм,приключения,детский', 'драма,комедия,мультфильм',\n",
       "       'военный,детектив', 'семейный,приключения,документальный',\n",
       "       'детский,фэнтези', 'документальный,комедия', 'комедия,биография',\n",
       "       'криминал,комедия', 'спорт,мелодрама,криминал',\n",
       "       'фантастика,комедия,боевик', 'боевик,приключения,детектив',\n",
       "       'детектив,триллер,драма', 'документальный,фантастика',\n",
       "       'мелодрама,комедия,семейный', 'мультфильм,мелодрама,комедия',\n",
       "       'драма,спорт,семейный', 'фантастика,мелодрама,фэнтези',\n",
       "       'мюзикл,комедия,музыка', 'фантастика,триллер,мелодрама',\n",
       "       'приключения,комедия,фэнтези', 'фэнтези,боевик,детектив',\n",
       "       'фэнтези,боевик,мелодрама', 'комедия,военный',\n",
       "       'драма,спорт,боевик', 'мультфильм,боевик,триллер',\n",
       "       'мелодрама,семейный', 'фантастика,боевик,детектив',\n",
       "       'драма,приключения,история', 'документальный,драма,музыка',\n",
       "       'фантастика,триллер,боевик', 'фэнтези,боевик,вестерн',\n",
       "       'драма,комедия,мелодрама', 'ужасы,фэнтези,приключения',\n",
       "       'триллер,фэнтези,драма', 'мультфильм,мюзикл,мелодрама',\n",
       "       'ужасы,триллер,фантастика', 'триллер,мелодрама,комедия',\n",
       "       'ужасы,комедия,семейный', 'комедия,приключения,музыка',\n",
       "       'документальный,комедия,криминал', 'мелодрама,детектив',\n",
       "       'детский,приключения,фантастика', 'короткометражка,боевик,драма',\n",
       "       'боевик,комедия,семейный', 'фантастика,боевик,мелодрама',\n",
       "       'фэнтези,триллер,мелодрама', 'драма,детектив,история',\n",
       "       'боевик,криминал,детектив', 'мультфильм,фэнтези,мелодрама',\n",
       "       'мелодрама,драма,боевик', 'драма,вестерн,приключения',\n",
       "       'драма,приключения,мелодрама', 'фэнтези,боевик,криминал',\n",
       "       'фантастика,комедия,семейный', 'детский,фэнтези,приключения',\n",
       "       'ужасы,боевик', 'фантастика,мелодрама,комедия',\n",
       "       'семейный,спорт,боевик', 'триллер,биография,драма',\n",
       "       'ужасы,драма,комедия', 'мультфильм,фэнтези,триллер', 'мюзикл',\n",
       "       'боевик,спорт,драма', 'комедия,приключения,вестерн',\n",
       "       'документальный,ужасы,боевик', 'фантастика,боевик,семейный',\n",
       "       'военный,история', 'ужасы,боевик,криминал', 'детектив,триллер',\n",
       "       'драма,семейный,комедия', 'драма,детектив,приключения',\n",
       "       'драма,криминал,история', 'приключения,триллер',\n",
       "       'боевик,драма,биография', 'драма,приключения,триллер',\n",
       "       'комедия,фэнтези,приключения', 'фантастика,боевик,ужасы',\n",
       "       'драма,комедия,фантастика', 'детектив,криминал,драма',\n",
       "       'боевик,триллер,фэнтези', 'приключения,детектив,семейный',\n",
       "       'ужасы,комедия,криминал', 'мультфильм,биография,драма',\n",
       "       'история,боевик,фэнтези', 'детектив,криминал,боевик',\n",
       "       'приключения,фэнтези', 'комедия,приключения,спорт',\n",
       "       'драма,биография,мюзикл', 'комедия,семейный,фэнтези',\n",
       "       'детектив,драма,триллер', 'боевик,приключения,семейный',\n",
       "       'биография,спорт,комедия', 'фантастика,приключения,военный',\n",
       "       'документальный,драма,биография', 'детектив,приключения,драма',\n",
       "       'аниме,мультфильм,приключения', 'семейный,приключения',\n",
       "       'ужасы,фэнтези,детектив', 'семейный,документальный',\n",
       "       'драма,приключения,семейный', 'приключения,история,военный',\n",
       "       'фэнтези,мелодрама', 'фэнтези,триллер,детектив',\n",
       "       'документальный,спорт,биография', 'комедия,триллер,драма',\n",
       "       'драма,ужасы', 'биография,музыка,драма', 'фэнтези,ужасы',\n",
       "       'детектив,мелодрама,фэнтези', 'боевик,военный,история',\n",
       "       'биография,драма,криминал', 'триллер,мелодрама,криминал',\n",
       "       'семейный,мелодрама', 'биография,драма', 'военный,история,драма',\n",
       "       'фантастика,детектив,фэнтези', 'детектив,приключения,триллер',\n",
       "       'фантастика,приключения', 'мультфильм,короткометражка,мюзикл',\n",
       "       'мультфильм,детский,семейный', 'документальный,драма,комедия',\n",
       "       'комедия,приключения,криминал', 'документальный,семейный,музыка',\n",
       "       'мелодрама,музыка,драма', 'детектив,фантастика,триллер',\n",
       "       'драма,мелодрама,триллер', 'биография,драма,военный',\n",
       "       'приключения,фантастика,драма', 'детектив,фильм-нуар,комедия',\n",
       "       'документальный,спорт', 'триллер,фантастика,драма',\n",
       "       'биография,документальный', 'ужасы,фантастика,мелодрама',\n",
       "       'детектив,комедия', 'история,биография,военный',\n",
       "       'криминал,мелодрама', 'драма,криминал,вестерн',\n",
       "       'мелодрама,семейный,приключения', 'триллер,ужасы,мелодрама',\n",
       "       'фэнтези,драма,фильм-нуар', 'детектив,мелодрама',\n",
       "       'комедия,драма,биография', 'драма,военный,боевик',\n",
       "       'драма,комедия,ужасы', 'фантастика,драма,криминал',\n",
       "       'документальный,музыка,биография', 'мультфильм,боевик,приключения',\n",
       "       'мультфильм,мелодрама,драма', 'боевик,военный,драма',\n",
       "       'фэнтези,семейный,приключения', 'детский,мультфильм,приключения',\n",
       "       'семейный,фэнтези,комедия', 'фэнтези,ужасы,триллер',\n",
       "       'ужасы,триллер,приключения', 'драма,боевик,история',\n",
       "       'фэнтези,комедия,детектив', 'история,приключения',\n",
       "       'аниме,мультфильм,короткометражка', 'драма,военный,триллер',\n",
       "       'биография,криминал,триллер', 'фантастика,фэнтези,детектив',\n",
       "       'вестерн,биография,драма', 'биография,музыка,мюзикл',\n",
       "       'драма,история,биография', 'приключения,драма,фантастика',\n",
       "       'комедия,фэнтези,криминал', 'биография,спорт,история',\n",
       "       'драма,криминал,семейный', 'детектив,боевик,история',\n",
       "       'ужасы,комедия,детектив', 'триллер,приключения,драма',\n",
       "       'фэнтези,комедия,криминал', 'триллер,криминал,приключения',\n",
       "       'комедия,детектив,приключения', 'фэнтези,драма,ужасы',\n",
       "       'ужасы,драма,военный', 'реальное ТВ', 'аниме,мультфильм,детектив',\n",
       "       'приключения,фэнтези,семейный', 'драма,биография,комедия',\n",
       "       'триллер,комедия,ужасы', 'музыка,мелодрама,фэнтези',\n",
       "       'мультфильм,история', 'мультфильм,комедия,фантастика',\n",
       "       'биография,криминал,драма', 'комедия,мелодрама,фантастика',\n",
       "       'криминал,боевик,комедия', 'история,криминал',\n",
       "       'детектив,комедия,драма', 'триллер,фантастика,боевик',\n",
       "       'криминал,боевик', 'комедия,драма,военный',\n",
       "       'драма,триллер,криминал', 'мультфильм,мелодрама,приключения',\n",
       "       'фантастика,фэнтези,триллер', 'короткометражка,драма,триллер',\n",
       "       'военный,боевик,история', 'боевик,драма,триллер',\n",
       "       'документальный,военный,драма', 'драма,криминал,фильм-нуар',\n",
       "       'мультфильм,детский,приключения', 'мелодрама,история,драма'],\n",
       "      dtype=object)"
      ]
     },
     "execution_count": 34,
     "metadata": {},
     "output_type": "execute_result"
    }
   ],
   "source": [
    "df['genres'].unique()"
   ]
  },
  {
   "cell_type": "markdown",
   "metadata": {},
   "source": [
    "В категориальных данных есть пробелы в начале и конце строки, исправим это."
   ]
  },
  {
   "cell_type": "code",
   "execution_count": 35,
   "metadata": {},
   "outputs": [],
   "source": [
    "df['type'] = df['type'].str.strip()\n",
    "df['production_country'] = df['production_country'].str.strip()\n",
    "df['genres'] = df['genres'].str.strip()"
   ]
  },
  {
   "cell_type": "code",
   "execution_count": 36,
   "metadata": {},
   "outputs": [
    {
     "data": {
      "text/plain": [
       "type\n",
       "Художественный                5897\n",
       "Анимационный                   829\n",
       "Прочие                         401\n",
       "Документальный                 280\n",
       "Научно-популярный               50\n",
       "Музыкально-развлекательный       1\n",
       "dtype: int64"
      ]
     },
     "execution_count": 36,
     "metadata": {},
     "output_type": "execute_result"
    }
   ],
   "source": [
    "df.value_counts('type')"
   ]
  },
  {
   "cell_type": "code",
   "execution_count": 37,
   "metadata": {},
   "outputs": [
    {
     "data": {
      "text/plain": [
       "age_restriction\n",
       "«16+» - для детей старше 16 лет           2848\n",
       "«18+» - запрещено для детей               1601\n",
       "«12+» - для детей старше 12 лет           1583\n",
       "«0+» - для любой зрительской аудитории     803\n",
       "«6+» - для детей старше 6 лет              623\n",
       "dtype: int64"
      ]
     },
     "execution_count": 37,
     "metadata": {},
     "output_type": "execute_result"
    }
   ],
   "source": [
    "df.value_counts('age_restriction')"
   ]
  },
  {
   "cell_type": "markdown",
   "metadata": {},
   "source": [
    "Тут все хорошо.<br>\n",
    "Так же в названиях фильмов были замечены лишние символы в конце строки - `\".\", \" _\"`, удалим пробелы и ненужные символы."
   ]
  },
  {
   "cell_type": "code",
   "execution_count": 38,
   "metadata": {},
   "outputs": [],
   "source": [
    "df['title'] = df['title'].str.strip()\n",
    "df['title'] = df['title'].str.rstrip('.')\n",
    "df['title'] = df['title'].str.rstrip(' _')"
   ]
  },
  {
   "cell_type": "markdown",
   "metadata": {},
   "source": [
    "Удалим возможные пробелы в начале и конце строки в оставшихся колонках."
   ]
  },
  {
   "cell_type": "code",
   "execution_count": 39,
   "metadata": {},
   "outputs": [],
   "source": [
    "df['film_studio'] = df['film_studio'].str.strip()\n",
    "df['director'] = df['director'].str.strip()\n",
    "df['producer'] = df['producer'].str.strip()"
   ]
  },
  {
   "cell_type": "markdown",
   "metadata": {},
   "source": [
    "В данных production_country обнаружено, что данные разделены не как везде запятой. Приведем к единому виду."
   ]
  },
  {
   "cell_type": "code",
   "execution_count": 40,
   "metadata": {},
   "outputs": [],
   "source": [
    "df['production_country'] = df['production_country'].str.replace(' -', ',').str.replace('- ', ',').str.replace(' - ', ',').str.replace('-', ',')"
   ]
  },
  {
   "cell_type": "code",
   "execution_count": 41,
   "metadata": {},
   "outputs": [
    {
     "data": {
      "text/plain": [
       "array(['США', 'СССР', 'Франция', 'СССР, Венгрия',\n",
       "       'Германия,Великобритания', 'Великобритания, Италия',\n",
       "       'Чехословакия', 'США, Франция, Турция', 'Новая Зеландия',\n",
       "       'Канада, Франция, Испания', 'США,Германия', 'США, Великобритания',\n",
       "       'Великобритания', 'США, Германия', 'Франция, Мексика, США',\n",
       "       'Россия, Казахстан, США', 'СССР, Швеция',\n",
       "       'СССР, Франция, Англия, Куба, ГДР', 'Германия',\n",
       "       'Великобритания,США,Германия,КНР',\n",
       "       'СССР, ЧССР, Западный Берлин, ПНР', 'СССР, Италия', 'Гонконг, КНР',\n",
       "       'США, Франция', 'США, Япония, Франция, Великобритания',\n",
       "       'Гонконг, Сингапур, Таиланд, Великобритания', 'США,Канада',\n",
       "       'Франция, Италия, Великобритания, США', 'Франция, США',\n",
       "       'Ирландия,Великобритания,Германия', 'Чехия', 'США,Австралия',\n",
       "       'СССР, Финляндия', 'США,Франция,Великобритания,Австрия',\n",
       "       'США, Бельгия', 'США, Ирландия, Великобритания',\n",
       "       'Великобритания, США',\n",
       "       'Люксембург, Нидерланды, Испания, Великобритания, США, Италия',\n",
       "       'Великобритания, Франция, США', 'Новая Зеландия, США',\n",
       "       'США, Великобритания, Чехия', 'Канада, Франция, Великобритания',\n",
       "       'Ирландия', 'Великобритания, Германия, США',\n",
       "       'США, Франция, Великобритания', 'Япония', 'СССР, Польша',\n",
       "       'Франция, Испания', 'Канада,Франция', 'Германия, Италия, США',\n",
       "       'Аргентина, Бразилия', 'Дания, Швейцария, Бельгия, Франция',\n",
       "       'США, Испания', 'Германия, США',\n",
       "       'Франция, Австрия, Германия, Италия, США', 'Австрия',\n",
       "       'США, Канада, Германия', 'США, Канада', 'СССР, Швейцария, Франция',\n",
       "       'Россия, Казахстан', 'Гонконг', 'Италия', 'США, ОАЭ', 'Россия',\n",
       "       'США, Франция, Испания, Великобритания', 'Великобритания, Франция',\n",
       "       'США,Италия,Испания,Аргентина', 'Франция,Великобритания',\n",
       "       'КНР, Гонконг', 'Франция, Италия, Швейцария',\n",
       "       'США, Новая Зеландия', 'Франция, Бельгия', 'КНР',\n",
       "       'Германия, Великобритания, Австрия',\n",
       "       'Великобритания, Израиль, Франция, Япония, США', 'Швеция',\n",
       "       'Испания', 'Дания', 'Франция, Бельгия, Люксембург',\n",
       "       'США, Индия, ОАЭ',\n",
       "       'Германия,Канада,Великобритания,Швейцария,Франция',\n",
       "       'Мексика, Чили', 'Аргентина', 'Бразилия', 'Чили', 'Австралия',\n",
       "       'Португалия, Франция', 'США, ЮАР', 'Исландия,Ирландия,Германия',\n",
       "       'США,Индонезия', 'Южная Корея', 'Мексика, Испания, Дания, США',\n",
       "       'Великобритания,США', 'Франция, Италия', 'США,Франция',\n",
       "       'США, Венгрия, Великобритания', 'Бельгия,Франция,Италия',\n",
       "       'Чехия, Германия', 'Германия, Франция', 'США,Нидерланды',\n",
       "       'Украина', 'Великобритания, Германия', 'Франция,Бельгия',\n",
       "       'США,Франция,Испания', 'Италия, Франция', 'Канада',\n",
       "       'Швеция,Франция,Дания', 'Германия,Франция,Польша',\n",
       "       'Франция,Великобритания, Германия',\n",
       "       'США, Бразилия, Франция, Австралия, Великобритания, Германия',\n",
       "       'Германия,Австрия', 'Германия,Италия,Шри,Ланка',\n",
       "       'Великобритания, Испания', 'США, Великобритания, Канада, Швеция',\n",
       "       'Босния и Герцеговина, Франция, Великобритания, Германия, Словения, Бельгия, Сербия',\n",
       "       'Великобритания, Франция, Италия, США', 'США,ОАЭ',\n",
       "       'Испания, Франция', 'США,Великобритания', 'США,ЮАР',\n",
       "       'Великобритания,Австралия, США',\n",
       "       'Норвегия, Швеция, Дания, Германия', 'Норвегия', 'Швейцария',\n",
       "       'Греция, Германия, Франция', 'Норвения', 'Южная Корея, США',\n",
       "       'Чили, Франция, США', 'Австрия, Германия, Франция',\n",
       "       'Швеция, Дания', 'Великобритания, Франция, Бельгия, Италия',\n",
       "       'Франция, Германия', 'Грузия, Франция, Люксембург',\n",
       "       'США, Франция, Великобритания, Бразилия', 'США, КНР',\n",
       "       'Мексика, Франция', 'США, Германия, Гонконг, Сингапур',\n",
       "       'Финляндия, Австрия, Россия', 'Испания, Куба',\n",
       "       'Великобритания, ЮАР', 'Великобритания, Ирландия', 'Израиль',\n",
       "       'Бразилия, Германия, Порртугалия, Франция',\n",
       "       'Франция, Канада, Бельгия', 'Франция,Испания',\n",
       "       'Испания, Канада, Япония', 'Иран', 'Швеция,Куба',\n",
       "       'США,Великобритания,Ирландия', 'Нидерланды', 'Испания, Канада',\n",
       "       'Япония,Великобритания',\n",
       "       'Великобритания, Норвегия, Дания, Германия',\n",
       "       'Финляндия, Франция, Германия',\n",
       "       'Мексика, Франция, Нидерланды, Германия', 'США, Индия',\n",
       "       'США,Великобритания,Индия', 'США,Канада,Бельгия',\n",
       "       'Республика Узбекистан', 'Турция',\n",
       "       'Сербия, Словения, Хорватия, Черногория, Македония', 'Киргизия',\n",
       "       'Германия, Нидерланды, Беларусь, Россия, Латвия', 'Индия',\n",
       "       'Нидерланды, Россия, Германия',\n",
       "       'Великобритания, Нидерланды, Франция, Хорватия',\n",
       "       'Канада, Южная Корея',\n",
       "       'Великобритания, Польша, КНР, Индия, Норвегия',\n",
       "       'Япония, Франция, США, Южная Корея, Турция',\n",
       "       'Мексика, Аргентина, Великобритания', 'Израиль, Франция',\n",
       "       'Польша, Португалия, Франция, Великобритания', 'Австралия, США',\n",
       "       'Франция, Люксембург, Бельгия', 'Армения',\n",
       "       'Бельгия, Люксембург, Франция, Швейцария',\n",
       "       'США, Великобритания, Канада', 'Норвегия, Швеция',\n",
       "       'Канада, Франция', 'КНР, Гонконг, США',\n",
       "       'США, Сингапур, Малайзия, Индонезия', 'Германия, Россия',\n",
       "       'Япония, Канада', 'Финляндия, Дания, Германия, Ирландия',\n",
       "       'Франция, Люксембург, Германия, Бельгия, Швейцария, Великобритания',\n",
       "       'Канада, США', 'США,Италия,Испания', 'США,Испания',\n",
       "       'США, Швейцария, Франция', 'Испания, США, Колумбия', 'Канада,ЮАР',\n",
       "       'Франция, Россия', 'Германия, Финляндия, Австралия',\n",
       "       'Дания, Швеция', 'Бельгия', 'Германия, Франция, Австрия',\n",
       "       'Франция,Индия', 'ЮАР', 'Франция,Перу', 'Франция, Канада',\n",
       "       'Республика Беларусь', 'Великобритания, Австрия, Франция, США',\n",
       "       'Австрия,Германия,Франция', 'США,Россия', 'Германия,США',\n",
       "       'США, Южная Корея', 'Канада, КНР',\n",
       "       'Дания, Швеция, Италия, Франция, Германия',\n",
       "       'Франция,Италия,Испания,Венгрия', 'Франция, Германия, Бельгия',\n",
       "       'Франция,Великобритания,Чехия', 'Румыния, Франция, Бельгия',\n",
       "       'Болгария, Франция, Изриль',\n",
       "       'Израиль, Германия, Польша, Бельгия, Франция, Люксембург',\n",
       "       'Россия, Германия, Франция, Бельгия', 'Индонезия',\n",
       "       'Франция, Португалия', 'Великобритания, Пуэрто,Рико',\n",
       "       'СССР, ФРГ, Западный Берлин', 'Россия, Республика Беларусь',\n",
       "       'Франция, Австрия', 'Бельгия,Нидерланды',\n",
       "       'Великобритания, США, Индия', 'США, Великобритания, Австралия',\n",
       "       'Канада, Франция, США, ОАЭ, Великобритания',\n",
       "       'США, Австралия, Франция',\n",
       "       'Дания,Франция,Бельгия,Германия,Великобритания',\n",
       "       'Испания, Аргентина', 'Исландия, Финляндия',\n",
       "       'Россия,Польша,Голландия,Словакия', 'Дания, Германия, Швеция',\n",
       "       'Южная Корея, США, Канада', 'Таиланд', 'США,Мальта',\n",
       "       'Великобритания, Германия, Франция, Кипр, США', 'Мексика',\n",
       "       'США, Великобритания, Ирландия', 'США, Украина',\n",
       "       'США, Финляндия, Испания, Великобритания, Франция',\n",
       "       'Австралия,Великобритания',\n",
       "       'США, Канада, Афганистан, Бельгия, Франция',\n",
       "       'США, Великобритания, Германия, Новая Зеландия, Бельгия, Франция',\n",
       "       'Франция,Канада',\n",
       "       'Ирландия, Финляндия, Бельгия, Великобритания, США, Швейцария',\n",
       "       'Малайзия, США', 'Германия, Италия',\n",
       "       'США, Франция, Бельгия, Италия', 'Франция, Ирландия, Швеция',\n",
       "       'Азербайджан,Россия', 'Великобритания, Италия, Швейцария',\n",
       "       'США, Германия, Великобритания', 'Германия, Бельгия, США,Франция',\n",
       "       'США,Китай', 'Чили, Испания', 'Франция, Швейцария',\n",
       "       'Канада, Испания', 'США, Румыния, Великобритания', 'США, Япония',\n",
       "       'США, Россия, Франция', 'Франция,США', 'Парагвай',\n",
       "       'Германия, Канада', 'США, Канада, Великобритания',\n",
       "       'Финляндия, Канада', 'Уругвай,Мексика,Германия', 'США, Чили',\n",
       "       'Германия, Аргентина, Нидерланды, Чили', 'США, Канада, Индонезия',\n",
       "       'Армения, Казахстан', 'Финляндия', 'Испания, Италия, Франция',\n",
       "       'Бельгия, Испания, Канада, Нидерланды',\n",
       "       'Великобритания, Франция, Швеция, Бельгия',\n",
       "       'Мексика, Эквадор, Канада, США, Франция, Малайзия, Италия, Аргентина, Германия, Индия',\n",
       "       'Франция, Бенльгия', 'Индия, Великобритания',\n",
       "       'Япония, Великобритания, Франция', 'Испания, Уругвай, Аргентина',\n",
       "       'Франция, Италия, Бельгия, Люксембург',\n",
       "       'Франция, Украина, Грузия, Армения', 'Сербия, Германия, Венгрия',\n",
       "       'Франция,Польша', 'Румыния,США', 'Россия,Азербайджан',\n",
       "       'США, Нидерланды, Бельгия, Венгрия, Греция, Канада',\n",
       "       'Германия, Франция, Люксембург', 'США, Россия',\n",
       "       'Великобритания, США, Франция', 'США, Австралия, Дания',\n",
       "       'Бельгия,Франция', 'США,Мексика',\n",
       "       'Норвегия, Азербайджан, Россия, Колумбия, Великобритания, Венгрия, Румыния, Франция, Грузия',\n",
       "       'СЩА', 'Бразилия, Испания', 'Россия, Франция, Латвия',\n",
       "       'Нидерланды, США, Германия, Канада, Франция, Ирландия, Великобритания',\n",
       "       'Уругвай, Колумбия', 'США, Испания, Болгария', 'Армения, Германия',\n",
       "       'США, Великобритания,Франция, Швеция', 'США, Мексика',\n",
       "       'Австралия,Турция,США', 'Швеция, Германия',\n",
       "       'Польша, Италия, Россия', 'Франция, Бразилия', 'США, Канада, КНР',\n",
       "       'СССР, Венгрия, ЧССР, ГДР', 'Бельгия, Германия, Люксембург',\n",
       "       'США, Австралия', 'Бразилия, США',\n",
       "       'США, Великобритания, Канада, КНР', 'Франция, Чили',\n",
       "       'Франция, США, Великобритания, Колумбия, Бельгия, Россия',\n",
       "       'Дания, Великобритания, ЮАР', 'Россия,США,Канада,Люксембург',\n",
       "       'Россия, Республика Кипр', 'Германия, США, Швеция, Франция',\n",
       "       'Великобритания,Германия,Канада,ЮАР', 'Ирландия, Канада',\n",
       "       'Япония, Великобритания, Швейцария, Ирландия, Дания, Франция, Польша, Австралия, Канада',\n",
       "       'Великобритания, Канада', 'Бельгия, США',\n",
       "       'Великобритания, США, Россия', 'Россия,Украина',\n",
       "       'Германия, США, Великобритания, Израиль', 'Канада, Германия',\n",
       "       'США,Ю.Корея', 'Индия, Мексика',\n",
       "       'Великобритания, Франция, Республика Кипр, Швейцария, США, Сербия',\n",
       "       'Испания, Аргентина, Индия, США',\n",
       "       'Норвегия, Исландия, США, Великобритания',\n",
       "       'Турция, Германя, Франция', 'Германия, Великобритания',\n",
       "       'Австралия, Германия', 'Мексика, Испания',\n",
       "       'Великобритания, США, Германия, Бельгия', 'США, Чехия, Франция',\n",
       "       'Россия, Италия', 'Франция,Россия', 'Норвегия, Дания, Швеция',\n",
       "       'Франция, Швейцария, Германия', 'Грузия, Украина',\n",
       "       'Россия, Эстония, Финляндия, Беларусь', 'США, Франция, ЮАР',\n",
       "       'Великобритания, США, Швейцария', 'Канада,США',\n",
       "       'Мексика, Нидерланды, Германия, Франция', 'США, Испания, Франция',\n",
       "       'США, Великобритания, КНР', 'США,Франция,Канада',\n",
       "       'Япония, Великобритания, Австрия, Германия, Ю.Корея',\n",
       "       'Великобритания, Ирландия, США', 'Бельгия, Италия, Франция',\n",
       "       'Швейцария,Германия,ЮАР', 'Великобритания, США, Германия',\n",
       "       'Германия, Исландия', 'Испания, США', 'Хорватия',\n",
       "       'Финляндия, Исландия, Швеция', 'Канада, США, Германия, Франция',\n",
       "       'США, Великобритания, Испания', 'Ирландия,Великобритания',\n",
       "       'Аргентина, Испания', 'Австрия, Германия',\n",
       "       'Германия, Швейцария, Франция, Южная Корея, США',\n",
       "       'Украина, Нидерланды', 'Венгрия, Германия, Швеция',\n",
       "       'Германия, Франция,  Польша, Турция, Канада, Италия, Россия',\n",
       "       'СССР, Афганистан', 'СССР, Монголия', 'Россия,Кипр',\n",
       "       'Россия, Грузия, Испания',\n",
       "       'Великобритания, Нидерланды, Германия, Франция, Бельгия, Австрия',\n",
       "       'Испания, Великобритания, Франция',\n",
       "       'Дания, Норвегия, Великобритания', 'Бельгия, Франция, Люксембург',\n",
       "       'Италия, Франция, Швейцария, Великобритания',\n",
       "       'Франция, Бельгия, Великобритания, Испания, Германия, США',\n",
       "       'Швейцария, Израиль, Франция, Великобритания',\n",
       "       'Великобритания, США, Канада, Нидерланды, Франция',\n",
       "       'СССР, Албания', 'Россия, Украина, Республика Беларусь, Литва',\n",
       "       'Финляндия, Великобритания, Германия', 'Россия, Украина, Польша',\n",
       "       'Франция, Италия, Бельгия, КНР',\n",
       "       'Германия, Бельгия, Люксембург, Ирландия', 'КНР, Сингапур',\n",
       "       'Франция, Бельгия, Великобритания, США, Нидерланды, Канада',\n",
       "       'США, Россия, Польша, Германия, Пуэрто Рико',\n",
       "       'Франция, Бельгия, Канада', 'Мексика, США', 'США, Гонконг, КНР',\n",
       "       'Греция, Россия', 'Ирландия, Дания, Бельгия, Люксембург, Франция',\n",
       "       'Эстония, Россия',\n",
       "       'Великобритания, Исландия, Испания, Швейцария, США',\n",
       "       'Австралия, Великобритания, Бельгия, Индия',\n",
       "       'Швеция, Германия, Франция, Норвегия',\n",
       "       'Нидерланды, Бельгия, Германия, Ирландия',\n",
       "       'Нидерланды, Великобритания, Бельгия', 'США, Колумбия, Испания',\n",
       "       'Франция,Испания,Бельгия,Панама',\n",
       "       'США,Великобритания,Чехия,Румыния',\n",
       "       'Аргентина, Уругвай, Россия, Германия, Франция, Нидерланды',\n",
       "       'Швеция, Франция, Норвегия, Дания',\n",
       "       'Италия,Франция,Великобритания', 'Венесуэла',\n",
       "       'Великобритания, США, Австралия, Ирландия, Германия, Куба, Канада',\n",
       "       'Южная Корея, КНР', 'Аргентина, Мексика, Бразилия, Франция, США',\n",
       "       'Швеция, США', 'Франция, Германия, Турция, Катар', 'Франция,Китай',\n",
       "       'Россия, Германия, Великобритания',\n",
       "       'Великобритания, Италия, Испания', 'Италия, Россия',\n",
       "       'Япония, КНР, Южная Корея', 'Россия, Германия', 'Россия,Ирландия',\n",
       "       'Македония, Франция, Великобритания', 'Франция, Бразилия, Италия',\n",
       "       'Россия,США', 'Армения,Россия', 'Россия, Румыния',\n",
       "       'Франция,  Бельгия', 'Грузия,Франция', 'ЮАР, США',\n",
       "       'Великобритания,США,Франция',\n",
       "       'Великобритания, США, Германия, Канада, Австралия', 'США,Ирландия',\n",
       "       'Германия, Люксембург, Франция', 'Россия,Франция',\n",
       "       'США, Нидерланды, Финляндия, Великобритания, Италия',\n",
       "       'Республика Кипр', 'Венгрия', 'Франция, США, Норвегия, Дания',\n",
       "       'Германия, Австрия, Ирландия', 'США, Финляндия',\n",
       "       'Италия,Великобритания', 'Россия, Испания',\n",
       "       'США, Великобритания, Болгария', 'Великобритания, Люксембург',\n",
       "       'Индия, США', 'США, Канада, Россия, Франция, Чили, Ирландия',\n",
       "       'Грузия,Россия',\n",
       "       'Дания, Австрия, Ирландия, Финляндия, Норвегия, Швеция, Нидерланды',\n",
       "       'США,КНР', 'Грузия', 'Австралия, Ирландия',\n",
       "       'Италия, Аргентина, Словения',\n",
       "       'Испания, Франция, Нидерланды, Германия, Бельгия, Великобритания, Канада',\n",
       "       'Франция, Чехия, Бельгия',\n",
       "       'Великобритания, Франция, Германия, США',\n",
       "       'Ирландия, Великобритания, Франция, США, Германия, Нидерланды',\n",
       "       'США, Канада, Япония, КНР', 'Италия,Франция',\n",
       "       'США, Великобритания, Исландия', 'Великобритания,Франция',\n",
       "       'Франция, Германия, Нидерланды',\n",
       "       'Франция, Германия, Швеция, США, Чехия, Словакия, Великобритания, Нидерланды',\n",
       "       'Франция, Канада, Н.Зеландия, США, Нидерланды, Германия, Швеция, Россия',\n",
       "       'Турция, США',\n",
       "       'Великобритания, США, Канада, Бельгия, Нидерланды, Австрия, Германия',\n",
       "       'Израиль, Франция, Германия, Палестина, США, Австрия, Великобритания',\n",
       "       'Аргентина, Франция, Испания', 'СССР, Россия',\n",
       "       'Великобритания, Франция, Италия, Индия, Дания, КНР, Бангладеш, Камбоджа, Гаити, Уганда',\n",
       "       'Италия, Франция, Швейцария', 'Ирландия, Великобритания, Канада',\n",
       "       'Перу', 'США, Норвегия', 'Испания,Канада', 'Китай,Гонконг',\n",
       "       'США, Германия, КНР', 'Великобритания, Новая Зеландия',\n",
       "       'Франция, Дания, Швеция, КНР',\n",
       "       'США, Великобритания, Германия, Бельгия, Дания',\n",
       "       'США, Франция, Канада, Германия, Австралия, Индия',\n",
       "       'СССР, Румыния, Франция', 'СССР, ГДР', 'Австралия,Ирландия',\n",
       "       'США, Китай', 'Великобритания, Франция, Австрия, Швеция',\n",
       "       'Россия, Таджикистан', 'Нидерланды, Бельгия, Болгария',\n",
       "       'Великобритания, Канада, США', 'Франция, Бельгия, Испания',\n",
       "       'Китай,Гонконг,США', 'Франция, Великобритания', 'США, Вьетнам',\n",
       "       'США, Германия, Франция', 'Германия, Франция, Бельгия',\n",
       "       'США, Италия',\n",
       "       'Германия, Дания, Испания, Швеция, Канада, Эстония, Франция',\n",
       "       'Княжество Андорра, Украина', 'Германия, Люксембург, Бельгия',\n",
       "       'Великобритания, Россия, Украина, США',\n",
       "       'Германия, Бельгия, Люксембург, Норвегия',\n",
       "       'США, Австралия, Новая Зеландия, Великобритания',\n",
       "       'США, Франция, Канада, Великобритания', 'Испания,Колумбия',\n",
       "       'Великобритания, Чехия, Франция', 'Россия, Украина', 'Исландия',\n",
       "       'Великобритания, Франция, Венгрия',\n",
       "       'Россия, Франция, Германия, Бельгия', 'Франция, Македония',\n",
       "       'Нидерланды, Франция, Германия, Бельгия, Швеция, Великобритания',\n",
       "       'Испания, США, Великобритания, Канада', 'Германия, Австрия',\n",
       "       'Республика Казахстан',\n",
       "       'Франция, Испания, Дания, Венгрия, Швейцария', 'Франция,КНР',\n",
       "       'США, Пуэрто,Рико, Франция', 'Мексика, Тайвань, США',\n",
       "       'Великобритания, Испания, Непал, Индия, Венгрия, Гонконг, Германия, Дания, Бахрейн',\n",
       "       'Великобритания, Аргентина, США, Франция, Россия, Испания',\n",
       "       'КНР, США', 'Италия, США', 'Финляндия, Швеция, Германия',\n",
       "       'Канада,Испания', 'Франция, Бельгия, Чехия',\n",
       "       'Франция,Бельгия,Канада', 'Франция, Германия, США', 'США, Дания',\n",
       "       'Индия, КНР', 'Чехия,Великобритания,США', 'США,ФРГ,Россия',\n",
       "       'Ирландия,Нидерланды,Франция,США,Великобритания',\n",
       "       'Россия, Грузия, Хорватия, Испания', 'Финляндия, Швеция, Норвегия',\n",
       "       'Сербия, Великобритания, США',\n",
       "       'США, Великобритания, Франция, Гонконг', 'Швейцария, Франция',\n",
       "       'Швейцария, Великобритания', 'ОАЭ, США',\n",
       "       'США, Франция, Германия, Канада, Австралия', 'Германия, Австралия',\n",
       "       'Иран, Франция', 'США, Великобритания, Новая Зеландия',\n",
       "       'США,Колумбия', 'США,Франция,Ирландия',\n",
       "       'Великобритания, Франция, Бельгия', 'США, Великобритания, Япония',\n",
       "       'США, Франция, Германия', 'Польша, Ирландия',\n",
       "       'Ирландия, Великобритания, Франция, США',\n",
       "       'США, Бельгия, Великобритания', 'СССР, ВНР',\n",
       "       'Испания, Франция, США, Великобритания, Бельгия',\n",
       "       'Франция, Дания, США', 'США, Гонконг', 'Бразилия, К;анада',\n",
       "       'Франция,Германия', 'США, Колумбия',\n",
       "       'США, Ирландия, Великобритания, Франция',\n",
       "       'Великобритания, США, Канада', 'Польша, Франция',\n",
       "       'Канада, США, Нидерланды, Великобритания, Аргентина',\n",
       "       'Великобритания, Дания', 'Франция, Бельгия, Япония',\n",
       "       'Россия,  Испания', 'США, Канада, Германия, Франция',\n",
       "       'США,Канада,Франция', 'Россия,Италия', 'Китай, Гонконг',\n",
       "       'Германия,Австрия,Франция,Италия', 'США,Япония',\n",
       "       'США, Германия, Канада', 'Испания,Мексика',\n",
       "       'США, Япония, Канада, Великобритания, Германия, Франция',\n",
       "       'США,Великобритания, Австралия', 'Россия,Украина,Германия',\n",
       "       'Израиль, Франция, Великобритания, Германия', 'Корея',\n",
       "       'Россия, Болгария', 'США,Индия', 'Германия,Канада,Франция,Бельгия',\n",
       "       'Германия,Кения', 'Франция, Монако', 'Франция,Испания,Швейцария',\n",
       "       'Австрия,Франция,Германия', 'Румыния',\n",
       "       'США,Великобритания,Франция', 'Канада,Великобритания',\n",
       "       'Канада,Бразилия,Япония', 'Германия, Дания, Норвегия',\n",
       "       'Дания, Германия', 'СССР, ГДР, Польша, Италия',\n",
       "       'США, Испания, Франция, Великобритания', 'Китай',\n",
       "       'Мексика,Аргентина', 'Германия, Великобритания, Италия, Испания',\n",
       "       'Франция,Германия,Великобритания', 'Россия, Германия, Швейцария',\n",
       "       'Франция,Австралия', 'Голландия', 'Швейцария,Франция',\n",
       "       'Россия,Белоруссия', 'Франция, Испания, Тайвань',\n",
       "       'США,Южная Корея,Новая Зеландия', 'Великобритания,Венгрия',\n",
       "       'Россия,Германия', 'Великобритания,Франция,Германия',\n",
       "       'Франция,Германия,Италия', 'Швеция,Финляндия,Франция,Норвегия',\n",
       "       'Франция,Италия', 'Германия,Израиль',\n",
       "       'Швеция, Германия, Дания, Норвегия', 'США,Бельгия',\n",
       "       'Франция,Гонконг,Ирландия', 'Эстония', 'Литва,Россия,Украина',\n",
       "       'Германия, Италия, Франция', 'Великобритания, Австрия, Германия',\n",
       "       'Бельгия, Франция', 'Россия,Казахстан', 'Испания, Мальта',\n",
       "       'Франция,Россия,Румыния,Италия,Бельгия', 'Россия, Польша',\n",
       "       'Испания, Мексика', 'США,Аргентина', 'Израиль,США,Франция',\n",
       "       'США, Новая Зеландия, Япония', 'Франция, Чехия, Великобритания',\n",
       "       'Россия,Польша', 'Германия,Франция,Великобритания',\n",
       "       'США,Германия,Канада', 'США,Гонконг,Китай',\n",
       "       'США, Великобритания, Германия', 'США,Канада,Австралия',\n",
       "       'Япония,США,Франция', 'Франция,Испания,Германия',\n",
       "       'США, Хорватия, Босния,Герцеговина',\n",
       "       'Великобритания, Чехия, Франция, Италия',\n",
       "       'США, Германия, Нидерланды', 'Германия, Франция, Канада',\n",
       "       'Франция,Грузия,Германия,Россия,Украина,Бельгия',\n",
       "       'Великобритания, Франция, Италия', 'Россия, США',\n",
       "       'Франция, Италия, Иран', 'Россия, Азербайджан', 'Греция',\n",
       "       'Дания, США', 'США,Великобритания,Новая Зеландия',\n",
       "       'США,Германия,Австралия', 'США,Канада,Италия',\n",
       "       'США, Япония, Германия', 'Австралия,США',\n",
       "       'Франция, Великобритания, Багамские острова, США',\n",
       "       'Швейцария, Люксембург', 'Швейцария, Австрия',\n",
       "       'Германия, Швейцария', 'Дания,Швеция,Франция,Германия', 'Польша',\n",
       "       'Швейцария,Австрия', 'Бразилия, Канада, США', 'Нидерланды, Россия',\n",
       "       'Португалия', 'Франция,Аргентина', 'Швеция,Франция',\n",
       "       'Франция,Украина', 'Германия,Украина,Нидерланды',\n",
       "       'Италия,Швейцария', 'США,Германия,Великобритания',\n",
       "       'Латвия, Россия', 'Германия,Франция,Великобритания,США',\n",
       "       'Канада, Италия', 'США, Объединенные Арабские Эмираты',\n",
       "       'США,Венгрия', 'Малайзия', 'Россия, Германия, Украина',\n",
       "       'США, Австралия, Мексика', 'Литва, Венгрия', 'Германия, Китай',\n",
       "       'Казахстан', 'Республика Корея',\n",
       "       'США, Германия, Франция, Великобритания, Канада',\n",
       "       'Бельгия, Германия, Люксембург, Франция', 'Франция, Греция',\n",
       "       'Италия, Канада', 'США, Великобритания, Франция',\n",
       "       'США,Италия,Греция', 'Германия, США, Великобритания, Ирландия',\n",
       "       'Великобритания, Франция, Германия', 'Германия, Нидерланды, ЮАР',\n",
       "       'США,Япония,Германия,Великобритания,Нидерланды',\n",
       "       'США,Япония,Германия,Великобритания', 'Германия, Франция, Польша',\n",
       "       'Таиланд,Великобритания,Франция,Германия,Испания,Нидерланды',\n",
       "       'Германия,Италия,Швейцария',\n",
       "       'Дания, Швеция, Великобритания, Франция, Германия, Нидерланды, Норвегия, Финляндия',\n",
       "       'Франция, Великобритания, Нидерланды, Люксембург',\n",
       "       'Нидерланды,Великобритания,Франция,Италия,Япония',\n",
       "       'Финляндия,Дания,Германия,Ирландия', 'Испания,Аргентина',\n",
       "       'Великобритания, Нидерланды, Франция, США', 'Канада, Мексика',\n",
       "       'Канада,Южная Корея,США', 'Великобритания, Франция, Бельгия, США',\n",
       "       'КНР, Канада, США', 'Италия, Франция, Германия',\n",
       "       'Швеция, Германия, Франция, Дания', 'Франция, США, Бельгия',\n",
       "       'Украина, Германия, Латвия, Эстония', 'Австрия, Люксембург',\n",
       "       'Великобритания, КНР', 'Монголия', 'Франция, Дания',\n",
       "       'Швеция, Дания, Финляндия',\n",
       "       'Сингапур, Великобритания, Индонезия, Канада, США',\n",
       "       'США, Германия, Япония', 'Таиланд, США', 'Франция, Нидерланды',\n",
       "       'Великобритания, Румыния', 'США, Мальта',\n",
       "       'Великобритания, Германия, Нидерланды, Дания',\n",
       "       'Франция, Германия, Литва, Нидерланды, Россия',\n",
       "       'США, ЮАР, Гонконг', 'Австралия, Колумбия',\n",
       "       'Великобритания, Польша', 'США, Великобритания, Швеция',\n",
       "       'Франция, Швеция, Дания, Норвегия', 'Болгария, США', 'СССР, ФРГ',\n",
       "       'Бельгия, Нидерланды, Франция', 'Финляндия, Германия', 'Болгария',\n",
       "       'Грузия, Россия, Украина, Хорватия, Германия',\n",
       "       'Франция, Люксембург', 'Франция, Германия, Австрия',\n",
       "       'Норвегия, США', 'Германия,Швеция', 'Франция, Германия, Италия',\n",
       "       'Франция,Германия,Австрия', 'КНР,США',\n",
       "       'Дания, Латвия, Россия, США', 'Финляндия, Польша',\n",
       "       'Германия, Бельгия', 'Германия, США, Франция, Испания',\n",
       "       'Бельгия,Германия,Канада,Франция,США,Великобритания',\n",
       "       'Нидерланды, Бельгия, Люксембург', 'Канада,Германия',\n",
       "       'Люксембург, Бельгия, Франция', 'США,Великобритания,Австралия',\n",
       "       'Бельгия, Великобритания, США', 'Великобритания, Австралия',\n",
       "       'Исландия, Бельгия',\n",
       "       'Испания, Швейцария, Великобритания, Германия, Новая Зеландия, Нидерланды, Канада',\n",
       "       'Киргизия,Россия', 'Великобритания, США, Испания',\n",
       "       'Италия, Швейцария, Германия', 'Россия, Армения',\n",
       "       'Китай, Канада, США', 'США, Великобритания, Люксембург',\n",
       "       'Испания, Ирландия, Бельгия, Франция',\n",
       "       'Великобритания, Гонконг, Венгрия, США, Ирландия',\n",
       "       'США, Пуэрто Рико', 'Аргентина, Испания, Уругвай',\n",
       "       'Израиль, Германия, Франция, Швейцария',\n",
       "       'Великобритания, Мексика, США', 'Испания, Болгария, США',\n",
       "       'Россия,Словакия,Чехия',\n",
       "       'Швейцария, КНР, США, Россия, Республика Корея, Великобритания',\n",
       "       'Россия, Нидерланды, Финляндия',\n",
       "       'Испания, Бельгия, Франция, Португалия, Великобритания',\n",
       "       'Бразилия, Португалия, Франция', 'Швеция, Норвегия',\n",
       "       'Франция, Польша, Бельгия', 'CША', 'Китай, США',\n",
       "       'Германия, Австрия, Франция', 'Чехия, Словакия, Хорватия',\n",
       "       'Россия, Польша, Финляндия', 'Россия, Латвия, Чешская Республика',\n",
       "       'Франция, Великобритания, Камбоджа, США, КНР',\n",
       "       'Чехия, Испания, США', 'Германия, Люксембург, Дания',\n",
       "       'Великобритания, Испания, Германия', 'Дания, Исландия',\n",
       "       'Германия, Франция, Великобритания',\n",
       "       'Великобритания, Испания, Италия, Латвия, Франция, Эстония',\n",
       "       'Дания, Швеция, Великобритания, Франция, Германия, Норвегия, Финляндия, Нидерланды, Италия',\n",
       "       'Польша, Франция, Великобритания',\n",
       "       'Дания, Норвегия, Венгрия, Чехия',\n",
       "       'Дания, Франция, Германия, Швеция', 'Великобритания, Швеция, США',\n",
       "       'Канада, Франция, Италия, Швейцария, США',\n",
       "       'США, Великобритания, Германия,, Швеция, Канада',\n",
       "       'Республика Беларусь, Германия, США, Россия',\n",
       "       'Италия,Швейцария,Франция,Германия',\n",
       "       'Россия, Франция, Великобритания, Латвия', 'Россия,Беларусь',\n",
       "       'Франция, Испания, Румыния, США, Бельгия', 'Италия,США',\n",
       "       'Россия, Австрия', 'Ирландия, Великобритания, США',\n",
       "       'Швейцария, Великобритания, Франция, США, Ирландия',\n",
       "       'Мексика, Франция, Германия, Дания, Швеция', 'Нидерланды, Бельгия',\n",
       "       'Швеция, Норвегия, Финляндия, Франция', 'Испания, Франция, Италия',\n",
       "       'Испания,Франция,Греция,Индия,США,Россия,Великобритания',\n",
       "       'Великобритания, Япония, США',\n",
       "       'Дания, Канада, Норвегия, Австралия, США',\n",
       "       'Россия, Германия, Казахстан, Польша, Китай',\n",
       "       'Португалия, Франция, Польша, США', 'США, Канада, Аргентина',\n",
       "       'Ливан,США', 'Япония, США',\n",
       "       'Франция, Россия, Швейцария, Румыния, Венгрия',\n",
       "       'Аргентина,Испания', 'Россия, Сербия', 'США, Болгария, Мексика',\n",
       "       'США, Великобритания, Швейцария, Франция', 'Таиланд, КНР, США',\n",
       "       'Великобритания, Нидерланды, Польша, Швейцария, Франция',\n",
       "       'Ирландия, США', 'Германия, Франция, Великобритания, Польша, США',\n",
       "       'Великобритания,Франция,Италия', 'США, Австралия, Индия',\n",
       "       'Франция, КНР', 'Великобритания, Израиль',\n",
       "       'Великобритания, Норвегия, Кения, Хорватия',\n",
       "       'США, Бразилия, Великобритания, Канада', 'Австралия, Канада',\n",
       "       'Кения, Германия', 'Колумбия', 'Латвия, Франция',\n",
       "       'Ирландия, Великобритания', 'Франция, Израиль, Германия',\n",
       "       'Швеция, Франция, Великобритания', 'Бельгия, Люксембург',\n",
       "       'Германия, Бельгия, Великобритания',\n",
       "       'Испания, Франция, Великобритания, Дания, Бельгия, Германия',\n",
       "       'Румыния, ЮАР, Иран, Франция, Канада, Великобритания',\n",
       "       'США, Великобритания, Ирландия, Люксембург', 'Республика Армения',\n",
       "       'США, Франция, Япония', 'Республика Кипр, Россия',\n",
       "       'Дания, Франция, Италия, Бельгия, Нидерланды', 'Россия, Грузия',\n",
       "       'Италия, Германия', 'Норвегия, Швеция, Дания',\n",
       "       'КНР, Индия, Гонконг, США', 'Израиль, Украина',\n",
       "       'США, КНР, Индия, Ю.Корея', 'США, Швеция', 'Россия,Китай',\n",
       "       'Канада, Великобритания', 'Канада, США, Каймановы острова',\n",
       "       'Бразилия, Уругвай, Дания, Норвегия, Чили, Швеция',\n",
       "       'Пуэрто,Рико, Великобритания, США', 'Уругвай, Аргентина, Испания',\n",
       "       'США, Великобритания, Италия, Израиль, Сербия, Индия',\n",
       "       'США, Канада, Франция, Индия', 'Великобритания, Россия, КНР',\n",
       "       'Франция, Новая Зеландия', 'Канада, США, Норвегия',\n",
       "       'Италия, Испания', 'Испания, Германия, Нидерланды',\n",
       "       'Бразилия, США, КНР', 'Великобритания, Германия, Дания, США',\n",
       "       '2019', 'Италия, Фрация, Бразилия, Германия',\n",
       "       'Норвегия, Швеция, Россия', 'Сша, Канада', 'Бельгия, Канада',\n",
       "       'Великобритания, Австралия, США', 'Франция, Финляндия',\n",
       "       'Колумбия, США', 'Норвегия, Нидерланды', 'Япония, Великобритания',\n",
       "       'Италия, Бельгия, Франция', 'Россия, Бельгия, Финляндия',\n",
       "       'Франция, Норвегия',\n",
       "       'Великобритания, Южная Корея, Канада, США, Индия, Китай, Япония',\n",
       "       'Канада, Норвегия', 'Республика Кипр,Россия',\n",
       "       'Польша, Франция, Испания, Бразилия, Швеция',\n",
       "       'Австрия, Великобритания, Германия', 'Франция, Сенегал, Бельгия',\n",
       "       'Финляндия, Латвия', 'Пакистан', 'Германия, Франция, США',\n",
       "       'Германия, Великобритания, США', 'КНР, Франция',\n",
       "       'Дания, Норвегия, Швеция, Исландия',\n",
       "       'Республика Кипр, США, Россия', 'Новая Зеландия, КНР',\n",
       "       'Дания, Канада, Швеция, Франция, Германия, Великобритания, США'],\n",
       "      dtype=object)"
      ]
     },
     "execution_count": 41,
     "metadata": {},
     "output_type": "execute_result"
    }
   ],
   "source": [
    "df['production_country'].unique()"
   ]
  },
  {
   "cell_type": "code",
   "execution_count": 42,
   "metadata": {},
   "outputs": [
    {
     "data": {
      "text/html": [
       "<div>\n",
       "<style scoped>\n",
       "    .dataframe tbody tr th:only-of-type {\n",
       "        vertical-align: middle;\n",
       "    }\n",
       "\n",
       "    .dataframe tbody tr th {\n",
       "        vertical-align: top;\n",
       "    }\n",
       "\n",
       "    .dataframe thead th {\n",
       "        text-align: right;\n",
       "    }\n",
       "</style>\n",
       "<table border=\"1\" class=\"dataframe\">\n",
       "  <thead>\n",
       "    <tr style=\"text-align: right;\">\n",
       "      <th></th>\n",
       "      <th>title</th>\n",
       "      <th>puNumber</th>\n",
       "      <th>show_start_date</th>\n",
       "      <th>type</th>\n",
       "      <th>film_studio</th>\n",
       "      <th>production_country</th>\n",
       "      <th>director</th>\n",
       "      <th>producer</th>\n",
       "      <th>age_restriction</th>\n",
       "      <th>refundable_support</th>\n",
       "      <th>nonrefundable_support</th>\n",
       "      <th>budget</th>\n",
       "      <th>financing_source</th>\n",
       "      <th>ratings</th>\n",
       "      <th>genres</th>\n",
       "      <th>box_office</th>\n",
       "    </tr>\n",
       "  </thead>\n",
       "  <tbody>\n",
       "    <tr>\n",
       "      <th>0</th>\n",
       "      <td>Открытый простор</td>\n",
       "      <td>221048915</td>\n",
       "      <td>2015-11-27 12:00:00+00:00</td>\n",
       "      <td>Художественный</td>\n",
       "      <td>Тачстоун Пикчерз, Кобальт Пикчерз, Бикон Пикче...</td>\n",
       "      <td>США</td>\n",
       "      <td>Кевин Костнер</td>\n",
       "      <td>Дэвид Валдес, Кевин Костнер, Джейк Эбертс</td>\n",
       "      <td>«18+» - запрещено для детей</td>\n",
       "      <td>NaN</td>\n",
       "      <td>NaN</td>\n",
       "      <td>-1.0</td>\n",
       "      <td>NaN</td>\n",
       "      <td>7.2</td>\n",
       "      <td>боевик,драма,мелодрама</td>\n",
       "      <td>-1.0</td>\n",
       "    </tr>\n",
       "    <tr>\n",
       "      <th>1</th>\n",
       "      <td>Особо важное задание</td>\n",
       "      <td>111013716</td>\n",
       "      <td>2016-09-13 12:00:00+00:00</td>\n",
       "      <td>Художественный</td>\n",
       "      <td>Киностудия \"Мосфильм\"</td>\n",
       "      <td>СССР</td>\n",
       "      <td>Е.Матвеев</td>\n",
       "      <td>NaN</td>\n",
       "      <td>«6+» - для детей старше 6 лет</td>\n",
       "      <td>NaN</td>\n",
       "      <td>NaN</td>\n",
       "      <td>-1.0</td>\n",
       "      <td>NaN</td>\n",
       "      <td>6.6</td>\n",
       "      <td>драма,военный</td>\n",
       "      <td>-1.0</td>\n",
       "    </tr>\n",
       "    <tr>\n",
       "      <th>2</th>\n",
       "      <td>Особо опасен</td>\n",
       "      <td>221038416</td>\n",
       "      <td>2016-10-10 12:00:00+00:00</td>\n",
       "      <td>Художественный</td>\n",
       "      <td>Юниверсал Пикчерз, Кикстарт Продакшнз, Марк Пл...</td>\n",
       "      <td>США</td>\n",
       "      <td>Тимур Бекмамбетов</td>\n",
       "      <td>Джим Лемли, Джейсон Нетер, Марк Е.Платт, Яйн Смит</td>\n",
       "      <td>«18+» - запрещено для детей</td>\n",
       "      <td>NaN</td>\n",
       "      <td>NaN</td>\n",
       "      <td>-1.0</td>\n",
       "      <td>NaN</td>\n",
       "      <td>6.8</td>\n",
       "      <td>фантастика,боевик,триллер</td>\n",
       "      <td>-1.0</td>\n",
       "    </tr>\n",
       "  </tbody>\n",
       "</table>\n",
       "</div>"
      ],
      "text/plain": [
       "                  title   puNumber           show_start_date            type  \\\n",
       "0      Открытый простор  221048915 2015-11-27 12:00:00+00:00  Художественный   \n",
       "1  Особо важное задание  111013716 2016-09-13 12:00:00+00:00  Художественный   \n",
       "2          Особо опасен  221038416 2016-10-10 12:00:00+00:00  Художественный   \n",
       "\n",
       "                                         film_studio production_country  \\\n",
       "0  Тачстоун Пикчерз, Кобальт Пикчерз, Бикон Пикче...                США   \n",
       "1                              Киностудия \"Мосфильм\"               СССР   \n",
       "2  Юниверсал Пикчерз, Кикстарт Продакшнз, Марк Пл...                США   \n",
       "\n",
       "            director                                           producer  \\\n",
       "0      Кевин Костнер          Дэвид Валдес, Кевин Костнер, Джейк Эбертс   \n",
       "1          Е.Матвеев                                                NaN   \n",
       "2  Тимур Бекмамбетов  Джим Лемли, Джейсон Нетер, Марк Е.Платт, Яйн Смит   \n",
       "\n",
       "                 age_restriction  refundable_support  nonrefundable_support  \\\n",
       "0    «18+» - запрещено для детей                 NaN                    NaN   \n",
       "1  «6+» - для детей старше 6 лет                 NaN                    NaN   \n",
       "2    «18+» - запрещено для детей                 NaN                    NaN   \n",
       "\n",
       "   budget financing_source ratings                     genres  box_office  \n",
       "0    -1.0              NaN     7.2     боевик,драма,мелодрама        -1.0  \n",
       "1    -1.0              NaN     6.6              драма,военный        -1.0  \n",
       "2    -1.0              NaN     6.8  фантастика,боевик,триллер        -1.0  "
      ]
     },
     "execution_count": 42,
     "metadata": {},
     "output_type": "execute_result"
    }
   ],
   "source": [
    "df.head(3)"
   ]
  },
  {
   "cell_type": "markdown",
   "metadata": {},
   "source": [
    "Проверим, не появились ли явные дубликаты."
   ]
  },
  {
   "cell_type": "code",
   "execution_count": 43,
   "metadata": {},
   "outputs": [
    {
     "data": {
      "text/plain": [
       "0"
      ]
     },
     "execution_count": 43,
     "metadata": {},
     "output_type": "execute_result"
    }
   ],
   "source": [
    "df.duplicated().sum()"
   ]
  },
  {
   "cell_type": "markdown",
   "metadata": {
    "id": "XFSN5lrEgFyR"
   },
   "source": [
    "### Количественные значения"
   ]
  },
  {
   "cell_type": "code",
   "execution_count": 44,
   "metadata": {
    "id": "YbzClBxagFyS",
    "scrolled": true
   },
   "outputs": [
    {
     "data": {
      "text/html": [
       "<div>\n",
       "<style scoped>\n",
       "    .dataframe tbody tr th:only-of-type {\n",
       "        vertical-align: middle;\n",
       "    }\n",
       "\n",
       "    .dataframe tbody tr th {\n",
       "        vertical-align: top;\n",
       "    }\n",
       "\n",
       "    .dataframe thead th {\n",
       "        text-align: right;\n",
       "    }\n",
       "</style>\n",
       "<table border=\"1\" class=\"dataframe\">\n",
       "  <thead>\n",
       "    <tr style=\"text-align: right;\">\n",
       "      <th></th>\n",
       "      <th>title</th>\n",
       "      <th>puNumber</th>\n",
       "      <th>show_start_date</th>\n",
       "      <th>type</th>\n",
       "      <th>film_studio</th>\n",
       "      <th>production_country</th>\n",
       "      <th>director</th>\n",
       "      <th>producer</th>\n",
       "      <th>age_restriction</th>\n",
       "      <th>refundable_support</th>\n",
       "      <th>nonrefundable_support</th>\n",
       "      <th>budget</th>\n",
       "      <th>financing_source</th>\n",
       "      <th>ratings</th>\n",
       "      <th>genres</th>\n",
       "      <th>box_office</th>\n",
       "    </tr>\n",
       "  </thead>\n",
       "  <tbody>\n",
       "    <tr>\n",
       "      <th>1280</th>\n",
       "      <td>Пока еще жива</td>\n",
       "      <td>111005313</td>\n",
       "      <td>2013-10-11 12:00:00+00:00</td>\n",
       "      <td>Художественный</td>\n",
       "      <td>АНО содействия развитию кинематографии \"Ангел-...</td>\n",
       "      <td>Россия</td>\n",
       "      <td>А.Атанесян</td>\n",
       "      <td>А.Атанесян, М.Бабаханов, Р.Бутко</td>\n",
       "      <td>«16+» - для детей старше 16 лет</td>\n",
       "      <td>0.0</td>\n",
       "      <td>26500000.0</td>\n",
       "      <td>79411900.0</td>\n",
       "      <td>Министерство культуры</td>\n",
       "      <td>8.1</td>\n",
       "      <td>драма,мелодрама</td>\n",
       "      <td>365353.6</td>\n",
       "    </tr>\n",
       "    <tr>\n",
       "      <th>1446</th>\n",
       "      <td>Бесславные придурки</td>\n",
       "      <td>111003314</td>\n",
       "      <td>2014-03-28 12:00:00+00:00</td>\n",
       "      <td>Художественный</td>\n",
       "      <td>ООО \"Компания \"АТК-Студио\"</td>\n",
       "      <td>Россия</td>\n",
       "      <td>А.Якимчук</td>\n",
       "      <td>А.Тютрюмов</td>\n",
       "      <td>«12+» - для детей старше 12 лет</td>\n",
       "      <td>0.0</td>\n",
       "      <td>26000000.0</td>\n",
       "      <td>37142857.0</td>\n",
       "      <td>Министерство культуры</td>\n",
       "      <td>NaN</td>\n",
       "      <td>unknown</td>\n",
       "      <td>28140.0</td>\n",
       "    </tr>\n",
       "    <tr>\n",
       "      <th>1496</th>\n",
       "      <td>Невидимки</td>\n",
       "      <td>111004213</td>\n",
       "      <td>2013-09-10 12:00:00+00:00</td>\n",
       "      <td>Художественный</td>\n",
       "      <td>ООО \"Компания \"РЕАЛ-ДАКОТА\"</td>\n",
       "      <td>Россия</td>\n",
       "      <td>Р.Давлетьяров, С.Комаров</td>\n",
       "      <td>Р.Давлетьяров, А.Котелевский, А.Олейников</td>\n",
       "      <td>«12+» - для детей старше 12 лет</td>\n",
       "      <td>0.0</td>\n",
       "      <td>107847945.0</td>\n",
       "      <td>176023490.0</td>\n",
       "      <td>Фонд кино</td>\n",
       "      <td>5.3</td>\n",
       "      <td>комедия,фантастика</td>\n",
       "      <td>19957031.5</td>\n",
       "    </tr>\n",
       "    <tr>\n",
       "      <th>1522</th>\n",
       "      <td>БЕРЦЫ</td>\n",
       "      <td>111004314</td>\n",
       "      <td>2014-05-05 12:00:00+00:00</td>\n",
       "      <td>Художественный</td>\n",
       "      <td>ООО \"Студия \"Пассажир\"</td>\n",
       "      <td>Россия</td>\n",
       "      <td>Е.Миндадзе (псевдоним Катя Шагалова)</td>\n",
       "      <td>Л.Антонова</td>\n",
       "      <td>«16+» - для детей старше 16 лет</td>\n",
       "      <td>0.0</td>\n",
       "      <td>28000000.0</td>\n",
       "      <td>40574140.0</td>\n",
       "      <td>Министерство культуры</td>\n",
       "      <td>4.2</td>\n",
       "      <td>драма</td>\n",
       "      <td>55917.5</td>\n",
       "    </tr>\n",
       "    <tr>\n",
       "      <th>1789</th>\n",
       "      <td>Братья Ч</td>\n",
       "      <td>111004414</td>\n",
       "      <td>2014-04-23 12:00:00+00:00</td>\n",
       "      <td>Художественный</td>\n",
       "      <td>ООО \"Студия \"Пассажир\"</td>\n",
       "      <td>Россия</td>\n",
       "      <td>М.Угаров</td>\n",
       "      <td>А.Миндадзе, Л.Антонова</td>\n",
       "      <td>«16+» - для детей старше 16 лет</td>\n",
       "      <td>0.0</td>\n",
       "      <td>25000000.0</td>\n",
       "      <td>40015122.0</td>\n",
       "      <td>Министерство культуры</td>\n",
       "      <td>6.4</td>\n",
       "      <td>драма</td>\n",
       "      <td>232100.0</td>\n",
       "    </tr>\n",
       "    <tr>\n",
       "      <th>1850</th>\n",
       "      <td>Тайна Сухаревой башни. Чародей равновесия</td>\n",
       "      <td>114000115</td>\n",
       "      <td>2015-02-18 12:00:00+00:00</td>\n",
       "      <td>Анимационный</td>\n",
       "      <td>ООО \"Студия \"Мастер-Фильм\"</td>\n",
       "      <td>Россия</td>\n",
       "      <td>С.Серегин</td>\n",
       "      <td>А.Герасимов</td>\n",
       "      <td>«6+» - для детей старше 6 лет</td>\n",
       "      <td>0.0</td>\n",
       "      <td>25000000.0</td>\n",
       "      <td>51850000.0</td>\n",
       "      <td>Министерство культуры</td>\n",
       "      <td>6.1</td>\n",
       "      <td>мультфильм,фэнтези,история</td>\n",
       "      <td>15078858.6</td>\n",
       "    </tr>\n",
       "    <tr>\n",
       "      <th>1866</th>\n",
       "      <td>А зори здесь тихие...</td>\n",
       "      <td>111002915</td>\n",
       "      <td>2015-03-16 12:00:00+00:00</td>\n",
       "      <td>Художественный</td>\n",
       "      <td>ООО \"Компания \"Реал-Дакота\"</td>\n",
       "      <td>Россия</td>\n",
       "      <td>Р.Давлетьяров</td>\n",
       "      <td>NaN</td>\n",
       "      <td>«12+» - для детей старше 12 лет</td>\n",
       "      <td>50000000.0</td>\n",
       "      <td>100000000.0</td>\n",
       "      <td>220588394.0</td>\n",
       "      <td>Фонд кино</td>\n",
       "      <td>8.5</td>\n",
       "      <td>драма,военный,история</td>\n",
       "      <td>249166767.7</td>\n",
       "    </tr>\n",
       "    <tr>\n",
       "      <th>1867</th>\n",
       "      <td>Две женщины</td>\n",
       "      <td>111013714</td>\n",
       "      <td>2014-10-02 12:00:00+00:00</td>\n",
       "      <td>Художественный</td>\n",
       "      <td>ООО \"Продюсерский Центр \"Хорошо Продакшн\", Rez...</td>\n",
       "      <td>Россия, Франция, Латвия</td>\n",
       "      <td>В.Глаголева</td>\n",
       "      <td>Н.Иванова</td>\n",
       "      <td>«12+» - для детей старше 12 лет</td>\n",
       "      <td>0.0</td>\n",
       "      <td>46502299.0</td>\n",
       "      <td>86210067.0</td>\n",
       "      <td>Министерство культуры, Фонд кино</td>\n",
       "      <td>6.7</td>\n",
       "      <td>драма</td>\n",
       "      <td>4731239.5</td>\n",
       "    </tr>\n",
       "    <tr>\n",
       "      <th>1899</th>\n",
       "      <td>Призрак</td>\n",
       "      <td>111001815</td>\n",
       "      <td>2015-03-02 12:00:00+00:00</td>\n",
       "      <td>Художественный</td>\n",
       "      <td>ООО \"Водород 2011\"</td>\n",
       "      <td>Россия</td>\n",
       "      <td>А.Войтинский</td>\n",
       "      <td>С.Сельянов</td>\n",
       "      <td>«6+» - для детей старше 6 лет</td>\n",
       "      <td>0.0</td>\n",
       "      <td>75000000.0</td>\n",
       "      <td>139551503.0</td>\n",
       "      <td>Фонд кино</td>\n",
       "      <td>7.0</td>\n",
       "      <td>триллер,боевик,приключения</td>\n",
       "      <td>352804320.4</td>\n",
       "    </tr>\n",
       "    <tr>\n",
       "      <th>1908</th>\n",
       "      <td>Ведьма</td>\n",
       "      <td>111002215</td>\n",
       "      <td>2015-03-05 12:00:00+00:00</td>\n",
       "      <td>Художественный</td>\n",
       "      <td>ООО \"Кинокомпания \"Ракурс\"</td>\n",
       "      <td>Россия</td>\n",
       "      <td>Д.Федоров</td>\n",
       "      <td>В.Сидоренко</td>\n",
       "      <td>«16+» - для детей старше 16 лет</td>\n",
       "      <td>0.0</td>\n",
       "      <td>34000000.0</td>\n",
       "      <td>48571430.0</td>\n",
       "      <td>Министерство культуры</td>\n",
       "      <td>7.4</td>\n",
       "      <td>фэнтези,приключения,драма</td>\n",
       "      <td>51907.5</td>\n",
       "    </tr>\n",
       "  </tbody>\n",
       "</table>\n",
       "</div>"
      ],
      "text/plain": [
       "                                          title   puNumber  \\\n",
       "1280                              Пока еще жива  111005313   \n",
       "1446                        Бесславные придурки  111003314   \n",
       "1496                                  Невидимки  111004213   \n",
       "1522                                      БЕРЦЫ  111004314   \n",
       "1789                                   Братья Ч  111004414   \n",
       "1850  Тайна Сухаревой башни. Чародей равновесия  114000115   \n",
       "1866                      А зори здесь тихие...  111002915   \n",
       "1867                                Две женщины  111013714   \n",
       "1899                                    Призрак  111001815   \n",
       "1908                                     Ведьма  111002215   \n",
       "\n",
       "               show_start_date            type  \\\n",
       "1280 2013-10-11 12:00:00+00:00  Художественный   \n",
       "1446 2014-03-28 12:00:00+00:00  Художественный   \n",
       "1496 2013-09-10 12:00:00+00:00  Художественный   \n",
       "1522 2014-05-05 12:00:00+00:00  Художественный   \n",
       "1789 2014-04-23 12:00:00+00:00  Художественный   \n",
       "1850 2015-02-18 12:00:00+00:00    Анимационный   \n",
       "1866 2015-03-16 12:00:00+00:00  Художественный   \n",
       "1867 2014-10-02 12:00:00+00:00  Художественный   \n",
       "1899 2015-03-02 12:00:00+00:00  Художественный   \n",
       "1908 2015-03-05 12:00:00+00:00  Художественный   \n",
       "\n",
       "                                            film_studio  \\\n",
       "1280  АНО содействия развитию кинематографии \"Ангел-...   \n",
       "1446                         ООО \"Компания \"АТК-Студио\"   \n",
       "1496                        ООО \"Компания \"РЕАЛ-ДАКОТА\"   \n",
       "1522                             ООО \"Студия \"Пассажир\"   \n",
       "1789                             ООО \"Студия \"Пассажир\"   \n",
       "1850                         ООО \"Студия \"Мастер-Фильм\"   \n",
       "1866                        ООО \"Компания \"Реал-Дакота\"   \n",
       "1867  ООО \"Продюсерский Центр \"Хорошо Продакшн\", Rez...   \n",
       "1899                                 ООО \"Водород 2011\"   \n",
       "1908                         ООО \"Кинокомпания \"Ракурс\"   \n",
       "\n",
       "           production_country                              director  \\\n",
       "1280                   Россия                            А.Атанесян   \n",
       "1446                   Россия                             А.Якимчук   \n",
       "1496                   Россия              Р.Давлетьяров, С.Комаров   \n",
       "1522                   Россия  Е.Миндадзе (псевдоним Катя Шагалова)   \n",
       "1789                   Россия                              М.Угаров   \n",
       "1850                   Россия                             С.Серегин   \n",
       "1866                   Россия                         Р.Давлетьяров   \n",
       "1867  Россия, Франция, Латвия                           В.Глаголева   \n",
       "1899                   Россия                          А.Войтинский   \n",
       "1908                   Россия                             Д.Федоров   \n",
       "\n",
       "                                       producer  \\\n",
       "1280           А.Атанесян, М.Бабаханов, Р.Бутко   \n",
       "1446                                 А.Тютрюмов   \n",
       "1496  Р.Давлетьяров, А.Котелевский, А.Олейников   \n",
       "1522                                 Л.Антонова   \n",
       "1789                     А.Миндадзе, Л.Антонова   \n",
       "1850                                А.Герасимов   \n",
       "1866                                        NaN   \n",
       "1867                                  Н.Иванова   \n",
       "1899                                 С.Сельянов   \n",
       "1908                                В.Сидоренко   \n",
       "\n",
       "                      age_restriction  refundable_support  \\\n",
       "1280  «16+» - для детей старше 16 лет                 0.0   \n",
       "1446  «12+» - для детей старше 12 лет                 0.0   \n",
       "1496  «12+» - для детей старше 12 лет                 0.0   \n",
       "1522  «16+» - для детей старше 16 лет                 0.0   \n",
       "1789  «16+» - для детей старше 16 лет                 0.0   \n",
       "1850    «6+» - для детей старше 6 лет                 0.0   \n",
       "1866  «12+» - для детей старше 12 лет          50000000.0   \n",
       "1867  «12+» - для детей старше 12 лет                 0.0   \n",
       "1899    «6+» - для детей старше 6 лет                 0.0   \n",
       "1908  «16+» - для детей старше 16 лет                 0.0   \n",
       "\n",
       "      nonrefundable_support       budget                  financing_source  \\\n",
       "1280             26500000.0   79411900.0             Министерство культуры   \n",
       "1446             26000000.0   37142857.0             Министерство культуры   \n",
       "1496            107847945.0  176023490.0                         Фонд кино   \n",
       "1522             28000000.0   40574140.0             Министерство культуры   \n",
       "1789             25000000.0   40015122.0             Министерство культуры   \n",
       "1850             25000000.0   51850000.0             Министерство культуры   \n",
       "1866            100000000.0  220588394.0                         Фонд кино   \n",
       "1867             46502299.0   86210067.0  Министерство культуры, Фонд кино   \n",
       "1899             75000000.0  139551503.0                         Фонд кино   \n",
       "1908             34000000.0   48571430.0             Министерство культуры   \n",
       "\n",
       "     ratings                      genres   box_office  \n",
       "1280     8.1             драма,мелодрама     365353.6  \n",
       "1446     NaN                     unknown      28140.0  \n",
       "1496     5.3          комедия,фантастика   19957031.5  \n",
       "1522     4.2                       драма      55917.5  \n",
       "1789     6.4                       драма     232100.0  \n",
       "1850     6.1  мультфильм,фэнтези,история   15078858.6  \n",
       "1866     8.5       драма,военный,история  249166767.7  \n",
       "1867     6.7                       драма    4731239.5  \n",
       "1899     7.0  триллер,боевик,приключения  352804320.4  \n",
       "1908     7.4   фэнтези,приключения,драма      51907.5  "
      ]
     },
     "execution_count": 44,
     "metadata": {},
     "output_type": "execute_result"
    }
   ],
   "source": [
    "df.query('budget > 0').head(10)"
   ]
  },
  {
   "cell_type": "code",
   "execution_count": 45,
   "metadata": {},
   "outputs": [
    {
     "data": {
      "text/html": [
       "<div>\n",
       "<style scoped>\n",
       "    .dataframe tbody tr th:only-of-type {\n",
       "        vertical-align: middle;\n",
       "    }\n",
       "\n",
       "    .dataframe tbody tr th {\n",
       "        vertical-align: top;\n",
       "    }\n",
       "\n",
       "    .dataframe thead th {\n",
       "        text-align: right;\n",
       "    }\n",
       "</style>\n",
       "<table border=\"1\" class=\"dataframe\">\n",
       "  <thead>\n",
       "    <tr style=\"text-align: right;\">\n",
       "      <th></th>\n",
       "      <th>title</th>\n",
       "      <th>puNumber</th>\n",
       "      <th>show_start_date</th>\n",
       "      <th>type</th>\n",
       "      <th>film_studio</th>\n",
       "      <th>production_country</th>\n",
       "      <th>director</th>\n",
       "      <th>producer</th>\n",
       "      <th>age_restriction</th>\n",
       "      <th>refundable_support</th>\n",
       "      <th>nonrefundable_support</th>\n",
       "      <th>budget</th>\n",
       "      <th>financing_source</th>\n",
       "      <th>ratings</th>\n",
       "      <th>genres</th>\n",
       "      <th>box_office</th>\n",
       "    </tr>\n",
       "  </thead>\n",
       "  <tbody>\n",
       "    <tr>\n",
       "      <th>2049</th>\n",
       "      <td>14+</td>\n",
       "      <td>111023614</td>\n",
       "      <td>2014-12-19 12:00:00+00:00</td>\n",
       "      <td>Художественный</td>\n",
       "      <td>ООО Киностудия  \"Сентябрь\"</td>\n",
       "      <td>Россия</td>\n",
       "      <td>А.Зайцев</td>\n",
       "      <td>О.Гранина, А.Зайцев</td>\n",
       "      <td>«16+» - для детей старше 16 лет</td>\n",
       "      <td>0.0</td>\n",
       "      <td>23000000.0</td>\n",
       "      <td>0.0</td>\n",
       "      <td>Министерство культуры, Фонд кино</td>\n",
       "      <td>6.6</td>\n",
       "      <td>мелодрама</td>\n",
       "      <td>10234016.1</td>\n",
       "    </tr>\n",
       "    <tr>\n",
       "      <th>2054</th>\n",
       "      <td>Дуxless 2</td>\n",
       "      <td>111000415</td>\n",
       "      <td>2015-01-26 12:00:00+00:00</td>\n",
       "      <td>Художественный</td>\n",
       "      <td>ООО \"Киностудия \"Слово\", ООО \"Арт Пикчерс Студия\"</td>\n",
       "      <td>Россия</td>\n",
       "      <td>Р.Прыгунов</td>\n",
       "      <td>П.Ануров, Ф.Бондарчук, Д.Рудовский</td>\n",
       "      <td>«16+» - для детей старше 16 лет</td>\n",
       "      <td>0.0</td>\n",
       "      <td>75000000.0</td>\n",
       "      <td>0.0</td>\n",
       "      <td>Фонд кино</td>\n",
       "      <td>6.6</td>\n",
       "      <td>драма</td>\n",
       "      <td>446163511.0</td>\n",
       "    </tr>\n",
       "    <tr>\n",
       "      <th>2468</th>\n",
       "      <td>Воин (2015)</td>\n",
       "      <td>111017315</td>\n",
       "      <td>2015-09-28 12:00:00+00:00</td>\n",
       "      <td>Художественный</td>\n",
       "      <td>ООО \"Форпост Продакшн\", ООО \"Арт Пикчерс Студия\"</td>\n",
       "      <td>Россия</td>\n",
       "      <td>А.Андрианов</td>\n",
       "      <td>ООО \"Арт Пикчерс Студия\"</td>\n",
       "      <td>«12+» - для детей старше 12 лет</td>\n",
       "      <td>10000000.0</td>\n",
       "      <td>70000000.0</td>\n",
       "      <td>0.0</td>\n",
       "      <td>Фонд кино</td>\n",
       "      <td>7.8</td>\n",
       "      <td>боевик,драма,криминал</td>\n",
       "      <td>196572438.4</td>\n",
       "    </tr>\n",
       "  </tbody>\n",
       "</table>\n",
       "</div>"
      ],
      "text/plain": [
       "            title   puNumber           show_start_date            type  \\\n",
       "2049          14+  111023614 2014-12-19 12:00:00+00:00  Художественный   \n",
       "2054    Дуxless 2  111000415 2015-01-26 12:00:00+00:00  Художественный   \n",
       "2468  Воин (2015)  111017315 2015-09-28 12:00:00+00:00  Художественный   \n",
       "\n",
       "                                            film_studio production_country  \\\n",
       "2049                         ООО Киностудия  \"Сентябрь\"             Россия   \n",
       "2054  ООО \"Киностудия \"Слово\", ООО \"Арт Пикчерс Студия\"             Россия   \n",
       "2468   ООО \"Форпост Продакшн\", ООО \"Арт Пикчерс Студия\"             Россия   \n",
       "\n",
       "         director                            producer  \\\n",
       "2049     А.Зайцев                 О.Гранина, А.Зайцев   \n",
       "2054   Р.Прыгунов  П.Ануров, Ф.Бондарчук, Д.Рудовский   \n",
       "2468  А.Андрианов            ООО \"Арт Пикчерс Студия\"   \n",
       "\n",
       "                      age_restriction  refundable_support  \\\n",
       "2049  «16+» - для детей старше 16 лет                 0.0   \n",
       "2054  «16+» - для детей старше 16 лет                 0.0   \n",
       "2468  «12+» - для детей старше 12 лет          10000000.0   \n",
       "\n",
       "      nonrefundable_support  budget                  financing_source ratings  \\\n",
       "2049             23000000.0     0.0  Министерство культуры, Фонд кино     6.6   \n",
       "2054             75000000.0     0.0                         Фонд кино     6.6   \n",
       "2468             70000000.0     0.0                         Фонд кино     7.8   \n",
       "\n",
       "                     genres   box_office  \n",
       "2049              мелодрама   10234016.1  \n",
       "2054                  драма  446163511.0  \n",
       "2468  боевик,драма,криминал  196572438.4  "
      ]
     },
     "execution_count": 45,
     "metadata": {},
     "output_type": "execute_result"
    }
   ],
   "source": [
    "df.query('nonrefundable_support > budget').head(3)"
   ]
  },
  {
   "cell_type": "markdown",
   "metadata": {},
   "source": [
    "В некоторых данных бюджет - 0, но деньги выделены. Заменим бюджет на выделенные деньги государственной поддержки. Сделаем колонку с суммой полной поддержки и сделаем замену."
   ]
  },
  {
   "cell_type": "code",
   "execution_count": 46,
   "metadata": {},
   "outputs": [],
   "source": [
    "df['full_support'] = df['refundable_support'] + df['nonrefundable_support']"
   ]
  },
  {
   "cell_type": "code",
   "execution_count": 47,
   "metadata": {},
   "outputs": [],
   "source": [
    "idx = df.query('full_support > budget').index\n",
    "df.loc[idx, 'budget'] = df.loc[idx, 'full_support']"
   ]
  },
  {
   "cell_type": "code",
   "execution_count": 48,
   "metadata": {},
   "outputs": [
    {
     "data": {
      "text/html": [
       "<div>\n",
       "<style scoped>\n",
       "    .dataframe tbody tr th:only-of-type {\n",
       "        vertical-align: middle;\n",
       "    }\n",
       "\n",
       "    .dataframe tbody tr th {\n",
       "        vertical-align: top;\n",
       "    }\n",
       "\n",
       "    .dataframe thead th {\n",
       "        text-align: right;\n",
       "    }\n",
       "</style>\n",
       "<table border=\"1\" class=\"dataframe\">\n",
       "  <thead>\n",
       "    <tr style=\"text-align: right;\">\n",
       "      <th></th>\n",
       "      <th>title</th>\n",
       "      <th>puNumber</th>\n",
       "      <th>show_start_date</th>\n",
       "      <th>type</th>\n",
       "      <th>film_studio</th>\n",
       "      <th>production_country</th>\n",
       "      <th>director</th>\n",
       "      <th>producer</th>\n",
       "      <th>age_restriction</th>\n",
       "      <th>refundable_support</th>\n",
       "      <th>nonrefundable_support</th>\n",
       "      <th>budget</th>\n",
       "      <th>financing_source</th>\n",
       "      <th>ratings</th>\n",
       "      <th>genres</th>\n",
       "      <th>box_office</th>\n",
       "      <th>full_support</th>\n",
       "    </tr>\n",
       "  </thead>\n",
       "  <tbody>\n",
       "  </tbody>\n",
       "</table>\n",
       "</div>"
      ],
      "text/plain": [
       "Empty DataFrame\n",
       "Columns: [title, puNumber, show_start_date, type, film_studio, production_country, director, producer, age_restriction, refundable_support, nonrefundable_support, budget, financing_source, ratings, genres, box_office, full_support]\n",
       "Index: []"
      ]
     },
     "execution_count": 48,
     "metadata": {},
     "output_type": "execute_result"
    }
   ],
   "source": [
    "df.query('full_support > budget').head(3)"
   ]
  },
  {
   "cell_type": "markdown",
   "metadata": {},
   "source": [
    "Проверим данные на аномалии и выбросы. Для обнаружения выбросов будем использовать метод межквартильного диапазона (IQR)."
   ]
  },
  {
   "cell_type": "code",
   "execution_count": 49,
   "metadata": {},
   "outputs": [
    {
     "data": {
      "image/png": "[encoded data removed]",
      "text/plain": [
       "<Figure size 1080x360 with 1 Axes>"
      ]
     },
     "metadata": {
      "needs_background": "light"
     },
     "output_type": "display_data"
    }
   ],
   "source": [
    "plt.figure(figsize = (15,5))\n",
    "df.query('budget >= 0')['budget'].hist(bins=20)\n",
    "plt.title('Гистограмма бюджета')\n",
    "plt.xlabel('Бюджет')\n",
    "plt.ylabel('Количество')\n",
    "plt.show()"
   ]
  },
  {
   "cell_type": "code",
   "execution_count": 50,
   "metadata": {
    "scrolled": true
   },
   "outputs": [
    {
     "data": {
      "image/png": "[encoded data removed]",
      "text/plain": [
       "<Figure size 432x288 with 1 Axes>"
      ]
     },
     "metadata": {
      "needs_background": "light"
     },
     "output_type": "display_data"
    }
   ],
   "source": [
    "df.query('0 <= budget')[['budget']].boxplot()\n",
    "plt.show()"
   ]
  },
  {
   "cell_type": "markdown",
   "metadata": {},
   "source": [
    "На диаграмме и гистограмме видно выбросы и редкие значения. Гистограмма имеет не нормальное распределение. Определим границу и уберем выбросы."
   ]
  },
  {
   "cell_type": "markdown",
   "metadata": {},
   "source": [
    "Напишем функцию определения диапазонов выбросов."
   ]
  },
  {
   "cell_type": "code",
   "execution_count": 51,
   "metadata": {},
   "outputs": [],
   "source": [
    "def clear_IQR(value):\n",
    "    Q1 = value.quantile(0.25)\n",
    "    Q3 = value.quantile(0.75)\n",
    "    iqr = Q3 - Q1\n",
    "    return Q1 - 1.5 * iqr, Q3 + 1.5 * iqr"
   ]
  },
  {
   "cell_type": "code",
   "execution_count": 52,
   "metadata": {},
   "outputs": [],
   "source": [
    "budget_bounds = clear_IQR(df.query('0 <= budget')['budget'])"
   ]
  },
  {
   "cell_type": "code",
   "execution_count": 53,
   "metadata": {},
   "outputs": [
    {
     "data": {
      "text/plain": [
       "8.433734939759036"
      ]
     },
     "execution_count": 53,
     "metadata": {},
     "output_type": "execute_result"
    }
   ],
   "source": [
    "len(df.query('budget > @budget_bounds[1]')) / len(df.query('0 <= budget')) *100"
   ]
  },
  {
   "cell_type": "markdown",
   "metadata": {},
   "source": [
    "Будет удалено 8% данных, что приемлемо."
   ]
  },
  {
   "cell_type": "code",
   "execution_count": 54,
   "metadata": {},
   "outputs": [],
   "source": [
    "df = df.query('budget < @budget_bounds[1]')"
   ]
  },
  {
   "cell_type": "code",
   "execution_count": 55,
   "metadata": {},
   "outputs": [
    {
     "data": {
      "image/png": "[encoded data removed]",
      "text/plain": [
       "<Figure size 1080x360 with 1 Axes>"
      ]
     },
     "metadata": {
      "needs_background": "light"
     },
     "output_type": "display_data"
    }
   ],
   "source": [
    "plt.figure(figsize = (15,5))\n",
    "df.query('budget >= 0')['budget'].hist(bins=20)\n",
    "plt.title('Гистограмма бюджета')\n",
    "plt.xlabel('Бюджет')\n",
    "plt.ylabel('Количество')\n",
    "plt.show()"
   ]
  },
  {
   "cell_type": "markdown",
   "metadata": {},
   "source": [
    "Теперь имеем более нормальное распределение."
   ]
  },
  {
   "cell_type": "markdown",
   "metadata": {
    "id": "Eu6oWp2CgFyS"
   },
   "source": [
    "### Добавление новых столбцов\n",
    "\n",
    "\n",
    "\n"
   ]
  },
  {
   "cell_type": "markdown",
   "metadata": {
    "id": "7GgW-UpAgFyS"
   },
   "source": [
    "- Создайте столбец с информацией о годе проката. Выделите год из даты премьеры фильма."
   ]
  },
  {
   "cell_type": "code",
   "execution_count": 56,
   "metadata": {
    "id": "I-yd1DkWgFyT"
   },
   "outputs": [],
   "source": [
    "df['show_start_year'] = pd.DatetimeIndex(df['show_start_date']).year"
   ]
  },
  {
   "cell_type": "markdown",
   "metadata": {
    "id": "nFTDLDYOgFyT"
   },
   "source": [
    "- Создайте два столбца: с именем и фамилией главного режиссёра и основным жанром фильма. В столбцы войдут первые значения из списка режиссёров и жанров соответственно.\n"
   ]
  },
  {
   "cell_type": "code",
   "execution_count": 57,
   "metadata": {},
   "outputs": [],
   "source": [
    "def first_el(value):\n",
    "    return value.split(',')[0] if isinstance(value, str) else value"
   ]
  },
  {
   "cell_type": "code",
   "execution_count": 58,
   "metadata": {
    "scrolled": true
   },
   "outputs": [
    {
     "data": {
      "text/html": [
       "<div>\n",
       "<style scoped>\n",
       "    .dataframe tbody tr th:only-of-type {\n",
       "        vertical-align: middle;\n",
       "    }\n",
       "\n",
       "    .dataframe tbody tr th {\n",
       "        vertical-align: top;\n",
       "    }\n",
       "\n",
       "    .dataframe thead th {\n",
       "        text-align: right;\n",
       "    }\n",
       "</style>\n",
       "<table border=\"1\" class=\"dataframe\">\n",
       "  <thead>\n",
       "    <tr style=\"text-align: right;\">\n",
       "      <th></th>\n",
       "      <th>title</th>\n",
       "      <th>puNumber</th>\n",
       "      <th>show_start_date</th>\n",
       "      <th>type</th>\n",
       "      <th>film_studio</th>\n",
       "      <th>production_country</th>\n",
       "      <th>director</th>\n",
       "      <th>producer</th>\n",
       "      <th>age_restriction</th>\n",
       "      <th>refundable_support</th>\n",
       "      <th>nonrefundable_support</th>\n",
       "      <th>budget</th>\n",
       "      <th>financing_source</th>\n",
       "      <th>ratings</th>\n",
       "      <th>genres</th>\n",
       "      <th>box_office</th>\n",
       "      <th>full_support</th>\n",
       "      <th>show_start_year</th>\n",
       "      <th>main_producer</th>\n",
       "      <th>main_genre</th>\n",
       "    </tr>\n",
       "  </thead>\n",
       "  <tbody>\n",
       "    <tr>\n",
       "      <th>0</th>\n",
       "      <td>Открытый простор</td>\n",
       "      <td>221048915</td>\n",
       "      <td>2015-11-27 12:00:00+00:00</td>\n",
       "      <td>Художественный</td>\n",
       "      <td>Тачстоун Пикчерз, Кобальт Пикчерз, Бикон Пикче...</td>\n",
       "      <td>США</td>\n",
       "      <td>Кевин Костнер</td>\n",
       "      <td>Дэвид Валдес, Кевин Костнер, Джейк Эбертс</td>\n",
       "      <td>«18+» - запрещено для детей</td>\n",
       "      <td>NaN</td>\n",
       "      <td>NaN</td>\n",
       "      <td>-1.0</td>\n",
       "      <td>NaN</td>\n",
       "      <td>7.2</td>\n",
       "      <td>боевик,драма,мелодрама</td>\n",
       "      <td>-1.0</td>\n",
       "      <td>NaN</td>\n",
       "      <td>2015</td>\n",
       "      <td>Дэвид Валдес</td>\n",
       "      <td>боевик</td>\n",
       "    </tr>\n",
       "    <tr>\n",
       "      <th>1</th>\n",
       "      <td>Особо важное задание</td>\n",
       "      <td>111013716</td>\n",
       "      <td>2016-09-13 12:00:00+00:00</td>\n",
       "      <td>Художественный</td>\n",
       "      <td>Киностудия \"Мосфильм\"</td>\n",
       "      <td>СССР</td>\n",
       "      <td>Е.Матвеев</td>\n",
       "      <td>NaN</td>\n",
       "      <td>«6+» - для детей старше 6 лет</td>\n",
       "      <td>NaN</td>\n",
       "      <td>NaN</td>\n",
       "      <td>-1.0</td>\n",
       "      <td>NaN</td>\n",
       "      <td>6.6</td>\n",
       "      <td>драма,военный</td>\n",
       "      <td>-1.0</td>\n",
       "      <td>NaN</td>\n",
       "      <td>2016</td>\n",
       "      <td>NaN</td>\n",
       "      <td>драма</td>\n",
       "    </tr>\n",
       "    <tr>\n",
       "      <th>2</th>\n",
       "      <td>Особо опасен</td>\n",
       "      <td>221038416</td>\n",
       "      <td>2016-10-10 12:00:00+00:00</td>\n",
       "      <td>Художественный</td>\n",
       "      <td>Юниверсал Пикчерз, Кикстарт Продакшнз, Марк Пл...</td>\n",
       "      <td>США</td>\n",
       "      <td>Тимур Бекмамбетов</td>\n",
       "      <td>Джим Лемли, Джейсон Нетер, Марк Е.Платт, Яйн Смит</td>\n",
       "      <td>«18+» - запрещено для детей</td>\n",
       "      <td>NaN</td>\n",
       "      <td>NaN</td>\n",
       "      <td>-1.0</td>\n",
       "      <td>NaN</td>\n",
       "      <td>6.8</td>\n",
       "      <td>фантастика,боевик,триллер</td>\n",
       "      <td>-1.0</td>\n",
       "      <td>NaN</td>\n",
       "      <td>2016</td>\n",
       "      <td>Джим Лемли</td>\n",
       "      <td>фантастика</td>\n",
       "    </tr>\n",
       "  </tbody>\n",
       "</table>\n",
       "</div>"
      ],
      "text/plain": [
       "                  title   puNumber           show_start_date            type  \\\n",
       "0      Открытый простор  221048915 2015-11-27 12:00:00+00:00  Художественный   \n",
       "1  Особо важное задание  111013716 2016-09-13 12:00:00+00:00  Художественный   \n",
       "2          Особо опасен  221038416 2016-10-10 12:00:00+00:00  Художественный   \n",
       "\n",
       "                                         film_studio production_country  \\\n",
       "0  Тачстоун Пикчерз, Кобальт Пикчерз, Бикон Пикче...                США   \n",
       "1                              Киностудия \"Мосфильм\"               СССР   \n",
       "2  Юниверсал Пикчерз, Кикстарт Продакшнз, Марк Пл...                США   \n",
       "\n",
       "            director                                           producer  \\\n",
       "0      Кевин Костнер          Дэвид Валдес, Кевин Костнер, Джейк Эбертс   \n",
       "1          Е.Матвеев                                                NaN   \n",
       "2  Тимур Бекмамбетов  Джим Лемли, Джейсон Нетер, Марк Е.Платт, Яйн Смит   \n",
       "\n",
       "                 age_restriction  refundable_support  nonrefundable_support  \\\n",
       "0    «18+» - запрещено для детей                 NaN                    NaN   \n",
       "1  «6+» - для детей старше 6 лет                 NaN                    NaN   \n",
       "2    «18+» - запрещено для детей                 NaN                    NaN   \n",
       "\n",
       "   budget financing_source ratings                     genres  box_office  \\\n",
       "0    -1.0              NaN     7.2     боевик,драма,мелодрама        -1.0   \n",
       "1    -1.0              NaN     6.6              драма,военный        -1.0   \n",
       "2    -1.0              NaN     6.8  фантастика,боевик,триллер        -1.0   \n",
       "\n",
       "   full_support  show_start_year main_producer  main_genre  \n",
       "0           NaN             2015  Дэвид Валдес      боевик  \n",
       "1           NaN             2016           NaN       драма  \n",
       "2           NaN             2016    Джим Лемли  фантастика  "
      ]
     },
     "execution_count": 58,
     "metadata": {},
     "output_type": "execute_result"
    }
   ],
   "source": [
    "df['main_producer'] = df['producer'].apply(first_el)\n",
    "df['main_genre'] = df['genres'].apply(first_el)\n",
    "df.head(3)"
   ]
  },
  {
   "cell_type": "markdown",
   "metadata": {
    "id": "1FsCXHwdgFyU"
   },
   "source": [
    "- Посчитайте, какую долю от общего бюджета фильма составляет государственная поддержка."
   ]
  },
  {
   "cell_type": "code",
   "execution_count": 59,
   "metadata": {
    "id": "LV6qFuZLgFyV"
   },
   "outputs": [],
   "source": [
    "df['part_support'] = df['full_support'] / df['budget']"
   ]
  },
  {
   "cell_type": "code",
   "execution_count": 60,
   "metadata": {},
   "outputs": [
    {
     "data": {
      "text/html": [
       "<div>\n",
       "<style scoped>\n",
       "    .dataframe tbody tr th:only-of-type {\n",
       "        vertical-align: middle;\n",
       "    }\n",
       "\n",
       "    .dataframe tbody tr th {\n",
       "        vertical-align: top;\n",
       "    }\n",
       "\n",
       "    .dataframe thead th {\n",
       "        text-align: right;\n",
       "    }\n",
       "</style>\n",
       "<table border=\"1\" class=\"dataframe\">\n",
       "  <thead>\n",
       "    <tr style=\"text-align: right;\">\n",
       "      <th></th>\n",
       "      <th>title</th>\n",
       "      <th>puNumber</th>\n",
       "      <th>show_start_date</th>\n",
       "      <th>type</th>\n",
       "      <th>film_studio</th>\n",
       "      <th>production_country</th>\n",
       "      <th>director</th>\n",
       "      <th>producer</th>\n",
       "      <th>age_restriction</th>\n",
       "      <th>refundable_support</th>\n",
       "      <th>...</th>\n",
       "      <th>budget</th>\n",
       "      <th>financing_source</th>\n",
       "      <th>ratings</th>\n",
       "      <th>genres</th>\n",
       "      <th>box_office</th>\n",
       "      <th>full_support</th>\n",
       "      <th>show_start_year</th>\n",
       "      <th>main_producer</th>\n",
       "      <th>main_genre</th>\n",
       "      <th>part_support</th>\n",
       "    </tr>\n",
       "  </thead>\n",
       "  <tbody>\n",
       "    <tr>\n",
       "      <th>1280</th>\n",
       "      <td>Пока еще жива</td>\n",
       "      <td>111005313</td>\n",
       "      <td>2013-10-11 12:00:00+00:00</td>\n",
       "      <td>Художественный</td>\n",
       "      <td>АНО содействия развитию кинематографии \"Ангел-...</td>\n",
       "      <td>Россия</td>\n",
       "      <td>А.Атанесян</td>\n",
       "      <td>А.Атанесян, М.Бабаханов, Р.Бутко</td>\n",
       "      <td>«16+» - для детей старше 16 лет</td>\n",
       "      <td>0.0</td>\n",
       "      <td>...</td>\n",
       "      <td>79411900.0</td>\n",
       "      <td>Министерство культуры</td>\n",
       "      <td>8.1</td>\n",
       "      <td>драма,мелодрама</td>\n",
       "      <td>365353.6</td>\n",
       "      <td>26500000.0</td>\n",
       "      <td>2013</td>\n",
       "      <td>А.Атанесян</td>\n",
       "      <td>драма</td>\n",
       "      <td>0.333703</td>\n",
       "    </tr>\n",
       "    <tr>\n",
       "      <th>1446</th>\n",
       "      <td>Бесславные придурки</td>\n",
       "      <td>111003314</td>\n",
       "      <td>2014-03-28 12:00:00+00:00</td>\n",
       "      <td>Художественный</td>\n",
       "      <td>ООО \"Компания \"АТК-Студио\"</td>\n",
       "      <td>Россия</td>\n",
       "      <td>А.Якимчук</td>\n",
       "      <td>А.Тютрюмов</td>\n",
       "      <td>«12+» - для детей старше 12 лет</td>\n",
       "      <td>0.0</td>\n",
       "      <td>...</td>\n",
       "      <td>37142857.0</td>\n",
       "      <td>Министерство культуры</td>\n",
       "      <td>NaN</td>\n",
       "      <td>unknown</td>\n",
       "      <td>28140.0</td>\n",
       "      <td>26000000.0</td>\n",
       "      <td>2014</td>\n",
       "      <td>А.Тютрюмов</td>\n",
       "      <td>unknown</td>\n",
       "      <td>0.700000</td>\n",
       "    </tr>\n",
       "    <tr>\n",
       "      <th>1496</th>\n",
       "      <td>Невидимки</td>\n",
       "      <td>111004213</td>\n",
       "      <td>2013-09-10 12:00:00+00:00</td>\n",
       "      <td>Художественный</td>\n",
       "      <td>ООО \"Компания \"РЕАЛ-ДАКОТА\"</td>\n",
       "      <td>Россия</td>\n",
       "      <td>Р.Давлетьяров, С.Комаров</td>\n",
       "      <td>Р.Давлетьяров, А.Котелевский, А.Олейников</td>\n",
       "      <td>«12+» - для детей старше 12 лет</td>\n",
       "      <td>0.0</td>\n",
       "      <td>...</td>\n",
       "      <td>176023490.0</td>\n",
       "      <td>Фонд кино</td>\n",
       "      <td>5.3</td>\n",
       "      <td>комедия,фантастика</td>\n",
       "      <td>19957031.5</td>\n",
       "      <td>107847945.0</td>\n",
       "      <td>2013</td>\n",
       "      <td>Р.Давлетьяров</td>\n",
       "      <td>комедия</td>\n",
       "      <td>0.612691</td>\n",
       "    </tr>\n",
       "  </tbody>\n",
       "</table>\n",
       "<p>3 rows × 21 columns</p>\n",
       "</div>"
      ],
      "text/plain": [
       "                    title   puNumber           show_start_date  \\\n",
       "1280        Пока еще жива  111005313 2013-10-11 12:00:00+00:00   \n",
       "1446  Бесславные придурки  111003314 2014-03-28 12:00:00+00:00   \n",
       "1496            Невидимки  111004213 2013-09-10 12:00:00+00:00   \n",
       "\n",
       "                type                                        film_studio  \\\n",
       "1280  Художественный  АНО содействия развитию кинематографии \"Ангел-...   \n",
       "1446  Художественный                         ООО \"Компания \"АТК-Студио\"   \n",
       "1496  Художественный                        ООО \"Компания \"РЕАЛ-ДАКОТА\"   \n",
       "\n",
       "     production_country                  director  \\\n",
       "1280             Россия                А.Атанесян   \n",
       "1446             Россия                 А.Якимчук   \n",
       "1496             Россия  Р.Давлетьяров, С.Комаров   \n",
       "\n",
       "                                       producer  \\\n",
       "1280           А.Атанесян, М.Бабаханов, Р.Бутко   \n",
       "1446                                 А.Тютрюмов   \n",
       "1496  Р.Давлетьяров, А.Котелевский, А.Олейников   \n",
       "\n",
       "                      age_restriction  refundable_support  ...       budget  \\\n",
       "1280  «16+» - для детей старше 16 лет                 0.0  ...   79411900.0   \n",
       "1446  «12+» - для детей старше 12 лет                 0.0  ...   37142857.0   \n",
       "1496  «12+» - для детей старше 12 лет                 0.0  ...  176023490.0   \n",
       "\n",
       "           financing_source ratings              genres  box_office  \\\n",
       "1280  Министерство культуры     8.1     драма,мелодрама    365353.6   \n",
       "1446  Министерство культуры     NaN             unknown     28140.0   \n",
       "1496              Фонд кино     5.3  комедия,фантастика  19957031.5   \n",
       "\n",
       "      full_support  show_start_year  main_producer main_genre part_support  \n",
       "1280    26500000.0             2013     А.Атанесян      драма     0.333703  \n",
       "1446    26000000.0             2014     А.Тютрюмов    unknown     0.700000  \n",
       "1496   107847945.0             2013  Р.Давлетьяров    комедия     0.612691  \n",
       "\n",
       "[3 rows x 21 columns]"
      ]
     },
     "execution_count": 60,
     "metadata": {},
     "output_type": "execute_result"
    }
   ],
   "source": [
    "df.query('full_support > 0').head(3)"
   ]
  },
  {
   "cell_type": "code",
   "execution_count": 61,
   "metadata": {},
   "outputs": [
    {
     "name": "stdout",
     "output_type": "stream",
     "text": [
      "55\n"
     ]
    }
   ],
   "source": [
    "print(base_counts - len(df))"
   ]
  },
  {
   "cell_type": "markdown",
   "metadata": {
    "id": "6t4EukPLgFyV"
   },
   "source": [
    "### Краткий вывод\n",
    "Привели типы данных к нужным. Удалили и заполнили пропуски. Исправили ошибки в категориальных и количественных значениях. Очистили данные от выбросов.<br>\n",
    "Добавили новые столбцы - главный режиссёр, основной жанр и долю гос поддержки в бюджете фильма. <br>\n",
    "Потери в данных составили 55 строк.\n"
   ]
  },
  {
   "cell_type": "markdown",
   "metadata": {
    "id": "6t4EukPLgFyV"
   },
   "source": [
    "## Исследовательский анализ данных\n"
   ]
  },
  {
   "cell_type": "markdown",
   "metadata": {
    "id": "vAH8WCzugFyV"
   },
   "source": [
    "- Посмотрите, сколько фильмов выходило в прокат каждый год. Обратите внимание, что данные о прокате в кинотеатрах известны не для всех фильмов. Посчитайте, какую долю составляют фильмы с указанной информацией о прокате в кинотеатрах."
   ]
  },
  {
   "cell_type": "code",
   "execution_count": 62,
   "metadata": {
    "id": "ABeV47y7gFyW"
   },
   "outputs": [
    {
     "data": {
      "text/html": [
       "<div>\n",
       "<style scoped>\n",
       "    .dataframe tbody tr th:only-of-type {\n",
       "        vertical-align: middle;\n",
       "    }\n",
       "\n",
       "    .dataframe tbody tr th {\n",
       "        vertical-align: top;\n",
       "    }\n",
       "\n",
       "    .dataframe thead th {\n",
       "        text-align: right;\n",
       "    }\n",
       "</style>\n",
       "<table border=\"1\" class=\"dataframe\">\n",
       "  <thead>\n",
       "    <tr style=\"text-align: right;\">\n",
       "      <th></th>\n",
       "      <th>box_office</th>\n",
       "    </tr>\n",
       "    <tr>\n",
       "      <th>show_start_year</th>\n",
       "      <th></th>\n",
       "    </tr>\n",
       "  </thead>\n",
       "  <tbody>\n",
       "    <tr>\n",
       "      <th>2010</th>\n",
       "      <td>105</td>\n",
       "    </tr>\n",
       "    <tr>\n",
       "      <th>2011</th>\n",
       "      <td>109</td>\n",
       "    </tr>\n",
       "    <tr>\n",
       "      <th>2012</th>\n",
       "      <td>127</td>\n",
       "    </tr>\n",
       "    <tr>\n",
       "      <th>2013</th>\n",
       "      <td>184</td>\n",
       "    </tr>\n",
       "    <tr>\n",
       "      <th>2014</th>\n",
       "      <td>279</td>\n",
       "    </tr>\n",
       "    <tr>\n",
       "      <th>2015</th>\n",
       "      <td>461</td>\n",
       "    </tr>\n",
       "    <tr>\n",
       "      <th>2016</th>\n",
       "      <td>521</td>\n",
       "    </tr>\n",
       "    <tr>\n",
       "      <th>2017</th>\n",
       "      <td>349</td>\n",
       "    </tr>\n",
       "    <tr>\n",
       "      <th>2018</th>\n",
       "      <td>470</td>\n",
       "    </tr>\n",
       "    <tr>\n",
       "      <th>2019</th>\n",
       "      <td>523</td>\n",
       "    </tr>\n",
       "  </tbody>\n",
       "</table>\n",
       "</div>"
      ],
      "text/plain": [
       "                 box_office\n",
       "show_start_year            \n",
       "2010                    105\n",
       "2011                    109\n",
       "2012                    127\n",
       "2013                    184\n",
       "2014                    279\n",
       "2015                    461\n",
       "2016                    521\n",
       "2017                    349\n",
       "2018                    470\n",
       "2019                    523"
      ]
     },
     "execution_count": 62,
     "metadata": {},
     "output_type": "execute_result"
    }
   ],
   "source": [
    "df.query('box_office >= 0').pivot_table(index='show_start_year', values='box_office', aggfunc='count')"
   ]
  },
  {
   "cell_type": "code",
   "execution_count": 63,
   "metadata": {},
   "outputs": [
    {
     "data": {
      "image/png": "[encoded data removed]",
      "text/plain": [
       "<Figure size 432x288 with 1 Axes>"
      ]
     },
     "metadata": {
      "needs_background": "light"
     },
     "output_type": "display_data"
    }
   ],
   "source": [
    "df.query('box_office >= 0').pivot_table(index='show_start_year', values='box_office', aggfunc='count').plot()\n",
    "plt.show()"
   ]
  },
  {
   "cell_type": "code",
   "execution_count": 64,
   "metadata": {},
   "outputs": [
    {
     "data": {
      "text/plain": [
       "0.4209959623149394"
      ]
     },
     "execution_count": 64,
     "metadata": {},
     "output_type": "execute_result"
    }
   ],
   "source": [
    "len(df.query('box_office >= 0')) / len(df)"
   ]
  },
  {
   "cell_type": "markdown",
   "metadata": {},
   "source": [
    "Доля фильмов с указанной информацией о прокате в кинотеатрах составляет 42%."
   ]
  },
  {
   "cell_type": "code",
   "execution_count": 65,
   "metadata": {},
   "outputs": [
    {
     "data": {
      "text/html": [
       "<div>\n",
       "<style scoped>\n",
       "    .dataframe tbody tr th:only-of-type {\n",
       "        vertical-align: middle;\n",
       "    }\n",
       "\n",
       "    .dataframe tbody tr th {\n",
       "        vertical-align: top;\n",
       "    }\n",
       "\n",
       "    .dataframe thead th {\n",
       "        text-align: right;\n",
       "    }\n",
       "</style>\n",
       "<table border=\"1\" class=\"dataframe\">\n",
       "  <thead>\n",
       "    <tr style=\"text-align: right;\">\n",
       "      <th></th>\n",
       "      <th>count</th>\n",
       "    </tr>\n",
       "    <tr>\n",
       "      <th>show_start_year</th>\n",
       "      <th></th>\n",
       "    </tr>\n",
       "  </thead>\n",
       "  <tbody>\n",
       "    <tr>\n",
       "      <th>2010</th>\n",
       "      <td>0.107143</td>\n",
       "    </tr>\n",
       "    <tr>\n",
       "      <th>2011</th>\n",
       "      <td>0.175806</td>\n",
       "    </tr>\n",
       "    <tr>\n",
       "      <th>2012</th>\n",
       "      <td>0.214527</td>\n",
       "    </tr>\n",
       "    <tr>\n",
       "      <th>2013</th>\n",
       "      <td>0.292528</td>\n",
       "    </tr>\n",
       "    <tr>\n",
       "      <th>2014</th>\n",
       "      <td>0.346584</td>\n",
       "    </tr>\n",
       "    <tr>\n",
       "      <th>2015</th>\n",
       "      <td>0.657632</td>\n",
       "    </tr>\n",
       "    <tr>\n",
       "      <th>2016</th>\n",
       "      <td>0.640836</td>\n",
       "    </tr>\n",
       "    <tr>\n",
       "      <th>2017</th>\n",
       "      <td>0.702213</td>\n",
       "    </tr>\n",
       "    <tr>\n",
       "      <th>2018</th>\n",
       "      <td>0.537143</td>\n",
       "    </tr>\n",
       "    <tr>\n",
       "      <th>2019</th>\n",
       "      <td>0.569717</td>\n",
       "    </tr>\n",
       "  </tbody>\n",
       "</table>\n",
       "</div>"
      ],
      "text/plain": [
       "                    count\n",
       "show_start_year          \n",
       "2010             0.107143\n",
       "2011             0.175806\n",
       "2012             0.214527\n",
       "2013             0.292528\n",
       "2014             0.346584\n",
       "2015             0.657632\n",
       "2016             0.640836\n",
       "2017             0.702213\n",
       "2018             0.537143\n",
       "2019             0.569717"
      ]
     },
     "metadata": {},
     "output_type": "display_data"
    },
    {
     "data": {
      "image/png": "[encoded data removed]",
      "text/plain": [
       "<Figure size 432x288 with 1 Axes>"
      ]
     },
     "metadata": {
      "needs_background": "light"
     },
     "output_type": "display_data"
    }
   ],
   "source": [
    "df_show = df[df['box_office'] >= 0].groupby('show_start_year')['box_office'].agg({'count'}) \n",
    "df_no_show = df.groupby('show_start_year')['box_office'].agg({'count'})\n",
    "part_show = df_show / df_no_show\n",
    "display(part_show)\n",
    "part_show.plot()\n",
    "plt.show()"
   ]
  },
  {
   "cell_type": "markdown",
   "metadata": {},
   "source": [
    "Доля по годам росла. В 2018 году был спад. В 2017 году самая большая доля показов."
   ]
  },
  {
   "cell_type": "markdown",
   "metadata": {
    "id": "BEOdcIrIgFyW"
   },
   "source": [
    "- Изучите, как менялась динамика проката по годам. В каком году сумма сборов была минимальной? А максимальной?"
   ]
  },
  {
   "cell_type": "code",
   "execution_count": 66,
   "metadata": {
    "id": "tfEhofYvgFyX"
   },
   "outputs": [
    {
     "data": {
      "image/png": "[encoded data removed]",
      "text/plain": [
       "<Figure size 432x288 with 1 Axes>"
      ]
     },
     "metadata": {
      "needs_background": "light"
     },
     "output_type": "display_data"
    }
   ],
   "source": [
    "df.query('box_office >= 0').pivot_table(index='show_start_year', values='box_office', aggfunc='count').plot()\n",
    "plt.show()"
   ]
  },
  {
   "cell_type": "code",
   "execution_count": 67,
   "metadata": {},
   "outputs": [
    {
     "data": {
      "image/png": "[encoded data removed]",
      "text/plain": [
       "<Figure size 432x288 with 1 Axes>"
      ]
     },
     "metadata": {
      "needs_background": "light"
     },
     "output_type": "display_data"
    }
   ],
   "source": [
    "df.query('box_office >= 0').pivot_table(index='show_start_year', values='box_office', aggfunc='sum').plot()\n",
    "plt.show()"
   ]
  },
  {
   "cell_type": "markdown",
   "metadata": {},
   "source": [
    "Динамика положительная, однако в 2017-м году был спад. По сумме сборов виден большой рост с 2013 по 2016 год."
   ]
  },
  {
   "cell_type": "code",
   "execution_count": 68,
   "metadata": {},
   "outputs": [
    {
     "data": {
      "text/html": [
       "<div>\n",
       "<style scoped>\n",
       "    .dataframe tbody tr th:only-of-type {\n",
       "        vertical-align: middle;\n",
       "    }\n",
       "\n",
       "    .dataframe tbody tr th {\n",
       "        vertical-align: top;\n",
       "    }\n",
       "\n",
       "    .dataframe thead th {\n",
       "        text-align: right;\n",
       "    }\n",
       "</style>\n",
       "<table border=\"1\" class=\"dataframe\">\n",
       "  <thead>\n",
       "    <tr style=\"text-align: right;\">\n",
       "      <th></th>\n",
       "      <th>box_office</th>\n",
       "    </tr>\n",
       "    <tr>\n",
       "      <th>show_start_year</th>\n",
       "      <th></th>\n",
       "    </tr>\n",
       "  </thead>\n",
       "  <tbody>\n",
       "    <tr>\n",
       "      <th>2010</th>\n",
       "      <td>2,428,654.00</td>\n",
       "    </tr>\n",
       "    <tr>\n",
       "      <th>2012</th>\n",
       "      <td>6,911,073.00</td>\n",
       "    </tr>\n",
       "    <tr>\n",
       "      <th>2011</th>\n",
       "      <td>14,102,765.00</td>\n",
       "    </tr>\n",
       "    <tr>\n",
       "      <th>2013</th>\n",
       "      <td>29,799,706.20</td>\n",
       "    </tr>\n",
       "    <tr>\n",
       "      <th>2014</th>\n",
       "      <td>7,444,951,859.20</td>\n",
       "    </tr>\n",
       "    <tr>\n",
       "      <th>2015</th>\n",
       "      <td>38,793,109,460.87</td>\n",
       "    </tr>\n",
       "    <tr>\n",
       "      <th>2017</th>\n",
       "      <td>41,261,272,295.51</td>\n",
       "    </tr>\n",
       "    <tr>\n",
       "      <th>2016</th>\n",
       "      <td>45,533,916,818.51</td>\n",
       "    </tr>\n",
       "    <tr>\n",
       "      <th>2018</th>\n",
       "      <td>46,360,435,694.42</td>\n",
       "    </tr>\n",
       "    <tr>\n",
       "      <th>2019</th>\n",
       "      <td>46,903,840,168.89</td>\n",
       "    </tr>\n",
       "  </tbody>\n",
       "</table>\n",
       "</div>"
      ],
      "text/plain": [
       "                       box_office\n",
       "show_start_year                  \n",
       "2010                 2,428,654.00\n",
       "2012                 6,911,073.00\n",
       "2011                14,102,765.00\n",
       "2013                29,799,706.20\n",
       "2014             7,444,951,859.20\n",
       "2015            38,793,109,460.87\n",
       "2017            41,261,272,295.51\n",
       "2016            45,533,916,818.51\n",
       "2018            46,360,435,694.42\n",
       "2019            46,903,840,168.89"
      ]
     },
     "execution_count": 68,
     "metadata": {},
     "output_type": "execute_result"
    }
   ],
   "source": [
    "pd.options.display.float_format = '{:,.2f}'.format\n",
    "df.query('box_office >= 0').pivot_table(index='show_start_year', values='box_office', aggfunc='sum').sort_values('box_office')"
   ]
  },
  {
   "cell_type": "markdown",
   "metadata": {},
   "source": [
    "Минимальная сумма сборов была в 2010-м году, а максимальная в 2019."
   ]
  },
  {
   "cell_type": "markdown",
   "metadata": {
    "id": "G-7qS-N-gFyY"
   },
   "source": [
    "- С помощью сводной таблицы посчитайте среднюю и медианную сумму сборов для каждого года."
   ]
  },
  {
   "cell_type": "code",
   "execution_count": 69,
   "metadata": {
    "id": "jmp-rgg9gFyY"
   },
   "outputs": [
    {
     "data": {
      "text/html": [
       "<div>\n",
       "<style scoped>\n",
       "    .dataframe tbody tr th:only-of-type {\n",
       "        vertical-align: middle;\n",
       "    }\n",
       "\n",
       "    .dataframe tbody tr th {\n",
       "        vertical-align: top;\n",
       "    }\n",
       "\n",
       "    .dataframe thead th {\n",
       "        text-align: right;\n",
       "    }\n",
       "</style>\n",
       "<table border=\"1\" class=\"dataframe\">\n",
       "  <thead>\n",
       "    <tr style=\"text-align: right;\">\n",
       "      <th></th>\n",
       "      <th>mean</th>\n",
       "      <th>median</th>\n",
       "    </tr>\n",
       "    <tr>\n",
       "      <th>show_start_year</th>\n",
       "      <th></th>\n",
       "      <th></th>\n",
       "    </tr>\n",
       "  </thead>\n",
       "  <tbody>\n",
       "    <tr>\n",
       "      <th>2010</th>\n",
       "      <td>23,130.04</td>\n",
       "      <td>1,700.00</td>\n",
       "    </tr>\n",
       "    <tr>\n",
       "      <th>2011</th>\n",
       "      <td>129,383.17</td>\n",
       "      <td>3,000.00</td>\n",
       "    </tr>\n",
       "    <tr>\n",
       "      <th>2012</th>\n",
       "      <td>54,417.90</td>\n",
       "      <td>5,560.00</td>\n",
       "    </tr>\n",
       "    <tr>\n",
       "      <th>2013</th>\n",
       "      <td>161,954.92</td>\n",
       "      <td>3,522.50</td>\n",
       "    </tr>\n",
       "    <tr>\n",
       "      <th>2014</th>\n",
       "      <td>26,684,415.27</td>\n",
       "      <td>18,160.00</td>\n",
       "    </tr>\n",
       "    <tr>\n",
       "      <th>2015</th>\n",
       "      <td>84,149,912.06</td>\n",
       "      <td>4,784,781.50</td>\n",
       "    </tr>\n",
       "    <tr>\n",
       "      <th>2016</th>\n",
       "      <td>87,397,153.20</td>\n",
       "      <td>3,776,087.56</td>\n",
       "    </tr>\n",
       "    <tr>\n",
       "      <th>2017</th>\n",
       "      <td>118,227,141.25</td>\n",
       "      <td>9,580,738.00</td>\n",
       "    </tr>\n",
       "    <tr>\n",
       "      <th>2018</th>\n",
       "      <td>98,639,224.88</td>\n",
       "      <td>8,730,277.53</td>\n",
       "    </tr>\n",
       "    <tr>\n",
       "      <th>2019</th>\n",
       "      <td>89,682,294.78</td>\n",
       "      <td>4,521,233.86</td>\n",
       "    </tr>\n",
       "  </tbody>\n",
       "</table>\n",
       "</div>"
      ],
      "text/plain": [
       "                          mean       median\n",
       "show_start_year                            \n",
       "2010                 23,130.04     1,700.00\n",
       "2011                129,383.17     3,000.00\n",
       "2012                 54,417.90     5,560.00\n",
       "2013                161,954.92     3,522.50\n",
       "2014             26,684,415.27    18,160.00\n",
       "2015             84,149,912.06 4,784,781.50\n",
       "2016             87,397,153.20 3,776,087.56\n",
       "2017            118,227,141.25 9,580,738.00\n",
       "2018             98,639,224.88 8,730,277.53\n",
       "2019             89,682,294.78 4,521,233.86"
      ]
     },
     "execution_count": 69,
     "metadata": {},
     "output_type": "execute_result"
    }
   ],
   "source": [
    "df.query('box_office >= 0').pivot_table(\n",
    "    index='show_start_year',\n",
    "    values='box_office',\n",
    "    aggfunc=['mean', 'median']\n",
    "    ).droplevel(level=1, axis=1)"
   ]
  },
  {
   "cell_type": "markdown",
   "metadata": {},
   "source": [
    "Средняя и медианная сумма очень отличается. Вероятно имеем большое количество фильмов с маленькими сборами и небольшая доля с очень большими сборами."
   ]
  },
  {
   "cell_type": "markdown",
   "metadata": {
    "id": "Ok89WFwJgFyZ"
   },
   "source": [
    "- Определите, влияет ли возрастное ограничение аудитории («6+», «12+», «16+», «18+» и т. д.) на сборы фильма в прокате в период с 2015 по 2019 год? Фильмы с каким возрастным ограничением собрали больше всего денег в прокате? Меняется ли картина в зависимости от года? Если да, предположите, с чем это может быть связано."
   ]
  },
  {
   "cell_type": "code",
   "execution_count": 70,
   "metadata": {
    "scrolled": true
   },
   "outputs": [
    {
     "data": {
      "text/html": [
       "<div>\n",
       "<style scoped>\n",
       "    .dataframe tbody tr th:only-of-type {\n",
       "        vertical-align: middle;\n",
       "    }\n",
       "\n",
       "    .dataframe tbody tr th {\n",
       "        vertical-align: top;\n",
       "    }\n",
       "\n",
       "    .dataframe thead th {\n",
       "        text-align: right;\n",
       "    }\n",
       "</style>\n",
       "<table border=\"1\" class=\"dataframe\">\n",
       "  <thead>\n",
       "    <tr style=\"text-align: right;\">\n",
       "      <th></th>\n",
       "      <th>box_office</th>\n",
       "    </tr>\n",
       "    <tr>\n",
       "      <th>age_restriction</th>\n",
       "      <th></th>\n",
       "    </tr>\n",
       "  </thead>\n",
       "  <tbody>\n",
       "    <tr>\n",
       "      <th>«0+» - для любой зрительской аудитории</th>\n",
       "      <td>602,404,486.97</td>\n",
       "    </tr>\n",
       "    <tr>\n",
       "      <th>«18+» - запрещено для детей</th>\n",
       "      <td>40,759,615,282.12</td>\n",
       "    </tr>\n",
       "    <tr>\n",
       "      <th>«6+» - для детей старше 6 лет</th>\n",
       "      <td>50,120,944,980.55</td>\n",
       "    </tr>\n",
       "    <tr>\n",
       "      <th>«12+» - для детей старше 12 лет</th>\n",
       "      <td>52,459,218,584.17</td>\n",
       "    </tr>\n",
       "    <tr>\n",
       "      <th>«16+» - для детей старше 16 лет</th>\n",
       "      <td>74,910,389,624.39</td>\n",
       "    </tr>\n",
       "  </tbody>\n",
       "</table>\n",
       "</div>"
      ],
      "text/plain": [
       "                                              box_office\n",
       "age_restriction                                         \n",
       "«0+» - для любой зрительской аудитории    602,404,486.97\n",
       "«18+» - запрещено для детей            40,759,615,282.12\n",
       "«6+» - для детей старше 6 лет          50,120,944,980.55\n",
       "«12+» - для детей старше 12 лет        52,459,218,584.17\n",
       "«16+» - для детей старше 16 лет        74,910,389,624.39"
      ]
     },
     "execution_count": 70,
     "metadata": {},
     "output_type": "execute_result"
    }
   ],
   "source": [
    "df.query('2015 <= show_start_year <= 2019').pivot_table(\n",
    "    index='age_restriction',\n",
    "    values='box_office',\n",
    "    aggfunc='sum'\n",
    "    ).sort_values('box_office')"
   ]
  },
  {
   "cell_type": "markdown",
   "metadata": {},
   "source": [
    "Возрастное ограничение влияет на сборы фильма. Фильмы с ограничением \"16+\" собрали больше всего, а \"0+\" меньше всего."
   ]
  },
  {
   "cell_type": "code",
   "execution_count": 71,
   "metadata": {},
   "outputs": [
    {
     "data": {
      "text/html": [
       "<div>\n",
       "<style scoped>\n",
       "    .dataframe tbody tr th:only-of-type {\n",
       "        vertical-align: middle;\n",
       "    }\n",
       "\n",
       "    .dataframe tbody tr th {\n",
       "        vertical-align: top;\n",
       "    }\n",
       "\n",
       "    .dataframe thead th {\n",
       "        text-align: right;\n",
       "    }\n",
       "</style>\n",
       "<table border=\"1\" class=\"dataframe\">\n",
       "  <thead>\n",
       "    <tr style=\"text-align: right;\">\n",
       "      <th>show_start_year</th>\n",
       "      <th>2015</th>\n",
       "      <th>2016</th>\n",
       "      <th>2017</th>\n",
       "      <th>2018</th>\n",
       "      <th>2019</th>\n",
       "    </tr>\n",
       "    <tr>\n",
       "      <th>age_restriction</th>\n",
       "      <th></th>\n",
       "      <th></th>\n",
       "      <th></th>\n",
       "      <th></th>\n",
       "      <th></th>\n",
       "    </tr>\n",
       "  </thead>\n",
       "  <tbody>\n",
       "    <tr>\n",
       "      <th>«0+» - для любой зрительской аудитории</th>\n",
       "      <td>379,054,567.37</td>\n",
       "      <td>150,034,289.67</td>\n",
       "      <td>23,120,703.00</td>\n",
       "      <td>32,448,930.11</td>\n",
       "      <td>17,745,996.82</td>\n",
       "    </tr>\n",
       "    <tr>\n",
       "      <th>«12+» - для детей старше 12 лет</th>\n",
       "      <td>13,091,691,405.81</td>\n",
       "      <td>11,638,798,603.59</td>\n",
       "      <td>4,591,264,847.67</td>\n",
       "      <td>11,174,968,254.96</td>\n",
       "      <td>11,962,495,472.14</td>\n",
       "    </tr>\n",
       "    <tr>\n",
       "      <th>«16+» - для детей старше 16 лет</th>\n",
       "      <td>11,368,120,789.27</td>\n",
       "      <td>16,300,263,315.14</td>\n",
       "      <td>18,233,267,320.06</td>\n",
       "      <td>16,503,602,267.96</td>\n",
       "      <td>12,505,135,931.96</td>\n",
       "    </tr>\n",
       "    <tr>\n",
       "      <th>«18+» - запрещено для детей</th>\n",
       "      <td>5,432,308,307.44</td>\n",
       "      <td>6,793,929,724.87</td>\n",
       "      <td>9,651,495,556.02</td>\n",
       "      <td>8,760,085,462.15</td>\n",
       "      <td>10,121,796,231.64</td>\n",
       "    </tr>\n",
       "    <tr>\n",
       "      <th>«6+» - для детей старше 6 лет</th>\n",
       "      <td>8,521,934,150.98</td>\n",
       "      <td>10,650,890,593.24</td>\n",
       "      <td>8,762,123,720.76</td>\n",
       "      <td>9,889,330,374.24</td>\n",
       "      <td>12,296,666,141.33</td>\n",
       "    </tr>\n",
       "  </tbody>\n",
       "</table>\n",
       "</div>"
      ],
      "text/plain": [
       "show_start_year                                     2015              2016  \\\n",
       "age_restriction                                                              \n",
       "«0+» - для любой зрительской аудитории    379,054,567.37    150,034,289.67   \n",
       "«12+» - для детей старше 12 лет        13,091,691,405.81 11,638,798,603.59   \n",
       "«16+» - для детей старше 16 лет        11,368,120,789.27 16,300,263,315.14   \n",
       "«18+» - запрещено для детей             5,432,308,307.44  6,793,929,724.87   \n",
       "«6+» - для детей старше 6 лет           8,521,934,150.98 10,650,890,593.24   \n",
       "\n",
       "show_start_year                                     2017              2018  \\\n",
       "age_restriction                                                              \n",
       "«0+» - для любой зрительской аудитории     23,120,703.00     32,448,930.11   \n",
       "«12+» - для детей старше 12 лет         4,591,264,847.67 11,174,968,254.96   \n",
       "«16+» - для детей старше 16 лет        18,233,267,320.06 16,503,602,267.96   \n",
       "«18+» - запрещено для детей             9,651,495,556.02  8,760,085,462.15   \n",
       "«6+» - для детей старше 6 лет           8,762,123,720.76  9,889,330,374.24   \n",
       "\n",
       "show_start_year                                     2019  \n",
       "age_restriction                                           \n",
       "«0+» - для любой зрительской аудитории     17,745,996.82  \n",
       "«12+» - для детей старше 12 лет        11,962,495,472.14  \n",
       "«16+» - для детей старше 16 лет        12,505,135,931.96  \n",
       "«18+» - запрещено для детей            10,121,796,231.64  \n",
       "«6+» - для детей старше 6 лет          12,296,666,141.33  "
      ]
     },
     "execution_count": 71,
     "metadata": {},
     "output_type": "execute_result"
    }
   ],
   "source": [
    "df.query('2015 <= show_start_year <= 2019').pivot_table(\n",
    "    index='age_restriction',\n",
    "    values='box_office',\n",
    "    columns='show_start_year',\n",
    "    aggfunc='sum')"
   ]
  },
  {
   "cell_type": "code",
   "execution_count": 72,
   "metadata": {
    "id": "jsSbEqfjgFya"
   },
   "outputs": [
    {
     "data": {
      "image/png": "[encoded data removed]",
      "text/plain": [
       "<Figure size 432x288 with 1 Axes>"
      ]
     },
     "metadata": {
      "needs_background": "light"
     },
     "output_type": "display_data"
    }
   ],
   "source": [
    "df.query('2015 <= show_start_year <= 2019').pivot_table(\n",
    "    index='age_restriction',\n",
    "    values='box_office',\n",
    "    columns='show_start_year',\n",
    "    aggfunc='sum').plot()\n",
    "plt.xticks(rotation=90)\n",
    "plt.show()"
   ]
  },
  {
   "cell_type": "markdown",
   "metadata": {},
   "source": [
    "Из года в год для некоторых категорий ситуация меняется, можно предположить, что из-за выхода топовых новинок для определенных категорий с очень большими сборами."
   ]
  },
  {
   "cell_type": "markdown",
   "metadata": {
    "id": "6t4EukPLgFyV"
   },
   "source": [
    "### Краткий вывод:\n"
   ]
  },
  {
   "cell_type": "markdown",
   "metadata": {},
   "source": [
    "Доля фильмов с указанной информацией о прокате в кинотеатрах составляет 42%.<br>\n",
    "По сумме сборов большой рост с 2013 по 2016 год.<br>\n",
    "Минимальная сумма сборов была в 2010-м году, а максимальная в 2019.<br>\n",
    "Возрастное ограничение влияет на сборы фильма и зависит от года."
   ]
  },
  {
   "cell_type": "markdown",
   "metadata": {
    "id": "l_Kg6Ku4gFya"
   },
   "source": [
    "## Исследование фильмов с гос поддержкой\n",
    "\n",
    "На этом этапе нет конкретных инструкций и заданий — поищите интересные закономерности в данных. Посмотрите, сколько выделяют средств на поддержку кино. Проверьте, хорошо ли окупаются такие фильмы, какой у них рейтинг."
   ]
  },
  {
   "cell_type": "markdown",
   "metadata": {
    "id": "W9QKpjUdgFyb"
   },
   "source": [
    "Выделим данные с гос поддеркой."
   ]
  },
  {
   "cell_type": "code",
   "execution_count": 73,
   "metadata": {},
   "outputs": [
    {
     "data": {
      "text/html": [
       "<div>\n",
       "<style scoped>\n",
       "    .dataframe tbody tr th:only-of-type {\n",
       "        vertical-align: middle;\n",
       "    }\n",
       "\n",
       "    .dataframe tbody tr th {\n",
       "        vertical-align: top;\n",
       "    }\n",
       "\n",
       "    .dataframe thead th {\n",
       "        text-align: right;\n",
       "    }\n",
       "</style>\n",
       "<table border=\"1\" class=\"dataframe\">\n",
       "  <thead>\n",
       "    <tr style=\"text-align: right;\">\n",
       "      <th></th>\n",
       "      <th>title</th>\n",
       "      <th>puNumber</th>\n",
       "      <th>show_start_date</th>\n",
       "      <th>type</th>\n",
       "      <th>film_studio</th>\n",
       "      <th>production_country</th>\n",
       "      <th>director</th>\n",
       "      <th>producer</th>\n",
       "      <th>age_restriction</th>\n",
       "      <th>refundable_support</th>\n",
       "      <th>...</th>\n",
       "      <th>budget</th>\n",
       "      <th>financing_source</th>\n",
       "      <th>ratings</th>\n",
       "      <th>genres</th>\n",
       "      <th>box_office</th>\n",
       "      <th>full_support</th>\n",
       "      <th>show_start_year</th>\n",
       "      <th>main_producer</th>\n",
       "      <th>main_genre</th>\n",
       "      <th>part_support</th>\n",
       "    </tr>\n",
       "  </thead>\n",
       "  <tbody>\n",
       "    <tr>\n",
       "      <th>1280</th>\n",
       "      <td>Пока еще жива</td>\n",
       "      <td>111005313</td>\n",
       "      <td>2013-10-11 12:00:00+00:00</td>\n",
       "      <td>Художественный</td>\n",
       "      <td>АНО содействия развитию кинематографии \"Ангел-...</td>\n",
       "      <td>Россия</td>\n",
       "      <td>А.Атанесян</td>\n",
       "      <td>А.Атанесян, М.Бабаханов, Р.Бутко</td>\n",
       "      <td>«16+» - для детей старше 16 лет</td>\n",
       "      <td>0.00</td>\n",
       "      <td>...</td>\n",
       "      <td>79,411,900.00</td>\n",
       "      <td>Министерство культуры</td>\n",
       "      <td>8.1</td>\n",
       "      <td>драма,мелодрама</td>\n",
       "      <td>365,353.60</td>\n",
       "      <td>26,500,000.00</td>\n",
       "      <td>2013</td>\n",
       "      <td>А.Атанесян</td>\n",
       "      <td>драма</td>\n",
       "      <td>0.33</td>\n",
       "    </tr>\n",
       "    <tr>\n",
       "      <th>1446</th>\n",
       "      <td>Бесславные придурки</td>\n",
       "      <td>111003314</td>\n",
       "      <td>2014-03-28 12:00:00+00:00</td>\n",
       "      <td>Художественный</td>\n",
       "      <td>ООО \"Компания \"АТК-Студио\"</td>\n",
       "      <td>Россия</td>\n",
       "      <td>А.Якимчук</td>\n",
       "      <td>А.Тютрюмов</td>\n",
       "      <td>«12+» - для детей старше 12 лет</td>\n",
       "      <td>0.00</td>\n",
       "      <td>...</td>\n",
       "      <td>37,142,857.00</td>\n",
       "      <td>Министерство культуры</td>\n",
       "      <td>NaN</td>\n",
       "      <td>unknown</td>\n",
       "      <td>28,140.00</td>\n",
       "      <td>26,000,000.00</td>\n",
       "      <td>2014</td>\n",
       "      <td>А.Тютрюмов</td>\n",
       "      <td>unknown</td>\n",
       "      <td>0.70</td>\n",
       "    </tr>\n",
       "    <tr>\n",
       "      <th>1496</th>\n",
       "      <td>Невидимки</td>\n",
       "      <td>111004213</td>\n",
       "      <td>2013-09-10 12:00:00+00:00</td>\n",
       "      <td>Художественный</td>\n",
       "      <td>ООО \"Компания \"РЕАЛ-ДАКОТА\"</td>\n",
       "      <td>Россия</td>\n",
       "      <td>Р.Давлетьяров, С.Комаров</td>\n",
       "      <td>Р.Давлетьяров, А.Котелевский, А.Олейников</td>\n",
       "      <td>«12+» - для детей старше 12 лет</td>\n",
       "      <td>0.00</td>\n",
       "      <td>...</td>\n",
       "      <td>176,023,490.00</td>\n",
       "      <td>Фонд кино</td>\n",
       "      <td>5.3</td>\n",
       "      <td>комедия,фантастика</td>\n",
       "      <td>19,957,031.50</td>\n",
       "      <td>107,847,945.00</td>\n",
       "      <td>2013</td>\n",
       "      <td>Р.Давлетьяров</td>\n",
       "      <td>комедия</td>\n",
       "      <td>0.61</td>\n",
       "    </tr>\n",
       "  </tbody>\n",
       "</table>\n",
       "<p>3 rows × 21 columns</p>\n",
       "</div>"
      ],
      "text/plain": [
       "                    title   puNumber           show_start_date  \\\n",
       "1280        Пока еще жива  111005313 2013-10-11 12:00:00+00:00   \n",
       "1446  Бесславные придурки  111003314 2014-03-28 12:00:00+00:00   \n",
       "1496            Невидимки  111004213 2013-09-10 12:00:00+00:00   \n",
       "\n",
       "                type                                        film_studio  \\\n",
       "1280  Художественный  АНО содействия развитию кинематографии \"Ангел-...   \n",
       "1446  Художественный                         ООО \"Компания \"АТК-Студио\"   \n",
       "1496  Художественный                        ООО \"Компания \"РЕАЛ-ДАКОТА\"   \n",
       "\n",
       "     production_country                  director  \\\n",
       "1280             Россия                А.Атанесян   \n",
       "1446             Россия                 А.Якимчук   \n",
       "1496             Россия  Р.Давлетьяров, С.Комаров   \n",
       "\n",
       "                                       producer  \\\n",
       "1280           А.Атанесян, М.Бабаханов, Р.Бутко   \n",
       "1446                                 А.Тютрюмов   \n",
       "1496  Р.Давлетьяров, А.Котелевский, А.Олейников   \n",
       "\n",
       "                      age_restriction  refundable_support  ...         budget  \\\n",
       "1280  «16+» - для детей старше 16 лет                0.00  ...  79,411,900.00   \n",
       "1446  «12+» - для детей старше 12 лет                0.00  ...  37,142,857.00   \n",
       "1496  «12+» - для детей старше 12 лет                0.00  ... 176,023,490.00   \n",
       "\n",
       "           financing_source ratings              genres    box_office  \\\n",
       "1280  Министерство культуры     8.1     драма,мелодрама    365,353.60   \n",
       "1446  Министерство культуры     NaN             unknown     28,140.00   \n",
       "1496              Фонд кино     5.3  комедия,фантастика 19,957,031.50   \n",
       "\n",
       "       full_support  show_start_year  main_producer main_genre part_support  \n",
       "1280  26,500,000.00             2013     А.Атанесян      драма         0.33  \n",
       "1446  26,000,000.00             2014     А.Тютрюмов    unknown         0.70  \n",
       "1496 107,847,945.00             2013  Р.Давлетьяров    комедия         0.61  \n",
       "\n",
       "[3 rows x 21 columns]"
      ]
     },
     "metadata": {},
     "output_type": "display_data"
    },
    {
     "name": "stdout",
     "output_type": "stream",
     "text": [
      "<class 'pandas.core.frame.DataFrame'>\n",
      "Int64Index: 304 entries, 1280 to 7450\n",
      "Data columns (total 21 columns):\n",
      " #   Column                 Non-Null Count  Dtype              \n",
      "---  ------                 --------------  -----              \n",
      " 0   title                  304 non-null    object             \n",
      " 1   puNumber               304 non-null    int64              \n",
      " 2   show_start_date        304 non-null    datetime64[ns, UTC]\n",
      " 3   type                   304 non-null    object             \n",
      " 4   film_studio            304 non-null    object             \n",
      " 5   production_country     304 non-null    object             \n",
      " 6   director               304 non-null    object             \n",
      " 7   producer               302 non-null    object             \n",
      " 8   age_restriction        304 non-null    object             \n",
      " 9   refundable_support     304 non-null    float64            \n",
      " 10  nonrefundable_support  304 non-null    float64            \n",
      " 11  budget                 304 non-null    float64            \n",
      " 12  financing_source       304 non-null    object             \n",
      " 13  ratings                288 non-null    object             \n",
      " 14  genres                 304 non-null    object             \n",
      " 15  box_office             304 non-null    float64            \n",
      " 16  full_support           304 non-null    float64            \n",
      " 17  show_start_year        304 non-null    int64              \n",
      " 18  main_producer          302 non-null    object             \n",
      " 19  main_genre             304 non-null    object             \n",
      " 20  part_support           304 non-null    float64            \n",
      "dtypes: datetime64[ns, UTC](1), float64(6), int64(2), object(12)\n",
      "memory usage: 52.2+ KB\n"
     ]
    }
   ],
   "source": [
    "df_gos = df.query('full_support > 0')\n",
    "display(df_gos.head(3))\n",
    "df_gos.info()"
   ]
  },
  {
   "cell_type": "markdown",
   "metadata": {},
   "source": [
    "Посмотрим сколько выделяют средств на поддержку кино."
   ]
  },
  {
   "cell_type": "code",
   "execution_count": 74,
   "metadata": {},
   "outputs": [
    {
     "data": {
      "image/png": "[encoded data removed]",
      "text/plain": [
       "<Figure size 432x288 with 1 Axes>"
      ]
     },
     "metadata": {
      "needs_background": "light"
     },
     "output_type": "display_data"
    }
   ],
   "source": [
    "df_gos.pivot_table(index='show_start_year', values='full_support', aggfunc=['sum']).plot()\n",
    "plt.show()"
   ]
  },
  {
   "cell_type": "markdown",
   "metadata": {},
   "source": [
    "В 2016 и 2017 годах был большой спад в гос поддержке.<br>\n",
    "Добавим данные по окупаемости фильмов."
   ]
  },
  {
   "cell_type": "code",
   "execution_count": 75,
   "metadata": {},
   "outputs": [],
   "source": [
    "df_gos = df_gos.copy()\n",
    "df_gos['support_value'] = df_gos['box_office'] - df_gos['full_support']"
   ]
  },
  {
   "cell_type": "code",
   "execution_count": 76,
   "metadata": {},
   "outputs": [
    {
     "data": {
      "image/png": "[encoded data removed]",
      "text/plain": [
       "<Figure size 432x288 with 1 Axes>"
      ]
     },
     "metadata": {
      "needs_background": "light"
     },
     "output_type": "display_data"
    }
   ],
   "source": [
    "df_gos.pivot_table(index='show_start_year', values='support_value', aggfunc='sum').plot()\n",
    "plt.show()"
   ]
  },
  {
   "cell_type": "markdown",
   "metadata": {},
   "source": [
    "Окупаемость фильмов в среднем ростет. В 2016 году был спад.<br>"
   ]
  },
  {
   "cell_type": "code",
   "execution_count": 77,
   "metadata": {},
   "outputs": [
    {
     "data": {
      "text/html": [
       "<div>\n",
       "<style scoped>\n",
       "    .dataframe tbody tr th:only-of-type {\n",
       "        vertical-align: middle;\n",
       "    }\n",
       "\n",
       "    .dataframe tbody tr th {\n",
       "        vertical-align: top;\n",
       "    }\n",
       "\n",
       "    .dataframe thead th {\n",
       "        text-align: right;\n",
       "    }\n",
       "</style>\n",
       "<table border=\"1\" class=\"dataframe\">\n",
       "  <thead>\n",
       "    <tr style=\"text-align: right;\">\n",
       "      <th></th>\n",
       "      <th>count</th>\n",
       "      <th>sum</th>\n",
       "    </tr>\n",
       "    <tr>\n",
       "      <th>show_start_year</th>\n",
       "      <th></th>\n",
       "      <th></th>\n",
       "    </tr>\n",
       "  </thead>\n",
       "  <tbody>\n",
       "    <tr>\n",
       "      <th>2013</th>\n",
       "      <td>2</td>\n",
       "      <td>-114,025,559.90</td>\n",
       "    </tr>\n",
       "    <tr>\n",
       "      <th>2014</th>\n",
       "      <td>16</td>\n",
       "      <td>445,419,867.60</td>\n",
       "    </tr>\n",
       "    <tr>\n",
       "      <th>2015</th>\n",
       "      <td>82</td>\n",
       "      <td>1,831,367,277.61</td>\n",
       "    </tr>\n",
       "    <tr>\n",
       "      <th>2016</th>\n",
       "      <td>57</td>\n",
       "      <td>848,468,441.70</td>\n",
       "    </tr>\n",
       "    <tr>\n",
       "      <th>2017</th>\n",
       "      <td>33</td>\n",
       "      <td>2,278,668,714.96</td>\n",
       "    </tr>\n",
       "    <tr>\n",
       "      <th>2018</th>\n",
       "      <td>52</td>\n",
       "      <td>3,799,173,330.35</td>\n",
       "    </tr>\n",
       "    <tr>\n",
       "      <th>2019</th>\n",
       "      <td>62</td>\n",
       "      <td>3,923,758,834.93</td>\n",
       "    </tr>\n",
       "  </tbody>\n",
       "</table>\n",
       "</div>"
      ],
      "text/plain": [
       "                 count              sum\n",
       "show_start_year                        \n",
       "2013                 2  -114,025,559.90\n",
       "2014                16   445,419,867.60\n",
       "2015                82 1,831,367,277.61\n",
       "2016                57   848,468,441.70\n",
       "2017                33 2,278,668,714.96\n",
       "2018                52 3,799,173,330.35\n",
       "2019                62 3,923,758,834.93"
      ]
     },
     "execution_count": 77,
     "metadata": {},
     "output_type": "execute_result"
    }
   ],
   "source": [
    "df_gos.pivot_table(\n",
    "    index='show_start_year',\n",
    "    values='support_value',\n",
    "    aggfunc=['count', 'sum']\n",
    "    ).droplevel(level=1, axis=1)"
   ]
  },
  {
   "cell_type": "markdown",
   "metadata": {},
   "source": [
    "Маленькая окупаемость в 2016-м году не зависит от количества фильмов. Фильмов было много, а доход маленький.  \n",
    "<br>Проверим оценки фильмов."
   ]
  },
  {
   "cell_type": "code",
   "execution_count": 78,
   "metadata": {},
   "outputs": [
    {
     "data": {
      "text/plain": [
       "title                     0\n",
       "puNumber                  0\n",
       "show_start_date           0\n",
       "type                      0\n",
       "film_studio               0\n",
       "production_country        0\n",
       "director                  0\n",
       "producer                  2\n",
       "age_restriction           0\n",
       "refundable_support        0\n",
       "nonrefundable_support     0\n",
       "budget                    0\n",
       "financing_source          0\n",
       "ratings                  16\n",
       "genres                    0\n",
       "box_office                0\n",
       "full_support              0\n",
       "show_start_year           0\n",
       "main_producer             2\n",
       "main_genre                0\n",
       "part_support              0\n",
       "support_value             0\n",
       "dtype: int64"
      ]
     },
     "execution_count": 78,
     "metadata": {},
     "output_type": "execute_result"
    }
   ],
   "source": [
    "df_gos.isna().sum()"
   ]
  },
  {
   "cell_type": "code",
   "execution_count": 79,
   "metadata": {},
   "outputs": [
    {
     "name": "stdout",
     "output_type": "stream",
     "text": [
      "<class 'pandas.core.frame.DataFrame'>\n",
      "Int64Index: 304 entries, 1280 to 7450\n",
      "Data columns (total 22 columns):\n",
      " #   Column                 Non-Null Count  Dtype              \n",
      "---  ------                 --------------  -----              \n",
      " 0   title                  304 non-null    object             \n",
      " 1   puNumber               304 non-null    int64              \n",
      " 2   show_start_date        304 non-null    datetime64[ns, UTC]\n",
      " 3   type                   304 non-null    object             \n",
      " 4   film_studio            304 non-null    object             \n",
      " 5   production_country     304 non-null    object             \n",
      " 6   director               304 non-null    object             \n",
      " 7   producer               302 non-null    object             \n",
      " 8   age_restriction        304 non-null    object             \n",
      " 9   refundable_support     304 non-null    float64            \n",
      " 10  nonrefundable_support  304 non-null    float64            \n",
      " 11  budget                 304 non-null    float64            \n",
      " 12  financing_source       304 non-null    object             \n",
      " 13  ratings                288 non-null    object             \n",
      " 14  genres                 304 non-null    object             \n",
      " 15  box_office             304 non-null    float64            \n",
      " 16  full_support           304 non-null    float64            \n",
      " 17  show_start_year        304 non-null    int64              \n",
      " 18  main_producer          302 non-null    object             \n",
      " 19  main_genre             304 non-null    object             \n",
      " 20  part_support           304 non-null    float64            \n",
      " 21  support_value          304 non-null    float64            \n",
      "dtypes: datetime64[ns, UTC](1), float64(7), int64(2), object(12)\n",
      "memory usage: 54.6+ KB\n"
     ]
    }
   ],
   "source": [
    "df_gos.info()"
   ]
  },
  {
   "cell_type": "markdown",
   "metadata": {},
   "source": [
    "Удалим пропуски с рейтингом. И приведем данные к нужному типу."
   ]
  },
  {
   "cell_type": "code",
   "execution_count": 80,
   "metadata": {},
   "outputs": [],
   "source": [
    "df_gos.dropna(subset=['ratings'], inplace=True)"
   ]
  },
  {
   "cell_type": "code",
   "execution_count": 81,
   "metadata": {},
   "outputs": [
    {
     "data": {
      "text/plain": [
       "title                    0\n",
       "puNumber                 0\n",
       "show_start_date          0\n",
       "type                     0\n",
       "film_studio              0\n",
       "production_country       0\n",
       "director                 0\n",
       "producer                 2\n",
       "age_restriction          0\n",
       "refundable_support       0\n",
       "nonrefundable_support    0\n",
       "budget                   0\n",
       "financing_source         0\n",
       "ratings                  0\n",
       "genres                   0\n",
       "box_office               0\n",
       "full_support             0\n",
       "show_start_year          0\n",
       "main_producer            2\n",
       "main_genre               0\n",
       "part_support             0\n",
       "support_value            0\n",
       "dtype: int64"
      ]
     },
     "execution_count": 81,
     "metadata": {},
     "output_type": "execute_result"
    }
   ],
   "source": [
    "df_gos.isna().sum()"
   ]
  },
  {
   "cell_type": "code",
   "execution_count": 82,
   "metadata": {},
   "outputs": [],
   "source": [
    "df_gos['ratings'] = pd.to_numeric(df_gos['ratings'], errors='raise')"
   ]
  },
  {
   "cell_type": "code",
   "execution_count": 83,
   "metadata": {},
   "outputs": [
    {
     "name": "stdout",
     "output_type": "stream",
     "text": [
      "<class 'pandas.core.frame.DataFrame'>\n",
      "Int64Index: 288 entries, 1280 to 7450\n",
      "Data columns (total 22 columns):\n",
      " #   Column                 Non-Null Count  Dtype              \n",
      "---  ------                 --------------  -----              \n",
      " 0   title                  288 non-null    object             \n",
      " 1   puNumber               288 non-null    int64              \n",
      " 2   show_start_date        288 non-null    datetime64[ns, UTC]\n",
      " 3   type                   288 non-null    object             \n",
      " 4   film_studio            288 non-null    object             \n",
      " 5   production_country     288 non-null    object             \n",
      " 6   director               288 non-null    object             \n",
      " 7   producer               286 non-null    object             \n",
      " 8   age_restriction        288 non-null    object             \n",
      " 9   refundable_support     288 non-null    float64            \n",
      " 10  nonrefundable_support  288 non-null    float64            \n",
      " 11  budget                 288 non-null    float64            \n",
      " 12  financing_source       288 non-null    object             \n",
      " 13  ratings                288 non-null    float64            \n",
      " 14  genres                 288 non-null    object             \n",
      " 15  box_office             288 non-null    float64            \n",
      " 16  full_support           288 non-null    float64            \n",
      " 17  show_start_year        288 non-null    int64              \n",
      " 18  main_producer          286 non-null    object             \n",
      " 19  main_genre             288 non-null    object             \n",
      " 20  part_support           288 non-null    float64            \n",
      " 21  support_value          288 non-null    float64            \n",
      "dtypes: datetime64[ns, UTC](1), float64(8), int64(2), object(11)\n",
      "memory usage: 51.8+ KB\n"
     ]
    }
   ],
   "source": [
    "df_gos.info()"
   ]
  },
  {
   "cell_type": "code",
   "execution_count": 84,
   "metadata": {
    "scrolled": false
   },
   "outputs": [
    {
     "data": {
      "text/plain": [
       "<AxesSubplot:xlabel='show_start_year'>"
      ]
     },
     "execution_count": 84,
     "metadata": {},
     "output_type": "execute_result"
    },
    {
     "data": {
      "image/png": "[encoded data removed]",
      "text/plain": [
       "<Figure size 432x288 with 1 Axes>"
      ]
     },
     "metadata": {
      "needs_background": "light"
     },
     "output_type": "display_data"
    }
   ],
   "source": [
    "df_gos.pivot_table(index='show_start_year', values='ratings', aggfunc=['mean']).plot()"
   ]
  },
  {
   "cell_type": "markdown",
   "metadata": {},
   "source": [
    "Видим, что средний рейтинг до 2016 года падал и был минимальный. В этом году была и маленькая окупаемость. Далее рейтинг начал рости вместе с окупаемостью."
   ]
  },
  {
   "cell_type": "code",
   "execution_count": 85,
   "metadata": {
    "scrolled": true
   },
   "outputs": [
    {
     "data": {
      "image/png": "[encoded data removed]",
      "text/plain": [
       "<Figure size 1080x360 with 1 Axes>"
      ]
     },
     "metadata": {
      "needs_background": "light"
     },
     "output_type": "display_data"
    }
   ],
   "source": [
    "plt.figure(figsize = (15,5))\n",
    "sns.regplot(x = 'ratings', y = 'box_office', data = df_gos, line_kws={'color':'red'})\n",
    "plt.show()"
   ]
  },
  {
   "cell_type": "markdown",
   "metadata": {},
   "source": [
    "Можно наблюдать, что чем выше рейтинг, тем больше сборы."
   ]
  },
  {
   "cell_type": "code",
   "execution_count": 86,
   "metadata": {},
   "outputs": [
    {
     "data": {
      "text/html": [
       "<div>\n",
       "<style scoped>\n",
       "    .dataframe tbody tr th:only-of-type {\n",
       "        vertical-align: middle;\n",
       "    }\n",
       "\n",
       "    .dataframe tbody tr th {\n",
       "        vertical-align: top;\n",
       "    }\n",
       "\n",
       "    .dataframe thead th {\n",
       "        text-align: right;\n",
       "    }\n",
       "</style>\n",
       "<table border=\"1\" class=\"dataframe\">\n",
       "  <thead>\n",
       "    <tr style=\"text-align: right;\">\n",
       "      <th></th>\n",
       "      <th>nonrefundable_support</th>\n",
       "    </tr>\n",
       "    <tr>\n",
       "      <th>financing_source</th>\n",
       "      <th></th>\n",
       "    </tr>\n",
       "  </thead>\n",
       "  <tbody>\n",
       "    <tr>\n",
       "      <th>Министерство культуры</th>\n",
       "      <td>4,376,661,000.00</td>\n",
       "    </tr>\n",
       "    <tr>\n",
       "      <th>Министерство культуры, Фонд кино</th>\n",
       "      <td>768,352,299.00</td>\n",
       "    </tr>\n",
       "    <tr>\n",
       "      <th>Фонд кино</th>\n",
       "      <td>5,584,022,011.00</td>\n",
       "    </tr>\n",
       "  </tbody>\n",
       "</table>\n",
       "</div>"
      ],
      "text/plain": [
       "                                  nonrefundable_support\n",
       "financing_source                                       \n",
       "Министерство культуры                  4,376,661,000.00\n",
       "Министерство культуры, Фонд кино         768,352,299.00\n",
       "Фонд кино                              5,584,022,011.00"
      ]
     },
     "execution_count": 86,
     "metadata": {},
     "output_type": "execute_result"
    }
   ],
   "source": [
    "df_gos.pivot_table(index='financing_source', values='nonrefundable_support', aggfunc='sum')"
   ]
  },
  {
   "cell_type": "markdown",
   "metadata": {},
   "source": [
    "Фонд кино выделяет немного больше средств, чем Министерство культуры."
   ]
  },
  {
   "cell_type": "code",
   "execution_count": 87,
   "metadata": {},
   "outputs": [
    {
     "data": {
      "text/html": [
       "<div>\n",
       "<style scoped>\n",
       "    .dataframe tbody tr th:only-of-type {\n",
       "        vertical-align: middle;\n",
       "    }\n",
       "\n",
       "    .dataframe tbody tr th {\n",
       "        vertical-align: top;\n",
       "    }\n",
       "\n",
       "    .dataframe thead th {\n",
       "        text-align: right;\n",
       "    }\n",
       "</style>\n",
       "<table border=\"1\" class=\"dataframe\">\n",
       "  <thead>\n",
       "    <tr style=\"text-align: right;\">\n",
       "      <th></th>\n",
       "      <th>count</th>\n",
       "      <th>sum</th>\n",
       "    </tr>\n",
       "    <tr>\n",
       "      <th>financing_source</th>\n",
       "      <th></th>\n",
       "      <th></th>\n",
       "    </tr>\n",
       "  </thead>\n",
       "  <tbody>\n",
       "    <tr>\n",
       "      <th>Министерство культуры</th>\n",
       "      <td>151</td>\n",
       "      <td>764,773,760.43</td>\n",
       "    </tr>\n",
       "    <tr>\n",
       "      <th>Министерство культуры, Фонд кино</th>\n",
       "      <td>20</td>\n",
       "      <td>-731,658,514.44</td>\n",
       "    </tr>\n",
       "    <tr>\n",
       "      <th>Фонд кино</th>\n",
       "      <td>117</td>\n",
       "      <td>12,186,936,402.62</td>\n",
       "    </tr>\n",
       "  </tbody>\n",
       "</table>\n",
       "</div>"
      ],
      "text/plain": [
       "                                  count               sum\n",
       "financing_source                                         \n",
       "Министерство культуры               151    764,773,760.43\n",
       "Министерство культуры, Фонд кино     20   -731,658,514.44\n",
       "Фонд кино                           117 12,186,936,402.62"
      ]
     },
     "execution_count": 87,
     "metadata": {},
     "output_type": "execute_result"
    }
   ],
   "source": [
    "df_gos.pivot_table(\n",
    "    index='financing_source',\n",
    "    values='support_value',\n",
    "    aggfunc=['count', 'sum']\n",
    "    ).droplevel(level=1, axis=1)"
   ]
  },
  {
   "cell_type": "markdown",
   "metadata": {},
   "source": [
    "Министерство культуры спонсирует больше фильмов, но у Фонда кино в десяток раз выше окупаемость. Совместно спонсируемые фильмы вообще не окупаются."
   ]
  },
  {
   "cell_type": "code",
   "execution_count": 88,
   "metadata": {},
   "outputs": [
    {
     "data": {
      "text/html": [
       "<div>\n",
       "<style scoped>\n",
       "    .dataframe tbody tr th:only-of-type {\n",
       "        vertical-align: middle;\n",
       "    }\n",
       "\n",
       "    .dataframe tbody tr th {\n",
       "        vertical-align: top;\n",
       "    }\n",
       "\n",
       "    .dataframe thead th {\n",
       "        text-align: right;\n",
       "    }\n",
       "</style>\n",
       "<table border=\"1\" class=\"dataframe\">\n",
       "  <thead>\n",
       "    <tr style=\"text-align: right;\">\n",
       "      <th></th>\n",
       "      <th>ratings</th>\n",
       "    </tr>\n",
       "    <tr>\n",
       "      <th>financing_source</th>\n",
       "      <th></th>\n",
       "    </tr>\n",
       "  </thead>\n",
       "  <tbody>\n",
       "    <tr>\n",
       "      <th>Министерство культуры</th>\n",
       "      <td>6.14</td>\n",
       "    </tr>\n",
       "    <tr>\n",
       "      <th>Министерство культуры, Фонд кино</th>\n",
       "      <td>6.40</td>\n",
       "    </tr>\n",
       "    <tr>\n",
       "      <th>Фонд кино</th>\n",
       "      <td>5.71</td>\n",
       "    </tr>\n",
       "  </tbody>\n",
       "</table>\n",
       "</div>"
      ],
      "text/plain": [
       "                                  ratings\n",
       "financing_source                         \n",
       "Министерство культуры                6.14\n",
       "Министерство культуры, Фонд кино     6.40\n",
       "Фонд кино                            5.71"
      ]
     },
     "execution_count": 88,
     "metadata": {},
     "output_type": "execute_result"
    }
   ],
   "source": [
    "df_gos.pivot_table(index='financing_source', values='ratings', aggfunc='mean')"
   ]
  },
  {
   "cell_type": "markdown",
   "metadata": {},
   "source": [
    "У фильмов спонсируемых Министерством культуры выше рейтинг, а фильмы с совместным спонсирование имеют самый высокий средний рейтинг, хотя совсем не окупаются."
   ]
  },
  {
   "cell_type": "markdown",
   "metadata": {
    "id": "V2gYwMcPgFyd"
   },
   "source": [
    "## Общий вывод"
   ]
  },
  {
   "cell_type": "markdown",
   "metadata": {},
   "source": [
    "Объединили данные в один датафрейм. Привели данные к нормальному типу где это необходимо. Обработали пропуски значений. Найдена связь в большом количестве пропусков в жанре и рейтинге. Нужно сообщить тем кто предоставил данные, может исправят и дадут новые хорошие данные. Анализ дубликатов по названию выявил, что есть дубликаты, но у них разные даты стартов показов и разные прокатные удостоверения. Нашли две ошибки в данных о прокатных удостоверениях. Исправили ошибки в категориальных и количественных данных. Очистили данные от выбросов. Так же добавили столбцы с новыми данными - именем и фамилией главного режиссёра, основным жанром фильма, общую сумму гос поддержки, прибыль, долю гос поддержки в бюджете фильма"
   ]
  },
  {
   "cell_type": "markdown",
   "metadata": {},
   "source": [
    "Доля фильмов с указанной информацией о прокате в кинотеатрах составляет 42%. Доля по годам росла. В 2018 году был спад. В 2017 году самая большая доля показов. <br>\n",
    "Динамика проката положительная, однако в 2017-м году был спад. По сумме сборов большой рост с 2013 по 2016 год.<br>\n",
    "Минимальная сумма сборов была в 2010-м году, а максимальная в 2019.<br>\n",
    "Возрастное ограничение влияет на сборы фильма и зависит от года. Фильмы с ограничением \"16+\" собрали больше всего, а \"0+\" меньше всего."
   ]
  },
  {
   "cell_type": "markdown",
   "metadata": {},
   "source": [
    "В 2016 и 2017 годах был большой спад в гос поддержке. <br>\n",
    "Окупаемость фильмов в среднем ростет. В 2016 году был спад. Маленькая окупаемость в 2016-м году не зависит от количества фильмов. Фильмов было много, а доход маленький. Видим, что средний рейтинг до 2016 года падал и был минимальный. В этом году была и маленькая окупаемость. Далее рейтинг начал рости вместе с окупаемостью.<br>\n",
    "Фонд кино выделяет больше средств, чем Министерство культуры. Министерство культуры спонсирует больше фильмов, но у Фонда кино в десяток раз выше окупаемость. Совместно спонсируемые фильмы вообще не окупаются. У фильмов спонсируемых Министерством культуры выше рейтинг, а фильмы с совместным спонсирование имеют самый высокий средний рейтинг, хотя совсем не окупаются."
   ]
  },
  {
   "cell_type": "markdown",
   "metadata": {},
   "source": [
    "Можно предположить, что Фонд кино спонсирует больше фильмов для Кино-проката с высокой стоимостью и хорошими сборами. А Министерство культуры больше выделяют средств на фильмы для ТВ-показа, фильмы имеют хорошие рейтинги, но из-за малых показов в кинотеатрах - малые сборы и окупаемость."
   ]
  }
 ],
 "metadata": {
  "ExecuteTimeLog": [
   {
    "duration": 537,
    "start_time": "2021-07-07T10:12:08.634Z"
   },
   {
    "duration": 206,
    "start_time": "2021-07-07T10:12:30.191Z"
   },
   {
    "duration": 227,
    "start_time": "2021-07-07T10:12:33.078Z"
   },
   {
    "duration": 153,
    "start_time": "2021-07-07T10:13:42.146Z"
   },
   {
    "duration": 233,
    "start_time": "2021-07-07T10:30:09.252Z"
   },
   {
    "duration": 19,
    "start_time": "2021-07-07T10:30:15.577Z"
   },
   {
    "duration": 18,
    "start_time": "2021-07-07T10:30:57.348Z"
   },
   {
    "duration": 19,
    "start_time": "2021-07-07T10:31:17.452Z"
   },
   {
    "duration": 21,
    "start_time": "2021-07-07T10:31:32.227Z"
   },
   {
    "duration": 27,
    "start_time": "2021-07-07T10:32:06.588Z"
   },
   {
    "duration": 23,
    "start_time": "2021-07-07T10:32:43.645Z"
   },
   {
    "duration": 24,
    "start_time": "2021-07-07T10:33:06.948Z"
   },
   {
    "duration": 7,
    "start_time": "2021-07-07T10:33:28.558Z"
   },
   {
    "duration": 23,
    "start_time": "2021-07-07T10:33:43.761Z"
   },
   {
    "duration": 28,
    "start_time": "2021-07-07T10:34:13.466Z"
   },
   {
    "duration": 23,
    "start_time": "2021-07-07T10:35:56.187Z"
   },
   {
    "duration": 6,
    "start_time": "2021-07-07T10:36:48.182Z"
   },
   {
    "duration": 14,
    "start_time": "2021-07-07T10:37:49.641Z"
   },
   {
    "duration": 6,
    "start_time": "2021-07-07T10:38:06.694Z"
   },
   {
    "duration": 6,
    "start_time": "2021-07-07T10:38:13.493Z"
   },
   {
    "duration": 19,
    "start_time": "2021-07-07T10:38:44.056Z"
   },
   {
    "duration": 186,
    "start_time": "2021-07-07T10:48:35.618Z"
   },
   {
    "duration": 24,
    "start_time": "2021-07-07T10:48:51.498Z"
   },
   {
    "duration": 20,
    "start_time": "2021-07-07T10:48:59.415Z"
   },
   {
    "duration": 20,
    "start_time": "2021-07-07T10:53:02.195Z"
   },
   {
    "duration": 188,
    "start_time": "2021-07-07T10:54:40.486Z"
   },
   {
    "duration": 115,
    "start_time": "2021-07-07T10:54:52.552Z"
   },
   {
    "duration": 214,
    "start_time": "2021-07-07T10:54:56.354Z"
   },
   {
    "duration": 47,
    "start_time": "2021-07-07T10:54:58.282Z"
   },
   {
    "duration": 217,
    "start_time": "2021-07-07T10:59:16.075Z"
   },
   {
    "duration": 51,
    "start_time": "2021-07-07T10:59:16.243Z"
   },
   {
    "duration": 578,
    "start_time": "2021-07-07T10:59:18.774Z"
   },
   {
    "duration": 161,
    "start_time": "2021-07-07T10:59:21.238Z"
   },
   {
    "duration": 59,
    "start_time": "2021-07-07T10:59:21.453Z"
   },
   {
    "duration": 3,
    "start_time": "2021-07-07T11:02:10.786Z"
   },
   {
    "duration": 13,
    "start_time": "2021-07-07T11:07:07.722Z"
   },
   {
    "duration": 26,
    "start_time": "2021-07-07T11:07:17.958Z"
   },
   {
    "duration": 22,
    "start_time": "2021-07-07T11:08:17.939Z"
   },
   {
    "duration": 212,
    "start_time": "2021-07-07T11:08:19.665Z"
   },
   {
    "duration": 21,
    "start_time": "2021-07-07T11:08:29.945Z"
   },
   {
    "duration": 31,
    "start_time": "2021-07-07T11:08:38.899Z"
   },
   {
    "duration": 23,
    "start_time": "2021-07-07T11:08:54.527Z"
   },
   {
    "duration": 8,
    "start_time": "2021-07-07T11:18:55.974Z"
   },
   {
    "duration": 7,
    "start_time": "2021-07-07T11:19:03.639Z"
   },
   {
    "duration": 7,
    "start_time": "2021-07-07T11:19:06.444Z"
   },
   {
    "duration": 578,
    "start_time": "2021-07-07T12:09:59.576Z"
   },
   {
    "duration": 195,
    "start_time": "2021-07-07T12:10:00.156Z"
   },
   {
    "duration": 115,
    "start_time": "2021-07-07T12:10:00.353Z"
   },
   {
    "duration": 3,
    "start_time": "2021-07-07T12:10:00.470Z"
   },
   {
    "duration": 32,
    "start_time": "2021-07-07T12:10:00.474Z"
   },
   {
    "duration": 23,
    "start_time": "2021-07-07T12:10:00.508Z"
   },
   {
    "duration": 19,
    "start_time": "2021-07-07T12:10:00.533Z"
   },
   {
    "duration": 44,
    "start_time": "2021-07-07T12:10:00.553Z"
   },
   {
    "duration": 7,
    "start_time": "2021-07-07T12:10:00.600Z"
   },
   {
    "duration": 7,
    "start_time": "2021-07-07T12:19:45.761Z"
   },
   {
    "duration": 21,
    "start_time": "2021-07-07T12:21:35.482Z"
   },
   {
    "duration": 21,
    "start_time": "2021-07-07T12:29:23.569Z"
   },
   {
    "duration": 525,
    "start_time": "2021-07-07T12:29:44.542Z"
   },
   {
    "duration": 214,
    "start_time": "2021-07-07T12:29:45.069Z"
   },
   {
    "duration": 92,
    "start_time": "2021-07-07T12:29:45.285Z"
   },
   {
    "duration": 3,
    "start_time": "2021-07-07T12:29:45.379Z"
   },
   {
    "duration": 28,
    "start_time": "2021-07-07T12:29:45.384Z"
   },
   {
    "duration": 23,
    "start_time": "2021-07-07T12:29:45.413Z"
   },
   {
    "duration": 21,
    "start_time": "2021-07-07T12:29:45.437Z"
   },
   {
    "duration": 41,
    "start_time": "2021-07-07T12:29:45.460Z"
   },
   {
    "duration": 7,
    "start_time": "2021-07-07T12:29:45.502Z"
   },
   {
    "duration": 20,
    "start_time": "2021-07-07T12:29:45.511Z"
   },
   {
    "duration": 12,
    "start_time": "2021-07-07T12:34:02.800Z"
   },
   {
    "duration": 7,
    "start_time": "2021-07-07T12:35:10.479Z"
   },
   {
    "duration": 8,
    "start_time": "2021-07-07T12:35:22.440Z"
   },
   {
    "duration": 6,
    "start_time": "2021-07-07T12:35:35.649Z"
   },
   {
    "duration": 6,
    "start_time": "2021-07-07T12:35:43.107Z"
   },
   {
    "duration": 22,
    "start_time": "2021-07-07T12:38:03.029Z"
   },
   {
    "duration": 10,
    "start_time": "2021-07-07T12:38:06.592Z"
   },
   {
    "duration": 563,
    "start_time": "2021-07-07T12:38:46.493Z"
   },
   {
    "duration": 265,
    "start_time": "2021-07-07T12:38:47.058Z"
   },
   {
    "duration": 94,
    "start_time": "2021-07-07T12:38:47.325Z"
   },
   {
    "duration": 3,
    "start_time": "2021-07-07T12:38:47.422Z"
   },
   {
    "duration": 30,
    "start_time": "2021-07-07T12:38:47.427Z"
   },
   {
    "duration": 16,
    "start_time": "2021-07-07T12:38:53.305Z"
   },
   {
    "duration": 10,
    "start_time": "2021-07-07T12:38:53.499Z"
   },
   {
    "duration": 8,
    "start_time": "2021-07-07T12:39:48.161Z"
   },
   {
    "duration": 27,
    "start_time": "2021-07-07T12:41:17.629Z"
   },
   {
    "duration": 17,
    "start_time": "2021-07-07T12:41:17.867Z"
   },
   {
    "duration": 21,
    "start_time": "2021-07-07T12:41:19.310Z"
   },
   {
    "duration": 7,
    "start_time": "2021-07-07T12:41:19.544Z"
   },
   {
    "duration": 20,
    "start_time": "2021-07-07T12:41:20.504Z"
   },
   {
    "duration": 554,
    "start_time": "2021-07-07T12:56:23.696Z"
   },
   {
    "duration": 200,
    "start_time": "2021-07-07T12:56:25.234Z"
   },
   {
    "duration": 119,
    "start_time": "2021-07-07T12:56:25.480Z"
   },
   {
    "duration": 4,
    "start_time": "2021-07-07T12:56:25.762Z"
   },
   {
    "duration": 26,
    "start_time": "2021-07-07T12:56:27.172Z"
   },
   {
    "duration": 12,
    "start_time": "2021-07-07T12:56:29.051Z"
   },
   {
    "duration": 10,
    "start_time": "2021-07-07T12:56:29.291Z"
   },
   {
    "duration": 8,
    "start_time": "2021-07-07T12:56:29.623Z"
   },
   {
    "duration": 28,
    "start_time": "2021-07-07T12:56:32.137Z"
   },
   {
    "duration": 19,
    "start_time": "2021-07-07T12:56:39.785Z"
   },
   {
    "duration": 20,
    "start_time": "2021-07-07T12:56:44.297Z"
   },
   {
    "duration": 7,
    "start_time": "2021-07-07T12:56:45.392Z"
   },
   {
    "duration": 23,
    "start_time": "2021-07-07T12:56:46.615Z"
   },
   {
    "duration": 4,
    "start_time": "2021-07-07T12:57:06.625Z"
   },
   {
    "duration": 32,
    "start_time": "2021-07-07T12:57:36.690Z"
   },
   {
    "duration": 18,
    "start_time": "2021-07-07T12:58:00.149Z"
   },
   {
    "duration": 15,
    "start_time": "2021-07-07T12:59:16.793Z"
   },
   {
    "duration": 7,
    "start_time": "2021-07-07T13:19:22.624Z"
   },
   {
    "duration": 6,
    "start_time": "2021-07-07T14:17:33.527Z"
   },
   {
    "duration": 9,
    "start_time": "2021-07-07T14:17:48.409Z"
   },
   {
    "duration": 8,
    "start_time": "2021-07-07T14:20:13.060Z"
   },
   {
    "duration": 8,
    "start_time": "2021-07-07T14:20:37.957Z"
   },
   {
    "duration": 8,
    "start_time": "2021-07-07T14:20:47.470Z"
   },
   {
    "duration": 9,
    "start_time": "2021-07-07T14:20:54.503Z"
   },
   {
    "duration": 10,
    "start_time": "2021-07-07T14:28:57.763Z"
   },
   {
    "duration": 3,
    "start_time": "2021-07-07T14:30:23.377Z"
   },
   {
    "duration": 3,
    "start_time": "2021-07-07T14:30:36.489Z"
   },
   {
    "duration": 103,
    "start_time": "2021-07-07T14:30:52.351Z"
   },
   {
    "duration": 8,
    "start_time": "2021-07-07T14:30:54.763Z"
   },
   {
    "duration": 8,
    "start_time": "2021-07-07T14:31:29.301Z"
   },
   {
    "duration": 13,
    "start_time": "2021-07-07T14:31:44.516Z"
   },
   {
    "duration": 7,
    "start_time": "2021-07-07T14:33:10.972Z"
   },
   {
    "duration": 11,
    "start_time": "2021-07-07T14:33:27.780Z"
   },
   {
    "duration": 8,
    "start_time": "2021-07-07T14:34:44.588Z"
   },
   {
    "duration": 57,
    "start_time": "2021-07-07T14:35:59.042Z"
   },
   {
    "duration": 3,
    "start_time": "2021-07-07T14:36:28.168Z"
   },
   {
    "duration": 5,
    "start_time": "2021-07-07T14:36:46.254Z"
   },
   {
    "duration": 4,
    "start_time": "2021-07-07T14:36:52.714Z"
   },
   {
    "duration": 3,
    "start_time": "2021-07-07T14:36:56.612Z"
   },
   {
    "duration": 4,
    "start_time": "2021-07-07T14:36:57.049Z"
   },
   {
    "duration": 3,
    "start_time": "2021-07-07T14:39:21.214Z"
   },
   {
    "duration": 7,
    "start_time": "2021-07-07T14:39:52.406Z"
   },
   {
    "duration": 11,
    "start_time": "2021-07-07T14:39:58.576Z"
   },
   {
    "duration": 9,
    "start_time": "2021-07-07T14:40:26.301Z"
   },
   {
    "duration": 10,
    "start_time": "2021-07-07T14:40:31.704Z"
   },
   {
    "duration": 11,
    "start_time": "2021-07-07T14:40:36.249Z"
   },
   {
    "duration": 10,
    "start_time": "2021-07-07T14:40:39.783Z"
   },
   {
    "duration": 9,
    "start_time": "2021-07-07T14:40:48.558Z"
   },
   {
    "duration": 10,
    "start_time": "2021-07-07T14:40:57.143Z"
   },
   {
    "duration": 9,
    "start_time": "2021-07-07T14:41:06.074Z"
   },
   {
    "duration": 4324,
    "start_time": "2021-07-07T14:41:22.004Z"
   },
   {
    "duration": 11,
    "start_time": "2021-07-07T14:41:33.392Z"
   },
   {
    "duration": 9,
    "start_time": "2021-07-07T14:41:39.288Z"
   },
   {
    "duration": 569,
    "start_time": "2021-07-07T14:42:14.387Z"
   },
   {
    "duration": 197,
    "start_time": "2021-07-07T14:42:14.959Z"
   },
   {
    "duration": 84,
    "start_time": "2021-07-07T14:42:16.052Z"
   },
   {
    "duration": 4,
    "start_time": "2021-07-07T14:42:16.900Z"
   },
   {
    "duration": 27,
    "start_time": "2021-07-07T14:42:19.898Z"
   },
   {
    "duration": 12,
    "start_time": "2021-07-07T14:42:21.577Z"
   },
   {
    "duration": 9,
    "start_time": "2021-07-07T14:42:21.813Z"
   },
   {
    "duration": 9,
    "start_time": "2021-07-07T14:42:22.569Z"
   },
   {
    "duration": 29,
    "start_time": "2021-07-07T14:42:25.837Z"
   },
   {
    "duration": 20,
    "start_time": "2021-07-07T14:42:27.003Z"
   },
   {
    "duration": 21,
    "start_time": "2021-07-07T14:42:28.767Z"
   },
   {
    "duration": 7,
    "start_time": "2021-07-07T14:42:29.838Z"
   },
   {
    "duration": 4,
    "start_time": "2021-07-07T14:43:25.493Z"
   },
   {
    "duration": 7,
    "start_time": "2021-07-07T14:43:26.573Z"
   },
   {
    "duration": 10,
    "start_time": "2021-07-07T14:43:31.639Z"
   },
   {
    "duration": 9,
    "start_time": "2021-07-07T14:43:32.046Z"
   },
   {
    "duration": 10,
    "start_time": "2021-07-07T14:43:33.301Z"
   },
   {
    "duration": 12,
    "start_time": "2021-07-07T14:43:33.658Z"
   },
   {
    "duration": 8,
    "start_time": "2021-07-07T14:43:34.552Z"
   },
   {
    "duration": 9,
    "start_time": "2021-07-07T14:43:35.058Z"
   },
   {
    "duration": 12,
    "start_time": "2021-07-07T14:43:35.914Z"
   },
   {
    "duration": 17,
    "start_time": "2021-07-07T14:45:34.368Z"
   },
   {
    "duration": 512,
    "start_time": "2021-07-07T14:51:58.236Z"
   },
   {
    "duration": 223,
    "start_time": "2021-07-07T14:51:58.750Z"
   },
   {
    "duration": 93,
    "start_time": "2021-07-07T14:51:58.977Z"
   },
   {
    "duration": 4,
    "start_time": "2021-07-07T14:51:59.071Z"
   },
   {
    "duration": 37,
    "start_time": "2021-07-07T14:51:59.077Z"
   },
   {
    "duration": 18,
    "start_time": "2021-07-07T14:51:59.116Z"
   },
   {
    "duration": 10,
    "start_time": "2021-07-07T14:51:59.137Z"
   },
   {
    "duration": 8,
    "start_time": "2021-07-07T14:51:59.149Z"
   },
   {
    "duration": 54,
    "start_time": "2021-07-07T14:51:59.158Z"
   },
   {
    "duration": 18,
    "start_time": "2021-07-07T14:51:59.213Z"
   },
   {
    "duration": 22,
    "start_time": "2021-07-07T14:51:59.232Z"
   },
   {
    "duration": 36,
    "start_time": "2021-07-07T14:51:59.255Z"
   },
   {
    "duration": 7,
    "start_time": "2021-07-07T14:51:59.293Z"
   },
   {
    "duration": 10,
    "start_time": "2021-07-07T14:51:59.302Z"
   },
   {
    "duration": 9,
    "start_time": "2021-07-07T14:51:59.313Z"
   },
   {
    "duration": 11,
    "start_time": "2021-07-07T14:51:59.324Z"
   },
   {
    "duration": 8,
    "start_time": "2021-07-07T14:51:59.337Z"
   },
   {
    "duration": 46,
    "start_time": "2021-07-07T14:51:59.347Z"
   },
   {
    "duration": 22,
    "start_time": "2021-07-07T14:51:59.395Z"
   },
   {
    "duration": 24,
    "start_time": "2021-07-07T14:57:32.911Z"
   },
   {
    "duration": 7,
    "start_time": "2021-07-07T14:58:22.070Z"
   },
   {
    "duration": 4,
    "start_time": "2021-07-07T14:59:11.239Z"
   },
   {
    "duration": 25,
    "start_time": "2021-07-07T15:07:22.208Z"
   },
   {
    "duration": 16,
    "start_time": "2021-07-07T15:08:25.560Z"
   },
   {
    "duration": 15,
    "start_time": "2021-07-07T15:08:40.647Z"
   },
   {
    "duration": 14,
    "start_time": "2021-07-07T15:08:46.669Z"
   },
   {
    "duration": 533,
    "start_time": "2021-07-07T15:18:07.440Z"
   },
   {
    "duration": 173,
    "start_time": "2021-07-07T15:18:07.974Z"
   },
   {
    "duration": 84,
    "start_time": "2021-07-07T15:18:08.149Z"
   },
   {
    "duration": 3,
    "start_time": "2021-07-07T15:18:08.235Z"
   },
   {
    "duration": 30,
    "start_time": "2021-07-07T15:18:08.240Z"
   },
   {
    "duration": 22,
    "start_time": "2021-07-07T15:18:08.272Z"
   },
   {
    "duration": 11,
    "start_time": "2021-07-07T15:18:08.295Z"
   },
   {
    "duration": 11,
    "start_time": "2021-07-07T15:18:08.309Z"
   },
   {
    "duration": 40,
    "start_time": "2021-07-07T15:18:08.322Z"
   },
   {
    "duration": 42,
    "start_time": "2021-07-07T15:18:08.364Z"
   },
   {
    "duration": 22,
    "start_time": "2021-07-07T15:18:08.408Z"
   },
   {
    "duration": 5,
    "start_time": "2021-07-07T15:18:08.432Z"
   },
   {
    "duration": 13,
    "start_time": "2021-07-07T15:18:08.439Z"
   },
   {
    "duration": 9,
    "start_time": "2021-07-07T15:18:08.454Z"
   },
   {
    "duration": 32,
    "start_time": "2021-07-07T15:18:08.465Z"
   },
   {
    "duration": 10,
    "start_time": "2021-07-07T15:18:08.501Z"
   },
   {
    "duration": 7,
    "start_time": "2021-07-07T15:18:08.513Z"
   },
   {
    "duration": 11,
    "start_time": "2021-07-07T15:18:08.521Z"
   },
   {
    "duration": 17,
    "start_time": "2021-07-07T15:18:08.534Z"
   },
   {
    "duration": 44,
    "start_time": "2021-07-07T15:18:08.553Z"
   },
   {
    "duration": 22,
    "start_time": "2021-07-07T15:18:08.599Z"
   },
   {
    "duration": 61,
    "start_time": "2021-07-07T15:18:08.622Z"
   },
   {
    "duration": 7,
    "start_time": "2021-07-07T15:18:39.457Z"
   },
   {
    "duration": 5,
    "start_time": "2021-07-07T16:05:17.020Z"
   },
   {
    "duration": 5,
    "start_time": "2021-07-07T16:51:28.794Z"
   },
   {
    "duration": 546,
    "start_time": "2021-07-07T16:52:26.306Z"
   },
   {
    "duration": 203,
    "start_time": "2021-07-07T16:52:27.523Z"
   },
   {
    "duration": 85,
    "start_time": "2021-07-07T16:52:27.736Z"
   },
   {
    "duration": 4,
    "start_time": "2021-07-07T16:52:27.899Z"
   },
   {
    "duration": 25,
    "start_time": "2021-07-07T16:52:28.674Z"
   },
   {
    "duration": 8,
    "start_time": "2021-07-07T16:52:32.956Z"
   },
   {
    "duration": 18,
    "start_time": "2021-07-07T16:52:35.616Z"
   },
   {
    "duration": 6,
    "start_time": "2021-07-07T16:52:36.913Z"
   },
   {
    "duration": 11,
    "start_time": "2021-07-07T16:52:40.258Z"
   },
   {
    "duration": 10,
    "start_time": "2021-07-07T16:52:46.251Z"
   },
   {
    "duration": 8,
    "start_time": "2021-07-07T16:52:47.182Z"
   },
   {
    "duration": 27,
    "start_time": "2021-07-07T16:53:20.391Z"
   },
   {
    "duration": 20,
    "start_time": "2021-07-07T16:53:22.022Z"
   },
   {
    "duration": 23,
    "start_time": "2021-07-07T16:53:23.690Z"
   },
   {
    "duration": 8,
    "start_time": "2021-07-07T16:53:24.261Z"
   },
   {
    "duration": 4,
    "start_time": "2021-07-07T16:53:38.733Z"
   },
   {
    "duration": 7,
    "start_time": "2021-07-07T16:53:40.445Z"
   },
   {
    "duration": 11,
    "start_time": "2021-07-07T16:53:41.348Z"
   },
   {
    "duration": 13,
    "start_time": "2021-07-07T16:53:45.250Z"
   },
   {
    "duration": 12,
    "start_time": "2021-07-07T16:53:45.467Z"
   },
   {
    "duration": 4,
    "start_time": "2021-07-07T16:55:32.704Z"
   },
   {
    "duration": 12,
    "start_time": "2021-07-07T16:55:49.012Z"
   },
   {
    "duration": 18,
    "start_time": "2021-07-07T16:55:49.547Z"
   },
   {
    "duration": 611,
    "start_time": "2021-07-07T16:58:35.156Z"
   },
   {
    "duration": 200,
    "start_time": "2021-07-07T16:58:35.770Z"
   },
   {
    "duration": 86,
    "start_time": "2021-07-07T16:58:35.972Z"
   },
   {
    "duration": 3,
    "start_time": "2021-07-07T16:58:36.060Z"
   },
   {
    "duration": 27,
    "start_time": "2021-07-07T16:58:36.065Z"
   },
   {
    "duration": 8,
    "start_time": "2021-07-07T16:58:36.094Z"
   },
   {
    "duration": 17,
    "start_time": "2021-07-07T16:58:36.103Z"
   },
   {
    "duration": 5,
    "start_time": "2021-07-07T16:58:36.123Z"
   },
   {
    "duration": 11,
    "start_time": "2021-07-07T16:58:36.130Z"
   },
   {
    "duration": 7,
    "start_time": "2021-07-07T16:58:36.143Z"
   },
   {
    "duration": 37,
    "start_time": "2021-07-07T16:58:36.152Z"
   },
   {
    "duration": 27,
    "start_time": "2021-07-07T16:58:36.191Z"
   },
   {
    "duration": 19,
    "start_time": "2021-07-07T16:58:36.219Z"
   },
   {
    "duration": 49,
    "start_time": "2021-07-07T16:58:36.240Z"
   },
   {
    "duration": 6,
    "start_time": "2021-07-07T16:58:36.291Z"
   },
   {
    "duration": 3,
    "start_time": "2021-07-07T16:58:36.299Z"
   },
   {
    "duration": 13,
    "start_time": "2021-07-07T16:58:36.304Z"
   },
   {
    "duration": 10,
    "start_time": "2021-07-07T16:58:36.319Z"
   },
   {
    "duration": 10,
    "start_time": "2021-07-07T16:58:36.331Z"
   },
   {
    "duration": 44,
    "start_time": "2021-07-07T16:58:36.343Z"
   },
   {
    "duration": 4,
    "start_time": "2021-07-07T16:58:36.388Z"
   },
   {
    "duration": 13,
    "start_time": "2021-07-07T16:58:36.394Z"
   },
   {
    "duration": 16,
    "start_time": "2021-07-07T16:58:36.410Z"
   },
   {
    "duration": 8,
    "start_time": "2021-07-07T17:02:31.629Z"
   },
   {
    "duration": 8,
    "start_time": "2021-07-07T17:02:34.308Z"
   },
   {
    "duration": 6,
    "start_time": "2021-07-07T17:05:13.483Z"
   },
   {
    "duration": 17,
    "start_time": "2021-07-07T17:05:20.606Z"
   },
   {
    "duration": 7,
    "start_time": "2021-07-07T17:05:34.638Z"
   },
   {
    "duration": 3,
    "start_time": "2021-07-07T17:06:31.883Z"
   },
   {
    "duration": 570,
    "start_time": "2021-07-07T17:06:37.165Z"
   },
   {
    "duration": 174,
    "start_time": "2021-07-07T17:06:37.737Z"
   },
   {
    "duration": 47,
    "start_time": "2021-07-07T17:06:37.913Z"
   },
   {
    "duration": 3,
    "start_time": "2021-07-07T17:06:37.962Z"
   },
   {
    "duration": 27,
    "start_time": "2021-07-07T17:06:37.967Z"
   },
   {
    "duration": 7,
    "start_time": "2021-07-07T17:06:37.996Z"
   },
   {
    "duration": 16,
    "start_time": "2021-07-07T17:06:38.005Z"
   },
   {
    "duration": 6,
    "start_time": "2021-07-07T17:06:38.024Z"
   },
   {
    "duration": 12,
    "start_time": "2021-07-07T17:06:38.031Z"
   },
   {
    "duration": 41,
    "start_time": "2021-07-07T17:06:38.045Z"
   },
   {
    "duration": 8,
    "start_time": "2021-07-07T17:06:38.088Z"
   },
   {
    "duration": 26,
    "start_time": "2021-07-07T17:06:38.098Z"
   },
   {
    "duration": 17,
    "start_time": "2021-07-07T17:06:38.126Z"
   },
   {
    "duration": 43,
    "start_time": "2021-07-07T17:06:38.144Z"
   },
   {
    "duration": 6,
    "start_time": "2021-07-07T17:06:38.188Z"
   },
   {
    "duration": 5,
    "start_time": "2021-07-07T17:06:38.195Z"
   },
   {
    "duration": 9,
    "start_time": "2021-07-07T17:06:38.201Z"
   },
   {
    "duration": 12,
    "start_time": "2021-07-07T17:06:38.212Z"
   },
   {
    "duration": 11,
    "start_time": "2021-07-07T17:06:38.226Z"
   },
   {
    "duration": 47,
    "start_time": "2021-07-07T17:06:38.239Z"
   },
   {
    "duration": 4,
    "start_time": "2021-07-07T17:06:38.288Z"
   },
   {
    "duration": 13,
    "start_time": "2021-07-07T17:06:38.293Z"
   },
   {
    "duration": 5,
    "start_time": "2021-07-07T17:06:38.309Z"
   },
   {
    "duration": 18,
    "start_time": "2021-07-07T17:06:38.325Z"
   },
   {
    "duration": 20,
    "start_time": "2021-07-07T17:07:02.805Z"
   },
   {
    "duration": 19,
    "start_time": "2021-07-07T17:07:08.527Z"
   },
   {
    "duration": 19,
    "start_time": "2021-07-07T17:07:12.758Z"
   },
   {
    "duration": 22,
    "start_time": "2021-07-07T17:07:17.497Z"
   },
   {
    "duration": 19,
    "start_time": "2021-07-07T17:07:19.645Z"
   },
   {
    "duration": 10,
    "start_time": "2021-07-07T17:07:34.239Z"
   },
   {
    "duration": 17,
    "start_time": "2021-07-07T17:07:54.144Z"
   },
   {
    "duration": 14,
    "start_time": "2021-07-07T17:08:14.357Z"
   },
   {
    "duration": 616,
    "start_time": "2021-07-07T17:08:45.254Z"
   },
   {
    "duration": 178,
    "start_time": "2021-07-07T17:08:45.872Z"
   },
   {
    "duration": 60,
    "start_time": "2021-07-07T17:08:46.054Z"
   },
   {
    "duration": 3,
    "start_time": "2021-07-07T17:08:46.116Z"
   },
   {
    "duration": 26,
    "start_time": "2021-07-07T17:08:46.121Z"
   },
   {
    "duration": 7,
    "start_time": "2021-07-07T17:08:46.149Z"
   },
   {
    "duration": 17,
    "start_time": "2021-07-07T17:08:46.158Z"
   },
   {
    "duration": 14,
    "start_time": "2021-07-07T17:08:46.176Z"
   },
   {
    "duration": 17,
    "start_time": "2021-07-07T17:08:46.193Z"
   },
   {
    "duration": 9,
    "start_time": "2021-07-07T17:08:46.211Z"
   },
   {
    "duration": 21,
    "start_time": "2021-07-07T17:08:46.221Z"
   },
   {
    "duration": 49,
    "start_time": "2021-07-07T17:08:46.244Z"
   },
   {
    "duration": 24,
    "start_time": "2021-07-07T17:08:46.295Z"
   },
   {
    "duration": 22,
    "start_time": "2021-07-07T17:08:46.321Z"
   },
   {
    "duration": 6,
    "start_time": "2021-07-07T17:08:46.345Z"
   },
   {
    "duration": 5,
    "start_time": "2021-07-07T17:08:46.353Z"
   },
   {
    "duration": 13,
    "start_time": "2021-07-07T17:08:46.386Z"
   },
   {
    "duration": 12,
    "start_time": "2021-07-07T17:08:46.402Z"
   },
   {
    "duration": 10,
    "start_time": "2021-07-07T17:08:46.415Z"
   },
   {
    "duration": 7,
    "start_time": "2021-07-07T17:08:46.427Z"
   },
   {
    "duration": 8,
    "start_time": "2021-07-07T17:08:46.435Z"
   },
   {
    "duration": 68,
    "start_time": "2021-07-07T17:08:46.446Z"
   },
   {
    "duration": 13,
    "start_time": "2021-07-07T17:08:46.516Z"
   },
   {
    "duration": 78,
    "start_time": "2021-07-07T17:08:46.530Z"
   },
   {
    "duration": 40,
    "start_time": "2021-07-07T17:09:08.185Z"
   },
   {
    "duration": 16,
    "start_time": "2021-07-07T17:09:19.324Z"
   },
   {
    "duration": 21,
    "start_time": "2021-07-07T17:09:23.290Z"
   },
   {
    "duration": 13,
    "start_time": "2021-07-07T17:09:54.812Z"
   },
   {
    "duration": 13,
    "start_time": "2021-07-07T17:10:02.039Z"
   },
   {
    "duration": 10,
    "start_time": "2021-07-07T17:10:29.632Z"
   },
   {
    "duration": 13,
    "start_time": "2021-07-07T17:10:52.372Z"
   },
   {
    "duration": 13,
    "start_time": "2021-07-07T17:11:17.270Z"
   },
   {
    "duration": 13,
    "start_time": "2021-07-07T17:14:59.284Z"
   },
   {
    "duration": 547,
    "start_time": "2021-07-07T17:18:52.403Z"
   },
   {
    "duration": 163,
    "start_time": "2021-07-07T17:18:52.952Z"
   },
   {
    "duration": 44,
    "start_time": "2021-07-07T17:18:53.117Z"
   },
   {
    "duration": 3,
    "start_time": "2021-07-07T17:18:53.162Z"
   },
   {
    "duration": 26,
    "start_time": "2021-07-07T17:18:53.167Z"
   },
   {
    "duration": 6,
    "start_time": "2021-07-07T17:18:53.195Z"
   },
   {
    "duration": 15,
    "start_time": "2021-07-07T17:18:53.203Z"
   },
   {
    "duration": 5,
    "start_time": "2021-07-07T17:18:53.220Z"
   },
   {
    "duration": 11,
    "start_time": "2021-07-07T17:18:53.228Z"
   },
   {
    "duration": 9,
    "start_time": "2021-07-07T17:18:53.241Z"
   },
   {
    "duration": 41,
    "start_time": "2021-07-07T17:18:53.252Z"
   },
   {
    "duration": 33,
    "start_time": "2021-07-07T17:18:53.295Z"
   },
   {
    "duration": 19,
    "start_time": "2021-07-07T17:18:53.330Z"
   },
   {
    "duration": 49,
    "start_time": "2021-07-07T17:18:53.350Z"
   },
   {
    "duration": 5,
    "start_time": "2021-07-07T17:18:53.401Z"
   },
   {
    "duration": 5,
    "start_time": "2021-07-07T17:18:53.408Z"
   },
   {
    "duration": 11,
    "start_time": "2021-07-07T17:18:53.414Z"
   },
   {
    "duration": 9,
    "start_time": "2021-07-07T17:18:53.427Z"
   },
   {
    "duration": 10,
    "start_time": "2021-07-07T17:18:53.437Z"
   },
   {
    "duration": 39,
    "start_time": "2021-07-07T17:18:53.448Z"
   },
   {
    "duration": 26,
    "start_time": "2021-07-07T17:18:55.799Z"
   },
   {
    "duration": 598,
    "start_time": "2021-07-07T17:20:17.862Z"
   },
   {
    "duration": 161,
    "start_time": "2021-07-07T17:20:18.462Z"
   },
   {
    "duration": 45,
    "start_time": "2021-07-07T17:20:18.626Z"
   },
   {
    "duration": 4,
    "start_time": "2021-07-07T17:20:18.673Z"
   },
   {
    "duration": 38,
    "start_time": "2021-07-07T17:20:26.877Z"
   },
   {
    "duration": 7,
    "start_time": "2021-07-07T17:20:37.405Z"
   },
   {
    "duration": 19,
    "start_time": "2021-07-07T17:20:51.534Z"
   },
   {
    "duration": 5,
    "start_time": "2021-07-07T17:20:57.228Z"
   },
   {
    "duration": 7,
    "start_time": "2021-07-07T17:21:08.235Z"
   },
   {
    "duration": 19,
    "start_time": "2021-07-07T17:21:42.158Z"
   },
   {
    "duration": 14,
    "start_time": "2021-07-07T17:21:50.225Z"
   },
   {
    "duration": 22,
    "start_time": "2021-07-07T17:22:54.104Z"
   },
   {
    "duration": 5,
    "start_time": "2021-07-07T17:22:56.371Z"
   },
   {
    "duration": 14,
    "start_time": "2021-07-07T17:22:58.316Z"
   },
   {
    "duration": 5,
    "start_time": "2021-07-07T17:22:58.493Z"
   },
   {
    "duration": 35,
    "start_time": "2021-07-07T17:22:59.666Z"
   },
   {
    "duration": 6,
    "start_time": "2021-07-07T17:23:02.410Z"
   },
   {
    "duration": 611,
    "start_time": "2021-07-07T17:24:59.664Z"
   },
   {
    "duration": 178,
    "start_time": "2021-07-07T17:25:01.945Z"
   },
   {
    "duration": 47,
    "start_time": "2021-07-07T17:25:02.125Z"
   },
   {
    "duration": 2,
    "start_time": "2021-07-07T17:25:07.903Z"
   },
   {
    "duration": 254,
    "start_time": "2021-07-07T17:25:08.232Z"
   },
   {
    "duration": 182,
    "start_time": "2021-07-07T17:25:08.671Z"
   },
   {
    "duration": 6,
    "start_time": "2021-07-07T17:25:13.104Z"
   },
   {
    "duration": 36,
    "start_time": "2021-07-07T17:25:13.662Z"
   },
   {
    "duration": 7,
    "start_time": "2021-07-07T17:25:14.528Z"
   },
   {
    "duration": 24,
    "start_time": "2021-07-07T17:25:27.982Z"
   },
   {
    "duration": 3,
    "start_time": "2021-07-07T17:25:48.982Z"
   },
   {
    "duration": 165,
    "start_time": "2021-07-07T17:25:48.987Z"
   },
   {
    "duration": 50,
    "start_time": "2021-07-07T17:25:49.154Z"
   },
   {
    "duration": 4,
    "start_time": "2021-07-07T17:25:49.206Z"
   },
   {
    "duration": 26,
    "start_time": "2021-07-07T17:25:49.212Z"
   },
   {
    "duration": 7,
    "start_time": "2021-07-07T17:25:49.240Z"
   },
   {
    "duration": 16,
    "start_time": "2021-07-07T17:25:49.249Z"
   },
   {
    "duration": 22,
    "start_time": "2021-07-07T17:25:49.266Z"
   },
   {
    "duration": 16,
    "start_time": "2021-07-07T17:25:49.291Z"
   },
   {
    "duration": 9,
    "start_time": "2021-07-07T17:25:49.309Z"
   },
   {
    "duration": 7,
    "start_time": "2021-07-07T17:25:49.319Z"
   },
   {
    "duration": 28,
    "start_time": "2021-07-07T17:25:49.328Z"
   },
   {
    "duration": 44,
    "start_time": "2021-07-07T17:25:49.357Z"
   },
   {
    "duration": 22,
    "start_time": "2021-07-07T17:25:49.403Z"
   },
   {
    "duration": 7,
    "start_time": "2021-07-07T17:25:49.427Z"
   },
   {
    "duration": 3,
    "start_time": "2021-07-07T17:25:49.436Z"
   },
   {
    "duration": 44,
    "start_time": "2021-07-07T17:25:49.441Z"
   },
   {
    "duration": 12,
    "start_time": "2021-07-07T17:25:49.488Z"
   },
   {
    "duration": 13,
    "start_time": "2021-07-07T17:25:49.502Z"
   },
   {
    "duration": 10,
    "start_time": "2021-07-07T17:25:49.516Z"
   },
   {
    "duration": 62,
    "start_time": "2021-07-07T17:25:49.527Z"
   },
   {
    "duration": 26,
    "start_time": "2021-07-07T17:26:51.809Z"
   },
   {
    "duration": 26,
    "start_time": "2021-07-07T17:26:55.759Z"
   },
   {
    "duration": 26,
    "start_time": "2021-07-07T17:27:04.501Z"
   },
   {
    "duration": 25,
    "start_time": "2021-07-07T17:28:24.859Z"
   },
   {
    "duration": 21,
    "start_time": "2021-07-07T17:28:55.250Z"
   },
   {
    "duration": 21,
    "start_time": "2021-07-07T17:28:58.885Z"
   },
   {
    "duration": 7,
    "start_time": "2021-07-07T17:45:40.972Z"
   },
   {
    "duration": 13,
    "start_time": "2021-07-07T17:45:42.529Z"
   },
   {
    "duration": 27,
    "start_time": "2021-07-07T17:45:51.026Z"
   },
   {
    "duration": 518,
    "start_time": "2021-07-07T17:46:15.532Z"
   },
   {
    "duration": 235,
    "start_time": "2021-07-07T17:46:16.053Z"
   },
   {
    "duration": 80,
    "start_time": "2021-07-07T17:46:16.292Z"
   },
   {
    "duration": 5,
    "start_time": "2021-07-07T17:46:16.373Z"
   },
   {
    "duration": 26,
    "start_time": "2021-07-07T17:46:16.380Z"
   },
   {
    "duration": 7,
    "start_time": "2021-07-07T17:46:16.408Z"
   },
   {
    "duration": 16,
    "start_time": "2021-07-07T17:46:16.418Z"
   },
   {
    "duration": 5,
    "start_time": "2021-07-07T17:46:16.436Z"
   },
   {
    "duration": 13,
    "start_time": "2021-07-07T17:46:16.442Z"
   },
   {
    "duration": 35,
    "start_time": "2021-07-07T17:46:16.456Z"
   },
   {
    "duration": 8,
    "start_time": "2021-07-07T17:46:16.493Z"
   },
   {
    "duration": 28,
    "start_time": "2021-07-07T17:46:16.502Z"
   },
   {
    "duration": 17,
    "start_time": "2021-07-07T17:46:16.532Z"
   },
   {
    "duration": 44,
    "start_time": "2021-07-07T17:46:16.551Z"
   },
   {
    "duration": 6,
    "start_time": "2021-07-07T17:46:16.597Z"
   },
   {
    "duration": 4,
    "start_time": "2021-07-07T17:46:16.605Z"
   },
   {
    "duration": 9,
    "start_time": "2021-07-07T17:46:16.610Z"
   },
   {
    "duration": 9,
    "start_time": "2021-07-07T17:46:16.621Z"
   },
   {
    "duration": 10,
    "start_time": "2021-07-07T17:46:16.632Z"
   },
   {
    "duration": 43,
    "start_time": "2021-07-07T17:46:16.644Z"
   },
   {
    "duration": 26,
    "start_time": "2021-07-07T17:46:16.689Z"
   },
   {
    "duration": 19,
    "start_time": "2021-07-07T17:46:16.718Z"
   },
   {
    "duration": 8,
    "start_time": "2021-07-07T17:46:16.738Z"
   },
   {
    "duration": 43,
    "start_time": "2021-07-07T17:46:16.747Z"
   },
   {
    "duration": 19,
    "start_time": "2021-07-07T17:46:16.791Z"
   },
   {
    "duration": 9,
    "start_time": "2021-07-07T17:46:16.812Z"
   },
   {
    "duration": 60,
    "start_time": "2021-07-07T17:46:16.822Z"
   },
   {
    "duration": -8,
    "start_time": "2021-07-07T17:46:16.892Z"
   },
   {
    "duration": 12,
    "start_time": "2021-07-07T17:48:47.707Z"
   },
   {
    "duration": 553,
    "start_time": "2021-07-07T18:10:09.350Z"
   },
   {
    "duration": 230,
    "start_time": "2021-07-07T18:10:09.905Z"
   },
   {
    "duration": 97,
    "start_time": "2021-07-07T18:10:10.137Z"
   },
   {
    "duration": 5,
    "start_time": "2021-07-07T18:10:10.236Z"
   },
   {
    "duration": 29,
    "start_time": "2021-07-07T18:10:10.242Z"
   },
   {
    "duration": 7,
    "start_time": "2021-07-07T18:10:10.272Z"
   },
   {
    "duration": 15,
    "start_time": "2021-07-07T18:10:10.281Z"
   },
   {
    "duration": 4,
    "start_time": "2021-07-07T18:10:10.299Z"
   },
   {
    "duration": 14,
    "start_time": "2021-07-07T18:10:10.305Z"
   },
   {
    "duration": 8,
    "start_time": "2021-07-07T18:10:10.321Z"
   },
   {
    "duration": 8,
    "start_time": "2021-07-07T18:10:10.331Z"
   },
   {
    "duration": 56,
    "start_time": "2021-07-07T18:10:10.341Z"
   },
   {
    "duration": 19,
    "start_time": "2021-07-07T18:10:10.399Z"
   },
   {
    "duration": 23,
    "start_time": "2021-07-07T18:10:10.419Z"
   },
   {
    "duration": 6,
    "start_time": "2021-07-07T18:10:10.444Z"
   },
   {
    "duration": 9,
    "start_time": "2021-07-07T18:10:10.451Z"
   },
   {
    "duration": 30,
    "start_time": "2021-07-07T18:10:10.462Z"
   },
   {
    "duration": 9,
    "start_time": "2021-07-07T18:10:10.494Z"
   },
   {
    "duration": 14,
    "start_time": "2021-07-07T18:10:10.505Z"
   },
   {
    "duration": 7,
    "start_time": "2021-07-07T18:10:10.521Z"
   },
   {
    "duration": 26,
    "start_time": "2021-07-07T18:10:10.530Z"
   },
   {
    "duration": 44,
    "start_time": "2021-07-07T18:10:10.558Z"
   },
   {
    "duration": 7,
    "start_time": "2021-07-07T18:10:10.605Z"
   },
   {
    "duration": 11,
    "start_time": "2021-07-07T18:10:10.614Z"
   },
   {
    "duration": 19,
    "start_time": "2021-07-07T18:10:10.626Z"
   },
   {
    "duration": 44,
    "start_time": "2021-07-07T18:10:10.646Z"
   },
   {
    "duration": 516,
    "start_time": "2021-07-07T18:14:00.826Z"
   },
   {
    "duration": 230,
    "start_time": "2021-07-07T18:14:01.344Z"
   },
   {
    "duration": 105,
    "start_time": "2021-07-07T18:14:01.576Z"
   },
   {
    "duration": 5,
    "start_time": "2021-07-07T18:14:01.683Z"
   },
   {
    "duration": 46,
    "start_time": "2021-07-07T18:14:01.690Z"
   },
   {
    "duration": 7,
    "start_time": "2021-07-07T18:14:01.738Z"
   },
   {
    "duration": 20,
    "start_time": "2021-07-07T18:14:01.747Z"
   },
   {
    "duration": 16,
    "start_time": "2021-07-07T18:14:01.769Z"
   },
   {
    "duration": 14,
    "start_time": "2021-07-07T18:14:01.787Z"
   },
   {
    "duration": 15,
    "start_time": "2021-07-07T18:14:01.803Z"
   },
   {
    "duration": 12,
    "start_time": "2021-07-07T18:14:01.820Z"
   },
   {
    "duration": 35,
    "start_time": "2021-07-07T18:14:01.833Z"
   },
   {
    "duration": 31,
    "start_time": "2021-07-07T18:14:01.869Z"
   },
   {
    "duration": 37,
    "start_time": "2021-07-07T18:14:01.902Z"
   },
   {
    "duration": 8,
    "start_time": "2021-07-07T18:14:01.942Z"
   },
   {
    "duration": 16,
    "start_time": "2021-07-07T18:14:01.952Z"
   },
   {
    "duration": 13,
    "start_time": "2021-07-07T18:14:01.970Z"
   },
   {
    "duration": 32,
    "start_time": "2021-07-07T18:14:01.985Z"
   },
   {
    "duration": 11,
    "start_time": "2021-07-07T18:14:02.019Z"
   },
   {
    "duration": 22,
    "start_time": "2021-07-07T18:14:02.031Z"
   },
   {
    "duration": 27,
    "start_time": "2021-07-07T18:14:02.055Z"
   },
   {
    "duration": 18,
    "start_time": "2021-07-07T18:14:02.084Z"
   },
   {
    "duration": 18,
    "start_time": "2021-07-07T18:14:02.106Z"
   },
   {
    "duration": 11,
    "start_time": "2021-07-07T18:14:02.126Z"
   },
   {
    "duration": 21,
    "start_time": "2021-07-07T18:14:02.138Z"
   },
   {
    "duration": 32,
    "start_time": "2021-07-07T18:14:02.161Z"
   },
   {
    "duration": 28,
    "start_time": "2021-07-07T18:14:44.295Z"
   },
   {
    "duration": 6,
    "start_time": "2021-07-07T18:15:05.834Z"
   },
   {
    "duration": 511,
    "start_time": "2021-07-07T18:15:41.541Z"
   },
   {
    "duration": 183,
    "start_time": "2021-07-07T18:15:42.054Z"
   },
   {
    "duration": 50,
    "start_time": "2021-07-07T18:15:42.239Z"
   },
   {
    "duration": 5,
    "start_time": "2021-07-07T18:15:42.291Z"
   },
   {
    "duration": 48,
    "start_time": "2021-07-07T18:15:42.297Z"
   },
   {
    "duration": 8,
    "start_time": "2021-07-07T18:15:42.346Z"
   },
   {
    "duration": 17,
    "start_time": "2021-07-07T18:15:42.356Z"
   },
   {
    "duration": 15,
    "start_time": "2021-07-07T18:15:42.375Z"
   },
   {
    "duration": 12,
    "start_time": "2021-07-07T18:15:42.392Z"
   },
   {
    "duration": 7,
    "start_time": "2021-07-07T18:15:42.406Z"
   },
   {
    "duration": 7,
    "start_time": "2021-07-07T18:15:42.415Z"
   },
   {
    "duration": 29,
    "start_time": "2021-07-07T18:15:42.423Z"
   },
   {
    "duration": 43,
    "start_time": "2021-07-07T18:15:42.453Z"
   },
   {
    "duration": 18,
    "start_time": "2021-07-07T18:15:42.497Z"
   },
   {
    "duration": 6,
    "start_time": "2021-07-07T18:15:42.516Z"
   },
   {
    "duration": 3,
    "start_time": "2021-07-07T18:15:42.523Z"
   },
   {
    "duration": 18,
    "start_time": "2021-07-07T18:15:42.528Z"
   },
   {
    "duration": 10,
    "start_time": "2021-07-07T18:15:42.547Z"
   },
   {
    "duration": 36,
    "start_time": "2021-07-07T18:15:42.559Z"
   },
   {
    "duration": 8,
    "start_time": "2021-07-07T18:15:42.597Z"
   },
   {
    "duration": 28,
    "start_time": "2021-07-07T18:15:42.606Z"
   },
   {
    "duration": 52,
    "start_time": "2021-07-07T18:15:42.635Z"
   },
   {
    "duration": 7,
    "start_time": "2021-07-07T18:15:42.690Z"
   },
   {
    "duration": 10,
    "start_time": "2021-07-07T18:15:42.699Z"
   },
   {
    "duration": 19,
    "start_time": "2021-07-07T18:15:42.711Z"
   },
   {
    "duration": 9,
    "start_time": "2021-07-07T18:15:42.732Z"
   },
   {
    "duration": 5,
    "start_time": "2021-07-07T18:15:42.743Z"
   },
   {
    "duration": 1450,
    "start_time": "2021-07-07T18:15:51.984Z"
   },
   {
    "duration": 161,
    "start_time": "2021-07-07T18:15:53.435Z"
   },
   {
    "duration": 124,
    "start_time": "2021-07-07T18:15:53.598Z"
   },
   {
    "duration": 5,
    "start_time": "2021-07-07T18:15:53.724Z"
   },
   {
    "duration": 34,
    "start_time": "2021-07-07T18:15:53.730Z"
   },
   {
    "duration": 7,
    "start_time": "2021-07-07T18:15:53.765Z"
   },
   {
    "duration": 15,
    "start_time": "2021-07-07T18:15:53.773Z"
   },
   {
    "duration": 5,
    "start_time": "2021-07-07T18:15:53.791Z"
   },
   {
    "duration": 19,
    "start_time": "2021-07-07T18:15:53.798Z"
   },
   {
    "duration": 9,
    "start_time": "2021-07-07T18:15:53.818Z"
   },
   {
    "duration": 19,
    "start_time": "2021-07-07T18:15:53.828Z"
   },
   {
    "duration": 27,
    "start_time": "2021-07-07T18:15:53.848Z"
   },
   {
    "duration": 16,
    "start_time": "2021-07-07T18:15:53.884Z"
   },
   {
    "duration": 29,
    "start_time": "2021-07-07T18:15:53.901Z"
   },
   {
    "duration": 5,
    "start_time": "2021-07-07T18:15:53.932Z"
   },
   {
    "duration": 15,
    "start_time": "2021-07-07T18:15:53.939Z"
   },
   {
    "duration": 13,
    "start_time": "2021-07-07T18:15:53.956Z"
   },
   {
    "duration": 20,
    "start_time": "2021-07-07T18:15:53.971Z"
   },
   {
    "duration": 14,
    "start_time": "2021-07-07T18:15:53.992Z"
   },
   {
    "duration": 9,
    "start_time": "2021-07-07T18:15:54.009Z"
   },
   {
    "duration": 28,
    "start_time": "2021-07-07T18:15:54.020Z"
   },
   {
    "duration": 50,
    "start_time": "2021-07-07T18:15:54.051Z"
   },
   {
    "duration": 8,
    "start_time": "2021-07-07T18:15:54.105Z"
   },
   {
    "duration": 11,
    "start_time": "2021-07-07T18:15:54.115Z"
   },
   {
    "duration": 20,
    "start_time": "2021-07-07T18:15:54.128Z"
   },
   {
    "duration": 13,
    "start_time": "2021-07-07T18:15:54.184Z"
   },
   {
    "duration": 7,
    "start_time": "2021-07-07T18:15:54.199Z"
   },
   {
    "duration": 7,
    "start_time": "2021-07-07T18:17:08.042Z"
   },
   {
    "duration": 8,
    "start_time": "2021-07-07T18:17:21.008Z"
   },
   {
    "duration": 7,
    "start_time": "2021-07-07T18:17:29.003Z"
   },
   {
    "duration": 8,
    "start_time": "2021-07-07T18:17:32.492Z"
   },
   {
    "duration": 9,
    "start_time": "2021-07-07T18:17:41.758Z"
   },
   {
    "duration": 255,
    "start_time": "2021-07-07T18:20:20.897Z"
   },
   {
    "duration": 173,
    "start_time": "2021-07-07T18:20:26.636Z"
   },
   {
    "duration": 7,
    "start_time": "2021-07-07T18:21:47.164Z"
   },
   {
    "duration": 254,
    "start_time": "2021-07-07T18:23:08.703Z"
   },
   {
    "duration": 21,
    "start_time": "2021-07-07T18:23:22.506Z"
   },
   {
    "duration": 315,
    "start_time": "2021-07-07T18:25:54.801Z"
   },
   {
    "duration": 34,
    "start_time": "2021-07-07T18:26:51.817Z"
   },
   {
    "duration": 327,
    "start_time": "2021-07-07T18:26:56.147Z"
   },
   {
    "duration": 342,
    "start_time": "2021-07-07T18:27:15.887Z"
   },
   {
    "duration": 302,
    "start_time": "2021-07-07T18:28:18.569Z"
   },
   {
    "duration": 226,
    "start_time": "2021-07-07T18:29:20.879Z"
   },
   {
    "duration": 207,
    "start_time": "2021-07-07T18:29:58.114Z"
   },
   {
    "duration": 140,
    "start_time": "2021-07-07T18:32:04.372Z"
   },
   {
    "duration": 158,
    "start_time": "2021-07-07T18:32:32.508Z"
   },
   {
    "duration": 145,
    "start_time": "2021-07-07T18:32:41.365Z"
   },
   {
    "duration": 132,
    "start_time": "2021-07-07T18:32:45.199Z"
   },
   {
    "duration": 11,
    "start_time": "2021-07-07T18:35:24.679Z"
   },
   {
    "duration": 268,
    "start_time": "2021-07-07T18:36:16.145Z"
   },
   {
    "duration": 227,
    "start_time": "2021-07-07T18:37:04.918Z"
   },
   {
    "duration": 3,
    "start_time": "2021-07-07T18:37:33.012Z"
   },
   {
    "duration": 671,
    "start_time": "2021-07-07T18:37:38.295Z"
   },
   {
    "duration": 54,
    "start_time": "2021-07-07T18:37:53.406Z"
   },
   {
    "duration": 631,
    "start_time": "2021-07-07T18:37:56.463Z"
   },
   {
    "duration": 19,
    "start_time": "2021-07-07T18:39:40.535Z"
   },
   {
    "duration": 20,
    "start_time": "2021-07-07T18:40:12.236Z"
   },
   {
    "duration": 633,
    "start_time": "2021-07-07T18:42:00.398Z"
   },
   {
    "duration": 218,
    "start_time": "2021-07-07T18:42:01.033Z"
   },
   {
    "duration": 49,
    "start_time": "2021-07-07T18:42:01.253Z"
   },
   {
    "duration": 5,
    "start_time": "2021-07-07T18:42:01.303Z"
   },
   {
    "duration": 27,
    "start_time": "2021-07-07T18:42:01.310Z"
   },
   {
    "duration": 8,
    "start_time": "2021-07-07T18:42:01.339Z"
   },
   {
    "duration": 20,
    "start_time": "2021-07-07T18:42:01.348Z"
   },
   {
    "duration": 6,
    "start_time": "2021-07-07T18:42:01.386Z"
   },
   {
    "duration": 16,
    "start_time": "2021-07-07T18:42:01.394Z"
   },
   {
    "duration": 9,
    "start_time": "2021-07-07T18:42:01.411Z"
   },
   {
    "duration": 11,
    "start_time": "2021-07-07T18:42:01.421Z"
   },
   {
    "duration": 31,
    "start_time": "2021-07-07T18:42:01.434Z"
   },
   {
    "duration": 18,
    "start_time": "2021-07-07T18:42:01.485Z"
   },
   {
    "duration": 23,
    "start_time": "2021-07-07T18:42:01.505Z"
   },
   {
    "duration": 6,
    "start_time": "2021-07-07T18:42:01.530Z"
   },
   {
    "duration": 10,
    "start_time": "2021-07-07T18:42:01.538Z"
   },
   {
    "duration": 13,
    "start_time": "2021-07-07T18:42:01.550Z"
   },
   {
    "duration": 24,
    "start_time": "2021-07-07T18:42:01.564Z"
   },
   {
    "duration": 20,
    "start_time": "2021-07-07T18:42:01.590Z"
   },
   {
    "duration": 8,
    "start_time": "2021-07-07T18:42:01.611Z"
   },
   {
    "duration": 31,
    "start_time": "2021-07-07T18:42:01.620Z"
   },
   {
    "duration": 39,
    "start_time": "2021-07-07T18:42:01.653Z"
   },
   {
    "duration": 8,
    "start_time": "2021-07-07T18:42:01.696Z"
   },
   {
    "duration": 13,
    "start_time": "2021-07-07T18:42:01.705Z"
   },
   {
    "duration": 20,
    "start_time": "2021-07-07T18:42:01.720Z"
   },
   {
    "duration": 12,
    "start_time": "2021-07-07T18:42:01.741Z"
   },
   {
    "duration": 35,
    "start_time": "2021-07-07T18:42:01.755Z"
   },
   {
    "duration": 14,
    "start_time": "2021-07-07T18:42:01.792Z"
   },
   {
    "duration": 188,
    "start_time": "2021-07-07T18:42:01.808Z"
   },
   {
    "duration": 19,
    "start_time": "2021-07-07T18:42:01.998Z"
   },
   {
    "duration": 175,
    "start_time": "2021-07-07T18:42:02.019Z"
   },
   {
    "duration": 134,
    "start_time": "2021-07-07T18:42:02.196Z"
   },
   {
    "duration": 10,
    "start_time": "2021-07-07T18:42:02.331Z"
   },
   {
    "duration": 19,
    "start_time": "2021-07-07T18:42:02.343Z"
   },
   {
    "duration": 628,
    "start_time": "2021-07-07T18:46:30.701Z"
   },
   {
    "duration": 183,
    "start_time": "2021-07-07T18:46:31.331Z"
   },
   {
    "duration": 48,
    "start_time": "2021-07-07T18:46:31.516Z"
   },
   {
    "duration": 5,
    "start_time": "2021-07-07T18:46:31.566Z"
   },
   {
    "duration": 28,
    "start_time": "2021-07-07T18:46:31.572Z"
   },
   {
    "duration": 8,
    "start_time": "2021-07-07T18:46:31.602Z"
   },
   {
    "duration": 19,
    "start_time": "2021-07-07T18:46:31.611Z"
   },
   {
    "duration": 6,
    "start_time": "2021-07-07T18:46:31.633Z"
   },
   {
    "duration": 17,
    "start_time": "2021-07-07T18:46:31.642Z"
   },
   {
    "duration": 10,
    "start_time": "2021-07-07T18:46:31.684Z"
   },
   {
    "duration": 9,
    "start_time": "2021-07-07T18:46:31.695Z"
   },
   {
    "duration": 28,
    "start_time": "2021-07-07T18:46:31.705Z"
   },
   {
    "duration": 18,
    "start_time": "2021-07-07T18:46:31.735Z"
   },
   {
    "duration": 48,
    "start_time": "2021-07-07T18:46:31.755Z"
   },
   {
    "duration": 6,
    "start_time": "2021-07-07T18:46:31.804Z"
   },
   {
    "duration": 4,
    "start_time": "2021-07-07T18:46:31.812Z"
   },
   {
    "duration": 9,
    "start_time": "2021-07-07T18:46:31.817Z"
   },
   {
    "duration": 10,
    "start_time": "2021-07-07T18:46:31.827Z"
   },
   {
    "duration": 12,
    "start_time": "2021-07-07T18:46:31.838Z"
   },
   {
    "duration": 39,
    "start_time": "2021-07-07T18:46:31.851Z"
   },
   {
    "duration": 24,
    "start_time": "2021-07-07T18:46:31.892Z"
   },
   {
    "duration": 15,
    "start_time": "2021-07-07T18:46:31.918Z"
   },
   {
    "duration": 7,
    "start_time": "2021-07-07T18:46:31.936Z"
   },
   {
    "duration": 8,
    "start_time": "2021-07-07T18:46:31.944Z"
   },
   {
    "duration": 19,
    "start_time": "2021-07-07T18:46:31.984Z"
   },
   {
    "duration": 10,
    "start_time": "2021-07-07T18:46:32.004Z"
   },
   {
    "duration": 5,
    "start_time": "2021-07-07T18:46:32.016Z"
   },
   {
    "duration": 9,
    "start_time": "2021-07-07T18:46:32.023Z"
   },
   {
    "duration": 199,
    "start_time": "2021-07-07T18:46:32.033Z"
   },
   {
    "duration": 19,
    "start_time": "2021-07-07T18:46:32.234Z"
   },
   {
    "duration": 159,
    "start_time": "2021-07-07T18:46:32.255Z"
   },
   {
    "duration": 134,
    "start_time": "2021-07-07T18:46:32.416Z"
   },
   {
    "duration": 10,
    "start_time": "2021-07-07T18:46:32.552Z"
   },
   {
    "duration": 34,
    "start_time": "2021-07-07T18:46:32.563Z"
   },
   {
    "duration": 1039,
    "start_time": "2021-07-08T08:41:09.419Z"
   },
   {
    "duration": 333,
    "start_time": "2021-07-08T08:41:10.459Z"
   },
   {
    "duration": 173,
    "start_time": "2021-07-08T08:41:10.794Z"
   },
   {
    "duration": 5,
    "start_time": "2021-07-08T08:41:10.968Z"
   },
   {
    "duration": 25,
    "start_time": "2021-07-08T08:41:10.975Z"
   },
   {
    "duration": 9,
    "start_time": "2021-07-08T08:41:11.002Z"
   },
   {
    "duration": 18,
    "start_time": "2021-07-08T08:41:11.013Z"
   },
   {
    "duration": 6,
    "start_time": "2021-07-08T08:41:11.033Z"
   },
   {
    "duration": 44,
    "start_time": "2021-07-08T08:41:11.042Z"
   },
   {
    "duration": 10,
    "start_time": "2021-07-08T08:41:11.088Z"
   },
   {
    "duration": 9,
    "start_time": "2021-07-08T08:41:11.100Z"
   },
   {
    "duration": 27,
    "start_time": "2021-07-08T08:41:11.111Z"
   },
   {
    "duration": 46,
    "start_time": "2021-07-08T08:41:11.140Z"
   },
   {
    "duration": 17,
    "start_time": "2021-07-08T08:41:11.187Z"
   },
   {
    "duration": 6,
    "start_time": "2021-07-08T08:41:11.206Z"
   },
   {
    "duration": 5,
    "start_time": "2021-07-08T08:41:11.213Z"
   },
   {
    "duration": 10,
    "start_time": "2021-07-08T08:41:11.219Z"
   },
   {
    "duration": 9,
    "start_time": "2021-07-08T08:41:11.230Z"
   },
   {
    "duration": 45,
    "start_time": "2021-07-08T08:41:11.241Z"
   },
   {
    "duration": 7,
    "start_time": "2021-07-08T08:41:11.287Z"
   },
   {
    "duration": 24,
    "start_time": "2021-07-08T08:41:11.296Z"
   },
   {
    "duration": 16,
    "start_time": "2021-07-08T08:41:11.322Z"
   },
   {
    "duration": 7,
    "start_time": "2021-07-08T08:41:11.341Z"
   },
   {
    "duration": 41,
    "start_time": "2021-07-08T08:41:11.349Z"
   },
   {
    "duration": 17,
    "start_time": "2021-07-08T08:41:11.391Z"
   },
   {
    "duration": 9,
    "start_time": "2021-07-08T08:41:11.410Z"
   },
   {
    "duration": 5,
    "start_time": "2021-07-08T08:41:11.421Z"
   },
   {
    "duration": 6,
    "start_time": "2021-07-08T08:41:11.428Z"
   },
   {
    "duration": 198,
    "start_time": "2021-07-08T08:41:11.435Z"
   },
   {
    "duration": 18,
    "start_time": "2021-07-08T08:41:11.635Z"
   },
   {
    "duration": 155,
    "start_time": "2021-07-08T08:41:11.655Z"
   },
   {
    "duration": 138,
    "start_time": "2021-07-08T08:41:11.811Z"
   },
   {
    "duration": 10,
    "start_time": "2021-07-08T08:41:11.950Z"
   },
   {
    "duration": 29,
    "start_time": "2021-07-08T08:41:11.961Z"
   },
   {
    "duration": 171,
    "start_time": "2021-07-08T08:47:44.522Z"
   },
   {
    "duration": 124,
    "start_time": "2021-07-08T08:47:46.872Z"
   },
   {
    "duration": 191,
    "start_time": "2021-07-08T08:47:58.148Z"
   },
   {
    "duration": 191,
    "start_time": "2021-07-08T08:48:07.412Z"
   },
   {
    "duration": 261,
    "start_time": "2021-07-08T08:48:10.385Z"
   },
   {
    "duration": 255,
    "start_time": "2021-07-08T08:48:14.494Z"
   },
   {
    "duration": 219,
    "start_time": "2021-07-08T08:48:22.752Z"
   },
   {
    "duration": 173,
    "start_time": "2021-07-08T08:49:06.395Z"
   },
   {
    "duration": 180,
    "start_time": "2021-07-08T08:49:21.011Z"
   },
   {
    "duration": 6,
    "start_time": "2021-07-08T08:50:31.697Z"
   },
   {
    "duration": 10,
    "start_time": "2021-07-08T08:50:47.394Z"
   },
   {
    "duration": 11,
    "start_time": "2021-07-08T08:53:49.332Z"
   },
   {
    "duration": 171,
    "start_time": "2021-07-08T08:54:28.408Z"
   },
   {
    "duration": 636,
    "start_time": "2021-07-08T09:02:48.385Z"
   },
   {
    "duration": 227,
    "start_time": "2021-07-08T09:02:49.023Z"
   },
   {
    "duration": 104,
    "start_time": "2021-07-08T09:02:49.252Z"
   },
   {
    "duration": 5,
    "start_time": "2021-07-08T09:02:49.358Z"
   },
   {
    "duration": 27,
    "start_time": "2021-07-08T09:02:49.365Z"
   },
   {
    "duration": 8,
    "start_time": "2021-07-08T09:02:49.394Z"
   },
   {
    "duration": 18,
    "start_time": "2021-07-08T09:02:49.404Z"
   },
   {
    "duration": 6,
    "start_time": "2021-07-08T09:02:49.424Z"
   },
   {
    "duration": 11,
    "start_time": "2021-07-08T09:02:49.433Z"
   },
   {
    "duration": 13,
    "start_time": "2021-07-08T09:02:49.485Z"
   },
   {
    "duration": 9,
    "start_time": "2021-07-08T09:02:49.500Z"
   },
   {
    "duration": 38,
    "start_time": "2021-07-08T09:02:49.511Z"
   },
   {
    "duration": 42,
    "start_time": "2021-07-08T09:02:49.551Z"
   },
   {
    "duration": 21,
    "start_time": "2021-07-08T09:02:49.594Z"
   },
   {
    "duration": 6,
    "start_time": "2021-07-08T09:02:49.616Z"
   },
   {
    "duration": 3,
    "start_time": "2021-07-08T09:02:49.623Z"
   },
   {
    "duration": 9,
    "start_time": "2021-07-08T09:02:49.628Z"
   },
   {
    "duration": 52,
    "start_time": "2021-07-08T09:02:49.638Z"
   },
   {
    "duration": 11,
    "start_time": "2021-07-08T09:02:49.692Z"
   },
   {
    "duration": 8,
    "start_time": "2021-07-08T09:02:49.704Z"
   },
   {
    "duration": 27,
    "start_time": "2021-07-08T09:02:49.713Z"
   },
   {
    "duration": 59,
    "start_time": "2021-07-08T09:02:49.741Z"
   },
   {
    "duration": 8,
    "start_time": "2021-07-08T09:02:49.803Z"
   },
   {
    "duration": 14,
    "start_time": "2021-07-08T09:02:49.813Z"
   },
   {
    "duration": 20,
    "start_time": "2021-07-08T09:02:49.829Z"
   },
   {
    "duration": 44,
    "start_time": "2021-07-08T09:02:49.851Z"
   },
   {
    "duration": 14,
    "start_time": "2021-07-08T09:02:49.896Z"
   },
   {
    "duration": 221,
    "start_time": "2021-07-08T09:02:49.912Z"
   },
   {
    "duration": 6,
    "start_time": "2021-07-08T09:02:50.134Z"
   },
   {
    "duration": 206,
    "start_time": "2021-07-08T09:02:50.142Z"
   },
   {
    "duration": 19,
    "start_time": "2021-07-08T09:02:50.350Z"
   },
   {
    "duration": 21,
    "start_time": "2021-07-08T09:02:50.370Z"
   },
   {
    "duration": 20,
    "start_time": "2021-07-08T09:02:50.393Z"
   },
   {
    "duration": 5,
    "start_time": "2021-07-08T09:02:50.414Z"
   },
   {
    "duration": 5,
    "start_time": "2021-07-08T09:03:34.173Z"
   },
   {
    "duration": 6,
    "start_time": "2021-07-08T09:04:49.062Z"
   },
   {
    "duration": 9,
    "start_time": "2021-07-08T09:04:50.118Z"
   },
   {
    "duration": 14,
    "start_time": "2021-07-08T09:04:58.512Z"
   },
   {
    "duration": 9,
    "start_time": "2021-07-08T09:05:10.988Z"
   },
   {
    "duration": 11,
    "start_time": "2021-07-08T09:05:11.743Z"
   },
   {
    "duration": 7,
    "start_time": "2021-07-08T09:05:25.677Z"
   },
   {
    "duration": 13,
    "start_time": "2021-07-08T09:05:47.189Z"
   },
   {
    "duration": 13,
    "start_time": "2021-07-08T09:05:54.755Z"
   },
   {
    "duration": 4,
    "start_time": "2021-07-08T09:06:29.189Z"
   },
   {
    "duration": 244,
    "start_time": "2021-07-08T09:06:29.195Z"
   },
   {
    "duration": 91,
    "start_time": "2021-07-08T09:06:29.441Z"
   },
   {
    "duration": 4,
    "start_time": "2021-07-08T09:06:29.534Z"
   },
   {
    "duration": 28,
    "start_time": "2021-07-08T09:06:29.540Z"
   },
   {
    "duration": 6,
    "start_time": "2021-07-08T09:06:29.570Z"
   },
   {
    "duration": 18,
    "start_time": "2021-07-08T09:06:29.578Z"
   },
   {
    "duration": 5,
    "start_time": "2021-07-08T09:06:29.597Z"
   },
   {
    "duration": 13,
    "start_time": "2021-07-08T09:06:29.605Z"
   },
   {
    "duration": 8,
    "start_time": "2021-07-08T09:06:29.620Z"
   },
   {
    "duration": 7,
    "start_time": "2021-07-08T09:06:29.630Z"
   },
   {
    "duration": 63,
    "start_time": "2021-07-08T09:06:29.639Z"
   },
   {
    "duration": 17,
    "start_time": "2021-07-08T09:06:29.704Z"
   },
   {
    "duration": 20,
    "start_time": "2021-07-08T09:06:29.723Z"
   },
   {
    "duration": 6,
    "start_time": "2021-07-08T09:06:29.745Z"
   },
   {
    "duration": 3,
    "start_time": "2021-07-08T09:06:29.752Z"
   },
   {
    "duration": 7,
    "start_time": "2021-07-08T09:06:29.785Z"
   },
   {
    "duration": 11,
    "start_time": "2021-07-08T09:06:29.794Z"
   },
   {
    "duration": 15,
    "start_time": "2021-07-08T09:06:29.807Z"
   },
   {
    "duration": 8,
    "start_time": "2021-07-08T09:06:29.823Z"
   },
   {
    "duration": 70,
    "start_time": "2021-07-08T09:06:29.832Z"
   },
   {
    "duration": 17,
    "start_time": "2021-07-08T09:06:29.903Z"
   },
   {
    "duration": 9,
    "start_time": "2021-07-08T09:06:29.921Z"
   },
   {
    "duration": 9,
    "start_time": "2021-07-08T09:06:29.932Z"
   },
   {
    "duration": 57,
    "start_time": "2021-07-08T09:06:29.942Z"
   },
   {
    "duration": 11,
    "start_time": "2021-07-08T09:06:30.001Z"
   },
   {
    "duration": 19,
    "start_time": "2021-07-08T09:06:30.016Z"
   },
   {
    "duration": 217,
    "start_time": "2021-07-08T09:06:30.037Z"
   },
   {
    "duration": 6,
    "start_time": "2021-07-08T09:06:30.255Z"
   },
   {
    "duration": 205,
    "start_time": "2021-07-08T09:06:30.263Z"
   },
   {
    "duration": 27,
    "start_time": "2021-07-08T09:06:30.470Z"
   },
   {
    "duration": 11,
    "start_time": "2021-07-08T09:06:30.500Z"
   },
   {
    "duration": 31,
    "start_time": "2021-07-08T09:06:30.513Z"
   },
   {
    "duration": 18,
    "start_time": "2021-07-08T09:06:30.546Z"
   },
   {
    "duration": 11,
    "start_time": "2021-07-08T09:06:30.566Z"
   },
   {
    "duration": 19,
    "start_time": "2021-07-08T09:06:30.579Z"
   },
   {
    "duration": 20,
    "start_time": "2021-07-08T09:06:49.466Z"
   },
   {
    "duration": 9,
    "start_time": "2021-07-08T09:06:51.994Z"
   },
   {
    "duration": 20,
    "start_time": "2021-07-08T09:06:52.273Z"
   },
   {
    "duration": 246,
    "start_time": "2021-07-08T09:10:21.272Z"
   },
   {
    "duration": 84,
    "start_time": "2021-07-08T09:10:21.436Z"
   },
   {
    "duration": 7,
    "start_time": "2021-07-08T09:10:37.608Z"
   },
   {
    "duration": 189,
    "start_time": "2021-07-08T09:10:38.573Z"
   },
   {
    "duration": 185,
    "start_time": "2021-07-08T09:10:53.181Z"
   },
   {
    "duration": 11,
    "start_time": "2021-07-08T09:10:59.549Z"
   },
   {
    "duration": 42,
    "start_time": "2021-07-08T09:10:59.709Z"
   },
   {
    "duration": 12,
    "start_time": "2021-07-08T09:11:02.857Z"
   },
   {
    "duration": 28,
    "start_time": "2021-07-08T09:11:10.062Z"
   },
   {
    "duration": 249,
    "start_time": "2021-07-08T09:11:37.388Z"
   },
   {
    "duration": 232,
    "start_time": "2021-07-08T09:11:49.485Z"
   },
   {
    "duration": 453,
    "start_time": "2021-07-08T09:12:01.546Z"
   },
   {
    "duration": 440,
    "start_time": "2021-07-08T09:12:12.347Z"
   },
   {
    "duration": 213,
    "start_time": "2021-07-08T09:13:32.196Z"
   },
   {
    "duration": 172,
    "start_time": "2021-07-08T09:14:07.400Z"
   },
   {
    "duration": 185,
    "start_time": "2021-07-08T09:14:14.905Z"
   },
   {
    "duration": 209,
    "start_time": "2021-07-08T09:14:40.109Z"
   },
   {
    "duration": 201,
    "start_time": "2021-07-08T09:14:54.506Z"
   },
   {
    "duration": 622,
    "start_time": "2021-07-08T09:18:14.497Z"
   },
   {
    "duration": 220,
    "start_time": "2021-07-08T09:18:15.121Z"
   },
   {
    "duration": 79,
    "start_time": "2021-07-08T09:18:15.343Z"
   },
   {
    "duration": 4,
    "start_time": "2021-07-08T09:18:15.425Z"
   },
   {
    "duration": 24,
    "start_time": "2021-07-08T09:18:15.431Z"
   },
   {
    "duration": 8,
    "start_time": "2021-07-08T09:18:15.457Z"
   },
   {
    "duration": 16,
    "start_time": "2021-07-08T09:18:15.466Z"
   },
   {
    "duration": 5,
    "start_time": "2021-07-08T09:18:15.484Z"
   },
   {
    "duration": 10,
    "start_time": "2021-07-08T09:18:15.493Z"
   },
   {
    "duration": 8,
    "start_time": "2021-07-08T09:18:15.504Z"
   },
   {
    "duration": 7,
    "start_time": "2021-07-08T09:18:15.513Z"
   },
   {
    "duration": 26,
    "start_time": "2021-07-08T09:18:15.522Z"
   },
   {
    "duration": 49,
    "start_time": "2021-07-08T09:18:15.550Z"
   },
   {
    "duration": 21,
    "start_time": "2021-07-08T09:18:15.601Z"
   },
   {
    "duration": 8,
    "start_time": "2021-07-08T09:18:15.624Z"
   },
   {
    "duration": 3,
    "start_time": "2021-07-08T09:18:15.634Z"
   },
   {
    "duration": 8,
    "start_time": "2021-07-08T09:18:15.639Z"
   },
   {
    "duration": 45,
    "start_time": "2021-07-08T09:18:15.649Z"
   },
   {
    "duration": 13,
    "start_time": "2021-07-08T09:18:15.696Z"
   },
   {
    "duration": 10,
    "start_time": "2021-07-08T09:18:15.711Z"
   },
   {
    "duration": 64,
    "start_time": "2021-07-08T09:18:15.722Z"
   },
   {
    "duration": 19,
    "start_time": "2021-07-08T09:18:15.788Z"
   },
   {
    "duration": 9,
    "start_time": "2021-07-08T09:18:15.809Z"
   },
   {
    "duration": 9,
    "start_time": "2021-07-08T09:18:15.820Z"
   },
   {
    "duration": 18,
    "start_time": "2021-07-08T09:18:15.831Z"
   },
   {
    "duration": 43,
    "start_time": "2021-07-08T09:18:15.851Z"
   },
   {
    "duration": 12,
    "start_time": "2021-07-08T09:18:15.897Z"
   },
   {
    "duration": 219,
    "start_time": "2021-07-08T09:18:15.911Z"
   },
   {
    "duration": 8,
    "start_time": "2021-07-08T09:18:16.132Z"
   },
   {
    "duration": 199,
    "start_time": "2021-07-08T09:18:16.141Z"
   },
   {
    "duration": 18,
    "start_time": "2021-07-08T09:18:16.341Z"
   },
   {
    "duration": 24,
    "start_time": "2021-07-08T09:18:16.361Z"
   },
   {
    "duration": 24,
    "start_time": "2021-07-08T09:18:16.387Z"
   },
   {
    "duration": 211,
    "start_time": "2021-07-08T09:18:16.413Z"
   },
   {
    "duration": 18,
    "start_time": "2021-07-08T09:18:16.626Z"
   },
   {
    "duration": 596,
    "start_time": "2021-07-08T10:06:33.623Z"
   },
   {
    "duration": 181,
    "start_time": "2021-07-08T10:06:34.221Z"
   },
   {
    "duration": 176,
    "start_time": "2021-07-08T10:06:34.635Z"
   },
   {
    "duration": 239,
    "start_time": "2021-07-08T10:06:55.572Z"
   },
   {
    "duration": 6,
    "start_time": "2021-07-08T10:06:57.687Z"
   },
   {
    "duration": 4,
    "start_time": "2021-07-08T10:07:03.956Z"
   },
   {
    "duration": 4,
    "start_time": "2021-07-08T10:07:10.376Z"
   },
   {
    "duration": 4,
    "start_time": "2021-07-08T10:17:19.889Z"
   },
   {
    "duration": 3,
    "start_time": "2021-07-08T10:19:19.407Z"
   },
   {
    "duration": 197,
    "start_time": "2021-07-08T10:19:19.412Z"
   },
   {
    "duration": 127,
    "start_time": "2021-07-08T10:19:19.611Z"
   },
   {
    "duration": 4,
    "start_time": "2021-07-08T10:19:19.740Z"
   },
   {
    "duration": 27,
    "start_time": "2021-07-08T10:19:19.746Z"
   },
   {
    "duration": 7,
    "start_time": "2021-07-08T10:19:19.775Z"
   },
   {
    "duration": 30,
    "start_time": "2021-07-08T10:19:19.784Z"
   },
   {
    "duration": 7,
    "start_time": "2021-07-08T10:19:19.817Z"
   },
   {
    "duration": 26,
    "start_time": "2021-07-08T10:19:19.826Z"
   },
   {
    "duration": 18,
    "start_time": "2021-07-08T10:19:19.854Z"
   },
   {
    "duration": 14,
    "start_time": "2021-07-08T10:19:19.874Z"
   },
   {
    "duration": 48,
    "start_time": "2021-07-08T10:19:19.890Z"
   },
   {
    "duration": 17,
    "start_time": "2021-07-08T10:19:19.940Z"
   },
   {
    "duration": 38,
    "start_time": "2021-07-08T10:19:19.959Z"
   },
   {
    "duration": 8,
    "start_time": "2021-07-08T10:19:19.999Z"
   },
   {
    "duration": 15,
    "start_time": "2021-07-08T10:19:20.009Z"
   },
   {
    "duration": 22,
    "start_time": "2021-07-08T10:19:20.026Z"
   },
   {
    "duration": 10,
    "start_time": "2021-07-08T10:19:20.050Z"
   },
   {
    "duration": 10,
    "start_time": "2021-07-08T10:19:20.062Z"
   },
   {
    "duration": 20,
    "start_time": "2021-07-08T10:19:20.073Z"
   },
   {
    "duration": 29,
    "start_time": "2021-07-08T10:19:20.095Z"
   },
   {
    "duration": 17,
    "start_time": "2021-07-08T10:19:20.126Z"
   },
   {
    "duration": 40,
    "start_time": "2021-07-08T10:19:20.146Z"
   },
   {
    "duration": 15,
    "start_time": "2021-07-08T10:19:20.189Z"
   },
   {
    "duration": 19,
    "start_time": "2021-07-08T10:19:20.206Z"
   },
   {
    "duration": 10,
    "start_time": "2021-07-08T10:19:20.226Z"
   },
   {
    "duration": 11,
    "start_time": "2021-07-08T10:19:20.238Z"
   },
   {
    "duration": 297,
    "start_time": "2021-07-08T10:19:20.250Z"
   },
   {
    "duration": 6,
    "start_time": "2021-07-08T10:19:20.549Z"
   },
   {
    "duration": 191,
    "start_time": "2021-07-08T10:19:20.557Z"
   },
   {
    "duration": 19,
    "start_time": "2021-07-08T10:19:20.750Z"
   },
   {
    "duration": 20,
    "start_time": "2021-07-08T10:19:20.771Z"
   },
   {
    "duration": 15,
    "start_time": "2021-07-08T10:19:20.793Z"
   },
   {
    "duration": 222,
    "start_time": "2021-07-08T10:19:20.809Z"
   },
   {
    "duration": 20,
    "start_time": "2021-07-08T10:19:21.033Z"
   },
   {
    "duration": 27,
    "start_time": "2021-07-08T10:45:04.055Z"
   },
   {
    "duration": 8,
    "start_time": "2021-07-08T10:45:08.478Z"
   },
   {
    "duration": 8,
    "start_time": "2021-07-08T10:45:31.982Z"
   },
   {
    "duration": 10,
    "start_time": "2021-07-08T10:46:01.221Z"
   },
   {
    "duration": 17,
    "start_time": "2021-07-08T10:46:40.011Z"
   },
   {
    "duration": 193,
    "start_time": "2021-07-08T10:48:19.471Z"
   },
   {
    "duration": 225,
    "start_time": "2021-07-08T10:49:26.480Z"
   },
   {
    "duration": 204,
    "start_time": "2021-07-08T10:49:59.992Z"
   },
   {
    "duration": 435,
    "start_time": "2021-07-08T10:50:06.779Z"
   },
   {
    "duration": 199,
    "start_time": "2021-07-08T10:50:14.891Z"
   },
   {
    "duration": 204,
    "start_time": "2021-07-08T10:50:18.501Z"
   },
   {
    "duration": 244,
    "start_time": "2021-07-08T10:50:23.359Z"
   },
   {
    "duration": 192,
    "start_time": "2021-07-08T10:50:29.135Z"
   },
   {
    "duration": 218,
    "start_time": "2021-07-08T10:50:33.092Z"
   },
   {
    "duration": 207,
    "start_time": "2021-07-08T10:52:45.381Z"
   },
   {
    "duration": 5,
    "start_time": "2021-07-08T10:53:34.641Z"
   },
   {
    "duration": 196,
    "start_time": "2021-07-08T10:53:41.478Z"
   },
   {
    "duration": 43,
    "start_time": "2021-07-08T10:53:50.335Z"
   },
   {
    "duration": 32,
    "start_time": "2021-07-08T10:53:55.294Z"
   },
   {
    "duration": 55,
    "start_time": "2021-07-08T10:54:09.675Z"
   },
   {
    "duration": 16,
    "start_time": "2021-07-08T10:54:12.260Z"
   },
   {
    "duration": 15,
    "start_time": "2021-07-08T10:54:49.150Z"
   },
   {
    "duration": 20,
    "start_time": "2021-07-08T10:56:07.596Z"
   },
   {
    "duration": 16,
    "start_time": "2021-07-08T10:58:26.276Z"
   },
   {
    "duration": 22,
    "start_time": "2021-07-08T10:59:00.486Z"
   },
   {
    "duration": 18,
    "start_time": "2021-07-08T11:02:09.653Z"
   },
   {
    "duration": 10,
    "start_time": "2021-07-08T11:03:44.331Z"
   },
   {
    "duration": 10,
    "start_time": "2021-07-08T11:03:54.055Z"
   },
   {
    "duration": 12,
    "start_time": "2021-07-08T11:04:41.967Z"
   },
   {
    "duration": 24,
    "start_time": "2021-07-08T11:07:30.732Z"
   },
   {
    "duration": 6,
    "start_time": "2021-07-08T11:07:37.364Z"
   },
   {
    "duration": 16,
    "start_time": "2021-07-08T11:08:01.819Z"
   },
   {
    "duration": 17,
    "start_time": "2021-07-08T11:09:47.488Z"
   },
   {
    "duration": 246,
    "start_time": "2021-07-08T11:10:00.830Z"
   },
   {
    "duration": 18,
    "start_time": "2021-07-08T11:13:55.195Z"
   },
   {
    "duration": 204,
    "start_time": "2021-07-08T11:14:04.951Z"
   },
   {
    "duration": 19,
    "start_time": "2021-07-08T11:15:10.613Z"
   },
   {
    "duration": 680,
    "start_time": "2021-07-08T11:16:25.793Z"
   },
   {
    "duration": 451,
    "start_time": "2021-07-08T11:16:40.313Z"
   },
   {
    "duration": 469,
    "start_time": "2021-07-08T11:17:21.286Z"
   },
   {
    "duration": 20,
    "start_time": "2021-07-08T11:19:12.554Z"
   },
   {
    "duration": 35,
    "start_time": "2021-07-08T11:20:05.484Z"
   },
   {
    "duration": 53,
    "start_time": "2021-07-08T11:21:40.050Z"
   },
   {
    "duration": 13,
    "start_time": "2021-07-08T11:22:26.059Z"
   },
   {
    "duration": 19,
    "start_time": "2021-07-08T11:22:47.419Z"
   },
   {
    "duration": 25,
    "start_time": "2021-07-08T11:23:19.958Z"
   },
   {
    "duration": 29,
    "start_time": "2021-07-08T11:23:25.415Z"
   },
   {
    "duration": 10,
    "start_time": "2021-07-08T11:24:45.138Z"
   },
   {
    "duration": 19,
    "start_time": "2021-07-08T11:24:54.498Z"
   },
   {
    "duration": 12,
    "start_time": "2021-07-08T11:25:32.225Z"
   },
   {
    "duration": 19,
    "start_time": "2021-07-08T11:25:37.092Z"
   },
   {
    "duration": 17,
    "start_time": "2021-07-08T11:25:58.116Z"
   },
   {
    "duration": 15,
    "start_time": "2021-07-08T11:26:02.258Z"
   },
   {
    "duration": 8,
    "start_time": "2021-07-08T11:26:59.682Z"
   },
   {
    "duration": 184,
    "start_time": "2021-07-08T11:27:21.894Z"
   },
   {
    "duration": 8,
    "start_time": "2021-07-08T11:27:23.824Z"
   },
   {
    "duration": 202,
    "start_time": "2021-07-08T11:27:23.962Z"
   },
   {
    "duration": 360,
    "start_time": "2021-07-08T11:28:33.215Z"
   },
   {
    "duration": 231,
    "start_time": "2021-07-08T11:32:05.542Z"
   },
   {
    "duration": 607,
    "start_time": "2021-07-08T11:36:27.854Z"
   },
   {
    "duration": 241,
    "start_time": "2021-07-08T11:36:28.463Z"
   },
   {
    "duration": 67,
    "start_time": "2021-07-08T11:36:28.709Z"
   },
   {
    "duration": 5,
    "start_time": "2021-07-08T11:36:28.778Z"
   },
   {
    "duration": 32,
    "start_time": "2021-07-08T11:36:28.784Z"
   },
   {
    "duration": 11,
    "start_time": "2021-07-08T11:36:28.819Z"
   },
   {
    "duration": 20,
    "start_time": "2021-07-08T11:36:28.834Z"
   },
   {
    "duration": 36,
    "start_time": "2021-07-08T11:36:28.857Z"
   },
   {
    "duration": 16,
    "start_time": "2021-07-08T11:36:28.895Z"
   },
   {
    "duration": 14,
    "start_time": "2021-07-08T11:36:28.913Z"
   },
   {
    "duration": 9,
    "start_time": "2021-07-08T11:36:28.930Z"
   },
   {
    "duration": 55,
    "start_time": "2021-07-08T11:36:28.941Z"
   },
   {
    "duration": 27,
    "start_time": "2021-07-08T11:36:28.999Z"
   },
   {
    "duration": 30,
    "start_time": "2021-07-08T11:36:29.028Z"
   },
   {
    "duration": 31,
    "start_time": "2021-07-08T11:36:29.060Z"
   },
   {
    "duration": 3,
    "start_time": "2021-07-08T11:36:29.093Z"
   },
   {
    "duration": 12,
    "start_time": "2021-07-08T11:36:29.099Z"
   },
   {
    "duration": 11,
    "start_time": "2021-07-08T11:36:29.112Z"
   },
   {
    "duration": 12,
    "start_time": "2021-07-08T11:36:29.125Z"
   },
   {
    "duration": 9,
    "start_time": "2021-07-08T11:36:29.139Z"
   },
   {
    "duration": 31,
    "start_time": "2021-07-08T11:36:29.191Z"
   },
   {
    "duration": 17,
    "start_time": "2021-07-08T11:36:29.226Z"
   },
   {
    "duration": 7,
    "start_time": "2021-07-08T11:36:29.245Z"
   },
   {
    "duration": 10,
    "start_time": "2021-07-08T11:36:29.254Z"
   },
   {
    "duration": 30,
    "start_time": "2021-07-08T11:36:29.292Z"
   },
   {
    "duration": 11,
    "start_time": "2021-07-08T11:36:29.324Z"
   },
   {
    "duration": 11,
    "start_time": "2021-07-08T11:36:29.337Z"
   },
   {
    "duration": 230,
    "start_time": "2021-07-08T11:36:29.349Z"
   },
   {
    "duration": 13,
    "start_time": "2021-07-08T11:36:29.588Z"
   },
   {
    "duration": 205,
    "start_time": "2021-07-08T11:36:29.603Z"
   },
   {
    "duration": 20,
    "start_time": "2021-07-08T11:36:29.810Z"
   },
   {
    "duration": 9,
    "start_time": "2021-07-08T11:36:29.832Z"
   },
   {
    "duration": 16,
    "start_time": "2021-07-08T11:36:29.843Z"
   },
   {
    "duration": 283,
    "start_time": "2021-07-08T11:36:29.861Z"
   },
   {
    "duration": 50,
    "start_time": "2021-07-08T11:36:30.146Z"
   },
   {
    "duration": 14,
    "start_time": "2021-07-08T11:36:30.198Z"
   },
   {
    "duration": 11,
    "start_time": "2021-07-08T11:36:30.214Z"
   },
   {
    "duration": 245,
    "start_time": "2021-07-08T11:36:30.227Z"
   },
   {
    "duration": 439,
    "start_time": "2021-07-08T11:36:30.474Z"
   },
   {
    "duration": 210,
    "start_time": "2021-07-08T11:36:30.915Z"
   },
   {
    "duration": 15,
    "start_time": "2021-07-08T11:36:31.127Z"
   },
   {
    "duration": 17,
    "start_time": "2021-07-08T11:38:20.451Z"
   },
   {
    "duration": 642,
    "start_time": "2021-07-08T11:46:17.881Z"
   },
   {
    "duration": 210,
    "start_time": "2021-07-08T11:46:18.525Z"
   },
   {
    "duration": 104,
    "start_time": "2021-07-08T11:46:18.741Z"
   },
   {
    "duration": 8,
    "start_time": "2021-07-08T11:46:18.847Z"
   },
   {
    "duration": 25,
    "start_time": "2021-07-08T11:46:18.857Z"
   },
   {
    "duration": 14,
    "start_time": "2021-07-08T11:46:18.884Z"
   },
   {
    "duration": 22,
    "start_time": "2021-07-08T11:46:18.900Z"
   },
   {
    "duration": 5,
    "start_time": "2021-07-08T11:46:18.924Z"
   },
   {
    "duration": 13,
    "start_time": "2021-07-08T11:46:18.931Z"
   },
   {
    "duration": 45,
    "start_time": "2021-07-08T11:46:18.946Z"
   },
   {
    "duration": 12,
    "start_time": "2021-07-08T11:46:18.993Z"
   },
   {
    "duration": 38,
    "start_time": "2021-07-08T11:46:19.006Z"
   },
   {
    "duration": 50,
    "start_time": "2021-07-08T11:46:19.046Z"
   },
   {
    "duration": 29,
    "start_time": "2021-07-08T11:46:19.099Z"
   },
   {
    "duration": 7,
    "start_time": "2021-07-08T11:46:19.130Z"
   },
   {
    "duration": 3,
    "start_time": "2021-07-08T11:46:19.139Z"
   },
   {
    "duration": 11,
    "start_time": "2021-07-08T11:46:19.144Z"
   },
   {
    "duration": 40,
    "start_time": "2021-07-08T11:46:19.157Z"
   },
   {
    "duration": 15,
    "start_time": "2021-07-08T11:46:19.199Z"
   },
   {
    "duration": 10,
    "start_time": "2021-07-08T11:46:19.217Z"
   },
   {
    "duration": 68,
    "start_time": "2021-07-08T11:46:19.230Z"
   },
   {
    "duration": 17,
    "start_time": "2021-07-08T11:46:19.301Z"
   },
   {
    "duration": 7,
    "start_time": "2021-07-08T11:46:19.321Z"
   },
   {
    "duration": 11,
    "start_time": "2021-07-08T11:46:19.330Z"
   },
   {
    "duration": 59,
    "start_time": "2021-07-08T11:46:19.343Z"
   },
   {
    "duration": 17,
    "start_time": "2021-07-08T11:46:19.405Z"
   },
   {
    "duration": 16,
    "start_time": "2021-07-08T11:46:19.424Z"
   },
   {
    "duration": 252,
    "start_time": "2021-07-08T11:46:19.443Z"
   },
   {
    "duration": 9,
    "start_time": "2021-07-08T11:46:19.697Z"
   },
   {
    "duration": 224,
    "start_time": "2021-07-08T11:46:19.708Z"
   },
   {
    "duration": 21,
    "start_time": "2021-07-08T11:46:19.934Z"
   },
   {
    "duration": 9,
    "start_time": "2021-07-08T11:46:19.956Z"
   },
   {
    "duration": 32,
    "start_time": "2021-07-08T11:46:19.967Z"
   },
   {
    "duration": 288,
    "start_time": "2021-07-08T11:46:20.004Z"
   },
   {
    "duration": 23,
    "start_time": "2021-07-08T11:46:20.300Z"
   },
   {
    "duration": 11,
    "start_time": "2021-07-08T11:46:20.325Z"
   },
   {
    "duration": 11,
    "start_time": "2021-07-08T11:46:20.339Z"
   },
   {
    "duration": 259,
    "start_time": "2021-07-08T11:46:20.352Z"
   },
   {
    "duration": 438,
    "start_time": "2021-07-08T11:46:20.613Z"
   },
   {
    "duration": 207,
    "start_time": "2021-07-08T11:46:21.054Z"
   },
   {
    "duration": 27,
    "start_time": "2021-07-08T11:46:21.262Z"
   },
   {
    "duration": 19,
    "start_time": "2021-07-08T11:46:21.291Z"
   },
   {
    "duration": 820,
    "start_time": "2021-07-08T11:49:01.655Z"
   },
   {
    "duration": 372,
    "start_time": "2021-07-08T11:49:02.478Z"
   },
   {
    "duration": 98,
    "start_time": "2021-07-08T11:49:02.853Z"
   },
   {
    "duration": 6,
    "start_time": "2021-07-08T11:49:02.953Z"
   },
   {
    "duration": 39,
    "start_time": "2021-07-08T11:49:02.960Z"
   },
   {
    "duration": 9,
    "start_time": "2021-07-08T11:49:03.003Z"
   },
   {
    "duration": 23,
    "start_time": "2021-07-08T11:49:03.014Z"
   },
   {
    "duration": 6,
    "start_time": "2021-07-08T11:49:03.041Z"
   },
   {
    "duration": 20,
    "start_time": "2021-07-08T11:49:03.049Z"
   },
   {
    "duration": 18,
    "start_time": "2021-07-08T11:49:03.084Z"
   },
   {
    "duration": 14,
    "start_time": "2021-07-08T11:49:03.104Z"
   },
   {
    "duration": 39,
    "start_time": "2021-07-08T11:49:03.119Z"
   },
   {
    "duration": 38,
    "start_time": "2021-07-08T11:49:03.160Z"
   },
   {
    "duration": 26,
    "start_time": "2021-07-08T11:49:03.200Z"
   },
   {
    "duration": 7,
    "start_time": "2021-07-08T11:49:03.227Z"
   },
   {
    "duration": 4,
    "start_time": "2021-07-08T11:49:03.236Z"
   },
   {
    "duration": 15,
    "start_time": "2021-07-08T11:49:03.243Z"
   },
   {
    "duration": 21,
    "start_time": "2021-07-08T11:49:03.285Z"
   },
   {
    "duration": 17,
    "start_time": "2021-07-08T11:49:03.309Z"
   },
   {
    "duration": 10,
    "start_time": "2021-07-08T11:49:03.328Z"
   },
   {
    "duration": 65,
    "start_time": "2021-07-08T11:49:03.340Z"
   },
   {
    "duration": 18,
    "start_time": "2021-07-08T11:49:03.407Z"
   },
   {
    "duration": 8,
    "start_time": "2021-07-08T11:49:03.428Z"
   },
   {
    "duration": 15,
    "start_time": "2021-07-08T11:49:03.438Z"
   },
   {
    "duration": 40,
    "start_time": "2021-07-08T11:49:03.455Z"
   },
   {
    "duration": 12,
    "start_time": "2021-07-08T11:49:03.497Z"
   },
   {
    "duration": 29,
    "start_time": "2021-07-08T11:49:03.511Z"
   },
   {
    "duration": 285,
    "start_time": "2021-07-08T11:49:03.542Z"
   },
   {
    "duration": 8,
    "start_time": "2021-07-08T11:49:03.829Z"
   },
   {
    "duration": 227,
    "start_time": "2021-07-08T11:49:03.838Z"
   },
   {
    "duration": 40,
    "start_time": "2021-07-08T11:49:04.066Z"
   },
   {
    "duration": 10,
    "start_time": "2021-07-08T11:49:04.108Z"
   },
   {
    "duration": 26,
    "start_time": "2021-07-08T11:49:04.121Z"
   },
   {
    "duration": 290,
    "start_time": "2021-07-08T11:49:04.149Z"
   },
   {
    "duration": 26,
    "start_time": "2021-07-08T11:49:04.441Z"
   },
   {
    "duration": 31,
    "start_time": "2021-07-08T11:49:04.470Z"
   },
   {
    "duration": 14,
    "start_time": "2021-07-08T11:49:04.503Z"
   },
   {
    "duration": 259,
    "start_time": "2021-07-08T11:49:04.521Z"
   },
   {
    "duration": 480,
    "start_time": "2021-07-08T11:49:04.782Z"
   },
   {
    "duration": 225,
    "start_time": "2021-07-08T11:49:05.264Z"
   },
   {
    "duration": 22,
    "start_time": "2021-07-08T11:49:05.491Z"
   },
   {
    "duration": 24,
    "start_time": "2021-07-08T11:49:05.515Z"
   },
   {
    "duration": 634,
    "start_time": "2021-07-08T11:52:24.960Z"
   },
   {
    "duration": 199,
    "start_time": "2021-07-08T11:52:25.599Z"
   },
   {
    "duration": 106,
    "start_time": "2021-07-08T11:52:25.803Z"
   },
   {
    "duration": 7,
    "start_time": "2021-07-08T11:52:25.911Z"
   },
   {
    "duration": 29,
    "start_time": "2021-07-08T11:52:25.920Z"
   },
   {
    "duration": 7,
    "start_time": "2021-07-08T11:52:25.951Z"
   },
   {
    "duration": 26,
    "start_time": "2021-07-08T11:52:25.961Z"
   },
   {
    "duration": 11,
    "start_time": "2021-07-08T11:52:25.990Z"
   },
   {
    "duration": 29,
    "start_time": "2021-07-08T11:52:26.005Z"
   },
   {
    "duration": 9,
    "start_time": "2021-07-08T11:52:26.036Z"
   },
   {
    "duration": 8,
    "start_time": "2021-07-08T11:52:26.047Z"
   },
   {
    "duration": 63,
    "start_time": "2021-07-08T11:52:26.057Z"
   },
   {
    "duration": 17,
    "start_time": "2021-07-08T11:52:26.122Z"
   },
   {
    "duration": 43,
    "start_time": "2021-07-08T11:52:26.142Z"
   },
   {
    "duration": 17,
    "start_time": "2021-07-08T11:52:26.187Z"
   },
   {
    "duration": 5,
    "start_time": "2021-07-08T11:52:26.206Z"
   },
   {
    "duration": 12,
    "start_time": "2021-07-08T11:52:26.212Z"
   },
   {
    "duration": 11,
    "start_time": "2021-07-08T11:52:26.226Z"
   },
   {
    "duration": 12,
    "start_time": "2021-07-08T11:52:26.238Z"
   },
   {
    "duration": 38,
    "start_time": "2021-07-08T11:52:26.252Z"
   },
   {
    "duration": 40,
    "start_time": "2021-07-08T11:52:26.292Z"
   },
   {
    "duration": 17,
    "start_time": "2021-07-08T11:52:26.336Z"
   },
   {
    "duration": 39,
    "start_time": "2021-07-08T11:52:26.355Z"
   },
   {
    "duration": 11,
    "start_time": "2021-07-08T11:52:26.395Z"
   },
   {
    "duration": 23,
    "start_time": "2021-07-08T11:52:26.408Z"
   },
   {
    "duration": 12,
    "start_time": "2021-07-08T11:52:26.432Z"
   },
   {
    "duration": 41,
    "start_time": "2021-07-08T11:52:26.446Z"
   },
   {
    "duration": 215,
    "start_time": "2021-07-08T11:52:26.493Z"
   },
   {
    "duration": 8,
    "start_time": "2021-07-08T11:52:26.710Z"
   },
   {
    "duration": 228,
    "start_time": "2021-07-08T11:52:26.720Z"
   },
   {
    "duration": 18,
    "start_time": "2021-07-08T11:52:26.950Z"
   },
   {
    "duration": 35,
    "start_time": "2021-07-08T11:52:26.969Z"
   },
   {
    "duration": 23,
    "start_time": "2021-07-08T11:52:27.006Z"
   },
   {
    "duration": 258,
    "start_time": "2021-07-08T11:52:27.030Z"
   },
   {
    "duration": 24,
    "start_time": "2021-07-08T11:52:27.290Z"
   },
   {
    "duration": 12,
    "start_time": "2021-07-08T11:52:27.316Z"
   },
   {
    "duration": 10,
    "start_time": "2021-07-08T11:52:27.329Z"
   },
   {
    "duration": 298,
    "start_time": "2021-07-08T11:52:27.341Z"
   },
   {
    "duration": 436,
    "start_time": "2021-07-08T11:52:27.641Z"
   },
   {
    "duration": 216,
    "start_time": "2021-07-08T11:52:28.079Z"
   },
   {
    "duration": 20,
    "start_time": "2021-07-08T11:52:28.297Z"
   },
   {
    "duration": 17,
    "start_time": "2021-07-08T11:52:28.319Z"
   },
   {
    "duration": 1149,
    "start_time": "2022-06-29T13:40:33.668Z"
   },
   {
    "duration": 103,
    "start_time": "2022-06-29T13:42:39.086Z"
   },
   {
    "duration": 62,
    "start_time": "2022-06-29T13:44:42.580Z"
   },
   {
    "duration": 142,
    "start_time": "2022-06-29T13:46:36.814Z"
   },
   {
    "duration": 12,
    "start_time": "2022-06-29T13:46:45.924Z"
   },
   {
    "duration": 312,
    "start_time": "2022-06-29T13:48:12.080Z"
   },
   {
    "duration": 555,
    "start_time": "2022-06-29T13:49:58.391Z"
   },
   {
    "duration": 8,
    "start_time": "2022-06-29T13:50:31.260Z"
   },
   {
    "duration": 14,
    "start_time": "2022-06-29T13:51:02.161Z"
   },
   {
    "duration": 17,
    "start_time": "2022-06-29T13:51:13.044Z"
   },
   {
    "duration": 12,
    "start_time": "2022-06-29T13:52:31.485Z"
   },
   {
    "duration": 9,
    "start_time": "2022-06-29T13:52:41.563Z"
   },
   {
    "duration": 16,
    "start_time": "2022-06-29T13:53:39.364Z"
   },
   {
    "duration": 3,
    "start_time": "2022-06-29T13:59:16.265Z"
   },
   {
    "duration": 5,
    "start_time": "2022-06-29T13:59:38.576Z"
   },
   {
    "duration": 22,
    "start_time": "2022-06-29T14:02:21.901Z"
   },
   {
    "duration": 8,
    "start_time": "2022-06-29T14:02:30.241Z"
   },
   {
    "duration": 42,
    "start_time": "2022-06-29T14:02:39.870Z"
   },
   {
    "duration": 30,
    "start_time": "2022-06-29T14:02:50.778Z"
   },
   {
    "duration": 4,
    "start_time": "2022-06-29T14:04:21.363Z"
   },
   {
    "duration": 24,
    "start_time": "2022-06-29T14:04:24.487Z"
   },
   {
    "duration": 18,
    "start_time": "2022-06-29T14:08:52.913Z"
   },
   {
    "duration": 39,
    "start_time": "2022-06-29T14:09:07.418Z"
   },
   {
    "duration": 7,
    "start_time": "2022-06-29T14:13:09.105Z"
   },
   {
    "duration": 7,
    "start_time": "2022-06-29T14:13:41.150Z"
   },
   {
    "duration": 6,
    "start_time": "2022-06-29T14:13:59.044Z"
   },
   {
    "duration": 6,
    "start_time": "2022-06-29T14:14:14.480Z"
   },
   {
    "duration": 8,
    "start_time": "2022-06-29T14:14:46.683Z"
   },
   {
    "duration": 7,
    "start_time": "2022-06-29T14:16:12.390Z"
   },
   {
    "duration": 7,
    "start_time": "2022-06-29T14:16:18.189Z"
   },
   {
    "duration": 8,
    "start_time": "2022-06-29T14:16:50.635Z"
   },
   {
    "duration": 10,
    "start_time": "2022-06-29T14:18:55.367Z"
   },
   {
    "duration": 30,
    "start_time": "2022-06-29T14:20:14.760Z"
   },
   {
    "duration": 13,
    "start_time": "2022-06-29T14:20:42.673Z"
   },
   {
    "duration": 268,
    "start_time": "2022-06-29T14:21:19.133Z"
   },
   {
    "duration": 19,
    "start_time": "2022-06-29T14:21:29.385Z"
   },
   {
    "duration": 12,
    "start_time": "2022-06-29T14:21:45.232Z"
   },
   {
    "duration": 11,
    "start_time": "2022-06-29T14:22:40.166Z"
   },
   {
    "duration": 17,
    "start_time": "2022-06-29T14:33:46.600Z"
   },
   {
    "duration": 19,
    "start_time": "2022-06-29T14:38:21.314Z"
   },
   {
    "duration": 25,
    "start_time": "2022-06-29T14:38:46.796Z"
   },
   {
    "duration": 3,
    "start_time": "2022-06-29T14:40:12.523Z"
   },
   {
    "duration": 105,
    "start_time": "2022-06-29T14:40:12.529Z"
   },
   {
    "duration": 30,
    "start_time": "2022-06-29T14:40:12.636Z"
   },
   {
    "duration": 12,
    "start_time": "2022-06-29T14:40:12.668Z"
   },
   {
    "duration": 7,
    "start_time": "2022-06-29T14:40:12.683Z"
   },
   {
    "duration": 19,
    "start_time": "2022-06-29T14:40:12.692Z"
   },
   {
    "duration": 5,
    "start_time": "2022-06-29T14:40:12.713Z"
   },
   {
    "duration": 47,
    "start_time": "2022-06-29T14:40:12.720Z"
   },
   {
    "duration": 19,
    "start_time": "2022-06-29T14:40:12.768Z"
   },
   {
    "duration": 30,
    "start_time": "2022-06-29T14:40:12.789Z"
   },
   {
    "duration": 9,
    "start_time": "2022-06-29T14:40:12.822Z"
   },
   {
    "duration": 35,
    "start_time": "2022-06-29T14:40:12.833Z"
   },
   {
    "duration": 17,
    "start_time": "2022-06-29T14:40:15.703Z"
   },
   {
    "duration": 40,
    "start_time": "2022-06-29T14:40:26.989Z"
   },
   {
    "duration": 37,
    "start_time": "2022-06-29T14:40:28.244Z"
   },
   {
    "duration": 12,
    "start_time": "2022-06-29T14:40:39.327Z"
   },
   {
    "duration": 8,
    "start_time": "2022-06-29T14:40:44.480Z"
   },
   {
    "duration": 12,
    "start_time": "2022-06-29T14:40:48.075Z"
   },
   {
    "duration": 23,
    "start_time": "2022-06-29T14:40:53.488Z"
   },
   {
    "duration": 15,
    "start_time": "2022-06-29T14:41:09.212Z"
   },
   {
    "duration": 13,
    "start_time": "2022-06-29T14:41:13.051Z"
   },
   {
    "duration": 9,
    "start_time": "2022-06-29T14:42:28.749Z"
   },
   {
    "duration": 32,
    "start_time": "2022-06-29T16:31:51.562Z"
   },
   {
    "duration": 28,
    "start_time": "2022-06-29T16:32:11.774Z"
   },
   {
    "duration": 21,
    "start_time": "2022-06-29T16:33:38.990Z"
   },
   {
    "duration": 21,
    "start_time": "2022-06-29T16:34:18.509Z"
   },
   {
    "duration": 25,
    "start_time": "2022-06-29T16:37:15.252Z"
   },
   {
    "duration": 17,
    "start_time": "2022-06-29T16:37:45.683Z"
   },
   {
    "duration": 12,
    "start_time": "2022-06-29T16:37:51.268Z"
   },
   {
    "duration": 14,
    "start_time": "2022-06-29T16:38:14.240Z"
   },
   {
    "duration": 16,
    "start_time": "2022-06-29T16:38:21.540Z"
   },
   {
    "duration": 12,
    "start_time": "2022-06-29T16:38:44.270Z"
   },
   {
    "duration": 15,
    "start_time": "2022-06-29T16:41:57.206Z"
   },
   {
    "duration": 21,
    "start_time": "2022-06-29T17:08:53.316Z"
   },
   {
    "duration": 19,
    "start_time": "2022-06-29T17:09:20.078Z"
   },
   {
    "duration": 4,
    "start_time": "2022-06-29T17:15:37.037Z"
   },
   {
    "duration": 11,
    "start_time": "2022-06-29T17:16:04.261Z"
   },
   {
    "duration": 3,
    "start_time": "2022-06-29T17:16:15.148Z"
   },
   {
    "duration": 191,
    "start_time": "2022-06-29T17:16:15.153Z"
   },
   {
    "duration": 36,
    "start_time": "2022-06-29T17:16:15.347Z"
   },
   {
    "duration": 10,
    "start_time": "2022-06-29T17:16:15.385Z"
   },
   {
    "duration": 8,
    "start_time": "2022-06-29T17:16:15.397Z"
   },
   {
    "duration": 10,
    "start_time": "2022-06-29T17:16:15.407Z"
   },
   {
    "duration": 6,
    "start_time": "2022-06-29T17:16:15.420Z"
   },
   {
    "duration": 17,
    "start_time": "2022-06-29T17:16:15.428Z"
   },
   {
    "duration": 15,
    "start_time": "2022-06-29T17:16:15.459Z"
   },
   {
    "duration": 36,
    "start_time": "2022-06-29T17:16:15.476Z"
   },
   {
    "duration": 8,
    "start_time": "2022-06-29T17:16:15.514Z"
   },
   {
    "duration": 15,
    "start_time": "2022-06-29T17:16:15.524Z"
   },
   {
    "duration": 16,
    "start_time": "2022-06-29T17:16:15.558Z"
   },
   {
    "duration": 14,
    "start_time": "2022-06-29T17:16:15.577Z"
   },
   {
    "duration": 13,
    "start_time": "2022-06-29T17:16:15.593Z"
   },
   {
    "duration": 11,
    "start_time": "2022-06-29T17:16:56.647Z"
   },
   {
    "duration": 4,
    "start_time": "2022-06-29T17:24:36.039Z"
   },
   {
    "duration": 11,
    "start_time": "2022-06-29T17:24:40.320Z"
   },
   {
    "duration": 19,
    "start_time": "2022-06-29T17:24:56.969Z"
   },
   {
    "duration": 18,
    "start_time": "2022-06-29T17:26:37.466Z"
   },
   {
    "duration": 9,
    "start_time": "2022-06-29T17:28:08.872Z"
   },
   {
    "duration": 11,
    "start_time": "2022-06-29T17:28:22.266Z"
   },
   {
    "duration": 9,
    "start_time": "2022-06-29T17:28:25.045Z"
   },
   {
    "duration": 21,
    "start_time": "2022-06-29T17:28:40.280Z"
   },
   {
    "duration": 20,
    "start_time": "2022-06-29T17:29:03.599Z"
   },
   {
    "duration": 7,
    "start_time": "2022-06-29T17:31:47.579Z"
   },
   {
    "duration": 8,
    "start_time": "2022-06-29T17:34:56.359Z"
   },
   {
    "duration": 7,
    "start_time": "2022-06-29T17:35:07.389Z"
   },
   {
    "duration": 26,
    "start_time": "2022-06-29T17:36:45.479Z"
   },
   {
    "duration": 5,
    "start_time": "2022-06-29T17:37:18.101Z"
   },
   {
    "duration": 15,
    "start_time": "2022-06-29T17:37:34.741Z"
   },
   {
    "duration": 19,
    "start_time": "2022-06-29T17:38:06.530Z"
   },
   {
    "duration": 24,
    "start_time": "2022-06-29T17:38:51.923Z"
   },
   {
    "duration": 17,
    "start_time": "2022-06-29T17:42:05.040Z"
   },
   {
    "duration": 24,
    "start_time": "2022-06-29T17:42:36.375Z"
   },
   {
    "duration": 1189,
    "start_time": "2022-06-29T17:43:13.011Z"
   },
   {
    "duration": 8,
    "start_time": "2022-06-29T17:44:24.194Z"
   },
   {
    "duration": 44,
    "start_time": "2022-06-29T17:44:33.716Z"
   },
   {
    "duration": 19,
    "start_time": "2022-06-29T17:44:48.715Z"
   },
   {
    "duration": 6,
    "start_time": "2022-06-29T18:00:47.132Z"
   },
   {
    "duration": 8,
    "start_time": "2022-06-29T18:01:38.220Z"
   },
   {
    "duration": 6,
    "start_time": "2022-06-29T18:02:05.854Z"
   },
   {
    "duration": 7,
    "start_time": "2022-06-29T18:03:27.923Z"
   },
   {
    "duration": 8,
    "start_time": "2022-06-29T18:19:38.632Z"
   },
   {
    "duration": 6,
    "start_time": "2022-06-29T18:20:46.713Z"
   },
   {
    "duration": 7,
    "start_time": "2022-06-29T18:21:13.799Z"
   },
   {
    "duration": 8,
    "start_time": "2022-06-29T18:22:55.732Z"
   },
   {
    "duration": 12,
    "start_time": "2022-06-29T18:24:35.169Z"
   },
   {
    "duration": 7,
    "start_time": "2022-06-29T18:25:12.609Z"
   },
   {
    "duration": 5,
    "start_time": "2022-06-29T18:29:50.177Z"
   },
   {
    "duration": 7,
    "start_time": "2022-06-29T18:29:52.173Z"
   },
   {
    "duration": 11,
    "start_time": "2022-06-29T18:30:11.323Z"
   },
   {
    "duration": 6,
    "start_time": "2022-06-29T18:30:13.619Z"
   },
   {
    "duration": 6,
    "start_time": "2022-06-29T18:30:36.982Z"
   },
   {
    "duration": 13,
    "start_time": "2022-06-29T18:34:33.012Z"
   },
   {
    "duration": 10,
    "start_time": "2022-06-29T18:34:49.917Z"
   },
   {
    "duration": 18,
    "start_time": "2022-06-29T18:34:59.194Z"
   },
   {
    "duration": 11,
    "start_time": "2022-06-29T18:35:07.649Z"
   },
   {
    "duration": 14,
    "start_time": "2022-06-29T18:35:19.027Z"
   },
   {
    "duration": 18,
    "start_time": "2022-06-29T18:35:34.458Z"
   },
   {
    "duration": 17,
    "start_time": "2022-06-29T18:35:38.982Z"
   },
   {
    "duration": 19,
    "start_time": "2022-06-29T18:37:10.416Z"
   },
   {
    "duration": 28,
    "start_time": "2022-06-29T18:37:56.024Z"
   },
   {
    "duration": 33,
    "start_time": "2022-06-29T18:42:55.886Z"
   },
   {
    "duration": 35,
    "start_time": "2022-06-29T18:45:31.120Z"
   },
   {
    "duration": 26,
    "start_time": "2022-06-29T18:47:29.367Z"
   },
   {
    "duration": 18,
    "start_time": "2022-06-29T18:47:41.445Z"
   },
   {
    "duration": 9,
    "start_time": "2022-06-29T18:48:11.043Z"
   },
   {
    "duration": 23,
    "start_time": "2022-06-29T18:48:18.368Z"
   },
   {
    "duration": 12,
    "start_time": "2022-06-29T18:48:24.181Z"
   },
   {
    "duration": 25,
    "start_time": "2022-06-29T18:48:31.902Z"
   },
   {
    "duration": 35,
    "start_time": "2022-06-29T18:48:47.902Z"
   },
   {
    "duration": 20,
    "start_time": "2022-06-29T18:50:03.297Z"
   },
   {
    "duration": 11,
    "start_time": "2022-06-29T18:53:34.853Z"
   },
   {
    "duration": 7,
    "start_time": "2022-06-29T18:58:51.430Z"
   },
   {
    "duration": 6,
    "start_time": "2022-06-29T18:59:24.407Z"
   },
   {
    "duration": 9,
    "start_time": "2022-06-29T18:59:50.598Z"
   },
   {
    "duration": 9,
    "start_time": "2022-06-29T18:59:55.487Z"
   },
   {
    "duration": 8,
    "start_time": "2022-06-29T19:00:25.620Z"
   },
   {
    "duration": 4,
    "start_time": "2022-06-29T19:00:46.865Z"
   },
   {
    "duration": 11,
    "start_time": "2022-06-29T19:01:09.490Z"
   },
   {
    "duration": 52,
    "start_time": "2022-06-29T19:03:05.329Z"
   },
   {
    "duration": 6,
    "start_time": "2022-06-29T19:03:12.580Z"
   },
   {
    "duration": 16,
    "start_time": "2022-06-29T19:04:05.223Z"
   },
   {
    "duration": 3,
    "start_time": "2022-06-29T19:08:33.783Z"
   },
   {
    "duration": 3,
    "start_time": "2022-06-29T19:08:35.679Z"
   },
   {
    "duration": 3,
    "start_time": "2022-06-29T19:08:54.006Z"
   },
   {
    "duration": 3,
    "start_time": "2022-06-29T19:09:04.684Z"
   },
   {
    "duration": 12,
    "start_time": "2022-06-29T19:09:09.793Z"
   },
   {
    "duration": 3,
    "start_time": "2022-06-29T19:14:03.717Z"
   },
   {
    "duration": 12,
    "start_time": "2022-06-29T19:14:06.010Z"
   },
   {
    "duration": 3,
    "start_time": "2022-06-29T19:14:15.459Z"
   },
   {
    "duration": 2,
    "start_time": "2022-06-29T19:14:22.109Z"
   },
   {
    "duration": 11,
    "start_time": "2022-06-29T19:14:23.918Z"
   },
   {
    "duration": 57,
    "start_time": "2022-06-29T19:15:09.516Z"
   },
   {
    "duration": 19,
    "start_time": "2022-06-29T19:15:12.922Z"
   },
   {
    "duration": 3,
    "start_time": "2022-06-29T19:17:26.961Z"
   },
   {
    "duration": 12,
    "start_time": "2022-06-29T19:17:29.286Z"
   },
   {
    "duration": 2,
    "start_time": "2022-06-29T19:18:31.600Z"
   },
   {
    "duration": 23,
    "start_time": "2022-06-29T19:35:26.683Z"
   },
   {
    "duration": 3,
    "start_time": "2022-06-29T19:35:31.299Z"
   },
   {
    "duration": 23,
    "start_time": "2022-06-29T19:35:33.370Z"
   },
   {
    "duration": 4,
    "start_time": "2022-06-29T19:39:18.280Z"
   },
   {
    "duration": 17,
    "start_time": "2022-06-29T19:39:27.776Z"
   },
   {
    "duration": 48,
    "start_time": "2022-06-29T19:39:38.134Z"
   },
   {
    "duration": 29,
    "start_time": "2022-06-29T19:39:46.501Z"
   },
   {
    "duration": 4,
    "start_time": "2022-06-29T19:39:58.838Z"
   },
   {
    "duration": 23,
    "start_time": "2022-06-29T19:40:30.932Z"
   },
   {
    "duration": 12,
    "start_time": "2022-06-29T21:00:31.016Z"
   },
   {
    "duration": 16,
    "start_time": "2022-06-29T21:01:08.349Z"
   },
   {
    "duration": 4,
    "start_time": "2022-06-29T21:01:43.003Z"
   },
   {
    "duration": 2,
    "start_time": "2022-06-29T21:02:00.005Z"
   },
   {
    "duration": 203,
    "start_time": "2022-06-29T21:02:00.009Z"
   },
   {
    "duration": 37,
    "start_time": "2022-06-29T21:02:00.214Z"
   },
   {
    "duration": 9,
    "start_time": "2022-06-29T21:02:00.253Z"
   },
   {
    "duration": 13,
    "start_time": "2022-06-29T21:02:00.263Z"
   },
   {
    "duration": 16,
    "start_time": "2022-06-29T21:02:00.278Z"
   },
   {
    "duration": 21,
    "start_time": "2022-06-29T21:02:00.295Z"
   },
   {
    "duration": 17,
    "start_time": "2022-06-29T21:02:00.317Z"
   },
   {
    "duration": 13,
    "start_time": "2022-06-29T21:02:00.338Z"
   },
   {
    "duration": 28,
    "start_time": "2022-06-29T21:02:00.352Z"
   },
   {
    "duration": 8,
    "start_time": "2022-06-29T21:02:00.381Z"
   },
   {
    "duration": 10,
    "start_time": "2022-06-29T21:02:00.390Z"
   },
   {
    "duration": 17,
    "start_time": "2022-06-29T21:02:00.402Z"
   },
   {
    "duration": 18,
    "start_time": "2022-06-29T21:02:00.421Z"
   },
   {
    "duration": 21,
    "start_time": "2022-06-29T21:02:00.459Z"
   },
   {
    "duration": 19,
    "start_time": "2022-06-29T21:02:00.482Z"
   },
   {
    "duration": 22,
    "start_time": "2022-06-29T21:02:00.503Z"
   },
   {
    "duration": 24,
    "start_time": "2022-06-29T21:02:00.527Z"
   },
   {
    "duration": 25,
    "start_time": "2022-06-29T21:02:00.553Z"
   },
   {
    "duration": 62,
    "start_time": "2022-06-29T21:02:00.580Z"
   },
   {
    "duration": 0,
    "start_time": "2022-06-29T21:02:00.644Z"
   },
   {
    "duration": 0,
    "start_time": "2022-06-29T21:02:00.645Z"
   },
   {
    "duration": 0,
    "start_time": "2022-06-29T21:02:00.646Z"
   },
   {
    "duration": 0,
    "start_time": "2022-06-29T21:02:00.648Z"
   },
   {
    "duration": 0,
    "start_time": "2022-06-29T21:02:00.649Z"
   },
   {
    "duration": 0,
    "start_time": "2022-06-29T21:02:00.650Z"
   },
   {
    "duration": 0,
    "start_time": "2022-06-29T21:02:00.651Z"
   },
   {
    "duration": 0,
    "start_time": "2022-06-29T21:02:00.652Z"
   },
   {
    "duration": 0,
    "start_time": "2022-06-29T21:02:00.654Z"
   },
   {
    "duration": 0,
    "start_time": "2022-06-29T21:02:00.655Z"
   },
   {
    "duration": 0,
    "start_time": "2022-06-29T21:02:00.656Z"
   },
   {
    "duration": 0,
    "start_time": "2022-06-29T21:02:00.657Z"
   },
   {
    "duration": 0,
    "start_time": "2022-06-29T21:02:00.658Z"
   },
   {
    "duration": 0,
    "start_time": "2022-06-29T21:02:00.659Z"
   },
   {
    "duration": 0,
    "start_time": "2022-06-29T21:02:00.660Z"
   },
   {
    "duration": 0,
    "start_time": "2022-06-29T21:02:00.661Z"
   },
   {
    "duration": 0,
    "start_time": "2022-06-29T21:02:00.662Z"
   },
   {
    "duration": 0,
    "start_time": "2022-06-29T21:02:00.663Z"
   },
   {
    "duration": 0,
    "start_time": "2022-06-29T21:02:00.665Z"
   },
   {
    "duration": 0,
    "start_time": "2022-06-29T21:02:00.665Z"
   },
   {
    "duration": 3,
    "start_time": "2022-06-29T21:02:23.998Z"
   },
   {
    "duration": 100,
    "start_time": "2022-06-29T21:02:24.004Z"
   },
   {
    "duration": 30,
    "start_time": "2022-06-29T21:02:24.105Z"
   },
   {
    "duration": 15,
    "start_time": "2022-06-29T21:02:24.136Z"
   },
   {
    "duration": 11,
    "start_time": "2022-06-29T21:02:24.158Z"
   },
   {
    "duration": 15,
    "start_time": "2022-06-29T21:02:24.171Z"
   },
   {
    "duration": 4,
    "start_time": "2022-06-29T21:02:24.188Z"
   },
   {
    "duration": 21,
    "start_time": "2022-06-29T21:02:24.193Z"
   },
   {
    "duration": 11,
    "start_time": "2022-06-29T21:02:24.216Z"
   },
   {
    "duration": 44,
    "start_time": "2022-06-29T21:02:24.229Z"
   },
   {
    "duration": 7,
    "start_time": "2022-06-29T21:02:24.275Z"
   },
   {
    "duration": 7,
    "start_time": "2022-06-29T21:02:24.283Z"
   },
   {
    "duration": 13,
    "start_time": "2022-06-29T21:02:24.293Z"
   },
   {
    "duration": 13,
    "start_time": "2022-06-29T21:02:24.308Z"
   },
   {
    "duration": 37,
    "start_time": "2022-06-29T21:02:24.323Z"
   },
   {
    "duration": 5,
    "start_time": "2022-06-29T21:02:24.361Z"
   },
   {
    "duration": 6,
    "start_time": "2022-06-29T21:02:24.367Z"
   },
   {
    "duration": 17,
    "start_time": "2022-06-29T21:02:24.375Z"
   },
   {
    "duration": 21,
    "start_time": "2022-06-29T21:02:24.393Z"
   },
   {
    "duration": 44,
    "start_time": "2022-06-29T21:02:24.416Z"
   },
   {
    "duration": 17,
    "start_time": "2022-06-29T21:02:24.462Z"
   },
   {
    "duration": 10,
    "start_time": "2022-06-29T21:02:24.481Z"
   },
   {
    "duration": 9,
    "start_time": "2022-06-29T21:02:24.493Z"
   },
   {
    "duration": 12,
    "start_time": "2022-06-29T21:02:24.504Z"
   },
   {
    "duration": 11,
    "start_time": "2022-06-29T21:02:24.517Z"
   },
   {
    "duration": 6,
    "start_time": "2022-06-29T21:02:24.559Z"
   },
   {
    "duration": 17,
    "start_time": "2022-06-29T21:02:24.567Z"
   },
   {
    "duration": 25,
    "start_time": "2022-06-29T21:02:24.586Z"
   },
   {
    "duration": 24,
    "start_time": "2022-06-29T21:02:24.612Z"
   },
   {
    "duration": 40,
    "start_time": "2022-06-29T21:02:24.638Z"
   },
   {
    "duration": 18,
    "start_time": "2022-06-29T21:02:24.679Z"
   },
   {
    "duration": 9,
    "start_time": "2022-06-29T21:02:24.699Z"
   },
   {
    "duration": 13,
    "start_time": "2022-06-29T21:02:24.710Z"
   },
   {
    "duration": 35,
    "start_time": "2022-06-29T21:02:24.724Z"
   },
   {
    "duration": 3,
    "start_time": "2022-06-29T21:02:24.760Z"
   },
   {
    "duration": 27,
    "start_time": "2022-06-29T21:02:24.764Z"
   },
   {
    "duration": 5,
    "start_time": "2022-06-29T21:02:24.794Z"
   },
   {
    "duration": 25,
    "start_time": "2022-06-29T21:02:24.800Z"
   },
   {
    "duration": 3,
    "start_time": "2022-06-29T21:02:24.827Z"
   },
   {
    "duration": 17,
    "start_time": "2022-06-29T21:08:12.035Z"
   },
   {
    "duration": 199,
    "start_time": "2022-06-29T21:08:27.384Z"
   },
   {
    "duration": 198,
    "start_time": "2022-06-29T21:08:38.632Z"
   },
   {
    "duration": 15,
    "start_time": "2022-06-29T21:09:03.364Z"
   },
   {
    "duration": 17,
    "start_time": "2022-06-29T21:09:33.930Z"
   },
   {
    "duration": 22,
    "start_time": "2022-06-29T21:09:45.302Z"
   },
   {
    "duration": 37,
    "start_time": "2022-06-29T21:12:44.296Z"
   },
   {
    "duration": 33,
    "start_time": "2022-06-29T21:13:21.625Z"
   },
   {
    "duration": 13,
    "start_time": "2022-06-29T21:13:28.300Z"
   },
   {
    "duration": 21,
    "start_time": "2022-06-29T21:13:40.359Z"
   },
   {
    "duration": 583,
    "start_time": "2022-06-29T21:14:47.792Z"
   },
   {
    "duration": 14,
    "start_time": "2022-06-29T21:15:45.797Z"
   },
   {
    "duration": 151,
    "start_time": "2022-06-29T21:15:50.046Z"
   },
   {
    "duration": 131,
    "start_time": "2022-06-29T21:16:25.187Z"
   },
   {
    "duration": 249,
    "start_time": "2022-06-29T21:17:53.858Z"
   },
   {
    "duration": 124,
    "start_time": "2022-06-29T21:18:13.380Z"
   },
   {
    "duration": 187,
    "start_time": "2022-06-29T21:18:37.367Z"
   },
   {
    "duration": 15,
    "start_time": "2022-06-29T21:19:31.252Z"
   },
   {
    "duration": 34,
    "start_time": "2022-06-29T21:22:11.364Z"
   },
   {
    "duration": 16,
    "start_time": "2022-06-29T21:22:30.498Z"
   },
   {
    "duration": 10,
    "start_time": "2022-06-29T21:24:08.840Z"
   },
   {
    "duration": 19,
    "start_time": "2022-06-29T21:24:23.342Z"
   },
   {
    "duration": 61,
    "start_time": "2022-06-29T21:26:25.280Z"
   },
   {
    "duration": 10,
    "start_time": "2022-06-29T21:26:37.241Z"
   },
   {
    "duration": 8,
    "start_time": "2022-06-29T21:27:12.625Z"
   },
   {
    "duration": 8,
    "start_time": "2022-06-29T21:27:39.446Z"
   },
   {
    "duration": 9,
    "start_time": "2022-06-29T21:27:51.914Z"
   },
   {
    "duration": 9,
    "start_time": "2022-06-29T21:27:56.396Z"
   },
   {
    "duration": 9,
    "start_time": "2022-06-29T21:28:05.767Z"
   },
   {
    "duration": 10,
    "start_time": "2022-06-29T21:30:21.585Z"
   },
   {
    "duration": 122,
    "start_time": "2022-06-29T21:30:48.265Z"
   },
   {
    "duration": 68,
    "start_time": "2022-06-29T21:34:12.283Z"
   },
   {
    "duration": 16,
    "start_time": "2022-06-29T21:34:17.807Z"
   },
   {
    "duration": 21,
    "start_time": "2022-06-29T21:34:45.154Z"
   },
   {
    "duration": 15,
    "start_time": "2022-06-29T21:35:03.956Z"
   },
   {
    "duration": 15,
    "start_time": "2022-06-29T21:35:24.402Z"
   },
   {
    "duration": 54,
    "start_time": "2022-06-29T21:36:46.661Z"
   },
   {
    "duration": 22,
    "start_time": "2022-06-29T21:37:19.472Z"
   },
   {
    "duration": 16,
    "start_time": "2022-06-29T21:37:45.964Z"
   },
   {
    "duration": 15,
    "start_time": "2022-06-29T21:38:07.028Z"
   },
   {
    "duration": 22,
    "start_time": "2022-06-29T21:38:37.425Z"
   },
   {
    "duration": 25,
    "start_time": "2022-06-29T21:41:08.132Z"
   },
   {
    "duration": 104,
    "start_time": "2022-06-29T21:41:44.664Z"
   },
   {
    "duration": 30,
    "start_time": "2022-06-29T21:42:02.968Z"
   },
   {
    "duration": 134,
    "start_time": "2022-06-29T21:43:48.959Z"
   },
   {
    "duration": 21,
    "start_time": "2022-06-29T21:47:55.513Z"
   },
   {
    "duration": 18,
    "start_time": "2022-06-29T21:49:00.599Z"
   },
   {
    "duration": 23,
    "start_time": "2022-06-29T21:49:32.754Z"
   },
   {
    "duration": 21,
    "start_time": "2022-06-29T21:50:05.942Z"
   },
   {
    "duration": 25,
    "start_time": "2022-06-29T21:50:14.471Z"
   },
   {
    "duration": 152,
    "start_time": "2022-06-29T21:50:33.488Z"
   },
   {
    "duration": 17,
    "start_time": "2022-06-29T21:50:55.365Z"
   },
   {
    "duration": 12,
    "start_time": "2022-06-29T21:51:23.406Z"
   },
   {
    "duration": 37,
    "start_time": "2022-06-29T21:51:27.347Z"
   },
   {
    "duration": 23,
    "start_time": "2022-06-29T21:51:54.658Z"
   },
   {
    "duration": 22,
    "start_time": "2022-06-29T21:52:09.731Z"
   },
   {
    "duration": 17,
    "start_time": "2022-06-29T21:52:44.806Z"
   },
   {
    "duration": 18,
    "start_time": "2022-06-29T21:59:07.536Z"
   },
   {
    "duration": 222,
    "start_time": "2022-06-29T22:00:05.468Z"
   },
   {
    "duration": 28,
    "start_time": "2022-06-29T22:01:43.417Z"
   },
   {
    "duration": 224,
    "start_time": "2022-06-29T22:02:38.234Z"
   },
   {
    "duration": 34,
    "start_time": "2022-06-29T22:04:50.730Z"
   },
   {
    "duration": 28,
    "start_time": "2022-06-29T22:05:50.161Z"
   },
   {
    "duration": 1054,
    "start_time": "2022-06-29T22:05:55.346Z"
   },
   {
    "duration": 31,
    "start_time": "2022-06-29T22:06:02.240Z"
   },
   {
    "duration": 643,
    "start_time": "2022-06-29T22:06:57.197Z"
   },
   {
    "duration": 36,
    "start_time": "2022-06-29T22:07:29.665Z"
   },
   {
    "duration": 524,
    "start_time": "2022-06-29T22:14:36.697Z"
   },
   {
    "duration": 220,
    "start_time": "2022-06-29T22:18:10.677Z"
   },
   {
    "duration": 209,
    "start_time": "2022-06-29T22:18:51.575Z"
   },
   {
    "duration": 235,
    "start_time": "2022-06-29T22:24:14.669Z"
   },
   {
    "duration": 176,
    "start_time": "2022-06-29T22:25:03.021Z"
   },
   {
    "duration": 325,
    "start_time": "2022-06-29T22:25:07.193Z"
   },
   {
    "duration": 24,
    "start_time": "2022-06-29T22:29:54.374Z"
   },
   {
    "duration": 34,
    "start_time": "2022-06-29T22:30:03.027Z"
   },
   {
    "duration": 23,
    "start_time": "2022-06-29T22:30:10.124Z"
   },
   {
    "duration": 5,
    "start_time": "2022-06-29T22:53:02.435Z"
   },
   {
    "duration": 19,
    "start_time": "2022-06-29T22:53:24.947Z"
   },
   {
    "duration": 14,
    "start_time": "2022-06-29T22:53:35.593Z"
   },
   {
    "duration": 32,
    "start_time": "2022-06-29T22:53:47.743Z"
   },
   {
    "duration": 43,
    "start_time": "2022-06-29T22:53:51.380Z"
   },
   {
    "duration": 13,
    "start_time": "2022-06-29T22:57:17.238Z"
   },
   {
    "duration": 211,
    "start_time": "2022-06-29T22:57:29.356Z"
   },
   {
    "duration": 171,
    "start_time": "2022-06-29T22:57:39.397Z"
   },
   {
    "duration": 173,
    "start_time": "2022-06-29T22:58:04.752Z"
   },
   {
    "duration": 5,
    "start_time": "2022-06-29T23:04:40.204Z"
   },
   {
    "duration": 5,
    "start_time": "2022-06-29T23:06:39.370Z"
   },
   {
    "duration": 25,
    "start_time": "2022-06-29T23:07:01.104Z"
   },
   {
    "duration": 160,
    "start_time": "2022-06-29T23:07:50.684Z"
   },
   {
    "duration": 162,
    "start_time": "2022-06-29T23:09:57.383Z"
   },
   {
    "duration": 192,
    "start_time": "2022-06-29T23:12:21.708Z"
   },
   {
    "duration": 19,
    "start_time": "2022-06-29T23:12:39.711Z"
   },
   {
    "duration": 30,
    "start_time": "2022-06-29T23:13:25.140Z"
   },
   {
    "duration": 172,
    "start_time": "2022-06-29T23:15:09.299Z"
   },
   {
    "duration": 381,
    "start_time": "2022-06-29T23:17:13.551Z"
   },
   {
    "duration": 23,
    "start_time": "2022-06-29T23:17:43.715Z"
   },
   {
    "duration": 42,
    "start_time": "2022-06-29T23:22:28.043Z"
   },
   {
    "duration": 5,
    "start_time": "2022-06-29T23:24:24.393Z"
   },
   {
    "duration": 11,
    "start_time": "2022-06-29T23:32:00.992Z"
   },
   {
    "duration": 10,
    "start_time": "2022-06-29T23:33:49.442Z"
   },
   {
    "duration": 34,
    "start_time": "2022-06-29T23:34:10.513Z"
   },
   {
    "duration": 33,
    "start_time": "2022-06-29T23:34:37.582Z"
   },
   {
    "duration": 34,
    "start_time": "2022-06-29T23:35:26.212Z"
   },
   {
    "duration": 87,
    "start_time": "2022-06-29T23:43:14.083Z"
   },
   {
    "duration": 4,
    "start_time": "2022-06-29T23:43:22.833Z"
   },
   {
    "duration": 31,
    "start_time": "2022-06-29T23:43:29.200Z"
   },
   {
    "duration": 3,
    "start_time": "2022-06-29T23:45:04.214Z"
   },
   {
    "duration": 44,
    "start_time": "2022-06-29T23:45:06.381Z"
   },
   {
    "duration": 4,
    "start_time": "2022-06-29T23:45:29.574Z"
   },
   {
    "duration": 35,
    "start_time": "2022-06-29T23:45:31.412Z"
   },
   {
    "duration": 3,
    "start_time": "2022-06-29T23:46:26.437Z"
   },
   {
    "duration": 108,
    "start_time": "2022-06-29T23:46:28.387Z"
   },
   {
    "duration": 5,
    "start_time": "2022-06-29T23:46:41.613Z"
   },
   {
    "duration": 3,
    "start_time": "2022-06-29T23:47:05.338Z"
   },
   {
    "duration": 110,
    "start_time": "2022-06-29T23:47:05.343Z"
   },
   {
    "duration": 39,
    "start_time": "2022-06-29T23:47:05.458Z"
   },
   {
    "duration": 8,
    "start_time": "2022-06-29T23:47:05.503Z"
   },
   {
    "duration": 7,
    "start_time": "2022-06-29T23:47:05.513Z"
   },
   {
    "duration": 12,
    "start_time": "2022-06-29T23:47:05.522Z"
   },
   {
    "duration": 4,
    "start_time": "2022-06-29T23:47:05.536Z"
   },
   {
    "duration": 29,
    "start_time": "2022-06-29T23:47:05.542Z"
   },
   {
    "duration": 19,
    "start_time": "2022-06-29T23:47:05.574Z"
   },
   {
    "duration": 27,
    "start_time": "2022-06-29T23:47:05.596Z"
   },
   {
    "duration": 35,
    "start_time": "2022-06-29T23:47:05.624Z"
   },
   {
    "duration": 10,
    "start_time": "2022-06-29T23:47:05.662Z"
   },
   {
    "duration": 17,
    "start_time": "2022-06-29T23:47:05.675Z"
   },
   {
    "duration": 5,
    "start_time": "2022-06-29T23:47:08.960Z"
   },
   {
    "duration": 109,
    "start_time": "2022-06-29T23:47:11.823Z"
   },
   {
    "duration": 8,
    "start_time": "2022-06-29T23:47:14.363Z"
   },
   {
    "duration": 4,
    "start_time": "2022-06-29T23:47:33.077Z"
   },
   {
    "duration": 149,
    "start_time": "2022-06-29T23:47:33.083Z"
   },
   {
    "duration": 40,
    "start_time": "2022-06-29T23:47:33.234Z"
   },
   {
    "duration": 9,
    "start_time": "2022-06-29T23:47:33.277Z"
   },
   {
    "duration": 10,
    "start_time": "2022-06-29T23:47:33.288Z"
   },
   {
    "duration": 17,
    "start_time": "2022-06-29T23:47:33.299Z"
   },
   {
    "duration": 10,
    "start_time": "2022-06-29T23:47:33.317Z"
   },
   {
    "duration": 15,
    "start_time": "2022-06-29T23:47:33.329Z"
   },
   {
    "duration": 13,
    "start_time": "2022-06-29T23:47:33.359Z"
   },
   {
    "duration": 29,
    "start_time": "2022-06-29T23:47:33.374Z"
   },
   {
    "duration": 7,
    "start_time": "2022-06-29T23:47:33.405Z"
   },
   {
    "duration": 10,
    "start_time": "2022-06-29T23:47:33.414Z"
   },
   {
    "duration": 35,
    "start_time": "2022-06-29T23:47:33.425Z"
   },
   {
    "duration": 12,
    "start_time": "2022-06-29T23:47:33.463Z"
   },
   {
    "duration": 111,
    "start_time": "2022-06-29T23:47:33.476Z"
   },
   {
    "duration": 6,
    "start_time": "2022-06-29T23:47:33.590Z"
   },
   {
    "duration": 13,
    "start_time": "2022-06-29T23:47:33.598Z"
   },
   {
    "duration": 8,
    "start_time": "2022-06-29T23:47:33.612Z"
   },
   {
    "duration": 11,
    "start_time": "2022-06-29T23:47:33.622Z"
   },
   {
    "duration": 30,
    "start_time": "2022-06-29T23:47:33.634Z"
   },
   {
    "duration": 14,
    "start_time": "2022-06-29T23:47:33.666Z"
   },
   {
    "duration": 22,
    "start_time": "2022-06-29T23:47:33.683Z"
   },
   {
    "duration": 26,
    "start_time": "2022-06-29T23:47:33.707Z"
   },
   {
    "duration": 34,
    "start_time": "2022-06-29T23:47:33.737Z"
   },
   {
    "duration": 23,
    "start_time": "2022-06-29T23:47:33.773Z"
   },
   {
    "duration": 12,
    "start_time": "2022-06-29T23:47:33.797Z"
   },
   {
    "duration": 15,
    "start_time": "2022-06-29T23:47:33.810Z"
   },
   {
    "duration": 27,
    "start_time": "2022-06-29T23:47:33.826Z"
   },
   {
    "duration": 22,
    "start_time": "2022-06-29T23:47:33.855Z"
   },
   {
    "duration": 9,
    "start_time": "2022-06-29T23:47:33.879Z"
   },
   {
    "duration": 25,
    "start_time": "2022-06-29T23:47:33.890Z"
   },
   {
    "duration": 40,
    "start_time": "2022-06-29T23:47:33.917Z"
   },
   {
    "duration": 39,
    "start_time": "2022-06-29T23:47:33.959Z"
   },
   {
    "duration": 21,
    "start_time": "2022-06-29T23:47:34.000Z"
   },
   {
    "duration": 26,
    "start_time": "2022-06-29T23:47:34.022Z"
   },
   {
    "duration": 30,
    "start_time": "2022-06-29T23:47:34.051Z"
   },
   {
    "duration": 20,
    "start_time": "2022-06-29T23:47:34.083Z"
   },
   {
    "duration": 23,
    "start_time": "2022-06-29T23:47:34.104Z"
   },
   {
    "duration": 16,
    "start_time": "2022-06-29T23:47:34.128Z"
   },
   {
    "duration": 50,
    "start_time": "2022-06-29T23:47:34.145Z"
   },
   {
    "duration": 9,
    "start_time": "2022-06-29T23:47:34.198Z"
   },
   {
    "duration": 38,
    "start_time": "2022-06-29T23:47:34.209Z"
   },
   {
    "duration": 5,
    "start_time": "2022-06-29T23:47:34.248Z"
   },
   {
    "duration": 51,
    "start_time": "2022-06-29T23:47:34.255Z"
   },
   {
    "duration": 7,
    "start_time": "2022-06-29T23:47:34.308Z"
   },
   {
    "duration": 158,
    "start_time": "2022-06-29T23:47:34.316Z"
   },
   {
    "duration": 328,
    "start_time": "2022-06-29T23:47:34.476Z"
   },
   {
    "duration": 22,
    "start_time": "2022-06-29T23:47:34.806Z"
   },
   {
    "duration": 50,
    "start_time": "2022-06-29T23:47:34.830Z"
   },
   {
    "duration": 19,
    "start_time": "2022-06-29T23:47:34.882Z"
   },
   {
    "duration": 21,
    "start_time": "2022-06-29T23:47:34.903Z"
   },
   {
    "duration": 272,
    "start_time": "2022-06-29T23:47:34.926Z"
   },
   {
    "duration": 44,
    "start_time": "2022-06-29T23:47:35.200Z"
   },
   {
    "duration": 190,
    "start_time": "2022-06-29T23:47:35.246Z"
   },
   {
    "duration": 5,
    "start_time": "2022-06-29T23:47:35.438Z"
   },
   {
    "duration": 186,
    "start_time": "2022-06-29T23:47:35.444Z"
   },
   {
    "duration": 19,
    "start_time": "2022-06-29T23:47:35.631Z"
   },
   {
    "duration": 19,
    "start_time": "2022-06-29T23:47:38.522Z"
   },
   {
    "duration": 12,
    "start_time": "2022-06-29T23:48:57.364Z"
   },
   {
    "duration": 101,
    "start_time": "2022-06-29T23:51:30.514Z"
   },
   {
    "duration": 53,
    "start_time": "2022-06-29T23:51:37.874Z"
   },
   {
    "duration": 5,
    "start_time": "2022-06-29T23:51:53.600Z"
   },
   {
    "duration": 10,
    "start_time": "2022-06-29T23:52:03.951Z"
   },
   {
    "duration": 34,
    "start_time": "2022-06-29T23:52:11.242Z"
   },
   {
    "duration": 13,
    "start_time": "2022-06-29T23:52:37.085Z"
   },
   {
    "duration": 8,
    "start_time": "2022-06-29T23:57:12.916Z"
   },
   {
    "duration": 15,
    "start_time": "2022-06-29T23:57:34.795Z"
   },
   {
    "duration": 4,
    "start_time": "2022-06-29T23:58:34.687Z"
   },
   {
    "duration": 107,
    "start_time": "2022-06-29T23:58:34.693Z"
   },
   {
    "duration": 29,
    "start_time": "2022-06-29T23:58:34.801Z"
   },
   {
    "duration": 8,
    "start_time": "2022-06-29T23:58:34.832Z"
   },
   {
    "duration": 10,
    "start_time": "2022-06-29T23:58:34.858Z"
   },
   {
    "duration": 34,
    "start_time": "2022-06-29T23:58:34.870Z"
   },
   {
    "duration": 4,
    "start_time": "2022-06-29T23:58:34.906Z"
   },
   {
    "duration": 15,
    "start_time": "2022-06-29T23:58:34.911Z"
   },
   {
    "duration": 12,
    "start_time": "2022-06-29T23:58:34.929Z"
   },
   {
    "duration": 43,
    "start_time": "2022-06-29T23:58:34.943Z"
   },
   {
    "duration": 15,
    "start_time": "2022-06-29T23:58:34.987Z"
   },
   {
    "duration": 8,
    "start_time": "2022-06-29T23:58:35.003Z"
   },
   {
    "duration": 6,
    "start_time": "2022-06-29T23:58:35.013Z"
   },
   {
    "duration": 7,
    "start_time": "2022-06-29T23:58:35.020Z"
   },
   {
    "duration": 121,
    "start_time": "2022-06-29T23:58:35.029Z"
   },
   {
    "duration": 5,
    "start_time": "2022-06-29T23:58:35.152Z"
   },
   {
    "duration": 44,
    "start_time": "2022-06-29T23:58:35.158Z"
   },
   {
    "duration": 9,
    "start_time": "2022-06-29T23:58:35.204Z"
   },
   {
    "duration": 10,
    "start_time": "2022-06-29T23:58:35.215Z"
   },
   {
    "duration": 8,
    "start_time": "2022-06-29T23:58:35.226Z"
   },
   {
    "duration": 9,
    "start_time": "2022-06-29T23:58:35.235Z"
   },
   {
    "duration": 30,
    "start_time": "2022-06-29T23:58:35.245Z"
   },
   {
    "duration": 25,
    "start_time": "2022-06-29T23:58:35.280Z"
   },
   {
    "duration": 19,
    "start_time": "2022-06-29T23:58:35.308Z"
   },
   {
    "duration": 34,
    "start_time": "2022-06-29T23:58:35.329Z"
   },
   {
    "duration": 12,
    "start_time": "2022-06-29T23:58:35.365Z"
   },
   {
    "duration": 24,
    "start_time": "2022-06-29T23:58:35.379Z"
   },
   {
    "duration": 11,
    "start_time": "2022-06-29T23:58:35.405Z"
   },
   {
    "duration": 8,
    "start_time": "2022-06-29T23:58:35.418Z"
   },
   {
    "duration": 6,
    "start_time": "2022-06-29T23:58:35.427Z"
   },
   {
    "duration": 26,
    "start_time": "2022-06-29T23:58:35.434Z"
   },
   {
    "duration": 28,
    "start_time": "2022-06-29T23:58:35.462Z"
   },
   {
    "duration": 23,
    "start_time": "2022-06-29T23:58:35.492Z"
   },
   {
    "duration": 20,
    "start_time": "2022-06-29T23:58:35.517Z"
   },
   {
    "duration": 40,
    "start_time": "2022-06-29T23:58:35.539Z"
   },
   {
    "duration": 17,
    "start_time": "2022-06-29T23:58:35.582Z"
   },
   {
    "duration": 11,
    "start_time": "2022-06-29T23:58:35.601Z"
   },
   {
    "duration": 5,
    "start_time": "2022-06-29T23:58:35.613Z"
   },
   {
    "duration": 5,
    "start_time": "2022-06-29T23:58:35.619Z"
   },
   {
    "duration": 44,
    "start_time": "2022-06-29T23:58:35.626Z"
   },
   {
    "duration": 10,
    "start_time": "2022-06-29T23:58:35.672Z"
   },
   {
    "duration": 33,
    "start_time": "2022-06-29T23:58:35.684Z"
   },
   {
    "duration": 3,
    "start_time": "2022-06-29T23:58:35.719Z"
   },
   {
    "duration": 16,
    "start_time": "2022-06-29T23:58:35.724Z"
   },
   {
    "duration": 29,
    "start_time": "2022-06-29T23:58:35.742Z"
   },
   {
    "duration": 137,
    "start_time": "2022-06-29T23:58:35.775Z"
   },
   {
    "duration": 160,
    "start_time": "2022-06-29T23:58:35.914Z"
   },
   {
    "duration": 22,
    "start_time": "2022-06-29T23:58:36.078Z"
   },
   {
    "duration": 21,
    "start_time": "2022-06-29T23:58:36.101Z"
   },
   {
    "duration": 16,
    "start_time": "2022-06-29T23:58:36.124Z"
   },
   {
    "duration": 51,
    "start_time": "2022-06-29T23:58:36.142Z"
   },
   {
    "duration": 243,
    "start_time": "2022-06-29T23:58:36.195Z"
   },
   {
    "duration": 58,
    "start_time": "2022-06-29T23:58:36.439Z"
   },
   {
    "duration": 186,
    "start_time": "2022-06-29T23:58:36.499Z"
   },
   {
    "duration": 6,
    "start_time": "2022-06-29T23:58:36.688Z"
   },
   {
    "duration": 160,
    "start_time": "2022-06-29T23:58:36.697Z"
   },
   {
    "duration": 32,
    "start_time": "2022-06-29T23:58:36.858Z"
   },
   {
    "duration": 14,
    "start_time": "2022-06-29T23:58:36.892Z"
   },
   {
    "duration": 13,
    "start_time": "2022-06-29T23:58:36.908Z"
   },
   {
    "duration": 12,
    "start_time": "2022-06-29T23:58:36.922Z"
   },
   {
    "duration": 8,
    "start_time": "2022-06-29T23:58:36.935Z"
   },
   {
    "duration": 9,
    "start_time": "2022-06-29T23:58:56.862Z"
   },
   {
    "duration": 11,
    "start_time": "2022-06-29T23:59:08.337Z"
   },
   {
    "duration": 4,
    "start_time": "2022-06-29T23:59:36.691Z"
   },
   {
    "duration": 12,
    "start_time": "2022-06-29T23:59:39.222Z"
   },
   {
    "duration": 25,
    "start_time": "2022-06-29T23:59:47.955Z"
   },
   {
    "duration": 22,
    "start_time": "2022-06-30T00:00:03.066Z"
   },
   {
    "duration": 14,
    "start_time": "2022-06-30T00:00:10.438Z"
   },
   {
    "duration": 59,
    "start_time": "2022-06-30T10:53:04.579Z"
   },
   {
    "duration": 1324,
    "start_time": "2022-06-30T10:53:08.829Z"
   },
   {
    "duration": 348,
    "start_time": "2022-06-30T10:53:10.155Z"
   },
   {
    "duration": 41,
    "start_time": "2022-06-30T10:53:10.505Z"
   },
   {
    "duration": 8,
    "start_time": "2022-06-30T10:53:10.548Z"
   },
   {
    "duration": 15,
    "start_time": "2022-06-30T10:53:10.558Z"
   },
   {
    "duration": 19,
    "start_time": "2022-06-30T10:53:10.575Z"
   },
   {
    "duration": 4,
    "start_time": "2022-06-30T10:53:10.596Z"
   },
   {
    "duration": 26,
    "start_time": "2022-06-30T10:53:10.601Z"
   },
   {
    "duration": 16,
    "start_time": "2022-06-30T10:53:10.628Z"
   },
   {
    "duration": 27,
    "start_time": "2022-06-30T10:53:10.645Z"
   },
   {
    "duration": 7,
    "start_time": "2022-06-30T10:53:10.674Z"
   },
   {
    "duration": 19,
    "start_time": "2022-06-30T10:53:10.683Z"
   },
   {
    "duration": 13,
    "start_time": "2022-06-30T10:53:10.703Z"
   },
   {
    "duration": 4,
    "start_time": "2022-06-30T10:53:10.725Z"
   },
   {
    "duration": 109,
    "start_time": "2022-06-30T10:53:10.730Z"
   },
   {
    "duration": 6,
    "start_time": "2022-06-30T10:53:10.841Z"
   },
   {
    "duration": 14,
    "start_time": "2022-06-30T10:53:10.849Z"
   },
   {
    "duration": 8,
    "start_time": "2022-06-30T10:53:10.864Z"
   },
   {
    "duration": 11,
    "start_time": "2022-06-30T10:53:10.873Z"
   },
   {
    "duration": 4,
    "start_time": "2022-06-30T10:53:10.886Z"
   },
   {
    "duration": 13,
    "start_time": "2022-06-30T10:53:10.891Z"
   },
   {
    "duration": 15,
    "start_time": "2022-06-30T10:53:10.925Z"
   },
   {
    "duration": 21,
    "start_time": "2022-06-30T10:53:10.942Z"
   },
   {
    "duration": 20,
    "start_time": "2022-06-30T10:53:10.964Z"
   },
   {
    "duration": 47,
    "start_time": "2022-06-30T10:53:10.986Z"
   },
   {
    "duration": 7,
    "start_time": "2022-06-30T10:53:11.034Z"
   },
   {
    "duration": 14,
    "start_time": "2022-06-30T10:53:11.042Z"
   },
   {
    "duration": 12,
    "start_time": "2022-06-30T10:53:11.057Z"
   },
   {
    "duration": 6,
    "start_time": "2022-06-30T10:53:11.070Z"
   },
   {
    "duration": 10,
    "start_time": "2022-06-30T10:53:11.078Z"
   },
   {
    "duration": 37,
    "start_time": "2022-06-30T10:53:11.090Z"
   },
   {
    "duration": 17,
    "start_time": "2022-06-30T10:53:11.129Z"
   },
   {
    "duration": 22,
    "start_time": "2022-06-30T10:53:11.147Z"
   },
   {
    "duration": 23,
    "start_time": "2022-06-30T10:53:11.171Z"
   },
   {
    "duration": 44,
    "start_time": "2022-06-30T10:53:11.196Z"
   },
   {
    "duration": 6,
    "start_time": "2022-06-30T10:53:11.242Z"
   },
   {
    "duration": 15,
    "start_time": "2022-06-30T10:53:11.250Z"
   },
   {
    "duration": 5,
    "start_time": "2022-06-30T10:53:11.266Z"
   },
   {
    "duration": 6,
    "start_time": "2022-06-30T10:53:11.273Z"
   },
   {
    "duration": 58,
    "start_time": "2022-06-30T10:53:11.281Z"
   },
   {
    "duration": 4,
    "start_time": "2022-06-30T10:53:11.343Z"
   },
   {
    "duration": 24,
    "start_time": "2022-06-30T10:53:11.349Z"
   },
   {
    "duration": 3,
    "start_time": "2022-06-30T10:53:11.375Z"
   },
   {
    "duration": 23,
    "start_time": "2022-06-30T10:53:11.379Z"
   },
   {
    "duration": 27,
    "start_time": "2022-06-30T10:53:11.404Z"
   },
   {
    "duration": 157,
    "start_time": "2022-06-30T10:53:11.433Z"
   },
   {
    "duration": 139,
    "start_time": "2022-06-30T10:53:11.592Z"
   },
   {
    "duration": 17,
    "start_time": "2022-06-30T10:53:11.733Z"
   },
   {
    "duration": 23,
    "start_time": "2022-06-30T10:53:11.752Z"
   },
   {
    "duration": 15,
    "start_time": "2022-06-30T10:53:11.776Z"
   },
   {
    "duration": 48,
    "start_time": "2022-06-30T10:53:11.793Z"
   },
   {
    "duration": 230,
    "start_time": "2022-06-30T10:53:11.843Z"
   },
   {
    "duration": 30,
    "start_time": "2022-06-30T10:53:12.075Z"
   },
   {
    "duration": 190,
    "start_time": "2022-06-30T10:53:12.106Z"
   },
   {
    "duration": 6,
    "start_time": "2022-06-30T10:53:12.298Z"
   },
   {
    "duration": 153,
    "start_time": "2022-06-30T10:53:12.306Z"
   },
   {
    "duration": 20,
    "start_time": "2022-06-30T10:53:12.460Z"
   },
   {
    "duration": 14,
    "start_time": "2022-06-30T10:53:12.481Z"
   },
   {
    "duration": 15,
    "start_time": "2022-06-30T10:53:12.497Z"
   },
   {
    "duration": 16,
    "start_time": "2022-06-30T10:53:12.513Z"
   },
   {
    "duration": 9,
    "start_time": "2022-06-30T10:53:12.530Z"
   },
   {
    "duration": 9,
    "start_time": "2022-06-30T10:53:12.540Z"
   },
   {
    "duration": 14,
    "start_time": "2022-06-30T10:53:12.551Z"
   },
   {
    "duration": 137,
    "start_time": "2022-06-30T10:53:15.276Z"
   },
   {
    "duration": 4,
    "start_time": "2022-06-30T10:54:05.999Z"
   },
   {
    "duration": 17,
    "start_time": "2022-06-30T10:54:08.445Z"
   },
   {
    "duration": 166,
    "start_time": "2022-06-30T10:57:07.332Z"
   },
   {
    "duration": 214,
    "start_time": "2022-06-30T10:57:12.831Z"
   },
   {
    "duration": 153,
    "start_time": "2022-06-30T10:58:02.128Z"
   },
   {
    "duration": 143,
    "start_time": "2022-06-30T10:58:23.588Z"
   },
   {
    "duration": 146,
    "start_time": "2022-06-30T10:58:53.929Z"
   },
   {
    "duration": 271,
    "start_time": "2022-06-30T11:00:19.484Z"
   },
   {
    "duration": 70,
    "start_time": "2022-06-30T11:01:05.057Z"
   },
   {
    "duration": 248,
    "start_time": "2022-06-30T11:01:15.526Z"
   },
   {
    "duration": 92,
    "start_time": "2022-06-30T11:07:38.738Z"
   },
   {
    "duration": 106,
    "start_time": "2022-06-30T11:08:42.695Z"
   },
   {
    "duration": 127,
    "start_time": "2022-06-30T11:09:35.943Z"
   },
   {
    "duration": 140,
    "start_time": "2022-06-30T11:09:51.618Z"
   },
   {
    "duration": 168,
    "start_time": "2022-06-30T11:10:07.954Z"
   },
   {
    "duration": 27,
    "start_time": "2022-06-30T11:11:49.940Z"
   },
   {
    "duration": 15,
    "start_time": "2022-06-30T11:18:06.790Z"
   },
   {
    "duration": 209,
    "start_time": "2022-06-30T11:18:43.841Z"
   },
   {
    "duration": 144,
    "start_time": "2022-06-30T11:19:00.419Z"
   },
   {
    "duration": 14,
    "start_time": "2022-06-30T11:19:08.657Z"
   },
   {
    "duration": 50,
    "start_time": "2022-06-30T11:19:54.797Z"
   },
   {
    "duration": 172,
    "start_time": "2022-06-30T11:20:58.364Z"
   },
   {
    "duration": 22,
    "start_time": "2022-06-30T11:21:15.668Z"
   },
   {
    "duration": 19,
    "start_time": "2022-06-30T11:21:58.264Z"
   },
   {
    "duration": 21,
    "start_time": "2022-06-30T11:23:34.642Z"
   },
   {
    "duration": 20,
    "start_time": "2022-06-30T11:24:29.410Z"
   },
   {
    "duration": 17,
    "start_time": "2022-06-30T11:26:14.648Z"
   },
   {
    "duration": 12,
    "start_time": "2022-06-30T11:26:20.385Z"
   },
   {
    "duration": 254,
    "start_time": "2022-06-30T11:41:15.212Z"
   },
   {
    "duration": 256,
    "start_time": "2022-06-30T11:41:22.007Z"
   },
   {
    "duration": 20,
    "start_time": "2022-06-30T11:42:23.148Z"
   },
   {
    "duration": 1275,
    "start_time": "2022-06-30T12:26:16.095Z"
   },
   {
    "duration": 122,
    "start_time": "2022-06-30T12:26:17.372Z"
   },
   {
    "duration": 31,
    "start_time": "2022-06-30T12:26:17.496Z"
   },
   {
    "duration": 15,
    "start_time": "2022-06-30T12:26:17.530Z"
   },
   {
    "duration": 11,
    "start_time": "2022-06-30T12:26:17.549Z"
   },
   {
    "duration": 17,
    "start_time": "2022-06-30T12:26:17.562Z"
   },
   {
    "duration": 4,
    "start_time": "2022-06-30T12:26:17.581Z"
   },
   {
    "duration": 19,
    "start_time": "2022-06-30T12:26:17.586Z"
   },
   {
    "duration": 36,
    "start_time": "2022-06-30T12:26:17.607Z"
   },
   {
    "duration": 28,
    "start_time": "2022-06-30T12:26:17.646Z"
   },
   {
    "duration": 8,
    "start_time": "2022-06-30T12:26:17.676Z"
   },
   {
    "duration": 41,
    "start_time": "2022-06-30T12:26:17.685Z"
   },
   {
    "duration": 7,
    "start_time": "2022-06-30T12:26:17.728Z"
   },
   {
    "duration": 18,
    "start_time": "2022-06-30T12:26:17.741Z"
   },
   {
    "duration": 136,
    "start_time": "2022-06-30T12:26:17.761Z"
   },
   {
    "duration": 5,
    "start_time": "2022-06-30T12:26:17.899Z"
   },
   {
    "duration": 26,
    "start_time": "2022-06-30T12:26:17.905Z"
   },
   {
    "duration": 21,
    "start_time": "2022-06-30T12:26:17.933Z"
   },
   {
    "duration": 20,
    "start_time": "2022-06-30T12:26:17.956Z"
   },
   {
    "duration": 12,
    "start_time": "2022-06-30T12:26:17.977Z"
   },
   {
    "duration": 15,
    "start_time": "2022-06-30T12:26:17.990Z"
   },
   {
    "duration": 21,
    "start_time": "2022-06-30T12:26:18.007Z"
   },
   {
    "duration": 32,
    "start_time": "2022-06-30T12:26:18.031Z"
   },
   {
    "duration": 22,
    "start_time": "2022-06-30T12:26:18.064Z"
   },
   {
    "duration": 44,
    "start_time": "2022-06-30T12:26:18.088Z"
   },
   {
    "duration": 19,
    "start_time": "2022-06-30T12:26:18.137Z"
   },
   {
    "duration": 18,
    "start_time": "2022-06-30T12:26:18.157Z"
   },
   {
    "duration": 16,
    "start_time": "2022-06-30T12:26:18.177Z"
   },
   {
    "duration": 10,
    "start_time": "2022-06-30T12:26:18.194Z"
   },
   {
    "duration": 24,
    "start_time": "2022-06-30T12:26:18.206Z"
   },
   {
    "duration": 30,
    "start_time": "2022-06-30T12:26:18.232Z"
   },
   {
    "duration": 32,
    "start_time": "2022-06-30T12:26:18.265Z"
   },
   {
    "duration": 24,
    "start_time": "2022-06-30T12:26:18.299Z"
   },
   {
    "duration": 31,
    "start_time": "2022-06-30T12:26:18.337Z"
   },
   {
    "duration": 21,
    "start_time": "2022-06-30T12:26:18.370Z"
   },
   {
    "duration": 8,
    "start_time": "2022-06-30T12:26:18.394Z"
   },
   {
    "duration": 29,
    "start_time": "2022-06-30T12:26:18.404Z"
   },
   {
    "duration": 5,
    "start_time": "2022-06-30T12:26:18.435Z"
   },
   {
    "duration": 10,
    "start_time": "2022-06-30T12:26:18.441Z"
   },
   {
    "duration": 43,
    "start_time": "2022-06-30T12:26:18.454Z"
   },
   {
    "duration": 6,
    "start_time": "2022-06-30T12:26:18.503Z"
   },
   {
    "duration": 47,
    "start_time": "2022-06-30T12:26:18.510Z"
   },
   {
    "duration": 4,
    "start_time": "2022-06-30T12:26:18.559Z"
   },
   {
    "duration": 18,
    "start_time": "2022-06-30T12:26:18.565Z"
   },
   {
    "duration": 9,
    "start_time": "2022-06-30T12:26:18.585Z"
   },
   {
    "duration": 204,
    "start_time": "2022-06-30T12:26:18.596Z"
   },
   {
    "duration": 175,
    "start_time": "2022-06-30T12:26:18.802Z"
   },
   {
    "duration": 25,
    "start_time": "2022-06-30T12:26:18.979Z"
   },
   {
    "duration": 44,
    "start_time": "2022-06-30T12:26:19.007Z"
   },
   {
    "duration": 26,
    "start_time": "2022-06-30T12:26:19.053Z"
   },
   {
    "duration": 48,
    "start_time": "2022-06-30T12:26:19.080Z"
   },
   {
    "duration": 287,
    "start_time": "2022-06-30T12:26:19.132Z"
   },
   {
    "duration": 44,
    "start_time": "2022-06-30T12:26:19.421Z"
   },
   {
    "duration": 210,
    "start_time": "2022-06-30T12:26:19.467Z"
   },
   {
    "duration": 4,
    "start_time": "2022-06-30T12:26:19.679Z"
   },
   {
    "duration": 184,
    "start_time": "2022-06-30T12:26:19.685Z"
   },
   {
    "duration": 21,
    "start_time": "2022-06-30T12:26:19.871Z"
   },
   {
    "duration": 10,
    "start_time": "2022-06-30T12:26:19.894Z"
   },
   {
    "duration": 45,
    "start_time": "2022-06-30T12:26:19.906Z"
   },
   {
    "duration": 11,
    "start_time": "2022-06-30T12:26:19.954Z"
   },
   {
    "duration": 12,
    "start_time": "2022-06-30T12:26:19.966Z"
   },
   {
    "duration": 7,
    "start_time": "2022-06-30T12:26:19.980Z"
   },
   {
    "duration": 15,
    "start_time": "2022-06-30T12:26:19.988Z"
   },
   {
    "duration": 184,
    "start_time": "2022-06-30T12:26:20.005Z"
   },
   {
    "duration": 300,
    "start_time": "2022-06-30T12:26:20.191Z"
   },
   {
    "duration": 14,
    "start_time": "2022-06-30T12:26:20.493Z"
   },
   {
    "duration": 45,
    "start_time": "2022-06-30T12:26:20.509Z"
   },
   {
    "duration": 12,
    "start_time": "2022-06-30T12:26:20.556Z"
   },
   {
    "duration": 1487,
    "start_time": "2022-06-30T19:30:39.527Z"
   },
   {
    "duration": 649,
    "start_time": "2022-06-30T19:30:41.016Z"
   },
   {
    "duration": 234,
    "start_time": "2022-06-30T19:30:41.666Z"
   },
   {
    "duration": 11,
    "start_time": "2022-06-30T19:30:42.933Z"
   },
   {
    "duration": 16,
    "start_time": "2022-06-30T19:30:55.659Z"
   },
   {
    "duration": 1497,
    "start_time": "2022-06-30T19:35:23.944Z"
   },
   {
    "duration": 128,
    "start_time": "2022-06-30T19:35:25.444Z"
   },
   {
    "duration": 62,
    "start_time": "2022-06-30T19:35:25.575Z"
   },
   {
    "duration": 13,
    "start_time": "2022-06-30T19:35:25.641Z"
   },
   {
    "duration": 11,
    "start_time": "2022-06-30T19:35:25.657Z"
   },
   {
    "duration": 14,
    "start_time": "2022-06-30T19:35:25.670Z"
   },
   {
    "duration": 8,
    "start_time": "2022-06-30T19:35:25.686Z"
   },
   {
    "duration": 17,
    "start_time": "2022-06-30T19:35:25.696Z"
   },
   {
    "duration": 34,
    "start_time": "2022-06-30T19:35:25.715Z"
   },
   {
    "duration": 34,
    "start_time": "2022-06-30T19:35:25.751Z"
   },
   {
    "duration": 12,
    "start_time": "2022-06-30T19:35:25.788Z"
   },
   {
    "duration": 40,
    "start_time": "2022-06-30T19:35:25.802Z"
   },
   {
    "duration": 6,
    "start_time": "2022-06-30T19:35:25.844Z"
   },
   {
    "duration": 7,
    "start_time": "2022-06-30T19:35:25.852Z"
   },
   {
    "duration": 132,
    "start_time": "2022-06-30T19:35:25.861Z"
   },
   {
    "duration": 7,
    "start_time": "2022-06-30T19:35:25.994Z"
   },
   {
    "duration": 14,
    "start_time": "2022-06-30T19:35:26.003Z"
   },
   {
    "duration": 29,
    "start_time": "2022-06-30T19:35:26.018Z"
   },
   {
    "duration": 13,
    "start_time": "2022-06-30T19:35:26.050Z"
   },
   {
    "duration": 6,
    "start_time": "2022-06-30T19:35:26.065Z"
   },
   {
    "duration": 18,
    "start_time": "2022-06-30T19:35:26.073Z"
   },
   {
    "duration": 23,
    "start_time": "2022-06-30T19:35:26.094Z"
   },
   {
    "duration": 42,
    "start_time": "2022-06-30T19:35:26.119Z"
   },
   {
    "duration": 23,
    "start_time": "2022-06-30T19:35:26.163Z"
   },
   {
    "duration": 24,
    "start_time": "2022-06-30T19:35:26.187Z"
   },
   {
    "duration": 36,
    "start_time": "2022-06-30T19:35:26.213Z"
   },
   {
    "duration": 14,
    "start_time": "2022-06-30T19:35:26.253Z"
   },
   {
    "duration": 19,
    "start_time": "2022-06-30T19:35:26.275Z"
   },
   {
    "duration": 13,
    "start_time": "2022-06-30T19:35:26.296Z"
   },
   {
    "duration": 9,
    "start_time": "2022-06-30T19:35:26.342Z"
   },
   {
    "duration": 15,
    "start_time": "2022-06-30T19:35:26.354Z"
   },
   {
    "duration": 21,
    "start_time": "2022-06-30T19:35:26.371Z"
   },
   {
    "duration": 23,
    "start_time": "2022-06-30T19:35:26.394Z"
   },
   {
    "duration": 25,
    "start_time": "2022-06-30T19:35:26.442Z"
   },
   {
    "duration": 21,
    "start_time": "2022-06-30T19:35:26.469Z"
   },
   {
    "duration": 11,
    "start_time": "2022-06-30T19:35:26.492Z"
   },
   {
    "duration": 39,
    "start_time": "2022-06-30T19:35:26.504Z"
   },
   {
    "duration": 5,
    "start_time": "2022-06-30T19:35:26.545Z"
   },
   {
    "duration": 5,
    "start_time": "2022-06-30T19:35:26.551Z"
   },
   {
    "duration": 29,
    "start_time": "2022-06-30T19:35:26.558Z"
   },
   {
    "duration": 8,
    "start_time": "2022-06-30T19:35:26.590Z"
   },
   {
    "duration": 53,
    "start_time": "2022-06-30T19:35:26.600Z"
   },
   {
    "duration": 4,
    "start_time": "2022-06-30T19:35:26.656Z"
   },
   {
    "duration": 30,
    "start_time": "2022-06-30T19:35:26.662Z"
   },
   {
    "duration": 16,
    "start_time": "2022-06-30T19:35:26.694Z"
   },
   {
    "duration": 266,
    "start_time": "2022-06-30T19:35:26.712Z"
   },
   {
    "duration": 217,
    "start_time": "2022-06-30T19:35:26.980Z"
   },
   {
    "duration": 28,
    "start_time": "2022-06-30T19:35:27.199Z"
   },
   {
    "duration": 25,
    "start_time": "2022-06-30T19:35:27.241Z"
   },
   {
    "duration": 18,
    "start_time": "2022-06-30T19:35:27.268Z"
   },
   {
    "duration": 66,
    "start_time": "2022-06-30T19:35:27.288Z"
   },
   {
    "duration": 268,
    "start_time": "2022-06-30T19:35:27.357Z"
   },
   {
    "duration": 66,
    "start_time": "2022-06-30T19:35:27.626Z"
   },
   {
    "duration": 206,
    "start_time": "2022-06-30T19:35:27.694Z"
   },
   {
    "duration": 5,
    "start_time": "2022-06-30T19:35:27.902Z"
   },
   {
    "duration": 189,
    "start_time": "2022-06-30T19:35:27.910Z"
   },
   {
    "duration": 24,
    "start_time": "2022-06-30T19:35:28.101Z"
   },
   {
    "duration": 24,
    "start_time": "2022-06-30T19:35:28.127Z"
   },
   {
    "duration": 24,
    "start_time": "2022-06-30T19:35:28.154Z"
   },
   {
    "duration": 11,
    "start_time": "2022-06-30T19:35:28.179Z"
   },
   {
    "duration": 10,
    "start_time": "2022-06-30T19:35:28.193Z"
   },
   {
    "duration": 7,
    "start_time": "2022-06-30T19:35:28.205Z"
   },
   {
    "duration": 37,
    "start_time": "2022-06-30T19:35:28.214Z"
   },
   {
    "duration": 184,
    "start_time": "2022-06-30T19:35:28.253Z"
   },
   {
    "duration": 313,
    "start_time": "2022-06-30T19:35:28.442Z"
   },
   {
    "duration": 16,
    "start_time": "2022-06-30T19:35:28.758Z"
   },
   {
    "duration": 42,
    "start_time": "2022-06-30T19:35:28.776Z"
   },
   {
    "duration": 37,
    "start_time": "2022-06-30T19:35:28.820Z"
   },
   {
    "duration": 107,
    "start_time": "2022-06-30T19:37:34.391Z"
   },
   {
    "duration": 108,
    "start_time": "2022-06-30T19:53:46.969Z"
   },
   {
    "duration": 63,
    "start_time": "2022-07-01T12:29:41.874Z"
   },
   {
    "duration": 4645,
    "start_time": "2022-07-01T12:29:49.250Z"
   },
   {
    "duration": 411,
    "start_time": "2022-07-01T12:29:53.897Z"
   },
   {
    "duration": 52,
    "start_time": "2022-07-01T12:29:54.310Z"
   },
   {
    "duration": 22,
    "start_time": "2022-07-01T12:29:54.364Z"
   },
   {
    "duration": 10,
    "start_time": "2022-07-01T12:29:54.387Z"
   },
   {
    "duration": 15,
    "start_time": "2022-07-01T12:29:54.399Z"
   },
   {
    "duration": 4,
    "start_time": "2022-07-01T12:29:54.415Z"
   },
   {
    "duration": 38,
    "start_time": "2022-07-01T12:29:54.421Z"
   },
   {
    "duration": 17,
    "start_time": "2022-07-01T12:29:54.460Z"
   },
   {
    "duration": 29,
    "start_time": "2022-07-01T12:29:54.480Z"
   },
   {
    "duration": 9,
    "start_time": "2022-07-01T12:29:54.511Z"
   },
   {
    "duration": 25,
    "start_time": "2022-07-01T12:29:54.521Z"
   },
   {
    "duration": 8,
    "start_time": "2022-07-01T12:29:54.548Z"
   },
   {
    "duration": 6,
    "start_time": "2022-07-01T12:29:54.557Z"
   },
   {
    "duration": 154,
    "start_time": "2022-07-01T12:29:54.564Z"
   },
   {
    "duration": 5,
    "start_time": "2022-07-01T12:29:54.719Z"
   },
   {
    "duration": 26,
    "start_time": "2022-07-01T12:29:54.727Z"
   },
   {
    "duration": 25,
    "start_time": "2022-07-01T12:29:54.754Z"
   },
   {
    "duration": 29,
    "start_time": "2022-07-01T12:29:56.913Z"
   },
   {
    "duration": 4,
    "start_time": "2022-07-01T12:30:41.415Z"
   },
   {
    "duration": 3838,
    "start_time": "2022-07-01T12:31:03.716Z"
   },
   {
    "duration": 302,
    "start_time": "2022-07-01T12:31:07.556Z"
   },
   {
    "duration": 37,
    "start_time": "2022-07-01T12:31:07.860Z"
   },
   {
    "duration": 7,
    "start_time": "2022-07-01T12:31:07.900Z"
   },
   {
    "duration": 8,
    "start_time": "2022-07-01T12:31:07.909Z"
   },
   {
    "duration": 41,
    "start_time": "2022-07-01T12:31:07.918Z"
   },
   {
    "duration": 4,
    "start_time": "2022-07-01T12:31:07.961Z"
   },
   {
    "duration": 29,
    "start_time": "2022-07-01T12:31:07.967Z"
   },
   {
    "duration": 22,
    "start_time": "2022-07-01T12:31:07.998Z"
   },
   {
    "duration": 40,
    "start_time": "2022-07-01T12:31:08.024Z"
   },
   {
    "duration": 10,
    "start_time": "2022-07-01T12:31:08.066Z"
   },
   {
    "duration": 16,
    "start_time": "2022-07-01T12:31:08.078Z"
   },
   {
    "duration": 5,
    "start_time": "2022-07-01T12:31:08.096Z"
   },
   {
    "duration": 7,
    "start_time": "2022-07-01T12:31:08.103Z"
   },
   {
    "duration": 232,
    "start_time": "2022-07-01T12:31:08.112Z"
   },
   {
    "duration": 5,
    "start_time": "2022-07-01T12:31:08.346Z"
   },
   {
    "duration": 21,
    "start_time": "2022-07-01T12:31:08.353Z"
   },
   {
    "duration": 20,
    "start_time": "2022-07-01T12:31:08.376Z"
   },
   {
    "duration": 24,
    "start_time": "2022-07-01T12:31:08.397Z"
   },
   {
    "duration": 34,
    "start_time": "2022-07-01T12:31:08.423Z"
   },
   {
    "duration": 13,
    "start_time": "2022-07-01T12:31:08.459Z"
   },
   {
    "duration": 14,
    "start_time": "2022-07-01T12:31:08.474Z"
   },
   {
    "duration": 18,
    "start_time": "2022-07-01T12:31:08.490Z"
   },
   {
    "duration": 46,
    "start_time": "2022-07-01T12:31:08.510Z"
   },
   {
    "duration": 24,
    "start_time": "2022-07-01T12:31:08.558Z"
   },
   {
    "duration": 31,
    "start_time": "2022-07-01T12:31:08.584Z"
   },
   {
    "duration": 36,
    "start_time": "2022-07-01T12:31:08.617Z"
   },
   {
    "duration": 24,
    "start_time": "2022-07-01T12:31:08.657Z"
   },
   {
    "duration": 16,
    "start_time": "2022-07-01T12:31:08.683Z"
   },
   {
    "duration": 13,
    "start_time": "2022-07-01T12:31:08.701Z"
   },
   {
    "duration": 17,
    "start_time": "2022-07-01T12:31:08.716Z"
   },
   {
    "duration": 29,
    "start_time": "2022-07-01T12:31:08.734Z"
   },
   {
    "duration": 31,
    "start_time": "2022-07-01T12:31:08.765Z"
   },
   {
    "duration": 29,
    "start_time": "2022-07-01T12:31:08.797Z"
   },
   {
    "duration": 27,
    "start_time": "2022-07-01T12:31:08.828Z"
   },
   {
    "duration": 20,
    "start_time": "2022-07-01T12:31:08.857Z"
   },
   {
    "duration": 10,
    "start_time": "2022-07-01T12:31:08.879Z"
   },
   {
    "duration": 39,
    "start_time": "2022-07-01T12:31:08.890Z"
   },
   {
    "duration": 19,
    "start_time": "2022-07-01T12:31:08.930Z"
   },
   {
    "duration": 8,
    "start_time": "2022-07-01T12:31:08.951Z"
   },
   {
    "duration": 52,
    "start_time": "2022-07-01T12:31:08.961Z"
   },
   {
    "duration": 3,
    "start_time": "2022-07-01T12:31:09.015Z"
   },
   {
    "duration": 55,
    "start_time": "2022-07-01T12:31:09.020Z"
   },
   {
    "duration": 3,
    "start_time": "2022-07-01T12:31:09.077Z"
   },
   {
    "duration": 36,
    "start_time": "2022-07-01T12:31:09.082Z"
   },
   {
    "duration": 29,
    "start_time": "2022-07-01T12:31:09.120Z"
   },
   {
    "duration": 289,
    "start_time": "2022-07-01T12:31:09.150Z"
   },
   {
    "duration": 142,
    "start_time": "2022-07-01T12:31:09.440Z"
   },
   {
    "duration": 19,
    "start_time": "2022-07-01T12:31:09.584Z"
   },
   {
    "duration": 64,
    "start_time": "2022-07-01T12:31:09.604Z"
   },
   {
    "duration": 20,
    "start_time": "2022-07-01T12:31:09.670Z"
   },
   {
    "duration": 104,
    "start_time": "2022-07-01T12:31:09.692Z"
   },
   {
    "duration": 247,
    "start_time": "2022-07-01T12:31:09.798Z"
   },
   {
    "duration": 29,
    "start_time": "2022-07-01T12:31:10.047Z"
   },
   {
    "duration": 201,
    "start_time": "2022-07-01T12:31:10.078Z"
   },
   {
    "duration": 5,
    "start_time": "2022-07-01T12:31:10.280Z"
   },
   {
    "duration": 164,
    "start_time": "2022-07-01T12:31:10.287Z"
   },
   {
    "duration": 18,
    "start_time": "2022-07-01T12:31:10.453Z"
   },
   {
    "duration": 15,
    "start_time": "2022-07-01T12:31:10.473Z"
   },
   {
    "duration": 43,
    "start_time": "2022-07-01T12:31:10.490Z"
   },
   {
    "duration": 18,
    "start_time": "2022-07-01T12:31:10.535Z"
   },
   {
    "duration": 9,
    "start_time": "2022-07-01T12:31:10.555Z"
   },
   {
    "duration": 7,
    "start_time": "2022-07-01T12:31:10.566Z"
   },
   {
    "duration": 18,
    "start_time": "2022-07-01T12:31:10.575Z"
   },
   {
    "duration": 156,
    "start_time": "2022-07-01T12:31:10.594Z"
   },
   {
    "duration": 318,
    "start_time": "2022-07-01T12:31:10.751Z"
   },
   {
    "duration": 14,
    "start_time": "2022-07-01T12:31:11.071Z"
   },
   {
    "duration": 27,
    "start_time": "2022-07-01T12:31:11.087Z"
   },
   {
    "duration": 28,
    "start_time": "2022-07-01T12:31:11.116Z"
   },
   {
    "duration": 4,
    "start_time": "2022-07-01T12:32:41.375Z"
   },
   {
    "duration": 193,
    "start_time": "2022-07-01T12:32:41.381Z"
   },
   {
    "duration": 39,
    "start_time": "2022-07-01T12:32:41.575Z"
   },
   {
    "duration": 22,
    "start_time": "2022-07-01T12:32:41.616Z"
   },
   {
    "duration": 11,
    "start_time": "2022-07-01T12:32:41.640Z"
   },
   {
    "duration": 15,
    "start_time": "2022-07-01T12:32:41.653Z"
   },
   {
    "duration": 9,
    "start_time": "2022-07-01T12:32:41.670Z"
   },
   {
    "duration": 27,
    "start_time": "2022-07-01T12:32:41.680Z"
   },
   {
    "duration": 24,
    "start_time": "2022-07-01T12:32:41.709Z"
   },
   {
    "duration": 47,
    "start_time": "2022-07-01T12:32:41.735Z"
   },
   {
    "duration": 7,
    "start_time": "2022-07-01T12:32:41.784Z"
   },
   {
    "duration": 34,
    "start_time": "2022-07-01T12:32:41.794Z"
   },
   {
    "duration": 7,
    "start_time": "2022-07-01T12:32:41.830Z"
   },
   {
    "duration": 7,
    "start_time": "2022-07-01T12:32:41.839Z"
   },
   {
    "duration": 197,
    "start_time": "2022-07-01T12:32:41.848Z"
   },
   {
    "duration": 7,
    "start_time": "2022-07-01T12:32:42.047Z"
   },
   {
    "duration": 27,
    "start_time": "2022-07-01T12:32:42.056Z"
   },
   {
    "duration": 10,
    "start_time": "2022-07-01T12:32:42.084Z"
   },
   {
    "duration": 7,
    "start_time": "2022-07-01T12:32:42.095Z"
   },
   {
    "duration": 26,
    "start_time": "2022-07-01T12:32:42.103Z"
   },
   {
    "duration": 5,
    "start_time": "2022-07-01T12:32:42.132Z"
   },
   {
    "duration": 24,
    "start_time": "2022-07-01T12:33:09.488Z"
   },
   {
    "duration": 7,
    "start_time": "2022-07-01T12:33:21.708Z"
   },
   {
    "duration": 6,
    "start_time": "2022-07-01T12:38:50.267Z"
   },
   {
    "duration": 5,
    "start_time": "2022-07-01T12:40:37.315Z"
   },
   {
    "duration": 6,
    "start_time": "2022-07-01T12:40:41.634Z"
   },
   {
    "duration": 3,
    "start_time": "2022-07-01T12:40:52.829Z"
   },
   {
    "duration": 15,
    "start_time": "2022-07-01T12:41:05.475Z"
   },
   {
    "duration": 5,
    "start_time": "2022-07-01T12:42:42.076Z"
   },
   {
    "duration": 4,
    "start_time": "2022-07-01T12:43:36.435Z"
   },
   {
    "duration": 4,
    "start_time": "2022-07-01T12:47:27.764Z"
   },
   {
    "duration": 4,
    "start_time": "2022-07-01T12:47:38.021Z"
   },
   {
    "duration": 16,
    "start_time": "2022-07-01T12:51:24.802Z"
   },
   {
    "duration": 20,
    "start_time": "2022-07-01T12:53:54.796Z"
   },
   {
    "duration": 20,
    "start_time": "2022-07-01T12:56:15.016Z"
   },
   {
    "duration": 14,
    "start_time": "2022-07-01T13:08:17.945Z"
   },
   {
    "duration": 11,
    "start_time": "2022-07-01T13:14:29.102Z"
   },
   {
    "duration": 10,
    "start_time": "2022-07-01T13:16:58.000Z"
   },
   {
    "duration": 17,
    "start_time": "2022-07-01T13:27:02.224Z"
   },
   {
    "duration": 10,
    "start_time": "2022-07-01T13:27:22.687Z"
   },
   {
    "duration": 21,
    "start_time": "2022-07-01T13:27:53.521Z"
   },
   {
    "duration": 12,
    "start_time": "2022-07-01T13:27:57.206Z"
   },
   {
    "duration": 15,
    "start_time": "2022-07-01T13:28:12.206Z"
   },
   {
    "duration": 11,
    "start_time": "2022-07-01T13:28:14.402Z"
   },
   {
    "duration": 2,
    "start_time": "2022-07-01T13:30:07.800Z"
   },
   {
    "duration": 168,
    "start_time": "2022-07-01T13:30:07.804Z"
   },
   {
    "duration": 37,
    "start_time": "2022-07-01T13:30:07.974Z"
   },
   {
    "duration": 12,
    "start_time": "2022-07-01T13:30:08.013Z"
   },
   {
    "duration": 56,
    "start_time": "2022-07-01T13:30:08.026Z"
   },
   {
    "duration": 23,
    "start_time": "2022-07-01T13:30:08.084Z"
   },
   {
    "duration": 14,
    "start_time": "2022-07-01T13:30:08.109Z"
   },
   {
    "duration": 66,
    "start_time": "2022-07-01T13:30:08.125Z"
   },
   {
    "duration": 23,
    "start_time": "2022-07-01T13:30:08.195Z"
   },
   {
    "duration": 62,
    "start_time": "2022-07-01T13:30:08.220Z"
   },
   {
    "duration": 14,
    "start_time": "2022-07-01T13:30:08.285Z"
   },
   {
    "duration": 25,
    "start_time": "2022-07-01T13:30:08.301Z"
   },
   {
    "duration": 43,
    "start_time": "2022-07-01T13:30:08.332Z"
   },
   {
    "duration": 20,
    "start_time": "2022-07-01T13:30:08.377Z"
   },
   {
    "duration": 172,
    "start_time": "2022-07-01T13:30:08.400Z"
   },
   {
    "duration": 6,
    "start_time": "2022-07-01T13:30:08.577Z"
   },
   {
    "duration": 38,
    "start_time": "2022-07-01T13:30:08.585Z"
   },
   {
    "duration": 53,
    "start_time": "2022-07-01T13:30:08.625Z"
   },
   {
    "duration": 28,
    "start_time": "2022-07-01T13:30:08.682Z"
   },
   {
    "duration": 56,
    "start_time": "2022-07-01T13:30:08.712Z"
   },
   {
    "duration": 15,
    "start_time": "2022-07-01T13:30:08.770Z"
   },
   {
    "duration": 29,
    "start_time": "2022-07-01T13:30:08.787Z"
   },
   {
    "duration": 64,
    "start_time": "2022-07-01T13:30:08.818Z"
   },
   {
    "duration": 17,
    "start_time": "2022-07-01T13:30:08.886Z"
   },
   {
    "duration": 3,
    "start_time": "2022-07-01T13:30:08.905Z"
   },
   {
    "duration": 35,
    "start_time": "2022-07-01T13:30:08.910Z"
   },
   {
    "duration": 29,
    "start_time": "2022-07-01T13:30:08.953Z"
   },
   {
    "duration": 17,
    "start_time": "2022-07-01T13:30:08.984Z"
   },
   {
    "duration": 52,
    "start_time": "2022-07-01T13:30:09.003Z"
   },
   {
    "duration": 39,
    "start_time": "2022-07-01T13:30:09.063Z"
   },
   {
    "duration": 68,
    "start_time": "2022-07-01T13:30:09.104Z"
   },
   {
    "duration": 50,
    "start_time": "2022-07-01T13:30:09.174Z"
   },
   {
    "duration": 51,
    "start_time": "2022-07-01T13:30:09.226Z"
   },
   {
    "duration": 26,
    "start_time": "2022-07-01T13:30:09.279Z"
   },
   {
    "duration": 23,
    "start_time": "2022-07-01T13:30:09.307Z"
   },
   {
    "duration": 58,
    "start_time": "2022-07-01T13:30:09.332Z"
   },
   {
    "duration": 29,
    "start_time": "2022-07-01T13:30:09.392Z"
   },
   {
    "duration": 57,
    "start_time": "2022-07-01T13:30:09.423Z"
   },
   {
    "duration": 97,
    "start_time": "2022-07-01T13:30:09.483Z"
   },
   {
    "duration": 11,
    "start_time": "2022-07-01T13:32:47.911Z"
   },
   {
    "duration": 20,
    "start_time": "2022-07-01T13:33:14.171Z"
   },
   {
    "duration": 10,
    "start_time": "2022-07-01T13:33:17.873Z"
   },
   {
    "duration": 25,
    "start_time": "2022-07-01T13:33:40.488Z"
   },
   {
    "duration": 25,
    "start_time": "2022-07-01T13:33:53.944Z"
   },
   {
    "duration": 6,
    "start_time": "2022-07-01T13:40:13.778Z"
   },
   {
    "duration": 27,
    "start_time": "2022-07-01T13:40:20.316Z"
   },
   {
    "duration": 186,
    "start_time": "2022-07-01T13:41:10.756Z"
   },
   {
    "duration": 214,
    "start_time": "2022-07-01T13:41:29.077Z"
   },
   {
    "duration": 158,
    "start_time": "2022-07-01T13:42:12.558Z"
   },
   {
    "duration": 1056,
    "start_time": "2022-07-01T13:42:46.950Z"
   },
   {
    "duration": 230,
    "start_time": "2022-07-01T13:43:01.862Z"
   },
   {
    "duration": 193,
    "start_time": "2022-07-01T13:43:39.494Z"
   },
   {
    "duration": 18,
    "start_time": "2022-07-01T13:44:09.216Z"
   },
   {
    "duration": 235,
    "start_time": "2022-07-01T13:44:21.379Z"
   },
   {
    "duration": 3,
    "start_time": "2022-07-01T13:45:02.414Z"
   },
   {
    "duration": 252,
    "start_time": "2022-07-01T13:45:02.422Z"
   },
   {
    "duration": 60,
    "start_time": "2022-07-01T13:45:02.676Z"
   },
   {
    "duration": 13,
    "start_time": "2022-07-01T13:45:02.739Z"
   },
   {
    "duration": 49,
    "start_time": "2022-07-01T13:45:02.754Z"
   },
   {
    "duration": 15,
    "start_time": "2022-07-01T13:45:02.806Z"
   },
   {
    "duration": 30,
    "start_time": "2022-07-01T13:45:02.823Z"
   },
   {
    "duration": 40,
    "start_time": "2022-07-01T13:45:02.857Z"
   },
   {
    "duration": 15,
    "start_time": "2022-07-01T13:45:02.900Z"
   },
   {
    "duration": 64,
    "start_time": "2022-07-01T13:45:02.918Z"
   },
   {
    "duration": 31,
    "start_time": "2022-07-01T13:45:02.984Z"
   },
   {
    "duration": 12,
    "start_time": "2022-07-01T13:45:03.017Z"
   },
   {
    "duration": 35,
    "start_time": "2022-07-01T13:45:03.032Z"
   },
   {
    "duration": 31,
    "start_time": "2022-07-01T13:45:03.069Z"
   },
   {
    "duration": 223,
    "start_time": "2022-07-01T13:45:03.102Z"
   },
   {
    "duration": 10,
    "start_time": "2022-07-01T13:45:03.327Z"
   },
   {
    "duration": 63,
    "start_time": "2022-07-01T13:45:03.339Z"
   },
   {
    "duration": 8,
    "start_time": "2022-07-01T13:45:03.404Z"
   },
   {
    "duration": 6,
    "start_time": "2022-07-01T13:45:03.414Z"
   },
   {
    "duration": 68,
    "start_time": "2022-07-01T13:45:03.422Z"
   },
   {
    "duration": 5,
    "start_time": "2022-07-01T13:45:03.492Z"
   },
   {
    "duration": 10,
    "start_time": "2022-07-01T13:45:03.499Z"
   },
   {
    "duration": 8,
    "start_time": "2022-07-01T13:45:03.510Z"
   },
   {
    "duration": 30,
    "start_time": "2022-07-01T13:45:03.523Z"
   },
   {
    "duration": 40,
    "start_time": "2022-07-01T13:45:03.555Z"
   },
   {
    "duration": 47,
    "start_time": "2022-07-01T13:45:03.597Z"
   },
   {
    "duration": 34,
    "start_time": "2022-07-01T13:45:03.646Z"
   },
   {
    "duration": 34,
    "start_time": "2022-07-01T13:45:03.682Z"
   },
   {
    "duration": 65,
    "start_time": "2022-07-01T13:45:03.718Z"
   },
   {
    "duration": 20,
    "start_time": "2022-07-01T13:45:03.786Z"
   },
   {
    "duration": 26,
    "start_time": "2022-07-01T13:45:03.808Z"
   },
   {
    "duration": 57,
    "start_time": "2022-07-01T13:45:03.836Z"
   },
   {
    "duration": 10,
    "start_time": "2022-07-01T13:45:03.895Z"
   },
   {
    "duration": 12,
    "start_time": "2022-07-01T13:45:03.907Z"
   },
   {
    "duration": 74,
    "start_time": "2022-07-01T13:45:03.921Z"
   },
   {
    "duration": 11,
    "start_time": "2022-07-01T13:45:03.997Z"
   },
   {
    "duration": 7,
    "start_time": "2022-07-01T13:45:04.009Z"
   },
   {
    "duration": 31,
    "start_time": "2022-07-01T13:45:04.018Z"
   },
   {
    "duration": 45,
    "start_time": "2022-07-01T13:45:04.051Z"
   },
   {
    "duration": 25,
    "start_time": "2022-07-01T13:45:04.098Z"
   },
   {
    "duration": 15,
    "start_time": "2022-07-01T13:45:04.125Z"
   },
   {
    "duration": 62,
    "start_time": "2022-07-01T13:45:04.142Z"
   },
   {
    "duration": 31,
    "start_time": "2022-07-01T13:45:04.206Z"
   },
   {
    "duration": 36,
    "start_time": "2022-07-01T13:45:04.241Z"
   },
   {
    "duration": 31,
    "start_time": "2022-07-01T13:45:04.280Z"
   },
   {
    "duration": 7,
    "start_time": "2022-07-01T13:45:04.313Z"
   },
   {
    "duration": 168,
    "start_time": "2022-07-01T13:45:04.321Z"
   },
   {
    "duration": 53,
    "start_time": "2022-07-01T13:45:49.724Z"
   },
   {
    "duration": 19,
    "start_time": "2022-07-01T13:46:06.402Z"
   },
   {
    "duration": 41,
    "start_time": "2022-07-01T13:46:14.929Z"
   },
   {
    "duration": 10,
    "start_time": "2022-07-01T13:46:44.653Z"
   },
   {
    "duration": 211,
    "start_time": "2022-07-01T13:47:28.653Z"
   },
   {
    "duration": 188,
    "start_time": "2022-07-01T13:47:53.003Z"
   },
   {
    "duration": 173,
    "start_time": "2022-07-01T13:48:00.249Z"
   },
   {
    "duration": 175,
    "start_time": "2022-07-01T13:48:04.809Z"
   },
   {
    "duration": 150,
    "start_time": "2022-07-01T13:48:15.074Z"
   },
   {
    "duration": 104,
    "start_time": "2022-07-01T13:48:29.046Z"
   },
   {
    "duration": 36,
    "start_time": "2022-07-01T13:48:44.901Z"
   },
   {
    "duration": 150,
    "start_time": "2022-07-01T13:49:05.643Z"
   },
   {
    "duration": 170,
    "start_time": "2022-07-01T13:49:08.851Z"
   },
   {
    "duration": 166,
    "start_time": "2022-07-01T13:49:12.209Z"
   },
   {
    "duration": 276,
    "start_time": "2022-07-01T13:49:15.977Z"
   },
   {
    "duration": 133,
    "start_time": "2022-07-01T13:49:39.871Z"
   },
   {
    "duration": 126,
    "start_time": "2022-07-01T13:50:53.649Z"
   },
   {
    "duration": 141,
    "start_time": "2022-07-01T13:51:07.608Z"
   },
   {
    "duration": 130,
    "start_time": "2022-07-01T13:51:15.671Z"
   },
   {
    "duration": 197,
    "start_time": "2022-07-01T13:51:38.421Z"
   },
   {
    "duration": 12,
    "start_time": "2022-07-01T13:52:28.772Z"
   },
   {
    "duration": 18,
    "start_time": "2022-07-01T13:52:41.554Z"
   },
   {
    "duration": 156,
    "start_time": "2022-07-01T13:53:07.589Z"
   },
   {
    "duration": 139,
    "start_time": "2022-07-01T13:56:16.232Z"
   },
   {
    "duration": 164,
    "start_time": "2022-07-01T13:56:31.815Z"
   },
   {
    "duration": 3,
    "start_time": "2022-07-01T13:57:36.780Z"
   },
   {
    "duration": 171,
    "start_time": "2022-07-01T13:57:36.786Z"
   },
   {
    "duration": 40,
    "start_time": "2022-07-01T13:57:36.958Z"
   },
   {
    "duration": 12,
    "start_time": "2022-07-01T13:57:37.000Z"
   },
   {
    "duration": 8,
    "start_time": "2022-07-01T13:57:37.015Z"
   },
   {
    "duration": 41,
    "start_time": "2022-07-01T13:57:37.025Z"
   },
   {
    "duration": 9,
    "start_time": "2022-07-01T13:57:37.068Z"
   },
   {
    "duration": 20,
    "start_time": "2022-07-01T13:57:37.079Z"
   },
   {
    "duration": 11,
    "start_time": "2022-07-01T13:57:37.101Z"
   },
   {
    "duration": 29,
    "start_time": "2022-07-01T13:57:37.114Z"
   },
   {
    "duration": 25,
    "start_time": "2022-07-01T13:57:37.145Z"
   },
   {
    "duration": 12,
    "start_time": "2022-07-01T13:57:37.175Z"
   },
   {
    "duration": 15,
    "start_time": "2022-07-01T13:57:37.189Z"
   },
   {
    "duration": 9,
    "start_time": "2022-07-01T13:57:37.209Z"
   },
   {
    "duration": 177,
    "start_time": "2022-07-01T13:57:37.219Z"
   },
   {
    "duration": 5,
    "start_time": "2022-07-01T13:57:37.399Z"
   },
   {
    "duration": 31,
    "start_time": "2022-07-01T13:57:37.405Z"
   },
   {
    "duration": 35,
    "start_time": "2022-07-01T13:57:37.441Z"
   },
   {
    "duration": 10,
    "start_time": "2022-07-01T13:57:37.479Z"
   },
   {
    "duration": 15,
    "start_time": "2022-07-01T13:57:37.491Z"
   },
   {
    "duration": 5,
    "start_time": "2022-07-01T13:57:37.507Z"
   },
   {
    "duration": 12,
    "start_time": "2022-07-01T13:57:37.513Z"
   },
   {
    "duration": 18,
    "start_time": "2022-07-01T13:57:37.527Z"
   },
   {
    "duration": 43,
    "start_time": "2022-07-01T13:57:37.549Z"
   },
   {
    "duration": 4,
    "start_time": "2022-07-01T13:57:37.593Z"
   },
   {
    "duration": 27,
    "start_time": "2022-07-01T13:57:37.600Z"
   },
   {
    "duration": 32,
    "start_time": "2022-07-01T13:57:37.630Z"
   },
   {
    "duration": 50,
    "start_time": "2022-07-01T13:57:37.664Z"
   },
   {
    "duration": 49,
    "start_time": "2022-07-01T13:57:37.717Z"
   },
   {
    "duration": 50,
    "start_time": "2022-07-01T13:57:37.771Z"
   },
   {
    "duration": 62,
    "start_time": "2022-07-01T13:57:37.823Z"
   },
   {
    "duration": 18,
    "start_time": "2022-07-01T13:57:37.887Z"
   },
   {
    "duration": 14,
    "start_time": "2022-07-01T13:57:37.907Z"
   },
   {
    "duration": 19,
    "start_time": "2022-07-01T13:57:37.923Z"
   },
   {
    "duration": 31,
    "start_time": "2022-07-01T13:57:37.952Z"
   },
   {
    "duration": 18,
    "start_time": "2022-07-01T13:57:37.985Z"
   },
   {
    "duration": 12,
    "start_time": "2022-07-01T13:57:38.004Z"
   },
   {
    "duration": 15,
    "start_time": "2022-07-01T13:57:38.018Z"
   },
   {
    "duration": 45,
    "start_time": "2022-07-01T13:57:38.034Z"
   },
   {
    "duration": 19,
    "start_time": "2022-07-01T13:57:38.080Z"
   },
   {
    "duration": 12,
    "start_time": "2022-07-01T13:57:38.103Z"
   },
   {
    "duration": 25,
    "start_time": "2022-07-01T13:57:38.117Z"
   },
   {
    "duration": 43,
    "start_time": "2022-07-01T13:57:38.146Z"
   },
   {
    "duration": 21,
    "start_time": "2022-07-01T13:57:38.191Z"
   },
   {
    "duration": 27,
    "start_time": "2022-07-01T13:57:38.214Z"
   },
   {
    "duration": 13,
    "start_time": "2022-07-01T13:57:38.242Z"
   },
   {
    "duration": 149,
    "start_time": "2022-07-01T13:57:38.260Z"
   },
   {
    "duration": 58,
    "start_time": "2022-07-01T13:57:40.860Z"
   },
   {
    "duration": 193,
    "start_time": "2022-07-01T13:57:46.327Z"
   },
   {
    "duration": 144,
    "start_time": "2022-07-01T13:57:55.764Z"
   },
   {
    "duration": 211,
    "start_time": "2022-07-01T13:58:59.071Z"
   },
   {
    "duration": 206,
    "start_time": "2022-07-01T13:59:13.707Z"
   },
   {
    "duration": 173,
    "start_time": "2022-07-01T13:59:20.972Z"
   },
   {
    "duration": 233,
    "start_time": "2022-07-01T13:59:57.852Z"
   },
   {
    "duration": 116,
    "start_time": "2022-07-01T14:00:42.783Z"
   },
   {
    "duration": 20,
    "start_time": "2022-07-01T14:02:23.463Z"
   },
   {
    "duration": 21,
    "start_time": "2022-07-01T14:11:04.046Z"
   },
   {
    "duration": 26,
    "start_time": "2022-07-01T14:11:31.373Z"
   },
   {
    "duration": 9,
    "start_time": "2022-07-01T14:14:13.944Z"
   },
   {
    "duration": 225,
    "start_time": "2022-07-01T14:14:27.309Z"
   },
   {
    "duration": 109,
    "start_time": "2022-07-01T14:14:47.945Z"
   },
   {
    "duration": 104,
    "start_time": "2022-07-01T14:15:02.079Z"
   },
   {
    "duration": 19,
    "start_time": "2022-07-01T14:16:43.144Z"
   },
   {
    "duration": 4,
    "start_time": "2022-07-01T14:16:47.284Z"
   },
   {
    "duration": 11,
    "start_time": "2022-07-01T14:16:49.665Z"
   },
   {
    "duration": 7,
    "start_time": "2022-07-01T14:17:19.003Z"
   },
   {
    "duration": 45,
    "start_time": "2022-07-01T14:18:12.293Z"
   },
   {
    "duration": 8,
    "start_time": "2022-07-01T14:18:15.790Z"
   },
   {
    "duration": 53,
    "start_time": "2022-07-01T14:18:17.520Z"
   },
   {
    "duration": 59,
    "start_time": "2022-07-01T14:18:23.653Z"
   },
   {
    "duration": 7,
    "start_time": "2022-07-01T14:18:45.602Z"
   },
   {
    "duration": 220,
    "start_time": "2022-07-01T14:18:47.926Z"
   },
   {
    "duration": 30,
    "start_time": "2022-07-01T14:19:20.542Z"
   },
   {
    "duration": 25,
    "start_time": "2022-07-01T14:19:39.326Z"
   },
   {
    "duration": 14,
    "start_time": "2022-07-01T14:20:21.760Z"
   },
   {
    "duration": 5,
    "start_time": "2022-07-01T14:20:55.666Z"
   },
   {
    "duration": 146,
    "start_time": "2022-07-01T14:20:55.673Z"
   },
   {
    "duration": 69,
    "start_time": "2022-07-01T14:20:55.820Z"
   },
   {
    "duration": 9,
    "start_time": "2022-07-01T14:20:55.892Z"
   },
   {
    "duration": 25,
    "start_time": "2022-07-01T14:20:55.903Z"
   },
   {
    "duration": 58,
    "start_time": "2022-07-01T14:20:55.930Z"
   },
   {
    "duration": 21,
    "start_time": "2022-07-01T14:20:55.989Z"
   },
   {
    "duration": 74,
    "start_time": "2022-07-01T14:20:56.012Z"
   },
   {
    "duration": 31,
    "start_time": "2022-07-01T14:20:56.088Z"
   },
   {
    "duration": 73,
    "start_time": "2022-07-01T14:20:56.120Z"
   },
   {
    "duration": 7,
    "start_time": "2022-07-01T14:20:56.194Z"
   },
   {
    "duration": 30,
    "start_time": "2022-07-01T14:20:56.202Z"
   },
   {
    "duration": 55,
    "start_time": "2022-07-01T14:20:56.234Z"
   },
   {
    "duration": 17,
    "start_time": "2022-07-01T14:20:56.293Z"
   },
   {
    "duration": 172,
    "start_time": "2022-07-01T14:20:56.312Z"
   },
   {
    "duration": 10,
    "start_time": "2022-07-01T14:20:56.486Z"
   },
   {
    "duration": 34,
    "start_time": "2022-07-01T14:20:56.497Z"
   },
   {
    "duration": 60,
    "start_time": "2022-07-01T14:20:56.533Z"
   },
   {
    "duration": 9,
    "start_time": "2022-07-01T14:20:56.595Z"
   },
   {
    "duration": 18,
    "start_time": "2022-07-01T14:20:56.606Z"
   },
   {
    "duration": 51,
    "start_time": "2022-07-01T14:20:56.631Z"
   },
   {
    "duration": 13,
    "start_time": "2022-07-01T14:20:56.686Z"
   },
   {
    "duration": 8,
    "start_time": "2022-07-01T14:20:56.701Z"
   },
   {
    "duration": 29,
    "start_time": "2022-07-01T14:20:56.711Z"
   },
   {
    "duration": 52,
    "start_time": "2022-07-01T14:20:56.742Z"
   },
   {
    "duration": 39,
    "start_time": "2022-07-01T14:20:56.796Z"
   },
   {
    "duration": 38,
    "start_time": "2022-07-01T14:20:56.839Z"
   },
   {
    "duration": 18,
    "start_time": "2022-07-01T14:20:56.879Z"
   },
   {
    "duration": 25,
    "start_time": "2022-07-01T14:20:56.899Z"
   },
   {
    "duration": 27,
    "start_time": "2022-07-01T14:20:56.926Z"
   },
   {
    "duration": 41,
    "start_time": "2022-07-01T14:20:56.956Z"
   },
   {
    "duration": 10,
    "start_time": "2022-07-01T14:20:56.999Z"
   },
   {
    "duration": 9,
    "start_time": "2022-07-01T14:20:57.011Z"
   },
   {
    "duration": 14,
    "start_time": "2022-07-01T14:20:57.022Z"
   },
   {
    "duration": 46,
    "start_time": "2022-07-01T14:20:57.038Z"
   },
   {
    "duration": 8,
    "start_time": "2022-07-01T14:20:57.086Z"
   },
   {
    "duration": 9,
    "start_time": "2022-07-01T14:20:57.095Z"
   },
   {
    "duration": 13,
    "start_time": "2022-07-01T14:20:57.105Z"
   },
   {
    "duration": 19,
    "start_time": "2022-07-01T14:20:57.119Z"
   },
   {
    "duration": 56,
    "start_time": "2022-07-01T14:20:57.140Z"
   },
   {
    "duration": 9,
    "start_time": "2022-07-01T14:20:57.201Z"
   },
   {
    "duration": 23,
    "start_time": "2022-07-01T14:20:57.212Z"
   },
   {
    "duration": 79,
    "start_time": "2022-07-01T14:20:57.237Z"
   },
   {
    "duration": 44,
    "start_time": "2022-07-01T14:20:57.318Z"
   },
   {
    "duration": 35,
    "start_time": "2022-07-01T14:20:57.364Z"
   },
   {
    "duration": 8,
    "start_time": "2022-07-01T14:20:57.401Z"
   },
   {
    "duration": 10,
    "start_time": "2022-07-01T14:20:57.410Z"
   },
   {
    "duration": 23,
    "start_time": "2022-07-01T14:20:57.422Z"
   },
   {
    "duration": 227,
    "start_time": "2022-07-01T14:21:26.553Z"
   },
   {
    "duration": 31,
    "start_time": "2022-07-01T14:21:31.294Z"
   },
   {
    "duration": 159,
    "start_time": "2022-07-01T14:21:46.422Z"
   },
   {
    "duration": 26,
    "start_time": "2022-07-01T14:22:06.583Z"
   },
   {
    "duration": 9,
    "start_time": "2022-07-01T14:22:11.845Z"
   },
   {
    "duration": 213,
    "start_time": "2022-07-01T14:22:14.808Z"
   },
   {
    "duration": 134,
    "start_time": "2022-07-01T14:22:21.273Z"
   },
   {
    "duration": 3,
    "start_time": "2022-07-01T14:24:46.809Z"
   },
   {
    "duration": 8,
    "start_time": "2022-07-01T14:24:49.284Z"
   },
   {
    "duration": 24,
    "start_time": "2022-07-01T14:26:07.886Z"
   },
   {
    "duration": 27,
    "start_time": "2022-07-01T14:26:32.315Z"
   },
   {
    "duration": 24,
    "start_time": "2022-07-01T14:26:57.680Z"
   },
   {
    "duration": 27,
    "start_time": "2022-07-01T14:27:06.574Z"
   },
   {
    "duration": 7,
    "start_time": "2022-07-01T14:27:21.365Z"
   },
   {
    "duration": 17,
    "start_time": "2022-07-01T14:27:26.069Z"
   },
   {
    "duration": 29,
    "start_time": "2022-07-01T14:28:12.022Z"
   },
   {
    "duration": 4,
    "start_time": "2022-07-01T14:30:17.768Z"
   },
   {
    "duration": 8,
    "start_time": "2022-07-01T14:30:21.918Z"
   },
   {
    "duration": 8,
    "start_time": "2022-07-01T14:30:39.800Z"
   },
   {
    "duration": 26,
    "start_time": "2022-07-01T14:30:49.313Z"
   },
   {
    "duration": 24,
    "start_time": "2022-07-01T14:31:09.821Z"
   },
   {
    "duration": 154,
    "start_time": "2022-07-01T14:31:40.652Z"
   },
   {
    "duration": 215,
    "start_time": "2022-07-01T14:32:36.661Z"
   },
   {
    "duration": 188,
    "start_time": "2022-07-01T14:33:06.654Z"
   },
   {
    "duration": 303,
    "start_time": "2022-07-01T14:33:18.796Z"
   },
   {
    "duration": 208,
    "start_time": "2022-07-01T14:34:08.579Z"
   },
   {
    "duration": 6,
    "start_time": "2022-07-01T14:37:45.754Z"
   },
   {
    "duration": 122,
    "start_time": "2022-07-01T14:37:45.762Z"
   },
   {
    "duration": 30,
    "start_time": "2022-07-01T14:37:45.887Z"
   },
   {
    "duration": 13,
    "start_time": "2022-07-01T14:37:45.928Z"
   },
   {
    "duration": 39,
    "start_time": "2022-07-01T14:37:45.942Z"
   },
   {
    "duration": 14,
    "start_time": "2022-07-01T14:37:45.983Z"
   },
   {
    "duration": 5,
    "start_time": "2022-07-01T14:37:45.999Z"
   },
   {
    "duration": 18,
    "start_time": "2022-07-01T14:37:46.006Z"
   },
   {
    "duration": 54,
    "start_time": "2022-07-01T14:37:46.026Z"
   },
   {
    "duration": 55,
    "start_time": "2022-07-01T14:37:46.083Z"
   },
   {
    "duration": 11,
    "start_time": "2022-07-01T14:37:46.140Z"
   },
   {
    "duration": 129,
    "start_time": "2022-07-01T14:37:46.153Z"
   },
   {
    "duration": 16,
    "start_time": "2022-07-01T14:37:46.284Z"
   },
   {
    "duration": 6,
    "start_time": "2022-07-01T14:37:46.302Z"
   },
   {
    "duration": 182,
    "start_time": "2022-07-01T14:37:46.311Z"
   },
   {
    "duration": 8,
    "start_time": "2022-07-01T14:37:46.495Z"
   },
   {
    "duration": 29,
    "start_time": "2022-07-01T14:37:46.505Z"
   },
   {
    "duration": 45,
    "start_time": "2022-07-01T14:37:46.542Z"
   },
   {
    "duration": 18,
    "start_time": "2022-07-01T14:37:46.590Z"
   },
   {
    "duration": 36,
    "start_time": "2022-07-01T14:37:46.610Z"
   },
   {
    "duration": 58,
    "start_time": "2022-07-01T14:37:46.647Z"
   },
   {
    "duration": 27,
    "start_time": "2022-07-01T14:37:46.708Z"
   },
   {
    "duration": 51,
    "start_time": "2022-07-01T14:37:46.737Z"
   },
   {
    "duration": 29,
    "start_time": "2022-07-01T14:37:46.793Z"
   },
   {
    "duration": 40,
    "start_time": "2022-07-01T14:37:46.824Z"
   },
   {
    "duration": 47,
    "start_time": "2022-07-01T14:37:46.867Z"
   },
   {
    "duration": 36,
    "start_time": "2022-07-01T14:37:46.916Z"
   },
   {
    "duration": 56,
    "start_time": "2022-07-01T14:37:46.956Z"
   },
   {
    "duration": 31,
    "start_time": "2022-07-01T14:37:47.014Z"
   },
   {
    "duration": 49,
    "start_time": "2022-07-01T14:37:47.047Z"
   },
   {
    "duration": 17,
    "start_time": "2022-07-01T14:37:47.098Z"
   },
   {
    "duration": 17,
    "start_time": "2022-07-01T14:37:47.117Z"
   },
   {
    "duration": 55,
    "start_time": "2022-07-01T14:37:47.136Z"
   },
   {
    "duration": 15,
    "start_time": "2022-07-01T14:37:47.193Z"
   },
   {
    "duration": 12,
    "start_time": "2022-07-01T14:37:47.210Z"
   },
   {
    "duration": 43,
    "start_time": "2022-07-01T14:37:47.224Z"
   },
   {
    "duration": 30,
    "start_time": "2022-07-01T14:37:47.269Z"
   },
   {
    "duration": 24,
    "start_time": "2022-07-01T14:37:47.302Z"
   },
   {
    "duration": 70,
    "start_time": "2022-07-01T14:37:47.332Z"
   },
   {
    "duration": 30,
    "start_time": "2022-07-01T14:37:47.404Z"
   },
   {
    "duration": 56,
    "start_time": "2022-07-01T14:37:47.438Z"
   },
   {
    "duration": 16,
    "start_time": "2022-07-01T14:37:47.496Z"
   },
   {
    "duration": 29,
    "start_time": "2022-07-01T14:37:47.514Z"
   },
   {
    "duration": 45,
    "start_time": "2022-07-01T14:37:47.548Z"
   },
   {
    "duration": 26,
    "start_time": "2022-07-01T14:37:47.595Z"
   },
   {
    "duration": 8,
    "start_time": "2022-07-01T14:37:47.623Z"
   },
   {
    "duration": 36,
    "start_time": "2022-07-01T14:37:47.641Z"
   },
   {
    "duration": 15,
    "start_time": "2022-07-01T14:37:47.679Z"
   },
   {
    "duration": 187,
    "start_time": "2022-07-01T14:37:47.695Z"
   },
   {
    "duration": 27,
    "start_time": "2022-07-01T14:37:47.884Z"
   },
   {
    "duration": 116,
    "start_time": "2022-07-01T14:37:47.912Z"
   },
   {
    "duration": 22,
    "start_time": "2022-07-01T14:37:48.030Z"
   },
   {
    "duration": 29,
    "start_time": "2022-07-01T14:37:48.054Z"
   },
   {
    "duration": 206,
    "start_time": "2022-07-01T14:37:48.085Z"
   },
   {
    "duration": 152,
    "start_time": "2022-07-01T14:37:48.294Z"
   },
   {
    "duration": 10,
    "start_time": "2022-07-01T14:37:48.447Z"
   },
   {
    "duration": 27,
    "start_time": "2022-07-01T14:37:48.459Z"
   },
   {
    "duration": 23,
    "start_time": "2022-07-01T14:37:48.488Z"
   },
   {
    "duration": 29,
    "start_time": "2022-07-01T14:37:48.513Z"
   },
   {
    "duration": 252,
    "start_time": "2022-07-01T14:37:48.545Z"
   },
   {
    "duration": 5,
    "start_time": "2022-07-01T14:37:48.799Z"
   },
   {
    "duration": 6,
    "start_time": "2022-07-01T14:37:48.805Z"
   },
   {
    "duration": 43,
    "start_time": "2022-07-01T14:37:48.813Z"
   },
   {
    "duration": 24,
    "start_time": "2022-07-01T14:37:55.575Z"
   },
   {
    "duration": 3,
    "start_time": "2022-07-01T14:38:18.820Z"
   },
   {
    "duration": 27,
    "start_time": "2022-07-01T14:38:20.862Z"
   },
   {
    "duration": 4,
    "start_time": "2022-07-01T14:39:11.405Z"
   },
   {
    "duration": 4,
    "start_time": "2022-07-01T14:39:41.619Z"
   },
   {
    "duration": 8,
    "start_time": "2022-07-01T14:40:18.665Z"
   },
   {
    "duration": 4,
    "start_time": "2022-07-01T14:40:32.384Z"
   },
   {
    "duration": 9,
    "start_time": "2022-07-01T14:40:46.045Z"
   },
   {
    "duration": 122,
    "start_time": "2022-07-01T14:40:46.058Z"
   },
   {
    "duration": 39,
    "start_time": "2022-07-01T14:40:46.185Z"
   },
   {
    "duration": 16,
    "start_time": "2022-07-01T14:40:46.226Z"
   },
   {
    "duration": 33,
    "start_time": "2022-07-01T14:40:46.252Z"
   },
   {
    "duration": 25,
    "start_time": "2022-07-01T14:40:46.286Z"
   },
   {
    "duration": 8,
    "start_time": "2022-07-01T14:40:46.312Z"
   },
   {
    "duration": 58,
    "start_time": "2022-07-01T14:40:46.322Z"
   },
   {
    "duration": 14,
    "start_time": "2022-07-01T14:40:46.383Z"
   },
   {
    "duration": 42,
    "start_time": "2022-07-01T14:40:46.399Z"
   },
   {
    "duration": 31,
    "start_time": "2022-07-01T14:40:46.454Z"
   },
   {
    "duration": 10,
    "start_time": "2022-07-01T14:40:46.487Z"
   },
   {
    "duration": 26,
    "start_time": "2022-07-01T14:40:46.499Z"
   },
   {
    "duration": 53,
    "start_time": "2022-07-01T14:40:46.527Z"
   },
   {
    "duration": 179,
    "start_time": "2022-07-01T14:40:46.582Z"
   },
   {
    "duration": 5,
    "start_time": "2022-07-01T14:40:46.763Z"
   },
   {
    "duration": 17,
    "start_time": "2022-07-01T14:40:46.771Z"
   },
   {
    "duration": 10,
    "start_time": "2022-07-01T14:40:46.790Z"
   },
   {
    "duration": 7,
    "start_time": "2022-07-01T14:40:46.802Z"
   },
   {
    "duration": 23,
    "start_time": "2022-07-01T14:40:46.811Z"
   },
   {
    "duration": 5,
    "start_time": "2022-07-01T14:40:46.835Z"
   },
   {
    "duration": 32,
    "start_time": "2022-07-01T14:40:46.841Z"
   },
   {
    "duration": 6,
    "start_time": "2022-07-01T14:40:46.875Z"
   },
   {
    "duration": 16,
    "start_time": "2022-07-01T14:40:46.885Z"
   },
   {
    "duration": 4,
    "start_time": "2022-07-01T14:40:46.903Z"
   },
   {
    "duration": 32,
    "start_time": "2022-07-01T14:40:46.908Z"
   },
   {
    "duration": 23,
    "start_time": "2022-07-01T14:40:46.942Z"
   },
   {
    "duration": 26,
    "start_time": "2022-07-01T14:40:46.967Z"
   },
   {
    "duration": 17,
    "start_time": "2022-07-01T14:40:46.995Z"
   },
   {
    "duration": 19,
    "start_time": "2022-07-01T14:40:47.014Z"
   },
   {
    "duration": 54,
    "start_time": "2022-07-01T14:40:47.040Z"
   },
   {
    "duration": 9,
    "start_time": "2022-07-01T14:40:47.096Z"
   },
   {
    "duration": 12,
    "start_time": "2022-07-01T14:40:47.107Z"
   },
   {
    "duration": 15,
    "start_time": "2022-07-01T14:40:47.121Z"
   },
   {
    "duration": 39,
    "start_time": "2022-07-01T14:40:47.139Z"
   },
   {
    "duration": 8,
    "start_time": "2022-07-01T14:40:47.180Z"
   },
   {
    "duration": 7,
    "start_time": "2022-07-01T14:40:47.190Z"
   },
   {
    "duration": 19,
    "start_time": "2022-07-01T14:40:47.199Z"
   },
   {
    "duration": 20,
    "start_time": "2022-07-01T14:40:47.220Z"
   },
   {
    "duration": 41,
    "start_time": "2022-07-01T14:40:47.242Z"
   },
   {
    "duration": 13,
    "start_time": "2022-07-01T14:40:47.285Z"
   },
   {
    "duration": 36,
    "start_time": "2022-07-01T14:40:47.302Z"
   },
   {
    "duration": 53,
    "start_time": "2022-07-01T14:40:47.342Z"
   },
   {
    "duration": 22,
    "start_time": "2022-07-01T14:40:47.396Z"
   },
   {
    "duration": 28,
    "start_time": "2022-07-01T14:40:47.420Z"
   },
   {
    "duration": 15,
    "start_time": "2022-07-01T14:40:47.456Z"
   },
   {
    "duration": 10,
    "start_time": "2022-07-01T14:40:47.473Z"
   },
   {
    "duration": 12,
    "start_time": "2022-07-01T14:40:47.484Z"
   },
   {
    "duration": 182,
    "start_time": "2022-07-01T14:40:47.498Z"
   },
   {
    "duration": 34,
    "start_time": "2022-07-01T14:40:47.682Z"
   },
   {
    "duration": 112,
    "start_time": "2022-07-01T14:40:47.718Z"
   },
   {
    "duration": 24,
    "start_time": "2022-07-01T14:40:47.832Z"
   },
   {
    "duration": 20,
    "start_time": "2022-07-01T14:40:47.858Z"
   },
   {
    "duration": 193,
    "start_time": "2022-07-01T14:40:47.879Z"
   },
   {
    "duration": 116,
    "start_time": "2022-07-01T14:40:48.074Z"
   },
   {
    "duration": 4,
    "start_time": "2022-07-01T14:40:48.192Z"
   },
   {
    "duration": 12,
    "start_time": "2022-07-01T14:40:48.197Z"
   },
   {
    "duration": 47,
    "start_time": "2022-07-01T14:40:48.210Z"
   },
   {
    "duration": 23,
    "start_time": "2022-07-01T14:40:48.259Z"
   },
   {
    "duration": 354,
    "start_time": "2022-07-01T14:40:48.283Z"
   },
   {
    "duration": 9,
    "start_time": "2022-07-01T14:40:48.639Z"
   },
   {
    "duration": 21,
    "start_time": "2022-07-01T14:40:48.650Z"
   },
   {
    "duration": 23,
    "start_time": "2022-07-01T14:40:48.673Z"
   },
   {
    "duration": 6,
    "start_time": "2022-07-01T14:40:48.698Z"
   },
   {
    "duration": 47,
    "start_time": "2022-07-01T14:40:48.706Z"
   },
   {
    "duration": 8,
    "start_time": "2022-07-01T14:40:48.759Z"
   },
   {
    "duration": 12,
    "start_time": "2022-07-01T14:41:16.083Z"
   },
   {
    "duration": 3,
    "start_time": "2022-07-01T14:42:14.302Z"
   },
   {
    "duration": 178,
    "start_time": "2022-07-01T14:42:14.307Z"
   },
   {
    "duration": 36,
    "start_time": "2022-07-01T14:42:14.488Z"
   },
   {
    "duration": 14,
    "start_time": "2022-07-01T14:42:14.525Z"
   },
   {
    "duration": 55,
    "start_time": "2022-07-01T14:42:14.542Z"
   },
   {
    "duration": 76,
    "start_time": "2022-07-01T14:42:14.599Z"
   },
   {
    "duration": 35,
    "start_time": "2022-07-01T14:42:14.677Z"
   },
   {
    "duration": 79,
    "start_time": "2022-07-01T14:42:14.714Z"
   },
   {
    "duration": 43,
    "start_time": "2022-07-01T14:42:14.795Z"
   },
   {
    "duration": 108,
    "start_time": "2022-07-01T14:42:14.841Z"
   },
   {
    "duration": 8,
    "start_time": "2022-07-01T14:42:14.962Z"
   },
   {
    "duration": 44,
    "start_time": "2022-07-01T14:42:14.972Z"
   },
   {
    "duration": 70,
    "start_time": "2022-07-01T14:42:15.018Z"
   },
   {
    "duration": 17,
    "start_time": "2022-07-01T14:42:15.090Z"
   },
   {
    "duration": 196,
    "start_time": "2022-07-01T14:42:15.109Z"
   },
   {
    "duration": 5,
    "start_time": "2022-07-01T14:42:15.307Z"
   },
   {
    "duration": 74,
    "start_time": "2022-07-01T14:42:15.314Z"
   },
   {
    "duration": 15,
    "start_time": "2022-07-01T14:42:15.390Z"
   },
   {
    "duration": 34,
    "start_time": "2022-07-01T14:42:15.407Z"
   },
   {
    "duration": 60,
    "start_time": "2022-07-01T14:42:15.442Z"
   },
   {
    "duration": 66,
    "start_time": "2022-07-01T14:42:15.504Z"
   },
   {
    "duration": 30,
    "start_time": "2022-07-01T14:42:15.572Z"
   },
   {
    "duration": 22,
    "start_time": "2022-07-01T14:42:15.604Z"
   },
   {
    "duration": 68,
    "start_time": "2022-07-01T14:42:15.632Z"
   },
   {
    "duration": 34,
    "start_time": "2022-07-01T14:42:15.702Z"
   },
   {
    "duration": 64,
    "start_time": "2022-07-01T14:42:15.737Z"
   },
   {
    "duration": 54,
    "start_time": "2022-07-01T14:42:15.802Z"
   },
   {
    "duration": 39,
    "start_time": "2022-07-01T14:42:15.862Z"
   },
   {
    "duration": 33,
    "start_time": "2022-07-01T14:42:15.905Z"
   },
   {
    "duration": 47,
    "start_time": "2022-07-01T14:42:15.946Z"
   },
   {
    "duration": 84,
    "start_time": "2022-07-01T14:42:15.995Z"
   },
   {
    "duration": 50,
    "start_time": "2022-07-01T14:42:16.081Z"
   },
   {
    "duration": 61,
    "start_time": "2022-07-01T14:42:16.134Z"
   },
   {
    "duration": 26,
    "start_time": "2022-07-01T14:42:16.197Z"
   },
   {
    "duration": 62,
    "start_time": "2022-07-01T14:42:16.225Z"
   },
   {
    "duration": 29,
    "start_time": "2022-07-01T14:42:16.288Z"
   },
   {
    "duration": 57,
    "start_time": "2022-07-01T14:42:16.318Z"
   },
   {
    "duration": 22,
    "start_time": "2022-07-01T14:42:16.378Z"
   },
   {
    "duration": 36,
    "start_time": "2022-07-01T14:42:16.402Z"
   },
   {
    "duration": 85,
    "start_time": "2022-07-01T14:42:16.440Z"
   },
   {
    "duration": 15,
    "start_time": "2022-07-01T14:42:16.527Z"
   },
   {
    "duration": 40,
    "start_time": "2022-07-01T14:42:16.544Z"
   },
   {
    "duration": 23,
    "start_time": "2022-07-01T14:42:16.585Z"
   },
   {
    "duration": 58,
    "start_time": "2022-07-01T14:42:16.610Z"
   },
   {
    "duration": 43,
    "start_time": "2022-07-01T14:42:16.670Z"
   },
   {
    "duration": 6,
    "start_time": "2022-07-01T14:42:16.715Z"
   },
   {
    "duration": 60,
    "start_time": "2022-07-01T14:42:16.724Z"
   },
   {
    "duration": 32,
    "start_time": "2022-07-01T14:42:16.786Z"
   },
   {
    "duration": 211,
    "start_time": "2022-07-01T14:42:16.820Z"
   },
   {
    "duration": 42,
    "start_time": "2022-07-01T14:42:17.033Z"
   },
   {
    "duration": 132,
    "start_time": "2022-07-01T14:42:17.076Z"
   },
   {
    "duration": 39,
    "start_time": "2022-07-01T14:42:17.210Z"
   },
   {
    "duration": 48,
    "start_time": "2022-07-01T14:42:17.253Z"
   },
   {
    "duration": 231,
    "start_time": "2022-07-01T14:42:17.303Z"
   },
   {
    "duration": 103,
    "start_time": "2022-07-01T14:42:17.536Z"
   },
   {
    "duration": 5,
    "start_time": "2022-07-01T14:42:17.641Z"
   },
   {
    "duration": 29,
    "start_time": "2022-07-01T14:42:17.648Z"
   },
   {
    "duration": 22,
    "start_time": "2022-07-01T14:42:17.679Z"
   },
   {
    "duration": 18,
    "start_time": "2022-07-01T14:44:37.125Z"
   },
   {
    "duration": 3,
    "start_time": "2022-07-01T14:45:21.067Z"
   },
   {
    "duration": 121,
    "start_time": "2022-07-01T14:45:21.072Z"
   },
   {
    "duration": 41,
    "start_time": "2022-07-01T14:45:21.195Z"
   },
   {
    "duration": 15,
    "start_time": "2022-07-01T14:45:21.238Z"
   },
   {
    "duration": 21,
    "start_time": "2022-07-01T14:45:21.262Z"
   },
   {
    "duration": 35,
    "start_time": "2022-07-01T14:45:21.285Z"
   },
   {
    "duration": 8,
    "start_time": "2022-07-01T14:45:21.322Z"
   },
   {
    "duration": 53,
    "start_time": "2022-07-01T14:45:21.337Z"
   },
   {
    "duration": 13,
    "start_time": "2022-07-01T14:45:21.392Z"
   },
   {
    "duration": 44,
    "start_time": "2022-07-01T14:45:21.407Z"
   },
   {
    "duration": 9,
    "start_time": "2022-07-01T14:45:21.453Z"
   },
   {
    "duration": 36,
    "start_time": "2022-07-01T14:45:21.463Z"
   },
   {
    "duration": 9,
    "start_time": "2022-07-01T14:45:21.500Z"
   },
   {
    "duration": 7,
    "start_time": "2022-07-01T14:45:21.512Z"
   },
   {
    "duration": 131,
    "start_time": "2022-07-01T14:45:21.520Z"
   },
   {
    "duration": 5,
    "start_time": "2022-07-01T14:45:21.652Z"
   },
   {
    "duration": 19,
    "start_time": "2022-07-01T14:45:21.664Z"
   },
   {
    "duration": 10,
    "start_time": "2022-07-01T14:45:21.685Z"
   },
   {
    "duration": 4,
    "start_time": "2022-07-01T14:45:21.697Z"
   },
   {
    "duration": 18,
    "start_time": "2022-07-01T14:45:21.702Z"
   },
   {
    "duration": 13,
    "start_time": "2022-07-01T14:45:21.722Z"
   },
   {
    "duration": 38,
    "start_time": "2022-07-01T14:45:21.739Z"
   },
   {
    "duration": 8,
    "start_time": "2022-07-01T14:45:21.779Z"
   },
   {
    "duration": 21,
    "start_time": "2022-07-01T14:45:21.789Z"
   },
   {
    "duration": 3,
    "start_time": "2022-07-01T14:45:21.812Z"
   },
   {
    "duration": 43,
    "start_time": "2022-07-01T14:45:21.816Z"
   },
   {
    "duration": 30,
    "start_time": "2022-07-01T14:45:21.860Z"
   },
   {
    "duration": 17,
    "start_time": "2022-07-01T14:45:21.892Z"
   },
   {
    "duration": 30,
    "start_time": "2022-07-01T14:45:21.911Z"
   },
   {
    "duration": 42,
    "start_time": "2022-07-01T14:45:21.942Z"
   },
   {
    "duration": 22,
    "start_time": "2022-07-01T14:45:21.985Z"
   },
   {
    "duration": 18,
    "start_time": "2022-07-01T14:45:22.009Z"
   },
   {
    "duration": 38,
    "start_time": "2022-07-01T14:45:22.029Z"
   },
   {
    "duration": 9,
    "start_time": "2022-07-01T14:45:22.069Z"
   },
   {
    "duration": 11,
    "start_time": "2022-07-01T14:45:22.079Z"
   },
   {
    "duration": 9,
    "start_time": "2022-07-01T14:45:22.091Z"
   },
   {
    "duration": 7,
    "start_time": "2022-07-01T14:45:22.101Z"
   },
   {
    "duration": 21,
    "start_time": "2022-07-01T14:45:22.110Z"
   },
   {
    "duration": 16,
    "start_time": "2022-07-01T14:45:22.133Z"
   },
   {
    "duration": 40,
    "start_time": "2022-07-01T14:45:22.150Z"
   },
   {
    "duration": 11,
    "start_time": "2022-07-01T14:45:22.194Z"
   },
   {
    "duration": 19,
    "start_time": "2022-07-01T14:45:22.207Z"
   },
   {
    "duration": 63,
    "start_time": "2022-07-01T14:45:22.227Z"
   },
   {
    "duration": 26,
    "start_time": "2022-07-01T14:45:22.292Z"
   },
   {
    "duration": 43,
    "start_time": "2022-07-01T14:45:22.321Z"
   },
   {
    "duration": 13,
    "start_time": "2022-07-01T14:45:22.366Z"
   },
   {
    "duration": 31,
    "start_time": "2022-07-01T14:45:22.380Z"
   },
   {
    "duration": 12,
    "start_time": "2022-07-01T14:45:22.413Z"
   },
   {
    "duration": 194,
    "start_time": "2022-07-01T14:45:22.429Z"
   },
   {
    "duration": 44,
    "start_time": "2022-07-01T14:45:22.625Z"
   },
   {
    "duration": 131,
    "start_time": "2022-07-01T14:45:22.671Z"
   },
   {
    "duration": 33,
    "start_time": "2022-07-01T14:45:22.804Z"
   },
   {
    "duration": 9,
    "start_time": "2022-07-01T14:45:22.838Z"
   },
   {
    "duration": 205,
    "start_time": "2022-07-01T14:45:22.849Z"
   },
   {
    "duration": 123,
    "start_time": "2022-07-01T14:45:23.058Z"
   },
   {
    "duration": 4,
    "start_time": "2022-07-01T14:45:23.183Z"
   },
   {
    "duration": 15,
    "start_time": "2022-07-01T14:45:23.188Z"
   },
   {
    "duration": 56,
    "start_time": "2022-07-01T14:45:23.204Z"
   },
   {
    "duration": 11,
    "start_time": "2022-07-01T14:45:29.702Z"
   },
   {
    "duration": 3,
    "start_time": "2022-07-01T14:46:07.211Z"
   },
   {
    "duration": 173,
    "start_time": "2022-07-01T14:46:07.216Z"
   },
   {
    "duration": 33,
    "start_time": "2022-07-01T14:46:07.392Z"
   },
   {
    "duration": 15,
    "start_time": "2022-07-01T14:46:07.438Z"
   },
   {
    "duration": 28,
    "start_time": "2022-07-01T14:46:07.455Z"
   },
   {
    "duration": 12,
    "start_time": "2022-07-01T14:46:07.485Z"
   },
   {
    "duration": 5,
    "start_time": "2022-07-01T14:46:07.499Z"
   },
   {
    "duration": 24,
    "start_time": "2022-07-01T14:46:07.506Z"
   },
   {
    "duration": 21,
    "start_time": "2022-07-01T14:46:07.536Z"
   },
   {
    "duration": 57,
    "start_time": "2022-07-01T14:46:07.559Z"
   },
   {
    "duration": 8,
    "start_time": "2022-07-01T14:46:07.618Z"
   },
   {
    "duration": 47,
    "start_time": "2022-07-01T14:46:07.630Z"
   },
   {
    "duration": 6,
    "start_time": "2022-07-01T14:46:07.679Z"
   },
   {
    "duration": 4,
    "start_time": "2022-07-01T14:46:07.687Z"
   },
   {
    "duration": 130,
    "start_time": "2022-07-01T14:46:07.693Z"
   },
   {
    "duration": 9,
    "start_time": "2022-07-01T14:46:07.825Z"
   },
   {
    "duration": 40,
    "start_time": "2022-07-01T14:46:07.840Z"
   },
   {
    "duration": 11,
    "start_time": "2022-07-01T14:46:07.881Z"
   },
   {
    "duration": 9,
    "start_time": "2022-07-01T14:46:07.894Z"
   },
   {
    "duration": 12,
    "start_time": "2022-07-01T14:46:07.905Z"
   },
   {
    "duration": 17,
    "start_time": "2022-07-01T14:46:07.919Z"
   },
   {
    "duration": 31,
    "start_time": "2022-07-01T14:46:07.942Z"
   },
   {
    "duration": 12,
    "start_time": "2022-07-01T14:46:07.975Z"
   },
   {
    "duration": 21,
    "start_time": "2022-07-01T14:46:07.992Z"
   },
   {
    "duration": 4,
    "start_time": "2022-07-01T14:46:08.015Z"
   },
   {
    "duration": 43,
    "start_time": "2022-07-01T14:46:08.021Z"
   },
   {
    "duration": 152,
    "start_time": "2022-07-01T14:46:08.067Z"
   },
   {
    "duration": 28,
    "start_time": "2022-07-01T14:46:08.221Z"
   },
   {
    "duration": 47,
    "start_time": "2022-07-01T14:46:08.251Z"
   },
   {
    "duration": 24,
    "start_time": "2022-07-01T14:46:08.300Z"
   },
   {
    "duration": 56,
    "start_time": "2022-07-01T14:46:08.326Z"
   },
   {
    "duration": 13,
    "start_time": "2022-07-01T14:46:08.384Z"
   },
   {
    "duration": 15,
    "start_time": "2022-07-01T14:46:08.399Z"
   },
   {
    "duration": 8,
    "start_time": "2022-07-01T14:46:08.416Z"
   },
   {
    "duration": 52,
    "start_time": "2022-07-01T14:46:08.426Z"
   },
   {
    "duration": 7,
    "start_time": "2022-07-01T14:46:08.479Z"
   },
   {
    "duration": 7,
    "start_time": "2022-07-01T14:46:08.488Z"
   },
   {
    "duration": 13,
    "start_time": "2022-07-01T14:46:08.497Z"
   },
   {
    "duration": 21,
    "start_time": "2022-07-01T14:46:08.512Z"
   },
   {
    "duration": 39,
    "start_time": "2022-07-01T14:46:08.538Z"
   },
   {
    "duration": 13,
    "start_time": "2022-07-01T14:46:08.579Z"
   },
   {
    "duration": 16,
    "start_time": "2022-07-01T14:46:08.594Z"
   },
   {
    "duration": 28,
    "start_time": "2022-07-01T14:46:08.612Z"
   },
   {
    "duration": 33,
    "start_time": "2022-07-01T14:46:08.642Z"
   },
   {
    "duration": 29,
    "start_time": "2022-07-01T14:46:08.676Z"
   },
   {
    "duration": 7,
    "start_time": "2022-07-01T14:46:08.707Z"
   },
   {
    "duration": 31,
    "start_time": "2022-07-01T14:46:08.716Z"
   },
   {
    "duration": 33,
    "start_time": "2022-07-01T14:46:08.749Z"
   },
   {
    "duration": 183,
    "start_time": "2022-07-01T14:46:08.784Z"
   },
   {
    "duration": 29,
    "start_time": "2022-07-01T14:46:08.969Z"
   },
   {
    "duration": 112,
    "start_time": "2022-07-01T14:46:09.000Z"
   },
   {
    "duration": 39,
    "start_time": "2022-07-01T14:46:09.114Z"
   },
   {
    "duration": 26,
    "start_time": "2022-07-01T14:46:18.020Z"
   },
   {
    "duration": 4,
    "start_time": "2022-07-01T14:55:55.192Z"
   },
   {
    "duration": 12,
    "start_time": "2022-07-01T14:56:07.247Z"
   },
   {
    "duration": 19,
    "start_time": "2022-07-01T14:56:10.072Z"
   },
   {
    "duration": 2,
    "start_time": "2022-07-01T14:56:48.113Z"
   },
   {
    "duration": 142,
    "start_time": "2022-07-01T14:56:48.117Z"
   },
   {
    "duration": 45,
    "start_time": "2022-07-01T14:56:48.261Z"
   },
   {
    "duration": 8,
    "start_time": "2022-07-01T14:56:48.308Z"
   },
   {
    "duration": 8,
    "start_time": "2022-07-01T14:56:48.318Z"
   },
   {
    "duration": 44,
    "start_time": "2022-07-01T14:56:48.333Z"
   },
   {
    "duration": 4,
    "start_time": "2022-07-01T14:56:48.379Z"
   },
   {
    "duration": 18,
    "start_time": "2022-07-01T14:56:48.385Z"
   },
   {
    "duration": 15,
    "start_time": "2022-07-01T14:56:48.404Z"
   },
   {
    "duration": 31,
    "start_time": "2022-07-01T14:56:48.421Z"
   },
   {
    "duration": 28,
    "start_time": "2022-07-01T14:56:48.455Z"
   },
   {
    "duration": 8,
    "start_time": "2022-07-01T14:56:48.485Z"
   },
   {
    "duration": 9,
    "start_time": "2022-07-01T14:56:48.495Z"
   },
   {
    "duration": 7,
    "start_time": "2022-07-01T14:56:48.505Z"
   },
   {
    "duration": 141,
    "start_time": "2022-07-01T14:56:48.514Z"
   },
   {
    "duration": 8,
    "start_time": "2022-07-01T14:56:48.657Z"
   },
   {
    "duration": 19,
    "start_time": "2022-07-01T14:56:48.666Z"
   },
   {
    "duration": 11,
    "start_time": "2022-07-01T14:56:48.687Z"
   },
   {
    "duration": 6,
    "start_time": "2022-07-01T14:56:48.700Z"
   },
   {
    "duration": 18,
    "start_time": "2022-07-01T14:56:48.707Z"
   },
   {
    "duration": 41,
    "start_time": "2022-07-01T14:56:48.728Z"
   },
   {
    "duration": 12,
    "start_time": "2022-07-01T14:56:48.771Z"
   },
   {
    "duration": 7,
    "start_time": "2022-07-01T14:56:48.785Z"
   },
   {
    "duration": 16,
    "start_time": "2022-07-01T14:56:48.793Z"
   },
   {
    "duration": 3,
    "start_time": "2022-07-01T14:56:48.811Z"
   },
   {
    "duration": 50,
    "start_time": "2022-07-01T14:56:48.816Z"
   },
   {
    "duration": 23,
    "start_time": "2022-07-01T14:56:48.868Z"
   },
   {
    "duration": 23,
    "start_time": "2022-07-01T14:56:48.893Z"
   },
   {
    "duration": 26,
    "start_time": "2022-07-01T14:56:48.921Z"
   },
   {
    "duration": 40,
    "start_time": "2022-07-01T14:56:48.950Z"
   },
   {
    "duration": 22,
    "start_time": "2022-07-01T14:56:48.992Z"
   },
   {
    "duration": 10,
    "start_time": "2022-07-01T14:56:49.016Z"
   },
   {
    "duration": 50,
    "start_time": "2022-07-01T14:56:49.028Z"
   },
   {
    "duration": 9,
    "start_time": "2022-07-01T14:56:49.080Z"
   },
   {
    "duration": 18,
    "start_time": "2022-07-01T14:56:49.091Z"
   },
   {
    "duration": 6,
    "start_time": "2022-07-01T14:56:49.111Z"
   },
   {
    "duration": 12,
    "start_time": "2022-07-01T14:56:49.118Z"
   },
   {
    "duration": 47,
    "start_time": "2022-07-01T14:56:49.131Z"
   },
   {
    "duration": 19,
    "start_time": "2022-07-01T14:56:49.180Z"
   },
   {
    "duration": 33,
    "start_time": "2022-07-01T14:56:49.201Z"
   },
   {
    "duration": 37,
    "start_time": "2022-07-01T14:56:49.244Z"
   },
   {
    "duration": 29,
    "start_time": "2022-07-01T14:56:49.283Z"
   },
   {
    "duration": 40,
    "start_time": "2022-07-01T14:56:49.314Z"
   },
   {
    "duration": 37,
    "start_time": "2022-07-01T14:56:49.361Z"
   },
   {
    "duration": 23,
    "start_time": "2022-07-01T14:56:49.400Z"
   },
   {
    "duration": 5,
    "start_time": "2022-07-01T14:56:49.425Z"
   },
   {
    "duration": 45,
    "start_time": "2022-07-01T14:56:49.431Z"
   },
   {
    "duration": 14,
    "start_time": "2022-07-01T14:56:49.478Z"
   },
   {
    "duration": 181,
    "start_time": "2022-07-01T14:56:49.494Z"
   },
   {
    "duration": 35,
    "start_time": "2022-07-01T14:56:49.677Z"
   },
   {
    "duration": 132,
    "start_time": "2022-07-01T14:56:49.714Z"
   },
   {
    "duration": 22,
    "start_time": "2022-07-01T14:56:49.848Z"
   },
   {
    "duration": 19,
    "start_time": "2022-07-01T14:56:49.872Z"
   },
   {
    "duration": 8,
    "start_time": "2022-07-01T14:56:49.892Z"
   },
   {
    "duration": 209,
    "start_time": "2022-07-01T14:56:49.902Z"
   },
   {
    "duration": 116,
    "start_time": "2022-07-01T14:56:50.113Z"
   },
   {
    "duration": 3,
    "start_time": "2022-07-01T14:56:50.231Z"
   },
   {
    "duration": 43,
    "start_time": "2022-07-01T14:56:50.236Z"
   },
   {
    "duration": 22,
    "start_time": "2022-07-01T14:56:50.280Z"
   },
   {
    "duration": 21,
    "start_time": "2022-07-01T14:56:50.304Z"
   },
   {
    "duration": 208,
    "start_time": "2022-07-01T14:56:50.326Z"
   },
   {
    "duration": 10,
    "start_time": "2022-07-01T14:56:50.540Z"
   },
   {
    "duration": 23,
    "start_time": "2022-07-01T14:56:50.554Z"
   },
   {
    "duration": 39,
    "start_time": "2022-07-01T14:56:50.579Z"
   },
   {
    "duration": 39,
    "start_time": "2022-07-01T14:56:50.620Z"
   },
   {
    "duration": 41,
    "start_time": "2022-07-01T14:56:50.664Z"
   },
   {
    "duration": 4,
    "start_time": "2022-07-01T14:56:50.707Z"
   },
   {
    "duration": 7,
    "start_time": "2022-07-01T15:04:07.156Z"
   },
   {
    "duration": 128,
    "start_time": "2022-07-01T15:04:07.165Z"
   },
   {
    "duration": 39,
    "start_time": "2022-07-01T15:04:07.294Z"
   },
   {
    "duration": 17,
    "start_time": "2022-07-01T15:04:07.337Z"
   },
   {
    "duration": 30,
    "start_time": "2022-07-01T15:04:07.357Z"
   },
   {
    "duration": 15,
    "start_time": "2022-07-01T15:04:07.390Z"
   },
   {
    "duration": 9,
    "start_time": "2022-07-01T15:04:07.407Z"
   },
   {
    "duration": 70,
    "start_time": "2022-07-01T15:04:07.418Z"
   },
   {
    "duration": 13,
    "start_time": "2022-07-01T15:04:07.491Z"
   },
   {
    "duration": 46,
    "start_time": "2022-07-01T15:04:07.506Z"
   },
   {
    "duration": 19,
    "start_time": "2022-07-01T15:04:07.556Z"
   },
   {
    "duration": 10,
    "start_time": "2022-07-01T15:04:07.578Z"
   },
   {
    "duration": 10,
    "start_time": "2022-07-01T15:04:07.590Z"
   },
   {
    "duration": 11,
    "start_time": "2022-07-01T15:04:07.603Z"
   },
   {
    "duration": 170,
    "start_time": "2022-07-01T15:04:07.615Z"
   },
   {
    "duration": 6,
    "start_time": "2022-07-01T15:04:07.787Z"
   },
   {
    "duration": 20,
    "start_time": "2022-07-01T15:04:07.795Z"
   },
   {
    "duration": 56,
    "start_time": "2022-07-01T15:04:07.816Z"
   },
   {
    "duration": 14,
    "start_time": "2022-07-01T15:04:07.875Z"
   },
   {
    "duration": 21,
    "start_time": "2022-07-01T15:04:07.891Z"
   },
   {
    "duration": 5,
    "start_time": "2022-07-01T15:04:07.914Z"
   },
   {
    "duration": 40,
    "start_time": "2022-07-01T15:04:07.920Z"
   },
   {
    "duration": 8,
    "start_time": "2022-07-01T15:04:07.962Z"
   },
   {
    "duration": 21,
    "start_time": "2022-07-01T15:04:07.971Z"
   },
   {
    "duration": 4,
    "start_time": "2022-07-01T15:04:07.994Z"
   },
   {
    "duration": 36,
    "start_time": "2022-07-01T15:04:08.000Z"
   },
   {
    "duration": 32,
    "start_time": "2022-07-01T15:04:08.039Z"
   },
   {
    "duration": 35,
    "start_time": "2022-07-01T15:04:08.073Z"
   },
   {
    "duration": 30,
    "start_time": "2022-07-01T15:04:08.110Z"
   },
   {
    "duration": 20,
    "start_time": "2022-07-01T15:04:08.142Z"
   },
   {
    "duration": 17,
    "start_time": "2022-07-01T15:04:08.165Z"
   },
   {
    "duration": 7,
    "start_time": "2022-07-01T15:04:08.183Z"
   },
   {
    "duration": 9,
    "start_time": "2022-07-01T15:04:08.192Z"
   },
   {
    "duration": 34,
    "start_time": "2022-07-01T15:04:08.203Z"
   },
   {
    "duration": 45,
    "start_time": "2022-07-01T15:04:08.238Z"
   },
   {
    "duration": 7,
    "start_time": "2022-07-01T15:04:08.285Z"
   },
   {
    "duration": 7,
    "start_time": "2022-07-01T15:04:08.294Z"
   },
   {
    "duration": 18,
    "start_time": "2022-07-01T15:04:08.303Z"
   },
   {
    "duration": 22,
    "start_time": "2022-07-01T15:04:08.323Z"
   },
   {
    "duration": 44,
    "start_time": "2022-07-01T15:04:08.347Z"
   },
   {
    "duration": 9,
    "start_time": "2022-07-01T15:04:08.395Z"
   },
   {
    "duration": 44,
    "start_time": "2022-07-01T15:04:08.407Z"
   },
   {
    "duration": 58,
    "start_time": "2022-07-01T15:04:08.452Z"
   },
   {
    "duration": 32,
    "start_time": "2022-07-01T15:04:08.512Z"
   },
   {
    "duration": 44,
    "start_time": "2022-07-01T15:04:08.546Z"
   },
   {
    "duration": 4,
    "start_time": "2022-07-01T15:04:08.592Z"
   },
   {
    "duration": 11,
    "start_time": "2022-07-01T15:04:08.598Z"
   },
   {
    "duration": 14,
    "start_time": "2022-07-01T15:04:08.611Z"
   },
   {
    "duration": 239,
    "start_time": "2022-07-01T15:04:08.627Z"
   },
   {
    "duration": 113,
    "start_time": "2022-07-01T15:04:08.869Z"
   },
   {
    "duration": 4,
    "start_time": "2022-07-01T15:04:08.983Z"
   },
   {
    "duration": 14,
    "start_time": "2022-07-01T15:04:08.988Z"
   },
   {
    "duration": 48,
    "start_time": "2022-07-01T15:04:09.003Z"
   },
   {
    "duration": 18,
    "start_time": "2022-07-01T15:04:15.168Z"
   },
   {
    "duration": 347,
    "start_time": "2022-07-01T15:04:17.105Z"
   },
   {
    "duration": 5,
    "start_time": "2022-07-01T15:04:29.863Z"
   },
   {
    "duration": 3,
    "start_time": "2022-07-01T15:04:37.958Z"
   },
   {
    "duration": 123,
    "start_time": "2022-07-01T15:04:37.964Z"
   },
   {
    "duration": 41,
    "start_time": "2022-07-01T15:04:38.089Z"
   },
   {
    "duration": 13,
    "start_time": "2022-07-01T15:04:38.132Z"
   },
   {
    "duration": 30,
    "start_time": "2022-07-01T15:04:38.147Z"
   },
   {
    "duration": 12,
    "start_time": "2022-07-01T15:04:38.179Z"
   },
   {
    "duration": 4,
    "start_time": "2022-07-01T15:04:38.193Z"
   },
   {
    "duration": 33,
    "start_time": "2022-07-01T15:04:38.199Z"
   },
   {
    "duration": 26,
    "start_time": "2022-07-01T15:04:38.236Z"
   },
   {
    "duration": 36,
    "start_time": "2022-07-01T15:04:38.264Z"
   },
   {
    "duration": 7,
    "start_time": "2022-07-01T15:04:38.303Z"
   },
   {
    "duration": 9,
    "start_time": "2022-07-01T15:04:38.311Z"
   },
   {
    "duration": 15,
    "start_time": "2022-07-01T15:04:38.321Z"
   },
   {
    "duration": 27,
    "start_time": "2022-07-01T15:04:38.345Z"
   },
   {
    "duration": 117,
    "start_time": "2022-07-01T15:04:38.374Z"
   },
   {
    "duration": 5,
    "start_time": "2022-07-01T15:04:38.493Z"
   },
   {
    "duration": 12,
    "start_time": "2022-07-01T15:04:38.499Z"
   },
   {
    "duration": 22,
    "start_time": "2022-07-01T15:04:38.513Z"
   },
   {
    "duration": 4,
    "start_time": "2022-07-01T15:04:38.536Z"
   },
   {
    "duration": 33,
    "start_time": "2022-07-01T15:04:38.544Z"
   },
   {
    "duration": 5,
    "start_time": "2022-07-01T15:04:38.578Z"
   },
   {
    "duration": 10,
    "start_time": "2022-07-01T15:04:38.584Z"
   },
   {
    "duration": 7,
    "start_time": "2022-07-01T15:04:38.596Z"
   },
   {
    "duration": 19,
    "start_time": "2022-07-01T15:04:38.606Z"
   },
   {
    "duration": 3,
    "start_time": "2022-07-01T15:04:38.627Z"
   },
   {
    "duration": 77,
    "start_time": "2022-07-01T15:04:38.632Z"
   },
   {
    "duration": 45,
    "start_time": "2022-07-01T15:04:38.711Z"
   },
   {
    "duration": 26,
    "start_time": "2022-07-01T15:04:38.764Z"
   },
   {
    "duration": 18,
    "start_time": "2022-07-01T15:04:38.792Z"
   },
   {
    "duration": 21,
    "start_time": "2022-07-01T15:04:38.811Z"
   },
   {
    "duration": 52,
    "start_time": "2022-07-01T15:04:38.833Z"
   },
   {
    "duration": 11,
    "start_time": "2022-07-01T15:04:38.887Z"
   },
   {
    "duration": 15,
    "start_time": "2022-07-01T15:04:38.899Z"
   },
   {
    "duration": 10,
    "start_time": "2022-07-01T15:04:38.916Z"
   },
   {
    "duration": 54,
    "start_time": "2022-07-01T15:04:38.927Z"
   },
   {
    "duration": 7,
    "start_time": "2022-07-01T15:04:38.983Z"
   },
   {
    "duration": 9,
    "start_time": "2022-07-01T15:04:38.992Z"
   },
   {
    "duration": 12,
    "start_time": "2022-07-01T15:04:39.002Z"
   },
   {
    "duration": 21,
    "start_time": "2022-07-01T15:04:39.016Z"
   },
   {
    "duration": 47,
    "start_time": "2022-07-01T15:04:39.039Z"
   },
   {
    "duration": 13,
    "start_time": "2022-07-01T15:04:39.088Z"
   },
   {
    "duration": 16,
    "start_time": "2022-07-01T15:04:39.103Z"
   },
   {
    "duration": 37,
    "start_time": "2022-07-01T15:04:39.121Z"
   },
   {
    "duration": 41,
    "start_time": "2022-07-01T15:04:39.163Z"
   },
   {
    "duration": 18,
    "start_time": "2022-07-01T15:04:39.206Z"
   },
   {
    "duration": 48,
    "start_time": "2022-07-01T15:04:39.227Z"
   },
   {
    "duration": 27,
    "start_time": "2022-07-01T15:04:39.277Z"
   },
   {
    "duration": 15,
    "start_time": "2022-07-01T15:04:39.306Z"
   },
   {
    "duration": 183,
    "start_time": "2022-07-01T15:04:39.323Z"
   },
   {
    "duration": 154,
    "start_time": "2022-07-01T15:04:39.510Z"
   },
   {
    "duration": 8,
    "start_time": "2022-07-01T15:04:39.667Z"
   },
   {
    "duration": 14,
    "start_time": "2022-07-01T15:04:39.677Z"
   },
   {
    "duration": 52,
    "start_time": "2022-07-01T15:04:39.693Z"
   },
   {
    "duration": 46,
    "start_time": "2022-07-01T15:04:39.747Z"
   },
   {
    "duration": 243,
    "start_time": "2022-07-01T15:04:39.796Z"
   },
   {
    "duration": 5,
    "start_time": "2022-07-01T15:04:40.042Z"
   },
   {
    "duration": 32,
    "start_time": "2022-07-01T15:04:40.049Z"
   },
   {
    "duration": 34,
    "start_time": "2022-07-01T15:04:40.082Z"
   },
   {
    "duration": 5,
    "start_time": "2022-07-01T15:04:40.117Z"
   },
   {
    "duration": 56,
    "start_time": "2022-07-01T15:04:40.123Z"
   },
   {
    "duration": 3,
    "start_time": "2022-07-01T15:04:40.181Z"
   },
   {
    "duration": 24,
    "start_time": "2022-07-01T15:05:24.115Z"
   },
   {
    "duration": 10,
    "start_time": "2022-07-01T15:05:28.380Z"
   },
   {
    "duration": 172,
    "start_time": "2022-07-01T15:05:46.603Z"
   },
   {
    "duration": 163,
    "start_time": "2022-07-01T15:06:15.273Z"
   },
   {
    "duration": 143,
    "start_time": "2022-07-01T15:06:28.169Z"
   },
   {
    "duration": 167,
    "start_time": "2022-07-01T15:07:19.924Z"
   },
   {
    "duration": 194,
    "start_time": "2022-07-01T15:09:36.381Z"
   },
   {
    "duration": 198,
    "start_time": "2022-07-01T15:09:39.161Z"
   },
   {
    "duration": 23,
    "start_time": "2022-07-01T15:10:26.490Z"
   },
   {
    "duration": 17,
    "start_time": "2022-07-01T15:10:47.575Z"
   },
   {
    "duration": 5,
    "start_time": "2022-07-01T15:16:09.986Z"
   },
   {
    "duration": 18,
    "start_time": "2022-07-01T15:16:19.249Z"
   },
   {
    "duration": 16,
    "start_time": "2022-07-01T15:16:37.094Z"
   },
   {
    "duration": 6,
    "start_time": "2022-07-01T15:16:55.283Z"
   },
   {
    "duration": 6,
    "start_time": "2022-07-01T15:17:03.316Z"
   },
   {
    "duration": 5,
    "start_time": "2022-07-01T15:25:10.469Z"
   },
   {
    "duration": 61,
    "start_time": "2022-07-01T15:25:51.051Z"
   },
   {
    "duration": 83,
    "start_time": "2022-07-01T15:26:08.553Z"
   },
   {
    "duration": 27,
    "start_time": "2022-07-01T15:26:19.547Z"
   },
   {
    "duration": 21,
    "start_time": "2022-07-01T15:26:55.248Z"
   },
   {
    "duration": 9,
    "start_time": "2022-07-01T15:27:18.770Z"
   },
   {
    "duration": 10,
    "start_time": "2022-07-01T15:27:32.985Z"
   },
   {
    "duration": 13,
    "start_time": "2022-07-01T15:27:37.686Z"
   },
   {
    "duration": 15,
    "start_time": "2022-07-01T15:34:10.052Z"
   },
   {
    "duration": 11,
    "start_time": "2022-07-01T15:36:38.009Z"
   },
   {
    "duration": 20,
    "start_time": "2022-07-01T15:37:16.388Z"
   },
   {
    "duration": 20,
    "start_time": "2022-07-01T15:38:55.169Z"
   },
   {
    "duration": 11,
    "start_time": "2022-07-01T15:39:42.093Z"
   },
   {
    "duration": 17,
    "start_time": "2022-07-01T15:39:51.281Z"
   },
   {
    "duration": 191,
    "start_time": "2022-07-01T15:39:58.458Z"
   },
   {
    "duration": 218,
    "start_time": "2022-07-01T15:40:11.177Z"
   },
   {
    "duration": 164,
    "start_time": "2022-07-01T15:43:14.077Z"
   },
   {
    "duration": 222,
    "start_time": "2022-07-01T15:43:16.716Z"
   },
   {
    "duration": 20,
    "start_time": "2022-07-01T15:43:25.170Z"
   },
   {
    "duration": 30,
    "start_time": "2022-07-01T15:44:05.822Z"
   },
   {
    "duration": 41,
    "start_time": "2022-07-01T15:44:41.548Z"
   },
   {
    "duration": 26,
    "start_time": "2022-07-01T15:45:02.469Z"
   },
   {
    "duration": 23,
    "start_time": "2022-07-01T15:45:10.696Z"
   },
   {
    "duration": 33,
    "start_time": "2022-07-01T15:46:00.714Z"
   },
   {
    "duration": 23,
    "start_time": "2022-07-01T15:49:13.814Z"
   },
   {
    "duration": 35,
    "start_time": "2022-07-01T15:49:33.043Z"
   },
   {
    "duration": 273,
    "start_time": "2022-07-01T15:49:45.022Z"
   },
   {
    "duration": 40,
    "start_time": "2022-07-01T15:50:28.398Z"
   },
   {
    "duration": 51,
    "start_time": "2022-07-01T15:50:39.446Z"
   },
   {
    "duration": 182,
    "start_time": "2022-07-01T15:51:13.884Z"
   },
   {
    "duration": 4,
    "start_time": "2022-07-01T15:51:49.676Z"
   },
   {
    "duration": 5,
    "start_time": "2022-07-01T15:51:51.967Z"
   },
   {
    "duration": 306,
    "start_time": "2022-07-01T15:51:54.496Z"
   },
   {
    "duration": 5,
    "start_time": "2022-07-01T15:53:17.467Z"
   },
   {
    "duration": 4,
    "start_time": "2022-07-01T15:53:40.073Z"
   },
   {
    "duration": 207,
    "start_time": "2022-07-01T15:53:43.398Z"
   },
   {
    "duration": 21,
    "start_time": "2022-07-01T15:54:38.869Z"
   },
   {
    "duration": 9,
    "start_time": "2022-07-01T15:59:39.181Z"
   },
   {
    "duration": 12,
    "start_time": "2022-07-01T15:59:41.671Z"
   },
   {
    "duration": 6,
    "start_time": "2022-07-01T15:59:46.971Z"
   },
   {
    "duration": 8,
    "start_time": "2022-07-01T15:59:49.606Z"
   },
   {
    "duration": 4,
    "start_time": "2022-07-01T15:59:53.496Z"
   },
   {
    "duration": 13,
    "start_time": "2022-07-01T15:59:56.305Z"
   },
   {
    "duration": 147,
    "start_time": "2022-07-01T16:00:01.647Z"
   },
   {
    "duration": 253,
    "start_time": "2022-07-01T16:03:30.047Z"
   },
   {
    "duration": 260,
    "start_time": "2022-07-01T16:04:59.945Z"
   },
   {
    "duration": 15,
    "start_time": "2022-07-01T16:06:06.743Z"
   },
   {
    "duration": 14,
    "start_time": "2022-07-01T16:08:13.554Z"
   },
   {
    "duration": 28,
    "start_time": "2022-07-01T16:08:22.919Z"
   },
   {
    "duration": 29,
    "start_time": "2022-07-01T16:08:41.816Z"
   },
   {
    "duration": 14,
    "start_time": "2022-07-01T16:09:44.384Z"
   },
   {
    "duration": 1199,
    "start_time": "2022-07-01T16:21:59.398Z"
   },
   {
    "duration": 116,
    "start_time": "2022-07-01T16:22:00.599Z"
   },
   {
    "duration": 42,
    "start_time": "2022-07-01T16:22:00.717Z"
   },
   {
    "duration": 8,
    "start_time": "2022-07-01T16:22:00.762Z"
   },
   {
    "duration": 33,
    "start_time": "2022-07-01T16:22:00.772Z"
   },
   {
    "duration": 30,
    "start_time": "2022-07-01T16:22:00.806Z"
   },
   {
    "duration": 30,
    "start_time": "2022-07-01T16:22:00.837Z"
   },
   {
    "duration": 39,
    "start_time": "2022-07-01T16:22:00.869Z"
   },
   {
    "duration": 13,
    "start_time": "2022-07-01T16:22:00.910Z"
   },
   {
    "duration": 31,
    "start_time": "2022-07-01T16:22:00.926Z"
   },
   {
    "duration": 9,
    "start_time": "2022-07-01T16:22:00.959Z"
   },
   {
    "duration": 12,
    "start_time": "2022-07-01T16:22:00.970Z"
   },
   {
    "duration": 16,
    "start_time": "2022-07-01T16:22:00.985Z"
   },
   {
    "duration": 27,
    "start_time": "2022-07-01T16:22:01.003Z"
   },
   {
    "duration": 111,
    "start_time": "2022-07-01T16:22:01.031Z"
   },
   {
    "duration": 6,
    "start_time": "2022-07-01T16:22:01.144Z"
   },
   {
    "duration": 32,
    "start_time": "2022-07-01T16:22:01.151Z"
   },
   {
    "duration": 18,
    "start_time": "2022-07-01T16:22:01.185Z"
   },
   {
    "duration": 17,
    "start_time": "2022-07-01T16:22:01.205Z"
   },
   {
    "duration": 64,
    "start_time": "2022-07-01T16:22:01.224Z"
   },
   {
    "duration": 34,
    "start_time": "2022-07-01T16:22:01.290Z"
   },
   {
    "duration": 44,
    "start_time": "2022-07-01T16:22:01.326Z"
   },
   {
    "duration": 14,
    "start_time": "2022-07-01T16:22:01.372Z"
   },
   {
    "duration": 33,
    "start_time": "2022-07-01T16:22:01.387Z"
   },
   {
    "duration": 34,
    "start_time": "2022-07-01T16:22:01.422Z"
   },
   {
    "duration": 36,
    "start_time": "2022-07-01T16:22:01.457Z"
   },
   {
    "duration": 24,
    "start_time": "2022-07-01T16:22:01.495Z"
   },
   {
    "duration": 27,
    "start_time": "2022-07-01T16:22:01.523Z"
   },
   {
    "duration": 47,
    "start_time": "2022-07-01T16:22:01.552Z"
   },
   {
    "duration": 72,
    "start_time": "2022-07-01T16:22:01.601Z"
   },
   {
    "duration": 45,
    "start_time": "2022-07-01T16:22:01.675Z"
   },
   {
    "duration": 33,
    "start_time": "2022-07-01T16:22:01.722Z"
   },
   {
    "duration": 18,
    "start_time": "2022-07-01T16:22:01.757Z"
   },
   {
    "duration": 10,
    "start_time": "2022-07-01T16:22:01.777Z"
   },
   {
    "duration": 27,
    "start_time": "2022-07-01T16:22:01.790Z"
   },
   {
    "duration": 28,
    "start_time": "2022-07-01T16:22:01.819Z"
   },
   {
    "duration": 14,
    "start_time": "2022-07-01T16:22:01.849Z"
   },
   {
    "duration": 27,
    "start_time": "2022-07-01T16:22:01.865Z"
   },
   {
    "duration": 25,
    "start_time": "2022-07-01T16:22:01.894Z"
   },
   {
    "duration": 47,
    "start_time": "2022-07-01T16:22:01.921Z"
   },
   {
    "duration": 11,
    "start_time": "2022-07-01T16:22:01.970Z"
   },
   {
    "duration": 40,
    "start_time": "2022-07-01T16:22:01.983Z"
   },
   {
    "duration": 54,
    "start_time": "2022-07-01T16:22:02.024Z"
   },
   {
    "duration": 29,
    "start_time": "2022-07-01T16:22:02.080Z"
   },
   {
    "duration": 29,
    "start_time": "2022-07-01T16:22:02.110Z"
   },
   {
    "duration": 9,
    "start_time": "2022-07-01T16:22:02.141Z"
   },
   {
    "duration": 11,
    "start_time": "2022-07-01T16:22:02.151Z"
   },
   {
    "duration": 13,
    "start_time": "2022-07-01T16:22:02.164Z"
   },
   {
    "duration": 193,
    "start_time": "2022-07-01T16:22:02.179Z"
   },
   {
    "duration": 113,
    "start_time": "2022-07-01T16:22:02.374Z"
   },
   {
    "duration": 3,
    "start_time": "2022-07-01T16:22:02.488Z"
   },
   {
    "duration": 11,
    "start_time": "2022-07-01T16:22:02.493Z"
   },
   {
    "duration": 143,
    "start_time": "2022-07-01T16:22:02.505Z"
   },
   {
    "duration": 20,
    "start_time": "2022-07-01T16:22:02.650Z"
   },
   {
    "duration": 191,
    "start_time": "2022-07-01T16:22:02.673Z"
   },
   {
    "duration": 4,
    "start_time": "2022-07-01T16:22:02.866Z"
   },
   {
    "duration": 15,
    "start_time": "2022-07-01T16:22:02.872Z"
   },
   {
    "duration": 62,
    "start_time": "2022-07-01T16:22:02.889Z"
   },
   {
    "duration": 24,
    "start_time": "2022-07-01T16:22:02.953Z"
   },
   {
    "duration": 45,
    "start_time": "2022-07-01T16:22:02.978Z"
   },
   {
    "duration": 14,
    "start_time": "2022-07-01T16:22:03.025Z"
   },
   {
    "duration": 31,
    "start_time": "2022-07-01T16:22:03.045Z"
   },
   {
    "duration": 159,
    "start_time": "2022-07-01T16:22:03.078Z"
   },
   {
    "duration": 22,
    "start_time": "2022-07-01T16:22:03.239Z"
   },
   {
    "duration": 197,
    "start_time": "2022-07-01T16:22:03.263Z"
   },
   {
    "duration": 162,
    "start_time": "2022-07-01T16:22:03.463Z"
   },
   {
    "duration": 146,
    "start_time": "2022-07-01T16:22:03.631Z"
   },
   {
    "duration": 24,
    "start_time": "2022-07-01T16:22:03.779Z"
   },
   {
    "duration": 40,
    "start_time": "2022-07-01T16:22:03.805Z"
   },
   {
    "duration": 20,
    "start_time": "2022-07-01T16:22:03.847Z"
   },
   {
    "duration": 134,
    "start_time": "2022-07-01T16:22:03.869Z"
   },
   {
    "duration": 255,
    "start_time": "2022-07-01T16:22:04.005Z"
   },
   {
    "duration": 38,
    "start_time": "2022-07-01T16:22:04.262Z"
   },
   {
    "duration": 184,
    "start_time": "2022-07-01T16:22:04.302Z"
   },
   {
    "duration": 5,
    "start_time": "2022-07-01T16:22:04.488Z"
   },
   {
    "duration": 184,
    "start_time": "2022-07-01T16:22:04.495Z"
   },
   {
    "duration": 23,
    "start_time": "2022-07-01T16:22:04.681Z"
   },
   {
    "duration": 38,
    "start_time": "2022-07-01T16:22:04.706Z"
   },
   {
    "duration": 17,
    "start_time": "2022-07-01T16:22:04.747Z"
   },
   {
    "duration": 9,
    "start_time": "2022-07-01T16:22:04.766Z"
   },
   {
    "duration": 13,
    "start_time": "2022-07-01T16:22:04.777Z"
   },
   {
    "duration": 12,
    "start_time": "2022-07-01T16:22:04.796Z"
   },
   {
    "duration": 36,
    "start_time": "2022-07-01T16:22:04.810Z"
   },
   {
    "duration": 164,
    "start_time": "2022-07-01T16:22:04.848Z"
   },
   {
    "duration": 293,
    "start_time": "2022-07-01T16:22:05.014Z"
   },
   {
    "duration": 39,
    "start_time": "2022-07-01T16:22:05.309Z"
   },
   {
    "duration": 37,
    "start_time": "2022-07-01T16:22:05.351Z"
   },
   {
    "duration": 57,
    "start_time": "2022-07-01T16:22:05.390Z"
   },
   {
    "duration": 79,
    "start_time": "2022-07-01T21:28:49.931Z"
   }
  ],
  "colab": {
   "name": "DA+. Сборный проект 1. Шаблон (1).ipynb",
   "provenance": []
  },
  "kernelspec": {
   "display_name": "Python 3 (ipykernel)",
   "language": "python",
   "name": "python3"
  },
  "language_info": {
   "codemirror_mode": {
    "name": "ipython",
    "version": 3
   },
   "file_extension": ".py",
   "mimetype": "text/x-python",
   "name": "python",
   "nbconvert_exporter": "python",
   "pygments_lexer": "ipython3",
   "version": "3.10.11"
  },
  "toc": {
   "base_numbering": 1,
   "nav_menu": {},
   "number_sections": true,
   "sideBar": true,
   "skip_h1_title": true,
   "title_cell": "Table of Contents",
   "title_sidebar": "Contents",
   "toc_cell": false,
   "toc_position": {
    "height": "calc(100% - 180px)",
    "left": "10px",
    "top": "150px",
    "width": "375.391px"
   },
   "toc_section_display": true,
   "toc_window_display": false
  }
 },
 "nbformat": 4,
 "nbformat_minor": 1
}
